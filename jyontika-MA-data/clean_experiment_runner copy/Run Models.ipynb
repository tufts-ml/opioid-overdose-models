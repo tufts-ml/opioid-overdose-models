{
 "cells": [
  {
   "cell_type": "code",
   "execution_count": 13,
   "id": "48636b2a",
   "metadata": {
    "scrolled": false
   },
   "outputs": [
    {
     "name": "stdout",
     "output_type": "stream",
     "text": [
      "The autoreload extension is already loaded. To reload it, use:\n",
      "  %reload_ext autoreload\n"
     ]
    }
   ],
   "source": [
    "%load_ext autoreload\n",
    "%autoreload 2\n",
    "import geopandas as gpd\n",
    "import numpy as np\n",
    "import pandas as pd\n",
    "\n",
    "import sklearn\n",
    "from sklearn.linear_model import LinearRegression\n",
    "from sklearn.ensemble import HistGradientBoostingRegressor\n",
    "\n",
    "# local import\n",
    "from make_datasets import make_data\n",
    "import models"
   ]
  },
  {
   "cell_type": "code",
   "execution_count": 2,
   "id": "b3d22c46",
   "metadata": {},
   "outputs": [],
   "source": [
    "\n",
    "# Path to a geopandas datafile\n",
    "data_path='./clean_annual_tract/'\n",
    "data_gdf = gpd.read_file(data_path)"
   ]
  },
  {
   "cell_type": "markdown",
   "id": "349503d7",
   "metadata": {},
   "source": [
    "Process dataframe into a data frame with a Multiindex on location and time"
   ]
  },
  {
   "cell_type": "code",
   "execution_count": 25,
   "id": "686f6cd9",
   "metadata": {},
   "outputs": [],
   "source": [
    "\n",
    "# Name the important columns\n",
    "timestep_col = 'timestep'\n",
    "geography_col = 'geoid'\n",
    "outcome_col = 'deaths'\n",
    "\n",
    "# These are the columns we could possibly want in the X dataframe\n",
    "x_idx_cols = [geography_col, 'lat', 'lon', timestep_col,\n",
    "              'theme_1_pc', 'theme_2_pc', 'theme_3_pc', 'theme_4_pc',\n",
    "              'svi_pctile', 'year',\n",
    "              'neighbor_t', 'deaths']\n",
    "\n",
    "# These are the columns we could want in the Y dataframe\n",
    "y_idx_cols = [geography_col, timestep_col, outcome_col]\n",
    "\n",
    "# These are the features we want\n",
    "features_only = ['deaths']\n",
    "add_spacetime = True\n",
    "add_svi = True\n",
    "if add_spacetime:\n",
    "    features_only += ['lat', 'lon', timestep_col]\n",
    "if add_svi:\n",
    "    features_only += ['theme_1_pc', 'theme_2_pc', 'theme_3_pc', 'theme_4_pc', 'svi_pctile']\n",
    "\n",
    "\n",
    "validation_year = 2018\n",
    "first_test_year = 2019\n",
    "last_test_year = 2020\n",
    "first_test_timestep = 19\n",
    "last_test_timestep = 20\n",
    "lookback_years=5\n",
    "first_train_eval_year = validation_year - lookback_years\n",
    "last_train_eval_year = validation_year -1"
   ]
  },
  {
   "cell_type": "code",
   "execution_count": 4,
   "id": "3751205c",
   "metadata": {},
   "outputs": [],
   "source": [
    "# Create the multiindex\n",
    "multiindexed_gdf = data_gdf.set_index([geography_col, timestep_col])\n",
    "\n",
    "# re-add the timestep column as a feature because it's useful\n",
    "multiindexed_gdf[timestep_col] = multiindexed_gdf.index.get_level_values(timestep_col)\n",
    "\n",
    "# Track number of locations\n",
    "num_geoids = len(data_gdf[geography_col].unique())"
   ]
  },
  {
   "cell_type": "code",
   "execution_count": 27,
   "id": "22960e28",
   "metadata": {},
   "outputs": [],
   "source": [
    "x_BSF, y_BS = make_data(multiindexed_gdf, first_train_eval_year, last_train_eval_year, lookback_years,\n",
    "          features_only, num_geoids)\n",
    "x_test_BSF, y_test_BS =make_data(multiindexed_gdf, first_test_year, last_test_year, lookback_years,\n",
    "          features_only, num_geoids)\n",
    "\n",
    "# For the weighted historical average model, we only use deaths as features\n",
    "x_BSF_death_only, y_BS_death_only = make_data(multiindexed_gdf, first_train_eval_year, last_train_eval_year, lookback_years,\n",
    "          ['deaths'], num_geoids)\n",
    "x_test_BSF_death_only, y_test_BS_death_only =make_data(multiindexed_gdf, first_test_year, last_test_year, lookback_years,\n",
    "          ['deaths'], num_geoids)"
   ]
  },
  {
   "cell_type": "code",
   "execution_count": 6,
   "id": "b668f78a",
   "metadata": {},
   "outputs": [
    {
     "data": {
      "text/plain": [
       "TensorShape([2, 1620, 45])"
      ]
     },
     "execution_count": 6,
     "metadata": {},
     "output_type": "execute_result"
    }
   ],
   "source": [
    "x_BSF.shape"
   ]
  },
  {
   "cell_type": "code",
   "execution_count": 7,
   "id": "66fda90d",
   "metadata": {},
   "outputs": [
    {
     "data": {
      "text/plain": [
       "TensorShape([2, 1620])"
      ]
     },
     "execution_count": 7,
     "metadata": {},
     "output_type": "execute_result"
    }
   ],
   "source": [
    "y_BS.shape"
   ]
  },
  {
   "cell_type": "code",
   "execution_count": 8,
   "id": "046c1f3b",
   "metadata": {},
   "outputs": [],
   "source": [
    "bpr_over_time_zeroes = models.all_zeroes_model(multiindexed_gdf,\n",
    "                                        first_test_timestep, last_test_timestep,\n",
    "                                        num_geoids, bpr_uncertainty_samples=1)"
   ]
  },
  {
   "cell_type": "code",
   "execution_count": 9,
   "id": "eba6f304",
   "metadata": {},
   "outputs": [
    {
     "name": "stdout",
     "output_type": "stream",
     "text": [
      "2019 Average: 0.2574377880184332\n",
      "Zeroes model (Mean, 95% CI): 25.5,\n",
      "      (25.5-\n",
      "       25.5)\n"
     ]
    }
   ],
   "source": [
    "print(f\"2019 Average: {np.mean(bpr_over_time_zeroes[0])}\")\n",
    "\n",
    "bpr_samples_both_years = (np.array(bpr_over_time_zeroes[0]) + \\\n",
    "                          np.array(bpr_over_time_zeroes[1]))/2\n",
    "                        \n",
    "print(f\"\"\"Zeroes model (Mean, 95% CI): {np.mean(bpr_samples_both_years)*100:.1f},\n",
    "      ({np.percentile(bpr_samples_both_years,2.5)*100:.1f}-\n",
    "       {np.percentile(bpr_samples_both_years,97.5)*100:.1f})\"\"\")\n"
   ]
  },
  {
   "cell_type": "code",
   "execution_count": 16,
   "id": "696ed27c",
   "metadata": {},
   "outputs": [],
   "source": [
    "bpr_over_time_last_time = models.last_time_model(multiindexed_gdf, first_test_timestep, last_test_timestep, num_geoids,\n",
    "                     1,bpr_uncertainty_samples=1,)"
   ]
  },
  {
   "cell_type": "code",
   "execution_count": 17,
   "id": "0a32e2de",
   "metadata": {},
   "outputs": [
    {
     "name": "stdout",
     "output_type": "stream",
     "text": [
      "2019 Average: 0.5602442396313364\n",
      "Zeroes model (Mean, 95% CI): 54.0,\n",
      "      (54.0-\n",
      "       54.0)\n"
     ]
    }
   ],
   "source": [
    "print(f\"2019 Average: {np.mean(bpr_over_time_last_time[0])}\")\n",
    "\n",
    "bpr_samples_both_years = (np.array(bpr_over_time_last_time[0]) + \\\n",
    "                          np.array(bpr_over_time_last_time[1]))/2\n",
    "                        \n",
    "print(f\"\"\"Zeroes model (Mean, 95% CI): {np.mean(bpr_samples_both_years)*100:.1f},\n",
    "      ({np.percentile(bpr_samples_both_years,2.5)*100:.1f}-\n",
    "       {np.percentile(bpr_samples_both_years,97.5)*100:.1f})\"\"\")\n"
   ]
  },
  {
   "cell_type": "code",
   "execution_count": 19,
   "id": "86155c9a",
   "metadata": {},
   "outputs": [],
   "source": [
    "bpr_over_time_avg_time = models.historical_average_model(multiindexed_gdf, first_test_timestep, last_test_timestep, num_geoids,\n",
    "                     1, 7, bpr_uncertainty_samples=1,)"
   ]
  },
  {
   "cell_type": "code",
   "execution_count": 20,
   "id": "e7455212",
   "metadata": {},
   "outputs": [
    {
     "name": "stdout",
     "output_type": "stream",
     "text": [
      "2019 Average: 0.6348755760368664\n",
      "Zeroes model (Mean, 95% CI): 62.0,\n",
      "      (62.0-\n",
      "       62.0)\n"
     ]
    }
   ],
   "source": [
    "print(f\"2019 Average: {np.mean(bpr_over_time_avg_time[0])}\")\n",
    "\n",
    "bpr_samples_both_years = (np.array(bpr_over_time_avg_time[0]) + \\\n",
    "                          np.array(bpr_over_time_avg_time[1]))/2\n",
    "                        \n",
    "print(f\"\"\"Zeroes model (Mean, 95% CI): {np.mean(bpr_samples_both_years)*100:.1f},\n",
    "      ({np.percentile(bpr_samples_both_years,2.5)*100:.1f}-\n",
    "       {np.percentile(bpr_samples_both_years,97.5)*100:.1f})\"\"\")\n"
   ]
  },
  {
   "cell_type": "markdown",
   "id": "807d4f68",
   "metadata": {},
   "source": [
    "Make Scikit models"
   ]
  },
  {
   "cell_type": "code",
   "execution_count": 23,
   "id": "99fd7204",
   "metadata": {},
   "outputs": [],
   "source": [
    "# Identical models, features are only difference\n",
    "linear_poisson_weighted_avg = sklearn.linear_model.PoissonRegressor()\n",
    "linear_poisson = sklearn.linear_model.PoissonRegressor()\n",
    "\n",
    "# Params selected via grid search on validation. Need to re-do grid search for chicago\n",
    "hist_poisson =   HistGradientBoostingRegressor(loss=\"poisson\", max_iter=10000, max_depth=3, max_leaf_nodes=2,\n",
    "                                               l2_regularization=1, min_samples_leaf=100 )"
   ]
  },
  {
   "cell_type": "code",
   "execution_count": 32,
   "id": "cad5de70",
   "metadata": {},
   "outputs": [],
   "source": [
    "bpr_over_time_weight_avg = models.scikit_model(multiindexed_gdf, x_BSF_death_only,\n",
    "                                               y_BS_death_only, x_test_BSF_death_only,\n",
    "                                               linear_poisson_weighted_avg,\n",
    "                                               first_test_timestep, last_test_timestep,\n",
    "                                               bpr_uncertainty_samples=5)"
   ]
  },
  {
   "cell_type": "code",
   "execution_count": 33,
   "id": "5bde8c5d",
   "metadata": {},
   "outputs": [
    {
     "name": "stdout",
     "output_type": "stream",
     "text": [
      "2019 Average: 0.6203416933002156\n",
      "Zeroes model (Mean, 95% CI): 58.9,\n",
      "      (58.1-\n",
      "       59.5)\n"
     ]
    }
   ],
   "source": [
    "print(f\"2019 Average: {np.mean(bpr_over_time_weight_avg[0])}\")\n",
    "\n",
    "bpr_samples_both_years = (np.array(bpr_over_time_weight_avg[0]) + \\\n",
    "                          np.array(bpr_over_time_weight_avg[1]))/2\n",
    "                        \n",
    "print(f\"\"\"Zeroes model (Mean, 95% CI): {np.mean(bpr_samples_both_years)*100:.1f},\n",
    "      ({np.percentile(bpr_samples_both_years,2.5)*100:.1f}-\n",
    "       {np.percentile(bpr_samples_both_years,97.5)*100:.1f})\"\"\")\n"
   ]
  },
  {
   "cell_type": "code",
   "execution_count": 34,
   "id": "fee01c0a",
   "metadata": {},
   "outputs": [
    {
     "name": "stderr",
     "output_type": "stream",
     "text": [
      "/home/kheuton/anaconda3/envs/lookshape/lib/python3.8/site-packages/sklearn/linear_model/_glm/glm.py:282: ConvergenceWarning: lbfgs failed to converge (status=1):\n",
      "STOP: TOTAL NO. of ITERATIONS REACHED LIMIT.\n",
      "\n",
      "Increase the number of iterations (max_iter) or scale the data as shown in:\n",
      "    https://scikit-learn.org/stable/modules/preprocessing.html\n",
      "  self.n_iter_ = _check_optimize_result(\"lbfgs\", opt_res)\n"
     ]
    }
   ],
   "source": [
    "bpr_over_time_linear = models.scikit_model(multiindexed_gdf, x_BSF,\n",
    "                                               y_BS, x_test_BSF,\n",
    "                                               linear_poisson,\n",
    "                                               first_test_timestep, last_test_timestep,\n",
    "                                               bpr_uncertainty_samples=5)"
   ]
  },
  {
   "cell_type": "code",
   "execution_count": 35,
   "id": "7d93b520",
   "metadata": {},
   "outputs": [
    {
     "name": "stdout",
     "output_type": "stream",
     "text": [
      "2019 Average: 0.6311547976726459\n",
      "Zeroes model (Mean, 95% CI): 61.1,\n",
      "      (60.7-\n",
      "       61.6)\n"
     ]
    }
   ],
   "source": [
    "print(f\"2019 Average: {np.mean(bpr_over_time_linear[0])}\")\n",
    "\n",
    "bpr_samples_both_years = (np.array(bpr_over_time_linear[0]) + \\\n",
    "                          np.array(bpr_over_time_linear[1]))/2\n",
    "                        \n",
    "print(f\"\"\"Zeroes model (Mean, 95% CI): {np.mean(bpr_samples_both_years)*100:.1f},\n",
    "      ({np.percentile(bpr_samples_both_years,2.5)*100:.1f}-\n",
    "       {np.percentile(bpr_samples_both_years,97.5)*100:.1f})\"\"\")\n"
   ]
  },
  {
   "cell_type": "code",
   "execution_count": 36,
   "id": "6ffba8f1",
   "metadata": {},
   "outputs": [],
   "source": [
    "bpr_over_time_tree = models.scikit_model(multiindexed_gdf, x_BSF,\n",
    "                                               y_BS, x_test_BSF,\n",
    "                                               hist_poisson,\n",
    "                                               first_test_timestep, last_test_timestep,\n",
    "                                               bpr_uncertainty_samples=5)"
   ]
  },
  {
   "cell_type": "code",
   "execution_count": 37,
   "id": "605585de",
   "metadata": {},
   "outputs": [
    {
     "name": "stdout",
     "output_type": "stream",
     "text": [
      "2019 Average: 0.5575402367685763\n",
      "Zeroes model (Mean, 95% CI): 55.5,\n",
      "      (53.8-\n",
      "       57.1)\n"
     ]
    }
   ],
   "source": [
    "print(f\"2019 Average: {np.mean(bpr_over_time_tree[0])}\")\n",
    "\n",
    "bpr_samples_both_years = (np.array(bpr_over_time_tree[0]) + \\\n",
    "                          np.array(bpr_over_time_tree[1]))/2\n",
    "                        \n",
    "print(f\"\"\"Zeroes model (Mean, 95% CI): {np.mean(bpr_samples_both_years)*100:.1f},\n",
    "      ({np.percentile(bpr_samples_both_years,2.5)*100:.1f}-\n",
    "       {np.percentile(bpr_samples_both_years,97.5)*100:.1f})\"\"\")\n"
   ]
  },
  {
   "cell_type": "code",
   "execution_count": null,
   "id": "09f5b5b0",
   "metadata": {},
   "outputs": [],
   "source": []
  }
 ],
 "metadata": {
  "kernelspec": {
   "display_name": "Python 3 (ipykernel)",
   "language": "python",
   "name": "python3"
  },
  "language_info": {
   "codemirror_mode": {
    "name": "ipython",
    "version": 3
   },
   "file_extension": ".py",
   "mimetype": "text/x-python",
   "name": "python",
   "nbconvert_exporter": "python",
   "pygments_lexer": "ipython3",
   "version": "3.8.17"
  }
 },
 "nbformat": 4,
 "nbformat_minor": 5
}
