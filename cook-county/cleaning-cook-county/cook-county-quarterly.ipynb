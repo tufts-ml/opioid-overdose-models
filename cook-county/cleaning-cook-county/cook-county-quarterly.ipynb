{
 "cells": [
  {
   "cell_type": "code",
   "execution_count": 1,
   "id": "7b6e285c",
   "metadata": {
    "execution": {
     "iopub.execute_input": "2024-02-07T22:17:27.403263Z",
     "iopub.status.busy": "2024-02-07T22:17:27.402253Z",
     "iopub.status.idle": "2024-02-07T22:17:30.164993Z",
     "shell.execute_reply": "2024-02-07T22:17:30.162762Z"
    }
   },
   "outputs": [
    {
     "name": "stderr",
     "output_type": "stream",
     "text": [
      "C:\\Users\\Thinkpad\\anaconda3\\lib\\site-packages\\scipy\\__init__.py:146: UserWarning: A NumPy version >=1.16.5 and <1.23.0 is required for this version of SciPy (detected version 1.24.3\n",
      "  warnings.warn(f\"A NumPy version >={np_minversion} and <{np_maxversion}\"\n"
     ]
    }
   ],
   "source": [
    "#import libraries\n",
    "import numpy as np\n",
    "import geopandas as gpd\n",
    "import shapely \n",
    "import matplotlib.pyplot as plt\n",
    "import os\n",
    "#import seaborn as sns\n",
    "import pandas as pd\n",
    "import sklearn"
   ]
  },
  {
   "cell_type": "code",
   "execution_count": 2,
   "id": "508f22aa",
   "metadata": {
    "execution": {
     "iopub.execute_input": "2024-02-07T22:17:30.172997Z",
     "iopub.status.busy": "2024-02-07T22:17:30.172997Z",
     "iopub.status.idle": "2024-02-07T22:17:30.580302Z",
     "shell.execute_reply": "2024-02-07T22:17:30.579299Z"
    }
   },
   "outputs": [],
   "source": [
    "# user should replace with their directory\n",
    "data_dir = os.environ.get('DATA_DIR', )\n",
    "\n",
    "csv_path = os.path.join(data_dir, 'cook_county_gdf_intro_quarterly.csv')\n",
    "cook_county_gdf = pd.read_csv(csv_path) "
   ]
  },
  {
   "cell_type": "code",
   "execution_count": 3,
   "id": "6bec8093",
   "metadata": {
    "execution": {
     "iopub.execute_input": "2024-02-07T22:17:30.580350Z",
     "iopub.status.busy": "2024-02-07T22:17:30.580350Z",
     "iopub.status.idle": "2024-02-07T22:17:30.597402Z",
     "shell.execute_reply": "2024-02-07T22:17:30.595976Z"
    }
   },
   "outputs": [
    {
     "data": {
      "text/plain": [
       "56"
      ]
     },
     "execution_count": 3,
     "metadata": {},
     "output_type": "execute_result"
    }
   ],
   "source": [
    "cook_county_gdf.year.isna().sum()"
   ]
  },
  {
   "cell_type": "code",
   "execution_count": 4,
   "id": "f7754947",
   "metadata": {
    "execution": {
     "iopub.execute_input": "2024-02-07T22:17:30.602401Z",
     "iopub.status.busy": "2024-02-07T22:17:30.602401Z",
     "iopub.status.idle": "2024-02-07T22:17:30.613400Z",
     "shell.execute_reply": "2024-02-07T22:17:30.612400Z"
    }
   },
   "outputs": [],
   "source": [
    "#add in missing 58 tracts\n",
    "cook_county_gdf['quarter'].fillna(9999, inplace=True)\n",
    "cook_county_gdf['year'].fillna(9999, inplace=True)"
   ]
  },
  {
   "cell_type": "code",
   "execution_count": 5,
   "id": "e6558f1d",
   "metadata": {
    "execution": {
     "iopub.execute_input": "2024-02-07T22:17:30.618076Z",
     "iopub.status.busy": "2024-02-07T22:17:30.618076Z",
     "iopub.status.idle": "2024-02-07T22:17:30.630072Z",
     "shell.execute_reply": "2024-02-07T22:17:30.629073Z"
    }
   },
   "outputs": [
    {
     "data": {
      "text/plain": [
       "56"
      ]
     },
     "execution_count": 5,
     "metadata": {},
     "output_type": "execute_result"
    }
   ],
   "source": [
    "cook_county_gdf.loc[cook_county_gdf['year'] == 9999, 'geoid'].nunique()"
   ]
  },
  {
   "cell_type": "code",
   "execution_count": 6,
   "id": "9a174161",
   "metadata": {
    "execution": {
     "iopub.execute_input": "2024-02-07T22:17:30.630505Z",
     "iopub.status.busy": "2024-02-07T22:17:30.630505Z",
     "iopub.status.idle": "2024-02-07T22:17:30.680281Z",
     "shell.execute_reply": "2024-02-07T22:17:30.680281Z"
    }
   },
   "outputs": [],
   "source": [
    "columns_to_keep = [\n",
    "    'INTPTLAT', 'INTPTLON', \n",
    "    'STATEFP', 'COUNTYFP', 'TRACTCE','NAME', 'NAMELSAD', 'MTFCC', 'FUNCSTAT', 'ALAND', 'AWATER',\n",
    "    'geometry']\n",
    "\n",
    "gdf_quarter = cook_county_gdf.groupby(['geoid', 'quarter', 'year']).agg({'deaths': 'sum', **{col: 'first' for col in columns_to_keep}}).reset_index()"
   ]
  },
  {
   "cell_type": "markdown",
   "id": "0d446184",
   "metadata": {},
   "source": [
    "### Making DF square - one quarter for each tract\n"
   ]
  },
  {
   "cell_type": "code",
   "execution_count": 7,
   "id": "cbf5d55e",
   "metadata": {
    "execution": {
     "iopub.execute_input": "2024-02-07T22:17:30.680281Z",
     "iopub.status.busy": "2024-02-07T22:17:30.680281Z",
     "iopub.status.idle": "2024-02-07T22:17:30.695906Z",
     "shell.execute_reply": "2024-02-07T22:17:30.695906Z"
    }
   },
   "outputs": [],
   "source": [
    "gdf_quarter.loc[gdf_quarter['year'] == 9999, 'deaths'] = 0\n",
    "gdf_quarter.loc[gdf_quarter['quarter'] == 9999, 'deaths'] = 0\n",
    "\n",
    "# Replace 9999 with 2015 in the 'year' column\n",
    "gdf_quarter['year'].replace(9999, 2015, inplace=True)\n",
    "gdf_quarter['quarter'].replace(9999, 1, inplace=True)"
   ]
  },
  {
   "cell_type": "code",
   "execution_count": 8,
   "id": "b5d002cb",
   "metadata": {
    "execution": {
     "iopub.execute_input": "2024-02-07T22:17:30.701347Z",
     "iopub.status.busy": "2024-02-07T22:17:30.701347Z",
     "iopub.status.idle": "2024-02-07T22:17:30.711345Z",
     "shell.execute_reply": "2024-02-07T22:17:30.711345Z"
    }
   },
   "outputs": [
    {
     "data": {
      "text/plain": [
       "1332"
      ]
     },
     "execution_count": 8,
     "metadata": {},
     "output_type": "execute_result"
    }
   ],
   "source": [
    "gdf_quarter['geoid'].nunique()  #1332"
   ]
  },
  {
   "cell_type": "code",
   "execution_count": 9,
   "id": "8b0d52fc",
   "metadata": {
    "execution": {
     "iopub.execute_input": "2024-02-07T22:17:30.717063Z",
     "iopub.status.busy": "2024-02-07T22:17:30.717063Z",
     "iopub.status.idle": "2024-02-07T22:17:30.862317Z",
     "shell.execute_reply": "2024-02-07T22:17:30.862317Z"
    }
   },
   "outputs": [],
   "source": [
    "# Fill in missing tract-year-period cells\n",
    "# Warning: Nested for loops\n",
    "\n",
    "years = range(2015, 2024)\n",
    "quarters = range(1, 5)\n",
    "\n",
    "existing_combinations = set(zip(gdf_quarter['geoid'], gdf_quarter['year'], gdf_quarter['quarter']))\n",
    "updated_rows = []\n",
    "\n",
    "for tract in gdf_quarter['geoid'].unique():\n",
    "    for year in years:\n",
    "        for quarter in quarters:\n",
    "            combination = (tract, year, quarter)\n",
    "            if combination not in existing_combinations:\n",
    "                new_row = {'geoid': tract, 'year': year, 'quarter': quarter, 'deaths': 0}\n",
    "                updated_rows.append(new_row)\n",
    "\n",
    "gdf_quarter = pd.concat([gdf_quarter, pd.DataFrame(updated_rows)], ignore_index=True)\n"
   ]
  },
  {
   "cell_type": "code",
   "execution_count": 10,
   "id": "db29761f",
   "metadata": {
    "execution": {
     "iopub.execute_input": "2024-02-07T22:17:30.865869Z",
     "iopub.status.busy": "2024-02-07T22:17:30.865869Z",
     "iopub.status.idle": "2024-02-07T22:17:55.248040Z",
     "shell.execute_reply": "2024-02-07T22:17:55.246961Z"
    }
   },
   "outputs": [],
   "source": [
    "#fills in NAs produced from above\n",
    "unique_tracts = gdf_quarter['geoid'].unique()\n",
    "\n",
    "for tract in unique_tracts:\n",
    "    tract_rows = gdf_quarter[gdf_quarter['geoid'] == tract]\n",
    "    non_na_row = tract_rows.dropna().iloc[0]  # Get the first row without any NAs\n",
    "    \n",
    "    for column in columns_to_keep:\n",
    "        gdf_quarter.loc[(gdf_quarter['geoid'] == tract) & gdf_quarter[column].isna(), column] = non_na_row[column]"
   ]
  },
  {
   "cell_type": "code",
   "execution_count": 11,
   "id": "b6404a8e",
   "metadata": {
    "execution": {
     "iopub.execute_input": "2024-02-07T22:17:55.253336Z",
     "iopub.status.busy": "2024-02-07T22:17:55.253336Z",
     "iopub.status.idle": "2024-02-07T22:17:55.263334Z",
     "shell.execute_reply": "2024-02-07T22:17:55.262335Z"
    }
   },
   "outputs": [
    {
     "data": {
      "text/plain": [
       "(48148, 16)"
      ]
     },
     "execution_count": 11,
     "metadata": {},
     "output_type": "execute_result"
    }
   ],
   "source": [
    "gdf_quarter.shape #should be (48148, 16)\n"
   ]
  },
  {
   "cell_type": "code",
   "execution_count": 12,
   "id": "4838a997",
   "metadata": {
    "execution": {
     "iopub.execute_input": "2024-02-07T22:17:55.268110Z",
     "iopub.status.busy": "2024-02-07T22:17:55.267108Z",
     "iopub.status.idle": "2024-02-07T22:17:55.281109Z",
     "shell.execute_reply": "2024-02-07T22:17:55.280109Z"
    }
   },
   "outputs": [
    {
     "data": {
      "text/plain": [
       "1332"
      ]
     },
     "execution_count": 12,
     "metadata": {},
     "output_type": "execute_result"
    }
   ],
   "source": [
    "gdf_quarter['geoid'].nunique()  #should be 1332"
   ]
  },
  {
   "cell_type": "code",
   "execution_count": 13,
   "id": "1c642c53",
   "metadata": {
    "execution": {
     "iopub.execute_input": "2024-02-07T22:17:55.281276Z",
     "iopub.status.busy": "2024-02-07T22:17:55.281276Z",
     "iopub.status.idle": "2024-02-07T22:18:23.413889Z",
     "shell.execute_reply": "2024-02-07T22:18:23.413196Z"
    }
   },
   "outputs": [],
   "source": [
    "#confirms all years and quarters present\n",
    "\n",
    "years = range(2015, 2023)  # data collect started in late '14, we ran this notebook in mid '23\n",
    "quarters = range(1, 5)  \n",
    "\n",
    "for geoid in gdf_quarter['geoid'].unique():\n",
    "    for year in years:\n",
    "        for quarter in quarters:\n",
    "            if not ((gdf_quarter['geoid'] == geoid) & (gdf_quarter['year'] == year) & (gdf_quarter['quarter'] == quarter)).any():\n",
    "                print(\"Missing row for geoid {} in year {} quarter {}\".format(geoid, year, quarter))\n",
    "\n"
   ]
  },
  {
   "cell_type": "code",
   "execution_count": 14,
   "id": "d1d578fc",
   "metadata": {
    "execution": {
     "iopub.execute_input": "2024-02-07T22:18:23.417890Z",
     "iopub.status.busy": "2024-02-07T22:18:23.417890Z",
     "iopub.status.idle": "2024-02-07T22:18:23.463863Z",
     "shell.execute_reply": "2024-02-07T22:18:23.463396Z"
    }
   },
   "outputs": [
    {
     "name": "stdout",
     "output_type": "stream",
     "text": [
      "There are no missing values in the dataframe.\n"
     ]
    }
   ],
   "source": [
    "#Any NAs in data frame?\n",
    "\n",
    "has_na = gdf_quarter.isna().any().any()\n",
    "\n",
    "if has_na:\n",
    "    print(\"There are missing values in the dataframe.\")\n",
    "else:\n",
    "    print(\"There are no missing values in the dataframe.\")\n"
   ]
  },
  {
   "cell_type": "code",
   "execution_count": 15,
   "id": "11a681f9",
   "metadata": {
    "execution": {
     "iopub.execute_input": "2024-02-07T22:18:23.468865Z",
     "iopub.status.busy": "2024-02-07T22:18:23.467863Z",
     "iopub.status.idle": "2024-02-07T22:18:23.946866Z",
     "shell.execute_reply": "2024-02-07T22:18:23.945396Z"
    }
   },
   "outputs": [
    {
     "name": "stdout",
     "output_type": "stream",
     "text": [
      "There are no duplicate rows in the dataframe.\n"
     ]
    }
   ],
   "source": [
    "#Any Duplicates?\n",
    "has_duplicates = gdf_quarter.duplicated().any()\n",
    "\n",
    "if has_duplicates:\n",
    "    print(\"There are duplicate rows in the dataframe.\")\n",
    "else:\n",
    "    print(\"There are no duplicate rows in the dataframe.\")\n"
   ]
  },
  {
   "cell_type": "code",
   "execution_count": 16,
   "id": "7d9e2751",
   "metadata": {
    "execution": {
     "iopub.execute_input": "2024-02-07T22:18:23.953870Z",
     "iopub.status.busy": "2024-02-07T22:18:23.952864Z",
     "iopub.status.idle": "2024-02-07T22:18:24.111854Z",
     "shell.execute_reply": "2024-02-07T22:18:24.110855Z"
    }
   },
   "outputs": [],
   "source": [
    "#change format of year and quarters\n",
    "\n",
    "gdf_quarter['year'] = pd.to_datetime(gdf_quarter['year'].astype(int).astype(str), format='%Y').dt.year\n",
    "gdf_quarter['quarter'] = gdf_quarter['quarter'].astype(str).replace('1.0', '1').replace('2.0', '2').replace('3.0', '3').replace('4.0', '4')\n"
   ]
  },
  {
   "cell_type": "code",
   "execution_count": 17,
   "id": "befddd4a",
   "metadata": {
    "execution": {
     "iopub.execute_input": "2024-02-07T22:18:24.117466Z",
     "iopub.status.busy": "2024-02-07T22:18:24.117466Z",
     "iopub.status.idle": "2024-02-07T22:18:24.129608Z",
     "shell.execute_reply": "2024-02-07T22:18:24.128463Z"
    }
   },
   "outputs": [
    {
     "data": {
      "text/plain": [
       "Index(['geoid', 'quarter', 'year', 'deaths', 'INTPTLAT', 'INTPTLON', 'STATEFP',\n",
       "       'COUNTYFP', 'TRACTCE', 'NAME', 'NAMELSAD', 'MTFCC', 'FUNCSTAT', 'ALAND',\n",
       "       'AWATER', 'geometry'],\n",
       "      dtype='object')"
      ]
     },
     "execution_count": 17,
     "metadata": {},
     "output_type": "execute_result"
    }
   ],
   "source": [
    "gdf_quarter.columns"
   ]
  },
  {
   "cell_type": "code",
   "execution_count": null,
   "id": "3f5554e2",
   "metadata": {},
   "outputs": [],
   "source": []
  },
  {
   "cell_type": "code",
   "execution_count": 18,
   "id": "fa3eaceb",
   "metadata": {
    "execution": {
     "iopub.execute_input": "2024-02-07T22:18:24.129608Z",
     "iopub.status.busy": "2024-02-07T22:18:24.129608Z",
     "iopub.status.idle": "2024-02-07T22:18:24.162776Z",
     "shell.execute_reply": "2024-02-07T22:18:24.161776Z"
    }
   },
   "outputs": [],
   "source": [
    "#take out 2014 and 2023\n",
    "gdf_quarter = gdf_quarter[gdf_quarter['year'] != 2023]\n",
    "gdf_quarter = gdf_quarter[gdf_quarter['year'] != 2014]"
   ]
  },
  {
   "cell_type": "code",
   "execution_count": 19,
   "id": "42e25ad1-a321-4084-aeb1-42066c585ea8",
   "metadata": {
    "execution": {
     "iopub.execute_input": "2024-02-07T22:18:24.167369Z",
     "iopub.status.busy": "2024-02-07T22:18:24.167369Z",
     "iopub.status.idle": "2024-02-07T22:18:24.178368Z",
     "shell.execute_reply": "2024-02-07T22:18:24.178368Z"
    }
   },
   "outputs": [
    {
     "data": {
      "text/plain": [
       "[2015, 2016, 2017, 2018, 2019, 2020, 2021, 2022]"
      ]
     },
     "execution_count": 19,
     "metadata": {},
     "output_type": "execute_result"
    }
   ],
   "source": [
    "sorted(gdf_quarter.year.unique())"
   ]
  },
  {
   "cell_type": "code",
   "execution_count": 20,
   "id": "5ecbd230",
   "metadata": {
    "execution": {
     "iopub.execute_input": "2024-02-07T22:18:24.179565Z",
     "iopub.status.busy": "2024-02-07T22:18:24.179565Z",
     "iopub.status.idle": "2024-02-07T22:18:24.296247Z",
     "shell.execute_reply": "2024-02-07T22:18:24.295127Z"
    }
   },
   "outputs": [],
   "source": [
    "# Create timestep column\n",
    "gdf_quarter = gdf_quarter.sort_values(by=['geoid', 'year', 'quarter']).reset_index(drop=True).copy()\n",
    "\n",
    "gdf_quarter['semiannual'] = gdf_quarter['quarter'].astype(np.int32).map(lambda x: 1 if x <= 2 else 2)\n",
    "\n",
    "# Group the data by 'geoid' and use 'cumcount' to create the 'timestep' column.\n",
    "gdf_quarter['timestep'] = gdf_quarter.groupby('geoid').cumcount() + 1\n",
    "\n",
    "# Create season column\n",
    "def map_season(q):\n",
    "    if q == 1:\n",
    "        return 'jan-mar'\n",
    "    elif q == 2:\n",
    "        return 'apr-jun'\n",
    "    elif q == 3:\n",
    "        return 'jul-sep'\n",
    "    elif q == 4:\n",
    "        return 'oct-dec'\n",
    "gdf_quarter['season'] = gdf_quarter['quarter'].map(map_season)"
   ]
  },
  {
   "cell_type": "code",
   "execution_count": 21,
   "id": "e058717f-28ed-4b4b-8bd6-f95390a5bfeb",
   "metadata": {
    "execution": {
     "iopub.execute_input": "2024-02-07T22:18:24.301572Z",
     "iopub.status.busy": "2024-02-07T22:18:24.300574Z",
     "iopub.status.idle": "2024-02-07T22:18:24.315452Z",
     "shell.execute_reply": "2024-02-07T22:18:24.315452Z"
    }
   },
   "outputs": [],
   "source": [
    "# Create 'year_frac' column that indicates timeperiod in fractional years\n",
    "gdf_quarter['year_frac'] = gdf_quarter['year'].values + (gdf_quarter['quarter'].values.astype('int') - 1)/4"
   ]
  },
  {
   "cell_type": "code",
   "execution_count": 22,
   "id": "ffbf4fc5-3d7d-4ce3-ae58-1303c9fb5028",
   "metadata": {
    "execution": {
     "iopub.execute_input": "2024-02-07T22:18:24.315452Z",
     "iopub.status.busy": "2024-02-07T22:18:24.315452Z",
     "iopub.status.idle": "2024-02-07T22:18:24.330268Z",
     "shell.execute_reply": "2024-02-07T22:18:24.330268Z"
    }
   },
   "outputs": [
    {
     "data": {
      "text/plain": [
       "Index(['geoid', 'quarter', 'year', 'deaths', 'INTPTLAT', 'INTPTLON', 'STATEFP',\n",
       "       'COUNTYFP', 'TRACTCE', 'NAME', 'NAMELSAD', 'MTFCC', 'FUNCSTAT', 'ALAND',\n",
       "       'AWATER', 'geometry', 'semiannual', 'timestep', 'season', 'year_frac'],\n",
       "      dtype='object')"
      ]
     },
     "execution_count": 22,
     "metadata": {},
     "output_type": "execute_result"
    }
   ],
   "source": [
    "gdf_quarter.columns"
   ]
  },
  {
   "cell_type": "code",
   "execution_count": 23,
   "id": "9dd75971-67b8-4f5b-ba38-aca5a01b706f",
   "metadata": {
    "execution": {
     "iopub.execute_input": "2024-02-07T22:18:24.330268Z",
     "iopub.status.busy": "2024-02-07T22:18:24.330268Z",
     "iopub.status.idle": "2024-02-07T22:18:24.379298Z",
     "shell.execute_reply": "2024-02-07T22:18:24.378296Z"
    }
   },
   "outputs": [],
   "source": [
    "# REORDER columns to be easier for humans to inspect\n",
    "gdf_quarter = gdf_quarter[[\n",
    "    'geoid', 'timestep', 'year_frac', \n",
    "    'deaths',\n",
    "    'year', 'semiannual', 'quarter', 'season']\n",
    "    + columns_to_keep\n",
    "    ].copy()\n"
   ]
  },
  {
   "cell_type": "code",
   "execution_count": 24,
   "id": "a6930670",
   "metadata": {
    "execution": {
     "iopub.execute_input": "2024-02-07T22:18:24.379451Z",
     "iopub.status.busy": "2024-02-07T22:18:24.379451Z",
     "iopub.status.idle": "2024-02-07T22:18:32.657923Z",
     "shell.execute_reply": "2024-02-07T22:18:32.657594Z"
    }
   },
   "outputs": [
    {
     "name": "stderr",
     "output_type": "stream",
     "text": [
      "C:\\Users\\Thinkpad\\anaconda3\\lib\\site-packages\\pyproj\\crs\\crs.py:141: FutureWarning: '+init=<authority>:<code>' syntax is deprecated. '<authority>:<code>' is the preferred initialization method. When making the change, be mindful of axis order changes: https://pyproj4.github.io/pyproj/stable/gotchas.html#axis-order-changes-in-proj-6\n",
      "  in_crs_string = _prepare_from_proj_string(in_crs_string)\n"
     ]
    },
    {
     "data": {
      "text/plain": [
       "geopandas.geodataframe.GeoDataFrame"
      ]
     },
     "execution_count": 24,
     "metadata": {},
     "output_type": "execute_result"
    }
   ],
   "source": [
    "#convert back to gdf\n",
    "from shapely import wkt\n",
    "\n",
    "gdf_quarter['geometry'] = gdf_quarter['geometry'].apply(wkt.loads)\n",
    "\n",
    "gdf_quarter = gpd.GeoDataFrame(gdf_quarter, geometry='geometry')\n",
    "gdf_quarter.crs = {'init': 'EPSG:4269'}\n",
    "type(gdf_quarter)"
   ]
  },
  {
   "cell_type": "code",
   "execution_count": 25,
   "id": "6b1a590e",
   "metadata": {
    "execution": {
     "iopub.execute_input": "2024-02-07T22:18:32.661926Z",
     "iopub.status.busy": "2024-02-07T22:18:32.661926Z",
     "iopub.status.idle": "2024-02-07T22:18:34.089943Z",
     "shell.execute_reply": "2024-02-07T22:18:34.088747Z"
    }
   },
   "outputs": [
    {
     "data": {
      "text/plain": [
       "<AxesSubplot:>"
      ]
     },
     "execution_count": 25,
     "metadata": {},
     "output_type": "execute_result"
    },
    {
     "data": {
      "image/png": "[encoded data removed]",
      "text/plain": [
       "<Figure size 432x288 with 2 Axes>"
      ]
     },
     "metadata": {
      "needs_background": "light"
     },
     "output_type": "display_data"
    }
   ],
   "source": [
    "gdf_quarter[gdf_quarter['year']==2015].plot('deaths', legend=True)\n"
   ]
  },
  {
   "cell_type": "markdown",
   "id": "1e29f0c3",
   "metadata": {},
   "source": [
    "### store gdf"
   ]
  },
  {
   "cell_type": "code",
   "execution_count": 26,
   "id": "2c7f780d",
   "metadata": {
    "execution": {
     "iopub.execute_input": "2024-02-07T22:18:34.089943Z",
     "iopub.status.busy": "2024-02-07T22:18:34.089943Z",
     "iopub.status.idle": "2024-02-07T22:18:46.599132Z",
     "shell.execute_reply": "2024-02-07T22:18:46.598732Z"
    }
   },
   "outputs": [],
   "source": [
    "gdf_quarter.to_csv(csv_path.replace(\"intro\", \"clean\"), index=False)"
   ]
  },
  {
   "cell_type": "code",
   "execution_count": null,
   "id": "aa1e2362-5f73-4a2d-89eb-df852eba96d1",
   "metadata": {},
   "outputs": [],
   "source": []
  }
 ],
 "metadata": {
  "kernelspec": {
   "display_name": "Python 3 (ipykernel)",
   "language": "python",
   "name": "python3"
  },
  "language_info": {
   "codemirror_mode": {
    "name": "ipython",
    "version": 3
   },
   "file_extension": ".py",
   "mimetype": "text/x-python",
   "name": "python",
   "nbconvert_exporter": "python",
   "pygments_lexer": "ipython3",
   "version": "3.9.12"
  }
 },
 "nbformat": 4,
 "nbformat_minor": 5
}
