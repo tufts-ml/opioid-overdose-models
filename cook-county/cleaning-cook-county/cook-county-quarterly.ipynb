{
 "cells": [
  {
   "cell_type": "code",
   "execution_count": 5,
   "id": "7b6e285c",
   "metadata": {},
   "outputs": [],
   "source": [
    "import numpy as np\n",
    "import matplotlib.pyplot as plt\n",
    "import os\n",
    "import seaborn as sns\n",
    "import geopandas as gpd\n",
    "import pandas as pd\n",
    "import sklearn"
   ]
  },
  {
   "cell_type": "code",
   "execution_count": 6,
   "id": "508f22aa",
   "metadata": {},
   "outputs": [],
   "source": [
    "data_dir = '/Users/jyontika/Desktop/opioid-overdose-models/cook-county/cleaning-cook-county/'\n",
    "csv_path = os.path.join(data_dir, 'cook_county_gdf_quarterly.csv')\n",
    "cook_county_gdf = pd.read_csv(csv_path) "
   ]
  },
  {
   "cell_type": "code",
   "execution_count": 7,
   "id": "6bec8093",
   "metadata": {},
   "outputs": [
    {
     "data": {
      "text/plain": [
       "56"
      ]
     },
     "execution_count": 7,
     "metadata": {},
     "output_type": "execute_result"
    }
   ],
   "source": [
    "cook_county_gdf.year.isna().sum()"
   ]
  },
  {
   "cell_type": "code",
   "execution_count": 8,
   "id": "f7754947",
   "metadata": {},
   "outputs": [],
   "source": [
    "#add in missing 58 tracts\n",
    "cook_county_gdf['quarter'].fillna(9999, inplace=True)\n",
    "cook_county_gdf['year'].fillna(9999, inplace=True)"
   ]
  },
  {
   "cell_type": "code",
   "execution_count": 9,
   "id": "e6558f1d",
   "metadata": {},
   "outputs": [
    {
     "data": {
      "text/plain": [
       "56"
      ]
     },
     "execution_count": 9,
     "metadata": {},
     "output_type": "execute_result"
    }
   ],
   "source": [
    "cook_county_gdf.loc[cook_county_gdf['year'] == 9999, 'geoid'].nunique()"
   ]
  },
  {
   "cell_type": "code",
   "execution_count": 10,
   "id": "9a174161",
   "metadata": {},
   "outputs": [],
   "source": [
    "columns_to_keep = ['STATEFP', 'COUNTYFP', 'TRACTCE','NAME', 'NAMELSAD', 'MTFCC', 'FUNCSTAT', 'ALAND', 'AWATER',\n",
    "       'INTPTLAT', 'INTPTLON', 'geometry']\n",
    "\n",
    "gdf_quarter = cook_county_gdf.groupby(['geoid', 'quarter', 'year']).agg({'deaths': 'sum', **{col: 'first' for col in columns_to_keep}}).reset_index()"
   ]
  },
  {
   "cell_type": "markdown",
   "id": "0d446184",
   "metadata": {},
   "source": [
    "### Making DF square - one quarter for each tract\n"
   ]
  },
  {
   "cell_type": "code",
   "execution_count": 12,
   "id": "cbf5d55e",
   "metadata": {},
   "outputs": [],
   "source": [
    "gdf_quarter.loc[gdf_quarter['year'] == 9999, 'deaths'] = 0\n",
    "gdf_quarter.loc[gdf_quarter['quarter'] == 9999, 'deaths'] = 0\n",
    "\n",
    "# Replace 9999 with 2015 in the 'year' column\n",
    "gdf_quarter['year'].replace(9999, 2015, inplace=True)\n",
    "gdf_quarter['quarter'].replace(9999, 1, inplace=True)"
   ]
  },
  {
   "cell_type": "code",
   "execution_count": 13,
   "id": "b5d002cb",
   "metadata": {},
   "outputs": [
    {
     "data": {
      "text/plain": [
       "1332"
      ]
     },
     "execution_count": 13,
     "metadata": {},
     "output_type": "execute_result"
    }
   ],
   "source": [
    "gdf_quarter['geoid'].nunique()  #1332"
   ]
  },
  {
   "cell_type": "code",
   "execution_count": 14,
   "id": "8b0d52fc",
   "metadata": {},
   "outputs": [],
   "source": [
    "##uses nested for loops - not exactly the most efficient \n",
    "years = range(2015, 2024)\n",
    "quarters = range(1, 5)\n",
    "\n",
    "existing_combinations = set(zip(gdf_quarter['geoid'], gdf_quarter['year'], gdf_quarter['quarter']))\n",
    "updated_rows = []\n",
    "\n",
    "for tract in gdf_quarter['geoid'].unique():\n",
    "    for year in years:\n",
    "        for quarter in quarters:\n",
    "            combination = (tract, year, quarter)\n",
    "            if combination not in existing_combinations:\n",
    "                new_row = {'geoid': tract, 'year': year, 'quarter': quarter, 'deaths': 0}\n",
    "                updated_rows.append(new_row)\n",
    "\n",
    "gdf_quarter = pd.concat([gdf_quarter, pd.DataFrame(updated_rows)], ignore_index=True)\n"
   ]
  },
  {
   "cell_type": "code",
   "execution_count": 15,
   "id": "db29761f",
   "metadata": {},
   "outputs": [],
   "source": [
    "#fills in NAs produced from above\n",
    "unique_tracts = gdf_quarter['geoid'].unique()\n",
    "\n",
    "for tract in unique_tracts:\n",
    "    tract_rows = gdf_quarter[gdf_quarter['geoid'] == tract]\n",
    "    non_na_row = tract_rows.dropna().iloc[0]  # Get the first row without any NAs\n",
    "    \n",
    "    for column in columns_to_keep:\n",
    "        gdf_quarter.loc[(gdf_quarter['geoid'] == tract) & gdf_quarter[column].isna(), column] = non_na_row[column]"
   ]
  },
  {
   "cell_type": "code",
   "execution_count": 16,
   "id": "b6404a8e",
   "metadata": {},
   "outputs": [
    {
     "data": {
      "text/plain": [
       "(48148, 16)"
      ]
     },
     "execution_count": 16,
     "metadata": {},
     "output_type": "execute_result"
    }
   ],
   "source": [
    "gdf_quarter.shape #should be (48148, 16)\n"
   ]
  },
  {
   "cell_type": "code",
   "execution_count": 17,
   "id": "4838a997",
   "metadata": {},
   "outputs": [
    {
     "data": {
      "text/plain": [
       "1332"
      ]
     },
     "execution_count": 17,
     "metadata": {},
     "output_type": "execute_result"
    }
   ],
   "source": [
    "gdf_quarter['geoid'].nunique()  #should be 1332"
   ]
  },
  {
   "cell_type": "code",
   "execution_count": 18,
   "id": "1c642c53",
   "metadata": {},
   "outputs": [],
   "source": [
    "#confirms all years and quarters present\n",
    "years = range(2015, 2024) \n",
    "quarters = range(1, 5)  \n",
    "\n",
    "for geoid in gdf_quarter['geoid'].unique():\n",
    "    for year in years:\n",
    "        for quarter in quarters:\n",
    "            if not ((gdf_quarter['geoid'] == geoid) & (gdf_quarter['year'] == year) & (gdf_quarter['quarter'] == quarter)).any():\n",
    "                print(\"Missing row for geoid {} in year {} quarter {}\".format(geoid, year, quarter))\n",
    "\n"
   ]
  },
  {
   "cell_type": "code",
   "execution_count": 19,
   "id": "d1d578fc",
   "metadata": {},
   "outputs": [
    {
     "name": "stdout",
     "output_type": "stream",
     "text": [
      "There are no missing values in the dataframe.\n"
     ]
    }
   ],
   "source": [
    "#Any NAs in data frame?\n",
    "\n",
    "has_na = gdf_quarter.isna().any().any()\n",
    "\n",
    "if has_na:\n",
    "    print(\"There are missing values in the dataframe.\")\n",
    "else:\n",
    "    print(\"There are no missing values in the dataframe.\")\n"
   ]
  },
  {
   "cell_type": "code",
   "execution_count": 20,
   "id": "11a681f9",
   "metadata": {},
   "outputs": [
    {
     "name": "stdout",
     "output_type": "stream",
     "text": [
      "There are no duplicate rows in the dataframe.\n"
     ]
    }
   ],
   "source": [
    "#Any Duplicates?\n",
    "has_duplicates = gdf_quarter.duplicated().any()\n",
    "\n",
    "if has_duplicates:\n",
    "    print(\"There are duplicate rows in the dataframe.\")\n",
    "else:\n",
    "    print(\"There are no duplicate rows in the dataframe.\")\n"
   ]
  },
  {
   "cell_type": "code",
   "execution_count": 21,
   "id": "7d9e2751",
   "metadata": {},
   "outputs": [],
   "source": [
    "#change format of year and quarters\n",
    "\n",
    "gdf_quarter['year'] = pd.to_datetime(gdf_quarter['year'].astype(int).astype(str), format='%Y').dt.year\n",
    "gdf_quarter['quarter'] = gdf_quarter['quarter'].astype(str).replace('1.0', '1').replace('2.0', '2').replace('3.0', '3').replace('4.0', '4')\n"
   ]
  },
  {
   "cell_type": "code",
   "execution_count": 22,
   "id": "befddd4a",
   "metadata": {},
   "outputs": [
    {
     "data": {
      "text/plain": [
       "Index(['geoid', 'quarter', 'year', 'deaths', 'STATEFP', 'COUNTYFP', 'TRACTCE',\n",
       "       'NAME', 'NAMELSAD', 'MTFCC', 'FUNCSTAT', 'ALAND', 'AWATER', 'INTPTLAT',\n",
       "       'INTPTLON', 'geometry'],\n",
       "      dtype='object')"
      ]
     },
     "execution_count": 22,
     "metadata": {},
     "output_type": "execute_result"
    }
   ],
   "source": [
    "gdf_quarter.columns"
   ]
  },
  {
   "cell_type": "code",
   "execution_count": 23,
   "id": "3f5554e2",
   "metadata": {},
   "outputs": [],
   "source": [
    "gdf_quarter.columns = ['geoid', 'quarter', 'year', 'deaths', 'STATEFP', 'COUNTYFP', 'TRACTCE',\n",
    "       'NAME', 'NAMELSAD', 'MTFCC', 'FUNCSTAT', 'ALAND', 'AWATER', 'lat',\n",
    "       'lon', 'geometry']"
   ]
  },
  {
   "cell_type": "code",
   "execution_count": 24,
   "id": "fa3eaceb",
   "metadata": {},
   "outputs": [],
   "source": [
    "#take out 2014 and 2023\n",
    "gdf_quarter = gdf_quarter[gdf_quarter['year'] != 2023]\n",
    "gdf_quarter = gdf_quarter[gdf_quarter['year'] != 2014]"
   ]
  },
  {
   "cell_type": "code",
   "execution_count": 25,
   "id": "5ecbd230",
   "metadata": {},
   "outputs": [],
   "source": [
    "#create timestep column\n",
    "gdf_quarter = gdf_quarter.sort_values(by=['geoid', 'quarter'])\n",
    "\n",
    "# Group the data by 'geoid' and use 'cumcount' to create the 'timestep' column.\n",
    "gdf_quarter['timestep'] = gdf_quarter.groupby('geoid').cumcount() + 1\n"
   ]
  },
  {
   "cell_type": "code",
   "execution_count": 26,
   "id": "a6930670",
   "metadata": {},
   "outputs": [
    {
     "name": "stderr",
     "output_type": "stream",
     "text": [
      "/Users/jyontika/Library/Python/3.9/lib/python/site-packages/pyproj/crs/crs.py:141: FutureWarning: '+init=<authority>:<code>' syntax is deprecated. '<authority>:<code>' is the preferred initialization method. When making the change, be mindful of axis order changes: https://pyproj4.github.io/pyproj/stable/gotchas.html#axis-order-changes-in-proj-6\n",
      "  in_crs_string = _prepare_from_proj_string(in_crs_string)\n"
     ]
    },
    {
     "data": {
      "text/plain": [
       "geopandas.geodataframe.GeoDataFrame"
      ]
     },
     "execution_count": 26,
     "metadata": {},
     "output_type": "execute_result"
    }
   ],
   "source": [
    "#convert back to gdf\n",
    "from shapely import wkt\n",
    "\n",
    "gdf_quarter['geometry'] = gdf_quarter['geometry'].apply(wkt.loads)\n",
    "\n",
    "gdf_quarter = gpd.GeoDataFrame(gdf_quarter, geometry='geometry')\n",
    "gdf_quarter.crs = {'init': 'EPSG:4269'}\n",
    "type(gdf_quarter)"
   ]
  },
  {
   "cell_type": "code",
   "execution_count": 27,
   "id": "6b1a590e",
   "metadata": {},
   "outputs": [
    {
     "data": {
      "text/plain": [
       "<Axes: >"
      ]
     },
     "execution_count": 27,
     "metadata": {},
     "output_type": "execute_result"
    },
    {
     "data": {
      "image/png": "[encoded data removed]",
      "text/plain": [
       "<Figure size 640x480 with 2 Axes>"
      ]
     },
     "metadata": {},
     "output_type": "display_data"
    }
   ],
   "source": [
    "gdf_quarter[gdf_quarter['year']==2015].plot('deaths', legend=True)\n"
   ]
  },
  {
   "cell_type": "markdown",
   "id": "1e29f0c3",
   "metadata": {},
   "source": [
    "### store gdf"
   ]
  },
  {
   "cell_type": "code",
   "execution_count": 28,
   "id": "2c7f780d",
   "metadata": {},
   "outputs": [],
   "source": [
    "csv_dir = 'cook_county_gdf_quarterly.csv'\n",
    "output_path = os.path.join(data_dir, csv_dir)\n",
    "\n",
    "# Save GeoDataFrames to CSV files\n",
    "gdf_quarter.to_csv(output_path, index=False)"
   ]
  }
 ],
 "metadata": {
  "kernelspec": {
   "display_name": "Python 3 (ipykernel)",
   "language": "python",
   "name": "python3"
  },
  "language_info": {
   "codemirror_mode": {
    "name": "ipython",
    "version": 3
   },
   "file_extension": ".py",
   "mimetype": "text/x-python",
   "name": "python",
   "nbconvert_exporter": "python",
   "pygments_lexer": "ipython3",
   "version": "3.9.6"
  }
 },
 "nbformat": 4,
 "nbformat_minor": 5
}
