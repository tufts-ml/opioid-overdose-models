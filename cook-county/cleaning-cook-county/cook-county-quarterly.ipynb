{
 "cells": [
  {
   "cell_type": "code",
   "execution_count": 1,
   "id": "7b6e285c",
   "metadata": {
    "execution": {
     "iopub.execute_input": "2023-08-24T15:58:50.427865Z",
     "iopub.status.busy": "2023-08-24T15:58:50.427091Z",
     "iopub.status.idle": "2023-08-24T15:58:51.615816Z",
     "shell.execute_reply": "2023-08-24T15:58:51.615028Z"
    }
   },
   "outputs": [],
   "source": [
    "#import libraries\n",
    "import numpy as np\n",
    "import geopandas as gpd\n",
    "import shapely \n",
    "import matplotlib.pyplot as plt\n",
    "import os\n",
    "#import seaborn as sns\n",
    "import pandas as pd\n",
    "import sklearn"
   ]
  },
  {
   "cell_type": "code",
   "execution_count": 2,
   "id": "508f22aa",
   "metadata": {
    "execution": {
     "iopub.execute_input": "2023-08-24T15:58:51.619270Z",
     "iopub.status.busy": "2023-08-24T15:58:51.618704Z",
     "iopub.status.idle": "2023-08-24T15:58:51.834215Z",
     "shell.execute_reply": "2023-08-24T15:58:51.833349Z"
    }
   },
   "outputs": [],
   "source": [
    "# user should replace with their directory\n",
    "data_dir = os.environ.get('DATA_DIR', )\n",
    "\n",
    "csv_path = os.path.join(data_dir, 'cook_county_gdf_intro_quarterly.csv')\n",
    "cook_county_gdf = pd.read_csv(csv_path) "
   ]
  },
  {
   "cell_type": "code",
   "execution_count": 3,
   "id": "6bec8093",
   "metadata": {
    "execution": {
     "iopub.execute_input": "2023-08-24T15:58:51.837581Z",
     "iopub.status.busy": "2023-08-24T15:58:51.837273Z",
     "iopub.status.idle": "2023-08-24T15:58:51.843996Z",
     "shell.execute_reply": "2023-08-24T15:58:51.843440Z"
    }
   },
   "outputs": [
    {
     "data": {
      "text/plain": [
       "56"
      ]
     },
     "execution_count": 3,
     "metadata": {},
     "output_type": "execute_result"
    }
   ],
   "source": [
    "cook_county_gdf.year.isna().sum()"
   ]
  },
  {
   "cell_type": "code",
   "execution_count": 4,
   "id": "f7754947",
   "metadata": {
    "execution": {
     "iopub.execute_input": "2023-08-24T15:58:51.846827Z",
     "iopub.status.busy": "2023-08-24T15:58:51.846604Z",
     "iopub.status.idle": "2023-08-24T15:58:51.850718Z",
     "shell.execute_reply": "2023-08-24T15:58:51.850036Z"
    }
   },
   "outputs": [],
   "source": [
    "#add in missing 58 tracts\n",
    "cook_county_gdf['quarter'].fillna(9999, inplace=True)\n",
    "cook_county_gdf['year'].fillna(9999, inplace=True)"
   ]
  },
  {
   "cell_type": "code",
   "execution_count": 5,
   "id": "e6558f1d",
   "metadata": {
    "execution": {
     "iopub.execute_input": "2023-08-24T15:58:51.854375Z",
     "iopub.status.busy": "2023-08-24T15:58:51.854087Z",
     "iopub.status.idle": "2023-08-24T15:58:51.859349Z",
     "shell.execute_reply": "2023-08-24T15:58:51.858757Z"
    }
   },
   "outputs": [
    {
     "data": {
      "text/plain": [
       "56"
      ]
     },
     "execution_count": 5,
     "metadata": {},
     "output_type": "execute_result"
    }
   ],
   "source": [
    "cook_county_gdf.loc[cook_county_gdf['year'] == 9999, 'geoid'].nunique()"
   ]
  },
  {
   "cell_type": "code",
   "execution_count": 6,
   "id": "9a174161",
   "metadata": {
    "execution": {
     "iopub.execute_input": "2023-08-24T15:58:51.862229Z",
     "iopub.status.busy": "2023-08-24T15:58:51.861919Z",
     "iopub.status.idle": "2023-08-24T15:58:51.878629Z",
     "shell.execute_reply": "2023-08-24T15:58:51.877964Z"
    }
   },
   "outputs": [],
   "source": [
    "columns_to_keep = [\n",
    "    'INTPTLAT', 'INTPTLON', \n",
    "    'STATEFP', 'COUNTYFP', 'TRACTCE','NAME', 'NAMELSAD', 'MTFCC', 'FUNCSTAT', 'ALAND', 'AWATER',\n",
    "    'geometry']\n",
    "\n",
    "gdf_quarter = cook_county_gdf.groupby(['geoid', 'quarter', 'year']).agg({'deaths': 'sum', **{col: 'first' for col in columns_to_keep}}).reset_index()"
   ]
  },
  {
   "cell_type": "markdown",
   "id": "0d446184",
   "metadata": {},
   "source": [
    "### Making DF square - one quarter for each tract\n"
   ]
  },
  {
   "cell_type": "code",
   "execution_count": 7,
   "id": "cbf5d55e",
   "metadata": {
    "execution": {
     "iopub.execute_input": "2023-08-24T15:58:51.881702Z",
     "iopub.status.busy": "2023-08-24T15:58:51.881429Z",
     "iopub.status.idle": "2023-08-24T15:58:51.886453Z",
     "shell.execute_reply": "2023-08-24T15:58:51.885753Z"
    }
   },
   "outputs": [],
   "source": [
    "gdf_quarter.loc[gdf_quarter['year'] == 9999, 'deaths'] = 0\n",
    "gdf_quarter.loc[gdf_quarter['quarter'] == 9999, 'deaths'] = 0\n",
    "\n",
    "# Replace 9999 with 2015 in the 'year' column\n",
    "gdf_quarter['year'].replace(9999, 2015, inplace=True)\n",
    "gdf_quarter['quarter'].replace(9999, 1, inplace=True)"
   ]
  },
  {
   "cell_type": "code",
   "execution_count": 8,
   "id": "b5d002cb",
   "metadata": {
    "execution": {
     "iopub.execute_input": "2023-08-24T15:58:51.888887Z",
     "iopub.status.busy": "2023-08-24T15:58:51.888691Z",
     "iopub.status.idle": "2023-08-24T15:58:51.892505Z",
     "shell.execute_reply": "2023-08-24T15:58:51.891994Z"
    }
   },
   "outputs": [
    {
     "data": {
      "text/plain": [
       "1332"
      ]
     },
     "execution_count": 8,
     "metadata": {},
     "output_type": "execute_result"
    }
   ],
   "source": [
    "gdf_quarter['geoid'].nunique()  #1332"
   ]
  },
  {
   "cell_type": "code",
   "execution_count": 9,
   "id": "8b0d52fc",
   "metadata": {
    "execution": {
     "iopub.execute_input": "2023-08-24T15:58:51.894908Z",
     "iopub.status.busy": "2023-08-24T15:58:51.894687Z",
     "iopub.status.idle": "2023-08-24T15:58:52.103927Z",
     "shell.execute_reply": "2023-08-24T15:58:52.103193Z"
    }
   },
   "outputs": [],
   "source": [
    "# Fill in missing tract-year-period cells\n",
    "# Warning: Nested for loops\n",
    "\n",
    "years = range(2015, 2024)\n",
    "quarters = range(1, 5)\n",
    "\n",
    "existing_combinations = set(zip(gdf_quarter['geoid'], gdf_quarter['year'], gdf_quarter['quarter']))\n",
    "updated_rows = []\n",
    "\n",
    "for tract in gdf_quarter['geoid'].unique():\n",
    "    for year in years:\n",
    "        for quarter in quarters:\n",
    "            combination = (tract, year, quarter)\n",
    "            if combination not in existing_combinations:\n",
    "                new_row = {'geoid': tract, 'year': year, 'quarter': quarter, 'deaths': 0}\n",
    "                updated_rows.append(new_row)\n",
    "\n",
    "gdf_quarter = pd.concat([gdf_quarter, pd.DataFrame(updated_rows)], ignore_index=True)\n"
   ]
  },
  {
   "cell_type": "code",
   "execution_count": 10,
   "id": "db29761f",
   "metadata": {
    "execution": {
     "iopub.execute_input": "2023-08-24T15:58:52.107253Z",
     "iopub.status.busy": "2023-08-24T15:58:52.106967Z",
     "iopub.status.idle": "2023-08-24T15:59:08.375315Z",
     "shell.execute_reply": "2023-08-24T15:59:08.374225Z"
    }
   },
   "outputs": [],
   "source": [
    "#fills in NAs produced from above\n",
    "unique_tracts = gdf_quarter['geoid'].unique()\n",
    "\n",
    "for tract in unique_tracts:\n",
    "    tract_rows = gdf_quarter[gdf_quarter['geoid'] == tract]\n",
    "    non_na_row = tract_rows.dropna().iloc[0]  # Get the first row without any NAs\n",
    "    \n",
    "    for column in columns_to_keep:\n",
    "        gdf_quarter.loc[(gdf_quarter['geoid'] == tract) & gdf_quarter[column].isna(), column] = non_na_row[column]"
   ]
  },
  {
   "cell_type": "code",
   "execution_count": 11,
   "id": "b6404a8e",
   "metadata": {
    "execution": {
     "iopub.execute_input": "2023-08-24T15:59:08.378886Z",
     "iopub.status.busy": "2023-08-24T15:59:08.378528Z",
     "iopub.status.idle": "2023-08-24T15:59:08.384080Z",
     "shell.execute_reply": "2023-08-24T15:59:08.383585Z"
    }
   },
   "outputs": [
    {
     "data": {
      "text/plain": [
       "(48148, 16)"
      ]
     },
     "execution_count": 11,
     "metadata": {},
     "output_type": "execute_result"
    }
   ],
   "source": [
    "gdf_quarter.shape #should be (48148, 16)\n"
   ]
  },
  {
   "cell_type": "code",
   "execution_count": 12,
   "id": "4838a997",
   "metadata": {
    "execution": {
     "iopub.execute_input": "2023-08-24T15:59:08.386932Z",
     "iopub.status.busy": "2023-08-24T15:59:08.386518Z",
     "iopub.status.idle": "2023-08-24T15:59:08.390609Z",
     "shell.execute_reply": "2023-08-24T15:59:08.390093Z"
    }
   },
   "outputs": [
    {
     "data": {
      "text/plain": [
       "1332"
      ]
     },
     "execution_count": 12,
     "metadata": {},
     "output_type": "execute_result"
    }
   ],
   "source": [
    "gdf_quarter['geoid'].nunique()  #should be 1332"
   ]
  },
  {
   "cell_type": "code",
   "execution_count": 13,
   "id": "1c642c53",
   "metadata": {
    "execution": {
     "iopub.execute_input": "2023-08-24T15:59:08.392893Z",
     "iopub.status.busy": "2023-08-24T15:59:08.392684Z",
     "iopub.status.idle": "2023-08-24T15:59:27.428366Z",
     "shell.execute_reply": "2023-08-24T15:59:27.427642Z"
    }
   },
   "outputs": [],
   "source": [
    "#confirms all years and quarters present\n",
    "\n",
    "years = range(2015, 2023)  # data collect started in late '14, we ran this notebook in mid '23\n",
    "quarters = range(1, 5)  \n",
    "\n",
    "for geoid in gdf_quarter['geoid'].unique():\n",
    "    for year in years:\n",
    "        for quarter in quarters:\n",
    "            if not ((gdf_quarter['geoid'] == geoid) & (gdf_quarter['year'] == year) & (gdf_quarter['quarter'] == quarter)).any():\n",
    "                print(\"Missing row for geoid {} in year {} quarter {}\".format(geoid, year, quarter))\n",
    "\n"
   ]
  },
  {
   "cell_type": "code",
   "execution_count": 14,
   "id": "d1d578fc",
   "metadata": {
    "execution": {
     "iopub.execute_input": "2023-08-24T15:59:27.432088Z",
     "iopub.status.busy": "2023-08-24T15:59:27.431804Z",
     "iopub.status.idle": "2023-08-24T15:59:27.442772Z",
     "shell.execute_reply": "2023-08-24T15:59:27.442256Z"
    }
   },
   "outputs": [
    {
     "name": "stdout",
     "output_type": "stream",
     "text": [
      "There are no missing values in the dataframe.\n"
     ]
    }
   ],
   "source": [
    "#Any NAs in data frame?\n",
    "\n",
    "has_na = gdf_quarter.isna().any().any()\n",
    "\n",
    "if has_na:\n",
    "    print(\"There are missing values in the dataframe.\")\n",
    "else:\n",
    "    print(\"There are no missing values in the dataframe.\")\n"
   ]
  },
  {
   "cell_type": "code",
   "execution_count": 15,
   "id": "11a681f9",
   "metadata": {
    "execution": {
     "iopub.execute_input": "2023-08-24T15:59:27.445646Z",
     "iopub.status.busy": "2023-08-24T15:59:27.445314Z",
     "iopub.status.idle": "2023-08-24T15:59:27.600792Z",
     "shell.execute_reply": "2023-08-24T15:59:27.600117Z"
    }
   },
   "outputs": [
    {
     "name": "stdout",
     "output_type": "stream",
     "text": [
      "There are no duplicate rows in the dataframe.\n"
     ]
    }
   ],
   "source": [
    "#Any Duplicates?\n",
    "has_duplicates = gdf_quarter.duplicated().any()\n",
    "\n",
    "if has_duplicates:\n",
    "    print(\"There are duplicate rows in the dataframe.\")\n",
    "else:\n",
    "    print(\"There are no duplicate rows in the dataframe.\")\n"
   ]
  },
  {
   "cell_type": "code",
   "execution_count": 16,
   "id": "7d9e2751",
   "metadata": {
    "execution": {
     "iopub.execute_input": "2023-08-24T15:59:27.603696Z",
     "iopub.status.busy": "2023-08-24T15:59:27.603441Z",
     "iopub.status.idle": "2023-08-24T15:59:27.651602Z",
     "shell.execute_reply": "2023-08-24T15:59:27.651040Z"
    }
   },
   "outputs": [],
   "source": [
    "#change format of year and quarters\n",
    "\n",
    "gdf_quarter['year'] = pd.to_datetime(gdf_quarter['year'].astype(int).astype(str), format='%Y').dt.year\n",
    "gdf_quarter['quarter'] = gdf_quarter['quarter'].astype(str).replace('1.0', '1').replace('2.0', '2').replace('3.0', '3').replace('4.0', '4')\n"
   ]
  },
  {
   "cell_type": "code",
   "execution_count": 17,
   "id": "befddd4a",
   "metadata": {
    "execution": {
     "iopub.execute_input": "2023-08-24T15:59:27.654248Z",
     "iopub.status.busy": "2023-08-24T15:59:27.654026Z",
     "iopub.status.idle": "2023-08-24T15:59:27.657740Z",
     "shell.execute_reply": "2023-08-24T15:59:27.657236Z"
    }
   },
   "outputs": [
    {
     "data": {
      "text/plain": [
       "Index(['geoid', 'quarter', 'year', 'deaths', 'INTPTLAT', 'INTPTLON', 'STATEFP',\n",
       "       'COUNTYFP', 'TRACTCE', 'NAME', 'NAMELSAD', 'MTFCC', 'FUNCSTAT', 'ALAND',\n",
       "       'AWATER', 'geometry'],\n",
       "      dtype='object')"
      ]
     },
     "execution_count": 17,
     "metadata": {},
     "output_type": "execute_result"
    }
   ],
   "source": [
    "gdf_quarter.columns"
   ]
  },
  {
   "cell_type": "code",
   "execution_count": null,
   "id": "3f5554e2",
   "metadata": {},
   "outputs": [],
   "source": []
  },
  {
   "cell_type": "code",
   "execution_count": 18,
   "id": "fa3eaceb",
   "metadata": {
    "execution": {
     "iopub.execute_input": "2023-08-24T15:59:27.660289Z",
     "iopub.status.busy": "2023-08-24T15:59:27.660077Z",
     "iopub.status.idle": "2023-08-24T15:59:27.672059Z",
     "shell.execute_reply": "2023-08-24T15:59:27.671374Z"
    }
   },
   "outputs": [],
   "source": [
    "#take out 2014 and 2023\n",
    "gdf_quarter = gdf_quarter[gdf_quarter['year'] != 2023]\n",
    "gdf_quarter = gdf_quarter[gdf_quarter['year'] != 2014]"
   ]
  },
  {
   "cell_type": "code",
   "execution_count": 19,
   "id": "42e25ad1-a321-4084-aeb1-42066c585ea8",
   "metadata": {
    "execution": {
     "iopub.execute_input": "2023-08-24T15:59:27.675601Z",
     "iopub.status.busy": "2023-08-24T15:59:27.675332Z",
     "iopub.status.idle": "2023-08-24T15:59:27.679838Z",
     "shell.execute_reply": "2023-08-24T15:59:27.679372Z"
    }
   },
   "outputs": [
    {
     "data": {
      "text/plain": [
       "[2015, 2016, 2017, 2018, 2019, 2020, 2021, 2022]"
      ]
     },
     "execution_count": 19,
     "metadata": {},
     "output_type": "execute_result"
    }
   ],
   "source": [
    "sorted(gdf_quarter.year.unique())"
   ]
  },
  {
   "cell_type": "code",
   "execution_count": 20,
   "id": "5ecbd230",
   "metadata": {
    "execution": {
     "iopub.execute_input": "2023-08-24T15:59:27.682345Z",
     "iopub.status.busy": "2023-08-24T15:59:27.682118Z",
     "iopub.status.idle": "2023-08-24T15:59:27.733163Z",
     "shell.execute_reply": "2023-08-24T15:59:27.732027Z"
    }
   },
   "outputs": [],
   "source": [
    "# Create timestep column\n",
    "gdf_quarter = gdf_quarter.sort_values(by=['geoid', 'year', 'quarter']).reset_index(drop=True).copy()\n",
    "\n",
    "gdf_quarter['semiannual'] = gdf_quarter['quarter'].astype(np.int32).map(lambda x: 1 if x <= 2 else 2)\n",
    "\n",
    "# Group the data by 'geoid' and use 'cumcount' to create the 'timestep' column.\n",
    "gdf_quarter['timestep'] = gdf_quarter.groupby('geoid').cumcount() + 1\n",
    "\n",
    "# Create season column\n",
    "def map_season(q):\n",
    "    if q == 1:\n",
    "        return 'jan-mar'\n",
    "    elif q == 2:\n",
    "        return 'apr-jun'\n",
    "    elif q == 3:\n",
    "        return 'jul-sep'\n",
    "    elif q == 4:\n",
    "        return 'oct-dec'\n",
    "gdf_quarter['season'] = gdf_quarter['quarter'].map(map_season)"
   ]
  },
  {
   "cell_type": "code",
   "execution_count": 21,
   "id": "e058717f-28ed-4b4b-8bd6-f95390a5bfeb",
   "metadata": {
    "execution": {
     "iopub.execute_input": "2023-08-24T15:59:27.736010Z",
     "iopub.status.busy": "2023-08-24T15:59:27.735769Z",
     "iopub.status.idle": "2023-08-24T15:59:27.742227Z",
     "shell.execute_reply": "2023-08-24T15:59:27.741640Z"
    }
   },
   "outputs": [],
   "source": [
    "# Create 'year_frac' column that indicates timeperiod in fractional years\n",
    "gdf_quarter['year_frac'] = gdf_quarter['year'].values + (gdf_quarter['quarter'].values.astype('int') - 1)/4"
   ]
  },
  {
   "cell_type": "code",
   "execution_count": 22,
   "id": "ffbf4fc5-3d7d-4ce3-ae58-1303c9fb5028",
   "metadata": {
    "execution": {
     "iopub.execute_input": "2023-08-24T15:59:27.744814Z",
     "iopub.status.busy": "2023-08-24T15:59:27.744619Z",
     "iopub.status.idle": "2023-08-24T15:59:27.748305Z",
     "shell.execute_reply": "2023-08-24T15:59:27.747870Z"
    }
   },
   "outputs": [
    {
     "data": {
      "text/plain": [
       "Index(['geoid', 'quarter', 'year', 'deaths', 'INTPTLAT', 'INTPTLON', 'STATEFP',\n",
       "       'COUNTYFP', 'TRACTCE', 'NAME', 'NAMELSAD', 'MTFCC', 'FUNCSTAT', 'ALAND',\n",
       "       'AWATER', 'geometry', 'semiannual', 'timestep', 'season', 'year_frac'],\n",
       "      dtype='object')"
      ]
     },
     "execution_count": 22,
     "metadata": {},
     "output_type": "execute_result"
    }
   ],
   "source": [
    "gdf_quarter.columns"
   ]
  },
  {
   "cell_type": "code",
   "execution_count": 23,
   "id": "9dd75971-67b8-4f5b-ba38-aca5a01b706f",
   "metadata": {
    "execution": {
     "iopub.execute_input": "2023-08-24T15:59:27.750654Z",
     "iopub.status.busy": "2023-08-24T15:59:27.750460Z",
     "iopub.status.idle": "2023-08-24T15:59:27.770065Z",
     "shell.execute_reply": "2023-08-24T15:59:27.769370Z"
    }
   },
   "outputs": [],
   "source": [
    "# REORDER columns to be easier for humans to inspect\n",
    "gdf_quarter = gdf_quarter[[\n",
    "    'geoid', 'timestep', 'year_frac', \n",
    "    'deaths',\n",
    "    'year', 'semiannual', 'quarter', 'season']\n",
    "    + columns_to_keep\n",
    "    ].copy()\n"
   ]
  },
  {
   "cell_type": "code",
   "execution_count": null,
   "id": "a6930670",
   "metadata": {
    "execution": {
     "iopub.execute_input": "2023-08-24T15:59:27.773255Z",
     "iopub.status.busy": "2023-08-24T15:59:27.772735Z",
     "iopub.status.idle": "2023-08-24T15:59:29.903151Z",
     "shell.execute_reply": "2023-08-24T15:59:29.902616Z"
    }
   },
   "outputs": [],
   "source": [
    "#convert back to gdf\n",
    "from shapely import wkt\n",
    "\n",
    "gdf_quarter['geometry'] = gdf_quarter['geometry'].apply(wkt.loads)\n",
    "\n",
    "gdf_quarter = gpd.GeoDataFrame(gdf_quarter, geometry='geometry')\n",
    "gdf_quarter.crs = {'init': 'EPSG:4269'}\n",
    "type(gdf_quarter)"
   ]
  },
  {
   "cell_type": "code",
   "execution_count": 25,
   "id": "6b1a590e",
   "metadata": {
    "execution": {
     "iopub.execute_input": "2023-08-24T15:59:29.906027Z",
     "iopub.status.busy": "2023-08-24T15:59:29.905815Z",
     "iopub.status.idle": "2023-08-24T15:59:31.166505Z",
     "shell.execute_reply": "2023-08-24T15:59:31.165933Z"
    }
   },
   "outputs": [
    {
     "data": {
      "text/plain": [
       "<Axes: >"
      ]
     },
     "execution_count": 25,
     "metadata": {},
     "output_type": "execute_result"
    },
    {
     "data": {
      "image/png": "[encoded data removed]",
      "text/plain": [
       "<Figure size 640x480 with 2 Axes>"
      ]
     },
     "metadata": {},
     "output_type": "display_data"
    }
   ],
   "source": [
    "gdf_quarter[gdf_quarter['year']==2015].plot('deaths', legend=True)\n"
   ]
  },
  {
   "cell_type": "markdown",
   "id": "1e29f0c3",
   "metadata": {},
   "source": [
    "### store gdf"
   ]
  },
  {
   "cell_type": "code",
   "execution_count": 26,
   "id": "2c7f780d",
   "metadata": {
    "execution": {
     "iopub.execute_input": "2023-08-24T15:59:31.169422Z",
     "iopub.status.busy": "2023-08-24T15:59:31.169195Z",
     "iopub.status.idle": "2023-08-24T15:59:37.117980Z",
     "shell.execute_reply": "2023-08-24T15:59:37.117395Z"
    }
   },
   "outputs": [],
   "source": [
    "gdf_quarter.to_csv(csv_path.replace(\"intro\", \"clean\"), index=False)"
   ]
  },
  {
   "cell_type": "code",
   "execution_count": null,
   "id": "aa1e2362-5f73-4a2d-89eb-df852eba96d1",
   "metadata": {},
   "outputs": [],
   "source": []
  }
 ],
 "metadata": {
  "kernelspec": {
   "display_name": "Python 3 (ipykernel)",
   "language": "python",
   "name": "python3"
  },
  "language_info": {
   "codemirror_mode": {
    "name": "ipython",
    "version": 3
   },
   "file_extension": ".py",
   "mimetype": "text/x-python",
   "name": "python",
   "nbconvert_exporter": "python",
   "pygments_lexer": "ipython3",
   "version": "3.10.12"
  }
 },
 "nbformat": 4,
 "nbformat_minor": 5
}
