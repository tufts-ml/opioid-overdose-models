{
 "cells": [
  {
   "cell_type": "code",
   "execution_count": 1,
   "metadata": {
    "execution": {
     "iopub.execute_input": "2024-02-07T22:18:51.950333Z",
     "iopub.status.busy": "2024-02-07T22:18:51.948347Z",
     "iopub.status.idle": "2024-02-07T22:18:52.861739Z",
     "shell.execute_reply": "2024-02-07T22:18:52.860253Z"
    }
   },
   "outputs": [],
   "source": [
    "import os\n",
    "import numpy as np\n",
    "import pandas as pd\n",
    "import geopandas as gpd\n",
    "from shapely import wkt"
   ]
  },
  {
   "cell_type": "code",
   "execution_count": 2,
   "metadata": {
    "execution": {
     "iopub.execute_input": "2024-02-07T22:18:52.864743Z",
     "iopub.status.busy": "2024-02-07T22:18:52.864743Z",
     "iopub.status.idle": "2024-02-07T22:18:53.043507Z",
     "shell.execute_reply": "2024-02-07T22:18:53.043507Z"
    }
   },
   "outputs": [],
   "source": [
    "data_dir = os.environ.get('DATA_DIR')\n",
    "\n",
    "svi_2016_dir = os.path.join(data_dir, 'cook-county-svi-data', 'cook-county-svi-2016.csv')\n",
    "svi_2018_dir = os.path.join(data_dir, 'cook-county-svi-data', 'cook-county-svi-2018.csv')\n",
    "svi_2020_dir = os.path.join(data_dir, 'cook-county-svi-data', 'cook-county-svi-2020.csv')\n",
    "\n",
    "svi_2016 = pd.read_csv(svi_2016_dir)\n",
    "svi_2018 = pd.read_csv(svi_2018_dir)\n",
    "svi_2020 = pd.read_csv(svi_2020_dir)"
   ]
  },
  {
   "cell_type": "code",
   "execution_count": 3,
   "metadata": {
    "execution": {
     "iopub.execute_input": "2024-02-07T22:18:53.050035Z",
     "iopub.status.busy": "2024-02-07T22:18:53.049012Z",
     "iopub.status.idle": "2024-02-07T22:19:12.515578Z",
     "shell.execute_reply": "2024-02-07T22:19:12.514288Z"
    }
   },
   "outputs": [
    {
     "name": "stderr",
     "output_type": "stream",
     "text": [
      "C:\\Users\\Thinkpad\\anaconda3\\lib\\site-packages\\pyproj\\crs\\crs.py:141: FutureWarning: '+init=<authority>:<code>' syntax is deprecated. '<authority>:<code>' is the preferred initialization method. When making the change, be mindful of axis order changes: https://pyproj4.github.io/pyproj/stable/gotchas.html#axis-order-changes-in-proj-6\n",
      "  in_crs_string = _prepare_from_proj_string(in_crs_string)\n"
     ]
    }
   ],
   "source": [
    "#retrieve cleaned data frames \n",
    "gdf_annual = pd.read_csv(f'{data_dir}/cook_county_gdf_clean_year.csv')\n",
    "gdf_quarter = pd.read_csv(f'{data_dir}/cook_county_gdf_clean_quarterly.csv')\n",
    "gdf_semi = pd.read_csv(f'{data_dir}/cook_county_gdf_clean_semiannual.csv')\n",
    "\n",
    "#convert to gpd (was having trouble importing csv as gdf)\n",
    "gdf_annual['geometry'] = gdf_annual['geometry'].apply(wkt.loads)\n",
    "gdf_annual = gpd.GeoDataFrame(gdf_annual, geometry='geometry')\n",
    "gdf_annual.crs = {'init': 'EPSG:4269'}\n",
    "type(gdf_annual)\n",
    "\n",
    "gdf_quarter['geometry'] = gdf_quarter['geometry'].apply(wkt.loads)\n",
    "gdf_quarter = gpd.GeoDataFrame(gdf_quarter, geometry='geometry')\n",
    "gdf_quarter.crs = {'init': 'EPSG:4269'}\n",
    "type(gdf_quarter)\n",
    "\n",
    "gdf_semi['geometry'] = gdf_semi['geometry'].apply(wkt.loads)\n",
    "gdf_semi = gpd.GeoDataFrame(gdf_semi, geometry='geometry')\n",
    "gdf_semi.crs = {'init': 'EPSG:4269'}\n",
    "type(gdf_semi)\n",
    "\n",
    "gdf_annual['geoid'] = gdf_annual['geoid'].astype(str)\n",
    "gdf_semi['geoid'] = gdf_semi['geoid'].astype(str)\n",
    "gdf_quarter['geoid'] = gdf_quarter['geoid'].astype(str)"
   ]
  },
  {
   "cell_type": "markdown",
   "metadata": {},
   "source": [
    "### Add in SVI to gdf_annual data frame"
   ]
  },
  {
   "cell_type": "code",
   "execution_count": 4,
   "metadata": {
    "execution": {
     "iopub.execute_input": "2024-02-07T22:19:12.521984Z",
     "iopub.status.busy": "2024-02-07T22:19:12.520985Z",
     "iopub.status.idle": "2024-02-07T22:19:12.548984Z",
     "shell.execute_reply": "2024-02-07T22:19:12.547779Z"
    }
   },
   "outputs": [],
   "source": [
    "#gdf_annual \n",
    "#initalize new columns with NAs\n",
    "\n",
    "gdf_annual = gdf_annual.assign(\n",
    "    RPL_THEME1 = float('nan'),\n",
    "    RPL_THEME2 = float('nan'),\n",
    "    RPL_THEME3 = float('nan'),\n",
    "    RPL_THEME4 = float('nan'),\n",
    "    RPL_THEMES = float('nan'),\n",
    "    E_TOTPOP = float('nan'))\n",
    "\n",
    "##should i match svi years with , or change because i have different years?\n",
    "##2015, 2016 = svi_2016\n",
    "##2017, 2018 = svi_2018\n",
    "##2019, 2020, 2021, 2022 = svi_2020\n"
   ]
  },
  {
   "cell_type": "code",
   "execution_count": 5,
   "metadata": {
    "execution": {
     "iopub.execute_input": "2024-02-07T22:19:12.551968Z",
     "iopub.status.busy": "2024-02-07T22:19:12.551968Z",
     "iopub.status.idle": "2024-02-07T22:19:17.911633Z",
     "shell.execute_reply": "2024-02-07T22:19:17.910593Z"
    }
   },
   "outputs": [],
   "source": [
    "#add in svi_2016 to gdf_annual\n",
    "svi_2016['FIPS'] = svi_2016['FIPS'].astype(str)\n",
    "gdf_annual['geoid'] = gdf_annual['geoid'].str.strip()\n",
    "years_to_update = list(range(2015, 2017))\n",
    "\n",
    "# Iterate over each row in gdf_annual where 2015 <= year <= 2016\n",
    "for index, row in gdf_annual[gdf_annual['year'].isin(years_to_update)].iterrows():\n",
    "    geoid_value = row['geoid']\n",
    "    matching_row = svi_2016[svi_2016['FIPS'] == geoid_value]\n",
    "    \n",
    "    # If a matching row is found, update the corresponding columns in gdf_annual\n",
    "    if not matching_row.empty:\n",
    "        gdf_annual.loc[index, 'RPL_THEME1'] = matching_row['RPL_THEME1'].values[0]\n",
    "        gdf_annual.loc[index, 'RPL_THEME2'] = matching_row['RPL_THEME2'].values[0]\n",
    "        gdf_annual.loc[index, 'RPL_THEME3'] = matching_row['RPL_THEME3'].values[0]\n",
    "        gdf_annual.loc[index, 'RPL_THEME4'] = matching_row['RPL_THEME4'].values[0]\n",
    "        gdf_annual.loc[index, 'RPL_THEMES'] = matching_row['RPL_THEMES'].values[0]\n",
    "        gdf_annual.loc[index, 'E_TOTPOP'] = matching_row['E_TOTPOP'].values[0]"
   ]
  },
  {
   "cell_type": "code",
   "execution_count": 6,
   "metadata": {
    "execution": {
     "iopub.execute_input": "2024-02-07T22:19:17.915561Z",
     "iopub.status.busy": "2024-02-07T22:19:17.915561Z",
     "iopub.status.idle": "2024-02-07T22:19:21.110621Z",
     "shell.execute_reply": "2024-02-07T22:19:21.109012Z"
    }
   },
   "outputs": [],
   "source": [
    "#add in svi_2018 to gdf_annual\n",
    "svi_2018['FIPS'] = svi_2018['FIPS'].astype(str)\n",
    "gdf_annual['geoid'] = gdf_annual['geoid'].str.strip()\n",
    "years_to_update = list(range(2017, 2019))\n",
    "\n",
    "# Iterate over each row in gdf_annual where 2017 <= year <= 2018\n",
    "for index, row in gdf_annual[gdf_annual['year'].isin(years_to_update)].iterrows():\n",
    "    geoid_value = row['geoid']\n",
    "    matching_row = svi_2018[svi_2018['FIPS'] == geoid_value]\n",
    "    \n",
    "    # If a matching row is found, update the corresponding columns in gdf_annual\n",
    "    if not matching_row.empty:\n",
    "        gdf_annual.loc[index, 'RPL_THEME1'] = matching_row['RPL_THEME1'].values[0]\n",
    "        gdf_annual.loc[index, 'RPL_THEME2'] = matching_row['RPL_THEME2'].values[0]\n",
    "        gdf_annual.loc[index, 'RPL_THEME3'] = matching_row['RPL_THEME3'].values[0]\n",
    "        gdf_annual.loc[index, 'RPL_THEME4'] = matching_row['RPL_THEME4'].values[0]\n",
    "        gdf_annual.loc[index, 'RPL_THEMES'] = matching_row['RPL_THEMES'].values[0]\n",
    "        gdf_annual.loc[index, 'E_TOTPOP'] = matching_row['E_TOTPOP'].values[0]"
   ]
  },
  {
   "cell_type": "code",
   "execution_count": 7,
   "metadata": {
    "execution": {
     "iopub.execute_input": "2024-02-07T22:19:21.113323Z",
     "iopub.status.busy": "2024-02-07T22:19:21.113323Z",
     "iopub.status.idle": "2024-02-07T22:19:27.822948Z",
     "shell.execute_reply": "2024-02-07T22:19:27.822571Z"
    }
   },
   "outputs": [],
   "source": [
    "#add in svi_2020 to gdf_annual\n",
    "svi_2020['FIPS'] = svi_2020['FIPS'].astype(str)\n",
    "gdf_annual['geoid'] = gdf_annual['geoid'].str.strip()\n",
    "years_to_update = list(range(2019, 2023))\n",
    "\n",
    "# Iterate over each row in gdf_annual where 2019 <= year <= 2022\n",
    "for index, row in gdf_annual[gdf_annual['year'].isin(years_to_update)].iterrows():\n",
    "    geoid_value = row['geoid']\n",
    "    matching_row = svi_2020[svi_2020['FIPS'] == geoid_value]\n",
    "    \n",
    "    # If a matching row is found, update the corresponding columns in gdf_annual\n",
    "    if not matching_row.empty:\n",
    "        gdf_annual.loc[index, 'RPL_THEME1'] = matching_row['RPL_THEME1'].values[0]\n",
    "        gdf_annual.loc[index, 'RPL_THEME2'] = matching_row['RPL_THEME2'].values[0]\n",
    "        gdf_annual.loc[index, 'RPL_THEME3'] = matching_row['RPL_THEME3'].values[0]\n",
    "        gdf_annual.loc[index, 'RPL_THEME4'] = matching_row['RPL_THEME4'].values[0]\n",
    "        gdf_annual.loc[index, 'RPL_THEMES'] = matching_row['RPL_THEMES'].values[0]\n",
    "        gdf_annual.loc[index, 'E_TOTPOP'] = matching_row['E_TOTPOP'].values[0]"
   ]
  },
  {
   "cell_type": "code",
   "execution_count": 8,
   "metadata": {
    "execution": {
     "iopub.execute_input": "2024-02-07T22:19:27.828950Z",
     "iopub.status.busy": "2024-02-07T22:19:27.827949Z",
     "iopub.status.idle": "2024-02-07T22:19:27.856254Z",
     "shell.execute_reply": "2024-02-07T22:19:27.854710Z"
    }
   },
   "outputs": [],
   "source": [
    "#dropping census tracts with zero population (lake)\n",
    "geoid_to_drop = ['17031990000', '17031381700', '17031980000', '17031980100']\n",
    "gdf_annual = gdf_annual[~gdf_annual['geoid'].isin(geoid_to_drop)]"
   ]
  },
  {
   "cell_type": "code",
   "execution_count": 9,
   "metadata": {
    "execution": {
     "iopub.execute_input": "2024-02-07T22:19:27.863266Z",
     "iopub.status.busy": "2024-02-07T22:19:27.863266Z",
     "iopub.status.idle": "2024-02-07T22:19:27.889048Z",
     "shell.execute_reply": "2024-02-07T22:19:27.887926Z"
    }
   },
   "outputs": [
    {
     "name": "stdout",
     "output_type": "stream",
     "text": [
      "Number of unique geoids with NA values: 44\n",
      "Unique geoids with NA values:\n",
      "['17031320101' '17031320102' '17031330101' '17031330102' '17031330103'\n",
      " '17031380600' '17031460800' '17031490200' '17031612200' '17031630600'\n",
      " '17031803613' '17031803614' '17031803615' '17031803616' '17031804203'\n",
      " '17031804204' '17031804312' '17031804313' '17031804314' '17031804315'\n",
      " '17031804316' '17031804512' '17031804513' '17031804514' '17031806005'\n",
      " '17031806006' '17031809401' '17031809402' '17031820203' '17031820204'\n",
      " '17031824124' '17031824125' '17031824126' '17031824127' '17031824128'\n",
      " '17031824129' '17031824508' '17031824509' '17031828507' '17031828508'\n",
      " '17031829903' '17031829904' '17031844600' '17031844700']\n"
     ]
    }
   ],
   "source": [
    "# check for NA vals in each row and sum the number of NA values\n",
    "na_counts = gdf_annual.isna().sum(axis=1)\n",
    "\n",
    "# filter rows with NA values\n",
    "rows_with_na = gdf_annual[na_counts > 0]\n",
    "\n",
    "geoid_values_with_na = rows_with_na['geoid'].unique()\n",
    "\n",
    "# Print the count and the unique list of geoids with NA values\n",
    "print(f\"Number of unique geoids with NA values: {len(geoid_values_with_na)}\")\n",
    "print(\"Unique geoids with NA values:\")\n",
    "print(geoid_values_with_na)\n"
   ]
  },
  {
   "cell_type": "code",
   "execution_count": 10,
   "metadata": {
    "execution": {
     "iopub.execute_input": "2024-02-07T22:19:27.889048Z",
     "iopub.status.busy": "2024-02-07T22:19:27.889048Z",
     "iopub.status.idle": "2024-02-07T22:19:28.838445Z",
     "shell.execute_reply": "2024-02-07T22:19:28.837252Z"
    }
   },
   "outputs": [],
   "source": [
    "#populate NAs for geoids that are only missing *some* rows\n",
    "\n",
    "columns_to_fill = ['RPL_THEME1', 'RPL_THEME2', 'RPL_THEME3', 'RPL_THEME4', 'RPL_THEMES', 'E_TOTPOP']\n",
    "\n",
    "for geoid_value in geoid_values_with_na:\n",
    "    rows_for_geoid = gdf_annual[gdf_annual['geoid'] == geoid_value]\n",
    "    rows_with_values = rows_for_geoid.dropna(subset=columns_to_fill, how='any')\n",
    "    \n",
    "    if not rows_with_values.empty:\n",
    "        values_to_fill = rows_with_values.iloc[0][columns_to_fill].to_dict()\n",
    "    \n",
    "        gdf_annual.loc[gdf_annual['geoid'] == geoid_value, columns_to_fill] = gdf_annual.loc[\n",
    "            gdf_annual['geoid'] == geoid_value, columns_to_fill\n",
    "        ].fillna(values_to_fill)"
   ]
  },
  {
   "cell_type": "code",
   "execution_count": 11,
   "metadata": {
    "execution": {
     "iopub.execute_input": "2024-02-07T22:19:28.838445Z",
     "iopub.status.busy": "2024-02-07T22:19:28.838445Z",
     "iopub.status.idle": "2024-02-07T22:19:28.855190Z",
     "shell.execute_reply": "2024-02-07T22:19:28.854081Z"
    }
   },
   "outputs": [],
   "source": [
    "#rename columns to match MA\n",
    "\n",
    "old2new_cols_dict = {\n",
    "    'RPL_THEME1': 'svi_theme1_pctile',\n",
    "    'RPL_THEME2': 'svi_theme2_pctile',\n",
    "    'RPL_THEME3': 'svi_theme3_pctile',\n",
    "    'RPL_THEME4': 'svi_theme4_pctile',\n",
    "    'RPL_THEMES': 'svi_total_pctile',\n",
    "    'E_TOTPOP': 'pop'\n",
    "}\n",
    "\n",
    "gdf_annual.rename(columns=old2new_cols_dict, inplace=True)"
   ]
  },
  {
   "cell_type": "code",
   "execution_count": 12,
   "metadata": {
    "execution": {
     "iopub.execute_input": "2024-02-07T22:19:28.859523Z",
     "iopub.status.busy": "2024-02-07T22:19:28.859523Z",
     "iopub.status.idle": "2024-02-07T22:19:29.005476Z",
     "shell.execute_reply": "2024-02-07T22:19:29.005074Z"
    }
   },
   "outputs": [
    {
     "name": "stdout",
     "output_type": "stream",
     "text": [
      "GEOIDs with NAs:\n",
      "[]\n"
     ]
    }
   ],
   "source": [
    "#three geoids have NAs \n",
    "# ['17031381700' '17031980000' '17031980100']\n",
    "\n",
    "gdf_annual = gdf_annual.replace(-999.0000, np.nan)\n",
    "\n",
    "geoids_with_nas = gdf_annual[gdf_annual.isna().any(axis=1)]['geoid'].unique()\n",
    "print(\"GEOIDs with NAs:\")\n",
    "print(geoids_with_nas)"
   ]
  },
  {
   "cell_type": "markdown",
   "metadata": {},
   "source": [
    "### Add in SVI to gdf_quarter data frame"
   ]
  },
  {
   "cell_type": "code",
   "execution_count": 13,
   "metadata": {
    "execution": {
     "iopub.execute_input": "2024-02-07T22:19:29.011476Z",
     "iopub.status.busy": "2024-02-07T22:19:29.010486Z",
     "iopub.status.idle": "2024-02-07T22:19:29.037462Z",
     "shell.execute_reply": "2024-02-07T22:19:29.036463Z"
    }
   },
   "outputs": [],
   "source": [
    "#gdf_quarter\n",
    "#initalize new columns with NAs\n",
    "\n",
    "gdf_quarter = gdf_quarter.assign(\n",
    "    RPL_THEME1 = float('nan'),\n",
    "    RPL_THEME2 = float('nan'),\n",
    "    RPL_THEME3 = float('nan'),\n",
    "    RPL_THEME4 = float('nan'),\n",
    "    RPL_THEMES = float('nan'),\n",
    "    E_TOTPOP = float('nan'))"
   ]
  },
  {
   "cell_type": "code",
   "execution_count": 14,
   "metadata": {
    "execution": {
     "iopub.execute_input": "2024-02-07T22:19:29.038307Z",
     "iopub.status.busy": "2024-02-07T22:19:29.038307Z",
     "iopub.status.idle": "2024-02-07T22:19:44.495566Z",
     "shell.execute_reply": "2024-02-07T22:19:44.494140Z"
    }
   },
   "outputs": [],
   "source": [
    "#add in svi_2016 to gdf_quarter\n",
    "svi_2016['FIPS'] = svi_2016['FIPS'].astype(str)\n",
    "gdf_quarter['geoid'] = gdf_quarter['geoid'].str.strip()\n",
    "years_to_update = list(range(2015, 2017))\n",
    "\n",
    "# Iterate over each row in gdf_annual where 2015 <= year <= 2016\n",
    "for index, row in gdf_quarter[gdf_quarter['year'].isin(years_to_update)].iterrows():\n",
    "    geoid_value = row['geoid']\n",
    "    matching_row = svi_2016[svi_2016['FIPS'] == geoid_value]\n",
    "    \n",
    "    # If a matching row is found, update the corresponding columns in gdf_annual\n",
    "    if not matching_row.empty:\n",
    "        gdf_quarter.loc[index, 'RPL_THEME1'] = matching_row['RPL_THEME1'].values[0]\n",
    "        gdf_quarter.loc[index, 'RPL_THEME2'] = matching_row['RPL_THEME2'].values[0]\n",
    "        gdf_quarter.loc[index, 'RPL_THEME3'] = matching_row['RPL_THEME3'].values[0]\n",
    "        gdf_quarter.loc[index, 'RPL_THEME4'] = matching_row['RPL_THEME4'].values[0]\n",
    "        gdf_quarter.loc[index, 'RPL_THEMES'] = matching_row['RPL_THEMES'].values[0]\n",
    "        gdf_quarter.loc[index, 'E_TOTPOP'] = matching_row['E_TOTPOP'].values[0]"
   ]
  },
  {
   "cell_type": "code",
   "execution_count": 15,
   "metadata": {
    "execution": {
     "iopub.execute_input": "2024-02-07T22:19:44.501565Z",
     "iopub.status.busy": "2024-02-07T22:19:44.500565Z",
     "iopub.status.idle": "2024-02-07T22:20:01.335588Z",
     "shell.execute_reply": "2024-02-07T22:20:01.335588Z"
    }
   },
   "outputs": [],
   "source": [
    "#add in svi_2018 to gdf_quarter\n",
    "svi_2018['FIPS'] = svi_2018['FIPS'].astype(str)\n",
    "gdf_quarter['geoid'] = gdf_quarter['geoid'].str.strip()\n",
    "years_to_update = list(range(2017, 2019))\n",
    "\n",
    "# Iterate over each row in gdf_annual where 2017 <= year <= 2018\n",
    "for index, row in gdf_quarter[gdf_quarter['year'].isin(years_to_update)].iterrows():\n",
    "    geoid_value = row['geoid']\n",
    "    matching_row = svi_2018[svi_2018['FIPS'] == geoid_value]\n",
    "    \n",
    "    # If a matching row is found, update the corresponding columns in gdf_annual\n",
    "    if not matching_row.empty:\n",
    "        gdf_quarter.loc[index, 'RPL_THEME1'] = matching_row['RPL_THEME1'].values[0]\n",
    "        gdf_quarter.loc[index, 'RPL_THEME2'] = matching_row['RPL_THEME2'].values[0]\n",
    "        gdf_quarter.loc[index, 'RPL_THEME3'] = matching_row['RPL_THEME3'].values[0]\n",
    "        gdf_quarter.loc[index, 'RPL_THEME4'] = matching_row['RPL_THEME4'].values[0]\n",
    "        gdf_quarter.loc[index, 'RPL_THEMES'] = matching_row['RPL_THEMES'].values[0]\n",
    "        gdf_quarter.loc[index, 'E_TOTPOP'] = matching_row['E_TOTPOP'].values[0]"
   ]
  },
  {
   "cell_type": "code",
   "execution_count": 16,
   "metadata": {
    "execution": {
     "iopub.execute_input": "2024-02-07T22:20:01.340173Z",
     "iopub.status.busy": "2024-02-07T22:20:01.340173Z",
     "iopub.status.idle": "2024-02-07T22:20:37.896341Z",
     "shell.execute_reply": "2024-02-07T22:20:37.894794Z"
    }
   },
   "outputs": [],
   "source": [
    "#add in svi_2020 to gdf_quarter\n",
    "svi_2020['FIPS'] = svi_2020['FIPS'].astype(str)\n",
    "gdf_quarter['geoid'] = gdf_quarter['geoid'].str.strip()\n",
    "years_to_update = list(range(2019, 2023))\n",
    "\n",
    "# Iterate over each row in gdf_annual where 2019 <= year <= 2022\n",
    "for index, row in gdf_quarter[gdf_quarter['year'].isin(years_to_update)].iterrows():\n",
    "    geoid_value = row['geoid']\n",
    "    matching_row = svi_2020[svi_2020['FIPS'] == geoid_value]\n",
    "    \n",
    "    # If a matching row is found, update the corresponding columns in gdf_annual\n",
    "    if not matching_row.empty:\n",
    "        gdf_quarter.loc[index, 'RPL_THEME1'] = matching_row['RPL_THEME1'].values[0]\n",
    "        gdf_quarter.loc[index, 'RPL_THEME2'] = matching_row['RPL_THEME2'].values[0]\n",
    "        gdf_quarter.loc[index, 'RPL_THEME3'] = matching_row['RPL_THEME3'].values[0]\n",
    "        gdf_quarter.loc[index, 'RPL_THEME4'] = matching_row['RPL_THEME4'].values[0]\n",
    "        gdf_quarter.loc[index, 'RPL_THEMES'] = matching_row['RPL_THEMES'].values[0]\n",
    "        gdf_quarter.loc[index, 'E_TOTPOP'] = matching_row['E_TOTPOP'].values[0]"
   ]
  },
  {
   "cell_type": "code",
   "execution_count": 17,
   "metadata": {
    "execution": {
     "iopub.execute_input": "2024-02-07T22:20:37.898772Z",
     "iopub.status.busy": "2024-02-07T22:20:37.898772Z",
     "iopub.status.idle": "2024-02-07T22:20:37.927393Z",
     "shell.execute_reply": "2024-02-07T22:20:37.926237Z"
    }
   },
   "outputs": [],
   "source": [
    "#dropping census tracts with zero population (lake)\n",
    "gdf_quarter = gdf_quarter[~gdf_quarter['geoid'].isin(geoid_to_drop)]"
   ]
  },
  {
   "cell_type": "code",
   "execution_count": 18,
   "metadata": {
    "execution": {
     "iopub.execute_input": "2024-02-07T22:20:37.927790Z",
     "iopub.status.busy": "2024-02-07T22:20:37.927790Z",
     "iopub.status.idle": "2024-02-07T22:21:23.549880Z",
     "shell.execute_reply": "2024-02-07T22:21:23.548882Z"
    }
   },
   "outputs": [],
   "source": [
    "#populate NAs for GEOIDs that are only missing *some* rows\n",
    "na_counts = gdf_quarter.isna().sum(axis=1)\n",
    "rows_with_na = gdf_quarter[na_counts > 0]\n",
    "geoid_values_with_na = rows_with_na['geoid'].unique()\n",
    "\n",
    "columns_to_fill = ['RPL_THEME1', 'RPL_THEME2', 'RPL_THEME3', 'RPL_THEME4', 'RPL_THEMES', 'E_TOTPOP']\n",
    "\n",
    "for geoid_value in geoid_values_with_na:\n",
    "    rows_for_geoid = gdf_quarter[gdf_quarter['geoid'] == geoid_value]\n",
    "    rows_with_values = rows_for_geoid.dropna(subset=columns_to_fill, how='any')\n",
    "    \n",
    "    if not rows_with_values.empty:\n",
    "        values_to_fill = rows_with_values.iloc[0][columns_to_fill].to_dict()\n",
    "    \n",
    "        gdf_quarter.loc[gdf_quarter['geoid'] == geoid_value, columns_to_fill] = gdf_quarter.loc[\n",
    "            gdf_quarter['geoid'] == geoid_value, columns_to_fill\n",
    "        ].fillna(values_to_fill)"
   ]
  },
  {
   "cell_type": "code",
   "execution_count": 19,
   "metadata": {
    "execution": {
     "iopub.execute_input": "2024-02-07T22:21:23.555878Z",
     "iopub.status.busy": "2024-02-07T22:21:23.555878Z",
     "iopub.status.idle": "2024-02-07T22:21:23.564878Z",
     "shell.execute_reply": "2024-02-07T22:21:23.563877Z"
    }
   },
   "outputs": [],
   "source": [
    "#rename columns to match \n",
    "\n",
    "gdf_quarter.rename(columns=old2new_cols_dict, inplace=True)\n"
   ]
  },
  {
   "cell_type": "code",
   "execution_count": 20,
   "metadata": {
    "execution": {
     "iopub.execute_input": "2024-02-07T22:21:23.571958Z",
     "iopub.status.busy": "2024-02-07T22:21:23.570959Z",
     "iopub.status.idle": "2024-02-07T22:21:24.348370Z",
     "shell.execute_reply": "2024-02-07T22:21:24.347322Z"
    }
   },
   "outputs": [
    {
     "name": "stdout",
     "output_type": "stream",
     "text": [
      "geoid with NAs:\n",
      "['17031010100' '17031010201' '17031010202' ... '17031843900' '17031844600'\n",
      " '17031844700']\n"
     ]
    }
   ],
   "source": [
    "#three GEOIDs have NAs \n",
    "# ['17031381700' '17031980000' '17031980100']\n",
    "\n",
    "gdf_quarter = gdf_quarter.replace(-999.0000, np.nan)\n",
    "geoids_with_nas = gdf_quarter[gdf_quarter.isna().any(axis=1)]['geoid'].unique()\n",
    "print(\"geoid with NAs:\")\n",
    "print(geoids_with_nas)"
   ]
  },
  {
   "cell_type": "markdown",
   "metadata": {},
   "source": [
    "### Add in SVI to gdf_semi data frame"
   ]
  },
  {
   "cell_type": "code",
   "execution_count": 21,
   "metadata": {
    "execution": {
     "iopub.execute_input": "2024-02-07T22:21:24.353686Z",
     "iopub.status.busy": "2024-02-07T22:21:24.353686Z",
     "iopub.status.idle": "2024-02-07T22:21:24.381617Z",
     "shell.execute_reply": "2024-02-07T22:21:24.380526Z"
    }
   },
   "outputs": [],
   "source": [
    "#gdf_semi\n",
    "#initalize new columns with NAs\n",
    "\n",
    "gdf_semi = gdf_semi.assign(\n",
    "    RPL_THEME1 = float('nan'),\n",
    "    RPL_THEME2 = float('nan'),\n",
    "    RPL_THEME3 = float('nan'),\n",
    "    RPL_THEME4 = float('nan'),\n",
    "    RPL_THEMES = float('nan'),\n",
    "    E_TOTPOP = float('nan'))"
   ]
  },
  {
   "cell_type": "code",
   "execution_count": 22,
   "metadata": {
    "execution": {
     "iopub.execute_input": "2024-02-07T22:21:24.383627Z",
     "iopub.status.busy": "2024-02-07T22:21:24.383627Z",
     "iopub.status.idle": "2024-02-07T22:21:32.513480Z",
     "shell.execute_reply": "2024-02-07T22:21:32.509075Z"
    }
   },
   "outputs": [],
   "source": [
    "#add in svi_2016 to gdf_semi\n",
    "svi_2016['FIPS'] = svi_2016['FIPS'].astype(str)\n",
    "gdf_semi['geoid'] = gdf_semi['geoid'].str.strip()\n",
    "years_to_update = list(range(2015, 2017))\n",
    "\n",
    "# Iterate over each row in gdf_annual where 2015 <= year <= 2016\n",
    "for index, row in gdf_semi[gdf_semi['year'].isin(years_to_update)].iterrows():\n",
    "    geoid_value = row['geoid']\n",
    "    matching_row = svi_2016[svi_2016['FIPS'] == geoid_value]\n",
    "    \n",
    "    # If a matching row is found, update the corresponding columns in gdf_annual\n",
    "    if not matching_row.empty:\n",
    "        gdf_semi.loc[index, 'RPL_THEME1'] = matching_row['RPL_THEME1'].values[0]\n",
    "        gdf_semi.loc[index, 'RPL_THEME2'] = matching_row['RPL_THEME2'].values[0]\n",
    "        gdf_semi.loc[index, 'RPL_THEME3'] = matching_row['RPL_THEME3'].values[0]\n",
    "        gdf_semi.loc[index, 'RPL_THEME4'] = matching_row['RPL_THEME4'].values[0]\n",
    "        gdf_semi.loc[index, 'RPL_THEMES'] = matching_row['RPL_THEMES'].values[0]\n",
    "        gdf_semi.loc[index, 'E_TOTPOP'] = matching_row['E_TOTPOP'].values[0]"
   ]
  },
  {
   "cell_type": "code",
   "execution_count": 23,
   "metadata": {
    "execution": {
     "iopub.execute_input": "2024-02-07T22:21:32.519475Z",
     "iopub.status.busy": "2024-02-07T22:21:32.519475Z",
     "iopub.status.idle": "2024-02-07T22:22:02.070101Z",
     "shell.execute_reply": "2024-02-07T22:22:02.068131Z"
    }
   },
   "outputs": [],
   "source": [
    "#add in svi_2018 to gdf_semi\n",
    "svi_2018['FIPS'] = svi_2018['FIPS'].astype(str)\n",
    "gdf_semi['geoid'] = gdf_semi['geoid'].str.strip()\n",
    "years_to_update = list(range(2017, 2019))\n",
    "\n",
    "# Iterate over each row in gdf_annual where 2017 <= year <= 2018\n",
    "for index, row in gdf_semi[gdf_semi['year'].isin(years_to_update)].iterrows():\n",
    "    geoid_value = row['geoid']\n",
    "    matching_row = svi_2018[svi_2018['FIPS'] == geoid_value]\n",
    "    \n",
    "    # If a matching row is found, update the corresponding columns in gdf_annual\n",
    "    if not matching_row.empty:\n",
    "        gdf_semi.loc[index, 'RPL_THEME1'] = matching_row['RPL_THEME1'].values[0]\n",
    "        gdf_semi.loc[index, 'RPL_THEME2'] = matching_row['RPL_THEME2'].values[0]\n",
    "        gdf_semi.loc[index, 'RPL_THEME3'] = matching_row['RPL_THEME3'].values[0]\n",
    "        gdf_semi.loc[index, 'RPL_THEME4'] = matching_row['RPL_THEME4'].values[0]\n",
    "        gdf_semi.loc[index, 'RPL_THEMES'] = matching_row['RPL_THEMES'].values[0]\n",
    "        gdf_semi.loc[index, 'E_TOTPOP'] = matching_row['E_TOTPOP'].values[0]"
   ]
  },
  {
   "cell_type": "code",
   "execution_count": 24,
   "metadata": {
    "execution": {
     "iopub.execute_input": "2024-02-07T22:22:02.095097Z",
     "iopub.status.busy": "2024-02-07T22:22:02.094098Z",
     "iopub.status.idle": "2024-02-07T22:22:46.761765Z",
     "shell.execute_reply": "2024-02-07T22:22:46.760765Z"
    }
   },
   "outputs": [],
   "source": [
    "#add in svi_2020 to gdf_semi\n",
    "svi_2020['FIPS'] = svi_2020['FIPS'].astype(str)\n",
    "gdf_semi['geoid'] = gdf_semi['geoid'].str.strip()\n",
    "years_to_update = list(range(2019, 2023))\n",
    "\n",
    "# Iterate over each row in gdf_annual where 2019 <= year <= 2022\n",
    "for index, row in gdf_semi[gdf_semi['year'].isin(years_to_update)].iterrows():\n",
    "    geoid_value = row['geoid']\n",
    "    matching_row = svi_2020[svi_2020['FIPS'] == geoid_value]\n",
    "    \n",
    "    # If a matching row is found, update the corresponding columns in gdf_annual\n",
    "    if not matching_row.empty:\n",
    "        gdf_semi.loc[index, 'RPL_THEME1'] = matching_row['RPL_THEME1'].values[0]\n",
    "        gdf_semi.loc[index, 'RPL_THEME2'] = matching_row['RPL_THEME2'].values[0]\n",
    "        gdf_semi.loc[index, 'RPL_THEME3'] = matching_row['RPL_THEME3'].values[0]\n",
    "        gdf_semi.loc[index, 'RPL_THEME4'] = matching_row['RPL_THEME4'].values[0]\n",
    "        gdf_semi.loc[index, 'RPL_THEMES'] = matching_row['RPL_THEMES'].values[0]\n",
    "        gdf_semi.loc[index, 'E_TOTPOP'] = matching_row['E_TOTPOP'].values[0]"
   ]
  },
  {
   "cell_type": "code",
   "execution_count": 25,
   "metadata": {
    "execution": {
     "iopub.execute_input": "2024-02-07T22:22:46.769038Z",
     "iopub.status.busy": "2024-02-07T22:22:46.768039Z",
     "iopub.status.idle": "2024-02-07T22:22:46.796570Z",
     "shell.execute_reply": "2024-02-07T22:22:46.794873Z"
    }
   },
   "outputs": [],
   "source": [
    "#dropping census tracts with zero population (lake)\n",
    "gdf_semi = gdf_semi[~gdf_semi['geoid'].isin(geoid_to_drop)]"
   ]
  },
  {
   "cell_type": "code",
   "execution_count": 26,
   "metadata": {
    "execution": {
     "iopub.execute_input": "2024-02-07T22:22:46.802660Z",
     "iopub.status.busy": "2024-02-07T22:22:46.801663Z",
     "iopub.status.idle": "2024-02-07T22:22:47.528699Z",
     "shell.execute_reply": "2024-02-07T22:22:47.527756Z"
    }
   },
   "outputs": [],
   "source": [
    "#populate NAs for GEOIDs that are only missing *some* rows\n",
    "na_counts = gdf_semi.isna().sum(axis=1)\n",
    "rows_with_na = gdf_semi[na_counts > 0]\n",
    "geoid_values_with_na = rows_with_na['geoid'].unique()\n",
    "\n",
    "columns_to_fill = ['RPL_THEME1', 'RPL_THEME2', 'RPL_THEME3', 'RPL_THEME4', 'RPL_THEMES', 'E_TOTPOP']\n",
    "\n",
    "for geoid_value in geoid_values_with_na:\n",
    "    rows_for_geoid = gdf_semi[gdf_semi['geoid'] == geoid_value]\n",
    "    rows_with_values = rows_for_geoid.dropna(subset=columns_to_fill, how='any')\n",
    "    \n",
    "    if not rows_with_values.empty:\n",
    "        values_to_fill = rows_with_values.iloc[0][columns_to_fill].to_dict()\n",
    "    \n",
    "        gdf_semi.loc[gdf_semi['geoid'] == geoid_value, columns_to_fill] = gdf_semi.loc[\n",
    "            gdf_semi['geoid'] == geoid_value, columns_to_fill\n",
    "        ].fillna(values_to_fill)"
   ]
  },
  {
   "cell_type": "code",
   "execution_count": 27,
   "metadata": {
    "execution": {
     "iopub.execute_input": "2024-02-07T22:22:47.528699Z",
     "iopub.status.busy": "2024-02-07T22:22:47.528699Z",
     "iopub.status.idle": "2024-02-07T22:22:47.545896Z",
     "shell.execute_reply": "2024-02-07T22:22:47.544430Z"
    }
   },
   "outputs": [],
   "source": [
    "#rename columns to match \n",
    "\n",
    "gdf_semi.rename(columns=old2new_cols_dict, inplace=True)"
   ]
  },
  {
   "cell_type": "code",
   "execution_count": 28,
   "metadata": {
    "execution": {
     "iopub.execute_input": "2024-02-07T22:22:47.548681Z",
     "iopub.status.busy": "2024-02-07T22:22:47.548681Z",
     "iopub.status.idle": "2024-02-07T22:22:47.796943Z",
     "shell.execute_reply": "2024-02-07T22:22:47.795940Z"
    }
   },
   "outputs": [
    {
     "name": "stdout",
     "output_type": "stream",
     "text": [
      "GEOIDs with NAs:\n",
      "[]\n"
     ]
    }
   ],
   "source": [
    "#three GEOIDs have NAs \n",
    "# ['17031381700' '17031980000' '17031980100']\n",
    "\n",
    "gdf_semi = gdf_semi.replace(-999.0000, np.nan)\n",
    "geoids_with_nas = gdf_semi[gdf_semi.isna().any(axis=1)]['geoid'].unique()\n",
    "print(\"GEOIDs with NAs:\")\n",
    "print(geoids_with_nas)"
   ]
  },
  {
   "cell_type": "markdown",
   "metadata": {},
   "source": [
    "### Checking NAs, etc"
   ]
  },
  {
   "cell_type": "code",
   "execution_count": 29,
   "metadata": {
    "execution": {
     "iopub.execute_input": "2024-02-07T22:22:47.800941Z",
     "iopub.status.busy": "2024-02-07T22:22:47.799939Z",
     "iopub.status.idle": "2024-02-07T22:22:47.946012Z",
     "shell.execute_reply": "2024-02-07T22:22:47.944327Z"
    }
   },
   "outputs": [
    {
     "name": "stdout",
     "output_type": "stream",
     "text": [
      "Number of NAs in each column:\n",
      "                   gdf_annual  gdf_semi  gdf_quarter\n",
      "geoid                     0.0       0.0            0\n",
      "timestep                  0.0       0.0            0\n",
      "year_frac                 0.0       0.0            0\n",
      "deaths                    0.0       0.0            0\n",
      "year                      0.0       0.0            0\n",
      "INTPTLAT                  0.0       0.0            0\n",
      "INTPTLON                  0.0       0.0            0\n",
      "STATEFP                   0.0       0.0            0\n",
      "COUNTYFP                  0.0       0.0            0\n",
      "TRACTCE                   0.0       0.0            0\n",
      "NAME                      0.0       0.0            0\n",
      "NAMELSAD                  0.0       0.0            0\n",
      "MTFCC                     0.0       0.0            0\n",
      "FUNCSTAT                  0.0       0.0            0\n",
      "ALAND                     0.0       0.0            0\n",
      "AWATER                    0.0       0.0            0\n",
      "geometry                  0.0       0.0            0\n",
      "svi_theme1_pctile         0.0       0.0            0\n",
      "svi_theme2_pctile         0.0       0.0            0\n",
      "svi_theme3_pctile         0.0       0.0            0\n",
      "svi_theme4_pctile         0.0       0.0            0\n",
      "svi_total_pctile          0.0       0.0            0\n",
      "pop                       0.0       0.0            0\n",
      "semiannual                NaN       0.0            0\n",
      "season                    NaN       0.0        42496\n",
      "quarter                   NaN       NaN            0\n",
      "\n",
      "Total number of NAs:\n",
      "gdf_annual: 0\n",
      "gdf_semi: 0\n",
      "gdf_quarter: 42496\n"
     ]
    }
   ],
   "source": [
    "# Count the number of NAs in each DataFrame\n",
    "na_counts_annual = gdf_annual.isna().sum()\n",
    "na_counts_semi = gdf_semi.isna().sum()\n",
    "na_counts_quarter = gdf_quarter.isna().sum()\n",
    "\n",
    "# Concatenate the na_counts Series horizontally\n",
    "na_counts_combined = pd.concat([na_counts_annual, na_counts_semi, na_counts_quarter], axis=1)\n",
    "na_counts_combined.columns = ['gdf_annual', 'gdf_semi', 'gdf_quarter']\n",
    "\n",
    "# Total number of NAs in each DataFrame\n",
    "total_na_count_annual = gdf_annual.isna().sum().sum()\n",
    "total_na_count_semi = gdf_semi.isna().sum().sum()\n",
    "total_na_count_quarter = gdf_quarter.isna().sum().sum()\n",
    "\n",
    "# Print the results\n",
    "print(\"Number of NAs in each column:\")\n",
    "print(na_counts_combined)\n",
    "\n",
    "print(\"\\nTotal number of NAs:\")\n",
    "print(\"gdf_annual:\", total_na_count_annual)\n",
    "print(\"gdf_semi:\", total_na_count_semi)\n",
    "print(\"gdf_quarter:\", total_na_count_quarter)\n"
   ]
  },
  {
   "cell_type": "markdown",
   "metadata": {},
   "source": [
    "### Write to CSV files on disk"
   ]
  },
  {
   "cell_type": "code",
   "execution_count": 30,
   "metadata": {
    "execution": {
     "iopub.execute_input": "2024-02-07T22:22:47.949645Z",
     "iopub.status.busy": "2024-02-07T22:22:47.948645Z",
     "iopub.status.idle": "2024-02-07T22:22:47.995666Z",
     "shell.execute_reply": "2024-02-07T22:22:47.994265Z"
    }
   },
   "outputs": [],
   "source": [
    "a_cols = 'geoid,timestep,year_frac,deaths,year'.split(',')\n",
    "s_cols = 'geoid,timestep,year_frac,deaths,year,semiannual,season'.split(',')\n",
    "q_cols = 'geoid,timestep,year_frac,deaths,year,semiannual,quarter,season'.split(',')\n",
    "svi_cols = 'svi_theme1_pctile,svi_theme2_pctile,svi_theme3_pctile,svi_theme4_pctile,svi_total_pctile,pop'.split(',')\n",
    "geo_cols = 'INTPTLAT,INTPTLON,STATEFP,COUNTYFP,TRACTCE,NAME,NAMELSAD,MTFCC,FUNCSTAT,ALAND,AWATER,geometry'.split(',')\n",
    "\n",
    "# Reorder cols to make human readable\n",
    "gdf_annual = gdf_annual[a_cols + svi_cols + geo_cols].copy()\n",
    "gdf_semi = gdf_semi[s_cols + svi_cols + geo_cols].copy()\n",
    "gdf_quarter = gdf_quarter[q_cols + svi_cols + geo_cols].copy()\n"
   ]
  },
  {
   "cell_type": "code",
   "execution_count": 31,
   "metadata": {
    "execution": {
     "iopub.execute_input": "2024-02-07T22:22:47.999668Z",
     "iopub.status.busy": "2024-02-07T22:22:47.999668Z",
     "iopub.status.idle": "2024-02-07T22:23:12.729371Z",
     "shell.execute_reply": "2024-02-07T22:23:12.729371Z"
    }
   },
   "outputs": [],
   "source": [
    "gdf_annual.to_csv(f'{data_dir}/cook_county_gdf_cleanwithsvi_year.csv', index=False)\n",
    "gdf_semi.to_csv(f'{data_dir}/cook_county_gdf_cleanwithsvi_semiannual.csv', index=False)\n",
    "gdf_quarter.to_csv(f'{data_dir}/cook_county_gdf_cleanwithsvi_quarterly.csv', index=False)"
   ]
  },
  {
   "cell_type": "code",
   "execution_count": 32,
   "metadata": {
    "execution": {
     "iopub.execute_input": "2024-02-07T22:23:12.729371Z",
     "iopub.status.busy": "2024-02-07T22:23:12.729371Z",
     "iopub.status.idle": "2024-02-07T22:24:29.430630Z",
     "shell.execute_reply": "2024-02-07T22:24:29.429339Z"
    }
   },
   "outputs": [
    {
     "name": "stderr",
     "output_type": "stream",
     "text": [
      "C:\\Users\\Thinkpad\\AppData\\Local\\Temp\\ipykernel_7496\\473930840.py:1: UserWarning: Column names longer than 10 characters will be truncated when saved to ESRI Shapefile.\n",
      "  gdf_annual.to_file(f'{data_dir}/cook_county_gdf_cleanwithsvi_year', index=False)\n"
     ]
    },
    {
     "name": "stderr",
     "output_type": "stream",
     "text": [
      "C:\\Users\\Thinkpad\\AppData\\Local\\Temp\\ipykernel_7496\\473930840.py:2: UserWarning: Column names longer than 10 characters will be truncated when saved to ESRI Shapefile.\n",
      "  gdf_semi.to_file(f'{data_dir}/cook_county_gdf_cleanwithsvi_semiannual', index=False)\n"
     ]
    },
    {
     "name": "stderr",
     "output_type": "stream",
     "text": [
      "C:\\Users\\Thinkpad\\AppData\\Local\\Temp\\ipykernel_7496\\473930840.py:3: UserWarning: Column names longer than 10 characters will be truncated when saved to ESRI Shapefile.\n",
      "  gdf_quarter.to_file(f'{data_dir}/cook_county_gdf_cleanwithsvi_quarterly', index=False)\n"
     ]
    }
   ],
   "source": [
    "gdf_annual.to_file(f'{data_dir}/cook_county_gdf_cleanwithsvi_year', index=False)\n",
    "gdf_semi.to_file(f'{data_dir}/cook_county_gdf_cleanwithsvi_semiannual', index=False)\n",
    "gdf_quarter.to_file(f'{data_dir}/cook_county_gdf_cleanwithsvi_quarterly', index=False)"
   ]
  },
  {
   "cell_type": "code",
   "execution_count": null,
   "metadata": {},
   "outputs": [],
   "source": []
  }
 ],
 "metadata": {
  "kernelspec": {
   "display_name": "Python 3 (ipykernel)",
   "language": "python",
   "name": "python3"
  },
  "language_info": {
   "codemirror_mode": {
    "name": "ipython",
    "version": 3
   },
   "file_extension": ".py",
   "mimetype": "text/x-python",
   "name": "python",
   "nbconvert_exporter": "python",
   "pygments_lexer": "ipython3",
   "version": "3.9.12"
  }
 },
 "nbformat": 4,
 "nbformat_minor": 4
}
