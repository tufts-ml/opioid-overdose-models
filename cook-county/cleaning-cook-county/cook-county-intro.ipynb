{
 "cells": [
  {
   "cell_type": "code",
   "execution_count": 1,
   "id": "258436df",
   "metadata": {
    "execution": {
     "iopub.execute_input": "2024-02-07T22:15:04.812607Z",
     "iopub.status.busy": "2024-02-07T22:15:04.811607Z",
     "iopub.status.idle": "2024-02-07T22:15:07.438073Z",
     "shell.execute_reply": "2024-02-07T22:15:07.436984Z"
    }
   },
   "outputs": [
    {
     "name": "stderr",
     "output_type": "stream",
     "text": [
      "C:\\Users\\Thinkpad\\anaconda3\\lib\\site-packages\\scipy\\__init__.py:146: UserWarning: A NumPy version >=1.16.5 and <1.23.0 is required for this version of SciPy (detected version 1.24.3\n",
      "  warnings.warn(f\"A NumPy version >={np_minversion} and <{np_maxversion}\"\n"
     ]
    }
   ],
   "source": [
    "import numpy as np\n",
    "import matplotlib.pyplot as plt\n",
    "import os\n",
    "#import seaborn as sns\n",
    "import pandas as pd\n",
    "import sklearn\n",
    "import sys"
   ]
  },
  {
   "cell_type": "code",
   "execution_count": 2,
   "id": "6df8f396",
   "metadata": {
    "execution": {
     "iopub.execute_input": "2024-02-07T22:15:07.438073Z",
     "iopub.status.busy": "2024-02-07T22:15:07.438073Z",
     "iopub.status.idle": "2024-02-07T22:15:07.605084Z",
     "shell.execute_reply": "2024-02-07T22:15:07.603776Z"
    }
   },
   "outputs": [],
   "source": [
    "#user should replace with their directory\n",
    "data_dir = os.environ.get('DATA_DIR',)\n",
    "\n",
    "# construct the path to the data directory relative to the script\n",
    "#data_dir = os.path.join(user_dir, )\n",
    "\n",
    "# Download from https://hub-cookcountyil.opendata.arcgis.com/datasets/4f7cc9f13542463c89b2055afd4a6dc1_0/explore?filters=eyJPUElPSURfUkVMQVRFRCI6WyJZZXMiXX0%3D\n",
    "# or https://maps.cookcountyil.gov/medexammaps/\n",
    "\n",
    "csv_path = os.path.join(data_dir, 'cook-county-opioid.csv') #csv located on cluster\n",
    "d = pd.read_csv(csv_path)\n"
   ]
  },
  {
   "cell_type": "markdown",
   "id": "71007dce",
   "metadata": {},
   "source": [
    "## Working with dates"
   ]
  },
  {
   "cell_type": "code",
   "execution_count": 3,
   "id": "5c25c7a3",
   "metadata": {
    "execution": {
     "iopub.execute_input": "2024-02-07T22:15:07.608087Z",
     "iopub.status.busy": "2024-02-07T22:15:07.608087Z",
     "iopub.status.idle": "2024-02-07T22:15:07.637935Z",
     "shell.execute_reply": "2024-02-07T22:15:07.636827Z"
    }
   },
   "outputs": [],
   "source": [
    "d[\"DEATH_DATE\"] = pd.to_datetime(d[\"DEATH_DATE\"])"
   ]
  },
  {
   "cell_type": "code",
   "execution_count": 4,
   "id": "1302ecb9",
   "metadata": {
    "execution": {
     "iopub.execute_input": "2024-02-07T22:15:07.637935Z",
     "iopub.status.busy": "2024-02-07T22:15:07.637935Z",
     "iopub.status.idle": "2024-02-07T22:15:07.671327Z",
     "shell.execute_reply": "2024-02-07T22:15:07.670083Z"
    }
   },
   "outputs": [
    {
     "data": {
      "text/plain": [
       "datetime.date(2023, 7, 27)"
      ]
     },
     "execution_count": 4,
     "metadata": {},
     "output_type": "execute_result"
    }
   ],
   "source": [
    "d[\"DEATH_DATE\"].dt.date.min()\n",
    "d[\"DEATH_DATE\"].dt.date.max()"
   ]
  },
  {
   "cell_type": "code",
   "execution_count": 5,
   "id": "0987abbb",
   "metadata": {
    "execution": {
     "iopub.execute_input": "2024-02-07T22:15:07.674718Z",
     "iopub.status.busy": "2024-02-07T22:15:07.674718Z",
     "iopub.status.idle": "2024-02-07T22:15:07.688133Z",
     "shell.execute_reply": "2024-02-07T22:15:07.686789Z"
    }
   },
   "outputs": [],
   "source": [
    "#write a function to get nonparsable dates\n",
    "\n",
    "from dateutil.parser import parse\n",
    "\n",
    "def get_non_parsable_dates(d, column):\n",
    "    non_parsable_dates = []\n",
    "    for date_value in d[column]:\n",
    "        try:\n",
    "            pd.to_datetime(str(date_value))\n",
    "        except ValueError:\n",
    "            non_parsable_dates.append(date_value)\n",
    "    return non_parsable_dates"
   ]
  },
  {
   "cell_type": "code",
   "execution_count": 6,
   "id": "9701d764",
   "metadata": {
    "execution": {
     "iopub.execute_input": "2024-02-07T22:15:07.689438Z",
     "iopub.status.busy": "2024-02-07T22:15:07.689438Z",
     "iopub.status.idle": "2024-02-07T22:15:08.604368Z",
     "shell.execute_reply": "2024-02-07T22:15:08.603007Z"
    }
   },
   "outputs": [],
   "source": [
    "non_parsable_dates = get_non_parsable_dates(d, \"INCIDENT_DATE\")\n",
    "d = d[~d['INCIDENT_DATE'].isin(non_parsable_dates)].reset_index(drop=True)\n",
    "d[\"INCIDENT_DATE\"] = pd.to_datetime(d[\"INCIDENT_DATE\"])"
   ]
  },
  {
   "cell_type": "code",
   "execution_count": 7,
   "id": "47045499",
   "metadata": {
    "execution": {
     "iopub.execute_input": "2024-02-07T22:15:08.609365Z",
     "iopub.status.busy": "2024-02-07T22:15:08.609365Z",
     "iopub.status.idle": "2024-02-07T22:15:08.618366Z",
     "shell.execute_reply": "2024-02-07T22:15:08.618366Z"
    }
   },
   "outputs": [],
   "source": [
    "def get_non_date_values(d, column_name):\n",
    "    li = [x for x in d[column_name] if not isinstance(x, pd.Timestamp)]\n",
    "    non_date_values = [x for x in d[column_name] if x in li]\n",
    "    return non_date_values"
   ]
  },
  {
   "cell_type": "code",
   "execution_count": 8,
   "id": "e595825e",
   "metadata": {
    "execution": {
     "iopub.execute_input": "2024-02-07T22:15:08.624135Z",
     "iopub.status.busy": "2024-02-07T22:15:08.623132Z",
     "iopub.status.idle": "2024-02-07T22:15:08.737248Z",
     "shell.execute_reply": "2024-02-07T22:15:08.736115Z"
    }
   },
   "outputs": [
    {
     "data": {
      "text/plain": [
       "128"
      ]
     },
     "execution_count": 8,
     "metadata": {},
     "output_type": "execute_result"
    }
   ],
   "source": [
    "non_date_values = get_non_date_values(d, 'INCIDENT_DATE')\n",
    "len(non_date_values) #we have 124 NaT values"
   ]
  },
  {
   "cell_type": "code",
   "execution_count": 9,
   "id": "f7ce2291",
   "metadata": {
    "execution": {
     "iopub.execute_input": "2024-02-07T22:15:08.737248Z",
     "iopub.status.busy": "2024-02-07T22:15:08.737248Z",
     "iopub.status.idle": "2024-02-07T22:15:08.756219Z",
     "shell.execute_reply": "2024-02-07T22:15:08.752976Z"
    }
   },
   "outputs": [
    {
     "data": {
      "text/plain": [
       "0        0 days 10:10:00\n",
       "1        0 days 00:30:00\n",
       "2        0 days 14:30:00\n",
       "3        0 days 01:40:00\n",
       "4        0 days 00:54:00\n",
       "              ...       \n",
       "12315   19 days 08:49:00\n",
       "12316    3 days 16:58:00\n",
       "12317    9 days 19:32:00\n",
       "12318    4 days 18:58:00\n",
       "12319    6 days 01:46:00\n",
       "Name: Time_Difference, Length: 12320, dtype: timedelta64[ns]"
      ]
     },
     "execution_count": 9,
     "metadata": {},
     "output_type": "execute_result"
    }
   ],
   "source": [
    "# Calculate the time difference between death and incident and create a new column\n",
    "d['Time_Difference'] = d['DEATH_DATE'] - d['INCIDENT_DATE']\n",
    "d['Time_Difference']"
   ]
  },
  {
   "cell_type": "code",
   "execution_count": 10,
   "id": "68e531dc",
   "metadata": {
    "execution": {
     "iopub.execute_input": "2024-02-07T22:15:08.764615Z",
     "iopub.status.busy": "2024-02-07T22:15:08.764615Z",
     "iopub.status.idle": "2024-02-07T22:15:08.789578Z",
     "shell.execute_reply": "2024-02-07T22:15:08.786440Z"
    }
   },
   "outputs": [],
   "source": [
    "arr = np.percentile(d['Time_Difference'], [10,50,90, 95])"
   ]
  },
  {
   "cell_type": "code",
   "execution_count": 11,
   "id": "687a3237",
   "metadata": {
    "execution": {
     "iopub.execute_input": "2024-02-07T22:15:08.790156Z",
     "iopub.status.busy": "2024-02-07T22:15:08.790156Z",
     "iopub.status.idle": "2024-02-07T22:15:08.822769Z",
     "shell.execute_reply": "2024-02-07T22:15:08.819851Z"
    }
   },
   "outputs": [
    {
     "data": {
      "text/plain": [
       "array([1.00000000e-01, 4.16666667e-01, 2.04200000e+01, 1.14584722e+02])"
      ]
     },
     "execution_count": 11,
     "metadata": {},
     "output_type": "execute_result"
    }
   ],
   "source": [
    "arr.astype('timedelta64[s]').astype(\"int64\")/3600"
   ]
  },
  {
   "cell_type": "markdown",
   "id": "ed5dbf83",
   "metadata": {},
   "source": [
    "## Download Census Tract Information"
   ]
  },
  {
   "cell_type": "code",
   "execution_count": null,
   "id": "47a6a26c",
   "metadata": {},
   "outputs": [],
   "source": []
  },
  {
   "cell_type": "code",
   "execution_count": 12,
   "id": "01ac804a",
   "metadata": {
    "execution": {
     "iopub.execute_input": "2024-02-07T22:15:08.832819Z",
     "iopub.status.busy": "2024-02-07T22:15:08.831776Z",
     "iopub.status.idle": "2024-02-07T22:15:21.212854Z",
     "shell.execute_reply": "2024-02-07T22:15:21.211394Z"
    }
   },
   "outputs": [],
   "source": [
    "import geopandas as gpd\n",
    "from shapely.geometry import Point\n",
    "\n",
    "# Load census tract shapefile\n",
    "shapefile_dir = os.path.join(data_dir, 'shapefiles')  #shapefiles are on cluster\n",
    "me_shape_path = os.path.join(shapefile_dir, 'ME_Cook/Medical_Examiner_Case_Archive%2C_2014_to_present.shp')\n",
    "tl_shape_path = os.path.join(shapefile_dir, 'tl_2021_17_tract/tl_2021_17_tract.shp')\n",
    "\n",
    "me_gdf = gpd.read_file(me_shape_path)\n",
    "tl_gdf = gpd.read_file(tl_shape_path)\n",
    "\n",
    "me_gdf.to_crs(tl_gdf.crs, inplace=True)"
   ]
  },
  {
   "cell_type": "code",
   "execution_count": 13,
   "id": "70649cf9",
   "metadata": {
    "execution": {
     "iopub.execute_input": "2024-02-07T22:15:21.215515Z",
     "iopub.status.busy": "2024-02-07T22:15:21.215515Z",
     "iopub.status.idle": "2024-02-07T22:15:22.262085Z",
     "shell.execute_reply": "2024-02-07T22:15:22.260720Z"
    }
   },
   "outputs": [
    {
     "data": {
      "text/plain": [
       "<AxesSubplot:>"
      ]
     },
     "execution_count": 13,
     "metadata": {},
     "output_type": "execute_result"
    },
    {
     "data": {
      "image/png": "[encoded data removed]",
      "text/plain": [
       "<Figure size 432x288 with 1 Axes>"
      ]
     },
     "metadata": {
      "needs_background": "light"
     },
     "output_type": "display_data"
    }
   ],
   "source": [
    "tl_gdf.plot()"
   ]
  },
  {
   "cell_type": "code",
   "execution_count": 14,
   "id": "6b666f5c",
   "metadata": {
    "execution": {
     "iopub.execute_input": "2024-02-07T22:15:22.265428Z",
     "iopub.status.busy": "2024-02-07T22:15:22.264423Z",
     "iopub.status.idle": "2024-02-07T22:15:22.328632Z",
     "shell.execute_reply": "2024-02-07T22:15:22.327541Z"
    }
   },
   "outputs": [
    {
     "data": {
      "text/html": [
       "<div>\n",
       "<style scoped>\n",
       "    .dataframe tbody tr th:only-of-type {\n",
       "        vertical-align: middle;\n",
       "    }\n",
       "\n",
       "    .dataframe tbody tr th {\n",
       "        vertical-align: top;\n",
       "    }\n",
       "\n",
       "    .dataframe thead th {\n",
       "        text-align: right;\n",
       "    }\n",
       "</style>\n",
       "<table border=\"1\" class=\"dataframe\">\n",
       "  <thead>\n",
       "    <tr style=\"text-align: right;\">\n",
       "      <th></th>\n",
       "      <th>STATEFP</th>\n",
       "      <th>COUNTYFP</th>\n",
       "      <th>TRACTCE</th>\n",
       "      <th>GEOID</th>\n",
       "      <th>NAME</th>\n",
       "      <th>NAMELSAD</th>\n",
       "      <th>MTFCC</th>\n",
       "      <th>FUNCSTAT</th>\n",
       "      <th>ALAND</th>\n",
       "      <th>AWATER</th>\n",
       "      <th>INTPTLAT</th>\n",
       "      <th>INTPTLON</th>\n",
       "      <th>geometry</th>\n",
       "    </tr>\n",
       "  </thead>\n",
       "  <tbody>\n",
       "    <tr>\n",
       "      <th>0</th>\n",
       "      <td>17</td>\n",
       "      <td>047</td>\n",
       "      <td>957100</td>\n",
       "      <td>17047957100</td>\n",
       "      <td>9571</td>\n",
       "      <td>Census Tract 9571</td>\n",
       "      <td>G5020</td>\n",
       "      <td>S</td>\n",
       "      <td>17502924</td>\n",
       "      <td>151254</td>\n",
       "      <td>+38.3810609</td>\n",
       "      <td>-088.0566832</td>\n",
       "      <td>POLYGON ((-88.10244 38.39351, -88.10232 38.393...</td>\n",
       "    </tr>\n",
       "    <tr>\n",
       "      <th>1</th>\n",
       "      <td>17</td>\n",
       "      <td>047</td>\n",
       "      <td>956900</td>\n",
       "      <td>17047956900</td>\n",
       "      <td>9569</td>\n",
       "      <td>Census Tract 9569</td>\n",
       "      <td>G5020</td>\n",
       "      <td>S</td>\n",
       "      <td>289722767</td>\n",
       "      <td>430838</td>\n",
       "      <td>+38.4939617</td>\n",
       "      <td>-088.0440563</td>\n",
       "      <td>POLYGON ((-88.14857 38.46782, -88.14856 38.468...</td>\n",
       "    </tr>\n",
       "    <tr>\n",
       "      <th>2</th>\n",
       "      <td>17</td>\n",
       "      <td>167</td>\n",
       "      <td>003901</td>\n",
       "      <td>17167003901</td>\n",
       "      <td>39.01</td>\n",
       "      <td>Census Tract 39.01</td>\n",
       "      <td>G5020</td>\n",
       "      <td>S</td>\n",
       "      <td>107283391</td>\n",
       "      <td>1202385</td>\n",
       "      <td>+39.6960595</td>\n",
       "      <td>-089.5296888</td>\n",
       "      <td>POLYGON ((-89.59191 39.69246, -89.59116 39.692...</td>\n",
       "    </tr>\n",
       "    <tr>\n",
       "      <th>3</th>\n",
       "      <td>17</td>\n",
       "      <td>167</td>\n",
       "      <td>003500</td>\n",
       "      <td>17167003500</td>\n",
       "      <td>35</td>\n",
       "      <td>Census Tract 35</td>\n",
       "      <td>G5020</td>\n",
       "      <td>S</td>\n",
       "      <td>548131091</td>\n",
       "      <td>280907</td>\n",
       "      <td>+39.7333761</td>\n",
       "      <td>-089.8871664</td>\n",
       "      <td>POLYGON ((-89.99450 39.89447, -89.99451 39.897...</td>\n",
       "    </tr>\n",
       "    <tr>\n",
       "      <th>4</th>\n",
       "      <td>17</td>\n",
       "      <td>167</td>\n",
       "      <td>003802</td>\n",
       "      <td>17167003802</td>\n",
       "      <td>38.02</td>\n",
       "      <td>Census Tract 38.02</td>\n",
       "      <td>G5020</td>\n",
       "      <td>S</td>\n",
       "      <td>71333933</td>\n",
       "      <td>955509</td>\n",
       "      <td>+39.8488280</td>\n",
       "      <td>-089.5115697</td>\n",
       "      <td>POLYGON ((-89.56791 39.87580, -89.56739 39.875...</td>\n",
       "    </tr>\n",
       "  </tbody>\n",
       "</table>\n",
       "</div>"
      ],
      "text/plain": [
       "  STATEFP COUNTYFP TRACTCE        GEOID   NAME            NAMELSAD  MTFCC  \\\n",
       "0      17      047  957100  17047957100   9571   Census Tract 9571  G5020   \n",
       "1      17      047  956900  17047956900   9569   Census Tract 9569  G5020   \n",
       "2      17      167  003901  17167003901  39.01  Census Tract 39.01  G5020   \n",
       "3      17      167  003500  17167003500     35     Census Tract 35  G5020   \n",
       "4      17      167  003802  17167003802  38.02  Census Tract 38.02  G5020   \n",
       "\n",
       "  FUNCSTAT      ALAND   AWATER     INTPTLAT      INTPTLON  \\\n",
       "0        S   17502924   151254  +38.3810609  -088.0566832   \n",
       "1        S  289722767   430838  +38.4939617  -088.0440563   \n",
       "2        S  107283391  1202385  +39.6960595  -089.5296888   \n",
       "3        S  548131091   280907  +39.7333761  -089.8871664   \n",
       "4        S   71333933   955509  +39.8488280  -089.5115697   \n",
       "\n",
       "                                            geometry  \n",
       "0  POLYGON ((-88.10244 38.39351, -88.10232 38.393...  \n",
       "1  POLYGON ((-88.14857 38.46782, -88.14856 38.468...  \n",
       "2  POLYGON ((-89.59191 39.69246, -89.59116 39.692...  \n",
       "3  POLYGON ((-89.99450 39.89447, -89.99451 39.897...  \n",
       "4  POLYGON ((-89.56791 39.87580, -89.56739 39.875...  "
      ]
     },
     "execution_count": 14,
     "metadata": {},
     "output_type": "execute_result"
    }
   ],
   "source": [
    "tl_gdf.head()"
   ]
  },
  {
   "cell_type": "code",
   "execution_count": 15,
   "id": "02075995",
   "metadata": {
    "execution": {
     "iopub.execute_input": "2024-02-07T22:15:22.328632Z",
     "iopub.status.busy": "2024-02-07T22:15:22.328632Z",
     "iopub.status.idle": "2024-02-07T22:15:22.345683Z",
     "shell.execute_reply": "2024-02-07T22:15:22.344373Z"
    }
   },
   "outputs": [
    {
     "data": {
      "text/plain": [
       "(1332, 13)"
      ]
     },
     "execution_count": 15,
     "metadata": {},
     "output_type": "execute_result"
    }
   ],
   "source": [
    "tl_gdf[tl_gdf['COUNTYFP']=='031'].shape #1332 unique counties"
   ]
  },
  {
   "cell_type": "code",
   "execution_count": 16,
   "id": "465a6e1f",
   "metadata": {
    "execution": {
     "iopub.execute_input": "2024-02-07T22:15:22.348686Z",
     "iopub.status.busy": "2024-02-07T22:15:22.348686Z",
     "iopub.status.idle": "2024-02-07T22:15:22.378567Z",
     "shell.execute_reply": "2024-02-07T22:15:22.377403Z"
    }
   },
   "outputs": [],
   "source": [
    "me_gdf = me_gdf.dropna(subset=['geometry']) #drop people with missing Geometry values (lat, long)"
   ]
  },
  {
   "cell_type": "code",
   "execution_count": 17,
   "id": "f45012ca",
   "metadata": {
    "execution": {
     "iopub.execute_input": "2024-02-07T22:15:22.378567Z",
     "iopub.status.busy": "2024-02-07T22:15:22.378567Z",
     "iopub.status.idle": "2024-02-07T22:15:38.485024Z",
     "shell.execute_reply": "2024-02-07T22:15:38.484316Z"
    }
   },
   "outputs": [],
   "source": [
    "\n",
    "tl_gdf['deaths'] = 0\n",
    "missing_geo = 0\n",
    "for i, death in me_gdf.iterrows():\n",
    "    \n",
    "    if death.geometry is None:\n",
    "        missing_geo +=1\n",
    "        continue\n",
    "    \n",
    "    containing_tract_idx = tl_gdf.contains(death.geometry)\n",
    "    assert(containing_tract_idx.sum()==1)\n",
    "    tl_gdf.loc[containing_tract_idx, 'deaths'] += 1"
   ]
  },
  {
   "cell_type": "code",
   "execution_count": 18,
   "id": "65c786a4",
   "metadata": {
    "execution": {
     "iopub.execute_input": "2024-02-07T22:15:38.485024Z",
     "iopub.status.busy": "2024-02-07T22:15:38.485024Z",
     "iopub.status.idle": "2024-02-07T22:15:39.003381Z",
     "shell.execute_reply": "2024-02-07T22:15:39.001624Z"
    }
   },
   "outputs": [
    {
     "data": {
      "text/plain": [
       "<AxesSubplot:>"
      ]
     },
     "execution_count": 18,
     "metadata": {},
     "output_type": "execute_result"
    },
    {
     "data": {
      "image/png": "[encoded data removed]",
      "text/plain": [
       "<Figure size 432x288 with 2 Axes>"
      ]
     },
     "metadata": {
      "needs_background": "light"
     },
     "output_type": "display_data"
    }
   ],
   "source": [
    "tl_gdf[tl_gdf['COUNTYFP']=='031'].plot('deaths', legend=True)"
   ]
  },
  {
   "cell_type": "code",
   "execution_count": 19,
   "id": "eabc1908",
   "metadata": {
    "execution": {
     "iopub.execute_input": "2024-02-07T22:15:39.010598Z",
     "iopub.status.busy": "2024-02-07T22:15:39.010598Z",
     "iopub.status.idle": "2024-02-07T22:15:39.034683Z",
     "shell.execute_reply": "2024-02-07T22:15:39.034137Z"
    }
   },
   "outputs": [
    {
     "data": {
      "text/plain": [
       "(1332, 14)"
      ]
     },
     "execution_count": 19,
     "metadata": {},
     "output_type": "execute_result"
    }
   ],
   "source": [
    "cook_county_tracts = tl_gdf[tl_gdf['COUNTYFP'] == '031']\n",
    "cook_county_tracts.shape"
   ]
  },
  {
   "cell_type": "code",
   "execution_count": 20,
   "id": "cb2a35f5",
   "metadata": {
    "execution": {
     "iopub.execute_input": "2024-02-07T22:15:39.034683Z",
     "iopub.status.busy": "2024-02-07T22:15:39.034683Z",
     "iopub.status.idle": "2024-02-07T22:15:39.252553Z",
     "shell.execute_reply": "2024-02-07T22:15:39.251553Z"
    }
   },
   "outputs": [
    {
     "name": "stderr",
     "output_type": "stream",
     "text": [
      "C:\\Users\\Thinkpad\\anaconda3\\lib\\site-packages\\pandas\\core\\reshape\\merge.py:1204: RuntimeWarning: invalid value encountered in cast\n",
      "  if not (lk == lk.astype(rk.dtype))[~np.isnan(lk)].all():\n"
     ]
    }
   ],
   "source": [
    "# spatial join between the deaths GeoDataFrame and the filtered cook_county_tracts\n",
    "cook_county_gdf = gpd.sjoin(cook_county_tracts, me_gdf, how='left', predicate='contains')\n",
    "cook_county_gdf.rename(columns={'GEOID': 'geoid'}, inplace=True)"
   ]
  },
  {
   "cell_type": "code",
   "execution_count": 21,
   "id": "8a8bb6cb",
   "metadata": {
    "execution": {
     "iopub.execute_input": "2024-02-07T22:15:39.255554Z",
     "iopub.status.busy": "2024-02-07T22:15:39.255554Z",
     "iopub.status.idle": "2024-02-07T22:15:39.266567Z",
     "shell.execute_reply": "2024-02-07T22:15:39.266567Z"
    }
   },
   "outputs": [
    {
     "data": {
      "text/plain": [
       "1332"
      ]
     },
     "execution_count": 21,
     "metadata": {},
     "output_type": "execute_result"
    }
   ],
   "source": [
    "cook_county_gdf.geoid.nunique() #should be 1332"
   ]
  },
  {
   "cell_type": "code",
   "execution_count": 22,
   "id": "7e8dc8b6",
   "metadata": {
    "execution": {
     "iopub.execute_input": "2024-02-07T22:15:39.270251Z",
     "iopub.status.busy": "2024-02-07T22:15:39.270251Z",
     "iopub.status.idle": "2024-02-07T22:15:39.284541Z",
     "shell.execute_reply": "2024-02-07T22:15:39.283282Z"
    }
   },
   "outputs": [
    {
     "data": {
      "text/plain": [
       "(11405, 47)"
      ]
     },
     "execution_count": 22,
     "metadata": {},
     "output_type": "execute_result"
    }
   ],
   "source": [
    "cook_county_gdf.shape "
   ]
  },
  {
   "cell_type": "code",
   "execution_count": 23,
   "id": "00d84c98",
   "metadata": {
    "execution": {
     "iopub.execute_input": "2024-02-07T22:15:39.284541Z",
     "iopub.status.busy": "2024-02-07T22:15:39.284541Z",
     "iopub.status.idle": "2024-02-07T22:15:39.368180Z",
     "shell.execute_reply": "2024-02-07T22:15:39.367541Z"
    }
   },
   "outputs": [],
   "source": [
    "cook_county_gdf.dropna(subset=['geoid'], inplace=True)\n",
    "cook_county_gdf[\"DEATH_DATE\"] = pd.to_datetime(cook_county_gdf[\"DEATH_DATE\"])\n",
    "cook_county_gdf['year'] = cook_county_gdf['DEATH_DATE'].dt.year\n",
    "cook_county_gdf['quarter'] = cook_county_gdf['DEATH_DATE'].dt.quarter\n",
    "cook_county_gdf['semiannual'] = cook_county_gdf['DEATH_DATE'].dt.quarter.apply(lambda x: 1 if x <= 2 else 2)\n"
   ]
  },
  {
   "cell_type": "code",
   "execution_count": 24,
   "id": "bc05c169",
   "metadata": {
    "execution": {
     "iopub.execute_input": "2024-02-07T22:15:39.371180Z",
     "iopub.status.busy": "2024-02-07T22:15:39.371180Z",
     "iopub.status.idle": "2024-02-07T22:15:39.384434Z",
     "shell.execute_reply": "2024-02-07T22:15:39.383287Z"
    }
   },
   "outputs": [],
   "source": [
    "# Set deaths to 1, except where the merge failed\n",
    "cook_county_gdf.loc[cook_county_gdf['deaths']!=0, 'deaths'] = 1"
   ]
  },
  {
   "cell_type": "code",
   "execution_count": 25,
   "id": "100c52e2",
   "metadata": {
    "execution": {
     "iopub.execute_input": "2024-02-07T22:15:39.384434Z",
     "iopub.status.busy": "2024-02-07T22:15:39.384434Z",
     "iopub.status.idle": "2024-02-07T22:15:39.401493Z",
     "shell.execute_reply": "2024-02-07T22:15:39.400164Z"
    }
   },
   "outputs": [],
   "source": [
    "#subset columns that are relevant on non-individual level basis\n",
    "cook_county_gdf_year = cook_county_gdf.loc[:, ['year', 'STATEFP', 'COUNTYFP', 'TRACTCE',\n",
    "       'geoid', 'NAME', 'NAMELSAD', 'MTFCC', 'FUNCSTAT', 'ALAND', 'AWATER',\n",
    "       'INTPTLAT', 'INTPTLON', 'geometry', 'deaths' ]]\n"
   ]
  },
  {
   "cell_type": "code",
   "execution_count": 26,
   "id": "4a32697d",
   "metadata": {
    "execution": {
     "iopub.execute_input": "2024-02-07T22:15:39.404211Z",
     "iopub.status.busy": "2024-02-07T22:15:39.404211Z",
     "iopub.status.idle": "2024-02-07T22:15:39.418351Z",
     "shell.execute_reply": "2024-02-07T22:15:39.417345Z"
    }
   },
   "outputs": [],
   "source": [
    "#subset columns that are relevant on non-individual level basis\n",
    "cook_county_gdf_quarterly = cook_county_gdf.loc[:, ['quarter', 'year', 'STATEFP', 'COUNTYFP', 'TRACTCE',\n",
    "       'geoid', 'NAME', 'NAMELSAD', 'MTFCC', 'FUNCSTAT', 'ALAND', 'AWATER',\n",
    "       'INTPTLAT', 'INTPTLON', 'geometry', 'deaths' ]]\n"
   ]
  },
  {
   "cell_type": "code",
   "execution_count": 27,
   "id": "0a8f4821",
   "metadata": {
    "execution": {
     "iopub.execute_input": "2024-02-07T22:15:39.421348Z",
     "iopub.status.busy": "2024-02-07T22:15:39.421348Z",
     "iopub.status.idle": "2024-02-07T22:15:39.434408Z",
     "shell.execute_reply": "2024-02-07T22:15:39.433992Z"
    }
   },
   "outputs": [],
   "source": [
    "#subset columns that are relevant on non-individual level basis\n",
    "cook_county_gdf_semiannual = cook_county_gdf.loc[:, ['semiannual','year', 'STATEFP', 'COUNTYFP', 'TRACTCE',\n",
    "       'geoid', 'NAME', 'NAMELSAD', 'MTFCC', 'FUNCSTAT', 'ALAND', 'AWATER',\n",
    "       'INTPTLAT', 'INTPTLON', 'geometry', 'deaths' ]]"
   ]
  },
  {
   "cell_type": "code",
   "execution_count": 28,
   "id": "77fae7d3",
   "metadata": {
    "execution": {
     "iopub.execute_input": "2024-02-07T22:15:39.434408Z",
     "iopub.status.busy": "2024-02-07T22:15:39.434408Z",
     "iopub.status.idle": "2024-02-07T22:15:42.182743Z",
     "shell.execute_reply": "2024-02-07T22:15:42.181623Z"
    }
   },
   "outputs": [
    {
     "data": {
      "text/plain": [
       "<AxesSubplot:>"
      ]
     },
     "execution_count": 28,
     "metadata": {},
     "output_type": "execute_result"
    },
    {
     "data": {
      "image/png": "[encoded data removed]",
      "text/plain": [
       "<Figure size 432x288 with 1 Axes>"
      ]
     },
     "metadata": {
      "needs_background": "light"
     },
     "output_type": "display_data"
    }
   ],
   "source": [
    "cook_county_gdf_year.plot()"
   ]
  },
  {
   "cell_type": "markdown",
   "id": "ed0a02ff",
   "metadata": {},
   "source": [
    "## store"
   ]
  },
  {
   "cell_type": "code",
   "execution_count": 29,
   "id": "be75338d",
   "metadata": {
    "execution": {
     "iopub.execute_input": "2024-02-07T22:15:42.183360Z",
     "iopub.status.busy": "2024-02-07T22:15:42.183360Z",
     "iopub.status.idle": "2024-02-07T22:15:52.626017Z",
     "shell.execute_reply": "2024-02-07T22:15:52.624737Z"
    }
   },
   "outputs": [],
   "source": [
    "# Save GeoDataFrames to CSV files\n",
    "cook_county_gdf_year.to_csv(f'{data_dir}/cook_county_gdf_intro_year.csv', index=False)\n",
    "cook_county_gdf_quarterly.to_csv(f'{data_dir}/cook_county_gdf_intro_quarterly.csv', index=False)\n",
    "cook_county_gdf_semiannual.to_csv(f'{data_dir}/cook_county_gdf_intro_semiannual.csv', index=False)"
   ]
  },
  {
   "cell_type": "code",
   "execution_count": null,
   "id": "7f13237a-140b-4a73-91d5-86346292c32a",
   "metadata": {},
   "outputs": [],
   "source": []
  }
 ],
 "metadata": {
  "kernelspec": {
   "display_name": "Python 3 (ipykernel)",
   "language": "python",
   "name": "python3"
  },
  "language_info": {
   "codemirror_mode": {
    "name": "ipython",
    "version": 3
   },
   "file_extension": ".py",
   "mimetype": "text/x-python",
   "name": "python",
   "nbconvert_exporter": "python",
   "pygments_lexer": "ipython3",
   "version": "3.9.12"
  }
 },
 "nbformat": 4,
 "nbformat_minor": 5
}
