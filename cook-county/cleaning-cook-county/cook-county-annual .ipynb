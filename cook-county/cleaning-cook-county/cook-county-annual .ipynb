{
 "cells": [
  {
   "cell_type": "code",
   "execution_count": 1,
   "id": "793194eb",
   "metadata": {},
   "outputs": [],
   "source": [
    "#import libraries\n",
    "import numpy as np\n",
    "import geopandas as gpd\n",
    "import shapely \n",
    "import matplotlib.pyplot as plt\n",
    "import os\n",
    "import seaborn as sns\n",
    "import pandas as pd\n",
    "import sklearn"
   ]
  },
  {
   "cell_type": "code",
   "execution_count": 2,
   "id": "7f50b084",
   "metadata": {},
   "outputs": [],
   "source": [
    "data_dir = '/Users/jyontika/Desktop/opioid-overdose-models/cook-county/cleaning-cook-county/'\n",
    "csv_path = os.path.join(data_dir, 'cook_county_gdf_year.csv')\n",
    "cook_county_gdf = pd.read_csv(csv_path) "
   ]
  },
  {
   "cell_type": "code",
   "execution_count": 3,
   "id": "64ec9796",
   "metadata": {},
   "outputs": [
    {
     "data": {
      "text/plain": [
       "56"
      ]
     },
     "execution_count": 3,
     "metadata": {},
     "output_type": "execute_result"
    }
   ],
   "source": [
    "cook_county_gdf.year.isna().sum()"
   ]
  },
  {
   "cell_type": "code",
   "execution_count": 4,
   "id": "75edcc46",
   "metadata": {},
   "outputs": [],
   "source": [
    "cook_county_gdf['year'].fillna(9999, inplace=True)"
   ]
  },
  {
   "cell_type": "code",
   "execution_count": 7,
   "id": "fdf7c54e",
   "metadata": {
    "scrolled": true
   },
   "outputs": [
    {
     "data": {
      "text/plain": [
       "(56, 15)"
      ]
     },
     "execution_count": 7,
     "metadata": {},
     "output_type": "execute_result"
    }
   ],
   "source": [
    "cook_county_gdf[cook_county_gdf['year']==9999].shape #56"
   ]
  },
  {
   "cell_type": "code",
   "execution_count": 8,
   "id": "6f4255d4",
   "metadata": {},
   "outputs": [
    {
     "data": {
      "text/plain": [
       "1332"
      ]
     },
     "execution_count": 8,
     "metadata": {},
     "output_type": "execute_result"
    }
   ],
   "source": [
    "cook_county_gdf['geoid'].nunique() #now we have all census tracts (1332)"
   ]
  },
  {
   "cell_type": "code",
   "execution_count": 9,
   "id": "f1b1f263",
   "metadata": {},
   "outputs": [],
   "source": [
    "columns_to_keep = ['STATEFP', 'COUNTYFP', 'TRACTCE','NAME', 'NAMELSAD', 'MTFCC', 'FUNCSTAT', 'ALAND', 'AWATER',\n",
    "       'INTPTLAT', 'INTPTLON', 'geometry']\n",
    "\n",
    "#aggregate deaths, group by year\n",
    "gdf_annual = cook_county_gdf.groupby(['geoid', 'year']).agg({'deaths': 'sum', **{col: 'first' for col in columns_to_keep}}).reset_index()"
   ]
  },
  {
   "cell_type": "markdown",
   "id": "1c99ae38",
   "metadata": {},
   "source": [
    "### Making DF square - one year for each tract\n",
    "\n"
   ]
  },
  {
   "cell_type": "code",
   "execution_count": 10,
   "id": "678bc89c",
   "metadata": {},
   "outputs": [],
   "source": [
    "gdf_annual.loc[gdf_annual['year'] == 9999, 'deaths'] = 0\n",
    "\n",
    "# Replace 9999 with 2015 in the 'year' column\n",
    "gdf_annual['year'].replace(9999, 2015, inplace=True)"
   ]
  },
  {
   "cell_type": "code",
   "execution_count": 11,
   "id": "936b2393",
   "metadata": {},
   "outputs": [],
   "source": [
    "##uses nested for loops - not exactly the most efficient \n",
    "\n",
    "years = range(2015, 2024)\n",
    "updated_rows = []\n",
    "\n",
    "for tract in gdf_annual['geoid'].unique():\n",
    "    existing_years = set(gdf_annual[gdf_annual['geoid'] == tract]['year'])\n",
    "    missing_years = set(years) - existing_years\n",
    "    \n",
    "    for year in missing_years:\n",
    "        new_row = {'geoid': tract, \n",
    "                   'year': year, \n",
    "                   'deaths': 0}\n",
    "        \n",
    "        updated_rows.append(new_row)\n",
    "\n",
    "gdf_annual = pd.concat([gdf_annual, pd.DataFrame(updated_rows)], ignore_index=True)"
   ]
  },
  {
   "cell_type": "code",
   "execution_count": 12,
   "id": "f6b38cba",
   "metadata": {},
   "outputs": [],
   "source": [
    "unique_tracts = gdf_annual['geoid'].unique()\n",
    "\n",
    "for tract in unique_tracts:\n",
    "    tract_rows = gdf_annual[gdf_annual['geoid'] == tract]\n",
    "    non_na_row = tract_rows.dropna().iloc[0]  # Get the first row without any NAs\n",
    "    \n",
    "    for column in columns_to_keep:\n",
    "        gdf_annual.loc[(gdf_annual['geoid'] == tract) & gdf_annual[column].isna(), column] = non_na_row[column]"
   ]
  },
  {
   "cell_type": "code",
   "execution_count": 14,
   "id": "649285bd",
   "metadata": {},
   "outputs": [
    {
     "data": {
      "text/plain": [
       "(11988, 15)"
      ]
     },
     "execution_count": 14,
     "metadata": {},
     "output_type": "execute_result"
    }
   ],
   "source": [
    "gdf_annual.shape #should be 11988, 15"
   ]
  },
  {
   "cell_type": "code",
   "execution_count": 15,
   "id": "3ff233a6",
   "metadata": {},
   "outputs": [
    {
     "name": "stdout",
     "output_type": "stream",
     "text": [
      "There are no missing values in the dataframe.\n"
     ]
    }
   ],
   "source": [
    "#Any NAs in data frame?\n",
    "\n",
    "has_na = gdf_annual.isna().any().any()\n",
    "\n",
    "if has_na:\n",
    "    print(\"There are missing values in the dataframe.\")\n",
    "else:\n",
    "    print(\"There are no missing values in the dataframe.\")\n"
   ]
  },
  {
   "cell_type": "code",
   "execution_count": 16,
   "id": "7c53b18e",
   "metadata": {},
   "outputs": [],
   "source": [
    "#confirms all years for each geoid present\n",
    "years = range(2015, 2024)  \n",
    "\n",
    "for geoid in gdf_annual['geoid'].unique():\n",
    "    for year in years:\n",
    "        if not ((gdf_annual['geoid'] == geoid) & (gdf_annual['year'] == year)).any():\n",
    "            print(\"Missing row for geoid {} in year {}\".format(geoid, year))\n"
   ]
  },
  {
   "cell_type": "code",
   "execution_count": 18,
   "id": "d0ad405f",
   "metadata": {},
   "outputs": [
    {
     "name": "stderr",
     "output_type": "stream",
     "text": [
      "/Users/jyontika/Library/Python/3.9/lib/python/site-packages/pyproj/crs/crs.py:141: FutureWarning: '+init=<authority>:<code>' syntax is deprecated. '<authority>:<code>' is the preferred initialization method. When making the change, be mindful of axis order changes: https://pyproj4.github.io/pyproj/stable/gotchas.html#axis-order-changes-in-proj-6\n",
      "  in_crs_string = _prepare_from_proj_string(in_crs_string)\n"
     ]
    },
    {
     "data": {
      "text/plain": [
       "geopandas.geodataframe.GeoDataFrame"
      ]
     },
     "execution_count": 18,
     "metadata": {},
     "output_type": "execute_result"
    }
   ],
   "source": [
    "#convert back to gdf\n",
    "from shapely import wkt\n",
    "\n",
    "gdf_annual['geometry'] = gdf_annual['geometry'].apply(wkt.loads)\n",
    "\n",
    "gdf_annual = gpd.GeoDataFrame(gdf_annual, geometry='geometry')\n",
    "gdf_annual.crs = {'init': 'EPSG:4269'}\n",
    "type(gdf_annual)"
   ]
  },
  {
   "cell_type": "code",
   "execution_count": 19,
   "id": "c356145a",
   "metadata": {},
   "outputs": [],
   "source": [
    "#create timestep column\n",
    "gdf_annual = gdf_annual.sort_values(by=['geoid', 'year'])\n",
    "\n",
    "# Group the DataFrame by 'geoid' and assign a unique timestep value based on the order of years\n",
    "gdf_annual['timestep'] = gdf_annual.groupby('geoid').cumcount() + 1"
   ]
  },
  {
   "cell_type": "code",
   "execution_count": 21,
   "id": "40f6cfe1",
   "metadata": {},
   "outputs": [],
   "source": [
    "gdf_annual.columns = ['geoid', 'year', 'deaths', 'STATEFP', 'COUNTYFP', 'TRACTCE', 'NAME',\n",
    "       'NAMELSAD', 'MTFCC', 'FUNCSTAT', 'ALAND', 'AWATER', 'lat',\n",
    "       'lon', 'geometry', 'timestep']\n"
   ]
  },
  {
   "cell_type": "code",
   "execution_count": 33,
   "id": "c7711c52",
   "metadata": {},
   "outputs": [],
   "source": [
    "gdf_annual = gdf_annual[gdf_annual['year']!=2014] #take out 2014 because ME only started collecting in 08/2014\n",
    "gdf_annual = gdf_annual[gdf_annual['year'] != 2023] #2023 not complete yet"
   ]
  },
  {
   "cell_type": "markdown",
   "id": "268ea78a",
   "metadata": {},
   "source": [
    "## Tables & Graphs"
   ]
  },
  {
   "cell_type": "code",
   "execution_count": 34,
   "id": "a281fea4",
   "metadata": {},
   "outputs": [],
   "source": [
    "gdf_annual['year'] = pd.to_datetime(gdf_annual['year'].astype(int).astype(str), format='%Y').dt.year"
   ]
  },
  {
   "cell_type": "code",
   "execution_count": 36,
   "id": "17f2f277",
   "metadata": {},
   "outputs": [
    {
     "name": "stdout",
     "output_type": "stream",
     "text": [
      "   year Total Deaths Sparsity Rate\n",
      "0  2015          616       67.342%\n",
      "1  2016         1029       53.754%\n",
      "2  2017         1109       53.303%\n",
      "3  2018         1078       54.429%\n",
      "4  2019         1210       52.102%\n",
      "5  2020         1687       43.619%\n",
      "6  2021         1791       43.168%\n",
      "7  2022         1851       43.018%\n"
     ]
    }
   ],
   "source": [
    "sparsity_df = pd.DataFrame(columns=['year', 'Total Deaths', 'Sparsity Rate'])\n",
    "\n",
    "years = range(2015, 2023)\n",
    "for year in years:\n",
    "    year_df = gdf_annual[gdf_annual['year'] == year]\n",
    "    zero_deaths_count = year_df[year_df['deaths'] == 0].shape[0]\n",
    "    total_count = year_df.shape[0]\n",
    "    sparsity_rate = (zero_deaths_count / total_count) * 100\n",
    "    total_deaths = year_df['deaths'].sum()\n",
    "    sparsity_df = pd.concat([sparsity_df, pd.DataFrame({'year': [year], 'Total Deaths': [total_deaths], 'Sparsity Rate': [sparsity_rate]})], ignore_index=True)\n",
    "\n",
    "\n",
    "raw_sparsity = sparsity_df['Sparsity Rate']\n",
    "sparsity_df['Sparsity Rate'] = sparsity_df['Sparsity Rate'].round(3).astype(str) + '%'\n",
    "print(sparsity_df)"
   ]
  },
  {
   "cell_type": "code",
   "execution_count": 37,
   "id": "322a49b6",
   "metadata": {},
   "outputs": [
    {
     "data": {
      "image/png": "[encoded data removed]",
      "text/plain": [
       "<Figure size 900x600 with 1 Axes>"
      ]
     },
     "metadata": {},
     "output_type": "display_data"
    }
   ],
   "source": [
    "plt.figure(figsize=(9, 6))\n",
    "df_no23 = gdf_annual[gdf_annual['year'] != 2023]\n",
    "sns.boxplot(x='year', y='deaths', data=df_no23, color='lightblue')\n",
    "\n",
    "plt.xlabel('Year')\n",
    "plt.ylabel('Number of Deaths')\n",
    "plt.title('Distribution of Deaths Across Years')\n",
    "\n",
    "plt.show()\n"
   ]
  },
  {
   "cell_type": "code",
   "execution_count": 38,
   "id": "51a6af25",
   "metadata": {},
   "outputs": [
    {
     "data": {
      "image/png": "[encoded data removed]",
      "text/plain": [
       "<Figure size 640x480 with 1 Axes>"
      ]
     },
     "metadata": {},
     "output_type": "display_data"
    }
   ],
   "source": [
    "plt.rcParams['font.family'] = 'sans-serif'\n",
    "plt.plot(range(2015, 2023), raw_sparsity, color='mediumslateblue')\n",
    "plt.xlabel('Year')\n",
    "plt.ylabel('Sparsity Rate')\n",
    "plt.title('Sparsity Rates Over the Years')\n",
    "plt.grid(False)\n",
    "\n",
    "plt.show()"
   ]
  },
  {
   "cell_type": "markdown",
   "id": "fe186f59",
   "metadata": {},
   "source": [
    "### store gdf"
   ]
  },
  {
   "cell_type": "code",
   "execution_count": 40,
   "id": "91801d81",
   "metadata": {},
   "outputs": [],
   "source": [
    "csv_dir = 'cook_county_gdf_year.csv'\n",
    "output_path = os.path.join(data_dir, csv_dir)\n",
    "\n",
    "# Save GeoDataFrames to CSV files\n",
    "gdf_annual.to_csv(output_path, index=False)"
   ]
  }
 ],
 "metadata": {
  "kernelspec": {
   "display_name": "Python 3 (ipykernel)",
   "language": "python",
   "name": "python3"
  },
  "language_info": {
   "codemirror_mode": {
    "name": "ipython",
    "version": 3
   },
   "file_extension": ".py",
   "mimetype": "text/x-python",
   "name": "python",
   "nbconvert_exporter": "python",
   "pygments_lexer": "ipython3",
   "version": "3.9.6"
  }
 },
 "nbformat": 4,
 "nbformat_minor": 5
}
