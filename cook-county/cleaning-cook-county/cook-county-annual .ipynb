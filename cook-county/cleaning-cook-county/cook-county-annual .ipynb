{
 "cells": [
  {
   "cell_type": "code",
   "execution_count": 1,
   "id": "793194eb",
   "metadata": {},
   "outputs": [],
   "source": [
    "#import libraries\n",
    "import numpy as np\n",
    "import geopandas as gpd\n",
    "import matplotlib.pyplot as plt\n",
    "import os\n",
    "import seaborn as sns\n",
    "import pandas as pd\n",
    "import sklearn"
   ]
  },
  {
   "cell_type": "code",
   "execution_count": 2,
   "id": "7f50b084",
   "metadata": {},
   "outputs": [],
   "source": [
    "%store -r cook_county_gdf_year\n",
    "%store -r CC_nodeaths\n",
    "cook_county_gdf = cook_county_gdf_year"
   ]
  },
  {
   "cell_type": "code",
   "execution_count": 3,
   "id": "75edcc46",
   "metadata": {},
   "outputs": [],
   "source": [
    "#add in missing 58 tracts\n",
    "cook_county_gdf['deaths'] = 1\n",
    "cook_county_gdf = pd.concat([cook_county_gdf, CC_nodeaths], ignore_index=True)\n",
    "cook_county_gdf['year'].fillna(9999, inplace=True)"
   ]
  },
  {
   "cell_type": "code",
   "execution_count": 4,
   "id": "6f4255d4",
   "metadata": {},
   "outputs": [
    {
     "data": {
      "text/plain": [
       "1332"
      ]
     },
     "execution_count": 4,
     "metadata": {},
     "output_type": "execute_result"
    }
   ],
   "source": [
    "cook_county_gdf['GEOID'].nunique() #now we have all census tracts"
   ]
  },
  {
   "cell_type": "code",
   "execution_count": 5,
   "id": "f1b1f263",
   "metadata": {},
   "outputs": [],
   "source": [
    "columns_to_keep = ['STATEFP', 'COUNTYFP', 'TRACTCE','NAME', 'NAMELSAD', 'MTFCC', 'FUNCSTAT', 'ALAND', 'AWATER',\n",
    "       'INTPTLAT', 'INTPTLON', 'geometry']\n",
    "\n",
    "gdf_annual = cook_county_gdf.groupby(['GEOID', 'year']).agg({'deaths': 'sum', **{col: 'first' for col in columns_to_keep}}).reset_index()"
   ]
  },
  {
   "cell_type": "code",
   "execution_count": 6,
   "id": "4b735b4c",
   "metadata": {},
   "outputs": [
    {
     "data": {
      "text/html": [
       "<div>\n",
       "<style scoped>\n",
       "    .dataframe tbody tr th:only-of-type {\n",
       "        vertical-align: middle;\n",
       "    }\n",
       "\n",
       "    .dataframe tbody tr th {\n",
       "        vertical-align: top;\n",
       "    }\n",
       "\n",
       "    .dataframe thead th {\n",
       "        text-align: right;\n",
       "    }\n",
       "</style>\n",
       "<table border=\"1\" class=\"dataframe\">\n",
       "  <thead>\n",
       "    <tr style=\"text-align: right;\">\n",
       "      <th></th>\n",
       "      <th>GEOID</th>\n",
       "      <th>year</th>\n",
       "      <th>deaths</th>\n",
       "      <th>STATEFP</th>\n",
       "      <th>COUNTYFP</th>\n",
       "      <th>TRACTCE</th>\n",
       "      <th>NAME</th>\n",
       "      <th>NAMELSAD</th>\n",
       "      <th>MTFCC</th>\n",
       "      <th>FUNCSTAT</th>\n",
       "      <th>ALAND</th>\n",
       "      <th>AWATER</th>\n",
       "      <th>INTPTLAT</th>\n",
       "      <th>INTPTLON</th>\n",
       "      <th>geometry</th>\n",
       "    </tr>\n",
       "  </thead>\n",
       "  <tbody>\n",
       "    <tr>\n",
       "      <th>0</th>\n",
       "      <td>17031010100</td>\n",
       "      <td>2014.0</td>\n",
       "      <td>1</td>\n",
       "      <td>17</td>\n",
       "      <td>031</td>\n",
       "      <td>010100</td>\n",
       "      <td>101</td>\n",
       "      <td>Census Tract 101</td>\n",
       "      <td>G5020</td>\n",
       "      <td>S</td>\n",
       "      <td>379511</td>\n",
       "      <td>0</td>\n",
       "      <td>+42.0212553</td>\n",
       "      <td>-087.6698301</td>\n",
       "      <td>POINT (-87.66632 42.02212)</td>\n",
       "    </tr>\n",
       "    <tr>\n",
       "      <th>1</th>\n",
       "      <td>17031010100</td>\n",
       "      <td>2015.0</td>\n",
       "      <td>1</td>\n",
       "      <td>17</td>\n",
       "      <td>031</td>\n",
       "      <td>010100</td>\n",
       "      <td>101</td>\n",
       "      <td>Census Tract 101</td>\n",
       "      <td>G5020</td>\n",
       "      <td>S</td>\n",
       "      <td>379511</td>\n",
       "      <td>0</td>\n",
       "      <td>+42.0212553</td>\n",
       "      <td>-087.6698301</td>\n",
       "      <td>POINT (-87.67202 42.01989)</td>\n",
       "    </tr>\n",
       "    <tr>\n",
       "      <th>2</th>\n",
       "      <td>17031010100</td>\n",
       "      <td>2016.0</td>\n",
       "      <td>3</td>\n",
       "      <td>17</td>\n",
       "      <td>031</td>\n",
       "      <td>010100</td>\n",
       "      <td>101</td>\n",
       "      <td>Census Tract 101</td>\n",
       "      <td>G5020</td>\n",
       "      <td>S</td>\n",
       "      <td>379511</td>\n",
       "      <td>0</td>\n",
       "      <td>+42.0212553</td>\n",
       "      <td>-087.6698301</td>\n",
       "      <td>POINT (-87.67142 42.02143)</td>\n",
       "    </tr>\n",
       "    <tr>\n",
       "      <th>3</th>\n",
       "      <td>17031010100</td>\n",
       "      <td>2017.0</td>\n",
       "      <td>2</td>\n",
       "      <td>17</td>\n",
       "      <td>031</td>\n",
       "      <td>010100</td>\n",
       "      <td>101</td>\n",
       "      <td>Census Tract 101</td>\n",
       "      <td>G5020</td>\n",
       "      <td>S</td>\n",
       "      <td>379511</td>\n",
       "      <td>0</td>\n",
       "      <td>+42.0212553</td>\n",
       "      <td>-087.6698301</td>\n",
       "      <td>POINT (-87.66805 42.02216)</td>\n",
       "    </tr>\n",
       "    <tr>\n",
       "      <th>4</th>\n",
       "      <td>17031010100</td>\n",
       "      <td>2019.0</td>\n",
       "      <td>2</td>\n",
       "      <td>17</td>\n",
       "      <td>031</td>\n",
       "      <td>010100</td>\n",
       "      <td>101</td>\n",
       "      <td>Census Tract 101</td>\n",
       "      <td>G5020</td>\n",
       "      <td>S</td>\n",
       "      <td>379511</td>\n",
       "      <td>0</td>\n",
       "      <td>+42.0212553</td>\n",
       "      <td>-087.6698301</td>\n",
       "      <td>POINT (-87.66739 42.02232)</td>\n",
       "    </tr>\n",
       "    <tr>\n",
       "      <th>...</th>\n",
       "      <td>...</td>\n",
       "      <td>...</td>\n",
       "      <td>...</td>\n",
       "      <td>...</td>\n",
       "      <td>...</td>\n",
       "      <td>...</td>\n",
       "      <td>...</td>\n",
       "      <td>...</td>\n",
       "      <td>...</td>\n",
       "      <td>...</td>\n",
       "      <td>...</td>\n",
       "      <td>...</td>\n",
       "      <td>...</td>\n",
       "      <td>...</td>\n",
       "      <td>...</td>\n",
       "    </tr>\n",
       "    <tr>\n",
       "      <th>5817</th>\n",
       "      <td>17031980000</td>\n",
       "      <td>2022.0</td>\n",
       "      <td>3</td>\n",
       "      <td>17</td>\n",
       "      <td>031</td>\n",
       "      <td>980000</td>\n",
       "      <td>9800</td>\n",
       "      <td>Census Tract 9800</td>\n",
       "      <td>G5020</td>\n",
       "      <td>S</td>\n",
       "      <td>19890200</td>\n",
       "      <td>92402</td>\n",
       "      <td>+41.9794191</td>\n",
       "      <td>-087.9024376</td>\n",
       "      <td>POINT (-87.90647 41.97684)</td>\n",
       "    </tr>\n",
       "    <tr>\n",
       "      <th>5818</th>\n",
       "      <td>17031980000</td>\n",
       "      <td>2023.0</td>\n",
       "      <td>4</td>\n",
       "      <td>17</td>\n",
       "      <td>031</td>\n",
       "      <td>980000</td>\n",
       "      <td>9800</td>\n",
       "      <td>Census Tract 9800</td>\n",
       "      <td>G5020</td>\n",
       "      <td>S</td>\n",
       "      <td>19890200</td>\n",
       "      <td>92402</td>\n",
       "      <td>+41.9794191</td>\n",
       "      <td>-087.9024376</td>\n",
       "      <td>POINT (-87.90398 41.97572)</td>\n",
       "    </tr>\n",
       "    <tr>\n",
       "      <th>5819</th>\n",
       "      <td>17031980100</td>\n",
       "      <td>2018.0</td>\n",
       "      <td>1</td>\n",
       "      <td>17</td>\n",
       "      <td>031</td>\n",
       "      <td>980100</td>\n",
       "      <td>9801</td>\n",
       "      <td>Census Tract 9801</td>\n",
       "      <td>G5020</td>\n",
       "      <td>S</td>\n",
       "      <td>2981781</td>\n",
       "      <td>0</td>\n",
       "      <td>+41.7859813</td>\n",
       "      <td>-087.7509001</td>\n",
       "      <td>POINT (-87.74137 41.78952)</td>\n",
       "    </tr>\n",
       "    <tr>\n",
       "      <th>5820</th>\n",
       "      <td>17031980100</td>\n",
       "      <td>2022.0</td>\n",
       "      <td>1</td>\n",
       "      <td>17</td>\n",
       "      <td>031</td>\n",
       "      <td>980100</td>\n",
       "      <td>9801</td>\n",
       "      <td>Census Tract 9801</td>\n",
       "      <td>G5020</td>\n",
       "      <td>S</td>\n",
       "      <td>2981781</td>\n",
       "      <td>0</td>\n",
       "      <td>+41.7859813</td>\n",
       "      <td>-087.7509001</td>\n",
       "      <td>POINT (-87.73804 41.78672)</td>\n",
       "    </tr>\n",
       "    <tr>\n",
       "      <th>5821</th>\n",
       "      <td>17031990000</td>\n",
       "      <td>9999.0</td>\n",
       "      <td>0</td>\n",
       "      <td>17</td>\n",
       "      <td>031</td>\n",
       "      <td>990000</td>\n",
       "      <td>9900</td>\n",
       "      <td>Census Tract 9900</td>\n",
       "      <td>G5020</td>\n",
       "      <td>S</td>\n",
       "      <td>0</td>\n",
       "      <td>1717072182</td>\n",
       "      <td>+41.9739391</td>\n",
       "      <td>-087.4002947</td>\n",
       "      <td>POLYGON ((-87.74156 42.15323, -87.72176 42.153...</td>\n",
       "    </tr>\n",
       "  </tbody>\n",
       "</table>\n",
       "<p>5822 rows × 15 columns</p>\n",
       "</div>"
      ],
      "text/plain": [
       "            GEOID    year  deaths STATEFP COUNTYFP TRACTCE  NAME  \\\n",
       "0     17031010100  2014.0       1      17      031  010100   101   \n",
       "1     17031010100  2015.0       1      17      031  010100   101   \n",
       "2     17031010100  2016.0       3      17      031  010100   101   \n",
       "3     17031010100  2017.0       2      17      031  010100   101   \n",
       "4     17031010100  2019.0       2      17      031  010100   101   \n",
       "...           ...     ...     ...     ...      ...     ...   ...   \n",
       "5817  17031980000  2022.0       3      17      031  980000  9800   \n",
       "5818  17031980000  2023.0       4      17      031  980000  9800   \n",
       "5819  17031980100  2018.0       1      17      031  980100  9801   \n",
       "5820  17031980100  2022.0       1      17      031  980100  9801   \n",
       "5821  17031990000  9999.0       0      17      031  990000  9900   \n",
       "\n",
       "               NAMELSAD  MTFCC FUNCSTAT     ALAND      AWATER     INTPTLAT  \\\n",
       "0      Census Tract 101  G5020        S    379511           0  +42.0212553   \n",
       "1      Census Tract 101  G5020        S    379511           0  +42.0212553   \n",
       "2      Census Tract 101  G5020        S    379511           0  +42.0212553   \n",
       "3      Census Tract 101  G5020        S    379511           0  +42.0212553   \n",
       "4      Census Tract 101  G5020        S    379511           0  +42.0212553   \n",
       "...                 ...    ...      ...       ...         ...          ...   \n",
       "5817  Census Tract 9800  G5020        S  19890200       92402  +41.9794191   \n",
       "5818  Census Tract 9800  G5020        S  19890200       92402  +41.9794191   \n",
       "5819  Census Tract 9801  G5020        S   2981781           0  +41.7859813   \n",
       "5820  Census Tract 9801  G5020        S   2981781           0  +41.7859813   \n",
       "5821  Census Tract 9900  G5020        S         0  1717072182  +41.9739391   \n",
       "\n",
       "          INTPTLON                                           geometry  \n",
       "0     -087.6698301                         POINT (-87.66632 42.02212)  \n",
       "1     -087.6698301                         POINT (-87.67202 42.01989)  \n",
       "2     -087.6698301                         POINT (-87.67142 42.02143)  \n",
       "3     -087.6698301                         POINT (-87.66805 42.02216)  \n",
       "4     -087.6698301                         POINT (-87.66739 42.02232)  \n",
       "...            ...                                                ...  \n",
       "5817  -087.9024376                         POINT (-87.90647 41.97684)  \n",
       "5818  -087.9024376                         POINT (-87.90398 41.97572)  \n",
       "5819  -087.7509001                         POINT (-87.74137 41.78952)  \n",
       "5820  -087.7509001                         POINT (-87.73804 41.78672)  \n",
       "5821  -087.4002947  POLYGON ((-87.74156 42.15323, -87.72176 42.153...  \n",
       "\n",
       "[5822 rows x 15 columns]"
      ]
     },
     "execution_count": 6,
     "metadata": {},
     "output_type": "execute_result"
    }
   ],
   "source": [
    "gdf_annual"
   ]
  },
  {
   "cell_type": "code",
   "execution_count": 7,
   "id": "18adc2fc",
   "metadata": {},
   "outputs": [
    {
     "data": {
      "text/plain": [
       "1332"
      ]
     },
     "execution_count": 7,
     "metadata": {},
     "output_type": "execute_result"
    }
   ],
   "source": [
    "gdf_annual['GEOID'].nunique() "
   ]
  },
  {
   "cell_type": "code",
   "execution_count": 8,
   "id": "798deb5b",
   "metadata": {},
   "outputs": [
    {
     "data": {
      "text/plain": [
       "58"
      ]
     },
     "execution_count": 8,
     "metadata": {},
     "output_type": "execute_result"
    }
   ],
   "source": [
    "(gdf_annual['year'] == 9999).sum()"
   ]
  },
  {
   "cell_type": "markdown",
   "id": "1c99ae38",
   "metadata": {},
   "source": [
    "### Making DF square - one year for each tract\n",
    "\n"
   ]
  },
  {
   "cell_type": "code",
   "execution_count": 9,
   "id": "678bc89c",
   "metadata": {},
   "outputs": [],
   "source": [
    "gdf_annual.loc[gdf_annual['year'] == 9999, 'deaths'] = 0\n",
    "\n",
    "# Replace 9999 with 2015 in the 'year' column\n",
    "gdf_annual['year'].replace(9999, 2015, inplace=True)"
   ]
  },
  {
   "cell_type": "code",
   "execution_count": 10,
   "id": "936b2393",
   "metadata": {},
   "outputs": [],
   "source": [
    "##uses nested for loops - not exactly the most efficient \n",
    "\n",
    "years = range(2015, 2024)\n",
    "updated_rows = []\n",
    "\n",
    "for tract in gdf_annual['GEOID'].unique():\n",
    "    existing_years = set(gdf_annual[gdf_annual['GEOID'] == tract]['year'])\n",
    "    missing_years = set(years) - existing_years\n",
    "    \n",
    "    for year in missing_years:\n",
    "        new_row = {'GEOID': tract, \n",
    "                   'year': year, \n",
    "                   'deaths': 0}\n",
    "        \n",
    "        updated_rows.append(new_row)\n",
    "\n",
    "gdf_annual = pd.concat([gdf_annual, pd.DataFrame(updated_rows)], ignore_index=True)"
   ]
  },
  {
   "cell_type": "code",
   "execution_count": 11,
   "id": "f6b38cba",
   "metadata": {},
   "outputs": [],
   "source": [
    "unique_tracts = gdf_annual['GEOID'].unique()\n",
    "\n",
    "for tract in unique_tracts:\n",
    "    tract_rows = gdf_annual[gdf_annual['GEOID'] == tract]\n",
    "    non_na_row = tract_rows.dropna().iloc[0]  # Get the first row without any NAs\n",
    "    \n",
    "    for column in columns_to_keep:\n",
    "        gdf_annual.loc[(gdf_annual['GEOID'] == tract) & gdf_annual[column].isna(), column] = non_na_row[column]"
   ]
  },
  {
   "cell_type": "code",
   "execution_count": 12,
   "id": "649285bd",
   "metadata": {},
   "outputs": [
    {
     "data": {
      "text/plain": [
       "(12174, 15)"
      ]
     },
     "execution_count": 12,
     "metadata": {},
     "output_type": "execute_result"
    }
   ],
   "source": [
    "gdf_annual.shape #should be 13320, 15"
   ]
  },
  {
   "cell_type": "code",
   "execution_count": 13,
   "id": "3ff233a6",
   "metadata": {},
   "outputs": [
    {
     "name": "stdout",
     "output_type": "stream",
     "text": [
      "There are no missing values in the dataframe.\n"
     ]
    }
   ],
   "source": [
    "#Any NAs in data frame?\n",
    "\n",
    "has_na = gdf_annual.isna().any().any()\n",
    "\n",
    "if has_na:\n",
    "    print(\"There are missing values in the dataframe.\")\n",
    "else:\n",
    "    print(\"There are no missing values in the dataframe.\")\n"
   ]
  },
  {
   "cell_type": "code",
   "execution_count": 14,
   "id": "7c53b18e",
   "metadata": {},
   "outputs": [],
   "source": [
    "#confirms all years for each GEOID present\n",
    "years = range(2015, 2024)  \n",
    "\n",
    "for geoid in gdf_annual['GEOID'].unique():\n",
    "    for year in years:\n",
    "        if not ((gdf_annual['GEOID'] == geoid) & (gdf_annual['year'] == year)).any():\n",
    "            print(\"Missing row for GEOID {} in year {}\".format(geoid, year))\n"
   ]
  },
  {
   "cell_type": "code",
   "execution_count": 15,
   "id": "d0ad405f",
   "metadata": {},
   "outputs": [],
   "source": [
    "gdf_annual = gpd.GeoDataFrame(gdf_annual, geometry='geometry')"
   ]
  },
  {
   "cell_type": "code",
   "execution_count": 16,
   "id": "7ba48eff",
   "metadata": {},
   "outputs": [
    {
     "data": {
      "text/plain": [
       "geopandas.geodataframe.GeoDataFrame"
      ]
     },
     "execution_count": 16,
     "metadata": {},
     "output_type": "execute_result"
    }
   ],
   "source": [
    "type(gdf_annual)"
   ]
  },
  {
   "cell_type": "code",
   "execution_count": 17,
   "id": "c356145a",
   "metadata": {},
   "outputs": [],
   "source": [
    "#create timestep column\n",
    "gdf_annual = gdf_annual.sort_values(by=['GEOID', 'year'])\n",
    "\n",
    "# Group the DataFrame by 'geoid' and assign a unique timestep value based on the order of years\n",
    "gdf_annual['timestep'] = gdf_annual.groupby('GEOID').cumcount() + 1"
   ]
  },
  {
   "cell_type": "code",
   "execution_count": 18,
   "id": "635bdbff",
   "metadata": {},
   "outputs": [
    {
     "name": "stdout",
     "output_type": "stream",
     "text": [
      "[ 1  2  3  4  5  6  7  8  9 10]\n"
     ]
    }
   ],
   "source": [
    "print(gdf_annual['timestep'].unique())"
   ]
  },
  {
   "cell_type": "code",
   "execution_count": 19,
   "id": "40f6cfe1",
   "metadata": {},
   "outputs": [],
   "source": [
    "gdf_annual.columns = ['GEOID', 'year', 'deaths', 'STATEFP', 'COUNTYFP', 'TRACTCE', 'NAME',\n",
    "       'NAMELSAD', 'MTFCC', 'FUNCSTAT', 'ALAND', 'AWATER', 'lat',\n",
    "       'lon', 'geometry', 'timestep']\n"
   ]
  },
  {
   "cell_type": "code",
   "execution_count": 20,
   "id": "c7711c52",
   "metadata": {},
   "outputs": [
    {
     "data": {
      "text/plain": [
       "1332"
      ]
     },
     "execution_count": 20,
     "metadata": {},
     "output_type": "execute_result"
    }
   ],
   "source": [
    "gdf_annual = gdf_annual[gdf_annual['year'] != 2014] #take out 2014 \n",
    "gdf_annual['GEOID'].nunique() "
   ]
  },
  {
   "cell_type": "markdown",
   "id": "268ea78a",
   "metadata": {},
   "source": [
    "## Tables & Graphs"
   ]
  },
  {
   "cell_type": "code",
   "execution_count": 21,
   "id": "a281fea4",
   "metadata": {},
   "outputs": [],
   "source": [
    "gdf_annual['year'] = pd.to_datetime(gdf_annual['year'].astype(int).astype(str), format='%Y').dt.year"
   ]
  },
  {
   "cell_type": "code",
   "execution_count": 22,
   "id": "b4dfde55",
   "metadata": {},
   "outputs": [
    {
     "data": {
      "text/html": [
       "<div>\n",
       "<style scoped>\n",
       "    .dataframe tbody tr th:only-of-type {\n",
       "        vertical-align: middle;\n",
       "    }\n",
       "\n",
       "    .dataframe tbody tr th {\n",
       "        vertical-align: top;\n",
       "    }\n",
       "\n",
       "    .dataframe thead th {\n",
       "        text-align: right;\n",
       "    }\n",
       "</style>\n",
       "<table border=\"1\" class=\"dataframe\">\n",
       "  <thead>\n",
       "    <tr style=\"text-align: right;\">\n",
       "      <th></th>\n",
       "      <th>GEOID</th>\n",
       "      <th>year</th>\n",
       "      <th>deaths</th>\n",
       "      <th>STATEFP</th>\n",
       "      <th>COUNTYFP</th>\n",
       "      <th>TRACTCE</th>\n",
       "      <th>NAME</th>\n",
       "      <th>NAMELSAD</th>\n",
       "      <th>MTFCC</th>\n",
       "      <th>FUNCSTAT</th>\n",
       "      <th>ALAND</th>\n",
       "      <th>AWATER</th>\n",
       "      <th>lat</th>\n",
       "      <th>lon</th>\n",
       "      <th>geometry</th>\n",
       "      <th>timestep</th>\n",
       "    </tr>\n",
       "  </thead>\n",
       "  <tbody>\n",
       "    <tr>\n",
       "      <th>1</th>\n",
       "      <td>17031010100</td>\n",
       "      <td>2015</td>\n",
       "      <td>1</td>\n",
       "      <td>17</td>\n",
       "      <td>031</td>\n",
       "      <td>010100</td>\n",
       "      <td>101</td>\n",
       "      <td>Census Tract 101</td>\n",
       "      <td>G5020</td>\n",
       "      <td>S</td>\n",
       "      <td>379511.0</td>\n",
       "      <td>0.000000e+00</td>\n",
       "      <td>+42.0212553</td>\n",
       "      <td>-087.6698301</td>\n",
       "      <td>POINT (-87.67202 42.01989)</td>\n",
       "      <td>2</td>\n",
       "    </tr>\n",
       "    <tr>\n",
       "      <th>2</th>\n",
       "      <td>17031010100</td>\n",
       "      <td>2016</td>\n",
       "      <td>3</td>\n",
       "      <td>17</td>\n",
       "      <td>031</td>\n",
       "      <td>010100</td>\n",
       "      <td>101</td>\n",
       "      <td>Census Tract 101</td>\n",
       "      <td>G5020</td>\n",
       "      <td>S</td>\n",
       "      <td>379511.0</td>\n",
       "      <td>0.000000e+00</td>\n",
       "      <td>+42.0212553</td>\n",
       "      <td>-087.6698301</td>\n",
       "      <td>POINT (-87.67142 42.02143)</td>\n",
       "      <td>3</td>\n",
       "    </tr>\n",
       "    <tr>\n",
       "      <th>3</th>\n",
       "      <td>17031010100</td>\n",
       "      <td>2017</td>\n",
       "      <td>2</td>\n",
       "      <td>17</td>\n",
       "      <td>031</td>\n",
       "      <td>010100</td>\n",
       "      <td>101</td>\n",
       "      <td>Census Tract 101</td>\n",
       "      <td>G5020</td>\n",
       "      <td>S</td>\n",
       "      <td>379511.0</td>\n",
       "      <td>0.000000e+00</td>\n",
       "      <td>+42.0212553</td>\n",
       "      <td>-087.6698301</td>\n",
       "      <td>POINT (-87.66805 42.02216)</td>\n",
       "      <td>4</td>\n",
       "    </tr>\n",
       "    <tr>\n",
       "      <th>5822</th>\n",
       "      <td>17031010100</td>\n",
       "      <td>2018</td>\n",
       "      <td>0</td>\n",
       "      <td>17</td>\n",
       "      <td>031</td>\n",
       "      <td>010100</td>\n",
       "      <td>101</td>\n",
       "      <td>Census Tract 101</td>\n",
       "      <td>G5020</td>\n",
       "      <td>S</td>\n",
       "      <td>379511.0</td>\n",
       "      <td>0.000000e+00</td>\n",
       "      <td>+42.0212553</td>\n",
       "      <td>-087.6698301</td>\n",
       "      <td>POINT (-87.66632 42.02212)</td>\n",
       "      <td>5</td>\n",
       "    </tr>\n",
       "    <tr>\n",
       "      <th>4</th>\n",
       "      <td>17031010100</td>\n",
       "      <td>2019</td>\n",
       "      <td>2</td>\n",
       "      <td>17</td>\n",
       "      <td>031</td>\n",
       "      <td>010100</td>\n",
       "      <td>101</td>\n",
       "      <td>Census Tract 101</td>\n",
       "      <td>G5020</td>\n",
       "      <td>S</td>\n",
       "      <td>379511.0</td>\n",
       "      <td>0.000000e+00</td>\n",
       "      <td>+42.0212553</td>\n",
       "      <td>-087.6698301</td>\n",
       "      <td>POINT (-87.66739 42.02232)</td>\n",
       "      <td>6</td>\n",
       "    </tr>\n",
       "    <tr>\n",
       "      <th>...</th>\n",
       "      <td>...</td>\n",
       "      <td>...</td>\n",
       "      <td>...</td>\n",
       "      <td>...</td>\n",
       "      <td>...</td>\n",
       "      <td>...</td>\n",
       "      <td>...</td>\n",
       "      <td>...</td>\n",
       "      <td>...</td>\n",
       "      <td>...</td>\n",
       "      <td>...</td>\n",
       "      <td>...</td>\n",
       "      <td>...</td>\n",
       "      <td>...</td>\n",
       "      <td>...</td>\n",
       "      <td>...</td>\n",
       "    </tr>\n",
       "    <tr>\n",
       "      <th>12169</th>\n",
       "      <td>17031990000</td>\n",
       "      <td>2019</td>\n",
       "      <td>0</td>\n",
       "      <td>17</td>\n",
       "      <td>031</td>\n",
       "      <td>990000</td>\n",
       "      <td>9900</td>\n",
       "      <td>Census Tract 9900</td>\n",
       "      <td>G5020</td>\n",
       "      <td>S</td>\n",
       "      <td>0.0</td>\n",
       "      <td>1.717072e+09</td>\n",
       "      <td>+41.9739391</td>\n",
       "      <td>-087.4002947</td>\n",
       "      <td>POLYGON ((-87.74156 42.15323, -87.72176 42.153...</td>\n",
       "      <td>5</td>\n",
       "    </tr>\n",
       "    <tr>\n",
       "      <th>12170</th>\n",
       "      <td>17031990000</td>\n",
       "      <td>2020</td>\n",
       "      <td>0</td>\n",
       "      <td>17</td>\n",
       "      <td>031</td>\n",
       "      <td>990000</td>\n",
       "      <td>9900</td>\n",
       "      <td>Census Tract 9900</td>\n",
       "      <td>G5020</td>\n",
       "      <td>S</td>\n",
       "      <td>0.0</td>\n",
       "      <td>1.717072e+09</td>\n",
       "      <td>+41.9739391</td>\n",
       "      <td>-087.4002947</td>\n",
       "      <td>POLYGON ((-87.74156 42.15323, -87.72176 42.153...</td>\n",
       "      <td>6</td>\n",
       "    </tr>\n",
       "    <tr>\n",
       "      <th>12171</th>\n",
       "      <td>17031990000</td>\n",
       "      <td>2021</td>\n",
       "      <td>0</td>\n",
       "      <td>17</td>\n",
       "      <td>031</td>\n",
       "      <td>990000</td>\n",
       "      <td>9900</td>\n",
       "      <td>Census Tract 9900</td>\n",
       "      <td>G5020</td>\n",
       "      <td>S</td>\n",
       "      <td>0.0</td>\n",
       "      <td>1.717072e+09</td>\n",
       "      <td>+41.9739391</td>\n",
       "      <td>-087.4002947</td>\n",
       "      <td>POLYGON ((-87.74156 42.15323, -87.72176 42.153...</td>\n",
       "      <td>7</td>\n",
       "    </tr>\n",
       "    <tr>\n",
       "      <th>12172</th>\n",
       "      <td>17031990000</td>\n",
       "      <td>2022</td>\n",
       "      <td>0</td>\n",
       "      <td>17</td>\n",
       "      <td>031</td>\n",
       "      <td>990000</td>\n",
       "      <td>9900</td>\n",
       "      <td>Census Tract 9900</td>\n",
       "      <td>G5020</td>\n",
       "      <td>S</td>\n",
       "      <td>0.0</td>\n",
       "      <td>1.717072e+09</td>\n",
       "      <td>+41.9739391</td>\n",
       "      <td>-087.4002947</td>\n",
       "      <td>POLYGON ((-87.74156 42.15323, -87.72176 42.153...</td>\n",
       "      <td>8</td>\n",
       "    </tr>\n",
       "    <tr>\n",
       "      <th>12173</th>\n",
       "      <td>17031990000</td>\n",
       "      <td>2023</td>\n",
       "      <td>0</td>\n",
       "      <td>17</td>\n",
       "      <td>031</td>\n",
       "      <td>990000</td>\n",
       "      <td>9900</td>\n",
       "      <td>Census Tract 9900</td>\n",
       "      <td>G5020</td>\n",
       "      <td>S</td>\n",
       "      <td>0.0</td>\n",
       "      <td>1.717072e+09</td>\n",
       "      <td>+41.9739391</td>\n",
       "      <td>-087.4002947</td>\n",
       "      <td>POLYGON ((-87.74156 42.15323, -87.72176 42.153...</td>\n",
       "      <td>9</td>\n",
       "    </tr>\n",
       "  </tbody>\n",
       "</table>\n",
       "<p>11988 rows × 16 columns</p>\n",
       "</div>"
      ],
      "text/plain": [
       "             GEOID  year  deaths STATEFP COUNTYFP TRACTCE  NAME  \\\n",
       "1      17031010100  2015       1      17      031  010100   101   \n",
       "2      17031010100  2016       3      17      031  010100   101   \n",
       "3      17031010100  2017       2      17      031  010100   101   \n",
       "5822   17031010100  2018       0      17      031  010100   101   \n",
       "4      17031010100  2019       2      17      031  010100   101   \n",
       "...            ...   ...     ...     ...      ...     ...   ...   \n",
       "12169  17031990000  2019       0      17      031  990000  9900   \n",
       "12170  17031990000  2020       0      17      031  990000  9900   \n",
       "12171  17031990000  2021       0      17      031  990000  9900   \n",
       "12172  17031990000  2022       0      17      031  990000  9900   \n",
       "12173  17031990000  2023       0      17      031  990000  9900   \n",
       "\n",
       "                NAMELSAD  MTFCC FUNCSTAT     ALAND        AWATER          lat  \\\n",
       "1       Census Tract 101  G5020        S  379511.0  0.000000e+00  +42.0212553   \n",
       "2       Census Tract 101  G5020        S  379511.0  0.000000e+00  +42.0212553   \n",
       "3       Census Tract 101  G5020        S  379511.0  0.000000e+00  +42.0212553   \n",
       "5822    Census Tract 101  G5020        S  379511.0  0.000000e+00  +42.0212553   \n",
       "4       Census Tract 101  G5020        S  379511.0  0.000000e+00  +42.0212553   \n",
       "...                  ...    ...      ...       ...           ...          ...   \n",
       "12169  Census Tract 9900  G5020        S       0.0  1.717072e+09  +41.9739391   \n",
       "12170  Census Tract 9900  G5020        S       0.0  1.717072e+09  +41.9739391   \n",
       "12171  Census Tract 9900  G5020        S       0.0  1.717072e+09  +41.9739391   \n",
       "12172  Census Tract 9900  G5020        S       0.0  1.717072e+09  +41.9739391   \n",
       "12173  Census Tract 9900  G5020        S       0.0  1.717072e+09  +41.9739391   \n",
       "\n",
       "                lon                                           geometry  \\\n",
       "1      -087.6698301                         POINT (-87.67202 42.01989)   \n",
       "2      -087.6698301                         POINT (-87.67142 42.02143)   \n",
       "3      -087.6698301                         POINT (-87.66805 42.02216)   \n",
       "5822   -087.6698301                         POINT (-87.66632 42.02212)   \n",
       "4      -087.6698301                         POINT (-87.66739 42.02232)   \n",
       "...             ...                                                ...   \n",
       "12169  -087.4002947  POLYGON ((-87.74156 42.15323, -87.72176 42.153...   \n",
       "12170  -087.4002947  POLYGON ((-87.74156 42.15323, -87.72176 42.153...   \n",
       "12171  -087.4002947  POLYGON ((-87.74156 42.15323, -87.72176 42.153...   \n",
       "12172  -087.4002947  POLYGON ((-87.74156 42.15323, -87.72176 42.153...   \n",
       "12173  -087.4002947  POLYGON ((-87.74156 42.15323, -87.72176 42.153...   \n",
       "\n",
       "       timestep  \n",
       "1             2  \n",
       "2             3  \n",
       "3             4  \n",
       "5822          5  \n",
       "4             6  \n",
       "...         ...  \n",
       "12169         5  \n",
       "12170         6  \n",
       "12171         7  \n",
       "12172         8  \n",
       "12173         9  \n",
       "\n",
       "[11988 rows x 16 columns]"
      ]
     },
     "execution_count": 22,
     "metadata": {},
     "output_type": "execute_result"
    }
   ],
   "source": [
    "gdf_annual"
   ]
  },
  {
   "cell_type": "code",
   "execution_count": 23,
   "id": "17f2f277",
   "metadata": {},
   "outputs": [
    {
     "name": "stdout",
     "output_type": "stream",
     "text": [
      "   year Total Deaths Sparsity Rate\n",
      "0  2015          616       67.342%\n",
      "1  2016         1029       53.754%\n",
      "2  2017         1109       53.303%\n",
      "3  2018         1078       54.429%\n",
      "4  2019         1210       52.102%\n",
      "5  2020         1687       43.619%\n",
      "6  2021         1790       43.168%\n",
      "7  2022         1849       43.018%\n"
     ]
    }
   ],
   "source": [
    "sparsity_df = pd.DataFrame(columns=['year', 'Total Deaths', 'Sparsity Rate'])\n",
    "\n",
    "years = range(2015, 2023)\n",
    "for year in years:\n",
    "    year_df = gdf_annual[gdf_annual['year'] == year]\n",
    "    zero_deaths_count = year_df[year_df['deaths'] == 0].shape[0]\n",
    "    total_count = year_df.shape[0]\n",
    "    sparsity_rate = (zero_deaths_count / total_count) * 100\n",
    "    total_deaths = year_df['deaths'].sum()\n",
    "    sparsity_df = pd.concat([sparsity_df, pd.DataFrame({'year': [year], 'Total Deaths': [total_deaths], 'Sparsity Rate': [sparsity_rate]})], ignore_index=True)\n",
    "\n",
    "\n",
    "raw_sparsity = sparsity_df['Sparsity Rate']\n",
    "sparsity_df['Sparsity Rate'] = sparsity_df['Sparsity Rate'].round(3).astype(str) + '%'\n",
    "print(sparsity_df)"
   ]
  },
  {
   "cell_type": "code",
   "execution_count": 24,
   "id": "322a49b6",
   "metadata": {},
   "outputs": [
    {
     "data": {
      "image/png": "[encoded data removed]",
      "text/plain": [
       "<Figure size 900x600 with 1 Axes>"
      ]
     },
     "metadata": {},
     "output_type": "display_data"
    }
   ],
   "source": [
    "plt.figure(figsize=(9, 6))\n",
    "df_no23 = gdf_annual[gdf_annual['year'] != 2023]\n",
    "sns.boxplot(x='year', y='deaths', data=df_no23, color='lightblue')\n",
    "\n",
    "plt.xlabel('Year')\n",
    "plt.ylabel('Number of Deaths')\n",
    "plt.title('Distribution of Deaths Across Years')\n",
    "\n",
    "plt.show()\n"
   ]
  },
  {
   "cell_type": "code",
   "execution_count": 25,
   "id": "51a6af25",
   "metadata": {},
   "outputs": [
    {
     "data": {
      "image/png": "[encoded data removed]",
      "text/plain": [
       "<Figure size 640x480 with 1 Axes>"
      ]
     },
     "metadata": {},
     "output_type": "display_data"
    }
   ],
   "source": [
    "plt.plot(range(2015, 2023), raw_sparsity, color='mediumslateblue')\n",
    "\n",
    "font = {'family': 'Times New Roman',\n",
    "        'weight': 'normal',\n",
    "        'size': 12}\n",
    "plt.rc('font', **font)\n",
    "\n",
    "\n",
    "plt.xlabel('Year')\n",
    "plt.ylabel('Sparsity Rate')\n",
    "plt.title('Sparsity Rates Over the Years')\n",
    "plt.grid(False)\n",
    "\n",
    "plt.show()"
   ]
  },
  {
   "cell_type": "markdown",
   "id": "fe186f59",
   "metadata": {},
   "source": [
    "### store gdf"
   ]
  },
  {
   "cell_type": "code",
   "execution_count": 26,
   "id": "91801d81",
   "metadata": {},
   "outputs": [
    {
     "name": "stdout",
     "output_type": "stream",
     "text": [
      "Stored 'gdf_annual' (GeoDataFrame)\n"
     ]
    }
   ],
   "source": [
    "gdf_annual = gdf_annual[gdf_annual['year'] != 2023]\n",
    "gdf_annual = gdf_annual[gdf_annual['year'] != 2014]\n",
    "%store gdf_annual"
   ]
  }
 ],
 "metadata": {
  "kernelspec": {
   "display_name": "Python 3 (ipykernel)",
   "language": "python",
   "name": "python3"
  },
  "language_info": {
   "codemirror_mode": {
    "name": "ipython",
    "version": 3
   },
   "file_extension": ".py",
   "mimetype": "text/x-python",
   "name": "python",
   "nbconvert_exporter": "python",
   "pygments_lexer": "ipython3",
   "version": "3.9.6"
  }
 },
 "nbformat": 4,
 "nbformat_minor": 5
}
