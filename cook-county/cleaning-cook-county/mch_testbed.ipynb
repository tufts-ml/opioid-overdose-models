{
 "cells": [
  {
   "cell_type": "code",
   "execution_count": 1,
   "id": "48d21da1-3c61-4eb2-839d-9745001fbdd1",
   "metadata": {},
   "outputs": [],
   "source": [
    "%load_ext autoreload\n",
    "%autoreload 2\n",
    "import geopandas as gpd\n",
    "import numpy as np\n",
    "import pandas as pd\n",
    "from pandas import IndexSlice as idx\n",
    "import pickle \n",
    "import os\n",
    "import sklearn\n",
    "from shapely import wkt\n"
   ]
  },
  {
   "cell_type": "code",
   "execution_count": 2,
   "id": "c4c5519c-3aa2-4606-b6a0-f67e9d71b8c2",
   "metadata": {},
   "outputs": [
    {
     "name": "stderr",
     "output_type": "stream",
     "text": [
      "/Users/mhughes/miniconda3/envs/opioid_models/lib/python3.10/site-packages/pyproj/crs/crs.py:141: FutureWarning: '+init=<authority>:<code>' syntax is deprecated. '<authority>:<code>' is the preferred initialization method. When making the change, be mindful of axis order changes: https://pyproj4.github.io/pyproj/stable/gotchas.html#axis-order-changes-in-proj-6\n",
      "  in_crs_string = _prepare_from_proj_string(in_crs_string)\n"
     ]
    }
   ],
   "source": [
    "data_dir = os.environ.get('DATA_DIR', '/Users/jyontika/Desktop/cook-county/data/')\n",
    "\n",

    "gdf_annual = pd.read_csv(f'{data_dir}/cook_county_gdf_cleanwithsvi_year.csv')\n",

    "\n",
    "#convert to gpd (was having trouble importing csv as gdf)\n",
    "gdf['geometry'] = gdf['geometry'].apply(wkt.loads)\n",
    "gdf = gpd.GeoDataFrame(gdf, geometry='geometry')\n",
    "gdf.crs = {'init': 'EPSG:4269'}\n",
    "gdf['geoid'] = gdf['geoid'].astype(str) #change to string"
   ]
  },
  {
   "cell_type": "code",
   "execution_count": null,
   "id": "2aba53f7-1e8f-4a99-afbf-7bac6d1ddf4c",
   "metadata": {},
   "outputs": [],
   "source": []
  },
  {
   "cell_type": "code",
   "execution_count": 3,
   "id": "e645c838-6363-410b-9506-2e1fa4c9c888",
   "metadata": {},
   "outputs": [
    {
     "data": {
      "text/plain": [
       "(10624, 20)"
      ]
     },
     "execution_count": 3,
     "metadata": {},
     "output_type": "execute_result"
    }
   ],
   "source": [
    "data_gdf.shape"
   ]
  },
  {
   "cell_type": "code",
   "execution_count": 9,
   "id": "beb5c4f6-24d0-4a74-bea3-85f82c03c138",
   "metadata": {},
   "outputs": [],
   "source": [
    "# Name the important columns\n",
    "timestep_col = 'timestep'\n",
    "geography_col = 'geoid'\n",
    "outcome_col = 'deaths'\n",
    "\n",
    "# These are the features we want\n",
    "x_cols_only = []\n",
    "add_spacetime = True\n",
    "add_svi = True\n",
    "if add_spacetime:\n",
    "    x_cols_only += [timestep_col, 'INTPTLAT', 'INTPTLON']\n",
    "if add_svi:\n",
    "    features_only += ['svi_theme1_pctile', 'svi_theme2_pctile', 'svi_theme3_pctile', 'svi_theme4_pctile', 'svi_total_pctile']\n",
    "\n",
    "y_cols_only = ['deaths']\n",
    "info_cols_only = ['year', 'year_frac']"
   ]
  },
  {
   "cell_type": "code",
   "execution_count": 13,
   "id": "5753df55-242f-4830-a531-77ddf801bdc7",
   "metadata": {},
   "outputs": [
    {
     "data": {
      "text/plain": [
       "Index(['year_frac', 'deaths', 'year', 'svi_theme1_pctile', 'svi_theme2_pctile',\n",
       "       'svi_theme3_pctile', 'svi_theme4_pctile', 'svi_total_pctile', 'STATEFP',\n",
       "       'COUNTYFP', 'TRACTCE', 'NAME', 'NAMELSAD', 'MTFCC', 'FUNCSTAT', 'ALAND',\n",
       "       'AWATER', 'geometry'],\n",
       "      dtype='object')"
      ]
     },
     "execution_count": 13,
     "metadata": {},
     "output_type": "execute_result"
    }
   ],
   "source": [
    "multiindexed_gdf.columns"
   ]
  },
  {
   "cell_type": "code",
   "execution_count": 10,
   "id": "05a51b1d-2fd7-4b13-9cb7-97fa0f979735",
   "metadata": {},
   "outputs": [],
   "source": [
    "# Create the multiindex\n",
    "multiindexed_gdf = gdf.set_index([geography_col, timestep_col])\n",
    "\n",
    "## re-add the timestep column as a feature because it's useful\n",
    "#multiindexed_gdf[timestep_col] = multiindexed_gdf.index.get_level_values(timestep_col)\n",
    "\n",
    "# Track number of locations\n",
    "num_geoids = len(data_gdf[geography_col].unique())"
   ]
  },
  {
   "cell_type": "code",
   "execution_count": 11,
   "id": "7cebc8be-3d38-4a95-a643-82cdbbaea7f6",
   "metadata": {},
   "outputs": [
    {
     "data": {
      "text/html": [
       "<div>\n",
       "<style scoped>\n",
       "    .dataframe tbody tr th:only-of-type {\n",
       "        vertical-align: middle;\n",
       "    }\n",
       "\n",
       "    .dataframe tbody tr th {\n",
       "        vertical-align: top;\n",
       "    }\n",
       "\n",
       "    .dataframe thead th {\n",
       "        text-align: right;\n",
       "    }\n",
       "</style>\n",
       "<table border=\"1\" class=\"dataframe\">\n",
       "  <thead>\n",
       "    <tr style=\"text-align: right;\">\n",
       "      <th></th>\n",
       "      <th></th>\n",
       "      <th>year</th>\n",
       "      <th>deaths</th>\n",
       "    </tr>\n",
       "    <tr>\n",
       "      <th>geoid</th>\n",
       "      <th>timestep</th>\n",
       "      <th></th>\n",
       "      <th></th>\n",
       "    </tr>\n",
       "  </thead>\n",
       "  <tbody>\n",
       "    <tr>\n",
       "      <th rowspan=\"8\" valign=\"top\">17031844700</th>\n",
       "      <th>1</th>\n",
       "      <td>2015</td>\n",
       "      <td>0</td>\n",
       "    </tr>\n",
       "    <tr>\n",
       "      <th>2</th>\n",
       "      <td>2016</td>\n",
       "      <td>2</td>\n",
       "    </tr>\n",
       "    <tr>\n",
       "      <th>3</th>\n",
       "      <td>2017</td>\n",
       "      <td>5</td>\n",
       "    </tr>\n",
       "    <tr>\n",
       "      <th>4</th>\n",
       "      <td>2018</td>\n",
       "      <td>6</td>\n",
       "    </tr>\n",
       "    <tr>\n",
       "      <th>5</th>\n",
       "      <td>2019</td>\n",
       "      <td>3</td>\n",
       "    </tr>\n",
       "    <tr>\n",
       "      <th>6</th>\n",
       "      <td>2020</td>\n",
       "      <td>5</td>\n",
       "    </tr>\n",
       "    <tr>\n",
       "      <th>7</th>\n",
       "      <td>2021</td>\n",
       "      <td>4</td>\n",
       "    </tr>\n",
       "    <tr>\n",
       "      <th>8</th>\n",
       "      <td>2022</td>\n",
       "      <td>1</td>\n",
       "    </tr>\n",
       "  </tbody>\n",
       "</table>\n",
       "</div>"
      ],
      "text/plain": [
       "                      year  deaths\n",
       "geoid       timestep              \n",
       "17031844700 1         2015       0\n",
       "            2         2016       2\n",
       "            3         2017       5\n",
       "            4         2018       6\n",
       "            5         2019       3\n",
       "            6         2020       5\n",
       "            7         2021       4\n",
       "            8         2022       1"
      ]
     },
     "execution_count": 11,
     "metadata": {},
     "output_type": "execute_result"
    }
   ],
   "source": [
    "multiindexed_gdf.query(\"geoid == '17031844700'\")[['year', 'deaths']]"
   ]
  },
  {
   "cell_type": "code",
   "execution_count": 12,
   "id": "7d38e3e5-c918-448b-8b5e-295e44adffa7",
   "metadata": {},
   "outputs": [
    {
     "ename": "KeyError",
     "evalue": "\"['lat', 'lon', 'timestep'] not in index\"",
     "output_type": "error",
     "traceback": [
      "\u001b[0;31m---------------------------------------------------------------------------\u001b[0m",
      "\u001b[0;31mKeyError\u001b[0m                                  Traceback (most recent call last)",
      "Cell \u001b[0;32mIn[12], line 1\u001b[0m\n\u001b[0;32m----> 1\u001b[0m x_df \u001b[38;5;241m=\u001b[39m \u001b[43mmultiindexed_gdf\u001b[49m\u001b[43m[\u001b[49m\u001b[43mfeatures_only\u001b[49m\u001b[43m]\u001b[49m\u001b[38;5;241m.\u001b[39mcopy()\n",
      "File \u001b[0;32m~/miniconda3/envs/opioid_models/lib/python3.10/site-packages/geopandas/geodataframe.py:1415\u001b[0m, in \u001b[0;36mGeoDataFrame.__getitem__\u001b[0;34m(self, key)\u001b[0m\n\u001b[1;32m   1409\u001b[0m \u001b[38;5;28;01mdef\u001b[39;00m \u001b[38;5;21m__getitem__\u001b[39m(\u001b[38;5;28mself\u001b[39m, key):\n\u001b[1;32m   1410\u001b[0m \u001b[38;5;250m    \u001b[39m\u001b[38;5;124;03m\"\"\"\u001b[39;00m\n\u001b[1;32m   1411\u001b[0m \u001b[38;5;124;03m    If the result is a column containing only 'geometry', return a\u001b[39;00m\n\u001b[1;32m   1412\u001b[0m \u001b[38;5;124;03m    GeoSeries. If it's a DataFrame with any columns of GeometryDtype,\u001b[39;00m\n\u001b[1;32m   1413\u001b[0m \u001b[38;5;124;03m    return a GeoDataFrame.\u001b[39;00m\n\u001b[1;32m   1414\u001b[0m \u001b[38;5;124;03m    \"\"\"\u001b[39;00m\n\u001b[0;32m-> 1415\u001b[0m     result \u001b[38;5;241m=\u001b[39m \u001b[38;5;28;43msuper\u001b[39;49m\u001b[43m(\u001b[49m\u001b[43m)\u001b[49m\u001b[38;5;241;43m.\u001b[39;49m\u001b[38;5;21;43m__getitem__\u001b[39;49m\u001b[43m(\u001b[49m\u001b[43mkey\u001b[49m\u001b[43m)\u001b[49m\n\u001b[1;32m   1416\u001b[0m     geo_col \u001b[38;5;241m=\u001b[39m \u001b[38;5;28mself\u001b[39m\u001b[38;5;241m.\u001b[39m_geometry_column_name\n\u001b[1;32m   1417\u001b[0m     \u001b[38;5;28;01mif\u001b[39;00m \u001b[38;5;28misinstance\u001b[39m(result, Series) \u001b[38;5;129;01mand\u001b[39;00m \u001b[38;5;28misinstance\u001b[39m(result\u001b[38;5;241m.\u001b[39mdtype, GeometryDtype):\n",
      "File \u001b[0;32m~/miniconda3/envs/opioid_models/lib/python3.10/site-packages/pandas/core/frame.py:3767\u001b[0m, in \u001b[0;36mDataFrame.__getitem__\u001b[0;34m(self, key)\u001b[0m\n\u001b[1;32m   3765\u001b[0m     \u001b[38;5;28;01mif\u001b[39;00m is_iterator(key):\n\u001b[1;32m   3766\u001b[0m         key \u001b[38;5;241m=\u001b[39m \u001b[38;5;28mlist\u001b[39m(key)\n\u001b[0;32m-> 3767\u001b[0m     indexer \u001b[38;5;241m=\u001b[39m \u001b[38;5;28;43mself\u001b[39;49m\u001b[38;5;241;43m.\u001b[39;49m\u001b[43mcolumns\u001b[49m\u001b[38;5;241;43m.\u001b[39;49m\u001b[43m_get_indexer_strict\u001b[49m\u001b[43m(\u001b[49m\u001b[43mkey\u001b[49m\u001b[43m,\u001b[49m\u001b[43m \u001b[49m\u001b[38;5;124;43m\"\u001b[39;49m\u001b[38;5;124;43mcolumns\u001b[39;49m\u001b[38;5;124;43m\"\u001b[39;49m\u001b[43m)\u001b[49m[\u001b[38;5;241m1\u001b[39m]\n\u001b[1;32m   3769\u001b[0m \u001b[38;5;66;03m# take() does not accept boolean indexers\u001b[39;00m\n\u001b[1;32m   3770\u001b[0m \u001b[38;5;28;01mif\u001b[39;00m \u001b[38;5;28mgetattr\u001b[39m(indexer, \u001b[38;5;124m\"\u001b[39m\u001b[38;5;124mdtype\u001b[39m\u001b[38;5;124m\"\u001b[39m, \u001b[38;5;28;01mNone\u001b[39;00m) \u001b[38;5;241m==\u001b[39m \u001b[38;5;28mbool\u001b[39m:\n",
      "File \u001b[0;32m~/miniconda3/envs/opioid_models/lib/python3.10/site-packages/pandas/core/indexes/base.py:5877\u001b[0m, in \u001b[0;36mIndex._get_indexer_strict\u001b[0;34m(self, key, axis_name)\u001b[0m\n\u001b[1;32m   5874\u001b[0m \u001b[38;5;28;01melse\u001b[39;00m:\n\u001b[1;32m   5875\u001b[0m     keyarr, indexer, new_indexer \u001b[38;5;241m=\u001b[39m \u001b[38;5;28mself\u001b[39m\u001b[38;5;241m.\u001b[39m_reindex_non_unique(keyarr)\n\u001b[0;32m-> 5877\u001b[0m \u001b[38;5;28;43mself\u001b[39;49m\u001b[38;5;241;43m.\u001b[39;49m\u001b[43m_raise_if_missing\u001b[49m\u001b[43m(\u001b[49m\u001b[43mkeyarr\u001b[49m\u001b[43m,\u001b[49m\u001b[43m \u001b[49m\u001b[43mindexer\u001b[49m\u001b[43m,\u001b[49m\u001b[43m \u001b[49m\u001b[43maxis_name\u001b[49m\u001b[43m)\u001b[49m\n\u001b[1;32m   5879\u001b[0m keyarr \u001b[38;5;241m=\u001b[39m \u001b[38;5;28mself\u001b[39m\u001b[38;5;241m.\u001b[39mtake(indexer)\n\u001b[1;32m   5880\u001b[0m \u001b[38;5;28;01mif\u001b[39;00m \u001b[38;5;28misinstance\u001b[39m(key, Index):\n\u001b[1;32m   5881\u001b[0m     \u001b[38;5;66;03m# GH 42790 - Preserve name from an Index\u001b[39;00m\n",
      "File \u001b[0;32m~/miniconda3/envs/opioid_models/lib/python3.10/site-packages/pandas/core/indexes/base.py:5941\u001b[0m, in \u001b[0;36mIndex._raise_if_missing\u001b[0;34m(self, key, indexer, axis_name)\u001b[0m\n\u001b[1;32m   5938\u001b[0m     \u001b[38;5;28;01mraise\u001b[39;00m \u001b[38;5;167;01mKeyError\u001b[39;00m(\u001b[38;5;124mf\u001b[39m\u001b[38;5;124m\"\u001b[39m\u001b[38;5;124mNone of [\u001b[39m\u001b[38;5;132;01m{\u001b[39;00mkey\u001b[38;5;132;01m}\u001b[39;00m\u001b[38;5;124m] are in the [\u001b[39m\u001b[38;5;132;01m{\u001b[39;00maxis_name\u001b[38;5;132;01m}\u001b[39;00m\u001b[38;5;124m]\u001b[39m\u001b[38;5;124m\"\u001b[39m)\n\u001b[1;32m   5940\u001b[0m not_found \u001b[38;5;241m=\u001b[39m \u001b[38;5;28mlist\u001b[39m(ensure_index(key)[missing_mask\u001b[38;5;241m.\u001b[39mnonzero()[\u001b[38;5;241m0\u001b[39m]]\u001b[38;5;241m.\u001b[39munique())\n\u001b[0;32m-> 5941\u001b[0m \u001b[38;5;28;01mraise\u001b[39;00m \u001b[38;5;167;01mKeyError\u001b[39;00m(\u001b[38;5;124mf\u001b[39m\u001b[38;5;124m\"\u001b[39m\u001b[38;5;132;01m{\u001b[39;00mnot_found\u001b[38;5;132;01m}\u001b[39;00m\u001b[38;5;124m not in index\u001b[39m\u001b[38;5;124m\"\u001b[39m)\n",
      "\u001b[0;31mKeyError\u001b[0m: \"['lat', 'lon', 'timestep'] not in index\""
     ]
    }
   ],
   "source": [
    "x_df = multiindexed_gdf[x_cols_only].copy()"
   ]
  },
  {
   "cell_type": "code",
   "execution_count": null,
   "id": "edc14166-f916-441b-8ac4-173ae900f21c",
   "metadata": {},
   "outputs": [],
   "source": [
    "y_df = multiindexed_gdf[y_cols_only].copy()"
   ]
  },
  {
   "cell_type": "code",
   "execution_count": 7,
   "id": "bdf7810f-b8fb-4f65-8988-431d332348c3",
   "metadata": {},
   "outputs": [],
   "source": [
    "info_df = multiindexed_gdf[info_cols_only].copy()"
   ]
  },
  {
   "cell_type": "code",
   "execution_count": 17,
   "id": "9422f47c-328b-484b-bb22-416d51641783",
   "metadata": {},
   "outputs": [],
   "source": [
    "def make_x_y_data(x_df, y_df, info_df,\n",
    "        first_year, last_year,\n",
    "        window_size_in_tsteps,\n",
    "        lag_in_tsteps=1,\n",
    "        timesteps_per_year=1,\n",
    "        how_to_handle_tstep_without_enough_context='raise_error',\n",
    "        year_col='year', timestep_col='timestep', outcome_col='deaths'):\n",
    "    \"\"\"Turn a geodataframe into numpy arrays for model fitting\n",
    "\n",
    "    Args\n",
    "    ----\n",
    "    multiindexed_gdf: Geodataframe, must contain a MultiIndex on [geography, time]\n",
    "    first_year (int): The first year to make predictions for\n",
    "    last_year (int): The final year (inclusive) to make predictions for, can be the same as first_year\n",
    "    window_size_in_tsteps (int): How many timesteps of data prior to the prediction year to include\n",
    "    feature_cols (list[str]): The column names to be included as features\n",
    "    lag_in_tsteps (int): The number of timesteps between the outcome y and the inputs x. For annual data, simply 1.\n",
    "        For quarterly data, there could be a 2-4 quarter lag\n",
    "    timesteps_per_year (int): How many timesteps in a year? 1 for year, 4 for quarter, etc.\n",
    "    year_col (str): The name of the column containing the year\n",
    "    timestep_col (str): The neame of the temporal index level\n",
    "    outcome_col (str): Name of column with outcome variable (deaths) we are trying to predict\n",
    "\n",
    "    Returns\n",
    "    -------\n",
    "    x_BSF\n",
    "    y_BS\n",
    "        B is the number of timesteps in the testing\n",
    "        S is the number of unique locations\n",
    "        F is the number of features multiplied by the time window.\n",
    "    \"\"\"\n",
    "    first_year = int(first_year)\n",
    "    last_year = int(last_year)\n",
    "    assert last_year >= first_year\n",
    "    \n",
    "    W = int(window_size_in_tsteps)\n",
    "    L = int(lag_in_tsteps)\n",
    "    new_col_names = ['prev_%s_%02dback' % (outcome_col, W - ww) for ww in range(W)]\n",
    "\n",
    "    xs = []\n",
    "    ys = []\n",
    "    infos = []\n",
    "\n",
    "    # Iterate over years we want to make predictions for\n",
    "    for eval_year in range(first_year, last_year + 1):\n",
    "\n",
    "        timesteps_in_year = info_df[info_df[year_col] == eval_year].index.unique(level=timestep_col).values\n",
    "        timesteps_in_year = np.sort(np.unique(timesteps_in_year))\n",
    "        \n",
    "        for tt, tstep in enumerate(timesteps_in_year):\n",
    "            # Make per-tstep dataframes\n",
    "            x_tt_df = x_df.loc[idx[:, tstep], :].copy()\n",
    "            y_tt_df = y_df.loc[idx[:, tstep], :].copy()\n",
    "            info_tt_df = info_df.loc[idx[:, tstep], :].copy()\n",
    "\n",
    "            # Determine if we can get a full window of 'actual' data, or if we need to zero-pad\n",
    "            if tstep - (W + L - 1) <= 0:\n",
    "                if how_to_handle_tstep_without_enough_context == 'raise_error':\n",
    "                    raise ValueError(\"Not enough context available for tstep %d. Need at least %d previous tsteps\" % (tstep, W+L-1))\n",
    "                assert how_to_handle_tstep_without_enough_context == 'pad_with_zero'\n",
    "                WW = tstep - L\n",
    "            else:\n",
    "                WW = W\n",
    "            # Grab current tstep's history from outcomes at previous tsteps\n",
    "            xhist_N = y_df.loc[idx[:, tstep-(WW+L-1):(tstep-L)], outcome_col].values.copy()\n",
    "            N = xhist_N.shape[0]\n",
    "            M = N // WW\n",
    "            xhist_MW = xhist_N.reshape((M, WW))\n",
    "            if WW < W:\n",
    "                xhist_MW = np.hstack([ np.zeros((M, W-WW)), xhist_MW])\n",
    "            assert xhist_MW.shape[1] == W\n",
    "            for ww in range(W):\n",
    "                x_tt_df[new_col_names[ww]] = xhist_MW[:, ww]\n",
    "                \n",
    "            xs.append(x_tt_df)\n",
    "            ys.append(y_tt_df)\n",
    "            infos.append(info_tt_df)\n",
    "\n",
    "    return pd.concat(xs), pd.concat(ys), pd.concat(infos)"
   ]
  },
  {
   "cell_type": "code",
   "execution_count": 20,
   "id": "90cd8db2-973c-447f-a7df-224fec96b036",
   "metadata": {},
   "outputs": [],
   "source": [
    "tr_x_df, tr_y_df, tr_i_df = make_x_y_data(x_df, y_df, info_df, 2017, 2019, 3)\n",
    "va_x_df, va_y_df, va_i_df = make_x_y_data(x_df, y_df, info_df, 2020, 2020, 3)\n",
    "te_x_df, te_y_df, te_i_df = make_x_y_data(x_df, y_df, info_df, 2021, 2022, 3)"
   ]
  },
  {
   "cell_type": "code",
   "execution_count": 21,
   "id": "ad39f4e1-871b-4fa1-8758-ad534ebb3c9e",
   "metadata": {},
   "outputs": [
    {
     "data": {
      "text/plain": [
       "(15936, 11)"
      ]
     },
     "execution_count": 21,
     "metadata": {},
     "output_type": "execute_result"
    }
   ],
   "source": [
    "tr_x_df.shape"
   ]
  },
  {
   "cell_type": "code",
   "execution_count": 22,
   "id": "f6a9dcf0-5402-4251-8a64-4d560a7fa197",
   "metadata": {},
   "outputs": [
    {
     "data": {
      "text/plain": [
       "(5312, 11)"
      ]
     },
     "execution_count": 22,
     "metadata": {},
     "output_type": "execute_result"
    }
   ],
   "source": [
    "va_x_df.shape"
   ]
  },
  {
   "cell_type": "code",
   "execution_count": 23,
   "id": "f878a2b8-1850-4a3c-9aba-86e820151691",
   "metadata": {},
   "outputs": [
    {
     "data": {
      "text/plain": [
       "((10624, 11), (10624, 2))"
      ]
     },
     "execution_count": 23,
     "metadata": {},
     "output_type": "execute_result"
    }
   ],
   "source": [
    "te_x_df.shape, te_i_df.shape"
   ]
  },
  {
   "cell_type": "code",
   "execution_count": 24,
   "id": "66b3e889-54c3-4849-87c4-78e604a8fc7f",
   "metadata": {},
   "outputs": [],
   "source": [
    "prev_cols = tr_x_df.columns[len(x_cols_only):]"
   ]
  },
  {
   "cell_type": "code",
   "execution_count": 25,
   "id": "a51ee724-553c-4a92-a552-1dcc49de97a7",
   "metadata": {},
   "outputs": [
    {
     "data": {
      "text/html": [
       "<div>\n",
       "<style scoped>\n",
       "    .dataframe tbody tr th:only-of-type {\n",
       "        vertical-align: middle;\n",
       "    }\n",
       "\n",
       "    .dataframe tbody tr th {\n",
       "        vertical-align: top;\n",
       "    }\n",
       "\n",
       "    .dataframe thead th {\n",
       "        text-align: right;\n",
       "    }\n",
       "</style>\n",
       "<table border=\"1\" class=\"dataframe\">\n",
       "  <thead>\n",
       "    <tr style=\"text-align: right;\">\n",
       "      <th></th>\n",
       "      <th></th>\n",
       "      <th>prev_deaths_03back</th>\n",
       "      <th>prev_deaths_02back</th>\n",
       "      <th>prev_deaths_01back</th>\n",
       "    </tr>\n",
       "    <tr>\n",
       "      <th>geoid</th>\n",
       "      <th>timestep</th>\n",
       "      <th></th>\n",
       "      <th></th>\n",
       "      <th></th>\n",
       "    </tr>\n",
       "  </thead>\n",
       "  <tbody>\n",
       "    <tr>\n",
       "      <th>17031010100</th>\n",
       "      <th>9</th>\n",
       "      <td>2</td>\n",
       "      <td>0</td>\n",
       "      <td>1</td>\n",
       "    </tr>\n",
       "    <tr>\n",
       "      <th>17031010201</th>\n",
       "      <th>9</th>\n",
       "      <td>0</td>\n",
       "      <td>0</td>\n",
       "      <td>0</td>\n",
       "    </tr>\n",
       "    <tr>\n",
       "      <th>17031010202</th>\n",
       "      <th>9</th>\n",
       "      <td>0</td>\n",
       "      <td>0</td>\n",
       "      <td>0</td>\n",
       "    </tr>\n",
       "    <tr>\n",
       "      <th>17031010300</th>\n",
       "      <th>9</th>\n",
       "      <td>1</td>\n",
       "      <td>0</td>\n",
       "      <td>0</td>\n",
       "    </tr>\n",
       "    <tr>\n",
       "      <th>17031010400</th>\n",
       "      <th>9</th>\n",
       "      <td>0</td>\n",
       "      <td>0</td>\n",
       "      <td>1</td>\n",
       "    </tr>\n",
       "    <tr>\n",
       "      <th>...</th>\n",
       "      <th>...</th>\n",
       "      <td>...</td>\n",
       "      <td>...</td>\n",
       "      <td>...</td>\n",
       "    </tr>\n",
       "    <tr>\n",
       "      <th>17031843700</th>\n",
       "      <th>20</th>\n",
       "      <td>0</td>\n",
       "      <td>0</td>\n",
       "      <td>0</td>\n",
       "    </tr>\n",
       "    <tr>\n",
       "      <th>17031843800</th>\n",
       "      <th>20</th>\n",
       "      <td>0</td>\n",
       "      <td>0</td>\n",
       "      <td>1</td>\n",
       "    </tr>\n",
       "    <tr>\n",
       "      <th>17031843900</th>\n",
       "      <th>20</th>\n",
       "      <td>0</td>\n",
       "      <td>0</td>\n",
       "      <td>1</td>\n",
       "    </tr>\n",
       "    <tr>\n",
       "      <th>17031844600</th>\n",
       "      <th>20</th>\n",
       "      <td>0</td>\n",
       "      <td>0</td>\n",
       "      <td>0</td>\n",
       "    </tr>\n",
       "    <tr>\n",
       "      <th>17031844700</th>\n",
       "      <th>20</th>\n",
       "      <td>0</td>\n",
       "      <td>3</td>\n",
       "      <td>0</td>\n",
       "    </tr>\n",
       "  </tbody>\n",
       "</table>\n",
       "<p>15936 rows × 3 columns</p>\n",
       "</div>"
      ],
      "text/plain": [
       "                      prev_deaths_03back  prev_deaths_02back  \\\n",
       "geoid       timestep                                           \n",
       "17031010100 9                          2                   0   \n",
       "17031010201 9                          0                   0   \n",
       "17031010202 9                          0                   0   \n",
       "17031010300 9                          1                   0   \n",
       "17031010400 9                          0                   0   \n",
       "...                                  ...                 ...   \n",
       "17031843700 20                         0                   0   \n",
       "17031843800 20                         0                   0   \n",
       "17031843900 20                         0                   0   \n",
       "17031844600 20                         0                   0   \n",
       "17031844700 20                         0                   3   \n",
       "\n",
       "                      prev_deaths_01back  \n",
       "geoid       timestep                      \n",
       "17031010100 9                          1  \n",
       "17031010201 9                          0  \n",
       "17031010202 9                          0  \n",
       "17031010300 9                          0  \n",
       "17031010400 9                          1  \n",
       "...                                  ...  \n",
       "17031843700 20                         0  \n",
       "17031843800 20                         1  \n",
       "17031843900 20                         1  \n",
       "17031844600 20                         0  \n",
       "17031844700 20                         0  \n",
       "\n",
       "[15936 rows x 3 columns]"
      ]
     },
     "execution_count": 25,
     "metadata": {},
     "output_type": "execute_result"
    }
   ],
   "source": [
    "tr_x_df[prev_cols]"
   ]
  },
  {
   "cell_type": "code",
   "execution_count": null,
   "id": "fc3def82-a992-44cc-abb7-f60d2a2eb032",
   "metadata": {},
   "outputs": [],
   "source": []
  }
 ],
 "metadata": {
  "kernelspec": {
   "display_name": "Python 3 (ipykernel)",
   "language": "python",
   "name": "python3"
  },
  "language_info": {
   "codemirror_mode": {
    "name": "ipython",
    "version": 3
   },
   "file_extension": ".py",
   "mimetype": "text/x-python",
   "name": "python",
   "nbconvert_exporter": "python",
   "pygments_lexer": "ipython3",
   "version": "3.10.12"
  }
 },
 "nbformat": 4,
 "nbformat_minor": 5
}
