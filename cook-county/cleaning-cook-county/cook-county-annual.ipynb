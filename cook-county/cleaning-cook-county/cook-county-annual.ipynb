{
 "cells": [
  {
   "cell_type": "code",
   "execution_count": 1,
   "id": "793194eb",
   "metadata": {
    "execution": {
     "iopub.execute_input": "2024-02-07T22:15:57.839336Z",
     "iopub.status.busy": "2024-02-07T22:15:57.839336Z",
     "iopub.status.idle": "2024-02-07T22:16:01.854844Z",
     "shell.execute_reply": "2024-02-07T22:16:01.853516Z"
    }
   },
   "outputs": [
    {
     "name": "stderr",
     "output_type": "stream",
     "text": [
      "C:\\Users\\Thinkpad\\anaconda3\\lib\\site-packages\\scipy\\__init__.py:146: UserWarning: A NumPy version >=1.16.5 and <1.23.0 is required for this version of SciPy (detected version 1.24.3\n",
      "  warnings.warn(f\"A NumPy version >={np_minversion} and <{np_maxversion}\"\n"
     ]
    }
   ],
   "source": [
    "#import libraries\n",
    "import numpy as np\n",
    "import geopandas as gpd\n",
    "import shapely \n",
    "import matplotlib.pyplot as plt\n",
    "import os\n",
    "#import seaborn as sns\n",
    "import pandas as pd\n",
    "import sklearn"
   ]
  },
  {
   "cell_type": "code",
   "execution_count": 2,
   "id": "7f50b084",
   "metadata": {
    "execution": {
     "iopub.execute_input": "2024-02-07T22:16:01.861841Z",
     "iopub.status.busy": "2024-02-07T22:16:01.861841Z",
     "iopub.status.idle": "2024-02-07T22:16:02.435386Z",
     "shell.execute_reply": "2024-02-07T22:16:02.434423Z"
    }
   },
   "outputs": [],
   "source": [
    "# user should replace with their directory\n",
    "os.environ['DATA_DIR'] = 'data_dir'\n",
    "data_dir = os.environ.get('DATA_DIR',)\n",
    "\n",
    "csv_path = os.path.join(data_dir, 'cook_county_gdf_intro_year.csv')\n",
    "cook_county_gdf = pd.read_csv(csv_path) "
   ]
  },
  {
   "cell_type": "code",
   "execution_count": 3,
   "id": "64ec9796",
   "metadata": {
    "execution": {
     "iopub.execute_input": "2024-02-07T22:16:02.438418Z",
     "iopub.status.busy": "2024-02-07T22:16:02.438418Z",
     "iopub.status.idle": "2024-02-07T22:16:02.454553Z",
     "shell.execute_reply": "2024-02-07T22:16:02.453173Z"
    }
   },
   "outputs": [
    {
     "data": {
      "text/plain": [
       "56"
      ]
     },
     "execution_count": 3,
     "metadata": {},
     "output_type": "execute_result"
    }
   ],
   "source": [
    "cook_county_gdf.year.isna().sum()"
   ]
  },
  {
   "cell_type": "code",
   "execution_count": 4,
   "id": "75edcc46",
   "metadata": {
    "execution": {
     "iopub.execute_input": "2024-02-07T22:16:02.461552Z",
     "iopub.status.busy": "2024-02-07T22:16:02.461552Z",
     "iopub.status.idle": "2024-02-07T22:16:02.469829Z",
     "shell.execute_reply": "2024-02-07T22:16:02.468550Z"
    }
   },
   "outputs": [],
   "source": [
    "cook_county_gdf['year'].fillna(9999, inplace=True)"
   ]
  },
  {
   "cell_type": "code",
   "execution_count": 5,
   "id": "fdf7c54e",
   "metadata": {
    "execution": {
     "iopub.execute_input": "2024-02-07T22:16:02.477219Z",
     "iopub.status.busy": "2024-02-07T22:16:02.476218Z",
     "iopub.status.idle": "2024-02-07T22:16:02.486396Z",
     "shell.execute_reply": "2024-02-07T22:16:02.486396Z"
    },
    "scrolled": true
   },
   "outputs": [
    {
     "data": {
      "text/plain": [
       "(56, 15)"
      ]
     },
     "execution_count": 5,
     "metadata": {},
     "output_type": "execute_result"
    }
   ],
   "source": [
    "cook_county_gdf[cook_county_gdf['year']==9999].shape #56"
   ]
  },
  {
   "cell_type": "code",
   "execution_count": 6,
   "id": "6f4255d4",
   "metadata": {
    "execution": {
     "iopub.execute_input": "2024-02-07T22:16:02.486396Z",
     "iopub.status.busy": "2024-02-07T22:16:02.486396Z",
     "iopub.status.idle": "2024-02-07T22:16:02.504473Z",
     "shell.execute_reply": "2024-02-07T22:16:02.503468Z"
    }
   },
   "outputs": [
    {
     "data": {
      "text/plain": [
       "1332"
      ]
     },
     "execution_count": 6,
     "metadata": {},
     "output_type": "execute_result"
    }
   ],
   "source": [
    "cook_county_gdf['geoid'].nunique() #now we have all census tracts (1332)"
   ]
  },
  {
   "cell_type": "code",
   "execution_count": 7,
   "id": "f1b1f263",
   "metadata": {
    "execution": {
     "iopub.execute_input": "2024-02-07T22:16:02.511468Z",
     "iopub.status.busy": "2024-02-07T22:16:02.511468Z",
     "iopub.status.idle": "2024-02-07T22:16:02.554524Z",
     "shell.execute_reply": "2024-02-07T22:16:02.553166Z"
    }
   },
   "outputs": [],
   "source": [
    "columns_to_keep = ['INTPTLAT', 'INTPTLON', \n",
    "        'STATEFP', 'COUNTYFP', 'TRACTCE','NAME', 'NAMELSAD', 'MTFCC', 'FUNCSTAT', 'ALAND', 'AWATER',\n",
    "       'geometry']\n",
    "\n",
    "#aggregate deaths, group by year\n",
    "gdf_annual = cook_county_gdf.groupby(['geoid', 'year']).agg({'deaths': 'sum', **{col: 'first' for col in columns_to_keep}}).reset_index()"
   ]
  },
  {
   "cell_type": "markdown",
   "id": "1c99ae38",
   "metadata": {},
   "source": [
    "### Making DF square - one year for each tract\n",
    "\n"
   ]
  },
  {
   "cell_type": "code",
   "execution_count": 8,
   "id": "678bc89c",
   "metadata": {
    "execution": {
     "iopub.execute_input": "2024-02-07T22:16:02.561523Z",
     "iopub.status.busy": "2024-02-07T22:16:02.560529Z",
     "iopub.status.idle": "2024-02-07T22:16:02.570176Z",
     "shell.execute_reply": "2024-02-07T22:16:02.569766Z"
    }
   },
   "outputs": [],
   "source": [
    "gdf_annual.loc[gdf_annual['year'] == 9999, 'deaths'] = 0\n",
    "\n",
    "# Replace 9999 with 2015 in the 'year' column\n",
    "gdf_annual['year'].replace(9999, 2015, inplace=True)"
   ]
  },
  {
   "cell_type": "code",
   "execution_count": 9,
   "id": "936b2393",
   "metadata": {
    "execution": {
     "iopub.execute_input": "2024-02-07T22:16:02.577187Z",
     "iopub.status.busy": "2024-02-07T22:16:02.576174Z",
     "iopub.status.idle": "2024-02-07T22:16:03.519757Z",
     "shell.execute_reply": "2024-02-07T22:16:03.517930Z"
    }
   },
   "outputs": [],
   "source": [
    "##uses nested for loops - not exactly the most efficient \n",
    "\n",
    "years = range(2015, 2024)\n",
    "updated_rows = []\n",
    "\n",
    "for tract in gdf_annual['geoid'].unique():\n",
    "    existing_years = set(gdf_annual[gdf_annual['geoid'] == tract]['year'])\n",
    "    missing_years = set(years) - existing_years\n",
    "    \n",
    "    for year in missing_years:\n",
    "        new_row = {'geoid': tract, \n",
    "                   'year': year, \n",
    "                   'deaths': 0}\n",
    "        \n",
    "        updated_rows.append(new_row)\n",
    "\n",
    "gdf_annual = pd.concat([gdf_annual, pd.DataFrame(updated_rows)], ignore_index=True)"
   ]
  },
  {
   "cell_type": "code",
   "execution_count": 10,
   "id": "f6b38cba",
   "metadata": {
    "execution": {
     "iopub.execute_input": "2024-02-07T22:16:03.526757Z",
     "iopub.status.busy": "2024-02-07T22:16:03.526757Z",
     "iopub.status.idle": "2024-02-07T22:16:17.626749Z",
     "shell.execute_reply": "2024-02-07T22:16:17.625660Z"
    }
   },
   "outputs": [],
   "source": [
    "unique_tracts = gdf_annual['geoid'].unique()\n",
    "\n",
    "for tract in unique_tracts:\n",
    "    tract_rows = gdf_annual[gdf_annual['geoid'] == tract]\n",
    "    non_na_row = tract_rows.dropna().iloc[0]  # Get the first row without any NAs\n",
    "    \n",
    "    for column in columns_to_keep:\n",
    "        gdf_annual.loc[(gdf_annual['geoid'] == tract) & gdf_annual[column].isna(), column] = non_na_row[column]"
   ]
  },
  {
   "cell_type": "code",
   "execution_count": 11,
   "id": "649285bd",
   "metadata": {
    "execution": {
     "iopub.execute_input": "2024-02-07T22:16:17.626749Z",
     "iopub.status.busy": "2024-02-07T22:16:17.626749Z",
     "iopub.status.idle": "2024-02-07T22:16:17.644484Z",
     "shell.execute_reply": "2024-02-07T22:16:17.643483Z"
    }
   },
   "outputs": [
    {
     "data": {
      "text/plain": [
       "(12174, 15)"
      ]
     },
     "execution_count": 11,
     "metadata": {},
     "output_type": "execute_result"
    }
   ],
   "source": [
    "gdf_annual.shape #should be 11988, 15"
   ]
  },
  {
   "cell_type": "code",
   "execution_count": 12,
   "id": "3ff233a6",
   "metadata": {
    "execution": {
     "iopub.execute_input": "2024-02-07T22:16:17.646224Z",
     "iopub.status.busy": "2024-02-07T22:16:17.646224Z",
     "iopub.status.idle": "2024-02-07T22:16:17.677909Z",
     "shell.execute_reply": "2024-02-07T22:16:17.676730Z"
    }
   },
   "outputs": [
    {
     "name": "stdout",
     "output_type": "stream",
     "text": [
      "There are no missing values in the dataframe.\n"
     ]
    }
   ],
   "source": [
    "#Any NAs in data frame?\n",
    "\n",
    "has_na = gdf_annual.isna().any().any()\n",
    "\n",
    "if has_na:\n",
    "    print(\"There are missing values in the dataframe.\")\n",
    "else:\n",
    "    print(\"There are no missing values in the dataframe.\")\n"
   ]
  },
  {
   "cell_type": "code",
   "execution_count": 13,
   "id": "7c53b18e",
   "metadata": {
    "execution": {
     "iopub.execute_input": "2024-02-07T22:16:17.677909Z",
     "iopub.status.busy": "2024-02-07T22:16:17.677909Z",
     "iopub.status.idle": "2024-02-07T22:16:22.773871Z",
     "shell.execute_reply": "2024-02-07T22:16:22.773244Z"
    }
   },
   "outputs": [],
   "source": [
    "# Confirms all years for each geoid present\n",
    "years = range(2015, 2023)  # data collect started in late '14, we ran this notebook in mid '23\n",
    "\n",
    "for geoid in gdf_annual['geoid'].unique():\n",
    "    for year in years:\n",
    "        if not ((gdf_annual['geoid'] == geoid) & (gdf_annual['year'] == year)).any():\n",
    "            print(\"Missing row for geoid {} in year {}\".format(geoid, year))"
   ]
  },
  {
   "cell_type": "code",
   "execution_count": 14,
   "id": "6a1577a1-aa36-4d9b-a140-2f0dedcb9f77",
   "metadata": {
    "execution": {
     "iopub.execute_input": "2024-02-07T22:16:22.777871Z",
     "iopub.status.busy": "2024-02-07T22:16:22.777871Z",
     "iopub.status.idle": "2024-02-07T22:16:22.790190Z",
     "shell.execute_reply": "2024-02-07T22:16:22.788907Z"
    }
   },
   "outputs": [
    {
     "data": {
      "text/plain": [
       "(12174, 15)"
      ]
     },
     "execution_count": 14,
     "metadata": {},
     "output_type": "execute_result"
    }
   ],
   "source": [
    "gdf_annual.shape"
   ]
  },
  {
   "cell_type": "code",
   "execution_count": 15,
   "id": "7a3dd6a0-e688-4d51-a28a-396599a7f693",
   "metadata": {
    "execution": {
     "iopub.execute_input": "2024-02-07T22:16:22.790190Z",
     "iopub.status.busy": "2024-02-07T22:16:22.790190Z",
     "iopub.status.idle": "2024-02-07T22:16:22.807329Z",
     "shell.execute_reply": "2024-02-07T22:16:22.805846Z"
    }
   },
   "outputs": [],
   "source": [
    "# BUGFIX: discard any data related to years outside the study period"
   ]
  },
  {
   "cell_type": "code",
   "execution_count": 16,
   "id": "9a6cd95d-fccd-4fbe-a1a4-a8f9e3e0566a",
   "metadata": {
    "execution": {
     "iopub.execute_input": "2024-02-07T22:16:22.811333Z",
     "iopub.status.busy": "2024-02-07T22:16:22.811333Z",
     "iopub.status.idle": "2024-02-07T22:16:22.823815Z",
     "shell.execute_reply": "2024-02-07T22:16:22.823498Z"
    }
   },
   "outputs": [
    {
     "data": {
      "text/plain": [
       "(10656, 15)"
      ]
     },
     "execution_count": 16,
     "metadata": {},
     "output_type": "execute_result"
    }
   ],
   "source": [
    "gdf_keep = gdf_annual.query(\"year >= %d & year <= %d\" % (years[0], years[-1])).copy()\n",
    "gdf_keep.shape"
   ]
  },
  {
   "cell_type": "code",
   "execution_count": 17,
   "id": "bf999a9b-e5a2-49b2-8fc5-ff2e73d54c78",
   "metadata": {
    "execution": {
     "iopub.execute_input": "2024-02-07T22:16:22.827781Z",
     "iopub.status.busy": "2024-02-07T22:16:22.826783Z",
     "iopub.status.idle": "2024-02-07T22:16:22.839675Z",
     "shell.execute_reply": "2024-02-07T22:16:22.838665Z"
    }
   },
   "outputs": [
    {
     "data": {
      "text/plain": [
       "[2015.0, 2016.0, 2017.0, 2018.0, 2019.0, 2020.0, 2021.0, 2022.0]"
      ]
     },
     "execution_count": 17,
     "metadata": {},
     "output_type": "execute_result"
    }
   ],
   "source": [
    "sorted(gdf_keep.year.unique())"
   ]
  },
  {
   "cell_type": "code",
   "execution_count": 18,
   "id": "d0ad405f",
   "metadata": {
    "execution": {
     "iopub.execute_input": "2024-02-07T22:16:22.840086Z",
     "iopub.status.busy": "2024-02-07T22:16:22.840086Z",
     "iopub.status.idle": "2024-02-07T22:16:24.456201Z",
     "shell.execute_reply": "2024-02-07T22:16:24.454869Z"
    }
   },
   "outputs": [
    {
     "name": "stderr",
     "output_type": "stream",
     "text": [
      "C:\\Users\\Thinkpad\\anaconda3\\lib\\site-packages\\pyproj\\crs\\crs.py:141: FutureWarning: '+init=<authority>:<code>' syntax is deprecated. '<authority>:<code>' is the preferred initialization method. When making the change, be mindful of axis order changes: https://pyproj4.github.io/pyproj/stable/gotchas.html#axis-order-changes-in-proj-6\n",
      "  in_crs_string = _prepare_from_proj_string(in_crs_string)\n"
     ]
    }
   ],
   "source": [
    "#convert back to gdf\n",
    "from shapely import wkt\n",
    "gdf_keep['geometry'] = gdf_keep['geometry'].apply(wkt.loads)\n",
    "\n",
    "annual_gdf = gpd.GeoDataFrame(gdf_keep, geometry='geometry')\n",
    "annual_gdf.crs = {'init': 'EPSG:4269'}"
   ]
  },
  {
   "cell_type": "code",
   "execution_count": 19,
   "id": "c356145a",
   "metadata": {
    "execution": {
     "iopub.execute_input": "2024-02-07T22:16:24.459704Z",
     "iopub.status.busy": "2024-02-07T22:16:24.459704Z",
     "iopub.status.idle": "2024-02-07T22:16:24.489028Z",
     "shell.execute_reply": "2024-02-07T22:16:24.487995Z"
    }
   },
   "outputs": [],
   "source": [
    "# Create timestep column\n",
    "\n",
    "annual_gdf = annual_gdf.sort_values(by=['geoid', 'year']).reset_index(drop=True).copy()\n",
    "\n",
    "# Group the DataFrame by 'geoid' and assign a unique timestep value based on the order of years\n",
    "annual_gdf['timestep'] = annual_gdf.groupby('geoid').cumcount() + 1\n",
    "\n",
    "# Create 'year_frac' column that indicates timeperiod in fractional years\n",
    "annual_gdf['year_frac'] = annual_gdf['year'].copy() # in annual case, these are identical"
   ]
  },
  {
   "cell_type": "code",
   "execution_count": 20,
   "id": "b8d60c11-5e3b-4d59-9d33-44cec267db42",
   "metadata": {
    "execution": {
     "iopub.execute_input": "2024-02-07T22:16:24.489028Z",
     "iopub.status.busy": "2024-02-07T22:16:24.489028Z",
     "iopub.status.idle": "2024-02-07T22:16:24.522928Z",
     "shell.execute_reply": "2024-02-07T22:16:24.521598Z"
    }
   },
   "outputs": [
    {
     "data": {
      "text/html": [
       "<div>\n",
       "<style scoped>\n",
       "    .dataframe tbody tr th:only-of-type {\n",
       "        vertical-align: middle;\n",
       "    }\n",
       "\n",
       "    .dataframe tbody tr th {\n",
       "        vertical-align: top;\n",
       "    }\n",
       "\n",
       "    .dataframe thead th {\n",
       "        text-align: right;\n",
       "    }\n",
       "</style>\n",
       "<table border=\"1\" class=\"dataframe\">\n",
       "  <thead>\n",
       "    <tr style=\"text-align: right;\">\n",
       "      <th></th>\n",
       "      <th>geoid</th>\n",
       "      <th>year</th>\n",
       "      <th>timestep</th>\n",
       "    </tr>\n",
       "  </thead>\n",
       "  <tbody>\n",
       "    <tr>\n",
       "      <th>0</th>\n",
       "      <td>17031010100</td>\n",
       "      <td>2015.0</td>\n",
       "      <td>1</td>\n",
       "    </tr>\n",
       "    <tr>\n",
       "      <th>1</th>\n",
       "      <td>17031010100</td>\n",
       "      <td>2016.0</td>\n",
       "      <td>2</td>\n",
       "    </tr>\n",
       "    <tr>\n",
       "      <th>2</th>\n",
       "      <td>17031010100</td>\n",
       "      <td>2017.0</td>\n",
       "      <td>3</td>\n",
       "    </tr>\n",
       "    <tr>\n",
       "      <th>3</th>\n",
       "      <td>17031010100</td>\n",
       "      <td>2018.0</td>\n",
       "      <td>4</td>\n",
       "    </tr>\n",
       "    <tr>\n",
       "      <th>4</th>\n",
       "      <td>17031010100</td>\n",
       "      <td>2019.0</td>\n",
       "      <td>5</td>\n",
       "    </tr>\n",
       "    <tr>\n",
       "      <th>5</th>\n",
       "      <td>17031010100</td>\n",
       "      <td>2020.0</td>\n",
       "      <td>6</td>\n",
       "    </tr>\n",
       "    <tr>\n",
       "      <th>6</th>\n",
       "      <td>17031010100</td>\n",
       "      <td>2021.0</td>\n",
       "      <td>7</td>\n",
       "    </tr>\n",
       "    <tr>\n",
       "      <th>7</th>\n",
       "      <td>17031010100</td>\n",
       "      <td>2022.0</td>\n",
       "      <td>8</td>\n",
       "    </tr>\n",
       "  </tbody>\n",
       "</table>\n",
       "</div>"
      ],
      "text/plain": [
       "         geoid    year  timestep\n",
       "0  17031010100  2015.0         1\n",
       "1  17031010100  2016.0         2\n",
       "2  17031010100  2017.0         3\n",
       "3  17031010100  2018.0         4\n",
       "4  17031010100  2019.0         5\n",
       "5  17031010100  2020.0         6\n",
       "6  17031010100  2021.0         7\n",
       "7  17031010100  2022.0         8"
      ]
     },
     "execution_count": 20,
     "metadata": {},
     "output_type": "execute_result"
    }
   ],
   "source": [
    "annual_gdf.query(\"geoid == 17031010100\")[['geoid', 'year', 'timestep']]"
   ]
  },
  {
   "cell_type": "code",
   "execution_count": 21,
   "id": "cdce95dc-d82a-46f1-8441-7de6a6b86a15",
   "metadata": {
    "execution": {
     "iopub.execute_input": "2024-02-07T22:16:24.525930Z",
     "iopub.status.busy": "2024-02-07T22:16:24.525930Z",
     "iopub.status.idle": "2024-02-07T22:16:24.540275Z",
     "shell.execute_reply": "2024-02-07T22:16:24.539029Z"
    }
   },
   "outputs": [
    {
     "data": {
      "text/html": [
       "<div>\n",
       "<style scoped>\n",
       "    .dataframe tbody tr th:only-of-type {\n",
       "        vertical-align: middle;\n",
       "    }\n",
       "\n",
       "    .dataframe tbody tr th {\n",
       "        vertical-align: top;\n",
       "    }\n",
       "\n",
       "    .dataframe thead th {\n",
       "        text-align: right;\n",
       "    }\n",
       "</style>\n",
       "<table border=\"1\" class=\"dataframe\">\n",
       "  <thead>\n",
       "    <tr style=\"text-align: right;\">\n",
       "      <th></th>\n",
       "      <th>geoid</th>\n",
       "      <th>year</th>\n",
       "      <th>timestep</th>\n",
       "    </tr>\n",
       "  </thead>\n",
       "  <tbody>\n",
       "    <tr>\n",
       "      <th>10624</th>\n",
       "      <td>17031844700</td>\n",
       "      <td>2015.0</td>\n",
       "      <td>1</td>\n",
       "    </tr>\n",
       "    <tr>\n",
       "      <th>10625</th>\n",
       "      <td>17031844700</td>\n",
       "      <td>2016.0</td>\n",
       "      <td>2</td>\n",
       "    </tr>\n",
       "    <tr>\n",
       "      <th>10626</th>\n",
       "      <td>17031844700</td>\n",
       "      <td>2017.0</td>\n",
       "      <td>3</td>\n",
       "    </tr>\n",
       "    <tr>\n",
       "      <th>10627</th>\n",
       "      <td>17031844700</td>\n",
       "      <td>2018.0</td>\n",
       "      <td>4</td>\n",
       "    </tr>\n",
       "    <tr>\n",
       "      <th>10628</th>\n",
       "      <td>17031844700</td>\n",
       "      <td>2019.0</td>\n",
       "      <td>5</td>\n",
       "    </tr>\n",
       "    <tr>\n",
       "      <th>10629</th>\n",
       "      <td>17031844700</td>\n",
       "      <td>2020.0</td>\n",
       "      <td>6</td>\n",
       "    </tr>\n",
       "    <tr>\n",
       "      <th>10630</th>\n",
       "      <td>17031844700</td>\n",
       "      <td>2021.0</td>\n",
       "      <td>7</td>\n",
       "    </tr>\n",
       "    <tr>\n",
       "      <th>10631</th>\n",
       "      <td>17031844700</td>\n",
       "      <td>2022.0</td>\n",
       "      <td>8</td>\n",
       "    </tr>\n",
       "  </tbody>\n",
       "</table>\n",
       "</div>"
      ],
      "text/plain": [
       "             geoid    year  timestep\n",
       "10624  17031844700  2015.0         1\n",
       "10625  17031844700  2016.0         2\n",
       "10626  17031844700  2017.0         3\n",
       "10627  17031844700  2018.0         4\n",
       "10628  17031844700  2019.0         5\n",
       "10629  17031844700  2020.0         6\n",
       "10630  17031844700  2021.0         7\n",
       "10631  17031844700  2022.0         8"
      ]
     },
     "execution_count": 21,
     "metadata": {},
     "output_type": "execute_result"
    }
   ],
   "source": [
    "annual_gdf.query(\"geoid == 17031844700\")[['geoid', 'year', 'timestep']]"
   ]
  },
  {
   "cell_type": "code",
   "execution_count": 22,
   "id": "b7092f3f-2b41-43fd-bd18-0c91268f0c4e",
   "metadata": {
    "execution": {
     "iopub.execute_input": "2024-02-07T22:16:24.540919Z",
     "iopub.status.busy": "2024-02-07T22:16:24.540919Z",
     "iopub.status.idle": "2024-02-07T22:16:24.556195Z",
     "shell.execute_reply": "2024-02-07T22:16:24.555811Z"
    }
   },
   "outputs": [
    {
     "data": {
      "text/plain": [
       "Index(['geoid', 'year', 'deaths', 'INTPTLAT', 'INTPTLON', 'STATEFP',\n",
       "       'COUNTYFP', 'TRACTCE', 'NAME', 'NAMELSAD', 'MTFCC', 'FUNCSTAT', 'ALAND',\n",
       "       'AWATER', 'geometry', 'timestep', 'year_frac'],\n",
       "      dtype='object')"
      ]
     },
     "execution_count": 22,
     "metadata": {},
     "output_type": "execute_result"
    }
   ],
   "source": [
    "annual_gdf.columns"
   ]
  },
  {
   "cell_type": "code",
   "execution_count": 23,
   "id": "40f6cfe1",
   "metadata": {
    "execution": {
     "iopub.execute_input": "2024-02-07T22:16:24.562196Z",
     "iopub.status.busy": "2024-02-07T22:16:24.561197Z",
     "iopub.status.idle": "2024-02-07T22:16:24.574013Z",
     "shell.execute_reply": "2024-02-07T22:16:24.572989Z"
    }
   },
   "outputs": [],
   "source": [
    "# REORDER columns to be easier for humans to inspect\n",
    "annual_gdf = annual_gdf[[\n",
    "    'geoid', 'timestep', 'year_frac', \n",
    "    'deaths',\n",
    "    'year']\n",
    "    + columns_to_keep\n",
    "    ].copy()\n"
   ]
  },
  {
   "cell_type": "code",
   "execution_count": 24,
   "id": "31148e26-4b72-4243-9069-0c4e921e74c0",
   "metadata": {
    "execution": {
     "iopub.execute_input": "2024-02-07T22:16:24.577032Z",
     "iopub.status.busy": "2024-02-07T22:16:24.577032Z",
     "iopub.status.idle": "2024-02-07T22:16:24.589100Z",
     "shell.execute_reply": "2024-02-07T22:16:24.588134Z"
    }
   },
   "outputs": [
    {
     "data": {
      "text/plain": [
       "Index(['geoid', 'timestep', 'year_frac', 'deaths', 'year', 'INTPTLAT',\n",
       "       'INTPTLON', 'STATEFP', 'COUNTYFP', 'TRACTCE', 'NAME', 'NAMELSAD',\n",
       "       'MTFCC', 'FUNCSTAT', 'ALAND', 'AWATER', 'geometry'],\n",
       "      dtype='object')"
      ]
     },
     "execution_count": 24,
     "metadata": {},
     "output_type": "execute_result"
    }
   ],
   "source": [
    "annual_gdf.columns"
   ]
  },
  {
   "cell_type": "markdown",
   "id": "64d5cf4e-f4af-4f1d-8ab9-5ba4d26e8e4d",
   "metadata": {},
   "source": [
    "## Verification: each tstep should map to exactly one year"
   ]
  },
  {
   "cell_type": "code",
   "execution_count": 25,
   "id": "cdbf050e-acf6-4721-a5bb-315b9ecf5fd9",
   "metadata": {
    "execution": {
     "iopub.execute_input": "2024-02-07T22:16:24.589100Z",
     "iopub.status.busy": "2024-02-07T22:16:24.589100Z",
     "iopub.status.idle": "2024-02-07T22:16:24.606148Z",
     "shell.execute_reply": "2024-02-07T22:16:24.604818Z"
    }
   },
   "outputs": [],
   "source": [
    "years = annual_gdf['year'].values\n",
    "tsteps = annual_gdf['timestep'].values\n",
    "from collections import defaultdict\n",
    "\n",
    "y2t = defaultdict(set)\n",
    "for aa in range(years.size):\n",
    "    y2t[years[aa]].add(tsteps[aa])\n",
    "    "
   ]
  },
  {
   "cell_type": "code",
   "execution_count": 26,
   "id": "8b8c288e-e3a3-4deb-a51b-5987696a8b8f",
   "metadata": {
    "execution": {
     "iopub.execute_input": "2024-02-07T22:16:24.609150Z",
     "iopub.status.busy": "2024-02-07T22:16:24.609150Z",
     "iopub.status.idle": "2024-02-07T22:16:24.621154Z",
     "shell.execute_reply": "2024-02-07T22:16:24.620254Z"
    }
   },
   "outputs": [
    {
     "data": {
      "text/plain": [
       "defaultdict(set,\n",
       "            {2015.0: {1},\n",
       "             2016.0: {2},\n",
       "             2017.0: {3},\n",
       "             2018.0: {4},\n",
       "             2019.0: {5},\n",
       "             2020.0: {6},\n",
       "             2021.0: {7},\n",
       "             2022.0: {8}})"
      ]
     },
     "execution_count": 26,
     "metadata": {},
     "output_type": "execute_result"
    }
   ],
   "source": [
    "y2t"
   ]
  },
  {
   "cell_type": "code",
   "execution_count": 27,
   "id": "c7711c52",
   "metadata": {
    "execution": {
     "iopub.execute_input": "2024-02-07T22:16:24.624685Z",
     "iopub.status.busy": "2024-02-07T22:16:24.624685Z",
     "iopub.status.idle": "2024-02-07T22:16:24.638983Z",
     "shell.execute_reply": "2024-02-07T22:16:24.637835Z"
    }
   },
   "outputs": [],
   "source": [
    "# COMMENTED OUT IN BUGFIX we now do this earlier\n",
    "#gdf_annual = gdf_annual[gdf_annual['year']!=2014] #take out 2014 because ME only started collecting in 08/2014\n",
    "#gdf_annual = gdf_annual[gdf_annual['year'] != 2023] #2023 not complete yet"
   ]
  },
  {
   "cell_type": "markdown",
   "id": "268ea78a",
   "metadata": {},
   "source": [
    "## Tables & Graphs"
   ]
  },
  {
   "cell_type": "code",
   "execution_count": 28,
   "id": "ffda0df1-2606-4699-ace1-d9768c4174a6",
   "metadata": {
    "execution": {
     "iopub.execute_input": "2024-02-07T22:16:24.638983Z",
     "iopub.status.busy": "2024-02-07T22:16:24.638983Z",
     "iopub.status.idle": "2024-02-07T22:16:24.656181Z",
     "shell.execute_reply": "2024-02-07T22:16:24.654790Z"
    }
   },
   "outputs": [],
   "source": [
    "do_plots = False"
   ]
  },
  {
   "cell_type": "code",
   "execution_count": 29,
   "id": "a281fea4",
   "metadata": {
    "execution": {
     "iopub.execute_input": "2024-02-07T22:16:24.658908Z",
     "iopub.status.busy": "2024-02-07T22:16:24.658908Z",
     "iopub.status.idle": "2024-02-07T22:16:24.672954Z",
     "shell.execute_reply": "2024-02-07T22:16:24.672440Z"
    }
   },
   "outputs": [],
   "source": [
    "annual_gdf['year'] = pd.to_datetime(annual_gdf['year'].astype(int).astype(str), format='%Y').dt.year"
   ]
  },
  {
   "cell_type": "code",
   "execution_count": 30,
   "id": "17f2f277",
   "metadata": {
    "execution": {
     "iopub.execute_input": "2024-02-07T22:16:24.676957Z",
     "iopub.status.busy": "2024-02-07T22:16:24.675952Z",
     "iopub.status.idle": "2024-02-07T22:16:24.738913Z",
     "shell.execute_reply": "2024-02-07T22:16:24.737531Z"
    }
   },
   "outputs": [
    {
     "name": "stdout",
     "output_type": "stream",
     "text": [
      "   year Total Deaths Sparsity Rate\n",
      "0  2015          616       67.342%\n",
      "1  2016         1029       53.753%\n",
      "2  2017         1109       53.303%\n",
      "3  2018         1078       54.429%\n",
      "4  2019         1210       52.102%\n",
      "5  2020         1687       43.618%\n",
      "6  2021         1791       43.168%\n",
      "7  2022         1851       43.018%\n"
     ]
    }
   ],
   "source": [
    "sparsity_df = pd.DataFrame(columns=['year', 'Total Deaths', 'Sparsity Rate'])\n",
    "\n",
    "years = range(2015, 2023)\n",
    "for year in years:\n",
    "    year_df = annual_gdf[annual_gdf['year'] == year]\n",
    "    zero_deaths_count = year_df[year_df['deaths'] == 0].shape[0]\n",
    "    total_count = year_df.shape[0]\n",
    "    sparsity_rate = (zero_deaths_count / total_count) * 100\n",
    "    total_deaths = year_df['deaths'].sum()\n",
    "    sparsity_df = pd.concat([sparsity_df, pd.DataFrame({'year': [year], 'Total Deaths': [total_deaths], 'Sparsity Rate': [sparsity_rate]})], ignore_index=True)\n",
    "\n",
    "\n",
    "raw_sparsity = sparsity_df['Sparsity Rate']\n",
    "sparsity_df['Sparsity Rate'] = sparsity_df['Sparsity Rate'].astype(str).apply(lambda x: x[:6] if float(x) >= 10 else x[:5]) + '%' #updated in conciseness_randomness\n",
    "print(sparsity_df)"
   ]
  },
  {
   "cell_type": "code",
   "execution_count": 31,
   "id": "322a49b6",
   "metadata": {
    "execution": {
     "iopub.execute_input": "2024-02-07T22:16:24.738913Z",
     "iopub.status.busy": "2024-02-07T22:16:24.738913Z",
     "iopub.status.idle": "2024-02-07T22:16:24.756148Z",
     "shell.execute_reply": "2024-02-07T22:16:24.754716Z"
    }
   },
   "outputs": [],
   "source": [
    "if do_plots:\n",
    "    plt.figure(figsize=(9, 6))\n",
    "    df_no23 = gdf_annual[gdf_annual['year'] != 2023]\n",
    "    sns.boxplot(x='year', y='deaths', data=df_no23, color='lightblue')\n",
    "\n",
    "    plt.xlabel('Year')\n",
    "    plt.ylabel('Number of Deaths')\n",
    "    plt.title('Distribution of Deaths Across Years')\n",
    "\n",
    "    plt.show()\n"
   ]
  },
  {
   "cell_type": "code",
   "execution_count": 32,
   "id": "51a6af25",
   "metadata": {
    "execution": {
     "iopub.execute_input": "2024-02-07T22:16:24.759259Z",
     "iopub.status.busy": "2024-02-07T22:16:24.759259Z",
     "iopub.status.idle": "2024-02-07T22:16:25.472188Z",
     "shell.execute_reply": "2024-02-07T22:16:25.470543Z"
    }
   },
   "outputs": [
    {
     "data": {
      "image/png": "[encoded data removed]",
      "text/plain": [
       "<Figure size 432x288 with 1 Axes>"
      ]
     },
     "metadata": {
      "needs_background": "light"
     },
     "output_type": "display_data"
    }
   ],
   "source": [
    "plt.rcParams['font.family'] = 'sans-serif'\n",
    "plt.plot(range(2015, 2023), raw_sparsity, color='mediumslateblue')\n",
    "plt.xlabel('Year')\n",
    "plt.ylabel('Sparsity Rate')\n",
    "plt.title('Sparsity Rates Over the Years')\n",
    "plt.grid(False)\n",
    "\n",
    "plt.show()"
   ]
  },
  {
   "cell_type": "markdown",
   "id": "fe186f59",
   "metadata": {},
   "source": [
    "### store gdf"
   ]
  },
  {
   "cell_type": "code",
   "execution_count": 33,
   "id": "91801d81",
   "metadata": {
    "execution": {
     "iopub.execute_input": "2024-02-07T22:16:25.476227Z",
     "iopub.status.busy": "2024-02-07T22:16:25.475187Z",
     "iopub.status.idle": "2024-02-07T22:16:27.904043Z",
     "shell.execute_reply": "2024-02-07T22:16:27.903645Z"
    }
   },
   "outputs": [],
   "source": [
    "annual_gdf.to_csv(csv_path.replace(\"intro\", \"clean\"), index=False)"
   ]
  },
  {
   "cell_type": "code",
   "execution_count": null,
   "id": "d2b1b34a-92fa-49b3-a3c6-12d1be9cdd4d",
   "metadata": {},
   "outputs": [],
   "source": []
  }
 ],
 "metadata": {
  "kernelspec": {
   "display_name": "Python 3 (ipykernel)",
   "language": "python",
   "name": "python3"
  },
  "language_info": {
   "codemirror_mode": {
    "name": "ipython",
    "version": 3
   },
   "file_extension": ".py",
   "mimetype": "text/x-python",
   "name": "python",
   "nbconvert_exporter": "python",
   "pygments_lexer": "ipython3",
   "version": "3.9.12"
  }
 },
 "nbformat": 4,
 "nbformat_minor": 5
}
