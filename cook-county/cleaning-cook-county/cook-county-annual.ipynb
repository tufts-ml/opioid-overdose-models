{
 "cells": [
  {
   "cell_type": "code",
   "execution_count": 1,
   "id": "793194eb",
   "metadata": {
    "execution": {
     "iopub.execute_input": "2023-08-24T15:58:05.513752Z",
     "iopub.status.busy": "2023-08-24T15:58:05.513012Z",
     "iopub.status.idle": "2023-08-24T15:58:07.137707Z",
     "shell.execute_reply": "2023-08-24T15:58:07.136839Z"
    }
   },
   "outputs": [],
   "source": [
    "#import libraries\n",
    "import numpy as np\n",
    "import geopandas as gpd\n",
    "import shapely \n",
    "import matplotlib.pyplot as plt\n",
    "import os\n",
    "#import seaborn as sns\n",
    "import pandas as pd\n",
    "import sklearn"
   ]
  },
  {
   "cell_type": "code",
   "execution_count": 2,
   "id": "7f50b084",
   "metadata": {
    "execution": {
     "iopub.execute_input": "2023-08-24T15:58:07.141114Z",
     "iopub.status.busy": "2023-08-24T15:58:07.140773Z",
     "iopub.status.idle": "2023-08-24T15:58:07.334087Z",
     "shell.execute_reply": "2023-08-24T15:58:07.333532Z"
    }
   },
   "outputs": [],
   "source": [
    "# user should replace with their directory\n",
    "data_dir = os.environ.get('DATA_DIR',)\n",
    "\n",
    "csv_path = os.path.join(data_dir, 'cook_county_gdf_intro_year.csv')\n",
    "cook_county_gdf = pd.read_csv(csv_path) "
   ]
  },
  {
   "cell_type": "code",
   "execution_count": 3,
   "id": "64ec9796",
   "metadata": {
    "execution": {
     "iopub.execute_input": "2023-08-24T15:58:07.337605Z",
     "iopub.status.busy": "2023-08-24T15:58:07.337345Z",
     "iopub.status.idle": "2023-08-24T15:58:07.343499Z",
     "shell.execute_reply": "2023-08-24T15:58:07.343006Z"
    }
   },
   "outputs": [
    {
     "data": {
      "text/plain": [
       "56"
      ]
     },
     "execution_count": 3,
     "metadata": {},
     "output_type": "execute_result"
    }
   ],
   "source": [
    "cook_county_gdf.year.isna().sum()"
   ]
  },
  {
   "cell_type": "code",
   "execution_count": 4,
   "id": "75edcc46",
   "metadata": {
    "execution": {
     "iopub.execute_input": "2023-08-24T15:58:07.346084Z",
     "iopub.status.busy": "2023-08-24T15:58:07.345879Z",
     "iopub.status.idle": "2023-08-24T15:58:07.348990Z",
     "shell.execute_reply": "2023-08-24T15:58:07.348492Z"
    }
   },
   "outputs": [],
   "source": [
    "cook_county_gdf['year'].fillna(9999, inplace=True)"
   ]
  },
  {
   "cell_type": "code",
   "execution_count": 5,
   "id": "fdf7c54e",
   "metadata": {
    "execution": {
     "iopub.execute_input": "2023-08-24T15:58:07.351467Z",
     "iopub.status.busy": "2023-08-24T15:58:07.351256Z",
     "iopub.status.idle": "2023-08-24T15:58:07.355619Z",
     "shell.execute_reply": "2023-08-24T15:58:07.355115Z"
    },
    "scrolled": true
   },
   "outputs": [
    {
     "data": {
      "text/plain": [
       "(56, 15)"
      ]
     },
     "execution_count": 5,
     "metadata": {},
     "output_type": "execute_result"
    }
   ],
   "source": [
    "cook_county_gdf[cook_county_gdf['year']==9999].shape #56"
   ]
  },
  {
   "cell_type": "code",
   "execution_count": 6,
   "id": "6f4255d4",
   "metadata": {
    "execution": {
     "iopub.execute_input": "2023-08-24T15:58:07.358080Z",
     "iopub.status.busy": "2023-08-24T15:58:07.357869Z",
     "iopub.status.idle": "2023-08-24T15:58:07.361754Z",
     "shell.execute_reply": "2023-08-24T15:58:07.361276Z"
    }
   },
   "outputs": [
    {
     "data": {
      "text/plain": [
       "1332"
      ]
     },
     "execution_count": 6,
     "metadata": {},
     "output_type": "execute_result"
    }
   ],
   "source": [
    "cook_county_gdf['geoid'].nunique() #now we have all census tracts (1332)"
   ]
  },
  {
   "cell_type": "code",
   "execution_count": 7,
   "id": "f1b1f263",
   "metadata": {
    "execution": {
     "iopub.execute_input": "2023-08-24T15:58:07.364181Z",
     "iopub.status.busy": "2023-08-24T15:58:07.363969Z",
     "iopub.status.idle": "2023-08-24T15:58:07.377895Z",
     "shell.execute_reply": "2023-08-24T15:58:07.377261Z"
    }
   },
   "outputs": [],
   "source": [
    "columns_to_keep = ['INTPTLAT', 'INTPTLON', \n",
    "        'STATEFP', 'COUNTYFP', 'TRACTCE','NAME', 'NAMELSAD', 'MTFCC', 'FUNCSTAT', 'ALAND', 'AWATER',\n",
    "       'geometry']\n",
    "\n",
    "#aggregate deaths, group by year\n",
    "gdf_annual = cook_county_gdf.groupby(['geoid', 'year']).agg({'deaths': 'sum', **{col: 'first' for col in columns_to_keep}}).reset_index()"
   ]
  },
  {
   "cell_type": "markdown",
   "id": "1c99ae38",
   "metadata": {},
   "source": [
    "### Making DF square - one year for each tract\n",
    "\n"
   ]
  },
  {
   "cell_type": "code",
   "execution_count": 8,
   "id": "678bc89c",
   "metadata": {
    "execution": {
     "iopub.execute_input": "2023-08-24T15:58:07.380789Z",
     "iopub.status.busy": "2023-08-24T15:58:07.380562Z",
     "iopub.status.idle": "2023-08-24T15:58:07.384618Z",
     "shell.execute_reply": "2023-08-24T15:58:07.384110Z"
    }
   },
   "outputs": [],
   "source": [
    "gdf_annual.loc[gdf_annual['year'] == 9999, 'deaths'] = 0\n",
    "\n",
    "# Replace 9999 with 2015 in the 'year' column\n",
    "gdf_annual['year'].replace(9999, 2015, inplace=True)"
   ]
  },
  {
   "cell_type": "code",
   "execution_count": 9,
   "id": "936b2393",
   "metadata": {
    "execution": {
     "iopub.execute_input": "2023-08-24T15:58:07.387063Z",
     "iopub.status.busy": "2023-08-24T15:58:07.386854Z",
     "iopub.status.idle": "2023-08-24T15:58:07.780936Z",
     "shell.execute_reply": "2023-08-24T15:58:07.780398Z"
    }
   },
   "outputs": [],
   "source": [
    "##uses nested for loops - not exactly the most efficient \n",
    "\n",
    "years = range(2015, 2024)\n",
    "updated_rows = []\n",
    "\n",
    "for tract in gdf_annual['geoid'].unique():\n",
    "    existing_years = set(gdf_annual[gdf_annual['geoid'] == tract]['year'])\n",
    "    missing_years = set(years) - existing_years\n",
    "    \n",
    "    for year in missing_years:\n",
    "        new_row = {'geoid': tract, \n",
    "                   'year': year, \n",
    "                   'deaths': 0}\n",
    "        \n",
    "        updated_rows.append(new_row)\n",
    "\n",
    "gdf_annual = pd.concat([gdf_annual, pd.DataFrame(updated_rows)], ignore_index=True)"
   ]
  },
  {
   "cell_type": "code",
   "execution_count": 10,
   "id": "f6b38cba",
   "metadata": {
    "execution": {
     "iopub.execute_input": "2023-08-24T15:58:07.783748Z",
     "iopub.status.busy": "2023-08-24T15:58:07.783507Z",
     "iopub.status.idle": "2023-08-24T15:58:16.851334Z",
     "shell.execute_reply": "2023-08-24T15:58:16.850616Z"
    }
   },
   "outputs": [],
   "source": [
    "unique_tracts = gdf_annual['geoid'].unique()\n",
    "\n",
    "for tract in unique_tracts:\n",
    "    tract_rows = gdf_annual[gdf_annual['geoid'] == tract]\n",
    "    non_na_row = tract_rows.dropna().iloc[0]  # Get the first row without any NAs\n",
    "    \n",
    "    for column in columns_to_keep:\n",
    "        gdf_annual.loc[(gdf_annual['geoid'] == tract) & gdf_annual[column].isna(), column] = non_na_row[column]"
   ]
  },
  {
   "cell_type": "code",
   "execution_count": 11,
   "id": "649285bd",
   "metadata": {
    "execution": {
     "iopub.execute_input": "2023-08-24T15:58:16.854580Z",
     "iopub.status.busy": "2023-08-24T15:58:16.854351Z",
     "iopub.status.idle": "2023-08-24T15:58:16.857778Z",
     "shell.execute_reply": "2023-08-24T15:58:16.857335Z"
    }
   },
   "outputs": [
    {
     "data": {
      "text/plain": [
       "(12174, 15)"
      ]
     },
     "execution_count": 11,
     "metadata": {},
     "output_type": "execute_result"
    }
   ],
   "source": [
    "gdf_annual.shape #should be 11988, 15"
   ]
  },
  {
   "cell_type": "code",
   "execution_count": 12,
   "id": "3ff233a6",
   "metadata": {
    "execution": {
     "iopub.execute_input": "2023-08-24T15:58:16.860283Z",
     "iopub.status.busy": "2023-08-24T15:58:16.860064Z",
     "iopub.status.idle": "2023-08-24T15:58:16.865973Z",
     "shell.execute_reply": "2023-08-24T15:58:16.865510Z"
    }
   },
   "outputs": [
    {
     "name": "stdout",
     "output_type": "stream",
     "text": [
      "There are no missing values in the dataframe.\n"
     ]
    }
   ],
   "source": [
    "#Any NAs in data frame?\n",
    "\n",
    "has_na = gdf_annual.isna().any().any()\n",
    "\n",
    "if has_na:\n",
    "    print(\"There are missing values in the dataframe.\")\n",
    "else:\n",
    "    print(\"There are no missing values in the dataframe.\")\n"
   ]
  },
  {
   "cell_type": "code",
   "execution_count": 13,
   "id": "7c53b18e",
   "metadata": {
    "execution": {
     "iopub.execute_input": "2023-08-24T15:58:16.868338Z",
     "iopub.status.busy": "2023-08-24T15:58:16.868133Z",
     "iopub.status.idle": "2023-08-24T15:58:19.383167Z",
     "shell.execute_reply": "2023-08-24T15:58:19.382579Z"
    }
   },
   "outputs": [],
   "source": [
    "# Confirms all years for each geoid present\n",
    "years = range(2015, 2023)  # data collect started in late '14, we ran this notebook in mid '23\n",
    "\n",
    "for geoid in gdf_annual['geoid'].unique():\n",
    "    for year in years:\n",
    "        if not ((gdf_annual['geoid'] == geoid) & (gdf_annual['year'] == year)).any():\n",
    "            print(\"Missing row for geoid {} in year {}\".format(geoid, year))"
   ]
  },
  {
   "cell_type": "code",
   "execution_count": 14,
   "id": "6a1577a1-aa36-4d9b-a140-2f0dedcb9f77",
   "metadata": {
    "execution": {
     "iopub.execute_input": "2023-08-24T15:58:19.386325Z",
     "iopub.status.busy": "2023-08-24T15:58:19.386035Z",
     "iopub.status.idle": "2023-08-24T15:58:19.389727Z",
     "shell.execute_reply": "2023-08-24T15:58:19.389248Z"
    }
   },
   "outputs": [
    {
     "data": {
      "text/plain": [
       "(12174, 15)"
      ]
     },
     "execution_count": 14,
     "metadata": {},
     "output_type": "execute_result"
    }
   ],
   "source": [
    "gdf_annual.shape"
   ]
  },
  {
   "cell_type": "code",
   "execution_count": 15,
   "id": "7a3dd6a0-e688-4d51-a28a-396599a7f693",
   "metadata": {
    "execution": {
     "iopub.execute_input": "2023-08-24T15:58:19.391974Z",
     "iopub.status.busy": "2023-08-24T15:58:19.391789Z",
     "iopub.status.idle": "2023-08-24T15:58:19.394062Z",
     "shell.execute_reply": "2023-08-24T15:58:19.393595Z"
    }
   },
   "outputs": [],
   "source": [
    "# BUGFIX: discard any data related to years outside the study period"
   ]
  },
  {
   "cell_type": "code",
   "execution_count": 16,
   "id": "9a6cd95d-fccd-4fbe-a1a4-a8f9e3e0566a",
   "metadata": {
    "execution": {
     "iopub.execute_input": "2023-08-24T15:58:19.396310Z",
     "iopub.status.busy": "2023-08-24T15:58:19.396124Z",
     "iopub.status.idle": "2023-08-24T15:58:19.405820Z",
     "shell.execute_reply": "2023-08-24T15:58:19.405362Z"
    }
   },
   "outputs": [
    {
     "data": {
      "text/plain": [
       "(10656, 15)"
      ]
     },
     "execution_count": 16,
     "metadata": {},
     "output_type": "execute_result"
    }
   ],
   "source": [
    "gdf_keep = gdf_annual.query(\"year >= %d & year <= %d\" % (years[0], years[-1])).copy()\n",
    "gdf_keep.shape"
   ]
  },
  {
   "cell_type": "code",
   "execution_count": 17,
   "id": "bf999a9b-e5a2-49b2-8fc5-ff2e73d54c78",
   "metadata": {
    "execution": {
     "iopub.execute_input": "2023-08-24T15:58:19.408128Z",
     "iopub.status.busy": "2023-08-24T15:58:19.407930Z",
     "iopub.status.idle": "2023-08-24T15:58:19.411438Z",
     "shell.execute_reply": "2023-08-24T15:58:19.410995Z"
    }
   },
   "outputs": [
    {
     "data": {
      "text/plain": [
       "[2015.0, 2016.0, 2017.0, 2018.0, 2019.0, 2020.0, 2021.0, 2022.0]"
      ]
     },
     "execution_count": 17,
     "metadata": {},
     "output_type": "execute_result"
    }
   ],
   "source": [
    "sorted(gdf_keep.year.unique())"
   ]
  },
  {
   "cell_type": "code",
   "execution_count": null,
   "id": "d0ad405f",
   "metadata": {
    "execution": {
     "iopub.execute_input": "2023-08-24T15:58:19.413904Z",
     "iopub.status.busy": "2023-08-24T15:58:19.413578Z",
     "iopub.status.idle": "2023-08-24T15:58:19.903032Z",
     "shell.execute_reply": "2023-08-24T15:58:19.902488Z"
    }
   },
   "outputs": [],
   "source": [
    "#convert back to gdf\n",
    "from shapely import wkt\n",
    "gdf_keep['geometry'] = gdf_keep['geometry'].apply(wkt.loads)\n",
    "\n",
    "annual_gdf = gpd.GeoDataFrame(gdf_keep, geometry='geometry')\n",
    "annual_gdf.crs = {'init': 'EPSG:4269'}"
   ]
  },
  {
   "cell_type": "code",
   "execution_count": 19,
   "id": "c356145a",
   "metadata": {
    "execution": {
     "iopub.execute_input": "2023-08-24T15:58:19.906029Z",
     "iopub.status.busy": "2023-08-24T15:58:19.905770Z",
     "iopub.status.idle": "2023-08-24T15:58:19.920424Z",
     "shell.execute_reply": "2023-08-24T15:58:19.919756Z"
    }
   },
   "outputs": [],
   "source": [
    "# Create timestep column\n",
    "\n",
    "annual_gdf = annual_gdf.sort_values(by=['geoid', 'year']).reset_index(drop=True).copy()\n",
    "\n",
    "# Group the DataFrame by 'geoid' and assign a unique timestep value based on the order of years\n",
    "annual_gdf['timestep'] = annual_gdf.groupby('geoid').cumcount() + 1\n",
    "\n",
    "# Create 'year_frac' column that indicates timeperiod in fractional years\n",
    "annual_gdf['year_frac'] = annual_gdf['year'].copy() # in annual case, these are identical"
   ]
  },
  {
   "cell_type": "code",
   "execution_count": 20,
   "id": "b8d60c11-5e3b-4d59-9d33-44cec267db42",
   "metadata": {
    "execution": {
     "iopub.execute_input": "2023-08-24T15:58:19.923236Z",
     "iopub.status.busy": "2023-08-24T15:58:19.923003Z",
     "iopub.status.idle": "2023-08-24T15:58:19.936227Z",
     "shell.execute_reply": "2023-08-24T15:58:19.935601Z"
    }
   },
   "outputs": [
    {
     "data": {
      "text/html": [
       "<div>\n",
       "<style scoped>\n",
       "    .dataframe tbody tr th:only-of-type {\n",
       "        vertical-align: middle;\n",
       "    }\n",
       "\n",
       "    .dataframe tbody tr th {\n",
       "        vertical-align: top;\n",
       "    }\n",
       "\n",
       "    .dataframe thead th {\n",
       "        text-align: right;\n",
       "    }\n",
       "</style>\n",
       "<table border=\"1\" class=\"dataframe\">\n",
       "  <thead>\n",
       "    <tr style=\"text-align: right;\">\n",
       "      <th></th>\n",
       "      <th>geoid</th>\n",
       "      <th>year</th>\n",
       "      <th>timestep</th>\n",
       "    </tr>\n",
       "  </thead>\n",
       "  <tbody>\n",
       "    <tr>\n",
       "      <th>0</th>\n",
       "      <td>17031010100</td>\n",
       "      <td>2015.0</td>\n",
       "      <td>1</td>\n",
       "    </tr>\n",
       "    <tr>\n",
       "      <th>1</th>\n",
       "      <td>17031010100</td>\n",
       "      <td>2016.0</td>\n",
       "      <td>2</td>\n",
       "    </tr>\n",
       "    <tr>\n",
       "      <th>2</th>\n",
       "      <td>17031010100</td>\n",
       "      <td>2017.0</td>\n",
       "      <td>3</td>\n",
       "    </tr>\n",
       "    <tr>\n",
       "      <th>3</th>\n",
       "      <td>17031010100</td>\n",
       "      <td>2018.0</td>\n",
       "      <td>4</td>\n",
       "    </tr>\n",
       "    <tr>\n",
       "      <th>4</th>\n",
       "      <td>17031010100</td>\n",
       "      <td>2019.0</td>\n",
       "      <td>5</td>\n",
       "    </tr>\n",
       "    <tr>\n",
       "      <th>5</th>\n",
       "      <td>17031010100</td>\n",
       "      <td>2020.0</td>\n",
       "      <td>6</td>\n",
       "    </tr>\n",
       "    <tr>\n",
       "      <th>6</th>\n",
       "      <td>17031010100</td>\n",
       "      <td>2021.0</td>\n",
       "      <td>7</td>\n",
       "    </tr>\n",
       "    <tr>\n",
       "      <th>7</th>\n",
       "      <td>17031010100</td>\n",
       "      <td>2022.0</td>\n",
       "      <td>8</td>\n",
       "    </tr>\n",
       "  </tbody>\n",
       "</table>\n",
       "</div>"
      ],
      "text/plain": [
       "         geoid    year  timestep\n",
       "0  17031010100  2015.0         1\n",
       "1  17031010100  2016.0         2\n",
       "2  17031010100  2017.0         3\n",
       "3  17031010100  2018.0         4\n",
       "4  17031010100  2019.0         5\n",
       "5  17031010100  2020.0         6\n",
       "6  17031010100  2021.0         7\n",
       "7  17031010100  2022.0         8"
      ]
     },
     "execution_count": 20,
     "metadata": {},
     "output_type": "execute_result"
    }
   ],
   "source": [
    "annual_gdf.query(\"geoid == 17031010100\")[['geoid', 'year', 'timestep']]"
   ]
  },
  {
   "cell_type": "code",
   "execution_count": 21,
   "id": "cdce95dc-d82a-46f1-8441-7de6a6b86a15",
   "metadata": {
    "execution": {
     "iopub.execute_input": "2023-08-24T15:58:19.939251Z",
     "iopub.status.busy": "2023-08-24T15:58:19.938933Z",
     "iopub.status.idle": "2023-08-24T15:58:19.949334Z",
     "shell.execute_reply": "2023-08-24T15:58:19.948707Z"
    }
   },
   "outputs": [
    {
     "data": {
      "text/html": [
       "<div>\n",
       "<style scoped>\n",
       "    .dataframe tbody tr th:only-of-type {\n",
       "        vertical-align: middle;\n",
       "    }\n",
       "\n",
       "    .dataframe tbody tr th {\n",
       "        vertical-align: top;\n",
       "    }\n",
       "\n",
       "    .dataframe thead th {\n",
       "        text-align: right;\n",
       "    }\n",
       "</style>\n",
       "<table border=\"1\" class=\"dataframe\">\n",
       "  <thead>\n",
       "    <tr style=\"text-align: right;\">\n",
       "      <th></th>\n",
       "      <th>geoid</th>\n",
       "      <th>year</th>\n",
       "      <th>timestep</th>\n",
       "    </tr>\n",
       "  </thead>\n",
       "  <tbody>\n",
       "    <tr>\n",
       "      <th>10624</th>\n",
       "      <td>17031844700</td>\n",
       "      <td>2015.0</td>\n",
       "      <td>1</td>\n",
       "    </tr>\n",
       "    <tr>\n",
       "      <th>10625</th>\n",
       "      <td>17031844700</td>\n",
       "      <td>2016.0</td>\n",
       "      <td>2</td>\n",
       "    </tr>\n",
       "    <tr>\n",
       "      <th>10626</th>\n",
       "      <td>17031844700</td>\n",
       "      <td>2017.0</td>\n",
       "      <td>3</td>\n",
       "    </tr>\n",
       "    <tr>\n",
       "      <th>10627</th>\n",
       "      <td>17031844700</td>\n",
       "      <td>2018.0</td>\n",
       "      <td>4</td>\n",
       "    </tr>\n",
       "    <tr>\n",
       "      <th>10628</th>\n",
       "      <td>17031844700</td>\n",
       "      <td>2019.0</td>\n",
       "      <td>5</td>\n",
       "    </tr>\n",
       "    <tr>\n",
       "      <th>10629</th>\n",
       "      <td>17031844700</td>\n",
       "      <td>2020.0</td>\n",
       "      <td>6</td>\n",
       "    </tr>\n",
       "    <tr>\n",
       "      <th>10630</th>\n",
       "      <td>17031844700</td>\n",
       "      <td>2021.0</td>\n",
       "      <td>7</td>\n",
       "    </tr>\n",
       "    <tr>\n",
       "      <th>10631</th>\n",
       "      <td>17031844700</td>\n",
       "      <td>2022.0</td>\n",
       "      <td>8</td>\n",
       "    </tr>\n",
       "  </tbody>\n",
       "</table>\n",
       "</div>"
      ],
      "text/plain": [
       "             geoid    year  timestep\n",
       "10624  17031844700  2015.0         1\n",
       "10625  17031844700  2016.0         2\n",
       "10626  17031844700  2017.0         3\n",
       "10627  17031844700  2018.0         4\n",
       "10628  17031844700  2019.0         5\n",
       "10629  17031844700  2020.0         6\n",
       "10630  17031844700  2021.0         7\n",
       "10631  17031844700  2022.0         8"
      ]
     },
     "execution_count": 21,
     "metadata": {},
     "output_type": "execute_result"
    }
   ],
   "source": [
    "annual_gdf.query(\"geoid == 17031844700\")[['geoid', 'year', 'timestep']]"
   ]
  },
  {
   "cell_type": "code",
   "execution_count": 22,
   "id": "b7092f3f-2b41-43fd-bd18-0c91268f0c4e",
   "metadata": {
    "execution": {
     "iopub.execute_input": "2023-08-24T15:58:19.952303Z",
     "iopub.status.busy": "2023-08-24T15:58:19.952046Z",
     "iopub.status.idle": "2023-08-24T15:58:19.956201Z",
     "shell.execute_reply": "2023-08-24T15:58:19.955499Z"
    }
   },
   "outputs": [
    {
     "data": {
      "text/plain": [
       "Index(['geoid', 'year', 'deaths', 'INTPTLAT', 'INTPTLON', 'STATEFP',\n",
       "       'COUNTYFP', 'TRACTCE', 'NAME', 'NAMELSAD', 'MTFCC', 'FUNCSTAT', 'ALAND',\n",
       "       'AWATER', 'geometry', 'timestep', 'year_frac'],\n",
       "      dtype='object')"
      ]
     },
     "execution_count": 22,
     "metadata": {},
     "output_type": "execute_result"
    }
   ],
   "source": [
    "annual_gdf.columns"
   ]
  },
  {
   "cell_type": "code",
   "execution_count": 23,
   "id": "40f6cfe1",
   "metadata": {
    "execution": {
     "iopub.execute_input": "2023-08-24T15:58:19.959034Z",
     "iopub.status.busy": "2023-08-24T15:58:19.958711Z",
     "iopub.status.idle": "2023-08-24T15:58:19.967895Z",
     "shell.execute_reply": "2023-08-24T15:58:19.967359Z"
    }
   },
   "outputs": [],
   "source": [
    "# REORDER columns to be easier for humans to inspect\n",
    "annual_gdf = annual_gdf[[\n",
    "    'geoid', 'timestep', 'year_frac', \n",
    "    'deaths',\n",
    "    'year']\n",
    "    + columns_to_keep\n",
    "    ].copy()\n"
   ]
  },
  {
   "cell_type": "code",
   "execution_count": 24,
   "id": "31148e26-4b72-4243-9069-0c4e921e74c0",
   "metadata": {
    "execution": {
     "iopub.execute_input": "2023-08-24T15:58:19.970511Z",
     "iopub.status.busy": "2023-08-24T15:58:19.970296Z",
     "iopub.status.idle": "2023-08-24T15:58:19.974159Z",
     "shell.execute_reply": "2023-08-24T15:58:19.973578Z"
    }
   },
   "outputs": [
    {
     "data": {
      "text/plain": [
       "Index(['geoid', 'timestep', 'year_frac', 'deaths', 'year', 'INTPTLAT',\n",
       "       'INTPTLON', 'STATEFP', 'COUNTYFP', 'TRACTCE', 'NAME', 'NAMELSAD',\n",
       "       'MTFCC', 'FUNCSTAT', 'ALAND', 'AWATER', 'geometry'],\n",
       "      dtype='object')"
      ]
     },
     "execution_count": 24,
     "metadata": {},
     "output_type": "execute_result"
    }
   ],
   "source": [
    "annual_gdf.columns"
   ]
  },
  {
   "cell_type": "markdown",
   "id": "64d5cf4e-f4af-4f1d-8ab9-5ba4d26e8e4d",
   "metadata": {},
   "source": [
    "## Verification: each tstep should map to exactly one year"
   ]
  },
  {
   "cell_type": "code",
   "execution_count": 25,
   "id": "cdbf050e-acf6-4721-a5bb-315b9ecf5fd9",
   "metadata": {
    "execution": {
     "iopub.execute_input": "2023-08-24T15:58:19.977059Z",
     "iopub.status.busy": "2023-08-24T15:58:19.976741Z",
     "iopub.status.idle": "2023-08-24T15:58:19.984312Z",
     "shell.execute_reply": "2023-08-24T15:58:19.983675Z"
    }
   },
   "outputs": [],
   "source": [
    "years = annual_gdf['year'].values\n",
    "tsteps = annual_gdf['timestep'].values\n",
    "from collections import defaultdict\n",
    "\n",
    "y2t = defaultdict(set)\n",
    "for aa in range(years.size):\n",
    "    y2t[years[aa]].add(tsteps[aa])\n",
    "    "
   ]
  },
  {
   "cell_type": "code",
   "execution_count": 26,
   "id": "8b8c288e-e3a3-4deb-a51b-5987696a8b8f",
   "metadata": {
    "execution": {
     "iopub.execute_input": "2023-08-24T15:58:19.986839Z",
     "iopub.status.busy": "2023-08-24T15:58:19.986623Z",
     "iopub.status.idle": "2023-08-24T15:58:19.990292Z",
     "shell.execute_reply": "2023-08-24T15:58:19.989811Z"
    }
   },
   "outputs": [
    {
     "data": {
      "text/plain": [
       "defaultdict(set,\n",
       "            {2015.0: {1},\n",
       "             2016.0: {2},\n",
       "             2017.0: {3},\n",
       "             2018.0: {4},\n",
       "             2019.0: {5},\n",
       "             2020.0: {6},\n",
       "             2021.0: {7},\n",
       "             2022.0: {8}})"
      ]
     },
     "execution_count": 26,
     "metadata": {},
     "output_type": "execute_result"
    }
   ],
   "source": [
    "y2t"
   ]
  },
  {
   "cell_type": "code",
   "execution_count": 27,
   "id": "c7711c52",
   "metadata": {
    "execution": {
     "iopub.execute_input": "2023-08-24T15:58:19.992933Z",
     "iopub.status.busy": "2023-08-24T15:58:19.992700Z",
     "iopub.status.idle": "2023-08-24T15:58:19.995991Z",
     "shell.execute_reply": "2023-08-24T15:58:19.995353Z"
    }
   },
   "outputs": [],
   "source": [
    "# COMMENTED OUT IN BUGFIX we now do this earlier\n",
    "#gdf_annual = gdf_annual[gdf_annual['year']!=2014] #take out 2014 because ME only started collecting in 08/2014\n",
    "#gdf_annual = gdf_annual[gdf_annual['year'] != 2023] #2023 not complete yet"
   ]
  },
  {
   "cell_type": "markdown",
   "id": "268ea78a",
   "metadata": {},
   "source": [
    "## Tables & Graphs"
   ]
  },
  {
   "cell_type": "code",
   "execution_count": 28,
   "id": "ffda0df1-2606-4699-ace1-d9768c4174a6",
   "metadata": {
    "execution": {
     "iopub.execute_input": "2023-08-24T15:58:19.998618Z",
     "iopub.status.busy": "2023-08-24T15:58:19.998404Z",
     "iopub.status.idle": "2023-08-24T15:58:20.001088Z",
     "shell.execute_reply": "2023-08-24T15:58:20.000477Z"
    }
   },
   "outputs": [],
   "source": [
    "do_plots = False"
   ]
  },
  {
   "cell_type": "code",
   "execution_count": 29,
   "id": "a281fea4",
   "metadata": {
    "execution": {
     "iopub.execute_input": "2023-08-24T15:58:20.003561Z",
     "iopub.status.busy": "2023-08-24T15:58:20.003348Z",
     "iopub.status.idle": "2023-08-24T15:58:20.014508Z",
     "shell.execute_reply": "2023-08-24T15:58:20.013768Z"
    }
   },
   "outputs": [],
   "source": [
    "annual_gdf['year'] = pd.to_datetime(annual_gdf['year'].astype(int).astype(str), format='%Y').dt.year"
   ]
  },
  {
   "cell_type": "code",
   "execution_count": 30,
   "id": "17f2f277",
   "metadata": {
    "execution": {
     "iopub.execute_input": "2023-08-24T15:58:20.017409Z",
     "iopub.status.busy": "2023-08-24T15:58:20.017123Z",
     "iopub.status.idle": "2023-08-24T15:58:20.055738Z",
     "shell.execute_reply": "2023-08-24T15:58:20.055144Z"
    }
   },
   "outputs": [
    {
     "name": "stdout",
     "output_type": "stream",
     "text": [
      "   year Total Deaths Sparsity Rate\n",
      "0  2015          616       67.342%\n",
      "1  2016         1029       53.754%\n",
      "2  2017         1109       53.303%\n",
      "3  2018         1078       54.429%\n",
      "4  2019         1210       52.102%\n",
      "5  2020         1687       43.619%\n",
      "6  2021         1791       43.168%\n",
      "7  2022         1851       43.018%\n"
     ]
    }
   ],
   "source": [
    "sparsity_df = pd.DataFrame(columns=['year', 'Total Deaths', 'Sparsity Rate'])\n",
    "\n",
    "years = range(2015, 2023)\n",
    "for year in years:\n",
    "    year_df = annual_gdf[annual_gdf['year'] == year]\n",
    "    zero_deaths_count = year_df[year_df['deaths'] == 0].shape[0]\n",
    "    total_count = year_df.shape[0]\n",
    "    sparsity_rate = (zero_deaths_count / total_count) * 100\n",
    "    total_deaths = year_df['deaths'].sum()\n",
    "    sparsity_df = pd.concat([sparsity_df, pd.DataFrame({'year': [year], 'Total Deaths': [total_deaths], 'Sparsity Rate': [sparsity_rate]})], ignore_index=True)\n",
    "\n",
    "\n",
    "raw_sparsity = sparsity_df['Sparsity Rate']\n",
    "sparsity_df['Sparsity Rate'] = sparsity_df['Sparsity Rate'].round(3).astype(str) + '%'\n",
    "print(sparsity_df)"
   ]
  },
  {
   "cell_type": "code",
   "execution_count": 31,
   "id": "322a49b6",
   "metadata": {
    "execution": {
     "iopub.execute_input": "2023-08-24T15:58:20.059227Z",
     "iopub.status.busy": "2023-08-24T15:58:20.058725Z",
     "iopub.status.idle": "2023-08-24T15:58:20.063311Z",
     "shell.execute_reply": "2023-08-24T15:58:20.062657Z"
    }
   },
   "outputs": [],
   "source": [
    "if do_plots:\n",
    "    plt.figure(figsize=(9, 6))\n",
    "    df_no23 = gdf_annual[gdf_annual['year'] != 2023]\n",
    "    sns.boxplot(x='year', y='deaths', data=df_no23, color='lightblue')\n",
    "\n",
    "    plt.xlabel('Year')\n",
    "    plt.ylabel('Number of Deaths')\n",
    "    plt.title('Distribution of Deaths Across Years')\n",
    "\n",
    "    plt.show()\n"
   ]
  },
  {
   "cell_type": "code",
   "execution_count": 32,
   "id": "51a6af25",
   "metadata": {
    "execution": {
     "iopub.execute_input": "2023-08-24T15:58:20.066711Z",
     "iopub.status.busy": "2023-08-24T15:58:20.066476Z",
     "iopub.status.idle": "2023-08-24T15:58:20.267096Z",
     "shell.execute_reply": "2023-08-24T15:58:20.266390Z"
    }
   },
   "outputs": [
    {
     "data": {
      "image/png": "[encoded data removed]",
      "text/plain": [
       "<Figure size 640x480 with 1 Axes>"
      ]
     },
     "metadata": {},
     "output_type": "display_data"
    }
   ],
   "source": [
    "plt.rcParams['font.family'] = 'sans-serif'\n",
    "plt.plot(range(2015, 2023), raw_sparsity, color='mediumslateblue')\n",
    "plt.xlabel('Year')\n",
    "plt.ylabel('Sparsity Rate')\n",
    "plt.title('Sparsity Rates Over the Years')\n",
    "plt.grid(False)\n",
    "\n",
    "plt.show()"
   ]
  },
  {
   "cell_type": "markdown",
   "id": "fe186f59",
   "metadata": {},
   "source": [
    "### store gdf"
   ]
  },
  {
   "cell_type": "code",
   "execution_count": 33,
   "id": "91801d81",
   "metadata": {
    "execution": {
     "iopub.execute_input": "2023-08-24T15:58:20.270730Z",
     "iopub.status.busy": "2023-08-24T15:58:20.270301Z",
     "iopub.status.idle": "2023-08-24T15:58:21.773570Z",
     "shell.execute_reply": "2023-08-24T15:58:21.773020Z"
    }
   },
   "outputs": [],
   "source": [
    "annual_gdf.to_csv(csv_path.replace(\"intro\", \"clean\"), index=False)"
   ]
  },
  {
   "cell_type": "code",
   "execution_count": null,
   "id": "d2b1b34a-92fa-49b3-a3c6-12d1be9cdd4d",
   "metadata": {},
   "outputs": [],
   "source": []
  }
 ],
 "metadata": {
  "kernelspec": {
   "display_name": "Python 3 (ipykernel)",
   "language": "python",
   "name": "python3"
  },
  "language_info": {
   "codemirror_mode": {
    "name": "ipython",
    "version": 3
   },
   "file_extension": ".py",
   "mimetype": "text/x-python",
   "name": "python",
   "nbconvert_exporter": "python",
   "pygments_lexer": "ipython3",
   "version": "3.10.12"
  }
 },
 "nbformat": 4,
 "nbformat_minor": 5
}
