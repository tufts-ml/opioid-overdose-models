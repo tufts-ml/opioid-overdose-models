{
 "cells": [
  {
   "cell_type": "code",
   "execution_count": 23,
   "metadata": {},
   "outputs": [],
   "source": [
    "import numpy as np\n",
    "import matplotlib.pyplot as plt\n",
    "import os\n",
    "import seaborn as sns\n",
    "import geopandas as gpd\n",
    "import pandas as pd\n",
    "import sklearn"
   ]
  },
  {
   "cell_type": "code",
   "execution_count": 2,
   "metadata": {},
   "outputs": [],
   "source": [
    "%store -r cook_county_gdf_semiannual\n",
    "%store -r CC_nodeaths\n",
    "cook_county_gdf = cook_county_gdf_semiannual"
   ]
  },
  {
   "cell_type": "code",
   "execution_count": 3,
   "metadata": {},
   "outputs": [],
   "source": [
    "#add in missing 58 tracts\n",
    "\n",
    "cook_county_gdf['semiannual'].fillna(9999, inplace=True) \n",
    "cook_county_gdf['year'].fillna(9999, inplace=True)"
   ]
  },
  {
   "cell_type": "code",
   "execution_count": 4,
   "metadata": {},
   "outputs": [
    {
     "data": {
      "text/plain": [
       "56"
      ]
     },
     "execution_count": 4,
     "metadata": {},
     "output_type": "execute_result"
    }
   ],
   "source": [
    "cook_county_gdf.loc[cook_county_gdf['year'] == 9999, 'GEOID'].nunique() #should be 58"
   ]
  },
  {
   "cell_type": "code",
   "execution_count": 5,
   "metadata": {},
   "outputs": [],
   "source": [
    "columns_to_keep = ['STATEFP', 'COUNTYFP', 'TRACTCE','NAME', 'NAMELSAD', 'MTFCC', 'FUNCSTAT', 'ALAND', 'AWATER',\n",
    "       'INTPTLAT', 'INTPTLON', 'geometry']\n",
    "\n",
    "gdf_semi = cook_county_gdf.groupby(['GEOID', 'semiannual', 'year']).agg({'deaths': 'sum', **{col: 'first' for col in columns_to_keep}}).reset_index()"
   ]
  },
  {
   "cell_type": "code",
   "execution_count": 6,
   "metadata": {},
   "outputs": [
    {
     "data": {
      "text/html": [
       "<div>\n",
       "<style scoped>\n",
       "    .dataframe tbody tr th:only-of-type {\n",
       "        vertical-align: middle;\n",
       "    }\n",
       "\n",
       "    .dataframe tbody tr th {\n",
       "        vertical-align: top;\n",
       "    }\n",
       "\n",
       "    .dataframe thead th {\n",
       "        text-align: right;\n",
       "    }\n",
       "</style>\n",
       "<table border=\"1\" class=\"dataframe\">\n",
       "  <thead>\n",
       "    <tr style=\"text-align: right;\">\n",
       "      <th></th>\n",
       "      <th>GEOID</th>\n",
       "      <th>semiannual</th>\n",
       "      <th>year</th>\n",
       "      <th>deaths</th>\n",
       "      <th>STATEFP</th>\n",
       "      <th>COUNTYFP</th>\n",
       "      <th>TRACTCE</th>\n",
       "      <th>NAME</th>\n",
       "      <th>NAMELSAD</th>\n",
       "      <th>MTFCC</th>\n",
       "      <th>FUNCSTAT</th>\n",
       "      <th>ALAND</th>\n",
       "      <th>AWATER</th>\n",
       "      <th>INTPTLAT</th>\n",
       "      <th>INTPTLON</th>\n",
       "      <th>geometry</th>\n",
       "    </tr>\n",
       "  </thead>\n",
       "  <tbody>\n",
       "    <tr>\n",
       "      <th>0</th>\n",
       "      <td>17031010100</td>\n",
       "      <td>1</td>\n",
       "      <td>2016.0</td>\n",
       "      <td>2</td>\n",
       "      <td>17</td>\n",
       "      <td>031</td>\n",
       "      <td>010100</td>\n",
       "      <td>101</td>\n",
       "      <td>Census Tract 101</td>\n",
       "      <td>G5020</td>\n",
       "      <td>S</td>\n",
       "      <td>379511</td>\n",
       "      <td>0</td>\n",
       "      <td>+42.0212553</td>\n",
       "      <td>-087.6698301</td>\n",
       "      <td>POLYGON ((-87.67720 42.02294, -87.67628 42.022...</td>\n",
       "    </tr>\n",
       "    <tr>\n",
       "      <th>1</th>\n",
       "      <td>17031010100</td>\n",
       "      <td>1</td>\n",
       "      <td>2017.0</td>\n",
       "      <td>1</td>\n",
       "      <td>17</td>\n",
       "      <td>031</td>\n",
       "      <td>010100</td>\n",
       "      <td>101</td>\n",
       "      <td>Census Tract 101</td>\n",
       "      <td>G5020</td>\n",
       "      <td>S</td>\n",
       "      <td>379511</td>\n",
       "      <td>0</td>\n",
       "      <td>+42.0212553</td>\n",
       "      <td>-087.6698301</td>\n",
       "      <td>POLYGON ((-87.67720 42.02294, -87.67628 42.022...</td>\n",
       "    </tr>\n",
       "    <tr>\n",
       "      <th>2</th>\n",
       "      <td>17031010100</td>\n",
       "      <td>1</td>\n",
       "      <td>2019.0</td>\n",
       "      <td>1</td>\n",
       "      <td>17</td>\n",
       "      <td>031</td>\n",
       "      <td>010100</td>\n",
       "      <td>101</td>\n",
       "      <td>Census Tract 101</td>\n",
       "      <td>G5020</td>\n",
       "      <td>S</td>\n",
       "      <td>379511</td>\n",
       "      <td>0</td>\n",
       "      <td>+42.0212553</td>\n",
       "      <td>-087.6698301</td>\n",
       "      <td>POLYGON ((-87.67720 42.02294, -87.67628 42.022...</td>\n",
       "    </tr>\n",
       "    <tr>\n",
       "      <th>3</th>\n",
       "      <td>17031010100</td>\n",
       "      <td>1</td>\n",
       "      <td>2020.0</td>\n",
       "      <td>2</td>\n",
       "      <td>17</td>\n",
       "      <td>031</td>\n",
       "      <td>010100</td>\n",
       "      <td>101</td>\n",
       "      <td>Census Tract 101</td>\n",
       "      <td>G5020</td>\n",
       "      <td>S</td>\n",
       "      <td>379511</td>\n",
       "      <td>0</td>\n",
       "      <td>+42.0212553</td>\n",
       "      <td>-087.6698301</td>\n",
       "      <td>POLYGON ((-87.67720 42.02294, -87.67628 42.022...</td>\n",
       "    </tr>\n",
       "    <tr>\n",
       "      <th>4</th>\n",
       "      <td>17031010100</td>\n",
       "      <td>1</td>\n",
       "      <td>2022.0</td>\n",
       "      <td>1</td>\n",
       "      <td>17</td>\n",
       "      <td>031</td>\n",
       "      <td>010100</td>\n",
       "      <td>101</td>\n",
       "      <td>Census Tract 101</td>\n",
       "      <td>G5020</td>\n",
       "      <td>S</td>\n",
       "      <td>379511</td>\n",
       "      <td>0</td>\n",
       "      <td>+42.0212553</td>\n",
       "      <td>-087.6698301</td>\n",
       "      <td>POLYGON ((-87.67720 42.02294, -87.67628 42.022...</td>\n",
       "    </tr>\n",
       "  </tbody>\n",
       "</table>\n",
       "</div>"
      ],
      "text/plain": [
       "         GEOID  semiannual    year  deaths STATEFP COUNTYFP TRACTCE NAME  \\\n",
       "0  17031010100           1  2016.0       2      17      031  010100  101   \n",
       "1  17031010100           1  2017.0       1      17      031  010100  101   \n",
       "2  17031010100           1  2019.0       1      17      031  010100  101   \n",
       "3  17031010100           1  2020.0       2      17      031  010100  101   \n",
       "4  17031010100           1  2022.0       1      17      031  010100  101   \n",
       "\n",
       "           NAMELSAD  MTFCC FUNCSTAT   ALAND  AWATER     INTPTLAT  \\\n",
       "0  Census Tract 101  G5020        S  379511       0  +42.0212553   \n",
       "1  Census Tract 101  G5020        S  379511       0  +42.0212553   \n",
       "2  Census Tract 101  G5020        S  379511       0  +42.0212553   \n",
       "3  Census Tract 101  G5020        S  379511       0  +42.0212553   \n",
       "4  Census Tract 101  G5020        S  379511       0  +42.0212553   \n",
       "\n",
       "       INTPTLON                                           geometry  \n",
       "0  -087.6698301  POLYGON ((-87.67720 42.02294, -87.67628 42.022...  \n",
       "1  -087.6698301  POLYGON ((-87.67720 42.02294, -87.67628 42.022...  \n",
       "2  -087.6698301  POLYGON ((-87.67720 42.02294, -87.67628 42.022...  \n",
       "3  -087.6698301  POLYGON ((-87.67720 42.02294, -87.67628 42.022...  \n",
       "4  -087.6698301  POLYGON ((-87.67720 42.02294, -87.67628 42.022...  "
      ]
     },
     "execution_count": 6,
     "metadata": {},
     "output_type": "execute_result"
    }
   ],
   "source": [
    "\n",
    "gdf_semi.head()"
   ]
  },
  {
   "cell_type": "markdown",
   "metadata": {},
   "source": [
    "### Making DF square - one \"semi-annual\" period for each tract"
   ]
  },
  {
   "cell_type": "code",
   "execution_count": 7,
   "metadata": {},
   "outputs": [],
   "source": [
    "gdf_semi.loc[gdf_semi['year'] == 9999, 'deaths'] = 0\n",
    "gdf_semi.loc[gdf_semi['semiannual'] == 9999, 'deaths'] = 0\n",
    "\n",
    "# Replace 9999 with 2015 in the 'year' column\n",
    "gdf_semi['year'].replace(9999, 2015, inplace=True)\n",
    "gdf_semi['semiannual'].replace(9999, 1, inplace=True)"
   ]
  },
  {
   "cell_type": "code",
   "execution_count": 8,
   "metadata": {},
   "outputs": [
    {
     "data": {
      "text/plain": [
       "1332"
      ]
     },
     "execution_count": 8,
     "metadata": {},
     "output_type": "execute_result"
    }
   ],
   "source": [
    "gdf_semi['GEOID'].nunique()  #should be 1332"
   ]
  },
  {
   "cell_type": "code",
   "execution_count": 9,
   "metadata": {},
   "outputs": [],
   "source": [
    "##nested for loops\n",
    "years = range(2015, 2024)\n",
    "periods = [1, 2]\n",
    "\n",
    "existing_combinations = set(zip(gdf_semi['GEOID'], gdf_semi['year'], gdf_semi['semiannual']))\n",
    "updated_rows = []\n",
    "\n",
    "for tract in gdf_semi['GEOID'].unique():\n",
    "    for year in years:\n",
    "        for period in periods:\n",
    "            combination = (tract, year, period)\n",
    "            if combination not in existing_combinations:\n",
    "                new_row = {'GEOID': tract, 'year': year, 'semiannual': period, 'deaths': 0}\n",
    "                updated_rows.append(new_row)\n",
    "\n",
    "gdf_semi = pd.concat([gdf_semi, pd.DataFrame(updated_rows)], ignore_index=True)"
   ]
  },
  {
   "cell_type": "code",
   "execution_count": 10,
   "metadata": {},
   "outputs": [],
   "source": [
    "#fills in NAs produced from above\n",
    "unique_tracts = gdf_semi['GEOID'].unique()\n",
    "\n",
    "for tract in unique_tracts:\n",
    "    tract_rows = gdf_semi[gdf_semi['GEOID'] == tract]\n",
    "    non_na_row = tract_rows.dropna().iloc[0]  # Get the first row without any NAs\n",
    "    \n",
    "    for column in columns_to_keep:\n",
    "        gdf_semi.loc[(gdf_semi['GEOID'] == tract) & gdf_semi[column].isna(), column] = non_na_row[column]"
   ]
  },
  {
   "cell_type": "code",
   "execution_count": 11,
   "metadata": {},
   "outputs": [],
   "source": [
    "gdf_semi = gdf_semi[gdf_semi['year'] != 2014] #take out 2014 b/c data starts AUGUST 2014, not full year"
   ]
  },
  {
   "cell_type": "code",
   "execution_count": 12,
   "metadata": {},
   "outputs": [
    {
     "data": {
      "text/plain": [
       "(23976, 16)"
      ]
     },
     "execution_count": 12,
     "metadata": {},
     "output_type": "execute_result"
    }
   ],
   "source": [
    "gdf_semi.shape #should be (26640, 15)\n"
   ]
  },
  {
   "cell_type": "code",
   "execution_count": 13,
   "metadata": {},
   "outputs": [],
   "source": [
    "#confirms all years and periods present\n",
    "years = range(2015, 2024)  \n",
    "periods = [1, 2]  \n",
    "\n",
    "for tract in gdf_semi['GEOID'].unique():\n",
    "    for year in years:\n",
    "        for period in periods:\n",
    "            if not ((gdf_semi['GEOID'] == tract) & (gdf_semi['year'] == year) & (gdf_semi['semiannual'] == period)).any():\n",
    "                print(\"Missing row for GEOID {} in year {} semiannual {}\".format(tract, year, period))\n"
   ]
  },
  {
   "cell_type": "code",
   "execution_count": 14,
   "metadata": {},
   "outputs": [
    {
     "name": "stdout",
     "output_type": "stream",
     "text": [
      "There are no missing values in the dataframe.\n"
     ]
    }
   ],
   "source": [
    "#Any NAs in data frame?\n",
    "\n",
    "has_na = gdf_semi.isna().any().any()\n",
    "\n",
    "if has_na:\n",
    "    print(\"There are missing values in the dataframe.\")\n",
    "else:\n",
    "    print(\"There are no missing values in the dataframe.\")\n"
   ]
  },
  {
   "cell_type": "code",
   "execution_count": 15,
   "metadata": {},
   "outputs": [
    {
     "name": "stdout",
     "output_type": "stream",
     "text": [
      "There are no duplicate rows in the dataframe.\n"
     ]
    }
   ],
   "source": [
    "#Any Duplicates?\n",
    "has_duplicates = gdf_semi.duplicated().any()\n",
    "\n",
    "if has_duplicates:\n",
    "    print(\"There are duplicate rows in the dataframe.\")\n",
    "else:\n",
    "    print(\"There are no duplicate rows in the dataframe.\")\n"
   ]
  },
  {
   "cell_type": "code",
   "execution_count": 16,
   "metadata": {},
   "outputs": [],
   "source": [
    "#change format of year and quarters\n",
    "\n",
    "gdf_semi['year'] = pd.to_datetime(gdf_semi['year'].astype(int).astype(str), format='%Y').dt.year\n",
    "gdf_semi['semiannual'] = gdf_semi['semiannual'].astype(str).replace('1.0', '1').replace('2.0', '2')\n"
   ]
  },
  {
   "cell_type": "code",
   "execution_count": 17,
   "metadata": {},
   "outputs": [],
   "source": [
    "gdf_semi.columns = ['GEOID', 'semiannual', 'year', 'deaths', 'STATEFP', 'COUNTYFP',\n",
    "       'TRACTCE', 'NAME', 'NAMELSAD', 'MTFCC', 'FUNCSTAT', 'ALAND', 'AWATER',\n",
    "       'lat', 'lon', 'geometry']"
   ]
  },
  {
   "cell_type": "code",
   "execution_count": 18,
   "metadata": {},
   "outputs": [],
   "source": [
    "#timestep column\n",
    "gdf_semi = gdf_semi.sort_values(by=['GEOID', 'year', 'semiannual'])\n",
    "gdf_semi['timestep'] = gdf_semi.groupby(['GEOID']).cumcount() + 1\n",
    "\n",
    "#season column\n",
    "gdf_semi = gdf_semi.sort_values(by=['GEOID', 'year', 'semiannual'])\n",
    "\n",
    "def map_season(semiannual):\n",
    "    return 'jan-jun' if semiannual == '1' else 'jul-dec'\n",
    "\n",
    "gdf_semi['season'] = gdf_semi['semiannual'].map(map_season)"
   ]
  },
  {
   "cell_type": "markdown",
   "metadata": {},
   "source": [
    "### store gdf\n"
   ]
  },
  {
   "cell_type": "code",
   "execution_count": 24,
   "metadata": {},
   "outputs": [],
   "source": [
    "gdf_semi = gpd.GeoDataFrame(gdf_semi, geometry='geometry')"
   ]
  },
  {
   "cell_type": "code",
   "execution_count": 25,
   "metadata": {},
   "outputs": [
    {
     "name": "stdout",
     "output_type": "stream",
     "text": [
      "Stored 'gdf_semi' (GeoDataFrame)\n"
     ]
    }
   ],
   "source": [
    "gdf_semi = gdf_semi[gdf_semi['year'] != 2023]\n",
    "gdf_semi = gdf_semi[gdf_semi['year'] != 2014]\n",
    "%store gdf_semi"
   ]
  },
  {
   "cell_type": "code",
   "execution_count": 26,
   "metadata": {},
   "outputs": [
    {
     "data": {
      "text/plain": [
       "<Axes: >"
      ]
     },
     "execution_count": 26,
     "metadata": {},
     "output_type": "execute_result"
    },
    {
     "data": {
      "image/png": "[encoded data removed]",
      "text/plain": [
       "<Figure size 640x480 with 2 Axes>"
      ]
     },
     "metadata": {},
     "output_type": "display_data"
    }
   ],
   "source": [
    "gdf_semi[gdf_semi['year']==2015].plot('deaths', legend=True)\n"
   ]
  },
  {
   "cell_type": "code",
   "execution_count": 21,
   "metadata": {},
   "outputs": [
    {
     "data": {
      "text/html": [
       "<div>\n",
       "<style scoped>\n",
       "    .dataframe tbody tr th:only-of-type {\n",
       "        vertical-align: middle;\n",
       "    }\n",
       "\n",
       "    .dataframe tbody tr th {\n",
       "        vertical-align: top;\n",
       "    }\n",
       "\n",
       "    .dataframe thead th {\n",
       "        text-align: right;\n",
       "    }\n",
       "</style>\n",
       "<table border=\"1\" class=\"dataframe\">\n",
       "  <thead>\n",
       "    <tr style=\"text-align: right;\">\n",
       "      <th></th>\n",
       "      <th>GEOID</th>\n",
       "      <th>semiannual</th>\n",
       "      <th>year</th>\n",
       "      <th>deaths</th>\n",
       "      <th>STATEFP</th>\n",
       "      <th>COUNTYFP</th>\n",
       "      <th>TRACTCE</th>\n",
       "      <th>NAME</th>\n",
       "      <th>NAMELSAD</th>\n",
       "      <th>MTFCC</th>\n",
       "      <th>FUNCSTAT</th>\n",
       "      <th>ALAND</th>\n",
       "      <th>AWATER</th>\n",
       "      <th>lat</th>\n",
       "      <th>lon</th>\n",
       "      <th>geometry</th>\n",
       "      <th>timestep</th>\n",
       "      <th>season</th>\n",
       "    </tr>\n",
       "  </thead>\n",
       "  <tbody>\n",
       "    <tr>\n",
       "      <th>7441</th>\n",
       "      <td>17031010100</td>\n",
       "      <td>1</td>\n",
       "      <td>2015</td>\n",
       "      <td>0</td>\n",
       "      <td>17</td>\n",
       "      <td>031</td>\n",
       "      <td>010100</td>\n",
       "      <td>101</td>\n",
       "      <td>Census Tract 101</td>\n",
       "      <td>G5020</td>\n",
       "      <td>S</td>\n",
       "      <td>379511.0</td>\n",
       "      <td>0.000000e+00</td>\n",
       "      <td>+42.0212553</td>\n",
       "      <td>-087.6698301</td>\n",
       "      <td>POLYGON ((-87.67720 42.02294, -87.67628 42.022...</td>\n",
       "      <td>1</td>\n",
       "      <td>jan-jun</td>\n",
       "    </tr>\n",
       "    <tr>\n",
       "      <th>7</th>\n",
       "      <td>17031010100</td>\n",
       "      <td>2</td>\n",
       "      <td>2015</td>\n",
       "      <td>1</td>\n",
       "      <td>17</td>\n",
       "      <td>031</td>\n",
       "      <td>010100</td>\n",
       "      <td>101</td>\n",
       "      <td>Census Tract 101</td>\n",
       "      <td>G5020</td>\n",
       "      <td>S</td>\n",
       "      <td>379511.0</td>\n",
       "      <td>0.000000e+00</td>\n",
       "      <td>+42.0212553</td>\n",
       "      <td>-087.6698301</td>\n",
       "      <td>POLYGON ((-87.67720 42.02294, -87.67628 42.022...</td>\n",
       "      <td>2</td>\n",
       "      <td>jul-dec</td>\n",
       "    </tr>\n",
       "    <tr>\n",
       "      <th>0</th>\n",
       "      <td>17031010100</td>\n",
       "      <td>1</td>\n",
       "      <td>2016</td>\n",
       "      <td>2</td>\n",
       "      <td>17</td>\n",
       "      <td>031</td>\n",
       "      <td>010100</td>\n",
       "      <td>101</td>\n",
       "      <td>Census Tract 101</td>\n",
       "      <td>G5020</td>\n",
       "      <td>S</td>\n",
       "      <td>379511.0</td>\n",
       "      <td>0.000000e+00</td>\n",
       "      <td>+42.0212553</td>\n",
       "      <td>-087.6698301</td>\n",
       "      <td>POLYGON ((-87.67720 42.02294, -87.67628 42.022...</td>\n",
       "      <td>3</td>\n",
       "      <td>jan-jun</td>\n",
       "    </tr>\n",
       "    <tr>\n",
       "      <th>8</th>\n",
       "      <td>17031010100</td>\n",
       "      <td>2</td>\n",
       "      <td>2016</td>\n",
       "      <td>1</td>\n",
       "      <td>17</td>\n",
       "      <td>031</td>\n",
       "      <td>010100</td>\n",
       "      <td>101</td>\n",
       "      <td>Census Tract 101</td>\n",
       "      <td>G5020</td>\n",
       "      <td>S</td>\n",
       "      <td>379511.0</td>\n",
       "      <td>0.000000e+00</td>\n",
       "      <td>+42.0212553</td>\n",
       "      <td>-087.6698301</td>\n",
       "      <td>POLYGON ((-87.67720 42.02294, -87.67628 42.022...</td>\n",
       "      <td>4</td>\n",
       "      <td>jul-dec</td>\n",
       "    </tr>\n",
       "    <tr>\n",
       "      <th>1</th>\n",
       "      <td>17031010100</td>\n",
       "      <td>1</td>\n",
       "      <td>2017</td>\n",
       "      <td>1</td>\n",
       "      <td>17</td>\n",
       "      <td>031</td>\n",
       "      <td>010100</td>\n",
       "      <td>101</td>\n",
       "      <td>Census Tract 101</td>\n",
       "      <td>G5020</td>\n",
       "      <td>S</td>\n",
       "      <td>379511.0</td>\n",
       "      <td>0.000000e+00</td>\n",
       "      <td>+42.0212553</td>\n",
       "      <td>-087.6698301</td>\n",
       "      <td>POLYGON ((-87.67720 42.02294, -87.67628 42.022...</td>\n",
       "      <td>5</td>\n",
       "      <td>jan-jun</td>\n",
       "    </tr>\n",
       "    <tr>\n",
       "      <th>...</th>\n",
       "      <td>...</td>\n",
       "      <td>...</td>\n",
       "      <td>...</td>\n",
       "      <td>...</td>\n",
       "      <td>...</td>\n",
       "      <td>...</td>\n",
       "      <td>...</td>\n",
       "      <td>...</td>\n",
       "      <td>...</td>\n",
       "      <td>...</td>\n",
       "      <td>...</td>\n",
       "      <td>...</td>\n",
       "      <td>...</td>\n",
       "      <td>...</td>\n",
       "      <td>...</td>\n",
       "      <td>...</td>\n",
       "      <td>...</td>\n",
       "      <td>...</td>\n",
       "    </tr>\n",
       "    <tr>\n",
       "      <th>24155</th>\n",
       "      <td>17031990000</td>\n",
       "      <td>2</td>\n",
       "      <td>2020</td>\n",
       "      <td>0</td>\n",
       "      <td>17</td>\n",
       "      <td>031</td>\n",
       "      <td>990000</td>\n",
       "      <td>9900</td>\n",
       "      <td>Census Tract 9900</td>\n",
       "      <td>G5020</td>\n",
       "      <td>S</td>\n",
       "      <td>0.0</td>\n",
       "      <td>1.717072e+09</td>\n",
       "      <td>+41.9739391</td>\n",
       "      <td>-087.4002947</td>\n",
       "      <td>POLYGON ((-87.74156 42.15323, -87.72176 42.153...</td>\n",
       "      <td>12</td>\n",
       "      <td>jul-dec</td>\n",
       "    </tr>\n",
       "    <tr>\n",
       "      <th>24156</th>\n",
       "      <td>17031990000</td>\n",
       "      <td>1</td>\n",
       "      <td>2021</td>\n",
       "      <td>0</td>\n",
       "      <td>17</td>\n",
       "      <td>031</td>\n",
       "      <td>990000</td>\n",
       "      <td>9900</td>\n",
       "      <td>Census Tract 9900</td>\n",
       "      <td>G5020</td>\n",
       "      <td>S</td>\n",
       "      <td>0.0</td>\n",
       "      <td>1.717072e+09</td>\n",
       "      <td>+41.9739391</td>\n",
       "      <td>-087.4002947</td>\n",
       "      <td>POLYGON ((-87.74156 42.15323, -87.72176 42.153...</td>\n",
       "      <td>13</td>\n",
       "      <td>jan-jun</td>\n",
       "    </tr>\n",
       "    <tr>\n",
       "      <th>24157</th>\n",
       "      <td>17031990000</td>\n",
       "      <td>2</td>\n",
       "      <td>2021</td>\n",
       "      <td>0</td>\n",
       "      <td>17</td>\n",
       "      <td>031</td>\n",
       "      <td>990000</td>\n",
       "      <td>9900</td>\n",
       "      <td>Census Tract 9900</td>\n",
       "      <td>G5020</td>\n",
       "      <td>S</td>\n",
       "      <td>0.0</td>\n",
       "      <td>1.717072e+09</td>\n",
       "      <td>+41.9739391</td>\n",
       "      <td>-087.4002947</td>\n",
       "      <td>POLYGON ((-87.74156 42.15323, -87.72176 42.153...</td>\n",
       "      <td>14</td>\n",
       "      <td>jul-dec</td>\n",
       "    </tr>\n",
       "    <tr>\n",
       "      <th>24158</th>\n",
       "      <td>17031990000</td>\n",
       "      <td>1</td>\n",
       "      <td>2022</td>\n",
       "      <td>0</td>\n",
       "      <td>17</td>\n",
       "      <td>031</td>\n",
       "      <td>990000</td>\n",
       "      <td>9900</td>\n",
       "      <td>Census Tract 9900</td>\n",
       "      <td>G5020</td>\n",
       "      <td>S</td>\n",
       "      <td>0.0</td>\n",
       "      <td>1.717072e+09</td>\n",
       "      <td>+41.9739391</td>\n",
       "      <td>-087.4002947</td>\n",
       "      <td>POLYGON ((-87.74156 42.15323, -87.72176 42.153...</td>\n",
       "      <td>15</td>\n",
       "      <td>jan-jun</td>\n",
       "    </tr>\n",
       "    <tr>\n",
       "      <th>24159</th>\n",
       "      <td>17031990000</td>\n",
       "      <td>2</td>\n",
       "      <td>2022</td>\n",
       "      <td>0</td>\n",
       "      <td>17</td>\n",
       "      <td>031</td>\n",
       "      <td>990000</td>\n",
       "      <td>9900</td>\n",
       "      <td>Census Tract 9900</td>\n",
       "      <td>G5020</td>\n",
       "      <td>S</td>\n",
       "      <td>0.0</td>\n",
       "      <td>1.717072e+09</td>\n",
       "      <td>+41.9739391</td>\n",
       "      <td>-087.4002947</td>\n",
       "      <td>POLYGON ((-87.74156 42.15323, -87.72176 42.153...</td>\n",
       "      <td>16</td>\n",
       "      <td>jul-dec</td>\n",
       "    </tr>\n",
       "  </tbody>\n",
       "</table>\n",
       "<p>21312 rows × 18 columns</p>\n",
       "</div>"
      ],
      "text/plain": [
       "             GEOID semiannual  year  deaths STATEFP COUNTYFP TRACTCE  NAME  \\\n",
       "7441   17031010100          1  2015       0      17      031  010100   101   \n",
       "7      17031010100          2  2015       1      17      031  010100   101   \n",
       "0      17031010100          1  2016       2      17      031  010100   101   \n",
       "8      17031010100          2  2016       1      17      031  010100   101   \n",
       "1      17031010100          1  2017       1      17      031  010100   101   \n",
       "...            ...        ...   ...     ...     ...      ...     ...   ...   \n",
       "24155  17031990000          2  2020       0      17      031  990000  9900   \n",
       "24156  17031990000          1  2021       0      17      031  990000  9900   \n",
       "24157  17031990000          2  2021       0      17      031  990000  9900   \n",
       "24158  17031990000          1  2022       0      17      031  990000  9900   \n",
       "24159  17031990000          2  2022       0      17      031  990000  9900   \n",
       "\n",
       "                NAMELSAD  MTFCC FUNCSTAT     ALAND        AWATER          lat  \\\n",
       "7441    Census Tract 101  G5020        S  379511.0  0.000000e+00  +42.0212553   \n",
       "7       Census Tract 101  G5020        S  379511.0  0.000000e+00  +42.0212553   \n",
       "0       Census Tract 101  G5020        S  379511.0  0.000000e+00  +42.0212553   \n",
       "8       Census Tract 101  G5020        S  379511.0  0.000000e+00  +42.0212553   \n",
       "1       Census Tract 101  G5020        S  379511.0  0.000000e+00  +42.0212553   \n",
       "...                  ...    ...      ...       ...           ...          ...   \n",
       "24155  Census Tract 9900  G5020        S       0.0  1.717072e+09  +41.9739391   \n",
       "24156  Census Tract 9900  G5020        S       0.0  1.717072e+09  +41.9739391   \n",
       "24157  Census Tract 9900  G5020        S       0.0  1.717072e+09  +41.9739391   \n",
       "24158  Census Tract 9900  G5020        S       0.0  1.717072e+09  +41.9739391   \n",
       "24159  Census Tract 9900  G5020        S       0.0  1.717072e+09  +41.9739391   \n",
       "\n",
       "                lon                                           geometry  \\\n",
       "7441   -087.6698301  POLYGON ((-87.67720 42.02294, -87.67628 42.022...   \n",
       "7      -087.6698301  POLYGON ((-87.67720 42.02294, -87.67628 42.022...   \n",
       "0      -087.6698301  POLYGON ((-87.67720 42.02294, -87.67628 42.022...   \n",
       "8      -087.6698301  POLYGON ((-87.67720 42.02294, -87.67628 42.022...   \n",
       "1      -087.6698301  POLYGON ((-87.67720 42.02294, -87.67628 42.022...   \n",
       "...             ...                                                ...   \n",
       "24155  -087.4002947  POLYGON ((-87.74156 42.15323, -87.72176 42.153...   \n",
       "24156  -087.4002947  POLYGON ((-87.74156 42.15323, -87.72176 42.153...   \n",
       "24157  -087.4002947  POLYGON ((-87.74156 42.15323, -87.72176 42.153...   \n",
       "24158  -087.4002947  POLYGON ((-87.74156 42.15323, -87.72176 42.153...   \n",
       "24159  -087.4002947  POLYGON ((-87.74156 42.15323, -87.72176 42.153...   \n",
       "\n",
       "       timestep   season  \n",
       "7441          1  jan-jun  \n",
       "7             2  jul-dec  \n",
       "0             3  jan-jun  \n",
       "8             4  jul-dec  \n",
       "1             5  jan-jun  \n",
       "...         ...      ...  \n",
       "24155        12  jul-dec  \n",
       "24156        13  jan-jun  \n",
       "24157        14  jul-dec  \n",
       "24158        15  jan-jun  \n",
       "24159        16  jul-dec  \n",
       "\n",
       "[21312 rows x 18 columns]"
      ]
     },
     "execution_count": 21,
     "metadata": {},
     "output_type": "execute_result"
    }
   ],
   "source": [
    "gdf_semi"
   ]
  },
  {
   "cell_type": "code",
   "execution_count": null,
   "metadata": {},
   "outputs": [],
   "source": []
  }
 ],
 "metadata": {
  "kernelspec": {
   "display_name": "Python 3 (ipykernel)",
   "language": "python",
   "name": "python3"
  },
  "language_info": {
   "codemirror_mode": {
    "name": "ipython",
    "version": 3
   },
   "file_extension": ".py",
   "mimetype": "text/x-python",
   "name": "python",
   "nbconvert_exporter": "python",
   "pygments_lexer": "ipython3",
   "version": "3.8.17"
  }
 },
 "nbformat": 4,
 "nbformat_minor": 2
}
