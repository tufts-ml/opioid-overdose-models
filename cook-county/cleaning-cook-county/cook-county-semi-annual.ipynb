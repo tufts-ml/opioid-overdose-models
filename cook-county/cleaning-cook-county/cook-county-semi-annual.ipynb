{
 "cells": [
  {
   "cell_type": "code",
   "execution_count": 35,
   "metadata": {},
   "outputs": [],
   "source": [
    "import numpy as np\n",
    "import matplotlib.pyplot as plt\n",
    "import os\n",
    "import seaborn as sns\n",
    "import pandas as pd\n",
    "import sklearn"
   ]
  },
  {
   "cell_type": "code",
   "execution_count": 36,
   "metadata": {},
   "outputs": [],
   "source": [
    "%store -r cook_county_gdf_semiannual\n",
    "%store -r CC_nodeaths\n",
    "cook_county_gdf = cook_county_gdf_semiannual"
   ]
  },
  {
   "cell_type": "code",
   "execution_count": 37,
   "metadata": {},
   "outputs": [],
   "source": [
    "#add in missing 58 tracts\n",
    "cook_county_gdf['deaths'] = 1\n",
    "cook_county_gdf = pd.concat([cook_county_gdf, CC_nodeaths], ignore_index=True)\n",
    "cook_county_gdf['semiannual'].fillna(9999, inplace=True) \n",
    "cook_county_gdf['year'].fillna(9999, inplace=True)"
   ]
  },
  {
   "cell_type": "code",
   "execution_count": 38,
   "metadata": {},
   "outputs": [
    {
     "data": {
      "text/plain": [
       "58"
      ]
     },
     "execution_count": 38,
     "metadata": {},
     "output_type": "execute_result"
    }
   ],
   "source": [
    "cook_county_gdf.loc[cook_county_gdf['year'] == 9999, 'GEOID'].nunique() #should be 58"
   ]
  },
  {
   "cell_type": "code",
   "execution_count": 39,
   "metadata": {},
   "outputs": [],
   "source": [
    "columns_to_keep = ['STATEFP', 'COUNTYFP', 'TRACTCE','NAME', 'NAMELSAD', 'MTFCC', 'FUNCSTAT', 'ALAND', 'AWATER',\n",
    "       'INTPTLAT', 'INTPTLON', 'geometry']\n",
    "\n",
    "gdf_semi = cook_county_gdf.groupby(['GEOID', 'semiannual', 'year']).agg({'deaths': 'sum', **{col: 'first' for col in columns_to_keep}}).reset_index()"
   ]
  },
  {
   "cell_type": "code",
   "execution_count": 40,
   "metadata": {},
   "outputs": [
    {
     "data": {
      "text/html": [
       "<div>\n",
       "<style scoped>\n",
       "    .dataframe tbody tr th:only-of-type {\n",
       "        vertical-align: middle;\n",
       "    }\n",
       "\n",
       "    .dataframe tbody tr th {\n",
       "        vertical-align: top;\n",
       "    }\n",
       "\n",
       "    .dataframe thead th {\n",
       "        text-align: right;\n",
       "    }\n",
       "</style>\n",
       "<table border=\"1\" class=\"dataframe\">\n",
       "  <thead>\n",
       "    <tr style=\"text-align: right;\">\n",
       "      <th></th>\n",
       "      <th>GEOID</th>\n",
       "      <th>semiannual</th>\n",
       "      <th>year</th>\n",
       "      <th>deaths</th>\n",
       "      <th>STATEFP</th>\n",
       "      <th>COUNTYFP</th>\n",
       "      <th>TRACTCE</th>\n",
       "      <th>NAME</th>\n",
       "      <th>NAMELSAD</th>\n",
       "      <th>MTFCC</th>\n",
       "      <th>FUNCSTAT</th>\n",
       "      <th>ALAND</th>\n",
       "      <th>AWATER</th>\n",
       "      <th>INTPTLAT</th>\n",
       "      <th>INTPTLON</th>\n",
       "      <th>geometry</th>\n",
       "    </tr>\n",
       "  </thead>\n",
       "  <tbody>\n",
       "    <tr>\n",
       "      <th>0</th>\n",
       "      <td>17031010100</td>\n",
       "      <td>1.0</td>\n",
       "      <td>2016.0</td>\n",
       "      <td>2</td>\n",
       "      <td>17</td>\n",
       "      <td>031</td>\n",
       "      <td>010100</td>\n",
       "      <td>101</td>\n",
       "      <td>Census Tract 101</td>\n",
       "      <td>G5020</td>\n",
       "      <td>S</td>\n",
       "      <td>379511</td>\n",
       "      <td>0</td>\n",
       "      <td>+42.0212553</td>\n",
       "      <td>-087.6698301</td>\n",
       "      <td>POINT (-87.67142 42.02143)</td>\n",
       "    </tr>\n",
       "    <tr>\n",
       "      <th>1</th>\n",
       "      <td>17031010100</td>\n",
       "      <td>1.0</td>\n",
       "      <td>2017.0</td>\n",
       "      <td>1</td>\n",
       "      <td>17</td>\n",
       "      <td>031</td>\n",
       "      <td>010100</td>\n",
       "      <td>101</td>\n",
       "      <td>Census Tract 101</td>\n",
       "      <td>G5020</td>\n",
       "      <td>S</td>\n",
       "      <td>379511</td>\n",
       "      <td>0</td>\n",
       "      <td>+42.0212553</td>\n",
       "      <td>-087.6698301</td>\n",
       "      <td>POINT (-87.66805 42.02216)</td>\n",
       "    </tr>\n",
       "    <tr>\n",
       "      <th>2</th>\n",
       "      <td>17031010100</td>\n",
       "      <td>1.0</td>\n",
       "      <td>2019.0</td>\n",
       "      <td>1</td>\n",
       "      <td>17</td>\n",
       "      <td>031</td>\n",
       "      <td>010100</td>\n",
       "      <td>101</td>\n",
       "      <td>Census Tract 101</td>\n",
       "      <td>G5020</td>\n",
       "      <td>S</td>\n",
       "      <td>379511</td>\n",
       "      <td>0</td>\n",
       "      <td>+42.0212553</td>\n",
       "      <td>-087.6698301</td>\n",
       "      <td>POINT (-87.66739 42.02232)</td>\n",
       "    </tr>\n",
       "    <tr>\n",
       "      <th>3</th>\n",
       "      <td>17031010100</td>\n",
       "      <td>1.0</td>\n",
       "      <td>2020.0</td>\n",
       "      <td>2</td>\n",
       "      <td>17</td>\n",
       "      <td>031</td>\n",
       "      <td>010100</td>\n",
       "      <td>101</td>\n",
       "      <td>Census Tract 101</td>\n",
       "      <td>G5020</td>\n",
       "      <td>S</td>\n",
       "      <td>379511</td>\n",
       "      <td>0</td>\n",
       "      <td>+42.0212553</td>\n",
       "      <td>-087.6698301</td>\n",
       "      <td>POINT (-87.66639 42.02231)</td>\n",
       "    </tr>\n",
       "    <tr>\n",
       "      <th>4</th>\n",
       "      <td>17031010100</td>\n",
       "      <td>1.0</td>\n",
       "      <td>2022.0</td>\n",
       "      <td>1</td>\n",
       "      <td>17</td>\n",
       "      <td>031</td>\n",
       "      <td>010100</td>\n",
       "      <td>101</td>\n",
       "      <td>Census Tract 101</td>\n",
       "      <td>G5020</td>\n",
       "      <td>S</td>\n",
       "      <td>379511</td>\n",
       "      <td>0</td>\n",
       "      <td>+42.0212553</td>\n",
       "      <td>-087.6698301</td>\n",
       "      <td>POINT (-87.66696 42.02057)</td>\n",
       "    </tr>\n",
       "  </tbody>\n",
       "</table>\n",
       "</div>"
      ],
      "text/plain": [
       "         GEOID  semiannual    year  deaths STATEFP COUNTYFP TRACTCE NAME  \\\n",
       "0  17031010100         1.0  2016.0       2      17      031  010100  101   \n",
       "1  17031010100         1.0  2017.0       1      17      031  010100  101   \n",
       "2  17031010100         1.0  2019.0       1      17      031  010100  101   \n",
       "3  17031010100         1.0  2020.0       2      17      031  010100  101   \n",
       "4  17031010100         1.0  2022.0       1      17      031  010100  101   \n",
       "\n",
       "           NAMELSAD  MTFCC FUNCSTAT   ALAND  AWATER     INTPTLAT  \\\n",
       "0  Census Tract 101  G5020        S  379511       0  +42.0212553   \n",
       "1  Census Tract 101  G5020        S  379511       0  +42.0212553   \n",
       "2  Census Tract 101  G5020        S  379511       0  +42.0212553   \n",
       "3  Census Tract 101  G5020        S  379511       0  +42.0212553   \n",
       "4  Census Tract 101  G5020        S  379511       0  +42.0212553   \n",
       "\n",
       "       INTPTLON                    geometry  \n",
       "0  -087.6698301  POINT (-87.67142 42.02143)  \n",
       "1  -087.6698301  POINT (-87.66805 42.02216)  \n",
       "2  -087.6698301  POINT (-87.66739 42.02232)  \n",
       "3  -087.6698301  POINT (-87.66639 42.02231)  \n",
       "4  -087.6698301  POINT (-87.66696 42.02057)  "
      ]
     },
     "execution_count": 40,
     "metadata": {},
     "output_type": "execute_result"
    }
   ],
   "source": [
    "gdf_semi.head()"
   ]
  },
  {
   "cell_type": "markdown",
   "metadata": {},
   "source": [
    "### Making DF square - one \"semi-annual\" period for each tract"
   ]
  },
  {
   "cell_type": "code",
   "execution_count": 41,
   "metadata": {},
   "outputs": [],
   "source": [
    "gdf_semi.loc[gdf_semi['year'] == 9999, 'deaths'] = 0\n",
    "gdf_semi.loc[gdf_semi['semiannual'] == 9999, 'deaths'] = 0\n",
    "\n",
    "# Replace 9999 with 2014 in the 'year' column\n",
    "gdf_semi['year'].replace(9999, 2014, inplace=True)\n",
    "gdf_semi['semiannual'].replace(9999, 1, inplace=True)"
   ]
  },
  {
   "cell_type": "code",
   "execution_count": 42,
   "metadata": {},
   "outputs": [
    {
     "data": {
      "text/plain": [
       "1332"
      ]
     },
     "execution_count": 42,
     "metadata": {},
     "output_type": "execute_result"
    }
   ],
   "source": [
    "gdf_semi['GEOID'].nunique()  #should be 1332"
   ]
  },
  {
   "cell_type": "code",
   "execution_count": 43,
   "metadata": {},
   "outputs": [],
   "source": [
    "##nested for loops\n",
    "years = range(2014, 2024)\n",
    "periods = [1, 2]\n",
    "\n",
    "existing_combinations = set(zip(gdf_semi['GEOID'], gdf_semi['year'], gdf_semi['semiannual']))\n",
    "updated_rows = []\n",
    "\n",
    "for tract in gdf_semi['GEOID'].unique():\n",
    "    for year in years:\n",
    "        for period in periods:\n",
    "            combination = (tract, year, period)\n",
    "            if combination not in existing_combinations:\n",
    "                new_row = {'GEOID': tract, 'year': year, 'semiannual': period, 'deaths': 0}\n",
    "                updated_rows.append(new_row)\n",
    "\n",
    "gdf_semi = pd.concat([gdf_semi, pd.DataFrame(updated_rows)], ignore_index=True)"
   ]
  },
  {
   "cell_type": "code",
   "execution_count": 44,
   "metadata": {},
   "outputs": [],
   "source": [
    "#fills in NAs produced from above\n",
    "unique_tracts = gdf_semi['GEOID'].unique()\n",
    "\n",
    "for tract in unique_tracts:\n",
    "    tract_rows = gdf_semi[gdf_semi['GEOID'] == tract]\n",
    "    non_na_row = tract_rows.dropna().iloc[0]  # Get the first row without any NAs\n",
    "    \n",
    "    for column in columns_to_keep:\n",
    "        gdf_semi.loc[(gdf_semi['GEOID'] == tract) & gdf_semi[column].isna(), column] = non_na_row[column]"
   ]
  },
  {
   "cell_type": "code",
   "execution_count": 45,
   "metadata": {},
   "outputs": [
    {
     "data": {
      "text/plain": [
       "(26640, 16)"
      ]
     },
     "execution_count": 45,
     "metadata": {},
     "output_type": "execute_result"
    }
   ],
   "source": [
    "gdf_semi.shape #should be (26640, 15)\n"
   ]
  },
  {
   "cell_type": "code",
   "execution_count": 46,
   "metadata": {},
   "outputs": [],
   "source": [
    "#confirms all years and periods present\n",
    "years = range(2014, 2024)  \n",
    "periods = [1, 2]  \n",
    "\n",
    "for tract in gdf_semi['GEOID'].unique():\n",
    "    for year in years:\n",
    "        for period in periods:\n",
    "            if not ((gdf_semi['GEOID'] == tract) & (gdf_semi['year'] == year) & (gdf_semi['semiannual'] == period)).any():\n",
    "                print(\"Missing row for GEOID {} in year {} semiannual {}\".format(tract, year, period))\n"
   ]
  },
  {
   "cell_type": "code",
   "execution_count": 47,
   "metadata": {},
   "outputs": [
    {
     "name": "stdout",
     "output_type": "stream",
     "text": [
      "There are no missing values in the dataframe.\n"
     ]
    }
   ],
   "source": [
    "#Any NAs in data frame?\n",
    "\n",
    "has_na = gdf_semi.isna().any().any()\n",
    "\n",
    "if has_na:\n",
    "    print(\"There are missing values in the dataframe.\")\n",
    "else:\n",
    "    print(\"There are no missing values in the dataframe.\")\n"
   ]
  },
  {
   "cell_type": "code",
   "execution_count": 48,
   "metadata": {},
   "outputs": [
    {
     "name": "stdout",
     "output_type": "stream",
     "text": [
      "There are no duplicate rows in the dataframe.\n"
     ]
    }
   ],
   "source": [
    "#Any Duplicates?\n",
    "has_duplicates = gdf_semi.duplicated().any()\n",
    "\n",
    "if has_duplicates:\n",
    "    print(\"There are duplicate rows in the dataframe.\")\n",
    "else:\n",
    "    print(\"There are no duplicate rows in the dataframe.\")\n"
   ]
  },
  {
   "cell_type": "code",
   "execution_count": 52,
   "metadata": {},
   "outputs": [],
   "source": [
    "#change format of year and quarters\n",
    "\n",
    "gdf_semi['year'] = pd.to_datetime(gdf_semi['year'].astype(int).astype(str), format='%Y').dt.year\n",
    "gdf_semi['semiannual'] = gdf_semi['semiannual'].astype(str).replace('1.0', '1').replace('2.0', '2')\n"
   ]
  },
  {
   "cell_type": "code",
   "execution_count": null,
   "metadata": {},
   "outputs": [],
   "source": []
  },
  {
   "cell_type": "markdown",
   "metadata": {},
   "source": [
    "### store gdf\n"
   ]
  },
  {
   "cell_type": "code",
   "execution_count": 53,
   "metadata": {},
   "outputs": [
    {
     "name": "stdout",
     "output_type": "stream",
     "text": [
      "Stored 'gdf_semi' (DataFrame)\n"
     ]
    }
   ],
   "source": [
    "%store gdf_semi"
   ]
  },
  {
   "cell_type": "code",
   "execution_count": null,
   "metadata": {},
   "outputs": [],
   "source": []
  }
 ],
 "metadata": {
  "kernelspec": {
   "display_name": "Python 3",
   "language": "python",
   "name": "python3"
  },
  "language_info": {
   "codemirror_mode": {
    "name": "ipython",
    "version": 3
   },
   "file_extension": ".py",
   "mimetype": "text/x-python",
   "name": "python",
   "nbconvert_exporter": "python",
   "pygments_lexer": "ipython3",
   "version": "3.9.6"
  },
  "orig_nbformat": 4
 },
 "nbformat": 4,
 "nbformat_minor": 2
}
