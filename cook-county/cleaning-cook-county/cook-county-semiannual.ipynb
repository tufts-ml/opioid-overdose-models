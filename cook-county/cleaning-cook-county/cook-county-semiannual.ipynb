{
 "cells": [
  {
   "cell_type": "code",
   "execution_count": 1,
   "metadata": {
    "execution": {
     "iopub.execute_input": "2024-02-07T22:16:32.633864Z",
     "iopub.status.busy": "2024-02-07T22:16:32.633864Z",
     "iopub.status.idle": "2024-02-07T22:16:37.330901Z",
     "shell.execute_reply": "2024-02-07T22:16:37.330901Z"
    }
   },
   "outputs": [
    {
     "name": "stderr",
     "output_type": "stream",
     "text": [
      "C:\\Users\\Thinkpad\\anaconda3\\lib\\site-packages\\scipy\\__init__.py:146: UserWarning: A NumPy version >=1.16.5 and <1.23.0 is required for this version of SciPy (detected version 1.24.3\n",
      "  warnings.warn(f\"A NumPy version >={np_minversion} and <{np_maxversion}\"\n"
     ]
    }
   ],
   "source": [
    "#import libraries\n",
    "import numpy as np\n",
    "import geopandas as gpd\n",
    "import shapely \n",
    "import matplotlib.pyplot as plt\n",
    "import os\n",
    "#import seaborn as sns\n",
    "import pandas as pd\n",
    "import sklearn"
   ]
  },
  {
   "cell_type": "code",
   "execution_count": 2,
   "metadata": {
    "execution": {
     "iopub.execute_input": "2024-02-07T22:16:37.330901Z",
     "iopub.status.busy": "2024-02-07T22:16:37.330901Z",
     "iopub.status.idle": "2024-02-07T22:16:37.947565Z",
     "shell.execute_reply": "2024-02-07T22:16:37.946184Z"
    }
   },
   "outputs": [],
   "source": [
    "# user should replace with their directory\n",
    "data_dir = os.environ.get('DATA_DIR', )\n",
    "\n",
    "csv_path = os.path.join(data_dir, 'cook_county_gdf_intro_semiannual.csv')\n",
    "cook_county_gdf = pd.read_csv(csv_path) "
   ]
  },
  {
   "cell_type": "code",
   "execution_count": 3,
   "metadata": {
    "execution": {
     "iopub.execute_input": "2024-02-07T22:16:37.952617Z",
     "iopub.status.busy": "2024-02-07T22:16:37.952617Z",
     "iopub.status.idle": "2024-02-07T22:16:37.964209Z",
     "shell.execute_reply": "2024-02-07T22:16:37.963564Z"
    }
   },
   "outputs": [],
   "source": [
    "# add in missing 56 tracts\n",
    "cook_county_gdf['semiannual'].fillna(9999, inplace=True) \n",
    "cook_county_gdf['year'].fillna(9999, inplace=True)"
   ]
  },
  {
   "cell_type": "code",
   "execution_count": 4,
   "metadata": {
    "execution": {
     "iopub.execute_input": "2024-02-07T22:16:37.969260Z",
     "iopub.status.busy": "2024-02-07T22:16:37.969260Z",
     "iopub.status.idle": "2024-02-07T22:16:37.980483Z",
     "shell.execute_reply": "2024-02-07T22:16:37.980483Z"
    }
   },
   "outputs": [
    {
     "data": {
      "text/plain": [
       "56"
      ]
     },
     "execution_count": 4,
     "metadata": {},
     "output_type": "execute_result"
    }
   ],
   "source": [
    "cook_county_gdf.loc[cook_county_gdf['year'] == 9999, 'geoid'].nunique() #should be 56"
   ]
  },
  {
   "cell_type": "code",
   "execution_count": 5,
   "metadata": {
    "execution": {
     "iopub.execute_input": "2024-02-07T22:16:37.980483Z",
     "iopub.status.busy": "2024-02-07T22:16:37.980483Z",
     "iopub.status.idle": "2024-02-07T22:16:38.030425Z",
     "shell.execute_reply": "2024-02-07T22:16:38.029266Z"
    }
   },
   "outputs": [],
   "source": [
    "columns_to_keep = [\n",
    "    'INTPTLAT', 'INTPTLON',\n",
    "    'STATEFP', 'COUNTYFP', 'TRACTCE','NAME', 'NAMELSAD', 'MTFCC', 'FUNCSTAT', 'ALAND', 'AWATER',\n",
    "    'geometry']\n",
    "\n",
    "gdf_semi = cook_county_gdf.groupby(['geoid', 'semiannual', 'year']).agg({'deaths': 'sum', **{col: 'first' for col in columns_to_keep}}).reset_index()"
   ]
  },
  {
   "cell_type": "markdown",
   "metadata": {},
   "source": [
    "### Making DF square - one \"semi-annual\" period for each tract"
   ]
  },
  {
   "cell_type": "code",
   "execution_count": 6,
   "metadata": {
    "execution": {
     "iopub.execute_input": "2024-02-07T22:16:38.030425Z",
     "iopub.status.busy": "2024-02-07T22:16:38.030425Z",
     "iopub.status.idle": "2024-02-07T22:16:38.047326Z",
     "shell.execute_reply": "2024-02-07T22:16:38.046052Z"
    }
   },
   "outputs": [],
   "source": [
    "gdf_semi.loc[gdf_semi['year'] == 9999, 'deaths'] = 0\n",
    "gdf_semi.loc[gdf_semi['semiannual'] == 9999, 'deaths'] = 0\n",
    "\n",
    "# Replace 9999 with 2015 in the 'year' column\n",
    "gdf_semi['year'].replace(9999, 2015, inplace=True)\n",
    "gdf_semi['semiannual'].replace(9999, 1, inplace=True)"
   ]
  },
  {
   "cell_type": "code",
   "execution_count": 7,
   "metadata": {
    "execution": {
     "iopub.execute_input": "2024-02-07T22:16:38.051542Z",
     "iopub.status.busy": "2024-02-07T22:16:38.051542Z",
     "iopub.status.idle": "2024-02-07T22:16:38.063744Z",
     "shell.execute_reply": "2024-02-07T22:16:38.062555Z"
    }
   },
   "outputs": [
    {
     "data": {
      "text/plain": [
       "1332"
      ]
     },
     "execution_count": 7,
     "metadata": {},
     "output_type": "execute_result"
    }
   ],
   "source": [
    "gdf_semi['geoid'].nunique()  #should be 1332"
   ]
  },
  {
   "cell_type": "code",
   "execution_count": 8,
   "metadata": {
    "execution": {
     "iopub.execute_input": "2024-02-07T22:16:38.070202Z",
     "iopub.status.busy": "2024-02-07T22:16:38.069203Z",
     "iopub.status.idle": "2024-02-07T22:16:38.213452Z",
     "shell.execute_reply": "2024-02-07T22:16:38.212450Z"
    }
   },
   "outputs": [],
   "source": [
    "# Fill in missing tract-year-period cells\n",
    "# Warning: Nested for loops\n",
    "\n",
    "years = range(2015, 2024)\n",
    "periods = [1, 2]\n",
    "\n",
    "existing_combinations = set(zip(gdf_semi['geoid'], gdf_semi['year'], gdf_semi['semiannual']))\n",
    "updated_rows = []\n",
    "\n",
    "for tract in gdf_semi['geoid'].unique():\n",
    "    for year in years:\n",
    "        for period in periods:\n",
    "            combination = (tract, year, period)\n",
    "            if combination not in existing_combinations:\n",
    "                new_row = {'geoid': tract, 'year': year, 'semiannual': period, 'deaths': 0}\n",
    "                updated_rows.append(new_row)\n",
    "\n",
    "gdf_semi = pd.concat([gdf_semi, pd.DataFrame(updated_rows)], ignore_index=True)"
   ]
  },
  {
   "cell_type": "code",
   "execution_count": 9,
   "metadata": {
    "execution": {
     "iopub.execute_input": "2024-02-07T22:16:38.219313Z",
     "iopub.status.busy": "2024-02-07T22:16:38.219313Z",
     "iopub.status.idle": "2024-02-07T22:16:56.735176Z",
     "shell.execute_reply": "2024-02-07T22:16:56.734023Z"
    }
   },
   "outputs": [],
   "source": [
    "#fills in NAs produced from above\n",
    "unique_tracts = gdf_semi['geoid'].unique()\n",
    "\n",
    "for tract in unique_tracts:\n",
    "    tract_rows = gdf_semi[gdf_semi['geoid'] == tract]\n",
    "    non_na_row = tract_rows.dropna().iloc[0]  # Get the first row without any NAs\n",
    "    \n",
    "    for column in columns_to_keep:\n",
    "        gdf_semi.loc[(gdf_semi['geoid'] == tract) & gdf_semi[column].isna(), column] = non_na_row[column]"
   ]
  },
  {
   "cell_type": "code",
   "execution_count": 10,
   "metadata": {
    "execution": {
     "iopub.execute_input": "2024-02-07T22:16:56.735176Z",
     "iopub.status.busy": "2024-02-07T22:16:56.735176Z",
     "iopub.status.idle": "2024-02-07T22:16:56.751809Z",
     "shell.execute_reply": "2024-02-07T22:16:56.750800Z"
    }
   },
   "outputs": [
    {
     "data": {
      "text/plain": [
       "(24162, 16)"
      ]
     },
     "execution_count": 10,
     "metadata": {},
     "output_type": "execute_result"
    }
   ],
   "source": [
    "gdf_semi.shape #should be (24162, 15)\n"
   ]
  },
  {
   "cell_type": "code",
   "execution_count": 11,
   "metadata": {
    "execution": {
     "iopub.execute_input": "2024-02-07T22:16:56.757234Z",
     "iopub.status.busy": "2024-02-07T22:16:56.756233Z",
     "iopub.status.idle": "2024-02-07T22:17:11.294333Z",
     "shell.execute_reply": "2024-02-07T22:17:11.293396Z"
    }
   },
   "outputs": [],
   "source": [
    "# Confirms all years for each geoid present\n",
    "years = range(2015, 2023)  # data collect started in late '14, we ran this notebook in mid '23\n",
    "\n",
    "periods = [1, 2]  \n",
    "\n",
    "for tract in gdf_semi['geoid'].unique():\n",
    "    for year in years:\n",
    "        for period in periods:\n",
    "            if not ((gdf_semi['geoid'] == tract) & (gdf_semi['year'] == year) & (gdf_semi['semiannual'] == period)).any():\n",
    "                print(\"Missing row for geoid {} in year {} semiannual {}\".format(tract, year, period))\n"
   ]
  },
  {
   "cell_type": "code",
   "execution_count": 12,
   "metadata": {
    "execution": {
     "iopub.execute_input": "2024-02-07T22:17:11.297343Z",
     "iopub.status.busy": "2024-02-07T22:17:11.297343Z",
     "iopub.status.idle": "2024-02-07T22:17:11.325989Z",
     "shell.execute_reply": "2024-02-07T22:17:11.325069Z"
    }
   },
   "outputs": [
    {
     "name": "stdout",
     "output_type": "stream",
     "text": [
      "There are no missing values in the dataframe.\n"
     ]
    }
   ],
   "source": [
    "#Any NAs in data frame?\n",
    "\n",
    "has_na = gdf_semi.isna().any().any()\n",
    "\n",
    "if has_na:\n",
    "    print(\"There are missing values in the dataframe.\")\n",
    "else:\n",
    "    print(\"There are no missing values in the dataframe.\")\n"
   ]
  },
  {
   "cell_type": "code",
   "execution_count": 13,
   "metadata": {
    "execution": {
     "iopub.execute_input": "2024-02-07T22:17:11.325989Z",
     "iopub.status.busy": "2024-02-07T22:17:11.325989Z",
     "iopub.status.idle": "2024-02-07T22:17:11.509696Z",
     "shell.execute_reply": "2024-02-07T22:17:11.508309Z"
    }
   },
   "outputs": [
    {
     "name": "stdout",
     "output_type": "stream",
     "text": [
      "There are no duplicate rows in the dataframe.\n"
     ]
    }
   ],
   "source": [
    "#Any Duplicates?\n",
    "has_duplicates = gdf_semi.duplicated().any()\n",
    "\n",
    "if has_duplicates:\n",
    "    print(\"There are duplicate rows in the dataframe.\")\n",
    "else:\n",
    "    print(\"There are no duplicate rows in the dataframe.\")\n"
   ]
  },
  {
   "cell_type": "code",
   "execution_count": 14,
   "metadata": {
    "execution": {
     "iopub.execute_input": "2024-02-07T22:17:11.512698Z",
     "iopub.status.busy": "2024-02-07T22:17:11.512698Z",
     "iopub.status.idle": "2024-02-07T22:17:11.558122Z",
     "shell.execute_reply": "2024-02-07T22:17:11.557019Z"
    }
   },
   "outputs": [],
   "source": [
    "#change format of year and semiannuals\n",
    "\n",
    "gdf_semi['year'] = pd.to_datetime(gdf_semi['year'].astype(int).astype(str), format='%Y').dt.year\n",
    "gdf_semi['semiannual'] = gdf_semi['semiannual'].astype(str).replace('1.0', '1').replace('2.0', '2')\n"
   ]
  },
  {
   "cell_type": "code",
   "execution_count": 15,
   "metadata": {
    "execution": {
     "iopub.execute_input": "2024-02-07T22:17:11.561478Z",
     "iopub.status.busy": "2024-02-07T22:17:11.561478Z",
     "iopub.status.idle": "2024-02-07T22:17:11.592852Z",
     "shell.execute_reply": "2024-02-07T22:17:11.591500Z"
    }
   },
   "outputs": [],
   "source": [
    "#take out 2023 and 2014\n",
    "gdf_semi = gdf_semi[gdf_semi['year'] != 2023]\n",
    "gdf_semi = gdf_semi[gdf_semi['year'] != 2014]"
   ]
  },
  {
   "cell_type": "code",
   "execution_count": 16,
   "metadata": {
    "execution": {
     "iopub.execute_input": "2024-02-07T22:17:11.596852Z",
     "iopub.status.busy": "2024-02-07T22:17:11.596852Z",
     "iopub.status.idle": "2024-02-07T22:17:11.607864Z",
     "shell.execute_reply": "2024-02-07T22:17:11.606965Z"
    }
   },
   "outputs": [
    {
     "data": {
      "text/plain": [
       "[2015, 2016, 2017, 2018, 2019, 2020, 2021, 2022]"
      ]
     },
     "execution_count": 16,
     "metadata": {},
     "output_type": "execute_result"
    }
   ],
   "source": [
    "sorted(gdf_semi.year.unique())"
   ]
  },
  {
   "cell_type": "code",
   "execution_count": 17,
   "metadata": {
    "execution": {
     "iopub.execute_input": "2024-02-07T22:17:11.611016Z",
     "iopub.status.busy": "2024-02-07T22:17:11.611016Z",
     "iopub.status.idle": "2024-02-07T22:17:11.625758Z",
     "shell.execute_reply": "2024-02-07T22:17:11.625185Z"
    }
   },
   "outputs": [],
   "source": [
    "#gdf_semi.columns = ['geoid', 'semiannual', 'year', 'deaths', 'STATEFP', 'COUNTYFP',\n",
    "#       'TRACTCE', 'NAME', 'NAMELSAD', 'MTFCC', 'FUNCSTAT', 'ALAND', 'AWATER',\n",
    "#       'lat', 'lon', 'geometry']"
   ]
  },
  {
   "cell_type": "code",
   "execution_count": null,
   "metadata": {},
   "outputs": [],
   "source": []
  },
  {
   "cell_type": "code",
   "execution_count": 18,
   "metadata": {
    "execution": {
     "iopub.execute_input": "2024-02-07T22:17:11.625758Z",
     "iopub.status.busy": "2024-02-07T22:17:11.625758Z",
     "iopub.status.idle": "2024-02-07T22:17:11.675723Z",
     "shell.execute_reply": "2024-02-07T22:17:11.674563Z"
    }
   },
   "outputs": [],
   "source": [
    "# Create timestep column\n",
    "gdf_semi = gdf_semi.sort_values(by=['geoid', 'year', 'semiannual']).reset_index(drop=True).copy()\n",
    "\n",
    "gdf_semi['timestep'] = gdf_semi.groupby(['geoid']).cumcount() + 1\n",
    "\n",
    "# Create season column\n",
    "def map_season(semiannual):\n",
    "    return 'jan-jun' if semiannual == '1' else 'jul-dec'\n",
    "gdf_semi['season'] = gdf_semi['semiannual'].map(map_season)"
   ]
  },
  {
   "cell_type": "code",
   "execution_count": 19,
   "metadata": {
    "execution": {
     "iopub.execute_input": "2024-02-07T22:17:11.675723Z",
     "iopub.status.busy": "2024-02-07T22:17:11.675723Z",
     "iopub.status.idle": "2024-02-07T22:17:11.692882Z",
     "shell.execute_reply": "2024-02-07T22:17:11.691510Z"
    }
   },
   "outputs": [],
   "source": [
    "# Create 'year_frac' column that indicates timeperiod in fractional years\n",
    "gdf_semi['year_frac'] = gdf_semi['year'].values + (gdf_semi['semiannual'].values.astype('int') - 1)/2"
   ]
  },
  {
   "cell_type": "code",
   "execution_count": 20,
   "metadata": {
    "execution": {
     "iopub.execute_input": "2024-02-07T22:17:11.696816Z",
     "iopub.status.busy": "2024-02-07T22:17:11.695813Z",
     "iopub.status.idle": "2024-02-07T22:17:11.709201Z",
     "shell.execute_reply": "2024-02-07T22:17:11.708400Z"
    }
   },
   "outputs": [
    {
     "data": {
      "text/plain": [
       "Index(['geoid', 'semiannual', 'year', 'deaths', 'INTPTLAT', 'INTPTLON',\n",
       "       'STATEFP', 'COUNTYFP', 'TRACTCE', 'NAME', 'NAMELSAD', 'MTFCC',\n",
       "       'FUNCSTAT', 'ALAND', 'AWATER', 'geometry', 'timestep', 'season',\n",
       "       'year_frac'],\n",
       "      dtype='object')"
      ]
     },
     "execution_count": 20,
     "metadata": {},
     "output_type": "execute_result"
    }
   ],
   "source": [
    "gdf_semi.columns"
   ]
  },
  {
   "cell_type": "code",
   "execution_count": 21,
   "metadata": {
    "execution": {
     "iopub.execute_input": "2024-02-07T22:17:11.714049Z",
     "iopub.status.busy": "2024-02-07T22:17:11.714049Z",
     "iopub.status.idle": "2024-02-07T22:17:11.743929Z",
     "shell.execute_reply": "2024-02-07T22:17:11.742568Z"
    }
   },
   "outputs": [],
   "source": [
    "# REORDER columns to be easier for humans to inspect\n",
    "gdf_semi = gdf_semi[[\n",
    "    'geoid', 'timestep', 'year_frac', \n",
    "    'deaths',\n",
    "    'year', 'semiannual', 'season']\n",
    "    + columns_to_keep\n",
    "    ].copy()\n"
   ]
  },
  {
   "cell_type": "code",
   "execution_count": 22,
   "metadata": {
    "execution": {
     "iopub.execute_input": "2024-02-07T22:17:11.747514Z",
     "iopub.status.busy": "2024-02-07T22:17:11.746513Z",
     "iopub.status.idle": "2024-02-07T22:17:11.773787Z",
     "shell.execute_reply": "2024-02-07T22:17:11.772940Z"
    }
   },
   "outputs": [
    {
     "data": {
      "text/html": [
       "<div>\n",
       "<style scoped>\n",
       "    .dataframe tbody tr th:only-of-type {\n",
       "        vertical-align: middle;\n",
       "    }\n",
       "\n",
       "    .dataframe tbody tr th {\n",
       "        vertical-align: top;\n",
       "    }\n",
       "\n",
       "    .dataframe thead th {\n",
       "        text-align: right;\n",
       "    }\n",
       "</style>\n",
       "<table border=\"1\" class=\"dataframe\">\n",
       "  <thead>\n",
       "    <tr style=\"text-align: right;\">\n",
       "      <th></th>\n",
       "      <th>geoid</th>\n",
       "      <th>timestep</th>\n",
       "      <th>year_frac</th>\n",
       "      <th>deaths</th>\n",
       "      <th>year</th>\n",
       "      <th>semiannual</th>\n",
       "      <th>season</th>\n",
       "      <th>INTPTLAT</th>\n",
       "      <th>INTPTLON</th>\n",
       "      <th>STATEFP</th>\n",
       "      <th>COUNTYFP</th>\n",
       "      <th>TRACTCE</th>\n",
       "      <th>NAME</th>\n",
       "      <th>NAMELSAD</th>\n",
       "      <th>MTFCC</th>\n",
       "      <th>FUNCSTAT</th>\n",
       "      <th>ALAND</th>\n",
       "      <th>AWATER</th>\n",
       "      <th>geometry</th>\n",
       "    </tr>\n",
       "  </thead>\n",
       "  <tbody>\n",
       "    <tr>\n",
       "      <th>0</th>\n",
       "      <td>17031010100</td>\n",
       "      <td>1</td>\n",
       "      <td>2015.0</td>\n",
       "      <td>0</td>\n",
       "      <td>2015</td>\n",
       "      <td>1</td>\n",
       "      <td>jan-jun</td>\n",
       "      <td>42.021255</td>\n",
       "      <td>-87.66983</td>\n",
       "      <td>17.0</td>\n",
       "      <td>31.0</td>\n",
       "      <td>10100.0</td>\n",
       "      <td>101.0</td>\n",
       "      <td>Census Tract 101</td>\n",
       "      <td>G5020</td>\n",
       "      <td>S</td>\n",
       "      <td>379511.0</td>\n",
       "      <td>0.0</td>\n",
       "      <td>POLYGON ((-87.677199 42.022942, -87.676277 42....</td>\n",
       "    </tr>\n",
       "    <tr>\n",
       "      <th>1</th>\n",
       "      <td>17031010100</td>\n",
       "      <td>2</td>\n",
       "      <td>2015.5</td>\n",
       "      <td>1</td>\n",
       "      <td>2015</td>\n",
       "      <td>2</td>\n",
       "      <td>jul-dec</td>\n",
       "      <td>42.021255</td>\n",
       "      <td>-87.66983</td>\n",
       "      <td>17.0</td>\n",
       "      <td>31.0</td>\n",
       "      <td>10100.0</td>\n",
       "      <td>101.0</td>\n",
       "      <td>Census Tract 101</td>\n",
       "      <td>G5020</td>\n",
       "      <td>S</td>\n",
       "      <td>379511.0</td>\n",
       "      <td>0.0</td>\n",
       "      <td>POLYGON ((-87.677199 42.022942, -87.676277 42....</td>\n",
       "    </tr>\n",
       "    <tr>\n",
       "      <th>2</th>\n",
       "      <td>17031010100</td>\n",
       "      <td>3</td>\n",
       "      <td>2016.0</td>\n",
       "      <td>2</td>\n",
       "      <td>2016</td>\n",
       "      <td>1</td>\n",
       "      <td>jan-jun</td>\n",
       "      <td>42.021255</td>\n",
       "      <td>-87.66983</td>\n",
       "      <td>17.0</td>\n",
       "      <td>31.0</td>\n",
       "      <td>10100.0</td>\n",
       "      <td>101.0</td>\n",
       "      <td>Census Tract 101</td>\n",
       "      <td>G5020</td>\n",
       "      <td>S</td>\n",
       "      <td>379511.0</td>\n",
       "      <td>0.0</td>\n",
       "      <td>POLYGON ((-87.677199 42.022942, -87.676277 42....</td>\n",
       "    </tr>\n",
       "    <tr>\n",
       "      <th>3</th>\n",
       "      <td>17031010100</td>\n",
       "      <td>4</td>\n",
       "      <td>2016.5</td>\n",
       "      <td>1</td>\n",
       "      <td>2016</td>\n",
       "      <td>2</td>\n",
       "      <td>jul-dec</td>\n",
       "      <td>42.021255</td>\n",
       "      <td>-87.66983</td>\n",
       "      <td>17.0</td>\n",
       "      <td>31.0</td>\n",
       "      <td>10100.0</td>\n",
       "      <td>101.0</td>\n",
       "      <td>Census Tract 101</td>\n",
       "      <td>G5020</td>\n",
       "      <td>S</td>\n",
       "      <td>379511.0</td>\n",
       "      <td>0.0</td>\n",
       "      <td>POLYGON ((-87.677199 42.022942, -87.676277 42....</td>\n",
       "    </tr>\n",
       "    <tr>\n",
       "      <th>4</th>\n",
       "      <td>17031010100</td>\n",
       "      <td>5</td>\n",
       "      <td>2017.0</td>\n",
       "      <td>1</td>\n",
       "      <td>2017</td>\n",
       "      <td>1</td>\n",
       "      <td>jan-jun</td>\n",
       "      <td>42.021255</td>\n",
       "      <td>-87.66983</td>\n",
       "      <td>17.0</td>\n",
       "      <td>31.0</td>\n",
       "      <td>10100.0</td>\n",
       "      <td>101.0</td>\n",
       "      <td>Census Tract 101</td>\n",
       "      <td>G5020</td>\n",
       "      <td>S</td>\n",
       "      <td>379511.0</td>\n",
       "      <td>0.0</td>\n",
       "      <td>POLYGON ((-87.677199 42.022942, -87.676277 42....</td>\n",
       "    </tr>\n",
       "  </tbody>\n",
       "</table>\n",
       "</div>"
      ],
      "text/plain": [
       "         geoid  timestep  year_frac  deaths  year semiannual   season  \\\n",
       "0  17031010100         1     2015.0       0  2015          1  jan-jun   \n",
       "1  17031010100         2     2015.5       1  2015          2  jul-dec   \n",
       "2  17031010100         3     2016.0       2  2016          1  jan-jun   \n",
       "3  17031010100         4     2016.5       1  2016          2  jul-dec   \n",
       "4  17031010100         5     2017.0       1  2017          1  jan-jun   \n",
       "\n",
       "    INTPTLAT  INTPTLON  STATEFP  COUNTYFP  TRACTCE   NAME          NAMELSAD  \\\n",
       "0  42.021255 -87.66983     17.0      31.0  10100.0  101.0  Census Tract 101   \n",
       "1  42.021255 -87.66983     17.0      31.0  10100.0  101.0  Census Tract 101   \n",
       "2  42.021255 -87.66983     17.0      31.0  10100.0  101.0  Census Tract 101   \n",
       "3  42.021255 -87.66983     17.0      31.0  10100.0  101.0  Census Tract 101   \n",
       "4  42.021255 -87.66983     17.0      31.0  10100.0  101.0  Census Tract 101   \n",
       "\n",
       "   MTFCC FUNCSTAT     ALAND  AWATER  \\\n",
       "0  G5020        S  379511.0     0.0   \n",
       "1  G5020        S  379511.0     0.0   \n",
       "2  G5020        S  379511.0     0.0   \n",
       "3  G5020        S  379511.0     0.0   \n",
       "4  G5020        S  379511.0     0.0   \n",
       "\n",
       "                                            geometry  \n",
       "0  POLYGON ((-87.677199 42.022942, -87.676277 42....  \n",
       "1  POLYGON ((-87.677199 42.022942, -87.676277 42....  \n",
       "2  POLYGON ((-87.677199 42.022942, -87.676277 42....  \n",
       "3  POLYGON ((-87.677199 42.022942, -87.676277 42....  \n",
       "4  POLYGON ((-87.677199 42.022942, -87.676277 42....  "
      ]
     },
     "execution_count": 22,
     "metadata": {},
     "output_type": "execute_result"
    }
   ],
   "source": [
    "gdf_semi.head()"
   ]
  },
  {
   "cell_type": "code",
   "execution_count": 23,
   "metadata": {
    "execution": {
     "iopub.execute_input": "2024-02-07T22:17:11.775637Z",
     "iopub.status.busy": "2024-02-07T22:17:11.775637Z",
     "iopub.status.idle": "2024-02-07T22:17:14.907761Z",
     "shell.execute_reply": "2024-02-07T22:17:14.907155Z"
    }
   },
   "outputs": [
    {
     "name": "stderr",
     "output_type": "stream",
     "text": [
      "C:\\Users\\Thinkpad\\anaconda3\\lib\\site-packages\\pyproj\\crs\\crs.py:141: FutureWarning: '+init=<authority>:<code>' syntax is deprecated. '<authority>:<code>' is the preferred initialization method. When making the change, be mindful of axis order changes: https://pyproj4.github.io/pyproj/stable/gotchas.html#axis-order-changes-in-proj-6\n",
      "  in_crs_string = _prepare_from_proj_string(in_crs_string)\n"
     ]
    },
    {
     "data": {
      "text/plain": [
       "geopandas.geodataframe.GeoDataFrame"
      ]
     },
     "execution_count": 23,
     "metadata": {},
     "output_type": "execute_result"
    }
   ],
   "source": [
    "#convert back to gdf\n",
    "from shapely import wkt\n",
    "\n",
    "gdf_semi['geometry'] = gdf_semi['geometry'].apply(wkt.loads)\n",
    "\n",
    "gdf_semi = gpd.GeoDataFrame(gdf_semi, geometry='geometry')\n",
    "gdf_semi.crs = {'init': 'EPSG:4269'}\n",
    "type(gdf_semi)"
   ]
  },
  {
   "cell_type": "code",
   "execution_count": 24,
   "metadata": {
    "execution": {
     "iopub.execute_input": "2024-02-07T22:17:14.911762Z",
     "iopub.status.busy": "2024-02-07T22:17:14.910773Z",
     "iopub.status.idle": "2024-02-07T22:17:15.789775Z",
     "shell.execute_reply": "2024-02-07T22:17:15.788915Z"
    }
   },
   "outputs": [
    {
     "data": {
      "image/png": "[encoded data removed]",
      "text/plain": [
       "<Figure size 432x288 with 2 Axes>"
      ]
     },
     "metadata": {
      "needs_background": "light"
     },
     "output_type": "display_data"
    }
   ],
   "source": [
    "gdf_semi[gdf_semi['year']==2015].plot('deaths', legend=True);"
   ]
  },
  {
   "cell_type": "markdown",
   "metadata": {},
   "source": [
    "### store gdf\n"
   ]
  },
  {
   "cell_type": "code",
   "execution_count": 25,
   "metadata": {
    "execution": {
     "iopub.execute_input": "2024-02-07T22:17:15.789775Z",
     "iopub.status.busy": "2024-02-07T22:17:15.789775Z",
     "iopub.status.idle": "2024-02-07T22:17:21.934680Z",
     "shell.execute_reply": "2024-02-07T22:17:21.933677Z"
    }
   },
   "outputs": [],
   "source": [
    "gdf_semi.to_csv(csv_path.replace(\"intro\", \"clean\"), index=False)"
   ]
  },
  {
   "cell_type": "code",
   "execution_count": null,
   "metadata": {},
   "outputs": [],
   "source": []
  }
 ],
 "metadata": {
  "kernelspec": {
   "display_name": "Python 3 (ipykernel)",
   "language": "python",
   "name": "python3"
  },
  "language_info": {
   "codemirror_mode": {
    "name": "ipython",
    "version": 3
   },
   "file_extension": ".py",
   "mimetype": "text/x-python",
   "name": "python",
   "nbconvert_exporter": "python",
   "pygments_lexer": "ipython3",
   "version": "3.9.12"
  }
 },
 "nbformat": 4,
 "nbformat_minor": 4
}
