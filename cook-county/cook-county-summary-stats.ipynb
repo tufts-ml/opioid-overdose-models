{
 "cells": [
  {
   "cell_type": "code",
   "execution_count": 1,
   "metadata": {},
   "outputs": [],
   "source": [
    "#import libraries\n",
    "import numpy as np\n",
    "import matplotlib.pyplot as plt\n",
    "import os\n",
    "import seaborn as sns\n",
    "import pandas as pd\n",
    "import sklearn"
   ]
  },
  {
   "cell_type": "code",
   "execution_count": 2,
   "metadata": {},
   "outputs": [],
   "source": [
    "#retrieve cleaned data frames \n",
    "%store -r gdf_quarter\n",
    "%store -r gdf_semi\n",
    "%store -r gdf_annual"
   ]
  },
  {
   "cell_type": "markdown",
   "metadata": {},
   "source": [
    "### Sparsity Rate Tables"
   ]
  },
  {
   "cell_type": "code",
   "execution_count": 5,
   "metadata": {},
   "outputs": [
    {
     "name": "stdout",
     "output_type": "stream",
     "text": [
      "   year Total Deaths Sparsity Rate\n",
      "0  2014          209       86.036%\n",
      "1  2015          616       67.342%\n",
      "2  2016         1029       53.754%\n",
      "3  2017         1109       53.303%\n",
      "4  2018         1078       54.429%\n",
      "5  2019         1210       52.102%\n",
      "6  2020         1687       43.619%\n",
      "7  2021         1790       43.168%\n",
      "8  2022         1849       43.018%\n"
     ]
    }
   ],
   "source": [
    "#annual\n",
    "sparsity_df_annual = pd.DataFrame(columns=['year', 'Total Deaths', 'Sparsity Rate'])\n",
    "\n",
    "years = range(2014, 2023)\n",
    "for year in years:\n",
    "    year_df = gdf_annual[gdf_annual['year'] == year]\n",
    "    zero_deaths_count = year_df[year_df['deaths'] == 0].shape[0]\n",
    "    total_count = year_df.shape[0]\n",
    "    sparsity_rate = (zero_deaths_count / total_count) * 100\n",
    "    total_deaths = year_df['deaths'].sum()\n",
    "    sparsity_df_annual = pd.concat([sparsity_df_annual, pd.DataFrame({'year': [year], 'Total Deaths': [total_deaths], 'Sparsity Rate': [sparsity_rate]})], ignore_index=True)\n",
    "\n",
    "\n",
    "raw_sparsity = sparsity_df_annual['Sparsity Rate']\n",
    "sparsity_df_annual['Sparsity Rate'] = sparsity_df_annual['Sparsity Rate'].round(3).astype(str) + '%'\n",
    "print(sparsity_df_annual)"
   ]
  },
  {
   "cell_type": "code",
   "execution_count": 34,
   "metadata": {},
   "outputs": [
    {
     "name": "stdout",
     "output_type": "stream",
     "text": [
      "\n",
      "Year: 2014, Total Deaths: 209, Sparsity Rate: 86.036%\n",
      "\n",
      "Year: 2015, Total Deaths: 616, Sparsity Rate: 67.342%\n",
      "\n",
      "Year: 2016, Total Deaths: 1029, Sparsity Rate: 53.754%\n",
      "\n",
      "Year: 2017, Total Deaths: 1109, Sparsity Rate: 53.303%\n",
      "\n",
      "Year: 2018, Total Deaths: 1078, Sparsity Rate: 54.429%\n",
      "\n",
      "Year: 2019, Total Deaths: 1210, Sparsity Rate: 52.102%\n",
      "\n",
      "Year: 2020, Total Deaths: 1687, Sparsity Rate: 43.619%\n",
      "\n",
      "Year: 2021, Total Deaths: 1790, Sparsity Rate: 43.168%\n",
      "\n",
      "Year: 2022, Total Deaths: 1849, Sparsity Rate: 43.018%\n",
      "\n"
     ]
    }
   ],
   "source": [
    "##quarterly sparsity table\n",
    "\n",
    "quarterly_deaths = gdf_quarter.groupby(['year', 'quarter'])['deaths'].sum().reset_index()\n",
    "\n",
    "# Calculate sparsity rate\n",
    "zero_deaths_count = gdf_quarter[gdf_quarter['deaths'] == 0].groupby(['year', 'quarter']).size().reset_index(name='Zero Deaths Count')\n",
    "total_tracts_count = gdf_quarter.groupby(['year', 'quarter']).size().reset_index(name='Total Tracts Count')\n",
    "sparsity_df_quarter = pd.merge(zero_deaths_count, total_tracts_count, on=['year', 'quarter'])\n",
    "sparsity_df_quarter['Sparsity Rate'] = (sparsity_df_quarter['Zero Deaths Count'] / sparsity_df_quarter['Total Tracts Count']) * 100\n",
    "sparsity_df_quarter['Sparsity Rate'] = sparsity_df_quarter['Sparsity Rate'].round(3).astype(str) + '%'\n",
    "\n",
    "# Merge sparsity rate with quarterly_deaths table\n",
    "quarterly_deaths = pd.merge(quarterly_deaths, sparsity_df_quarter[['year', 'quarter', 'Sparsity Rate']], on=['year', 'quarter'])\n",
    "\n",
    "# Rename the 'deaths' column\n",
    "quarterly_deaths.rename(columns={'deaths': 'Total Deaths'}, inplace=True)\n",
    "\n",
    "# Exclude 2023 from the table\n",
    "quarterly_deaths = quarterly_deaths[quarterly_deaths['year'] != 2023]\n",
    "\n",
    "# Add an extra space between every year (or after every 4 quarters)\n",
    "formatted_table = ''\n",
    "current_year = None\n",
    "for _, row in quarterly_deaths.iterrows():\n",
    "    year = row['year']\n",
    "    quarter = row['quarter']\n",
    "    total_deaths = row['Total Deaths']\n",
    "    sparsity_rate = row['Sparsity Rate']\n",
    "    \n",
    "    if year != current_year:\n",
    "        formatted_table += '\\n'  # Add an extra space between years\n",
    "        current_year = year\n",
    "    \n",
    "    formatted_table += f\"Year: {year}, Quarter: {quarter}, Total Deaths: {total_deaths}, Sparsity Rate: {sparsity_rate}\\n\"\n",
    "\n",
    "# Print the resulting table\n",
    "print(formatted_table)\n"
   ]
  },
  {
   "cell_type": "code",
   "execution_count": 23,
   "metadata": {},
   "outputs": [
    {
     "name": "stdout",
     "output_type": "stream",
     "text": [
      "\n",
      "Year: 2014, Semiannual: 1, Total Deaths: 1, Sparsity Rate: 99.925%\n",
      "Year: 2014, Semiannual: 2, Total Deaths: 208, Sparsity Rate: 86.111%\n",
      "\n",
      "Year: 2015, Semiannual: 1, Total Deaths: 278, Sparsity Rate: 82.282%\n",
      "Year: 2015, Semiannual: 2, Total Deaths: 338, Sparsity Rate: 79.73%\n",
      "\n",
      "Year: 2016, Semiannual: 1, Total Deaths: 533, Sparsity Rate: 70.195%\n",
      "Year: 2016, Semiannual: 2, Total Deaths: 496, Sparsity Rate: 72.898%\n",
      "\n",
      "Year: 2017, Semiannual: 1, Total Deaths: 510, Sparsity Rate: 72.823%\n",
      "Year: 2017, Semiannual: 2, Total Deaths: 599, Sparsity Rate: 69.144%\n",
      "\n",
      "Year: 2018, Semiannual: 1, Total Deaths: 518, Sparsity Rate: 72.523%\n",
      "Year: 2018, Semiannual: 2, Total Deaths: 560, Sparsity Rate: 70.796%\n",
      "\n",
      "Year: 2019, Semiannual: 1, Total Deaths: 528, Sparsity Rate: 71.922%\n",
      "Year: 2019, Semiannual: 2, Total Deaths: 682, Sparsity Rate: 66.141%\n",
      "\n",
      "Year: 2020, Semiannual: 1, Total Deaths: 914, Sparsity Rate: 60.21%\n",
      "Year: 2020, Semiannual: 2, Total Deaths: 773, Sparsity Rate: 63.063%\n",
      "\n",
      "Year: 2021, Semiannual: 1, Total Deaths: 821, Sparsity Rate: 62.988%\n",
      "Year: 2021, Semiannual: 2, Total Deaths: 969, Sparsity Rate: 59.459%\n",
      "\n",
      "Year: 2022, Semiannual: 1, Total Deaths: 866, Sparsity Rate: 60.811%\n",
      "Year: 2022, Semiannual: 2, Total Deaths: 983, Sparsity Rate: 59.985%\n",
      "\n",
      "Year: 2023, Semiannual: 1, Total Deaths: 602, Sparsity Rate: 70.495%\n",
      "Year: 2023, Semiannual: 2, Total Deaths: 0, Sparsity Rate: 100.0%\n",
      "\n"
     ]
    }
   ],
   "source": [
    "#semi-annual\n",
    "semiannual_deaths = gdf_semi.groupby(['year', 'semiannual'])['deaths'].sum().reset_index()\n",
    "\n",
    "# Calculate sparsity rate\n",
    "zero_deaths_count = gdf_semi[gdf_semi['deaths'] == 0].groupby(['year', 'semiannual']).size().reset_index(name='Zero Deaths Count')\n",
    "total_tracts_count = gdf_semi.groupby(['year', 'semiannual']).size().reset_index(name='Total Tracts Count')\n",
    "sparsity_df_semi = pd.merge(zero_deaths_count, total_tracts_count, on=['year', 'semiannual'])\n",
    "sparsity_df_semi['Sparsity Rate'] = (sparsity_df_semi['Zero Deaths Count'] / sparsity_df_semi['Total Tracts Count']) * 100\n",
    "sparsity_df_semi['Sparsity Rate'] = sparsity_df_semi['Sparsity Rate'].round(3).astype(str) + '%'\n",
    "\n",
    "# Merge sparsity rate with semiannual_deaths table\n",
    "semiannual_deaths = pd.merge(semiannual_deaths, sparsity_df_semi[['year', 'semiannual', 'Sparsity Rate']], on=['year', 'semiannual'])\n",
    "\n",
    "semiannual_deaths.rename(columns={'deaths': 'Total Deaths'}, inplace=True)\n",
    "\n",
    "#format\n",
    "formatted_table = ''\n",
    "current_year = None\n",
    "for _, row in semiannual_deaths.iterrows():\n",
    "    year = row['year']\n",
    "    semiannual = row['semiannual']\n",
    "    total_deaths = row['Total Deaths']\n",
    "    sparsity_rate = row['Sparsity Rate']\n",
    "    \n",
    "    if year != current_year:\n",
    "        formatted_table += '\\n'  # Add an extra space between years\n",
    "        current_year = year\n",
    "    \n",
    "    formatted_table += f\"Year: {year}, Semiannual: {semiannual}, Total Deaths: {total_deaths}, Sparsity Rate: {sparsity_rate}\\n\"\n",
    "\n",
    "# Print the resulting table\n",
    "print(formatted_table)\n",
    "\n",
    "\n"
   ]
  },
  {
   "cell_type": "code",
   "execution_count": 33,
   "metadata": {},
   "outputs": [
    {
     "name": "stdout",
     "output_type": "stream",
     "text": [
      "Number of Census Tracts with\n",
      "  5+ Deaths in Given Year\n",
      "\n",
      "   Year     # of Tracts\n",
      "0  2014               0\n",
      "1  2015               6\n",
      "2  2016              25\n",
      "3  2017              29\n",
      "4  2018              30\n",
      "5  2019              33\n",
      "6  2020              69\n",
      "7  2021              76\n",
      "8  2022              96\n"
     ]
    }
   ],
   "source": [
    "#number of census tracts with 5+ deaths in a year\n",
    "filtered_df = gdf_annual[(gdf_annual['year'] >= 2014) & (gdf_annual['year'] <= 2022)]\n",
    "\n",
    "result = filtered_df.groupby('year').apply(lambda x: (x['deaths'] >= 5).sum()).reset_index()\n",
    "\n",
    "result.columns = ['Year', '   # of Tracts']\n",
    "print(\"Number of Census Tracts with\\n  5+ Deaths in Given Year\\n\")\n",
    "print(result)\n"
   ]
  },
  {
   "cell_type": "code",
   "execution_count": null,
   "metadata": {},
   "outputs": [],
   "source": []
  }
 ],
 "metadata": {
  "kernelspec": {
   "display_name": "Python 3",
   "language": "python",
   "name": "python3"
  },
  "language_info": {
   "codemirror_mode": {
    "name": "ipython",
    "version": 3
   },
   "file_extension": ".py",
   "mimetype": "text/x-python",
   "name": "python",
   "nbconvert_exporter": "python",
   "pygments_lexer": "ipython3",
   "version": "3.9.6"
  },
  "orig_nbformat": 4
 },
 "nbformat": 4,
 "nbformat_minor": 2
}
