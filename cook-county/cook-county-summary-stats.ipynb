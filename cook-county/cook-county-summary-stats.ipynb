{
 "cells": [
  {
   "cell_type": "code",
   "execution_count": 2,
   "metadata": {},
   "outputs": [],
   "source": [
    "#import libraries\n",
    "import numpy as np\n",
    "import geopandas as gpd\n",
    "import matplotlib.pyplot as plt\n",
    "import os\n",
    "import seaborn as sns\n",
    "import pandas as pd\n",
    "import sklearn"
   ]
  },
  {
   "cell_type": "code",
   "execution_count": 3,
   "metadata": {},
   "outputs": [],
   "source": [
    "#retrieve cleaned data frames \n",
    "%store -r gdf_quarter\n",
    "%store -r gdf_semi\n",
    "%store -r gdf_annual"
   ]
  },
  {
   "cell_type": "markdown",
   "metadata": {},
   "source": [
    "### Sparsity Rate Tables"
   ]
  },
  {
   "cell_type": "code",
   "execution_count": 30,
   "metadata": {},
   "outputs": [
    {
     "name": "stdout",
     "output_type": "stream",
     "text": [
      "   year Total Deaths Sparsity Rate\n",
      "0  2014          209       86.036%\n",
      "1  2015          616       67.342%\n",
      "2  2016         1029       53.754%\n",
      "3  2017         1109       53.303%\n",
      "4  2018         1078       54.429%\n",
      "5  2019         1210       52.102%\n",
      "6  2020         1687       43.619%\n",
      "7  2021         1790       43.168%\n",
      "8  2022         1849       43.018%\n"
     ]
    }
   ],
   "source": [
    "#annual\n",
    "sparsity_df_annual = pd.DataFrame(columns=['year', 'Total Deaths', 'Sparsity Rate'])\n",
    "\n",
    "years = range(2014, 2023)\n",
    "for year in years:\n",
    "    year_df = gdf_annual[gdf_annual['year'] == year]\n",
    "    zero_deaths_count = year_df[year_df['deaths'] == 0].shape[0]\n",
    "    total_count = year_df.shape[0]\n",
    "    sparsity_rate = (zero_deaths_count / total_count) * 100\n",
    "    total_deaths = year_df['deaths'].sum()\n",
    "    sparsity_df_annual = pd.concat([sparsity_df_annual, pd.DataFrame({'year': [year], 'Total Deaths': [total_deaths], 'Sparsity Rate': [sparsity_rate]})], ignore_index=True)\n",
    "\n",
    "\n",
    "raw_sparsity = sparsity_df_annual['Sparsity Rate']\n",
    "sparsity_df_annual['Sparsity Rate'] = sparsity_df_annual['Sparsity Rate'].round(3).astype(str) + '%'\n",
    "print(sparsity_df_annual)"
   ]
  },
  {
   "cell_type": "code",
   "execution_count": 31,
   "metadata": {},
   "outputs": [
    {
     "name": "stdout",
     "output_type": "stream",
     "text": [
      "\n",
      "Year: 2014, Quarter: 1, Total Deaths: 1, Sparsity Rate: 99.925%\n",
      "Year: 2014, Quarter: 2, Total Deaths: 0, Sparsity Rate: 100.0%\n",
      "Year: 2014, Quarter: 3, Total Deaths: 70, Sparsity Rate: 94.895%\n",
      "Year: 2014, Quarter: 4, Total Deaths: 138, Sparsity Rate: 90.465%\n",
      "\n",
      "Year: 2015, Quarter: 1, Total Deaths: 131, Sparsity Rate: 90.616%\n",
      "Year: 2015, Quarter: 2, Total Deaths: 147, Sparsity Rate: 89.565%\n",
      "Year: 2015, Quarter: 3, Total Deaths: 158, Sparsity Rate: 89.489%\n",
      "Year: 2015, Quarter: 4, Total Deaths: 180, Sparsity Rate: 87.913%\n",
      "\n",
      "Year: 2016, Quarter: 1, Total Deaths: 233, Sparsity Rate: 84.685%\n",
      "Year: 2016, Quarter: 2, Total Deaths: 300, Sparsity Rate: 81.231%\n",
      "Year: 2016, Quarter: 3, Total Deaths: 218, Sparsity Rate: 86.186%\n",
      "Year: 2016, Quarter: 4, Total Deaths: 278, Sparsity Rate: 82.733%\n",
      "\n",
      "Year: 2017, Quarter: 1, Total Deaths: 289, Sparsity Rate: 82.658%\n",
      "Year: 2017, Quarter: 2, Total Deaths: 221, Sparsity Rate: 85.811%\n",
      "Year: 2017, Quarter: 3, Total Deaths: 286, Sparsity Rate: 82.583%\n",
      "Year: 2017, Quarter: 4, Total Deaths: 313, Sparsity Rate: 80.931%\n",
      "\n",
      "Year: 2018, Quarter: 1, Total Deaths: 271, Sparsity Rate: 84.009%\n",
      "Year: 2018, Quarter: 2, Total Deaths: 247, Sparsity Rate: 84.459%\n",
      "Year: 2018, Quarter: 3, Total Deaths: 271, Sparsity Rate: 82.583%\n",
      "Year: 2018, Quarter: 4, Total Deaths: 289, Sparsity Rate: 82.883%\n",
      "\n",
      "Year: 2019, Quarter: 1, Total Deaths: 254, Sparsity Rate: 84.535%\n",
      "Year: 2019, Quarter: 2, Total Deaths: 274, Sparsity Rate: 83.183%\n",
      "Year: 2019, Quarter: 3, Total Deaths: 323, Sparsity Rate: 80.931%\n",
      "Year: 2019, Quarter: 4, Total Deaths: 359, Sparsity Rate: 78.979%\n",
      "\n",
      "Year: 2020, Quarter: 1, Total Deaths: 418, Sparsity Rate: 76.652%\n",
      "Year: 2020, Quarter: 2, Total Deaths: 496, Sparsity Rate: 74.174%\n",
      "Year: 2020, Quarter: 3, Total Deaths: 400, Sparsity Rate: 75.976%\n",
      "Year: 2020, Quarter: 4, Total Deaths: 373, Sparsity Rate: 78.904%\n",
      "\n",
      "Year: 2021, Quarter: 1, Total Deaths: 372, Sparsity Rate: 78.453%\n",
      "Year: 2021, Quarter: 2, Total Deaths: 449, Sparsity Rate: 76.351%\n",
      "Year: 2021, Quarter: 3, Total Deaths: 489, Sparsity Rate: 73.649%\n",
      "Year: 2021, Quarter: 4, Total Deaths: 480, Sparsity Rate: 75.45%\n",
      "\n",
      "Year: 2022, Quarter: 1, Total Deaths: 435, Sparsity Rate: 76.351%\n",
      "Year: 2022, Quarter: 2, Total Deaths: 431, Sparsity Rate: 75.826%\n",
      "Year: 2022, Quarter: 3, Total Deaths: 465, Sparsity Rate: 75.45%\n",
      "Year: 2022, Quarter: 4, Total Deaths: 518, Sparsity Rate: 74.249%\n",
      "\n"
     ]
    }
   ],
   "source": [
    "##quarterly sparsity table\n",
    "\n",
    "quarterly_deaths = gdf_quarter.groupby(['year', 'quarter'])['deaths'].sum().reset_index()\n",
    "\n",
    "# Calculate sparsity rate\n",
    "zero_deaths_count = gdf_quarter[gdf_quarter['deaths'] == 0].groupby(['year', 'quarter']).size().reset_index(name='Zero Deaths Count')\n",
    "total_tracts_count = gdf_quarter.groupby(['year', 'quarter']).size().reset_index(name='Total Tracts Count')\n",
    "sparsity_df_quarter = pd.merge(zero_deaths_count, total_tracts_count, on=['year', 'quarter'])\n",
    "sparsity_df_quarter['Sparsity Rate'] = (sparsity_df_quarter['Zero Deaths Count'] / sparsity_df_quarter['Total Tracts Count']) * 100\n",
    "sparsity_df_quarter['Sparsity Rate'] = sparsity_df_quarter['Sparsity Rate'].round(3).astype(str) + '%'\n",
    "\n",
    "# Merge sparsity rate with quarterly_deaths table\n",
    "quarterly_deaths = pd.merge(quarterly_deaths, sparsity_df_quarter[['year', 'quarter', 'Sparsity Rate']], on=['year', 'quarter'])\n",
    "\n",
    "# Rename the 'deaths' column\n",
    "quarterly_deaths.rename(columns={'deaths': 'Total Deaths'}, inplace=True)\n",
    "\n",
    "# Exclude 2023 from the table\n",
    "quarterly_deaths = quarterly_deaths[quarterly_deaths['year'] != 2023]\n",
    "\n",
    "# Add an extra space between every year (or after every 4 quarters)\n",
    "formatted_table = ''\n",
    "current_year = None\n",
    "for _, row in quarterly_deaths.iterrows():\n",
    "    year = row['year']\n",
    "    quarter = row['quarter']\n",
    "    total_deaths = row['Total Deaths']\n",
    "    sparsity_rate = row['Sparsity Rate']\n",
    "    \n",
    "    if year != current_year:\n",
    "        formatted_table += '\\n'  # Add an extra space between years\n",
    "        current_year = year\n",
    "    \n",
    "    formatted_table += f\"Year: {year}, Quarter: {quarter}, Total Deaths: {total_deaths}, Sparsity Rate: {sparsity_rate}\\n\"\n",
    "\n",
    "# Print the resulting table\n",
    "print(formatted_table)\n"
   ]
  },
  {
   "cell_type": "code",
   "execution_count": 32,
   "metadata": {},
   "outputs": [
    {
     "name": "stdout",
     "output_type": "stream",
     "text": [
      "\n",
      "Year: 2014, Semiannual: 1, Total Deaths: 1, Sparsity Rate: 99.925%\n",
      "Year: 2014, Semiannual: 2, Total Deaths: 208, Sparsity Rate: 86.111%\n",
      "\n",
      "Year: 2015, Semiannual: 1, Total Deaths: 278, Sparsity Rate: 82.282%\n",
      "Year: 2015, Semiannual: 2, Total Deaths: 338, Sparsity Rate: 79.73%\n",
      "\n",
      "Year: 2016, Semiannual: 1, Total Deaths: 533, Sparsity Rate: 70.195%\n",
      "Year: 2016, Semiannual: 2, Total Deaths: 496, Sparsity Rate: 72.898%\n",
      "\n",
      "Year: 2017, Semiannual: 1, Total Deaths: 510, Sparsity Rate: 72.823%\n",
      "Year: 2017, Semiannual: 2, Total Deaths: 599, Sparsity Rate: 69.144%\n",
      "\n",
      "Year: 2018, Semiannual: 1, Total Deaths: 518, Sparsity Rate: 72.523%\n",
      "Year: 2018, Semiannual: 2, Total Deaths: 560, Sparsity Rate: 70.796%\n",
      "\n",
      "Year: 2019, Semiannual: 1, Total Deaths: 528, Sparsity Rate: 71.922%\n",
      "Year: 2019, Semiannual: 2, Total Deaths: 682, Sparsity Rate: 66.141%\n",
      "\n",
      "Year: 2020, Semiannual: 1, Total Deaths: 914, Sparsity Rate: 60.21%\n",
      "Year: 2020, Semiannual: 2, Total Deaths: 773, Sparsity Rate: 63.063%\n",
      "\n",
      "Year: 2021, Semiannual: 1, Total Deaths: 821, Sparsity Rate: 62.988%\n",
      "Year: 2021, Semiannual: 2, Total Deaths: 969, Sparsity Rate: 59.459%\n",
      "\n",
      "Year: 2022, Semiannual: 1, Total Deaths: 866, Sparsity Rate: 60.811%\n",
      "Year: 2022, Semiannual: 2, Total Deaths: 983, Sparsity Rate: 59.985%\n",
      "\n",
      "Year: 2023, Semiannual: 1, Total Deaths: 602, Sparsity Rate: 70.495%\n",
      "Year: 2023, Semiannual: 2, Total Deaths: 0, Sparsity Rate: 100.0%\n",
      "\n"
     ]
    }
   ],
   "source": [
    "#semi-annual\n",
    "semiannual_deaths = gdf_semi.groupby(['year', 'semiannual'])['deaths'].sum().reset_index()\n",
    "\n",
    "# Calculate sparsity rate\n",
    "zero_deaths_count = gdf_semi[gdf_semi['deaths'] == 0].groupby(['year', 'semiannual']).size().reset_index(name='Zero Deaths Count')\n",
    "total_tracts_count = gdf_semi.groupby(['year', 'semiannual']).size().reset_index(name='Total Tracts Count')\n",
    "sparsity_df_semi = pd.merge(zero_deaths_count, total_tracts_count, on=['year', 'semiannual'])\n",
    "sparsity_df_semi['Sparsity Rate'] = (sparsity_df_semi['Zero Deaths Count'] / sparsity_df_semi['Total Tracts Count']) * 100\n",
    "sparsity_df_semi['Sparsity Rate'] = sparsity_df_semi['Sparsity Rate'].round(3).astype(str) + '%'\n",
    "\n",
    "# Merge sparsity rate with semiannual_deaths table\n",
    "semiannual_deaths = pd.merge(semiannual_deaths, sparsity_df_semi[['year', 'semiannual', 'Sparsity Rate']], on=['year', 'semiannual'])\n",
    "\n",
    "semiannual_deaths.rename(columns={'deaths': 'Total Deaths'}, inplace=True)\n",
    "\n",
    "#format\n",
    "formatted_table = ''\n",
    "current_year = None\n",
    "for _, row in semiannual_deaths.iterrows():\n",
    "    year = row['year']\n",
    "    semiannual = row['semiannual']\n",
    "    total_deaths = row['Total Deaths']\n",
    "    sparsity_rate = row['Sparsity Rate']\n",
    "    \n",
    "    if year != current_year:\n",
    "        formatted_table += '\\n'  # Add an extra space between years\n",
    "        current_year = year\n",
    "    \n",
    "    formatted_table += f\"Year: {year}, Semiannual: {semiannual}, Total Deaths: {total_deaths}, Sparsity Rate: {sparsity_rate}\\n\"\n",
    "\n",
    "# Print the resulting table\n",
    "print(formatted_table)\n",
    "\n",
    "\n"
   ]
  },
  {
   "cell_type": "markdown",
   "metadata": {},
   "source": [
    "### Number Tracts with 5+ Deaths"
   ]
  },
  {
   "cell_type": "code",
   "execution_count": 33,
   "metadata": {},
   "outputs": [
    {
     "name": "stdout",
     "output_type": "stream",
     "text": [
      "Number of Census Tracts with\n",
      "  5+ Deaths in Given Year\n",
      "\n",
      "     Year     # of Tracts\n",
      "0  2014.0               0\n",
      "1  2015.0               6\n",
      "2  2016.0              25\n",
      "3  2017.0              29\n",
      "4  2018.0              30\n",
      "5  2019.0              33\n",
      "6  2020.0              69\n",
      "7  2021.0              76\n",
      "8  2022.0              96\n"
     ]
    }
   ],
   "source": [
    "#number of census tracts with 5+ deaths in a year\n",
    "filtered_df = gdf_annual[(gdf_annual['year'] >= 2014) & (gdf_annual['year'] <= 2022)]\n",
    "\n",
    "result = filtered_df.groupby('year').apply(lambda x: (x['deaths'] >= 5).sum()).reset_index()\n",
    "\n",
    "result.columns = ['Year', '   # of Tracts']\n",
    "print(\"Number of Census Tracts with\\n  5+ Deaths in Given Year\\n\")\n",
    "print(result)\n"
   ]
  },
  {
   "cell_type": "code",
   "execution_count": 4,
   "metadata": {},
   "outputs": [
    {
     "name": "stdout",
     "output_type": "stream",
     "text": [
      "Number of Census Tracts with 5+ Deaths in Given Semiannual Period\n",
      "\n",
      "    Year Semiannual Period  # of Tracts\n",
      "0   2014                 1            0\n",
      "1   2014                 2            0\n",
      "2   2015                 1            0\n",
      "3   2015                 2            0\n",
      "4   2016                 1            4\n",
      "5   2016                 2            3\n",
      "6   2017                 1            6\n",
      "7   2017                 2            7\n",
      "8   2018                 1            6\n",
      "9   2018                 2            7\n",
      "10  2019                 1            6\n",
      "11  2019                 2           10\n",
      "12  2020                 1           20\n",
      "13  2020                 2           12\n",
      "14  2021                 1           19\n",
      "15  2021                 2           28\n",
      "16  2022                 1           19\n",
      "17  2022                 2           28\n",
      "18  2023                 1            9\n",
      "19  2023                 2            0\n"
     ]
    }
   ],
   "source": [
    "result = gdf_semi.groupby(['year', 'semiannual']).apply(lambda x: (x['deaths'] >= 5).sum()).reset_index()\n",
    "result.columns = ['Year', 'Semiannual Period', '# of Tracts']\n",
    "print(\"Number of Census Tracts with 5+ Deaths in Given Semiannual Period\\n\")\n",
    "print(result)"
   ]
  },
  {
   "cell_type": "markdown",
   "metadata": {},
   "source": [
    "### Summary Stats Semi-Annual"
   ]
  },
  {
   "cell_type": "code",
   "execution_count": 19,
   "metadata": {},
   "outputs": [
    {
     "name": "stdout",
     "output_type": "stream",
     "text": [
      "0.40953453453453453\n",
      "0.0\n"
     ]
    }
   ],
   "source": [
    "#summary stats semi-annual\n",
    "#mean and median\n",
    "gdf_semi_filtered = gdf_semi[gdf_semi['year'].between(2014, 2021)]\n",
    "mean_deaths = gdf_semi_filtered['deaths'].mean()\n",
    "median_deaths = gdf_semi_filtered['deaths'].median()\n",
    "\n",
    "print(mean_deaths)\n",
    "print(median_deaths)"
   ]
  },
  {
   "cell_type": "code",
   "execution_count": 20,
   "metadata": {},
   "outputs": [
    {
     "name": "stdout",
     "output_type": "stream",
     "text": [
      "25th Percentile: 0.0\n",
      "75th Percentile: 1.0\n"
     ]
    }
   ],
   "source": [
    "# percentiles semiannual\n",
    "percentile_25 = np.percentile(gdf_semi_filtered['deaths'], 25)\n",
    "percentile_75 = np.percentile(gdf_semi_filtered['deaths'], 75)\n",
    "\n",
    "print(\"25th Percentile:\", percentile_25)\n",
    "print(\"75th Percentile:\", percentile_75)"
   ]
  },
  {
   "cell_type": "code",
   "execution_count": 21,
   "metadata": {},
   "outputs": [
    {
     "name": "stdout",
     "output_type": "stream",
     "text": [
      "Maximum Number of Deaths: 17\n",
      "Minimum Number of Deaths: 0\n"
     ]
    }
   ],
   "source": [
    "#maximum and min semi-annual\n",
    "max_deaths = gdf_semi_filtered['deaths'].max()\n",
    "min_deaths = gdf_semi_filtered['deaths'].min()\n",
    "\n",
    "print(\"Maximum Number of Deaths:\", max_deaths)\n",
    "print(\"Minimum Number of Deaths:\", min_deaths)"
   ]
  },
  {
   "cell_type": "markdown",
   "metadata": {},
   "source": [
    "### Annual Summary Statistics"
   ]
  },
  {
   "cell_type": "code",
   "execution_count": 22,
   "metadata": {},
   "outputs": [
    {
     "name": "stdout",
     "output_type": "stream",
     "text": [
      "0.8190690690690691\n",
      "0.0\n"
     ]
    }
   ],
   "source": [
    "#calculate mean from 2014-2021?\n",
    "#annual\n",
    "\n",
    "filtered_df = gdf_annual[(gdf_annual['year'] >= 2014) & (gdf_annual['year'] <= 2021)]\n",
    "mean_deaths = filtered_df['deaths'].mean()\n",
    "median_deaths = filtered_df['deaths'].median()\n",
    "\n",
    "print(mean_deaths)\n",
    "print(median_deaths)\n"
   ]
  },
  {
   "cell_type": "code",
   "execution_count": 23,
   "metadata": {},
   "outputs": [
    {
     "name": "stdout",
     "output_type": "stream",
     "text": [
      "25th Percentile: 0.0\n",
      "75th Percentile: 1.0\n"
     ]
    }
   ],
   "source": [
    "# percentiles ANNUAL\n",
    "percentile_25 = np.percentile(filtered_df['deaths'], 25)\n",
    "percentile_75 = np.percentile(filtered_df['deaths'], 75)\n",
    "\n",
    "print(\"25th Percentile:\", percentile_25)\n",
    "print(\"75th Percentile:\", percentile_75)"
   ]
  },
  {
   "cell_type": "code",
   "execution_count": 36,
   "metadata": {},
   "outputs": [
    {
     "name": "stdout",
     "output_type": "stream",
     "text": [
      "Maximum Number of Deaths: 24\n",
      "Minimum Number of Deaths: 0\n"
     ]
    }
   ],
   "source": [
    "#min and max ANNUAL\n",
    "max_deaths = filtered_df['deaths'].max()\n",
    "min_deaths = filtered_df['deaths'].min()\n",
    "\n",
    "print(\"Maximum Number of Deaths:\", max_deaths)\n",
    "print(\"Minimum Number of Deaths:\", min_deaths)"
   ]
  },
  {
   "cell_type": "markdown",
   "metadata": {},
   "source": [
    "### Summary Stats Quarterly"
   ]
  },
  {
   "cell_type": "code",
   "execution_count": 24,
   "metadata": {},
   "outputs": [
    {
     "name": "stdout",
     "output_type": "stream",
     "text": [
      "0.20476726726726727\n",
      "0.0\n"
     ]
    }
   ],
   "source": [
    "#summary stats QUARTERLY\n",
    "#mean and median\n",
    "gdf_quarter_filtered = gdf_quarter[gdf_quarter['year'].between(2014, 2021)]\n",
    "mean_deaths = gdf_quarter_filtered['deaths'].mean()\n",
    "median_deaths = gdf_quarter_filtered['deaths'].median()\n",
    "\n",
    "print(mean_deaths)\n",
    "print(median_deaths)"
   ]
  },
  {
   "cell_type": "code",
   "execution_count": 25,
   "metadata": {},
   "outputs": [
    {
     "name": "stdout",
     "output_type": "stream",
     "text": [
      "25th Percentile: 0.0\n",
      "75th Percentile: 0.0\n"
     ]
    }
   ],
   "source": [
    "# percentiles quarterly\n",
    "percentile_25 = np.percentile(gdf_quarter_filtered['deaths'], 25)\n",
    "percentile_75 = np.percentile(gdf_quarter_filtered['deaths'], 75)\n",
    "\n",
    "print(\"25th Percentile:\", percentile_25)\n",
    "print(\"75th Percentile:\", percentile_75)"
   ]
  },
  {
   "cell_type": "code",
   "execution_count": 26,
   "metadata": {},
   "outputs": [
    {
     "name": "stdout",
     "output_type": "stream",
     "text": [
      "Maximum Number of Deaths: 11\n",
      "Minimum Number of Deaths: 0\n"
     ]
    }
   ],
   "source": [
    "#maximum and min quarterly\n",
    "max_deaths = gdf_quarter_filtered['deaths'].max()\n",
    "min_deaths = gdf_quarter_filtered['deaths'].min()\n",
    "\n",
    "print(\"Maximum Number of Deaths:\", max_deaths)\n",
    "print(\"Minimum Number of Deaths:\", min_deaths)"
   ]
  },
  {
   "cell_type": "code",
   "execution_count": 42,
   "metadata": {},
   "outputs": [
    {
     "data": {
      "text/plain": [
       "<Axes: >"
      ]
     },
     "execution_count": 42,
     "metadata": {},
     "output_type": "execute_result"
    },
    {
     "data": {
      "image/png": "[encoded data removed]",
      "text/plain": [
       "<Figure size 640x480 with 1 Axes>"
      ]
     },
     "metadata": {},
     "output_type": "display_data"
    }
   ],
   "source": [
    "##why does my plot look bad\n",
    "\n",
    "filtered_df.plot('deaths', vmax=5)"
   ]
  },
  {
   "cell_type": "code",
   "execution_count": null,
   "metadata": {},
   "outputs": [],
   "source": []
  },
  {
   "cell_type": "code",
   "execution_count": null,
   "metadata": {},
   "outputs": [],
   "source": []
  }
 ],
 "metadata": {
  "kernelspec": {
   "display_name": "Python 3",
   "language": "python",
   "name": "python3"
  },
  "language_info": {
   "codemirror_mode": {
    "name": "ipython",
    "version": 3
   },
   "file_extension": ".py",
   "mimetype": "text/x-python",
   "name": "python",
   "nbconvert_exporter": "python",
   "pygments_lexer": "ipython3",
   "version": "3.9.6"
  },
  "orig_nbformat": 4
 },
 "nbformat": 4,
 "nbformat_minor": 2
}
