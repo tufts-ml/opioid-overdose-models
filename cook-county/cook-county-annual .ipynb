{
 "cells": [
  {
   "cell_type": "code",
   "execution_count": 1,
   "id": "793194eb",
   "metadata": {},
   "outputs": [],
   "source": [
    "#import libraries\n",
    "import numpy as np\n",
    "import matplotlib.pyplot as plt\n",
    "import os\n",
    "import seaborn as sns\n",
    "import pandas as pd\n",
    "import sklearn"
   ]
  },
  {
   "cell_type": "code",
   "execution_count": 2,
   "id": "7f50b084",
   "metadata": {},
   "outputs": [],
   "source": [
    "%store -r cook_county_gdf\n",
    "%store -r CC_nodeaths"
   ]
  },
  {
   "cell_type": "code",
   "execution_count": 5,
   "id": "f1b1f263",
   "metadata": {},
   "outputs": [],
   "source": [
    "columns_to_keep = ['STATEFP', 'COUNTYFP', 'TRACTCE','NAME', 'NAMELSAD', 'MTFCC', 'FUNCSTAT', 'ALAND', 'AWATER',\n",
    "       'INTPTLAT', 'INTPTLON', 'geometry']\n",
    "\n",
    "gdf_annual = cook_county_gdf.groupby(['GEOID', 'year']).size().reset_index(name='deaths')"
   ]
  },
  {
   "cell_type": "code",
   "execution_count": 8,
   "id": "4b735b4c",
   "metadata": {},
   "outputs": [
    {
     "data": {
      "text/html": [
       "<div>\n",
       "<style scoped>\n",
       "    .dataframe tbody tr th:only-of-type {\n",
       "        vertical-align: middle;\n",
       "    }\n",
       "\n",
       "    .dataframe tbody tr th {\n",
       "        vertical-align: top;\n",
       "    }\n",
       "\n",
       "    .dataframe thead th {\n",
       "        text-align: right;\n",
       "    }\n",
       "</style>\n",
       "<table border=\"1\" class=\"dataframe\">\n",
       "  <thead>\n",
       "    <tr style=\"text-align: right;\">\n",
       "      <th></th>\n",
       "      <th>GEOID</th>\n",
       "      <th>year</th>\n",
       "      <th>deaths</th>\n",
       "    </tr>\n",
       "  </thead>\n",
       "  <tbody>\n",
       "    <tr>\n",
       "      <th>0</th>\n",
       "      <td>17031010100</td>\n",
       "      <td>2014</td>\n",
       "      <td>1</td>\n",
       "    </tr>\n",
       "    <tr>\n",
       "      <th>1</th>\n",
       "      <td>17031010100</td>\n",
       "      <td>2015</td>\n",
       "      <td>1</td>\n",
       "    </tr>\n",
       "    <tr>\n",
       "      <th>2</th>\n",
       "      <td>17031010100</td>\n",
       "      <td>2016</td>\n",
       "      <td>3</td>\n",
       "    </tr>\n",
       "    <tr>\n",
       "      <th>3</th>\n",
       "      <td>17031010100</td>\n",
       "      <td>2017</td>\n",
       "      <td>2</td>\n",
       "    </tr>\n",
       "    <tr>\n",
       "      <th>4</th>\n",
       "      <td>17031010100</td>\n",
       "      <td>2019</td>\n",
       "      <td>2</td>\n",
       "    </tr>\n",
       "    <tr>\n",
       "      <th>...</th>\n",
       "      <td>...</td>\n",
       "      <td>...</td>\n",
       "      <td>...</td>\n",
       "    </tr>\n",
       "    <tr>\n",
       "      <th>5759</th>\n",
       "      <td>17031980000</td>\n",
       "      <td>2021</td>\n",
       "      <td>1</td>\n",
       "    </tr>\n",
       "    <tr>\n",
       "      <th>5760</th>\n",
       "      <td>17031980000</td>\n",
       "      <td>2022</td>\n",
       "      <td>3</td>\n",
       "    </tr>\n",
       "    <tr>\n",
       "      <th>5761</th>\n",
       "      <td>17031980000</td>\n",
       "      <td>2023</td>\n",
       "      <td>4</td>\n",
       "    </tr>\n",
       "    <tr>\n",
       "      <th>5762</th>\n",
       "      <td>17031980100</td>\n",
       "      <td>2018</td>\n",
       "      <td>1</td>\n",
       "    </tr>\n",
       "    <tr>\n",
       "      <th>5763</th>\n",
       "      <td>17031980100</td>\n",
       "      <td>2022</td>\n",
       "      <td>1</td>\n",
       "    </tr>\n",
       "  </tbody>\n",
       "</table>\n",
       "<p>5764 rows × 3 columns</p>\n",
       "</div>"
      ],
      "text/plain": [
       "            GEOID  year  deaths\n",
       "0     17031010100  2014       1\n",
       "1     17031010100  2015       1\n",
       "2     17031010100  2016       3\n",
       "3     17031010100  2017       2\n",
       "4     17031010100  2019       2\n",
       "...           ...   ...     ...\n",
       "5759  17031980000  2021       1\n",
       "5760  17031980000  2022       3\n",
       "5761  17031980000  2023       4\n",
       "5762  17031980100  2018       1\n",
       "5763  17031980100  2022       1\n",
       "\n",
       "[5764 rows x 3 columns]"
      ]
     },
     "execution_count": 8,
     "metadata": {},
     "output_type": "execute_result"
    }
   ],
   "source": [
    "gdf_annual"
   ]
  },
  {
   "cell_type": "code",
   "execution_count": 7,
   "id": "18adc2fc",
   "metadata": {},
   "outputs": [
    {
     "data": {
      "text/plain": [
       "1274"
      ]
     },
     "execution_count": 7,
     "metadata": {},
     "output_type": "execute_result"
    }
   ],
   "source": [
    "gdf_annual['GEOID'].nunique() #missing 58 tracts"
   ]
  },
  {
   "cell_type": "markdown",
   "id": "1c99ae38",
   "metadata": {},
   "source": [
    "### Adding rows for zero-death tracts & years\n",
    "\n",
    "df_annnual does not include rows for census tracts or years that have zero deaths. the below code finds the missing census tracts and years and creates a row for it in the dataframe. "
   ]
  },
  {
   "cell_type": "code",
   "execution_count": 12,
   "id": "ae3f6d5e",
   "metadata": {},
   "outputs": [],
   "source": [
    "##below chunk of code adds in any tracts that had 0 deaths over the course of 2014-2023, and adds the tract into df\n",
    "\n",
    "for index, row in CC_nodeaths.iterrows():\n",
    "    tract_geoID = row['GEOID']\n",
    "\n",
    "    for year in range(2014, 2024):\n",
    "        # Check if the row already exists \n",
    "        existing_row = df_annual[(df_annual['tract_geoID'] == tract_geoID) & (df_annual['year'] == year)]\n",
    "\n",
    "    if existing_row.empty:\n",
    "            new_row = pd.DataFrame([[tract_geoID, year, 0]], columns=df_annual.columns)\n",
    "            df_annual = pd.concat([df_annual, new_row], ignore_index=True)\n"
   ]
  },
  {
   "cell_type": "code",
   "execution_count": 13,
   "id": "99a6ce35",
   "metadata": {},
   "outputs": [
    {
     "data": {
      "text/plain": [
       "1332"
      ]
     },
     "execution_count": 13,
     "metadata": {},
     "output_type": "execute_result"
    }
   ],
   "source": [
    "df_annual['tract_geoID'].nunique() #yay - this matches the # of tracts in the shapefile from census. "
   ]
  },
  {
   "cell_type": "code",
   "execution_count": 15,
   "id": "936b2393",
   "metadata": {},
   "outputs": [],
   "source": [
    "##below chunk of code goes through all tracts and ensures it has a row for each year b/t 2014-2023, if not,\n",
    "## we add the year and set the number of deaths equal to 0\n",
    "\n",
    "years = range(2014, 2024)\n",
    "updated_rows = []\n",
    "\n",
    "for tract_geoID in df_annual['tract_geoID'].unique():\n",
    "    existing_years = set(df_annual[df_annual['tract_geoID'] == tract_geoID]['year'])\n",
    "    missing_years = set(years) - existing_years\n",
    "    \n",
    "    for year in missing_years:\n",
    "        updated_rows.append({'tract_geoID': tract_geoID, 'year': year, 'deaths_sum': 0})\n",
    "\n",
    "df_annual = pd.concat([df_annual, pd.DataFrame(updated_rows)], ignore_index=True)\n"
   ]
  },
  {
   "cell_type": "markdown",
   "id": "268ea78a",
   "metadata": {},
   "source": [
    "## Tables & Graphs"
   ]
  },
  {
   "cell_type": "code",
   "execution_count": 16,
   "id": "17f2f277",
   "metadata": {},
   "outputs": [
    {
     "name": "stdout",
     "output_type": "stream",
     "text": [
      "   year Total Deaths Sparsity Rate\n",
      "0  2014          209       86.036%\n",
      "1  2015          616       67.342%\n",
      "2  2016         1029       53.754%\n",
      "3  2017         1109       53.303%\n",
      "4  2018         1078       54.429%\n",
      "5  2019         1210       52.102%\n",
      "6  2020         1687       43.619%\n",
      "7  2021         1790       43.168%\n",
      "8  2022         1848       43.018%\n"
     ]
    }
   ],
   "source": [
    "sparsity_df = pd.DataFrame(columns=['year', 'Total Deaths', 'Sparsity Rate'])\n",
    "\n",
    "years = range(2014, 2023)\n",
    "for year in years:\n",
    "    year_df = df_annual[df_annual['year'] == year]\n",
    "    zero_deaths_count = year_df[year_df['deaths_sum'] == 0].shape[0]\n",
    "    total_count = year_df.shape[0]\n",
    "    sparsity_rate = (zero_deaths_count / total_count) * 100\n",
    "    total_deaths = year_df['deaths_sum'].sum()\n",
    "    sparsity_df = pd.concat([sparsity_df, pd.DataFrame({'year': [year], 'Total Deaths': [total_deaths], 'Sparsity Rate': [sparsity_rate]})], ignore_index=True)\n",
    "\n",
    "\n",
    "raw_sparsity = sparsity_df['Sparsity Rate']\n",
    "sparsity_df['Sparsity Rate'] = sparsity_df['Sparsity Rate'].round(3).astype(str) + '%'\n",
    "print(sparsity_df)"
   ]
  },
  {
   "cell_type": "code",
   "execution_count": 28,
   "id": "322a49b6",
   "metadata": {},
   "outputs": [
    {
     "data": {
      "image/png": "[encoded data removed]",
      "text/plain": [
       "<Figure size 900x600 with 1 Axes>"
      ]
     },
     "metadata": {},
     "output_type": "display_data"
    }
   ],
   "source": [
    "plt.figure(figsize=(9, 6))\n",
    "df_no23 = df_annual[df_annual['year'] != 2023]\n",
    "sns.boxplot(x='year', y='deaths_sum', data=df_no23, color='lightblue')\n",
    "\n",
    "plt.xlabel('Year')\n",
    "plt.ylabel('Number of Deaths')\n",
    "plt.title('Distribution of Deaths Across Years')\n",
    "\n",
    "ax.set_xticklabels([year for year in df_annual['year'].unique() if year != 2023])\n",
    "\n",
    "ax.set_xlabel('Year')\n",
    "plt.show()\n"
   ]
  },
  {
   "cell_type": "code",
   "execution_count": 18,
   "id": "51a6af25",
   "metadata": {},
   "outputs": [
    {
     "data": {
      "image/png": "[encoded data removed]",
      "text/plain": [
       "<Figure size 640x480 with 1 Axes>"
      ]
     },
     "metadata": {},
     "output_type": "display_data"
    }
   ],
   "source": [
    "plt.plot(range(2014, 2023), raw_sparsity, color='mediumslateblue')\n",
    "\n",
    "font = {'family': 'Times New Roman',\n",
    "        'weight': 'normal',\n",
    "        'size': 12}\n",
    "plt.rc('font', **font)\n",
    "\n",
    "\n",
    "plt.xlabel('Year')\n",
    "plt.ylabel('Sparsity Rate')\n",
    "plt.title('Sparsity Rates Over the Years')\n",
    "plt.grid(False)\n",
    "\n",
    "plt.show()"
   ]
  },
  {
   "cell_type": "code",
   "execution_count": null,
   "id": "f196baf7",
   "metadata": {},
   "outputs": [],
   "source": []
  }
 ],
 "metadata": {
  "kernelspec": {
   "display_name": "Python 3 (ipykernel)",
   "language": "python",
   "name": "python3"
  },
  "language_info": {
   "codemirror_mode": {
    "name": "ipython",
    "version": 3
   },
   "file_extension": ".py",
   "mimetype": "text/x-python",
   "name": "python",
   "nbconvert_exporter": "python",
   "pygments_lexer": "ipython3",
   "version": "3.10.9"
  }
 },
 "nbformat": 4,
 "nbformat_minor": 5
}
