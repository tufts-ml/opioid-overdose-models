{
 "cells": [
  {
   "cell_type": "code",
   "execution_count": 24,
   "id": "7b6e285c",
   "metadata": {},
   "outputs": [],
   "source": [
    "import numpy as np\n",
    "import matplotlib.pyplot as plt\n",
    "import os\n",
    "import seaborn as sns\n",
    "import pandas as pd\n",
    "import sklearn"
   ]
  },
  {
   "cell_type": "code",
   "execution_count": 50,
   "id": "508f22aa",
   "metadata": {},
   "outputs": [],
   "source": [
    "%store -r cook_county_gdf_quarterly\n",
    "%store -r CC_nodeaths\n",
    "cook_county_gdf = cook_county_gdf_quarterly"
   ]
  },
  {
   "cell_type": "code",
   "execution_count": 51,
   "id": "f7754947",
   "metadata": {},
   "outputs": [],
   "source": [
    "#add in missing 58 tracts\n",
    "cook_county_gdf['deaths'] = 1\n",
    "cook_county_gdf = pd.concat([cook_county_gdf, CC_nodeaths], ignore_index=True)\n",
    "cook_county_gdf['quarter'].fillna(9999, inplace=True)\n",
    "cook_county_gdf['year'].fillna(9999, inplace=True)"
   ]
  },
  {
   "cell_type": "code",
   "execution_count": 52,
   "id": "e6558f1d",
   "metadata": {},
   "outputs": [
    {
     "data": {
      "text/plain": [
       "58"
      ]
     },
     "execution_count": 52,
     "metadata": {},
     "output_type": "execute_result"
    }
   ],
   "source": [
    "cook_county_gdf.loc[cook_county_gdf['year'] == 9999, 'GEOID'].nunique()"
   ]
  },
  {
   "cell_type": "code",
   "execution_count": 53,
   "id": "9a174161",
   "metadata": {},
   "outputs": [],
   "source": [
    "columns_to_keep = ['STATEFP', 'COUNTYFP', 'TRACTCE','NAME', 'NAMELSAD', 'MTFCC', 'FUNCSTAT', 'ALAND', 'AWATER',\n",
    "       'INTPTLAT', 'INTPTLON', 'geometry']\n",
    "\n",
    "gdf_quarter = cook_county_gdf.groupby(['GEOID', 'quarter', 'year']).agg({'deaths': 'sum', **{col: 'first' for col in columns_to_keep}}).reset_index()"
   ]
  },
  {
   "cell_type": "code",
   "execution_count": 54,
   "id": "76d99071",
   "metadata": {},
   "outputs": [
    {
     "data": {
      "text/html": [
       "<div>\n",
       "<style scoped>\n",
       "    .dataframe tbody tr th:only-of-type {\n",
       "        vertical-align: middle;\n",
       "    }\n",
       "\n",
       "    .dataframe tbody tr th {\n",
       "        vertical-align: top;\n",
       "    }\n",
       "\n",
       "    .dataframe thead th {\n",
       "        text-align: right;\n",
       "    }\n",
       "</style>\n",
       "<table border=\"1\" class=\"dataframe\">\n",
       "  <thead>\n",
       "    <tr style=\"text-align: right;\">\n",
       "      <th></th>\n",
       "      <th>GEOID</th>\n",
       "      <th>quarter</th>\n",
       "      <th>year</th>\n",
       "      <th>deaths</th>\n",
       "      <th>STATEFP</th>\n",
       "      <th>COUNTYFP</th>\n",
       "      <th>TRACTCE</th>\n",
       "      <th>NAME</th>\n",
       "      <th>NAMELSAD</th>\n",
       "      <th>MTFCC</th>\n",
       "      <th>FUNCSTAT</th>\n",
       "      <th>ALAND</th>\n",
       "      <th>AWATER</th>\n",
       "      <th>INTPTLAT</th>\n",
       "      <th>INTPTLON</th>\n",
       "      <th>geometry</th>\n",
       "    </tr>\n",
       "  </thead>\n",
       "  <tbody>\n",
       "    <tr>\n",
       "      <th>0</th>\n",
       "      <td>17031010100</td>\n",
       "      <td>1.0</td>\n",
       "      <td>2017.0</td>\n",
       "      <td>1</td>\n",
       "      <td>17</td>\n",
       "      <td>031</td>\n",
       "      <td>010100</td>\n",
       "      <td>101</td>\n",
       "      <td>Census Tract 101</td>\n",
       "      <td>G5020</td>\n",
       "      <td>S</td>\n",
       "      <td>379511</td>\n",
       "      <td>0</td>\n",
       "      <td>+42.0212553</td>\n",
       "      <td>-087.6698301</td>\n",
       "      <td>POINT (-87.66805 42.02216)</td>\n",
       "    </tr>\n",
       "    <tr>\n",
       "      <th>1</th>\n",
       "      <td>17031010100</td>\n",
       "      <td>1.0</td>\n",
       "      <td>2020.0</td>\n",
       "      <td>1</td>\n",
       "      <td>17</td>\n",
       "      <td>031</td>\n",
       "      <td>010100</td>\n",
       "      <td>101</td>\n",
       "      <td>Census Tract 101</td>\n",
       "      <td>G5020</td>\n",
       "      <td>S</td>\n",
       "      <td>379511</td>\n",
       "      <td>0</td>\n",
       "      <td>+42.0212553</td>\n",
       "      <td>-087.6698301</td>\n",
       "      <td>POINT (-87.66639 42.02231)</td>\n",
       "    </tr>\n",
       "    <tr>\n",
       "      <th>2</th>\n",
       "      <td>17031010100</td>\n",
       "      <td>1.0</td>\n",
       "      <td>2023.0</td>\n",
       "      <td>3</td>\n",
       "      <td>17</td>\n",
       "      <td>031</td>\n",
       "      <td>010100</td>\n",
       "      <td>101</td>\n",
       "      <td>Census Tract 101</td>\n",
       "      <td>G5020</td>\n",
       "      <td>S</td>\n",
       "      <td>379511</td>\n",
       "      <td>0</td>\n",
       "      <td>+42.0212553</td>\n",
       "      <td>-087.6698301</td>\n",
       "      <td>POINT (-87.67019 42.02070)</td>\n",
       "    </tr>\n",
       "    <tr>\n",
       "      <th>3</th>\n",
       "      <td>17031010100</td>\n",
       "      <td>2.0</td>\n",
       "      <td>2016.0</td>\n",
       "      <td>2</td>\n",
       "      <td>17</td>\n",
       "      <td>031</td>\n",
       "      <td>010100</td>\n",
       "      <td>101</td>\n",
       "      <td>Census Tract 101</td>\n",
       "      <td>G5020</td>\n",
       "      <td>S</td>\n",
       "      <td>379511</td>\n",
       "      <td>0</td>\n",
       "      <td>+42.0212553</td>\n",
       "      <td>-087.6698301</td>\n",
       "      <td>POINT (-87.67142 42.02143)</td>\n",
       "    </tr>\n",
       "    <tr>\n",
       "      <th>4</th>\n",
       "      <td>17031010100</td>\n",
       "      <td>2.0</td>\n",
       "      <td>2019.0</td>\n",
       "      <td>1</td>\n",
       "      <td>17</td>\n",
       "      <td>031</td>\n",
       "      <td>010100</td>\n",
       "      <td>101</td>\n",
       "      <td>Census Tract 101</td>\n",
       "      <td>G5020</td>\n",
       "      <td>S</td>\n",
       "      <td>379511</td>\n",
       "      <td>0</td>\n",
       "      <td>+42.0212553</td>\n",
       "      <td>-087.6698301</td>\n",
       "      <td>POINT (-87.66739 42.02232)</td>\n",
       "    </tr>\n",
       "  </tbody>\n",
       "</table>\n",
       "</div>"
      ],
      "text/plain": [
       "         GEOID  quarter    year  deaths STATEFP COUNTYFP TRACTCE NAME  \\\n",
       "0  17031010100      1.0  2017.0       1      17      031  010100  101   \n",
       "1  17031010100      1.0  2020.0       1      17      031  010100  101   \n",
       "2  17031010100      1.0  2023.0       3      17      031  010100  101   \n",
       "3  17031010100      2.0  2016.0       2      17      031  010100  101   \n",
       "4  17031010100      2.0  2019.0       1      17      031  010100  101   \n",
       "\n",
       "           NAMELSAD  MTFCC FUNCSTAT   ALAND  AWATER     INTPTLAT  \\\n",
       "0  Census Tract 101  G5020        S  379511       0  +42.0212553   \n",
       "1  Census Tract 101  G5020        S  379511       0  +42.0212553   \n",
       "2  Census Tract 101  G5020        S  379511       0  +42.0212553   \n",
       "3  Census Tract 101  G5020        S  379511       0  +42.0212553   \n",
       "4  Census Tract 101  G5020        S  379511       0  +42.0212553   \n",
       "\n",
       "       INTPTLON                    geometry  \n",
       "0  -087.6698301  POINT (-87.66805 42.02216)  \n",
       "1  -087.6698301  POINT (-87.66639 42.02231)  \n",
       "2  -087.6698301  POINT (-87.67019 42.02070)  \n",
       "3  -087.6698301  POINT (-87.67142 42.02143)  \n",
       "4  -087.6698301  POINT (-87.66739 42.02232)  "
      ]
     },
     "execution_count": 54,
     "metadata": {},
     "output_type": "execute_result"
    }
   ],
   "source": [
    "gdf_quarter.head()"
   ]
  },
  {
   "cell_type": "markdown",
   "id": "0d446184",
   "metadata": {},
   "source": [
    "### Making DF square - one quarter for each tract\n"
   ]
  },
  {
   "cell_type": "code",
   "execution_count": 55,
   "id": "cbf5d55e",
   "metadata": {},
   "outputs": [],
   "source": [
    "gdf_quarter.loc[gdf_quarter['year'] == 9999, 'deaths'] = 0\n",
    "gdf_quarter.loc[gdf_quarter['quarter'] == 9999, 'deaths'] = 0\n",
    "\n",
    "# Replace 9999 with 2014 in the 'year' column\n",
    "gdf_quarter['year'].replace(9999, 2014, inplace=True)\n",
    "gdf_quarter['quarter'].replace(9999, 1, inplace=True)"
   ]
  },
  {
   "cell_type": "code",
   "execution_count": 56,
   "id": "b5d002cb",
   "metadata": {},
   "outputs": [
    {
     "data": {
      "text/plain": [
       "1332"
      ]
     },
     "execution_count": 56,
     "metadata": {},
     "output_type": "execute_result"
    }
   ],
   "source": [
    "gdf_quarter['GEOID'].nunique() "
   ]
  },
  {
   "cell_type": "code",
   "execution_count": 57,
   "id": "8b0d52fc",
   "metadata": {},
   "outputs": [],
   "source": [
    "##uses nested for loops - not exactly the most efficient \n",
    "years = range(2014, 2024)\n",
    "quarters = range(1, 5)\n",
    "\n",
    "existing_combinations = set(zip(gdf_quarter['GEOID'], gdf_quarter['year'], gdf_quarter['quarter']))\n",
    "updated_rows = []\n",
    "\n",
    "for tract in gdf_quarter['GEOID'].unique():\n",
    "    for year in years:\n",
    "        for quarter in quarters:\n",
    "            combination = (tract, year, quarter)\n",
    "            if combination not in existing_combinations:\n",
    "                new_row = {'GEOID': tract, 'year': year, 'quarter': quarter, 'deaths': 0}\n",
    "                updated_rows.append(new_row)\n",
    "\n",
    "gdf_quarter = pd.concat([gdf_quarter, pd.DataFrame(updated_rows)], ignore_index=True)\n"
   ]
  },
  {
   "cell_type": "code",
   "execution_count": 59,
   "id": "db29761f",
   "metadata": {},
   "outputs": [],
   "source": [
    "#fills in NAs produced from above\n",
    "unique_tracts = gdf_quarter['GEOID'].unique()\n",
    "\n",
    "for tract in unique_tracts:\n",
    "    tract_rows = gdf_quarter[gdf_quarter['GEOID'] == tract]\n",
    "    non_na_row = tract_rows.dropna().iloc[0]  # Get the first row without any NAs\n",
    "    \n",
    "    for column in columns_to_keep:\n",
    "        gdf_quarter.loc[(gdf_quarter['GEOID'] == tract) & gdf_quarter[column].isna(), column] = non_na_row[column]"
   ]
  },
  {
   "cell_type": "code",
   "execution_count": 60,
   "id": "b6404a8e",
   "metadata": {},
   "outputs": [
    {
     "data": {
      "text/plain": [
       "(53280, 16)"
      ]
     },
     "execution_count": 60,
     "metadata": {},
     "output_type": "execute_result"
    }
   ],
   "source": [
    "gdf_quarter.shape #should be (53280, 15)\n"
   ]
  },
  {
   "cell_type": "code",
   "execution_count": 62,
   "id": "4838a997",
   "metadata": {},
   "outputs": [
    {
     "data": {
      "text/plain": [
       "1332"
      ]
     },
     "execution_count": 62,
     "metadata": {},
     "output_type": "execute_result"
    }
   ],
   "source": [
    "gdf_quarter['GEOID'].nunique()  #should be 1332"
   ]
  },
  {
   "cell_type": "code",
   "execution_count": 63,
   "id": "1c642c53",
   "metadata": {},
   "outputs": [],
   "source": [
    "#confirms all years and quarters present\n",
    "years = range(2014, 2024) \n",
    "quarters = range(1, 5)  \n",
    "\n",
    "for geoid in gdf_quarter['GEOID'].unique():\n",
    "    for year in years:\n",
    "        for quarter in quarters:\n",
    "            if not ((gdf_quarter['GEOID'] == geoid) & (gdf_quarter['year'] == year) & (gdf_quarter['quarter'] == quarter)).any():\n",
    "                print(\"Missing row for GEOID {} in year {} quarter {}\".format(geoid, year, quarter))\n",
    "\n"
   ]
  },
  {
   "cell_type": "code",
   "execution_count": 64,
   "id": "d1d578fc",
   "metadata": {},
   "outputs": [
    {
     "name": "stdout",
     "output_type": "stream",
     "text": [
      "There are no missing values in the dataframe.\n"
     ]
    }
   ],
   "source": [
    "#Any NAs in data frame?\n",
    "\n",
    "has_na = gdf_quarter.isna().any().any()\n",
    "\n",
    "if has_na:\n",
    "    print(\"There are missing values in the dataframe.\")\n",
    "else:\n",
    "    print(\"There are no missing values in the dataframe.\")\n"
   ]
  },
  {
   "cell_type": "code",
   "execution_count": 65,
   "id": "11a681f9",
   "metadata": {},
   "outputs": [
    {
     "name": "stdout",
     "output_type": "stream",
     "text": [
      "There are no duplicate rows in the dataframe.\n"
     ]
    }
   ],
   "source": [
    "#Any Duplicates?\n",
    "has_duplicates = gdf_quarter.duplicated().any()\n",
    "\n",
    "if has_duplicates:\n",
    "    print(\"There are duplicate rows in the dataframe.\")\n",
    "else:\n",
    "    print(\"There are no duplicate rows in the dataframe.\")\n"
   ]
  },
  {
   "cell_type": "code",
   "execution_count": 66,
   "id": "7d9e2751",
   "metadata": {},
   "outputs": [],
   "source": [
    "#change format of year and quarters\n",
    "\n",
    "gdf_quarter['year'] = pd.to_datetime(gdf_quarter['year'].astype(int).astype(str), format='%Y').dt.year\n",
    "gdf_quarter['quarter'] = gdf_quarter['quarter'].astype(str).replace('1.0', '1').replace('2.0', '2').replace('3.0', '3').replace('4.0', '4')\n"
   ]
  },
  {
   "cell_type": "markdown",
   "id": "1e29f0c3",
   "metadata": {},
   "source": [
    "### store gdf"
   ]
  },
  {
   "cell_type": "code",
   "execution_count": 68,
   "id": "2c7f780d",
   "metadata": {},
   "outputs": [
    {
     "name": "stdout",
     "output_type": "stream",
     "text": [
      "Stored 'gdf_quarter' (DataFrame)\n"
     ]
    }
   ],
   "source": [
    "%store gdf_quarter"
   ]
  },
  {
   "cell_type": "code",
   "execution_count": null,
   "id": "c4ab1141",
   "metadata": {},
   "outputs": [],
   "source": []
  }
 ],
 "metadata": {
  "kernelspec": {
   "display_name": "Python 3 (ipykernel)",
   "language": "python",
   "name": "python3"
  },
  "language_info": {
   "codemirror_mode": {
    "name": "ipython",
    "version": 3
   },
   "file_extension": ".py",
   "mimetype": "text/x-python",
   "name": "python",
   "nbconvert_exporter": "python",
   "pygments_lexer": "ipython3",
   "version": "3.9.6"
  }
 },
 "nbformat": 4,
 "nbformat_minor": 5
}
