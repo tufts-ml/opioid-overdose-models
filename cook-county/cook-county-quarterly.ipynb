{
 "cells": [
  {
   "cell_type": "code",
   "execution_count": 1,
   "id": "7b6e285c",
   "metadata": {},
   "outputs": [],
   "source": [
    "import numpy as np\n",
    "import matplotlib.pyplot as plt\n",
    "import os\n",
    "import seaborn as sns\n",
    "import pandas as pd\n",
    "import sklearn"
   ]
  },
  {
   "cell_type": "code",
   "execution_count": 2,
   "id": "7a0e685e",
   "metadata": {},
   "outputs": [],
   "source": [
    "%store -r d\n",
    "%store -r CC_nodeaths"
   ]
  },
  {
   "cell_type": "code",
   "execution_count": 4,
   "id": "67da33c3",
   "metadata": {},
   "outputs": [],
   "source": [
    "d['year'] = d['DEATH_DATE'].dt.year\n",
    "d['quarter'] = d['DEATH_DATE'].dt.quarter\n",
    "df_quarterly = d.groupby(['tract_geoID', 'year', 'quarter']).size().reset_index(name='deaths_sum')"
   ]
  },
  {
   "cell_type": "code",
   "execution_count": null,
   "id": "4dff434a",
   "metadata": {},
   "outputs": [],
   "source": []
  },
  {
   "cell_type": "code",
   "execution_count": null,
   "id": "c5db9b1f",
   "metadata": {},
   "outputs": [],
   "source": [
    "for index, row in CC_nodeaths.iterrows():\n",
    "    tract_geoID = row['GEOID']\n",
    "    \n",
    "    # Iterate over each year from 2014 to 2023\n",
    "    for year in range(2014, 2024):\n",
    "        for quarter in range(1, 5):\n",
    "            existing_row = df_quarterly[(df_quarterly['tract_geoID'] == tract_geoID) & (df_quarterly['year'] == year) & (df_quarterly['quarter'] == quarter)]\n",
    "            \n",
    "            if existing_row.empty:\n",
    "                new_row = pd.DataFrame([[tract_geoID, year, quarter, 0]], columns=df_quarterly.columns)\n",
    "                df_quarterly = pd.concat([df_quarterly, new_row], ignore_index=True)\n"
   ]
  },
  {
   "cell_type": "code",
   "execution_count": null,
   "id": "269693b8",
   "metadata": {},
   "outputs": [],
   "source": [
    "all_quarters = []\n",
    "\n",
    "for year in range(2014, 2024):\n",
    "    for quarter in range(1, 5):\n",
    "        all_quarters.append((year, quarter))\n",
    "\n",
    "for quarter in all_quarters:\n",
    "    if not ((df_quarterly['year'] == quarter[0]) & (df_quarterly['quarter'] == quarter[1])).any():\n",
    "        df_quarterly = df_quarterly.append({'year': quarter[0], 'quarter': quarter[1], 'deaths_sum': 0}, ignore_index=True)\n",
    "\n",
    "df_quarterly =df_quarterly.sort_values(by=['tract_geoID', 'year', 'quarter']).reset_index(drop=True)"
   ]
  },
  {
   "cell_type": "markdown",
   "id": "de21550c",
   "metadata": {},
   "source": [
    "### Tables and Figures"
   ]
  },
  {
   "cell_type": "code",
   "execution_count": null,
   "id": "7ae8cc61",
   "metadata": {},
   "outputs": [],
   "source": [
    "quarterly_deaths = df_quarterly.groupby(['year', 'quarter'])['deaths_sum'].sum().reset_index()\n",
    "\n",
    "quarterly_deaths['Sparsity Rate'] = (df_quarterly['deaths_sum'] == 0).groupby([df_quarterly['year'], df_quarterly['quarter']]).transform('mean') * 100\n",
    "\n",
    "filtered_quarters = quarterly_deaths[(quarterly_deaths['year'] != 2023)]\n",
    "\n",
    "for year in range(2014, 2023):\n",
    "    yearly_data = filtered_quarters[filtered_quarters['year'] == year]\n",
    "    print(f\"Year: {year}\")\n",
    "    print(yearly_data)\n",
    "    print()\n"
   ]
  },
  {
   "cell_type": "code",
   "execution_count": null,
   "id": "1fef44b5",
   "metadata": {},
   "outputs": [],
   "source": [
    "quarter_labels = ['Q{} {}'.format(q, str(y)[-2:]) for y, q in zip(filtered_quarters['year'], filtered_quarters['quarter'])]\n",
    "\n",
    "plt.figure(figsize=(10, 6))\n",
    "plt.plot(filtered_quarters.index, filtered_quarters['Sparsity Rate'], color='darkblue')\n",
    "plt.xlabel('Quarter')\n",
    "plt.ylabel('Sparsity Rate (%)')\n",
    "plt.title('Quarterly Sparsity Rate')\n",
    "plt.xticks(filtered_quarters.index, quarter_labels, rotation='vertical')  # Set the custom x-axis labels and rotate vertically\n",
    "plt.grid(True)\n",
    "plt.show()\n"
   ]
  }
 ],
 "metadata": {
  "kernelspec": {
   "display_name": "Python 3 (ipykernel)",
   "language": "python",
   "name": "python3"
  },
  "language_info": {
   "codemirror_mode": {
    "name": "ipython",
    "version": 3
   },
   "file_extension": ".py",
   "mimetype": "text/x-python",
   "name": "python",
   "nbconvert_exporter": "python",
   "pygments_lexer": "ipython3",
   "version": "3.10.9"
  }
 },
 "nbformat": 4,
 "nbformat_minor": 5
}
