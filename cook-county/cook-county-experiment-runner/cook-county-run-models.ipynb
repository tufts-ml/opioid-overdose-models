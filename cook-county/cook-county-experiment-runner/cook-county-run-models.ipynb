{
 "cells": [
  {
   "cell_type": "code",
   "execution_count": 18,
   "metadata": {},
   "outputs": [
    {
     "name": "stdout",
     "output_type": "stream",
     "text": [
      "The autoreload extension is already loaded. To reload it, use:\n",
      "  %reload_ext autoreload\n"
     ]
    }
   ],
   "source": [
    "%load_ext autoreload\n",
    "%autoreload 2\n",
    "import geopandas as gpd\n",
    "import numpy as np\n",
    "import pandas as pd\n",
    "import os\n",
    "import sklearn\n",
    "from sklearn.linear_model import LinearRegression\n",
    "from sklearn.ensemble import HistGradientBoostingRegressor\n",
    "\n",
    "# local import\n",
    "from make_datasets import make_data\n",
    "import models"
   ]
  },
  {
   "cell_type": "code",
   "execution_count": 19,
   "metadata": {},
   "outputs": [],
   "source": [
    "%store -r gdf_annual_with_svi\n",
    "%store -r gdf_quarter_with_svi\n",
    "%store -r gdf_semi_with_svi\n",
    "\n",
    "data_gdf = gdf_annual_with_svi"
   ]
  },
  {
   "cell_type": "markdown",
   "metadata": {},
   "source": [
    "Process dataframe into a data frame with a Multiindex on location and time"
   ]
  },
  {
   "cell_type": "code",
   "execution_count": 20,
   "metadata": {},
   "outputs": [
    {
     "data": {
      "text/plain": [
       "Index(['geoid', 'year', 'deaths', 'STATEFP', 'COUNTYFP', 'TRACTCE', 'NAME',\n",
       "       'NAMELSAD', 'MTFCC', 'FUNCSTAT', 'ALAND', 'AWATER', 'lat', 'lon',\n",
       "       'geometry', 'timestep', 'theme_1_pc', 'theme_2_pc', 'theme_3_pc',\n",
       "       'theme_4_pc', 'svi_pctile'],\n",
       "      dtype='object')"
      ]
     },
     "execution_count": 20,
     "metadata": {},
     "output_type": "execute_result"
    }
   ],
   "source": [
    "data_gdf.columns"
   ]
  },
  {
   "cell_type": "code",
   "execution_count": 21,
   "metadata": {},
   "outputs": [],
   "source": [
    "# Name the important columns\n",
    "timestep_col = 'timestep'\n",
    "geography_col = 'geoid'\n",
    "outcome_col = 'deaths'\n",
    "\n",
    "# These are the columns we could possibly want in the X dataframe\n",
    "x_idx_cols = [geography_col, 'lat', 'lon', timestep_col,\n",
    "              'theme_1_pc', 'theme_2_pc', 'theme_3_pc', 'theme_4_pc',\n",
    "              'svi_pctile', 'year',\n",
    "              'neighbor_t', 'deaths']\n",
    "\n",
    "# These are the columns we could want in the Y dataframe\n",
    "y_idx_cols = [geography_col, timestep_col, outcome_col]\n",
    "\n",
    "# These are the features we want\n",
    "features_only = ['deaths']\n",
    "add_spacetime = True\n",
    "add_svi = True\n",
    "if add_spacetime:\n",
    "    features_only += ['lat', 'lon', timestep_col]\n",
    "if add_svi:\n",
    "    features_only += ['theme_1_pc', 'theme_2_pc', 'theme_3_pc', 'theme_4_pc', 'svi_pctile']\n",
    "\n",
    "\n",
    "# #jyontika's parameters\n",
    "validation_year = 2020\n",
    "first_test_year = 2021\n",
    "last_test_year = 2022\n",
    "first_test_timestep = 6\n",
    "last_test_timestep = 7\n",
    "lookback_years= 3 #use 3 lookback years\n",
    "first_train_eval_year = validation_year - lookback_years #2015\n",
    "last_train_eval_year = validation_year -1 #2019"
   ]
  },
  {
   "cell_type": "code",
   "execution_count": 22,
   "metadata": {},
   "outputs": [],
   "source": [
    "# Create the multiindex\n",
    "multiindexed_gdf = data_gdf.set_index([geography_col, timestep_col])\n",
    "\n",
    "# re-add the timestep column as a feature because it's useful\n",
    "multiindexed_gdf[timestep_col] = multiindexed_gdf.index.get_level_values(timestep_col)\n",
    "\n",
    "# Track number of locations\n",
    "num_geoids = len(data_gdf[geography_col].unique())"
   ]
  },
  {
   "cell_type": "code",
   "execution_count": 23,
   "metadata": {},
   "outputs": [
    {
     "name": "stdout",
     "output_type": "stream",
     "text": [
      "3\n",
      "1328\n",
      "9\n"
     ]
    }
   ],
   "source": [
    "print(lookback_years)\n",
    "print(num_geoids)\n",
    "print(len(features_only))"
   ]
  },
  {
   "cell_type": "code",
   "execution_count": 24,
   "metadata": {},
   "outputs": [
    {
     "ename": "ValueError",
     "evalue": "cannot reshape array of size 34182 into shape (1328,3,9)",
     "output_type": "error",
     "traceback": [
      "\u001b[0;31m---------------------------------------------------------------------------\u001b[0m",
      "\u001b[0;31mValueError\u001b[0m                                Traceback (most recent call last)",
      "Cell \u001b[0;32mIn[24], line 1\u001b[0m\n\u001b[0;32m----> 1\u001b[0m x_BSF, y_BS \u001b[39m=\u001b[39m make_data(multiindexed_gdf, first_train_eval_year, last_train_eval_year, lookback_years,\n\u001b[1;32m      2\u001b[0m           features_only, num_geoids)\n\u001b[1;32m      3\u001b[0m x_test_BSF, y_test_BS \u001b[39m=\u001b[39m make_data(multiindexed_gdf, first_test_year, last_test_year, lookback_years,\n\u001b[1;32m      4\u001b[0m           features_only, num_geoids)\n\u001b[1;32m      6\u001b[0m \u001b[39m# For the weighted historical average model, we only use deaths as features\u001b[39;00m\n",
      "File \u001b[0;32m~/Desktop/Python/github_hughes/opioid-overdose-models/cook-county/cook-county-experiment-runner/make_datasets.py:48\u001b[0m, in \u001b[0;36mmake_data\u001b[0;34m(multiindexed_gdf, first_year, last_year, time_window, feature_cols, num_locations, pred_lag, timesteps_per_year, year_col, timestep_col, death_col)\u001b[0m\n\u001b[1;32m     43\u001b[0m train_x_df \u001b[39m=\u001b[39m multiindexed_gdf\u001b[39m.\u001b[39mloc[\n\u001b[1;32m     44\u001b[0m     idx[:, \u001b[39mmin\u001b[39m(timesteps_in_year) \u001b[39m-\u001b[39m time_window:\u001b[39mmax\u001b[39m(timesteps_in_year) \u001b[39m-\u001b[39m pred_lag], feature_cols]\n\u001b[1;32m     46\u001b[0m \u001b[39mfor\u001b[39;00m t, timestep \u001b[39min\u001b[39;00m \u001b[39menumerate\u001b[39m(timesteps_in_year):\n\u001b[1;32m     47\u001b[0m     \u001b[39m#import pdb; pdb.set_trace()\u001b[39;00m\n\u001b[0;32m---> 48\u001b[0m     train_x_vals \u001b[39m=\u001b[39m train_x_df\u001b[39m.\u001b[39;49mvalues\u001b[39m.\u001b[39;49mreshape((num_locations, time_window, \u001b[39mlen\u001b[39;49m(feature_cols)))\n\u001b[1;32m     50\u001b[0m     \u001b[39m# Our y data is just the index and deaths\u001b[39;00m\n\u001b[1;32m     51\u001b[0m     train_y_df \u001b[39m=\u001b[39m multiindexed_gdf\u001b[39m.\u001b[39mloc[idx[:, timestep], death_col]\n",
      "\u001b[0;31mValueError\u001b[0m: cannot reshape array of size 34182 into shape (1328,3,9)"
     ]
    }
   ],
   "source": [
    "x_BSF, y_BS = make_data(multiindexed_gdf, first_train_eval_year, last_train_eval_year, lookback_years,\n",
    "          features_only, num_geoids)\n",
    "x_test_BSF, y_test_BS = make_data(multiindexed_gdf, first_test_year, last_test_year, lookback_years,\n",
    "          features_only, num_geoids)\n",
    "          \n",
    "# For the weighted historical average model, we only use deaths as features\n",
    "x_BSF_death_only, y_BS_death_only = make_data(multiindexed_gdf, first_train_eval_year, last_train_eval_year, lookback_years,\n",
    "          ['deaths'], num_geoids)\n",
    "x_test_BSF_death_only, y_test_BS_death_only =make_data(multiindexed_gdf, first_test_year, last_test_year, lookback_years,\n",
    "          ['deaths'], num_geoids)\n",
    "\n",
    "#maybe df is not square?"
   ]
  },
  {
   "cell_type": "code",
   "execution_count": 15,
   "metadata": {},
   "outputs": [
    {
     "ename": "NameError",
     "evalue": "name 'x_BSF' is not defined",
     "output_type": "error",
     "traceback": [
      "\u001b[0;31m---------------------------------------------------------------------------\u001b[0m",
      "\u001b[0;31mNameError\u001b[0m                                 Traceback (most recent call last)",
      "Cell \u001b[0;32mIn[15], line 1\u001b[0m\n\u001b[0;32m----> 1\u001b[0m x_BSF\u001b[39m.\u001b[39mshape\n",
      "\u001b[0;31mNameError\u001b[0m: name 'x_BSF' is not defined"
     ]
    }
   ],
   "source": [
    "x_BSF.shape"
   ]
  },
  {
   "cell_type": "code",
   "execution_count": 16,
   "metadata": {},
   "outputs": [
    {
     "ename": "NameError",
     "evalue": "name 'y_BS' is not defined",
     "output_type": "error",
     "traceback": [
      "\u001b[0;31m---------------------------------------------------------------------------\u001b[0m",
      "\u001b[0;31mNameError\u001b[0m                                 Traceback (most recent call last)",
      "Cell \u001b[0;32mIn[16], line 1\u001b[0m\n\u001b[0;32m----> 1\u001b[0m y_BS\u001b[39m.\u001b[39mshape\n",
      "\u001b[0;31mNameError\u001b[0m: name 'y_BS' is not defined"
     ]
    }
   ],
   "source": [
    "y_BS.shape"
   ]
  },
  {
   "cell_type": "markdown",
   "metadata": {},
   "source": [
    "### All Zeroes Model\n",
    "### lookback = 3 (param)"
   ]
  },
  {
   "cell_type": "code",
   "execution_count": 10,
   "metadata": {},
   "outputs": [],
   "source": [
    "bpr_over_time_zeroes = models.all_zeroes_model(multiindexed_gdf,\n",
    "                                        first_test_timestep, last_test_timestep,\n",
    "                                        num_geoids, bpr_uncertainty_samples=15)"
   ]
  },
  {
   "cell_type": "code",
   "execution_count": 11,
   "metadata": {},
   "outputs": [
    {
     "name": "stdout",
     "output_type": "stream",
     "text": [
      "2021 Average: 0.2127998806202798\n",
      "Zeroes model (Mean, 95% CI): 21.8,\n",
      "      (21.5-\n",
      "       22.2)\n"
     ]
    }
   ],
   "source": [
    "print(f\"2021 Average: {np.mean(bpr_over_time_zeroes[0])}\")\n",
    "\n",
    "bpr_samples_both_years = (np.array(bpr_over_time_zeroes[0]) + \\\n",
    "                          np.array(bpr_over_time_zeroes[1]))/2\n",
    "                        \n",
    "print(f\"\"\"Zeroes model (Mean, 95% CI): {np.mean(bpr_samples_both_years)*100:.1f},\n",
    "      ({np.percentile(bpr_samples_both_years,2.5)*100:.1f}-\n",
    "       {np.percentile(bpr_samples_both_years,97.5)*100:.1f})\"\"\")\n"
   ]
  },
  {
   "cell_type": "code",
   "execution_count": 12,
   "metadata": {},
   "outputs": [
    {
     "name": "stdout",
     "output_type": "stream",
     "text": [
      "Zeroes model RMSE for 2021: 2.33\n",
      "Zeroes model RMSE for 2022: 2.36\n",
      "Joint RMSE for 2021 and 2022: 2.34\n",
      " \n",
      "Zeroes model MAE for 2021: 1.32\n",
      "Zeroes model MAE for 2022: 1.36\n",
      "Joint MAE for 2021 and 2022: 1.34\n"
     ]
    }
   ],
   "source": [
    "\n",
    "# Assuming multiindexed_gdf contains the actual target predictions with 'year' and 'deaths' columns\n",
    "actual_values_2021 = multiindexed_gdf[multiindexed_gdf['year'] == 2021]['deaths'].values\n",
    "actual_values_2022 = multiindexed_gdf[multiindexed_gdf['year'] == 2022]['deaths'].values\n",
    "\n",
    "# Calculate the model predictions \n",
    "bpr_samples_2021 = np.mean(bpr_over_time_zeroes[0])\n",
    "bpr_samples_2022 = np.mean(bpr_over_time_zeroes[1])\n",
    "\n",
    "# Calculate RMSE for model\n",
    "rmse_2021 = np.sqrt(np.mean((bpr_samples_2021 - actual_values_2021)**2))\n",
    "rmse_2022 = np.sqrt(np.mean((bpr_samples_2022 - actual_values_2022)**2))\n",
    "\n",
    "joint_rmse = np.mean([rmse_2021, rmse_2022])\n",
    "\n",
    "print(f\"Zeroes model RMSE for 2021: {rmse_2021:.2f}\")\n",
    "print(f\"Zeroes model RMSE for 2022: {rmse_2022:.2f}\")\n",
    "print(f\"Joint RMSE for 2021 and 2022: {joint_rmse:.2f}\")\n",
    "print(\" \")\n",
    "\n",
    "mae_2021_samples = np.mean(np.abs(bpr_samples_2021 - actual_values_2021))\n",
    "mae_2022_samples = np.mean(np.abs(bpr_samples_2022 - actual_values_2022))\n",
    "\n",
    "# Take the average MAE for each year\n",
    "mae_2021 = np.mean(mae_2021_samples)\n",
    "mae_2022 = np.mean(mae_2022_samples)\n",
    "\n",
    "# Calculate the joint MAE (mean of individual MAE values from both years)\n",
    "joint_mae = np.mean([mae_2021, mae_2022])\n",
    "\n",
    "print(f\"Zeroes model MAE for 2021: {mae_2021:.2f}\")\n",
    "print(f\"Zeroes model MAE for 2022: {mae_2022:.2f}\")\n",
    "print(f\"Joint MAE for 2021 and 2022: {joint_mae:.2f}\")"
   ]
  },
  {
   "cell_type": "markdown",
   "metadata": {},
   "source": [
    "### Last Year\n",
    "#### lookback = 1"
   ]
  },
  {
   "cell_type": "code",
   "execution_count": 13,
   "metadata": {},
   "outputs": [],
   "source": [
    "bpr_over_time_last_time = models.last_time_model(multiindexed_gdf, first_test_timestep, last_test_timestep, num_geoids,\n",
    "                     1,bpr_uncertainty_samples=15)"
   ]
  },
  {
   "cell_type": "code",
   "execution_count": 14,
   "metadata": {},
   "outputs": [
    {
     "name": "stdout",
     "output_type": "stream",
     "text": [
      "2021 Average: 0.6103946608532346\n",
      "Last Year model (Mean, 95% CI): 65.7,\n",
      "      (63.1-\n",
      "       68.6)\n"
     ]
    }
   ],
   "source": [
    "print(f\"2021 Average: {np.mean(bpr_over_time_last_time[0])}\")\n",
    "\n",
    "bpr_samples_both_years = (np.array(bpr_over_time_last_time[0]) + \\\n",
    "                          np.array(bpr_over_time_last_time[1]))/2\n",
    "                        \n",
    "print(f\"\"\"Last Year model (Mean, 95% CI): {np.mean(bpr_samples_both_years)*100:.1f},\n",
    "      ({np.percentile(bpr_samples_both_years,2.5)*100:.1f}-\n",
    "       {np.percentile(bpr_samples_both_years,97.5)*100:.1f})\"\"\")\n"
   ]
  },
  {
   "cell_type": "code",
   "execution_count": 15,
   "metadata": {},
   "outputs": [
    {
     "name": "stdout",
     "output_type": "stream",
     "text": [
      "Last Year model RMSE for 2021: 2.17\n",
      "Last Year model RMSE for 2022: 2.16\n",
      "Joint RMSE for 2021 and 2022: 2.16\n",
      " \n",
      "Last Year model model MAE for 2021: 1.26\n",
      "Last Year model MAE for 2022: 1.29\n",
      "Joint MAE for 2021 and 2022: 1.28\n"
     ]
    }
   ],
   "source": [
    "actual_values_2021 = multiindexed_gdf[multiindexed_gdf['year'] == 2021]['deaths'].values\n",
    "actual_values_2022 = multiindexed_gdf[multiindexed_gdf['year'] == 2022]['deaths'].values\n",
    "\n",
    "# Calculate the model predictions \n",
    "bpr_samples_2021 = np.mean(bpr_over_time_last_time[0])\n",
    "bpr_samples_2022 = np.mean(bpr_over_time_last_time[1])\n",
    "\n",
    "# Calculate RMSE for model\n",
    "rmse_2021 = np.sqrt(np.mean((bpr_samples_2021 - actual_values_2021)**2))\n",
    "rmse_2022 = np.sqrt(np.mean((bpr_samples_2022 - actual_values_2022)**2))\n",
    "\n",
    "joint_rmse = np.mean([rmse_2021, rmse_2022])\n",
    "\n",
    "print(f\"Last Year model RMSE for 2021: {rmse_2021:.2f}\")\n",
    "print(f\"Last Year model RMSE for 2022: {rmse_2022:.2f}\")\n",
    "print(f\"Joint RMSE for 2021 and 2022: {joint_rmse:.2f}\")\n",
    "print(\" \")\n",
    "\n",
    "mae_2021_samples = np.mean(np.abs(bpr_samples_2021 - actual_values_2021))\n",
    "mae_2022_samples = np.mean(np.abs(bpr_samples_2022 - actual_values_2022))\n",
    "\n",
    "# Take the average MAE for each year\n",
    "mae_2021 = np.mean(mae_2021_samples)\n",
    "mae_2022 = np.mean(mae_2022_samples)\n",
    "\n",
    "# Calculate the joint MAE (mean of individual MAE values from both years)\n",
    "joint_mae = np.mean([mae_2021, mae_2022])\n",
    "\n",
    "print(f\"Last Year model model MAE for 2021: {mae_2021:.2f}\")\n",
    "print(f\"Last Year model MAE for 2022: {mae_2022:.2f}\")\n",
    "print(f\"Joint MAE for 2021 and 2022: {joint_mae:.2f}\")\n"
   ]
  },
  {
   "cell_type": "markdown",
   "metadata": {},
   "source": [
    "### Historical Average \n",
    "#### lookback = 6 years for cook "
   ]
  },
  {
   "cell_type": "code",
   "execution_count": 16,
   "metadata": {},
   "outputs": [],
   "source": [
    "bpr_over_time_avg_time = models.historical_average_model(multiindexed_gdf, first_test_timestep, last_test_timestep, num_geoids,\n",
    "                     1, 6, bpr_uncertainty_samples=15)"
   ]
  },
  {
   "cell_type": "code",
   "execution_count": 17,
   "metadata": {},
   "outputs": [
    {
     "name": "stdout",
     "output_type": "stream",
     "text": [
      "2021 Average: 0.6612735822500013\n",
      "Historical Average model (Mean, 95% CI): 72.3,\n",
      "      (70.8-\n",
      "       73.5)\n"
     ]
    }
   ],
   "source": [
    "print(f\"2021 Average: {np.mean(bpr_over_time_avg_time[0])}\")\n",
    "\n",
    "bpr_samples_both_years = (np.array(bpr_over_time_avg_time[0]) + \\\n",
    "                          np.array(bpr_over_time_avg_time[1]))/2\n",
    "                        \n",
    "print(f\"\"\"Historical Average model (Mean, 95% CI): {np.mean(bpr_samples_both_years)*100:.1f},\n",
    "      ({np.percentile(bpr_samples_both_years,2.5)*100:.1f}-\n",
    "       {np.percentile(bpr_samples_both_years,97.5)*100:.1f})\"\"\")\n"
   ]
  },
  {
   "cell_type": "code",
   "execution_count": 18,
   "metadata": {},
   "outputs": [
    {
     "name": "stdout",
     "output_type": "stream",
     "text": [
      "Historical Average RMSE for 2021: 2.15\n",
      "Historical Average RMSE for 2022: 2.13\n",
      "Joint RMSE for 2021 and 2022: 2.14\n",
      " \n",
      "Historical Average  MAE for 2021: 1.26\n",
      "Historical Average  MAE for 2022: 1.28\n",
      "Joint MAE for 2021 and 2022: 1.27\n"
     ]
    }
   ],
   "source": [
    "actual_values_2021 = multiindexed_gdf[multiindexed_gdf['year'] == 2021]['deaths'].values\n",
    "actual_values_2022 = multiindexed_gdf[multiindexed_gdf['year'] == 2022]['deaths'].values\n",
    "\n",
    "# Calculate the model predictions \n",
    "bpr_samples_2021 = np.mean(bpr_over_time_avg_time[0])\n",
    "bpr_samples_2022 = np.mean(bpr_over_time_avg_time[1])\n",
    "\n",
    "# Calculate RMSE for model\n",
    "rmse_2021 = np.sqrt(np.mean((bpr_samples_2021 - actual_values_2021)**2))\n",
    "rmse_2022 = np.sqrt(np.mean((bpr_samples_2022 - actual_values_2022)**2))\n",
    "\n",
    "joint_rmse = np.mean([rmse_2021, rmse_2022])\n",
    "\n",
    "print(f\"Historical Average RMSE for 2021: {rmse_2021:.2f}\")\n",
    "print(f\"Historical Average RMSE for 2022: {rmse_2022:.2f}\")\n",
    "print(f\"Joint RMSE for 2021 and 2022: {joint_rmse:.2f}\")\n",
    "print(\" \")\n",
    "\n",
    "mae_2021_samples = np.mean(np.abs(bpr_samples_2021 - actual_values_2021))\n",
    "mae_2022_samples = np.mean(np.abs(bpr_samples_2022 - actual_values_2022))\n",
    "\n",
    "# Take the average MAE for each year\n",
    "mae_2021 = np.mean(mae_2021_samples)\n",
    "mae_2022 = np.mean(mae_2022_samples)\n",
    "\n",
    "# Calculate the joint MAE (mean of individual MAE values from both years)\n",
    "joint_mae = np.mean([mae_2021, mae_2022])\n",
    "\n",
    "print(f\"Historical Average  MAE for 2021: {mae_2021:.2f}\")\n",
    "print(f\"Historical Average  MAE for 2022: {mae_2022:.2f}\")\n",
    "print(f\"Joint MAE for 2021 and 2022: {joint_mae:.2f}\")\n"
   ]
  },
  {
   "cell_type": "markdown",
   "metadata": {},
   "source": [
    "### Weighted Historical Average\n",
    "#### lookback = 6 years (for cook county)"
   ]
  },
  {
   "cell_type": "code",
   "execution_count": 19,
   "metadata": {},
   "outputs": [],
   "source": [
    "# Identical models, features are only difference\n",
    "linear_poisson_weighted_avg = sklearn.linear_model.PoissonRegressor()\n",
    "linear_poisson = sklearn.linear_model.PoissonRegressor()\n",
    "\n",
    "# Params selected via grid search on validation. Need to re-do grid search for chicago\n",
    "hist_poisson =   HistGradientBoostingRegressor(loss=\"poisson\", max_iter=10000, max_depth=3, max_leaf_nodes=2,\n",
    "                                               l2_regularization=1, min_samples_leaf=100 )"
   ]
  },
  {
   "cell_type": "code",
   "execution_count": 20,
   "metadata": {},
   "outputs": [],
   "source": [
    "bpr_over_time_weight_avg = models.scikit_model(multiindexed_gdf, x_BSF_death_only,\n",
    "                                               y_BS_death_only, x_test_BSF_death_only,\n",
    "                                               linear_poisson_weighted_avg,\n",
    "                                               first_test_timestep, last_test_timestep,\n",
    "                                               bpr_uncertainty_samples=20)"
   ]
  },
  {
   "cell_type": "code",
   "execution_count": 21,
   "metadata": {},
   "outputs": [
    {
     "name": "stdout",
     "output_type": "stream",
     "text": [
      "2021 Average: 0.8674948601511524\n",
      "Zeroes model (Mean, 95% CI): 90.1,\n",
      "      (88.9-\n",
      "       91.6)\n"
     ]
    }
   ],
   "source": [
    "print(f\"2021 Average: {np.mean(bpr_over_time_weight_avg[0])}\")\n",
    "\n",
    "bpr_samples_both_years = (np.array(bpr_over_time_weight_avg[0]) + \\\n",
    "                          np.array(bpr_over_time_weight_avg[1]))/2\n",
    "                        \n",
    "print(f\"\"\"Zeroes model (Mean, 95% CI): {np.mean(bpr_samples_both_years)*100:.1f},\n",
    "      ({np.percentile(bpr_samples_both_years,2.5)*100:.1f}-\n",
    "       {np.percentile(bpr_samples_both_years,97.5)*100:.1f})\"\"\")\n"
   ]
  },
  {
   "cell_type": "code",
   "execution_count": 22,
   "metadata": {},
   "outputs": [
    {
     "name": "stdout",
     "output_type": "stream",
     "text": [
      "Weighted Historical Average RMSE for 2021: 2.09\n",
      "Weighted Historical Average RMSE for 2022: 2.10\n",
      "Joint RMSE for 2021 and 2022: 2.09\n",
      " \n",
      "Weighted Historical Average  MAE for 2021: 1.23\n",
      "Weighted Historical Average  MAE for 2022: 1.26\n",
      "Joint MAE for 2021 and 2022: 1.24\n"
     ]
    }
   ],
   "source": [
    "actual_values_2021 = multiindexed_gdf[multiindexed_gdf['year'] == 2021]['deaths'].values\n",
    "actual_values_2022 = multiindexed_gdf[multiindexed_gdf['year'] == 2022]['deaths'].values\n",
    "\n",
    "# Calculate the model predictions \n",
    "bpr_samples_2021 = np.mean(bpr_over_time_weight_avg[0])\n",
    "bpr_samples_2022 = np.mean(bpr_over_time_weight_avg[1])\n",
    "\n",
    "# Calculate RMSE for model\n",
    "rmse_2021 = np.sqrt(np.mean((bpr_samples_2021 - actual_values_2021)**2))\n",
    "rmse_2022 = np.sqrt(np.mean((bpr_samples_2022 - actual_values_2022)**2))\n",
    "\n",
    "joint_rmse = np.mean([rmse_2021, rmse_2022])\n",
    "\n",
    "print(f\"Weighted Historical Average RMSE for 2021: {rmse_2021:.2f}\")\n",
    "print(f\"Weighted Historical Average RMSE for 2022: {rmse_2022:.2f}\")\n",
    "print(f\"Joint RMSE for 2021 and 2022: {joint_rmse:.2f}\")\n",
    "print(\" \")\n",
    "\n",
    "mae_2021_samples = np.mean(np.abs(bpr_samples_2021 - actual_values_2021))\n",
    "mae_2022_samples = np.mean(np.abs(bpr_samples_2022 - actual_values_2022))\n",
    "\n",
    "# Take the average MAE for each year\n",
    "mae_2021 = np.mean(mae_2021_samples)\n",
    "mae_2022 = np.mean(mae_2022_samples)\n",
    "\n",
    "# Calculate the joint MAE (mean of individual MAE values from both years)\n",
    "joint_mae = np.mean([mae_2021, mae_2022])\n",
    "\n",
    "print(f\"Weighted Historical Average  MAE for 2021: {mae_2021:.2f}\")\n",
    "print(f\"Weighted Historical Average  MAE for 2022: {mae_2022:.2f}\")\n",
    "print(f\"Joint MAE for 2021 and 2022: {joint_mae:.2f}\")\n"
   ]
  },
  {
   "cell_type": "markdown",
   "metadata": {},
   "source": [
    "### Linear (Poisson GLM baseline)\n",
    "#### lookback years = 3"
   ]
  },
  {
   "cell_type": "code",
   "execution_count": 23,
   "metadata": {},
   "outputs": [],
   "source": [
    "bpr_over_time_linear = models.scikit_model(multiindexed_gdf, x_BSF,\n",
    "                                               y_BS, x_test_BSF,\n",
    "                                               linear_poisson,\n",
    "                                               first_test_timestep, last_test_timestep,\n",
    "                                               bpr_uncertainty_samples=20)"
   ]
  },
  {
   "cell_type": "code",
   "execution_count": 24,
   "metadata": {},
   "outputs": [
    {
     "name": "stdout",
     "output_type": "stream",
     "text": [
      "2021 Average: 0.8549741583117767\n",
      "Poisson GLM model (Mean, 95% CI): 89.5,\n",
      "      (88.5-\n",
      "       90.4)\n"
     ]
    }
   ],
   "source": [
    "print(f\"2021 Average: {np.mean(bpr_over_time_linear[0])}\")\n",
    "\n",
    "bpr_samples_both_years = (np.array(bpr_over_time_linear[0]) + \\\n",
    "                          np.array(bpr_over_time_linear[1]))/2\n",
    "                        \n",
    "print(f\"\"\"Poisson GLM model (Mean, 95% CI): {np.mean(bpr_samples_both_years)*100:.1f},\n",
    "      ({np.percentile(bpr_samples_both_years,2.5)*100:.1f}-\n",
    "       {np.percentile(bpr_samples_both_years,97.5)*100:.1f})\"\"\")\n"
   ]
  },
  {
   "cell_type": "code",
   "execution_count": 25,
   "metadata": {},
   "outputs": [
    {
     "name": "stdout",
     "output_type": "stream",
     "text": [
      "Linear (Poisson GLM baseline) for 2021: 2.10\n",
      "Linear (Poisson GLM baseline) RMSE for 2022: 2.10\n",
      "Joint RMSE for 2021 and 2022: 2.10\n",
      " \n",
      "Linear (Poisson GLM baseline)  MAE for 2021: 1.23\n",
      "Linear (Poisson GLM baseline)  MAE for 2022: 1.26\n",
      "Joint MAE for 2021 and 2022: 1.24\n"
     ]
    }
   ],
   "source": [
    "actual_values_2021 = multiindexed_gdf[multiindexed_gdf['year'] == 2021]['deaths'].values\n",
    "actual_values_2022 = multiindexed_gdf[multiindexed_gdf['year'] == 2022]['deaths'].values\n",
    "\n",
    "# Calculate the model predictions \n",
    "bpr_samples_2021 = np.mean(bpr_over_time_linear[0])\n",
    "bpr_samples_2022 = np.mean(bpr_over_time_linear[1])\n",
    "\n",
    "# Calculate RMSE for model\n",
    "rmse_2021 = np.sqrt(np.mean((bpr_samples_2021 - actual_values_2021)**2))\n",
    "rmse_2022 = np.sqrt(np.mean((bpr_samples_2022 - actual_values_2022)**2))\n",
    "\n",
    "joint_rmse = np.mean([rmse_2021, rmse_2022])\n",
    "\n",
    "print(f\"Linear (Poisson GLM baseline) for 2021: {rmse_2021:.2f}\")\n",
    "print(f\"Linear (Poisson GLM baseline) RMSE for 2022: {rmse_2022:.2f}\")\n",
    "print(f\"Joint RMSE for 2021 and 2022: {joint_rmse:.2f}\")\n",
    "print(\" \")\n",
    "\n",
    "mae_2021_samples = np.mean(np.abs(bpr_samples_2021 - actual_values_2021))\n",
    "mae_2022_samples = np.mean(np.abs(bpr_samples_2022 - actual_values_2022))\n",
    "\n",
    "# Take the average MAE for each year\n",
    "mae_2021 = np.mean(mae_2021_samples)\n",
    "mae_2022 = np.mean(mae_2022_samples)\n",
    "\n",
    "# Calculate the joint MAE (mean of individual MAE values from both years)\n",
    "joint_mae = np.mean([mae_2021, mae_2022])\n",
    "\n",
    "print(f\"Linear (Poisson GLM baseline)  MAE for 2021: {mae_2021:.2f}\")\n",
    "print(f\"Linear (Poisson GLM baseline)  MAE for 2022: {mae_2022:.2f}\")\n",
    "print(f\"Joint MAE for 2021 and 2022: {joint_mae:.2f}\")\n"
   ]
  },
  {
   "cell_type": "markdown",
   "metadata": {},
   "source": [
    "### Gradient Boosted Trees (Poisson)\n",
    "#### lookback years = 3 "
   ]
  },
  {
   "cell_type": "code",
   "execution_count": 26,
   "metadata": {},
   "outputs": [],
   "source": [
    "bpr_over_time_tree = models.scikit_model(multiindexed_gdf, x_BSF,\n",
    "                                               y_BS, x_test_BSF,\n",
    "                                               hist_poisson,\n",
    "                                               first_test_timestep, last_test_timestep,\n",
    "                                               bpr_uncertainty_samples=20)"
   ]
  },
  {
   "cell_type": "code",
   "execution_count": 27,
   "metadata": {},
   "outputs": [
    {
     "name": "stdout",
     "output_type": "stream",
     "text": [
      "2021 Average: 0.8153497943533374\n",
      "Gradient Boosted Trees (Poisson) (Mean, 95% CI): 80.8,\n",
      "      (79.2-\n",
      "       82.4)\n"
     ]
    }
   ],
   "source": [
    "print(f\"2021 Average: {np.mean(bpr_over_time_tree[0])}\")\n",
    "\n",
    "bpr_samples_both_years = (np.array(bpr_over_time_tree[0]) + \\\n",
    "                          np.array(bpr_over_time_tree[1]))/2\n",
    "                        \n",
    "print(f\"\"\"Gradient Boosted Trees (Poisson) (Mean, 95% CI): {np.mean(bpr_samples_both_years)*100:.1f},\n",
    "      ({np.percentile(bpr_samples_both_years,2.5)*100:.1f}-\n",
    "       {np.percentile(bpr_samples_both_years,97.5)*100:.1f})\"\"\")\n"
   ]
  },
  {
   "cell_type": "code",
   "execution_count": 28,
   "metadata": {},
   "outputs": [
    {
     "name": "stdout",
     "output_type": "stream",
     "text": [
      "Gradient Boosted Trees (Poisson) RMSE for 2021: 2.11\n",
      "Gradient Boosted Trees (Poisson) RMSE for 2022: 2.13\n",
      "Joint RMSE for 2021 and 2022: 2.12\n",
      " \n",
      "Gradient Boosted Trees (Poisson)  MAE for 2021: 1.23\n",
      "Gradient Boosted Trees (Poisson)  MAE for 2022: 1.28\n",
      "Joint MAE for 2021 and 2022: 1.26\n"
     ]
    }
   ],
   "source": [
    "actual_values_2021 = multiindexed_gdf[multiindexed_gdf['year'] == 2021]['deaths'].values\n",
    "actual_values_2022 = multiindexed_gdf[multiindexed_gdf['year'] == 2022]['deaths'].values\n",
    "\n",
    "# Calculate the model predictions \n",
    "bpr_samples_2021 = np.mean(bpr_over_time_tree[0])\n",
    "bpr_samples_2022 = np.mean(bpr_over_time_tree[1])\n",
    "\n",
    "# Calculate RMSE for model\n",
    "rmse_2021 = np.sqrt(np.mean((bpr_samples_2021 - actual_values_2021)**2))\n",
    "rmse_2022 = np.sqrt(np.mean((bpr_samples_2022 - actual_values_2022)**2))\n",
    "\n",
    "joint_rmse = np.mean([rmse_2021, rmse_2022])\n",
    "\n",
    "print(f\"Gradient Boosted Trees (Poisson) RMSE for 2021: {rmse_2021:.2f}\")\n",
    "print(f\"Gradient Boosted Trees (Poisson) RMSE for 2022: {rmse_2022:.2f}\")\n",
    "print(f\"Joint RMSE for 2021 and 2022: {joint_rmse:.2f}\")\n",
    "print(\" \")\n",
    "\n",
    "mae_2021_samples = np.mean(np.abs(bpr_samples_2021 - actual_values_2021))\n",
    "mae_2022_samples = np.mean(np.abs(bpr_samples_2022 - actual_values_2022))\n",
    "\n",
    "# Take the average MAE for each year\n",
    "mae_2021 = np.mean(mae_2021_samples)\n",
    "mae_2022 = np.mean(mae_2022_samples)\n",
    "\n",
    "# Calculate the joint MAE (mean of individual MAE values from both years)\n",
    "joint_mae = np.mean([mae_2021, mae_2022])\n",
    "\n",
    "print(f\"Gradient Boosted Trees (Poisson)  MAE for 2021: {mae_2021:.2f}\")\n",
    "print(f\"Gradient Boosted Trees (Poisson)  MAE for 2022: {mae_2022:.2f}\")\n",
    "print(f\"Joint MAE for 2021 and 2022: {joint_mae:.2f}\")\n"
   ]
  }
 ],
 "metadata": {
  "kernelspec": {
   "display_name": "Python 3",
   "language": "python",
   "name": "python3"
  },
  "language_info": {
   "codemirror_mode": {
    "name": "ipython",
    "version": 3
   },
   "file_extension": ".py",
   "mimetype": "text/x-python",
   "name": "python",
   "nbconvert_exporter": "python",
   "pygments_lexer": "ipython3",
   "version": "3.9.6"
  },
  "orig_nbformat": 4
 },
 "nbformat": 4,
 "nbformat_minor": 2
}
