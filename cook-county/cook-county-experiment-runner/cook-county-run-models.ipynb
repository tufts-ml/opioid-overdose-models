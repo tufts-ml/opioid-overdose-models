{
 "cells": [
  {
   "cell_type": "code",
   "execution_count": 1,
   "metadata": {},
   "outputs": [
    {
     "name": "stderr",
     "output_type": "stream",
     "text": [
      "2023-08-10 08:51:07.017369: I tensorflow/core/platform/cpu_feature_guard.cc:182] This TensorFlow binary is optimized to use available CPU instructions in performance-critical operations.\n",
      "To enable the following instructions: AVX2 AVX512F AVX512_VNNI FMA, in other operations, rebuild TensorFlow with the appropriate compiler flags.\n"
     ]
    },
    {
     "name": "stdout",
     "output_type": "stream",
     "text": [
      "<class 'list'>\n"
     ]
    }
   ],
   "source": [
    "%load_ext autoreload\n",
    "%autoreload 2\n",
    "import geopandas as gpd\n",
    "import numpy as np\n",
    "import pandas as pd\n",
    "import pickle \n",
    "import os\n",
    "import sklearn\n",
    "from sklearn.linear_model import LinearRegression\n",
    "from sklearn.ensemble import HistGradientBoostingRegressor\n",
    "\n",
    "# local import\n",
    "from make_datasets import make_data\n",
    "import models"
   ]
  },
  {
   "cell_type": "code",
   "execution_count": 2,
   "metadata": {},
   "outputs": [
    {
     "name": "stderr",
     "output_type": "stream",
     "text": [
      "/Users/jyontika/Library/Python/3.9/lib/python/site-packages/pyproj/crs/crs.py:141: FutureWarning: '+init=<authority>:<code>' syntax is deprecated. '<authority>:<code>' is the preferred initialization method. When making the change, be mindful of axis order changes: https://pyproj4.github.io/pyproj/stable/gotchas.html#axis-order-changes-in-proj-6\n",
      "  in_crs_string = _prepare_from_proj_string(in_crs_string)\n"
     ]
    }
   ],
   "source": [
    "from shapely import wkt\n",
    "#retrieve cleaned data frames \n",
    "data_dir = '/Users/jyontika/Desktop/opioid-overdose-models/cook-county/cleaning-cook-county/'\n",
    "gdf_annual = pd.read_csv(f'{data_dir}/cook_county_gdf_year.csv')\n",
    "\n",
    "#convert to gpd (was having trouble importing csv as gdf)\n",
    "gdf_annual['geometry'] = gdf_annual['geometry'].apply(wkt.loads)\n",
    "gdf_annual = gpd.GeoDataFrame(gdf_annual, geometry='geometry')\n",
    "gdf_annual.crs = {'init': 'EPSG:4269'}\n",
    "type(gdf_annual)\n",
    "\n",
    "data_gdf = gdf_annual"
   ]
  },
  {
   "cell_type": "code",
   "execution_count": 3,
   "metadata": {},
   "outputs": [],
   "source": [
    "gdf_annual['geoid'] = gdf_annual['geoid'].astype(str) #change to string"
   ]
  },
  {
   "cell_type": "markdown",
   "metadata": {},
   "source": [
    "Process dataframe into a data frame with a Multiindex on location and time"
   ]
  },
  {
   "cell_type": "code",
   "execution_count": 4,
   "metadata": {},
   "outputs": [
    {
     "data": {
      "text/plain": [
       "(10624, 21)"
      ]
     },
     "execution_count": 4,
     "metadata": {},
     "output_type": "execute_result"
    }
   ],
   "source": [
    "data_gdf.shape"
   ]
  },
  {
   "cell_type": "code",
   "execution_count": 5,
   "metadata": {},
   "outputs": [],
   "source": [
    "# Name the important columns\n",
    "timestep_col = 'timestep'\n",
    "geography_col = 'geoid'\n",
    "outcome_col = 'deaths'\n",
    "\n",
    "# These are the columns we could possibly want in the X dataframe\n",
    "x_idx_cols = [geography_col, 'lat', 'lon', timestep_col,\n",
    "              'theme_1_pc', 'theme_2_pc', 'theme_3_pc', 'theme_4_pc',\n",
    "              'svi_pctile', 'year',\n",
    "              'neighbor_t', 'deaths']\n",
    "\n",
    "# These are the columns we could want in the Y dataframe\n",
    "y_idx_cols = [geography_col, timestep_col, outcome_col]\n",
    "\n",
    "# These are the features we want\n",
    "features_only = ['deaths']\n",
    "add_spacetime = True\n",
    "add_svi = True\n",
    "if add_spacetime:\n",
    "    features_only += ['lat', 'lon', timestep_col]\n",
    "if add_svi:\n",
    "    features_only += ['theme_1_pc', 'theme_2_pc', 'theme_3_pc', 'theme_4_pc', 'svi_pctile']\n",
    "\n",
    "\n",
    "# #jyontika's parameters\n",
    "validation_year = 2020\n",
    "first_test_year = 2021\n",
    "last_test_year = 2022\n",
    "first_test_timestep = 6\n",
    "last_test_timestep = 7\n",
    "lookback_years= 2 #use 2 lookback years\n",
    "first_train_eval_year = validation_year - lookback_years #2018\n",
    "last_train_eval_year = validation_year -1 #2019"
   ]
  },
  {
   "cell_type": "code",
   "execution_count": 6,
   "metadata": {},
   "outputs": [],
   "source": [
    "# Create the multiindex\n",
    "multiindexed_gdf = data_gdf.set_index([geography_col, timestep_col])\n",
    "\n",
    "# re-add the timestep column as a feature because it's useful\n",
    "multiindexed_gdf[timestep_col] = multiindexed_gdf.index.get_level_values(timestep_col)\n",
    "\n",
    "# Track number of locations\n",
    "num_geoids = len(data_gdf[geography_col].unique())"
   ]
  },
  {
   "cell_type": "code",
   "execution_count": 7,
   "metadata": {},
   "outputs": [
    {
     "name": "stdout",
     "output_type": "stream",
     "text": [
      "2\n",
      "1328\n",
      "9\n"
     ]
    }
   ],
   "source": [
    "print(lookback_years)\n",
    "print(num_geoids)\n",
    "print(len(features_only))"
   ]
  },
  {
   "cell_type": "code",
   "execution_count": 8,
   "metadata": {},
   "outputs": [
    {
     "data": {
      "text/plain": [
       "(10624, 20)"
      ]
     },
     "execution_count": 8,
     "metadata": {},
     "output_type": "execute_result"
    }
   ],
   "source": [
    "multiindexed_gdf.shape"
   ]
  },
  {
   "cell_type": "code",
   "execution_count": 9,
   "metadata": {},
   "outputs": [],
   "source": [
    "x_BSF, y_BS = make_data(multiindexed_gdf, first_train_eval_year, last_train_eval_year, lookback_years,\n",
    "          features_only, num_geoids)\n",
    "x_test_BSF, y_test_BS = make_data(multiindexed_gdf, first_test_year, last_test_year, lookback_years,\n",
    "          features_only, num_geoids)\n",
    "          \n",
    "# For the weighted historical average model, we only use deaths as features\n",
    "x_BSF_death_only, y_BS_death_only = make_data(multiindexed_gdf, first_train_eval_year, last_train_eval_year, lookback_years,\n",
    "          ['deaths'], num_geoids)\n",
    "x_test_BSF_death_only, y_test_BS_death_only =make_data(multiindexed_gdf, first_test_year, last_test_year, lookback_years,\n",
    "          ['deaths'], num_geoids)\n"
   ]
  },
  {
   "cell_type": "code",
   "execution_count": 10,
   "metadata": {},
   "outputs": [
    {
     "data": {
      "text/plain": [
       "TensorShape([2, 1328, 18])"
      ]
     },
     "execution_count": 10,
     "metadata": {},
     "output_type": "execute_result"
    }
   ],
   "source": [
    "x_BSF.shape"
   ]
  },
  {
   "cell_type": "code",
   "execution_count": 11,
   "metadata": {},
   "outputs": [
    {
     "data": {
      "text/plain": [
       "TensorShape([2, 1328])"
      ]
     },
     "execution_count": 11,
     "metadata": {},
     "output_type": "execute_result"
    }
   ],
   "source": [
    "y_BS.shape"
   ]
  },
  {
   "cell_type": "markdown",
   "metadata": {},
   "source": [
    "### All Zeroes Model\n",
    "### lookback = 2 "
   ]
  },
  {
   "cell_type": "code",
   "execution_count": 53,
   "metadata": {},
   "outputs": [],
   "source": [
    "bpr_over_time_zeroes = models.all_zeroes_model(multiindexed_gdf,\n",
    "                                        first_test_timestep, last_test_timestep,\n",
    "                                        num_geoids, bpr_uncertainty_samples=15)"
   ]
  },
  {
   "cell_type": "code",
   "execution_count": 54,
   "metadata": {},
   "outputs": [
    {
     "name": "stdout",
     "output_type": "stream",
     "text": [
      "2021 Average: 0.22477669456722849\n",
      "Zeroes model (Mean, 95% CI): 22.1,\n",
      "      (21.7-\n",
      "       22.9)\n"
     ]
    }
   ],
   "source": [
    "print(f\"2021 Average: {np.mean(bpr_over_time_zeroes[0])}\")\n",
    "\n",
    "bpr_samples_both_years = (np.array(bpr_over_time_zeroes[0]) + \\\n",
    "                          np.array(bpr_over_time_zeroes[1]))/2\n",
    "                        \n",
    "print(f\"\"\"Zeroes model (Mean, 95% CI): {np.mean(bpr_samples_both_years)*100:.1f},\n",
    "      ({np.percentile(bpr_samples_both_years,2.5)*100:.1f}-\n",
    "       {np.percentile(bpr_samples_both_years,97.5)*100:.1f})\"\"\")\n"
   ]
  },
  {
   "cell_type": "code",
   "execution_count": 15,
   "metadata": {},
   "outputs": [
    {
     "name": "stdout",
     "output_type": "stream",
     "text": [
      "Zeroes model RMSE for 2021: 2.33\n",
      "Zeroes model RMSE for 2022: 2.36\n",
      "Joint RMSE for 2021 and 2022: 2.34\n",
      " \n",
      "Zeroes model MAE for 2021: 1.32\n",
      "Zeroes model MAE for 2022: 1.36\n",
      "Joint MAE for 2021 and 2022: 1.34\n"
     ]
    }
   ],
   "source": [
    "\n",
    "# Assuming multiindexed_gdf contains the actual target predictions with 'year' and 'deaths' columns\n",
    "actual_values_2021 = multiindexed_gdf[multiindexed_gdf['year'] == 2021]['deaths'].values\n",
    "actual_values_2022 = multiindexed_gdf[multiindexed_gdf['year'] == 2022]['deaths'].values\n",
    "\n",
    "# Calculate the model predictions \n",
    "bpr_samples_2021 = np.mean(bpr_over_time_zeroes[0])\n",
    "bpr_samples_2022 = np.mean(bpr_over_time_zeroes[1])\n",
    "\n",
    "# Calculate RMSE for model\n",
    "rmse_2021 = np.sqrt(np.mean((bpr_samples_2021 - actual_values_2021)**2))\n",
    "rmse_2022 = np.sqrt(np.mean((bpr_samples_2022 - actual_values_2022)**2))\n",
    "\n",
    "joint_rmse = np.mean([rmse_2021, rmse_2022])\n",
    "\n",
    "print(f\"Zeroes model RMSE for 2021: {rmse_2021:.2f}\")\n",
    "print(f\"Zeroes model RMSE for 2022: {rmse_2022:.2f}\")\n",
    "print(f\"Joint RMSE for 2021 and 2022: {joint_rmse:.2f}\")\n",
    "print(\" \")\n",
    "\n",
    "mae_2021_samples = np.mean(np.abs(bpr_samples_2021 - actual_values_2021))\n",
    "mae_2022_samples = np.mean(np.abs(bpr_samples_2022 - actual_values_2022))\n",
    "\n",
    "# Take the average MAE for each year\n",
    "mae_2021 = np.mean(mae_2021_samples)\n",
    "mae_2022 = np.mean(mae_2022_samples)\n",
    "\n",
    "# Calculate the joint MAE (mean of individual MAE values from both years)\n",
    "joint_mae = np.mean([mae_2021, mae_2022])\n",
    "\n",
    "print(f\"Zeroes model MAE for 2021: {mae_2021:.2f}\")\n",
    "print(f\"Zeroes model MAE for 2022: {mae_2022:.2f}\")\n",
    "print(f\"Joint MAE for 2021 and 2022: {joint_mae:.2f}\")"
   ]
  },
  {
   "cell_type": "markdown",
   "metadata": {},
   "source": [
    "### Last Year\n",
    "#### lookback = 1"
   ]
  },
  {
   "cell_type": "code",
   "execution_count": 16,
   "metadata": {},
   "outputs": [],
   "source": [
    "bpr_over_time_last_time = models.last_time_model(multiindexed_gdf, first_test_timestep, last_test_timestep, num_geoids,\n",
    "                     1,bpr_uncertainty_samples=15)"
   ]
  },
  {
   "cell_type": "code",
   "execution_count": 17,
   "metadata": {},
   "outputs": [
    {
     "name": "stdout",
     "output_type": "stream",
     "text": [
      "2021 Average: 0.6974018220696714\n",
      "Last Year model (Mean, 95% CI): 71.4,\n",
      "      (69.9-\n",
      "       73.1)\n"
     ]
    }
   ],
   "source": [
    "print(f\"2021 Average: {np.mean(bpr_over_time_last_time[0])}\")\n",
    "\n",
    "bpr_samples_both_years = (np.array(bpr_over_time_last_time[0]) + \\\n",
    "                          np.array(bpr_over_time_last_time[1]))/2\n",
    "                        \n",
    "print(f\"\"\"Last Year model (Mean, 95% CI): {np.mean(bpr_samples_both_years)*100:.1f},\n",
    "      ({np.percentile(bpr_samples_both_years,2.5)*100:.1f}-\n",
    "       {np.percentile(bpr_samples_both_years,97.5)*100:.1f})\"\"\")\n"
   ]
  },
  {
   "cell_type": "code",
   "execution_count": 18,
   "metadata": {},
   "outputs": [
    {
     "name": "stdout",
     "output_type": "stream",
     "text": [
      "Last Year model RMSE for 2021: 2.14\n",
      "Last Year model RMSE for 2022: 2.15\n",
      "Joint RMSE for 2021 and 2022: 2.15\n",
      " \n",
      "Last Year model model MAE for 2021: 1.25\n",
      "Last Year model MAE for 2022: 1.29\n",
      "Joint MAE for 2021 and 2022: 1.27\n"
     ]
    }
   ],
   "source": [
    "actual_values_2021 = multiindexed_gdf[multiindexed_gdf['year'] == 2021]['deaths'].values\n",
    "actual_values_2022 = multiindexed_gdf[multiindexed_gdf['year'] == 2022]['deaths'].values\n",
    "\n",
    "# Calculate the model predictions \n",
    "bpr_samples_2021 = np.mean(bpr_over_time_last_time[0])\n",
    "bpr_samples_2022 = np.mean(bpr_over_time_last_time[1])\n",
    "\n",
    "# Calculate RMSE for model\n",
    "rmse_2021 = np.sqrt(np.mean((bpr_samples_2021 - actual_values_2021)**2))\n",
    "rmse_2022 = np.sqrt(np.mean((bpr_samples_2022 - actual_values_2022)**2))\n",
    "\n",
    "joint_rmse = np.mean([rmse_2021, rmse_2022])\n",
    "\n",
    "print(f\"Last Year model RMSE for 2021: {rmse_2021:.2f}\")\n",
    "print(f\"Last Year model RMSE for 2022: {rmse_2022:.2f}\")\n",
    "print(f\"Joint RMSE for 2021 and 2022: {joint_rmse:.2f}\")\n",
    "print(\" \")\n",
    "\n",
    "mae_2021_samples = np.mean(np.abs(bpr_samples_2021 - actual_values_2021))\n",
    "mae_2022_samples = np.mean(np.abs(bpr_samples_2022 - actual_values_2022))\n",
    "\n",
    "# Take the average MAE for each year\n",
    "mae_2021 = np.mean(mae_2021_samples)\n",
    "mae_2022 = np.mean(mae_2022_samples)\n",
    "\n",
    "# Calculate the joint MAE (mean of individual MAE values from both years)\n",
    "joint_mae = np.mean([mae_2021, mae_2022])\n",
    "\n",
    "print(f\"Last Year model model MAE for 2021: {mae_2021:.2f}\")\n",
    "print(f\"Last Year model MAE for 2022: {mae_2022:.2f}\")\n",
    "print(f\"Joint MAE for 2021 and 2022: {joint_mae:.2f}\")\n"
   ]
  },
  {
   "cell_type": "markdown",
   "metadata": {},
   "source": [
    "### Historical Average \n",
    "#### lookback = 6 years for cook "
   ]
  },
  {
   "cell_type": "code",
   "execution_count": 19,
   "metadata": {},
   "outputs": [],
   "source": [
    "bpr_over_time_avg_time = models.historical_average_model(multiindexed_gdf, first_test_timestep, last_test_timestep, num_geoids,\n",
    "                     1, 6, bpr_uncertainty_samples=15)"
   ]
  },
  {
   "cell_type": "code",
   "execution_count": 20,
   "metadata": {},
   "outputs": [
    {
     "name": "stdout",
     "output_type": "stream",
     "text": [
      "2021 Average: 0.7771963685743997\n",
      "Historical Average model (Mean, 95% CI): 80.0,\n",
      "      (78.5-\n",
      "       82.3)\n"
     ]
    }
   ],
   "source": [
    "print(f\"2021 Average: {np.mean(bpr_over_time_avg_time[0])}\")\n",
    "\n",
    "bpr_samples_both_years = (np.array(bpr_over_time_avg_time[0]) + \\\n",
    "                          np.array(bpr_over_time_avg_time[1]))/2\n",
    "                        \n",
    "print(f\"\"\"Historical Average model (Mean, 95% CI): {np.mean(bpr_samples_both_years)*100:.1f},\n",
    "      ({np.percentile(bpr_samples_both_years,2.5)*100:.1f}-\n",
    "       {np.percentile(bpr_samples_both_years,97.5)*100:.1f})\"\"\")\n"
   ]
  },
  {
   "cell_type": "code",
   "execution_count": 21,
   "metadata": {},
   "outputs": [
    {
     "name": "stdout",
     "output_type": "stream",
     "text": [
      "Historical Average RMSE for 2021: 2.12\n",
      "Historical Average RMSE for 2022: 2.13\n",
      "Joint RMSE for 2021 and 2022: 2.12\n",
      " \n",
      "Historical Average  MAE for 2021: 1.24\n",
      "Historical Average  MAE for 2022: 1.28\n",
      "Joint MAE for 2021 and 2022: 1.26\n"
     ]
    }
   ],
   "source": [
    "actual_values_2021 = multiindexed_gdf[multiindexed_gdf['year'] == 2021]['deaths'].values\n",
    "actual_values_2022 = multiindexed_gdf[multiindexed_gdf['year'] == 2022]['deaths'].values\n",
    "\n",
    "# Calculate the model predictions \n",
    "bpr_samples_2021 = np.mean(bpr_over_time_avg_time[0])\n",
    "bpr_samples_2022 = np.mean(bpr_over_time_avg_time[1])\n",
    "\n",
    "# Calculate RMSE for model\n",
    "rmse_2021 = np.sqrt(np.mean((bpr_samples_2021 - actual_values_2021)**2))\n",
    "rmse_2022 = np.sqrt(np.mean((bpr_samples_2022 - actual_values_2022)**2))\n",
    "\n",
    "joint_rmse = np.mean([rmse_2021, rmse_2022])\n",
    "\n",
    "print(f\"Historical Average RMSE for 2021: {rmse_2021:.2f}\")\n",
    "print(f\"Historical Average RMSE for 2022: {rmse_2022:.2f}\")\n",
    "print(f\"Joint RMSE for 2021 and 2022: {joint_rmse:.2f}\")\n",
    "print(\" \")\n",
    "\n",
    "mae_2021_samples = np.mean(np.abs(bpr_samples_2021 - actual_values_2021))\n",
    "mae_2022_samples = np.mean(np.abs(bpr_samples_2022 - actual_values_2022))\n",
    "\n",
    "# Take the average MAE for each year\n",
    "mae_2021 = np.mean(mae_2021_samples)\n",
    "mae_2022 = np.mean(mae_2022_samples)\n",
    "\n",
    "# Calculate the joint MAE (mean of individual MAE values from both years)\n",
    "joint_mae = np.mean([mae_2021, mae_2022])\n",
    "\n",
    "print(f\"Historical Average  MAE for 2021: {mae_2021:.2f}\")\n",
    "print(f\"Historical Average  MAE for 2022: {mae_2022:.2f}\")\n",
    "print(f\"Joint MAE for 2021 and 2022: {joint_mae:.2f}\")\n"
   ]
  },
  {
   "cell_type": "markdown",
   "metadata": {},
   "source": [
    "### Weighted Historical Average\n",
    "#### lookback = 6 years (for cook county)"
   ]
  },
  {
   "cell_type": "code",
   "execution_count": 22,
   "metadata": {},
   "outputs": [],
   "source": [
    "# Identical models, features are only difference\n",
    "linear_poisson_weighted_avg = sklearn.linear_model.PoissonRegressor()\n",
    "linear_poisson = sklearn.linear_model.PoissonRegressor()\n",
    "\n",
    "# Params selected via grid search on validation. Need to re-do grid search for chicago\n",
    "hist_poisson =   HistGradientBoostingRegressor(loss=\"poisson\", max_iter=10000, max_depth=3, max_leaf_nodes=2,\n",
    "                                               l2_regularization=1, min_samples_leaf=100 )"
   ]
  },
  {
   "cell_type": "code",
   "execution_count": 23,
   "metadata": {},
   "outputs": [],
   "source": [
    "bpr_over_time_weight_avg = models.scikit_model(multiindexed_gdf, x_BSF_death_only,\n",
    "                                               y_BS_death_only, x_test_BSF_death_only,\n",
    "                                               linear_poisson_weighted_avg,\n",
    "                                               first_test_timestep, last_test_timestep,\n",
    "                                               bpr_uncertainty_samples=20)"
   ]
  },
  {
   "cell_type": "code",
   "execution_count": 24,
   "metadata": {},
   "outputs": [
    {
     "name": "stdout",
     "output_type": "stream",
     "text": [
      "2021 Average: 0.9422205385264247\n",
      "Zeroes model (Mean, 95% CI): 85.7,\n",
      "      (84.0-\n",
      "       86.8)\n"
     ]
    }
   ],
   "source": [
    "print(f\"2021 Average: {np.mean(bpr_over_time_weight_avg[0])}\")\n",
    "\n",
    "bpr_samples_both_years = (np.array(bpr_over_time_weight_avg[0]) + \\\n",
    "                          np.array(bpr_over_time_weight_avg[1]))/2\n",
    "                        \n",
    "print(f\"\"\"Zeroes model (Mean, 95% CI): {np.mean(bpr_samples_both_years)*100:.1f},\n",
    "      ({np.percentile(bpr_samples_both_years,2.5)*100:.1f}-\n",
    "       {np.percentile(bpr_samples_both_years,97.5)*100:.1f})\"\"\")\n"
   ]
  },
  {
   "cell_type": "code",
   "execution_count": 25,
   "metadata": {},
   "outputs": [
    {
     "name": "stdout",
     "output_type": "stream",
     "text": [
      "Weighted Historical Average RMSE for 2021: 2.08\n",
      "Weighted Historical Average RMSE for 2022: 2.14\n",
      "Joint RMSE for 2021 and 2022: 2.11\n",
      " \n",
      "Weighted Historical Average  MAE for 2021: 1.22\n",
      "Weighted Historical Average  MAE for 2022: 1.28\n",
      "Joint MAE for 2021 and 2022: 1.25\n"
     ]
    }
   ],
   "source": [
    "actual_values_2021 = multiindexed_gdf[multiindexed_gdf['year'] == 2021]['deaths'].values\n",
    "actual_values_2022 = multiindexed_gdf[multiindexed_gdf['year'] == 2022]['deaths'].values\n",
    "\n",
    "# Calculate the model predictions \n",
    "bpr_samples_2021 = np.mean(bpr_over_time_weight_avg[0])\n",
    "bpr_samples_2022 = np.mean(bpr_over_time_weight_avg[1])\n",
    "\n",
    "# Calculate RMSE for model\n",
    "rmse_2021 = np.sqrt(np.mean((bpr_samples_2021 - actual_values_2021)**2))\n",
    "rmse_2022 = np.sqrt(np.mean((bpr_samples_2022 - actual_values_2022)**2))\n",
    "\n",
    "joint_rmse = np.mean([rmse_2021, rmse_2022])\n",
    "\n",
    "print(f\"Weighted Historical Average RMSE for 2021: {rmse_2021:.2f}\")\n",
    "print(f\"Weighted Historical Average RMSE for 2022: {rmse_2022:.2f}\")\n",
    "print(f\"Joint RMSE for 2021 and 2022: {joint_rmse:.2f}\")\n",
    "print(\" \")\n",
    "\n",
    "mae_2021_samples = np.mean(np.abs(bpr_samples_2021 - actual_values_2021))\n",
    "mae_2022_samples = np.mean(np.abs(bpr_samples_2022 - actual_values_2022))\n",
    "\n",
    "# Take the average MAE for each year\n",
    "mae_2021 = np.mean(mae_2021_samples)\n",
    "mae_2022 = np.mean(mae_2022_samples)\n",
    "\n",
    "# Calculate the joint MAE (mean of individual MAE values from both years)\n",
    "joint_mae = np.mean([mae_2021, mae_2022])\n",
    "\n",
    "print(f\"Weighted Historical Average  MAE for 2021: {mae_2021:.2f}\")\n",
    "print(f\"Weighted Historical Average  MAE for 2022: {mae_2022:.2f}\")\n",
    "print(f\"Joint MAE for 2021 and 2022: {joint_mae:.2f}\")\n"
   ]
  },
  {
   "cell_type": "markdown",
   "metadata": {},
   "source": [
    "### Linear (Poisson GLM baseline)\n",
    "#### lookback years = 3"
   ]
  },
  {
   "cell_type": "code",
   "execution_count": 26,
   "metadata": {},
   "outputs": [],
   "source": [
    "bpr_over_time_linear = models.scikit_model(multiindexed_gdf, x_BSF,\n",
    "                                               y_BS, x_test_BSF,\n",
    "                                               linear_poisson,\n",
    "                                               first_test_timestep, last_test_timestep,\n",
    "                                               bpr_uncertainty_samples=20)"
   ]
  },
  {
   "cell_type": "code",
   "execution_count": 27,
   "metadata": {},
   "outputs": [
    {
     "name": "stdout",
     "output_type": "stream",
     "text": [
      "2021 Average: 0.9339573086798942\n",
      "Poisson GLM model (Mean, 95% CI): 85.2,\n",
      "      (83.7-\n",
      "       86.9)\n"
     ]
    }
   ],
   "source": [
    "print(f\"2021 Average: {np.mean(bpr_over_time_linear[0])}\")\n",
    "\n",
    "bpr_samples_both_years = (np.array(bpr_over_time_linear[0]) + \\\n",
    "                          np.array(bpr_over_time_linear[1]))/2\n",
    "                        \n",
    "print(f\"\"\"Poisson GLM model (Mean, 95% CI): {np.mean(bpr_samples_both_years)*100:.1f},\n",
    "      ({np.percentile(bpr_samples_both_years,2.5)*100:.1f}-\n",
    "       {np.percentile(bpr_samples_both_years,97.5)*100:.1f})\"\"\")\n"
   ]
  },
  {
   "cell_type": "code",
   "execution_count": 28,
   "metadata": {},
   "outputs": [
    {
     "name": "stdout",
     "output_type": "stream",
     "text": [
      "Linear (Poisson GLM baseline) for 2021: 2.08\n",
      "Linear (Poisson GLM baseline) RMSE for 2022: 2.14\n",
      "Joint RMSE for 2021 and 2022: 2.11\n",
      " \n",
      "Linear (Poisson GLM baseline)  MAE for 2021: 1.22\n",
      "Linear (Poisson GLM baseline)  MAE for 2022: 1.28\n",
      "Joint MAE for 2021 and 2022: 1.25\n"
     ]
    }
   ],
   "source": [
    "actual_values_2021 = multiindexed_gdf[multiindexed_gdf['year'] == 2021]['deaths'].values\n",
    "actual_values_2022 = multiindexed_gdf[multiindexed_gdf['year'] == 2022]['deaths'].values\n",
    "\n",
    "# Calculate the model predictions \n",
    "bpr_samples_2021 = np.mean(bpr_over_time_linear[0])\n",
    "bpr_samples_2022 = np.mean(bpr_over_time_linear[1])\n",
    "\n",
    "# Calculate RMSE for model\n",
    "rmse_2021 = np.sqrt(np.mean((bpr_samples_2021 - actual_values_2021)**2))\n",
    "rmse_2022 = np.sqrt(np.mean((bpr_samples_2022 - actual_values_2022)**2))\n",
    "\n",
    "joint_rmse = np.mean([rmse_2021, rmse_2022])\n",
    "\n",
    "print(f\"Linear (Poisson GLM baseline) for 2021: {rmse_2021:.2f}\")\n",
    "print(f\"Linear (Poisson GLM baseline) RMSE for 2022: {rmse_2022:.2f}\")\n",
    "print(f\"Joint RMSE for 2021 and 2022: {joint_rmse:.2f}\")\n",
    "print(\" \")\n",
    "\n",
    "mae_2021_samples = np.mean(np.abs(bpr_samples_2021 - actual_values_2021))\n",
    "mae_2022_samples = np.mean(np.abs(bpr_samples_2022 - actual_values_2022))\n",
    "\n",
    "# Take the average MAE for each year\n",
    "mae_2021 = np.mean(mae_2021_samples)\n",
    "mae_2022 = np.mean(mae_2022_samples)\n",
    "\n",
    "# Calculate the joint MAE (mean of individual MAE values from both years)\n",
    "joint_mae = np.mean([mae_2021, mae_2022])\n",
    "\n",
    "print(f\"Linear (Poisson GLM baseline)  MAE for 2021: {mae_2021:.2f}\")\n",
    "print(f\"Linear (Poisson GLM baseline)  MAE for 2022: {mae_2022:.2f}\")\n",
    "print(f\"Joint MAE for 2021 and 2022: {joint_mae:.2f}\")\n"
   ]
  },
  {
   "cell_type": "markdown",
   "metadata": {},
   "source": [
    "### Gradient Boosted Trees (Poisson)\n",
    "#### lookback years = 3 "
   ]
  },
  {
   "cell_type": "code",
   "execution_count": 29,
   "metadata": {},
   "outputs": [],
   "source": [
    "bpr_over_time_tree = models.scikit_model(multiindexed_gdf, x_BSF,\n",
    "                                               y_BS, x_test_BSF,\n",
    "                                               hist_poisson,\n",
    "                                               first_test_timestep, last_test_timestep,\n",
    "                                               bpr_uncertainty_samples=20)"
   ]
  },
  {
   "cell_type": "code",
   "execution_count": 30,
   "metadata": {},
   "outputs": [
    {
     "name": "stdout",
     "output_type": "stream",
     "text": [
      "2021 Average: 0.824183264526769\n",
      "Gradient Boosted Trees (Poisson) (Mean, 95% CI): 76.8,\n",
      "      (74.8-\n",
      "       78.5)\n"
     ]
    }
   ],
   "source": [
    "print(f\"2021 Average: {np.mean(bpr_over_time_tree[0])}\")\n",
    "\n",
    "bpr_samples_both_years = (np.array(bpr_over_time_tree[0]) + \\\n",
    "                          np.array(bpr_over_time_tree[1]))/2\n",
    "                        \n",
    "print(f\"\"\"Gradient Boosted Trees (Poisson) (Mean, 95% CI): {np.mean(bpr_samples_both_years)*100:.1f},\n",
    "      ({np.percentile(bpr_samples_both_years,2.5)*100:.1f}-\n",
    "       {np.percentile(bpr_samples_both_years,97.5)*100:.1f})\"\"\")\n"
   ]
  },
  {
   "cell_type": "code",
   "execution_count": 31,
   "metadata": {},
   "outputs": [
    {
     "name": "stdout",
     "output_type": "stream",
     "text": [
      "Gradient Boosted Trees (Poisson) RMSE for 2021: 2.10\n",
      "Gradient Boosted Trees (Poisson) RMSE for 2022: 2.16\n",
      "Joint RMSE for 2021 and 2022: 2.13\n",
      " \n",
      "Gradient Boosted Trees (Poisson)  MAE for 2021: 1.23\n",
      "Gradient Boosted Trees (Poisson)  MAE for 2022: 1.29\n",
      "Joint MAE for 2021 and 2022: 1.26\n"
     ]
    }
   ],
   "source": [
    "actual_values_2021 = multiindexed_gdf[multiindexed_gdf['year'] == 2021]['deaths'].values\n",
    "actual_values_2022 = multiindexed_gdf[multiindexed_gdf['year'] == 2022]['deaths'].values\n",
    "\n",
    "# Calculate the model predictions \n",
    "bpr_samples_2021 = np.mean(bpr_over_time_tree[0])\n",
    "bpr_samples_2022 = np.mean(bpr_over_time_tree[1])\n",
    "\n",
    "# Calculate RMSE for model\n",
    "rmse_2021 = np.sqrt(np.mean((bpr_samples_2021 - actual_values_2021)**2))\n",
    "rmse_2022 = np.sqrt(np.mean((bpr_samples_2022 - actual_values_2022)**2))\n",
    "\n",
    "joint_rmse = np.mean([rmse_2021, rmse_2022])\n",
    "\n",
    "print(f\"Gradient Boosted Trees (Poisson) RMSE for 2021: {rmse_2021:.2f}\")\n",
    "print(f\"Gradient Boosted Trees (Poisson) RMSE for 2022: {rmse_2022:.2f}\")\n",
    "print(f\"Joint RMSE for 2021 and 2022: {joint_rmse:.2f}\")\n",
    "print(\" \")\n",
    "\n",
    "mae_2021_samples = np.mean(np.abs(bpr_samples_2021 - actual_values_2021))\n",
    "mae_2022_samples = np.mean(np.abs(bpr_samples_2022 - actual_values_2022))\n",
    "\n",
    "# Take the average MAE for each year\n",
    "mae_2021 = np.mean(mae_2021_samples)\n",
    "mae_2022 = np.mean(mae_2022_samples)\n",
    "\n",
    "# Calculate the joint MAE (mean of individual MAE values from both years)\n",
    "joint_mae = np.mean([mae_2021, mae_2022])\n",
    "\n",
    "print(f\"Gradient Boosted Trees (Poisson)  MAE for 2021: {mae_2021:.2f}\")\n",
    "print(f\"Gradient Boosted Trees (Poisson)  MAE for 2022: {mae_2022:.2f}\")\n",
    "print(f\"Joint MAE for 2021 and 2022: {joint_mae:.2f}\")\n"
   ]
  },
  {
   "cell_type": "markdown",
   "metadata": {},
   "source": [
    "### CASTNet\n",
    "#### 3 lookback years"
   ]
  },
  {
   "cell_type": "code",
   "execution_count": 21,
   "metadata": {},
   "outputs": [],
   "source": [
    "# Call the castnet_model function to calculate BPR for CASTNet predictions\n",
    "bpr_results_castnet = models.castnet_model(multiindexed_gdf, first_test_timestep, last_test_timestep, \n",
    "                        num_geoids, bpr_uncertainty_samples=50)"
   ]
  },
  {
   "cell_type": "code",
   "execution_count": 19,
   "metadata": {},
   "outputs": [
    {
     "name": "stdout",
     "output_type": "stream",
     "text": [
      "2021 Average: 0.0\n",
      "CASTNet model (Mean, 95% CI): 0.0,\n",
      "      (0.0-\n",
      "       0.0)\n"
     ]
    }
   ],
   "source": [
    "print(f\"2021 Average: {np.mean(bpr_results_castnet[0])}\")\n",
    "\n",
    "bpr_samples_both_years = (np.array(bpr_results_castnet[0]) + \\\n",
    "                          np.array(bpr_results_castnet[1]))/2\n",
    "                        \n",
    "print(f\"\"\"CASTNet model (Mean, 95% CI): {np.mean(bpr_samples_both_years)*100:.1f},\n",
    "      ({np.percentile(bpr_samples_both_years,2.5)*100:.1f}-\n",
    "       {np.percentile(bpr_samples_both_years,97.5)*100:.1f})\"\"\")"
   ]
  },
  {
   "cell_type": "code",
   "execution_count": 41,
   "metadata": {},
   "outputs": [
    {
     "name": "stdout",
     "output_type": "stream",
     "text": [
      "CASTNet RMSE for 2021: 2.07\n",
      "CASTNet RMSE for 2022: 2.14\n",
      "Joint RMSE for 2021 and 2022: 2.11\n",
      " \n",
      "CASTNet  MAE for 2021: 1.21\n",
      "CASTNet  MAE for 2022: 1.28\n",
      "Joint MAE for 2021 and 2022: 1.25\n"
     ]
    }
   ],
   "source": [
    "actual_values_2021 = multiindexed_gdf[multiindexed_gdf['year'] == 2021]['deaths'].values\n",
    "actual_values_2022 = multiindexed_gdf[multiindexed_gdf['year'] == 2022]['deaths'].values\n",
    "\n",
    "# Calculate the model predictions \n",
    "bpr_samples_2021 = np.mean(bpr_results_castnet[0])\n",
    "bpr_samples_2022 = np.mean(bpr_results_castnet[1])\n",
    "\n",
    "# Calculate RMSE for model\n",
    "rmse_2021 = np.sqrt(np.mean((bpr_samples_2021 - actual_values_2021)**2))\n",
    "rmse_2022 = np.sqrt(np.mean((bpr_samples_2022 - actual_values_2022)**2))\n",
    "\n",
    "joint_rmse = np.mean([rmse_2021, rmse_2022])\n",
    "\n",
    "print(f\"CASTNet RMSE for 2021: {rmse_2021:.2f}\")\n",
    "print(f\"CASTNet RMSE for 2022: {rmse_2022:.2f}\")\n",
    "print(f\"Joint RMSE for 2021 and 2022: {joint_rmse:.2f}\")\n",
    "print(\" \")\n",
    "\n",
    "mae_2021_samples = np.mean(np.abs(bpr_samples_2021 - actual_values_2021))\n",
    "mae_2022_samples = np.mean(np.abs(bpr_samples_2022 - actual_values_2022))\n",
    "\n",
    "# Take the average MAE for each year\n",
    "mae_2021 = np.mean(mae_2021_samples)\n",
    "mae_2022 = np.mean(mae_2022_samples)\n",
    "\n",
    "# Calculate the joint MAE (mean of individual MAE values from both years)\n",
    "joint_mae = np.mean([mae_2021, mae_2022])\n",
    "\n",
    "print(f\"CASTNet  MAE for 2021: {mae_2021:.2f}\")\n",
    "print(f\"CASTNet  MAE for 2022: {mae_2022:.2f}\")\n",
    "print(f\"Joint MAE for 2021 and 2022: {joint_mae:.2f}\")\n"
   ]
  },
  {
   "cell_type": "markdown",
   "metadata": {},
   "source": []
  }
 ],
 "metadata": {
  "kernelspec": {
   "display_name": "Python 3",
   "language": "python",
   "name": "python3"
  },
  "language_info": {
   "codemirror_mode": {
    "name": "ipython",
    "version": 3
   },
   "file_extension": ".py",
   "mimetype": "text/x-python",
   "name": "python",
   "nbconvert_exporter": "python",
   "pygments_lexer": "ipython3",
   "version": "3.9.6"
  },
  "orig_nbformat": 4
 },
 "nbformat": 4,
 "nbformat_minor": 2
}
