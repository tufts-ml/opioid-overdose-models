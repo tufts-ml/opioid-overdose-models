{
 "cells": [
  {
   "cell_type": "code",
   "execution_count": 19,
   "metadata": {},
   "outputs": [
    {
     "name": "stdout",
     "output_type": "stream",
     "text": [
      "The autoreload extension is already loaded. To reload it, use:\n",
      "  %reload_ext autoreload\n"
     ]
    }
   ],
   "source": [
    "%load_ext autoreload\n",
    "%autoreload 2\n",
    "import geopandas as gpd\n",
    "import numpy as np\n",
    "import pandas as pd\n",
    "import os\n",
    "import sklearn\n",
    "from sklearn.linear_model import LinearRegression\n",
    "from sklearn.ensemble import HistGradientBoostingRegressor\n",
    "\n",
    "# local import\n",
    "from make_datasets import make_data\n",
    "import models"
   ]
  },
  {
   "cell_type": "code",
   "execution_count": 20,
   "metadata": {},
   "outputs": [],
   "source": [
    "%store -r gdf_annual_with_svi\n",
    "%store -r gdf_quarter_with_svi\n",
    "%store -r gdf_semi_with_svi\n",
    "\n",
    "data_gdf = gdf_annual_with_svi"
   ]
  },
  {
   "cell_type": "markdown",
   "metadata": {},
   "source": [
    "Process dataframe into a data frame with a Multiindex on location and time"
   ]
  },
  {
   "cell_type": "code",
   "execution_count": 30,
   "metadata": {},
   "outputs": [],
   "source": [
    "# Name the important columns\n",
    "timestep_col = 'timestep'\n",
    "geography_col = 'geoid'\n",
    "outcome_col = 'deaths'\n",
    "\n",
    "# These are the columns we could possibly want in the X dataframe\n",
    "x_idx_cols = [geography_col, 'lat', 'lon', timestep_col,\n",
    "              'theme_1_pc', 'theme_2_pc', 'theme_3_pc', 'theme_4_pc',\n",
    "              'svi_pctile', 'year',\n",
    "              'neighbor_t', 'deaths']\n",
    "\n",
    "# These are the columns we could want in the Y dataframe\n",
    "y_idx_cols = [geography_col, timestep_col, outcome_col]\n",
    "\n",
    "# These are the features we want\n",
    "features_only = ['deaths']\n",
    "add_spacetime = True\n",
    "add_svi = True\n",
    "if add_spacetime:\n",
    "    features_only += ['lat', 'lon', timestep_col]\n",
    "if add_svi:\n",
    "    features_only += ['theme_1_pc', 'theme_2_pc', 'theme_3_pc', 'theme_4_pc', 'svi_pctile']\n",
    "\n",
    "\n",
    "# #jyontika's parameters\n",
    "validation_year = 2020\n",
    "first_test_year = 2021\n",
    "last_test_year = 2022\n",
    "first_test_timestep = 7\n",
    "last_test_timestep = 8\n",
    "lookback_years= 5\n",
    "first_train_eval_year = validation_year - lookback_years #2015\n",
    "last_train_eval_year = validation_year -1 #2019\n",
    "\n",
    "#when lookback_years=6, train_x_df is empty\n"
   ]
  },
  {
   "cell_type": "code",
   "execution_count": 31,
   "metadata": {},
   "outputs": [],
   "source": [
    "# Create the multiindex\n",
    "multiindexed_gdf = data_gdf.set_index([geography_col, timestep_col])\n",
    "\n",
    "# re-add the timestep column as a feature because it's useful\n",
    "multiindexed_gdf[timestep_col] = multiindexed_gdf.index.get_level_values(timestep_col)\n",
    "\n",
    "# Track number of locations\n",
    "num_geoids = len(data_gdf[geography_col].unique())"
   ]
  },
  {
   "cell_type": "code",
   "execution_count": 32,
   "metadata": {},
   "outputs": [
    {
     "name": "stdout",
     "output_type": "stream",
     "text": [
      "5\n",
      "1328\n",
      "9\n"
     ]
    }
   ],
   "source": [
    "print(lookback_years)\n",
    "print(num_geoids)\n",
    "print(len(features_only))"
   ]
  },
  {
   "cell_type": "code",
   "execution_count": 34,
   "metadata": {},
   "outputs": [
    {
     "name": "stdout",
     "output_type": "stream",
     "text": [
      "(1328, 9)\n",
      "                      deaths          lat           lon  timestep  theme_1_pc  \\\n",
      "geoid       timestep                                                            \n",
      "17031010100 1              1  +42.0212553  -087.6698301         1      0.6378   \n",
      "17031010201 1              0  +42.0160077  -087.6801484         1      0.7707   \n",
      "17031010202 1              0  +42.0160476  -087.6733256         1      0.7646   \n",
      "17031010300 1              0  +42.0159431  -087.6665393         1      0.6618   \n",
      "17031010400 1              0  +42.0064109  -087.6588157         1      0.4746   \n",
      "...                      ...          ...           ...       ...         ...   \n",
      "17031843700 1              0  +41.9455604  -087.6900340         1      0.1651   \n",
      "17031843800 1              1  +41.8016566  -087.6404756         1      0.9599   \n",
      "17031843900 1              0  +41.7789932  -087.5761303         1      0.7877   \n",
      "17031844600 1              0  +41.8133852  -087.6254437         1      0.6935   \n",
      "17031844700 1              0  +41.8541473  -087.7117002         1      0.9499   \n",
      "\n",
      "                      theme_2_pc  theme_3_pc  theme_4_pc  svi_pctile  \n",
      "geoid       timestep                                                  \n",
      "17031010100 1             0.2641      0.6045      0.9189      0.7026  \n",
      "17031010201 1             0.3987      0.8833      0.9314      0.8632  \n",
      "17031010202 1             0.7208      0.8571      0.9788      0.9399  \n",
      "17031010300 1             0.2157      0.8782      0.9804      0.8076  \n",
      "17031010400 1             0.0417      0.5603      0.9978      0.6101  \n",
      "...                          ...         ...         ...         ...  \n",
      "17031843700 1             0.1455      0.6526      0.5776      0.3096  \n",
      "17031843800 1             0.8000      0.8497      0.4641      0.8799  \n",
      "17031843900 1             0.8407      0.7619      0.8792      0.9030  \n",
      "17031844600 1             0.5114      0.9146      0.7030      0.7340  \n",
      "17031844700 1             0.6778      0.9103      0.9653      0.9760  \n",
      "\n",
      "[1328 rows x 9 columns]\n"
     ]
    },
    {
     "ename": "ValueError",
     "evalue": "cannot reshape array of size 11952 into shape (1328,5,9)",
     "output_type": "error",
     "traceback": [
      "\u001b[0;31m---------------------------------------------------------------------------\u001b[0m",
      "\u001b[0;31mValueError\u001b[0m                                Traceback (most recent call last)",
      "Cell \u001b[0;32mIn[34], line 1\u001b[0m\n\u001b[0;32m----> 1\u001b[0m x_BSF, y_BS \u001b[39m=\u001b[39m make_data(multiindexed_gdf, first_train_eval_year, last_train_eval_year, lookback_years,\n\u001b[1;32m      2\u001b[0m           features_only, num_geoids)\n\u001b[1;32m      3\u001b[0m x_test_BSF, y_test_BS \u001b[39m=\u001b[39m make_data(multiindexed_gdf, first_test_year, last_test_year, lookback_years,\n\u001b[1;32m      4\u001b[0m           features_only, num_geoids)\n\u001b[1;32m      6\u001b[0m \u001b[39m# For the weighted historical average model, we only use deaths as features\u001b[39;00m\n",
      "File \u001b[0;32m~/Desktop/Python/GitHub/opioid-overdose-models/cook-county/cook-county-experiment-runner/make_datasets.py:48\u001b[0m, in \u001b[0;36mmake_data\u001b[0;34m(multiindexed_gdf, first_year, last_year, time_window, feature_cols, num_locations, pred_lag, timesteps_per_year, year_col, timestep_col, death_col)\u001b[0m\n\u001b[1;32m     46\u001b[0m \u001b[39mprint\u001b[39m(train_x_df\u001b[39m.\u001b[39mvalues\u001b[39m.\u001b[39mshape)\n\u001b[1;32m     47\u001b[0m \u001b[39mprint\u001b[39m(train_x_df)\n\u001b[0;32m---> 48\u001b[0m train_x_vals \u001b[39m=\u001b[39m train_x_df\u001b[39m.\u001b[39;49mvalues\u001b[39m.\u001b[39;49mreshape((num_locations, time_window, \u001b[39mlen\u001b[39;49m(feature_cols)))\n\u001b[1;32m     50\u001b[0m \u001b[39m# Our y data is just the index and deaths\u001b[39;00m\n\u001b[1;32m     51\u001b[0m train_y_df \u001b[39m=\u001b[39m multiindexed_gdf\u001b[39m.\u001b[39mloc[idx[:, timestep], death_col]\n",
      "\u001b[0;31mValueError\u001b[0m: cannot reshape array of size 11952 into shape (1328,5,9)"
     ]
    }
   ],
   "source": [
    "x_BSF, y_BS = make_data(multiindexed_gdf, first_train_eval_year, last_train_eval_year, lookback_years,\n",
    "          features_only, num_geoids)\n",
    "x_test_BSF, y_test_BS = make_data(multiindexed_gdf, first_test_year, last_test_year, lookback_years,\n",
    "          features_only, num_geoids)\n",
    "          \n",
    "# For the weighted historical average model, we only use deaths as features\n",
    "x_BSF_death_only, y_BS_death_only = make_data(multiindexed_gdf, first_train_eval_year, last_train_eval_year, lookback_years,\n",
    "          ['deaths'], num_geoids)\n",
    "x_test_BSF_death_only, y_test_BS_death_only =make_data(multiindexed_gdf, first_test_year, last_test_year, lookback_years,\n",
    "          ['deaths'], num_geoids)"
   ]
  },
  {
   "cell_type": "code",
   "execution_count": null,
   "metadata": {},
   "outputs": [
    {
     "data": {
      "text/plain": [
       "TensorShape([3, 1328, 27])"
      ]
     },
     "execution_count": 79,
     "metadata": {},
     "output_type": "execute_result"
    }
   ],
   "source": [
    "x_BSF.shape"
   ]
  },
  {
   "cell_type": "code",
   "execution_count": null,
   "metadata": {},
   "outputs": [
    {
     "data": {
      "text/plain": [
       "TensorShape([3, 1328])"
      ]
     },
     "execution_count": 80,
     "metadata": {},
     "output_type": "execute_result"
    }
   ],
   "source": [
    "y_BS.shape"
   ]
  },
  {
   "cell_type": "markdown",
   "metadata": {},
   "source": [
    "### All Zeroes Model\n",
    "#### lookback years =2"
   ]
  },
  {
   "cell_type": "code",
   "execution_count": null,
   "metadata": {},
   "outputs": [],
   "source": [
    "bpr_over_time_zeroes = models.all_zeroes_model(multiindexed_gdf,\n",
    "                                        first_test_timestep, last_test_timestep,\n",
    "                                        num_geoids, bpr_uncertainty_samples=15)"
   ]
  },
  {
   "cell_type": "code",
   "execution_count": null,
   "metadata": {},
   "outputs": [
    {
     "name": "stdout",
     "output_type": "stream",
     "text": [
      "2021 Average: 0.22466870072882308\n",
      "Zeroes model (Mean, 95% CI): 22.1,\n",
      "      (21.7-\n",
      "       22.9)\n"
     ]
    }
   ],
   "source": [
    "print(f\"2021 Average: {np.mean(bpr_over_time_zeroes[0])}\")\n",
    "\n",
    "bpr_samples_both_years = (np.array(bpr_over_time_zeroes[0]) + \\\n",
    "                          np.array(bpr_over_time_zeroes[1]))/2\n",
    "                        \n",
    "print(f\"\"\"Zeroes model (Mean, 95% CI): {np.mean(bpr_samples_both_years)*100:.1f},\n",
    "      ({np.percentile(bpr_samples_both_years,2.5)*100:.1f}-\n",
    "       {np.percentile(bpr_samples_both_years,97.5)*100:.1f})\"\"\")\n"
   ]
  },
  {
   "cell_type": "markdown",
   "metadata": {},
   "source": [
    "### Last Year\n",
    "#### lookback = 1 year"
   ]
  },
  {
   "cell_type": "code",
   "execution_count": null,
   "metadata": {},
   "outputs": [],
   "source": [
    "bpr_over_time_last_time = models.last_time_model(multiindexed_gdf, first_test_timestep, last_test_timestep, num_geoids,\n",
    "                     1,bpr_uncertainty_samples=15,)"
   ]
  },
  {
   "cell_type": "code",
   "execution_count": null,
   "metadata": {},
   "outputs": [
    {
     "name": "stdout",
     "output_type": "stream",
     "text": [
      "2021 Average: 0.6975304155959587\n",
      "Zeroes model (Mean, 95% CI): 71.4,\n",
      "      (69.8-\n",
      "       73.2)\n"
     ]
    }
   ],
   "source": [
    "print(f\"2021 Average: {np.mean(bpr_over_time_last_time[0])}\")\n",
    "\n",
    "bpr_samples_both_years = (np.array(bpr_over_time_last_time[0]) + \\\n",
    "                          np.array(bpr_over_time_last_time[1]))/2\n",
    "                        \n",
    "print(f\"\"\"Zeroes model (Mean, 95% CI): {np.mean(bpr_samples_both_years)*100:.1f},\n",
    "      ({np.percentile(bpr_samples_both_years,2.5)*100:.1f}-\n",
    "       {np.percentile(bpr_samples_both_years,97.5)*100:.1f})\"\"\")\n"
   ]
  },
  {
   "cell_type": "markdown",
   "metadata": {},
   "source": [
    "### Historical Average \n",
    "#### lookback = 7 years"
   ]
  },
  {
   "cell_type": "code",
   "execution_count": null,
   "metadata": {},
   "outputs": [],
   "source": [
    "bpr_over_time_avg_time = models.historical_average_model(multiindexed_gdf, first_test_timestep, last_test_timestep, num_geoids,\n",
    "                     1, 7, bpr_uncertainty_samples=1,)"
   ]
  },
  {
   "cell_type": "code",
   "execution_count": null,
   "metadata": {},
   "outputs": [
    {
     "name": "stdout",
     "output_type": "stream",
     "text": [
      "2021 Average: 0.7729276672694394\n",
      "Zeroes model (Mean, 95% CI): 80.3,\n",
      "      (80.3-\n",
      "       80.3)\n"
     ]
    }
   ],
   "source": [
    "print(f\"2021 Average: {np.mean(bpr_over_time_avg_time[0])}\")\n",
    "\n",
    "bpr_samples_both_years = (np.array(bpr_over_time_avg_time[0]) + \\\n",
    "                          np.array(bpr_over_time_avg_time[1]))/2\n",
    "                        \n",
    "print(f\"\"\"Zeroes model (Mean, 95% CI): {np.mean(bpr_samples_both_years)*100:.1f},\n",
    "      ({np.percentile(bpr_samples_both_years,2.5)*100:.1f}-\n",
    "       {np.percentile(bpr_samples_both_years,97.5)*100:.1f})\"\"\")\n"
   ]
  },
  {
   "cell_type": "markdown",
   "metadata": {},
   "source": [
    "### Weighted Historical Average\n",
    "#### lookback = 7 years"
   ]
  },
  {
   "cell_type": "code",
   "execution_count": null,
   "metadata": {},
   "outputs": [],
   "source": [
    "# Identical models, features are only difference\n",
    "linear_poisson_weighted_avg = sklearn.linear_model.PoissonRegressor()\n",
    "linear_poisson = sklearn.linear_model.PoissonRegressor()\n",
    "\n",
    "# Params selected via grid search on validation. Need to re-do grid search for chicago\n",
    "hist_poisson =   HistGradientBoostingRegressor(loss=\"poisson\", max_iter=10000, max_depth=3, max_leaf_nodes=2,\n",
    "                                               l2_regularization=1, min_samples_leaf=100 )"
   ]
  },
  {
   "cell_type": "code",
   "execution_count": null,
   "metadata": {},
   "outputs": [],
   "source": [
    "bpr_over_time_weight_avg = models.scikit_model(multiindexed_gdf, x_BSF_death_only,\n",
    "                                               y_BS_death_only, x_test_BSF_death_only,\n",
    "                                               linear_poisson_weighted_avg,\n",
    "                                               first_test_timestep, last_test_timestep,\n",
    "                                               bpr_uncertainty_samples=5)"
   ]
  },
  {
   "cell_type": "code",
   "execution_count": null,
   "metadata": {},
   "outputs": [
    {
     "name": "stdout",
     "output_type": "stream",
     "text": [
      "2021 Average: 0.9459813905206289\n",
      "Zeroes model (Mean, 95% CI): 85.8,\n",
      "      (85.1-\n",
      "       86.6)\n"
     ]
    }
   ],
   "source": [
    "print(f\"2021 Average: {np.mean(bpr_over_time_weight_avg[0])}\")\n",
    "\n",
    "bpr_samples_both_years = (np.array(bpr_over_time_weight_avg[0]) + \\\n",
    "                          np.array(bpr_over_time_weight_avg[1]))/2\n",
    "                        \n",
    "print(f\"\"\"Zeroes model (Mean, 95% CI): {np.mean(bpr_samples_both_years)*100:.1f},\n",
    "      ({np.percentile(bpr_samples_both_years,2.5)*100:.1f}-\n",
    "       {np.percentile(bpr_samples_both_years,97.5)*100:.1f})\"\"\")\n"
   ]
  },
  {
   "cell_type": "markdown",
   "metadata": {},
   "source": [
    "### Linear (Poisson GLM baseline)\n",
    "#### lookback years = ?"
   ]
  },
  {
   "cell_type": "code",
   "execution_count": null,
   "metadata": {},
   "outputs": [],
   "source": [
    "bpr_over_time_linear = models.scikit_model(multiindexed_gdf, x_BSF,\n",
    "                                               y_BS, x_test_BSF,\n",
    "                                               linear_poisson,\n",
    "                                               first_test_timestep, last_test_timestep,\n",
    "                                               bpr_uncertainty_samples=5)"
   ]
  },
  {
   "cell_type": "code",
   "execution_count": null,
   "metadata": {},
   "outputs": [
    {
     "name": "stdout",
     "output_type": "stream",
     "text": [
      "2021 Average: 0.9344524044634802\n",
      "Zeroes model (Mean, 95% CI): 85.0,\n",
      "      (83.9-\n",
      "       85.8)\n"
     ]
    }
   ],
   "source": [
    "print(f\"2021 Average: {np.mean(bpr_over_time_linear[0])}\")\n",
    "\n",
    "bpr_samples_both_years = (np.array(bpr_over_time_linear[0]) + \\\n",
    "                          np.array(bpr_over_time_linear[1]))/2\n",
    "                        \n",
    "print(f\"\"\"Zeroes model (Mean, 95% CI): {np.mean(bpr_samples_both_years)*100:.1f},\n",
    "      ({np.percentile(bpr_samples_both_years,2.5)*100:.1f}-\n",
    "       {np.percentile(bpr_samples_both_years,97.5)*100:.1f})\"\"\")\n"
   ]
  },
  {
   "cell_type": "markdown",
   "metadata": {},
   "source": [
    "### Gradient Boosted Trees (Poisson)\n",
    "#### lookback years = ?"
   ]
  },
  {
   "cell_type": "code",
   "execution_count": null,
   "metadata": {},
   "outputs": [],
   "source": [
    "bpr_over_time_tree = models.scikit_model(multiindexed_gdf, x_BSF,\n",
    "                                               y_BS, x_test_BSF,\n",
    "                                               hist_poisson,\n",
    "                                               first_test_timestep, last_test_timestep,\n",
    "                                               bpr_uncertainty_samples=5)"
   ]
  },
  {
   "cell_type": "code",
   "execution_count": null,
   "metadata": {},
   "outputs": [
    {
     "name": "stdout",
     "output_type": "stream",
     "text": [
      "2021 Average: 0.8185811251912039\n",
      "Zeroes model (Mean, 95% CI): 75.9,\n",
      "      (74.5-\n",
      "       77.2)\n"
     ]
    }
   ],
   "source": [
    "print(f\"2021 Average: {np.mean(bpr_over_time_tree[0])}\")\n",
    "\n",
    "bpr_samples_both_years = (np.array(bpr_over_time_tree[0]) + \\\n",
    "                          np.array(bpr_over_time_tree[1]))/2\n",
    "                        \n",
    "print(f\"\"\"Zeroes model (Mean, 95% CI): {np.mean(bpr_samples_both_years)*100:.1f},\n",
    "      ({np.percentile(bpr_samples_both_years,2.5)*100:.1f}-\n",
    "       {np.percentile(bpr_samples_both_years,97.5)*100:.1f})\"\"\")\n"
   ]
  }
 ],
 "metadata": {
  "kernelspec": {
   "display_name": "Python 3",
   "language": "python",
   "name": "python3"
  },
  "language_info": {
   "codemirror_mode": {
    "name": "ipython",
    "version": 3
   },
   "file_extension": ".py",
   "mimetype": "text/x-python",
   "name": "python",
   "nbconvert_exporter": "python",
   "pygments_lexer": "ipython3",
   "version": "3.9.6"
  },
  "orig_nbformat": 4
 },
 "nbformat": 4,
 "nbformat_minor": 2
}
