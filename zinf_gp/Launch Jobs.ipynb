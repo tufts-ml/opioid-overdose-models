{
 "cells": [
  {
   "cell_type": "code",
   "execution_count": 1,
   "id": "60f35ea4",
   "metadata": {},
   "outputs": [
    {
     "name": "stderr",
     "output_type": "stream",
     "text": [
      "2022-09-23 02:32:20.465367: I tensorflow/core/platform/cpu_feature_guard.cc:193] This TensorFlow binary is optimized with oneAPI Deep Neural Network Library (oneDNN) to use the following CPU instructions in performance-critical operations:  AVX2 AVX512F AVX512_VNNI FMA\n",
      "To enable them in other operations, rebuild TensorFlow with the appropriate compiler flags.\n",
      "2022-09-23 02:32:20.582636: I tensorflow/core/util/util.cc:169] oneDNN custom operations are on. You may see slightly different numerical results due to floating-point round-off errors from different computation orders. To turn them off, set the environment variable `TF_ENABLE_ONEDNN_OPTS=0`.\n",
      "2022-09-23 02:32:20.588589: W tensorflow/stream_executor/platform/default/dso_loader.cc:64] Could not load dynamic library 'libcudart.so.11.0'; dlerror: libcudart.so.11.0: cannot open shared object file: No such file or directory\n",
      "2022-09-23 02:32:20.588603: I tensorflow/stream_executor/cuda/cudart_stub.cc:29] Ignore above cudart dlerror if you do not have a GPU set up on your machine.\n",
      "2022-09-23 02:32:20.618884: E tensorflow/stream_executor/cuda/cuda_blas.cc:2981] Unable to register cuBLAS factory: Attempting to register factory for plugin cuBLAS when one has already been registered\n",
      "2022-09-23 02:32:21.933880: W tensorflow/stream_executor/platform/default/dso_loader.cc:64] Could not load dynamic library 'libnvinfer.so.7'; dlerror: libnvinfer.so.7: cannot open shared object file: No such file or directory\n",
      "2022-09-23 02:32:21.933946: W tensorflow/stream_executor/platform/default/dso_loader.cc:64] Could not load dynamic library 'libnvinfer_plugin.so.7'; dlerror: libnvinfer_plugin.so.7: cannot open shared object file: No such file or directory\n",
      "2022-09-23 02:32:21.933954: W tensorflow/compiler/tf2tensorrt/utils/py_utils.cc:38] TF-TRT Warning: Cannot dlopen some TensorRT libraries. If you would like to use Nvidia GPU with TensorRT, please make sure the missing libraries mentioned above are installed properly.\n"
     ]
    }
   ],
   "source": [
    "%load_ext autoreload\n",
    "%autoreload 2\n",
    "\n",
    "import numpy as np\n",
    "import tensorflow as tf\n",
    "\n",
    "import sys\n",
    "code_dir = '/cluster/home/kheuto01/code/zero-inflated-gp/'\n",
    "sys.path.append(code_dir)\n",
    "\n",
    "import os\n",
    "import subprocess\n",
    "import pandas as pd\n",
    "import numpy as np"
   ]
  },
  {
   "cell_type": "code",
   "execution_count": null,
   "id": "8f8fe643",
   "metadata": {},
   "outputs": [],
   "source": []
  },
  {
   "cell_type": "code",
   "execution_count": 2,
   "id": "e050722e",
   "metadata": {},
   "outputs": [],
   "source": [
    "time='qtr'\n",
    "data_dir='/cluster/tufts/hugheslab/datasets/NSF_OD/'\n",
    "\n",
    "out_dir='/cluster/home/kheuto01/test/'\n"
   ]
  },
  {
   "cell_type": "code",
   "execution_count": 3,
   "id": "def57207",
   "metadata": {},
   "outputs": [
    {
     "name": "stdout",
     "output_type": "stream",
     "text": [
      "Submitted batch job 40538628\n",
      "Submitted batch job 40538629\n",
      "Submitted batch job 40538630\n",
      "Submitted batch job 40538631\n",
      "Submitted batch job 40538632\n",
      "Submitted batch job 40538633\n",
      "Submitted batch job 40538634\n",
      "Submitted batch job 40538635\n",
      "Submitted batch job 40538636\n",
      "Submitted batch job 40538637\n",
      "Submitted batch job 40538638\n",
      "Submitted batch job 40538639\n",
      "Submitted batch job 40538640\n",
      "Submitted batch job 40538641\n",
      "Submitted batch job 40538642\n",
      "Submitted batch job 40538643\n",
      "Submitted batch job 40538644\n",
      "Submitted batch job 40538645\n",
      "Submitted batch job 40538646\n",
      "Submitted batch job 40538647\n",
      "Submitted batch job 40538648\n",
      "Submitted batch job 40538649\n",
      "Submitted batch job 40538650\n",
      "Submitted batch job 40538651\n",
      "Submitted batch job 40538652\n",
      "Submitted batch job 40538653\n",
      "Submitted batch job 40538654\n",
      "Submitted batch job 40538655\n",
      "Submitted batch job 40538656\n",
      "Submitted batch job 40538657\n",
      "Submitted batch job 40538658\n",
      "Submitted batch job 40538659\n",
      "Submitted batch job 40538660\n",
      "Submitted batch job 40538661\n",
      "Submitted batch job 40538662\n",
      "Submitted batch job 40538663\n",
      "Submitted batch job 40538664\n",
      "Submitted batch job 40538665\n",
      "Submitted batch job 40538666\n",
      "Submitted batch job 40538667\n",
      "Submitted batch job 40538668\n",
      "Submitted batch job 40538669\n",
      "Submitted batch job 40538670\n",
      "Submitted batch job 40538671\n",
      "Submitted batch job 40538672\n",
      "Submitted batch job 40538673\n",
      "Submitted batch job 40538674\n",
      "Submitted batch job 40538675\n"
     ]
    }
   ],
   "source": [
    "iterations=2000\n",
    "for kernel in ['st_only', 'svi_only', 'svi_full']:\n",
    "    for inducing_points in [10,50,200,500]:\n",
    "        for learning_rate in [0.005, 0.05]:\n",
    "            for seed in [1,2,]:\n",
    "                out_dir='/cluster/tufts/hugheslab/kheuto01/opioid/logs/poi_fix_soft/'\n",
    "                out_dir = os.path.join(out_dir, f'ind{inducing_points}_kernel{kernel}_lr{learning_rate}_seed{seed}')\n",
    "\n",
    "                if not os.path.exists(out_dir):\n",
    "                            os.makedirs(out_dir)\n",
    "\n",
    "                arg_parts = [\n",
    "                            f\"--out_dir {out_dir}\",\n",
    "                            f\"--time {time}\",\n",
    "                    f'--learning_rate {learning_rate}',\n",
    "                    f'--kernel {kernel}',\n",
    "                    f\"--iterations {iterations}\",\n",
    "                    f\"--data_dir {data_dir}\",\n",
    "                    f\"--inducing_points {inducing_points}\",\n",
    "                    f'--seed {seed}',\n",
    "                        ]\n",
    "                arg_cmd = ' '.join(arg_parts)\n",
    "                command = (f\"args='{arg_cmd}' sbatch < /cluster/home/kheuto01/code/opioid-overdose-models/zinf_gp/run_zinf_poi.slurm\")\n",
    "                subprocess.run(command, shell=True, check=True)"
   ]
  },
  {
   "cell_type": "code",
   "execution_count": 7,
   "id": "8a3b96f1",
   "metadata": {},
   "outputs": [
    {
     "data": {
      "text/plain": [
       "\"args='--out_dir /cluster/tufts/hugheslab/kheuto01/opioid/logs/qtr/ind100_iter100 --code_dir /cluster/home/kheuto01/code/zero-inflated-gp/ --time qtr --iterations 100 --data_dir /cluster/tufts/hugheslab/datasets/NSF_OD/ --inducing_points 100' sbatch < /cluster/home/kheuto01/code/opioid-overdose-models/zinf_gp/run_zinf.slurm\""
      ]
     },
     "execution_count": 7,
     "metadata": {},
     "output_type": "execute_result"
    }
   ],
   "source": [
    "command\n"
   ]
  },
  {
   "cell_type": "code",
   "execution_count": null,
   "id": "e490a513",
   "metadata": {},
   "outputs": [],
   "source": []
  }
 ],
 "metadata": {
  "kernelspec": {
   "display_name": "Python 3 (ipykernel)",
   "language": "python",
   "name": "python3"
  },
  "language_info": {
   "codemirror_mode": {
    "name": "ipython",
    "version": 3
   },
   "file_extension": ".py",
   "mimetype": "text/x-python",
   "name": "python",
   "nbconvert_exporter": "python",
   "pygments_lexer": "ipython3",
   "version": "3.9.13"
  }
 },
 "nbformat": 4,
 "nbformat_minor": 5
}
