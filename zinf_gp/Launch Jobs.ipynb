{
 "cells": [
  {
   "cell_type": "code",
   "execution_count": 2,
   "id": "60f35ea4",
   "metadata": {},
   "outputs": [
    {
     "name": "stdout",
     "output_type": "stream",
     "text": [
      "The autoreload extension is already loaded. To reload it, use:\n",
      "  %reload_ext autoreload\n"
     ]
    }
   ],
   "source": [
    "%load_ext autoreload\n",
    "%autoreload 2\n",
    "\n",
    "import numpy as np\n",
    "import tensorflow as tf\n",
    "\n",
    "import sys\n",
    "code_dir = '/cluster/home/kheuto01/code/zero-inflated-gp/'\n",
    "sys.path.append(code_dir)\n",
    "\n",
    "import os\n",
    "import subprocess\n",
    "import pandas as pd\n",
    "import numpy as np"
   ]
  },
  {
   "cell_type": "code",
   "execution_count": null,
   "id": "8f8fe643",
   "metadata": {},
   "outputs": [],
   "source": []
  },
  {
   "cell_type": "code",
   "execution_count": 3,
   "id": "e050722e",
   "metadata": {},
   "outputs": [],
   "source": [
    "time='qtr'\n",
    "data_dir='/cluster/tufts/hugheslab/datasets/NSF_OD/'\n",
    "\n",
    "out_dir='/cluster/home/kheuto01/test/'\n"
   ]
  },
  {
   "cell_type": "code",
   "execution_count": 10,
   "id": "def57207",
   "metadata": {},
   "outputs": [
    {
     "name": "stdout",
     "output_type": "stream",
     "text": [
      "Submitted batch job 40513864\n",
      "Submitted batch job 40513865\n",
      "Submitted batch job 40513866\n",
      "Submitted batch job 40513867\n",
      "Submitted batch job 40513868\n",
      "Submitted batch job 40513869\n",
      "Submitted batch job 40513870\n",
      "Submitted batch job 40513871\n",
      "Submitted batch job 40513872\n",
      "Submitted batch job 40513873\n",
      "Submitted batch job 40513874\n",
      "Submitted batch job 40513875\n"
     ]
    }
   ],
   "source": [
    "iterations=2000\n",
    "for kernel in ['st_only', 'svi_only', 'svi_full']:\n",
    "    for inducing_points in [10,50, 200, 1000]:\n",
    "            out_dir='/cluster/tufts/hugheslab/kheuto01/opioid/logs/poi/'\n",
    "            out_dir = os.path.join(out_dir, f'ind{inducing_points}_kernel{kernel}')\n",
    "\n",
    "            if not os.path.exists(out_dir):\n",
    "                        os.makedirs(out_dir)\n",
    "\n",
    "            arg_parts = [\n",
    "                        f\"--out_dir {out_dir}\",\n",
    "                        f\"--time {time}\",\n",
    "                f'--kernel {kernel}',\n",
    "                f\"--iterations {iterations}\",\n",
    "                f\"--data_dir {data_dir}\",\n",
    "                f\"--inducing_points {inducing_points}\",\n",
    "                    ]\n",
    "            arg_cmd = ' '.join(arg_parts)\n",
    "            command = (f\"args='{arg_cmd}' sbatch < /cluster/home/kheuto01/code/opioid-overdose-models/zinf_gp/run_zinf_poi.slurm\")\n",
    "            subprocess.run(command, shell=True, check=True)"
   ]
  },
  {
   "cell_type": "code",
   "execution_count": 7,
   "id": "8a3b96f1",
   "metadata": {},
   "outputs": [
    {
     "data": {
      "text/plain": [
       "\"args='--out_dir /cluster/tufts/hugheslab/kheuto01/opioid/logs/qtr/ind100_iter100 --code_dir /cluster/home/kheuto01/code/zero-inflated-gp/ --time qtr --iterations 100 --data_dir /cluster/tufts/hugheslab/datasets/NSF_OD/ --inducing_points 100' sbatch < /cluster/home/kheuto01/code/opioid-overdose-models/zinf_gp/run_zinf.slurm\""
      ]
     },
     "execution_count": 7,
     "metadata": {},
     "output_type": "execute_result"
    }
   ],
   "source": [
    "command\n"
   ]
  },
  {
   "cell_type": "code",
   "execution_count": null,
   "id": "e490a513",
   "metadata": {},
   "outputs": [],
   "source": []
  }
 ],
 "metadata": {
  "kernelspec": {
   "display_name": "Python 3 (ipykernel)",
   "language": "python",
   "name": "python3"
  },
  "language_info": {
   "codemirror_mode": {
    "name": "ipython",
    "version": 3
   },
   "file_extension": ".py",
   "mimetype": "text/x-python",
   "name": "python",
   "nbconvert_exporter": "python",
   "pygments_lexer": "ipython3",
   "version": "3.9.13"
  }
 },
 "nbformat": 4,
 "nbformat_minor": 5
}
