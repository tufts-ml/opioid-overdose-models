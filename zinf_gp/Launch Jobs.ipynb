{
 "cells": [
  {
   "cell_type": "code",
   "execution_count": 2,
   "id": "60f35ea4",
   "metadata": {},
   "outputs": [
    {
     "name": "stdout",
     "output_type": "stream",
     "text": [
      "The autoreload extension is already loaded. To reload it, use:\n",
      "  %reload_ext autoreload\n"
     ]
    }
   ],
   "source": [
    "%load_ext autoreload\n",
    "%autoreload 2\n",
    "\n",
    "import numpy as np\n",
    "import tensorflow as tf\n",
    "\n",
    "import sys\n",
    "code_dir = '/cluster/home/kheuto01/code/zero-inflated-gp/'\n",
    "sys.path.append(code_dir)\n",
    "\n",
    "import os\n",
    "import subprocess\n",
    "import pandas as pd\n",
    "import numpy as np"
   ]
  },
  {
   "cell_type": "code",
   "execution_count": null,
   "id": "8f8fe643",
   "metadata": {},
   "outputs": [],
   "source": []
  },
  {
   "cell_type": "code",
   "execution_count": 3,
   "id": "e050722e",
   "metadata": {},
   "outputs": [],
   "source": [
    "time='qtr'\n",
    "data_dir='/cluster/tufts/hugheslab/datasets/NSF_OD/'\n",
    "\n",
    "out_dir='/cluster/home/kheuto01/test/'\n"
   ]
  },
  {
   "cell_type": "code",
   "execution_count": 18,
   "id": "def57207",
   "metadata": {},
   "outputs": [
    {
     "name": "stdout",
     "output_type": "stream",
     "text": [
      "Submitted batch job 40517323\n",
      "Submitted batch job 40517324\n",
      "Submitted batch job 40517325\n",
      "Submitted batch job 40517326\n",
      "Submitted batch job 40517327\n",
      "Submitted batch job 40517328\n",
      "Submitted batch job 40517329\n",
      "Submitted batch job 40517330\n",
      "Submitted batch job 40517331\n",
      "Submitted batch job 40517332\n",
      "Submitted batch job 40517333\n",
      "Submitted batch job 40517334\n",
      "Submitted batch job 40517335\n",
      "Submitted batch job 40517336\n",
      "Submitted batch job 40517337\n",
      "Submitted batch job 40517338\n",
      "Submitted batch job 40517339\n",
      "Submitted batch job 40517340\n",
      "Submitted batch job 40517341\n",
      "Submitted batch job 40517342\n",
      "Submitted batch job 40517343\n",
      "Submitted batch job 40517344\n",
      "Submitted batch job 40517345\n",
      "Submitted batch job 40517346\n",
      "Submitted batch job 40517347\n",
      "Submitted batch job 40517348\n",
      "Submitted batch job 40517349\n",
      "Submitted batch job 40517350\n",
      "Submitted batch job 40517351\n",
      "Submitted batch job 40517352\n",
      "Submitted batch job 40517353\n",
      "Submitted batch job 40517354\n",
      "Submitted batch job 40517355\n",
      "Submitted batch job 40517356\n",
      "Submitted batch job 40517357\n",
      "Submitted batch job 40517358\n",
      "Submitted batch job 40517359\n",
      "Submitted batch job 40517360\n",
      "Submitted batch job 40517361\n",
      "Submitted batch job 40517362\n",
      "Submitted batch job 40517363\n",
      "Submitted batch job 40517364\n",
      "Submitted batch job 40517365\n",
      "Submitted batch job 40517366\n",
      "Submitted batch job 40517367\n",
      "Submitted batch job 40517368\n",
      "Submitted batch job 40517369\n",
      "Submitted batch job 40517370\n",
      "Submitted batch job 40517371\n",
      "Submitted batch job 40517372\n",
      "Submitted batch job 40517373\n",
      "Submitted batch job 40517374\n",
      "Submitted batch job 40517375\n",
      "Submitted batch job 40517376\n",
      "Submitted batch job 40517377\n",
      "Submitted batch job 40517378\n",
      "Submitted batch job 40517379\n",
      "Submitted batch job 40517380\n",
      "Submitted batch job 40517381\n",
      "Submitted batch job 40517382\n",
      "Submitted batch job 40517383\n",
      "Submitted batch job 40517384\n",
      "Submitted batch job 40517385\n",
      "Submitted batch job 40517386\n",
      "Submitted batch job 40517387\n",
      "Submitted batch job 40517388\n",
      "Submitted batch job 40517389\n",
      "Submitted batch job 40517390\n",
      "Submitted batch job 40517391\n",
      "Submitted batch job 40517392\n",
      "Submitted batch job 40517393\n",
      "Submitted batch job 40517394\n",
      "Submitted batch job 40517395\n",
      "Submitted batch job 40517396\n",
      "Submitted batch job 40517397\n",
      "Submitted batch job 40517398\n",
      "Submitted batch job 40517399\n",
      "Submitted batch job 40517400\n",
      "Submitted batch job 40517401\n",
      "Submitted batch job 40517402\n",
      "Submitted batch job 40517403\n",
      "Submitted batch job 40517404\n",
      "Submitted batch job 40517405\n",
      "Submitted batch job 40517406\n",
      "Submitted batch job 40517407\n",
      "Submitted batch job 40517408\n",
      "Submitted batch job 40517409\n",
      "Submitted batch job 40517410\n",
      "Submitted batch job 40517411\n",
      "Submitted batch job 40517412\n"
     ]
    }
   ],
   "source": [
    "iterations=2000\n",
    "for kernel in ['st_only', 'svi_only', 'svi_full']:\n",
    "    for inducing_points in [5,10,50,]:\n",
    "        for learning_rate in [0.001, 0.0005]:\n",
    "            for seed in [1,2,3,4,5]:\n",
    "                out_dir='/cluster/tufts/hugheslab/kheuto01/opioid/logs/poi_savemod/'\n",
    "                out_dir = os.path.join(out_dir, f'ind{inducing_points}_kernel{kernel}_lr{learning_rate}_seed{seed}')\n",
    "\n",
    "                if not os.path.exists(out_dir):\n",
    "                            os.makedirs(out_dir)\n",
    "\n",
    "                arg_parts = [\n",
    "                            f\"--out_dir {out_dir}\",\n",
    "                            f\"--time {time}\",\n",
    "                    f'--learning_rate {learning_rate}',\n",
    "                    f'--kernel {kernel}',\n",
    "                    f\"--iterations {iterations}\",\n",
    "                    f\"--data_dir {data_dir}\",\n",
    "                    f\"--inducing_points {inducing_points}\",\n",
    "                    f'--seed {seed}',\n",
    "                        ]\n",
    "                arg_cmd = ' '.join(arg_parts)\n",
    "                command = (f\"args='{arg_cmd}' sbatch < /cluster/home/kheuto01/code/opioid-overdose-models/zinf_gp/run_zinf_poi.slurm\")\n",
    "                subprocess.run(command, shell=True, check=True)"
   ]
  },
  {
   "cell_type": "code",
   "execution_count": 7,
   "id": "8a3b96f1",
   "metadata": {},
   "outputs": [
    {
     "data": {
      "text/plain": [
       "\"args='--out_dir /cluster/tufts/hugheslab/kheuto01/opioid/logs/qtr/ind100_iter100 --code_dir /cluster/home/kheuto01/code/zero-inflated-gp/ --time qtr --iterations 100 --data_dir /cluster/tufts/hugheslab/datasets/NSF_OD/ --inducing_points 100' sbatch < /cluster/home/kheuto01/code/opioid-overdose-models/zinf_gp/run_zinf.slurm\""
      ]
     },
     "execution_count": 7,
     "metadata": {},
     "output_type": "execute_result"
    }
   ],
   "source": [
    "command\n"
   ]
  },
  {
   "cell_type": "code",
   "execution_count": null,
   "id": "e490a513",
   "metadata": {},
   "outputs": [],
   "source": []
  }
 ],
 "metadata": {
  "kernelspec": {
   "display_name": "Python 3 (ipykernel)",
   "language": "python",
   "name": "python3"
  },
  "language_info": {
   "codemirror_mode": {
    "name": "ipython",
    "version": 3
   },
   "file_extension": ".py",
   "mimetype": "text/x-python",
   "name": "python",
   "nbconvert_exporter": "python",
   "pygments_lexer": "ipython3",
   "version": "3.9.13"
  }
 },
 "nbformat": 4,
 "nbformat_minor": 5
}
