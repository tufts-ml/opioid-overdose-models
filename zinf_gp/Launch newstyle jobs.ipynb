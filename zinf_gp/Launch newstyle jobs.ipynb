{
 "cells": [
  {
   "cell_type": "code",
   "execution_count": 2,
   "id": "60f35ea4",
   "metadata": {},
   "outputs": [
    {
     "name": "stdout",
     "output_type": "stream",
     "text": [
      "The autoreload extension is already loaded. To reload it, use:\n",
      "  %reload_ext autoreload\n"
     ]
    }
   ],
   "source": [
    "%load_ext autoreload\n",
    "%autoreload 2\n",
    "\n",
    "import numpy as np\n",
    "import tensorflow as tf\n",
    "\n",
    "import sys\n",
    "code_dir = '/cluster/home/kheuto01/code/zero-inflated-gp/'\n",
    "sys.path.append(code_dir)\n",
    "\n",
    "import os\n",
    "import subprocess\n",
    "import pandas as pd\n",
    "import numpy as np"
   ]
  },
  {
   "cell_type": "code",
   "execution_count": 3,
   "id": "8f8fe643",
   "metadata": {},
   "outputs": [],
   "source": [
    "times = ['annual', 'semi',]\n",
    "locs = ['tract','group']\n",
    "start_years = [2000, 2010]\n",
    "covs = [ '-auto','all']\n",
    "models = ['normal', 'poisson']\n",
    "learning_rates = [0.1,0.01,0.05]\n",
    "inducing_points = [400]"
   ]
  },
  {
   "cell_type": "code",
   "execution_count": 4,
   "id": "e050722e",
   "metadata": {},
   "outputs": [],
   "source": [
    "\n",
    "data_dir='/cluster/tufts/hugheslab/datasets/NSF_OD/results_20220606_update/'\n",
    "\n",
    "log_dir='/cluster/tufts/hugheslab/kheuto01/opioid/logs/fix_two'\n"
   ]
  },
  {
   "cell_type": "code",
   "execution_count": 5,
   "id": "827a7503",
   "metadata": {},
   "outputs": [
    {
     "name": "stdout",
     "output_type": "stream",
     "text": [
      "Submitted batch job 41887412\n",
      "Submitted batch job 41887413\n",
      "Submitted batch job 41887414\n",
      "Submitted batch job 41887415\n",
      "Submitted batch job 41887416\n",
      "Submitted batch job 41887417\n",
      "Submitted batch job 41887418\n",
      "Submitted batch job 41887419\n",
      "Submitted batch job 41887420\n",
      "Submitted batch job 41887421\n",
      "Submitted batch job 41887422\n",
      "Submitted batch job 41887423\n",
      "Submitted batch job 41887424\n",
      "Submitted batch job 41887425\n",
      "Submitted batch job 41887426\n",
      "Submitted batch job 41887427\n",
      "Submitted batch job 41887428\n",
      "Submitted batch job 41887429\n",
      "Submitted batch job 41887430\n",
      "Submitted batch job 41887431\n",
      "Submitted batch job 41887432\n",
      "Submitted batch job 41887433\n",
      "Submitted batch job 41887434\n",
      "Submitted batch job 41887435\n",
      "Submitted batch job 41887436\n",
      "Submitted batch job 41887437\n",
      "Submitted batch job 41887438\n",
      "Submitted batch job 41887439\n",
      "Submitted batch job 41887440\n",
      "Submitted batch job 41887441\n",
      "Submitted batch job 41887442\n",
      "Submitted batch job 41887443\n",
      "Submitted batch job 41887444\n",
      "Submitted batch job 41887445\n",
      "Submitted batch job 41887446\n",
      "Submitted batch job 41887447\n",
      "Submitted batch job 41887448\n",
      "Submitted batch job 41887449\n",
      "Submitted batch job 41887450\n",
      "Submitted batch job 41887451\n",
      "Submitted batch job 41887452\n",
      "Submitted batch job 41887453\n",
      "Submitted batch job 41887454\n",
      "Submitted batch job 41887455\n",
      "Submitted batch job 41887456\n",
      "Submitted batch job 41887457\n",
      "Submitted batch job 41887458\n",
      "Submitted batch job 41887459\n",
      "Submitted batch job 41887460\n",
      "Submitted batch job 41887461\n",
      "Submitted batch job 41887462\n",
      "Submitted batch job 41887463\n",
      "Submitted batch job 41887464\n",
      "Submitted batch job 41887465\n",
      "Submitted batch job 41887466\n",
      "Submitted batch job 41887467\n",
      "Submitted batch job 41887468\n",
      "Submitted batch job 41887469\n",
      "Submitted batch job 41887470\n",
      "Submitted batch job 41887471\n",
      "Submitted batch job 41887472\n",
      "Submitted batch job 41887473\n",
      "Submitted batch job 41887474\n",
      "Submitted batch job 41887475\n",
      "Submitted batch job 41887476\n",
      "Submitted batch job 41887477\n",
      "Submitted batch job 41887478\n",
      "Submitted batch job 41887479\n",
      "Submitted batch job 41887480\n",
      "Submitted batch job 41887481\n",
      "Submitted batch job 41887482\n",
      "Submitted batch job 41887483\n",
      "Submitted batch job 41887484\n",
      "Submitted batch job 41887485\n",
      "Submitted batch job 41887486\n",
      "Submitted batch job 41887487\n",
      "Submitted batch job 41887488\n",
      "Submitted batch job 41887489\n",
      "Submitted batch job 41887490\n",
      "Submitted batch job 41887491\n",
      "Submitted batch job 41887492\n",
      "Submitted batch job 41887493\n",
      "Submitted batch job 41887494\n",
      "Submitted batch job 41887495\n",
      "Submitted batch job 41887496\n",
      "Submitted batch job 41887497\n",
      "Submitted batch job 41887498\n",
      "Submitted batch job 41887499\n",
      "Submitted batch job 41887500\n",
      "Submitted batch job 41887501\n",
      "Submitted batch job 41887502\n",
      "Submitted batch job 41887503\n",
      "Submitted batch job 41887504\n",
      "Submitted batch job 41887505\n",
      "Submitted batch job 41887506\n",
      "Submitted batch job 41887507\n",
      "96\n"
     ]
    }
   ],
   "source": [
    "counter = 0\n",
    "for time in times:\n",
    "    if time == 'quarter':\n",
    "        timesteps_per_year = 4\n",
    "    elif time == 'semi':\n",
    "        timesteps_per_year = 2\n",
    "    elif time == 'annual':\n",
    "        timesteps_per_year = 1\n",
    "    for loc in locs:\n",
    "        for start_year in start_years:\n",
    "            for cov in covs:\n",
    "                for model in models:\n",
    "                    for lr in learning_rates:\n",
    "                        for num_inducing in inducing_points:\n",
    "                            \n",
    "                            file_name = f'clean_{time}_{loc}'\n",
    "                            data_path = os.path.join(data_dir, file_name)\n",
    "                            \n",
    "                            this_run = f'{time}_{loc}_{model}_{start_year}_{cov}_{num_inducing}_{lr}'\n",
    "                            \n",
    "                            out_dir = os.path.join(log_dir, this_run)\n",
    "                            if not os.path.exists(out_dir):\n",
    "                                os.makedirs(out_dir)\n",
    "                            \n",
    "                            arg_parts = [\n",
    "                                f\"--data_path {data_path}\",\n",
    "                                f\"--first_train_year {start_year}\",\n",
    "                                f\"--last_train_year 2018\",\n",
    "                                f\"--timesteps_per_year {timesteps_per_year}\",\n",
    "                                f\"--test_years 2\",\n",
    "                                f\"--timestep_col timestep\",\n",
    "                                f\"--geography_col geoid\",\n",
    "                                f\"--likelihood {model}\",\n",
    "                                f\"--inducing_points {num_inducing}\",\n",
    "                                f\"--samples 10\",\n",
    "                                f\"--iterations 5000\",\n",
    "                                f\"--seed {int(lr*1000)}\",\n",
    "                                f\"--learning_rate {lr}\",\n",
    "                                f\"--out_dir {out_dir}\",\n",
    "                            ]\n",
    "                            \n",
    "                            if cov =='all':\n",
    "                                arg_parts.append('--use_auto')\n",
    "                                arg_parts.append('--use_svi')\n",
    "                            elif cov =='-auto':\n",
    "                                arg_parts.append('--use_svi')\n",
    "                    \n",
    "                            arg_cmd = ' '.join(arg_parts)\n",
    "                            command = (f\"args='{arg_cmd}' sbatch < /cluster/home/kheuto01/code/opioid-overdose-models/zinf_gp/run_exp.slurm\")\n",
    "                            counter += 1\n",
    "                            subprocess.run(command, shell=True, check=True)\n",
    " \n",
    "print(counter)                "
   ]
  },
  {
   "cell_type": "code",
   "execution_count": 11,
   "id": "334bd59b",
   "metadata": {},
   "outputs": [
    {
     "data": {
      "text/plain": [
       "\"args='--data_path /cluster/tufts/hugheslab/datasets/NSF_OD/results_20220606_update/clean_annual_tract --first_train_year 2010 --last_train_year 2018 --timesteps_per_year 1 --test_years 2 --timestep_col timestep --geography_col geoid --likelihood poisson --inducing_points 200 --samples 10 --iterations 1000 --seed 1 --learning_rate 0.001 --out_dir /cluster/tufts/hugheslab/kheuto01/opioid/logs/new_big_run/annual_tract_poisson_2010_-auto-svi_200_0.001' sbatch < /cluster/home/kheuto01/code/opioid-overdose-models/zinf_gp/run_zinf_poi.slurm\""
      ]
     },
     "execution_count": 11,
     "metadata": {},
     "output_type": "execute_result"
    }
   ],
   "source": [
    "command"
   ]
  },
  {
   "cell_type": "code",
   "execution_count": 3,
   "id": "def57207",
   "metadata": {},
   "outputs": [
    {
     "name": "stdout",
     "output_type": "stream",
     "text": [
      "Submitted batch job 40538628\n",
      "Submitted batch job 40538629\n",
      "Submitted batch job 40538630\n",
      "Submitted batch job 40538631\n",
      "Submitted batch job 40538632\n",
      "Submitted batch job 40538633\n",
      "Submitted batch job 40538634\n",
      "Submitted batch job 40538635\n",
      "Submitted batch job 40538636\n",
      "Submitted batch job 40538637\n",
      "Submitted batch job 40538638\n",
      "Submitted batch job 40538639\n",
      "Submitted batch job 40538640\n",
      "Submitted batch job 40538641\n",
      "Submitted batch job 40538642\n",
      "Submitted batch job 40538643\n",
      "Submitted batch job 40538644\n",
      "Submitted batch job 40538645\n",
      "Submitted batch job 40538646\n",
      "Submitted batch job 40538647\n",
      "Submitted batch job 40538648\n",
      "Submitted batch job 40538649\n",
      "Submitted batch job 40538650\n",
      "Submitted batch job 40538651\n",
      "Submitted batch job 40538652\n",
      "Submitted batch job 40538653\n",
      "Submitted batch job 40538654\n",
      "Submitted batch job 40538655\n",
      "Submitted batch job 40538656\n",
      "Submitted batch job 40538657\n",
      "Submitted batch job 40538658\n",
      "Submitted batch job 40538659\n",
      "Submitted batch job 40538660\n",
      "Submitted batch job 40538661\n",
      "Submitted batch job 40538662\n",
      "Submitted batch job 40538663\n",
      "Submitted batch job 40538664\n",
      "Submitted batch job 40538665\n",
      "Submitted batch job 40538666\n",
      "Submitted batch job 40538667\n",
      "Submitted batch job 40538668\n",
      "Submitted batch job 40538669\n",
      "Submitted batch job 40538670\n",
      "Submitted batch job 40538671\n",
      "Submitted batch job 40538672\n",
      "Submitted batch job 40538673\n",
      "Submitted batch job 40538674\n",
      "Submitted batch job 40538675\n"
     ]
    }
   ],
   "source": []
  },
  {
   "cell_type": "code",
   "execution_count": 7,
   "id": "8a3b96f1",
   "metadata": {},
   "outputs": [
    {
     "data": {
      "text/plain": [
       "\"args='--out_dir /cluster/tufts/hugheslab/kheuto01/opioid/logs/qtr/ind100_iter100 --code_dir /cluster/home/kheuto01/code/zero-inflated-gp/ --time qtr --iterations 100 --data_dir /cluster/tufts/hugheslab/datasets/NSF_OD/ --inducing_points 100' sbatch < /cluster/home/kheuto01/code/opioid-overdose-models/zinf_gp/run_zinf.slurm\""
      ]
     },
     "execution_count": 7,
     "metadata": {},
     "output_type": "execute_result"
    }
   ],
   "source": [
    "command\n"
   ]
  },
  {
   "cell_type": "code",
   "execution_count": null,
   "id": "e490a513",
   "metadata": {},
   "outputs": [],
   "source": []
  }
 ],
 "metadata": {
  "kernelspec": {
   "display_name": "Python 3 (ipykernel)",
   "language": "python",
   "name": "python3"
  },
  "language_info": {
   "codemirror_mode": {
    "name": "ipython",
    "version": 3
   },
   "file_extension": ".py",
   "mimetype": "text/x-python",
   "name": "python",
   "nbconvert_exporter": "python",
   "pygments_lexer": "ipython3",
   "version": "3.9.13"
  }
 },
 "nbformat": 4,
 "nbformat_minor": 5
}
