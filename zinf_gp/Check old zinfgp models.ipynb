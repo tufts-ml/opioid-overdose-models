{
 "cells": [
  {
   "cell_type": "code",
   "execution_count": 11,
   "id": "464dd0f6",
   "metadata": {},
   "outputs": [],
   "source": [
    "import os\n",
    "import sys\n",
    "from glob import glob\n",
    "\n",
    "import numpy as np\n",
    "import pandas as pd\n",
    "idx = pd.IndexSlice\n",
    "import matplotlib.pyplot as plt\n",
    "from matplotlib.ticker import MaxNLocator\n",
    "\n",
    "import copy\n",
    "\n",
    "import geopandas as gpd\n",
    "\n",
    "from sklearn.metrics import mean_absolute_error\n",
    "\n",
    "from sklearn.linear_model import LinearRegression\n",
    "from sklearn.neural_network import MLPRegressor\n",
    "\n",
    "import gpflow\n",
    "import tensorflow as tf\n",
    "import sys\n",
    "code_dir = '/cluster/home/kheuto01/code/zero-inflated-gp/'\n",
    "sys.path.append(code_dir)\n",
    "from math import radians, cos, sin, asin, sqrt\n",
    "from onoffgpf import OnOffSVGP, OnOffLikelihood\n",
    "\n",
    "import pickle\n",
    "\n",
    "from math import radians, cos, sin, asin, sqrt\n",
    "\n",
    "import copy\n",
    "import sys\n",
    "\n",
    "import geopandas as gpd\n",
    "import numpy as np\n",
    "\n",
    "import gpflow\n",
    "\n",
    "\n",
    "code_dir = '/cluster/home/kheuto01/code/zero-inflated-gp/'\n",
    "sys.path.append(code_dir)\n",
    "\n",
    "code_dir = '/cluster/home/kheuto01/code/opioid-overdose-models/'\n",
    "sys.path.append(code_dir)\n",
    "\n",
    "from onoffgpf import OnOffSVGP, OnOffSVGPPoiMC, OnOffLikelihood\n",
    "gpflow.config.default_float()\n",
    "\n",
    "\n",
    "from zinf_gp.metrics import normcdf, fixed_top_X\n",
    "\n",
    "from sklearn.metrics import mean_squared_error, mean_absolute_error\n",
    "from math import sqrt\n"
   ]
  },
  {
   "cell_type": "code",
   "execution_count": 4,
   "id": "b68c36af",
   "metadata": {},
   "outputs": [],
   "source": [
    "run_template = '{time}_{loc}_{model}_{start_year}_{cov}_{num_inducing}_{lr}'\n",
    "#/annual_group_normal_2000_-auto_200_0.01"
   ]
  },
  {
   "cell_type": "code",
   "execution_count": 5,
   "id": "6e139210",
   "metadata": {},
   "outputs": [],
   "source": [
    "time = 'annual'\n",
    "loc = 'tract'\n",
    "model = 'normal'\n",
    "start_year = '2010'\n",
    "cov = '-auto'\n",
    "num_inducing = '400'\n",
    "test_years=2\n",
    "data_dir='/cluster/tufts/hugheslab/datasets/NSF_OD/results_20220606_update/'\n",
    "\n",
    "log_dir='/cluster/tufts/hugheslab/kheuto01/opioid/logs/new_big_run'"
   ]
  },
  {
   "cell_type": "code",
   "execution_count": 6,
   "id": "9ab23fd3",
   "metadata": {},
   "outputs": [],
   "source": [
    "town_map = pd.read_csv(os.path.join(data_dir, 'town_tract_map.csv'), dtype=str)\n",
    "group_map = gpd.read_file(os.path.join(data_dir, 'tract_group_map'), dtype=str)\n",
    "\n",
    "# test y always comes from quarterly tract\n",
    "y_timesteps_per_year = 1\n",
    "file_name = f'clean_annual_tract'\n",
    "data_path = os.path.join(data_dir, file_name)\n",
    "\n",
    "\n",
    "timestep_col = 'timestep'\n",
    "geography_col = 'geoid'\n",
    "outcome_col = 'deaths'\n",
    "\n",
    "x_idx_cols = [geography_col, 'lat', 'lon', timestep_col,\n",
    "              'theme_1_pc', 'theme_2_pc', 'theme_3_pc', 'theme_4_pc',\n",
    "              'svi_pctile',\n",
    "              'neighbor_t', 'self_t-1']\n",
    "y_idx_cols = [geography_col, timestep_col, outcome_col]\n",
    "features_only = ['lat', 'lon', timestep_col,\n",
    "                 'theme_1_pc', 'theme_2_pc', 'theme_3_pc', 'theme_4_pc',\n",
    "                 'svi_pctile',\n",
    "                 'neighbor_t', 'self_t-1']\n",
    "\n",
    "#data_gdf = gpd.read_file(data_path)\n",
    "\n",
    "last_train_year = 2018\n",
    "\n",
    "test_y = data_gdf[(data_gdf['year'] > last_train_year) &\n",
    "                  (data_gdf['year'] <= last_train_year + test_years)][y_idx_cols]\n",
    "starting_y_timestep = int(test_y[timestep_col].min())\n",
    "\n",
    "sorted_y_timesteps = test_y[timestep_col].unique()\n",
    "sorted_y_timesteps.sort()\n",
    "\n",
    "x_timesteps_per_year = {'quarter': 4, 'semi': 2, 'annual': 1}[time]\n",
    "\n",
    "file_name = f'clean_{time}_{loc}'\n",
    "data_path = os.path.join(data_dir, file_name)\n",
    "\n",
    "#data_gdf = gpd.read_file(data_path)\n",
    "\n",
    "test_x = data_gdf[(data_gdf['year'] > last_train_year) &\n",
    "                  (data_gdf['year'] <= last_train_year + test_years)][x_idx_cols]\n",
    "\n",
    "starting_x_timestep = int(test_x[timestep_col].min())\n",
    "\n",
    "test_timesteps_per_year = max(y_timesteps_per_year, x_timesteps_per_year)\n",
    "test_timesteps = test_timesteps_per_year * test_years\n",
    "\n",
    "x_repeats = int(test_timesteps_per_year / x_timesteps_per_year)\n",
    "y_repeats = int(test_timesteps_per_year / y_timesteps_per_year)\n",
    "\n",
    "sorted_x_timesteps = test_x[timestep_col].unique()\n",
    "sorted_x_timesteps.sort()\n",
    "\n",
    "x_timesteps = [timestep for timestep in sorted_x_timesteps for _ in range(x_repeats)]\n",
    "\n",
    "y_timesteps = [timestep for timestep in sorted_y_timesteps for _ in range(y_repeats)]"
   ]
  },
  {
   "cell_type": "code",
   "execution_count": 7,
   "id": "73984aef",
   "metadata": {},
   "outputs": [
    {
     "name": "stderr",
     "output_type": "stream",
     "text": [
      "2023-06-15 16:06:45.834797: E tensorflow/compiler/xla/stream_executor/cuda/cuda_driver.cc:266] failed call to cuInit: CUDA_ERROR_NO_DEVICE: no CUDA-capable device is detected\n",
      "2023-06-15 16:06:45.834837: I tensorflow/compiler/xla/stream_executor/cuda/cuda_diagnostics.cc:168] retrieving CUDA diagnostic information for host: p1cmp078.pax.tufts.edu\n",
      "2023-06-15 16:06:45.834845: I tensorflow/compiler/xla/stream_executor/cuda/cuda_diagnostics.cc:175] hostname: p1cmp078.pax.tufts.edu\n",
      "2023-06-15 16:06:45.835030: I tensorflow/compiler/xla/stream_executor/cuda/cuda_diagnostics.cc:199] libcuda reported version is: 515.65.1\n",
      "2023-06-15 16:06:45.835059: I tensorflow/compiler/xla/stream_executor/cuda/cuda_diagnostics.cc:203] kernel reported version is: 515.65.1\n",
      "2023-06-15 16:06:45.835066: I tensorflow/compiler/xla/stream_executor/cuda/cuda_diagnostics.cc:309] kernel version seems to match DSO: 515.65.1\n"
     ]
    },
    {
     "name": "stdout",
     "output_type": "stream",
     "text": [
      "annual_tract_normal_2000_-auto_200_0.01\n",
      "annual_tract_normal_2000_-auto_400_0.01\n",
      "annual_tract_normal_2010_-auto_200_0.01\n",
      "annual_tract_normal_2010_-auto_400_0.01\n",
      "annual_tract_poisson_2000_-auto_200_0.01\n",
      "annual_tract_poisson_2000_-auto_400_0.01\n",
      "annual_tract_poisson_2010_-auto_200_0.01\n",
      "annual_tract_poisson_2010_-auto_400_0.01\n"
     ]
    }
   ],
   "source": [
    "best_elbo = -np.inf\n",
    "for lr in ['0.01','0.001']:\n",
    "    for model in ['normal', 'poisson']:\n",
    "        for start_year in ['2000','2010']:\n",
    "            for cov in ['-auto','all']:\n",
    "                for num_inducing in ['200','400']:\n",
    "\n",
    "                    this_run = run_template.format(time=time, loc=loc,\n",
    "                                                   model=model, start_year=start_year,\n",
    "                                                   cov=cov,\n",
    "                                                   num_inducing=num_inducing, lr=lr)\n",
    "                    try:\n",
    "                        with open(os.path.join(log_dir, this_run, 'model.mod'), 'rb') as f:\n",
    "                            predictor = pickle.load(f)\n",
    "                        with open(os.path.join(log_dir, this_run, 'stats.csv'), 'rb') as f:\n",
    "                            stats = pd.read_csv(f)\n",
    "                            elbo = stats.iloc[-1, :][['elbo']].values[0]\n",
    "                    except(FileNotFoundError):\n",
    "                        print(os.path.join(log_dir,this_run))\n",
    "                        continue\n",
    "\n",
    "                    if elbo > best_elbo:\n",
    "                        best_elbo = elbo\n",
    "                        print(this_run)\n",
    "                        best_predictor = copy.deepcopy(predictor)"
   ]
  },
  {
   "cell_type": "code",
   "execution_count": 8,
   "id": "32c487e1",
   "metadata": {},
   "outputs": [],
   "source": [
    "xtops = []\n",
    "for year in range(test_years):\n",
    "    xtop_year = []\n",
    "    max_timesteps = max(x_timesteps_per_year, y_timesteps_per_year)\n",
    "    for x_time, y_time in zip(x_timesteps[year * max_timesteps:(year + 1) * max_timesteps],\n",
    "                              y_timesteps[year * max_timesteps:(year + 1) * max_timesteps]):\n",
    "        test_x_time = test_x[test_x[timestep_col] == x_time]\n",
    "        test_y_time = test_y[test_y[timestep_col] == y_time]\n",
    "        _, _, _, fmean, fvar, gmean, gvar, _, _ = best_predictor.build_predict(test_x_time.loc[:, features_only].values)\n",
    "        g_cond = tf.math.softplus(fmean * normcdf(gmean)).numpy()\n",
    "        pred_df = pd.Series(g_cond.squeeze(), index=test_x_time[geography_col])\n",
    "\n",
    "\n",
    "        y_index = test_y_time[geography_col]\n",
    "        sampled_size = int(0.95*len(y_index))\n",
    "        assert(sampled_size==1539)\n",
    "        sampled_xtops = []\n",
    "        for _ in range(100):\n",
    "            sampled_index = np.random.choice(y_index, sampled_size,replace=False)\n",
    "            sampled_test = test_y_time.set_index(geography_col).loc[sampled_index, outcome_col]\n",
    "            sampled_pred = pred_df.loc[sampled_index]\n",
    "            result = fixed_top_X(sampled_test, sampled_pred, 100)[-1]\n",
    "            sampled_xtops.append(result)\n",
    "\n",
    "        xtop_ptiles = np.percentile(sampled_xtops, [2.5, 50, 97.5])\n",
    "        xtop_year.append(xtop_ptiles)\n",
    "    annual_avg = np.array(xtop_year).mean(axis=0)\n",
    "    xtops.append(annual_avg)"
   ]
  },
  {
   "cell_type": "code",
   "execution_count": 9,
   "id": "9a0a9fd7",
   "metadata": {},
   "outputs": [
    {
     "data": {
      "text/plain": [
       "1"
      ]
     },
     "execution_count": 9,
     "metadata": {},
     "output_type": "execute_result"
    }
   ],
   "source": [
    "max_timesteps"
   ]
  },
  {
   "cell_type": "code",
   "execution_count": 10,
   "id": "8b263b7f",
   "metadata": {},
   "outputs": [
    {
     "data": {
      "text/plain": [
       "[array([0.44046947, 0.45405563, 0.47257506]),\n",
       " array([0.43850162, 0.45537507, 0.48084863])]"
      ]
     },
     "execution_count": 10,
     "metadata": {},
     "output_type": "execute_result"
    }
   ],
   "source": [
    "xtops"
   ]
  },
  {
   "cell_type": "code",
   "execution_count": 18,
   "id": "24474f92",
   "metadata": {},
   "outputs": [],
   "source": [
    "xtops = []\n",
    "maes = []\n",
    "rmses = []\n",
    "for year in range(test_years):\n",
    "    xtop_year = []\n",
    "    max_timesteps = max(x_timesteps_per_year, y_timesteps_per_year)\n",
    "    for x_time, y_time in zip(x_timesteps[year * max_timesteps:(year + 1) * max_timesteps],\n",
    "                              y_timesteps[year * max_timesteps:(year + 1) * max_timesteps]):\n",
    "        test_x_time = test_x[test_x[timestep_col] == x_time]\n",
    "        test_y_time = test_y[test_y[timestep_col] == y_time]\n",
    "        _, _, _, fmean, fvar, gmean, gvar, _, _ = best_predictor.build_predict(test_x_time.loc[:, features_only].values)\n",
    "        g_cond = tf.math.softplus(fmean * normcdf(gmean)).numpy()\n",
    "        pred_df = pd.Series(g_cond.squeeze(), index=test_x_time[geography_col])\n",
    "\n",
    "        result = fixed_top_X(test_y_time.set_index(geography_col).loc[:, outcome_col], pred_df, 100)[-1]\n",
    "        \n",
    "        rmses.append(sqrt(mean_squared_error(test_y_time.set_index(geography_col).loc[:, outcome_col], pred_df)))\n",
    "        \n",
    "        maes.append(mean_absolute_error(test_y_time.set_index(geography_col).loc[:, outcome_col], pred_df))\n",
    "\n",
    "        xtop_year.append(result)\n",
    "    annual_avg = np.array(xtop_year).mean(axis=0)\n",
    "    xtops.append(annual_avg)"
   ]
  },
  {
   "cell_type": "code",
   "execution_count": 28,
   "id": "1d5fe622",
   "metadata": {},
   "outputs": [
    {
     "data": {
      "text/plain": [
       "[0.4444444444444446, 0.45290581162324633]"
      ]
     },
     "execution_count": 28,
     "metadata": {},
     "output_type": "execute_result"
    }
   ],
   "source": [
    "xtops"
   ]
  },
  {
   "cell_type": "code",
   "execution_count": 29,
   "id": "2791d9b0",
   "metadata": {},
   "outputs": [
    {
     "data": {
      "text/plain": [
       "0.44867512803384546"
      ]
     },
     "execution_count": 29,
     "metadata": {},
     "output_type": "execute_result"
    }
   ],
   "source": [
    "np.mean(xtops)"
   ]
  },
  {
   "cell_type": "code",
   "execution_count": 19,
   "id": "56eb675e",
   "metadata": {},
   "outputs": [
    {
     "data": {
      "text/plain": [
       "[0.4444444444444446, 0.45290581162324633]"
      ]
     },
     "execution_count": 19,
     "metadata": {},
     "output_type": "execute_result"
    }
   ],
   "source": [
    "xtops"
   ]
  },
  {
   "cell_type": "code",
   "execution_count": 20,
   "id": "9ead7ccc",
   "metadata": {},
   "outputs": [
    {
     "data": {
      "text/plain": [
       "0.44867512803384546"
      ]
     },
     "execution_count": 20,
     "metadata": {},
     "output_type": "execute_result"
    }
   ],
   "source": [
    "np.mean(xtops)"
   ]
  },
  {
   "cell_type": "code",
   "execution_count": 21,
   "id": "4efd9c58",
   "metadata": {},
   "outputs": [
    {
     "data": {
      "text/plain": [
       "1.1334389263152322"
      ]
     },
     "execution_count": 21,
     "metadata": {},
     "output_type": "execute_result"
    }
   ],
   "source": [
    "np.mean(maes)"
   ]
  },
  {
   "cell_type": "code",
   "execution_count": 22,
   "id": "1301558e",
   "metadata": {},
   "outputs": [
    {
     "data": {
      "text/plain": [
       "3.4415631203967694"
      ]
     },
     "execution_count": 22,
     "metadata": {},
     "output_type": "execute_result"
    }
   ],
   "source": [
    "np.mean(rmses)"
   ]
  },
  {
   "cell_type": "code",
   "execution_count": null,
   "id": "c282a322",
   "metadata": {},
   "outputs": [],
   "source": []
  }
 ],
 "metadata": {
  "kernelspec": {
   "display_name": "Python 3 (ipykernel)",
   "language": "python",
   "name": "python3"
  },
  "language_info": {
   "codemirror_mode": {
    "name": "ipython",
    "version": 3
   },
   "file_extension": ".py",
   "mimetype": "text/x-python",
   "name": "python",
   "nbconvert_exporter": "python",
   "pygments_lexer": "ipython3",
   "version": "3.8.16"
  }
 },
 "nbformat": 4,
 "nbformat_minor": 5
}
