{
 "cells": [
  {
   "cell_type": "code",
   "execution_count": 1,
   "id": "bbd48159",
   "metadata": {},
   "outputs": [],
   "source": [
    "import numpy as np\n",
    "import scipy.stats"
   ]
  },
  {
   "cell_type": "code",
   "execution_count": 2,
   "id": "3901cada",
   "metadata": {},
   "outputs": [],
   "source": [
    "import pandas as pd\n",
    "pd.set_option(\"display.precision\", 3)"
   ]
  },
  {
   "cell_type": "code",
   "execution_count": 3,
   "id": "7265c857",
   "metadata": {},
   "outputs": [],
   "source": [
    "df = pd.read_csv('CA_deaths_2015-2022.csv')"
   ]
  },
  {
   "cell_type": "code",
   "execution_count": 4,
   "id": "c69b355a",
   "metadata": {},
   "outputs": [
    {
     "data": {
      "text/html": [
       "<div>\n",
       "<style scoped>\n",
       "    .dataframe tbody tr th:only-of-type {\n",
       "        vertical-align: middle;\n",
       "    }\n",
       "\n",
       "    .dataframe tbody tr th {\n",
       "        vertical-align: top;\n",
       "    }\n",
       "\n",
       "    .dataframe thead th {\n",
       "        text-align: right;\n",
       "    }\n",
       "</style>\n",
       "<table border=\"1\" class=\"dataframe\">\n",
       "  <thead>\n",
       "    <tr style=\"text-align: right;\">\n",
       "      <th></th>\n",
       "      <th>2015deaths</th>\n",
       "      <th>2016deaths</th>\n",
       "      <th>2017deaths</th>\n",
       "      <th>2018deaths</th>\n",
       "      <th>2019deaths</th>\n",
       "      <th>2020deaths</th>\n",
       "      <th>2021deaths</th>\n",
       "      <th>2022deaths</th>\n",
       "    </tr>\n",
       "  </thead>\n",
       "  <tbody>\n",
       "    <tr>\n",
       "      <th>0</th>\n",
       "      <td>7.0</td>\n",
       "      <td>8.0</td>\n",
       "      <td>14.0</td>\n",
       "      <td>19.0</td>\n",
       "      <td>22.0</td>\n",
       "      <td>24.0</td>\n",
       "      <td>19.0</td>\n",
       "      <td>17.0</td>\n",
       "    </tr>\n",
       "    <tr>\n",
       "      <th>1</th>\n",
       "      <td>5.0</td>\n",
       "      <td>5.0</td>\n",
       "      <td>13.0</td>\n",
       "      <td>9.0</td>\n",
       "      <td>8.0</td>\n",
       "      <td>24.0</td>\n",
       "      <td>11.0</td>\n",
       "      <td>16.0</td>\n",
       "    </tr>\n",
       "    <tr>\n",
       "      <th>2</th>\n",
       "      <td>5.0</td>\n",
       "      <td>7.0</td>\n",
       "      <td>9.0</td>\n",
       "      <td>10.0</td>\n",
       "      <td>13.0</td>\n",
       "      <td>8.0</td>\n",
       "      <td>12.0</td>\n",
       "      <td>16.0</td>\n",
       "    </tr>\n",
       "    <tr>\n",
       "      <th>3</th>\n",
       "      <td>3.0</td>\n",
       "      <td>7.0</td>\n",
       "      <td>5.0</td>\n",
       "      <td>4.0</td>\n",
       "      <td>7.0</td>\n",
       "      <td>13.0</td>\n",
       "      <td>8.0</td>\n",
       "      <td>11.0</td>\n",
       "    </tr>\n",
       "    <tr>\n",
       "      <th>4</th>\n",
       "      <td>4.0</td>\n",
       "      <td>6.0</td>\n",
       "      <td>8.0</td>\n",
       "      <td>8.0</td>\n",
       "      <td>8.0</td>\n",
       "      <td>11.0</td>\n",
       "      <td>8.0</td>\n",
       "      <td>8.0</td>\n",
       "    </tr>\n",
       "  </tbody>\n",
       "</table>\n",
       "</div>"
      ],
      "text/plain": [
       "   2015deaths  2016deaths  2017deaths  2018deaths  2019deaths  2020deaths  \\\n",
       "0         7.0         8.0        14.0        19.0        22.0        24.0   \n",
       "1         5.0         5.0        13.0         9.0         8.0        24.0   \n",
       "2         5.0         7.0         9.0        10.0        13.0         8.0   \n",
       "3         3.0         7.0         5.0         4.0         7.0        13.0   \n",
       "4         4.0         6.0         8.0         8.0         8.0        11.0   \n",
       "\n",
       "   2021deaths  2022deaths  \n",
       "0        19.0        17.0  \n",
       "1        11.0        16.0  \n",
       "2        12.0        16.0  \n",
       "3         8.0        11.0  \n",
       "4         8.0         8.0  "
      ]
     },
     "execution_count": 4,
     "metadata": {},
     "output_type": "execute_result"
    }
   ],
   "source": [
    "df.head()"
   ]
  },
  {
   "cell_type": "code",
   "execution_count": 5,
   "id": "4f7e50c6",
   "metadata": {},
   "outputs": [
    {
     "data": {
      "text/html": [
       "<div>\n",
       "<style scoped>\n",
       "    .dataframe tbody tr th:only-of-type {\n",
       "        vertical-align: middle;\n",
       "    }\n",
       "\n",
       "    .dataframe tbody tr th {\n",
       "        vertical-align: top;\n",
       "    }\n",
       "\n",
       "    .dataframe thead th {\n",
       "        text-align: right;\n",
       "    }\n",
       "</style>\n",
       "<table border=\"1\" class=\"dataframe\">\n",
       "  <thead>\n",
       "    <tr style=\"text-align: right;\">\n",
       "      <th></th>\n",
       "      <th>2015deaths</th>\n",
       "      <th>2016deaths</th>\n",
       "      <th>2017deaths</th>\n",
       "      <th>2018deaths</th>\n",
       "      <th>2019deaths</th>\n",
       "      <th>2020deaths</th>\n",
       "      <th>2021deaths</th>\n",
       "      <th>2022deaths</th>\n",
       "    </tr>\n",
       "  </thead>\n",
       "  <tbody>\n",
       "    <tr>\n",
       "      <th>1323</th>\n",
       "      <td>0.0</td>\n",
       "      <td>0.0</td>\n",
       "      <td>0.0</td>\n",
       "      <td>0.0</td>\n",
       "      <td>0.0</td>\n",
       "      <td>0.0</td>\n",
       "      <td>0.0</td>\n",
       "      <td>1.0</td>\n",
       "    </tr>\n",
       "    <tr>\n",
       "      <th>1324</th>\n",
       "      <td>0.0</td>\n",
       "      <td>0.0</td>\n",
       "      <td>0.0</td>\n",
       "      <td>0.0</td>\n",
       "      <td>0.0</td>\n",
       "      <td>0.0</td>\n",
       "      <td>0.0</td>\n",
       "      <td>0.0</td>\n",
       "    </tr>\n",
       "    <tr>\n",
       "      <th>1325</th>\n",
       "      <td>0.0</td>\n",
       "      <td>0.0</td>\n",
       "      <td>0.0</td>\n",
       "      <td>0.0</td>\n",
       "      <td>0.0</td>\n",
       "      <td>0.0</td>\n",
       "      <td>0.0</td>\n",
       "      <td>0.0</td>\n",
       "    </tr>\n",
       "    <tr>\n",
       "      <th>1326</th>\n",
       "      <td>0.0</td>\n",
       "      <td>1.0</td>\n",
       "      <td>0.0</td>\n",
       "      <td>0.0</td>\n",
       "      <td>0.0</td>\n",
       "      <td>0.0</td>\n",
       "      <td>0.0</td>\n",
       "      <td>2.0</td>\n",
       "    </tr>\n",
       "    <tr>\n",
       "      <th>1327</th>\n",
       "      <td>0.0</td>\n",
       "      <td>0.0</td>\n",
       "      <td>0.0</td>\n",
       "      <td>0.0</td>\n",
       "      <td>0.0</td>\n",
       "      <td>0.0</td>\n",
       "      <td>0.0</td>\n",
       "      <td>0.0</td>\n",
       "    </tr>\n",
       "  </tbody>\n",
       "</table>\n",
       "</div>"
      ],
      "text/plain": [
       "      2015deaths  2016deaths  2017deaths  2018deaths  2019deaths  2020deaths  \\\n",
       "1323         0.0         0.0         0.0         0.0         0.0         0.0   \n",
       "1324         0.0         0.0         0.0         0.0         0.0         0.0   \n",
       "1325         0.0         0.0         0.0         0.0         0.0         0.0   \n",
       "1326         0.0         1.0         0.0         0.0         0.0         0.0   \n",
       "1327         0.0         0.0         0.0         0.0         0.0         0.0   \n",
       "\n",
       "      2021deaths  2022deaths  \n",
       "1323         0.0         1.0  \n",
       "1324         0.0         0.0  \n",
       "1325         0.0         0.0  \n",
       "1326         0.0         2.0  \n",
       "1327         0.0         0.0  "
      ]
     },
     "execution_count": 5,
     "metadata": {},
     "output_type": "execute_result"
    }
   ],
   "source": [
    "df.tail()"
   ]
  },
  {
   "cell_type": "code",
   "execution_count": 6,
   "id": "488d4fc4",
   "metadata": {},
   "outputs": [
    {
     "data": {
      "text/plain": [
       "24.0"
      ]
     },
     "execution_count": 6,
     "metadata": {},
     "output_type": "execute_result"
    }
   ],
   "source": [
    "df.values.max()"
   ]
  },
  {
   "cell_type": "code",
   "execution_count": 7,
   "id": "bb29b9fc",
   "metadata": {},
   "outputs": [],
   "source": [
    "A = df.values[:]"
   ]
  },
  {
   "cell_type": "code",
   "execution_count": 8,
   "id": "9838e957",
   "metadata": {},
   "outputs": [
    {
     "data": {
      "text/plain": [
       "array([[ 7.,  8., 14., 19., 22., 24., 19., 17.],\n",
       "       [ 5.,  5., 13.,  9.,  8., 24., 11., 16.],\n",
       "       [ 5.,  7.,  9., 10., 13.,  8., 12., 16.],\n",
       "       [ 3.,  7.,  5.,  4.,  7., 13.,  8., 11.]])"
      ]
     },
     "execution_count": 8,
     "metadata": {},
     "output_type": "execute_result"
    }
   ],
   "source": [
    "A[:4]"
   ]
  },
  {
   "cell_type": "code",
   "execution_count": 9,
   "id": "6d53215b",
   "metadata": {},
   "outputs": [],
   "source": [
    "T = 2 # num test\n",
    "L = 2 # num lookback\n",
    "\n",
    "\n",
    "x_list = []\n",
    "y_list = []\n",
    "\n",
    "x_te_list = []\n",
    "y_te_list = []\n",
    "\n",
    "for p in range(L, A.shape[1]):\n",
    "    x_N2 = A[:, (p-L):p]\n",
    "    y_N = A[:, p][:,np.newaxis]\n",
    "\n",
    "    if p > A.shape[1] - T:\n",
    "        # test set\n",
    "        x_te_list.append(x_N2)\n",
    "        y_te_list.append(y_N)\n",
    "    else:\n",
    "        x_list.append(x_N2)\n",
    "        y_list.append(y_N)\n",
    "        "
   ]
  },
  {
   "cell_type": "code",
   "execution_count": 10,
   "id": "cd2ba4d2",
   "metadata": {},
   "outputs": [],
   "source": [
    "train_x_N2 = np.vstack(x_list)\n",
    "train_y_N1 = np.vstack(y_list)\n",
    "\n",
    "test_x_N2 = np.vstack(x_te_list)\n",
    "test_y_N1 = np.vstack(y_te_list)"
   ]
  },
  {
   "cell_type": "code",
   "execution_count": 11,
   "id": "70d02e02",
   "metadata": {},
   "outputs": [],
   "source": [
    "import sklearn.linear_model"
   ]
  },
  {
   "cell_type": "code",
   "execution_count": 12,
   "id": "2a17b8d2",
   "metadata": {},
   "outputs": [],
   "source": [
    "model = sklearn.linear_model.LinearRegression()"
   ]
  },
  {
   "cell_type": "code",
   "execution_count": 13,
   "id": "fbbc1e27",
   "metadata": {},
   "outputs": [
    {
     "data": {
      "text/plain": [
       "LinearRegression()"
      ]
     },
     "execution_count": 13,
     "metadata": {},
     "output_type": "execute_result"
    }
   ],
   "source": [
    "model.fit(train_x_N2, train_y_N1)"
   ]
  },
  {
   "cell_type": "code",
   "execution_count": 14,
   "id": "ba0fca8f",
   "metadata": {},
   "outputs": [
    {
     "data": {
      "text/plain": [
       "array([[0.42367552, 0.47476729]])"
      ]
     },
     "execution_count": 14,
     "metadata": {},
     "output_type": "execute_result"
    }
   ],
   "source": [
    "model.coef_"
   ]
  },
  {
   "cell_type": "code",
   "execution_count": 15,
   "id": "9fd6c32e",
   "metadata": {},
   "outputs": [
    {
     "data": {
      "text/plain": [
       "array([0.27662864])"
      ]
     },
     "execution_count": 15,
     "metadata": {},
     "output_type": "execute_result"
    }
   ],
   "source": [
    "model.intercept_"
   ]
  },
  {
   "cell_type": "code",
   "execution_count": 16,
   "id": "8ac15544",
   "metadata": {},
   "outputs": [],
   "source": [
    "yhat_N1 = model.predict(test_x_N2)"
   ]
  },
  {
   "cell_type": "code",
   "execution_count": 17,
   "id": "eafdde4e",
   "metadata": {},
   "outputs": [
    {
     "data": {
      "text/plain": [
       "19.465419706589834"
      ]
     },
     "execution_count": 17,
     "metadata": {},
     "output_type": "execute_result"
    }
   ],
   "source": [
    "yhat_N1.max()"
   ]
  },
  {
   "cell_type": "code",
   "execution_count": 18,
   "id": "a1f1fc1f",
   "metadata": {},
   "outputs": [
    {
     "data": {
      "text/plain": [
       "0.2766286440512751"
      ]
     },
     "execution_count": 18,
     "metadata": {},
     "output_type": "execute_result"
    }
   ],
   "source": [
    "yhat_N1.min()"
   ]
  },
  {
   "cell_type": "code",
   "execution_count": 19,
   "id": "0de2c98c",
   "metadata": {},
   "outputs": [
    {
     "data": {
      "text/plain": [
       "array([[24., 19.],\n",
       "       [24., 11.],\n",
       "       [ 8., 12.],\n",
       "       [13.,  8.],\n",
       "       [11.,  8.]])"
      ]
     },
     "execution_count": 19,
     "metadata": {},
     "output_type": "execute_result"
    }
   ],
   "source": [
    "test_x_N2[:5]"
   ]
  },
  {
   "cell_type": "code",
   "execution_count": 20,
   "id": "990bde85",
   "metadata": {},
   "outputs": [
    {
     "data": {
      "text/plain": [
       "array([[19.46541971],\n",
       "       [15.66728136],\n",
       "       [ 9.36324033],\n",
       "       [ 9.58254876],\n",
       "       [ 8.73519771]])"
      ]
     },
     "execution_count": 20,
     "metadata": {},
     "output_type": "execute_result"
    }
   ],
   "source": [
    "yhat_N1[:5]"
   ]
  },
  {
   "cell_type": "markdown",
   "id": "5e9abcbb",
   "metadata": {},
   "source": [
    "## Try to build jax model"
   ]
  },
  {
   "cell_type": "code",
   "execution_count": 21,
   "id": "c29a6bc3",
   "metadata": {},
   "outputs": [],
   "source": [
    "import numpy as np\n",
    "\n",
    "from jax import config\n",
    "config.update(\"jax_enable_x64\", True)\n",
    "config.update('jax_platform_name', 'cpu')\n",
    "\n",
    "import jax\n",
    "import jax.numpy as jnp\n",
    "\n",
    "\n",
    "import scipy.optimize"
   ]
  },
  {
   "cell_type": "code",
   "execution_count": null,
   "id": "86e7153c",
   "metadata": {},
   "outputs": [],
   "source": []
  },
  {
   "cell_type": "code",
   "execution_count": 22,
   "id": "520f6492",
   "metadata": {},
   "outputs": [],
   "source": [
    "def calc_neg_log_lik(theta, x_N2, y_N, to_pos=jnp.exp, reduce=True):\n",
    "    N = x_N2.shape[0]\n",
    "    y_N = jnp.reshape(y_N, (N,))\n",
    "    mu_N = to_pos(theta[0] + jnp.dot(x_N2, theta[1:]))\n",
    "    assert mu_N.shape == (N,)\n",
    "    assert y_N.shape == mu_N.shape\n",
    "    loglik_N = -mu_N + y_N * jnp.log(mu_N)\n",
    "    if reduce:\n",
    "        return -1.0 * jnp.mean(loglik_N)\n",
    "    else:\n",
    "        return -1.0 * loglik_N\n",
    "\n",
    "class MyPoissonGLM():\n",
    "    \n",
    "    def __init__(self, init_theta=np.zeros(3), to_pos=jnp.exp, theta=None):\n",
    "        self.to_pos = to_pos\n",
    "        self.init_theta = init_theta\n",
    "        if theta is not None:\n",
    "            self.theta = theta\n",
    "            self.coef_ = theta[1:].copy()\n",
    "            self.intercept_ = theta[0].copy()\n",
    "        \n",
    "    def fit(self, x_N2, y_N):\n",
    "        calc_grad = jax.grad(calc_neg_log_lik, argnums=[0])\n",
    "\n",
    "        def f(theta, *args):\n",
    "            return np.asarray(calc_neg_log_lik(theta, *args), dtype=np.float64, order='F').item()\n",
    "        def g(theta, *args):\n",
    "            return np.asarray(calc_grad(theta, *args)[0], dtype=np.float64, order='F').copy()\n",
    "        ans = scipy.optimize.minimize(\n",
    "            f, self.init_theta, args=(x_N2, y_N, self.to_pos), jac=g,\n",
    "            method='L-BFGS-B',\n",
    "            options={'ftol':1e-13, 'gtol':1e-14})\n",
    "        self.ans = ans\n",
    "        self.theta = ans.x\n",
    "        self.intercept_ = ans.x[0].copy()\n",
    "        self.coef_ = ans.x[1:].copy()\n",
    "        return self\n",
    "        \n",
    "    def predict(self, x_N2):\n",
    "        return self.to_pos(self.intercept_ + np.dot(x_N2, self.coef_))\n",
    "    \n",
    "    def score(self, x_N2, y_N, eval_logpmf_method='scipy'):\n",
    "        if eval_logpmf_method.count('scipy'):\n",
    "            mu_N = self.predict(x_N2)\n",
    "            return np.mean([-1.0 * scipy.stats.poisson(mu).logpmf(y) for (mu, y) in zip(mu_N, y_N)])\n",
    "        else:\n",
    "            return calc_neg_log_lik(self.theta, x_N2, y_N, to_pos=self.to_pos).item()"
   ]
  },
  {
   "cell_type": "markdown",
   "id": "2519d2e4",
   "metadata": {},
   "source": [
    "# Common evaluation metrics"
   ]
  },
  {
   "cell_type": "code",
   "execution_count": 23,
   "id": "bc792b18",
   "metadata": {},
   "outputs": [],
   "source": [
    "def make_model_perf_df(model, method_name=None, eval_logpmf_method='scipy'):\n",
    "    yhat_stats_list = list()\n",
    "    for split_label, x, y in [(\"train\", train_x_N2, train_y_N1), (\"test\", test_x_N2, test_y_N1)]:\n",
    "\n",
    "        rmse = np.sqrt(np.mean(np.square(y-model.predict(x))))\n",
    "        mae = np.mean(np.abs(y-model.predict(x)))\n",
    "        neglogpmf = model.score(x, y, eval_logpmf_method)\n",
    "\n",
    "        yhat_df = pd.DataFrame(model.predict(x))\n",
    "        yhat_stats_df = yhat_df.describe(percentiles=[0.01, 0.1, 0.9, 0.99]).T.copy()\n",
    "        \n",
    "        yhat_stats_df.insert(0, 'rmse', rmse)\n",
    "        yhat_stats_df.insert(0, 'mae', mae)\n",
    "        yhat_stats_df.insert(0, 'neglogpmf', neglogpmf)\n",
    "        yhat_stats_df.insert(0, 'split', split_label)\n",
    "        if method_name is not None:\n",
    "            yhat_stats_df.insert(0, 'method', method_name)\n",
    "        yhat_stats_list.append(yhat_stats_df)\n",
    "        \n",
    "    df = pd.concat(yhat_stats_list).reset_index(drop=True).copy()\n",
    "    return df"
   ]
  },
  {
   "cell_type": "code",
   "execution_count": 24,
   "id": "de24462a",
   "metadata": {},
   "outputs": [],
   "source": [
    "eval_logpmf_method = 'scipy'"
   ]
  },
  {
   "cell_type": "code",
   "execution_count": 25,
   "id": "376448fa",
   "metadata": {},
   "outputs": [],
   "source": [
    "cols_to_print = ['method', 'split', 'neglogpmf', 'mae', 'rmse', 'min', 'mean', 'max']"
   ]
  },
  {
   "cell_type": "markdown",
   "id": "f75afd56",
   "metadata": {},
   "source": [
    "## sklearn PoissonRegressor model with alpha = 0.0 (corresponds to max lik on train)"
   ]
  },
  {
   "cell_type": "code",
   "execution_count": 26,
   "id": "fb2a792c",
   "metadata": {},
   "outputs": [],
   "source": [
    "sk_model_alph0 = sklearn.linear_model.PoissonRegressor(alpha=0.0)"
   ]
  },
  {
   "cell_type": "code",
   "execution_count": 27,
   "id": "0f3a1019",
   "metadata": {},
   "outputs": [
    {
     "data": {
      "text/plain": [
       "PoissonRegressor(alpha=0.0)"
      ]
     },
     "execution_count": 27,
     "metadata": {},
     "output_type": "execute_result"
    }
   ],
   "source": [
    "sk_model_alph0.fit(train_x_N2, train_y_N1[:,0])"
   ]
  },
  {
   "cell_type": "code",
   "execution_count": 28,
   "id": "410fcdf7",
   "metadata": {},
   "outputs": [
    {
     "name": "stdout",
     "output_type": "stream",
     "text": [
      "      method  split  neglogpmf    mae   rmse    min   mean      max\n",
      "0  sk_alpha0  train      1.389  1.123  2.633  0.789  1.034  134.872\n",
      "1  sk_alpha0   test      1.577  1.489  3.322  0.789  1.256   83.123\n"
     ]
    }
   ],
   "source": [
    "my_sk0_model = MyPoissonGLM(theta=np.hstack([sk_model_alph0.intercept_, sk_model_alph0.coef_]))\n",
    "perf_sk_alpha0 = make_model_perf_df(my_sk0_model, 'sk_alpha0', eval_logpmf_method)\n",
    "print(perf_sk_alpha0[cols_to_print])"
   ]
  },
  {
   "cell_type": "markdown",
   "id": "492d1c05",
   "metadata": {},
   "source": [
    "## sklearn PoissonRegressor model with alpha default"
   ]
  },
  {
   "cell_type": "code",
   "execution_count": 29,
   "id": "47977357",
   "metadata": {},
   "outputs": [],
   "source": [
    "sk_model_alph1 = sklearn.linear_model.PoissonRegressor(alpha=1.0)"
   ]
  },
  {
   "cell_type": "code",
   "execution_count": 30,
   "id": "b31a0a43",
   "metadata": {},
   "outputs": [
    {
     "data": {
      "text/plain": [
       "PoissonRegressor()"
      ]
     },
     "execution_count": 30,
     "metadata": {},
     "output_type": "execute_result"
    }
   ],
   "source": [
    "sk_model_alph1.fit(train_x_N2, train_y_N1[:,0])"
   ]
  },
  {
   "cell_type": "code",
   "execution_count": 31,
   "id": "1e001d85",
   "metadata": {},
   "outputs": [
    {
     "name": "stdout",
     "output_type": "stream",
     "text": [
      "      method  split  neglogpmf    mae   rmse    min   mean      max\n",
      "0  sk_alpha1  train      1.390  1.116  2.468  0.798  1.034  120.073\n",
      "1  sk_alpha1   test      1.576  1.475  3.176  0.798  1.247   76.787\n"
     ]
    }
   ],
   "source": [
    "my_sk1_model = MyPoissonGLM(theta=np.hstack([sk_model_alph1.intercept_, sk_model_alph1.coef_]))\n",
    "perf_sk_alpha1 = make_model_perf_df(my_sk1_model, 'sk_alpha1', eval_logpmf_method)\n",
    "print(perf_sk_alpha1[cols_to_print])"
   ]
  },
  {
   "cell_type": "markdown",
   "id": "73845bee",
   "metadata": {},
   "source": [
    "## Flat model (intercept set to train mean, coefs all zero)"
   ]
  },
  {
   "cell_type": "code",
   "execution_count": 32,
   "id": "bcb38f31",
   "metadata": {},
   "outputs": [],
   "source": [
    "flat_model = MyPoissonGLM(theta=np.asarray([np.log(np.mean(train_y_N1)), 0., 0.]))"
   ]
  },
  {
   "cell_type": "code",
   "execution_count": 33,
   "id": "eda0073f",
   "metadata": {},
   "outputs": [
    {
     "name": "stdout",
     "output_type": "stream",
     "text": [
      "  method  split  neglogpmf    mae   rmse    min   mean    max\n",
      "0   flat  train      1.594  1.037  1.657  1.034  1.034  1.034\n",
      "1   flat   test      1.977  1.264  2.079  1.034  1.034  1.034\n"
     ]
    }
   ],
   "source": [
    "perf_flat = make_model_perf_df(flat_model, 'flat', eval_logpmf_method)\n",
    "print(perf_flat[cols_to_print])"
   ]
  },
  {
   "cell_type": "markdown",
   "id": "538c922a",
   "metadata": {},
   "source": [
    "## Existing model\n",
    "\n",
    ">  learned coefficients are [0.13583314, 0.13693048] and the intercept is -0.457"
   ]
  },
  {
   "cell_type": "code",
   "execution_count": 34,
   "id": "d622c110",
   "metadata": {},
   "outputs": [],
   "source": [
    "cur_model = MyPoissonGLM(theta=np.asarray([-0.457, 0.1358, 0.1369]))"
   ]
  },
  {
   "cell_type": "code",
   "execution_count": 35,
   "id": "bbd866e4",
   "metadata": {},
   "outputs": [
    {
     "name": "stdout",
     "output_type": "stream",
     "text": [
      "      method  split  neglogpmf    mae   rmse    min   mean      max\n",
      "0  fromslack  train      1.422  1.166  5.006  0.633  0.939  335.694\n",
      "1  fromslack   test      1.700  1.665  6.867  0.633  1.293  222.138\n"
     ]
    }
   ],
   "source": [
    "perf_cur = make_model_perf_df(cur_model, 'fromslack', eval_logpmf_method)\n",
    "print(perf_cur[cols_to_print])"
   ]
  },
  {
   "cell_type": "markdown",
   "id": "15a3cbf6",
   "metadata": {},
   "source": [
    "## Our JAX model with link = softplus"
   ]
  },
  {
   "cell_type": "code",
   "execution_count": 36,
   "id": "6fd43382",
   "metadata": {},
   "outputs": [
    {
     "data": {
      "text/plain": [
       "<__main__.MyPoissonGLM at 0x7fedc8ced5b0>"
      ]
     },
     "execution_count": 36,
     "metadata": {},
     "output_type": "execute_result"
    }
   ],
   "source": [
    "our_sp_model = MyPoissonGLM(to_pos=jax.nn.softplus)\n",
    "our_sp_model.fit(train_x_N2, train_y_N1)"
   ]
  },
  {
   "cell_type": "code",
   "execution_count": 37,
   "id": "23c001a7",
   "metadata": {},
   "outputs": [
    {
     "name": "stdout",
     "output_type": "stream",
     "text": [
      "    method  split  neglogpmf    mae   rmse    min   mean     max\n",
      "0  ours_sp  train      1.290  1.221  1.967  0.469  1.031  24.399\n",
      "1  ours_sp   test      1.422  1.674  2.669  0.469  1.436  22.542\n"
     ]
    }
   ],
   "source": [
    "perf_ours_sp = make_model_perf_df(our_sp_model, 'ours_sp', eval_logpmf_method)\n",
    "print(perf_ours_sp[cols_to_print])"
   ]
  },
  {
   "cell_type": "markdown",
   "id": "5a4bd101",
   "metadata": {},
   "source": [
    "### Our JAX with link = log (should match the sklearn implementation exactly)"
   ]
  },
  {
   "cell_type": "code",
   "execution_count": 38,
   "id": "04dd1438",
   "metadata": {},
   "outputs": [],
   "source": [
    "our_log_model = MyPoissonGLM(to_pos=jnp.exp)"
   ]
  },
  {
   "cell_type": "code",
   "execution_count": 39,
   "id": "186464bf",
   "metadata": {},
   "outputs": [
    {
     "data": {
      "text/plain": [
       "<__main__.MyPoissonGLM at 0x7fedca9939a0>"
      ]
     },
     "execution_count": 39,
     "metadata": {},
     "output_type": "execute_result"
    }
   ],
   "source": [
    "our_log_model.fit(train_x_N2, train_y_N1)"
   ]
  },
  {
   "cell_type": "code",
   "execution_count": 40,
   "id": "300b28e3",
   "metadata": {},
   "outputs": [
    {
     "name": "stdout",
     "output_type": "stream",
     "text": [
      "     method  split  neglogpmf    mae   rmse    min   mean      max\n",
      "0  ours_log  train      1.389  1.123  2.633  0.789  1.034  134.872\n",
      "1  ours_log   test      1.577  1.489  3.322  0.789  1.256   83.123\n"
     ]
    }
   ],
   "source": [
    "perf_ours_log = make_model_perf_df(our_log_model, 'ours_log', eval_logpmf_method)\n",
    "print(perf_ours_log[cols_to_print])"
   ]
  },
  {
   "cell_type": "code",
   "execution_count": 41,
   "id": "fd836e65",
   "metadata": {},
   "outputs": [
    {
     "name": "stdout",
     "output_type": "stream",
     "text": [
      "   method split  neglogpmf   mae  rmse   min  mean     max\n",
      "fromslack  test      1.700 1.665 6.867 0.633 1.293 222.138\n",
      "sk_alpha0  test      1.577 1.489 3.322 0.789 1.256  83.123\n",
      " ours_log  test      1.577 1.489 3.322 0.789 1.256  83.123\n",
      "  ours_sp  test      1.422 1.674 2.669 0.469 1.436  22.542\n"
     ]
    }
   ],
   "source": [
    "agg_df = pd.concat([perf_cur, perf_sk_alpha0, perf_ours_log, perf_ours_sp]).copy()\n",
    "\n",
    "print(agg_df.query(\"split == 'test'\")[cols_to_print].to_string(index=False))"
   ]
  },
  {
   "cell_type": "markdown",
   "id": "37df0d4f",
   "metadata": {},
   "source": [
    "## Final numbers\n",
    "\n",
    "(just copy-pasted from above)\n",
    "\n",
    "```\n",
    "                       link  negloglik   MAE  RMSE max(yhat)\n",
    "copied from slack       log      1.700 1.665 6.867  222.138\n",
    "using sklearn PoiReg    log      1.577 1.489 3.322   83.123\n",
    "using our JAX           log      1.577 1.489 3.322   83.123\n",
    "using our JAX      softplus      1.422 1.674 2.669   22.542\n",
    "```"
   ]
  },
  {
   "cell_type": "code",
   "execution_count": null,
   "id": "f6325064",
   "metadata": {},
   "outputs": [],
   "source": []
  }
 ],
 "metadata": {
  "kernelspec": {
   "display_name": "Python 3 (ipykernel)",
   "language": "python",
   "name": "python3"
  },
  "language_info": {
   "codemirror_mode": {
    "name": "ipython",
    "version": 3
   },
   "file_extension": ".py",
   "mimetype": "text/x-python",
   "name": "python",
   "nbconvert_exporter": "python",
   "pygments_lexer": "ipython3",
   "version": "3.9.2"
  }
 },
 "nbformat": 4,
 "nbformat_minor": 5
}
