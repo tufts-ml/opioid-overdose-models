{
 "cells": [
  {
   "cell_type": "code",
   "execution_count": 11,
   "id": "76feffdc",
   "metadata": {},
   "outputs": [],
   "source": [
    "%matplotlib inline\n",
    "import os\n",
    "from glob import glob\n",
    "import time\n",
    "\n",
    "import pandas as pd\n",
    "import numpy as np\n",
    "import matplotlib.pyplot as plt\n",
    "\n",
    "\n",
    "import censusgeocode as cg\n",
    "import geopandas as gpd"
   ]
  },
  {
   "cell_type": "code",
   "execution_count": 12,
   "id": "d436cab0",
   "metadata": {},
   "outputs": [],
   "source": [
    "data_dir = '/cluster/tufts/hugheslab/datasets/NSF_OD/'\n",
    "result_dir = os.path.join(data_dir, 'results_20220606_update')\n",
    "mass_shapefile = os.path.join(data_dir,'shapefiles','MA_2021')\n",
    "\n",
    "if not os.path.exists(result_dir):\n",
    "    os.makedirs(result_dir)"
   ]
  },
  {
   "cell_type": "code",
   "execution_count": 13,
   "id": "c3d46cd9",
   "metadata": {},
   "outputs": [],
   "source": [
    "\n",
    "# not every file is an xlsx, 🤌\n",
    "pre_2017_wildcard = os.path.join(data_dir,'MAOpiDths20*_clean.xls*')\n",
    "post_2017_wildcard = os.path.join(data_dir, 'RVRS_Opioids*')\n",
    "\n",
    "pre_2017_files = glob(pre_2017_wildcard)\n",
    "pre_2017_years = [int(os.path.basename(file).split('_')[0][-4:]) for file in pre_2017_files]\n",
    "\n",
    "post_2017_files = glob(post_2017_wildcard)\n",
    "post_2017_years = [int(os.path.splitext(os.path.basename(file))[0].split('_')[2]) for file in post_2017_files]\n",
    "\n",
    "all_files = pre_2017_files + post_2017_files\n",
    "all_years = pre_2017_years + post_2017_years\n",
    "\n",
    "relevant_files = []\n",
    "relevant_years = []\n",
    "for file, year in zip(all_files, all_years):\n",
    "    filename = os.path.basename(file)\n",
    "    \n",
    "    relevant_files.append(file)\n",
    "    relevant_years.append(year)\n",
    "    \n",
    "# Make sure years are unique\n",
    "assert(len(set(relevant_years))==len(relevant_years))\n",
    "\n"
   ]
  },
  {
   "cell_type": "code",
   "execution_count": 14,
   "id": "6683cf7d",
   "metadata": {},
   "outputs": [
    {
     "name": "stdout",
     "output_type": "stream",
     "text": [
      "0 rows in 2000 dont have a death date, 0.00% of total\n",
      "In 2000 0 rows have missing decdent address, 0.0% of total\n",
      "Adjusting 1 hyphenated addresses in 2000.\n",
      "Adjusting 16 addresses with letters in 2000.\n",
      "2000 is missing SFN_NUM, creating new column [year]_[row]\n",
      "Ignoring 12 decdencts not from  MA\n"
     ]
    },
    {
     "name": "stderr",
     "output_type": "stream",
     "text": [
      "/tmp/ipykernel_27706/3350061342.py:87: FutureWarning: The default value of regex will change from True to False in a future version.\n",
      "  alphabetic_rows = (filtered_df['RES_ADDR_NUM'] != filtered_df['RES_ADDR_NUM'].str.replace(r'\\D','')).sum()\n",
      "/tmp/ipykernel_27706/3350061342.py:91: FutureWarning: The default value of regex will change from True to False in a future version.\n",
      "  filtered_df.loc[:,'RES_ADDR_NUM'] = filtered_df['RES_ADDR_NUM'].str.replace(r'\\D','')\n",
      "/tmp/ipykernel_27706/3350061342.py:105: FutureWarning: The frame.append method is deprecated and will be removed from pandas in a future version. Use pandas.concat instead.\n",
      "  address_df = address_df.append(filtered_df[['SFN_NUM', 'address','RES_CITY', 'RES_STATE', 'RES_ZIP']])\n",
      "/tmp/ipykernel_27706/3350061342.py:106: FutureWarning: The frame.append method is deprecated and will be removed from pandas in a future version. Use pandas.concat instead.\n",
      "  all_filtered_df = all_filtered_df.append(filtered_df)\n"
     ]
    },
    {
     "name": "stdout",
     "output_type": "stream",
     "text": [
      "0 rows in 2001 dont have a death date, 0.00% of total\n",
      "In 2001 0 rows have missing decdent address, 0.0% of total\n",
      "Adjusting 2 hyphenated addresses in 2001.\n",
      "Adjusting 6 addresses with letters in 2001.\n",
      "2001 is missing SFN_NUM, creating new column [year]_[row]\n",
      "Ignoring 21 decdencts not from  MA\n"
     ]
    },
    {
     "name": "stderr",
     "output_type": "stream",
     "text": [
      "/tmp/ipykernel_27706/3350061342.py:87: FutureWarning: The default value of regex will change from True to False in a future version.\n",
      "  alphabetic_rows = (filtered_df['RES_ADDR_NUM'] != filtered_df['RES_ADDR_NUM'].str.replace(r'\\D','')).sum()\n",
      "/tmp/ipykernel_27706/3350061342.py:91: FutureWarning: The default value of regex will change from True to False in a future version.\n",
      "  filtered_df.loc[:,'RES_ADDR_NUM'] = filtered_df['RES_ADDR_NUM'].str.replace(r'\\D','')\n",
      "/tmp/ipykernel_27706/3350061342.py:105: FutureWarning: The frame.append method is deprecated and will be removed from pandas in a future version. Use pandas.concat instead.\n",
      "  address_df = address_df.append(filtered_df[['SFN_NUM', 'address','RES_CITY', 'RES_STATE', 'RES_ZIP']])\n",
      "/tmp/ipykernel_27706/3350061342.py:106: FutureWarning: The frame.append method is deprecated and will be removed from pandas in a future version. Use pandas.concat instead.\n",
      "  all_filtered_df = all_filtered_df.append(filtered_df)\n"
     ]
    },
    {
     "name": "stdout",
     "output_type": "stream",
     "text": [
      "0 rows in 2002 dont have a death date, 0.00% of total\n",
      "In 2002 0 rows have missing decdent address, 0.0% of total\n",
      "Adjusting 15 addresses with letters in 2002.\n",
      "2002 is missing SFN_NUM, creating new column [year]_[row]\n",
      "Ignoring 22 decdencts not from  MA\n"
     ]
    },
    {
     "name": "stderr",
     "output_type": "stream",
     "text": [
      "/tmp/ipykernel_27706/3350061342.py:87: FutureWarning: The default value of regex will change from True to False in a future version.\n",
      "  alphabetic_rows = (filtered_df['RES_ADDR_NUM'] != filtered_df['RES_ADDR_NUM'].str.replace(r'\\D','')).sum()\n",
      "/tmp/ipykernel_27706/3350061342.py:91: FutureWarning: The default value of regex will change from True to False in a future version.\n",
      "  filtered_df.loc[:,'RES_ADDR_NUM'] = filtered_df['RES_ADDR_NUM'].str.replace(r'\\D','')\n",
      "/tmp/ipykernel_27706/3350061342.py:105: FutureWarning: The frame.append method is deprecated and will be removed from pandas in a future version. Use pandas.concat instead.\n",
      "  address_df = address_df.append(filtered_df[['SFN_NUM', 'address','RES_CITY', 'RES_STATE', 'RES_ZIP']])\n",
      "/tmp/ipykernel_27706/3350061342.py:106: FutureWarning: The frame.append method is deprecated and will be removed from pandas in a future version. Use pandas.concat instead.\n",
      "  all_filtered_df = all_filtered_df.append(filtered_df)\n"
     ]
    },
    {
     "name": "stdout",
     "output_type": "stream",
     "text": [
      "0 rows in 2003 dont have a death date, 0.00% of total\n",
      "In 2003 0 rows have missing decdent address, 0.0% of total\n",
      "Adjusting 3 hyphenated addresses in 2003.\n",
      "Adjusting 11 addresses with letters in 2003.\n",
      "2003 is missing SFN_NUM, creating new column [year]_[row]\n",
      "Ignoring 17 decdencts not from  MA\n"
     ]
    },
    {
     "name": "stderr",
     "output_type": "stream",
     "text": [
      "/tmp/ipykernel_27706/3350061342.py:87: FutureWarning: The default value of regex will change from True to False in a future version.\n",
      "  alphabetic_rows = (filtered_df['RES_ADDR_NUM'] != filtered_df['RES_ADDR_NUM'].str.replace(r'\\D','')).sum()\n",
      "/tmp/ipykernel_27706/3350061342.py:91: FutureWarning: The default value of regex will change from True to False in a future version.\n",
      "  filtered_df.loc[:,'RES_ADDR_NUM'] = filtered_df['RES_ADDR_NUM'].str.replace(r'\\D','')\n",
      "/tmp/ipykernel_27706/3350061342.py:105: FutureWarning: The frame.append method is deprecated and will be removed from pandas in a future version. Use pandas.concat instead.\n",
      "  address_df = address_df.append(filtered_df[['SFN_NUM', 'address','RES_CITY', 'RES_STATE', 'RES_ZIP']])\n",
      "/tmp/ipykernel_27706/3350061342.py:106: FutureWarning: The frame.append method is deprecated and will be removed from pandas in a future version. Use pandas.concat instead.\n",
      "  all_filtered_df = all_filtered_df.append(filtered_df)\n"
     ]
    },
    {
     "name": "stdout",
     "output_type": "stream",
     "text": [
      "0 rows in 2004 dont have a death date, 0.00% of total\n",
      "In 2004 0 rows have missing decdent address, 0.0% of total\n",
      "Adjusting 2 hyphenated addresses in 2004.\n",
      "Adjusting 10 addresses with letters in 2004.\n",
      "2004 is missing SFN_NUM, creating new column [year]_[row]\n",
      "Ignoring 17 decdencts not from  MA\n"
     ]
    },
    {
     "name": "stderr",
     "output_type": "stream",
     "text": [
      "/tmp/ipykernel_27706/3350061342.py:87: FutureWarning: The default value of regex will change from True to False in a future version.\n",
      "  alphabetic_rows = (filtered_df['RES_ADDR_NUM'] != filtered_df['RES_ADDR_NUM'].str.replace(r'\\D','')).sum()\n",
      "/tmp/ipykernel_27706/3350061342.py:91: FutureWarning: The default value of regex will change from True to False in a future version.\n",
      "  filtered_df.loc[:,'RES_ADDR_NUM'] = filtered_df['RES_ADDR_NUM'].str.replace(r'\\D','')\n",
      "/tmp/ipykernel_27706/3350061342.py:105: FutureWarning: The frame.append method is deprecated and will be removed from pandas in a future version. Use pandas.concat instead.\n",
      "  address_df = address_df.append(filtered_df[['SFN_NUM', 'address','RES_CITY', 'RES_STATE', 'RES_ZIP']])\n",
      "/tmp/ipykernel_27706/3350061342.py:106: FutureWarning: The frame.append method is deprecated and will be removed from pandas in a future version. Use pandas.concat instead.\n",
      "  all_filtered_df = all_filtered_df.append(filtered_df)\n"
     ]
    },
    {
     "name": "stdout",
     "output_type": "stream",
     "text": [
      "0 rows in 2005 dont have a death date, 0.00% of total\n",
      "In 2005 0 rows have missing decdent address, 0.0% of total\n",
      "Adjusting 13 addresses with letters in 2005.\n",
      "2005 is missing SFN_NUM, creating new column [year]_[row]\n",
      "Ignoring 23 decdencts not from  MA\n"
     ]
    },
    {
     "name": "stderr",
     "output_type": "stream",
     "text": [
      "/tmp/ipykernel_27706/3350061342.py:87: FutureWarning: The default value of regex will change from True to False in a future version.\n",
      "  alphabetic_rows = (filtered_df['RES_ADDR_NUM'] != filtered_df['RES_ADDR_NUM'].str.replace(r'\\D','')).sum()\n",
      "/tmp/ipykernel_27706/3350061342.py:91: FutureWarning: The default value of regex will change from True to False in a future version.\n",
      "  filtered_df.loc[:,'RES_ADDR_NUM'] = filtered_df['RES_ADDR_NUM'].str.replace(r'\\D','')\n",
      "/tmp/ipykernel_27706/3350061342.py:105: FutureWarning: The frame.append method is deprecated and will be removed from pandas in a future version. Use pandas.concat instead.\n",
      "  address_df = address_df.append(filtered_df[['SFN_NUM', 'address','RES_CITY', 'RES_STATE', 'RES_ZIP']])\n",
      "/tmp/ipykernel_27706/3350061342.py:106: FutureWarning: The frame.append method is deprecated and will be removed from pandas in a future version. Use pandas.concat instead.\n",
      "  all_filtered_df = all_filtered_df.append(filtered_df)\n"
     ]
    },
    {
     "name": "stdout",
     "output_type": "stream",
     "text": [
      "0 rows in 2006 dont have a death date, 0.00% of total\n",
      "In 2006 1 rows have missing decdent address, 0.1% of total\n",
      "Adjusting 3 hyphenated addresses in 2006.\n",
      "Adjusting 15 addresses with letters in 2006.\n",
      "2006 is missing SFN_NUM, creating new column [year]_[row]\n",
      "Ignoring 25 decdencts not from  MA\n"
     ]
    },
    {
     "name": "stderr",
     "output_type": "stream",
     "text": [
      "/tmp/ipykernel_27706/3350061342.py:87: FutureWarning: The default value of regex will change from True to False in a future version.\n",
      "  alphabetic_rows = (filtered_df['RES_ADDR_NUM'] != filtered_df['RES_ADDR_NUM'].str.replace(r'\\D','')).sum()\n",
      "/tmp/ipykernel_27706/3350061342.py:91: FutureWarning: The default value of regex will change from True to False in a future version.\n",
      "  filtered_df.loc[:,'RES_ADDR_NUM'] = filtered_df['RES_ADDR_NUM'].str.replace(r'\\D','')\n",
      "/tmp/ipykernel_27706/3350061342.py:105: FutureWarning: The frame.append method is deprecated and will be removed from pandas in a future version. Use pandas.concat instead.\n",
      "  address_df = address_df.append(filtered_df[['SFN_NUM', 'address','RES_CITY', 'RES_STATE', 'RES_ZIP']])\n",
      "/tmp/ipykernel_27706/3350061342.py:106: FutureWarning: The frame.append method is deprecated and will be removed from pandas in a future version. Use pandas.concat instead.\n",
      "  all_filtered_df = all_filtered_df.append(filtered_df)\n"
     ]
    },
    {
     "name": "stdout",
     "output_type": "stream",
     "text": [
      "0 rows in 2007 dont have a death date, 0.00% of total\n",
      "In 2007 0 rows have missing decdent address, 0.0% of total\n",
      "Adjusting 3 hyphenated addresses in 2007.\n",
      "Adjusting 14 addresses with letters in 2007.\n",
      "2007 is missing SFN_NUM, creating new column [year]_[row]\n",
      "Ignoring 19 decdencts not from  MA\n"
     ]
    },
    {
     "name": "stderr",
     "output_type": "stream",
     "text": [
      "/tmp/ipykernel_27706/3350061342.py:87: FutureWarning: The default value of regex will change from True to False in a future version.\n",
      "  alphabetic_rows = (filtered_df['RES_ADDR_NUM'] != filtered_df['RES_ADDR_NUM'].str.replace(r'\\D','')).sum()\n",
      "/tmp/ipykernel_27706/3350061342.py:91: FutureWarning: The default value of regex will change from True to False in a future version.\n",
      "  filtered_df.loc[:,'RES_ADDR_NUM'] = filtered_df['RES_ADDR_NUM'].str.replace(r'\\D','')\n",
      "/tmp/ipykernel_27706/3350061342.py:105: FutureWarning: The frame.append method is deprecated and will be removed from pandas in a future version. Use pandas.concat instead.\n",
      "  address_df = address_df.append(filtered_df[['SFN_NUM', 'address','RES_CITY', 'RES_STATE', 'RES_ZIP']])\n",
      "/tmp/ipykernel_27706/3350061342.py:106: FutureWarning: The frame.append method is deprecated and will be removed from pandas in a future version. Use pandas.concat instead.\n",
      "  all_filtered_df = all_filtered_df.append(filtered_df)\n"
     ]
    },
    {
     "name": "stdout",
     "output_type": "stream",
     "text": [
      "0 rows in 2008 dont have a death date, 0.00% of total\n",
      "In 2008 0 rows have missing decdent address, 0.0% of total\n",
      "Adjusting 2 hyphenated addresses in 2008.\n",
      "Adjusting 14 addresses with letters in 2008.\n",
      "2008 is missing SFN_NUM, creating new column [year]_[row]\n",
      "Ignoring 15 decdencts not from  MA\n"
     ]
    },
    {
     "name": "stderr",
     "output_type": "stream",
     "text": [
      "/tmp/ipykernel_27706/3350061342.py:87: FutureWarning: The default value of regex will change from True to False in a future version.\n",
      "  alphabetic_rows = (filtered_df['RES_ADDR_NUM'] != filtered_df['RES_ADDR_NUM'].str.replace(r'\\D','')).sum()\n",
      "/tmp/ipykernel_27706/3350061342.py:91: FutureWarning: The default value of regex will change from True to False in a future version.\n",
      "  filtered_df.loc[:,'RES_ADDR_NUM'] = filtered_df['RES_ADDR_NUM'].str.replace(r'\\D','')\n",
      "/tmp/ipykernel_27706/3350061342.py:105: FutureWarning: The frame.append method is deprecated and will be removed from pandas in a future version. Use pandas.concat instead.\n",
      "  address_df = address_df.append(filtered_df[['SFN_NUM', 'address','RES_CITY', 'RES_STATE', 'RES_ZIP']])\n",
      "/tmp/ipykernel_27706/3350061342.py:106: FutureWarning: The frame.append method is deprecated and will be removed from pandas in a future version. Use pandas.concat instead.\n",
      "  all_filtered_df = all_filtered_df.append(filtered_df)\n"
     ]
    },
    {
     "name": "stdout",
     "output_type": "stream",
     "text": [
      "0 rows in 2009 dont have a death date, 0.00% of total\n",
      "In 2009 0 rows have missing decdent address, 0.0% of total\n",
      "Adjusting 2 hyphenated addresses in 2009.\n",
      "Adjusting 10 addresses with letters in 2009.\n",
      "2009 is missing SFN_NUM, creating new column [year]_[row]\n",
      "Ignoring 19 decdencts not from  MA\n"
     ]
    },
    {
     "name": "stderr",
     "output_type": "stream",
     "text": [
      "/tmp/ipykernel_27706/3350061342.py:87: FutureWarning: The default value of regex will change from True to False in a future version.\n",
      "  alphabetic_rows = (filtered_df['RES_ADDR_NUM'] != filtered_df['RES_ADDR_NUM'].str.replace(r'\\D','')).sum()\n",
      "/tmp/ipykernel_27706/3350061342.py:91: FutureWarning: The default value of regex will change from True to False in a future version.\n",
      "  filtered_df.loc[:,'RES_ADDR_NUM'] = filtered_df['RES_ADDR_NUM'].str.replace(r'\\D','')\n",
      "/tmp/ipykernel_27706/3350061342.py:105: FutureWarning: The frame.append method is deprecated and will be removed from pandas in a future version. Use pandas.concat instead.\n",
      "  address_df = address_df.append(filtered_df[['SFN_NUM', 'address','RES_CITY', 'RES_STATE', 'RES_ZIP']])\n",
      "/tmp/ipykernel_27706/3350061342.py:106: FutureWarning: The frame.append method is deprecated and will be removed from pandas in a future version. Use pandas.concat instead.\n",
      "  all_filtered_df = all_filtered_df.append(filtered_df)\n"
     ]
    },
    {
     "name": "stdout",
     "output_type": "stream",
     "text": [
      "0 rows in 2010 dont have a death date, 0.00% of total\n",
      "In 2010 1 rows have missing decdent address, 0.2% of total\n",
      "Adjusting 1 hyphenated addresses in 2010.\n",
      "Adjusting 14 addresses with letters in 2010.\n",
      "2010 is missing SFN_NUM, creating new column [year]_[row]\n",
      "Ignoring 14 decdencts not from  MA\n"
     ]
    },
    {
     "name": "stderr",
     "output_type": "stream",
     "text": [
      "/tmp/ipykernel_27706/3350061342.py:87: FutureWarning: The default value of regex will change from True to False in a future version.\n",
      "  alphabetic_rows = (filtered_df['RES_ADDR_NUM'] != filtered_df['RES_ADDR_NUM'].str.replace(r'\\D','')).sum()\n",
      "/tmp/ipykernel_27706/3350061342.py:91: FutureWarning: The default value of regex will change from True to False in a future version.\n",
      "  filtered_df.loc[:,'RES_ADDR_NUM'] = filtered_df['RES_ADDR_NUM'].str.replace(r'\\D','')\n",
      "/tmp/ipykernel_27706/3350061342.py:105: FutureWarning: The frame.append method is deprecated and will be removed from pandas in a future version. Use pandas.concat instead.\n",
      "  address_df = address_df.append(filtered_df[['SFN_NUM', 'address','RES_CITY', 'RES_STATE', 'RES_ZIP']])\n",
      "/tmp/ipykernel_27706/3350061342.py:106: FutureWarning: The frame.append method is deprecated and will be removed from pandas in a future version. Use pandas.concat instead.\n",
      "  all_filtered_df = all_filtered_df.append(filtered_df)\n"
     ]
    },
    {
     "name": "stdout",
     "output_type": "stream",
     "text": [
      "0 rows in 2011 dont have a death date, 0.00% of total\n",
      "In 2011 0 rows have missing decdent address, 0.0% of total\n",
      "Adjusting 2 hyphenated addresses in 2011.\n",
      "Adjusting 23 addresses with letters in 2011.\n",
      "2011 is missing SFN_NUM, creating new column [year]_[row]\n",
      "Ignoring 26 decdencts not from  MA\n"
     ]
    },
    {
     "name": "stderr",
     "output_type": "stream",
     "text": [
      "/tmp/ipykernel_27706/3350061342.py:87: FutureWarning: The default value of regex will change from True to False in a future version.\n",
      "  alphabetic_rows = (filtered_df['RES_ADDR_NUM'] != filtered_df['RES_ADDR_NUM'].str.replace(r'\\D','')).sum()\n",
      "/tmp/ipykernel_27706/3350061342.py:91: FutureWarning: The default value of regex will change from True to False in a future version.\n",
      "  filtered_df.loc[:,'RES_ADDR_NUM'] = filtered_df['RES_ADDR_NUM'].str.replace(r'\\D','')\n",
      "/tmp/ipykernel_27706/3350061342.py:105: FutureWarning: The frame.append method is deprecated and will be removed from pandas in a future version. Use pandas.concat instead.\n",
      "  address_df = address_df.append(filtered_df[['SFN_NUM', 'address','RES_CITY', 'RES_STATE', 'RES_ZIP']])\n",
      "/tmp/ipykernel_27706/3350061342.py:106: FutureWarning: The frame.append method is deprecated and will be removed from pandas in a future version. Use pandas.concat instead.\n",
      "  all_filtered_df = all_filtered_df.append(filtered_df)\n"
     ]
    },
    {
     "name": "stdout",
     "output_type": "stream",
     "text": [
      "0 rows in 2012 dont have a death date, 0.00% of total\n",
      "In 2012 0 rows have missing decdent address, 0.0% of total\n",
      "Adjusting 1 hyphenated addresses in 2012.\n",
      "Adjusting 22 addresses with letters in 2012.\n",
      "2012 is missing SFN_NUM, creating new column [year]_[row]\n",
      "Ignoring 23 decdencts not from  MA\n"
     ]
    },
    {
     "name": "stderr",
     "output_type": "stream",
     "text": [
      "/tmp/ipykernel_27706/3350061342.py:87: FutureWarning: The default value of regex will change from True to False in a future version.\n",
      "  alphabetic_rows = (filtered_df['RES_ADDR_NUM'] != filtered_df['RES_ADDR_NUM'].str.replace(r'\\D','')).sum()\n",
      "/tmp/ipykernel_27706/3350061342.py:91: FutureWarning: The default value of regex will change from True to False in a future version.\n",
      "  filtered_df.loc[:,'RES_ADDR_NUM'] = filtered_df['RES_ADDR_NUM'].str.replace(r'\\D','')\n",
      "/tmp/ipykernel_27706/3350061342.py:105: FutureWarning: The frame.append method is deprecated and will be removed from pandas in a future version. Use pandas.concat instead.\n",
      "  address_df = address_df.append(filtered_df[['SFN_NUM', 'address','RES_CITY', 'RES_STATE', 'RES_ZIP']])\n",
      "/tmp/ipykernel_27706/3350061342.py:106: FutureWarning: The frame.append method is deprecated and will be removed from pandas in a future version. Use pandas.concat instead.\n",
      "  all_filtered_df = all_filtered_df.append(filtered_df)\n"
     ]
    },
    {
     "name": "stdout",
     "output_type": "stream",
     "text": [
      "0 rows in 2013 dont have a death date, 0.00% of total\n",
      "In 2013 0 rows have missing decdent address, 0.0% of total\n",
      "Adjusting 2 hyphenated addresses in 2013.\n",
      "Adjusting 14 addresses with letters in 2013.\n",
      "2013 is missing SFN_NUM, creating new column [year]_[row]\n",
      "Ignoring 32 decdencts not from  MA\n",
      "13 rows in 2014 dont have a death date, 0.96% of total\n"
     ]
    },
    {
     "name": "stderr",
     "output_type": "stream",
     "text": [
      "/tmp/ipykernel_27706/3350061342.py:87: FutureWarning: The default value of regex will change from True to False in a future version.\n",
      "  alphabetic_rows = (filtered_df['RES_ADDR_NUM'] != filtered_df['RES_ADDR_NUM'].str.replace(r'\\D','')).sum()\n",
      "/tmp/ipykernel_27706/3350061342.py:91: FutureWarning: The default value of regex will change from True to False in a future version.\n",
      "  filtered_df.loc[:,'RES_ADDR_NUM'] = filtered_df['RES_ADDR_NUM'].str.replace(r'\\D','')\n",
      "/tmp/ipykernel_27706/3350061342.py:105: FutureWarning: The frame.append method is deprecated and will be removed from pandas in a future version. Use pandas.concat instead.\n",
      "  address_df = address_df.append(filtered_df[['SFN_NUM', 'address','RES_CITY', 'RES_STATE', 'RES_ZIP']])\n",
      "/tmp/ipykernel_27706/3350061342.py:106: FutureWarning: The frame.append method is deprecated and will be removed from pandas in a future version. Use pandas.concat instead.\n",
      "  all_filtered_df = all_filtered_df.append(filtered_df)\n",
      "/tmp/ipykernel_27706/3350061342.py:87: FutureWarning: The default value of regex will change from True to False in a future version.\n",
      "  alphabetic_rows = (filtered_df['RES_ADDR_NUM'] != filtered_df['RES_ADDR_NUM'].str.replace(r'\\D','')).sum()\n",
      "/tmp/ipykernel_27706/3350061342.py:91: FutureWarning: The default value of regex will change from True to False in a future version.\n",
      "  filtered_df.loc[:,'RES_ADDR_NUM'] = filtered_df['RES_ADDR_NUM'].str.replace(r'\\D','')\n"
     ]
    },
    {
     "name": "stdout",
     "output_type": "stream",
     "text": [
      "In 2014 0 rows have missing decdent address, 0.0% of total\n",
      "Adjusting 5 hyphenated addresses in 2014.\n",
      "Adjusting 27 addresses with letters in 2014.\n",
      "2014 is missing SFN_NUM, creating new column [year]_[row]\n",
      "Ignoring 21 decdencts not from  MA\n"
     ]
    },
    {
     "name": "stderr",
     "output_type": "stream",
     "text": [
      "/tmp/ipykernel_27706/3350061342.py:105: FutureWarning: The frame.append method is deprecated and will be removed from pandas in a future version. Use pandas.concat instead.\n",
      "  address_df = address_df.append(filtered_df[['SFN_NUM', 'address','RES_CITY', 'RES_STATE', 'RES_ZIP']])\n",
      "/tmp/ipykernel_27706/3350061342.py:106: FutureWarning: The frame.append method is deprecated and will be removed from pandas in a future version. Use pandas.concat instead.\n",
      "  all_filtered_df = all_filtered_df.append(filtered_df)\n"
     ]
    },
    {
     "name": "stdout",
     "output_type": "stream",
     "text": [
      "0 rows in 2015 dont have a death date, 0.00% of total\n",
      "In 2015 0 rows have missing decdent address, 0.0% of total\n",
      "Adjusting 8 hyphenated addresses in 2015.\n",
      "Adjusting 28 addresses with letters in 2015.\n",
      "2015 is missing SFN_NUM, creating new column [year]_[row]\n",
      "Ignoring 56 decdencts not from  MASSACHUSETTS\n"
     ]
    },
    {
     "name": "stderr",
     "output_type": "stream",
     "text": [
      "/tmp/ipykernel_27706/3350061342.py:87: FutureWarning: The default value of regex will change from True to False in a future version.\n",
      "  alphabetic_rows = (filtered_df['RES_ADDR_NUM'] != filtered_df['RES_ADDR_NUM'].str.replace(r'\\D','')).sum()\n",
      "/tmp/ipykernel_27706/3350061342.py:91: FutureWarning: The default value of regex will change from True to False in a future version.\n",
      "  filtered_df.loc[:,'RES_ADDR_NUM'] = filtered_df['RES_ADDR_NUM'].str.replace(r'\\D','')\n",
      "/tmp/ipykernel_27706/3350061342.py:105: FutureWarning: The frame.append method is deprecated and will be removed from pandas in a future version. Use pandas.concat instead.\n",
      "  address_df = address_df.append(filtered_df[['SFN_NUM', 'address','RES_CITY', 'RES_STATE', 'RES_ZIP']])\n",
      "/tmp/ipykernel_27706/3350061342.py:106: FutureWarning: The frame.append method is deprecated and will be removed from pandas in a future version. Use pandas.concat instead.\n",
      "  all_filtered_df = all_filtered_df.append(filtered_df)\n"
     ]
    },
    {
     "name": "stdout",
     "output_type": "stream",
     "text": [
      "0 rows in 2016 dont have a death date, 0.00% of total\n",
      "In 2016 0 rows have missing decdent address, 0.0% of total\n",
      "Adjusting 2 hyphenated addresses in 2016.\n",
      "Adjusting 56 addresses with letters in 2016.\n",
      "Ignoring 80 decdencts not from  MASSACHUSETTS\n"
     ]
    },
    {
     "name": "stderr",
     "output_type": "stream",
     "text": [
      "/tmp/ipykernel_27706/3350061342.py:87: FutureWarning: The default value of regex will change from True to False in a future version.\n",
      "  alphabetic_rows = (filtered_df['RES_ADDR_NUM'] != filtered_df['RES_ADDR_NUM'].str.replace(r'\\D','')).sum()\n",
      "/tmp/ipykernel_27706/3350061342.py:91: FutureWarning: The default value of regex will change from True to False in a future version.\n",
      "  filtered_df.loc[:,'RES_ADDR_NUM'] = filtered_df['RES_ADDR_NUM'].str.replace(r'\\D','')\n",
      "/tmp/ipykernel_27706/3350061342.py:105: FutureWarning: The frame.append method is deprecated and will be removed from pandas in a future version. Use pandas.concat instead.\n",
      "  address_df = address_df.append(filtered_df[['SFN_NUM', 'address','RES_CITY', 'RES_STATE', 'RES_ZIP']])\n",
      "/tmp/ipykernel_27706/3350061342.py:106: FutureWarning: The frame.append method is deprecated and will be removed from pandas in a future version. Use pandas.concat instead.\n",
      "  all_filtered_df = all_filtered_df.append(filtered_df)\n"
     ]
    },
    {
     "name": "stdout",
     "output_type": "stream",
     "text": [
      "12 rows in 2018 dont have a death date, 0.59% of total\n",
      "In 2018 0 rows have missing decdent address, 0.0% of total\n",
      "Adjusting 4 hyphenated addresses in 2018.\n",
      "Adjusting 44 addresses with letters in 2018.\n",
      "2018 is missing SFN_NUM, creating new column [year]_[row]\n",
      "Ignoring 67 decdencts not from  MASSACHUSETTS\n"
     ]
    },
    {
     "name": "stderr",
     "output_type": "stream",
     "text": [
      "/tmp/ipykernel_27706/3350061342.py:87: FutureWarning: The default value of regex will change from True to False in a future version.\n",
      "  alphabetic_rows = (filtered_df['RES_ADDR_NUM'] != filtered_df['RES_ADDR_NUM'].str.replace(r'\\D','')).sum()\n",
      "/tmp/ipykernel_27706/3350061342.py:91: FutureWarning: The default value of regex will change from True to False in a future version.\n",
      "  filtered_df.loc[:,'RES_ADDR_NUM'] = filtered_df['RES_ADDR_NUM'].str.replace(r'\\D','')\n",
      "/tmp/ipykernel_27706/3350061342.py:105: FutureWarning: The frame.append method is deprecated and will be removed from pandas in a future version. Use pandas.concat instead.\n",
      "  address_df = address_df.append(filtered_df[['SFN_NUM', 'address','RES_CITY', 'RES_STATE', 'RES_ZIP']])\n",
      "/tmp/ipykernel_27706/3350061342.py:106: FutureWarning: The frame.append method is deprecated and will be removed from pandas in a future version. Use pandas.concat instead.\n",
      "  all_filtered_df = all_filtered_df.append(filtered_df)\n"
     ]
    },
    {
     "name": "stdout",
     "output_type": "stream",
     "text": [
      "12 rows in 2019 dont have a death date, 0.59% of total\n",
      "In 2019 0 rows have missing decdent address, 0.0% of total\n",
      "Adjusting 3 hyphenated addresses in 2019.\n",
      "Adjusting 38 addresses with letters in 2019.\n",
      "2019 is missing SFN_NUM, creating new column [year]_[row]\n",
      "Ignoring 81 decdencts not from  MASSACHUSETTS\n"
     ]
    },
    {
     "name": "stderr",
     "output_type": "stream",
     "text": [
      "/tmp/ipykernel_27706/3350061342.py:87: FutureWarning: The default value of regex will change from True to False in a future version.\n",
      "  alphabetic_rows = (filtered_df['RES_ADDR_NUM'] != filtered_df['RES_ADDR_NUM'].str.replace(r'\\D','')).sum()\n",
      "/tmp/ipykernel_27706/3350061342.py:91: FutureWarning: The default value of regex will change from True to False in a future version.\n",
      "  filtered_df.loc[:,'RES_ADDR_NUM'] = filtered_df['RES_ADDR_NUM'].str.replace(r'\\D','')\n",
      "/tmp/ipykernel_27706/3350061342.py:105: FutureWarning: The frame.append method is deprecated and will be removed from pandas in a future version. Use pandas.concat instead.\n",
      "  address_df = address_df.append(filtered_df[['SFN_NUM', 'address','RES_CITY', 'RES_STATE', 'RES_ZIP']])\n",
      "/tmp/ipykernel_27706/3350061342.py:106: FutureWarning: The frame.append method is deprecated and will be removed from pandas in a future version. Use pandas.concat instead.\n",
      "  all_filtered_df = all_filtered_df.append(filtered_df)\n"
     ]
    },
    {
     "name": "stdout",
     "output_type": "stream",
     "text": [
      "12 rows in 2020 dont have a death date, 0.56% of total\n",
      "In 2020 0 rows have missing decdent address, 0.0% of total\n",
      "Adjusting 5 hyphenated addresses in 2020.\n",
      "Adjusting 39 addresses with letters in 2020.\n",
      "2020 is missing SFN_NUM, creating new column [year]_[row]\n",
      "Ignoring 75 decdencts not from  MASSACHUSETTS\n"
     ]
    },
    {
     "name": "stderr",
     "output_type": "stream",
     "text": [
      "/tmp/ipykernel_27706/3350061342.py:87: FutureWarning: The default value of regex will change from True to False in a future version.\n",
      "  alphabetic_rows = (filtered_df['RES_ADDR_NUM'] != filtered_df['RES_ADDR_NUM'].str.replace(r'\\D','')).sum()\n",
      "/tmp/ipykernel_27706/3350061342.py:91: FutureWarning: The default value of regex will change from True to False in a future version.\n",
      "  filtered_df.loc[:,'RES_ADDR_NUM'] = filtered_df['RES_ADDR_NUM'].str.replace(r'\\D','')\n",
      "/tmp/ipykernel_27706/3350061342.py:105: FutureWarning: The frame.append method is deprecated and will be removed from pandas in a future version. Use pandas.concat instead.\n",
      "  address_df = address_df.append(filtered_df[['SFN_NUM', 'address','RES_CITY', 'RES_STATE', 'RES_ZIP']])\n",
      "/tmp/ipykernel_27706/3350061342.py:106: FutureWarning: The frame.append method is deprecated and will be removed from pandas in a future version. Use pandas.concat instead.\n",
      "  all_filtered_df = all_filtered_df.append(filtered_df)\n"
     ]
    },
    {
     "name": "stdout",
     "output_type": "stream",
     "text": [
      "12 rows in 2021 dont have a death date, 0.53% of total\n",
      "In 2021 0 rows have missing decdent address, 0.0% of total\n",
      "Adjusting 4 hyphenated addresses in 2021.\n",
      "Adjusting 53 addresses with letters in 2021.\n",
      "2021 is missing SFN_NUM, creating new column [year]_[row]\n",
      "Ignoring 72 decdencts not from  MASSACHUSETTS\n"
     ]
    },
    {
     "name": "stderr",
     "output_type": "stream",
     "text": [
      "/tmp/ipykernel_27706/3350061342.py:87: FutureWarning: The default value of regex will change from True to False in a future version.\n",
      "  alphabetic_rows = (filtered_df['RES_ADDR_NUM'] != filtered_df['RES_ADDR_NUM'].str.replace(r'\\D','')).sum()\n",
      "/tmp/ipykernel_27706/3350061342.py:91: FutureWarning: The default value of regex will change from True to False in a future version.\n",
      "  filtered_df.loc[:,'RES_ADDR_NUM'] = filtered_df['RES_ADDR_NUM'].str.replace(r'\\D','')\n",
      "/tmp/ipykernel_27706/3350061342.py:105: FutureWarning: The frame.append method is deprecated and will be removed from pandas in a future version. Use pandas.concat instead.\n",
      "  address_df = address_df.append(filtered_df[['SFN_NUM', 'address','RES_CITY', 'RES_STATE', 'RES_ZIP']])\n",
      "/tmp/ipykernel_27706/3350061342.py:106: FutureWarning: The frame.append method is deprecated and will be removed from pandas in a future version. Use pandas.concat instead.\n",
      "  all_filtered_df = all_filtered_df.append(filtered_df)\n"
     ]
    },
    {
     "name": "stdout",
     "output_type": "stream",
     "text": [
      "0 rows in 2017 dont have a death date, 0.00% of total\n",
      "In 2017 0 rows have missing decdent address, 0.0% of total\n",
      "Adjusting 3 hyphenated addresses in 2017.\n",
      "Adjusting 50 addresses with letters in 2017.\n",
      "2017 is missing SFN_NUM, creating new column [year]_[row]\n",
      "Ignoring 62 decdencts not from  MASSACHUSETTS\n"
     ]
    },
    {
     "name": "stderr",
     "output_type": "stream",
     "text": [
      "/tmp/ipykernel_27706/3350061342.py:87: FutureWarning: The default value of regex will change from True to False in a future version.\n",
      "  alphabetic_rows = (filtered_df['RES_ADDR_NUM'] != filtered_df['RES_ADDR_NUM'].str.replace(r'\\D','')).sum()\n",
      "/tmp/ipykernel_27706/3350061342.py:91: FutureWarning: The default value of regex will change from True to False in a future version.\n",
      "  filtered_df.loc[:,'RES_ADDR_NUM'] = filtered_df['RES_ADDR_NUM'].str.replace(r'\\D','')\n",
      "/tmp/ipykernel_27706/3350061342.py:105: FutureWarning: The frame.append method is deprecated and will be removed from pandas in a future version. Use pandas.concat instead.\n",
      "  address_df = address_df.append(filtered_df[['SFN_NUM', 'address','RES_CITY', 'RES_STATE', 'RES_ZIP']])\n",
      "/tmp/ipykernel_27706/3350061342.py:106: FutureWarning: The frame.append method is deprecated and will be removed from pandas in a future version. Use pandas.concat instead.\n",
      "  all_filtered_df = all_filtered_df.append(filtered_df)\n"
     ]
    }
   ],
   "source": [
    "address_df = pd.DataFrame()\n",
    "all_filtered_df = pd.DataFrame()\n",
    "for file, year in zip(relevant_files, relevant_years):\n",
    "    \n",
    "    single_year_df =  pd.read_excel(file, na_filter=False)\n",
    "    \n",
    "    if year < 2015:\n",
    "        dod_col = \"DOD\"\n",
    "        dod_format = \"%Y%m%d\"\n",
    "    else:\n",
    "        dod_col = \"DOD_4_FD\"\n",
    "        dod_format = \"%m/%d/%Y\"\n",
    "        \n",
    "    \n",
    "    \n",
    "\n",
    "    # add year/quarter\n",
    "    if year == 2014:\n",
    "        missing_date = single_year_df['death_year']=='NA'\n",
    "        num_miss = np.sum(missing_date)\n",
    "        print(f'{num_miss} rows in 2014 dont have a death date, {num_miss/len(single_year_df)*100:.2f}% of total')\n",
    "        single_year_df = single_year_df[~missing_date]\n",
    "        single_year_df['dod_dt'] = pd.to_datetime({'year':single_year_df['death_year'],\n",
    "                                                   'month': single_year_df['death_month'],\n",
    "                                                   'day': single_year_df['death_day']})\n",
    "    else:\n",
    "        missing_date = single_year_df[dod_col]==''\n",
    "        num_miss = np.sum(missing_date)\n",
    "        print(f'{num_miss} rows in {year} dont have a death date, {num_miss/len(single_year_df)*100:.2f}% of total')\n",
    "        single_year_df = single_year_df[~missing_date]\n",
    "        single_year_df['dod_dt'] = pd.to_datetime(single_year_df[dod_col], format=dod_format)\n",
    "        \n",
    "    single_year_df['year'] = single_year_df['dod_dt'].dt.year\n",
    "    single_year_df['quarter'] = single_year_df['dod_dt'].dt.quarter\n",
    "\n",
    "    has_ffix = year > 2014\n",
    "\n",
    "    if has_ffix:\n",
    "        address_cols = ['RES_ADDR_NUM', 'RES_STREET_PREFIX',\n",
    "                    'RES_ADDR1', 'RES_STREET_DESIG',\n",
    "                   'RES_STREET_SUFFIX']\n",
    "        state = 'MASSACHUSETTS'\n",
    "    else:\n",
    "        address_cols = ['RES_ADDR_NUM',\n",
    "                    'RES_ADDR1', 'RES_STREET_DESIG',\n",
    "                   ]\n",
    "        state = 'MA'\n",
    "\n",
    "    if has_ffix and 'RES_STREET_PREFIX' not in single_year_df.columns:\n",
    "        print(f'No decdent address column in {year}')\n",
    "        #continue\n",
    "        \n",
    "    if year==2014:\n",
    "        single_year_df[['RES_ADDR_NUM', 'RES_ADDR1', 'RES_CITY', 'RES_STATE']] = single_year_df['res_addres'].str.split(',', 3, expand=True)\n",
    "        single_year_df.loc[:,['RES_STATE']] = single_year_df['RES_STATE'].str.strip()\n",
    "        single_year_df[['RES_STREET_DESIG']] = ''\n",
    "        single_year_df.loc[:,['RES_ZIP']] =  single_year_df['Postal'].apply(lambda x: '0'+str(x))\n",
    "         \n",
    "    tot_rows = single_year_df.shape[0]\n",
    "\n",
    "\n",
    "    # remove unknown address\n",
    "    filtered_df = single_year_df[single_year_df['RES_ADDR1'] != 'UNKNOWN']\n",
    "    filtered_df = filtered_df[filtered_df['RES_ADDR1'] != 'UNK']\n",
    "    try:\n",
    "        count_filtered = single_year_df['RES_ADDR1'].value_counts()['UNKNOWN']\n",
    "        count_filtered += single_year_df['RES_ADDR1'].value_counts()['UNK']\n",
    "    except KeyError:\n",
    "        count_filtered=0\n",
    "    # remove blank address\n",
    "    filtered_df = filtered_df[filtered_df['RES_ADDR1'] != '']\n",
    "    try:\n",
    "        count_filtered += single_year_df['RES_ADDR1'].value_counts()[''] \n",
    "    except KeyError:\n",
    "        count_filtered += 0\n",
    "\n",
    "    print(f'In {year} {count_filtered} rows have missing decdent address, '\n",
    "          f'{count_filtered/tot_rows*100:.1f}% of total')\n",
    "\n",
    "    # If street number is hyphenated, take first (123-125 -> 123)\n",
    "    hyphenated_rows = (filtered_df['RES_ADDR_NUM'] != filtered_df['RES_ADDR_NUM'].apply(lambda x: x.split('-')[0])).sum()\n",
    "    if hyphenated_rows >0 :\n",
    "        print(f'Adjusting {hyphenated_rows} hyphenated addresses in {year}.')\n",
    "    filtered_df.loc[:,'RES_ADDR_NUM'] =filtered_df['RES_ADDR_NUM'].apply(lambda x: x.split('-')[0])\n",
    "\n",
    "    # Remove letters from street number\n",
    "    alphabetic_rows = (filtered_df['RES_ADDR_NUM'] != filtered_df['RES_ADDR_NUM'].str.replace(r'\\D','')).sum()\n",
    "    if alphabetic_rows > 0:\n",
    "        print(f'Adjusting {alphabetic_rows} addresses with letters in {year}.')\n",
    "\n",
    "    filtered_df.loc[:,'RES_ADDR_NUM'] = filtered_df['RES_ADDR_NUM'].str.replace(r'\\D','')\n",
    "\n",
    "\n",
    "\n",
    "    filtered_df.loc[:,'address'] = filtered_df[address_cols].agg(' '.join, axis=1)\n",
    "\n",
    "    if 'SFN_NUM' not in filtered_df.columns:\n",
    "        print(f'{year} is missing SFN_NUM, creating new column [year]_[row]') \n",
    "        filtered_df['SFN_NUM'] = f'{year}_' + filtered_df.index.astype(str)\n",
    "        \n",
    "    count_other_states = filtered_df[filtered_df['RES_STATE']!=state].shape[0]\n",
    "    print(f'Ignoring {count_other_states} decdencts not from  {state}')\n",
    "    filtered_df = filtered_df[filtered_df['RES_STATE']==state]\n",
    "\n",
    "    address_df = address_df.append(filtered_df[['SFN_NUM', 'address','RES_CITY', 'RES_STATE', 'RES_ZIP']])\n",
    "    all_filtered_df = all_filtered_df.append(filtered_df)\n",
    "    \n",
    "    "
   ]
  },
  {
   "cell_type": "code",
   "execution_count": 22,
   "id": "0818b6e5",
   "metadata": {},
   "outputs": [],
   "source": [
    "address_file1 = os.path.join(result_dir,'decedent_addresses_1.csv')\n",
    "address_df.iloc[:7000,:].to_csv(address_file1, index=False)\n",
    "address_file2 = os.path.join(result_dir,'decedent_addresses_2.csv')\n",
    "address_df.iloc[7000:14000,:].to_csv(address_file2, index=False)\n",
    "address_file3 = os.path.join(result_dir,'decedent_addresses_3.csv')\n",
    "address_df.iloc[14000:,:].to_csv(address_file3, index=False)"
   ]
  },
  {
   "cell_type": "code",
   "execution_count": 26,
   "id": "784ee17a",
   "metadata": {},
   "outputs": [
    {
     "name": "stdout",
     "output_type": "stream",
     "text": [
      "Elapsed: 99.11540365219116\n",
      "Elapsed: 179.93642902374268\n",
      "Elapsed: 309.226154088974\n"
     ]
    }
   ],
   "source": [
    "start = time.time()\n",
    "\n",
    "for pt, address_file in enumerate([address_file1,\n",
    "                                   address_file2,\n",
    "                                   address_file3]):\n",
    "    response = cg.addressbatch(address_file)\n",
    "    response_df = pd.DataFrame(response)\n",
    "    response_df.to_csv(os.path.join(result_dir,f'res_response_pt{pt}.csv'),index=False)\n",
    "    curr = time.time()\n",
    "    print(f'Elapsed: {curr-start}')\n",
    "    \n",
    "    "
   ]
  },
  {
   "cell_type": "code",
   "execution_count": 27,
   "id": "99282690",
   "metadata": {},
   "outputs": [
    {
     "name": "stderr",
     "output_type": "stream",
     "text": [
      "/tmp/ipykernel_82845/2890640470.py:5: FutureWarning: The frame.append method is deprecated and will be removed from pandas in a future version. Use pandas.concat instead.\n",
      "  response_df = response_1.append(response_2).append(response_3)\n"
     ]
    }
   ],
   "source": [
    "response_1 = pd.read_csv(os.path.join(result_dir,'res_response_pt0.csv'))\n",
    "response_2 = pd.read_csv(os.path.join(result_dir,'res_response_pt1.csv'))\n",
    "response_3 = pd.read_csv(os.path.join(result_dir,'res_response_pt2.csv'))\n",
    "\n",
    "response_df = response_1.append(response_2).append(response_3)\n",
    "response_df.to_csv(os.path.join(result_dir,'res_response_2000_2020.csv'), index=False)"
   ]
  },
  {
   "cell_type": "code",
   "execution_count": 15,
   "id": "6b8a6128",
   "metadata": {},
   "outputs": [],
   "source": [
    "response_df = pd.read_csv(os.path.join(result_dir,'res_response_2000_2020.csv'))"
   ]
  },
  {
   "cell_type": "code",
   "execution_count": 16,
   "id": "b86115d2",
   "metadata": {},
   "outputs": [
    {
     "name": "stdout",
     "output_type": "stream",
     "text": [
      "Matched 22125 rows, 94.83% of all filtered rows\n"
     ]
    }
   ],
   "source": [
    "matched_df_no_year = response_df[response_df['match']]\n",
    "count_matched = matched_df_no_year.shape[0]\n",
    "count_filtered = response_df.shape[0]\n",
    "print(f'Matched {count_matched} rows, {count_matched/count_filtered*100:.2f}% of all filtered rows')"
   ]
  },
  {
   "cell_type": "code",
   "execution_count": 17,
   "id": "13237cf1",
   "metadata": {},
   "outputs": [
    {
     "name": "stderr",
     "output_type": "stream",
     "text": [
      "/tmp/ipykernel_27706/2051165932.py:2: SettingWithCopyWarning: \n",
      "A value is trying to be set on a copy of a slice from a DataFrame.\n",
      "Try using .loc[row_indexer,col_indexer] = value instead\n",
      "\n",
      "See the caveats in the documentation: https://pandas.pydata.org/pandas-docs/stable/user_guide/indexing.html#returning-a-view-versus-a-copy\n",
      "  matched_df_no_year.loc[:,'id'] = matched_df_no_year.loc[:,'id'].astype(str)\n"
     ]
    }
   ],
   "source": [
    "# get year into response\n",
    "matched_df_no_year.loc[:,'id'] = matched_df_no_year.loc[:,'id'].astype(str)\n",
    "all_filtered_df.loc[:,'SFN_NUM'] = all_filtered_df.loc[:,'SFN_NUM'].astype(str)\n",
    "matched_df = matched_df_no_year.merge(all_filtered_df[['SFN_NUM','year', 'quarter', 'dod_dt']], left_on='id', right_on='SFN_NUM')\n",
    "assert (len(matched_df)==len(matched_df_no_year))"
   ]
  },
  {
   "cell_type": "code",
   "execution_count": 31,
   "id": "06646f75",
   "metadata": {},
   "outputs": [],
   "source": [
    "matched_df.to_csv(os.path.join(result_dir,'geocoded_deaths_2000_2020.csv'), index=False)"
   ]
  },
  {
   "cell_type": "code",
   "execution_count": 18,
   "id": "aab659bc",
   "metadata": {},
   "outputs": [
    {
     "data": {
      "text/html": [
       "<div>\n",
       "<style scoped>\n",
       "    .dataframe tbody tr th:only-of-type {\n",
       "        vertical-align: middle;\n",
       "    }\n",
       "\n",
       "    .dataframe tbody tr th {\n",
       "        vertical-align: top;\n",
       "    }\n",
       "\n",
       "    .dataframe thead th {\n",
       "        text-align: right;\n",
       "    }\n",
       "</style>\n",
       "<table border=\"1\" class=\"dataframe\">\n",
       "  <thead>\n",
       "    <tr style=\"text-align: right;\">\n",
       "      <th></th>\n",
       "      <th>id</th>\n",
       "      <th>address</th>\n",
       "      <th>match</th>\n",
       "      <th>matchtype</th>\n",
       "      <th>parsed</th>\n",
       "      <th>tigerlineid</th>\n",
       "      <th>side</th>\n",
       "      <th>statefp</th>\n",
       "      <th>countyfp</th>\n",
       "      <th>tract</th>\n",
       "      <th>block</th>\n",
       "      <th>lat</th>\n",
       "      <th>lon</th>\n",
       "      <th>SFN_NUM</th>\n",
       "      <th>year</th>\n",
       "      <th>quarter</th>\n",
       "      <th>dod_dt</th>\n",
       "    </tr>\n",
       "  </thead>\n",
       "  <tbody>\n",
       "    <tr>\n",
       "      <th>0</th>\n",
       "      <td>2007_605</td>\n",
       "      <td>58 MYRTLE ST, NORWOOD, MA, 2062</td>\n",
       "      <td>True</td>\n",
       "      <td>Exact</td>\n",
       "      <td>58 MYRTLE ST, NORWOOD, MA, 02062</td>\n",
       "      <td>87243536.0</td>\n",
       "      <td>L</td>\n",
       "      <td>25.0</td>\n",
       "      <td>21.0</td>\n",
       "      <td>413202.0</td>\n",
       "      <td>1012.0</td>\n",
       "      <td>42.201649</td>\n",
       "      <td>-71.202264</td>\n",
       "      <td>2007_605</td>\n",
       "      <td>2007</td>\n",
       "      <td>4</td>\n",
       "      <td>2007-12-15</td>\n",
       "    </tr>\n",
       "    <tr>\n",
       "      <th>1</th>\n",
       "      <td>2002_349</td>\n",
       "      <td>646 BIRCH ST, FALL RIVER, MA, 2724</td>\n",
       "      <td>True</td>\n",
       "      <td>Exact</td>\n",
       "      <td>646 BIRCH ST, FALL RIVER, MA, 02724</td>\n",
       "      <td>46767810.0</td>\n",
       "      <td>L</td>\n",
       "      <td>25.0</td>\n",
       "      <td>5.0</td>\n",
       "      <td>640400.0</td>\n",
       "      <td>2005.0</td>\n",
       "      <td>41.684234</td>\n",
       "      <td>-71.176381</td>\n",
       "      <td>2002_349</td>\n",
       "      <td>2002</td>\n",
       "      <td>3</td>\n",
       "      <td>2002-07-15</td>\n",
       "    </tr>\n",
       "    <tr>\n",
       "      <th>2</th>\n",
       "      <td>2007_607</td>\n",
       "      <td>573 OSBORN ST, FALL RIVER, MA, 2724</td>\n",
       "      <td>True</td>\n",
       "      <td>Exact</td>\n",
       "      <td>573 OSBORN ST, FALL RIVER, MA, 02724</td>\n",
       "      <td>651813019.0</td>\n",
       "      <td>R</td>\n",
       "      <td>25.0</td>\n",
       "      <td>5.0</td>\n",
       "      <td>640500.0</td>\n",
       "      <td>1005.0</td>\n",
       "      <td>41.690942</td>\n",
       "      <td>-71.160056</td>\n",
       "      <td>2007_607</td>\n",
       "      <td>2007</td>\n",
       "      <td>4</td>\n",
       "      <td>2007-12-16</td>\n",
       "    </tr>\n",
       "    <tr>\n",
       "      <th>3</th>\n",
       "      <td>2002_348</td>\n",
       "      <td>8 MICHIGAN AV, LYNN, MA, 1902</td>\n",
       "      <td>True</td>\n",
       "      <td>Exact</td>\n",
       "      <td>8 MICHIGAN AVE, LYNN, MA, 01902</td>\n",
       "      <td>86646827.0</td>\n",
       "      <td>L</td>\n",
       "      <td>25.0</td>\n",
       "      <td>9.0</td>\n",
       "      <td>206600.0</td>\n",
       "      <td>4000.0</td>\n",
       "      <td>42.467733</td>\n",
       "      <td>-70.924900</td>\n",
       "      <td>2002_348</td>\n",
       "      <td>2002</td>\n",
       "      <td>3</td>\n",
       "      <td>2002-07-17</td>\n",
       "    </tr>\n",
       "    <tr>\n",
       "      <th>4</th>\n",
       "      <td>2007_606</td>\n",
       "      <td>175 OSBORNE ST, FALL RIVER, MA, 2724</td>\n",
       "      <td>True</td>\n",
       "      <td>Non_Exact</td>\n",
       "      <td>175 OSBORN ST, FALL RIVER, MA, 02724</td>\n",
       "      <td>46770133.0</td>\n",
       "      <td>R</td>\n",
       "      <td>25.0</td>\n",
       "      <td>5.0</td>\n",
       "      <td>640500.0</td>\n",
       "      <td>3001.0</td>\n",
       "      <td>41.692127</td>\n",
       "      <td>-71.166843</td>\n",
       "      <td>2007_606</td>\n",
       "      <td>2007</td>\n",
       "      <td>4</td>\n",
       "      <td>2007-11-09</td>\n",
       "    </tr>\n",
       "    <tr>\n",
       "      <th>...</th>\n",
       "      <td>...</td>\n",
       "      <td>...</td>\n",
       "      <td>...</td>\n",
       "      <td>...</td>\n",
       "      <td>...</td>\n",
       "      <td>...</td>\n",
       "      <td>...</td>\n",
       "      <td>...</td>\n",
       "      <td>...</td>\n",
       "      <td>...</td>\n",
       "      <td>...</td>\n",
       "      <td>...</td>\n",
       "      <td>...</td>\n",
       "      <td>...</td>\n",
       "      <td>...</td>\n",
       "      <td>...</td>\n",
       "      <td>...</td>\n",
       "    </tr>\n",
       "    <tr>\n",
       "      <th>22120</th>\n",
       "      <td>2017_1707</td>\n",
       "      <td>863  WASHINGTON STREET , WHITMAN, MASSACHUSETT...</td>\n",
       "      <td>True</td>\n",
       "      <td>Exact</td>\n",
       "      <td>863 WASHINGTON ST, WHITMAN, MA, 02382</td>\n",
       "      <td>87445852.0</td>\n",
       "      <td>R</td>\n",
       "      <td>25.0</td>\n",
       "      <td>23.0</td>\n",
       "      <td>521201.0</td>\n",
       "      <td>2004.0</td>\n",
       "      <td>42.087970</td>\n",
       "      <td>-70.941268</td>\n",
       "      <td>2017_1707</td>\n",
       "      <td>2017</td>\n",
       "      <td>4</td>\n",
       "      <td>2017-12-12</td>\n",
       "    </tr>\n",
       "    <tr>\n",
       "      <th>22121</th>\n",
       "      <td>2021_1252</td>\n",
       "      <td>29  KILLDEER ISLAND ROAD , WEBSTER, MASSACHUSE...</td>\n",
       "      <td>True</td>\n",
       "      <td>Exact</td>\n",
       "      <td>29 KILLDEER ISLAND RD, WEBSTER, MA, 01570</td>\n",
       "      <td>40020553.0</td>\n",
       "      <td>L</td>\n",
       "      <td>25.0</td>\n",
       "      <td>27.0</td>\n",
       "      <td>754100.0</td>\n",
       "      <td>3000.0</td>\n",
       "      <td>42.054861</td>\n",
       "      <td>-71.843274</td>\n",
       "      <td>2021_1252</td>\n",
       "      <td>2021</td>\n",
       "      <td>3</td>\n",
       "      <td>2021-07-29</td>\n",
       "    </tr>\n",
       "    <tr>\n",
       "      <th>22122</th>\n",
       "      <td>2021_1253</td>\n",
       "      <td>75  HOPKINS PLACE , LONGMEADOW, MASSACHUSETTS,...</td>\n",
       "      <td>True</td>\n",
       "      <td>Exact</td>\n",
       "      <td>75 HOPKINS PL, LONGMEADOW, MA, 01106</td>\n",
       "      <td>4038067.0</td>\n",
       "      <td>R</td>\n",
       "      <td>25.0</td>\n",
       "      <td>13.0</td>\n",
       "      <td>813301.0</td>\n",
       "      <td>1015.0</td>\n",
       "      <td>42.056212</td>\n",
       "      <td>-72.578282</td>\n",
       "      <td>2021_1253</td>\n",
       "      <td>2021</td>\n",
       "      <td>3</td>\n",
       "      <td>2021-07-29</td>\n",
       "    </tr>\n",
       "    <tr>\n",
       "      <th>22123</th>\n",
       "      <td>2021_1254</td>\n",
       "      <td>86  BELLEVUE STREET , WORCESTER, MASSACHUSETTS...</td>\n",
       "      <td>True</td>\n",
       "      <td>Exact</td>\n",
       "      <td>86 BELLEVUE ST, WORCESTER, MA, 01610</td>\n",
       "      <td>40009694.0</td>\n",
       "      <td>R</td>\n",
       "      <td>25.0</td>\n",
       "      <td>27.0</td>\n",
       "      <td>731400.0</td>\n",
       "      <td>4002.0</td>\n",
       "      <td>42.260255</td>\n",
       "      <td>-71.817195</td>\n",
       "      <td>2021_1254</td>\n",
       "      <td>2021</td>\n",
       "      <td>3</td>\n",
       "      <td>2021-07-25</td>\n",
       "    </tr>\n",
       "    <tr>\n",
       "      <th>22124</th>\n",
       "      <td>2021_1255</td>\n",
       "      <td>181 S LOOMIS STREET , SOUTHWICK, MASSACHUSETTS...</td>\n",
       "      <td>True</td>\n",
       "      <td>Exact</td>\n",
       "      <td>181 S LOOMIS ST, SOUTHWICK, MA, 01077</td>\n",
       "      <td>4030257.0</td>\n",
       "      <td>R</td>\n",
       "      <td>25.0</td>\n",
       "      <td>13.0</td>\n",
       "      <td>813102.0</td>\n",
       "      <td>2007.0</td>\n",
       "      <td>42.060327</td>\n",
       "      <td>-72.820761</td>\n",
       "      <td>2021_1255</td>\n",
       "      <td>2021</td>\n",
       "      <td>3</td>\n",
       "      <td>2021-07-29</td>\n",
       "    </tr>\n",
       "  </tbody>\n",
       "</table>\n",
       "<p>22125 rows × 17 columns</p>\n",
       "</div>"
      ],
      "text/plain": [
       "              id                                            address  match  \\\n",
       "0       2007_605                    58 MYRTLE ST, NORWOOD, MA, 2062   True   \n",
       "1       2002_349                 646 BIRCH ST, FALL RIVER, MA, 2724   True   \n",
       "2       2007_607                573 OSBORN ST, FALL RIVER, MA, 2724   True   \n",
       "3       2002_348                      8 MICHIGAN AV, LYNN, MA, 1902   True   \n",
       "4       2007_606               175 OSBORNE ST, FALL RIVER, MA, 2724   True   \n",
       "...          ...                                                ...    ...   \n",
       "22120  2017_1707  863  WASHINGTON STREET , WHITMAN, MASSACHUSETT...   True   \n",
       "22121  2021_1252  29  KILLDEER ISLAND ROAD , WEBSTER, MASSACHUSE...   True   \n",
       "22122  2021_1253  75  HOPKINS PLACE , LONGMEADOW, MASSACHUSETTS,...   True   \n",
       "22123  2021_1254  86  BELLEVUE STREET , WORCESTER, MASSACHUSETTS...   True   \n",
       "22124  2021_1255  181 S LOOMIS STREET , SOUTHWICK, MASSACHUSETTS...   True   \n",
       "\n",
       "       matchtype                                     parsed  tigerlineid side  \\\n",
       "0          Exact           58 MYRTLE ST, NORWOOD, MA, 02062   87243536.0    L   \n",
       "1          Exact        646 BIRCH ST, FALL RIVER, MA, 02724   46767810.0    L   \n",
       "2          Exact       573 OSBORN ST, FALL RIVER, MA, 02724  651813019.0    R   \n",
       "3          Exact            8 MICHIGAN AVE, LYNN, MA, 01902   86646827.0    L   \n",
       "4      Non_Exact       175 OSBORN ST, FALL RIVER, MA, 02724   46770133.0    R   \n",
       "...          ...                                        ...          ...  ...   \n",
       "22120      Exact      863 WASHINGTON ST, WHITMAN, MA, 02382   87445852.0    R   \n",
       "22121      Exact  29 KILLDEER ISLAND RD, WEBSTER, MA, 01570   40020553.0    L   \n",
       "22122      Exact       75 HOPKINS PL, LONGMEADOW, MA, 01106    4038067.0    R   \n",
       "22123      Exact       86 BELLEVUE ST, WORCESTER, MA, 01610   40009694.0    R   \n",
       "22124      Exact      181 S LOOMIS ST, SOUTHWICK, MA, 01077    4030257.0    R   \n",
       "\n",
       "       statefp  countyfp     tract   block        lat        lon    SFN_NUM  \\\n",
       "0         25.0      21.0  413202.0  1012.0  42.201649 -71.202264   2007_605   \n",
       "1         25.0       5.0  640400.0  2005.0  41.684234 -71.176381   2002_349   \n",
       "2         25.0       5.0  640500.0  1005.0  41.690942 -71.160056   2007_607   \n",
       "3         25.0       9.0  206600.0  4000.0  42.467733 -70.924900   2002_348   \n",
       "4         25.0       5.0  640500.0  3001.0  41.692127 -71.166843   2007_606   \n",
       "...        ...       ...       ...     ...        ...        ...        ...   \n",
       "22120     25.0      23.0  521201.0  2004.0  42.087970 -70.941268  2017_1707   \n",
       "22121     25.0      27.0  754100.0  3000.0  42.054861 -71.843274  2021_1252   \n",
       "22122     25.0      13.0  813301.0  1015.0  42.056212 -72.578282  2021_1253   \n",
       "22123     25.0      27.0  731400.0  4002.0  42.260255 -71.817195  2021_1254   \n",
       "22124     25.0      13.0  813102.0  2007.0  42.060327 -72.820761  2021_1255   \n",
       "\n",
       "       year  quarter     dod_dt  \n",
       "0      2007        4 2007-12-15  \n",
       "1      2002        3 2002-07-15  \n",
       "2      2007        4 2007-12-16  \n",
       "3      2002        3 2002-07-17  \n",
       "4      2007        4 2007-11-09  \n",
       "...     ...      ...        ...  \n",
       "22120  2017        4 2017-12-12  \n",
       "22121  2021        3 2021-07-29  \n",
       "22122  2021        3 2021-07-29  \n",
       "22123  2021        3 2021-07-25  \n",
       "22124  2021        3 2021-07-29  \n",
       "\n",
       "[22125 rows x 17 columns]"
      ]
     },
     "execution_count": 18,
     "metadata": {},
     "output_type": "execute_result"
    }
   ],
   "source": [
    "matched_df"
   ]
  },
  {
   "cell_type": "code",
   "execution_count": null,
   "id": "d51bec22",
   "metadata": {},
   "outputs": [],
   "source": []
  }
 ],
 "metadata": {
  "kernelspec": {
   "display_name": "Python 3 (ipykernel)",
   "language": "python",
   "name": "python3"
  },
  "language_info": {
   "codemirror_mode": {
    "name": "ipython",
    "version": 3
   },
   "file_extension": ".py",
   "mimetype": "text/x-python",
   "name": "python",
   "nbconvert_exporter": "python",
   "pygments_lexer": "ipython3",
   "version": "3.9.13"
  }
 },
 "nbformat": 4,
 "nbformat_minor": 5
}
