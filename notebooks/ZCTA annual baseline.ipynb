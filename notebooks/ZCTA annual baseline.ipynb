{
 "cells": [
  {
   "cell_type": "code",
   "execution_count": 14,
   "id": "19f5f826",
   "metadata": {},
   "outputs": [
    {
     "name": "stdout",
     "output_type": "stream",
     "text": [
      "The autoreload extension is already loaded. To reload it, use:\n",
      "  %reload_ext autoreload\n"
     ]
    }
   ],
   "source": [
    "%load_ext autoreload\n",
    "%autoreload 2\n",
    "\n",
    "import os\n",
    "import sys\n",
    "from glob import glob\n",
    "\n",
    "import numpy as np\n",
    "import pandas as pd\n",
    "idx = pd.IndexSlice\n",
    "import matplotlib.pyplot as plt\n",
    "from matplotlib.ticker import MaxNLocator\n",
    "\n",
    "import copy\n",
    "\n",
    "import geopandas as gpd\n",
    "\n",
    "from sklearn.metrics import mean_absolute_error, mean_squared_error\n",
    "\n",
    "from sklearn.linear_model import LinearRegression\n",
    "from sklearn.neural_network import MLPRegressor\n",
    "\n",
    "import gpflow\n",
    "import tensorflow as tf\n",
    "import sys\n",
    "code_dir = '/cluster/home/kheuto01/code/zero-inflated-gp/'\n",
    "sys.path.append(code_dir)\n",
    "from math import radians, cos, sin, asin, sqrt\n",
    "from onoffgpf import OnOffSVGP, OnOffLikelihood\n",
    "\n",
    "import pickle\n",
    "\n",
    "from math import radians, cos, sin, asin, sqrt\n",
    "\n",
    "import copy\n",
    "import sys\n",
    "\n",
    "import geopandas as gpd\n",
    "import numpy as np\n",
    "\n",
    "import gpflow\n",
    "\n",
    "\n",
    "code_dir = '/cluster/home/kheuto01/code/zero-inflated-gp/'\n",
    "sys.path.append(code_dir)\n",
    "\n",
    "code_dir = '/cluster/home/kheuto01/code/opioid-overdose-models/'\n",
    "sys.path.append(code_dir)\n",
    "\n",
    "from onoffgpf import OnOffSVGP, OnOffSVGPPoiMC, OnOffLikelihood\n",
    "gpflow.config.default_float()\n",
    "\n",
    "\n",
    "from zinf_gp.metrics import normcdf, fixed_top_X\n",
    "\n",
    "import numpy as np \n",
    "import matplotlib.pyplot as plt \n",
    "import pandas as pd \n",
    "import contextily as ctx \n",
    "import geopandas as gpd \n",
    "import os \n",
    "from mpl_toolkits.axes_grid1 import make_axes_locatable\n",
    "\n",
    "\n",
    "import matplotlib\n",
    "matplotlib.style.use('default')\n",
    "font = {\n",
    "        'size'   : 22}\n",
    "\n",
    "matplotlib.rc('font', **font)"
   ]
  },
  {
   "cell_type": "code",
   "execution_count": 2,
   "id": "502ef031",
   "metadata": {},
   "outputs": [],
   "source": [
    "\n",
    "data_dir='/cluster/tufts/hugheslab/datasets/NSF_OD/results_20220606_update/'\n",
    "\n",
    "log_dir='/cluster/tufts/hugheslab/kheuto01/opioid/logs/fix_two/'\n",
    "\n",
    "run_template = '{time}_{loc}_{model}_{start_year}_{cov}_{num_inducing}_{lr}'"
   ]
  },
  {
   "cell_type": "code",
   "execution_count": 3,
   "id": "baec02fc",
   "metadata": {},
   "outputs": [],
   "source": [
    "time = 'annual'\n",
    "loc = 'zcta'\n",
    "model = 'normal'\n",
    "start_year = 2000\n",
    "cov = '-auto'\n",
    "num_inducing = '400'\n",
    "lr = 0.05"
   ]
  },
  {
   "cell_type": "code",
   "execution_count": 4,
   "id": "1300532a",
   "metadata": {},
   "outputs": [],
   "source": [
    "test_years = 2\n",
    "geography_col='geoid'\n",
    "timestep_col='timestep'\n",
    "outcome_col='deaths'\n",
    "\n",
    "# test y always comes from quarterly tract\n",
    "y_timesteps_per_year = 4\n",
    "file_name = f'clean_quarter_zcta'\n",
    "data_path = os.path.join(data_dir, file_name)\n",
    "\n",
    "x_idx_cols = [geography_col, 'lat','lon', timestep_col,\n",
    "      'theme_1_pc', 'theme_2_pc', 'theme_3_pc', 'theme_4_pc',\n",
    "      'svi_pctile',\n",
    "      'neighbor_t', 'self_t-1']\n",
    "y_idx_cols = [geography_col, timestep_col, outcome_col]\n",
    "features_only = ['lat','lon', timestep_col,\n",
    "                 'theme_1_pc', 'theme_2_pc', 'theme_3_pc', 'theme_4_pc',\n",
    "                 'svi_pctile',\n",
    "                 'neighbor_t', 'self_t-1']\n",
    "\n",
    "data_gdf = gpd.read_file(data_path)\n",
    "\n",
    "last_train_year = 2018\n",
    "train_x_qtr = data_gdf[(data_gdf['year'] <= last_train_year)][x_idx_cols]\n",
    "\n",
    "train_y_qtr = data_gdf[(data_gdf['year'] <= last_train_year)][y_idx_cols]\n",
    "\n",
    "all_y_qtr = data_gdf[y_idx_cols]\n",
    "test_x_qtr = data_gdf[(data_gdf['year'] > last_train_year) &\n",
    "                  (data_gdf['year'] <= last_train_year+test_years)][x_idx_cols]\n",
    "\n",
    "test_y = data_gdf[(data_gdf['year'] > last_train_year) &\n",
    "                  (data_gdf['year'] <= last_train_year+test_years)][y_idx_cols]\n",
    "starting_y_timestep = int(test_y[timestep_col].min())\n",
    "\n",
    "sorted_y_timesteps = test_y[timestep_col].unique()\n",
    "sorted_y_timesteps.sort()\n",
    "\n",
    "x_timesteps_per_year = {'quarter':4, 'semi':2,'annual':1}[time]\n",
    "\n",
    "file_name = f'clean_{time}_{loc}'\n",
    "data_path = os.path.join(data_dir, file_name)\n",
    "\n",
    "data_gdf = gpd.read_file(data_path)\n",
    "\n",
    "train_x = data_gdf[(data_gdf['year'] <= last_train_year) &\n",
    "                   (data_gdf['year'] >= start_year)][x_idx_cols]\n",
    "train_y = data_gdf[(data_gdf['year'] <= last_train_year) &\n",
    "                   (data_gdf['year'] >= start_year)][y_idx_cols]\n",
    "\n",
    "test_x = data_gdf[(data_gdf['year'] > last_train_year) &\n",
    "                  (data_gdf['year'] <= last_train_year+test_years)][x_idx_cols]\n",
    "test_y_yr = data_gdf[(data_gdf['year'] > last_train_year) &\n",
    "                  (data_gdf['year'] <= last_train_year+test_years)][y_idx_cols]\n",
    "starting_x_timestep = int(test_x[timestep_col].min())\n",
    "\n",
    "test_timesteps_per_year = max(y_timesteps_per_year, x_timesteps_per_year)\n",
    "test_timesteps = test_timesteps_per_year*test_years\n",
    "\n",
    "x_repeats = int(test_timesteps_per_year/x_timesteps_per_year)\n",
    "y_repeats = int(test_timesteps_per_year/y_timesteps_per_year)\n",
    "\n",
    "sorted_x_timesteps = test_x[timestep_col].unique()\n",
    "sorted_x_timesteps.sort()\n",
    "\n",
    "x_timesteps = [timestep  for timestep in sorted_x_timesteps for _ in range(x_repeats)]\n",
    "\n",
    "y_timesteps = [timestep  for timestep in sorted_y_timesteps for _ in range(y_repeats)]\n",
    "\n"
   ]
  },
  {
   "cell_type": "code",
   "execution_count": 5,
   "id": "19ced8cb",
   "metadata": {},
   "outputs": [
    {
     "name": "stderr",
     "output_type": "stream",
     "text": [
      "2023-03-02 10:07:01.535450: E tensorflow/stream_executor/cuda/cuda_driver.cc:265] failed call to cuInit: CUDA_ERROR_NO_DEVICE: no CUDA-capable device is detected\n",
      "2023-03-02 10:07:01.535501: I tensorflow/stream_executor/cuda/cuda_diagnostics.cc:169] retrieving CUDA diagnostic information for host: p1cmp078.pax.tufts.edu\n",
      "2023-03-02 10:07:01.535510: I tensorflow/stream_executor/cuda/cuda_diagnostics.cc:176] hostname: p1cmp078.pax.tufts.edu\n",
      "2023-03-02 10:07:01.535689: I tensorflow/stream_executor/cuda/cuda_diagnostics.cc:200] libcuda reported version is: 510.47.3\n",
      "2023-03-02 10:07:01.535722: I tensorflow/stream_executor/cuda/cuda_diagnostics.cc:204] kernel reported version is: 510.47.3\n",
      "2023-03-02 10:07:01.535729: I tensorflow/stream_executor/cuda/cuda_diagnostics.cc:310] kernel version seems to match DSO: 510.47.3\n",
      "2023-03-02 10:07:01.536242: I tensorflow/core/platform/cpu_feature_guard.cc:193] This TensorFlow binary is optimized with oneAPI Deep Neural Network Library (oneDNN) to use the following CPU instructions in performance-critical operations:  AVX2 AVX512F AVX512_VNNI FMA\n",
      "To enable them in other operations, rebuild TensorFlow with the appropriate compiler flags.\n"
     ]
    }
   ],
   "source": [
    "this_run = run_template.format(time=time,loc=loc,model=model,start_year=start_year,\n",
    "                                                           cov=cov,\n",
    "                                                           num_inducing=num_inducing,lr=lr)\n",
    "with open(os.path.join(log_dir,this_run,'model.mod'),'rb') as f:\n",
    "        predictor = pickle.load(f)\n",
    "with open(os.path.join(log_dir,this_run,'stats.csv'),'rb') as f:\n",
    "    stats = pd.read_csv(f)"
   ]
  },
  {
   "cell_type": "code",
   "execution_count": 6,
   "id": "2e064aa7",
   "metadata": {},
   "outputs": [],
   "source": [
    "new_tract_shapefile = os.path.join(os.path.dirname(os.path.dirname(data_dir)),'shapefiles','new_trimmed_tract',\n",
    "                                   'cb_2020_tract')\n",
    "town_shapefile = os.path.join(os.path.dirname(os.path.dirname(data_dir)),'shapefiles','MA_2020_Towns',\n",
    "                              'CENSUS2020TOWNS_POLY.shp')\n",
    "mass_gdf = gpd.read_file(new_tract_shapefile)\n",
    "town_gdf = gpd.read_file(town_shapefile)\n"
   ]
  },
  {
   "cell_type": "code",
   "execution_count": 11,
   "id": "113ffed8",
   "metadata": {},
   "outputs": [
    {
     "data": {
      "text/plain": [
       "geoid\n",
       "01001     6.0\n",
       "01002     2.0\n",
       "01003     0.0\n",
       "01005     3.0\n",
       "01007     5.0\n",
       "         ... \n",
       "02777     4.0\n",
       "02779     1.0\n",
       "02780    32.0\n",
       "02790     8.0\n",
       "02791     0.0\n",
       "Name: deaths, Length: 537, dtype: float64"
      ]
     },
     "execution_count": 11,
     "metadata": {},
     "output_type": "execute_result"
    }
   ],
   "source": [
    "last_year"
   ]
  },
  {
   "cell_type": "code",
   "execution_count": 34,
   "id": "bf433fb2",
   "metadata": {},
   "outputs": [
    {
     "data": {
      "text/plain": [
       "2.3589916729869143"
      ]
     },
     "execution_count": 34,
     "metadata": {},
     "output_type": "execute_result"
    }
   ],
   "source": [
    "np.sqrt(mean_squared_error(y_2019, last_5))"
   ]
  },
  {
   "cell_type": "code",
   "execution_count": 28,
   "id": "534da072",
   "metadata": {},
   "outputs": [
    {
     "data": {
      "text/plain": [
       "1.3869646182495343"
      ]
     },
     "execution_count": 28,
     "metadata": {},
     "output_type": "execute_result"
    }
   ],
   "source": [
    "mean_absolute_error(y_2019, last_5)"
   ]
  },
  {
   "cell_type": "code",
   "execution_count": 72,
   "id": "043315a1",
   "metadata": {},
   "outputs": [
    {
     "data": {
      "text/plain": [
       "1.3869646182495343"
      ]
     },
     "execution_count": 72,
     "metadata": {},
     "output_type": "execute_result"
    }
   ],
   "source": [
    "y_2019 = test_y_yr[test_y_yr[timestep_col]==19].groupby('geoid').sum()['deaths']\n",
    "last_year = train_y[train_y[timestep_col] ==18].set_index('geoid')['deaths']\n",
    "last_5 = train_y[train_y[timestep_col].isin([18,17,16,15,14])].groupby('geoid').mean()['deaths']\n",
    "\n",
    "last_3 = train_y[train_y[timestep_col].isin([18,17,16])].groupby('geoid').mean()['deaths']\n",
    "\n",
    "last_2 = train_y[train_y[timestep_col].isin([18,17])].groupby('geoid').mean()['deaths']\n",
    "fixed_top_X(y_2019,last_year,100)[-1]\n",
    "ly_labels = pd.qcut(last_year,5, duplicates='drop', labels=False)\n",
    "y_2019_labels =pd.qcut(y_2019,5, duplicates='drop', labels=False)\n",
    "accuracy_score(ly_labels, y_2019_labels)\n",
    "np.sqrt(mean_squared_error(y_2019, last_5))\n",
    "mean_absolute_error(y_2019, last_5)"
   ]
  },
  {
   "cell_type": "code",
   "execution_count": 23,
   "id": "9bbd9748",
   "metadata": {},
   "outputs": [
    {
     "data": {
      "text/plain": [
       "geoid\n",
       "01001     3.0\n",
       "01002     1.8\n",
       "01003     0.0\n",
       "01005     1.0\n",
       "01007     3.0\n",
       "         ... \n",
       "02777     2.8\n",
       "02779     2.2\n",
       "02780    22.6\n",
       "02790     4.6\n",
       "02791     0.0\n",
       "Name: deaths, Length: 537, dtype: float64"
      ]
     },
     "execution_count": 23,
     "metadata": {},
     "output_type": "execute_result"
    }
   ],
   "source": [
    "last_5"
   ]
  },
  {
   "cell_type": "code",
   "execution_count": 14,
   "id": "ef158cef",
   "metadata": {},
   "outputs": [],
   "source": [
    "bprs = []\n",
    "for t in [76,77,78,79]:\n",
    "    y_2019 = test_y[test_y[timestep_col].isin([t])].groupby('geoid').sum()['deaths']\n",
    "    last_year = train_y[train_y[timestep_col] ==18].set_index('geoid')['deaths']\n",
    "    bprs.append(fixed_top_X(y_2019,last_year,100)[-1])"
   ]
  },
  {
   "cell_type": "code",
   "execution_count": null,
   "id": "fc2e6e17",
   "metadata": {},
   "outputs": [],
   "source": [
    "trials_2019 = []\n",
    "for _ in range(100):\n",
    "    bprs = []\n",
    "    for t in [76,77,78,79]:\n",
    "        y_2019 = test_y[test_y[timestep_col].isin([t])].groupby('geoid').sum()['deaths']\n",
    "        last_year = train_y[train_y[timestep_col] ==18].set_index('geoid')['deaths']\n",
    "        bprs.append(fixed_top_X(y_2019,last_year,100)[-1])\n",
    "    trials_2019.append(np.mean(bprs))"
   ]
  },
  {
   "cell_type": "code",
   "execution_count": null,
   "id": "43584238",
   "metadata": {},
   "outputs": [],
   "source": [
    "bprs"
   ]
  },
  {
   "cell_type": "code",
   "execution_count": 16,
   "id": "5f84dce1",
   "metadata": {},
   "outputs": [],
   "source": [
    "bprs = []\n",
    "for t in [76,77,78,79]:\n",
    "    y_2019 = test_y[test_y[timestep_col].isin([t])].groupby('geoid').sum()['deaths']\n",
    "    last_2019 = all_y_qtr[all_y_qtr[timestep_col].isin([t-1])].groupby('geoid').sum()['deaths']\n",
    "    bprs.append(fixed_top_X(y_2019,last_2019,100)[-1])"
   ]
  },
  {
   "cell_type": "code",
   "execution_count": 17,
   "id": "11a5096e",
   "metadata": {},
   "outputs": [
    {
     "data": {
      "text/plain": [
       "[0.2577134502923976,\n",
       " 0.24423728813559323,\n",
       " 0.26881283422459895,\n",
       " 0.2580765027322404]"
      ]
     },
     "execution_count": 17,
     "metadata": {},
     "output_type": "execute_result"
    }
   ],
   "source": [
    "bprs"
   ]
  },
  {
   "cell_type": "code",
   "execution_count": null,
   "id": "830f597d",
   "metadata": {},
   "outputs": [],
   "source": [
    "trials_2020 = []\n",
    "for _ in range(100):\n",
    "    bprs = []\n",
    "    for t in [80,81,82,83]:\n",
    "        y_2020 = test_y[test_y[timestep_col].isin([t])].groupby('geoid').sum()['deaths']\n",
    "        last_year = test_y_yr[test_y_yr[timestep_col] ==19].set_index('geoid')['deaths']\n",
    "        bprs.append(fixed_top_X(y_2020,last_year,100)[-1])\n",
    "    trials_2020.append(np.mean(bprs))"
   ]
  },
  {
   "cell_type": "code",
   "execution_count": 23,
   "id": "a7a783b6",
   "metadata": {},
   "outputs": [
    {
     "data": {
      "text/plain": [
       "0.3304623841419298"
      ]
     },
     "execution_count": 23,
     "metadata": {},
     "output_type": "execute_result"
    }
   ],
   "source": [
    "np.mean(bprs)"
   ]
  },
  {
   "cell_type": "code",
   "execution_count": 26,
   "id": "ddd292ad",
   "metadata": {},
   "outputs": [
    {
     "data": {
      "text/plain": [
       "0.32982486060778476"
      ]
     },
     "execution_count": 26,
     "metadata": {},
     "output_type": "execute_result"
    }
   ],
   "source": [
    "np.mean(bprs)"
   ]
  },
  {
   "cell_type": "code",
   "execution_count": 33,
   "id": "c3ac84a5",
   "metadata": {},
   "outputs": [
    {
     "data": {
      "text/plain": [
       "[0.33028024016555974,\n",
       " 0.32927093377046995,\n",
       " 0.3290402419747322,\n",
       " 0.32883976904707013,\n",
       " 0.33005354203887655,\n",
       " 0.3311347665588404,\n",
       " 0.33011345283137394,\n",
       " 0.3289451836110406,\n",
       " 0.32984003398388384,\n",
       " 0.32940655812709074,\n",
       " 0.33002540349438136,\n",
       " 0.3290916083170681,\n",
       " 0.32997528500075257,\n",
       " 0.3286589850521387,\n",
       " 0.33127410097646226,\n",
       " 0.3306732001143512,\n",
       " 0.32953695065085825,\n",
       " 0.32919656452548834,\n",
       " 0.32948533510285094,\n",
       " 0.3298039284551785,\n",
       " 0.33038152380124847,\n",
       " 0.3292995541325753,\n",
       " 0.3293715745270849,\n",
       " 0.33006215140606976,\n",
       " 0.33102659484340247,\n",
       " 0.33061877255532746,\n",
       " 0.3302294290298825,\n",
       " 0.3297505191621146,\n",
       " 0.3296627451413712,\n",
       " 0.3296587566417858,\n",
       " 0.33009203950506316,\n",
       " 0.32939395215884487,\n",
       " 0.330244719566442,\n",
       " 0.3298634498710277,\n",
       " 0.32958031596500226,\n",
       " 0.330642387364779,\n",
       " 0.3299828193431177,\n",
       " 0.33015631440676674,\n",
       " 0.3292406228218574,\n",
       " 0.3311993603173712,\n",
       " 0.3300954645649067,\n",
       " 0.32989225298085406,\n",
       " 0.32968013398024876,\n",
       " 0.32977838737759235,\n",
       " 0.3299167279915955,\n",
       " 0.33069858614430964,\n",
       " 0.32974770910103895,\n",
       " 0.33016775180162383,\n",
       " 0.33046407122137844,\n",
       " 0.33111315979961914,\n",
       " 0.3304398312240603,\n",
       " 0.32992152920948925,\n",
       " 0.33018378880710175,\n",
       " 0.33036614916615265,\n",
       " 0.3301724293774781,\n",
       " 0.32914863196812044,\n",
       " 0.3306936833432082,\n",
       " 0.32947465277649535,\n",
       " 0.33039713237254187,\n",
       " 0.3300859980924355,\n",
       " 0.33018557658084435,\n",
       " 0.32972031230551213,\n",
       " 0.3297924199350671,\n",
       " 0.3304850950353755,\n",
       " 0.32918199643490076,\n",
       " 0.32907044140212105,\n",
       " 0.3302240627402092,\n",
       " 0.3295428788697274,\n",
       " 0.33009140689608246,\n",
       " 0.33056773861006183,\n",
       " 0.33039867352838476,\n",
       " 0.3303881410376656,\n",
       " 0.32946955923149834,\n",
       " 0.32958098995403473,\n",
       " 0.33075715165788133,\n",
       " 0.3293489526039902,\n",
       " 0.33011014512030296,\n",
       " 0.33025656338929854,\n",
       " 0.3302277105954671,\n",
       " 0.3302088506528248,\n",
       " 0.33024617864050987,\n",
       " 0.32938541478759603,\n",
       " 0.328928276911726,\n",
       " 0.32948071806627954,\n",
       " 0.33053958189041766,\n",
       " 0.3297793581463966,\n",
       " 0.3304377191567398,\n",
       " 0.32974000802355075,\n",
       " 0.3304918491847684,\n",
       " 0.33112944535268896,\n",
       " 0.33021691840219897,\n",
       " 0.3305460730610372,\n",
       " 0.3298737828886772,\n",
       " 0.3297388289553093,\n",
       " 0.33020662922075716,\n",
       " 0.33067460815990646,\n",
       " 0.330735881861791,\n",
       " 0.32951043240590827,\n",
       " 0.3299542399722908,\n",
       " 0.3298412402601774]"
      ]
     },
     "execution_count": 33,
     "metadata": {},
     "output_type": "execute_result"
    }
   ],
   "source": [
    "trials_2020"
   ]
  },
  {
   "cell_type": "code",
   "execution_count": 34,
   "id": "72374279",
   "metadata": {},
   "outputs": [
    {
     "data": {
      "text/plain": [
       "[0.3538270953995545,\n",
       " 0.3529761823222952,\n",
       " 0.3539537588440004,\n",
       " 0.3538922250100693,\n",
       " 0.3540362086147237,\n",
       " 0.3548128472127999,\n",
       " 0.3538805460345678,\n",
       " 0.3535569375314153,\n",
       " 0.3533425327789476,\n",
       " 0.3545632293231078,\n",
       " 0.35382395054532756,\n",
       " 0.35409679804634864,\n",
       " 0.3542748083956878,\n",
       " 0.3540713044692975,\n",
       " 0.3544942711845812,\n",
       " 0.3542843355050022,\n",
       " 0.354138297003604,\n",
       " 0.3529507884431001,\n",
       " 0.3547938531843484,\n",
       " 0.35395589680961903,\n",
       " 0.3534143126481147,\n",
       " 0.35448016531844406,\n",
       " 0.353371423149608,\n",
       " 0.3539314127952813,\n",
       " 0.35377428004158273,\n",
       " 0.3545055047553759,\n",
       " 0.35398025290136503,\n",
       " 0.35467203880510356,\n",
       " 0.35453354777137636,\n",
       " 0.35371450951613487,\n",
       " 0.3539941106274782,\n",
       " 0.35438988832866924,\n",
       " 0.3540977845913371,\n",
       " 0.3547581637327148,\n",
       " 0.3547325872019208,\n",
       " 0.3544418801621473,\n",
       " 0.3539914456176533,\n",
       " 0.354507480890922,\n",
       " 0.3547029452034863,\n",
       " 0.3544694235636142,\n",
       " 0.3548542563518341,\n",
       " 0.35375233348811425,\n",
       " 0.35457036125741354,\n",
       " 0.3540574191093152,\n",
       " 0.3550005753453682,\n",
       " 0.35360497287518833,\n",
       " 0.35444886197943937,\n",
       " 0.3545192626880517,\n",
       " 0.3524403483234333,\n",
       " 0.3540716071580276,\n",
       " 0.35379561465506304,\n",
       " 0.3543423176622771,\n",
       " 0.35498074973100585,\n",
       " 0.35387651691173244,\n",
       " 0.3539826906665507,\n",
       " 0.35492998873539133,\n",
       " 0.35466426839612586,\n",
       " 0.3529577471818428,\n",
       " 0.35461551615753484,\n",
       " 0.35500199806277477,\n",
       " 0.3533343397049333,\n",
       " 0.35334960022626016,\n",
       " 0.3547180236293238,\n",
       " 0.35518278282130106,\n",
       " 0.3546833583817272,\n",
       " 0.3544601640016807,\n",
       " 0.35447986889680877,\n",
       " 0.3545095757667342,\n",
       " 0.3548413590074896,\n",
       " 0.3548437241004434,\n",
       " 0.3543773333306224,\n",
       " 0.35461885907150736,\n",
       " 0.3544837880011754,\n",
       " 0.3536235338289261,\n",
       " 0.35357409890060343,\n",
       " 0.35355039766052326,\n",
       " 0.35348738985369127,\n",
       " 0.3541340411379313,\n",
       " 0.3544268592241421,\n",
       " 0.35399118822578984,\n",
       " 0.3535442589618999,\n",
       " 0.353441848307493,\n",
       " 0.354543006149017,\n",
       " 0.35451350682094085,\n",
       " 0.3534383010623353,\n",
       " 0.3537272405380837,\n",
       " 0.3542545151257169,\n",
       " 0.3546675376407795,\n",
       " 0.3553265601201468,\n",
       " 0.35363050345090785,\n",
       " 0.3542285655887377,\n",
       " 0.3542759569749454,\n",
       " 0.3542965682092826,\n",
       " 0.3537627288040272,\n",
       " 0.35440887557519,\n",
       " 0.35428099651203704,\n",
       " 0.353555823622117,\n",
       " 0.3540898904240729,\n",
       " 0.3544159445995947,\n",
       " 0.3538865787226219]"
      ]
     },
     "execution_count": 34,
     "metadata": {},
     "output_type": "execute_result"
    }
   ],
   "source": [
    "trials_2019"
   ]
  },
  {
   "cell_type": "code",
   "execution_count": 52,
   "id": "cb7e2126",
   "metadata": {},
   "outputs": [
    {
     "data": {
      "text/plain": [
       "(78.0, 0.9366883116883117, 83.306, 0.9323814935064935)"
      ]
     },
     "execution_count": 52,
     "metadata": {},
     "output_type": "execute_result"
    }
   ],
   "source": [
    "y_2019 = train_y[train_y[timestep_col]==18].groupby('geoid').sum()['deaths']\n",
    "last_year = train_y[train_y[timestep_col] ==17].set_index('geoid')['deaths']\n",
    "last_5 = train_y[train_y[timestep_col].isin([13,17,16,15,14])].groupby('geoid').mean()['deaths']\n",
    "np.sqrt(mean_squared_error(y_2019, last_5))\n",
    "fixed_top_X(y_2019, last_5, 100)"
   ]
  },
  {
   "cell_type": "code",
   "execution_count": 39,
   "id": "0525ac5a",
   "metadata": {},
   "outputs": [
    {
     "data": {
      "text/plain": [
       "2.4617294188930625"
      ]
     },
     "execution_count": 39,
     "metadata": {},
     "output_type": "execute_result"
    }
   ],
   "source": [
    "y_2019 = train_y[train_y[timestep_col]==17].groupby('geoid').sum()['deaths']\n",
    "last_year = train_y[train_y[timestep_col] ==17].set_index('geoid')['deaths']\n",
    "last_5 = train_y[train_y[timestep_col].isin([13,12,16,15,14])].groupby('geoid').mean()['deaths']\n",
    "np.sqrt(mean_squared_error(y_2019, last_5))"
   ]
  },
  {
   "cell_type": "code",
   "execution_count": 41,
   "id": "9de4adb7",
   "metadata": {},
   "outputs": [
    {
     "data": {
      "text/plain": [
       "2.626324264707083"
      ]
     },
     "execution_count": 41,
     "metadata": {},
     "output_type": "execute_result"
    }
   ],
   "source": [
    "y_2019 = train_y[train_y[timestep_col]==16].groupby('geoid').sum()['deaths']\n",
    "last_year = train_y[train_y[timestep_col] ==15].set_index('geoid')['deaths']\n",
    "last_5 = train_y[train_y[timestep_col].isin([13,12,11,15,14])].groupby('geoid').mean()['deaths']\n",
    "np.sqrt(mean_squared_error(y_2019, last_year))"
   ]
  },
  {
   "cell_type": "code",
   "execution_count": 46,
   "id": "59f416d2",
   "metadata": {},
   "outputs": [
    {
     "data": {
      "text/plain": [
       "221"
      ]
     },
     "execution_count": 46,
     "metadata": {},
     "output_type": "execute_result"
    }
   ],
   "source": [
    "(last_year==0).sum()"
   ]
  },
  {
   "cell_type": "code",
   "execution_count": 56,
   "id": "45a12a37",
   "metadata": {},
   "outputs": [
    {
     "data": {
      "text/plain": [
       "0.4000000000000057"
      ]
     },
     "execution_count": 56,
     "metadata": {},
     "output_type": "execute_result"
    }
   ],
   "source": [
    "np.quantile(last_year,0.4)"
   ]
  },
  {
   "cell_type": "code",
   "execution_count": 66,
   "id": "75aca394",
   "metadata": {},
   "outputs": [],
   "source": []
  },
  {
   "cell_type": "code",
   "execution_count": 67,
   "id": "7d15f138",
   "metadata": {},
   "outputs": [
    {
     "data": {
      "text/plain": [
       "array([3, 1, 0, 2])"
      ]
     },
     "execution_count": 67,
     "metadata": {},
     "output_type": "execute_result"
    }
   ],
   "source": [
    "y_2019_labels.unique()"
   ]
  },
  {
   "cell_type": "code",
   "execution_count": 68,
   "id": "5ed647f2",
   "metadata": {},
   "outputs": [],
   "source": [
    "from sklearn.metrics import accuracy_score"
   ]
  },
  {
   "cell_type": "code",
   "execution_count": 69,
   "id": "a8829c17",
   "metadata": {},
   "outputs": [
    {
     "data": {
      "text/plain": [
       "0.6126629422718808"
      ]
     },
     "execution_count": 69,
     "metadata": {},
     "output_type": "execute_result"
    }
   ],
   "source": []
  },
  {
   "cell_type": "code",
   "execution_count": null,
   "id": "cdaad0d7",
   "metadata": {},
   "outputs": [],
   "source": []
  }
 ],
 "metadata": {
  "kernelspec": {
   "display_name": "Python 3 (ipykernel)",
   "language": "python",
   "name": "python3"
  },
  "language_info": {
   "codemirror_mode": {
    "name": "ipython",
    "version": 3
   },
   "file_extension": ".py",
   "mimetype": "text/x-python",
   "name": "python",
   "nbconvert_exporter": "python",
   "pygments_lexer": "ipython3",
   "version": "3.8.16"
  }
 },
 "nbformat": 4,
 "nbformat_minor": 5
}
