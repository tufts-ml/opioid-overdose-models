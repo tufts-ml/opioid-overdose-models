{
 "cells": [
  {
   "cell_type": "code",
   "execution_count": 66,
   "id": "ec0e7d6d",
   "metadata": {},
   "outputs": [],
   "source": [
    "import geopandas as gpd\n",
    "\n",
    "import numpy as np\n",
    "import pandas as pd\n",
    "from pandas import IndexSlice as idx\n",
    "import tensorflow as tf\n",
    "import sys\n",
    "import os\n",
    "import glob\n",
    "\n",
    "from functools import partial\n",
    "\n",
    "\n",
    "\n",
    "code_dir = '/cluster/home/kheuto01/code/opioid-overdose-models/perturbations/'\n",
    "sys.path.append(code_dir)\n",
    "code_dir = '/cluster/home/kheuto01/code/opioid-overdose-models/diff_bpr'\n",
    "sys.path.append(code_dir)\n",
    "from top_k import top_k_idx\n",
    "#from make_datasets import make_data\n",
    "from bpr_model import PerturbedBPRLinearModel, PerturbedBPRMLPModel\n",
    "from make_datasets import make_data\n",
    "\n",
    "\n",
    "code_dir = '/cluster/home/kheuto01/code/opioid-overdose-models/'\n",
    "sys.path.append(code_dir)\n",
    "from zinf_gp.metrics import normcdf, fixed_top_X\n",
    "\n",
    "\n",
    "\n",
    "from perturbations import perturbed\n",
    "from bpr import bpr_variable_k_no_ties\n",
    "\n"
   ]
  },
  {
   "cell_type": "code",
   "execution_count": 5,
   "id": "441b4cf4",
   "metadata": {},
   "outputs": [],
   "source": [
    "data_path='/cluster/tufts/hugheslab/datasets/NSF_OD/results_20220606_update/clean_quarter_tract/'"
   ]
  },
  {
   "cell_type": "code",
   "execution_count": 20,
   "id": "efbb48ff",
   "metadata": {},
   "outputs": [],
   "source": [
    "epochs = 5000\n",
    "seed = 360\n",
    "time_window = 5*4\n",
    "timesteps_per_year = 4\n",
    "first_train_eval_year = 2013\n",
    "last_train_eval_year = 2017\n",
    "batch_dim_size = (last_train_eval_year - first_train_eval_year + 1)*timesteps_per_year\n",
    "validation_year = 2018\n",
    "first_test_year = 2019\n",
    "last_test_year = 2020\n",
    "\n",
    "tf.random.set_seed(seed)\n",
    "\n",
    "\n",
    "timestep_col = 'timestep'\n",
    "geography_col = 'geoid'\n",
    "outcome_col = 'deaths'\n",
    "\n",
    "x_idx_cols = [geography_col, 'lat', 'lon', timestep_col,\n",
    "              'theme_1_pc', 'theme_2_pc', 'theme_3_pc', 'theme_4_pc',\n",
    "              'svi_pctile', 'year',\n",
    "              'neighbor_t', 'deaths']\n",
    "y_idx_cols = [geography_col, timestep_col, outcome_col]\n",
    "#features_only = ['lat', 'lon', timestep_col,\n",
    "#                 'theme_1_pc', 'theme_2_pc', 'theme_3_pc', 'theme_4_pc',\n",
    "#                 'svi_pctile',\n",
    "#                 'neighbor_t', 'deaths']\n",
    "features_only = ['deaths']\n",
    "\n",
    "#data_gdf = gpd.read_file(data_path)\n",
    "\n",
    "multiindexed_gdf = data_gdf.set_index(['geoid', 'timestep'])\n",
    "multiindexed_gdf['timestep'] = multiindexed_gdf.index.get_level_values('timestep')\n",
    "num_geoids = len(data_gdf['geoid'].unique())\n",
    "\n",
    "train_shape = (num_geoids, time_window, len(features_only))\n",
    "\n",
    "train_x_BSF_flat, train_y_BS = make_data(multiindexed_gdf, first_train_eval_year, last_train_eval_year,\n",
    "                                                  time_window, features_only, train_shape, pred_lag=4)\n",
    "\n",
    "valid_x_BSF_flat, valid_y_BS = make_data(multiindexed_gdf, validation_year, validation_year,\n",
    "                                         time_window, features_only, train_shape, pred_lag=4)\n",
    "\n",
    "test_x_BSF_flat, test_y_BS = make_data(multiindexed_gdf, first_test_year, last_test_year,\n",
    "                                       time_window, features_only, train_shape, pred_lag=4)\n",
    "\n",
    "norm_layer = tf.keras.layers.Normalization()\n",
    "norm_layer.adapt(train_x_BSF_flat)\n",
    "train_x_BSF_flat = norm_layer(train_x_BSF_flat)\n",
    "valid_x_BSF_flat = norm_layer(valid_x_BSF_flat)\n",
    "test_x_BSF_flat = norm_layer(test_x_BSF_flat)\n",
    "\n",
    "top_100_idx_func = partial(top_k_idx, k=100)"
   ]
  },
  {
   "cell_type": "code",
   "execution_count": 21,
   "id": "19c811e1",
   "metadata": {},
   "outputs": [],
   "source": [
    "perturbation_samples = 100\n",
    "noise=0.2\n",
    "learning_rate = 0.005\n"
   ]
  },
  {
   "cell_type": "code",
   "execution_count": 22,
   "id": "ef092386",
   "metadata": {},
   "outputs": [
    {
     "data": {
      "text/plain": [
       "TensorShape([20, 1620, 24])"
      ]
     },
     "execution_count": 22,
     "metadata": {},
     "output_type": "execute_result"
    }
   ],
   "source": [
    "train_x_BSF_flat.shape"
   ]
  },
  {
   "cell_type": "code",
   "execution_count": 67,
   "id": "a3dd4c42",
   "metadata": {},
   "outputs": [],
   "source": [
    "perturbed_top_100 = perturbed(top_100_idx_func,\n",
    "                              num_samples=perturbation_samples,\n",
    "                              sigma=noise,\n",
    "                              noise='normal',\n",
    "                              batched=True)\n",
    "\n",
    "model = PerturbedBPRMLPModel(perturbed_top_k_func=perturbed_top_100,\n",
    "                                hidden_sizes=[50, 10])"
   ]
  },
  {
   "cell_type": "code",
   "execution_count": 70,
   "id": "dbf966c6",
   "metadata": {},
   "outputs": [],
   "source": [
    "optimizer = tf.keras.optimizers.Adam(learning_rate=learning_rate)\n",
    "\n",
    "# Compile the model\n",
    "def weird_loss(a, b):\n",
    "    return -a / b\n",
    "\n",
    "model.compile(optimizer=optimizer, loss=weird_loss)\n"
   ]
  },
  {
   "cell_type": "code",
   "execution_count": 71,
   "id": "dde2a568",
   "metadata": {},
   "outputs": [
    {
     "name": "stdout",
     "output_type": "stream",
     "text": [
      "Epoch 1/5000\n",
      "1/1 [==============================] - 1s 1s/step - loss: -0.1734 - val_loss: -0.1780\n",
      "Epoch 2/5000\n",
      "1/1 [==============================] - 0s 479ms/step - loss: -0.1682 - val_loss: -0.1742\n",
      "Epoch 3/5000\n",
      "1/1 [==============================] - 0s 479ms/step - loss: -0.1631 - val_loss: -0.1806\n",
      "Epoch 4/5000\n",
      "1/1 [==============================] - 0s 479ms/step - loss: -0.1674 - val_loss: -0.1782\n",
      "Epoch 5/5000\n",
      "1/1 [==============================] - 0s 480ms/step - loss: -0.1716 - val_loss: -0.1797\n",
      "Epoch 6/5000\n"
     ]
    },
    {
     "ename": "KeyboardInterrupt",
     "evalue": "",
     "output_type": "error",
     "traceback": [
      "\u001b[0;31m---------------------------------------------------------------------------\u001b[0m",
      "\u001b[0;31mKeyboardInterrupt\u001b[0m                         Traceback (most recent call last)",
      "Cell \u001b[0;32mIn[71], line 1\u001b[0m\n\u001b[0;32m----> 1\u001b[0m \u001b[43mmodel\u001b[49m\u001b[38;5;241;43m.\u001b[39;49m\u001b[43mfit\u001b[49m\u001b[43m(\u001b[49m\u001b[43mtrain_x_BSF_flat\u001b[49m\u001b[43m,\u001b[49m\u001b[43m \u001b[49m\u001b[43mtrain_y_BS\u001b[49m\u001b[43m,\u001b[49m\u001b[43m \u001b[49m\u001b[43mepochs\u001b[49m\u001b[38;5;241;43m=\u001b[39;49m\u001b[43mepochs\u001b[49m\u001b[43m,\u001b[49m\u001b[43m \u001b[49m\u001b[43mbatch_size\u001b[49m\u001b[38;5;241;43m=\u001b[39;49m\u001b[38;5;241;43m20\u001b[39;49m\u001b[43m,\u001b[49m\n\u001b[1;32m      2\u001b[0m \u001b[43m          \u001b[49m\u001b[43mvalidation_data\u001b[49m\u001b[38;5;241;43m=\u001b[39;49m\u001b[43m(\u001b[49m\u001b[43mvalid_x_BSF_flat\u001b[49m\u001b[43m,\u001b[49m\u001b[43m \u001b[49m\u001b[43mvalid_y_BS\u001b[49m\u001b[43m)\u001b[49m\u001b[43m)\u001b[49m\n",
      "File \u001b[0;32m/cluster/tufts/hugheslab/kheuto01/miniconda3/envs/ptopk_tf_again/lib/python3.8/site-packages/keras/utils/traceback_utils.py:65\u001b[0m, in \u001b[0;36mfilter_traceback.<locals>.error_handler\u001b[0;34m(*args, **kwargs)\u001b[0m\n\u001b[1;32m     63\u001b[0m filtered_tb \u001b[38;5;241m=\u001b[39m \u001b[38;5;28;01mNone\u001b[39;00m\n\u001b[1;32m     64\u001b[0m \u001b[38;5;28;01mtry\u001b[39;00m:\n\u001b[0;32m---> 65\u001b[0m     \u001b[38;5;28;01mreturn\u001b[39;00m \u001b[43mfn\u001b[49m\u001b[43m(\u001b[49m\u001b[38;5;241;43m*\u001b[39;49m\u001b[43margs\u001b[49m\u001b[43m,\u001b[49m\u001b[43m \u001b[49m\u001b[38;5;241;43m*\u001b[39;49m\u001b[38;5;241;43m*\u001b[39;49m\u001b[43mkwargs\u001b[49m\u001b[43m)\u001b[49m\n\u001b[1;32m     66\u001b[0m \u001b[38;5;28;01mexcept\u001b[39;00m \u001b[38;5;167;01mException\u001b[39;00m \u001b[38;5;28;01mas\u001b[39;00m e:\n\u001b[1;32m     67\u001b[0m     filtered_tb \u001b[38;5;241m=\u001b[39m _process_traceback_frames(e\u001b[38;5;241m.\u001b[39m__traceback__)\n",
      "File \u001b[0;32m/cluster/tufts/hugheslab/kheuto01/miniconda3/envs/ptopk_tf_again/lib/python3.8/site-packages/keras/engine/training.py:1685\u001b[0m, in \u001b[0;36mModel.fit\u001b[0;34m(self, x, y, batch_size, epochs, verbose, callbacks, validation_split, validation_data, shuffle, class_weight, sample_weight, initial_epoch, steps_per_epoch, validation_steps, validation_batch_size, validation_freq, max_queue_size, workers, use_multiprocessing)\u001b[0m\n\u001b[1;32m   1677\u001b[0m \u001b[38;5;28;01mwith\u001b[39;00m tf\u001b[38;5;241m.\u001b[39mprofiler\u001b[38;5;241m.\u001b[39mexperimental\u001b[38;5;241m.\u001b[39mTrace(\n\u001b[1;32m   1678\u001b[0m     \u001b[38;5;124m\"\u001b[39m\u001b[38;5;124mtrain\u001b[39m\u001b[38;5;124m\"\u001b[39m,\n\u001b[1;32m   1679\u001b[0m     epoch_num\u001b[38;5;241m=\u001b[39mepoch,\n\u001b[0;32m   (...)\u001b[0m\n\u001b[1;32m   1682\u001b[0m     _r\u001b[38;5;241m=\u001b[39m\u001b[38;5;241m1\u001b[39m,\n\u001b[1;32m   1683\u001b[0m ):\n\u001b[1;32m   1684\u001b[0m     callbacks\u001b[38;5;241m.\u001b[39mon_train_batch_begin(step)\n\u001b[0;32m-> 1685\u001b[0m     tmp_logs \u001b[38;5;241m=\u001b[39m \u001b[38;5;28;43mself\u001b[39;49m\u001b[38;5;241;43m.\u001b[39;49m\u001b[43mtrain_function\u001b[49m\u001b[43m(\u001b[49m\u001b[43miterator\u001b[49m\u001b[43m)\u001b[49m\n\u001b[1;32m   1686\u001b[0m     \u001b[38;5;28;01mif\u001b[39;00m data_handler\u001b[38;5;241m.\u001b[39mshould_sync:\n\u001b[1;32m   1687\u001b[0m         context\u001b[38;5;241m.\u001b[39masync_wait()\n",
      "File \u001b[0;32m/cluster/tufts/hugheslab/kheuto01/miniconda3/envs/ptopk_tf_again/lib/python3.8/site-packages/tensorflow/python/util/traceback_utils.py:150\u001b[0m, in \u001b[0;36mfilter_traceback.<locals>.error_handler\u001b[0;34m(*args, **kwargs)\u001b[0m\n\u001b[1;32m    148\u001b[0m filtered_tb \u001b[38;5;241m=\u001b[39m \u001b[38;5;28;01mNone\u001b[39;00m\n\u001b[1;32m    149\u001b[0m \u001b[38;5;28;01mtry\u001b[39;00m:\n\u001b[0;32m--> 150\u001b[0m   \u001b[38;5;28;01mreturn\u001b[39;00m \u001b[43mfn\u001b[49m\u001b[43m(\u001b[49m\u001b[38;5;241;43m*\u001b[39;49m\u001b[43margs\u001b[49m\u001b[43m,\u001b[49m\u001b[43m \u001b[49m\u001b[38;5;241;43m*\u001b[39;49m\u001b[38;5;241;43m*\u001b[39;49m\u001b[43mkwargs\u001b[49m\u001b[43m)\u001b[49m\n\u001b[1;32m    151\u001b[0m \u001b[38;5;28;01mexcept\u001b[39;00m \u001b[38;5;167;01mException\u001b[39;00m \u001b[38;5;28;01mas\u001b[39;00m e:\n\u001b[1;32m    152\u001b[0m   filtered_tb \u001b[38;5;241m=\u001b[39m _process_traceback_frames(e\u001b[38;5;241m.\u001b[39m__traceback__)\n",
      "File \u001b[0;32m/cluster/tufts/hugheslab/kheuto01/miniconda3/envs/ptopk_tf_again/lib/python3.8/site-packages/tensorflow/python/eager/polymorphic_function/polymorphic_function.py:894\u001b[0m, in \u001b[0;36mFunction.__call__\u001b[0;34m(self, *args, **kwds)\u001b[0m\n\u001b[1;32m    891\u001b[0m compiler \u001b[38;5;241m=\u001b[39m \u001b[38;5;124m\"\u001b[39m\u001b[38;5;124mxla\u001b[39m\u001b[38;5;124m\"\u001b[39m \u001b[38;5;28;01mif\u001b[39;00m \u001b[38;5;28mself\u001b[39m\u001b[38;5;241m.\u001b[39m_jit_compile \u001b[38;5;28;01melse\u001b[39;00m \u001b[38;5;124m\"\u001b[39m\u001b[38;5;124mnonXla\u001b[39m\u001b[38;5;124m\"\u001b[39m\n\u001b[1;32m    893\u001b[0m \u001b[38;5;28;01mwith\u001b[39;00m OptionalXlaContext(\u001b[38;5;28mself\u001b[39m\u001b[38;5;241m.\u001b[39m_jit_compile):\n\u001b[0;32m--> 894\u001b[0m   result \u001b[38;5;241m=\u001b[39m \u001b[38;5;28;43mself\u001b[39;49m\u001b[38;5;241;43m.\u001b[39;49m\u001b[43m_call\u001b[49m\u001b[43m(\u001b[49m\u001b[38;5;241;43m*\u001b[39;49m\u001b[43margs\u001b[49m\u001b[43m,\u001b[49m\u001b[43m \u001b[49m\u001b[38;5;241;43m*\u001b[39;49m\u001b[38;5;241;43m*\u001b[39;49m\u001b[43mkwds\u001b[49m\u001b[43m)\u001b[49m\n\u001b[1;32m    896\u001b[0m new_tracing_count \u001b[38;5;241m=\u001b[39m \u001b[38;5;28mself\u001b[39m\u001b[38;5;241m.\u001b[39mexperimental_get_tracing_count()\n\u001b[1;32m    897\u001b[0m without_tracing \u001b[38;5;241m=\u001b[39m (tracing_count \u001b[38;5;241m==\u001b[39m new_tracing_count)\n",
      "File \u001b[0;32m/cluster/tufts/hugheslab/kheuto01/miniconda3/envs/ptopk_tf_again/lib/python3.8/site-packages/tensorflow/python/eager/polymorphic_function/polymorphic_function.py:926\u001b[0m, in \u001b[0;36mFunction._call\u001b[0;34m(self, *args, **kwds)\u001b[0m\n\u001b[1;32m    923\u001b[0m   \u001b[38;5;28mself\u001b[39m\u001b[38;5;241m.\u001b[39m_lock\u001b[38;5;241m.\u001b[39mrelease()\n\u001b[1;32m    924\u001b[0m   \u001b[38;5;66;03m# In this case we have created variables on the first call, so we run the\u001b[39;00m\n\u001b[1;32m    925\u001b[0m   \u001b[38;5;66;03m# defunned version which is guaranteed to never create variables.\u001b[39;00m\n\u001b[0;32m--> 926\u001b[0m   \u001b[38;5;28;01mreturn\u001b[39;00m \u001b[38;5;28;43mself\u001b[39;49m\u001b[38;5;241;43m.\u001b[39;49m\u001b[43m_no_variable_creation_fn\u001b[49m\u001b[43m(\u001b[49m\u001b[38;5;241;43m*\u001b[39;49m\u001b[43margs\u001b[49m\u001b[43m,\u001b[49m\u001b[43m \u001b[49m\u001b[38;5;241;43m*\u001b[39;49m\u001b[38;5;241;43m*\u001b[39;49m\u001b[43mkwds\u001b[49m\u001b[43m)\u001b[49m  \u001b[38;5;66;03m# pylint: disable=not-callable\u001b[39;00m\n\u001b[1;32m    927\u001b[0m \u001b[38;5;28;01melif\u001b[39;00m \u001b[38;5;28mself\u001b[39m\u001b[38;5;241m.\u001b[39m_variable_creation_fn \u001b[38;5;129;01mis\u001b[39;00m \u001b[38;5;129;01mnot\u001b[39;00m \u001b[38;5;28;01mNone\u001b[39;00m:\n\u001b[1;32m    928\u001b[0m   \u001b[38;5;66;03m# Release the lock early so that multiple threads can perform the call\u001b[39;00m\n\u001b[1;32m    929\u001b[0m   \u001b[38;5;66;03m# in parallel.\u001b[39;00m\n\u001b[1;32m    930\u001b[0m   \u001b[38;5;28mself\u001b[39m\u001b[38;5;241m.\u001b[39m_lock\u001b[38;5;241m.\u001b[39mrelease()\n",
      "File \u001b[0;32m/cluster/tufts/hugheslab/kheuto01/miniconda3/envs/ptopk_tf_again/lib/python3.8/site-packages/tensorflow/python/eager/polymorphic_function/tracing_compiler.py:143\u001b[0m, in \u001b[0;36mTracingCompiler.__call__\u001b[0;34m(self, *args, **kwargs)\u001b[0m\n\u001b[1;32m    140\u001b[0m \u001b[38;5;28;01mwith\u001b[39;00m \u001b[38;5;28mself\u001b[39m\u001b[38;5;241m.\u001b[39m_lock:\n\u001b[1;32m    141\u001b[0m   (concrete_function,\n\u001b[1;32m    142\u001b[0m    filtered_flat_args) \u001b[38;5;241m=\u001b[39m \u001b[38;5;28mself\u001b[39m\u001b[38;5;241m.\u001b[39m_maybe_define_function(args, kwargs)\n\u001b[0;32m--> 143\u001b[0m \u001b[38;5;28;01mreturn\u001b[39;00m \u001b[43mconcrete_function\u001b[49m\u001b[38;5;241;43m.\u001b[39;49m\u001b[43m_call_flat\u001b[49m\u001b[43m(\u001b[49m\n\u001b[1;32m    144\u001b[0m \u001b[43m    \u001b[49m\u001b[43mfiltered_flat_args\u001b[49m\u001b[43m,\u001b[49m\u001b[43m \u001b[49m\u001b[43mcaptured_inputs\u001b[49m\u001b[38;5;241;43m=\u001b[39;49m\u001b[43mconcrete_function\u001b[49m\u001b[38;5;241;43m.\u001b[39;49m\u001b[43mcaptured_inputs\u001b[49m\u001b[43m)\u001b[49m\n",
      "File \u001b[0;32m/cluster/tufts/hugheslab/kheuto01/miniconda3/envs/ptopk_tf_again/lib/python3.8/site-packages/tensorflow/python/eager/polymorphic_function/monomorphic_function.py:1757\u001b[0m, in \u001b[0;36mConcreteFunction._call_flat\u001b[0;34m(self, args, captured_inputs, cancellation_manager)\u001b[0m\n\u001b[1;32m   1753\u001b[0m possible_gradient_type \u001b[38;5;241m=\u001b[39m gradients_util\u001b[38;5;241m.\u001b[39mPossibleTapeGradientTypes(args)\n\u001b[1;32m   1754\u001b[0m \u001b[38;5;28;01mif\u001b[39;00m (possible_gradient_type \u001b[38;5;241m==\u001b[39m gradients_util\u001b[38;5;241m.\u001b[39mPOSSIBLE_GRADIENT_TYPES_NONE\n\u001b[1;32m   1755\u001b[0m     \u001b[38;5;129;01mand\u001b[39;00m executing_eagerly):\n\u001b[1;32m   1756\u001b[0m   \u001b[38;5;66;03m# No tape is watching; skip to running the function.\u001b[39;00m\n\u001b[0;32m-> 1757\u001b[0m   \u001b[38;5;28;01mreturn\u001b[39;00m \u001b[38;5;28mself\u001b[39m\u001b[38;5;241m.\u001b[39m_build_call_outputs(\u001b[38;5;28;43mself\u001b[39;49m\u001b[38;5;241;43m.\u001b[39;49m\u001b[43m_inference_function\u001b[49m\u001b[38;5;241;43m.\u001b[39;49m\u001b[43mcall\u001b[49m\u001b[43m(\u001b[49m\n\u001b[1;32m   1758\u001b[0m \u001b[43m      \u001b[49m\u001b[43mctx\u001b[49m\u001b[43m,\u001b[49m\u001b[43m \u001b[49m\u001b[43margs\u001b[49m\u001b[43m,\u001b[49m\u001b[43m \u001b[49m\u001b[43mcancellation_manager\u001b[49m\u001b[38;5;241;43m=\u001b[39;49m\u001b[43mcancellation_manager\u001b[49m\u001b[43m)\u001b[49m)\n\u001b[1;32m   1759\u001b[0m forward_backward \u001b[38;5;241m=\u001b[39m \u001b[38;5;28mself\u001b[39m\u001b[38;5;241m.\u001b[39m_select_forward_and_backward_functions(\n\u001b[1;32m   1760\u001b[0m     args,\n\u001b[1;32m   1761\u001b[0m     possible_gradient_type,\n\u001b[1;32m   1762\u001b[0m     executing_eagerly)\n\u001b[1;32m   1763\u001b[0m forward_function, args_with_tangents \u001b[38;5;241m=\u001b[39m forward_backward\u001b[38;5;241m.\u001b[39mforward()\n",
      "File \u001b[0;32m/cluster/tufts/hugheslab/kheuto01/miniconda3/envs/ptopk_tf_again/lib/python3.8/site-packages/tensorflow/python/eager/polymorphic_function/monomorphic_function.py:381\u001b[0m, in \u001b[0;36m_EagerDefinedFunction.call\u001b[0;34m(self, ctx, args, cancellation_manager)\u001b[0m\n\u001b[1;32m    379\u001b[0m \u001b[38;5;28;01mwith\u001b[39;00m _InterpolateFunctionError(\u001b[38;5;28mself\u001b[39m):\n\u001b[1;32m    380\u001b[0m   \u001b[38;5;28;01mif\u001b[39;00m cancellation_manager \u001b[38;5;129;01mis\u001b[39;00m \u001b[38;5;28;01mNone\u001b[39;00m:\n\u001b[0;32m--> 381\u001b[0m     outputs \u001b[38;5;241m=\u001b[39m \u001b[43mexecute\u001b[49m\u001b[38;5;241;43m.\u001b[39;49m\u001b[43mexecute\u001b[49m\u001b[43m(\u001b[49m\n\u001b[1;32m    382\u001b[0m \u001b[43m        \u001b[49m\u001b[38;5;28;43mstr\u001b[39;49m\u001b[43m(\u001b[49m\u001b[38;5;28;43mself\u001b[39;49m\u001b[38;5;241;43m.\u001b[39;49m\u001b[43msignature\u001b[49m\u001b[38;5;241;43m.\u001b[39;49m\u001b[43mname\u001b[49m\u001b[43m)\u001b[49m\u001b[43m,\u001b[49m\n\u001b[1;32m    383\u001b[0m \u001b[43m        \u001b[49m\u001b[43mnum_outputs\u001b[49m\u001b[38;5;241;43m=\u001b[39;49m\u001b[38;5;28;43mself\u001b[39;49m\u001b[38;5;241;43m.\u001b[39;49m\u001b[43m_num_outputs\u001b[49m\u001b[43m,\u001b[49m\n\u001b[1;32m    384\u001b[0m \u001b[43m        \u001b[49m\u001b[43minputs\u001b[49m\u001b[38;5;241;43m=\u001b[39;49m\u001b[43margs\u001b[49m\u001b[43m,\u001b[49m\n\u001b[1;32m    385\u001b[0m \u001b[43m        \u001b[49m\u001b[43mattrs\u001b[49m\u001b[38;5;241;43m=\u001b[39;49m\u001b[43mattrs\u001b[49m\u001b[43m,\u001b[49m\n\u001b[1;32m    386\u001b[0m \u001b[43m        \u001b[49m\u001b[43mctx\u001b[49m\u001b[38;5;241;43m=\u001b[39;49m\u001b[43mctx\u001b[49m\u001b[43m)\u001b[49m\n\u001b[1;32m    387\u001b[0m   \u001b[38;5;28;01melse\u001b[39;00m:\n\u001b[1;32m    388\u001b[0m     outputs \u001b[38;5;241m=\u001b[39m execute\u001b[38;5;241m.\u001b[39mexecute_with_cancellation(\n\u001b[1;32m    389\u001b[0m         \u001b[38;5;28mstr\u001b[39m(\u001b[38;5;28mself\u001b[39m\u001b[38;5;241m.\u001b[39msignature\u001b[38;5;241m.\u001b[39mname),\n\u001b[1;32m    390\u001b[0m         num_outputs\u001b[38;5;241m=\u001b[39m\u001b[38;5;28mself\u001b[39m\u001b[38;5;241m.\u001b[39m_num_outputs,\n\u001b[0;32m   (...)\u001b[0m\n\u001b[1;32m    393\u001b[0m         ctx\u001b[38;5;241m=\u001b[39mctx,\n\u001b[1;32m    394\u001b[0m         cancellation_manager\u001b[38;5;241m=\u001b[39mcancellation_manager)\n",
      "File \u001b[0;32m/cluster/tufts/hugheslab/kheuto01/miniconda3/envs/ptopk_tf_again/lib/python3.8/site-packages/tensorflow/python/eager/execute.py:52\u001b[0m, in \u001b[0;36mquick_execute\u001b[0;34m(op_name, num_outputs, inputs, attrs, ctx, name)\u001b[0m\n\u001b[1;32m     50\u001b[0m \u001b[38;5;28;01mtry\u001b[39;00m:\n\u001b[1;32m     51\u001b[0m   ctx\u001b[38;5;241m.\u001b[39mensure_initialized()\n\u001b[0;32m---> 52\u001b[0m   tensors \u001b[38;5;241m=\u001b[39m \u001b[43mpywrap_tfe\u001b[49m\u001b[38;5;241;43m.\u001b[39;49m\u001b[43mTFE_Py_Execute\u001b[49m\u001b[43m(\u001b[49m\u001b[43mctx\u001b[49m\u001b[38;5;241;43m.\u001b[39;49m\u001b[43m_handle\u001b[49m\u001b[43m,\u001b[49m\u001b[43m \u001b[49m\u001b[43mdevice_name\u001b[49m\u001b[43m,\u001b[49m\u001b[43m \u001b[49m\u001b[43mop_name\u001b[49m\u001b[43m,\u001b[49m\n\u001b[1;32m     53\u001b[0m \u001b[43m                                      \u001b[49m\u001b[43minputs\u001b[49m\u001b[43m,\u001b[49m\u001b[43m \u001b[49m\u001b[43mattrs\u001b[49m\u001b[43m,\u001b[49m\u001b[43m \u001b[49m\u001b[43mnum_outputs\u001b[49m\u001b[43m)\u001b[49m\n\u001b[1;32m     54\u001b[0m \u001b[38;5;28;01mexcept\u001b[39;00m core\u001b[38;5;241m.\u001b[39m_NotOkStatusException \u001b[38;5;28;01mas\u001b[39;00m e:\n\u001b[1;32m     55\u001b[0m   \u001b[38;5;28;01mif\u001b[39;00m name \u001b[38;5;129;01mis\u001b[39;00m \u001b[38;5;129;01mnot\u001b[39;00m \u001b[38;5;28;01mNone\u001b[39;00m:\n",
      "\u001b[0;31mKeyboardInterrupt\u001b[0m: "
     ]
    }
   ],
   "source": [
    "\n",
    "model.fit(train_x_BSF_flat, train_y_BS, epochs=epochs, batch_size=20,\n",
    "          validation_data=(valid_x_BSF_flat, valid_y_BS))"
   ]
  },
  {
   "cell_type": "code",
   "execution_count": 19,
   "id": "c7b48ca3",
   "metadata": {},
   "outputs": [
    {
     "data": {
      "text/plain": [
       "2019"
      ]
     },
     "execution_count": 19,
     "metadata": {},
     "output_type": "execute_result"
    }
   ],
   "source": [
    "first_validation_year"
   ]
  },
  {
   "cell_type": "code",
   "execution_count": 26,
   "id": "1852da7c",
   "metadata": {},
   "outputs": [],
   "source": [
    "from zinf_gp.metrics import normcdf, fixed_top_X"
   ]
  },
  {
   "cell_type": "code",
   "execution_count": 28,
   "id": "a77c820b",
   "metadata": {},
   "outputs": [
    {
     "data": {
      "text/plain": [
       "<tf.Tensor: shape=(1620,), dtype=float32, numpy=array([0., 0., 0., ..., 0., 0., 0.], dtype=float32)>"
      ]
     },
     "execution_count": 28,
     "metadata": {},
     "output_type": "execute_result"
    }
   ],
   "source": [
    "valid_y_BS[0]"
   ]
  },
  {
   "cell_type": "code",
   "execution_count": 34,
   "id": "9c99ccde",
   "metadata": {},
   "outputs": [
    {
     "ename": "AttributeError",
     "evalue": "'tensorflow.python.framework.ops.EagerTensor' object has no attribute 'sort_values'",
     "output_type": "error",
     "traceback": [
      "\u001b[0;31m---------------------------------------------------------------------------\u001b[0m",
      "\u001b[0;31mAttributeError\u001b[0m                            Traceback (most recent call last)",
      "Cell \u001b[0;32mIn[34], line 1\u001b[0m\n\u001b[0;32m----> 1\u001b[0m \u001b[43mfixed_top_X\u001b[49m\u001b[43m(\u001b[49m\u001b[43mnp\u001b[49m\u001b[38;5;241;43m.\u001b[39;49m\u001b[43mmean\u001b[49m\u001b[43m(\u001b[49m\u001b[43mtest_y_BS\u001b[49m\u001b[43m[\u001b[49m\u001b[38;5;241;43m4\u001b[39;49m\u001b[43m:\u001b[49m\u001b[43m]\u001b[49m\u001b[43m,\u001b[49m\u001b[43maxis\u001b[49m\u001b[38;5;241;43m=\u001b[39;49m\u001b[38;5;241;43m0\u001b[39;49m\u001b[43m)\u001b[49m\u001b[43m,\u001b[49m\u001b[43m \u001b[49m\u001b[43mtest_y_BS\u001b[49m\u001b[43m,\u001b[49m\u001b[43mX\u001b[49m\u001b[38;5;241;43m=\u001b[39;49m\u001b[38;5;241;43m100\u001b[39;49m\u001b[43m)\u001b[49m\n",
      "File \u001b[0;32m~/code/opioid-overdose-models/zinf_gp/metrics.py:9\u001b[0m, in \u001b[0;36mfixed_top_X\u001b[0;34m(true_qtr_val, pred_qtr_val, X)\u001b[0m\n\u001b[1;32m      8\u001b[0m \u001b[38;5;28;01mdef\u001b[39;00m \u001b[38;5;21mfixed_top_X\u001b[39m(true_qtr_val, pred_qtr_val, X\u001b[38;5;241m=\u001b[39m\u001b[38;5;241m10\u001b[39m):\n\u001b[0;32m----> 9\u001b[0m     top_X_predicted \u001b[38;5;241m=\u001b[39m \u001b[43mpred_qtr_val\u001b[49m\u001b[38;5;241;43m.\u001b[39;49m\u001b[43msort_values\u001b[49m(ascending\u001b[38;5;241m=\u001b[39m\u001b[38;5;28;01mFalse\u001b[39;00m)\u001b[38;5;241m.\u001b[39miloc[:X]\n\u001b[1;32m     10\u001b[0m     top_X_true \u001b[38;5;241m=\u001b[39m true_qtr_val\u001b[38;5;241m.\u001b[39msort_values(ascending\u001b[38;5;241m=\u001b[39m\u001b[38;5;28;01mFalse\u001b[39;00m)\u001b[38;5;241m.\u001b[39miloc[:X]\n\u001b[1;32m     12\u001b[0m     undisputed_top_predicted \u001b[38;5;241m=\u001b[39m top_X_predicted[top_X_predicted \u001b[38;5;241m>\u001b[39m top_X_predicted\u001b[38;5;241m.\u001b[39mmin()]\n",
      "File \u001b[0;32m/cluster/tufts/hugheslab/kheuto01/miniconda3/envs/ptopk_tf_again/lib/python3.8/site-packages/tensorflow/python/framework/ops.py:443\u001b[0m, in \u001b[0;36mTensor.__getattr__\u001b[0;34m(self, name)\u001b[0m\n\u001b[1;32m    434\u001b[0m \u001b[38;5;28;01mif\u001b[39;00m name \u001b[38;5;129;01min\u001b[39;00m {\u001b[38;5;124m\"\u001b[39m\u001b[38;5;124mT\u001b[39m\u001b[38;5;124m\"\u001b[39m, \u001b[38;5;124m\"\u001b[39m\u001b[38;5;124mastype\u001b[39m\u001b[38;5;124m\"\u001b[39m, \u001b[38;5;124m\"\u001b[39m\u001b[38;5;124mravel\u001b[39m\u001b[38;5;124m\"\u001b[39m, \u001b[38;5;124m\"\u001b[39m\u001b[38;5;124mtranspose\u001b[39m\u001b[38;5;124m\"\u001b[39m, \u001b[38;5;124m\"\u001b[39m\u001b[38;5;124mreshape\u001b[39m\u001b[38;5;124m\"\u001b[39m, \u001b[38;5;124m\"\u001b[39m\u001b[38;5;124mclip\u001b[39m\u001b[38;5;124m\"\u001b[39m, \u001b[38;5;124m\"\u001b[39m\u001b[38;5;124msize\u001b[39m\u001b[38;5;124m\"\u001b[39m,\n\u001b[1;32m    435\u001b[0m             \u001b[38;5;124m\"\u001b[39m\u001b[38;5;124mtolist\u001b[39m\u001b[38;5;124m\"\u001b[39m, \u001b[38;5;124m\"\u001b[39m\u001b[38;5;124mdata\u001b[39m\u001b[38;5;124m\"\u001b[39m}:\n\u001b[1;32m    436\u001b[0m   \u001b[38;5;66;03m# TODO(wangpeng): Export the enable_numpy_behavior knob\u001b[39;00m\n\u001b[1;32m    437\u001b[0m   \u001b[38;5;28;01mraise\u001b[39;00m \u001b[38;5;167;01mAttributeError\u001b[39;00m(\n\u001b[1;32m    438\u001b[0m       \u001b[38;5;124mf\u001b[39m\u001b[38;5;124m\"\u001b[39m\u001b[38;5;132;01m{\u001b[39;00m\u001b[38;5;28mtype\u001b[39m(\u001b[38;5;28mself\u001b[39m)\u001b[38;5;241m.\u001b[39m\u001b[38;5;18m__name__\u001b[39m\u001b[38;5;132;01m}\u001b[39;00m\u001b[38;5;124m object has no attribute \u001b[39m\u001b[38;5;124m'\u001b[39m\u001b[38;5;132;01m{\u001b[39;00mname\u001b[38;5;132;01m}\u001b[39;00m\u001b[38;5;124m'\u001b[39m\u001b[38;5;124m. \u001b[39m\u001b[38;5;124m\"\u001b[39m \u001b[38;5;241m+\u001b[39m \u001b[38;5;124m\"\"\"\u001b[39m\n\u001b[1;32m    439\u001b[0m \u001b[38;5;124m    If you are looking for numpy-related methods, please run the following:\u001b[39m\n\u001b[1;32m    440\u001b[0m \u001b[38;5;124m    from tensorflow.python.ops.numpy_ops import np_config\u001b[39m\n\u001b[1;32m    441\u001b[0m \u001b[38;5;124m    np_config.enable_numpy_behavior()\u001b[39m\n\u001b[1;32m    442\u001b[0m \u001b[38;5;124m  \u001b[39m\u001b[38;5;124m\"\"\"\u001b[39m)\n\u001b[0;32m--> 443\u001b[0m \u001b[38;5;28;43mself\u001b[39;49m\u001b[38;5;241;43m.\u001b[39;49m\u001b[38;5;21;43m__getattribute__\u001b[39;49m\u001b[43m(\u001b[49m\u001b[43mname\u001b[49m\u001b[43m)\u001b[49m\n",
      "\u001b[0;31mAttributeError\u001b[0m: 'tensorflow.python.framework.ops.EagerTensor' object has no attribute 'sort_values'"
     ]
    }
   ],
   "source": [
    "fixed_top_X(np.mean(test_y_BS[4:],axis=0), test_y_BS,X=100)"
   ]
  },
  {
   "cell_type": "code",
   "execution_count": 35,
   "id": "41859577",
   "metadata": {},
   "outputs": [
    {
     "ename": "NameError",
     "evalue": "name 'test_y_yr' is not defined",
     "output_type": "error",
     "traceback": [
      "\u001b[0;31m---------------------------------------------------------------------------\u001b[0m",
      "\u001b[0;31mNameError\u001b[0m                                 Traceback (most recent call last)",
      "Cell \u001b[0;32mIn[35], line 1\u001b[0m\n\u001b[0;32m----> 1\u001b[0m y_2019 \u001b[38;5;241m=\u001b[39m \u001b[43mtest_y_yr\u001b[49m[test_y_yr[timestep_col]\u001b[38;5;241m==\u001b[39m\u001b[38;5;241m19\u001b[39m]\u001b[38;5;241m.\u001b[39mgroupby(\u001b[38;5;124m'\u001b[39m\u001b[38;5;124mgeoid\u001b[39m\u001b[38;5;124m'\u001b[39m)\u001b[38;5;241m.\u001b[39msum()[\u001b[38;5;124m'\u001b[39m\u001b[38;5;124mdeaths\u001b[39m\u001b[38;5;124m'\u001b[39m]\n\u001b[1;32m      2\u001b[0m last_year \u001b[38;5;241m=\u001b[39m train_y[train_y[timestep_col] \u001b[38;5;241m==\u001b[39m\u001b[38;5;241m18\u001b[39m]\u001b[38;5;241m.\u001b[39mset_index(\u001b[38;5;124m'\u001b[39m\u001b[38;5;124mgeoid\u001b[39m\u001b[38;5;124m'\u001b[39m)[\u001b[38;5;124m'\u001b[39m\u001b[38;5;124mdeaths\u001b[39m\u001b[38;5;124m'\u001b[39m]\n\u001b[1;32m      3\u001b[0m fixed_top_X(y_2019,last_year,\u001b[38;5;241m100\u001b[39m)[\u001b[38;5;241m-\u001b[39m\u001b[38;5;241m1\u001b[39m]\n",
      "\u001b[0;31mNameError\u001b[0m: name 'test_y_yr' is not defined"
     ]
    }
   ],
   "source": [
    "y_2019 = test_y_yr[test_y_yr[timestep_col]==19].groupby('geoid').sum()['deaths']\n",
    "last_year = train_y[train_y[timestep_col] ==18].set_index('geoid')['deaths']\n",
    "fixed_top_X(y_2019,last_year,100)[-1]"
   ]
  },
  {
   "cell_type": "code",
   "execution_count": 61,
   "id": "dd6889e3",
   "metadata": {},
   "outputs": [
    {
     "data": {
      "text/plain": [
       "0.39649931705176433"
      ]
     },
     "execution_count": 61,
     "metadata": {},
     "output_type": "execute_result"
    }
   ],
   "source": [
    "bprs=[]\n",
    "avg_2018 = multiindexed_gdf[(multiindexed_gdf['year']<=2018)&(multiindexed_gdf['year']>2013)].groupby(level='geoid')['deaths'].mean()\n",
    "for quarter in [76,77,78,79]:\n",
    "    this_2019 = multiindexed_gdf.loc[idx[:,quarter],:].drop(columns='timestep').reset_index().set_index('geoid')['deaths']\n",
    "    bprs.append(fixed_top_X(this_2019,avg_2018,X=100)[-1])\n",
    "np.mean(bprs)"
   ]
  },
  {
   "cell_type": "code",
   "execution_count": 62,
   "id": "03d2e2ce",
   "metadata": {},
   "outputs": [
    {
     "data": {
      "text/plain": [
       "0.3802946487173787"
      ]
     },
     "execution_count": 62,
     "metadata": {},
     "output_type": "execute_result"
    }
   ],
   "source": [
    "bprs=[]\n",
    "avg_2018 = multiindexed_gdf[(multiindexed_gdf['year']<=2019)&(multiindexed_gdf['year']>2014)].groupby(level='geoid')['deaths'].mean()\n",
    "for quarter in [80,81,82,83]:\n",
    "    this_2019 = multiindexed_gdf.loc[idx[:,quarter],:].drop(columns='timestep').reset_index().set_index('geoid')['deaths']\n",
    "    bprs.append(fixed_top_X(this_2019,avg_2018,X=100)[-1])\n",
    "np.mean(bprs)"
   ]
  },
  {
   "cell_type": "code",
   "execution_count": 64,
   "id": "5e7eb6f0",
   "metadata": {},
   "outputs": [
    {
     "data": {
      "text/plain": [
       "0.38553360851793567"
      ]
     },
     "execution_count": 64,
     "metadata": {},
     "output_type": "execute_result"
    }
   ],
   "source": [
    "bprs=[]\n",
    "avg_2018 = multiindexed_gdf[(multiindexed_gdf['year']<=2020)&(multiindexed_gdf['year']>2015)].groupby(level='geoid')['deaths'].mean()\n",
    "for quarter in [84,85,86,87]:\n",
    "    this_2019 = multiindexed_gdf.loc[idx[:,quarter],:].drop(columns='timestep').reset_index().set_index('geoid')['deaths']\n",
    "    bprs.append(fixed_top_X(this_2019,avg_2018,X=100)[-1])\n",
    "np.mean(bprs)"
   ]
  },
  {
   "cell_type": "code",
   "execution_count": 72,
   "id": "ec16ed7c",
   "metadata": {},
   "outputs": [
    {
     "data": {
      "text/plain": [
       "[<tf.Variable 'perturbed_bprmlp_model/dense/kernel:0' shape=(24, 50) dtype=float32, numpy=\n",
       " array([[ 0.08130685, -0.26384673,  0.27236152, ...,  0.07897349,\n",
       "         -0.2555355 ,  0.01948926],\n",
       "        [ 0.09878462,  0.07647446, -0.24215457, ..., -0.22882546,\n",
       "         -0.06209113,  0.05292066],\n",
       "        [-0.21356046, -0.22734566,  0.17919381, ...,  0.17991634,\n",
       "          0.16830131,  0.01721929],\n",
       "        ...,\n",
       "        [ 0.28220114,  0.01558735, -0.01301214, ..., -0.1351605 ,\n",
       "         -0.19741191, -0.06966883],\n",
       "        [-0.07399305,  0.00919886,  0.19608139, ...,  0.2191585 ,\n",
       "          0.090666  , -0.17638008],\n",
       "        [ 0.16001832,  0.07291204, -0.06433683, ..., -0.18710478,\n",
       "         -0.04728039, -0.04247441]], dtype=float32)>,\n",
       " <tf.Variable 'perturbed_bprmlp_model/dense/bias:0' shape=(50,) dtype=float32, numpy=\n",
       " array([ 0.02550787, -0.00516292, -0.02024401, -0.02460235, -0.02564245,\n",
       "         0.00287915, -0.00751161,  0.02415368, -0.00963079, -0.0253121 ,\n",
       "         0.02115076,  0.00024868, -0.01303753, -0.00377352, -0.0017205 ,\n",
       "        -0.01666003,  0.00169712,  0.00889103, -0.00322487, -0.02210115,\n",
       "        -0.01829082,  0.00900349, -0.01491064, -0.0145136 ,  0.02070444,\n",
       "         0.00422819, -0.00696306, -0.02047856, -0.00448205, -0.00808773,\n",
       "         0.0054967 ,  0.01735264,  0.01139465,  0.00791232, -0.01630038,\n",
       "         0.02580783, -0.01516   , -0.00437296,  0.0020792 ,  0.00541416,\n",
       "        -0.00363192, -0.00166259, -0.00407496,  0.02008408,  0.02421026,\n",
       "        -0.02345457,  0.0194722 ,  0.01189007, -0.00188077,  0.00838963],\n",
       "       dtype=float32)>,\n",
       " <tf.Variable 'perturbed_bprmlp_model/dense_1/kernel:0' shape=(50, 10) dtype=float32, numpy=\n",
       " array([[-3.38880181e-01,  2.00498089e-01,  1.53498456e-01,\n",
       "         -3.03395893e-02, -6.43154457e-02,  3.86709087e-02,\n",
       "         -2.21953914e-01, -3.00279200e-01, -3.83866131e-02,\n",
       "         -2.41306216e-01],\n",
       "        [-2.81602368e-02,  8.53795186e-02,  1.49336576e-01,\n",
       "          5.03643639e-02,  2.10157171e-01, -1.86896011e-01,\n",
       "          1.24798730e-01,  5.94942942e-02,  2.14599684e-01,\n",
       "         -3.57780531e-02],\n",
       "        [ 2.25450099e-01, -2.17828110e-01, -2.25385040e-01,\n",
       "         -2.04397455e-01, -2.41874695e-01,  1.86812967e-01,\n",
       "          1.38205662e-01, -3.99777815e-02, -4.73649427e-02,\n",
       "          2.84265727e-01],\n",
       "        [-2.78521240e-01,  3.05880398e-01, -1.59570828e-01,\n",
       "          2.45418578e-01,  1.86978370e-01, -3.02271515e-01,\n",
       "          7.30197951e-02,  2.52302736e-01, -5.34933321e-02,\n",
       "          1.54872611e-02],\n",
       "        [ 1.89164981e-01,  6.91370070e-02,  5.73258400e-02,\n",
       "          5.76039292e-02,  7.07697794e-02,  1.92070186e-01,\n",
       "          9.06566232e-02, -4.49804217e-02, -1.94090292e-01,\n",
       "          1.90056771e-01],\n",
       "        [-5.93376346e-02, -2.84210801e-01, -4.96770293e-02,\n",
       "         -1.12840142e-02,  5.20052714e-03, -1.67666331e-01,\n",
       "         -1.64193958e-01, -2.27515884e-02, -2.54506052e-01,\n",
       "          1.76110581e-01],\n",
       "        [-2.16955855e-01,  5.43788821e-03,  1.42771393e-01,\n",
       "         -2.20864534e-01,  8.28629956e-02,  2.78106958e-01,\n",
       "          1.65518865e-01,  1.76170275e-01, -1.38347685e-01,\n",
       "          5.97784445e-02],\n",
       "        [-7.90483877e-02,  2.29000807e-01, -2.95576096e-01,\n",
       "          4.35322411e-02,  8.14109817e-02, -2.98969626e-01,\n",
       "         -8.17720592e-02,  2.36216605e-01,  1.49236947e-01,\n",
       "          9.09789465e-03],\n",
       "        [-1.44566059e-01, -1.15087226e-01,  2.61489213e-01,\n",
       "          1.65874381e-02, -3.14574987e-01, -2.61286914e-01,\n",
       "         -1.19338505e-01,  2.36902371e-01, -1.97885856e-01,\n",
       "         -1.12642217e-02],\n",
       "        [ 1.13567851e-01, -1.91176936e-01,  1.29429102e-01,\n",
       "          2.09898338e-01, -1.96888193e-01, -9.05341581e-02,\n",
       "         -1.54572502e-01, -5.66149354e-02, -1.70991048e-01,\n",
       "          1.85136735e-01],\n",
       "        [-4.55494784e-02,  1.00763261e-01, -3.18525791e-01,\n",
       "         -2.02972218e-01,  5.29570766e-02, -2.37294137e-01,\n",
       "          1.69669315e-02,  5.19168861e-02,  7.71775246e-02,\n",
       "         -1.99328810e-01],\n",
       "        [ 2.12523639e-01, -1.52360097e-01,  6.24509295e-03,\n",
       "         -1.33987069e-01,  3.06471050e-01, -2.48784214e-01,\n",
       "         -8.92621744e-03,  1.02859616e-01, -2.11507544e-01,\n",
       "          2.00067714e-01],\n",
       "        [-1.19196959e-01,  3.99603462e-03, -5.27147390e-02,\n",
       "          2.92843521e-01, -3.29758748e-02, -1.21444367e-01,\n",
       "          2.80993015e-01,  1.62476450e-01,  5.38968854e-02,\n",
       "          2.05609441e-01],\n",
       "        [-2.70804651e-02, -2.66953468e-01,  2.62742341e-01,\n",
       "         -3.69415688e-03, -4.52738814e-02, -1.53500512e-01,\n",
       "         -1.14188574e-01, -2.30072066e-01, -2.12305598e-02,\n",
       "          1.97670653e-01],\n",
       "        [ 1.74066633e-01, -2.96564549e-01,  2.99919367e-01,\n",
       "          1.49138972e-01,  1.02321856e-01, -2.54030347e-01,\n",
       "          1.60018280e-01,  1.21739646e-02,  1.69868674e-02,\n",
       "         -8.53864551e-02],\n",
       "        [-2.03264415e-01,  3.02935809e-01,  2.35240653e-01,\n",
       "         -1.70294240e-01, -1.88299373e-01,  2.05408558e-01,\n",
       "          9.66640115e-02,  1.91827685e-01, -2.98495889e-01,\n",
       "          2.82333821e-01],\n",
       "        [ 4.50377688e-02, -7.17746988e-02, -1.07560366e-01,\n",
       "          2.96558499e-01, -8.97925422e-02, -1.72845274e-01,\n",
       "          1.14119463e-02,  2.81297043e-02, -2.90824741e-01,\n",
       "         -1.11471839e-01],\n",
       "        [-1.49243101e-01,  2.32183263e-01, -6.43899338e-03,\n",
       "          1.84704915e-01, -1.08784914e-01,  4.98815179e-02,\n",
       "         -2.73839504e-01,  3.21050555e-01, -2.76572615e-01,\n",
       "         -9.91999283e-02],\n",
       "        [-2.94865936e-01, -1.76203147e-01, -3.00872982e-01,\n",
       "         -7.92558193e-02, -4.04044762e-02, -1.82816520e-01,\n",
       "          1.46666497e-01, -2.60427862e-01, -6.75317496e-02,\n",
       "         -3.16131532e-01],\n",
       "        [-2.48417724e-02,  1.25761643e-01,  3.03814143e-01,\n",
       "          2.42443651e-01, -9.42856744e-02,  1.86107725e-01,\n",
       "          1.19700413e-02,  2.66273558e-01,  1.18266255e-01,\n",
       "          4.35928106e-02],\n",
       "        [-1.79769412e-01, -3.25382687e-02, -3.10616866e-02,\n",
       "          1.99976951e-01,  6.29437268e-02,  1.35337040e-01,\n",
       "         -5.03128916e-02, -1.75052807e-01, -6.38209842e-03,\n",
       "          2.66806930e-01],\n",
       "        [-3.11222851e-01,  4.19364013e-02, -9.15540606e-02,\n",
       "         -2.24896133e-01,  1.63643435e-02, -1.57040238e-01,\n",
       "          1.67883828e-01, -1.58656407e-02, -2.47480813e-03,\n",
       "          1.77114964e-01],\n",
       "        [ 2.40708172e-01,  1.55948415e-01, -2.64309824e-01,\n",
       "          1.39192373e-01, -1.22153245e-01, -2.93516695e-01,\n",
       "          2.95033216e-01, -3.09371680e-01,  1.50658153e-02,\n",
       "         -1.27979517e-01],\n",
       "        [ 2.62507915e-01,  2.46886671e-01, -1.96737021e-01,\n",
       "          2.89251268e-01,  3.95097584e-02,  1.13360167e-01,\n",
       "          2.52791047e-01, -4.38009389e-02, -3.19938689e-01,\n",
       "         -1.71099231e-01],\n",
       "        [-1.63081521e-03, -2.50264376e-01,  9.77513343e-02,\n",
       "         -2.27055490e-01,  2.77108669e-01, -3.08257371e-01,\n",
       "          2.32227907e-01, -1.16303843e-02,  2.66530752e-01,\n",
       "         -1.05991997e-01],\n",
       "        [ 2.85680860e-01,  1.28419781e-02,  1.68820806e-02,\n",
       "         -3.93940583e-02,  2.69632280e-01,  2.28264213e-01,\n",
       "         -1.33865595e-01,  2.18616918e-01, -2.27978036e-01,\n",
       "         -1.36065587e-01],\n",
       "        [-1.44965097e-01,  1.26783490e-01,  9.74028185e-02,\n",
       "          1.36039749e-01,  2.80544281e-01, -8.86606425e-02,\n",
       "         -1.82607889e-01,  2.26965234e-01, -2.89053738e-01,\n",
       "          2.90904969e-01],\n",
       "        [ 1.00461289e-01, -1.33152798e-01, -2.99317092e-01,\n",
       "          2.66837031e-01,  1.45670429e-01,  1.30950809e-01,\n",
       "         -1.01951532e-01, -1.90225933e-02,  2.19484121e-01,\n",
       "         -2.48618886e-01],\n",
       "        [-2.80319005e-01,  2.23198339e-01, -8.33382532e-02,\n",
       "         -2.54266262e-01, -1.59407824e-01,  2.66424060e-01,\n",
       "          1.73759520e-01,  8.54460746e-02,  2.91788727e-01,\n",
       "          1.64496884e-01],\n",
       "        [-1.54608220e-01, -3.79873998e-02,  2.13858739e-01,\n",
       "         -1.40740752e-01, -2.57009082e-02,  2.41658777e-01,\n",
       "          2.85833627e-01, -3.29806149e-01, -3.40286463e-01,\n",
       "          2.71293700e-01],\n",
       "        [ 9.69066024e-02,  1.15840644e-01, -9.41843390e-02,\n",
       "         -2.31527656e-01,  2.82520771e-01, -4.04107198e-03,\n",
       "         -2.60932267e-01,  1.41377032e-01, -1.16739608e-03,\n",
       "         -5.94369732e-02],\n",
       "        [-2.82967061e-01, -2.57559299e-01,  5.40471636e-03,\n",
       "         -1.82854146e-01,  1.79176092e-01,  2.00933993e-01,\n",
       "         -1.27931371e-01, -2.18274757e-01, -1.62488550e-01,\n",
       "          3.10848597e-02],\n",
       "        [-2.71146521e-02,  1.10257104e-01, -2.01732233e-01,\n",
       "         -2.01284692e-01,  2.53394544e-01, -1.36884362e-01,\n",
       "         -2.75814503e-01, -1.21410787e-02, -5.43566868e-02,\n",
       "         -2.14073896e-01],\n",
       "        [-1.55446883e-02, -3.69702391e-02, -1.59575894e-01,\n",
       "         -2.07322270e-01, -1.24833826e-02,  5.76044433e-02,\n",
       "          1.88155144e-01,  2.13352919e-01, -6.82482421e-02,\n",
       "         -2.74982184e-01],\n",
       "        [-5.23799472e-02,  1.97548002e-01,  2.75384486e-01,\n",
       "          4.41765925e-03, -2.15010807e-01, -3.00864573e-03,\n",
       "         -4.85260971e-02,  1.71540827e-01,  2.14967489e-01,\n",
       "          2.71405905e-01],\n",
       "        [-2.87945032e-01,  2.89166480e-01, -2.42952764e-01,\n",
       "         -2.80762136e-01, -9.46707875e-02, -2.05696777e-01,\n",
       "         -3.31975967e-02, -1.18168548e-01,  3.79738025e-02,\n",
       "         -2.60305792e-01],\n",
       "        [-1.90463454e-01, -6.79443553e-02,  1.94951937e-01,\n",
       "          1.77926049e-02,  2.20434591e-02, -1.72122270e-01,\n",
       "         -2.22012684e-01,  5.70586808e-02, -2.55535692e-01,\n",
       "          1.13528512e-01],\n",
       "        [ 2.31591538e-01,  2.39719868e-01,  7.54006580e-02,\n",
       "          6.13113828e-02, -2.78372288e-01, -7.93688297e-02,\n",
       "         -1.75525069e-01, -1.02529991e-02, -1.65140674e-01,\n",
       "         -1.32796168e-01],\n",
       "        [ 2.85089731e-01,  1.62555084e-01,  6.35361001e-02,\n",
       "          4.09008674e-02,  3.33803855e-02, -3.97049040e-02,\n",
       "          1.92344338e-01,  1.85228482e-01,  4.18489315e-02,\n",
       "         -1.89272657e-01],\n",
       "        [ 2.63579756e-01, -7.65422657e-02,  2.50986367e-01,\n",
       "         -2.91720986e-01,  2.14591235e-01, -6.30001128e-02,\n",
       "          9.61571112e-02,  1.08183017e-02, -2.42106561e-02,\n",
       "         -2.12099075e-01],\n",
       "        [-1.77227929e-02, -1.65782616e-01, -2.70520747e-01,\n",
       "         -1.97108567e-01, -5.03359549e-02,  2.04161286e-01,\n",
       "         -2.94396877e-01, -2.41301790e-01,  1.31865829e-01,\n",
       "          9.57606807e-02],\n",
       "        [-6.37322441e-02,  2.80280024e-01,  2.81350464e-01,\n",
       "          2.35667825e-01, -8.48534107e-02, -2.43214607e-01,\n",
       "          3.70528586e-02, -3.01832139e-01,  2.05130219e-01,\n",
       "         -2.26559445e-01],\n",
       "        [ 4.07851040e-02,  1.09601337e-02, -1.45811111e-01,\n",
       "          2.11903010e-04, -1.49832249e-01, -1.57941177e-01,\n",
       "         -7.00524300e-02,  2.70033985e-01,  2.27536127e-01,\n",
       "          1.49606675e-01],\n",
       "        [ 2.22699672e-01,  2.93756127e-01, -9.30899978e-02,\n",
       "          1.00734659e-01,  2.70946860e-01,  1.67294994e-01,\n",
       "          2.95728534e-01, -9.63355079e-02, -1.03210911e-01,\n",
       "          2.41698265e-01],\n",
       "        [-2.78447866e-02,  2.65957564e-01, -1.38634026e-01,\n",
       "          1.59796551e-01,  1.91718310e-01,  9.64810550e-02,\n",
       "          5.62306680e-02, -9.39101577e-02, -1.13420494e-01,\n",
       "          1.89526491e-02],\n",
       "        [ 1.20520117e-02, -2.93554455e-01,  7.22518787e-02,\n",
       "         -5.93396239e-02, -2.68652011e-02,  1.97304919e-01,\n",
       "          2.32406333e-01,  1.12932719e-01, -1.85945779e-01,\n",
       "          9.66557041e-02],\n",
       "        [ 5.59614152e-02, -2.35697284e-01,  1.02758572e-01,\n",
       "          2.52896193e-02,  2.81853825e-01, -7.25541860e-02,\n",
       "          1.92517087e-01, -1.38288155e-01, -3.33825797e-02,\n",
       "         -1.77268580e-01],\n",
       "        [-2.36698627e-01,  3.01335871e-01, -4.54153866e-02,\n",
       "          1.02945566e-01,  1.56331986e-01,  1.77420378e-02,\n",
       "          6.11623414e-02, -3.05621736e-02, -2.11634174e-01,\n",
       "         -8.81978422e-02],\n",
       "        [ 1.00550264e-01,  2.07247779e-01, -1.91688165e-01,\n",
       "          1.38991639e-01, -4.61365804e-02, -3.24574620e-01,\n",
       "          1.40102386e-01, -2.90708721e-01,  6.38427213e-03,\n",
       "         -1.81389898e-01],\n",
       "        [ 1.91413522e-01,  6.68044165e-02, -2.40476996e-01,\n",
       "         -2.68025160e-01, -6.14044536e-03, -8.80015120e-02,\n",
       "          2.47923166e-01,  1.29888088e-01, -5.34820259e-02,\n",
       "          5.08126095e-02]], dtype=float32)>,\n",
       " <tf.Variable 'perturbed_bprmlp_model/dense_1/bias:0' shape=(10,) dtype=float32, numpy=\n",
       " array([-0.02339253,  0.01865796, -0.01849695, -0.01797556,  0.00994189,\n",
       "        -0.00134218, -0.00146822,  0.00174233,  0.00229351, -0.02010544],\n",
       "       dtype=float32)>,\n",
       " <tf.Variable 'perturbed_bprmlp_model/dense_2/kernel:0' shape=(10, 1) dtype=float32, numpy=\n",
       " array([[ 0.26880994],\n",
       "        [-0.09021905],\n",
       "        [ 0.12234622],\n",
       "        [ 0.2828596 ],\n",
       "        [-0.6231175 ],\n",
       "        [-0.6960223 ],\n",
       "        [ 0.41932714],\n",
       "        [-0.59327275],\n",
       "        [-0.39908716],\n",
       "        [ 0.51594067]], dtype=float32)>,\n",
       " <tf.Variable 'perturbed_bprmlp_model/dense_2/bias:0' shape=(1,) dtype=float32, numpy=array([-0.01957217], dtype=float32)>]"
      ]
     },
     "execution_count": 72,
     "metadata": {},
     "output_type": "execute_result"
    }
   ],
   "source": [
    "model.trainable_variables"
   ]
  },
  {
   "cell_type": "code",
   "execution_count": 74,
   "id": "0a3cbdd0",
   "metadata": {},
   "outputs": [
    {
     "data": {
      "text/plain": [
       "<tf.Tensor: shape=(20, 1620), dtype=float32, numpy=\n",
       "array([[-0.54194003, -0.49596536, -0.56974906, ..., -0.54194003,\n",
       "        -0.54194003, -0.54194003],\n",
       "       [-0.2910129 , -0.04409663, -0.30630913, ..., -0.2910129 ,\n",
       "        -0.2910129 , -0.2910129 ],\n",
       "       [-0.18490309, -0.7687056 , -0.31874678, ..., -0.18490309,\n",
       "        -0.18490309, -0.18490309],\n",
       "       ...,\n",
       "       [-0.2005644 , -0.2005644 ,  0.02551813, ..., -0.02764977,\n",
       "        -0.37251088, -0.2910129 ],\n",
       "       [-0.5175134 , -0.5175134 , -0.02910141, ...,  0.2511227 ,\n",
       "        -0.25267765, -0.18490309],\n",
       "       [-0.08318724, -0.08318724,  0.21105245, ...,  0.19254676,\n",
       "        -0.11209539, -0.10751391]], dtype=float32)>"
      ]
     },
     "execution_count": 74,
     "metadata": {},
     "output_type": "execute_result"
    }
   ],
   "source": [
    "model(train_x_BSF_flat)"
   ]
  },
  {
   "cell_type": "code",
   "execution_count": null,
   "id": "1b82f7a5",
   "metadata": {},
   "outputs": [],
   "source": []
  }
 ],
 "metadata": {
  "kernelspec": {
   "display_name": "Python 3 (ipykernel)",
   "language": "python",
   "name": "python3"
  },
  "language_info": {
   "codemirror_mode": {
    "name": "ipython",
    "version": 3
   },
   "file_extension": ".py",
   "mimetype": "text/x-python",
   "name": "python",
   "nbconvert_exporter": "python",
   "pygments_lexer": "ipython3",
   "version": "3.8.16"
  }
 },
 "nbformat": 4,
 "nbformat_minor": 5
}
