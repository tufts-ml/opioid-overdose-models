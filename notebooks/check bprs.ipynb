{
 "cells": [
  {
   "cell_type": "code",
   "execution_count": 74,
   "id": "a2939940",
   "metadata": {},
   "outputs": [],
   "source": [
    "import geopandas as gpd\n",
    "\n",
    "import numpy as np\n",
    "import pandas as pd\n",
    "from pandas import IndexSlice as idx\n",
    "import tensorflow as tf\n",
    "import sys\n",
    "import os\n",
    "import glob\n",
    "\n",
    "from functools import partial\n",
    "\n",
    "\n",
    "\n",
    "code_dir = '/cluster/home/kheuto01/code/opioid-overdose-models/perturbations/'\n",
    "sys.path.append(code_dir)\n",
    "code_dir = '/cluster/home/kheuto01/code/opioid-overdose-models/diff_bpr'\n",
    "sys.path.append(code_dir)\n",
    "from top_k import top_k_idx\n",
    "from make_datasets import make_data\n",
    "from bpr_model import PerturbedBPRModel\n",
    "\n",
    "\n",
    "code_dir = '/cluster/home/kheuto01/code/opioid-overdose-models/'\n",
    "sys.path.append(code_dir)\n",
    "from zinf_gp.metrics import normcdf, fixed_top_X\n",
    "\n",
    "\n",
    "\n",
    "from perturbations import perturbed\n",
    "from bpr import bpr_variable_k_no_ties\n",
    "\n"
   ]
  },
  {
   "cell_type": "code",
   "execution_count": 2,
   "id": "7735d9dd",
   "metadata": {},
   "outputs": [],
   "source": [
    "data_path='/cluster/tufts/hugheslab/datasets/NSF_OD/results_20220606_update/clean_annual_tract/'"
   ]
  },
  {
   "cell_type": "code",
   "execution_count": 4,
   "id": "a2e9964c",
   "metadata": {},
   "outputs": [
    {
     "name": "stderr",
     "output_type": "stream",
     "text": [
      "2023-05-26 13:12:24.722414: E tensorflow/compiler/xla/stream_executor/cuda/cuda_driver.cc:266] failed call to cuInit: CUDA_ERROR_NO_DEVICE: no CUDA-capable device is detected\n",
      "2023-05-26 13:12:24.722454: I tensorflow/compiler/xla/stream_executor/cuda/cuda_diagnostics.cc:168] retrieving CUDA diagnostic information for host: p1cmp078.pax.tufts.edu\n",
      "2023-05-26 13:12:24.722463: I tensorflow/compiler/xla/stream_executor/cuda/cuda_diagnostics.cc:175] hostname: p1cmp078.pax.tufts.edu\n",
      "2023-05-26 13:12:24.722573: I tensorflow/compiler/xla/stream_executor/cuda/cuda_diagnostics.cc:199] libcuda reported version is: 515.65.1\n",
      "2023-05-26 13:12:24.722600: I tensorflow/compiler/xla/stream_executor/cuda/cuda_diagnostics.cc:203] kernel reported version is: 515.65.1\n",
      "2023-05-26 13:12:24.722605: I tensorflow/compiler/xla/stream_executor/cuda/cuda_diagnostics.cc:309] kernel version seems to match DSO: 515.65.1\n"
     ]
    }
   ],
   "source": [
    "epochs = 5000\n",
    "seed = 360\n",
    "time_window = 10\n",
    "first_train_eval_year = 2013\n",
    "last_train_eval_year = 2017\n",
    "batch_dim_size = last_train_eval_year - first_train_eval_year + 1\n",
    "validation_year = 2018\n",
    "first_test_year = 2019\n",
    "last_test_year = 2020\n",
    "\n",
    "tf.random.set_seed(seed)\n",
    "\n",
    "\n",
    "timestep_col = 'timestep'\n",
    "geography_col = 'geoid'\n",
    "outcome_col = 'deaths'\n",
    "\n",
    "x_idx_cols = [geography_col, 'lat', 'lon', timestep_col,\n",
    "              'theme_1_pc', 'theme_2_pc', 'theme_3_pc', 'theme_4_pc',\n",
    "              'svi_pctile', 'year',\n",
    "              'neighbor_t', 'self_t-1']\n",
    "y_idx_cols = [geography_col, timestep_col, outcome_col]\n",
    "\"\"\"features_only = ['lat', 'lon', timestep_col,\n",
    "                 'theme_1_pc', 'theme_2_pc', 'theme_3_pc', 'theme_4_pc',\n",
    "                 'svi_pctile',\n",
    "                 'neighbor_t', 'self_t-1']\"\"\"\n",
    "features_only = ['deaths']\n",
    "\n",
    "data_gdf = gpd.read_file(data_path)\n",
    "\n",
    "multiindexed_gdf = data_gdf.set_index(['geoid', 'year'])\n",
    "num_geoids = len(data_gdf['geoid'].unique())\n",
    "\n",
    "train_shape = (num_geoids, time_window, len(features_only))\n",
    "\n",
    "train_x_BSF_flat, train_y_BS = make_data(multiindexed_gdf, first_train_eval_year, last_train_eval_year,\n",
    "                                         time_window, features_only, train_shape)\n",
    "\n",
    "valid_x_BSF_flat, valid_y_BS = make_data(multiindexed_gdf, validation_year, validation_year,\n",
    "                                         time_window, features_only, train_shape)\n",
    "\n",
    "test_x_BSF_flat, test_y_BS = make_data(multiindexed_gdf, first_test_year, last_test_year,\n",
    "                                       time_window, features_only, train_shape)\n",
    "\n",
    "top_100_idx_func = partial(top_k_idx, k=100)"
   ]
  },
  {
   "cell_type": "code",
   "execution_count": 5,
   "id": "3fb75433",
   "metadata": {},
   "outputs": [],
   "source": [
    "best_noise = 0.3\n",
    "best_samples = 50\n",
    "best_lr = 0.005"
   ]
  },
  {
   "cell_type": "code",
   "execution_count": 13,
   "id": "2ec23cd0",
   "metadata": {},
   "outputs": [],
   "source": [
    "checkpoints = glob.glob(f'/cluster/tufts/hugheslab/kheuto01/diffbpr/simple/n{best_noise}_samp{best_samples}_lr{best_lr}/model*.hdf5')"
   ]
  },
  {
   "cell_type": "code",
   "execution_count": 23,
   "id": "5dc159e0",
   "metadata": {},
   "outputs": [],
   "source": [
    "iterations = [int(model_path.split('_')[-1].split('.hdf5')[0]) for model_path in checkpoints]\n",
    "best_model_idx = np.argmax(iterations)\n",
    "best_model_path = checkpoints[best_model_idx]"
   ]
  },
  {
   "cell_type": "code",
   "execution_count": 32,
   "id": "60121f83",
   "metadata": {},
   "outputs": [],
   "source": [
    "top_100_idx_func = partial(top_k_idx, k=100)\n",
    "\n",
    "perturbed_top_100 = perturbed(top_100_idx_func,\n",
    "                              num_samples=best_samples,\n",
    "                              sigma=best_noise,\n",
    "                              noise='normal',\n",
    "                              batched=True)\n",
    "\n",
    "model = PerturbedBPRModel(perturbed_top_100)\n",
    "\n",
    "optimizer = tf.keras.optimizers.Adam(learning_rate=best_lr)\n",
    "\n",
    "# Compile the model\n",
    "def weird_loss(a, b):\n",
    "    return -a / b\n",
    "\n",
    "model.compile(optimizer=optimizer, loss=weird_loss)"
   ]
  },
  {
   "cell_type": "code",
   "execution_count": 34,
   "id": "c586e888",
   "metadata": {},
   "outputs": [],
   "source": [
    "model(train_x_BSF_flat) # call to initialize model\n",
    "model.load_weights(best_model_path)"
   ]
  },
  {
   "cell_type": "code",
   "execution_count": 36,
   "id": "1d72f493",
   "metadata": {},
   "outputs": [
    {
     "name": "stdout",
     "output_type": "stream",
     "text": [
      "1/1 [==============================] - 0s 179ms/step - loss: -0.5855\n"
     ]
    },
    {
     "data": {
      "text/plain": [
       "-0.5855193138122559"
      ]
     },
     "execution_count": 36,
     "metadata": {},
     "output_type": "execute_result"
    }
   ],
   "source": [
    "model.evaluate(test_x_BSF_flat, test_y_BS)"
   ]
  },
  {
   "cell_type": "code",
   "execution_count": 103,
   "id": "ea07cb2b",
   "metadata": {},
   "outputs": [],
   "source": [
    "preds = model(test_x_BSF_flat)\n",
    "pred_val, pred_100_idx = tf.math.top_k(preds, k=model.k)"
   ]
  },
  {
   "cell_type": "code",
   "execution_count": 39,
   "id": "a2d4506b",
   "metadata": {},
   "outputs": [
    {
     "data": {
      "text/plain": [
       "<tf.Tensor: shape=(2, 100), dtype=int32, numpy=\n",
       "array([[ 374,  383,  386, 1516,  733, 1015,  267, 1185, 1074, 1091,  244,\n",
       "        1295, 1132, 1517,  428,  397,  571, 1489,  115,  347,  195, 1183,\n",
       "        1017, 1523,  211,  148,  167,  200, 1259,  197,  156,  610, 1346,\n",
       "         611,  727, 1092, 1050,  262,  346,  268, 1176,  631,  568, 1052,\n",
       "        1019, 1398,  338,  166,  198,  168, 1022, 1038, 1400,  264,  161,\n",
       "        1271, 1051,  721,  158, 1010,  570, 1532,  149, 1337, 1149, 1499,\n",
       "        1053,  478,  576, 1334,   73,  159, 1524, 1407,  127,   24,  153,\n",
       "        1397,  175, 1594,  585,   46,  117, 1502, 1250, 1011,   62,  920,\n",
       "        1118,  574,  495, 1078, 1540, 1465, 1391,  461,  349, 1129,  256,\n",
       "         846],\n",
       "       [1517, 1516,  374,  383,  397, 1185, 1017,  211,  167,  115,  347,\n",
       "         268, 1132, 1524, 1176, 1131,  186, 1051, 1295,  262, 1334,   58,\n",
       "        1532, 1465,  610, 1514, 1015, 1129,  267,  332,  152,  195, 1050,\n",
       "         153,  375,  158,  570, 1052, 1092,  244, 1391,  461, 1296,  264,\n",
       "         571, 1091,   48, 1157, 1489, 1039,  349,  282,  576, 1412,  478,\n",
       "         148,  408, 1245, 1085,  168, 1024,  161,   47, 1271, 1540, 1256,\n",
       "          73,   57,  138, 1074,  198, 1346, 1183,  474,  920, 1019,  156,\n",
       "         428,  585,  857,   62, 1464,  210, 1115,  472,  159,  716,  344,\n",
       "        1168,  605,  253,  338, 1324, 1474,  313, 1046, 1388,  568, 1119,\n",
       "         711]], dtype=int32)>"
      ]
     },
     "execution_count": 39,
     "metadata": {},
     "output_type": "execute_result"
    }
   ],
   "source": [
    "pred_100_idx"
   ]
  },
  {
   "cell_type": "code",
   "execution_count": 41,
   "id": "88f2b72b",
   "metadata": {},
   "outputs": [
    {
     "data": {
      "text/plain": [
       "<tf.Tensor: shape=(2,), dtype=float32, numpy=array([277., 289.], dtype=float32)>"
      ]
     },
     "execution_count": 41,
     "metadata": {},
     "output_type": "execute_result"
    }
   ],
   "source": [
    "tf.reduce_sum(tf.gather(test_y_BS, pred_100_idx, batch_dims=-1), axis=-1)"
   ]
  },
  {
   "cell_type": "code",
   "execution_count": 86,
   "id": "dbdc18c5",
   "metadata": {},
   "outputs": [
    {
     "data": {
      "text/plain": [
       "<tf.Tensor: shape=(2,), dtype=float32, numpy=array([0.5918803, 0.5791583], dtype=float32)>"
      ]
     },
     "execution_count": 86,
     "metadata": {},
     "output_type": "execute_result"
    }
   ],
   "source": [
    "bpr_variable_k_no_ties(test_y_BS, preds,k=100)"
   ]
  },
  {
   "cell_type": "code",
   "execution_count": 61,
   "id": "b6bcdcd6",
   "metadata": {},
   "outputs": [
    {
     "data": {
      "text/plain": [
       "(191.0, 0.5918803, 191.0, 0.5918803)"
      ]
     },
     "execution_count": 61,
     "metadata": {},
     "output_type": "execute_result"
    }
   ],
   "source": [
    "fixed_top_X(pd.Series(test_y_BS.numpy()[0]), pd.Series( preds.numpy()[0]) ,X=100)"
   ]
  },
  {
   "cell_type": "code",
   "execution_count": 102,
   "id": "e3672066",
   "metadata": {},
   "outputs": [],
   "source": [
    "last_val, last_idx = tf.math.top_k(tf.squeeze(test_x_BSF_flat[:,:,-1]),k=100)"
   ]
  },
  {
   "cell_type": "code",
   "execution_count": 113,
   "id": "5a29e8af",
   "metadata": {},
   "outputs": [
    {
     "data": {
      "text/plain": [
       "<tf.Tensor: shape=(2,), dtype=float32, numpy=array([0.54273504, 0.5190381 ], dtype=float32)>"
      ]
     },
     "execution_count": 113,
     "metadata": {},
     "output_type": "execute_result"
    }
   ],
   "source": [
    "bpr_variable_k_no_ties(test_y_BS, tf.squeeze(test_x_BSF_flat[:,:,-1]), k=100)"
   ]
  },
  {
   "cell_type": "code",
   "execution_count": 65,
   "id": "f2bf48e1",
   "metadata": {},
   "outputs": [
    {
     "ename": "KeyError",
     "evalue": "\"['year'] not in index\"",
     "output_type": "error",
     "traceback": [
      "\u001b[0;31m---------------------------------------------------------------------------\u001b[0m",
      "\u001b[0;31mKeyError\u001b[0m                                  Traceback (most recent call last)",
      "Cell \u001b[0;32mIn[65], line 1\u001b[0m\n\u001b[0;32m----> 1\u001b[0m test_x_BSF_flat, test_y_BS \u001b[38;5;241m=\u001b[39m \u001b[43mmake_data\u001b[49m\u001b[43m(\u001b[49m\u001b[43mmultiindexed_gdf\u001b[49m\u001b[43m,\u001b[49m\u001b[43m \u001b[49m\u001b[43mfirst_test_year\u001b[49m\u001b[43m,\u001b[49m\u001b[43m \u001b[49m\u001b[43mlast_test_year\u001b[49m\u001b[43m,\u001b[49m\n\u001b[1;32m      2\u001b[0m \u001b[43m                                       \u001b[49m\u001b[43mtime_window\u001b[49m\u001b[43m,\u001b[49m\u001b[43m \u001b[49m\u001b[43mfeatures_only\u001b[49m\u001b[38;5;241;43m+\u001b[39;49m\u001b[43m[\u001b[49m\u001b[38;5;124;43m'\u001b[39;49m\u001b[38;5;124;43myear\u001b[39;49m\u001b[38;5;124;43m'\u001b[39;49m\u001b[43m]\u001b[49m\u001b[43m,\u001b[49m\u001b[43m \u001b[49m\u001b[43mtrain_shape\u001b[49m\u001b[43m)\u001b[49m\n",
      "File \u001b[0;32m~/code/opioid-overdose-models/diff_bpr/make_datasets.py:12\u001b[0m, in \u001b[0;36mmake_data\u001b[0;34m(multiindexed_gdf, first_year, last_year, time_window, feature_cols, train_shape)\u001b[0m\n\u001b[1;32m      9\u001b[0m ys \u001b[38;5;241m=\u001b[39m []\n\u001b[1;32m     11\u001b[0m \u001b[38;5;28;01mfor\u001b[39;00m eval_year \u001b[38;5;129;01min\u001b[39;00m \u001b[38;5;28mrange\u001b[39m(first_year, last_year \u001b[38;5;241m+\u001b[39m \u001b[38;5;241m1\u001b[39m):\n\u001b[0;32m---> 12\u001b[0m     train_x_df \u001b[38;5;241m=\u001b[39m \u001b[43mmultiindexed_gdf\u001b[49m\u001b[38;5;241;43m.\u001b[39;49m\u001b[43mloc\u001b[49m\u001b[43m[\u001b[49m\u001b[43midx\u001b[49m\u001b[43m[\u001b[49m\u001b[43m:\u001b[49m\u001b[43m,\u001b[49m\u001b[43m \u001b[49m\u001b[43meval_year\u001b[49m\u001b[43m \u001b[49m\u001b[38;5;241;43m-\u001b[39;49m\u001b[43m \u001b[49m\u001b[43mtime_window\u001b[49m\u001b[43m:\u001b[49m\u001b[43meval_year\u001b[49m\u001b[43m \u001b[49m\u001b[38;5;241;43m-\u001b[39;49m\u001b[43m \u001b[49m\u001b[38;5;241;43m1\u001b[39;49m\u001b[43m]\u001b[49m\u001b[43m,\u001b[49m\u001b[43m \u001b[49m\u001b[43mfeature_cols\u001b[49m\u001b[43m]\u001b[49m\n\u001b[1;32m     13\u001b[0m     train_y_df \u001b[38;5;241m=\u001b[39m multiindexed_gdf\u001b[38;5;241m.\u001b[39mloc[idx[:, eval_year], \u001b[38;5;124m'\u001b[39m\u001b[38;5;124mdeaths\u001b[39m\u001b[38;5;124m'\u001b[39m]\n\u001b[1;32m     15\u001b[0m     train_x_vals \u001b[38;5;241m=\u001b[39m train_x_df\u001b[38;5;241m.\u001b[39mvalues\u001b[38;5;241m.\u001b[39mreshape(train_shape)\n",
      "File \u001b[0;32m/cluster/tufts/hugheslab/kheuto01/miniconda3/envs/ptopk_tf_again/lib/python3.8/site-packages/pandas/core/indexing.py:1097\u001b[0m, in \u001b[0;36m_LocationIndexer.__getitem__\u001b[0;34m(self, key)\u001b[0m\n\u001b[1;32m   1095\u001b[0m     \u001b[38;5;28;01mif\u001b[39;00m \u001b[38;5;28mself\u001b[39m\u001b[38;5;241m.\u001b[39m_is_scalar_access(key):\n\u001b[1;32m   1096\u001b[0m         \u001b[38;5;28;01mreturn\u001b[39;00m \u001b[38;5;28mself\u001b[39m\u001b[38;5;241m.\u001b[39mobj\u001b[38;5;241m.\u001b[39m_get_value(\u001b[38;5;241m*\u001b[39mkey, takeable\u001b[38;5;241m=\u001b[39m\u001b[38;5;28mself\u001b[39m\u001b[38;5;241m.\u001b[39m_takeable)\n\u001b[0;32m-> 1097\u001b[0m     \u001b[38;5;28;01mreturn\u001b[39;00m \u001b[38;5;28;43mself\u001b[39;49m\u001b[38;5;241;43m.\u001b[39;49m\u001b[43m_getitem_tuple\u001b[49m\u001b[43m(\u001b[49m\u001b[43mkey\u001b[49m\u001b[43m)\u001b[49m\n\u001b[1;32m   1098\u001b[0m \u001b[38;5;28;01melse\u001b[39;00m:\n\u001b[1;32m   1099\u001b[0m     \u001b[38;5;66;03m# we by definition only have the 0th axis\u001b[39;00m\n\u001b[1;32m   1100\u001b[0m     axis \u001b[38;5;241m=\u001b[39m \u001b[38;5;28mself\u001b[39m\u001b[38;5;241m.\u001b[39maxis \u001b[38;5;129;01mor\u001b[39;00m \u001b[38;5;241m0\u001b[39m\n",
      "File \u001b[0;32m/cluster/tufts/hugheslab/kheuto01/miniconda3/envs/ptopk_tf_again/lib/python3.8/site-packages/pandas/core/indexing.py:1280\u001b[0m, in \u001b[0;36m_LocIndexer._getitem_tuple\u001b[0;34m(self, tup)\u001b[0m\n\u001b[1;32m   1278\u001b[0m \u001b[38;5;28;01mwith\u001b[39;00m suppress(IndexingError):\n\u001b[1;32m   1279\u001b[0m     tup \u001b[38;5;241m=\u001b[39m \u001b[38;5;28mself\u001b[39m\u001b[38;5;241m.\u001b[39m_expand_ellipsis(tup)\n\u001b[0;32m-> 1280\u001b[0m     \u001b[38;5;28;01mreturn\u001b[39;00m \u001b[38;5;28;43mself\u001b[39;49m\u001b[38;5;241;43m.\u001b[39;49m\u001b[43m_getitem_lowerdim\u001b[49m\u001b[43m(\u001b[49m\u001b[43mtup\u001b[49m\u001b[43m)\u001b[49m\n\u001b[1;32m   1282\u001b[0m \u001b[38;5;66;03m# no multi-index, so validate all of the indexers\u001b[39;00m\n\u001b[1;32m   1283\u001b[0m tup \u001b[38;5;241m=\u001b[39m \u001b[38;5;28mself\u001b[39m\u001b[38;5;241m.\u001b[39m_validate_tuple_indexer(tup)\n",
      "File \u001b[0;32m/cluster/tufts/hugheslab/kheuto01/miniconda3/envs/ptopk_tf_again/lib/python3.8/site-packages/pandas/core/indexing.py:976\u001b[0m, in \u001b[0;36m_LocationIndexer._getitem_lowerdim\u001b[0;34m(self, tup)\u001b[0m\n\u001b[1;32m    974\u001b[0m \u001b[38;5;66;03m# we may have a nested tuples indexer here\u001b[39;00m\n\u001b[1;32m    975\u001b[0m \u001b[38;5;28;01mif\u001b[39;00m \u001b[38;5;28mself\u001b[39m\u001b[38;5;241m.\u001b[39m_is_nested_tuple_indexer(tup):\n\u001b[0;32m--> 976\u001b[0m     \u001b[38;5;28;01mreturn\u001b[39;00m \u001b[38;5;28;43mself\u001b[39;49m\u001b[38;5;241;43m.\u001b[39;49m\u001b[43m_getitem_nested_tuple\u001b[49m\u001b[43m(\u001b[49m\u001b[43mtup\u001b[49m\u001b[43m)\u001b[49m\n\u001b[1;32m    978\u001b[0m \u001b[38;5;66;03m# we maybe be using a tuple to represent multiple dimensions here\u001b[39;00m\n\u001b[1;32m    979\u001b[0m ax0 \u001b[38;5;241m=\u001b[39m \u001b[38;5;28mself\u001b[39m\u001b[38;5;241m.\u001b[39mobj\u001b[38;5;241m.\u001b[39m_get_axis(\u001b[38;5;241m0\u001b[39m)\n",
      "File \u001b[0;32m/cluster/tufts/hugheslab/kheuto01/miniconda3/envs/ptopk_tf_again/lib/python3.8/site-packages/pandas/core/indexing.py:1077\u001b[0m, in \u001b[0;36m_LocationIndexer._getitem_nested_tuple\u001b[0;34m(self, tup)\u001b[0m\n\u001b[1;32m   1074\u001b[0m     axis \u001b[38;5;241m-\u001b[39m\u001b[38;5;241m=\u001b[39m \u001b[38;5;241m1\u001b[39m\n\u001b[1;32m   1075\u001b[0m     \u001b[38;5;28;01mcontinue\u001b[39;00m\n\u001b[0;32m-> 1077\u001b[0m obj \u001b[38;5;241m=\u001b[39m \u001b[38;5;28;43mgetattr\u001b[39;49m\u001b[43m(\u001b[49m\u001b[43mobj\u001b[49m\u001b[43m,\u001b[49m\u001b[43m \u001b[49m\u001b[38;5;28;43mself\u001b[39;49m\u001b[38;5;241;43m.\u001b[39;49m\u001b[43mname\u001b[49m\u001b[43m)\u001b[49m\u001b[38;5;241;43m.\u001b[39;49m\u001b[43m_getitem_axis\u001b[49m\u001b[43m(\u001b[49m\u001b[43mkey\u001b[49m\u001b[43m,\u001b[49m\u001b[43m \u001b[49m\u001b[43maxis\u001b[49m\u001b[38;5;241;43m=\u001b[39;49m\u001b[43maxis\u001b[49m\u001b[43m)\u001b[49m\n\u001b[1;32m   1078\u001b[0m axis \u001b[38;5;241m-\u001b[39m\u001b[38;5;241m=\u001b[39m \u001b[38;5;241m1\u001b[39m\n\u001b[1;32m   1080\u001b[0m \u001b[38;5;66;03m# if we have a scalar, we are done\u001b[39;00m\n",
      "File \u001b[0;32m/cluster/tufts/hugheslab/kheuto01/miniconda3/envs/ptopk_tf_again/lib/python3.8/site-packages/pandas/core/indexing.py:1332\u001b[0m, in \u001b[0;36m_LocIndexer._getitem_axis\u001b[0;34m(self, key, axis)\u001b[0m\n\u001b[1;32m   1329\u001b[0m     \u001b[38;5;28;01mif\u001b[39;00m \u001b[38;5;28mhasattr\u001b[39m(key, \u001b[38;5;124m\"\u001b[39m\u001b[38;5;124mndim\u001b[39m\u001b[38;5;124m\"\u001b[39m) \u001b[38;5;129;01mand\u001b[39;00m key\u001b[38;5;241m.\u001b[39mndim \u001b[38;5;241m>\u001b[39m \u001b[38;5;241m1\u001b[39m:\n\u001b[1;32m   1330\u001b[0m         \u001b[38;5;28;01mraise\u001b[39;00m \u001b[38;5;167;01mValueError\u001b[39;00m(\u001b[38;5;124m\"\u001b[39m\u001b[38;5;124mCannot index with multidimensional key\u001b[39m\u001b[38;5;124m\"\u001b[39m)\n\u001b[0;32m-> 1332\u001b[0m     \u001b[38;5;28;01mreturn\u001b[39;00m \u001b[38;5;28;43mself\u001b[39;49m\u001b[38;5;241;43m.\u001b[39;49m\u001b[43m_getitem_iterable\u001b[49m\u001b[43m(\u001b[49m\u001b[43mkey\u001b[49m\u001b[43m,\u001b[49m\u001b[43m \u001b[49m\u001b[43maxis\u001b[49m\u001b[38;5;241;43m=\u001b[39;49m\u001b[43maxis\u001b[49m\u001b[43m)\u001b[49m\n\u001b[1;32m   1334\u001b[0m \u001b[38;5;66;03m# nested tuple slicing\u001b[39;00m\n\u001b[1;32m   1335\u001b[0m \u001b[38;5;28;01mif\u001b[39;00m is_nested_tuple(key, labels):\n",
      "File \u001b[0;32m/cluster/tufts/hugheslab/kheuto01/miniconda3/envs/ptopk_tf_again/lib/python3.8/site-packages/pandas/core/indexing.py:1272\u001b[0m, in \u001b[0;36m_LocIndexer._getitem_iterable\u001b[0;34m(self, key, axis)\u001b[0m\n\u001b[1;32m   1269\u001b[0m \u001b[38;5;28mself\u001b[39m\u001b[38;5;241m.\u001b[39m_validate_key(key, axis)\n\u001b[1;32m   1271\u001b[0m \u001b[38;5;66;03m# A collection of keys\u001b[39;00m\n\u001b[0;32m-> 1272\u001b[0m keyarr, indexer \u001b[38;5;241m=\u001b[39m \u001b[38;5;28;43mself\u001b[39;49m\u001b[38;5;241;43m.\u001b[39;49m\u001b[43m_get_listlike_indexer\u001b[49m\u001b[43m(\u001b[49m\u001b[43mkey\u001b[49m\u001b[43m,\u001b[49m\u001b[43m \u001b[49m\u001b[43maxis\u001b[49m\u001b[43m)\u001b[49m\n\u001b[1;32m   1273\u001b[0m \u001b[38;5;28;01mreturn\u001b[39;00m \u001b[38;5;28mself\u001b[39m\u001b[38;5;241m.\u001b[39mobj\u001b[38;5;241m.\u001b[39m_reindex_with_indexers(\n\u001b[1;32m   1274\u001b[0m     {axis: [keyarr, indexer]}, copy\u001b[38;5;241m=\u001b[39m\u001b[38;5;28;01mTrue\u001b[39;00m, allow_dups\u001b[38;5;241m=\u001b[39m\u001b[38;5;28;01mTrue\u001b[39;00m\n\u001b[1;32m   1275\u001b[0m )\n",
      "File \u001b[0;32m/cluster/tufts/hugheslab/kheuto01/miniconda3/envs/ptopk_tf_again/lib/python3.8/site-packages/pandas/core/indexing.py:1462\u001b[0m, in \u001b[0;36m_LocIndexer._get_listlike_indexer\u001b[0;34m(self, key, axis)\u001b[0m\n\u001b[1;32m   1459\u001b[0m ax \u001b[38;5;241m=\u001b[39m \u001b[38;5;28mself\u001b[39m\u001b[38;5;241m.\u001b[39mobj\u001b[38;5;241m.\u001b[39m_get_axis(axis)\n\u001b[1;32m   1460\u001b[0m axis_name \u001b[38;5;241m=\u001b[39m \u001b[38;5;28mself\u001b[39m\u001b[38;5;241m.\u001b[39mobj\u001b[38;5;241m.\u001b[39m_get_axis_name(axis)\n\u001b[0;32m-> 1462\u001b[0m keyarr, indexer \u001b[38;5;241m=\u001b[39m \u001b[43max\u001b[49m\u001b[38;5;241;43m.\u001b[39;49m\u001b[43m_get_indexer_strict\u001b[49m\u001b[43m(\u001b[49m\u001b[43mkey\u001b[49m\u001b[43m,\u001b[49m\u001b[43m \u001b[49m\u001b[43maxis_name\u001b[49m\u001b[43m)\u001b[49m\n\u001b[1;32m   1464\u001b[0m \u001b[38;5;28;01mreturn\u001b[39;00m keyarr, indexer\n",
      "File \u001b[0;32m/cluster/tufts/hugheslab/kheuto01/miniconda3/envs/ptopk_tf_again/lib/python3.8/site-packages/pandas/core/indexes/base.py:5876\u001b[0m, in \u001b[0;36mIndex._get_indexer_strict\u001b[0;34m(self, key, axis_name)\u001b[0m\n\u001b[1;32m   5873\u001b[0m \u001b[38;5;28;01melse\u001b[39;00m:\n\u001b[1;32m   5874\u001b[0m     keyarr, indexer, new_indexer \u001b[38;5;241m=\u001b[39m \u001b[38;5;28mself\u001b[39m\u001b[38;5;241m.\u001b[39m_reindex_non_unique(keyarr)\n\u001b[0;32m-> 5876\u001b[0m \u001b[38;5;28;43mself\u001b[39;49m\u001b[38;5;241;43m.\u001b[39;49m\u001b[43m_raise_if_missing\u001b[49m\u001b[43m(\u001b[49m\u001b[43mkeyarr\u001b[49m\u001b[43m,\u001b[49m\u001b[43m \u001b[49m\u001b[43mindexer\u001b[49m\u001b[43m,\u001b[49m\u001b[43m \u001b[49m\u001b[43maxis_name\u001b[49m\u001b[43m)\u001b[49m\n\u001b[1;32m   5878\u001b[0m keyarr \u001b[38;5;241m=\u001b[39m \u001b[38;5;28mself\u001b[39m\u001b[38;5;241m.\u001b[39mtake(indexer)\n\u001b[1;32m   5879\u001b[0m \u001b[38;5;28;01mif\u001b[39;00m \u001b[38;5;28misinstance\u001b[39m(key, Index):\n\u001b[1;32m   5880\u001b[0m     \u001b[38;5;66;03m# GH 42790 - Preserve name from an Index\u001b[39;00m\n",
      "File \u001b[0;32m/cluster/tufts/hugheslab/kheuto01/miniconda3/envs/ptopk_tf_again/lib/python3.8/site-packages/pandas/core/indexes/base.py:5938\u001b[0m, in \u001b[0;36mIndex._raise_if_missing\u001b[0;34m(self, key, indexer, axis_name)\u001b[0m\n\u001b[1;32m   5935\u001b[0m     \u001b[38;5;28;01mraise\u001b[39;00m \u001b[38;5;167;01mKeyError\u001b[39;00m(\u001b[38;5;124mf\u001b[39m\u001b[38;5;124m\"\u001b[39m\u001b[38;5;124mNone of [\u001b[39m\u001b[38;5;132;01m{\u001b[39;00mkey\u001b[38;5;132;01m}\u001b[39;00m\u001b[38;5;124m] are in the [\u001b[39m\u001b[38;5;132;01m{\u001b[39;00maxis_name\u001b[38;5;132;01m}\u001b[39;00m\u001b[38;5;124m]\u001b[39m\u001b[38;5;124m\"\u001b[39m)\n\u001b[1;32m   5937\u001b[0m not_found \u001b[38;5;241m=\u001b[39m \u001b[38;5;28mlist\u001b[39m(ensure_index(key)[missing_mask\u001b[38;5;241m.\u001b[39mnonzero()[\u001b[38;5;241m0\u001b[39m]]\u001b[38;5;241m.\u001b[39munique())\n\u001b[0;32m-> 5938\u001b[0m \u001b[38;5;28;01mraise\u001b[39;00m \u001b[38;5;167;01mKeyError\u001b[39;00m(\u001b[38;5;124mf\u001b[39m\u001b[38;5;124m\"\u001b[39m\u001b[38;5;132;01m{\u001b[39;00mnot_found\u001b[38;5;132;01m}\u001b[39;00m\u001b[38;5;124m not in index\u001b[39m\u001b[38;5;124m\"\u001b[39m)\n",
      "\u001b[0;31mKeyError\u001b[0m: \"['year'] not in index\""
     ]
    }
   ],
   "source": [
    "test_x_BSF_flat, test_y_BS = make_data(multiindexed_gdf, first_test_year, last_test_year,\n",
    "                                       time_window, features_only+['year'], train_shape)"
   ]
  },
  {
   "cell_type": "code",
   "execution_count": 64,
   "id": "d3cd4628",
   "metadata": {},
   "outputs": [
    {
     "data": {
      "text/plain": [
       "2019"
      ]
     },
     "execution_count": 64,
     "metadata": {},
     "output_type": "execute_result"
    }
   ],
   "source": [
    "first_test_year"
   ]
  },
  {
   "cell_type": "code",
   "execution_count": 72,
   "id": "81f8c009",
   "metadata": {},
   "outputs": [
    {
     "data": {
      "text/plain": [
       "<tf.Tensor: shape=(1620,), dtype=float32, numpy=array([0., 0., 0., ..., 0., 0., 0.], dtype=float32)>"
      ]
     },
     "execution_count": 72,
     "metadata": {},
     "output_type": "execute_result"
    }
   ],
   "source": [
    "test_x_BSF_flat[0][:,0]==test_y_B"
   ]
  },
  {
   "cell_type": "code",
   "execution_count": 70,
   "id": "5b2f19f4",
   "metadata": {},
   "outputs": [
    {
     "data": {
      "text/plain": [
       "<tf.Tensor: shape=(2, 1620), dtype=float32, numpy=\n",
       "array([[1., 1., 0., ..., 1., 0., 0.],\n",
       "       [1., 1., 0., ..., 0., 0., 0.]], dtype=float32)>"
      ]
     },
     "execution_count": 70,
     "metadata": {},
     "output_type": "execute_result"
    }
   ],
   "source": [
    "test_y_BS"
   ]
  },
  {
   "cell_type": "code",
   "execution_count": 77,
   "id": "9a1ba988",
   "metadata": {},
   "outputs": [
    {
     "data": {
      "text/html": [
       "<div>\n",
       "<style scoped>\n",
       "    .dataframe tbody tr th:only-of-type {\n",
       "        vertical-align: middle;\n",
       "    }\n",
       "\n",
       "    .dataframe tbody tr th {\n",
       "        vertical-align: top;\n",
       "    }\n",
       "\n",
       "    .dataframe thead th {\n",
       "        text-align: right;\n",
       "    }\n",
       "</style>\n",
       "<table border=\"1\" class=\"dataframe\">\n",
       "  <thead>\n",
       "    <tr style=\"text-align: right;\">\n",
       "      <th></th>\n",
       "      <th></th>\n",
       "      <th>deaths</th>\n",
       "    </tr>\n",
       "    <tr>\n",
       "      <th>geoid</th>\n",
       "      <th>year</th>\n",
       "      <th></th>\n",
       "    </tr>\n",
       "  </thead>\n",
       "  <tbody>\n",
       "    <tr>\n",
       "      <th rowspan=\"5\" valign=\"top\">25001010100</th>\n",
       "      <th>2007</th>\n",
       "      <td>0.0</td>\n",
       "    </tr>\n",
       "    <tr>\n",
       "      <th>2008</th>\n",
       "      <td>0.0</td>\n",
       "    </tr>\n",
       "    <tr>\n",
       "      <th>2009</th>\n",
       "      <td>0.0</td>\n",
       "    </tr>\n",
       "    <tr>\n",
       "      <th>2010</th>\n",
       "      <td>0.0</td>\n",
       "    </tr>\n",
       "    <tr>\n",
       "      <th>2011</th>\n",
       "      <td>0.0</td>\n",
       "    </tr>\n",
       "    <tr>\n",
       "      <th>...</th>\n",
       "      <th>...</th>\n",
       "      <td>...</td>\n",
       "    </tr>\n",
       "    <tr>\n",
       "      <th rowspan=\"5\" valign=\"top\">25027761402</th>\n",
       "      <th>2012</th>\n",
       "      <td>0.0</td>\n",
       "    </tr>\n",
       "    <tr>\n",
       "      <th>2013</th>\n",
       "      <td>0.0</td>\n",
       "    </tr>\n",
       "    <tr>\n",
       "      <th>2014</th>\n",
       "      <td>0.0</td>\n",
       "    </tr>\n",
       "    <tr>\n",
       "      <th>2015</th>\n",
       "      <td>0.0</td>\n",
       "    </tr>\n",
       "    <tr>\n",
       "      <th>2016</th>\n",
       "      <td>0.0</td>\n",
       "    </tr>\n",
       "  </tbody>\n",
       "</table>\n",
       "<p>16200 rows × 1 columns</p>\n",
       "</div>"
      ],
      "text/plain": [
       "                  deaths\n",
       "geoid       year        \n",
       "25001010100 2007     0.0\n",
       "            2008     0.0\n",
       "            2009     0.0\n",
       "            2010     0.0\n",
       "            2011     0.0\n",
       "...                  ...\n",
       "25027761402 2012     0.0\n",
       "            2013     0.0\n",
       "            2014     0.0\n",
       "            2015     0.0\n",
       "            2016     0.0\n",
       "\n",
       "[16200 rows x 1 columns]"
      ]
     },
     "execution_count": 77,
     "metadata": {},
     "output_type": "execute_result"
    }
   ],
   "source": [
    "multiindexed_gdf.loc[idx[:, last_train_eval_year - time_window:last_train_eval_year - 1], features_only]"
   ]
  },
  {
   "cell_type": "code",
   "execution_count": 78,
   "id": "da872359",
   "metadata": {},
   "outputs": [
    {
     "data": {
      "text/plain": [
       "2017"
      ]
     },
     "execution_count": 78,
     "metadata": {},
     "output_type": "execute_result"
    }
   ],
   "source": [
    "last_train_eval_year"
   ]
  },
  {
   "cell_type": "code",
   "execution_count": 79,
   "id": "e98732cc",
   "metadata": {},
   "outputs": [
    {
     "data": {
      "text/plain": [
       "geoid        year\n",
       "25001010100  2017    0.0\n",
       "25001010206  2017    2.0\n",
       "25001010208  2017    0.0\n",
       "25001010304  2017    0.0\n",
       "25001010306  2017    1.0\n",
       "                    ... \n",
       "25027761100  2017    1.0\n",
       "25027761200  2017    1.0\n",
       "25027761300  2017    0.0\n",
       "25027761401  2017    0.0\n",
       "25027761402  2017    0.0\n",
       "Name: deaths, Length: 1620, dtype: float64"
      ]
     },
     "execution_count": 79,
     "metadata": {},
     "output_type": "execute_result"
    }
   ],
   "source": [
    "multiindexed_gdf.loc[idx[:, last_train_eval_year], 'deaths']"
   ]
  },
  {
   "cell_type": "code",
   "execution_count": 92,
   "id": "1ccc0c50",
   "metadata": {},
   "outputs": [
    {
     "data": {
      "text/plain": [
       "<tf.Tensor: shape=(2, 100), dtype=int32, numpy=\n",
       "array([[ 117, 1515,  268,  721, 1017, 1516, 1517,  118,  149,  374,  384,\n",
       "         431,  455,  493,  495,  610,  920, 1050, 1257,   34,   62,  156,\n",
       "         159,  168,  189,  198,  200,  242,  264,  321,  332,  347,  354,\n",
       "         421,  427,  441,  461,  472,  480,  585,  893, 1141, 1168, 1185,\n",
       "        1294, 1346, 1407, 1523, 1524, 1532, 1538,   17,   57,   60,  120,\n",
       "         121,  122,  148,  169,  179,  195,  236,  257,  265,  267,  330,\n",
       "         346,  395,  409,  422,  428,  439,  440,  452,  453,  456,  473,\n",
       "         499,  523,  568,  571,  575,  634,  655,  945,  976, 1041, 1052,\n",
       "        1076, 1085, 1118, 1132, 1188, 1246, 1250, 1272, 1278, 1295, 1385,\n",
       "        1442],\n",
       "       [ 570,  138,  198,  211,  347, 1185,   57,   58,  159,  259,  260,\n",
       "         262,  267,  268,  344,  456,  472, 1019, 1085, 1119, 1517,   96,\n",
       "         152,  158,  167,  221,  282,  349,  458,  512,  571, 1176, 1313,\n",
       "        1407, 1514, 1532, 1535, 1550, 1595, 1597,   17,   33,   52,   60,\n",
       "          73,  115,  117,  120,  149,  193,  195,  201,  204,  210,  213,\n",
       "         252,  321,  322,  336,  337,  345,  346,  383,  385,  408,  426,\n",
       "         427,  431,  436,  461,  463,  480,  489,  500,  503,  598,  716,\n",
       "         852,  893,  895, 1015, 1024, 1118, 1129, 1148, 1180, 1187, 1245,\n",
       "        1271, 1316, 1355, 1391, 1401, 1406, 1467, 1471, 1489, 1510, 1524,\n",
       "        1534]], dtype=int32)>"
      ]
     },
     "execution_count": 92,
     "metadata": {},
     "output_type": "execute_result"
    }
   ],
   "source": [
    "last_idx"
   ]
  },
  {
   "cell_type": "code",
   "execution_count": 101,
   "id": "51ffe85d",
   "metadata": {},
   "outputs": [
    {
     "data": {
      "text/plain": [
       "40"
      ]
     },
     "execution_count": 101,
     "metadata": {},
     "output_type": "execute_result"
    }
   ],
   "source": [
    "len(set(pred_100_idx[0].numpy()).intersection(set(last_idx[0].numpy())))"
   ]
  },
  {
   "cell_type": "code",
   "execution_count": 104,
   "id": "65e4ebb4",
   "metadata": {},
   "outputs": [
    {
     "data": {
      "text/plain": [
       "<tf.Tensor: shape=(2, 100), dtype=float32, numpy=\n",
       "array([[8., 8., 7., 7., 7., 7., 7., 6., 6., 6., 6., 6., 6., 6., 6., 6.,\n",
       "        6., 6., 6., 5., 5., 5., 5., 5., 5., 5., 5., 5., 5., 5., 5., 5.,\n",
       "        5., 5., 5., 5., 5., 5., 5., 5., 5., 5., 5., 5., 5., 5., 5., 5.,\n",
       "        5., 5., 5., 4., 4., 4., 4., 4., 4., 4., 4., 4., 4., 4., 4., 4.,\n",
       "        4., 4., 4., 4., 4., 4., 4., 4., 4., 4., 4., 4., 4., 4., 4., 4.,\n",
       "        4., 4., 4., 4., 4., 4., 4., 4., 4., 4., 4., 4., 4., 4., 4., 4.,\n",
       "        4., 4., 4., 4.],\n",
       "       [8., 7., 7., 7., 7., 7., 6., 6., 6., 6., 6., 6., 6., 6., 6., 6.,\n",
       "        6., 6., 6., 6., 6., 5., 5., 5., 5., 5., 5., 5., 5., 5., 5., 5.,\n",
       "        5., 5., 5., 5., 5., 5., 5., 5., 4., 4., 4., 4., 4., 4., 4., 4.,\n",
       "        4., 4., 4., 4., 4., 4., 4., 4., 4., 4., 4., 4., 4., 4., 4., 4.,\n",
       "        4., 4., 4., 4., 4., 4., 4., 4., 4., 4., 4., 4., 4., 4., 4., 4.,\n",
       "        4., 4., 4., 4., 4., 4., 4., 4., 4., 4., 4., 4., 4., 4., 4., 4.,\n",
       "        4., 4., 4., 4.]], dtype=float32)>"
      ]
     },
     "execution_count": 104,
     "metadata": {},
     "output_type": "execute_result"
    }
   ],
   "source": [
    "last_val"
   ]
  },
  {
   "cell_type": "code",
   "execution_count": 105,
   "id": "77a8749c",
   "metadata": {},
   "outputs": [
    {
     "data": {
      "text/plain": [
       "<tf.Tensor: shape=(2, 100), dtype=float32, numpy=\n",
       "array([[7.535028 , 7.2158713, 7.0981717, 6.6005   , 6.352484 , 5.8758893,\n",
       "        5.824493 , 5.724207 , 5.6872063, 5.6585503, 5.603502 , 5.4050655,\n",
       "        5.3186483, 5.2930846, 5.195948 , 5.172959 , 5.17269  , 5.05545  ,\n",
       "        5.016334 , 5.014669 , 4.947457 , 4.918059 , 4.897112 , 4.785999 ,\n",
       "        4.7273645, 4.7098765, 4.6921487, 4.689855 , 4.614169 , 4.588552 ,\n",
       "        4.50291  , 4.47773  , 4.464743 , 4.437156 , 4.4345345, 4.4105053,\n",
       "        4.356401 , 4.352587 , 4.3238335, 4.2702084, 4.2522626, 4.2371716,\n",
       "        4.2060046, 4.1967535, 4.119102 , 4.11631  , 4.112356 , 4.1115093,\n",
       "        4.0968194, 4.083629 , 4.074222 , 4.060568 , 4.041288 , 4.002971 ,\n",
       "        4.0023813, 3.9946508, 3.973554 , 3.9399052, 3.93287  , 3.895623 ,\n",
       "        3.8891158, 3.8731375, 3.8373806, 3.8296852, 3.8243341, 3.8162963,\n",
       "        3.806931 , 3.7939856, 3.7855794, 3.7779508, 3.760709 , 3.756505 ,\n",
       "        3.7521188, 3.7330031, 3.730347 , 3.7207575, 3.713199 , 3.6951232,\n",
       "        3.6876898, 3.6757236, 3.640987 , 3.6267738, 3.6090097, 3.565621 ,\n",
       "        3.5568373, 3.5567813, 3.529308 , 3.5198534, 3.5186274, 3.4917765,\n",
       "        3.4885678, 3.486221 , 3.484547 , 3.478465 , 3.4695296, 3.4627156,\n",
       "        3.4624004, 3.456184 , 3.4516168, 3.4514108],\n",
       "       [7.3057113, 6.681943 , 6.5933514, 6.5192456, 6.1559596, 6.077004 ,\n",
       "        5.8832517, 5.8035555, 5.8004284, 5.7868667, 5.784069 , 5.673595 ,\n",
       "        5.534288 , 5.480473 , 5.4780564, 5.4718194, 5.434731 , 5.424922 ,\n",
       "        5.399381 , 5.3326797, 5.3221908, 5.2185063, 5.008581 , 4.9968863,\n",
       "        4.9784102, 4.967165 , 4.9659176, 4.9255686, 4.8896174, 4.8438115,\n",
       "        4.8438067, 4.830483 , 4.7804184, 4.6641955, 4.661122 , 4.635765 ,\n",
       "        4.607455 , 4.592686 , 4.5812635, 4.570377 , 4.5636406, 4.5619674,\n",
       "        4.5279026, 4.52004  , 4.5127587, 4.5119576, 4.4884334, 4.4849095,\n",
       "        4.4670086, 4.4395165, 4.423713 , 4.382021 , 4.3781424, 4.3514175,\n",
       "        4.3258557, 4.2043867, 4.1925206, 4.1925206, 4.185453 , 4.16139  ,\n",
       "        4.141835 , 4.107485 , 4.0991464, 4.0886497, 4.051788 , 4.029595 ,\n",
       "        4.003684 , 4.0029488, 3.9976263, 3.9846258, 3.9560845, 3.9451761,\n",
       "        3.9247577, 3.9205582, 3.9136834, 3.911115 , 3.8575552, 3.8439755,\n",
       "        3.8344712, 3.825754 , 3.8246381, 3.8173606, 3.8150313, 3.8096437,\n",
       "        3.808623 , 3.8052413, 3.7981997, 3.754766 , 3.7533858, 3.7508185,\n",
       "        3.7418423, 3.736189 , 3.6909811, 3.6728191, 3.669196 , 3.6644835,\n",
       "        3.6591244, 3.651711 , 3.6507936, 3.6467755]], dtype=float32)>"
      ]
     },
     "execution_count": 105,
     "metadata": {},
     "output_type": "execute_result"
    }
   ],
   "source": [
    "pred_val"
   ]
  },
  {
   "cell_type": "code",
   "execution_count": 106,
   "id": "1b84e0f8",
   "metadata": {},
   "outputs": [
    {
     "data": {
      "text/plain": [
       "<tf.Tensor: shape=(2, 1620), dtype=float32, numpy=\n",
       "array([[0.7200178 , 1.1308959 , 0.440957  , ..., 0.09769697, 0.09769697,\n",
       "        0.41200024],\n",
       "       [0.34038925, 1.1140208 , 0.8928082 , ..., 0.45742333, 0.41841114,\n",
       "        0.23202991]], dtype=float32)>"
      ]
     },
     "execution_count": 106,
     "metadata": {},
     "output_type": "execute_result"
    }
   ],
   "source": [
    "preds"
   ]
  },
  {
   "cell_type": "code",
   "execution_count": 108,
   "id": "017f85f7",
   "metadata": {},
   "outputs": [
    {
     "data": {
      "text/plain": [
       "<tf.Tensor: shape=(), dtype=float32, numpy=-0.15043697>"
      ]
     },
     "execution_count": 108,
     "metadata": {},
     "output_type": "execute_result"
    }
   ],
   "source": [
    "tf.reduce_min(preds)"
   ]
  },
  {
   "cell_type": "code",
   "execution_count": null,
   "id": "025c517b",
   "metadata": {},
   "outputs": [],
   "source": []
  }
 ],
 "metadata": {
  "kernelspec": {
   "display_name": "Python 3 (ipykernel)",
   "language": "python",
   "name": "python3"
  },
  "language_info": {
   "codemirror_mode": {
    "name": "ipython",
    "version": 3
   },
   "file_extension": ".py",
   "mimetype": "text/x-python",
   "name": "python",
   "nbconvert_exporter": "python",
   "pygments_lexer": "ipython3",
   "version": "3.8.16"
  }
 },
 "nbformat": 4,
 "nbformat_minor": 5
}
