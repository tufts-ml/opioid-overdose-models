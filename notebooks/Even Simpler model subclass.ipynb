{
 "cells": [
  {
   "cell_type": "code",
   "execution_count": 1,
   "id": "67fb84c9",
   "metadata": {},
   "outputs": [
    {
     "name": "stderr",
     "output_type": "stream",
     "text": [
      "2023-05-23 12:34:00.499122: I tensorflow/core/util/port.cc:110] oneDNN custom operations are on. You may see slightly different numerical results due to floating-point round-off errors from different computation orders. To turn them off, set the environment variable `TF_ENABLE_ONEDNN_OPTS=0`.\n",
      "2023-05-23 12:34:00.501202: I tensorflow/tsl/cuda/cudart_stub.cc:28] Could not find cuda drivers on your machine, GPU will not be used.\n",
      "2023-05-23 12:34:00.551031: I tensorflow/tsl/cuda/cudart_stub.cc:28] Could not find cuda drivers on your machine, GPU will not be used.\n",
      "2023-05-23 12:34:00.552156: I tensorflow/core/platform/cpu_feature_guard.cc:182] This TensorFlow binary is optimized to use available CPU instructions in performance-critical operations.\n",
      "To enable the following instructions: AVX2 AVX512F AVX512_VNNI FMA, in other operations, rebuild TensorFlow with the appropriate compiler flags.\n",
      "2023-05-23 12:34:03.949107: W tensorflow/compiler/tf2tensorrt/utils/py_utils.cc:38] TF-TRT Warning: Could not find TensorRT\n"
     ]
    },
    {
     "data": {
      "text/plain": [
       "numpy.float64"
      ]
     },
     "execution_count": 1,
     "metadata": {},
     "output_type": "execute_result"
    }
   ],
   "source": [
    "import copy\n",
    "import sys\n",
    "import os\n",
    "from functools import partial\n",
    "\n",
    "import geopandas as gpd\n",
    "from pandas import IndexSlice as idx\n",
    "import numpy as np\n",
    "import tensorflow as tf\n",
    "import gpflow\n",
    "from tensorflow.python.data.ops.iterator_ops import OwnedIterator as DatasetOwnedIterator\n",
    "\n",
    "#from metrics import fixed_top_X\n",
    "#from model_runner import run_adam\n",
    "\n",
    "code_dir = '/cluster/home/kheuto01/code/zero-inflated-gp/'\n",
    "sys.path.append(code_dir)\n",
    "code_dir = '/cluster/home/kheuto01/code/opioid-overdose-models/perturbations/'\n",
    "sys.path.append(code_dir)\n",
    "code_dir = '/cluster/home/kheuto01/code/opioid-overdose-models/diff_bpr'\n",
    "sys.path.append(code_dir)\n",
    "\n",
    "from perturbations import perturbed\n",
    "from bpr import bpr_variable_k_no_ties\n",
    "\n",
    "from onoffgpf import OnOffSVGP, OnOffSVGPPoiMC, OnOffLikelihood,OnOffSVGPBatch\n",
    "gpflow.config.default_float()"
   ]
  },
  {
   "cell_type": "code",
   "execution_count": 2,
   "id": "6e0ca141",
   "metadata": {},
   "outputs": [],
   "source": [
    "data_dir='/cluster/tufts/hugheslab/datasets/NSF_OD/results_20220606_update/'"
   ]
  },
  {
   "cell_type": "code",
   "execution_count": 3,
   "id": "bda95f9c",
   "metadata": {},
   "outputs": [],
   "source": [
    "data_path = os.path.join(data_dir, 'clean_annual_tract')\n",
    "timestep_col = 'timestep'\n",
    "geography_col = 'geoid'\n",
    "outcome_col = 'deaths'\n",
    "last_train_year = 2018\n",
    "first_train_year = 2000\n",
    "test_years = 2\n",
    "use_auto = False\n",
    "use_svi = True\n",
    "seed=360\n",
    "inducing_points = 200\n",
    "learning_rate = 0.001\n",
    "minibatch_size = 100\n",
    "\n",
    "sigma = 0.05\n",
    "bpr_samples = 37\n",
    "noise='normal'"
   ]
  },
  {
   "cell_type": "code",
   "execution_count": 4,
   "id": "f061f991",
   "metadata": {},
   "outputs": [],
   "source": [
    "x_idx_cols = [geography_col, 'lat','lon', timestep_col,\n",
    "              'theme_1_pc', 'theme_2_pc', 'theme_3_pc', 'theme_4_pc',\n",
    "              'svi_pctile','year',\n",
    "              'neighbor_t', 'self_t-1']\n",
    "y_idx_cols = [geography_col, timestep_col, outcome_col]\n",
    "features_only = ['lat','lon', timestep_col,\n",
    "                 'theme_1_pc', 'theme_2_pc', 'theme_3_pc', 'theme_4_pc',\n",
    "                 'svi_pctile',\n",
    "                 'neighbor_t', 'self_t-1']\n",
    "\n",
    "data_gdf = gpd.read_file(data_path)\n",
    "\n"
   ]
  },
  {
   "cell_type": "code",
   "execution_count": 5,
   "id": "4df049ae",
   "metadata": {},
   "outputs": [],
   "source": [
    "time_window = 10\n",
    "first_train_eval_year = 2014\n",
    "last_train_eval_year = 2018"
   ]
  },
  {
   "cell_type": "code",
   "execution_count": 6,
   "id": "3c358fcd",
   "metadata": {},
   "outputs": [
    {
     "name": "stderr",
     "output_type": "stream",
     "text": [
      "2023-05-23 12:34:41.084251: E tensorflow/compiler/xla/stream_executor/cuda/cuda_driver.cc:266] failed call to cuInit: CUDA_ERROR_NO_DEVICE: no CUDA-capable device is detected\n",
      "2023-05-23 12:34:41.084291: I tensorflow/compiler/xla/stream_executor/cuda/cuda_diagnostics.cc:168] retrieving CUDA diagnostic information for host: p1cmp078.pax.tufts.edu\n",
      "2023-05-23 12:34:41.084299: I tensorflow/compiler/xla/stream_executor/cuda/cuda_diagnostics.cc:175] hostname: p1cmp078.pax.tufts.edu\n",
      "2023-05-23 12:34:41.084414: I tensorflow/compiler/xla/stream_executor/cuda/cuda_diagnostics.cc:199] libcuda reported version is: 515.65.1\n",
      "2023-05-23 12:34:41.084445: I tensorflow/compiler/xla/stream_executor/cuda/cuda_diagnostics.cc:203] kernel reported version is: 515.65.1\n",
      "2023-05-23 12:34:41.084451: I tensorflow/compiler/xla/stream_executor/cuda/cuda_diagnostics.cc:309] kernel version seems to match DSO: 515.65.1\n"
     ]
    }
   ],
   "source": [
    "multiindexed_gdf = data_gdf.set_index(['geoid','year'])\n",
    "num_geoids = len(data_gdf['geoid'].unique())\n",
    "\n",
    "train_shape = (num_geoids, time_window, len(['deaths']))\n",
    "\n",
    "xs =[]\n",
    "ys = []\n",
    "\n",
    "for eval_year in range(first_train_eval_year, last_train_eval_year+1):\n",
    "    \n",
    "    train_x_df = multiindexed_gdf.loc[idx[:,eval_year-time_window:eval_year-1], 'deaths']\n",
    "    train_y_df = multiindexed_gdf.loc[idx[:,eval_year], 'deaths']\n",
    "    \n",
    "    train_x_vals = train_x_df.values.reshape(train_shape)\n",
    "\n",
    "    train_y_vals = train_y_df.values\n",
    "    \n",
    "    xs.append(train_x_vals)\n",
    "    ys.append(train_y_vals)\n",
    "    \n",
    "    \n",
    "x_BSTD = np.stack(xs,axis=0)\n",
    "y_BS = np.stack(ys)\n",
    "\n",
    "x_BSTD = tf.convert_to_tensor(x_BSTD, dtype=tf.float32)\n",
    "y_BS = tf.convert_to_tensor(y_BS, dtype=tf.float32)\n",
    "\n",
    "B, S, T, D = x_BSTD.shape\n",
    "\n",
    "assert(B==len( range(first_train_eval_year, last_train_eval_year+1)))\n",
    "assert(S==num_geoids)\n",
    "assert(T==time_window)\n",
    "assert(D==1)\n",
    "\n",
    "# Reshape the training data to flatten the dimensions\n",
    "x_BSF_flat = tf.reshape(x_BSTD, (B, S, T * D), )"
   ]
  },
  {
   "cell_type": "code",
   "execution_count": 7,
   "id": "602c6d88",
   "metadata": {},
   "outputs": [],
   "source": [
    "test_year=2019\n",
    "test_x_df = multiindexed_gdf.loc[idx[:,test_year-time_window:test_year-1], 'deaths']\n",
    "test_y_df = multiindexed_gdf.loc[idx[:,test_year], 'deaths']\n",
    "\n",
    "test_x_vals = test_x_df.values.reshape(train_shape)\n",
    "\n",
    "test_y_vals = test_y_df.values\n",
    "\n",
    "test_x_BSTD = np.expand_dims(test_x_vals,axis=0)\n",
    "test_y_BS = np.expand_dims(test_y_vals,axis=0)\n",
    "\n",
    "test_x_BSTD = tf.convert_to_tensor(test_x_BSTD, dtype=tf.float32)\n",
    "test_y_BS = tf.convert_to_tensor(test_y_BS, dtype=tf.float32)\n",
    "\n",
    "\n",
    "# Reshape the training data to flatten the dimensions\n",
    "test_x_BSF_flat = tf.reshape(test_x_BSTD, (1, S, T * D), )"
   ]
  },
  {
   "cell_type": "code",
   "execution_count": 46,
   "id": "61672f60",
   "metadata": {},
   "outputs": [],
   "source": [
    "def top_k_idx(input_BD, **kwargs):\n",
    "    \n",
    "    _, idx_BD = tf.math.top_k(input_BD, **kwargs)\n",
    "    input_depth = input_BD.shape[-1]\n",
    "    one_hot_idx_BKD = tf.one_hot(idx_BD, input_depth)\n",
    "    #Sum over k dimension so we dont have to worry about sorting\n",
    "    k_hot_idx_BD = tf.reduce_sum(one_hot_idx_BKD, axis=-2)\n",
    "    \n",
    "    \n",
    "    return k_hot_idx_BD\n",
    "\n",
    "top_100_idx = partial(top_k_idx, k=100)\n",
    "perturbed_top_100 = perturbed(top_100_idx,\n",
    "                         num_samples=bpr_samples,\n",
    "                         sigma=sigma,\n",
    "                         noise=noise,\n",
    "                         batched=True)\n",
    "\n",
    "class PerturbedBPRModel(tf.keras.Model):\n",
    "    \n",
    "    def __init__(self, perturbed_top_k_func, k=100):\n",
    "        \"\"\"k should match the k baked into the perturbed top_k func. \n",
    "        we need k for when performing exact top k in evaluation step.\"\"\"\n",
    "        super(PerturbedBPRModel, self).__init__()\n",
    "        self.perturbed_top_k_func = perturbed_top_k_func\n",
    "        self.k = k\n",
    "        self.hidden = tf.keras.layers.Dense(10, activation='relu')\n",
    "        self.output_layer =  tf.keras.layers.Dense(1, activation=None)\n",
    "        \n",
    "    def call(self, inputs):\n",
    "        \n",
    "        intermediate = self.hidden(inputs)\n",
    "        outputs = self.output_layer(intermediate)\n",
    "        # squeeze away feature dimension\n",
    "        outputs = tf.squeeze(outputs, axis=-1)\n",
    "        return outputs\n",
    "\n",
    "    def train_step(self, data):\n",
    "        # Unpack the data. Its structure depends on your model and\n",
    "        # on what you pass to `fit()`.\n",
    "        x, y = data\n",
    "\n",
    "        with tf.GradientTape() as tape:\n",
    "            y_pred = self(x, training=True)  # Forward pass\n",
    "            top_100_indicators = self.perturbed_top_k_func(y_pred)\n",
    "            true_top_100_val, true_top_100_idx = tf.math.top_k(y, k=self.k)\n",
    "            \n",
    "            denominator = tf.reduce_sum(true_top_100_val, axis=-1)\n",
    "            numerator = tf.reduce_sum(top_100_indicators*y, axis=-1)\n",
    "            \n",
    "            # Compute the loss value\n",
    "            # (the loss function is configured in `compile()`)\n",
    "            loss = self.compiled_loss(numerator, denominator, regularization_losses=self.losses)\n",
    "\n",
    "        # Compute gradients\n",
    "        trainable_vars = self.trainable_variables\n",
    "        gradients = tape.gradient(loss, trainable_vars)\n",
    "        # Update weights\n",
    "        self.optimizer.apply_gradients(zip(gradients, trainable_vars))\n",
    "        # Update metrics (includes the metric that tracks the loss)\n",
    "        self.compiled_metrics.update_state(y, y_pred)\n",
    "        # Return a dict mapping metric names to current value\n",
    "        return {m.name: m.result() for m in self.metrics}\n",
    "    \n",
    "    def test_step(self, data):\n",
    "        # Unpack the data\n",
    "        x, y = data\n",
    "        # Compute predictions\n",
    "        y_pred = self(x, training=False)  # Forward pass\n",
    "        # use discrete topk to simulate making a decision\n",
    "        _, pred_100_idx = tf.math.top_k(y_pred, k=self.k)\n",
    "        true_top_100_val, true_top_100_idx = tf.math.top_k(y, k=self.k)\n",
    "\n",
    "        denominator = tf.reduce_sum(true_top_100_val, axis=-1)\n",
    "        numerator = tf.reduce_sum(tf.gather(y, pred_100_idx, batch_dims=-1), axis=-1)\n",
    "\n",
    "        # Compute the loss value\n",
    "        # (the loss function is configured in `compile()`)\n",
    "        self.compiled_loss(numerator, denominator, regularization_losses=self.losses)\n",
    "\n",
    "        # Update the metrics.\n",
    "        self.compiled_metrics.update_state(y, y_pred)\n",
    "        return {m.name: m.result() for m in self.metrics}"
   ]
  },
  {
   "cell_type": "code",
   "execution_count": 47,
   "id": "58294c78",
   "metadata": {},
   "outputs": [],
   "source": [
    "model = PerturbedBPRModel(perturbed_top_100)"
   ]
  },
  {
   "cell_type": "code",
   "execution_count": 48,
   "id": "140864bf",
   "metadata": {},
   "outputs": [],
   "source": [
    "optimizer = tf.keras.optimizers.Adam(learning_rate=0.005)\n",
    "\n",
    "# Compile the model\n",
    "def weird_loss(a,b):\n",
    "    return -a/b\n",
    "\n",
    "model.compile(optimizer=optimizer, loss=weird_loss)"
   ]
  },
  {
   "cell_type": "code",
   "execution_count": 52,
   "id": "8d55f33c",
   "metadata": {},
   "outputs": [
    {
     "name": "stdout",
     "output_type": "stream",
     "text": [
      "Epoch 1/100\n",
      "1/1 [==============================] - 0s 92ms/step - loss: -0.4319 - val_loss: -0.4551\n",
      "Epoch 2/100\n",
      "1/1 [==============================] - 0s 64ms/step - loss: -0.4320 - val_loss: -0.4551\n",
      "Epoch 3/100\n",
      "1/1 [==============================] - 0s 67ms/step - loss: -0.4330 - val_loss: -0.4615\n",
      "Epoch 4/100\n",
      "1/1 [==============================] - 0s 63ms/step - loss: -0.4332 - val_loss: -0.4530\n",
      "Epoch 5/100\n",
      "1/1 [==============================] - 0s 64ms/step - loss: -0.4330 - val_loss: -0.4551\n",
      "Epoch 6/100\n",
      "1/1 [==============================] - 0s 62ms/step - loss: -0.4334 - val_loss: -0.4551\n",
      "Epoch 7/100\n",
      "1/1 [==============================] - 0s 62ms/step - loss: -0.4336 - val_loss: -0.4551\n",
      "Epoch 8/100\n",
      "1/1 [==============================] - 0s 63ms/step - loss: -0.4345 - val_loss: -0.4573\n",
      "Epoch 9/100\n",
      "1/1 [==============================] - 0s 65ms/step - loss: -0.4324 - val_loss: -0.4594\n",
      "Epoch 10/100\n",
      "1/1 [==============================] - 0s 65ms/step - loss: -0.4315 - val_loss: -0.4466\n",
      "Epoch 11/100\n",
      "1/1 [==============================] - 0s 65ms/step - loss: -0.4312 - val_loss: -0.4594\n",
      "Epoch 12/100\n",
      "1/1 [==============================] - 0s 62ms/step - loss: -0.4321 - val_loss: -0.4573\n",
      "Epoch 13/100\n",
      "1/1 [==============================] - 0s 63ms/step - loss: -0.4353 - val_loss: -0.4551\n",
      "Epoch 14/100\n",
      "1/1 [==============================] - 0s 63ms/step - loss: -0.4390 - val_loss: -0.4744\n",
      "Epoch 15/100\n",
      "1/1 [==============================] - 0s 61ms/step - loss: -0.4407 - val_loss: -0.4744\n",
      "Epoch 16/100\n",
      "1/1 [==============================] - 0s 64ms/step - loss: -0.4409 - val_loss: -0.4744\n",
      "Epoch 17/100\n",
      "1/1 [==============================] - 0s 64ms/step - loss: -0.4442 - val_loss: -0.4765\n",
      "Epoch 18/100\n",
      "1/1 [==============================] - 0s 64ms/step - loss: -0.4463 - val_loss: -0.4786\n",
      "Epoch 19/100\n",
      "1/1 [==============================] - 0s 64ms/step - loss: -0.4499 - val_loss: -0.4786\n",
      "Epoch 20/100\n",
      "1/1 [==============================] - 0s 62ms/step - loss: -0.4520 - val_loss: -0.4893\n",
      "Epoch 21/100\n",
      "1/1 [==============================] - 0s 61ms/step - loss: -0.4551 - val_loss: -0.4893\n",
      "Epoch 22/100\n",
      "1/1 [==============================] - 0s 62ms/step - loss: -0.4566 - val_loss: -0.4915\n",
      "Epoch 23/100\n",
      "1/1 [==============================] - 0s 62ms/step - loss: -0.4573 - val_loss: -0.4915\n",
      "Epoch 24/100\n",
      "1/1 [==============================] - 0s 64ms/step - loss: -0.4564 - val_loss: -0.4915\n",
      "Epoch 25/100\n",
      "1/1 [==============================] - 0s 65ms/step - loss: -0.4567 - val_loss: -0.5021\n",
      "Epoch 26/100\n",
      "1/1 [==============================] - 0s 65ms/step - loss: -0.4557 - val_loss: -0.5021\n",
      "Epoch 27/100\n",
      "1/1 [==============================] - 0s 65ms/step - loss: -0.4555 - val_loss: -0.5021\n",
      "Epoch 28/100\n",
      "1/1 [==============================] - 0s 63ms/step - loss: -0.4545 - val_loss: -0.5021\n",
      "Epoch 29/100\n",
      "1/1 [==============================] - 0s 64ms/step - loss: -0.4530 - val_loss: -0.5021\n",
      "Epoch 30/100\n",
      "1/1 [==============================] - 0s 62ms/step - loss: -0.4542 - val_loss: -0.5021\n",
      "Epoch 31/100\n",
      "1/1 [==============================] - 0s 62ms/step - loss: -0.4571 - val_loss: -0.5021\n",
      "Epoch 32/100\n",
      "1/1 [==============================] - 0s 65ms/step - loss: -0.4572 - val_loss: -0.5021\n",
      "Epoch 33/100\n",
      "1/1 [==============================] - 0s 65ms/step - loss: -0.4585 - val_loss: -0.4979\n",
      "Epoch 34/100\n",
      "1/1 [==============================] - 0s 65ms/step - loss: -0.4595 - val_loss: -0.4979\n",
      "Epoch 35/100\n",
      "1/1 [==============================] - 0s 63ms/step - loss: -0.4585 - val_loss: -0.4979\n",
      "Epoch 36/100\n",
      "1/1 [==============================] - 0s 64ms/step - loss: -0.4595 - val_loss: -0.4979\n",
      "Epoch 37/100\n",
      "1/1 [==============================] - 0s 63ms/step - loss: -0.4595 - val_loss: -0.4979\n",
      "Epoch 38/100\n",
      "1/1 [==============================] - 0s 62ms/step - loss: -0.4593 - val_loss: -0.4957\n",
      "Epoch 39/100\n",
      "1/1 [==============================] - 0s 61ms/step - loss: -0.4603 - val_loss: -0.5107\n",
      "Epoch 40/100\n",
      "1/1 [==============================] - 0s 65ms/step - loss: -0.4613 - val_loss: -0.5064\n",
      "Epoch 41/100\n",
      "1/1 [==============================] - 0s 66ms/step - loss: -0.4608 - val_loss: -0.5064\n",
      "Epoch 42/100\n",
      "1/1 [==============================] - 0s 64ms/step - loss: -0.4639 - val_loss: -0.5064\n",
      "Epoch 43/100\n",
      "1/1 [==============================] - 0s 62ms/step - loss: -0.4652 - val_loss: -0.5064\n",
      "Epoch 44/100\n",
      "1/1 [==============================] - 0s 63ms/step - loss: -0.4663 - val_loss: -0.5064\n",
      "Epoch 45/100\n",
      "1/1 [==============================] - 0s 62ms/step - loss: -0.4664 - val_loss: -0.5043\n",
      "Epoch 46/100\n",
      "1/1 [==============================] - 0s 63ms/step - loss: -0.4676 - val_loss: -0.5043\n",
      "Epoch 47/100\n",
      "1/1 [==============================] - 0s 63ms/step - loss: -0.4684 - val_loss: -0.5043\n",
      "Epoch 48/100\n",
      "1/1 [==============================] - 0s 67ms/step - loss: -0.4675 - val_loss: -0.5043\n",
      "Epoch 49/100\n",
      "1/1 [==============================] - 0s 65ms/step - loss: -0.4683 - val_loss: -0.5043\n",
      "Epoch 50/100\n",
      "1/1 [==============================] - 0s 64ms/step - loss: -0.4643 - val_loss: -0.5021\n",
      "Epoch 51/100\n",
      "1/1 [==============================] - 0s 62ms/step - loss: -0.4619 - val_loss: -0.5021\n",
      "Epoch 52/100\n",
      "1/1 [==============================] - 0s 62ms/step - loss: -0.4605 - val_loss: -0.4915\n",
      "Epoch 53/100\n",
      "1/1 [==============================] - 0s 62ms/step - loss: -0.4568 - val_loss: -0.4808\n",
      "Epoch 54/100\n",
      "1/1 [==============================] - 0s 62ms/step - loss: -0.4552 - val_loss: -0.4658\n",
      "Epoch 55/100\n",
      "1/1 [==============================] - 0s 64ms/step - loss: -0.4533 - val_loss: -0.4658\n",
      "Epoch 56/100\n",
      "1/1 [==============================] - 0s 64ms/step - loss: -0.4518 - val_loss: -0.4658\n",
      "Epoch 57/100\n",
      "1/1 [==============================] - 0s 64ms/step - loss: -0.4515 - val_loss: -0.4658\n",
      "Epoch 58/100\n",
      "1/1 [==============================] - 0s 66ms/step - loss: -0.4496 - val_loss: -0.4658\n",
      "Epoch 59/100\n",
      "1/1 [==============================] - 0s 63ms/step - loss: -0.4503 - val_loss: -0.4658\n",
      "Epoch 60/100\n",
      "1/1 [==============================] - 0s 62ms/step - loss: -0.4507 - val_loss: -0.4658\n",
      "Epoch 61/100\n",
      "1/1 [==============================] - 0s 62ms/step - loss: -0.4522 - val_loss: -0.4594\n",
      "Epoch 62/100\n",
      "1/1 [==============================] - 0s 62ms/step - loss: -0.4534 - val_loss: -0.4594\n",
      "Epoch 63/100\n",
      "1/1 [==============================] - 0s 65ms/step - loss: -0.4530 - val_loss: -0.4701\n",
      "Epoch 64/100\n",
      "1/1 [==============================] - 0s 68ms/step - loss: -0.4534 - val_loss: -0.4722\n",
      "Epoch 65/100\n",
      "1/1 [==============================] - 0s 64ms/step - loss: -0.4540 - val_loss: -0.4744\n",
      "Epoch 66/100\n",
      "1/1 [==============================] - 0s 63ms/step - loss: -0.4530 - val_loss: -0.4722\n",
      "Epoch 67/100\n",
      "1/1 [==============================] - 0s 63ms/step - loss: -0.4539 - val_loss: -0.4722\n",
      "Epoch 68/100\n",
      "1/1 [==============================] - 0s 61ms/step - loss: -0.4523 - val_loss: -0.4765\n",
      "Epoch 69/100\n",
      "1/1 [==============================] - 0s 62ms/step - loss: -0.4520 - val_loss: -0.4637\n",
      "Epoch 70/100\n",
      "1/1 [==============================] - 0s 61ms/step - loss: -0.4476 - val_loss: -0.4637\n",
      "Epoch 71/100\n",
      "1/1 [==============================] - 0s 64ms/step - loss: -0.4448 - val_loss: -0.4658\n",
      "Epoch 72/100\n",
      "1/1 [==============================] - 0s 65ms/step - loss: -0.4432 - val_loss: -0.4658\n",
      "Epoch 73/100\n",
      "1/1 [==============================] - 0s 65ms/step - loss: -0.4381 - val_loss: -0.4615\n",
      "Epoch 74/100\n",
      "1/1 [==============================] - 0s 63ms/step - loss: -0.4377 - val_loss: -0.4594\n",
      "Epoch 75/100\n",
      "1/1 [==============================] - 0s 64ms/step - loss: -0.4372 - val_loss: -0.4679\n",
      "Epoch 76/100\n",
      "1/1 [==============================] - 0s 63ms/step - loss: -0.4350 - val_loss: -0.4658\n",
      "Epoch 77/100\n",
      "1/1 [==============================] - 0s 62ms/step - loss: -0.4332 - val_loss: -0.4658\n",
      "Epoch 78/100\n",
      "1/1 [==============================] - 0s 62ms/step - loss: -0.4327 - val_loss: -0.4658\n",
      "Epoch 79/100\n",
      "1/1 [==============================] - 0s 65ms/step - loss: -0.4328 - val_loss: -0.4637\n",
      "Epoch 80/100\n",
      "1/1 [==============================] - 0s 64ms/step - loss: -0.4294 - val_loss: -0.4594\n",
      "Epoch 81/100\n",
      "1/1 [==============================] - 0s 65ms/step - loss: -0.4277 - val_loss: -0.4551\n",
      "Epoch 82/100\n"
     ]
    },
    {
     "name": "stdout",
     "output_type": "stream",
     "text": [
      "1/1 [==============================] - 0s 61ms/step - loss: -0.4232 - val_loss: -0.4551\n",
      "Epoch 83/100\n",
      "1/1 [==============================] - 0s 62ms/step - loss: -0.4215 - val_loss: -0.4551\n",
      "Epoch 84/100\n",
      "1/1 [==============================] - 0s 61ms/step - loss: -0.4192 - val_loss: -0.4551\n",
      "Epoch 85/100\n",
      "1/1 [==============================] - 0s 61ms/step - loss: -0.4167 - val_loss: -0.4551\n",
      "Epoch 86/100\n",
      "1/1 [==============================] - 0s 63ms/step - loss: -0.4208 - val_loss: -0.4551\n",
      "Epoch 87/100\n",
      "1/1 [==============================] - 0s 64ms/step - loss: -0.4192 - val_loss: -0.4530\n",
      "Epoch 88/100\n",
      "1/1 [==============================] - 0s 64ms/step - loss: -0.4196 - val_loss: -0.4530\n",
      "Epoch 89/100\n",
      "1/1 [==============================] - 0s 64ms/step - loss: -0.4214 - val_loss: -0.4530\n",
      "Epoch 90/100\n",
      "1/1 [==============================] - 0s 62ms/step - loss: -0.4227 - val_loss: -0.4637\n",
      "Epoch 91/100\n",
      "1/1 [==============================] - 0s 61ms/step - loss: -0.4253 - val_loss: -0.4637\n",
      "Epoch 92/100\n",
      "1/1 [==============================] - 0s 62ms/step - loss: -0.4306 - val_loss: -0.4679\n",
      "Epoch 93/100\n",
      "1/1 [==============================] - 0s 62ms/step - loss: -0.4319 - val_loss: -0.4701\n",
      "Epoch 94/100\n",
      "1/1 [==============================] - 0s 64ms/step - loss: -0.4347 - val_loss: -0.4850\n",
      "Epoch 95/100\n",
      "1/1 [==============================] - 0s 64ms/step - loss: -0.4393 - val_loss: -0.4915\n",
      "Epoch 96/100\n",
      "1/1 [==============================] - 0s 65ms/step - loss: -0.4434 - val_loss: -0.4979\n",
      "Epoch 97/100\n",
      "1/1 [==============================] - 0s 63ms/step - loss: -0.4455 - val_loss: -0.4979\n",
      "Epoch 98/100\n",
      "1/1 [==============================] - 0s 63ms/step - loss: -0.4463 - val_loss: -0.4957\n",
      "Epoch 99/100\n",
      "1/1 [==============================] - 0s 62ms/step - loss: -0.4488 - val_loss: -0.5000\n",
      "Epoch 100/100\n",
      "1/1 [==============================] - 0s 61ms/step - loss: -0.4493 - val_loss: -0.4936\n"
     ]
    },
    {
     "data": {
      "text/plain": [
       "<keras.callbacks.History at 0x2b466b90af40>"
      ]
     },
     "execution_count": 52,
     "metadata": {},
     "output_type": "execute_result"
    }
   ],
   "source": [
    "# Train the model\n",
    "model.fit(x_BSF_flat, y_BS, epochs=100, batch_size=5, validation_data=(test_x_BSF_flat, test_y_BS))  "
   ]
  },
  {
   "cell_type": "code",
   "execution_count": 40,
   "id": "8bba9bae",
   "metadata": {},
   "outputs": [],
   "source": [
    "y_pred = model(test_x_BSF_flat, training=False)  # Forward pass\n",
    "# use discrete topk to simulate making a decision\n",
    "_, pred_100_idx = tf.math.top_k(y_pred)\n",
    "true_top_100_val, true_top_100_idx = tf.math.top_k(test_y_BS,k=100)\n",
    "\n",
    "denominator = tf.reduce_sum(true_top_100_val, axis=-1)\n",
    "numerator = tf.reduce_sum(tf.gather(test_y_BS, pred_100_idx, batch_dims=-1), axis=-1)"
   ]
  },
  {
   "cell_type": "code",
   "execution_count": 45,
   "id": "b3d3373d",
   "metadata": {},
   "outputs": [
    {
     "data": {
      "text/plain": [
       "<tf.Tensor: shape=(1, 1), dtype=int32, numpy=array([[115]], dtype=int32)>"
      ]
     },
     "execution_count": 45,
     "metadata": {},
     "output_type": "execute_result"
    }
   ],
   "source": [
    "pred_100_idx"
   ]
  },
  {
   "cell_type": "code",
   "execution_count": 54,
   "id": "8ca3d08f",
   "metadata": {},
   "outputs": [
    {
     "name": "stdout",
     "output_type": "stream",
     "text": [
      "1/1 [==============================] - 0s 21ms/step - loss: -0.4936\n"
     ]
    },
    {
     "data": {
      "text/plain": [
       "-0.49358972907066345"
      ]
     },
     "execution_count": 54,
     "metadata": {},
     "output_type": "execute_result"
    }
   ],
   "source": [
    "model.evaluate(test_x_BSF_flat, test_y_BS)"
   ]
  },
  {
   "cell_type": "code",
   "execution_count": 27,
   "id": "7aa6f9d6",
   "metadata": {},
   "outputs": [
    {
     "data": {
      "text/plain": [
       "TensorShape([1, 1620])"
      ]
     },
     "execution_count": 27,
     "metadata": {},
     "output_type": "execute_result"
    }
   ],
   "source": [
    "test_y_BS.shape"
   ]
  },
  {
   "cell_type": "code",
   "execution_count": null,
   "id": "8975b7d2",
   "metadata": {},
   "outputs": [],
   "source": []
  }
 ],
 "metadata": {
  "kernelspec": {
   "display_name": "Python 3 (ipykernel)",
   "language": "python",
   "name": "python3"
  },
  "language_info": {
   "codemirror_mode": {
    "name": "ipython",
    "version": 3
   },
   "file_extension": ".py",
   "mimetype": "text/x-python",
   "name": "python",
   "nbconvert_exporter": "python",
   "pygments_lexer": "ipython3",
   "version": "3.8.16"
  }
 },
 "nbformat": 4,
 "nbformat_minor": 5
}
