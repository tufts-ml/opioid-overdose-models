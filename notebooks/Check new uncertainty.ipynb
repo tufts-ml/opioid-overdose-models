{
 "cells": [
  {
   "cell_type": "code",
   "execution_count": 1,
   "id": "33b00819",
   "metadata": {},
   "outputs": [
    {
     "name": "stderr",
     "output_type": "stream",
     "text": [
      "2023-03-01 11:29:16.580999: I tensorflow/core/platform/cpu_feature_guard.cc:193] This TensorFlow binary is optimized with oneAPI Deep Neural Network Library (oneDNN) to use the following CPU instructions in performance-critical operations:  AVX2 AVX512F AVX512_VNNI FMA\n",
      "To enable them in other operations, rebuild TensorFlow with the appropriate compiler flags.\n",
      "2023-03-01 11:29:16.703409: I tensorflow/core/util/util.cc:169] oneDNN custom operations are on. You may see slightly different numerical results due to floating-point round-off errors from different computation orders. To turn them off, set the environment variable `TF_ENABLE_ONEDNN_OPTS=0`.\n",
      "2023-03-01 11:29:16.709065: W tensorflow/stream_executor/platform/default/dso_loader.cc:64] Could not load dynamic library 'libcudart.so.11.0'; dlerror: libcudart.so.11.0: cannot open shared object file: No such file or directory\n",
      "2023-03-01 11:29:16.709079: I tensorflow/stream_executor/cuda/cudart_stub.cc:29] Ignore above cudart dlerror if you do not have a GPU set up on your machine.\n",
      "2023-03-01 11:29:16.740879: E tensorflow/stream_executor/cuda/cuda_blas.cc:2981] Unable to register cuBLAS factory: Attempting to register factory for plugin cuBLAS when one has already been registered\n",
      "2023-03-01 11:29:17.887124: W tensorflow/stream_executor/platform/default/dso_loader.cc:64] Could not load dynamic library 'libnvinfer.so.7'; dlerror: libnvinfer.so.7: cannot open shared object file: No such file or directory\n",
      "2023-03-01 11:29:17.887207: W tensorflow/stream_executor/platform/default/dso_loader.cc:64] Could not load dynamic library 'libnvinfer_plugin.so.7'; dlerror: libnvinfer_plugin.so.7: cannot open shared object file: No such file or directory\n",
      "2023-03-01 11:29:17.887218: W tensorflow/compiler/tf2tensorrt/utils/py_utils.cc:38] TF-TRT Warning: Cannot dlopen some TensorRT libraries. If you would like to use Nvidia GPU with TensorRT, please make sure the missing libraries mentioned above are installed properly.\n"
     ]
    }
   ],
   "source": [
    "%load_ext autoreload\n",
    "%autoreload 2\n",
    "\n",
    "import numpy as np\n",
    "import tensorflow as tf\n",
    "\n",
    "import sys\n",
    "code_dir = '/cluster/home/kheuto01/code/zero-inflated-gp/'\n",
    "sys.path.append(code_dir)\n",
    "\n",
    "import os\n",
    "import subprocess\n",
    "import pandas as pd\n",
    "import numpy as np"
   ]
  },
  {
   "cell_type": "code",
   "execution_count": 16,
   "id": "e3753f9a",
   "metadata": {},
   "outputs": [],
   "source": [
    "times = ['annual', 'quarter','semi']\n",
    "locs = ['tract','town','group']\n",
    "start_years = [ 2000,2010]\n",
    "covs = [ '-auto','-auto-svi','all']\n",
    "models = ['normal', 'poisson']\n",
    "learning_rates = [0.1,0.01,0.001]\n",
    "inducing_points = [400,200]"
   ]
  },
  {
   "cell_type": "code",
   "execution_count": 3,
   "id": "ed18c44c",
   "metadata": {},
   "outputs": [],
   "source": [
    "\n",
    "data_dir='/cluster/tufts/hugheslab/datasets/NSF_OD/results_20220606_update/'\n",
    "\n",
    "log_dir='/cluster/tufts/hugheslab/kheuto01/opioid/logs/converge'\n"
   ]
  },
  {
   "cell_type": "code",
   "execution_count": 28,
   "id": "bec1c971",
   "metadata": {},
   "outputs": [
    {
     "name": "stdout",
     "output_type": "stream",
     "text": [
      "Submitted batch job 41899774\n",
      "Submitted batch job 41899775\n",
      "Submitted batch job 41899776\n",
      "Submitted batch job 41899777\n",
      "Submitted batch job 41899778\n",
      "Submitted batch job 41899779\n",
      "Submitted batch job 41899780\n",
      "Submitted batch job 41899781\n",
      "Submitted batch job 41899782\n",
      "Submitted batch job 41899783\n",
      "Submitted batch job 41899784\n",
      "Submitted batch job 41899785\n",
      "Submitted batch job 41899786\n",
      "Submitted batch job 41899787\n",
      "Submitted batch job 41899788\n",
      "Submitted batch job 41899789\n",
      "Submitted batch job 41899790\n",
      "Submitted batch job 41899791\n",
      "Submitted batch job 41899792\n",
      "Submitted batch job 41899793\n",
      "Submitted batch job 41899794\n",
      "Submitted batch job 41899795\n",
      "Submitted batch job 41899796\n",
      "Submitted batch job 41899797\n",
      "Submitted batch job 41899798\n",
      "Submitted batch job 41899799\n",
      "Submitted batch job 41899800\n",
      "Submitted batch job 41899801\n",
      "Submitted batch job 41899802\n",
      "Submitted batch job 41899803\n",
      "Submitted batch job 41899804\n",
      "Submitted batch job 41899805\n",
      "Submitted batch job 41899806\n",
      "Submitted batch job 41899807\n",
      "Submitted batch job 41899808\n",
      "Submitted batch job 41899809\n",
      "Submitted batch job 41899810\n",
      "Submitted batch job 41899811\n",
      "Submitted batch job 41899812\n",
      "Submitted batch job 41899813\n",
      "Submitted batch job 41899814\n",
      "Submitted batch job 41899815\n",
      "Submitted batch job 41899816\n",
      "Submitted batch job 41899817\n",
      "Submitted batch job 41899818\n",
      "Submitted batch job 41899819\n",
      "Submitted batch job 41899820\n",
      "Submitted batch job 41899821\n",
      "Submitted batch job 41899822\n",
      "Submitted batch job 41899823\n",
      "Submitted batch job 41899824\n",
      "Submitted batch job 41899825\n",
      "Submitted batch job 41899826\n",
      "Submitted batch job 41899827\n",
      "Submitted batch job 41899828\n",
      "Submitted batch job 41899829\n",
      "Submitted batch job 41899830\n",
      "Submitted batch job 41899831\n",
      "Submitted batch job 41899832\n",
      "Submitted batch job 41899833\n",
      "Submitted batch job 41899834\n",
      "Submitted batch job 41899835\n",
      "Submitted batch job 41899836\n",
      "Submitted batch job 41899837\n",
      "Submitted batch job 41899838\n",
      "Submitted batch job 41899839\n",
      "Submitted batch job 41899840\n",
      "Submitted batch job 41899841\n",
      "Submitted batch job 41899842\n",
      "Submitted batch job 41899843\n",
      "Submitted batch job 41899844\n",
      "Submitted batch job 41899845\n",
      "Submitted batch job 41899846\n",
      "Submitted batch job 41899847\n",
      "Submitted batch job 41899848\n",
      "Submitted batch job 41899849\n",
      "Submitted batch job 41899850\n",
      "Submitted batch job 41899851\n",
      "Submitted batch job 41899852\n",
      "Submitted batch job 41899853\n",
      "Submitted batch job 41899854\n",
      "Submitted batch job 41899855\n",
      "Submitted batch job 41899856\n",
      "Submitted batch job 41899857\n",
      "Submitted batch job 41899858\n",
      "Submitted batch job 41899859\n",
      "Submitted batch job 41899860\n",
      "Submitted batch job 41899861\n",
      "Submitted batch job 41899862\n",
      "Submitted batch job 41899863\n",
      "Submitted batch job 41899864\n",
      "Submitted batch job 41899865\n",
      "Submitted batch job 41899866\n",
      "Submitted batch job 41899867\n",
      "Submitted batch job 41899868\n",
      "Submitted batch job 41899869\n",
      "Submitted batch job 41899870\n",
      "Submitted batch job 41899871\n",
      "Submitted batch job 41899872\n",
      "Submitted batch job 41899873\n",
      "Submitted batch job 41899874\n",
      "Submitted batch job 41899875\n",
      "Submitted batch job 41899876\n",
      "Submitted batch job 41899877\n",
      "Submitted batch job 41899878\n",
      "Submitted batch job 41899879\n",
      "Submitted batch job 41899880\n",
      "Submitted batch job 41899881\n",
      "Submitted batch job 41899882\n",
      "Submitted batch job 41899883\n",
      "Submitted batch job 41899884\n",
      "Submitted batch job 41899885\n",
      "Submitted batch job 41899886\n",
      "Submitted batch job 41899887\n",
      "Submitted batch job 41899888\n",
      "Submitted batch job 41899889\n",
      "Submitted batch job 41899890\n",
      "Submitted batch job 41899891\n",
      "Submitted batch job 41899892\n",
      "Submitted batch job 41899893\n",
      "Submitted batch job 41899894\n",
      "Submitted batch job 41899895\n",
      "Submitted batch job 41899896\n",
      "Submitted batch job 41899897\n",
      "Submitted batch job 41899898\n",
      "Submitted batch job 41899899\n",
      "Submitted batch job 41899900\n",
      "Submitted batch job 41899901\n",
      "Submitted batch job 41899902\n",
      "Submitted batch job 41899903\n",
      "Submitted batch job 41899904\n",
      "Submitted batch job 41899905\n",
      "Submitted batch job 41899906\n",
      "Submitted batch job 41899907\n",
      "Submitted batch job 41899908\n",
      "Submitted batch job 41899909\n",
      "Submitted batch job 41899910\n",
      "Submitted batch job 41899911\n",
      "Submitted batch job 41899912\n",
      "Submitted batch job 41899913\n",
      "Submitted batch job 41899914\n",
      "Submitted batch job 41899915\n",
      "Submitted batch job 41899916\n",
      "Submitted batch job 41899917\n",
      "Submitted batch job 41899918\n",
      "Submitted batch job 41899919\n",
      "Submitted batch job 41899920\n",
      "Submitted batch job 41899921\n",
      "Submitted batch job 41899922\n",
      "Submitted batch job 41899923\n",
      "Submitted batch job 41899924\n",
      "Submitted batch job 41899925\n",
      "Submitted batch job 41899926\n",
      "Submitted batch job 41899927\n",
      "Submitted batch job 41899928\n",
      "Submitted batch job 41899929\n",
      "Submitted batch job 41899930\n",
      "Submitted batch job 41899931\n",
      "Submitted batch job 41899932\n",
      "Submitted batch job 41899933\n",
      "Submitted batch job 41899934\n",
      "Submitted batch job 41899935\n",
      "Submitted batch job 41899936\n",
      "Submitted batch job 41899937\n",
      "Submitted batch job 41899938\n",
      "Submitted batch job 41899939\n",
      "Submitted batch job 41899940\n",
      "Submitted batch job 41899941\n",
      "Submitted batch job 41899942\n",
      "Submitted batch job 41899943\n",
      "Submitted batch job 41899944\n",
      "Submitted batch job 41899945\n",
      "Submitted batch job 41899946\n",
      "Submitted batch job 41899947\n",
      "Submitted batch job 41899948\n",
      "Submitted batch job 41899949\n",
      "Submitted batch job 41899950\n",
      "Submitted batch job 41899951\n",
      "Submitted batch job 41899952\n",
      "Submitted batch job 41899953\n",
      "Submitted batch job 41899954\n",
      "Submitted batch job 41899955\n",
      "Submitted batch job 41899956\n",
      "Submitted batch job 41899957\n",
      "Submitted batch job 41899958\n",
      "Submitted batch job 41899959\n",
      "Submitted batch job 41899960\n",
      "Submitted batch job 41899961\n",
      "Submitted batch job 41899962\n",
      "Submitted batch job 41899963\n",
      "Submitted batch job 41899964\n",
      "Submitted batch job 41899965\n",
      "Submitted batch job 41899966\n",
      "Submitted batch job 41899967\n",
      "Submitted batch job 41899968\n",
      "Submitted batch job 41899969\n",
      "Submitted batch job 41899970\n",
      "Submitted batch job 41899971\n",
      "Submitted batch job 41899972\n",
      "Submitted batch job 41899973\n",
      "Submitted batch job 41899974\n",
      "Submitted batch job 41899975\n",
      "Submitted batch job 41899976\n",
      "Submitted batch job 41899977\n",
      "Submitted batch job 41899978\n",
      "Submitted batch job 41899979\n",
      "Submitted batch job 41899980\n",
      "Submitted batch job 41899981\n",
      "Submitted batch job 41899982\n",
      "Submitted batch job 41899983\n",
      "Submitted batch job 41899984\n",
      "Submitted batch job 41899985\n",
      "Submitted batch job 41899986\n",
      "Submitted batch job 41899987\n",
      "Submitted batch job 41899988\n",
      "Submitted batch job 41899989\n"
     ]
    }
   ],
   "source": [
    "counter = 0\n",
    "for time in times:\n",
    "\n",
    "    for loc in locs:\n",
    "        for start_year in start_years:\n",
    "            for cov in covs:\n",
    "                for model in models:\n",
    "                    for num_inducing in inducing_points:\n",
    "\n",
    "\n",
    "                        arg_parts = [\n",
    "                            f\"--data_dir {data_dir}\",\n",
    "                            f\"--log_dir {log_dir}\",\n",
    "                            f\"--time {time}\",\n",
    "                            f\"--loc {loc}\",\n",
    "                            f\"--start_year {start_year}\",\n",
    "                            f\"--cov='{cov}'\",\n",
    "                            f\"--test_years 2\",\n",
    "                            f\"--timestep_col timestep\",\n",
    "                            f\"--geography_col geoid\",\n",
    "                            f\"--model {model}\",\n",
    "                            f\"--num_inducing {num_inducing}\",\n",
    "                            f\"--learning_rates {' '.join([str(lr) for lr in learning_rates])}\",\n",
    "                        ]\n",
    "\n",
    "\n",
    "\n",
    "                        arg_cmd = ' '.join(arg_parts)\n",
    "                        command = (f\"args='{arg_cmd}' sbatch < /cluster/home/kheuto01/code/opioid-overdose-models/zinf_gp/check_unc.slurm\")\n",
    "                        \n",
    "                        counter += 1\n",
    "                        subprocess.run(command, shell=True, check=True)\n",
    "                        \n",
    "    "
   ]
  },
  {
   "cell_type": "code",
   "execution_count": 24,
   "id": "fedd9fbf",
   "metadata": {},
   "outputs": [
    {
     "data": {
      "text/plain": [
       "\"args='--data_dir /cluster/tufts/hugheslab/datasets/NSF_OD/results_20220606_update/ --log_dir /cluster/tufts/hugheslab/kheuto01/opioid/logs/converge --time semi --loc group --start_year 2010 --cov='all' --test_years 2 --timestep_col timestep --geography_col geoid --model poisson --num_inducing 200 --learning_rates 0.1 0.01 0.001' sbatch < /cluster/home/kheuto01/code/opioid-overdose-models/zinf_gp/check_unc.slurm\""
      ]
     },
     "execution_count": 24,
     "metadata": {},
     "output_type": "execute_result"
    }
   ],
   "source": [
    "command"
   ]
  },
  {
   "cell_type": "code",
   "execution_count": 25,
   "id": "ae18adfd",
   "metadata": {},
   "outputs": [
    {
     "name": "stdout",
     "output_type": "stream",
     "text": [
      "Submitted batch job 41899341\n"
     ]
    },
    {
     "data": {
      "text/plain": [
       "CompletedProcess(args=\"args='--data_dir /cluster/tufts/hugheslab/datasets/NSF_OD/results_20220606_update/ --log_dir /cluster/tufts/hugheslab/kheuto01/opioid/logs/converge --time semi --loc group --start_year 2010 --cov='all' --test_years 2 --timestep_col timestep --geography_col geoid --model poisson --num_inducing 200 --learning_rates 0.1 0.01 0.001' sbatch < /cluster/home/kheuto01/code/opioid-overdose-models/zinf_gp/check_unc.slurm\", returncode=0)"
      ]
     },
     "execution_count": 25,
     "metadata": {},
     "output_type": "execute_result"
    }
   ],
   "source": [
    "subprocess.run(command, shell=True, check=True)"
   ]
  },
  {
   "cell_type": "code",
   "execution_count": 73,
   "id": "a9503f0c",
   "metadata": {},
   "outputs": [],
   "source": [
    "all_results = []\n",
    "counter = 0\n",
    "for time in times:\n",
    "\n",
    "    for loc in locs:\n",
    "        for start_year in start_years:\n",
    "            for cov in covs:\n",
    "                for model in models:\n",
    "                    for num_inducing in inducing_points:\n",
    "\n",
    "                        unc_file = os.path.join(log_dir, f'unc_results_{time}_{loc}_{model}_{start_year}_{cov}_{num_inducing}.csv')\n",
    "\n",
    "                        results = pd.read_csv(unc_file,index_col=0)\n",
    "                        \n",
    "                        low_2019, med_2019, high_2019 = results.loc[0,:]\n",
    "                        low_2020, med_2020, high_2020 = results.loc[1,:]\n",
    "                        \n",
    "                        data = [time, loc, start_year, cov, model, num_inducing, low_2019, med_2019, high_2019, low_2020, med_2020, high_2020]\n",
    "                        \n",
    "                        all_results.append(data)\n",
    "                        \n",
    "df = pd.DataFrame(all_results,columns=['time', 'loc', 'start', 'covs', 'model', 'num_inducing', 'low_2019', 'mean_2019', 'high_2019', 'low_2020', 'mean_2020', 'high_2020'])"
   ]
  },
  {
   "cell_type": "code",
   "execution_count": 75,
   "id": "a87bc794",
   "metadata": {},
   "outputs": [],
   "source": [
    "df.to_csv('~/tract_uncertainty_results.csv')"
   ]
  },
  {
   "cell_type": "code",
   "execution_count": 66,
   "id": "9960dddd",
   "metadata": {},
   "outputs": [
    {
     "data": {
      "text/plain": [
       "0.2584754006405382"
      ]
     },
     "execution_count": 66,
     "metadata": {},
     "output_type": "execute_result"
    }
   ],
   "source": [
    "a"
   ]
  },
  {
   "cell_type": "code",
   "execution_count": 67,
   "id": "21400f84",
   "metadata": {},
   "outputs": [
    {
     "data": {
      "text/plain": [
       "0.2775113440448404"
      ]
     },
     "execution_count": 67,
     "metadata": {},
     "output_type": "execute_result"
    }
   ],
   "source": [
    "b"
   ]
  },
  {
   "cell_type": "code",
   "execution_count": 68,
   "id": "bfced7ae",
   "metadata": {},
   "outputs": [
    {
     "data": {
      "text/plain": [
       "0.2934346846261491"
      ]
     },
     "execution_count": 68,
     "metadata": {},
     "output_type": "execute_result"
    }
   ],
   "source": [
    "c"
   ]
  },
  {
   "cell_type": "code",
   "execution_count": null,
   "id": "1c17409b",
   "metadata": {},
   "outputs": [],
   "source": []
  }
 ],
 "metadata": {
  "kernelspec": {
   "display_name": "Python 3 (ipykernel)",
   "language": "python",
   "name": "python3"
  },
  "language_info": {
   "codemirror_mode": {
    "name": "ipython",
    "version": 3
   },
   "file_extension": ".py",
   "mimetype": "text/x-python",
   "name": "python",
   "nbconvert_exporter": "python",
   "pygments_lexer": "ipython3",
   "version": "3.9.13"
  }
 },
 "nbformat": 4,
 "nbformat_minor": 5
}
