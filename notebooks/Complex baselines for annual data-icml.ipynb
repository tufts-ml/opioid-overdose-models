{
 "cells": [
  {
   "cell_type": "code",
   "execution_count": 1,
   "id": "41db3b0f",
   "metadata": {},
   "outputs": [
    {
     "name": "stderr",
     "output_type": "stream",
     "text": [
      "2023-06-15 13:46:28.825112: I tensorflow/core/util/port.cc:110] oneDNN custom operations are on. You may see slightly different numerical results due to floating-point round-off errors from different computation orders. To turn them off, set the environment variable `TF_ENABLE_ONEDNN_OPTS=0`.\n",
      "2023-06-15 13:46:28.827193: I tensorflow/tsl/cuda/cudart_stub.cc:28] Could not find cuda drivers on your machine, GPU will not be used.\n",
      "2023-06-15 13:46:28.873243: I tensorflow/tsl/cuda/cudart_stub.cc:28] Could not find cuda drivers on your machine, GPU will not be used.\n",
      "2023-06-15 13:46:28.873947: I tensorflow/core/platform/cpu_feature_guard.cc:182] This TensorFlow binary is optimized to use available CPU instructions in performance-critical operations.\n",
      "To enable the following instructions: AVX2 AVX512F AVX512_VNNI FMA, in other operations, rebuild TensorFlow with the appropriate compiler flags.\n",
      "2023-06-15 13:46:30.689437: W tensorflow/compiler/tf2tensorrt/utils/py_utils.cc:38] TF-TRT Warning: Could not find TensorRT\n"
     ]
    }
   ],
   "source": [
    "import geopandas as gpd\n",
    "\n",
    "import numpy as np\n",
    "import pandas as pd\n",
    "from pandas import IndexSlice as idx\n",
    "import tensorflow as tf\n",
    "import sys\n",
    "import os\n",
    "import glob\n",
    "\n",
    "from functools import partial\n",
    "\n",
    "\n",
    "\n",
    "code_dir = '/cluster/home/kheuto01/code/opioid-overdose-models/perturbations/'\n",
    "sys.path.append(code_dir)\n",
    "code_dir = '/cluster/home/kheuto01/code/opioid-overdose-models/diff_bpr'\n",
    "sys.path.append(code_dir)\n",
    "from top_k import top_k_idx\n",
    "#from make_datasets import make_data\n",
    "from bpr_model import PerturbedBPRLinearModel, PerturbedBPRMLPModel\n",
    "from make_datasets import make_data\n",
    "\n",
    "\n",
    "code_dir = '/cluster/home/kheuto01/code/opioid-overdose-models/'\n",
    "sys.path.append(code_dir)\n",
    "from zinf_gp.metrics import normcdf, fixed_top_X\n",
    "\n",
    "\n",
    "\n",
    "from perturbations import perturbed\n",
    "from bpr import bpr_variable_k_no_ties\n",
    "\n",
    "import sklearn\n",
    "from sklearn.linear_model import LinearRegression\n",
    "from sklearn.neural_network import MLPRegressor\n",
    "from bpr import bpr_variable_k_no_ties"
   ]
  },
  {
   "cell_type": "code",
   "execution_count": null,
   "id": "0fd7d151",
   "metadata": {},
   "outputs": [],
   "source": [
    "data_path='/cluster/tufts/hugheslab/datasets/NSF_OD/results_20220606_update/clean_annual_tract/'\n",
    "seed = 360\n",
    "lookback_years=5\n",
    "learning_rate=0.01\n",
    "add_spacetime=True\n",
    "add_svi=True\n",
    "\n",
    "time_window = lookback_years\n",
    "timesteps_per_year = 1\n",
    "first_train_eval_year = 2013\n",
    "last_train_eval_year = 2017\n",
    "batch_dim_size = (last_train_eval_year - first_train_eval_year + 1)*timesteps_per_year\n",
    "validation_year = 2018\n",
    "first_test_year = 2019\n",
    "last_test_year = 2020\n",
    "\n",
    "\n",
    "tf.random.set_seed(seed)\n",
    "\n",
    "\n",
    "timestep_col = 'timestep'\n",
    "geography_col = 'geoid'\n",
    "outcome_col = 'deaths'\n",
    "\n",
    "x_idx_cols = [geography_col, 'lat', 'lon', timestep_col,\n",
    "              'theme_1_pc', 'theme_2_pc', 'theme_3_pc', 'theme_4_pc',\n",
    "              'svi_pctile', 'year',\n",
    "              'neighbor_t', 'deaths']\n",
    "y_idx_cols = [geography_col, timestep_col, outcome_col]\n",
    "features_only = ['deaths']\n",
    "\n",
    "if add_spacetime:\n",
    "    features_only += ['lat', 'lon', timestep_col]\n",
    "if add_svi:\n",
    "    features_only += ['theme_1_pc', 'theme_2_pc', 'theme_3_pc', 'theme_4_pc', 'svi_pctile']\n",
    "\n",
    "\n",
    "data_gdf = gpd.read_file(data_path)\n",
    "\n",
    "multiindexed_gdf = data_gdf.set_index(['geoid', 'timestep'])\n",
    "multiindexed_gdf['timestep'] = multiindexed_gdf.index.get_level_values('timestep')\n",
    "num_geoids = len(data_gdf['geoid'].unique())\n",
    "\n",
    "train_shape = (num_geoids, time_window, len(features_only))\n",
    "\n",
    "train_x_BSF_flat, train_y_BS = make_data(multiindexed_gdf, first_train_eval_year, last_train_eval_year,\n",
    "                                                  time_window, features_only, train_shape, pred_lag=timesteps_per_year)\n",
    "\n",
    "valid_x_BSF_flat, valid_y_BS = make_data(multiindexed_gdf, validation_year, validation_year,\n",
    "                                         time_window, features_only, train_shape, pred_lag=timesteps_per_year)\n",
    "\n",
    "test_x_BSF_flat, test_y_BS = make_data(multiindexed_gdf, first_test_year, last_test_year,\n",
    "                                       time_window, features_only, train_shape, pred_lag=timesteps_per_year)\n",
    "\n",
    "norm_layer = tf.keras.layers.Normalization()\n",
    "norm_layer.adapt(train_x_BSF_flat)\n",
    "train_x_BSF_flat = norm_layer(train_x_BSF_flat)\n",
    "valid_x_BSF_flat = norm_layer(valid_x_BSF_flat)\n",
    "test_x_BSF_flat = norm_layer(test_x_BSF_flat)\n",
    "\n",
    "top_100_idx_func = partial(top_k_idx, k=100)\n",
    "from zinf_gp.metrics import normcdf, fixed_top_X"
   ]
  },
  {
   "cell_type": "code",
   "execution_count": null,
   "id": "8b2793d7",
   "metadata": {},
   "outputs": [],
   "source": [
    "linear_poisson = sklearn.linear_model.PoissonRegressor()"
   ]
  },
  {
   "cell_type": "code",
   "execution_count": null,
   "id": "2147b0f5",
   "metadata": {},
   "outputs": [],
   "source": [
    "train_y_BS.shape"
   ]
  },
  {
   "cell_type": "code",
   "execution_count": 20,
   "id": "050b439a",
   "metadata": {},
   "outputs": [],
   "source": [
    "train_x_long = tf.reshape(train_x_BSF_flat,((5*1620),45))\n",
    "train_y_long = tf.reshape(train_y_BS,(5*1620,1))"
   ]
  },
  {
   "cell_type": "code",
   "execution_count": 21,
   "id": "7c2f6fda",
   "metadata": {},
   "outputs": [],
   "source": [
    "reg = linear_poisson.fit(train_x_long, tf.squeeze(train_y_long))"
   ]
  },
  {
   "cell_type": "code",
   "execution_count": 22,
   "id": "bc70c213",
   "metadata": {},
   "outputs": [
    {
     "data": {
      "text/plain": [
       "<tf.Tensor: shape=(), dtype=float32, numpy=0.5982906>"
      ]
     },
     "execution_count": 22,
     "metadata": {},
     "output_type": "execute_result"
    }
   ],
   "source": [
    "pred_linear_2019 = reg.predict(test_x_BSF_flat[0])\n",
    "bpr_variable_k_no_ties(test_y_BS[0], pred_linear_2019,k=100)"
   ]
  },
  {
   "cell_type": "code",
   "execution_count": 23,
   "id": "2779cf14",
   "metadata": {},
   "outputs": [
    {
     "data": {
      "text/plain": [
       "<tf.Tensor: shape=(), dtype=float32, numpy=0.6032064>"
      ]
     },
     "execution_count": 23,
     "metadata": {},
     "output_type": "execute_result"
    }
   ],
   "source": [
    "pred_linear_2020 = reg.predict(test_x_BSF_flat[1])\n",
    "bpr_variable_k_no_ties(test_y_BS[1], pred_linear_2020,k=100)"
   ]
  },
  {
   "cell_type": "code",
   "execution_count": 24,
   "id": "558e49e1",
   "metadata": {},
   "outputs": [
    {
     "data": {
      "text/plain": [
       "0.6007485"
      ]
     },
     "execution_count": 24,
     "metadata": {},
     "output_type": "execute_result"
    }
   ],
   "source": [
    "(0.5982906+0.6032064)/2"
   ]
  },
  {
   "cell_type": "code",
   "execution_count": 190,
   "id": "bbe2ec6c",
   "metadata": {},
   "outputs": [
    {
     "name": "stdout",
     "output_type": "stream",
     "text": [
      "3, 2, 50\n",
      "tf.Tensor(0.5782881, shape=(), dtype=float32)\n",
      "3, 2, 100\n",
      "tf.Tensor(0.5803758, shape=(), dtype=float32)\n"
     ]
    }
   ],
   "source": [
    "from sklearn.ensemble import HistGradientBoostingRegressor\n",
    "max_valid=0\n",
    "for depth in [3,6,9]:\n",
    "    for leaf in [2,5,10]:\n",
    "        for sampl in [50,100,400]:\n",
    "            hist_poisson =   HistGradientBoostingRegressor(loss=\"poisson\", max_iter=10000, max_depth=depth, max_leaf_nodes=leaf,\n",
    "                                                           l2_regularization=0.1, min_samples_leaf=sampl )\n",
    "            hist_reg = hist_poisson.fit(train_x_long, tf.squeeze(train_y_long))\n",
    "            \n",
    "            valid_fit = hist_reg.predict(valid_x_BSF_flat[0])\n",
    "            new_valid = bpr_variable_k_no_ties(valid_y_BS[0], valid_fit,k=100)\n",
    "            \n",
    "            if new_valid>max_valid:\n",
    "                print(f'{depth}, {leaf}, {sampl}')\n",
    "                max_valid=new_valid\n",
    "                print(max_valid)"
   ]
  },
  {
   "cell_type": "code",
   "execution_count": 206,
   "id": "43f13f4e",
   "metadata": {},
   "outputs": [],
   "source": [
    "hist_poisson =   HistGradientBoostingRegressor(loss=\"poisson\", max_iter=10000, max_depth=3, max_leaf_nodes=2,\n",
    "                                                           l2_regularization=1, min_samples_leaf=100 )\n",
    "hist_reg = hist_poisson.fit(train_x_long, tf.squeeze(train_y_long))"
   ]
  },
  {
   "cell_type": "code",
   "execution_count": 207,
   "id": "d26b34ef",
   "metadata": {},
   "outputs": [
    {
     "data": {
      "text/plain": [
       "<tf.Tensor: shape=(), dtype=float32, numpy=0.5534188>"
      ]
     },
     "execution_count": 207,
     "metadata": {},
     "output_type": "execute_result"
    }
   ],
   "source": [
    "pred_hist_2019 = hist_reg.predict(test_x_BSF_flat[0])\n",
    "bpr_variable_k_no_ties(test_y_BS[0], pred_hist_2019,k=100)"
   ]
  },
  {
   "cell_type": "code",
   "execution_count": 208,
   "id": "e41ac40a",
   "metadata": {},
   "outputs": [
    {
     "data": {
      "text/plain": [
       "<tf.Tensor: shape=(), dtype=float32, numpy=0.5751503>"
      ]
     },
     "execution_count": 208,
     "metadata": {},
     "output_type": "execute_result"
    }
   ],
   "source": [
    "pred_hist_2020 = hist_reg.predict(test_x_BSF_flat[1])\n",
    "bpr_variable_k_no_ties(test_y_BS[1], pred_hist_2020,k=100)"
   ]
  },
  {
   "cell_type": "code",
   "execution_count": 209,
   "id": "a6c50b3a",
   "metadata": {},
   "outputs": [
    {
     "data": {
      "text/plain": [
       "<tf.Tensor: shape=(), dtype=float32, numpy=0.48398575>"
      ]
     },
     "execution_count": 209,
     "metadata": {},
     "output_type": "execute_result"
    }
   ],
   "source": [
    "train_fit = hist_reg.predict(train_x_BSF_flat[0])\n",
    "bpr_variable_k_no_ties(train_y_BS[0], train_fit,k=100)"
   ]
  },
  {
   "cell_type": "code",
   "execution_count": 210,
   "id": "cf113954",
   "metadata": {},
   "outputs": [
    {
     "data": {
      "text/plain": [
       "<tf.Tensor: shape=(), dtype=float32, numpy=0.5803758>"
      ]
     },
     "execution_count": 210,
     "metadata": {},
     "output_type": "execute_result"
    }
   ],
   "source": [
    "valid_fit = hist_reg.predict(valid_x_BSF_flat[0])\n",
    "bpr_variable_k_no_ties(valid_y_BS[0], valid_fit,k=100)"
   ]
  },
  {
   "cell_type": "code",
   "execution_count": 211,
   "id": "f5c02efa",
   "metadata": {},
   "outputs": [
    {
     "data": {
      "text/plain": [
       "0.56428455"
      ]
     },
     "execution_count": 211,
     "metadata": {},
     "output_type": "execute_result"
    }
   ],
   "source": [
    "(0.5751503+0.5534188)/2"
   ]
  },
  {
   "cell_type": "code",
   "execution_count": 217,
   "id": "16b1884d",
   "metadata": {},
   "outputs": [
    {
     "data": {
      "text/plain": [
       "<tf.Tensor: shape=(), dtype=float32, numpy=0.217119>"
      ]
     },
     "execution_count": 217,
     "metadata": {},
     "output_type": "execute_result"
    }
   ],
   "source": [
    "bpr_variable_k_no_ties(valid_y_BS[0], valid_fit*0+1,k=100)"
   ]
  },
  {
   "cell_type": "code",
   "execution_count": 220,
   "id": "4fd321b7",
   "metadata": {},
   "outputs": [],
   "source": [
    "perturbed_top_100 = perturbed(top_100_idx_func,\n",
    "                              num_samples=5000,\n",
    "                              sigma=0.05,\n",
    "                              noise='normal',\n",
    "                              batched=True)\n"
   ]
  },
  {
   "cell_type": "code",
   "execution_count": 225,
   "id": "fc7356d5",
   "metadata": {},
   "outputs": [
    {
     "data": {
      "text/plain": [
       "(468.0, 0.0, 352.975, 0.24577991452991454)"
      ]
     },
     "execution_count": 225,
     "metadata": {},
     "output_type": "execute_result"
    }
   ],
   "source": [
    "fixed_top_X( multiindexed_gdf[(multiindexed_gdf['year']==2019)]['deaths'], \n",
    "            multiindexed_gdf[(multiindexed_gdf['year']==2019)]['deaths']*0,X=100)"
   ]
  },
  {
   "cell_type": "code",
   "execution_count": 226,
   "id": "9c20ee36",
   "metadata": {},
   "outputs": [
    {
     "data": {
      "text/plain": [
       "(499.0, 0.0, 378.734, 0.24101402805611225)"
      ]
     },
     "execution_count": 226,
     "metadata": {},
     "output_type": "execute_result"
    }
   ],
   "source": [
    "fixed_top_X( multiindexed_gdf[(multiindexed_gdf['year']==2020)]['deaths'], \n",
    "            multiindexed_gdf[(multiindexed_gdf['year']==2020)]['deaths']*0,X=100)"
   ]
  },
  {
   "cell_type": "code",
   "execution_count": 227,
   "id": "7f6c8398",
   "metadata": {},
   "outputs": [
    {
     "data": {
      "text/plain": [
       "0.2433969712930134"
      ]
     },
     "execution_count": 227,
     "metadata": {},
     "output_type": "execute_result"
    }
   ],
   "source": [
    "(0.24577991452991454+0.24101402805611225)/2"
   ]
  },
  {
   "cell_type": "code",
   "execution_count": 12,
   "id": "c173e7ce",
   "metadata": {},
   "outputs": [
    {
     "data": {
      "text/plain": [
       "<tf.Tensor: shape=(), dtype=float32, numpy=468.0>"
      ]
     },
     "execution_count": 12,
     "metadata": {},
     "output_type": "execute_result"
    }
   ],
   "source": [
    "tf.reduce_sum(tf.sort(test_y_BS[0])[-100:])"
   ]
  },
  {
   "cell_type": "code",
   "execution_count": 13,
   "id": "75b0b9ae",
   "metadata": {},
   "outputs": [
    {
     "data": {
      "text/plain": [
       "483.5"
      ]
     },
     "execution_count": 13,
     "metadata": {},
     "output_type": "execute_result"
    }
   ],
   "source": [
    "(468+499)/2"
   ]
  },
  {
   "cell_type": "code",
   "execution_count": 15,
   "id": "46657c89",
   "metadata": {},
   "outputs": [
    {
     "data": {
      "text/plain": [
       "1.934"
      ]
     },
     "execution_count": 15,
     "metadata": {},
     "output_type": "execute_result"
    }
   ],
   "source": [
    "483.5*0.004"
   ]
  },
  {
   "cell_type": "code",
   "execution_count": null,
   "id": "3d6b4017",
   "metadata": {},
   "outputs": [],
   "source": []
  }
 ],
 "metadata": {
  "kernelspec": {
   "display_name": "Python 3 (ipykernel)",
   "language": "python",
   "name": "python3"
  },
  "language_info": {
   "codemirror_mode": {
    "name": "ipython",
    "version": 3
   },
   "file_extension": ".py",
   "mimetype": "text/x-python",
   "name": "python",
   "nbconvert_exporter": "python",
   "pygments_lexer": "ipython3",
   "version": "3.8.16"
  }
 },
 "nbformat": 4,
 "nbformat_minor": 5
}
