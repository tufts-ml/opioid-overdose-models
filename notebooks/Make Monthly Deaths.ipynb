{
 "cells": [
  {
   "cell_type": "code",
   "execution_count": 1,
   "id": "fdbf1954",
   "metadata": {},
   "outputs": [],
   "source": [
    "%matplotlib inline\n",
    "#  disable transparency for gif making\n",
    "%config InlineBackend.print_figure_kwargs={'facecolor' : \"w\"}\n",
    "import os\n",
    "from glob import glob\n",
    "\n",
    "import numpy as np\n",
    "import pandas as pd\n",
    "idx = pd.IndexSlice\n",
    "import matplotlib.pyplot as plt\n",
    "import matplotlib.animation as animation\n",
    "from matplotlib.ticker import MaxNLocator\n",
    "\n",
    "import geopandas as gpd\n",
    "\n",
    "from sklearn.metrics import mean_absolute_error\n",
    "\n",
    "from sklearn.linear_model import LinearRegression\n",
    "from sklearn.neural_network import MLPRegressor\n",
    "\n",
    "import contextily as cx"
   ]
  },
  {
   "cell_type": "code",
   "execution_count": 2,
   "id": "949fca64",
   "metadata": {},
   "outputs": [],
   "source": [
    "data_dir = '/cluster/tufts/hugheslab/datasets/NSF_OD/'\n",
    "svi_dir = os.path.join(data_dir,'SocialVulnerabilityIndex')\n",
    "result_dir = os.path.join(data_dir, 'results')\n",
    "mass_shapefile = os.path.join(data_dir,'shapefiles','MA_2021')"
   ]
  },
  {
   "cell_type": "code",
   "execution_count": 19,
   "id": "11cdb565",
   "metadata": {},
   "outputs": [],
   "source": [
    "matched_df = pd.read_csv(os.path.join(result_dir,'geocoded_deaths_2000_2020.csv')) \n",
    "matched_df['dod_dt'] = pd.to_datetime(matched_df['dod_dt'])\n",
    "matched_df['month'] = matched_df['dod_dt'].dt.month"
   ]
  },
  {
   "cell_type": "code",
   "execution_count": 20,
   "id": "9332b402",
   "metadata": {},
   "outputs": [],
   "source": [
    "mass_gdf = gpd.read_file(mass_shapefile)\n",
    "matched_df.loc[:,'tract'] = matched_df['tract'].astype(int)\n",
    "mass_gdf.loc[:,'TRACTCE'] = mass_gdf['TRACTCE'].astype(int)"
   ]
  },
  {
   "cell_type": "code",
   "execution_count": 22,
   "id": "55ed5e59",
   "metadata": {},
   "outputs": [],
   "source": [
    "deaths_per_tract_df = matched_df.groupby(['year','month','tract']).size().reset_index(name='deaths')"
   ]
  },
  {
   "cell_type": "code",
   "execution_count": 23,
   "id": "d7c7f36f",
   "metadata": {},
   "outputs": [],
   "source": [
    "no = 0\n",
    "for tract in deaths_per_tract_df.tract.unique():\n",
    "    if tract not in mass_gdf.TRACTCE.unique():\n",
    "        raise ValueError('Failed to match a tract!')"
   ]
  },
  {
   "cell_type": "code",
   "execution_count": 25,
   "id": "2a10c978",
   "metadata": {},
   "outputs": [],
   "source": [
    "deaths_gdf = gpd.GeoDataFrame()\n",
    "for year in deaths_per_tract_df.year.unique():\n",
    "    for month in deaths_per_tract_df.month.unique():\n",
    "        these_deaths = deaths_per_tract_df[(deaths_per_tract_df['year']==year) & (deaths_per_tract_df['month']==month)]\n",
    "        years_merged_deaths = mass_gdf.merge(these_deaths,\n",
    "                                             left_on='TRACTCE',\n",
    "                                             right_on='tract',\n",
    "                                             how='left')\n",
    "        # fill NAs\n",
    "        years_merged_deaths.loc[:,'year']=year\n",
    "        years_merged_deaths.loc[:,'month']=month\n",
    "        years_merged_deaths.loc[:,'deaths'] = years_merged_deaths.loc[:,'deaths'].fillna(0)\n",
    "        deaths_gdf = deaths_gdf.append(years_merged_deaths)"
   ]
  },
  {
   "cell_type": "code",
   "execution_count": 33,
   "id": "9d60a69b",
   "metadata": {},
   "outputs": [],
   "source": [
    "deaths_file = os.path.join(result_dir,'res_deaths_month_all')\n",
    "deaths_gdf.to_file(deaths_file)\n",
    "matched_file = os.path.join(result_dir,'geocoded_deaths_monthly.csv')\n",
    "matched_df.to_csv(matched_file, index=False)"
   ]
  },
  {
   "cell_type": "code",
   "execution_count": 42,
   "id": "bdfc915d",
   "metadata": {},
   "outputs": [
    {
     "data": {
      "text/plain": [
       "year  month  tract \n",
       "2000  1      70501     1\n",
       "             170502    1\n",
       "             205600    1\n",
       "             250200    1\n",
       "             250400    1\n",
       "                      ..\n",
       "2021  12     40400     1\n",
       "             206000    1\n",
       "             252201    1\n",
       "             652000    1\n",
       "             900100    1\n",
       "Length: 20603, dtype: int64"
      ]
     },
     "execution_count": 42,
     "metadata": {},
     "output_type": "execute_result"
    }
   ],
   "source": [
    "matched_df.groupby(['year','month','tract']).size()"
   ]
  },
  {
   "cell_type": "code",
   "execution_count": 45,
   "id": "b1ac5465",
   "metadata": {},
   "outputs": [
    {
     "data": {
      "text/plain": [
       "year        2021\n",
       "month         12\n",
       "tract     985600\n",
       "deaths         8\n",
       "dtype: int64"
      ]
     },
     "execution_count": 45,
     "metadata": {},
     "output_type": "execute_result"
    }
   ],
   "source": [
    "deaths_per_tract_df.max()"
   ]
  },
  {
   "cell_type": "code",
   "execution_count": null,
   "id": "7af3d512",
   "metadata": {},
   "outputs": [],
   "source": []
  }
 ],
 "metadata": {
  "kernelspec": {
   "display_name": "Python 3",
   "language": "python",
   "name": "python3"
  },
  "language_info": {
   "codemirror_mode": {
    "name": "ipython",
    "version": 3
   },
   "file_extension": ".py",
   "mimetype": "text/x-python",
   "name": "python",
   "nbconvert_exporter": "python",
   "pygments_lexer": "ipython3",
   "version": "3.6.15"
  }
 },
 "nbformat": 4,
 "nbformat_minor": 5
}
