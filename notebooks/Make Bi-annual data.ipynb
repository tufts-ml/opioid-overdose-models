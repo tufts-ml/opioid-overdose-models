{
 "cells": [
  {
   "cell_type": "code",
   "execution_count": 3,
   "id": "7c2ba496",
   "metadata": {},
   "outputs": [],
   "source": [
    "%matplotlib inline\n",
    "#  disable transparency for gif making\n",
    "%config InlineBackend.print_figure_kwargs={'facecolor' : \"w\"}\n",
    "import os\n",
    "from glob import glob\n",
    "\n",
    "import numpy as np\n",
    "import pandas as pd\n",
    "idx = pd.IndexSlice\n",
    "import matplotlib.pyplot as plt\n",
    "import matplotlib.animation as animation\n",
    "from matplotlib.ticker import MaxNLocator\n",
    "\n",
    "import geopandas as gpd\n",
    "\n",
    "from sklearn.metrics import mean_absolute_error\n",
    "\n",
    "from sklearn.linear_model import LinearRegression\n",
    "from sklearn.neural_network import MLPRegressor\n",
    "\n",
    "import contextily as cx"
   ]
  },
  {
   "cell_type": "code",
   "execution_count": 4,
   "id": "e34dd0bc",
   "metadata": {},
   "outputs": [],
   "source": [
    "data_dir = '/cluster/tufts/hugheslab/datasets/NSF_OD/'\n",
    "svi_dir = os.path.join(data_dir,'SocialVulnerabilityIndex')\n",
    "result_dir = os.path.join(data_dir, 'results')\n",
    "mass_shapefile = os.path.join(data_dir,'shapefiles','MA_2021')"
   ]
  },
  {
   "cell_type": "code",
   "execution_count": 5,
   "id": "b5dc0d47",
   "metadata": {},
   "outputs": [],
   "source": [
    "svi_file = os.path.join(result_dir,'svi_month')\n",
    "svi_gdf = gpd.read_file(svi_file)"
   ]
  },
  {
   "cell_type": "code",
   "execution_count": 6,
   "id": "76480736",
   "metadata": {},
   "outputs": [],
   "source": [
    "svi_gdf = svi_gdf.rename(columns={'INTPTLAT':'lat', 'INTPTLON':'lon', 'GEOID':'grid_squar'})\n",
    "# Make lat and lon floats\n",
    "svi_gdf.loc[:, 'lat'] = svi_gdf.lat.astype(float)\n",
    "svi_gdf.loc[:, 'lon'] = svi_gdf.lon.astype(float)\n",
    "deaths_gdf = svi_gdf\n",
    "\n",
    "just_grid = deaths_gdf.loc[(deaths_gdf['year']==2000)&(deaths_gdf['month']==4), ['grid_squar','geometry', 'lat', 'lon']]\n"
   ]
  },
  {
   "cell_type": "code",
   "execution_count": 7,
   "id": "ce80e88e",
   "metadata": {},
   "outputs": [
    {
     "ename": "KeyboardInterrupt",
     "evalue": "",
     "output_type": "error",
     "traceback": [
      "\u001b[0;31m---------------------------------------------------------------------------\u001b[0m",
      "\u001b[0;31mKeyboardInterrupt\u001b[0m                         Traceback (most recent call last)",
      "\u001b[0;32m<ipython-input-7-1760d62d7251>\u001b[0m in \u001b[0;36m<module>\u001b[0;34m\u001b[0m\n\u001b[0;32m----> 1\u001b[0;31m \u001b[0mdeaths_gdf\u001b[0m \u001b[0;34m=\u001b[0m \u001b[0mdeaths_gdf\u001b[0m\u001b[0;34m.\u001b[0m\u001b[0mfillna\u001b[0m\u001b[0;34m(\u001b[0m\u001b[0mdeaths_gdf\u001b[0m\u001b[0;34m.\u001b[0m\u001b[0mmean\u001b[0m\u001b[0;34m(\u001b[0m\u001b[0;34m)\u001b[0m\u001b[0;34m)\u001b[0m\u001b[0;34m\u001b[0m\u001b[0;34m\u001b[0m\u001b[0m\n\u001b[0m\u001b[1;32m      2\u001b[0m \u001b[0mdeaths_gdf\u001b[0m \u001b[0;34m=\u001b[0m \u001b[0mdeaths_gdf\u001b[0m\u001b[0;34m.\u001b[0m\u001b[0mdrop_duplicates\u001b[0m\u001b[0;34m(\u001b[0m\u001b[0;34m[\u001b[0m\u001b[0;34m'grid_squar'\u001b[0m\u001b[0;34m,\u001b[0m\u001b[0;34m'year'\u001b[0m\u001b[0;34m,\u001b[0m\u001b[0;34m'month'\u001b[0m\u001b[0;34m,\u001b[0m\u001b[0;34m'deaths'\u001b[0m\u001b[0;34m]\u001b[0m\u001b[0;34m)\u001b[0m\u001b[0;34m\u001b[0m\u001b[0;34m\u001b[0m\u001b[0m\n",
      "\u001b[0;32m/cluster/tufts/hugheslab/kheuto01/miniconda3/envs/zigp_36/lib/python3.6/site-packages/pandas/core/generic.py\u001b[0m in \u001b[0;36mstat_func\u001b[0;34m(self, axis, skipna, level, numeric_only, **kwargs)\u001b[0m\n\u001b[1;32m  11473\u001b[0m             \u001b[0;32mreturn\u001b[0m \u001b[0mself\u001b[0m\u001b[0;34m.\u001b[0m\u001b[0m_agg_by_level\u001b[0m\u001b[0;34m(\u001b[0m\u001b[0mname\u001b[0m\u001b[0;34m,\u001b[0m \u001b[0maxis\u001b[0m\u001b[0;34m=\u001b[0m\u001b[0maxis\u001b[0m\u001b[0;34m,\u001b[0m \u001b[0mlevel\u001b[0m\u001b[0;34m=\u001b[0m\u001b[0mlevel\u001b[0m\u001b[0;34m,\u001b[0m \u001b[0mskipna\u001b[0m\u001b[0;34m=\u001b[0m\u001b[0mskipna\u001b[0m\u001b[0;34m)\u001b[0m\u001b[0;34m\u001b[0m\u001b[0;34m\u001b[0m\u001b[0m\n\u001b[1;32m  11474\u001b[0m         return self._reduce(\n\u001b[0;32m> 11475\u001b[0;31m             \u001b[0mfunc\u001b[0m\u001b[0;34m,\u001b[0m \u001b[0mname\u001b[0m\u001b[0;34m=\u001b[0m\u001b[0mname\u001b[0m\u001b[0;34m,\u001b[0m \u001b[0maxis\u001b[0m\u001b[0;34m=\u001b[0m\u001b[0maxis\u001b[0m\u001b[0;34m,\u001b[0m \u001b[0mskipna\u001b[0m\u001b[0;34m=\u001b[0m\u001b[0mskipna\u001b[0m\u001b[0;34m,\u001b[0m \u001b[0mnumeric_only\u001b[0m\u001b[0;34m=\u001b[0m\u001b[0mnumeric_only\u001b[0m\u001b[0;34m\u001b[0m\u001b[0;34m\u001b[0m\u001b[0m\n\u001b[0m\u001b[1;32m  11476\u001b[0m         )\n\u001b[1;32m  11477\u001b[0m \u001b[0;34m\u001b[0m\u001b[0m\n",
      "\u001b[0;32m/cluster/tufts/hugheslab/kheuto01/miniconda3/envs/zigp_36/lib/python3.6/site-packages/pandas/core/frame.py\u001b[0m in \u001b[0;36m_reduce\u001b[0;34m(self, op, name, axis, skipna, numeric_only, filter_type, **kwds)\u001b[0m\n\u001b[1;32m   8642\u001b[0m                     \u001b[0mself\u001b[0m\u001b[0;34m,\u001b[0m \u001b[0mfunc\u001b[0m\u001b[0;34m=\u001b[0m\u001b[0mfunc\u001b[0m\u001b[0;34m,\u001b[0m \u001b[0mresult_type\u001b[0m\u001b[0;34m=\u001b[0m\u001b[0;34m\"expand\"\u001b[0m\u001b[0;34m,\u001b[0m \u001b[0mignore_failures\u001b[0m\u001b[0;34m=\u001b[0m\u001b[0;32mTrue\u001b[0m\u001b[0;34m\u001b[0m\u001b[0;34m\u001b[0m\u001b[0m\n\u001b[1;32m   8643\u001b[0m                 )\n\u001b[0;32m-> 8644\u001b[0;31m                 \u001b[0mresult\u001b[0m \u001b[0;34m=\u001b[0m \u001b[0mopa\u001b[0m\u001b[0;34m.\u001b[0m\u001b[0mget_result\u001b[0m\u001b[0;34m(\u001b[0m\u001b[0;34m)\u001b[0m\u001b[0;34m\u001b[0m\u001b[0;34m\u001b[0m\u001b[0m\n\u001b[0m\u001b[1;32m   8645\u001b[0m                 \u001b[0;32mif\u001b[0m \u001b[0mresult\u001b[0m\u001b[0;34m.\u001b[0m\u001b[0mndim\u001b[0m \u001b[0;34m==\u001b[0m \u001b[0mself\u001b[0m\u001b[0;34m.\u001b[0m\u001b[0mndim\u001b[0m\u001b[0;34m:\u001b[0m\u001b[0;34m\u001b[0m\u001b[0;34m\u001b[0m\u001b[0m\n\u001b[1;32m   8646\u001b[0m                     \u001b[0mresult\u001b[0m \u001b[0;34m=\u001b[0m \u001b[0mresult\u001b[0m\u001b[0;34m.\u001b[0m\u001b[0miloc\u001b[0m\u001b[0;34m[\u001b[0m\u001b[0;36m0\u001b[0m\u001b[0;34m]\u001b[0m\u001b[0;34m.\u001b[0m\u001b[0mrename\u001b[0m\u001b[0;34m(\u001b[0m\u001b[0;32mNone\u001b[0m\u001b[0;34m)\u001b[0m\u001b[0;34m\u001b[0m\u001b[0;34m\u001b[0m\u001b[0m\n",
      "\u001b[0;32m/cluster/tufts/hugheslab/kheuto01/miniconda3/envs/zigp_36/lib/python3.6/site-packages/pandas/core/apply.py\u001b[0m in \u001b[0;36mget_result\u001b[0;34m(self)\u001b[0m\n\u001b[1;32m    183\u001b[0m             \u001b[0;32mreturn\u001b[0m \u001b[0mself\u001b[0m\u001b[0;34m.\u001b[0m\u001b[0mapply_raw\u001b[0m\u001b[0;34m(\u001b[0m\u001b[0;34m)\u001b[0m\u001b[0;34m\u001b[0m\u001b[0;34m\u001b[0m\u001b[0m\n\u001b[1;32m    184\u001b[0m \u001b[0;34m\u001b[0m\u001b[0m\n\u001b[0;32m--> 185\u001b[0;31m         \u001b[0;32mreturn\u001b[0m \u001b[0mself\u001b[0m\u001b[0;34m.\u001b[0m\u001b[0mapply_standard\u001b[0m\u001b[0;34m(\u001b[0m\u001b[0;34m)\u001b[0m\u001b[0;34m\u001b[0m\u001b[0;34m\u001b[0m\u001b[0m\n\u001b[0m\u001b[1;32m    186\u001b[0m \u001b[0;34m\u001b[0m\u001b[0m\n\u001b[1;32m    187\u001b[0m     \u001b[0;32mdef\u001b[0m \u001b[0mapply_empty_result\u001b[0m\u001b[0;34m(\u001b[0m\u001b[0mself\u001b[0m\u001b[0;34m)\u001b[0m\u001b[0;34m:\u001b[0m\u001b[0;34m\u001b[0m\u001b[0;34m\u001b[0m\u001b[0m\n",
      "\u001b[0;32m/cluster/tufts/hugheslab/kheuto01/miniconda3/envs/zigp_36/lib/python3.6/site-packages/pandas/core/apply.py\u001b[0m in \u001b[0;36mapply_standard\u001b[0;34m(self)\u001b[0m\n\u001b[1;32m    274\u001b[0m \u001b[0;34m\u001b[0m\u001b[0m\n\u001b[1;32m    275\u001b[0m     \u001b[0;32mdef\u001b[0m \u001b[0mapply_standard\u001b[0m\u001b[0;34m(\u001b[0m\u001b[0mself\u001b[0m\u001b[0;34m)\u001b[0m\u001b[0;34m:\u001b[0m\u001b[0;34m\u001b[0m\u001b[0;34m\u001b[0m\u001b[0m\n\u001b[0;32m--> 276\u001b[0;31m         \u001b[0mresults\u001b[0m\u001b[0;34m,\u001b[0m \u001b[0mres_index\u001b[0m \u001b[0;34m=\u001b[0m \u001b[0mself\u001b[0m\u001b[0;34m.\u001b[0m\u001b[0mapply_series_generator\u001b[0m\u001b[0;34m(\u001b[0m\u001b[0;34m)\u001b[0m\u001b[0;34m\u001b[0m\u001b[0;34m\u001b[0m\u001b[0m\n\u001b[0m\u001b[1;32m    277\u001b[0m \u001b[0;34m\u001b[0m\u001b[0m\n\u001b[1;32m    278\u001b[0m         \u001b[0;31m# wrap results\u001b[0m\u001b[0;34m\u001b[0m\u001b[0;34m\u001b[0m\u001b[0;34m\u001b[0m\u001b[0m\n",
      "\u001b[0;32m/cluster/tufts/hugheslab/kheuto01/miniconda3/envs/zigp_36/lib/python3.6/site-packages/pandas/core/apply.py\u001b[0m in \u001b[0;36mapply_series_generator\u001b[0;34m(self)\u001b[0m\n\u001b[1;32m    289\u001b[0m             \u001b[0;32mfor\u001b[0m \u001b[0mi\u001b[0m\u001b[0;34m,\u001b[0m \u001b[0mv\u001b[0m \u001b[0;32min\u001b[0m \u001b[0menumerate\u001b[0m\u001b[0;34m(\u001b[0m\u001b[0mseries_gen\u001b[0m\u001b[0;34m)\u001b[0m\u001b[0;34m:\u001b[0m\u001b[0;34m\u001b[0m\u001b[0;34m\u001b[0m\u001b[0m\n\u001b[1;32m    290\u001b[0m                 \u001b[0;32mtry\u001b[0m\u001b[0;34m:\u001b[0m\u001b[0;34m\u001b[0m\u001b[0;34m\u001b[0m\u001b[0m\n\u001b[0;32m--> 291\u001b[0;31m                     \u001b[0mresults\u001b[0m\u001b[0;34m[\u001b[0m\u001b[0mi\u001b[0m\u001b[0;34m]\u001b[0m \u001b[0;34m=\u001b[0m \u001b[0mself\u001b[0m\u001b[0;34m.\u001b[0m\u001b[0mf\u001b[0m\u001b[0;34m(\u001b[0m\u001b[0mv\u001b[0m\u001b[0;34m)\u001b[0m\u001b[0;34m\u001b[0m\u001b[0;34m\u001b[0m\u001b[0m\n\u001b[0m\u001b[1;32m    292\u001b[0m                 \u001b[0;32mexcept\u001b[0m \u001b[0mException\u001b[0m\u001b[0;34m:\u001b[0m\u001b[0;34m\u001b[0m\u001b[0;34m\u001b[0m\u001b[0m\n\u001b[1;32m    293\u001b[0m                     \u001b[0;32mpass\u001b[0m\u001b[0;34m\u001b[0m\u001b[0;34m\u001b[0m\u001b[0m\n",
      "\u001b[0;32m/cluster/tufts/hugheslab/kheuto01/miniconda3/envs/zigp_36/lib/python3.6/site-packages/pandas/core/frame.py\u001b[0m in \u001b[0;36mfunc\u001b[0;34m(values)\u001b[0m\n\u001b[1;32m   8573\u001b[0m                 \u001b[0;32mreturn\u001b[0m \u001b[0mextract_array\u001b[0m\u001b[0;34m(\u001b[0m\u001b[0mvalues\u001b[0m\u001b[0;34m)\u001b[0m\u001b[0;34m.\u001b[0m\u001b[0m_reduce\u001b[0m\u001b[0;34m(\u001b[0m\u001b[0mname\u001b[0m\u001b[0;34m,\u001b[0m \u001b[0mskipna\u001b[0m\u001b[0;34m=\u001b[0m\u001b[0mskipna\u001b[0m\u001b[0;34m,\u001b[0m \u001b[0;34m**\u001b[0m\u001b[0mkwds\u001b[0m\u001b[0;34m)\u001b[0m\u001b[0;34m\u001b[0m\u001b[0;34m\u001b[0m\u001b[0m\n\u001b[1;32m   8574\u001b[0m             \u001b[0;32melse\u001b[0m\u001b[0;34m:\u001b[0m\u001b[0;34m\u001b[0m\u001b[0;34m\u001b[0m\u001b[0m\n\u001b[0;32m-> 8575\u001b[0;31m                 \u001b[0;32mreturn\u001b[0m \u001b[0mop\u001b[0m\u001b[0;34m(\u001b[0m\u001b[0mvalues\u001b[0m\u001b[0;34m,\u001b[0m \u001b[0maxis\u001b[0m\u001b[0;34m=\u001b[0m\u001b[0maxis\u001b[0m\u001b[0;34m,\u001b[0m \u001b[0mskipna\u001b[0m\u001b[0;34m=\u001b[0m\u001b[0mskipna\u001b[0m\u001b[0;34m,\u001b[0m \u001b[0;34m**\u001b[0m\u001b[0mkwds\u001b[0m\u001b[0;34m)\u001b[0m\u001b[0;34m\u001b[0m\u001b[0;34m\u001b[0m\u001b[0m\n\u001b[0m\u001b[1;32m   8576\u001b[0m \u001b[0;34m\u001b[0m\u001b[0m\n\u001b[1;32m   8577\u001b[0m         \u001b[0;32mdef\u001b[0m \u001b[0m_get_data\u001b[0m\u001b[0;34m(\u001b[0m\u001b[0maxis_matters\u001b[0m\u001b[0;34m)\u001b[0m\u001b[0;34m:\u001b[0m\u001b[0;34m\u001b[0m\u001b[0;34m\u001b[0m\u001b[0m\n",
      "\u001b[0;32m/cluster/tufts/hugheslab/kheuto01/miniconda3/envs/zigp_36/lib/python3.6/site-packages/pandas/core/nanops.py\u001b[0m in \u001b[0;36m_f\u001b[0;34m(*args, **kwargs)\u001b[0m\n\u001b[1;32m     69\u001b[0m             \u001b[0;32mtry\u001b[0m\u001b[0;34m:\u001b[0m\u001b[0;34m\u001b[0m\u001b[0;34m\u001b[0m\u001b[0m\n\u001b[1;32m     70\u001b[0m                 \u001b[0;32mwith\u001b[0m \u001b[0mnp\u001b[0m\u001b[0;34m.\u001b[0m\u001b[0merrstate\u001b[0m\u001b[0;34m(\u001b[0m\u001b[0minvalid\u001b[0m\u001b[0;34m=\u001b[0m\u001b[0;34m\"ignore\"\u001b[0m\u001b[0;34m)\u001b[0m\u001b[0;34m:\u001b[0m\u001b[0;34m\u001b[0m\u001b[0;34m\u001b[0m\u001b[0m\n\u001b[0;32m---> 71\u001b[0;31m                     \u001b[0;32mreturn\u001b[0m \u001b[0mf\u001b[0m\u001b[0;34m(\u001b[0m\u001b[0;34m*\u001b[0m\u001b[0margs\u001b[0m\u001b[0;34m,\u001b[0m \u001b[0;34m**\u001b[0m\u001b[0mkwargs\u001b[0m\u001b[0;34m)\u001b[0m\u001b[0;34m\u001b[0m\u001b[0;34m\u001b[0m\u001b[0m\n\u001b[0m\u001b[1;32m     72\u001b[0m             \u001b[0;32mexcept\u001b[0m \u001b[0mValueError\u001b[0m \u001b[0;32mas\u001b[0m \u001b[0me\u001b[0m\u001b[0;34m:\u001b[0m\u001b[0;34m\u001b[0m\u001b[0;34m\u001b[0m\u001b[0m\n\u001b[1;32m     73\u001b[0m                 \u001b[0;31m# we want to transform an object array\u001b[0m\u001b[0;34m\u001b[0m\u001b[0;34m\u001b[0m\u001b[0;34m\u001b[0m\u001b[0m\n",
      "\u001b[0;32m/cluster/tufts/hugheslab/kheuto01/miniconda3/envs/zigp_36/lib/python3.6/site-packages/pandas/core/nanops.py\u001b[0m in \u001b[0;36mf\u001b[0;34m(values, axis, skipna, **kwds)\u001b[0m\n\u001b[1;32m    127\u001b[0m                     \u001b[0mresult\u001b[0m \u001b[0;34m=\u001b[0m \u001b[0malt\u001b[0m\u001b[0;34m(\u001b[0m\u001b[0mvalues\u001b[0m\u001b[0;34m,\u001b[0m \u001b[0maxis\u001b[0m\u001b[0;34m=\u001b[0m\u001b[0maxis\u001b[0m\u001b[0;34m,\u001b[0m \u001b[0mskipna\u001b[0m\u001b[0;34m=\u001b[0m\u001b[0mskipna\u001b[0m\u001b[0;34m,\u001b[0m \u001b[0;34m**\u001b[0m\u001b[0mkwds\u001b[0m\u001b[0;34m)\u001b[0m\u001b[0;34m\u001b[0m\u001b[0;34m\u001b[0m\u001b[0m\n\u001b[1;32m    128\u001b[0m             \u001b[0;32melse\u001b[0m\u001b[0;34m:\u001b[0m\u001b[0;34m\u001b[0m\u001b[0;34m\u001b[0m\u001b[0m\n\u001b[0;32m--> 129\u001b[0;31m                 \u001b[0mresult\u001b[0m \u001b[0;34m=\u001b[0m \u001b[0malt\u001b[0m\u001b[0;34m(\u001b[0m\u001b[0mvalues\u001b[0m\u001b[0;34m,\u001b[0m \u001b[0maxis\u001b[0m\u001b[0;34m=\u001b[0m\u001b[0maxis\u001b[0m\u001b[0;34m,\u001b[0m \u001b[0mskipna\u001b[0m\u001b[0;34m=\u001b[0m\u001b[0mskipna\u001b[0m\u001b[0;34m,\u001b[0m \u001b[0;34m**\u001b[0m\u001b[0mkwds\u001b[0m\u001b[0;34m)\u001b[0m\u001b[0;34m\u001b[0m\u001b[0;34m\u001b[0m\u001b[0m\n\u001b[0m\u001b[1;32m    130\u001b[0m \u001b[0;34m\u001b[0m\u001b[0m\n\u001b[1;32m    131\u001b[0m             \u001b[0;32mreturn\u001b[0m \u001b[0mresult\u001b[0m\u001b[0;34m\u001b[0m\u001b[0;34m\u001b[0m\u001b[0m\n",
      "\u001b[0;32m/cluster/tufts/hugheslab/kheuto01/miniconda3/envs/zigp_36/lib/python3.6/site-packages/pandas/core/nanops.py\u001b[0m in \u001b[0;36mnanmean\u001b[0;34m(values, axis, skipna, mask)\u001b[0m\n\u001b[1;32m    561\u001b[0m         \u001b[0mdtype_count\u001b[0m \u001b[0;34m=\u001b[0m \u001b[0mdtype\u001b[0m\u001b[0;34m\u001b[0m\u001b[0;34m\u001b[0m\u001b[0m\n\u001b[1;32m    562\u001b[0m     \u001b[0mcount\u001b[0m \u001b[0;34m=\u001b[0m \u001b[0m_get_counts\u001b[0m\u001b[0;34m(\u001b[0m\u001b[0mvalues\u001b[0m\u001b[0;34m.\u001b[0m\u001b[0mshape\u001b[0m\u001b[0;34m,\u001b[0m \u001b[0mmask\u001b[0m\u001b[0;34m,\u001b[0m \u001b[0maxis\u001b[0m\u001b[0;34m,\u001b[0m \u001b[0mdtype\u001b[0m\u001b[0;34m=\u001b[0m\u001b[0mdtype_count\u001b[0m\u001b[0;34m)\u001b[0m\u001b[0;34m\u001b[0m\u001b[0;34m\u001b[0m\u001b[0m\n\u001b[0;32m--> 563\u001b[0;31m     \u001b[0mthe_sum\u001b[0m \u001b[0;34m=\u001b[0m \u001b[0m_ensure_numeric\u001b[0m\u001b[0;34m(\u001b[0m\u001b[0mvalues\u001b[0m\u001b[0;34m.\u001b[0m\u001b[0msum\u001b[0m\u001b[0;34m(\u001b[0m\u001b[0maxis\u001b[0m\u001b[0;34m,\u001b[0m \u001b[0mdtype\u001b[0m\u001b[0;34m=\u001b[0m\u001b[0mdtype_sum\u001b[0m\u001b[0;34m)\u001b[0m\u001b[0;34m)\u001b[0m\u001b[0;34m\u001b[0m\u001b[0;34m\u001b[0m\u001b[0m\n\u001b[0m\u001b[1;32m    564\u001b[0m \u001b[0;34m\u001b[0m\u001b[0m\n\u001b[1;32m    565\u001b[0m     \u001b[0;32mif\u001b[0m \u001b[0maxis\u001b[0m \u001b[0;32mis\u001b[0m \u001b[0;32mnot\u001b[0m \u001b[0;32mNone\u001b[0m \u001b[0;32mand\u001b[0m \u001b[0mgetattr\u001b[0m\u001b[0;34m(\u001b[0m\u001b[0mthe_sum\u001b[0m\u001b[0;34m,\u001b[0m \u001b[0;34m\"ndim\"\u001b[0m\u001b[0;34m,\u001b[0m \u001b[0;32mFalse\u001b[0m\u001b[0;34m)\u001b[0m\u001b[0;34m:\u001b[0m\u001b[0;34m\u001b[0m\u001b[0;34m\u001b[0m\u001b[0m\n",
      "\u001b[0;32m/cluster/tufts/hugheslab/kheuto01/miniconda3/envs/zigp_36/lib/python3.6/site-packages/numpy/core/_methods.py\u001b[0m in \u001b[0;36m_sum\u001b[0;34m(a, axis, dtype, out, keepdims, initial, where)\u001b[0m\n\u001b[1;32m     45\u001b[0m def _sum(a, axis=None, dtype=None, out=None, keepdims=False,\n\u001b[1;32m     46\u001b[0m          initial=_NoValue, where=True):\n\u001b[0;32m---> 47\u001b[0;31m     \u001b[0;32mreturn\u001b[0m \u001b[0mumr_sum\u001b[0m\u001b[0;34m(\u001b[0m\u001b[0ma\u001b[0m\u001b[0;34m,\u001b[0m \u001b[0maxis\u001b[0m\u001b[0;34m,\u001b[0m \u001b[0mdtype\u001b[0m\u001b[0;34m,\u001b[0m \u001b[0mout\u001b[0m\u001b[0;34m,\u001b[0m \u001b[0mkeepdims\u001b[0m\u001b[0;34m,\u001b[0m \u001b[0minitial\u001b[0m\u001b[0;34m,\u001b[0m \u001b[0mwhere\u001b[0m\u001b[0;34m)\u001b[0m\u001b[0;34m\u001b[0m\u001b[0;34m\u001b[0m\u001b[0m\n\u001b[0m\u001b[1;32m     48\u001b[0m \u001b[0;34m\u001b[0m\u001b[0m\n\u001b[1;32m     49\u001b[0m def _prod(a, axis=None, dtype=None, out=None, keepdims=False,\n",
      "\u001b[0;31mKeyboardInterrupt\u001b[0m: "
     ]
    }
   ],
   "source": [
    "deaths_gdf = deaths_gdf.fillna(deaths_gdf.mean())\n",
    "deaths_gdf = deaths_gdf.drop_duplicates(['grid_squar','year','month','deaths'])"
   ]
  },
  {
   "cell_type": "code",
   "execution_count": 8,
   "id": "e8825302",
   "metadata": {},
   "outputs": [],
   "source": [
    "# Make lat and lon floats\n",
    "deaths_gdf.loc[:, 'lat'] = deaths_gdf.lat.astype(float)\n",
    "deaths_gdf.loc[:, 'lon'] = deaths_gdf.lon.astype(float)"
   ]
  },
  {
   "cell_type": "code",
   "execution_count": 9,
   "id": "17e0a0ef",
   "metadata": {},
   "outputs": [],
   "source": [
    "deaths_gdf = deaths_gdf.set_index(['grid_squar','year','month']).sort_index()"
   ]
  },
  {
   "cell_type": "code",
   "execution_count": 10,
   "id": "aa35f677",
   "metadata": {},
   "outputs": [
    {
     "data": {
      "text/plain": [
       "8.0"
      ]
     },
     "execution_count": 10,
     "metadata": {},
     "output_type": "execute_result"
    }
   ],
   "source": [
    "deaths_gdf.deaths.max()"
   ]
  },
  {
   "cell_type": "code",
   "execution_count": 11,
   "id": "38403b75",
   "metadata": {},
   "outputs": [
    {
     "data": {
      "text/plain": [
       "Text(0.5, 1.0, \"Monthly Deaths: 95.16% 0's, 4.59% 1's\")"
      ]
     },
     "execution_count": 11,
     "metadata": {},
     "output_type": "execute_result"
    },
    {
     "data": {
      "image/png": "[encoded data removed]",
      "text/plain": [
       "<Figure size 432x288 with 1 Axes>"
      ]
     },
     "metadata": {
      "needs_background": "light"
     },
     "output_type": "display_data"
    }
   ],
   "source": [
    "counts,_,_ = plt.hist(deaths_gdf['deaths'], bins=int(deaths_gdf.deaths.max()+1))\n",
    "plt.title(f\"Monthly Deaths: {counts[0]/sum(counts)*100:.2f}% 0's, {counts[1]/sum(counts)*100:.2f}% 1's\")"
   ]
  },
  {
   "cell_type": "code",
   "execution_count": 12,
   "id": "19916e83",
   "metadata": {},
   "outputs": [],
   "source": [
    "timestep = 0\n",
    "\n",
    "for year in range(2000, 2021+1):\n",
    "    for month in range(1, 12+1):\n",
    "        deaths_gdf.loc[idx[:,year, month], 'timestep'] = timestep\n",
    "        timestep+=1\n",
    "        \n"
   ]
  },
  {
   "cell_type": "code",
   "execution_count": 13,
   "id": "96bc6226",
   "metadata": {},
   "outputs": [],
   "source": [
    "deaths_gdf = deaths_gdf.reset_index().set_index(['grid_squar', 'timestep'])\n",
    "min_timestep = 0\n",
    "max_timestep = 263"
   ]
  },
  {
   "cell_type": "code",
   "execution_count": 14,
   "id": "4582c6b9",
   "metadata": {},
   "outputs": [],
   "source": [
    "deaths_through_2010 = deaths_gdf.loc[idx[:,:131],:]"
   ]
  },
  {
   "cell_type": "code",
   "execution_count": 15,
   "id": "15c800c6",
   "metadata": {},
   "outputs": [
    {
     "data": {
      "text/html": [
       "<div>\n",
       "<style scoped>\n",
       "    .dataframe tbody tr th:only-of-type {\n",
       "        vertical-align: middle;\n",
       "    }\n",
       "\n",
       "    .dataframe tbody tr th {\n",
       "        vertical-align: top;\n",
       "    }\n",
       "\n",
       "    .dataframe thead th {\n",
       "        text-align: right;\n",
       "    }\n",
       "</style>\n",
       "<table border=\"1\" class=\"dataframe\">\n",
       "  <thead>\n",
       "    <tr style=\"text-align: right;\">\n",
       "      <th></th>\n",
       "      <th></th>\n",
       "      <th>year</th>\n",
       "      <th>month</th>\n",
       "      <th>STATEFP</th>\n",
       "      <th>COUNTYFP</th>\n",
       "      <th>TRACTCE</th>\n",
       "      <th>NAME</th>\n",
       "      <th>NAMELSAD</th>\n",
       "      <th>MTFCC</th>\n",
       "      <th>FUNCSTAT</th>\n",
       "      <th>ALAND</th>\n",
       "      <th>...</th>\n",
       "      <th>theme_1_pc</th>\n",
       "      <th>theme_2_pc</th>\n",
       "      <th>theme_3_pc</th>\n",
       "      <th>theme_4_pc</th>\n",
       "      <th>svi_pctile</th>\n",
       "      <th>FIPS</th>\n",
       "      <th>ROUNDED_TR</th>\n",
       "      <th>ROUNDED__1</th>\n",
       "      <th>TRACTCE_y</th>\n",
       "      <th>geometry</th>\n",
       "    </tr>\n",
       "    <tr>\n",
       "      <th>grid_squar</th>\n",
       "      <th>timestep</th>\n",
       "      <th></th>\n",
       "      <th></th>\n",
       "      <th></th>\n",
       "      <th></th>\n",
       "      <th></th>\n",
       "      <th></th>\n",
       "      <th></th>\n",
       "      <th></th>\n",
       "      <th></th>\n",
       "      <th></th>\n",
       "      <th></th>\n",
       "      <th></th>\n",
       "      <th></th>\n",
       "      <th></th>\n",
       "      <th></th>\n",
       "      <th></th>\n",
       "      <th></th>\n",
       "      <th></th>\n",
       "      <th></th>\n",
       "      <th></th>\n",
       "      <th></th>\n",
       "    </tr>\n",
       "  </thead>\n",
       "  <tbody>\n",
       "    <tr>\n",
       "      <th rowspan=\"5\" valign=\"top\">25001010100</th>\n",
       "      <th>0.0</th>\n",
       "      <td>2000</td>\n",
       "      <td>1</td>\n",
       "      <td>25</td>\n",
       "      <td>001</td>\n",
       "      <td>10100</td>\n",
       "      <td>101</td>\n",
       "      <td>Census Tract 101</td>\n",
       "      <td>G5020</td>\n",
       "      <td>S</td>\n",
       "      <td>25046216</td>\n",
       "      <td>...</td>\n",
       "      <td>0.7270</td>\n",
       "      <td>0.2972</td>\n",
       "      <td>0.5268</td>\n",
       "      <td>0.6872</td>\n",
       "      <td>0.6230</td>\n",
       "      <td>25001010100</td>\n",
       "      <td>None</td>\n",
       "      <td>None</td>\n",
       "      <td>None</td>\n",
       "      <td>POLYGON ((-70.25001 42.06410, -70.24959 42.065...</td>\n",
       "    </tr>\n",
       "    <tr>\n",
       "      <th>1.0</th>\n",
       "      <td>2000</td>\n",
       "      <td>2</td>\n",
       "      <td>25</td>\n",
       "      <td>001</td>\n",
       "      <td>10100</td>\n",
       "      <td>101</td>\n",
       "      <td>Census Tract 101</td>\n",
       "      <td>G5020</td>\n",
       "      <td>S</td>\n",
       "      <td>25046216</td>\n",
       "      <td>...</td>\n",
       "      <td>0.7270</td>\n",
       "      <td>0.2972</td>\n",
       "      <td>0.5268</td>\n",
       "      <td>0.6872</td>\n",
       "      <td>0.6230</td>\n",
       "      <td>25001010100</td>\n",
       "      <td>None</td>\n",
       "      <td>None</td>\n",
       "      <td>None</td>\n",
       "      <td>POLYGON ((-70.25001 42.06410, -70.24959 42.065...</td>\n",
       "    </tr>\n",
       "    <tr>\n",
       "      <th>2.0</th>\n",
       "      <td>2000</td>\n",
       "      <td>3</td>\n",
       "      <td>25</td>\n",
       "      <td>001</td>\n",
       "      <td>10100</td>\n",
       "      <td>101</td>\n",
       "      <td>Census Tract 101</td>\n",
       "      <td>G5020</td>\n",
       "      <td>S</td>\n",
       "      <td>25046216</td>\n",
       "      <td>...</td>\n",
       "      <td>0.7270</td>\n",
       "      <td>0.2972</td>\n",
       "      <td>0.5268</td>\n",
       "      <td>0.6872</td>\n",
       "      <td>0.6230</td>\n",
       "      <td>25001010100</td>\n",
       "      <td>None</td>\n",
       "      <td>None</td>\n",
       "      <td>None</td>\n",
       "      <td>POLYGON ((-70.25001 42.06410, -70.24959 42.065...</td>\n",
       "    </tr>\n",
       "    <tr>\n",
       "      <th>3.0</th>\n",
       "      <td>2000</td>\n",
       "      <td>4</td>\n",
       "      <td>25</td>\n",
       "      <td>001</td>\n",
       "      <td>10100</td>\n",
       "      <td>101</td>\n",
       "      <td>Census Tract 101</td>\n",
       "      <td>G5020</td>\n",
       "      <td>S</td>\n",
       "      <td>25046216</td>\n",
       "      <td>...</td>\n",
       "      <td>0.7270</td>\n",
       "      <td>0.2972</td>\n",
       "      <td>0.5268</td>\n",
       "      <td>0.6872</td>\n",
       "      <td>0.6230</td>\n",
       "      <td>25001010100</td>\n",
       "      <td>None</td>\n",
       "      <td>None</td>\n",
       "      <td>None</td>\n",
       "      <td>POLYGON ((-70.25001 42.06410, -70.24959 42.065...</td>\n",
       "    </tr>\n",
       "    <tr>\n",
       "      <th>4.0</th>\n",
       "      <td>2000</td>\n",
       "      <td>5</td>\n",
       "      <td>25</td>\n",
       "      <td>001</td>\n",
       "      <td>10100</td>\n",
       "      <td>101</td>\n",
       "      <td>Census Tract 101</td>\n",
       "      <td>G5020</td>\n",
       "      <td>S</td>\n",
       "      <td>25046216</td>\n",
       "      <td>...</td>\n",
       "      <td>0.7270</td>\n",
       "      <td>0.2972</td>\n",
       "      <td>0.5268</td>\n",
       "      <td>0.6872</td>\n",
       "      <td>0.6230</td>\n",
       "      <td>25001010100</td>\n",
       "      <td>None</td>\n",
       "      <td>None</td>\n",
       "      <td>None</td>\n",
       "      <td>POLYGON ((-70.25001 42.06410, -70.24959 42.065...</td>\n",
       "    </tr>\n",
       "    <tr>\n",
       "      <th>...</th>\n",
       "      <th>...</th>\n",
       "      <td>...</td>\n",
       "      <td>...</td>\n",
       "      <td>...</td>\n",
       "      <td>...</td>\n",
       "      <td>...</td>\n",
       "      <td>...</td>\n",
       "      <td>...</td>\n",
       "      <td>...</td>\n",
       "      <td>...</td>\n",
       "      <td>...</td>\n",
       "      <td>...</td>\n",
       "      <td>...</td>\n",
       "      <td>...</td>\n",
       "      <td>...</td>\n",
       "      <td>...</td>\n",
       "      <td>...</td>\n",
       "      <td>...</td>\n",
       "      <td>...</td>\n",
       "      <td>...</td>\n",
       "      <td>...</td>\n",
       "      <td>...</td>\n",
       "    </tr>\n",
       "    <tr>\n",
       "      <th rowspan=\"5\" valign=\"top\">25027761402</th>\n",
       "      <th>127.0</th>\n",
       "      <td>2010</td>\n",
       "      <td>8</td>\n",
       "      <td>25</td>\n",
       "      <td>027</td>\n",
       "      <td>761402</td>\n",
       "      <td>7614.02</td>\n",
       "      <td>Census Tract 7614.02</td>\n",
       "      <td>G5020</td>\n",
       "      <td>S</td>\n",
       "      <td>25568170</td>\n",
       "      <td>...</td>\n",
       "      <td>0.2763</td>\n",
       "      <td>0.1430</td>\n",
       "      <td>0.4570</td>\n",
       "      <td>0.3040</td>\n",
       "      <td>0.2291</td>\n",
       "      <td>None</td>\n",
       "      <td>761400</td>\n",
       "      <td>761400</td>\n",
       "      <td>None</td>\n",
       "      <td>POLYGON ((-71.63921 42.53096, -71.63906 42.531...</td>\n",
       "    </tr>\n",
       "    <tr>\n",
       "      <th>128.0</th>\n",
       "      <td>2010</td>\n",
       "      <td>9</td>\n",
       "      <td>25</td>\n",
       "      <td>027</td>\n",
       "      <td>761402</td>\n",
       "      <td>7614.02</td>\n",
       "      <td>Census Tract 7614.02</td>\n",
       "      <td>G5020</td>\n",
       "      <td>S</td>\n",
       "      <td>25568170</td>\n",
       "      <td>...</td>\n",
       "      <td>0.2763</td>\n",
       "      <td>0.1430</td>\n",
       "      <td>0.4570</td>\n",
       "      <td>0.3040</td>\n",
       "      <td>0.2291</td>\n",
       "      <td>None</td>\n",
       "      <td>761400</td>\n",
       "      <td>761400</td>\n",
       "      <td>None</td>\n",
       "      <td>POLYGON ((-71.63921 42.53096, -71.63906 42.531...</td>\n",
       "    </tr>\n",
       "    <tr>\n",
       "      <th>129.0</th>\n",
       "      <td>2010</td>\n",
       "      <td>10</td>\n",
       "      <td>25</td>\n",
       "      <td>027</td>\n",
       "      <td>761402</td>\n",
       "      <td>7614.02</td>\n",
       "      <td>Census Tract 7614.02</td>\n",
       "      <td>G5020</td>\n",
       "      <td>S</td>\n",
       "      <td>25568170</td>\n",
       "      <td>...</td>\n",
       "      <td>0.2763</td>\n",
       "      <td>0.1430</td>\n",
       "      <td>0.4570</td>\n",
       "      <td>0.3040</td>\n",
       "      <td>0.2291</td>\n",
       "      <td>None</td>\n",
       "      <td>761400</td>\n",
       "      <td>761400</td>\n",
       "      <td>None</td>\n",
       "      <td>POLYGON ((-71.63921 42.53096, -71.63906 42.531...</td>\n",
       "    </tr>\n",
       "    <tr>\n",
       "      <th>130.0</th>\n",
       "      <td>2010</td>\n",
       "      <td>11</td>\n",
       "      <td>25</td>\n",
       "      <td>027</td>\n",
       "      <td>761402</td>\n",
       "      <td>7614.02</td>\n",
       "      <td>Census Tract 7614.02</td>\n",
       "      <td>G5020</td>\n",
       "      <td>S</td>\n",
       "      <td>25568170</td>\n",
       "      <td>...</td>\n",
       "      <td>0.2763</td>\n",
       "      <td>0.1430</td>\n",
       "      <td>0.4570</td>\n",
       "      <td>0.3040</td>\n",
       "      <td>0.2291</td>\n",
       "      <td>None</td>\n",
       "      <td>761400</td>\n",
       "      <td>761400</td>\n",
       "      <td>None</td>\n",
       "      <td>POLYGON ((-71.63921 42.53096, -71.63906 42.531...</td>\n",
       "    </tr>\n",
       "    <tr>\n",
       "      <th>131.0</th>\n",
       "      <td>2010</td>\n",
       "      <td>12</td>\n",
       "      <td>25</td>\n",
       "      <td>027</td>\n",
       "      <td>761402</td>\n",
       "      <td>7614.02</td>\n",
       "      <td>Census Tract 7614.02</td>\n",
       "      <td>G5020</td>\n",
       "      <td>S</td>\n",
       "      <td>25568170</td>\n",
       "      <td>...</td>\n",
       "      <td>0.2763</td>\n",
       "      <td>0.1430</td>\n",
       "      <td>0.4570</td>\n",
       "      <td>0.3040</td>\n",
       "      <td>0.2291</td>\n",
       "      <td>None</td>\n",
       "      <td>761400</td>\n",
       "      <td>761400</td>\n",
       "      <td>None</td>\n",
       "      <td>POLYGON ((-71.63921 42.53096, -71.63906 42.531...</td>\n",
       "    </tr>\n",
       "  </tbody>\n",
       "</table>\n",
       "<p>213840 rows × 25 columns</p>\n",
       "</div>"
      ],
      "text/plain": [
       "                      year  month STATEFP COUNTYFP TRACTCE     NAME  \\\n",
       "grid_squar  timestep                                                  \n",
       "25001010100 0.0       2000      1      25      001   10100      101   \n",
       "            1.0       2000      2      25      001   10100      101   \n",
       "            2.0       2000      3      25      001   10100      101   \n",
       "            3.0       2000      4      25      001   10100      101   \n",
       "            4.0       2000      5      25      001   10100      101   \n",
       "...                    ...    ...     ...      ...     ...      ...   \n",
       "25027761402 127.0     2010      8      25      027  761402  7614.02   \n",
       "            128.0     2010      9      25      027  761402  7614.02   \n",
       "            129.0     2010     10      25      027  761402  7614.02   \n",
       "            130.0     2010     11      25      027  761402  7614.02   \n",
       "            131.0     2010     12      25      027  761402  7614.02   \n",
       "\n",
       "                                  NAMELSAD  MTFCC FUNCSTAT     ALAND  ...  \\\n",
       "grid_squar  timestep                                                  ...   \n",
       "25001010100 0.0           Census Tract 101  G5020        S  25046216  ...   \n",
       "            1.0           Census Tract 101  G5020        S  25046216  ...   \n",
       "            2.0           Census Tract 101  G5020        S  25046216  ...   \n",
       "            3.0           Census Tract 101  G5020        S  25046216  ...   \n",
       "            4.0           Census Tract 101  G5020        S  25046216  ...   \n",
       "...                                    ...    ...      ...       ...  ...   \n",
       "25027761402 127.0     Census Tract 7614.02  G5020        S  25568170  ...   \n",
       "            128.0     Census Tract 7614.02  G5020        S  25568170  ...   \n",
       "            129.0     Census Tract 7614.02  G5020        S  25568170  ...   \n",
       "            130.0     Census Tract 7614.02  G5020        S  25568170  ...   \n",
       "            131.0     Census Tract 7614.02  G5020        S  25568170  ...   \n",
       "\n",
       "                      theme_1_pc  theme_2_pc  theme_3_pc  theme_4_pc  \\\n",
       "grid_squar  timestep                                                   \n",
       "25001010100 0.0           0.7270      0.2972      0.5268      0.6872   \n",
       "            1.0           0.7270      0.2972      0.5268      0.6872   \n",
       "            2.0           0.7270      0.2972      0.5268      0.6872   \n",
       "            3.0           0.7270      0.2972      0.5268      0.6872   \n",
       "            4.0           0.7270      0.2972      0.5268      0.6872   \n",
       "...                          ...         ...         ...         ...   \n",
       "25027761402 127.0         0.2763      0.1430      0.4570      0.3040   \n",
       "            128.0         0.2763      0.1430      0.4570      0.3040   \n",
       "            129.0         0.2763      0.1430      0.4570      0.3040   \n",
       "            130.0         0.2763      0.1430      0.4570      0.3040   \n",
       "            131.0         0.2763      0.1430      0.4570      0.3040   \n",
       "\n",
       "                      svi_pctile         FIPS  ROUNDED_TR  ROUNDED__1  \\\n",
       "grid_squar  timestep                                                    \n",
       "25001010100 0.0           0.6230  25001010100        None        None   \n",
       "            1.0           0.6230  25001010100        None        None   \n",
       "            2.0           0.6230  25001010100        None        None   \n",
       "            3.0           0.6230  25001010100        None        None   \n",
       "            4.0           0.6230  25001010100        None        None   \n",
       "...                          ...          ...         ...         ...   \n",
       "25027761402 127.0         0.2291         None      761400      761400   \n",
       "            128.0         0.2291         None      761400      761400   \n",
       "            129.0         0.2291         None      761400      761400   \n",
       "            130.0         0.2291         None      761400      761400   \n",
       "            131.0         0.2291         None      761400      761400   \n",
       "\n",
       "                      TRACTCE_y  \\\n",
       "grid_squar  timestep              \n",
       "25001010100 0.0            None   \n",
       "            1.0            None   \n",
       "            2.0            None   \n",
       "            3.0            None   \n",
       "            4.0            None   \n",
       "...                         ...   \n",
       "25027761402 127.0          None   \n",
       "            128.0          None   \n",
       "            129.0          None   \n",
       "            130.0          None   \n",
       "            131.0          None   \n",
       "\n",
       "                                                               geometry  \n",
       "grid_squar  timestep                                                     \n",
       "25001010100 0.0       POLYGON ((-70.25001 42.06410, -70.24959 42.065...  \n",
       "            1.0       POLYGON ((-70.25001 42.06410, -70.24959 42.065...  \n",
       "            2.0       POLYGON ((-70.25001 42.06410, -70.24959 42.065...  \n",
       "            3.0       POLYGON ((-70.25001 42.06410, -70.24959 42.065...  \n",
       "            4.0       POLYGON ((-70.25001 42.06410, -70.24959 42.065...  \n",
       "...                                                                 ...  \n",
       "25027761402 127.0     POLYGON ((-71.63921 42.53096, -71.63906 42.531...  \n",
       "            128.0     POLYGON ((-71.63921 42.53096, -71.63906 42.531...  \n",
       "            129.0     POLYGON ((-71.63921 42.53096, -71.63906 42.531...  \n",
       "            130.0     POLYGON ((-71.63921 42.53096, -71.63906 42.531...  \n",
       "            131.0     POLYGON ((-71.63921 42.53096, -71.63906 42.531...  \n",
       "\n",
       "[213840 rows x 25 columns]"
      ]
     },
     "execution_count": 15,
     "metadata": {},
     "output_type": "execute_result"
    }
   ],
   "source": [
    "deaths_through_2010\n"
   ]
  },
  {
   "cell_type": "code",
   "execution_count": 16,
   "id": "2e7dd811",
   "metadata": {},
   "outputs": [],
   "source": [
    "biggest_diff = 0\n",
    "least_sparsity=1\n",
    "season_length=6\n",
    "\n",
    "max_timestep = 263\n",
    "deaths_to_use = deaths_gdf\n",
    "\n",
    "for season_start in [7]:\n",
    "\n",
    "    curr_start = 0 \n",
    "    curr_season=0\n",
    "    season_name='one'\n",
    "    deaths_to_use.loc[idx[:, curr_start:curr_start+season_length-1], 'season'] = curr_season\n",
    "    deaths_to_use.loc[idx[:, curr_start:curr_start+season_length-1], 'season_name'] = season_name\n",
    "    \n",
    "    curr_start = season_start - 1\n",
    "    curr_season=1\n",
    "    season_name='two'\n",
    "    \n",
    "    while curr_start <= max_timestep:\n",
    "        deaths_to_use.loc[idx[:, curr_start:curr_start+season_length-1], 'season'] = curr_season\n",
    "        deaths_to_use.loc[idx[:, curr_start:curr_start+season_length-1], 'season_name'] = season_name\n",
    "        curr_season+=1\n",
    "        curr_start = curr_start + season_length\n",
    "        if season_name=='one':\n",
    "            season_name='two'\n",
    "        else:\n",
    "            season_name='one'\n",
    "            \n",
    "            \n",
    "    gap = deaths_to_use.reset_index().groupby('season_name').sum()['deaths'].diff()[-1]\n",
    "    if np.abs(gap) > biggest_diff:\n",
    "        biggest_diff = np.abs(gap)\n",
    "        biggest_gap_start = season_start\n",
    "        \n",
    "    sparsity = deaths_to_use.reset_index().groupby('deaths').count()['grid_squar']\n",
    "    num_0s = sparsity.loc[0]\n",
    "    sparsity = num_0s/len(deaths_to_use)\n",
    "    if sparsity < least_sparsity:\n",
    "        least_sparsity = sparsity\n",
    "        least_sparse_start= season_start\n",
    "        \n",
    "\n",
    "        \n",
    "        \n",
    "    "
   ]
  },
  {
   "cell_type": "code",
   "execution_count": 17,
   "id": "097e8190",
   "metadata": {},
   "outputs": [
    {
     "data": {
      "text/plain": [
       "7"
      ]
     },
     "execution_count": 17,
     "metadata": {},
     "output_type": "execute_result"
    }
   ],
   "source": [
    "biggest_gap_start"
   ]
  },
  {
   "cell_type": "code",
   "execution_count": 18,
   "id": "8cf8cbe0",
   "metadata": {},
   "outputs": [
    {
     "data": {
      "text/plain": [
       "7"
      ]
     },
     "execution_count": 18,
     "metadata": {},
     "output_type": "execute_result"
    }
   ],
   "source": [
    "least_sparse_start"
   ]
  },
  {
   "cell_type": "code",
   "execution_count": 19,
   "id": "9ec219bb",
   "metadata": {},
   "outputs": [
    {
     "data": {
      "text/plain": [
       "7"
      ]
     },
     "execution_count": 19,
     "metadata": {},
     "output_type": "execute_result"
    }
   ],
   "source": [
    "biggest_gap_start"
   ]
  },
  {
   "cell_type": "code",
   "execution_count": 20,
   "id": "64075d7d",
   "metadata": {},
   "outputs": [
    {
     "data": {
      "text/plain": [
       "36.0"
      ]
     },
     "execution_count": 20,
     "metadata": {},
     "output_type": "execute_result"
    }
   ],
   "source": [
    "biggest_diff"
   ]
  },
  {
   "cell_type": "code",
   "execution_count": 21,
   "id": "1e3c9b21",
   "metadata": {},
   "outputs": [
    {
     "data": {
      "text/plain": [
       "season_name\n",
       "one    10947.0\n",
       "two    10911.0\n",
       "Name: deaths, dtype: float64"
      ]
     },
     "execution_count": 21,
     "metadata": {},
     "output_type": "execute_result"
    }
   ],
   "source": [
    "deaths_to_use.reset_index().groupby('season_name').sum()['deaths']"
   ]
  },
  {
   "cell_type": "code",
   "execution_count": 22,
   "id": "639d0754",
   "metadata": {},
   "outputs": [
    {
     "data": {
      "text/plain": [
       "season_name\n",
       "one    10947.0\n",
       "two    10911.0\n",
       "Name: deaths, dtype: float64"
      ]
     },
     "execution_count": 22,
     "metadata": {},
     "output_type": "execute_result"
    }
   ],
   "source": [
    "deaths_gdf.reset_index().groupby('season_name').sum()['deaths']"
   ]
  },
  {
   "cell_type": "code",
   "execution_count": 23,
   "id": "7ffe8cc5",
   "metadata": {},
   "outputs": [
    {
     "data": {
      "text/plain": [
       "Text(0.5, 1.0, \"Bi-Annual Deaths: 76.68% 0's, 17.78% 1's\")"
      ]
     },
     "execution_count": 23,
     "metadata": {},
     "output_type": "execute_result"
    },
    {
     "data": {
      "image/png": "[encoded data removed]",
      "text/plain": [
       "<Figure size 432x288 with 1 Axes>"
      ]
     },
     "metadata": {
      "needs_background": "light"
     },
     "output_type": "display_data"
    }
   ],
   "source": [
    "counts,_,_ = plt.hist(deaths_to_use.reset_index().groupby(['grid_squar','season']).sum()['deaths'], bins=int(deaths_to_use['deaths'].max()+1))\n",
    "plt.title(f\"Bi-Annual Deaths: {counts[0]/sum(counts)*100:.2f}% 0's, {counts[1]/sum(counts)*100:.2f}% 1's\")"
   ]
  },
  {
   "cell_type": "code",
   "execution_count": 24,
   "id": "a6ceeac5",
   "metadata": {},
   "outputs": [
    {
     "data": {
      "text/plain": [
       "Text(0.5, 1.0, \"Quarterly Deaths: 76.68% 0's, 17.78% 1's\")"
      ]
     },
     "execution_count": 24,
     "metadata": {},
     "output_type": "execute_result"
    },
    {
     "data": {
      "image/png": "[encoded data removed]",
      "text/plain": [
       "<Figure size 432x288 with 1 Axes>"
      ]
     },
     "metadata": {
      "needs_background": "light"
     },
     "output_type": "display_data"
    }
   ],
   "source": [
    "counts,_,_ = plt.hist(deaths_to_use.reset_index().groupby(['grid_squar','season']).sum()['deaths'], bins=int(deaths_to_use['deaths'].max()+1))\n",
    "plt.title(f\"Quarterly Deaths: {counts[0]/sum(counts)*100:.2f}% 0's, {counts[1]/sum(counts)*100:.2f}% 1's\")"
   ]
  },
  {
   "cell_type": "code",
   "execution_count": 191,
   "id": "eaaa03d7",
   "metadata": {},
   "outputs": [
    {
     "name": "stderr",
     "output_type": "stream",
     "text": [
      "/cluster/tufts/hugheslab/kheuto01/miniconda3/envs/zigp_36/lib/python3.6/site-packages/ipykernel_launcher.py:2: UserWarning: Column names longer than 10 characters will be truncated when saved to ESRI Shapefile.\n",
      "  \n"
     ]
    }
   ],
   "source": [
    "svi_file = os.path.join(result_dir,'svi_biannual')\n",
    "gpd.GeoDataFrame(deaths_gdf.reset_index()).to_file(svi_file)"
   ]
  },
  {
   "cell_type": "code",
   "execution_count": null,
   "id": "8d7f155e",
   "metadata": {},
   "outputs": [],
   "source": []
  }
 ],
 "metadata": {
  "kernelspec": {
   "display_name": "Python 3",
   "language": "python",
   "name": "python3"
  },
  "language_info": {
   "codemirror_mode": {
    "name": "ipython",
    "version": 3
   },
   "file_extension": ".py",
   "mimetype": "text/x-python",
   "name": "python",
   "nbconvert_exporter": "python",
   "pygments_lexer": "ipython3",
   "version": "3.6.15"
  }
 },
 "nbformat": 4,
 "nbformat_minor": 5
}
