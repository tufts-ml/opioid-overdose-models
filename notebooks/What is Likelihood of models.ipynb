{
 "cells": [
  {
   "cell_type": "code",
   "execution_count": 1,
   "id": "2d513f66",
   "metadata": {},
   "outputs": [
    {
     "name": "stderr",
     "output_type": "stream",
     "text": [
      "/cluster/tufts/hugheslab/kheuto01/miniconda3/envs/zigp_36/lib/python3.6/site-packages/tensorflow/python/framework/dtypes.py:516: FutureWarning: Passing (type, 1) or '1type' as a synonym of type is deprecated; in a future version of numpy, it will be understood as (type, (1,)) / '(1,)type'.\n",
      "  _np_qint8 = np.dtype([(\"qint8\", np.int8, 1)])\n",
      "/cluster/tufts/hugheslab/kheuto01/miniconda3/envs/zigp_36/lib/python3.6/site-packages/tensorflow/python/framework/dtypes.py:517: FutureWarning: Passing (type, 1) or '1type' as a synonym of type is deprecated; in a future version of numpy, it will be understood as (type, (1,)) / '(1,)type'.\n",
      "  _np_quint8 = np.dtype([(\"quint8\", np.uint8, 1)])\n",
      "/cluster/tufts/hugheslab/kheuto01/miniconda3/envs/zigp_36/lib/python3.6/site-packages/tensorflow/python/framework/dtypes.py:518: FutureWarning: Passing (type, 1) or '1type' as a synonym of type is deprecated; in a future version of numpy, it will be understood as (type, (1,)) / '(1,)type'.\n",
      "  _np_qint16 = np.dtype([(\"qint16\", np.int16, 1)])\n",
      "/cluster/tufts/hugheslab/kheuto01/miniconda3/envs/zigp_36/lib/python3.6/site-packages/tensorflow/python/framework/dtypes.py:519: FutureWarning: Passing (type, 1) or '1type' as a synonym of type is deprecated; in a future version of numpy, it will be understood as (type, (1,)) / '(1,)type'.\n",
      "  _np_quint16 = np.dtype([(\"quint16\", np.uint16, 1)])\n",
      "/cluster/tufts/hugheslab/kheuto01/miniconda3/envs/zigp_36/lib/python3.6/site-packages/tensorflow/python/framework/dtypes.py:520: FutureWarning: Passing (type, 1) or '1type' as a synonym of type is deprecated; in a future version of numpy, it will be understood as (type, (1,)) / '(1,)type'.\n",
      "  _np_qint32 = np.dtype([(\"qint32\", np.int32, 1)])\n",
      "/cluster/tufts/hugheslab/kheuto01/miniconda3/envs/zigp_36/lib/python3.6/site-packages/tensorflow/python/framework/dtypes.py:525: FutureWarning: Passing (type, 1) or '1type' as a synonym of type is deprecated; in a future version of numpy, it will be understood as (type, (1,)) / '(1,)type'.\n",
      "  np_resource = np.dtype([(\"resource\", np.ubyte, 1)])\n",
      "/cluster/tufts/hugheslab/kheuto01/miniconda3/envs/zigp_36/lib/python3.6/site-packages/tensorboard/compat/tensorflow_stub/dtypes.py:541: FutureWarning: Passing (type, 1) or '1type' as a synonym of type is deprecated; in a future version of numpy, it will be understood as (type, (1,)) / '(1,)type'.\n",
      "  _np_qint8 = np.dtype([(\"qint8\", np.int8, 1)])\n",
      "/cluster/tufts/hugheslab/kheuto01/miniconda3/envs/zigp_36/lib/python3.6/site-packages/tensorboard/compat/tensorflow_stub/dtypes.py:542: FutureWarning: Passing (type, 1) or '1type' as a synonym of type is deprecated; in a future version of numpy, it will be understood as (type, (1,)) / '(1,)type'.\n",
      "  _np_quint8 = np.dtype([(\"quint8\", np.uint8, 1)])\n",
      "/cluster/tufts/hugheslab/kheuto01/miniconda3/envs/zigp_36/lib/python3.6/site-packages/tensorboard/compat/tensorflow_stub/dtypes.py:543: FutureWarning: Passing (type, 1) or '1type' as a synonym of type is deprecated; in a future version of numpy, it will be understood as (type, (1,)) / '(1,)type'.\n",
      "  _np_qint16 = np.dtype([(\"qint16\", np.int16, 1)])\n",
      "/cluster/tufts/hugheslab/kheuto01/miniconda3/envs/zigp_36/lib/python3.6/site-packages/tensorboard/compat/tensorflow_stub/dtypes.py:544: FutureWarning: Passing (type, 1) or '1type' as a synonym of type is deprecated; in a future version of numpy, it will be understood as (type, (1,)) / '(1,)type'.\n",
      "  _np_quint16 = np.dtype([(\"quint16\", np.uint16, 1)])\n",
      "/cluster/tufts/hugheslab/kheuto01/miniconda3/envs/zigp_36/lib/python3.6/site-packages/tensorboard/compat/tensorflow_stub/dtypes.py:545: FutureWarning: Passing (type, 1) or '1type' as a synonym of type is deprecated; in a future version of numpy, it will be understood as (type, (1,)) / '(1,)type'.\n",
      "  _np_qint32 = np.dtype([(\"qint32\", np.int32, 1)])\n",
      "/cluster/tufts/hugheslab/kheuto01/miniconda3/envs/zigp_36/lib/python3.6/site-packages/tensorboard/compat/tensorflow_stub/dtypes.py:550: FutureWarning: Passing (type, 1) or '1type' as a synonym of type is deprecated; in a future version of numpy, it will be understood as (type, (1,)) / '(1,)type'.\n",
      "  np_resource = np.dtype([(\"resource\", np.ubyte, 1)])\n"
     ]
    },
    {
     "name": "stdout",
     "output_type": "stream",
     "text": [
      "WARNING:tensorflow:From /cluster/tufts/hugheslab/kheuto01/miniconda3/envs/zigp_36/lib/python3.6/site-packages/gpflow/session.py:8: The name tf.Session is deprecated. Please use tf.compat.v1.Session instead.\n",
      "\n"
     ]
    }
   ],
   "source": [
    "%matplotlib inline\n",
    "import os\n",
    "import sys\n",
    "from glob import glob\n",
    "import pickle\n",
    "\n",
    "import numpy as np\n",
    "import pandas as pd\n",
    "idx = pd.IndexSlice\n",
    "import matplotlib.pyplot as plt\n",
    "from matplotlib.ticker import MaxNLocator\n",
    "\n",
    "import copy\n",
    "\n",
    "import geopandas as gpd\n",
    "\n",
    "from sklearn.metrics import mean_absolute_error\n",
    "\n",
    "from sklearn.linear_model import LinearRegression\n",
    "from sklearn.neural_network import MLPRegressor\n",
    "\n",
    "import gpflow\n",
    "import tensorflow as tf\n",
    "import scipy\n",
    "\n",
    "import tensorflow as tf\n",
    "import numpy as np\n",
    "import pickle\n",
    "from gpflow.param import Param\n",
    "from gpflow.model import Model\n",
    "from gpflow.mean_functions import Zero\n",
    "from gpflow import transforms, conditionals, kullback_leiblers\n",
    "from gpflow.param import AutoFlow, DataHolder\n",
    "from gpflow._settings import settings\n",
    "from gpflow.minibatch import MinibatchData\n",
    "from math import pi\n",
    "import time\n",
    "\n",
    "\n",
    "\n",
    "code_dir = '/cluster/home/kheuto01/code/zero-inflated-gp/'\n",
    "sys.path.append(code_dir)\n",
    "\n",
    "from onoffgpf import OnOffSVGP, OnOffLikelihood"
   ]
  },
  {
   "cell_type": "code",
   "execution_count": 2,
   "id": "53f49c3c",
   "metadata": {},
   "outputs": [],
   "source": [
    "def mean_log_absolute_error(y_true, y_pred):\n",
    "    \n",
    "    min_val = abs(min(min(y_true), min(y_pred))) + 1\n",
    "\n",
    "    return np.average(np.abs(np.log(y_pred.values+min_val) -\n",
    "                             np.log(y_true.values+min_val)), axis=0)\n",
    "def fixed_top_X(true_qtr_val,pred_qtr_val, X=10):\n",
    "    \n",
    "    top_X_predicted = pred_qtr_val.sort_values(ascending=False)[:X]\n",
    "    top_X_true = true_qtr_val.sort_values(ascending=False)[:X]\n",
    "\n",
    "\n",
    "    undisputed_top_predicted = top_X_predicted[top_X_predicted>top_X_predicted.min()]\n",
    "    num_tied_spots = X - len(undisputed_top_predicted)\n",
    "    undisputed_top_true = top_X_true[top_X_true > top_X_true.min()]\n",
    "    num_true_ties = X - len(undisputed_top_true)\n",
    "\n",
    "\n",
    "    tied_top_predicted = pred_qtr_val[pred_qtr_val==top_X_predicted.min()]\n",
    "    tied_top_true = true_qtr_val[true_qtr_val==top_X_true.min()]\n",
    "\n",
    "    error_in_top_true_ties = np.abs(tied_top_true-pred_qtr_val[tied_top_true.index]).sort_values(ascending=True)\n",
    "    error_in_top_pred_ties = np.abs(true_qtr_val[tied_top_predicted.index]-tied_top_predicted).sort_values(ascending=True)\n",
    "    top_true_tied_geoids = error_in_top_true_ties[:num_true_ties].index\n",
    "    top_pred_tied_geoids = error_in_top_pred_ties[:num_tied_spots].index\n",
    "\n",
    "    best_possible_top_true_geoids = pd.Index.union(undisputed_top_true.index, top_true_tied_geoids)\n",
    "    best_possible_top_pred_geoids = pd.Index.union(undisputed_top_predicted.index, top_pred_tied_geoids)\n",
    "\n",
    "    # True values of GEOIDS with highest actual deaths. If ties, finds tied locations that match preds best\n",
    "    best_possible_true = true_qtr_val[best_possible_top_true_geoids]\n",
    "    best_possible_pred = true_qtr_val[best_possible_top_pred_geoids]\n",
    "\n",
    "    assert(len(best_possible_true)==X)\n",
    "    assert(len(best_possible_pred)==X)\n",
    "\n",
    "    best_possible_absolute = np.abs(best_possible_true.sum() - best_possible_pred.sum())\n",
    "    best_possible_ratio = np.abs(best_possible_pred).sum()/np.abs(best_possible_true).sum()\n",
    "\n",
    "\n",
    "    bootstrapped_tied_indices = np.random.choice(tied_top_predicted.index, (1000, num_tied_spots))\n",
    "    bootstrapped_all_indices =  [pd.Index.union(undisputed_top_predicted.index,\n",
    "                                                bootstrap_index) for bootstrap_index in bootstrapped_tied_indices]\n",
    "\n",
    "    bootstrapped_absolute = np.mean([np.abs(top_X_true.sum() - true_qtr_val[indices].sum()) \n",
    "                                     for indices in bootstrapped_all_indices])\n",
    "    bootstrapped_ratio = np.mean([np.abs(true_qtr_val[indices]).sum()/np.abs(top_X_true).sum()\n",
    "                                  for indices in bootstrapped_all_indices])\n",
    "    \n",
    "    return best_possible_absolute, best_possible_ratio, bootstrapped_absolute, bootstrapped_ratio"
   ]
  },
  {
   "cell_type": "code",
   "execution_count": 3,
   "id": "9a9ea588",
   "metadata": {},
   "outputs": [],
   "source": [
    "data_dir = '/cluster/tufts/hugheslab/datasets/NSF_OD/'\n",
    "result_dir = os.path.join(data_dir, 'results')\n",
    "mass_shapefile = os.path.join(data_dir,'shapefiles','MA_2021')\n",
    "\n",
    "\n",
    "\n",
    "new_tract_shapefile = os.path.join(data_dir,'shapefiles','new_trimmed_tract',\n",
    "                                   'cb_2020_tract')"
   ]
  },
  {
   "cell_type": "code",
   "execution_count": 4,
   "id": "d7781f01",
   "metadata": {},
   "outputs": [],
   "source": [
    "from math import radians, cos, sin, asin, sqrt\n",
    "\n",
    "def haversine(lon1, lat1, lon2, lat2):\n",
    "    \"\"\"\n",
    "    Calculate the great circle distance in kilometers between two points \n",
    "    on the earth (specified in decimal degrees)\n",
    "    https://stackoverflow.com/a/4913653/1748679\n",
    "    \"\"\"\n",
    "    # convert decimal degrees to radians \n",
    "    lon1, lat1, lon2, lat2 = map(radians, [lon1, lat1, lon2, lat2])\n",
    "\n",
    "    # haversine formula \n",
    "    dlon = lon2 - lon1 \n",
    "    dlat = lat2 - lat1 \n",
    "    a = sin(dlat/2)**2 + cos(lat1) * cos(lat2) * sin(dlon/2)**2\n",
    "    c = 2 * asin(sqrt(a)) \n",
    "    r = 6371 # Radius of earth in kilometers. Use 3956 for miles. Determines return value units.\n",
    "    return c * r"
   ]
  },
  {
   "cell_type": "code",
   "execution_count": 5,
   "id": "882a56c5",
   "metadata": {},
   "outputs": [],
   "source": [
    "mass_gdf = gpd.read_file(new_tract_shapefile)\n",
    "\n",
    "\n",
    "svi_file = os.path.join(result_dir,'svi_qtr')\n",
    "svi_gdf = gpd.read_file(svi_file)\n",
    "svi_gdf = svi_gdf.rename(columns={'INTPTLAT':'lat', 'INTPTLON':'lon', 'GEOID':'grid_squar'})\n",
    "# Make lat and lon floats\n",
    "svi_gdf.loc[:, 'lat'] = svi_gdf.lat.astype(float)\n",
    "svi_gdf.loc[:, 'lon'] = svi_gdf.lon.astype(float)\n",
    "deaths_gdf = svi_gdf\n",
    "missing_squares = [square for square in deaths_gdf['grid_squar'].unique() if square not in mass_gdf['GEOID'].unique()]\n",
    "just_grid = deaths_gdf.loc[(deaths_gdf['year']==2000)&(deaths_gdf['quarter']==4), ['grid_squar','geometry', 'lat', 'lon']]\n",
    "\n",
    "# Calculate each squares neighbors\n",
    "neighbors = {}\n",
    "for _, row in just_grid.iterrows():\n",
    "    just_grid.loc[:,'haversine'] = just_grid.apply(lambda x: haversine(row['lon'], row['lat'],\n",
    "                                                                         x['lon'], x['lat']),\n",
    "                                                  axis=1)\n",
    "    matching_neighbors = just_grid[just_grid['haversine']<8]['grid_squar'].values\n",
    "    neighbors[row['grid_squar']]=matching_neighbors\n",
    "    \n",
    "tracts = deaths_gdf['grid_squar'].unique()\n",
    "min_year = deaths_gdf.year.min()\n",
    "max_year = deaths_gdf.year.max()\n",
    "\n",
    "deaths_gdf = deaths_gdf.set_index(['grid_squar','year','quarter']).sort_index()\n",
    "deaths_gdf.loc[idx[:,:,:],'self_t-1'] = deaths_gdf.loc[idx[:,:,:],'deaths'].shift(1, fill_value=0)\n",
    "\n",
    "for tract in tracts:\n",
    "     deaths_gdf.loc[idx[tract,:,:],'neighbor_t-1']= \\\n",
    "        deaths_gdf.loc[idx[neighbors[tract],:,:],'self_t-1'].groupby(level=['year', 'quarter']).mean().shift(1, fill_value=0).values\n",
    "\n",
    "timestep = 0\n",
    "\n",
    "for year in range(min_year, max_year+1):\n",
    "    for quarter in range(1, 5):\n",
    "        deaths_gdf.loc[idx[:,year, quarter], 'timestep'] = timestep\n",
    "        timestep+=1\n",
    "        \n",
    "deaths_gdf_with_autoregressive = deaths_gdf.reset_index()\n",
    "\n",
    "train_x_through_2018 = deaths_gdf_with_autoregressive[deaths_gdf_with_autoregressive['year']<=2018][['grid_squar','lat', 'lon', 'timestep', 'theme_1_pc', 'theme_2_pc', 'theme_3_pc', 'theme_4_pc', 'svi_pctile', 'neighbor_t-1', 'self_t-1']]\n",
    "train_y_through_2018 = deaths_gdf_with_autoregressive[deaths_gdf_with_autoregressive['year']<=2018][['grid_squar',  'timestep', 'deaths']]\n",
    "train_x_through_2019 = deaths_gdf_with_autoregressive[deaths_gdf_with_autoregressive['year']<=2019][['grid_squar','lat', 'lon', 'timestep', 'theme_1_pc', 'theme_2_pc', 'theme_3_pc', 'theme_4_pc', 'svi_pctile', 'neighbor_t-1', 'self_t-1']]\n",
    "train_y_through_2019 = deaths_gdf_with_autoregressive[deaths_gdf_with_autoregressive['year']<=2019][['grid_squar', 'timestep', 'deaths']]\n",
    "\n",
    "x_just_2019 = deaths_gdf_with_autoregressive[deaths_gdf_with_autoregressive['year']==2019][['grid_squar','lat', 'lon', 'timestep', 'theme_1_pc', 'theme_2_pc', 'theme_3_pc', 'theme_4_pc', 'svi_pctile','neighbor_t-1', 'self_t-1']]\n",
    "y_just_2019 = deaths_gdf_with_autoregressive[deaths_gdf_with_autoregressive['year']==2019][['grid_squar','timestep', 'deaths']]\n",
    "x_just_2020 = deaths_gdf_with_autoregressive[deaths_gdf_with_autoregressive['year']==2020][['grid_squar','lat', 'lon', 'timestep', 'theme_1_pc', 'theme_2_pc', 'theme_3_pc', 'theme_4_pc', 'svi_pctile', 'neighbor_t-1', 'self_t-1']]\n",
    "y_just_2020 = deaths_gdf_with_autoregressive[deaths_gdf_with_autoregressive['year']==2020][['grid_squar', 'timestep', 'deaths']]\n",
    "\n",
    "x_just_2019q1 = deaths_gdf_with_autoregressive[(deaths_gdf_with_autoregressive['year']==2019) & (deaths_gdf_with_autoregressive['quarter']==1)][['grid_squar','lat', 'lon', 'timestep', 'theme_1_pc', 'theme_2_pc', 'theme_3_pc', 'theme_4_pc', 'svi_pctile','neighbor_t-1', 'self_t-1']]\n",
    "y_just_2019q1 = deaths_gdf_with_autoregressive[(deaths_gdf_with_autoregressive['year']==2019) & (deaths_gdf_with_autoregressive['quarter']==1)][['grid_squar','timestep', 'deaths']]\n"
   ]
  },
  {
   "cell_type": "code",
   "execution_count": 6,
   "id": "713987f0",
   "metadata": {},
   "outputs": [],
   "source": [
    "with open('/cluster/tufts/hugheslab/kheuto01/opioid/logs/qtr/ind100_iter3000/model.pkl','rb') as f:\n",
    "    m = pickle.load(f)"
   ]
  },
  {
   "cell_type": "code",
   "execution_count": 13,
   "id": "bd9e4224",
   "metadata": {},
   "outputs": [
    {
     "name": "stdout",
     "output_type": "stream",
     "text": [
      "Likelihood train: 0.7588773108405549\n",
      "Cont. likelihood train: 1.698666846467926\n",
      "MAE train 0.22002052261635718\n"
     ]
    }
   ],
   "source": [
    "fold='train'\n",
    "norm_mean, norm_var, _, _, _, _, _, _, _ =  m.predict_onoffgp(m.X.value)\n",
    "norm_mean=norm_mean.squeeze()\n",
    "norm_var = m.likelihood.variance.value[0]\n",
    "norm_cdf_upper_bound = m.Y.value.squeeze()+0.5\n",
    "norm_cdf_lower_bound = m.Y.value.squeeze()-0.5\n",
    "\n",
    "norm_likelihood_upper =  0.5 * (1.0 + scipy.special.erf((norm_cdf_upper_bound-norm_mean) / (np.sqrt(norm_var)*np.sqrt(2.0))))\n",
    "norm_likelihood_lower =  0.5 * (1.0 + scipy.special.erf((norm_cdf_lower_bound-norm_mean) / (np.sqrt(norm_var)*np.sqrt(2.0))))\n",
    "norm_likelihood_lower[norm_cdf_lower_bound==-0.5] = 0\n",
    "print(f'Likelihood {fold}: {np.mean(norm_likelihood_upper-norm_likelihood_lower)}')\n",
    "print(f'Cont. likelihood {fold}: {np.mean(scipy.stats.norm(norm_mean,m.likelihood.variance.value[0]).pdf(m.Y.value.squeeze()))}')\n",
    "print(f'MAE {fold} {mean_absolute_error(m.Y.value, norm_mean)}')"
   ]
  },
  {
   "cell_type": "code",
   "execution_count": 9,
   "id": "2b3c4663",
   "metadata": {},
   "outputs": [
    {
     "name": "stdout",
     "output_type": "stream",
     "text": [
      "Train bpr-100: 0.21870103641309738\n"
     ]
    }
   ],
   "source": [
    "bprs = []\n",
    "for year in range(2000, 2018):\n",
    "    for quarter in range(1,5):\n",
    "        xq = deaths_gdf_with_autoregressive[(deaths_gdf_with_autoregressive['year']==year) & (deaths_gdf_with_autoregressive['quarter']==quarter)][['grid_squar','lat', 'lon', 'timestep', 'theme_1_pc', 'theme_2_pc', 'theme_3_pc', 'theme_4_pc', 'svi_pctile','neighbor_t-1', 'self_t-1']]\n",
    "        yq = deaths_gdf_with_autoregressive[(deaths_gdf_with_autoregressive['year']==year) & (deaths_gdf_with_autoregressive['quarter']==quarter)][['grid_squar','timestep', 'deaths']]\n",
    "        norm_mean, norm_var, _, _, _, _, _, _, _ =  m.predict_onoffgp(xq.iloc[:,1:])\n",
    "\n",
    "        norm_cdf_upper_bound = yq['deaths'].values+0.5\n",
    "        norm_cdf_lower_bound = yq['deaths'].values-0.5\n",
    "        norm_likelihood_upper =  0.5 * (1.0 + scipy.special.erf((norm_cdf_upper_bound-norm_mean) / (np.sqrt(norm_var)*np.sqrt(2.0))))\n",
    "        norm_likelihood_lower =  0.5 * (1.0 + scipy.special.erf((norm_cdf_lower_bound-norm_mean) / (np.sqrt(norm_var)*np.sqrt(2.0))))\n",
    "        norm_likelihood_lower[norm_cdf_lower_bound==-0.5] = 0\n",
    "\n",
    "        bpr = fixed_top_X(yq.set_index(['grid_squar'])['deaths'], pd.Series(norm_mean.squeeze(), index=x_just_2019q1.grid_squar), X=100)[-1]\n",
    "        bprs.append(bpr)\n",
    "print(f'Train bpr-100: {np.mean(bprs)}')"
   ]
  },
  {
   "cell_type": "code",
   "execution_count": 169,
   "id": "85bbf5cf",
   "metadata": {},
   "outputs": [
    {
     "data": {
      "text/plain": [
       "[0.15909090909090912,\n",
       " 0.14117647058823524,\n",
       " 0.16666666666666663,\n",
       " 0.11494252873563221,\n",
       " 0.12380952380952383,\n",
       " 0.17142857142857137,\n",
       " 0.14141414141414144,\n",
       " 0.17431192660550462,\n",
       " 0.12380952380952383,\n",
       " 0.14814814814814814,\n",
       " 0.19090909090909092,\n",
       " 0.09433962264150944,\n",
       " 0.17857142857142852,\n",
       " 0.21238938053097337,\n",
       " 0.1538461538461538,\n",
       " 0.24545454545454554,\n",
       " 0.17592592592592599,\n",
       " 0.12380952380952383,\n",
       " 0.10891089108910895,\n",
       " 0.17592592592592599,\n",
       " 0.21238938053097337,\n",
       " 0.14678899082568808,\n",
       " 0.21621621621621626,\n",
       " 0.25438596491228077,\n",
       " 0.17431192660550462,\n",
       " 0.2173913043478261,\n",
       " 0.16666666666666663,\n",
       " 0.18518518518518517,\n",
       " 0.25438596491228077,\n",
       " 0.1891891891891892,\n",
       " 0.1944444444444445,\n",
       " 0.13513513513513511,\n",
       " 0.1875,\n",
       " 0.15517241379310348,\n",
       " 0.24299065420560736,\n",
       " 0.20909090909090902,\n",
       " 0.1652173913043478,\n",
       " 0.20560747663551393,\n",
       " 0.13513513513513511,\n",
       " 0.20353982300884962,\n",
       " 0.16190476190476188,\n",
       " 0.14563106796116504,\n",
       " 0.13513513513513511,\n",
       " 0.16504854368932037,\n",
       " 0.1826086956521739,\n",
       " 0.11320754716981131,\n",
       " 0.2307692307692308,\n",
       " 0.17857142857142852,\n",
       " 0.18018018018018014,\n",
       " 0.23728813559322026,\n",
       " 0.2363636363636364,\n",
       " 0.21238938053097337,\n",
       " 0.25196850393700787,\n",
       " 0.31034482758620696,\n",
       " 0.21875,\n",
       " 0.30327868852459006,\n",
       " 0.32624113475177297,\n",
       " 0.30714285714285705,\n",
       " 0.32330827067669166,\n",
       " 0.30487804878048774,\n",
       " 0.30857142857142855,\n",
       " 0.2532467532467532,\n",
       " 0.46250000000000013,\n",
       " 0.35185185185185197,\n",
       " 0.4180790960451979,\n",
       " 0.359375,\n",
       " 0.3024390243902439,\n",
       " 0.3519553072625697,\n",
       " 0.3202247191011235,\n",
       " 0.3618421052631578,\n",
       " 0.32,\n",
       " 0.4357541899441342]"
      ]
     },
     "execution_count": 169,
     "metadata": {},
     "output_type": "execute_result"
    }
   ],
   "source": [
    "bprs"
   ]
  },
  {
   "cell_type": "code",
   "execution_count": 14,
   "id": "0a24c86a",
   "metadata": {
    "scrolled": true
   },
   "outputs": [
    {
     "name": "stdout",
     "output_type": "stream",
     "text": [
      "Likelihood test: 0.6330416986886735\n",
      "MAE test 0.38921212018495843\n",
      "Cont. likelihood test: 0.7843140697143706\n"
     ]
    }
   ],
   "source": [
    "fold='test'\n",
    "norm_mean, norm_var, _, _, _, _, _, _, _ =  m.predict_onoffgp(x_just_2019.iloc[:,1:])\n",
    "norm_mean=norm_mean.squeeze()\n",
    "norm_var = m.likelihood.variance.value[0]\n",
    "norm_cdf_upper_bound = y_just_2019['deaths'].values.squeeze()+0.5\n",
    "norm_cdf_lower_bound = y_just_2019['deaths'].values.squeeze()-0.5\n",
    "\n",
    "norm_likelihood_upper =  0.5 * (1.0 + scipy.special.erf((norm_cdf_upper_bound-norm_mean) / (np.sqrt(norm_var)*np.sqrt(2.0))))\n",
    "norm_likelihood_lower =  0.5 * (1.0 + scipy.special.erf((norm_cdf_lower_bound-norm_mean) / (np.sqrt(norm_var)*np.sqrt(2.0))))\n",
    "norm_likelihood_lower[norm_cdf_lower_bound==-0.5] = 0\n",
    "\n",
    "print(f'Likelihood {fold}: {np.mean(norm_likelihood_upper-norm_likelihood_lower)}')\n",
    "print(f\"MAE {fold} {mean_absolute_error(y_just_2019['deaths'].values, norm_mean)}\")\n",
    "print(f'Cont. likelihood {fold}: {np.mean(scipy.stats.norm(norm_mean,m.likelihood.variance.value[0]).pdf(y_just_2019[\"deaths\"].values.squeeze()))}')"
   ]
  },
  {
   "cell_type": "code",
   "execution_count": 15,
   "id": "fc9a9d07",
   "metadata": {},
   "outputs": [
    {
     "name": "stdout",
     "output_type": "stream",
     "text": [
      "Test bpr-100: 0.3448142414860681\n"
     ]
    }
   ],
   "source": [
    "bprs=[]\n",
    "for quarter in range(1,5):\n",
    "    xq = deaths_gdf_with_autoregressive[(deaths_gdf_with_autoregressive['year']==2019) & (deaths_gdf_with_autoregressive['quarter']==quarter)][['grid_squar','lat', 'lon', 'timestep', 'theme_1_pc', 'theme_2_pc', 'theme_3_pc', 'theme_4_pc', 'svi_pctile','neighbor_t-1', 'self_t-1']]\n",
    "    yq = deaths_gdf_with_autoregressive[(deaths_gdf_with_autoregressive['year']==2019) & (deaths_gdf_with_autoregressive['quarter']==quarter)][['grid_squar','timestep', 'deaths']]\n",
    "\n",
    "    \n",
    "    fold='test'\n",
    "    norm_mean, norm_var, _, _, _, _, _, _, _ =  m.predict_onoffgp(xq.iloc[:,1:])\n",
    "    norm_mean=norm_mean.squeeze()\n",
    "    norm_var = norm_var.squeeze()\n",
    "    norm_cdf_upper_bound = yq['deaths'].values.squeeze()+0.5\n",
    "    norm_cdf_lower_bound = yq['deaths'].values.squeeze()-0.5\n",
    "\n",
    "    norm_likelihood_upper =  0.5 * (1.0 + scipy.special.erf((norm_cdf_upper_bound-norm_mean) / (np.sqrt(norm_var)*np.sqrt(2.0))))\n",
    "    norm_likelihood_lower =  0.5 * (1.0 + scipy.special.erf((norm_cdf_lower_bound-norm_mean) / (np.sqrt(norm_var)*np.sqrt(2.0))))\n",
    "    norm_likelihood_lower[norm_cdf_lower_bound==-0.5] = 0\n",
    "\n",
    "    \n",
    "    bpr = fixed_top_X(yq.set_index(['grid_squar'])['deaths'], pd.Series(norm_mean.squeeze(), index=x_just_2019q1.grid_squar), X=100)[-1]\n",
    "    bprs.append(bpr)\n",
    "    \n",
    "print(f'Test bpr-100: {np.mean(bprs)}')"
   ]
  },
  {
   "cell_type": "code",
   "execution_count": 14,
   "id": "e75d968e",
   "metadata": {},
   "outputs": [
    {
     "data": {
      "text/plain": [
       "(1620,)"
      ]
     },
     "execution_count": 14,
     "metadata": {},
     "output_type": "execute_result"
    }
   ],
   "source": [
    "norm_mean.shape"
   ]
  },
  {
   "cell_type": "code",
   "execution_count": 159,
   "id": "d9ae93a9",
   "metadata": {},
   "outputs": [
    {
     "data": {
      "text/plain": [
       "'1.1.5'"
      ]
     },
     "execution_count": 159,
     "metadata": {},
     "output_type": "execute_result"
    }
   ],
   "source": [
    "pd.__version__"
   ]
  },
  {
   "cell_type": "code",
   "execution_count": 89,
   "id": "b4da5e57",
   "metadata": {},
   "outputs": [],
   "source": [
    "import scipy"
   ]
  },
  {
   "cell_type": "code",
   "execution_count": 21,
   "id": "c2072306",
   "metadata": {},
   "outputs": [
    {
     "data": {
      "text/plain": [
       "<module 'gpflow' from '/cluster/tufts/hugheslab/kheuto01/miniconda3/envs/zigp_36/lib/python3.6/site-packages/gpflow/__init__.py'>"
      ]
     },
     "execution_count": 21,
     "metadata": {},
     "output_type": "execute_result"
    }
   ],
   "source": [
    "gpflow"
   ]
  },
  {
   "cell_type": "code",
   "execution_count": 22,
   "id": "5055704a",
   "metadata": {},
   "outputs": [
    {
     "data": {
      "text/plain": [
       "'0.4.0'"
      ]
     },
     "execution_count": 22,
     "metadata": {},
     "output_type": "execute_result"
    }
   ],
   "source": [
    "gpflow.__version__"
   ]
  },
  {
   "cell_type": "code",
   "execution_count": 61,
   "id": "704818fc",
   "metadata": {},
   "outputs": [],
   "source": [
    "def normcdf(x, mean, std_dev):\n",
    "    return 0.5 * (1.0 + tf.math.erf((x-mean) / (std_dev*np.sqrt(2.0)))) "
   ]
  },
  {
   "cell_type": "code",
   "execution_count": 40,
   "id": "c4c36a58",
   "metadata": {},
   "outputs": [
    {
     "data": {
      "text/plain": [
       "(123120, 8)"
      ]
     },
     "execution_count": 40,
     "metadata": {},
     "output_type": "execute_result"
    }
   ],
   "source": [
    ".shape"
   ]
  },
  {
   "cell_type": "code",
   "execution_count": 126,
   "id": "1c96bebe",
   "metadata": {},
   "outputs": [
    {
     "data": {
      "text/html": [
       "<div>\n",
       "<style scoped>\n",
       "    .dataframe tbody tr th:only-of-type {\n",
       "        vertical-align: middle;\n",
       "    }\n",
       "\n",
       "    .dataframe tbody tr th {\n",
       "        vertical-align: top;\n",
       "    }\n",
       "\n",
       "    .dataframe thead th {\n",
       "        text-align: right;\n",
       "    }\n",
       "</style>\n",
       "<table border=\"1\" class=\"dataframe\">\n",
       "  <thead>\n",
       "    <tr style=\"text-align: right;\">\n",
       "      <th></th>\n",
       "      <th>grid_squar</th>\n",
       "      <th>lat</th>\n",
       "      <th>lon</th>\n",
       "      <th>timestep</th>\n",
       "      <th>theme_1_pc</th>\n",
       "      <th>theme_2_pc</th>\n",
       "      <th>theme_3_pc</th>\n",
       "      <th>theme_4_pc</th>\n",
       "      <th>svi_pctile</th>\n",
       "      <th>neighbor_t-1</th>\n",
       "      <th>self_t-1</th>\n",
       "    </tr>\n",
       "  </thead>\n",
       "  <tbody>\n",
       "    <tr>\n",
       "      <th>76</th>\n",
       "      <td>25001010100</td>\n",
       "      <td>42.059829</td>\n",
       "      <td>-70.200407</td>\n",
       "      <td>76.0</td>\n",
       "      <td>0.5846</td>\n",
       "      <td>0.3659</td>\n",
       "      <td>0.2235</td>\n",
       "      <td>0.8203</td>\n",
       "      <td>0.5854</td>\n",
       "      <td>0.000000</td>\n",
       "      <td>0.0</td>\n",
       "    </tr>\n",
       "    <tr>\n",
       "      <th>77</th>\n",
       "      <td>25001010100</td>\n",
       "      <td>42.059829</td>\n",
       "      <td>-70.200407</td>\n",
       "      <td>77.0</td>\n",
       "      <td>0.5846</td>\n",
       "      <td>0.3659</td>\n",
       "      <td>0.2235</td>\n",
       "      <td>0.8203</td>\n",
       "      <td>0.5854</td>\n",
       "      <td>0.000000</td>\n",
       "      <td>0.0</td>\n",
       "    </tr>\n",
       "    <tr>\n",
       "      <th>78</th>\n",
       "      <td>25001010100</td>\n",
       "      <td>42.059829</td>\n",
       "      <td>-70.200407</td>\n",
       "      <td>78.0</td>\n",
       "      <td>0.5846</td>\n",
       "      <td>0.3659</td>\n",
       "      <td>0.2235</td>\n",
       "      <td>0.8203</td>\n",
       "      <td>0.5854</td>\n",
       "      <td>0.000000</td>\n",
       "      <td>0.0</td>\n",
       "    </tr>\n",
       "    <tr>\n",
       "      <th>79</th>\n",
       "      <td>25001010100</td>\n",
       "      <td>42.059829</td>\n",
       "      <td>-70.200407</td>\n",
       "      <td>79.0</td>\n",
       "      <td>0.5846</td>\n",
       "      <td>0.3659</td>\n",
       "      <td>0.2235</td>\n",
       "      <td>0.8203</td>\n",
       "      <td>0.5854</td>\n",
       "      <td>0.000000</td>\n",
       "      <td>1.0</td>\n",
       "    </tr>\n",
       "    <tr>\n",
       "      <th>164</th>\n",
       "      <td>25001010206</td>\n",
       "      <td>41.922636</td>\n",
       "      <td>-70.015368</td>\n",
       "      <td>76.0</td>\n",
       "      <td>0.6196</td>\n",
       "      <td>0.5629</td>\n",
       "      <td>0.0957</td>\n",
       "      <td>0.5658</td>\n",
       "      <td>0.5244</td>\n",
       "      <td>0.000000</td>\n",
       "      <td>0.0</td>\n",
       "    </tr>\n",
       "    <tr>\n",
       "      <th>...</th>\n",
       "      <td>...</td>\n",
       "      <td>...</td>\n",
       "      <td>...</td>\n",
       "      <td>...</td>\n",
       "      <td>...</td>\n",
       "      <td>...</td>\n",
       "      <td>...</td>\n",
       "      <td>...</td>\n",
       "      <td>...</td>\n",
       "      <td>...</td>\n",
       "      <td>...</td>\n",
       "    </tr>\n",
       "    <tr>\n",
       "      <th>142463</th>\n",
       "      <td>25027761401</td>\n",
       "      <td>42.489753</td>\n",
       "      <td>-71.579677</td>\n",
       "      <td>79.0</td>\n",
       "      <td>0.2906</td>\n",
       "      <td>0.4124</td>\n",
       "      <td>0.3944</td>\n",
       "      <td>0.1598</td>\n",
       "      <td>0.2237</td>\n",
       "      <td>0.333333</td>\n",
       "      <td>0.0</td>\n",
       "    </tr>\n",
       "    <tr>\n",
       "      <th>142548</th>\n",
       "      <td>25027761402</td>\n",
       "      <td>42.531342</td>\n",
       "      <td>-71.592751</td>\n",
       "      <td>76.0</td>\n",
       "      <td>0.2906</td>\n",
       "      <td>0.4124</td>\n",
       "      <td>0.3944</td>\n",
       "      <td>0.1598</td>\n",
       "      <td>0.2237</td>\n",
       "      <td>0.250000</td>\n",
       "      <td>0.0</td>\n",
       "    </tr>\n",
       "    <tr>\n",
       "      <th>142549</th>\n",
       "      <td>25027761402</td>\n",
       "      <td>42.531342</td>\n",
       "      <td>-71.592751</td>\n",
       "      <td>77.0</td>\n",
       "      <td>0.2906</td>\n",
       "      <td>0.4124</td>\n",
       "      <td>0.3944</td>\n",
       "      <td>0.1598</td>\n",
       "      <td>0.2237</td>\n",
       "      <td>0.125000</td>\n",
       "      <td>0.0</td>\n",
       "    </tr>\n",
       "    <tr>\n",
       "      <th>142550</th>\n",
       "      <td>25027761402</td>\n",
       "      <td>42.531342</td>\n",
       "      <td>-71.592751</td>\n",
       "      <td>78.0</td>\n",
       "      <td>0.2906</td>\n",
       "      <td>0.4124</td>\n",
       "      <td>0.3944</td>\n",
       "      <td>0.1598</td>\n",
       "      <td>0.2237</td>\n",
       "      <td>0.500000</td>\n",
       "      <td>0.0</td>\n",
       "    </tr>\n",
       "    <tr>\n",
       "      <th>142551</th>\n",
       "      <td>25027761402</td>\n",
       "      <td>42.531342</td>\n",
       "      <td>-71.592751</td>\n",
       "      <td>79.0</td>\n",
       "      <td>0.2906</td>\n",
       "      <td>0.4124</td>\n",
       "      <td>0.3944</td>\n",
       "      <td>0.1598</td>\n",
       "      <td>0.2237</td>\n",
       "      <td>0.250000</td>\n",
       "      <td>0.0</td>\n",
       "    </tr>\n",
       "  </tbody>\n",
       "</table>\n",
       "<p>6480 rows × 11 columns</p>\n",
       "</div>"
      ],
      "text/plain": [
       "         grid_squar        lat        lon  timestep  theme_1_pc  theme_2_pc  \\\n",
       "76      25001010100  42.059829 -70.200407      76.0      0.5846      0.3659   \n",
       "77      25001010100  42.059829 -70.200407      77.0      0.5846      0.3659   \n",
       "78      25001010100  42.059829 -70.200407      78.0      0.5846      0.3659   \n",
       "79      25001010100  42.059829 -70.200407      79.0      0.5846      0.3659   \n",
       "164     25001010206  41.922636 -70.015368      76.0      0.6196      0.5629   \n",
       "...             ...        ...        ...       ...         ...         ...   \n",
       "142463  25027761401  42.489753 -71.579677      79.0      0.2906      0.4124   \n",
       "142548  25027761402  42.531342 -71.592751      76.0      0.2906      0.4124   \n",
       "142549  25027761402  42.531342 -71.592751      77.0      0.2906      0.4124   \n",
       "142550  25027761402  42.531342 -71.592751      78.0      0.2906      0.4124   \n",
       "142551  25027761402  42.531342 -71.592751      79.0      0.2906      0.4124   \n",
       "\n",
       "        theme_3_pc  theme_4_pc  svi_pctile  neighbor_t-1  self_t-1  \n",
       "76          0.2235      0.8203      0.5854      0.000000       0.0  \n",
       "77          0.2235      0.8203      0.5854      0.000000       0.0  \n",
       "78          0.2235      0.8203      0.5854      0.000000       0.0  \n",
       "79          0.2235      0.8203      0.5854      0.000000       1.0  \n",
       "164         0.0957      0.5658      0.5244      0.000000       0.0  \n",
       "...            ...         ...         ...           ...       ...  \n",
       "142463      0.3944      0.1598      0.2237      0.333333       0.0  \n",
       "142548      0.3944      0.1598      0.2237      0.250000       0.0  \n",
       "142549      0.3944      0.1598      0.2237      0.125000       0.0  \n",
       "142550      0.3944      0.1598      0.2237      0.500000       0.0  \n",
       "142551      0.3944      0.1598      0.2237      0.250000       0.0  \n",
       "\n",
       "[6480 rows x 11 columns]"
      ]
     },
     "execution_count": 126,
     "metadata": {},
     "output_type": "execute_result"
    }
   ],
   "source": [
    "x_just_2019"
   ]
  },
  {
   "cell_type": "code",
   "execution_count": 16,
   "id": "481542c7",
   "metadata": {},
   "outputs": [
    {
     "data": {
      "text/plain": [
       "[<matplotlib.lines.Line2D at 0x7f78ac62e5f8>]"
      ]
     },
     "execution_count": 16,
     "metadata": {},
     "output_type": "execute_result"
    },
    {
     "data": {
      "image/png": "[encoded data removed]",
      "text/plain": [
       "<Figure size 432x288 with 1 Axes>"
      ]
     },
     "metadata": {
      "needs_background": "light"
     },
     "output_type": "display_data"
    }
   ],
   "source": [
    "plt.plot((norm_likelihood_upper-norm_likelihood_lower),'k.')"
   ]
  },
  {
   "cell_type": "code",
   "execution_count": 34,
   "id": "9df87b3c",
   "metadata": {},
   "outputs": [],
   "source": [
    "probs =(norm_likelihood_upper-norm_likelihood_lower).mean(-1)"
   ]
  },
  {
   "cell_type": "code",
   "execution_count": 35,
   "id": "ae09452f",
   "metadata": {},
   "outputs": [
    {
     "data": {
      "text/plain": [
       "array([0.77407407, 0.77407407, 0.77407407, 0.76588114, 0.77407023,\n",
       "       0.77407407, 0.77407407, 0.77407407, 0.77407407, 0.77394097,\n",
       "       0.77407407, 0.72405001, 0.77407407, 0.77407407, 0.77407407,\n",
       "       0.77407324, 0.77407128, 0.77407407, 0.7345    , 0.77407405,\n",
       "       0.77407228, 0.77335715, 0.77407407, 0.77407343, 0.77407407,\n",
       "       0.77407407, 0.77407407, 0.7740734 , 0.77404807, 0.77241323,\n",
       "       0.77407405, 0.77405194, 0.77406612, 0.77407407, 0.77407407,\n",
       "       0.77406876, 0.7739142 , 0.77405449, 0.71737941, 0.77367372,\n",
       "       0.76723426, 0.77271534, 0.77379845, 0.77407407, 0.77407407,\n",
       "       0.77407407, 0.77407407, 0.77407407, 0.77407407, 0.77407407,\n",
       "       0.77406054, 0.77407095, 0.77407407, 0.7210592 , 0.70401047,\n",
       "       0.77407407, 0.7740648 , 0.77407402, 0.77407407, 0.77407407,\n",
       "       0.77407407, 0.77407407, 0.77407407, 0.77407407, 0.77407407,\n",
       "       0.77407407, 0.77289937, 0.77407317, 0.77407407, 0.77407407,\n",
       "       0.77407407, 0.77158411, 0.77407198, 0.77407391, 0.77406276,\n",
       "       0.77407407, 0.77407384, 0.77407301, 0.77407407, 0.7740718 ,\n",
       "       0.77407406, 0.77407407, 0.77407407, 0.77406349, 0.71972923,\n",
       "       0.77407407, 0.77384989, 0.77407407, 0.77407407, 0.77407407,\n",
       "       0.77407407, 0.77407407, 0.72669527, 0.77407407, 0.77407407,\n",
       "       0.77407407, 0.77407407, 0.77407404, 0.77341886, 0.77407407,\n",
       "       0.77407407, 0.77407354, 0.77407355, 0.77407407, 0.77407407,\n",
       "       0.77407407, 0.77407407, 0.77407406, 0.77407407, 0.77407363,\n",
       "       0.77407351, 0.77400187, 0.77407396, 0.75149673, 0.77407407,\n",
       "       0.77407407, 0.71613578, 0.77407407, 0.77407407, 0.77407407,\n",
       "       0.77407407, 0.77407407, 0.77407407, 0.77407407, 0.77407407,\n",
       "       0.77407407, 0.76534503, 0.77407362, 0.70414477, 0.77407407,\n",
       "       0.77407407, 0.77407407, 0.77407407, 0.77407407, 0.77407407,\n",
       "       0.77407407, 0.77407407, 0.77407407, 0.77407407, 0.77407407,\n",
       "       0.77407407, 0.77407407, 0.77407407, 0.77407407, 0.77407407,\n",
       "       0.77407407, 0.77407407, 0.77407407, 0.77407407, 0.77407407,\n",
       "       0.77407407, 0.77407407, 0.77407407, 0.77407407, 0.77407407,\n",
       "       0.77407407, 0.77407407, 0.77407407, 0.77407407, 0.77407407,\n",
       "       0.77407407, 0.77407407, 0.77407407, 0.77407407, 0.77407407,\n",
       "       0.77407407, 0.77407407, 0.77407407, 0.77407407, 0.77407407,\n",
       "       0.77407407, 0.77407407, 0.77407407, 0.77407407, 0.77407407,\n",
       "       0.77407407, 0.77407407, 0.77407407, 0.77407407, 0.77407407,\n",
       "       0.73897939, 0.79995114, 0.77407342, 0.77200775, 0.77407407,\n",
       "       0.77407407, 0.77407407, 0.75587766, 0.7736921 , 0.77406632,\n",
       "       0.77395626, 0.77407407, 0.77407407, 0.77407407, 0.77407407,\n",
       "       0.77407407, 0.77294648, 0.77407141, 0.77407405, 0.77407407,\n",
       "       0.77407407, 0.77407407, 0.77157466, 0.76747111, 0.77407407,\n",
       "       0.77406957, 0.77407407, 0.77407407, 0.77407407, 0.77407407,\n",
       "       0.77407102, 0.77407282, 0.77402181, 0.77378231, 0.77407406,\n",
       "       0.74387261, 0.75990221, 0.7349657 , 0.74956439, 0.77264826,\n",
       "       0.77407407, 0.77407406, 0.77407407, 0.77407406, 0.77407407,\n",
       "       0.77407407, 0.77407407, 0.77405735, 0.77407407, 0.77371129,\n",
       "       0.77407269, 0.77407279, 0.77388565, 0.77397864, 0.77407407,\n",
       "       0.77407407, 0.77407407, 0.77407407, 0.77407407, 0.77407407,\n",
       "       0.77407407, 0.77407407, 0.77407407, 0.77407407, 0.77407407,\n",
       "       0.77407407, 0.77407407, 0.77407407, 0.77407407, 0.77406676,\n",
       "       0.77122178, 0.77407407, 0.77407407, 0.77407407, 0.77407407,\n",
       "       0.77407407, 0.77407407, 0.77407407, 0.77407407, 0.77407407,\n",
       "       0.77407407, 0.77407407, 0.77407407, 0.77407407, 0.77407407,\n",
       "       0.77407407, 0.77407407, 0.77407407, 0.77407407, 0.77407407,\n",
       "       0.77407407, 0.77407407, 0.77407407, 0.77407407, 0.77407407,\n",
       "       0.77407407, 0.77407407, 0.77407407, 0.77407385, 0.77407407,\n",
       "       0.77407397, 0.7723409 , 0.77406903, 0.76696285, 0.77407407,\n",
       "       0.77407407, 0.77407403, 0.77351013, 0.77407407, 0.77407407,\n",
       "       0.77407407, 0.77274036, 0.77405923, 0.74263833, 0.77407316,\n",
       "       0.77407407, 0.77407407, 0.77070669, 0.77407407, 0.77407407,\n",
       "       0.77407407, 0.75274165, 0.76755672, 0.77407407, 0.77407407,\n",
       "       0.77407407, 0.77134661, 0.74507419, 0.76584187, 0.77407407,\n",
       "       0.76567803, 0.71717246, 0.71526418, 0.77407407, 0.77407407,\n",
       "       0.77407407, 0.77407281, 0.77407407, 0.77407407, 0.77407407,\n",
       "       0.77407407, 0.77407407, 0.77407407, 0.72382475, 0.70138484,\n",
       "       0.75197867, 0.77407407, 0.77407407, 0.77406945, 0.77407407,\n",
       "       0.77407407, 0.77407407])"
      ]
     },
     "execution_count": 35,
     "metadata": {},
     "output_type": "execute_result"
    }
   ],
   "source": [
    "probs[np.logical_and(probs<0.8,  probs>0.7)]"
   ]
  },
  {
   "cell_type": "code",
   "execution_count": 37,
   "id": "b3a996e0",
   "metadata": {},
   "outputs": [
    {
     "data": {
      "text/html": [
       "<div>\n",
       "<style scoped>\n",
       "    .dataframe tbody tr th:only-of-type {\n",
       "        vertical-align: middle;\n",
       "    }\n",
       "\n",
       "    .dataframe tbody tr th {\n",
       "        vertical-align: top;\n",
       "    }\n",
       "\n",
       "    .dataframe thead th {\n",
       "        text-align: right;\n",
       "    }\n",
       "</style>\n",
       "<table border=\"1\" class=\"dataframe\">\n",
       "  <thead>\n",
       "    <tr style=\"text-align: right;\">\n",
       "      <th></th>\n",
       "      <th>grid_squar</th>\n",
       "      <th>timestep</th>\n",
       "      <th>deaths</th>\n",
       "    </tr>\n",
       "  </thead>\n",
       "  <tbody>\n",
       "    <tr>\n",
       "      <th>687</th>\n",
       "      <td>25001010600</td>\n",
       "      <td>71.0</td>\n",
       "      <td>1.0</td>\n",
       "    </tr>\n",
       "    <tr>\n",
       "      <th>2095</th>\n",
       "      <td>25001012101</td>\n",
       "      <td>71.0</td>\n",
       "      <td>1.0</td>\n",
       "    </tr>\n",
       "    <tr>\n",
       "      <th>2359</th>\n",
       "      <td>25001012502</td>\n",
       "      <td>71.0</td>\n",
       "      <td>1.0</td>\n",
       "    </tr>\n",
       "    <tr>\n",
       "      <th>3503</th>\n",
       "      <td>25001013700</td>\n",
       "      <td>71.0</td>\n",
       "      <td>1.0</td>\n",
       "    </tr>\n",
       "    <tr>\n",
       "      <th>3679</th>\n",
       "      <td>25001013900</td>\n",
       "      <td>71.0</td>\n",
       "      <td>1.0</td>\n",
       "    </tr>\n",
       "    <tr>\n",
       "      <th>...</th>\n",
       "      <td>...</td>\n",
       "      <td>...</td>\n",
       "      <td>...</td>\n",
       "    </tr>\n",
       "    <tr>\n",
       "      <th>141223</th>\n",
       "      <td>25027756102</td>\n",
       "      <td>71.0</td>\n",
       "      <td>2.0</td>\n",
       "    </tr>\n",
       "    <tr>\n",
       "      <th>141487</th>\n",
       "      <td>25027757300</td>\n",
       "      <td>71.0</td>\n",
       "      <td>1.0</td>\n",
       "    </tr>\n",
       "    <tr>\n",
       "      <th>141839</th>\n",
       "      <td>25027758103</td>\n",
       "      <td>71.0</td>\n",
       "      <td>2.0</td>\n",
       "    </tr>\n",
       "    <tr>\n",
       "      <th>142103</th>\n",
       "      <td>25027760100</td>\n",
       "      <td>71.0</td>\n",
       "      <td>1.0</td>\n",
       "    </tr>\n",
       "    <tr>\n",
       "      <th>142279</th>\n",
       "      <td>25027761200</td>\n",
       "      <td>71.0</td>\n",
       "      <td>1.0</td>\n",
       "    </tr>\n",
       "  </tbody>\n",
       "</table>\n",
       "<p>259 rows × 3 columns</p>\n",
       "</div>"
      ],
      "text/plain": [
       "         grid_squar  timestep  deaths\n",
       "687     25001010600      71.0     1.0\n",
       "2095    25001012101      71.0     1.0\n",
       "2359    25001012502      71.0     1.0\n",
       "3503    25001013700      71.0     1.0\n",
       "3679    25001013900      71.0     1.0\n",
       "...             ...       ...     ...\n",
       "141223  25027756102      71.0     2.0\n",
       "141487  25027757300      71.0     1.0\n",
       "141839  25027758103      71.0     2.0\n",
       "142103  25027760100      71.0     1.0\n",
       "142279  25027761200      71.0     1.0\n",
       "\n",
       "[259 rows x 3 columns]"
      ]
     },
     "execution_count": 37,
     "metadata": {},
     "output_type": "execute_result"
    }
   ],
   "source": [
    "yq[np.isclose(probs,0.77407407)]"
   ]
  },
  {
   "cell_type": "code",
   "execution_count": 39,
   "id": "8b5f71b8",
   "metadata": {},
   "outputs": [
    {
     "data": {
      "text/plain": [
       "array([[1.74308219e-03],\n",
       "       [1.89407733e-03],\n",
       "       [1.69807279e-03],\n",
       "       [1.27748855e-03],\n",
       "       [1.30381824e-03],\n",
       "       [8.12991333e-04],\n",
       "       [8.12017906e-04],\n",
       "       [1.11095937e-03],\n",
       "       [1.98406499e-03],\n",
       "       [8.93517547e-04],\n",
       "       [1.65125759e-03],\n",
       "       [9.28317698e-04],\n",
       "       [1.26804105e-03],\n",
       "       [1.42531684e-03],\n",
       "       [5.97028064e-04],\n",
       "       [1.61463993e-03],\n",
       "       [1.84209954e-03],\n",
       "       [1.62485177e-03],\n",
       "       [1.65915955e-03],\n",
       "       [1.48711310e-03],\n",
       "       [1.56347935e-03],\n",
       "       [7.05549518e-04],\n",
       "       [7.25018962e-04],\n",
       "       [5.49023481e-04],\n",
       "       [4.78444204e-04],\n",
       "       [9.37222292e-04],\n",
       "       [1.00597853e-03],\n",
       "       [9.84560611e-04],\n",
       "       [1.10542300e-03],\n",
       "       [6.19372260e-04],\n",
       "       [4.21843781e-04],\n",
       "       [2.79715359e-03],\n",
       "       [5.35187425e-04],\n",
       "       [1.22609378e-03],\n",
       "       [5.03278596e-04],\n",
       "       [3.54489942e-04],\n",
       "       [4.86720303e-04],\n",
       "       [4.23164144e-04],\n",
       "       [6.27133335e-04],\n",
       "       [6.72866987e-04],\n",
       "       [8.19309746e-04],\n",
       "       [8.67637279e-04],\n",
       "       [1.18541258e-03],\n",
       "       [1.07581748e-03],\n",
       "       [7.21009201e-04],\n",
       "       [8.43237023e-04],\n",
       "       [2.70838661e-03],\n",
       "       [1.89780248e-03],\n",
       "       [2.01842043e-03],\n",
       "       [1.65714586e-03],\n",
       "       [7.18726705e-04],\n",
       "       [5.47057076e-04],\n",
       "       [3.03707828e-04],\n",
       "       [4.94220888e-04],\n",
       "       [3.49732260e-04],\n",
       "       [2.15345534e-04],\n",
       "       [4.30132653e-04],\n",
       "       [9.24311975e-04],\n",
       "       [6.43277758e-04],\n",
       "       [4.31934296e-04],\n",
       "       [1.70853123e-03],\n",
       "       [1.53476032e-03],\n",
       "       [1.69311087e-03],\n",
       "       [1.54374824e-03],\n",
       "       [1.59735532e-03],\n",
       "       [1.50332213e-03],\n",
       "       [8.39071545e-04],\n",
       "       [8.21221595e-04],\n",
       "       [5.16151230e-04],\n",
       "       [5.08501751e-04],\n",
       "       [5.48507311e-04],\n",
       "       [7.65945439e-04],\n",
       "       [9.86768772e-04],\n",
       "       [2.22447891e-03],\n",
       "       [1.16611477e-03],\n",
       "       [5.36333554e-04],\n",
       "       [5.22426475e-04],\n",
       "       [4.73077586e-04],\n",
       "       [4.10937891e-04],\n",
       "       [5.83502402e-04],\n",
       "       [6.69074473e-04],\n",
       "       [1.03283633e-03],\n",
       "       [9.62625411e-04],\n",
       "       [5.84700842e-04],\n",
       "       [6.45822968e-04],\n",
       "       [1.39266868e-03],\n",
       "       [1.71779129e-03],\n",
       "       [2.06827090e-03],\n",
       "       [1.64423280e-03],\n",
       "       [1.53894097e-03],\n",
       "       [1.23501672e-03],\n",
       "       [1.63091563e-03],\n",
       "       [1.61034276e-03],\n",
       "       [1.84132808e-03],\n",
       "       [2.12415784e-03],\n",
       "       [4.62684025e-04],\n",
       "       [1.35307891e-03],\n",
       "       [9.77532951e-04],\n",
       "       [7.05841437e-04],\n",
       "       [1.09224577e-03],\n",
       "       [8.32687253e-04],\n",
       "       [1.06553384e-03],\n",
       "       [6.62414895e-04],\n",
       "       [7.96793958e-04],\n",
       "       [9.93580218e-04],\n",
       "       [1.26909532e-03],\n",
       "       [1.85141076e-03],\n",
       "       [1.04528432e-03],\n",
       "       [1.04062613e-03],\n",
       "       [9.25965500e-04],\n",
       "       [9.05654311e-04],\n",
       "       [5.92290568e-04],\n",
       "       [5.83331379e-04],\n",
       "       [7.60085151e-04],\n",
       "       [7.99880689e-04],\n",
       "       [4.07465907e-04],\n",
       "       [4.05030281e-04],\n",
       "       [3.76830311e-04],\n",
       "       [2.24854485e-04],\n",
       "       [5.63755367e-04],\n",
       "       [4.93940328e-04],\n",
       "       [2.71366597e-04],\n",
       "       [4.55831313e-04],\n",
       "       [4.12591708e-04],\n",
       "       [3.29185349e-04],\n",
       "       [2.66707483e-04],\n",
       "       [2.53379342e-04],\n",
       "       [7.38938670e-04],\n",
       "       [2.37510617e-04],\n",
       "       [5.01114563e-04],\n",
       "       [3.52272400e-04],\n",
       "       [8.27109572e-04],\n",
       "       [8.84824649e-04],\n",
       "       [7.91790403e-04],\n",
       "       [2.31010982e-04],\n",
       "       [1.19337067e-03],\n",
       "       [1.14428670e-03],\n",
       "       [1.42192044e-03],\n",
       "       [5.74235971e-04],\n",
       "       [4.97765552e-04],\n",
       "       [1.56861241e-03],\n",
       "       [1.23043038e-03],\n",
       "       [7.87031518e-04],\n",
       "       [5.52164647e-04],\n",
       "       [3.78182051e-04],\n",
       "       [1.12042585e-03],\n",
       "       [6.70162924e-04],\n",
       "       [8.39809827e-04],\n",
       "       [3.49533342e-04],\n",
       "       [5.13838280e-04],\n",
       "       [4.57672834e-04],\n",
       "       [2.48707450e-03],\n",
       "       [1.55593551e-03],\n",
       "       [1.64229784e-03],\n",
       "       [5.37617302e-04],\n",
       "       [5.29314854e-04],\n",
       "       [1.23766098e-03],\n",
       "       [1.29128008e-03],\n",
       "       [1.50061786e-03],\n",
       "       [1.35723395e-03],\n",
       "       [6.93412173e-04],\n",
       "       [1.17635487e-03],\n",
       "       [2.43273398e-03],\n",
       "       [1.64372796e-03],\n",
       "       [1.92677159e-03],\n",
       "       [1.92556712e-03],\n",
       "       [2.08933016e-03],\n",
       "       [1.65221292e-03],\n",
       "       [1.29937647e-03],\n",
       "       [4.80342324e-04],\n",
       "       [8.75982070e-04],\n",
       "       [5.34013556e-04],\n",
       "       [5.94805092e-04],\n",
       "       [9.20746590e-04],\n",
       "       [8.31787562e-04],\n",
       "       [8.50475925e-04],\n",
       "       [9.49776843e-04],\n",
       "       [1.04063874e-03],\n",
       "       [1.31840273e-03],\n",
       "       [1.36325953e-03],\n",
       "       [1.13367907e-03],\n",
       "       [1.10333878e-03],\n",
       "       [2.27216336e-04],\n",
       "       [2.72864290e-04],\n",
       "       [3.43022920e-04],\n",
       "       [2.14000279e-04],\n",
       "       [1.10226486e-03],\n",
       "       [8.49613013e-04],\n",
       "       [3.11487487e-04],\n",
       "       [8.55507233e-04],\n",
       "       [2.47021318e-04],\n",
       "       [7.38384020e-04],\n",
       "       [6.86034735e-04],\n",
       "       [3.21107149e-04],\n",
       "       [4.92899841e-04],\n",
       "       [4.38385057e-04],\n",
       "       [5.81840337e-04],\n",
       "       [1.71194306e-04],\n",
       "       [9.49311992e-05],\n",
       "       [9.37819129e-05],\n",
       "       [9.92985832e-05],\n",
       "       [4.21353400e-04],\n",
       "       [3.10147347e-04],\n",
       "       [2.77895469e-04],\n",
       "       [1.70952370e-04],\n",
       "       [2.50945703e-04],\n",
       "       [2.63862417e-04],\n",
       "       [2.10510318e-04],\n",
       "       [1.91254482e-04],\n",
       "       [1.51473988e-04],\n",
       "       [3.47336753e-04],\n",
       "       [2.78891032e-04],\n",
       "       [5.39961654e-04],\n",
       "       [2.46901028e-04],\n",
       "       [4.27315627e-04],\n",
       "       [3.02671511e-04],\n",
       "       [1.52649607e-03],\n",
       "       [5.51510650e-04],\n",
       "       [3.75461533e-04],\n",
       "       [3.96407540e-04],\n",
       "       [3.05897765e-04],\n",
       "       [4.27846369e-04],\n",
       "       [4.63095361e-04],\n",
       "       [5.45865959e-04],\n",
       "       [4.47183368e-04],\n",
       "       [6.23100835e-04],\n",
       "       [4.26502765e-04],\n",
       "       [4.79094452e-04],\n",
       "       [5.21112700e-04],\n",
       "       [2.04725044e-03],\n",
       "       [2.01619775e-03],\n",
       "       [2.01914311e-03],\n",
       "       [1.88213265e-03],\n",
       "       [5.53518091e-04],\n",
       "       [7.12871368e-04],\n",
       "       [1.48921130e-03],\n",
       "       [1.59470042e-03],\n",
       "       [1.10771296e-03],\n",
       "       [1.37803840e-03],\n",
       "       [5.47571351e-04],\n",
       "       [4.87217558e-04],\n",
       "       [8.06106012e-04],\n",
       "       [5.33900069e-04],\n",
       "       [1.47997466e-03],\n",
       "       [6.94984377e-04],\n",
       "       [1.18421094e-03],\n",
       "       [1.10022963e-03],\n",
       "       [1.03732276e-03],\n",
       "       [9.60005136e-04],\n",
       "       [1.18751366e-03],\n",
       "       [7.99250544e-04],\n",
       "       [1.62597347e-03],\n",
       "       [1.76604600e-03],\n",
       "       [1.27218567e-03],\n",
       "       [1.86393375e-03],\n",
       "       [9.03763635e-04],\n",
       "       [1.08739860e-03],\n",
       "       [1.47515095e-03],\n",
       "       [8.66167399e-04]])"
      ]
     },
     "execution_count": 39,
     "metadata": {},
     "output_type": "execute_result"
    }
   ],
   "source": [
    "norm_var[np.isclose(probs,0.77407407)]"
   ]
  },
  {
   "cell_type": "code",
   "execution_count": 46,
   "id": "eb82969d",
   "metadata": {},
   "outputs": [
    {
     "data": {
      "text/plain": [
       "array([[0.29244528, 0.29244528, 0.29244528, ..., 0.29244528, 0.29244528,\n",
       "        0.29244528],\n",
       "       [0.29434796, 0.29434796, 0.29434796, ..., 0.29434796, 0.29434796,\n",
       "        0.29434796],\n",
       "       [0.24313686, 0.24313686, 0.24313686, ..., 0.24313686, 0.24313686,\n",
       "        0.24313686],\n",
       "       ...,\n",
       "       [0.33157419, 0.33157419, 0.33157419, ..., 0.33157419, 0.33157419,\n",
       "        0.33157419],\n",
       "       [0.30526006, 0.30526006, 0.30526006, ..., 0.30526006, 0.30526006,\n",
       "        0.30526006],\n",
       "       [0.29743427, 0.29743427, 0.29743427, ..., 0.29743427, 0.29743427,\n",
       "        0.29743427]])"
      ]
     },
     "execution_count": 46,
     "metadata": {},
     "output_type": "execute_result"
    }
   ],
   "source": [
    "(norm_cdf_upper_bound-norm_mean)[np.isclose(probs,0.77407407)]"
   ]
  },
  {
   "cell_type": "code",
   "execution_count": 49,
   "id": "96aa7315",
   "metadata": {},
   "outputs": [
    {
     "data": {
      "text/plain": [
       "(1620, 1620)"
      ]
     },
     "execution_count": 49,
     "metadata": {},
     "output_type": "execute_result"
    }
   ],
   "source": [
    "norm_likelihood_lower.shape"
   ]
  },
  {
   "cell_type": "code",
   "execution_count": 48,
   "id": "2f2738d1",
   "metadata": {},
   "outputs": [
    {
     "data": {
      "text/plain": [
       "array([[0.22273666],\n",
       "       [0.18940469],\n",
       "       [0.16785569],\n",
       "       ...,\n",
       "       [0.2121951 ],\n",
       "       [0.13614741],\n",
       "       [0.14060298]])"
      ]
     },
     "execution_count": 48,
     "metadata": {},
     "output_type": "execute_result"
    }
   ],
   "source": [
    "norm_mean"
   ]
  },
  {
   "cell_type": "code",
   "execution_count": 56,
   "id": "9e99a2d0",
   "metadata": {},
   "outputs": [
    {
     "data": {
      "text/plain": [
       "(1620,)"
      ]
     },
     "execution_count": 56,
     "metadata": {},
     "output_type": "execute_result"
    }
   ],
   "source": [
    "scipy.special.erf((norm_cdf_upper_bound-norm_mean.squeeze()) / (np.sqrt(norm_var.squeeze())*np.sqrt(2.0))).shape"
   ]
  },
  {
   "cell_type": "code",
   "execution_count": 55,
   "id": "932321f0",
   "metadata": {},
   "outputs": [
    {
     "data": {
      "text/plain": [
       "(1620,)"
      ]
     },
     "execution_count": 55,
     "metadata": {},
     "output_type": "execute_result"
    }
   ],
   "source": [
    "(norm_cdf_upper_bound-norm_mean.squeeze()).shape"
   ]
  },
  {
   "cell_type": "code",
   "execution_count": 52,
   "id": "af906d98",
   "metadata": {},
   "outputs": [
    {
     "data": {
      "text/plain": [
       "(1620,)"
      ]
     },
     "execution_count": 52,
     "metadata": {},
     "output_type": "execute_result"
    }
   ],
   "source": [
    "norm_cdf_upper_bound.shape"
   ]
  },
  {
   "cell_type": "code",
   "execution_count": 53,
   "id": "3a2fb926",
   "metadata": {},
   "outputs": [
    {
     "data": {
      "text/plain": [
       "(1620, 1)"
      ]
     },
     "execution_count": 53,
     "metadata": {},
     "output_type": "execute_result"
    }
   ],
   "source": [
    "norm_mean.shape"
   ]
  },
  {
   "cell_type": "code",
   "execution_count": 12,
   "id": "d20d8684",
   "metadata": {},
   "outputs": [],
   "source": []
  },
  {
   "cell_type": "code",
   "execution_count": 14,
   "id": "41d7348e",
   "metadata": {},
   "outputs": [],
   "source": []
  },
  {
   "cell_type": "code",
   "execution_count": 10,
   "id": "94a2403c",
   "metadata": {},
   "outputs": [
    {
     "data": {
      "text/plain": [
       "(123120, 1)"
      ]
     },
     "execution_count": 10,
     "metadata": {},
     "output_type": "execute_result"
    }
   ],
   "source": [
    "norm_cdf_upper_bound.shape"
   ]
  },
  {
   "cell_type": "code",
   "execution_count": 13,
   "id": "727b1aff",
   "metadata": {},
   "outputs": [
    {
     "data": {
      "text/plain": [
       "(123120,)"
      ]
     },
     "execution_count": 13,
     "metadata": {},
     "output_type": "execute_result"
    }
   ],
   "source": [
    "(norm_cdf_upper_bound-norm_mean).shape"
   ]
  },
  {
   "cell_type": "code",
   "execution_count": 18,
   "id": "0b991c94",
   "metadata": {},
   "outputs": [
    {
     "data": {
      "text/plain": [
       "(123120,)"
      ]
     },
     "execution_count": 18,
     "metadata": {},
     "output_type": "execute_result"
    }
   ],
   "source": [
    "norm_likelihood_upper.shape"
   ]
  },
  {
   "cell_type": "code",
   "execution_count": 22,
   "id": "42775bbb",
   "metadata": {},
   "outputs": [
    {
     "data": {
      "text/plain": [
       "(6480,)"
      ]
     },
     "execution_count": 22,
     "metadata": {},
     "output_type": "execute_result"
    }
   ],
   "source": [
    "norm_likelihood_upper.shape"
   ]
  },
  {
   "cell_type": "code",
   "execution_count": 25,
   "id": "df537465",
   "metadata": {},
   "outputs": [
    {
     "data": {
      "text/plain": [
       "0.2359567901234568"
      ]
     },
     "execution_count": 25,
     "metadata": {},
     "output_type": "execute_result"
    }
   ],
   "source": [
    "(y_just_2019['deaths'].values.squeeze()>0).mean()"
   ]
  },
  {
   "cell_type": "code",
   "execution_count": 17,
   "id": "06607f47",
   "metadata": {},
   "outputs": [
    {
     "data": {
      "text/plain": [
       "(1620,)"
      ]
     },
     "execution_count": 17,
     "metadata": {},
     "output_type": "execute_result"
    }
   ],
   "source": [
    "norm_likelihood_upper.shape"
   ]
  },
  {
   "cell_type": "code",
   "execution_count": 15,
   "id": "f7a5b5ed",
   "metadata": {},
   "outputs": [
    {
     "data": {
      "text/plain": [
       "0.1419540360946301"
      ]
     },
     "execution_count": 15,
     "metadata": {},
     "output_type": "execute_result"
    }
   ],
   "source": [
    "m.likelihood.variance.value[0]"
   ]
  },
  {
   "cell_type": "code",
   "execution_count": 11,
   "id": "a4e2d867",
   "metadata": {},
   "outputs": [
    {
     "data": {
      "text/plain": [
       "array([0., 0., 0., ..., 0., 1., 0.])"
      ]
     },
     "execution_count": 11,
     "metadata": {},
     "output_type": "execute_result"
    }
   ],
   "source": [
    "m.Y.value.squeeze()"
   ]
  },
  {
   "cell_type": "code",
   "execution_count": null,
   "id": "3aefc5f2",
   "metadata": {},
   "outputs": [],
   "source": []
  }
 ],
 "metadata": {
  "kernelspec": {
   "display_name": "Python 3",
   "language": "python",
   "name": "python3"
  },
  "language_info": {
   "codemirror_mode": {
    "name": "ipython",
    "version": 3
   },
   "file_extension": ".py",
   "mimetype": "text/x-python",
   "name": "python",
   "nbconvert_exporter": "python",
   "pygments_lexer": "ipython3",
   "version": "3.6.15"
  }
 },
 "nbformat": 4,
 "nbformat_minor": 5
}
