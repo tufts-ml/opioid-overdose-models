{
 "cells": [
  {
   "cell_type": "code",
   "execution_count": 1,
   "id": "54dfdfab",
   "metadata": {},
   "outputs": [],
   "source": [
    "%matplotlib inline\n",
    "import os\n",
    "from glob import glob\n",
    "\n",
    "import numpy as np\n",
    "import pandas as pd\n",
    "idx = pd.IndexSlice\n",
    "import matplotlib.pyplot as plt\n",
    "from matplotlib.ticker import MaxNLocator\n",
    "\n",
    "import geopandas as gpd\n",
    "\n",
    "from sklearn.metrics import mean_absolute_error\n",
    "\n",
    "from sklearn.linear_model import LinearRegression\n",
    "from sklearn.neural_network import MLPRegressor\n",
    "\n",
    "import contextily as cx"
   ]
  },
  {
   "cell_type": "code",
   "execution_count": 2,
   "id": "2289e16f",
   "metadata": {},
   "outputs": [],
   "source": [
    "data_dir = '/cluster/tufts/hugheslab/datasets/NSF_OD/'\n",
    "svi_dir = os.path.join(data_dir,'SocialVulnerabilityIndex')\n",
    "result_dir = os.path.join(data_dir, 'results')\n",
    "mass_shapefile = os.path.join(data_dir,'shapefiles','MA_2021')"
   ]
  },
  {
   "cell_type": "code",
   "execution_count": 3,
   "id": "3326e6b5",
   "metadata": {},
   "outputs": [],
   "source": [
    "svi_file = os.path.join(result_dir,'svi_month')\n",
    "svi_gdf = gpd.read_file(svi_file)"
   ]
  },
  {
   "cell_type": "code",
   "execution_count": 4,
   "id": "d40bd3bc",
   "metadata": {},
   "outputs": [],
   "source": [
    "svi_gdf = svi_gdf.rename(columns={'INTPTLAT':'lat', 'INTPTLON':'lon', 'GEOID':'grid_squar'})\n",
    "# Make lat and lon floats\n",
    "svi_gdf.loc[:, 'lat'] = svi_gdf.lat.astype(float)\n",
    "svi_gdf.loc[:, 'lon'] = svi_gdf.lon.astype(float)\n",
    "deaths_gdf = svi_gdf\n",
    "\n",
    "just_grid = deaths_gdf.loc[(deaths_gdf['year']==2000)&(deaths_gdf['month']==1), ['grid_squar','geometry', 'lat', 'lon']]\n"
   ]
  },
  {
   "cell_type": "code",
   "execution_count": 5,
   "id": "cff96b66",
   "metadata": {},
   "outputs": [],
   "source": [
    "# Make lat and lon floats\n",
    "deaths_gdf.loc[:, 'lat'] = deaths_gdf.lat.astype(float)\n",
    "deaths_gdf.loc[:, 'lon'] = deaths_gdf.lon.astype(float)\n",
    "\n",
    "from math import radians, cos, sin, asin, sqrt\n",
    "\n",
    "def haversine(lon1, lat1, lon2, lat2):\n",
    "    \"\"\"\n",
    "    Calculate the great circle distance in kilometers between two points \n",
    "    on the earth (specified in decimal degrees)\n",
    "    https://stackoverflow.com/a/4913653/1748679\n",
    "    \"\"\"\n",
    "    # convert decimal degrees to radians \n",
    "    lon1, lat1, lon2, lat2 = map(radians, [lon1, lat1, lon2, lat2])\n",
    "\n",
    "    # haversine formula \n",
    "    dlon = lon2 - lon1 \n",
    "    dlat = lat2 - lat1 \n",
    "    a = sin(dlat/2)**2 + cos(lat1) * cos(lat2) * sin(dlon/2)**2\n",
    "    c = 2 * asin(sqrt(a)) \n",
    "    r = 6371 # Radius of earth in kilometers. Use 3956 for miles. Determines return value units.\n",
    "    return c * r"
   ]
  },
  {
   "cell_type": "code",
   "execution_count": 6,
   "id": "1be9a4c8",
   "metadata": {},
   "outputs": [],
   "source": [
    "# Calculate each squares neighbors\n",
    "neighbors = {}\n",
    "for _, row in just_grid.iterrows():\n",
    "    just_grid.loc[:,'haversine'] = just_grid.apply(lambda x: haversine(row['lon'], row['lat'],\n",
    "                                                                         x['lon'], x['lat']),\n",
    "                                                  axis=1)\n",
    "    matching_neighbors = just_grid[just_grid['haversine']<5]['grid_squar'].values\n",
    "    neighbors[row['grid_squar']]=matching_neighbors"
   ]
  },
  {
   "cell_type": "code",
   "execution_count": 7,
   "id": "75518cb4",
   "metadata": {},
   "outputs": [],
   "source": [
    "\n",
    "tracts = deaths_gdf['grid_squar'].unique()\n",
    "min_year = deaths_gdf.year.min()\n",
    "max_year = deaths_gdf.year.max()\n",
    "deaths_gdf = deaths_gdf.set_index(['grid_squar','year','month']).sort_index()\n",
    "\n",
    "month_since_2000 = 0\n",
    "season_since_2000 = 0\n",
    "qtr_since_2000 = 0\n",
    "for year in range(min_year, max_year+1):\n",
    "    for month in range(1, 12+1):\n",
    "        \n",
    "        if month in [1,2,3,4,5,6]:\n",
    "            season='janjun'\n",
    "        else:\n",
    "            season='juldec'\n",
    "            \n",
    "        if month <= 3:\n",
    "            qtr = 1\n",
    "        elif month <= 6:\n",
    "            qtr = 2\n",
    "        elif month <= 9:\n",
    "            qtr = 3\n",
    "        else:\n",
    "            qtr = 4\n",
    "        \n",
    "        deaths_gdf.loc[idx[:,year, month], 'month_since_2000'] = month_since_2000\n",
    "        deaths_gdf.loc[idx[:,year, month], 'season'] = season\n",
    "        deaths_gdf.loc[idx[:,year, month], 'season_since_2000'] = season_since_2000\n",
    "        deaths_gdf.loc[idx[:,year, month], 'quarter'] = qtr\n",
    "        deaths_gdf.loc[idx[:,year, month], 'qtr_since_2000'] = qtr_since_2000\n",
    "        \n",
    "        month_since_2000+=1\n",
    "        \n",
    "        if month in [6, 12]:\n",
    "            season_since_2000 += 1\n",
    "        \n",
    "        if month in [3,6,9,12]:\n",
    "            qtr_since_2000 += 1\n",
    "        "
   ]
  },
  {
   "cell_type": "code",
   "execution_count": 8,
   "id": "dac52099",
   "metadata": {},
   "outputs": [],
   "source": [
    "deaths_gdf = deaths_gdf.reset_index()\n",
    "tracts = deaths_gdf['grid_squar'].unique()\n",
    "min_year = deaths_gdf.year.min()\n",
    "max_year = deaths_gdf.year.max()\n",
    "deaths_gdf = deaths_gdf.set_index(['grid_squar','year','month']).sort_index()\n",
    "deaths_gdf.loc[idx[:,:,:],'last_timestep'] = deaths_gdf.loc[idx[:,:,:],'deaths'].shift(1,)\n",
    "deaths_gdf.loc[idx[:,:,:],'last_year'] = deaths_gdf.loc[idx[:,:,:],'deaths'].shift(12)\n",
    "deaths_gdf.loc[idx[:,:,:],'delta_deaths'] = deaths_gdf.loc[idx[:,:,:],'deaths'] - deaths_gdf.loc[idx[:,:,:],'last_timestep']\n",
    "for tract in tracts:\n",
    "     deaths_gdf.loc[idx[tract,:,:],'neighbors_last_timestep']= \\\n",
    "        deaths_gdf.loc[idx[neighbors[tract],:,:],'last_timestep'].groupby(level=['year', 'month']).mean().shift(1).values\n",
    "     deaths_gdf.loc[idx[tract,:,:],'neighbors_last_year']= \\\n",
    "        deaths_gdf.loc[idx[neighbors[tract],:,:],'last_year'].groupby(level=['year', 'month']).mean().shift(12).values\n",
    "    \n"
   ]
  },
  {
   "cell_type": "code",
   "execution_count": 9,
   "id": "3fc65988",
   "metadata": {},
   "outputs": [],
   "source": [
    "deaths_gdf_qtr = deaths_gdf.groupby(['grid_squar','year','quarter','qtr_since_2000']).sum(min_count=3)[['deaths','delta_deaths','last_timestep','last_year', 'neighbors_last_timestep','neighbors_last_year']]\n",
    "deaths_gdf_qtr.loc[idx[:,:,:,:],'last_timestep'] = deaths_gdf_qtr.loc[idx[:,:,:,:],'deaths'].shift(1,)\n",
    "deaths_gdf_qtr.loc[idx[:,:,:,:],'last_year'] = deaths_gdf_qtr.loc[idx[:,:,:,:],'deaths'].shift(4)\n",
    "deaths_gdf_qtr.loc[idx[:,:,:,:],'delta_deaths'] = deaths_gdf_qtr.loc[idx[:,:,:,:],'deaths'] - deaths_gdf_qtr.loc[idx[:,:,:,:],'last_timestep']\n",
    "for tract in tracts:\n",
    "     deaths_gdf_qtr.loc[idx[tract,:,:,:],'neighbors_last_timestep']= \\\n",
    "        deaths_gdf_qtr.loc[idx[neighbors[tract],:,:,:],'last_timestep'].groupby(level=['year', 'quarter','qtr_since_2000']).mean().shift(1).values\n",
    "     deaths_gdf_qtr.loc[idx[tract,:,:,:],'neighbors_last_year']= \\\n",
    "        deaths_gdf_qtr.loc[idx[neighbors[tract],:,:,:],'last_year'].groupby(level=['year','quarter', 'qtr_since_2000']).mean().shift(4).values\n",
    "    \n",
    "deaths_gdf_qtr = deaths_gdf_qtr.reset_index()"
   ]
  },
  {
   "cell_type": "code",
   "execution_count": 10,
   "id": "65ce4ce1",
   "metadata": {},
   "outputs": [],
   "source": [
    "deaths_gdf_season = deaths_gdf.groupby(['grid_squar','year','season','season_since_2000']).sum(min_count=6)[['deaths','delta_deaths','last_timestep','last_year', 'neighbors_last_timestep','neighbors_last_year']]\n",
    "deaths_gdf_season.loc[idx[:,:,:,:],'last_timestep'] = deaths_gdf_season.loc[idx[:,:,:,:],'deaths'].shift(1,)\n",
    "deaths_gdf_season.loc[idx[:,:,:,:],'last_year'] = deaths_gdf_season.loc[idx[:,:,:,:],'deaths'].shift(2)\n",
    "deaths_gdf_season.loc[idx[:,:,::,],'delta_deaths'] = deaths_gdf_season.loc[idx[:,:,:,:],'deaths'] - deaths_gdf_season.loc[idx[:,:,:],'last_timestep']\n",
    "for tract in tracts:\n",
    "     deaths_gdf_season.loc[idx[tract,:,:,:],'neighbors_last_timestep']= \\\n",
    "        deaths_gdf_season.loc[idx[neighbors[tract],:,:,:],'last_timestep'].groupby(level=[ 'season_since_2000']).mean().shift(1).values\n",
    "     deaths_gdf_season.loc[idx[tract,:,:,:],'neighbors_last_year']= \\\n",
    "        deaths_gdf_season.loc[idx[neighbors[tract],:,:,:],'last_year'].groupby(level=[ 'season_since_2000']).mean().shift(2).values\n",
    "    \n",
    "deaths_gdf_season = deaths_gdf_season.reset_index()"
   ]
  },
  {
   "cell_type": "code",
   "execution_count": 13,
   "id": "381066c5",
   "metadata": {},
   "outputs": [],
   "source": [
    "qtr_2019 = deaths_gdf_qtr[deaths_gdf_qtr['year']==2019]"
   ]
  },
  {
   "cell_type": "code",
   "execution_count": 26,
   "id": "81ccd9f2",
   "metadata": {},
   "outputs": [
    {
     "name": "stdout",
     "output_type": "stream",
     "text": [
      "394.0/443.0, 170.0/443.0\n",
      "395.0/444.0, 171.0/444.0\n",
      "411.0/456.0, 187.0/456.0\n",
      "404.0/494.0, 180.0/494.0\n"
     ]
    }
   ],
   "source": [
    "pct_20p =[]\n",
    "pct_100 = []\n",
    "for quarter in range(1,4+1):\n",
    "    this_month_true = qtr_2019[qtr_2019['quarter']==quarter].set_index('grid_squar')['deaths']\n",
    "    tot_deaths = this_month_true.sum()\n",
    "    sorted_vals = this_month_true.sort_values(ascending=False)\n",
    "    sum_20p = sorted_vals.iloc[:162*2].sum()\n",
    "    sum_100 = sorted_vals.iloc[:100].sum()\n",
    "    pct_20p.append(sum_20p/tot_deaths)\n",
    "    pct_100.append(sum_100/tot_deaths)\n",
    "    \n",
    "    print(f'{sum_20p}/{tot_deaths}, {sum_100}/{tot_deaths}')"
   ]
  },
  {
   "cell_type": "code",
   "execution_count": 30,
   "id": "196f3991",
   "metadata": {},
   "outputs": [
    {
     "data": {
      "text/plain": [
       "(0.3858356255996449, 0.8745399283707173)"
      ]
     },
     "execution_count": 30,
     "metadata": {},
     "output_type": "execute_result"
    }
   ],
   "source": [
    "np.mean(pct_100), np.mean(pct_20p)"
   ]
  },
  {
   "cell_type": "code",
   "execution_count": 33,
   "id": "dbefe7ca",
   "metadata": {},
   "outputs": [
    {
     "name": "stdout",
     "output_type": "stream",
     "text": [
      "577.0/887.0, 261.0/887.0\n",
      "620.0/950.0, 278.0/950.0\n"
     ]
    }
   ],
   "source": [
    "season_2019 = deaths_gdf_season[deaths_gdf_season['year']==2019]\n",
    "pct_20p =[]\n",
    "pct_100 = []\n",
    "for season in ['janjun','juldec']:\n",
    "    this_month_true = season_2019[season_2019['season']==season].set_index('grid_squar')['deaths']\n",
    "    tot_deaths = this_month_true.sum()\n",
    "    sorted_vals = this_month_true.sort_values(ascending=False)\n",
    "    sum_20p = sorted_vals.iloc[:162*2].sum()\n",
    "    sum_100 = sorted_vals.iloc[:100].sum()\n",
    "    pct_20p.append(sum_20p/tot_deaths)\n",
    "    pct_100.append(sum_100/tot_deaths)\n",
    "    \n",
    "    print(f'{sum_20p}/{tot_deaths}, {sum_100}/{tot_deaths}')"
   ]
  },
  {
   "cell_type": "code",
   "execution_count": 34,
   "id": "79b5fa07",
   "metadata": {},
   "outputs": [
    {
     "data": {
      "text/plain": [
       "(0.29344093039814867, 0.6515694535097609)"
      ]
     },
     "execution_count": 34,
     "metadata": {},
     "output_type": "execute_result"
    }
   ],
   "source": [
    "np.mean(pct_100), np.mean(pct_20p)"
   ]
  },
  {
   "cell_type": "code",
   "execution_count": null,
   "id": "fe48b0e1",
   "metadata": {},
   "outputs": [],
   "source": []
  }
 ],
 "metadata": {
  "kernelspec": {
   "display_name": "Python 3 (ipykernel)",
   "language": "python",
   "name": "python3"
  },
  "language_info": {
   "codemirror_mode": {
    "name": "ipython",
    "version": 3
   },
   "file_extension": ".py",
   "mimetype": "text/x-python",
   "name": "python",
   "nbconvert_exporter": "python",
   "pygments_lexer": "ipython3",
   "version": "3.9.13"
  }
 },
 "nbformat": 4,
 "nbformat_minor": 5
}
