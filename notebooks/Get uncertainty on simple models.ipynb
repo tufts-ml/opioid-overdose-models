{
 "cells": [
  {
   "cell_type": "code",
   "execution_count": 1,
   "id": "503f028b",
   "metadata": {},
   "outputs": [
    {
     "name": "stderr",
     "output_type": "stream",
     "text": [
      "2023-06-29 11:00:29.485251: I tensorflow/core/util/port.cc:110] oneDNN custom operations are on. You may see slightly different numerical results due to floating-point round-off errors from different computation orders. To turn them off, set the environment variable `TF_ENABLE_ONEDNN_OPTS=0`.\n",
      "2023-06-29 11:00:29.487284: I tensorflow/tsl/cuda/cudart_stub.cc:28] Could not find cuda drivers on your machine, GPU will not be used.\n",
      "2023-06-29 11:00:29.531060: I tensorflow/tsl/cuda/cudart_stub.cc:28] Could not find cuda drivers on your machine, GPU will not be used.\n",
      "2023-06-29 11:00:29.531630: I tensorflow/core/platform/cpu_feature_guard.cc:182] This TensorFlow binary is optimized to use available CPU instructions in performance-critical operations.\n",
      "To enable the following instructions: AVX2 AVX512F AVX512_VNNI FMA, in other operations, rebuild TensorFlow with the appropriate compiler flags.\n",
      "2023-06-29 11:00:30.794804: W tensorflow/compiler/tf2tensorrt/utils/py_utils.cc:38] TF-TRT Warning: Could not find TensorRT\n"
     ]
    }
   ],
   "source": [
    "import geopandas as gpd\n",
    "\n",
    "import numpy as np\n",
    "import pandas as pd\n",
    "from pandas import IndexSlice as idx\n",
    "import tensorflow as tf\n",
    "import sys\n",
    "import os\n",
    "import glob\n",
    "\n",
    "from functools import partial\n",
    "from sklearn.metrics import mean_squared_error, mean_absolute_error\n",
    "from math import sqrt\n",
    "\n",
    "\n",
    "\n",
    "\n",
    "code_dir = '/cluster/home/kheuto01/code/opioid-overdose-models/perturbations/'\n",
    "sys.path.append(code_dir)\n",
    "code_dir = '/cluster/home/kheuto01/code/opioid-overdose-models/diff_bpr'\n",
    "sys.path.append(code_dir)\n",
    "from top_k import top_k_idx\n",
    "#from make_datasets import make_data\n",
    "from bpr_model import PerturbedBPRLinearModel, PerturbedBPRMLPModel\n",
    "from make_datasets import make_data\n",
    "\n",
    "\n",
    "code_dir = '/cluster/home/kheuto01/code/opioid-overdose-models/'\n",
    "sys.path.append(code_dir)\n",
    "from zinf_gp.metrics import normcdf, fixed_top_X\n",
    "\n",
    "\n",
    "\n",
    "from perturbations import perturbed\n",
    "from bpr import bpr_variable_k_no_ties\n",
    "\n"
   ]
  },
  {
   "cell_type": "code",
   "execution_count": 2,
   "id": "1eb793c8",
   "metadata": {},
   "outputs": [],
   "source": [
    "data_path='/cluster/tufts/hugheslab/datasets/NSF_OD/results_20220606_update/clean_annual_tract/'\n"
   ]
  },
  {
   "cell_type": "code",
   "execution_count": 3,
   "id": "4b695d6a",
   "metadata": {},
   "outputs": [],
   "source": [
    "best_model = 'n0.3_samp50_lr0.01_hs50_10_lb5'\n",
    "noise = 0.3\n",
    "perturbation_samples = 50\n",
    "hidden_sizes = [50, 10]\n",
    "lookback_years=5\n",
    "learning_rate=0.01\n",
    "add_spacetime=True\n",
    "add_svi=True"
   ]
  },
  {
   "cell_type": "code",
   "execution_count": 5,
   "id": "b28154b4",
   "metadata": {},
   "outputs": [
    {
     "name": "stderr",
     "output_type": "stream",
     "text": [
      "2023-06-29 11:06:17.562253: E tensorflow/compiler/xla/stream_executor/cuda/cuda_driver.cc:266] failed call to cuInit: CUDA_ERROR_NO_DEVICE: no CUDA-capable device is detected\n",
      "2023-06-29 11:06:17.562295: I tensorflow/compiler/xla/stream_executor/cuda/cuda_diagnostics.cc:168] retrieving CUDA diagnostic information for host: s1cmp008.pax.tufts.edu\n",
      "2023-06-29 11:06:17.562303: I tensorflow/compiler/xla/stream_executor/cuda/cuda_diagnostics.cc:175] hostname: s1cmp008.pax.tufts.edu\n",
      "2023-06-29 11:06:17.562424: I tensorflow/compiler/xla/stream_executor/cuda/cuda_diagnostics.cc:199] libcuda reported version is: 515.65.1\n",
      "2023-06-29 11:06:17.562456: I tensorflow/compiler/xla/stream_executor/cuda/cuda_diagnostics.cc:203] kernel reported version is: 515.65.1\n",
      "2023-06-29 11:06:17.562462: I tensorflow/compiler/xla/stream_executor/cuda/cuda_diagnostics.cc:309] kernel version seems to match DSO: 515.65.1\n"
     ]
    }
   ],
   "source": [
    "epochs = 3000\n",
    "seed = 360\n",
    "time_window = lookback_years\n",
    "timesteps_per_year = 1\n",
    "first_train_eval_year = 2013\n",
    "last_train_eval_year = 2017\n",
    "batch_dim_size = (last_train_eval_year - first_train_eval_year + 1)*timesteps_per_year\n",
    "validation_year = 2018\n",
    "first_test_year = 2019\n",
    "last_test_year = 2020\n",
    "\n",
    "\n",
    "tf.random.set_seed(seed)\n",
    "\n",
    "\n",
    "timestep_col = 'timestep'\n",
    "geography_col = 'geoid'\n",
    "outcome_col = 'deaths'\n",
    "\n",
    "x_idx_cols = [geography_col, 'lat', 'lon', timestep_col,\n",
    "              'theme_1_pc', 'theme_2_pc', 'theme_3_pc', 'theme_4_pc',\n",
    "              'svi_pctile', 'year',\n",
    "              'neighbor_t', 'deaths']\n",
    "y_idx_cols = [geography_col, timestep_col, outcome_col]\n",
    "features_only = ['deaths']\n",
    "\n",
    "if add_spacetime:\n",
    "    features_only += ['lat', 'lon', timestep_col]\n",
    "if add_svi:\n",
    "    features_only += ['theme_1_pc', 'theme_2_pc', 'theme_3_pc', 'theme_4_pc', 'svi_pctile']\n",
    "\n",
    "\n",
    "data_gdf = gpd.read_file(data_path)\n",
    "\n",
    "multiindexed_gdf = data_gdf.set_index(['geoid', 'timestep'])\n",
    "multiindexed_gdf['timestep'] = multiindexed_gdf.index.get_level_values('timestep')\n",
    "num_geoids = len(data_gdf['geoid'].unique())\n",
    "\n",
    "train_shape = (num_geoids, time_window, len(features_only))\n",
    "\n",
    "train_x_BSF_flat, train_y_BS = make_data(multiindexed_gdf, first_train_eval_year, last_train_eval_year,\n",
    "                                                  time_window, features_only, train_shape, pred_lag=timesteps_per_year)\n",
    "\n",
    "valid_x_BSF_flat, valid_y_BS = make_data(multiindexed_gdf, validation_year, validation_year,\n",
    "                                         time_window, features_only, train_shape, pred_lag=timesteps_per_year)\n",
    "\n",
    "test_x_BSF_flat, test_y_BS = make_data(multiindexed_gdf, first_test_year, last_test_year,\n",
    "                                       time_window, features_only, train_shape, pred_lag=timesteps_per_year)\n",
    "\n",
    "norm_layer = tf.keras.layers.Normalization()\n",
    "norm_layer.adapt(train_x_BSF_flat)\n",
    "train_x_BSF_flat = norm_layer(train_x_BSF_flat)\n",
    "valid_x_BSF_flat = norm_layer(valid_x_BSF_flat)\n",
    "test_x_BSF_flat = norm_layer(test_x_BSF_flat)\n",
    "\n",
    "top_100_idx_func = partial(top_k_idx, k=100)"
   ]
  },
  {
   "cell_type": "code",
   "execution_count": 7,
   "id": "7f2b97c9",
   "metadata": {},
   "outputs": [
    {
     "name": "stdout",
     "output_type": "stream",
     "text": [
      "Removed: 250, 0.949377\n"
     ]
    }
   ],
   "source": [
    "true_deaths = multiindexed_gdf.loc[idx[:,18],:].drop(columns='timestep').reset_index().set_index('geoid')['deaths']\n",
    "deaths_index = true_deaths.index.values\n",
    "num_tracts = len(deaths_index)\n",
    "removed_tracts = 250\n",
    "num_sampled = num_tracts - removed_tracts\n",
    "K = 100\n",
    "rng = np.random.default_rng(seed=360)\n",
    "\n",
    "ratios = []\n",
    "\n",
    "for _ in range(5000):\n",
    "\n",
    "    sampled_indicies = rng.choice(deaths_index, size=num_sampled, replace=False)\n",
    "\n",
    "\n",
    "\n",
    "    top_K_orig_deaths = true_deaths.sort_values(ascending=False)[:K].sum()\n",
    "    top_K_sampled_deaths = true_deaths[sampled_indicies].sort_values(ascending=False)[:K].sum()\n",
    "    ratio = top_K_sampled_deaths/top_K_orig_deaths\n",
    "    ratios.append(ratio)\n",
    "\n",
    "print(f'Removed: {removed_tracts}, {np.mean(ratios):2f}')\n"
   ]
  },
  {
   "cell_type": "code",
   "execution_count": 8,
   "id": "b0c66f8e",
   "metadata": {},
   "outputs": [],
   "source": [
    "'''bprs_2019=[]\n",
    "bprs_2020=[]\n",
    "avg_2018 = multiindexed_gdf[(multiindexed_gdf['year']<=2018)&(multiindexed_gdf['year']>2017)].groupby(level='geoid')['deaths'].mean()\n",
    "avg_2019 = multiindexed_gdf[(multiindexed_gdf['year']<=2019)&(multiindexed_gdf['year']>2018)].groupby(level='geoid')['deaths'].mean()\n",
    "\n",
    "this_2019 = multiindexed_gdf.loc[idx[:,19],:].drop(columns='timestep').reset_index().set_index('geoid')['deaths']\n",
    "this_2020 = multiindexed_gdf.loc[idx[:,20],:].drop(columns='timestep').reset_index().set_index('geoid')['deaths']\n",
    "\n",
    "rng = np.random.default_rng(seed=360)\n",
    "for _ in range(5000):\n",
    "    sampled_indicies = rng.choice(deaths_index, size=num_sampled, replace=False)\n",
    "    \n",
    "    bprs_2019.append(fixed_top_X(this_2019[sampled_indicies],\n",
    "                            avg_2018[sampled_indicies],\n",
    "                            X=K)[-1])\n",
    "    bprs_2020.append(fixed_top_X(this_2020[sampled_indicies],\n",
    "                            avg_2019[sampled_indicies],\n",
    "                            X=K)[-1])'''\n"
   ]
  },
  {
   "cell_type": "code",
   "execution_count": 11,
   "id": "8f2e2ffb",
   "metadata": {},
   "outputs": [
    {
     "data": {
      "text/plain": [
       "(0.5284667108701334, 0.5555312241298624, 0.5820594055608819)"
      ]
     },
     "execution_count": 11,
     "metadata": {},
     "output_type": "execute_result"
    }
   ],
   "source": [
    "np.percentile(bprs_2019,2.5), np.mean(bprs_2019), np.percentile(bprs_2019, 97.5)"
   ]
  },
  {
   "cell_type": "code",
   "execution_count": 12,
   "id": "3af7b244",
   "metadata": {},
   "outputs": [
    {
     "data": {
      "text/plain": [
       "(0.49328887733887733, 0.5186752137758748, 0.5425300791633709)"
      ]
     },
     "execution_count": 12,
     "metadata": {},
     "output_type": "execute_result"
    }
   ],
   "source": [
    "np.percentile(bprs_2020,2.5), np.mean(bprs_2020), np.percentile(bprs_2020, 97.5)"
   ]
  },
  {
   "cell_type": "code",
   "execution_count": 15,
   "id": "3237470b",
   "metadata": {},
   "outputs": [],
   "source": [
    "avg_bprs = (np.array(bprs_2019)+np.array(bprs_2020))/2"
   ]
  },
  {
   "cell_type": "code",
   "execution_count": 17,
   "id": "9cd8fda0",
   "metadata": {},
   "outputs": [
    {
     "data": {
      "text/plain": [
       "(0.5179313792392178, 0.5371032189528686, 0.5557686305838546)"
      ]
     },
     "execution_count": 17,
     "metadata": {},
     "output_type": "execute_result"
    }
   ],
   "source": [
    "np.percentile(avg_bprs,2.5), np.mean(avg_bprs), np.percentile(avg_bprs, 97.5)"
   ]
  },
  {
   "cell_type": "code",
   "execution_count": 18,
   "id": "98c80cee",
   "metadata": {},
   "outputs": [
    {
     "data": {
      "text/plain": [
       "0.5444230769230769"
      ]
     },
     "execution_count": 18,
     "metadata": {},
     "output_type": "execute_result"
    }
   ],
   "source": [
    "fixed_top_X(this_2019,\n",
    "                            avg_2018,\n",
    "                            X=K)[-1]"
   ]
  },
  {
   "cell_type": "code",
   "execution_count": 19,
   "id": "e8a54e6b",
   "metadata": {},
   "outputs": [
    {
     "data": {
      "text/plain": [
       "0.5187334669338677"
      ]
     },
     "execution_count": 19,
     "metadata": {},
     "output_type": "execute_result"
    }
   ],
   "source": [
    "fixed_top_X(this_2020,\n",
    "                            avg_2019,\n",
    "                            X=K)[-1]"
   ]
  },
  {
   "cell_type": "code",
   "execution_count": 20,
   "id": "5dfc7557",
   "metadata": {},
   "outputs": [
    {
     "data": {
      "text/plain": [
       "0.5315782719284723"
      ]
     },
     "execution_count": 20,
     "metadata": {},
     "output_type": "execute_result"
    }
   ],
   "source": [
    "np.mean([0.5444230769230769,0.5187334669338677 ])"
   ]
  },
  {
   "cell_type": "code",
   "execution_count": 23,
   "id": "d27ccb8d",
   "metadata": {},
   "outputs": [
    {
     "data": {
      "text/plain": [
       "499.0"
      ]
     },
     "execution_count": 23,
     "metadata": {},
     "output_type": "execute_result"
    }
   ],
   "source": [
    "this_2020.sort_values(ascending=False)[:100].sum()"
   ]
  },
  {
   "cell_type": "code",
   "execution_count": null,
   "id": "fb2263ab",
   "metadata": {},
   "outputs": [],
   "source": []
  }
 ],
 "metadata": {
  "kernelspec": {
   "display_name": "Python 3 (ipykernel)",
   "language": "python",
   "name": "python3"
  },
  "language_info": {
   "codemirror_mode": {
    "name": "ipython",
    "version": 3
   },
   "file_extension": ".py",
   "mimetype": "text/x-python",
   "name": "python",
   "nbconvert_exporter": "python",
   "pygments_lexer": "ipython3",
   "version": "3.8.16"
  }
 },
 "nbformat": 4,
 "nbformat_minor": 5
}
