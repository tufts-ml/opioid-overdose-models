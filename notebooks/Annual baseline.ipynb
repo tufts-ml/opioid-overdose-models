{
 "cells": [
  {
   "cell_type": "code",
   "execution_count": 1,
   "id": "6e6fb655",
   "metadata": {},
   "outputs": [
    {
     "name": "stderr",
     "output_type": "stream",
     "text": [
      "2023-05-30 00:54:05.018132: I tensorflow/core/util/port.cc:110] oneDNN custom operations are on. You may see slightly different numerical results due to floating-point round-off errors from different computation orders. To turn them off, set the environment variable `TF_ENABLE_ONEDNN_OPTS=0`.\n",
      "2023-05-30 00:54:05.020108: I tensorflow/tsl/cuda/cudart_stub.cc:28] Could not find cuda drivers on your machine, GPU will not be used.\n",
      "2023-05-30 00:54:05.066062: I tensorflow/tsl/cuda/cudart_stub.cc:28] Could not find cuda drivers on your machine, GPU will not be used.\n",
      "2023-05-30 00:54:05.066685: I tensorflow/core/platform/cpu_feature_guard.cc:182] This TensorFlow binary is optimized to use available CPU instructions in performance-critical operations.\n",
      "To enable the following instructions: AVX2 AVX512F AVX512_VNNI FMA, in other operations, rebuild TensorFlow with the appropriate compiler flags.\n",
      "2023-05-30 00:54:07.141602: W tensorflow/compiler/tf2tensorrt/utils/py_utils.cc:38] TF-TRT Warning: Could not find TensorRT\n"
     ]
    }
   ],
   "source": [
    "import geopandas as gpd\n",
    "\n",
    "import numpy as np\n",
    "import pandas as pd\n",
    "from pandas import IndexSlice as idx\n",
    "import tensorflow as tf\n",
    "import sys\n",
    "import os\n",
    "import glob\n",
    "\n",
    "from functools import partial\n",
    "\n",
    "\n",
    "\n",
    "code_dir = '/cluster/home/kheuto01/code/opioid-overdose-models/perturbations/'\n",
    "sys.path.append(code_dir)\n",
    "code_dir = '/cluster/home/kheuto01/code/opioid-overdose-models/diff_bpr'\n",
    "sys.path.append(code_dir)\n",
    "from top_k import top_k_idx\n",
    "#from make_datasets import make_data\n",
    "from bpr_model import PerturbedBPRLinearModel\n",
    "from make_datasets import make_data\n",
    "\n",
    "\n",
    "code_dir = '/cluster/home/kheuto01/code/opioid-overdose-models/'\n",
    "sys.path.append(code_dir)\n",
    "from zinf_gp.metrics import normcdf, fixed_top_X\n",
    "\n",
    "\n",
    "\n",
    "from perturbations import perturbed\n",
    "from bpr import bpr_variable_k_no_ties\n",
    "\n"
   ]
  },
  {
   "cell_type": "code",
   "execution_count": 2,
   "id": "e3e9f6cd",
   "metadata": {},
   "outputs": [],
   "source": [
    "data_path='/cluster/tufts/hugheslab/datasets/NSF_OD/results_20220606_update/clean_annual_tract/'"
   ]
  },
  {
   "cell_type": "code",
   "execution_count": 8,
   "id": "3beedbdb",
   "metadata": {},
   "outputs": [
    {
     "name": "stderr",
     "output_type": "stream",
     "text": [
      "2023-05-30 00:59:53.093195: E tensorflow/compiler/xla/stream_executor/cuda/cuda_driver.cc:266] failed call to cuInit: CUDA_ERROR_NO_DEVICE: no CUDA-capable device is detected\n",
      "2023-05-30 00:59:53.093283: I tensorflow/compiler/xla/stream_executor/cuda/cuda_diagnostics.cc:168] retrieving CUDA diagnostic information for host: p1cmp078.pax.tufts.edu\n",
      "2023-05-30 00:59:53.093309: I tensorflow/compiler/xla/stream_executor/cuda/cuda_diagnostics.cc:175] hostname: p1cmp078.pax.tufts.edu\n",
      "2023-05-30 00:59:53.093434: I tensorflow/compiler/xla/stream_executor/cuda/cuda_diagnostics.cc:199] libcuda reported version is: 515.65.1\n",
      "2023-05-30 00:59:53.093463: I tensorflow/compiler/xla/stream_executor/cuda/cuda_diagnostics.cc:203] kernel reported version is: 515.65.1\n",
      "2023-05-30 00:59:53.093469: I tensorflow/compiler/xla/stream_executor/cuda/cuda_diagnostics.cc:309] kernel version seems to match DSO: 515.65.1\n"
     ]
    }
   ],
   "source": [
    "epochs = 5000\n",
    "seed = 360\n",
    "time_window = 5\n",
    "timesteps_per_year = 1\n",
    "first_train_eval_year = 2013\n",
    "last_train_eval_year = 2017\n",
    "batch_dim_size = (last_train_eval_year - first_train_eval_year + 1)*timesteps_per_year\n",
    "validation_year = 2018\n",
    "first_test_year = 2019\n",
    "last_test_year = 2020\n",
    "\n",
    "tf.random.set_seed(seed)\n",
    "\n",
    "\n",
    "timestep_col = 'timestep'\n",
    "geography_col = 'geoid'\n",
    "outcome_col = 'deaths'\n",
    "\n",
    "x_idx_cols = [geography_col, 'lat', 'lon', timestep_col,\n",
    "              'theme_1_pc', 'theme_2_pc', 'theme_3_pc', 'theme_4_pc',\n",
    "              'svi_pctile', 'year',\n",
    "              'neighbor_t', 'deaths']\n",
    "y_idx_cols = [geography_col, timestep_col, outcome_col]\n",
    "#features_only = ['lat', 'lon', timestep_col,\n",
    "#                 'theme_1_pc', 'theme_2_pc', 'theme_3_pc', 'theme_4_pc',\n",
    "#                 'svi_pctile',\n",
    "#                 'neighbor_t', 'deaths']\n",
    "features_only = ['deaths']\n",
    "\n",
    "#data_gdf = gpd.read_file(data_path)\n",
    "\n",
    "multiindexed_gdf = data_gdf.set_index(['geoid', 'timestep'])\n",
    "multiindexed_gdf['timestep'] = multiindexed_gdf.index.get_level_values('timestep')\n",
    "num_geoids = len(data_gdf['geoid'].unique())\n",
    "\n",
    "train_shape = (num_geoids, time_window, len(features_only))\n",
    "\n",
    "train_x_BSF_flat, train_y_BS = make_data(multiindexed_gdf, first_train_eval_year, last_train_eval_year,\n",
    "                                                  time_window, features_only, train_shape, pred_lag=1)\n",
    "\n",
    "valid_x_BSF_flat, valid_y_BS = make_data(multiindexed_gdf, validation_year, validation_year,\n",
    "                                         time_window, features_only, train_shape, pred_lag=1)\n",
    "\n",
    "test_x_BSF_flat, test_y_BS = make_data(multiindexed_gdf, first_test_year, last_test_year,\n",
    "                                       time_window, features_only, train_shape, pred_lag=1)\n",
    "\n",
    "norm_layer = tf.keras.layers.Normalization()\n",
    "norm_layer.adapt(train_x_BSF_flat)\n",
    "train_x_BSF_flat = norm_layer(train_x_BSF_flat)\n",
    "valid_x_BSF_flat = norm_layer(valid_x_BSF_flat)\n",
    "test_x_BSF_flat = norm_layer(test_x_BSF_flat)\n",
    "\n",
    "top_100_idx_func = partial(top_k_idx, k=100)"
   ]
  },
  {
   "cell_type": "code",
   "execution_count": 40,
   "id": "3de6688b",
   "metadata": {},
   "outputs": [
    {
     "data": {
      "text/plain": [
       "0.5889549140838284"
      ]
     },
     "execution_count": 40,
     "metadata": {},
     "output_type": "execute_result"
    }
   ],
   "source": [
    "(0.5695636743215031+0.6083461538461538)/2"
   ]
  },
  {
   "cell_type": "code",
   "execution_count": 37,
   "id": "daabc55d",
   "metadata": {},
   "outputs": [
    {
     "data": {
      "text/plain": [
       "0.5695636743215031"
      ]
     },
     "execution_count": 37,
     "metadata": {},
     "output_type": "execute_result"
    }
   ],
   "source": [
    "bprs=[]\n",
    "avg_2018 = multiindexed_gdf[(multiindexed_gdf['year']<=2017)&(multiindexed_gdf['year']>2010)].groupby(level='geoid')['deaths'].mean()\n",
    "for quarter in [18]:\n",
    "    this_2019 = multiindexed_gdf.loc[idx[:,quarter],:].drop(columns='timestep').reset_index().set_index('geoid')['deaths']\n",
    "    bprs.append(fixed_top_X(this_2019,avg_2018,X=100)[-1])\n",
    "np.mean(bprs)"
   ]
  },
  {
   "cell_type": "code",
   "execution_count": 38,
   "id": "426e09b9",
   "metadata": {},
   "outputs": [
    {
     "data": {
      "text/plain": [
       "0.6083461538461538"
      ]
     },
     "execution_count": 38,
     "metadata": {},
     "output_type": "execute_result"
    }
   ],
   "source": [
    "bprs=[]\n",
    "avg_2018 = multiindexed_gdf[(multiindexed_gdf['year']<=2018)&(multiindexed_gdf['year']>2011)].groupby(level='geoid')['deaths'].mean()\n",
    "for quarter in [19]:\n",
    "    this_2019 = multiindexed_gdf.loc[idx[:,quarter],:].drop(columns='timestep').reset_index().set_index('geoid')['deaths']\n",
    "    bprs.append(fixed_top_X(this_2019,avg_2018,X=100)[-1])\n",
    "np.mean(bprs)"
   ]
  },
  {
   "cell_type": "code",
   "execution_count": 39,
   "id": "2746ffff",
   "metadata": {},
   "outputs": [
    {
     "data": {
      "text/plain": [
       "0.564741482965932"
      ]
     },
     "execution_count": 39,
     "metadata": {},
     "output_type": "execute_result"
    }
   ],
   "source": [
    "bprs=[]\n",
    "avg_2018 = multiindexed_gdf[(multiindexed_gdf['year']<=2019)&(multiindexed_gdf['year']>2012)].groupby(level='geoid')['deaths'].mean()\n",
    "for quarter in [20]:\n",
    "    this_2019 = multiindexed_gdf.loc[idx[:,quarter],:].drop(columns='timestep').reset_index().set_index('geoid')['deaths']\n",
    "    bprs.append(fixed_top_X(this_2019,avg_2018,X=100)[-1])\n",
    "np.mean(bprs)"
   ]
  },
  {
   "cell_type": "code",
   "execution_count": 14,
   "id": "820e468b",
   "metadata": {},
   "outputs": [
    {
     "data": {
      "text/plain": [
       "0.6046061185468451"
      ]
     },
     "execution_count": 14,
     "metadata": {},
     "output_type": "execute_result"
    }
   ],
   "source": [
    "bprs=[]\n",
    "avg_2018 = multiindexed_gdf[(multiindexed_gdf['year']<=2020)&(multiindexed_gdf['year']>2015)].groupby(level='geoid')['deaths'].mean()\n",
    "for quarter in [21]:\n",
    "    this_2019 = multiindexed_gdf.loc[idx[:,quarter],:].drop(columns='timestep').reset_index().set_index('geoid')['deaths']\n",
    "    bprs.append(fixed_top_X(this_2019,avg_2018,X=100)[-1])\n",
    "np.mean(bprs)"
   ]
  },
  {
   "cell_type": "code",
   "execution_count": 23,
   "id": "8f92ef2c",
   "metadata": {},
   "outputs": [
    {
     "data": {
      "text/plain": [
       "10.46"
      ]
     },
     "execution_count": 23,
     "metadata": {},
     "output_type": "execute_result"
    }
   ],
   "source": [
    "this_2019.sort_values().iloc[-100:].sum()*0.02"
   ]
  },
  {
   "cell_type": "code",
   "execution_count": null,
   "id": "de753893",
   "metadata": {},
   "outputs": [],
   "source": []
  }
 ],
 "metadata": {
  "kernelspec": {
   "display_name": "Python 3 (ipykernel)",
   "language": "python",
   "name": "python3"
  },
  "language_info": {
   "codemirror_mode": {
    "name": "ipython",
    "version": 3
   },
   "file_extension": ".py",
   "mimetype": "text/x-python",
   "name": "python",
   "nbconvert_exporter": "python",
   "pygments_lexer": "ipython3",
   "version": "3.8.16"
  }
 },
 "nbformat": 4,
 "nbformat_minor": 5
}
