{
 "cells": [
  {
   "cell_type": "code",
   "execution_count": 1,
   "id": "7d5a74ec",
   "metadata": {},
   "outputs": [],
   "source": [
    "%matplotlib inline\n",
    "import os\n",
    "from glob import glob\n",
    "\n",
    "import numpy as np\n",
    "import pandas as pd\n",
    "idx = pd.IndexSlice\n",
    "import matplotlib.pyplot as plt\n",
    "from matplotlib.ticker import MaxNLocator\n",
    "\n",
    "import geopandas as gpd\n",
    "\n",
    "from sklearn.metrics import mean_absolute_error\n",
    "\n",
    "from sklearn.linear_model import LinearRegression\n",
    "from sklearn.neural_network import MLPRegressor\n",
    "\n",
    "import contextily as cx"
   ]
  },
  {
   "cell_type": "code",
   "execution_count": 2,
   "id": "978bb248",
   "metadata": {},
   "outputs": [],
   "source": [
    "data_dir = '/cluster/tufts/hugheslab/datasets/NSF_OD/'\n",
    "svi_dir = os.path.join(data_dir,'SocialVulnerabilityIndex')\n",
    "result_dir = os.path.join(data_dir, 'results')\n",
    "mass_shapefile = os.path.join(data_dir,'shapefiles','MA_2021')"
   ]
  },
  {
   "cell_type": "code",
   "execution_count": 3,
   "id": "6e5dc9f1",
   "metadata": {},
   "outputs": [],
   "source": [
    "svi_file = os.path.join(result_dir,'svi_month')\n",
    "svi_gdf = gpd.read_file(svi_file)"
   ]
  },
  {
   "cell_type": "code",
   "execution_count": 5,
   "id": "66da23c1",
   "metadata": {},
   "outputs": [
    {
     "data": {
      "text/plain": [
       "Index(['STATEFP', 'COUNTYFP', 'TRACTCE', 'GEOID', 'NAME', 'NAMELSAD', 'MTFCC',\n",
       "       'FUNCSTAT', 'ALAND', 'AWATER', 'INTPTLAT', 'INTPTLON', 'year', 'month',\n",
       "       'tract', 'deaths', 'theme_1_pc', 'theme_2_pc', 'theme_3_pc',\n",
       "       'theme_4_pc', 'svi_pctile', 'FIPS', 'ROUNDED_TR', 'ROUNDED__1',\n",
       "       'TRACTCE_y', 'geometry'],\n",
       "      dtype='object')"
      ]
     },
     "execution_count": 5,
     "metadata": {},
     "output_type": "execute_result"
    }
   ],
   "source": [
    "svi_gdf.columns"
   ]
  },
  {
   "cell_type": "code",
   "execution_count": 6,
   "id": "b92f3025",
   "metadata": {},
   "outputs": [],
   "source": [
    "svi_gdf = svi_gdf.rename(columns={'INTPTLAT':'lat', 'INTPTLON':'lon', 'GEOID':'grid_squar'})\n",
    "# Make lat and lon floats\n",
    "svi_gdf.loc[:, 'lat'] = svi_gdf.lat.astype(float)\n",
    "svi_gdf.loc[:, 'lon'] = svi_gdf.lon.astype(float)\n",
    "deaths_gdf = svi_gdf\n",
    "\n",
    "just_grid = deaths_gdf.loc[(deaths_gdf['year']==2000)&(deaths_gdf['month']==1), ['grid_squar','geometry', 'lat', 'lon']]\n"
   ]
  },
  {
   "cell_type": "code",
   "execution_count": 7,
   "id": "5af444a3",
   "metadata": {},
   "outputs": [
    {
     "data": {
      "text/html": [
       "<div>\n",
       "<style scoped>\n",
       "    .dataframe tbody tr th:only-of-type {\n",
       "        vertical-align: middle;\n",
       "    }\n",
       "\n",
       "    .dataframe tbody tr th {\n",
       "        vertical-align: top;\n",
       "    }\n",
       "\n",
       "    .dataframe thead th {\n",
       "        text-align: right;\n",
       "    }\n",
       "</style>\n",
       "<table border=\"1\" class=\"dataframe\">\n",
       "  <thead>\n",
       "    <tr style=\"text-align: right;\">\n",
       "      <th></th>\n",
       "      <th>grid_squar</th>\n",
       "      <th>geometry</th>\n",
       "      <th>lat</th>\n",
       "      <th>lon</th>\n",
       "    </tr>\n",
       "  </thead>\n",
       "  <tbody>\n",
       "    <tr>\n",
       "      <th>0</th>\n",
       "      <td>25017333300</td>\n",
       "      <td>POLYGON ((-71.16139 42.47071, -71.16136 42.471...</td>\n",
       "      <td>42.470764</td>\n",
       "      <td>-71.152055</td>\n",
       "    </tr>\n",
       "    <tr>\n",
       "      <th>1</th>\n",
       "      <td>25017333400</td>\n",
       "      <td>POLYGON ((-71.14690 42.48077, -71.14673 42.480...</td>\n",
       "      <td>42.484548</td>\n",
       "      <td>-71.132032</td>\n",
       "    </tr>\n",
       "    <tr>\n",
       "      <th>2</th>\n",
       "      <td>25017333502</td>\n",
       "      <td>POLYGON ((-71.15960 42.48482, -71.15954 42.484...</td>\n",
       "      <td>42.485040</td>\n",
       "      <td>-71.146119</td>\n",
       "    </tr>\n",
       "    <tr>\n",
       "      <th>3</th>\n",
       "      <td>25017354500</td>\n",
       "      <td>POLYGON ((-71.13077 42.38261, -71.13070 42.382...</td>\n",
       "      <td>42.384745</td>\n",
       "      <td>-71.125040</td>\n",
       "    </tr>\n",
       "    <tr>\n",
       "      <th>4</th>\n",
       "      <td>25017354700</td>\n",
       "      <td>POLYGON ((-71.12901 42.39007, -71.12768 42.389...</td>\n",
       "      <td>42.389581</td>\n",
       "      <td>-71.122629</td>\n",
       "    </tr>\n",
       "    <tr>\n",
       "      <th>...</th>\n",
       "      <td>...</td>\n",
       "      <td>...</td>\n",
       "      <td>...</td>\n",
       "      <td>...</td>\n",
       "    </tr>\n",
       "    <tr>\n",
       "      <th>1615</th>\n",
       "      <td>25009208302</td>\n",
       "      <td>POLYGON ((-71.01723 42.48901, -71.01705 42.489...</td>\n",
       "      <td>42.485038</td>\n",
       "      <td>-71.004081</td>\n",
       "    </tr>\n",
       "    <tr>\n",
       "      <th>1616</th>\n",
       "      <td>25009212101</td>\n",
       "      <td>POLYGON ((-71.05565 42.62288, -71.05509 42.625...</td>\n",
       "      <td>42.613694</td>\n",
       "      <td>-71.005231</td>\n",
       "    </tr>\n",
       "    <tr>\n",
       "      <th>1617</th>\n",
       "      <td>25009208401</td>\n",
       "      <td>POLYGON ((-71.04695 42.48796, -71.04672 42.488...</td>\n",
       "      <td>42.487612</td>\n",
       "      <td>-71.030763</td>\n",
       "    </tr>\n",
       "    <tr>\n",
       "      <th>1618</th>\n",
       "      <td>25009208402</td>\n",
       "      <td>POLYGON ((-71.05389 42.47878, -71.05373 42.479...</td>\n",
       "      <td>42.466251</td>\n",
       "      <td>-71.035971</td>\n",
       "    </tr>\n",
       "    <tr>\n",
       "      <th>1619</th>\n",
       "      <td>25009212102</td>\n",
       "      <td>POLYGON ((-71.05935 42.60633, -71.05916 42.607...</td>\n",
       "      <td>42.600718</td>\n",
       "      <td>-71.030823</td>\n",
       "    </tr>\n",
       "  </tbody>\n",
       "</table>\n",
       "<p>1620 rows × 4 columns</p>\n",
       "</div>"
      ],
      "text/plain": [
       "       grid_squar                                           geometry  \\\n",
       "0     25017333300  POLYGON ((-71.16139 42.47071, -71.16136 42.471...   \n",
       "1     25017333400  POLYGON ((-71.14690 42.48077, -71.14673 42.480...   \n",
       "2     25017333502  POLYGON ((-71.15960 42.48482, -71.15954 42.484...   \n",
       "3     25017354500  POLYGON ((-71.13077 42.38261, -71.13070 42.382...   \n",
       "4     25017354700  POLYGON ((-71.12901 42.39007, -71.12768 42.389...   \n",
       "...           ...                                                ...   \n",
       "1615  25009208302  POLYGON ((-71.01723 42.48901, -71.01705 42.489...   \n",
       "1616  25009212101  POLYGON ((-71.05565 42.62288, -71.05509 42.625...   \n",
       "1617  25009208401  POLYGON ((-71.04695 42.48796, -71.04672 42.488...   \n",
       "1618  25009208402  POLYGON ((-71.05389 42.47878, -71.05373 42.479...   \n",
       "1619  25009212102  POLYGON ((-71.05935 42.60633, -71.05916 42.607...   \n",
       "\n",
       "            lat        lon  \n",
       "0     42.470764 -71.152055  \n",
       "1     42.484548 -71.132032  \n",
       "2     42.485040 -71.146119  \n",
       "3     42.384745 -71.125040  \n",
       "4     42.389581 -71.122629  \n",
       "...         ...        ...  \n",
       "1615  42.485038 -71.004081  \n",
       "1616  42.613694 -71.005231  \n",
       "1617  42.487612 -71.030763  \n",
       "1618  42.466251 -71.035971  \n",
       "1619  42.600718 -71.030823  \n",
       "\n",
       "[1620 rows x 4 columns]"
      ]
     },
     "execution_count": 7,
     "metadata": {},
     "output_type": "execute_result"
    }
   ],
   "source": []
  },
  {
   "cell_type": "code",
   "execution_count": null,
   "id": "bf6f5233",
   "metadata": {},
   "outputs": [],
   "source": []
  }
 ],
 "metadata": {
  "kernelspec": {
   "display_name": "Python 3 (ipykernel)",
   "language": "python",
   "name": "python3"
  },
  "language_info": {
   "codemirror_mode": {
    "name": "ipython",
    "version": 3
   },
   "file_extension": ".py",
   "mimetype": "text/x-python",
   "name": "python",
   "nbconvert_exporter": "python",
   "pygments_lexer": "ipython3",
   "version": "3.9.13"
  }
 },
 "nbformat": 4,
 "nbformat_minor": 5
}
