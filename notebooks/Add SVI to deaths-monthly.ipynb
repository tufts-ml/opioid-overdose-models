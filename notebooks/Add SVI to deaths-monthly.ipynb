{
 "cells": [
  {
   "cell_type": "code",
   "execution_count": 1,
   "id": "ce06d46d",
   "metadata": {},
   "outputs": [],
   "source": [
    "%matplotlib inline\n",
    "import os\n",
    "from glob import glob\n",
    "\n",
    "import pandas as pd\n",
    "import numpy as np\n",
    "import matplotlib.pyplot as plt\n",
    "\n",
    "\n",
    "import geopandas as gpd"
   ]
  },
  {
   "cell_type": "code",
   "execution_count": 2,
   "id": "a93d4b37",
   "metadata": {},
   "outputs": [],
   "source": [
    "data_dir = '/cluster/tufts/hugheslab/datasets/NSF_OD/'\n",
    "svi_dir = os.path.join(data_dir,'SocialVulnerabilityIndex')\n",
    "result_dir = os.path.join(data_dir, 'results_20220606_update')\n",
    "mass_shapefile = os.path.join(data_dir,'shapefiles','MA_2021')\n",
    "\n",
    "if not os.path.exists(result_dir):\n",
    "    os.makedirs(result_dir)"
   ]
  },
  {
   "cell_type": "code",
   "execution_count": 3,
   "id": "2542e95e",
   "metadata": {},
   "outputs": [],
   "source": [
    "deaths_file = os.path.join(result_dir,'res_deaths_month_all')\n",
    "deaths_gdf = gpd.read_file(deaths_file)\n"
   ]
  },
  {
   "cell_type": "code",
   "execution_count": 4,
   "id": "4c981221",
   "metadata": {},
   "outputs": [
    {
     "data": {
      "text/html": [
       "<div>\n",
       "<style scoped>\n",
       "    .dataframe tbody tr th:only-of-type {\n",
       "        vertical-align: middle;\n",
       "    }\n",
       "\n",
       "    .dataframe tbody tr th {\n",
       "        vertical-align: top;\n",
       "    }\n",
       "\n",
       "    .dataframe thead th {\n",
       "        text-align: right;\n",
       "    }\n",
       "</style>\n",
       "<table border=\"1\" class=\"dataframe\">\n",
       "  <thead>\n",
       "    <tr style=\"text-align: right;\">\n",
       "      <th></th>\n",
       "      <th></th>\n",
       "      <th></th>\n",
       "      <th>STATEFP</th>\n",
       "      <th>COUNTYFP</th>\n",
       "      <th>GEOID</th>\n",
       "      <th>NAME</th>\n",
       "      <th>NAMELSAD</th>\n",
       "      <th>MTFCC</th>\n",
       "      <th>FUNCSTAT</th>\n",
       "      <th>ALAND</th>\n",
       "      <th>AWATER</th>\n",
       "      <th>INTPTLAT</th>\n",
       "      <th>INTPTLON</th>\n",
       "      <th>tract</th>\n",
       "      <th>deaths</th>\n",
       "      <th>geometry</th>\n",
       "    </tr>\n",
       "    <tr>\n",
       "      <th>TRACTCE</th>\n",
       "      <th>year</th>\n",
       "      <th>month</th>\n",
       "      <th></th>\n",
       "      <th></th>\n",
       "      <th></th>\n",
       "      <th></th>\n",
       "      <th></th>\n",
       "      <th></th>\n",
       "      <th></th>\n",
       "      <th></th>\n",
       "      <th></th>\n",
       "      <th></th>\n",
       "      <th></th>\n",
       "      <th></th>\n",
       "      <th></th>\n",
       "      <th></th>\n",
       "    </tr>\n",
       "  </thead>\n",
       "  <tbody>\n",
       "    <tr>\n",
       "      <th rowspan=\"11\" valign=\"top\">101</th>\n",
       "      <th rowspan=\"5\" valign=\"top\">2000</th>\n",
       "      <th>1</th>\n",
       "      <td>25</td>\n",
       "      <td>025</td>\n",
       "      <td>25025000101</td>\n",
       "      <td>1.01</td>\n",
       "      <td>Census Tract 1.01</td>\n",
       "      <td>G5020</td>\n",
       "      <td>S</td>\n",
       "      <td>249924</td>\n",
       "      <td>0</td>\n",
       "      <td>+42.3608778</td>\n",
       "      <td>-071.1330510</td>\n",
       "      <td>NaN</td>\n",
       "      <td>0.0</td>\n",
       "      <td>POLYGON ((-71.13660 42.36016, -71.13633 42.360...</td>\n",
       "    </tr>\n",
       "    <tr>\n",
       "      <th>2</th>\n",
       "      <td>25</td>\n",
       "      <td>025</td>\n",
       "      <td>25025000101</td>\n",
       "      <td>1.01</td>\n",
       "      <td>Census Tract 1.01</td>\n",
       "      <td>G5020</td>\n",
       "      <td>S</td>\n",
       "      <td>249924</td>\n",
       "      <td>0</td>\n",
       "      <td>+42.3608778</td>\n",
       "      <td>-071.1330510</td>\n",
       "      <td>NaN</td>\n",
       "      <td>0.0</td>\n",
       "      <td>POLYGON ((-71.13660 42.36016, -71.13633 42.360...</td>\n",
       "    </tr>\n",
       "    <tr>\n",
       "      <th>3</th>\n",
       "      <td>25</td>\n",
       "      <td>025</td>\n",
       "      <td>25025000101</td>\n",
       "      <td>1.01</td>\n",
       "      <td>Census Tract 1.01</td>\n",
       "      <td>G5020</td>\n",
       "      <td>S</td>\n",
       "      <td>249924</td>\n",
       "      <td>0</td>\n",
       "      <td>+42.3608778</td>\n",
       "      <td>-071.1330510</td>\n",
       "      <td>NaN</td>\n",
       "      <td>0.0</td>\n",
       "      <td>POLYGON ((-71.13660 42.36016, -71.13633 42.360...</td>\n",
       "    </tr>\n",
       "    <tr>\n",
       "      <th>4</th>\n",
       "      <td>25</td>\n",
       "      <td>025</td>\n",
       "      <td>25025000101</td>\n",
       "      <td>1.01</td>\n",
       "      <td>Census Tract 1.01</td>\n",
       "      <td>G5020</td>\n",
       "      <td>S</td>\n",
       "      <td>249924</td>\n",
       "      <td>0</td>\n",
       "      <td>+42.3608778</td>\n",
       "      <td>-071.1330510</td>\n",
       "      <td>NaN</td>\n",
       "      <td>0.0</td>\n",
       "      <td>POLYGON ((-71.13660 42.36016, -71.13633 42.360...</td>\n",
       "    </tr>\n",
       "    <tr>\n",
       "      <th>5</th>\n",
       "      <td>25</td>\n",
       "      <td>025</td>\n",
       "      <td>25025000101</td>\n",
       "      <td>1.01</td>\n",
       "      <td>Census Tract 1.01</td>\n",
       "      <td>G5020</td>\n",
       "      <td>S</td>\n",
       "      <td>249924</td>\n",
       "      <td>0</td>\n",
       "      <td>+42.3608778</td>\n",
       "      <td>-071.1330510</td>\n",
       "      <td>NaN</td>\n",
       "      <td>0.0</td>\n",
       "      <td>POLYGON ((-71.13660 42.36016, -71.13633 42.360...</td>\n",
       "    </tr>\n",
       "    <tr>\n",
       "      <th>...</th>\n",
       "      <th>...</th>\n",
       "      <td>...</td>\n",
       "      <td>...</td>\n",
       "      <td>...</td>\n",
       "      <td>...</td>\n",
       "      <td>...</td>\n",
       "      <td>...</td>\n",
       "      <td>...</td>\n",
       "      <td>...</td>\n",
       "      <td>...</td>\n",
       "      <td>...</td>\n",
       "      <td>...</td>\n",
       "      <td>...</td>\n",
       "      <td>...</td>\n",
       "      <td>...</td>\n",
       "    </tr>\n",
       "    <tr>\n",
       "      <th rowspan=\"5\" valign=\"top\">2021</th>\n",
       "      <th>8</th>\n",
       "      <td>25</td>\n",
       "      <td>025</td>\n",
       "      <td>25025000101</td>\n",
       "      <td>1.01</td>\n",
       "      <td>Census Tract 1.01</td>\n",
       "      <td>G5020</td>\n",
       "      <td>S</td>\n",
       "      <td>249924</td>\n",
       "      <td>0</td>\n",
       "      <td>+42.3608778</td>\n",
       "      <td>-071.1330510</td>\n",
       "      <td>NaN</td>\n",
       "      <td>0.0</td>\n",
       "      <td>POLYGON ((-71.13660 42.36016, -71.13633 42.360...</td>\n",
       "    </tr>\n",
       "    <tr>\n",
       "      <th>9</th>\n",
       "      <td>25</td>\n",
       "      <td>025</td>\n",
       "      <td>25025000101</td>\n",
       "      <td>1.01</td>\n",
       "      <td>Census Tract 1.01</td>\n",
       "      <td>G5020</td>\n",
       "      <td>S</td>\n",
       "      <td>249924</td>\n",
       "      <td>0</td>\n",
       "      <td>+42.3608778</td>\n",
       "      <td>-071.1330510</td>\n",
       "      <td>NaN</td>\n",
       "      <td>0.0</td>\n",
       "      <td>POLYGON ((-71.13660 42.36016, -71.13633 42.360...</td>\n",
       "    </tr>\n",
       "    <tr>\n",
       "      <th>10</th>\n",
       "      <td>25</td>\n",
       "      <td>025</td>\n",
       "      <td>25025000101</td>\n",
       "      <td>1.01</td>\n",
       "      <td>Census Tract 1.01</td>\n",
       "      <td>G5020</td>\n",
       "      <td>S</td>\n",
       "      <td>249924</td>\n",
       "      <td>0</td>\n",
       "      <td>+42.3608778</td>\n",
       "      <td>-071.1330510</td>\n",
       "      <td>NaN</td>\n",
       "      <td>0.0</td>\n",
       "      <td>POLYGON ((-71.13660 42.36016, -71.13633 42.360...</td>\n",
       "    </tr>\n",
       "    <tr>\n",
       "      <th>11</th>\n",
       "      <td>25</td>\n",
       "      <td>025</td>\n",
       "      <td>25025000101</td>\n",
       "      <td>1.01</td>\n",
       "      <td>Census Tract 1.01</td>\n",
       "      <td>G5020</td>\n",
       "      <td>S</td>\n",
       "      <td>249924</td>\n",
       "      <td>0</td>\n",
       "      <td>+42.3608778</td>\n",
       "      <td>-071.1330510</td>\n",
       "      <td>NaN</td>\n",
       "      <td>0.0</td>\n",
       "      <td>POLYGON ((-71.13660 42.36016, -71.13633 42.360...</td>\n",
       "    </tr>\n",
       "    <tr>\n",
       "      <th>12</th>\n",
       "      <td>25</td>\n",
       "      <td>025</td>\n",
       "      <td>25025000101</td>\n",
       "      <td>1.01</td>\n",
       "      <td>Census Tract 1.01</td>\n",
       "      <td>G5020</td>\n",
       "      <td>S</td>\n",
       "      <td>249924</td>\n",
       "      <td>0</td>\n",
       "      <td>+42.3608778</td>\n",
       "      <td>-071.1330510</td>\n",
       "      <td>NaN</td>\n",
       "      <td>0.0</td>\n",
       "      <td>POLYGON ((-71.13660 42.36016, -71.13633 42.360...</td>\n",
       "    </tr>\n",
       "  </tbody>\n",
       "</table>\n",
       "<p>264 rows × 14 columns</p>\n",
       "</div>"
      ],
      "text/plain": [
       "                   STATEFP COUNTYFP        GEOID  NAME           NAMELSAD  \\\n",
       "TRACTCE year month                                                          \n",
       "101     2000 1          25      025  25025000101  1.01  Census Tract 1.01   \n",
       "             2          25      025  25025000101  1.01  Census Tract 1.01   \n",
       "             3          25      025  25025000101  1.01  Census Tract 1.01   \n",
       "             4          25      025  25025000101  1.01  Census Tract 1.01   \n",
       "             5          25      025  25025000101  1.01  Census Tract 1.01   \n",
       "...                    ...      ...          ...   ...                ...   \n",
       "        2021 8          25      025  25025000101  1.01  Census Tract 1.01   \n",
       "             9          25      025  25025000101  1.01  Census Tract 1.01   \n",
       "             10         25      025  25025000101  1.01  Census Tract 1.01   \n",
       "             11         25      025  25025000101  1.01  Census Tract 1.01   \n",
       "             12         25      025  25025000101  1.01  Census Tract 1.01   \n",
       "\n",
       "                    MTFCC FUNCSTAT   ALAND  AWATER     INTPTLAT      INTPTLON  \\\n",
       "TRACTCE year month                                                              \n",
       "101     2000 1      G5020        S  249924       0  +42.3608778  -071.1330510   \n",
       "             2      G5020        S  249924       0  +42.3608778  -071.1330510   \n",
       "             3      G5020        S  249924       0  +42.3608778  -071.1330510   \n",
       "             4      G5020        S  249924       0  +42.3608778  -071.1330510   \n",
       "             5      G5020        S  249924       0  +42.3608778  -071.1330510   \n",
       "...                   ...      ...     ...     ...          ...           ...   \n",
       "        2021 8      G5020        S  249924       0  +42.3608778  -071.1330510   \n",
       "             9      G5020        S  249924       0  +42.3608778  -071.1330510   \n",
       "             10     G5020        S  249924       0  +42.3608778  -071.1330510   \n",
       "             11     G5020        S  249924       0  +42.3608778  -071.1330510   \n",
       "             12     G5020        S  249924       0  +42.3608778  -071.1330510   \n",
       "\n",
       "                    tract  deaths  \\\n",
       "TRACTCE year month                  \n",
       "101     2000 1        NaN     0.0   \n",
       "             2        NaN     0.0   \n",
       "             3        NaN     0.0   \n",
       "             4        NaN     0.0   \n",
       "             5        NaN     0.0   \n",
       "...                   ...     ...   \n",
       "        2021 8        NaN     0.0   \n",
       "             9        NaN     0.0   \n",
       "             10       NaN     0.0   \n",
       "             11       NaN     0.0   \n",
       "             12       NaN     0.0   \n",
       "\n",
       "                                                             geometry  \n",
       "TRACTCE year month                                                     \n",
       "101     2000 1      POLYGON ((-71.13660 42.36016, -71.13633 42.360...  \n",
       "             2      POLYGON ((-71.13660 42.36016, -71.13633 42.360...  \n",
       "             3      POLYGON ((-71.13660 42.36016, -71.13633 42.360...  \n",
       "             4      POLYGON ((-71.13660 42.36016, -71.13633 42.360...  \n",
       "             5      POLYGON ((-71.13660 42.36016, -71.13633 42.360...  \n",
       "...                                                               ...  \n",
       "        2021 8      POLYGON ((-71.13660 42.36016, -71.13633 42.360...  \n",
       "             9      POLYGON ((-71.13660 42.36016, -71.13633 42.360...  \n",
       "             10     POLYGON ((-71.13660 42.36016, -71.13633 42.360...  \n",
       "             11     POLYGON ((-71.13660 42.36016, -71.13633 42.360...  \n",
       "             12     POLYGON ((-71.13660 42.36016, -71.13633 42.360...  \n",
       "\n",
       "[264 rows x 14 columns]"
      ]
     },
     "execution_count": 4,
     "metadata": {},
     "output_type": "execute_result"
    }
   ],
   "source": [
    "deaths_gdf.set_index(['TRACTCE','year','month']).sort_index().loc[pd.IndexSlice[101,:,:],:]"
   ]
  },
  {
   "cell_type": "code",
   "execution_count": 5,
   "id": "27602a8c",
   "metadata": {},
   "outputs": [
    {
     "name": "stdout",
     "output_type": "stream",
     "text": [
      "Deaths from 2000 using SVI 2000\n",
      "Successfully merged 47.9% on first pass\n",
      "Successfully merged 92.6% of remaineder on second pass\n",
      "Deaths from 2000 using SVI 2000\n",
      "Successfully merged 47.9% on first pass\n",
      "Successfully merged 92.6% of remaineder on second pass\n",
      "Deaths from 2000 using SVI 2000\n",
      "Successfully merged 47.9% on first pass\n",
      "Successfully merged 92.6% of remaineder on second pass\n",
      "Deaths from 2000 using SVI 2000\n",
      "Successfully merged 47.9% on first pass\n",
      "Successfully merged 92.6% of remaineder on second pass\n",
      "Deaths from 2000 using SVI 2000\n",
      "Successfully merged 47.9% on first pass\n",
      "Successfully merged 92.6% of remaineder on second pass\n",
      "Deaths from 2000 using SVI 2000\n",
      "Successfully merged 47.9% on first pass\n",
      "Successfully merged 92.6% of remaineder on second pass\n"
     ]
    },
    {
     "name": "stderr",
     "output_type": "stream",
     "text": [
      "/tmp/ipykernel_34672/1141560685.py:65: FutureWarning: The frame.append method is deprecated and will be removed from pandas in a future version. Use pandas.concat instead.\n",
      "  merged_df = first_merged_df.append(second_merged_df)\n",
      "/tmp/ipykernel_34672/1141560685.py:66: FutureWarning: The frame.append method is deprecated and will be removed from pandas in a future version. Use pandas.concat instead.\n",
      "  all_df = all_df.append(merged_df)\n",
      "/tmp/ipykernel_34672/1141560685.py:65: FutureWarning: The frame.append method is deprecated and will be removed from pandas in a future version. Use pandas.concat instead.\n",
      "  merged_df = first_merged_df.append(second_merged_df)\n",
      "/tmp/ipykernel_34672/1141560685.py:66: FutureWarning: The frame.append method is deprecated and will be removed from pandas in a future version. Use pandas.concat instead.\n",
      "  all_df = all_df.append(merged_df)\n",
      "/tmp/ipykernel_34672/1141560685.py:65: FutureWarning: The frame.append method is deprecated and will be removed from pandas in a future version. Use pandas.concat instead.\n",
      "  merged_df = first_merged_df.append(second_merged_df)\n",
      "/tmp/ipykernel_34672/1141560685.py:66: FutureWarning: The frame.append method is deprecated and will be removed from pandas in a future version. Use pandas.concat instead.\n",
      "  all_df = all_df.append(merged_df)\n",
      "/tmp/ipykernel_34672/1141560685.py:65: FutureWarning: The frame.append method is deprecated and will be removed from pandas in a future version. Use pandas.concat instead.\n",
      "  merged_df = first_merged_df.append(second_merged_df)\n",
      "/tmp/ipykernel_34672/1141560685.py:66: FutureWarning: The frame.append method is deprecated and will be removed from pandas in a future version. Use pandas.concat instead.\n",
      "  all_df = all_df.append(merged_df)\n",
      "/tmp/ipykernel_34672/1141560685.py:65: FutureWarning: The frame.append method is deprecated and will be removed from pandas in a future version. Use pandas.concat instead.\n",
      "  merged_df = first_merged_df.append(second_merged_df)\n",
      "/tmp/ipykernel_34672/1141560685.py:66: FutureWarning: The frame.append method is deprecated and will be removed from pandas in a future version. Use pandas.concat instead.\n",
      "  all_df = all_df.append(merged_df)\n",
      "/tmp/ipykernel_34672/1141560685.py:65: FutureWarning: The frame.append method is deprecated and will be removed from pandas in a future version. Use pandas.concat instead.\n",
      "  merged_df = first_merged_df.append(second_merged_df)\n",
      "/tmp/ipykernel_34672/1141560685.py:66: FutureWarning: The frame.append method is deprecated and will be removed from pandas in a future version. Use pandas.concat instead.\n",
      "  all_df = all_df.append(merged_df)\n"
     ]
    },
    {
     "name": "stdout",
     "output_type": "stream",
     "text": [
      "Deaths from 2000 using SVI 2000\n",
      "Successfully merged 47.9% on first pass\n",
      "Successfully merged 92.6% of remaineder on second pass\n",
      "Deaths from 2000 using SVI 2000\n",
      "Successfully merged 47.9% on first pass\n",
      "Successfully merged 92.6% of remaineder on second pass\n",
      "Deaths from 2000 using SVI 2000\n",
      "Successfully merged 47.9% on first pass\n",
      "Successfully merged 92.6% of remaineder on second pass\n",
      "Deaths from 2000 using SVI 2000\n",
      "Successfully merged 47.9% on first pass\n",
      "Successfully merged 92.6% of remaineder on second pass\n",
      "Deaths from 2000 using SVI 2000\n",
      "Successfully merged 47.9% on first pass\n",
      "Successfully merged 92.6% of remaineder on second pass\n",
      "Deaths from 2000 using SVI 2000\n"
     ]
    },
    {
     "name": "stderr",
     "output_type": "stream",
     "text": [
      "/tmp/ipykernel_34672/1141560685.py:65: FutureWarning: The frame.append method is deprecated and will be removed from pandas in a future version. Use pandas.concat instead.\n",
      "  merged_df = first_merged_df.append(second_merged_df)\n",
      "/tmp/ipykernel_34672/1141560685.py:66: FutureWarning: The frame.append method is deprecated and will be removed from pandas in a future version. Use pandas.concat instead.\n",
      "  all_df = all_df.append(merged_df)\n",
      "/tmp/ipykernel_34672/1141560685.py:65: FutureWarning: The frame.append method is deprecated and will be removed from pandas in a future version. Use pandas.concat instead.\n",
      "  merged_df = first_merged_df.append(second_merged_df)\n",
      "/tmp/ipykernel_34672/1141560685.py:66: FutureWarning: The frame.append method is deprecated and will be removed from pandas in a future version. Use pandas.concat instead.\n",
      "  all_df = all_df.append(merged_df)\n",
      "/tmp/ipykernel_34672/1141560685.py:65: FutureWarning: The frame.append method is deprecated and will be removed from pandas in a future version. Use pandas.concat instead.\n",
      "  merged_df = first_merged_df.append(second_merged_df)\n",
      "/tmp/ipykernel_34672/1141560685.py:66: FutureWarning: The frame.append method is deprecated and will be removed from pandas in a future version. Use pandas.concat instead.\n",
      "  all_df = all_df.append(merged_df)\n",
      "/tmp/ipykernel_34672/1141560685.py:65: FutureWarning: The frame.append method is deprecated and will be removed from pandas in a future version. Use pandas.concat instead.\n",
      "  merged_df = first_merged_df.append(second_merged_df)\n",
      "/tmp/ipykernel_34672/1141560685.py:66: FutureWarning: The frame.append method is deprecated and will be removed from pandas in a future version. Use pandas.concat instead.\n",
      "  all_df = all_df.append(merged_df)\n",
      "/tmp/ipykernel_34672/1141560685.py:65: FutureWarning: The frame.append method is deprecated and will be removed from pandas in a future version. Use pandas.concat instead.\n",
      "  merged_df = first_merged_df.append(second_merged_df)\n",
      "/tmp/ipykernel_34672/1141560685.py:66: FutureWarning: The frame.append method is deprecated and will be removed from pandas in a future version. Use pandas.concat instead.\n",
      "  all_df = all_df.append(merged_df)\n",
      "/tmp/ipykernel_34672/1141560685.py:65: FutureWarning: The frame.append method is deprecated and will be removed from pandas in a future version. Use pandas.concat instead.\n",
      "  merged_df = first_merged_df.append(second_merged_df)\n",
      "/tmp/ipykernel_34672/1141560685.py:66: FutureWarning: The frame.append method is deprecated and will be removed from pandas in a future version. Use pandas.concat instead.\n",
      "  all_df = all_df.append(merged_df)\n"
     ]
    },
    {
     "name": "stdout",
     "output_type": "stream",
     "text": [
      "Successfully merged 47.9% on first pass\n",
      "Successfully merged 92.6% of remaineder on second pass\n",
      "Deaths from 2001 using SVI 2000\n",
      "Successfully merged 47.9% on first pass\n",
      "Successfully merged 92.6% of remaineder on second pass\n",
      "Deaths from 2001 using SVI 2000\n",
      "Successfully merged 47.9% on first pass\n",
      "Successfully merged 92.6% of remaineder on second pass\n",
      "Deaths from 2001 using SVI 2000\n",
      "Successfully merged 47.9% on first pass\n",
      "Successfully merged 92.6% of remaineder on second pass\n",
      "Deaths from 2001 using SVI 2000\n",
      "Successfully merged 47.9% on first pass\n",
      "Successfully merged 92.6% of remaineder on second pass\n"
     ]
    },
    {
     "name": "stderr",
     "output_type": "stream",
     "text": [
      "/tmp/ipykernel_34672/1141560685.py:65: FutureWarning: The frame.append method is deprecated and will be removed from pandas in a future version. Use pandas.concat instead.\n",
      "  merged_df = first_merged_df.append(second_merged_df)\n",
      "/tmp/ipykernel_34672/1141560685.py:66: FutureWarning: The frame.append method is deprecated and will be removed from pandas in a future version. Use pandas.concat instead.\n",
      "  all_df = all_df.append(merged_df)\n",
      "/tmp/ipykernel_34672/1141560685.py:65: FutureWarning: The frame.append method is deprecated and will be removed from pandas in a future version. Use pandas.concat instead.\n",
      "  merged_df = first_merged_df.append(second_merged_df)\n",
      "/tmp/ipykernel_34672/1141560685.py:66: FutureWarning: The frame.append method is deprecated and will be removed from pandas in a future version. Use pandas.concat instead.\n",
      "  all_df = all_df.append(merged_df)\n",
      "/tmp/ipykernel_34672/1141560685.py:65: FutureWarning: The frame.append method is deprecated and will be removed from pandas in a future version. Use pandas.concat instead.\n",
      "  merged_df = first_merged_df.append(second_merged_df)\n",
      "/tmp/ipykernel_34672/1141560685.py:66: FutureWarning: The frame.append method is deprecated and will be removed from pandas in a future version. Use pandas.concat instead.\n",
      "  all_df = all_df.append(merged_df)\n",
      "/tmp/ipykernel_34672/1141560685.py:65: FutureWarning: The frame.append method is deprecated and will be removed from pandas in a future version. Use pandas.concat instead.\n",
      "  merged_df = first_merged_df.append(second_merged_df)\n",
      "/tmp/ipykernel_34672/1141560685.py:66: FutureWarning: The frame.append method is deprecated and will be removed from pandas in a future version. Use pandas.concat instead.\n",
      "  all_df = all_df.append(merged_df)\n",
      "/tmp/ipykernel_34672/1141560685.py:65: FutureWarning: The frame.append method is deprecated and will be removed from pandas in a future version. Use pandas.concat instead.\n",
      "  merged_df = first_merged_df.append(second_merged_df)\n",
      "/tmp/ipykernel_34672/1141560685.py:66: FutureWarning: The frame.append method is deprecated and will be removed from pandas in a future version. Use pandas.concat instead.\n",
      "  all_df = all_df.append(merged_df)\n"
     ]
    },
    {
     "name": "stdout",
     "output_type": "stream",
     "text": [
      "Deaths from 2001 using SVI 2000\n",
      "Successfully merged 47.9% on first pass\n",
      "Successfully merged 92.6% of remaineder on second pass\n",
      "Deaths from 2001 using SVI 2000\n",
      "Successfully merged 47.9% on first pass\n",
      "Successfully merged 92.6% of remaineder on second pass\n",
      "Deaths from 2001 using SVI 2000\n",
      "Successfully merged 47.9% on first pass\n",
      "Successfully merged 92.6% of remaineder on second pass\n",
      "Deaths from 2001 using SVI 2000\n",
      "Successfully merged 47.9% on first pass\n",
      "Successfully merged 92.6% of remaineder on second pass\n",
      "Deaths from 2001 using SVI 2000\n",
      "Successfully merged 47.9% on first pass\n"
     ]
    },
    {
     "name": "stderr",
     "output_type": "stream",
     "text": [
      "/tmp/ipykernel_34672/1141560685.py:65: FutureWarning: The frame.append method is deprecated and will be removed from pandas in a future version. Use pandas.concat instead.\n",
      "  merged_df = first_merged_df.append(second_merged_df)\n",
      "/tmp/ipykernel_34672/1141560685.py:66: FutureWarning: The frame.append method is deprecated and will be removed from pandas in a future version. Use pandas.concat instead.\n",
      "  all_df = all_df.append(merged_df)\n",
      "/tmp/ipykernel_34672/1141560685.py:65: FutureWarning: The frame.append method is deprecated and will be removed from pandas in a future version. Use pandas.concat instead.\n",
      "  merged_df = first_merged_df.append(second_merged_df)\n",
      "/tmp/ipykernel_34672/1141560685.py:66: FutureWarning: The frame.append method is deprecated and will be removed from pandas in a future version. Use pandas.concat instead.\n",
      "  all_df = all_df.append(merged_df)\n",
      "/tmp/ipykernel_34672/1141560685.py:65: FutureWarning: The frame.append method is deprecated and will be removed from pandas in a future version. Use pandas.concat instead.\n",
      "  merged_df = first_merged_df.append(second_merged_df)\n",
      "/tmp/ipykernel_34672/1141560685.py:66: FutureWarning: The frame.append method is deprecated and will be removed from pandas in a future version. Use pandas.concat instead.\n",
      "  all_df = all_df.append(merged_df)\n",
      "/tmp/ipykernel_34672/1141560685.py:65: FutureWarning: The frame.append method is deprecated and will be removed from pandas in a future version. Use pandas.concat instead.\n",
      "  merged_df = first_merged_df.append(second_merged_df)\n",
      "/tmp/ipykernel_34672/1141560685.py:66: FutureWarning: The frame.append method is deprecated and will be removed from pandas in a future version. Use pandas.concat instead.\n",
      "  all_df = all_df.append(merged_df)\n",
      "/tmp/ipykernel_34672/1141560685.py:65: FutureWarning: The frame.append method is deprecated and will be removed from pandas in a future version. Use pandas.concat instead.\n",
      "  merged_df = first_merged_df.append(second_merged_df)\n",
      "/tmp/ipykernel_34672/1141560685.py:66: FutureWarning: The frame.append method is deprecated and will be removed from pandas in a future version. Use pandas.concat instead.\n",
      "  all_df = all_df.append(merged_df)\n"
     ]
    },
    {
     "name": "stdout",
     "output_type": "stream",
     "text": [
      "Successfully merged 92.6% of remaineder on second pass\n",
      "Deaths from 2001 using SVI 2000\n",
      "Successfully merged 47.9% on first pass\n",
      "Successfully merged 92.6% of remaineder on second pass\n",
      "Deaths from 2001 using SVI 2000\n",
      "Successfully merged 47.9% on first pass\n",
      "Successfully merged 92.6% of remaineder on second pass\n",
      "Deaths from 2001 using SVI 2000\n",
      "Successfully merged 47.9% on first pass\n",
      "Successfully merged 92.6% of remaineder on second pass\n",
      "Deaths from 2002 using SVI 2000\n",
      "Successfully merged 47.9% on first pass\n"
     ]
    },
    {
     "name": "stderr",
     "output_type": "stream",
     "text": [
      "/tmp/ipykernel_34672/1141560685.py:65: FutureWarning: The frame.append method is deprecated and will be removed from pandas in a future version. Use pandas.concat instead.\n",
      "  merged_df = first_merged_df.append(second_merged_df)\n",
      "/tmp/ipykernel_34672/1141560685.py:66: FutureWarning: The frame.append method is deprecated and will be removed from pandas in a future version. Use pandas.concat instead.\n",
      "  all_df = all_df.append(merged_df)\n",
      "/tmp/ipykernel_34672/1141560685.py:65: FutureWarning: The frame.append method is deprecated and will be removed from pandas in a future version. Use pandas.concat instead.\n",
      "  merged_df = first_merged_df.append(second_merged_df)\n",
      "/tmp/ipykernel_34672/1141560685.py:66: FutureWarning: The frame.append method is deprecated and will be removed from pandas in a future version. Use pandas.concat instead.\n",
      "  all_df = all_df.append(merged_df)\n",
      "/tmp/ipykernel_34672/1141560685.py:65: FutureWarning: The frame.append method is deprecated and will be removed from pandas in a future version. Use pandas.concat instead.\n",
      "  merged_df = first_merged_df.append(second_merged_df)\n",
      "/tmp/ipykernel_34672/1141560685.py:66: FutureWarning: The frame.append method is deprecated and will be removed from pandas in a future version. Use pandas.concat instead.\n",
      "  all_df = all_df.append(merged_df)\n",
      "/tmp/ipykernel_34672/1141560685.py:65: FutureWarning: The frame.append method is deprecated and will be removed from pandas in a future version. Use pandas.concat instead.\n",
      "  merged_df = first_merged_df.append(second_merged_df)\n",
      "/tmp/ipykernel_34672/1141560685.py:66: FutureWarning: The frame.append method is deprecated and will be removed from pandas in a future version. Use pandas.concat instead.\n",
      "  all_df = all_df.append(merged_df)\n"
     ]
    },
    {
     "name": "stdout",
     "output_type": "stream",
     "text": [
      "Successfully merged 92.6% of remaineder on second pass\n",
      "Deaths from 2002 using SVI 2000\n",
      "Successfully merged 47.9% on first pass\n",
      "Successfully merged 92.6% of remaineder on second pass\n",
      "Deaths from 2002 using SVI 2000\n",
      "Successfully merged 47.9% on first pass\n",
      "Successfully merged 92.6% of remaineder on second pass\n",
      "Deaths from 2002 using SVI 2000\n",
      "Successfully merged 47.9% on first pass\n",
      "Successfully merged 92.6% of remaineder on second pass\n",
      "Deaths from 2002 using SVI 2000\n",
      "Successfully merged 47.9% on first pass\n"
     ]
    },
    {
     "name": "stderr",
     "output_type": "stream",
     "text": [
      "/tmp/ipykernel_34672/1141560685.py:65: FutureWarning: The frame.append method is deprecated and will be removed from pandas in a future version. Use pandas.concat instead.\n",
      "  merged_df = first_merged_df.append(second_merged_df)\n",
      "/tmp/ipykernel_34672/1141560685.py:66: FutureWarning: The frame.append method is deprecated and will be removed from pandas in a future version. Use pandas.concat instead.\n",
      "  all_df = all_df.append(merged_df)\n",
      "/tmp/ipykernel_34672/1141560685.py:65: FutureWarning: The frame.append method is deprecated and will be removed from pandas in a future version. Use pandas.concat instead.\n",
      "  merged_df = first_merged_df.append(second_merged_df)\n",
      "/tmp/ipykernel_34672/1141560685.py:66: FutureWarning: The frame.append method is deprecated and will be removed from pandas in a future version. Use pandas.concat instead.\n",
      "  all_df = all_df.append(merged_df)\n",
      "/tmp/ipykernel_34672/1141560685.py:65: FutureWarning: The frame.append method is deprecated and will be removed from pandas in a future version. Use pandas.concat instead.\n",
      "  merged_df = first_merged_df.append(second_merged_df)\n",
      "/tmp/ipykernel_34672/1141560685.py:66: FutureWarning: The frame.append method is deprecated and will be removed from pandas in a future version. Use pandas.concat instead.\n",
      "  all_df = all_df.append(merged_df)\n",
      "/tmp/ipykernel_34672/1141560685.py:65: FutureWarning: The frame.append method is deprecated and will be removed from pandas in a future version. Use pandas.concat instead.\n",
      "  merged_df = first_merged_df.append(second_merged_df)\n",
      "/tmp/ipykernel_34672/1141560685.py:66: FutureWarning: The frame.append method is deprecated and will be removed from pandas in a future version. Use pandas.concat instead.\n",
      "  all_df = all_df.append(merged_df)\n"
     ]
    },
    {
     "name": "stdout",
     "output_type": "stream",
     "text": [
      "Successfully merged 92.6% of remaineder on second pass\n",
      "Deaths from 2002 using SVI 2000\n",
      "Successfully merged 47.9% on first pass\n",
      "Successfully merged 92.6% of remaineder on second pass\n",
      "Deaths from 2002 using SVI 2000\n",
      "Successfully merged 47.9% on first pass\n",
      "Successfully merged 92.6% of remaineder on second pass\n",
      "Deaths from 2002 using SVI 2000\n",
      "Successfully merged 47.9% on first pass\n",
      "Successfully merged 92.6% of remaineder on second pass\n",
      "Deaths from 2002 using SVI 2000\n",
      "Successfully merged 47.9% on first pass\n"
     ]
    },
    {
     "name": "stderr",
     "output_type": "stream",
     "text": [
      "/tmp/ipykernel_34672/1141560685.py:65: FutureWarning: The frame.append method is deprecated and will be removed from pandas in a future version. Use pandas.concat instead.\n",
      "  merged_df = first_merged_df.append(second_merged_df)\n",
      "/tmp/ipykernel_34672/1141560685.py:66: FutureWarning: The frame.append method is deprecated and will be removed from pandas in a future version. Use pandas.concat instead.\n",
      "  all_df = all_df.append(merged_df)\n",
      "/tmp/ipykernel_34672/1141560685.py:65: FutureWarning: The frame.append method is deprecated and will be removed from pandas in a future version. Use pandas.concat instead.\n",
      "  merged_df = first_merged_df.append(second_merged_df)\n",
      "/tmp/ipykernel_34672/1141560685.py:66: FutureWarning: The frame.append method is deprecated and will be removed from pandas in a future version. Use pandas.concat instead.\n",
      "  all_df = all_df.append(merged_df)\n",
      "/tmp/ipykernel_34672/1141560685.py:65: FutureWarning: The frame.append method is deprecated and will be removed from pandas in a future version. Use pandas.concat instead.\n",
      "  merged_df = first_merged_df.append(second_merged_df)\n",
      "/tmp/ipykernel_34672/1141560685.py:66: FutureWarning: The frame.append method is deprecated and will be removed from pandas in a future version. Use pandas.concat instead.\n",
      "  all_df = all_df.append(merged_df)\n",
      "/tmp/ipykernel_34672/1141560685.py:65: FutureWarning: The frame.append method is deprecated and will be removed from pandas in a future version. Use pandas.concat instead.\n",
      "  merged_df = first_merged_df.append(second_merged_df)\n",
      "/tmp/ipykernel_34672/1141560685.py:66: FutureWarning: The frame.append method is deprecated and will be removed from pandas in a future version. Use pandas.concat instead.\n",
      "  all_df = all_df.append(merged_df)\n"
     ]
    },
    {
     "name": "stdout",
     "output_type": "stream",
     "text": [
      "Successfully merged 92.6% of remaineder on second pass\n",
      "Deaths from 2002 using SVI 2000\n",
      "Successfully merged 47.9% on first pass\n",
      "Successfully merged 92.6% of remaineder on second pass\n",
      "Deaths from 2002 using SVI 2000\n",
      "Successfully merged 47.9% on first pass\n",
      "Successfully merged 92.6% of remaineder on second pass\n",
      "Deaths from 2002 using SVI 2000\n",
      "Successfully merged 47.9% on first pass\n",
      "Successfully merged 92.6% of remaineder on second pass\n"
     ]
    },
    {
     "name": "stderr",
     "output_type": "stream",
     "text": [
      "/tmp/ipykernel_34672/1141560685.py:65: FutureWarning: The frame.append method is deprecated and will be removed from pandas in a future version. Use pandas.concat instead.\n",
      "  merged_df = first_merged_df.append(second_merged_df)\n",
      "/tmp/ipykernel_34672/1141560685.py:66: FutureWarning: The frame.append method is deprecated and will be removed from pandas in a future version. Use pandas.concat instead.\n",
      "  all_df = all_df.append(merged_df)\n",
      "/tmp/ipykernel_34672/1141560685.py:65: FutureWarning: The frame.append method is deprecated and will be removed from pandas in a future version. Use pandas.concat instead.\n",
      "  merged_df = first_merged_df.append(second_merged_df)\n",
      "/tmp/ipykernel_34672/1141560685.py:66: FutureWarning: The frame.append method is deprecated and will be removed from pandas in a future version. Use pandas.concat instead.\n",
      "  all_df = all_df.append(merged_df)\n",
      "/tmp/ipykernel_34672/1141560685.py:65: FutureWarning: The frame.append method is deprecated and will be removed from pandas in a future version. Use pandas.concat instead.\n",
      "  merged_df = first_merged_df.append(second_merged_df)\n",
      "/tmp/ipykernel_34672/1141560685.py:66: FutureWarning: The frame.append method is deprecated and will be removed from pandas in a future version. Use pandas.concat instead.\n",
      "  all_df = all_df.append(merged_df)\n",
      "/tmp/ipykernel_34672/1141560685.py:65: FutureWarning: The frame.append method is deprecated and will be removed from pandas in a future version. Use pandas.concat instead.\n",
      "  merged_df = first_merged_df.append(second_merged_df)\n",
      "/tmp/ipykernel_34672/1141560685.py:66: FutureWarning: The frame.append method is deprecated and will be removed from pandas in a future version. Use pandas.concat instead.\n",
      "  all_df = all_df.append(merged_df)\n"
     ]
    },
    {
     "name": "stdout",
     "output_type": "stream",
     "text": [
      "Deaths from 2003 using SVI 2000\n",
      "Successfully merged 47.9% on first pass\n",
      "Successfully merged 92.6% of remaineder on second pass\n",
      "Deaths from 2003 using SVI 2000\n",
      "Successfully merged 47.9% on first pass\n",
      "Successfully merged 92.6% of remaineder on second pass\n",
      "Deaths from 2003 using SVI 2000\n",
      "Successfully merged 47.9% on first pass\n",
      "Successfully merged 92.6% of remaineder on second pass\n",
      "Deaths from 2003 using SVI 2000\n",
      "Successfully merged 47.9% on first pass\n",
      "Successfully merged 92.6% of remaineder on second pass\n"
     ]
    },
    {
     "name": "stderr",
     "output_type": "stream",
     "text": [
      "/tmp/ipykernel_34672/1141560685.py:65: FutureWarning: The frame.append method is deprecated and will be removed from pandas in a future version. Use pandas.concat instead.\n",
      "  merged_df = first_merged_df.append(second_merged_df)\n",
      "/tmp/ipykernel_34672/1141560685.py:66: FutureWarning: The frame.append method is deprecated and will be removed from pandas in a future version. Use pandas.concat instead.\n",
      "  all_df = all_df.append(merged_df)\n",
      "/tmp/ipykernel_34672/1141560685.py:65: FutureWarning: The frame.append method is deprecated and will be removed from pandas in a future version. Use pandas.concat instead.\n",
      "  merged_df = first_merged_df.append(second_merged_df)\n",
      "/tmp/ipykernel_34672/1141560685.py:66: FutureWarning: The frame.append method is deprecated and will be removed from pandas in a future version. Use pandas.concat instead.\n",
      "  all_df = all_df.append(merged_df)\n",
      "/tmp/ipykernel_34672/1141560685.py:65: FutureWarning: The frame.append method is deprecated and will be removed from pandas in a future version. Use pandas.concat instead.\n",
      "  merged_df = first_merged_df.append(second_merged_df)\n",
      "/tmp/ipykernel_34672/1141560685.py:66: FutureWarning: The frame.append method is deprecated and will be removed from pandas in a future version. Use pandas.concat instead.\n",
      "  all_df = all_df.append(merged_df)\n",
      "/tmp/ipykernel_34672/1141560685.py:65: FutureWarning: The frame.append method is deprecated and will be removed from pandas in a future version. Use pandas.concat instead.\n",
      "  merged_df = first_merged_df.append(second_merged_df)\n",
      "/tmp/ipykernel_34672/1141560685.py:66: FutureWarning: The frame.append method is deprecated and will be removed from pandas in a future version. Use pandas.concat instead.\n",
      "  all_df = all_df.append(merged_df)\n"
     ]
    },
    {
     "name": "stdout",
     "output_type": "stream",
     "text": [
      "Deaths from 2003 using SVI 2000\n",
      "Successfully merged 47.9% on first pass\n",
      "Successfully merged 92.6% of remaineder on second pass\n",
      "Deaths from 2003 using SVI 2000\n",
      "Successfully merged 47.9% on first pass\n",
      "Successfully merged 92.6% of remaineder on second pass\n",
      "Deaths from 2003 using SVI 2000\n",
      "Successfully merged 47.9% on first pass\n",
      "Successfully merged 92.6% of remaineder on second pass\n",
      "Deaths from 2003 using SVI 2000\n",
      "Successfully merged 47.9% on first pass\n"
     ]
    },
    {
     "name": "stderr",
     "output_type": "stream",
     "text": [
      "/tmp/ipykernel_34672/1141560685.py:65: FutureWarning: The frame.append method is deprecated and will be removed from pandas in a future version. Use pandas.concat instead.\n",
      "  merged_df = first_merged_df.append(second_merged_df)\n",
      "/tmp/ipykernel_34672/1141560685.py:66: FutureWarning: The frame.append method is deprecated and will be removed from pandas in a future version. Use pandas.concat instead.\n",
      "  all_df = all_df.append(merged_df)\n",
      "/tmp/ipykernel_34672/1141560685.py:65: FutureWarning: The frame.append method is deprecated and will be removed from pandas in a future version. Use pandas.concat instead.\n",
      "  merged_df = first_merged_df.append(second_merged_df)\n",
      "/tmp/ipykernel_34672/1141560685.py:66: FutureWarning: The frame.append method is deprecated and will be removed from pandas in a future version. Use pandas.concat instead.\n",
      "  all_df = all_df.append(merged_df)\n",
      "/tmp/ipykernel_34672/1141560685.py:65: FutureWarning: The frame.append method is deprecated and will be removed from pandas in a future version. Use pandas.concat instead.\n",
      "  merged_df = first_merged_df.append(second_merged_df)\n",
      "/tmp/ipykernel_34672/1141560685.py:66: FutureWarning: The frame.append method is deprecated and will be removed from pandas in a future version. Use pandas.concat instead.\n",
      "  all_df = all_df.append(merged_df)\n",
      "/tmp/ipykernel_34672/1141560685.py:65: FutureWarning: The frame.append method is deprecated and will be removed from pandas in a future version. Use pandas.concat instead.\n",
      "  merged_df = first_merged_df.append(second_merged_df)\n",
      "/tmp/ipykernel_34672/1141560685.py:66: FutureWarning: The frame.append method is deprecated and will be removed from pandas in a future version. Use pandas.concat instead.\n",
      "  all_df = all_df.append(merged_df)\n"
     ]
    },
    {
     "name": "stdout",
     "output_type": "stream",
     "text": [
      "Successfully merged 92.6% of remaineder on second pass\n",
      "Deaths from 2003 using SVI 2000\n",
      "Successfully merged 47.9% on first pass\n",
      "Successfully merged 92.6% of remaineder on second pass\n",
      "Deaths from 2003 using SVI 2000\n",
      "Successfully merged 47.9% on first pass\n",
      "Successfully merged 92.6% of remaineder on second pass\n",
      "Deaths from 2003 using SVI 2000\n",
      "Successfully merged 47.9% on first pass\n",
      "Successfully merged 92.6% of remaineder on second pass\n"
     ]
    },
    {
     "name": "stderr",
     "output_type": "stream",
     "text": [
      "/tmp/ipykernel_34672/1141560685.py:65: FutureWarning: The frame.append method is deprecated and will be removed from pandas in a future version. Use pandas.concat instead.\n",
      "  merged_df = first_merged_df.append(second_merged_df)\n",
      "/tmp/ipykernel_34672/1141560685.py:66: FutureWarning: The frame.append method is deprecated and will be removed from pandas in a future version. Use pandas.concat instead.\n",
      "  all_df = all_df.append(merged_df)\n",
      "/tmp/ipykernel_34672/1141560685.py:65: FutureWarning: The frame.append method is deprecated and will be removed from pandas in a future version. Use pandas.concat instead.\n",
      "  merged_df = first_merged_df.append(second_merged_df)\n",
      "/tmp/ipykernel_34672/1141560685.py:66: FutureWarning: The frame.append method is deprecated and will be removed from pandas in a future version. Use pandas.concat instead.\n",
      "  all_df = all_df.append(merged_df)\n",
      "/tmp/ipykernel_34672/1141560685.py:65: FutureWarning: The frame.append method is deprecated and will be removed from pandas in a future version. Use pandas.concat instead.\n",
      "  merged_df = first_merged_df.append(second_merged_df)\n",
      "/tmp/ipykernel_34672/1141560685.py:66: FutureWarning: The frame.append method is deprecated and will be removed from pandas in a future version. Use pandas.concat instead.\n",
      "  all_df = all_df.append(merged_df)\n"
     ]
    },
    {
     "name": "stdout",
     "output_type": "stream",
     "text": [
      "Deaths from 2003 using SVI 2000\n",
      "Successfully merged 47.9% on first pass\n",
      "Successfully merged 92.6% of remaineder on second pass\n",
      "Deaths from 2004 using SVI 2000\n",
      "Successfully merged 47.9% on first pass\n",
      "Successfully merged 92.6% of remaineder on second pass\n",
      "Deaths from 2004 using SVI 2000\n",
      "Successfully merged 47.9% on first pass\n",
      "Successfully merged 92.6% of remaineder on second pass\n"
     ]
    },
    {
     "name": "stderr",
     "output_type": "stream",
     "text": [
      "/tmp/ipykernel_34672/1141560685.py:65: FutureWarning: The frame.append method is deprecated and will be removed from pandas in a future version. Use pandas.concat instead.\n",
      "  merged_df = first_merged_df.append(second_merged_df)\n",
      "/tmp/ipykernel_34672/1141560685.py:66: FutureWarning: The frame.append method is deprecated and will be removed from pandas in a future version. Use pandas.concat instead.\n",
      "  all_df = all_df.append(merged_df)\n",
      "/tmp/ipykernel_34672/1141560685.py:65: FutureWarning: The frame.append method is deprecated and will be removed from pandas in a future version. Use pandas.concat instead.\n",
      "  merged_df = first_merged_df.append(second_merged_df)\n",
      "/tmp/ipykernel_34672/1141560685.py:66: FutureWarning: The frame.append method is deprecated and will be removed from pandas in a future version. Use pandas.concat instead.\n",
      "  all_df = all_df.append(merged_df)\n",
      "/tmp/ipykernel_34672/1141560685.py:65: FutureWarning: The frame.append method is deprecated and will be removed from pandas in a future version. Use pandas.concat instead.\n",
      "  merged_df = first_merged_df.append(second_merged_df)\n",
      "/tmp/ipykernel_34672/1141560685.py:66: FutureWarning: The frame.append method is deprecated and will be removed from pandas in a future version. Use pandas.concat instead.\n",
      "  all_df = all_df.append(merged_df)\n",
      "/tmp/ipykernel_34672/1141560685.py:65: FutureWarning: The frame.append method is deprecated and will be removed from pandas in a future version. Use pandas.concat instead.\n",
      "  merged_df = first_merged_df.append(second_merged_df)\n",
      "/tmp/ipykernel_34672/1141560685.py:66: FutureWarning: The frame.append method is deprecated and will be removed from pandas in a future version. Use pandas.concat instead.\n",
      "  all_df = all_df.append(merged_df)\n"
     ]
    },
    {
     "name": "stdout",
     "output_type": "stream",
     "text": [
      "Deaths from 2004 using SVI 2000\n",
      "Successfully merged 47.9% on first pass\n",
      "Successfully merged 92.6% of remaineder on second pass\n",
      "Deaths from 2004 using SVI 2000\n",
      "Successfully merged 47.9% on first pass\n",
      "Successfully merged 92.6% of remaineder on second pass\n",
      "Deaths from 2004 using SVI 2000\n",
      "Successfully merged 47.9% on first pass\n",
      "Successfully merged 92.6% of remaineder on second pass\n",
      "Deaths from 2004 using SVI 2000\n",
      "Successfully merged 47.9% on first pass\n",
      "Successfully merged 92.6% of remaineder on second pass\n",
      "Deaths from 2004 using SVI 2000\n",
      "Successfully merged 47.9% on first pass\n",
      "Successfully merged 92.6% of remaineder on second pass\n",
      "Deaths from 2004 using SVI 2000\n",
      "Successfully merged 47.9% on first pass\n",
      "Successfully merged 92.6% of remaineder on second pass\n",
      "Deaths from 2004 using SVI 2000\n"
     ]
    },
    {
     "name": "stderr",
     "output_type": "stream",
     "text": [
      "/tmp/ipykernel_34672/1141560685.py:65: FutureWarning: The frame.append method is deprecated and will be removed from pandas in a future version. Use pandas.concat instead.\n",
      "  merged_df = first_merged_df.append(second_merged_df)\n",
      "/tmp/ipykernel_34672/1141560685.py:66: FutureWarning: The frame.append method is deprecated and will be removed from pandas in a future version. Use pandas.concat instead.\n",
      "  all_df = all_df.append(merged_df)\n",
      "/tmp/ipykernel_34672/1141560685.py:65: FutureWarning: The frame.append method is deprecated and will be removed from pandas in a future version. Use pandas.concat instead.\n",
      "  merged_df = first_merged_df.append(second_merged_df)\n",
      "/tmp/ipykernel_34672/1141560685.py:66: FutureWarning: The frame.append method is deprecated and will be removed from pandas in a future version. Use pandas.concat instead.\n",
      "  all_df = all_df.append(merged_df)\n",
      "/tmp/ipykernel_34672/1141560685.py:65: FutureWarning: The frame.append method is deprecated and will be removed from pandas in a future version. Use pandas.concat instead.\n",
      "  merged_df = first_merged_df.append(second_merged_df)\n",
      "/tmp/ipykernel_34672/1141560685.py:66: FutureWarning: The frame.append method is deprecated and will be removed from pandas in a future version. Use pandas.concat instead.\n",
      "  all_df = all_df.append(merged_df)\n"
     ]
    },
    {
     "name": "stdout",
     "output_type": "stream",
     "text": [
      "Successfully merged 47.9% on first pass\n",
      "Successfully merged 92.6% of remaineder on second pass\n",
      "Deaths from 2004 using SVI 2000\n",
      "Successfully merged 47.9% on first pass\n",
      "Successfully merged 92.6% of remaineder on second pass\n",
      "Deaths from 2004 using SVI 2000\n",
      "Successfully merged 47.9% on first pass\n",
      "Successfully merged 92.6% of remaineder on second pass\n",
      "Deaths from 2004 using SVI 2000\n"
     ]
    },
    {
     "name": "stderr",
     "output_type": "stream",
     "text": [
      "/tmp/ipykernel_34672/1141560685.py:65: FutureWarning: The frame.append method is deprecated and will be removed from pandas in a future version. Use pandas.concat instead.\n",
      "  merged_df = first_merged_df.append(second_merged_df)\n",
      "/tmp/ipykernel_34672/1141560685.py:66: FutureWarning: The frame.append method is deprecated and will be removed from pandas in a future version. Use pandas.concat instead.\n",
      "  all_df = all_df.append(merged_df)\n",
      "/tmp/ipykernel_34672/1141560685.py:65: FutureWarning: The frame.append method is deprecated and will be removed from pandas in a future version. Use pandas.concat instead.\n",
      "  merged_df = first_merged_df.append(second_merged_df)\n",
      "/tmp/ipykernel_34672/1141560685.py:66: FutureWarning: The frame.append method is deprecated and will be removed from pandas in a future version. Use pandas.concat instead.\n",
      "  all_df = all_df.append(merged_df)\n",
      "/tmp/ipykernel_34672/1141560685.py:65: FutureWarning: The frame.append method is deprecated and will be removed from pandas in a future version. Use pandas.concat instead.\n",
      "  merged_df = first_merged_df.append(second_merged_df)\n",
      "/tmp/ipykernel_34672/1141560685.py:66: FutureWarning: The frame.append method is deprecated and will be removed from pandas in a future version. Use pandas.concat instead.\n",
      "  all_df = all_df.append(merged_df)\n"
     ]
    },
    {
     "name": "stdout",
     "output_type": "stream",
     "text": [
      "Successfully merged 47.9% on first pass\n",
      "Successfully merged 92.6% of remaineder on second pass\n",
      "Deaths from 2005 using SVI 2000\n",
      "Successfully merged 47.9% on first pass\n",
      "Successfully merged 92.6% of remaineder on second pass\n",
      "Deaths from 2005 using SVI 2000\n",
      "Successfully merged 47.9% on first pass\n",
      "Successfully merged 92.6% of remaineder on second pass\n"
     ]
    },
    {
     "name": "stderr",
     "output_type": "stream",
     "text": [
      "/tmp/ipykernel_34672/1141560685.py:65: FutureWarning: The frame.append method is deprecated and will be removed from pandas in a future version. Use pandas.concat instead.\n",
      "  merged_df = first_merged_df.append(second_merged_df)\n",
      "/tmp/ipykernel_34672/1141560685.py:66: FutureWarning: The frame.append method is deprecated and will be removed from pandas in a future version. Use pandas.concat instead.\n",
      "  all_df = all_df.append(merged_df)\n",
      "/tmp/ipykernel_34672/1141560685.py:65: FutureWarning: The frame.append method is deprecated and will be removed from pandas in a future version. Use pandas.concat instead.\n",
      "  merged_df = first_merged_df.append(second_merged_df)\n",
      "/tmp/ipykernel_34672/1141560685.py:66: FutureWarning: The frame.append method is deprecated and will be removed from pandas in a future version. Use pandas.concat instead.\n",
      "  all_df = all_df.append(merged_df)\n",
      "/tmp/ipykernel_34672/1141560685.py:65: FutureWarning: The frame.append method is deprecated and will be removed from pandas in a future version. Use pandas.concat instead.\n",
      "  merged_df = first_merged_df.append(second_merged_df)\n",
      "/tmp/ipykernel_34672/1141560685.py:66: FutureWarning: The frame.append method is deprecated and will be removed from pandas in a future version. Use pandas.concat instead.\n",
      "  all_df = all_df.append(merged_df)\n"
     ]
    },
    {
     "name": "stdout",
     "output_type": "stream",
     "text": [
      "Deaths from 2005 using SVI 2000\n",
      "Successfully merged 47.9% on first pass\n",
      "Successfully merged 92.6% of remaineder on second pass\n",
      "Deaths from 2005 using SVI 2000\n",
      "Successfully merged 47.9% on first pass\n",
      "Successfully merged 92.6% of remaineder on second pass\n",
      "Deaths from 2005 using SVI 2000\n",
      "Successfully merged 47.9% on first pass\n",
      "Successfully merged 92.6% of remaineder on second pass\n"
     ]
    },
    {
     "name": "stderr",
     "output_type": "stream",
     "text": [
      "/tmp/ipykernel_34672/1141560685.py:65: FutureWarning: The frame.append method is deprecated and will be removed from pandas in a future version. Use pandas.concat instead.\n",
      "  merged_df = first_merged_df.append(second_merged_df)\n",
      "/tmp/ipykernel_34672/1141560685.py:66: FutureWarning: The frame.append method is deprecated and will be removed from pandas in a future version. Use pandas.concat instead.\n",
      "  all_df = all_df.append(merged_df)\n",
      "/tmp/ipykernel_34672/1141560685.py:65: FutureWarning: The frame.append method is deprecated and will be removed from pandas in a future version. Use pandas.concat instead.\n",
      "  merged_df = first_merged_df.append(second_merged_df)\n",
      "/tmp/ipykernel_34672/1141560685.py:66: FutureWarning: The frame.append method is deprecated and will be removed from pandas in a future version. Use pandas.concat instead.\n",
      "  all_df = all_df.append(merged_df)\n",
      "/tmp/ipykernel_34672/1141560685.py:65: FutureWarning: The frame.append method is deprecated and will be removed from pandas in a future version. Use pandas.concat instead.\n",
      "  merged_df = first_merged_df.append(second_merged_df)\n",
      "/tmp/ipykernel_34672/1141560685.py:66: FutureWarning: The frame.append method is deprecated and will be removed from pandas in a future version. Use pandas.concat instead.\n",
      "  all_df = all_df.append(merged_df)\n"
     ]
    },
    {
     "name": "stdout",
     "output_type": "stream",
     "text": [
      "Deaths from 2005 using SVI 2000\n",
      "Successfully merged 47.9% on first pass\n",
      "Successfully merged 92.6% of remaineder on second pass\n",
      "Deaths from 2005 using SVI 2000\n",
      "Successfully merged 47.9% on first pass\n",
      "Successfully merged 92.6% of remaineder on second pass\n",
      "Deaths from 2005 using SVI 2000\n",
      "Successfully merged 47.9% on first pass\n",
      "Successfully merged 92.6% of remaineder on second pass\n"
     ]
    },
    {
     "name": "stderr",
     "output_type": "stream",
     "text": [
      "/tmp/ipykernel_34672/1141560685.py:65: FutureWarning: The frame.append method is deprecated and will be removed from pandas in a future version. Use pandas.concat instead.\n",
      "  merged_df = first_merged_df.append(second_merged_df)\n",
      "/tmp/ipykernel_34672/1141560685.py:66: FutureWarning: The frame.append method is deprecated and will be removed from pandas in a future version. Use pandas.concat instead.\n",
      "  all_df = all_df.append(merged_df)\n",
      "/tmp/ipykernel_34672/1141560685.py:65: FutureWarning: The frame.append method is deprecated and will be removed from pandas in a future version. Use pandas.concat instead.\n",
      "  merged_df = first_merged_df.append(second_merged_df)\n",
      "/tmp/ipykernel_34672/1141560685.py:66: FutureWarning: The frame.append method is deprecated and will be removed from pandas in a future version. Use pandas.concat instead.\n",
      "  all_df = all_df.append(merged_df)\n",
      "/tmp/ipykernel_34672/1141560685.py:65: FutureWarning: The frame.append method is deprecated and will be removed from pandas in a future version. Use pandas.concat instead.\n",
      "  merged_df = first_merged_df.append(second_merged_df)\n",
      "/tmp/ipykernel_34672/1141560685.py:66: FutureWarning: The frame.append method is deprecated and will be removed from pandas in a future version. Use pandas.concat instead.\n",
      "  all_df = all_df.append(merged_df)\n"
     ]
    },
    {
     "name": "stdout",
     "output_type": "stream",
     "text": [
      "Deaths from 2005 using SVI 2000\n",
      "Successfully merged 47.9% on first pass\n",
      "Successfully merged 92.6% of remaineder on second pass\n",
      "Deaths from 2005 using SVI 2000\n",
      "Successfully merged 47.9% on first pass\n",
      "Successfully merged 92.6% of remaineder on second pass\n",
      "Deaths from 2005 using SVI 2000\n",
      "Successfully merged 47.9% on first pass\n",
      "Successfully merged 92.6% of remaineder on second pass\n"
     ]
    },
    {
     "name": "stderr",
     "output_type": "stream",
     "text": [
      "/tmp/ipykernel_34672/1141560685.py:65: FutureWarning: The frame.append method is deprecated and will be removed from pandas in a future version. Use pandas.concat instead.\n",
      "  merged_df = first_merged_df.append(second_merged_df)\n",
      "/tmp/ipykernel_34672/1141560685.py:66: FutureWarning: The frame.append method is deprecated and will be removed from pandas in a future version. Use pandas.concat instead.\n",
      "  all_df = all_df.append(merged_df)\n",
      "/tmp/ipykernel_34672/1141560685.py:65: FutureWarning: The frame.append method is deprecated and will be removed from pandas in a future version. Use pandas.concat instead.\n",
      "  merged_df = first_merged_df.append(second_merged_df)\n",
      "/tmp/ipykernel_34672/1141560685.py:66: FutureWarning: The frame.append method is deprecated and will be removed from pandas in a future version. Use pandas.concat instead.\n",
      "  all_df = all_df.append(merged_df)\n",
      "/tmp/ipykernel_34672/1141560685.py:65: FutureWarning: The frame.append method is deprecated and will be removed from pandas in a future version. Use pandas.concat instead.\n",
      "  merged_df = first_merged_df.append(second_merged_df)\n",
      "/tmp/ipykernel_34672/1141560685.py:66: FutureWarning: The frame.append method is deprecated and will be removed from pandas in a future version. Use pandas.concat instead.\n",
      "  all_df = all_df.append(merged_df)\n"
     ]
    },
    {
     "name": "stdout",
     "output_type": "stream",
     "text": [
      "Deaths from 2005 using SVI 2000\n",
      "Successfully merged 47.9% on first pass\n",
      "Successfully merged 92.6% of remaineder on second pass\n",
      "Deaths from 2006 using SVI 2000\n",
      "Successfully merged 47.9% on first pass\n",
      "Successfully merged 92.6% of remaineder on second pass\n",
      "Deaths from 2006 using SVI 2000\n",
      "Successfully merged 47.9% on first pass\n",
      "Successfully merged 92.6% of remaineder on second pass\n"
     ]
    },
    {
     "name": "stderr",
     "output_type": "stream",
     "text": [
      "/tmp/ipykernel_34672/1141560685.py:65: FutureWarning: The frame.append method is deprecated and will be removed from pandas in a future version. Use pandas.concat instead.\n",
      "  merged_df = first_merged_df.append(second_merged_df)\n",
      "/tmp/ipykernel_34672/1141560685.py:66: FutureWarning: The frame.append method is deprecated and will be removed from pandas in a future version. Use pandas.concat instead.\n",
      "  all_df = all_df.append(merged_df)\n",
      "/tmp/ipykernel_34672/1141560685.py:65: FutureWarning: The frame.append method is deprecated and will be removed from pandas in a future version. Use pandas.concat instead.\n",
      "  merged_df = first_merged_df.append(second_merged_df)\n",
      "/tmp/ipykernel_34672/1141560685.py:66: FutureWarning: The frame.append method is deprecated and will be removed from pandas in a future version. Use pandas.concat instead.\n",
      "  all_df = all_df.append(merged_df)\n",
      "/tmp/ipykernel_34672/1141560685.py:65: FutureWarning: The frame.append method is deprecated and will be removed from pandas in a future version. Use pandas.concat instead.\n",
      "  merged_df = first_merged_df.append(second_merged_df)\n",
      "/tmp/ipykernel_34672/1141560685.py:66: FutureWarning: The frame.append method is deprecated and will be removed from pandas in a future version. Use pandas.concat instead.\n",
      "  all_df = all_df.append(merged_df)\n"
     ]
    },
    {
     "name": "stdout",
     "output_type": "stream",
     "text": [
      "Deaths from 2006 using SVI 2000\n",
      "Successfully merged 47.9% on first pass\n",
      "Successfully merged 92.6% of remaineder on second pass\n",
      "Deaths from 2006 using SVI 2000\n",
      "Successfully merged 47.9% on first pass\n",
      "Successfully merged 92.6% of remaineder on second pass\n",
      "Deaths from 2006 using SVI 2000\n",
      "Successfully merged 47.9% on first pass\n",
      "Successfully merged 92.6% of remaineder on second pass\n"
     ]
    },
    {
     "name": "stderr",
     "output_type": "stream",
     "text": [
      "/tmp/ipykernel_34672/1141560685.py:65: FutureWarning: The frame.append method is deprecated and will be removed from pandas in a future version. Use pandas.concat instead.\n",
      "  merged_df = first_merged_df.append(second_merged_df)\n",
      "/tmp/ipykernel_34672/1141560685.py:66: FutureWarning: The frame.append method is deprecated and will be removed from pandas in a future version. Use pandas.concat instead.\n",
      "  all_df = all_df.append(merged_df)\n",
      "/tmp/ipykernel_34672/1141560685.py:65: FutureWarning: The frame.append method is deprecated and will be removed from pandas in a future version. Use pandas.concat instead.\n",
      "  merged_df = first_merged_df.append(second_merged_df)\n",
      "/tmp/ipykernel_34672/1141560685.py:66: FutureWarning: The frame.append method is deprecated and will be removed from pandas in a future version. Use pandas.concat instead.\n",
      "  all_df = all_df.append(merged_df)\n",
      "/tmp/ipykernel_34672/1141560685.py:65: FutureWarning: The frame.append method is deprecated and will be removed from pandas in a future version. Use pandas.concat instead.\n",
      "  merged_df = first_merged_df.append(second_merged_df)\n",
      "/tmp/ipykernel_34672/1141560685.py:66: FutureWarning: The frame.append method is deprecated and will be removed from pandas in a future version. Use pandas.concat instead.\n",
      "  all_df = all_df.append(merged_df)\n"
     ]
    },
    {
     "name": "stdout",
     "output_type": "stream",
     "text": [
      "Deaths from 2006 using SVI 2000\n",
      "Successfully merged 47.9% on first pass\n",
      "Successfully merged 92.6% of remaineder on second pass\n",
      "Deaths from 2006 using SVI 2000\n",
      "Successfully merged 47.9% on first pass\n",
      "Successfully merged 92.6% of remaineder on second pass\n",
      "Deaths from 2006 using SVI 2000\n",
      "Successfully merged 47.9% on first pass\n",
      "Successfully merged 92.6% of remaineder on second pass\n"
     ]
    },
    {
     "name": "stderr",
     "output_type": "stream",
     "text": [
      "/tmp/ipykernel_34672/1141560685.py:65: FutureWarning: The frame.append method is deprecated and will be removed from pandas in a future version. Use pandas.concat instead.\n",
      "  merged_df = first_merged_df.append(second_merged_df)\n",
      "/tmp/ipykernel_34672/1141560685.py:66: FutureWarning: The frame.append method is deprecated and will be removed from pandas in a future version. Use pandas.concat instead.\n",
      "  all_df = all_df.append(merged_df)\n",
      "/tmp/ipykernel_34672/1141560685.py:65: FutureWarning: The frame.append method is deprecated and will be removed from pandas in a future version. Use pandas.concat instead.\n",
      "  merged_df = first_merged_df.append(second_merged_df)\n",
      "/tmp/ipykernel_34672/1141560685.py:66: FutureWarning: The frame.append method is deprecated and will be removed from pandas in a future version. Use pandas.concat instead.\n",
      "  all_df = all_df.append(merged_df)\n",
      "/tmp/ipykernel_34672/1141560685.py:65: FutureWarning: The frame.append method is deprecated and will be removed from pandas in a future version. Use pandas.concat instead.\n",
      "  merged_df = first_merged_df.append(second_merged_df)\n",
      "/tmp/ipykernel_34672/1141560685.py:66: FutureWarning: The frame.append method is deprecated and will be removed from pandas in a future version. Use pandas.concat instead.\n",
      "  all_df = all_df.append(merged_df)\n"
     ]
    },
    {
     "name": "stdout",
     "output_type": "stream",
     "text": [
      "Deaths from 2006 using SVI 2000\n",
      "Successfully merged 47.9% on first pass\n",
      "Successfully merged 92.6% of remaineder on second pass\n",
      "Deaths from 2006 using SVI 2000\n",
      "Successfully merged 47.9% on first pass\n",
      "Successfully merged 92.6% of remaineder on second pass\n",
      "Deaths from 2006 using SVI 2000\n",
      "Successfully merged 47.9% on first pass\n",
      "Successfully merged 92.6% of remaineder on second pass\n"
     ]
    },
    {
     "name": "stderr",
     "output_type": "stream",
     "text": [
      "/tmp/ipykernel_34672/1141560685.py:65: FutureWarning: The frame.append method is deprecated and will be removed from pandas in a future version. Use pandas.concat instead.\n",
      "  merged_df = first_merged_df.append(second_merged_df)\n",
      "/tmp/ipykernel_34672/1141560685.py:66: FutureWarning: The frame.append method is deprecated and will be removed from pandas in a future version. Use pandas.concat instead.\n",
      "  all_df = all_df.append(merged_df)\n",
      "/tmp/ipykernel_34672/1141560685.py:65: FutureWarning: The frame.append method is deprecated and will be removed from pandas in a future version. Use pandas.concat instead.\n",
      "  merged_df = first_merged_df.append(second_merged_df)\n",
      "/tmp/ipykernel_34672/1141560685.py:66: FutureWarning: The frame.append method is deprecated and will be removed from pandas in a future version. Use pandas.concat instead.\n",
      "  all_df = all_df.append(merged_df)\n",
      "/tmp/ipykernel_34672/1141560685.py:65: FutureWarning: The frame.append method is deprecated and will be removed from pandas in a future version. Use pandas.concat instead.\n",
      "  merged_df = first_merged_df.append(second_merged_df)\n",
      "/tmp/ipykernel_34672/1141560685.py:66: FutureWarning: The frame.append method is deprecated and will be removed from pandas in a future version. Use pandas.concat instead.\n",
      "  all_df = all_df.append(merged_df)\n"
     ]
    },
    {
     "name": "stdout",
     "output_type": "stream",
     "text": [
      "Deaths from 2006 using SVI 2000\n",
      "Successfully merged 47.9% on first pass\n",
      "Successfully merged 92.6% of remaineder on second pass\n",
      "Deaths from 2007 using SVI 2010\n",
      "Successfully merged 77.6% on first pass\n",
      "Successfully merged 98.0% of remaineder on second pass\n",
      "Deaths from 2007 using SVI 2010\n"
     ]
    },
    {
     "name": "stderr",
     "output_type": "stream",
     "text": [
      "/tmp/ipykernel_34672/1141560685.py:65: FutureWarning: The frame.append method is deprecated and will be removed from pandas in a future version. Use pandas.concat instead.\n",
      "  merged_df = first_merged_df.append(second_merged_df)\n",
      "/tmp/ipykernel_34672/1141560685.py:66: FutureWarning: The frame.append method is deprecated and will be removed from pandas in a future version. Use pandas.concat instead.\n",
      "  all_df = all_df.append(merged_df)\n",
      "/tmp/ipykernel_34672/1141560685.py:65: FutureWarning: The frame.append method is deprecated and will be removed from pandas in a future version. Use pandas.concat instead.\n",
      "  merged_df = first_merged_df.append(second_merged_df)\n",
      "/tmp/ipykernel_34672/1141560685.py:66: FutureWarning: The frame.append method is deprecated and will be removed from pandas in a future version. Use pandas.concat instead.\n",
      "  all_df = all_df.append(merged_df)\n",
      "/tmp/ipykernel_34672/1141560685.py:65: FutureWarning: The frame.append method is deprecated and will be removed from pandas in a future version. Use pandas.concat instead.\n",
      "  merged_df = first_merged_df.append(second_merged_df)\n"
     ]
    },
    {
     "name": "stdout",
     "output_type": "stream",
     "text": [
      "Successfully merged 77.6% on first pass\n",
      "Successfully merged 98.0% of remaineder on second pass\n",
      "Deaths from 2007 using SVI 2010\n",
      "Successfully merged 77.6% on first pass\n",
      "Successfully merged 98.0% of remaineder on second pass\n",
      "Deaths from 2007 using SVI 2010\n",
      "Successfully merged 77.6% on first pass\n",
      "Successfully merged 98.0% of remaineder on second pass\n"
     ]
    },
    {
     "name": "stderr",
     "output_type": "stream",
     "text": [
      "/tmp/ipykernel_34672/1141560685.py:66: FutureWarning: The frame.append method is deprecated and will be removed from pandas in a future version. Use pandas.concat instead.\n",
      "  all_df = all_df.append(merged_df)\n",
      "/tmp/ipykernel_34672/1141560685.py:65: FutureWarning: The frame.append method is deprecated and will be removed from pandas in a future version. Use pandas.concat instead.\n",
      "  merged_df = first_merged_df.append(second_merged_df)\n",
      "/tmp/ipykernel_34672/1141560685.py:66: FutureWarning: The frame.append method is deprecated and will be removed from pandas in a future version. Use pandas.concat instead.\n",
      "  all_df = all_df.append(merged_df)\n",
      "/tmp/ipykernel_34672/1141560685.py:65: FutureWarning: The frame.append method is deprecated and will be removed from pandas in a future version. Use pandas.concat instead.\n",
      "  merged_df = first_merged_df.append(second_merged_df)\n",
      "/tmp/ipykernel_34672/1141560685.py:66: FutureWarning: The frame.append method is deprecated and will be removed from pandas in a future version. Use pandas.concat instead.\n",
      "  all_df = all_df.append(merged_df)\n"
     ]
    },
    {
     "name": "stdout",
     "output_type": "stream",
     "text": [
      "Deaths from 2007 using SVI 2010\n",
      "Successfully merged 77.6% on first pass\n",
      "Successfully merged 98.0% of remaineder on second pass\n",
      "Deaths from 2007 using SVI 2010\n",
      "Successfully merged 77.6% on first pass\n",
      "Successfully merged 98.0% of remaineder on second pass\n",
      "Deaths from 2007 using SVI 2010\n",
      "Successfully merged 77.6% on first pass\n"
     ]
    },
    {
     "name": "stderr",
     "output_type": "stream",
     "text": [
      "/tmp/ipykernel_34672/1141560685.py:65: FutureWarning: The frame.append method is deprecated and will be removed from pandas in a future version. Use pandas.concat instead.\n",
      "  merged_df = first_merged_df.append(second_merged_df)\n",
      "/tmp/ipykernel_34672/1141560685.py:66: FutureWarning: The frame.append method is deprecated and will be removed from pandas in a future version. Use pandas.concat instead.\n",
      "  all_df = all_df.append(merged_df)\n",
      "/tmp/ipykernel_34672/1141560685.py:65: FutureWarning: The frame.append method is deprecated and will be removed from pandas in a future version. Use pandas.concat instead.\n",
      "  merged_df = first_merged_df.append(second_merged_df)\n",
      "/tmp/ipykernel_34672/1141560685.py:66: FutureWarning: The frame.append method is deprecated and will be removed from pandas in a future version. Use pandas.concat instead.\n",
      "  all_df = all_df.append(merged_df)\n",
      "/tmp/ipykernel_34672/1141560685.py:65: FutureWarning: The frame.append method is deprecated and will be removed from pandas in a future version. Use pandas.concat instead.\n",
      "  merged_df = first_merged_df.append(second_merged_df)\n",
      "/tmp/ipykernel_34672/1141560685.py:66: FutureWarning: The frame.append method is deprecated and will be removed from pandas in a future version. Use pandas.concat instead.\n",
      "  all_df = all_df.append(merged_df)\n"
     ]
    },
    {
     "name": "stdout",
     "output_type": "stream",
     "text": [
      "Successfully merged 98.0% of remaineder on second pass\n",
      "Deaths from 2007 using SVI 2010\n",
      "Successfully merged 77.6% on first pass\n",
      "Successfully merged 98.0% of remaineder on second pass\n",
      "Deaths from 2007 using SVI 2010\n",
      "Successfully merged 77.6% on first pass\n",
      "Successfully merged 98.0% of remaineder on second pass\n"
     ]
    },
    {
     "name": "stderr",
     "output_type": "stream",
     "text": [
      "/tmp/ipykernel_34672/1141560685.py:65: FutureWarning: The frame.append method is deprecated and will be removed from pandas in a future version. Use pandas.concat instead.\n",
      "  merged_df = first_merged_df.append(second_merged_df)\n",
      "/tmp/ipykernel_34672/1141560685.py:66: FutureWarning: The frame.append method is deprecated and will be removed from pandas in a future version. Use pandas.concat instead.\n",
      "  all_df = all_df.append(merged_df)\n",
      "/tmp/ipykernel_34672/1141560685.py:65: FutureWarning: The frame.append method is deprecated and will be removed from pandas in a future version. Use pandas.concat instead.\n",
      "  merged_df = first_merged_df.append(second_merged_df)\n",
      "/tmp/ipykernel_34672/1141560685.py:66: FutureWarning: The frame.append method is deprecated and will be removed from pandas in a future version. Use pandas.concat instead.\n",
      "  all_df = all_df.append(merged_df)\n",
      "/tmp/ipykernel_34672/1141560685.py:65: FutureWarning: The frame.append method is deprecated and will be removed from pandas in a future version. Use pandas.concat instead.\n",
      "  merged_df = first_merged_df.append(second_merged_df)\n",
      "/tmp/ipykernel_34672/1141560685.py:66: FutureWarning: The frame.append method is deprecated and will be removed from pandas in a future version. Use pandas.concat instead.\n",
      "  all_df = all_df.append(merged_df)\n"
     ]
    },
    {
     "name": "stdout",
     "output_type": "stream",
     "text": [
      "Deaths from 2007 using SVI 2010\n",
      "Successfully merged 77.6% on first pass\n",
      "Successfully merged 98.0% of remaineder on second pass\n",
      "Deaths from 2007 using SVI 2010\n",
      "Successfully merged 77.6% on first pass\n",
      "Successfully merged 98.0% of remaineder on second pass\n",
      "Deaths from 2007 using SVI 2010\n",
      "Successfully merged 77.6% on first pass\n"
     ]
    },
    {
     "name": "stderr",
     "output_type": "stream",
     "text": [
      "/tmp/ipykernel_34672/1141560685.py:65: FutureWarning: The frame.append method is deprecated and will be removed from pandas in a future version. Use pandas.concat instead.\n",
      "  merged_df = first_merged_df.append(second_merged_df)\n",
      "/tmp/ipykernel_34672/1141560685.py:66: FutureWarning: The frame.append method is deprecated and will be removed from pandas in a future version. Use pandas.concat instead.\n",
      "  all_df = all_df.append(merged_df)\n",
      "/tmp/ipykernel_34672/1141560685.py:65: FutureWarning: The frame.append method is deprecated and will be removed from pandas in a future version. Use pandas.concat instead.\n",
      "  merged_df = first_merged_df.append(second_merged_df)\n",
      "/tmp/ipykernel_34672/1141560685.py:66: FutureWarning: The frame.append method is deprecated and will be removed from pandas in a future version. Use pandas.concat instead.\n",
      "  all_df = all_df.append(merged_df)\n"
     ]
    },
    {
     "name": "stdout",
     "output_type": "stream",
     "text": [
      "Successfully merged 98.0% of remaineder on second pass\n",
      "Deaths from 2008 using SVI 2010\n",
      "Successfully merged 77.6% on first pass\n",
      "Successfully merged 98.0% of remaineder on second pass\n",
      "Deaths from 2008 using SVI 2010\n"
     ]
    },
    {
     "name": "stderr",
     "output_type": "stream",
     "text": [
      "/tmp/ipykernel_34672/1141560685.py:65: FutureWarning: The frame.append method is deprecated and will be removed from pandas in a future version. Use pandas.concat instead.\n",
      "  merged_df = first_merged_df.append(second_merged_df)\n",
      "/tmp/ipykernel_34672/1141560685.py:66: FutureWarning: The frame.append method is deprecated and will be removed from pandas in a future version. Use pandas.concat instead.\n",
      "  all_df = all_df.append(merged_df)\n",
      "/tmp/ipykernel_34672/1141560685.py:65: FutureWarning: The frame.append method is deprecated and will be removed from pandas in a future version. Use pandas.concat instead.\n",
      "  merged_df = first_merged_df.append(second_merged_df)\n",
      "/tmp/ipykernel_34672/1141560685.py:66: FutureWarning: The frame.append method is deprecated and will be removed from pandas in a future version. Use pandas.concat instead.\n",
      "  all_df = all_df.append(merged_df)\n",
      "/tmp/ipykernel_34672/1141560685.py:65: FutureWarning: The frame.append method is deprecated and will be removed from pandas in a future version. Use pandas.concat instead.\n",
      "  merged_df = first_merged_df.append(second_merged_df)\n",
      "/tmp/ipykernel_34672/1141560685.py:66: FutureWarning: The frame.append method is deprecated and will be removed from pandas in a future version. Use pandas.concat instead.\n",
      "  all_df = all_df.append(merged_df)\n"
     ]
    },
    {
     "name": "stdout",
     "output_type": "stream",
     "text": [
      "Successfully merged 77.6% on first pass\n",
      "Successfully merged 98.0% of remaineder on second pass\n",
      "Deaths from 2008 using SVI 2010\n",
      "Successfully merged 77.6% on first pass\n",
      "Successfully merged 98.0% of remaineder on second pass\n",
      "Deaths from 2008 using SVI 2010\n",
      "Successfully merged 77.6% on first pass\n",
      "Successfully merged 98.0% of remaineder on second pass\n"
     ]
    },
    {
     "name": "stderr",
     "output_type": "stream",
     "text": [
      "/tmp/ipykernel_34672/1141560685.py:65: FutureWarning: The frame.append method is deprecated and will be removed from pandas in a future version. Use pandas.concat instead.\n",
      "  merged_df = first_merged_df.append(second_merged_df)\n",
      "/tmp/ipykernel_34672/1141560685.py:66: FutureWarning: The frame.append method is deprecated and will be removed from pandas in a future version. Use pandas.concat instead.\n",
      "  all_df = all_df.append(merged_df)\n",
      "/tmp/ipykernel_34672/1141560685.py:65: FutureWarning: The frame.append method is deprecated and will be removed from pandas in a future version. Use pandas.concat instead.\n",
      "  merged_df = first_merged_df.append(second_merged_df)\n",
      "/tmp/ipykernel_34672/1141560685.py:66: FutureWarning: The frame.append method is deprecated and will be removed from pandas in a future version. Use pandas.concat instead.\n",
      "  all_df = all_df.append(merged_df)\n",
      "/tmp/ipykernel_34672/1141560685.py:65: FutureWarning: The frame.append method is deprecated and will be removed from pandas in a future version. Use pandas.concat instead.\n",
      "  merged_df = first_merged_df.append(second_merged_df)\n",
      "/tmp/ipykernel_34672/1141560685.py:66: FutureWarning: The frame.append method is deprecated and will be removed from pandas in a future version. Use pandas.concat instead.\n",
      "  all_df = all_df.append(merged_df)\n"
     ]
    },
    {
     "name": "stdout",
     "output_type": "stream",
     "text": [
      "Deaths from 2008 using SVI 2010\n",
      "Successfully merged 77.6% on first pass\n",
      "Successfully merged 98.0% of remaineder on second pass\n",
      "Deaths from 2008 using SVI 2010\n",
      "Successfully merged 77.6% on first pass\n",
      "Successfully merged 98.0% of remaineder on second pass\n",
      "Deaths from 2008 using SVI 2010\n",
      "Successfully merged 77.6% on first pass\n",
      "Successfully merged 98.0% of remaineder on second pass\n",
      "Deaths from 2008 using SVI 2010\n",
      "Successfully merged 77.6% on first pass\n",
      "Successfully merged 98.0% of remaineder on second pass\n",
      "Deaths from 2008 using SVI 2010\n",
      "Successfully merged 77.6% on first pass\n"
     ]
    },
    {
     "name": "stderr",
     "output_type": "stream",
     "text": [
      "/tmp/ipykernel_34672/1141560685.py:65: FutureWarning: The frame.append method is deprecated and will be removed from pandas in a future version. Use pandas.concat instead.\n",
      "  merged_df = first_merged_df.append(second_merged_df)\n",
      "/tmp/ipykernel_34672/1141560685.py:66: FutureWarning: The frame.append method is deprecated and will be removed from pandas in a future version. Use pandas.concat instead.\n",
      "  all_df = all_df.append(merged_df)\n",
      "/tmp/ipykernel_34672/1141560685.py:65: FutureWarning: The frame.append method is deprecated and will be removed from pandas in a future version. Use pandas.concat instead.\n",
      "  merged_df = first_merged_df.append(second_merged_df)\n",
      "/tmp/ipykernel_34672/1141560685.py:66: FutureWarning: The frame.append method is deprecated and will be removed from pandas in a future version. Use pandas.concat instead.\n",
      "  all_df = all_df.append(merged_df)\n",
      "/tmp/ipykernel_34672/1141560685.py:65: FutureWarning: The frame.append method is deprecated and will be removed from pandas in a future version. Use pandas.concat instead.\n",
      "  merged_df = first_merged_df.append(second_merged_df)\n"
     ]
    },
    {
     "name": "stdout",
     "output_type": "stream",
     "text": [
      "Successfully merged 98.0% of remaineder on second pass\n",
      "Deaths from 2008 using SVI 2010\n",
      "Successfully merged 77.6% on first pass\n",
      "Successfully merged 98.0% of remaineder on second pass\n",
      "Deaths from 2008 using SVI 2010\n",
      "Successfully merged 77.6% on first pass\n",
      "Successfully merged 98.0% of remaineder on second pass\n"
     ]
    },
    {
     "name": "stderr",
     "output_type": "stream",
     "text": [
      "/tmp/ipykernel_34672/1141560685.py:66: FutureWarning: The frame.append method is deprecated and will be removed from pandas in a future version. Use pandas.concat instead.\n",
      "  all_df = all_df.append(merged_df)\n",
      "/tmp/ipykernel_34672/1141560685.py:65: FutureWarning: The frame.append method is deprecated and will be removed from pandas in a future version. Use pandas.concat instead.\n",
      "  merged_df = first_merged_df.append(second_merged_df)\n",
      "/tmp/ipykernel_34672/1141560685.py:66: FutureWarning: The frame.append method is deprecated and will be removed from pandas in a future version. Use pandas.concat instead.\n",
      "  all_df = all_df.append(merged_df)\n",
      "/tmp/ipykernel_34672/1141560685.py:65: FutureWarning: The frame.append method is deprecated and will be removed from pandas in a future version. Use pandas.concat instead.\n",
      "  merged_df = first_merged_df.append(second_merged_df)\n",
      "/tmp/ipykernel_34672/1141560685.py:66: FutureWarning: The frame.append method is deprecated and will be removed from pandas in a future version. Use pandas.concat instead.\n",
      "  all_df = all_df.append(merged_df)\n"
     ]
    },
    {
     "name": "stdout",
     "output_type": "stream",
     "text": [
      "Deaths from 2008 using SVI 2010\n",
      "Successfully merged 77.6% on first pass\n",
      "Successfully merged 98.0% of remaineder on second pass\n",
      "Deaths from 2009 using SVI 2010\n",
      "Successfully merged 77.6% on first pass\n",
      "Successfully merged 98.0% of remaineder on second pass\n"
     ]
    },
    {
     "name": "stderr",
     "output_type": "stream",
     "text": [
      "/tmp/ipykernel_34672/1141560685.py:65: FutureWarning: The frame.append method is deprecated and will be removed from pandas in a future version. Use pandas.concat instead.\n",
      "  merged_df = first_merged_df.append(second_merged_df)\n",
      "/tmp/ipykernel_34672/1141560685.py:66: FutureWarning: The frame.append method is deprecated and will be removed from pandas in a future version. Use pandas.concat instead.\n",
      "  all_df = all_df.append(merged_df)\n",
      "/tmp/ipykernel_34672/1141560685.py:65: FutureWarning: The frame.append method is deprecated and will be removed from pandas in a future version. Use pandas.concat instead.\n",
      "  merged_df = first_merged_df.append(second_merged_df)\n",
      "/tmp/ipykernel_34672/1141560685.py:66: FutureWarning: The frame.append method is deprecated and will be removed from pandas in a future version. Use pandas.concat instead.\n",
      "  all_df = all_df.append(merged_df)\n"
     ]
    },
    {
     "name": "stdout",
     "output_type": "stream",
     "text": [
      "Deaths from 2009 using SVI 2010\n",
      "Successfully merged 77.6% on first pass\n",
      "Successfully merged 98.0% of remaineder on second pass\n",
      "Deaths from 2009 using SVI 2010\n",
      "Successfully merged 77.6% on first pass\n",
      "Successfully merged 98.0% of remaineder on second pass\n"
     ]
    },
    {
     "name": "stderr",
     "output_type": "stream",
     "text": [
      "/tmp/ipykernel_34672/1141560685.py:65: FutureWarning: The frame.append method is deprecated and will be removed from pandas in a future version. Use pandas.concat instead.\n",
      "  merged_df = first_merged_df.append(second_merged_df)\n",
      "/tmp/ipykernel_34672/1141560685.py:66: FutureWarning: The frame.append method is deprecated and will be removed from pandas in a future version. Use pandas.concat instead.\n",
      "  all_df = all_df.append(merged_df)\n",
      "/tmp/ipykernel_34672/1141560685.py:65: FutureWarning: The frame.append method is deprecated and will be removed from pandas in a future version. Use pandas.concat instead.\n",
      "  merged_df = first_merged_df.append(second_merged_df)\n",
      "/tmp/ipykernel_34672/1141560685.py:66: FutureWarning: The frame.append method is deprecated and will be removed from pandas in a future version. Use pandas.concat instead.\n",
      "  all_df = all_df.append(merged_df)\n"
     ]
    },
    {
     "name": "stdout",
     "output_type": "stream",
     "text": [
      "Deaths from 2009 using SVI 2010\n",
      "Successfully merged 77.6% on first pass\n",
      "Successfully merged 98.0% of remaineder on second pass\n",
      "Deaths from 2009 using SVI 2010\n",
      "Successfully merged 77.6% on first pass\n",
      "Successfully merged 98.0% of remaineder on second pass\n"
     ]
    },
    {
     "name": "stderr",
     "output_type": "stream",
     "text": [
      "/tmp/ipykernel_34672/1141560685.py:65: FutureWarning: The frame.append method is deprecated and will be removed from pandas in a future version. Use pandas.concat instead.\n",
      "  merged_df = first_merged_df.append(second_merged_df)\n",
      "/tmp/ipykernel_34672/1141560685.py:66: FutureWarning: The frame.append method is deprecated and will be removed from pandas in a future version. Use pandas.concat instead.\n",
      "  all_df = all_df.append(merged_df)\n",
      "/tmp/ipykernel_34672/1141560685.py:65: FutureWarning: The frame.append method is deprecated and will be removed from pandas in a future version. Use pandas.concat instead.\n",
      "  merged_df = first_merged_df.append(second_merged_df)\n",
      "/tmp/ipykernel_34672/1141560685.py:66: FutureWarning: The frame.append method is deprecated and will be removed from pandas in a future version. Use pandas.concat instead.\n",
      "  all_df = all_df.append(merged_df)\n"
     ]
    },
    {
     "name": "stdout",
     "output_type": "stream",
     "text": [
      "Deaths from 2009 using SVI 2010\n",
      "Successfully merged 77.6% on first pass\n",
      "Successfully merged 98.0% of remaineder on second pass\n",
      "Deaths from 2009 using SVI 2010\n",
      "Successfully merged 77.6% on first pass\n",
      "Successfully merged 98.0% of remaineder on second pass\n"
     ]
    },
    {
     "name": "stderr",
     "output_type": "stream",
     "text": [
      "/tmp/ipykernel_34672/1141560685.py:65: FutureWarning: The frame.append method is deprecated and will be removed from pandas in a future version. Use pandas.concat instead.\n",
      "  merged_df = first_merged_df.append(second_merged_df)\n",
      "/tmp/ipykernel_34672/1141560685.py:66: FutureWarning: The frame.append method is deprecated and will be removed from pandas in a future version. Use pandas.concat instead.\n",
      "  all_df = all_df.append(merged_df)\n",
      "/tmp/ipykernel_34672/1141560685.py:65: FutureWarning: The frame.append method is deprecated and will be removed from pandas in a future version. Use pandas.concat instead.\n",
      "  merged_df = first_merged_df.append(second_merged_df)\n",
      "/tmp/ipykernel_34672/1141560685.py:66: FutureWarning: The frame.append method is deprecated and will be removed from pandas in a future version. Use pandas.concat instead.\n",
      "  all_df = all_df.append(merged_df)\n"
     ]
    },
    {
     "name": "stdout",
     "output_type": "stream",
     "text": [
      "Deaths from 2009 using SVI 2010\n",
      "Successfully merged 77.6% on first pass\n",
      "Successfully merged 98.0% of remaineder on second pass\n",
      "Deaths from 2009 using SVI 2010\n",
      "Successfully merged 77.6% on first pass\n",
      "Successfully merged 98.0% of remaineder on second pass\n"
     ]
    },
    {
     "name": "stderr",
     "output_type": "stream",
     "text": [
      "/tmp/ipykernel_34672/1141560685.py:65: FutureWarning: The frame.append method is deprecated and will be removed from pandas in a future version. Use pandas.concat instead.\n",
      "  merged_df = first_merged_df.append(second_merged_df)\n",
      "/tmp/ipykernel_34672/1141560685.py:66: FutureWarning: The frame.append method is deprecated and will be removed from pandas in a future version. Use pandas.concat instead.\n",
      "  all_df = all_df.append(merged_df)\n",
      "/tmp/ipykernel_34672/1141560685.py:65: FutureWarning: The frame.append method is deprecated and will be removed from pandas in a future version. Use pandas.concat instead.\n",
      "  merged_df = first_merged_df.append(second_merged_df)\n",
      "/tmp/ipykernel_34672/1141560685.py:66: FutureWarning: The frame.append method is deprecated and will be removed from pandas in a future version. Use pandas.concat instead.\n",
      "  all_df = all_df.append(merged_df)\n"
     ]
    },
    {
     "name": "stdout",
     "output_type": "stream",
     "text": [
      "Deaths from 2009 using SVI 2010\n",
      "Successfully merged 77.6% on first pass\n",
      "Successfully merged 98.0% of remaineder on second pass\n",
      "Deaths from 2009 using SVI 2010\n",
      "Successfully merged 77.6% on first pass\n",
      "Successfully merged 98.0% of remaineder on second pass\n"
     ]
    },
    {
     "name": "stderr",
     "output_type": "stream",
     "text": [
      "/tmp/ipykernel_34672/1141560685.py:65: FutureWarning: The frame.append method is deprecated and will be removed from pandas in a future version. Use pandas.concat instead.\n",
      "  merged_df = first_merged_df.append(second_merged_df)\n",
      "/tmp/ipykernel_34672/1141560685.py:66: FutureWarning: The frame.append method is deprecated and will be removed from pandas in a future version. Use pandas.concat instead.\n",
      "  all_df = all_df.append(merged_df)\n",
      "/tmp/ipykernel_34672/1141560685.py:65: FutureWarning: The frame.append method is deprecated and will be removed from pandas in a future version. Use pandas.concat instead.\n",
      "  merged_df = first_merged_df.append(second_merged_df)\n",
      "/tmp/ipykernel_34672/1141560685.py:66: FutureWarning: The frame.append method is deprecated and will be removed from pandas in a future version. Use pandas.concat instead.\n",
      "  all_df = all_df.append(merged_df)\n"
     ]
    },
    {
     "name": "stdout",
     "output_type": "stream",
     "text": [
      "Deaths from 2009 using SVI 2010\n",
      "Successfully merged 77.6% on first pass\n",
      "Successfully merged 98.0% of remaineder on second pass\n",
      "Deaths from 2010 using SVI 2010\n",
      "Successfully merged 77.6% on first pass\n",
      "Successfully merged 98.0% of remaineder on second pass\n"
     ]
    },
    {
     "name": "stderr",
     "output_type": "stream",
     "text": [
      "/tmp/ipykernel_34672/1141560685.py:65: FutureWarning: The frame.append method is deprecated and will be removed from pandas in a future version. Use pandas.concat instead.\n",
      "  merged_df = first_merged_df.append(second_merged_df)\n",
      "/tmp/ipykernel_34672/1141560685.py:66: FutureWarning: The frame.append method is deprecated and will be removed from pandas in a future version. Use pandas.concat instead.\n",
      "  all_df = all_df.append(merged_df)\n",
      "/tmp/ipykernel_34672/1141560685.py:65: FutureWarning: The frame.append method is deprecated and will be removed from pandas in a future version. Use pandas.concat instead.\n",
      "  merged_df = first_merged_df.append(second_merged_df)\n",
      "/tmp/ipykernel_34672/1141560685.py:66: FutureWarning: The frame.append method is deprecated and will be removed from pandas in a future version. Use pandas.concat instead.\n",
      "  all_df = all_df.append(merged_df)\n"
     ]
    },
    {
     "name": "stdout",
     "output_type": "stream",
     "text": [
      "Deaths from 2010 using SVI 2010\n",
      "Successfully merged 77.6% on first pass\n",
      "Successfully merged 98.0% of remaineder on second pass\n",
      "Deaths from 2010 using SVI 2010\n",
      "Successfully merged 77.6% on first pass\n",
      "Successfully merged 98.0% of remaineder on second pass\n"
     ]
    },
    {
     "name": "stderr",
     "output_type": "stream",
     "text": [
      "/tmp/ipykernel_34672/1141560685.py:65: FutureWarning: The frame.append method is deprecated and will be removed from pandas in a future version. Use pandas.concat instead.\n",
      "  merged_df = first_merged_df.append(second_merged_df)\n",
      "/tmp/ipykernel_34672/1141560685.py:66: FutureWarning: The frame.append method is deprecated and will be removed from pandas in a future version. Use pandas.concat instead.\n",
      "  all_df = all_df.append(merged_df)\n",
      "/tmp/ipykernel_34672/1141560685.py:65: FutureWarning: The frame.append method is deprecated and will be removed from pandas in a future version. Use pandas.concat instead.\n",
      "  merged_df = first_merged_df.append(second_merged_df)\n",
      "/tmp/ipykernel_34672/1141560685.py:66: FutureWarning: The frame.append method is deprecated and will be removed from pandas in a future version. Use pandas.concat instead.\n",
      "  all_df = all_df.append(merged_df)\n"
     ]
    },
    {
     "name": "stdout",
     "output_type": "stream",
     "text": [
      "Deaths from 2010 using SVI 2010\n",
      "Successfully merged 77.6% on first pass\n",
      "Successfully merged 98.0% of remaineder on second pass\n",
      "Deaths from 2010 using SVI 2010\n",
      "Successfully merged 77.6% on first pass\n",
      "Successfully merged 98.0% of remaineder on second pass\n"
     ]
    },
    {
     "name": "stderr",
     "output_type": "stream",
     "text": [
      "/tmp/ipykernel_34672/1141560685.py:65: FutureWarning: The frame.append method is deprecated and will be removed from pandas in a future version. Use pandas.concat instead.\n",
      "  merged_df = first_merged_df.append(second_merged_df)\n",
      "/tmp/ipykernel_34672/1141560685.py:66: FutureWarning: The frame.append method is deprecated and will be removed from pandas in a future version. Use pandas.concat instead.\n",
      "  all_df = all_df.append(merged_df)\n",
      "/tmp/ipykernel_34672/1141560685.py:65: FutureWarning: The frame.append method is deprecated and will be removed from pandas in a future version. Use pandas.concat instead.\n",
      "  merged_df = first_merged_df.append(second_merged_df)\n",
      "/tmp/ipykernel_34672/1141560685.py:66: FutureWarning: The frame.append method is deprecated and will be removed from pandas in a future version. Use pandas.concat instead.\n",
      "  all_df = all_df.append(merged_df)\n"
     ]
    },
    {
     "name": "stdout",
     "output_type": "stream",
     "text": [
      "Deaths from 2010 using SVI 2010\n",
      "Successfully merged 77.6% on first pass\n",
      "Successfully merged 98.0% of remaineder on second pass\n",
      "Deaths from 2010 using SVI 2010\n",
      "Successfully merged 77.6% on first pass\n",
      "Successfully merged 98.0% of remaineder on second pass\n"
     ]
    },
    {
     "name": "stderr",
     "output_type": "stream",
     "text": [
      "/tmp/ipykernel_34672/1141560685.py:65: FutureWarning: The frame.append method is deprecated and will be removed from pandas in a future version. Use pandas.concat instead.\n",
      "  merged_df = first_merged_df.append(second_merged_df)\n",
      "/tmp/ipykernel_34672/1141560685.py:66: FutureWarning: The frame.append method is deprecated and will be removed from pandas in a future version. Use pandas.concat instead.\n",
      "  all_df = all_df.append(merged_df)\n",
      "/tmp/ipykernel_34672/1141560685.py:65: FutureWarning: The frame.append method is deprecated and will be removed from pandas in a future version. Use pandas.concat instead.\n",
      "  merged_df = first_merged_df.append(second_merged_df)\n",
      "/tmp/ipykernel_34672/1141560685.py:66: FutureWarning: The frame.append method is deprecated and will be removed from pandas in a future version. Use pandas.concat instead.\n",
      "  all_df = all_df.append(merged_df)\n"
     ]
    },
    {
     "name": "stdout",
     "output_type": "stream",
     "text": [
      "Deaths from 2010 using SVI 2010\n",
      "Successfully merged 77.6% on first pass\n",
      "Successfully merged 98.0% of remaineder on second pass\n",
      "Deaths from 2010 using SVI 2010\n",
      "Successfully merged 77.6% on first pass\n",
      "Successfully merged 98.0% of remaineder on second pass\n"
     ]
    },
    {
     "name": "stderr",
     "output_type": "stream",
     "text": [
      "/tmp/ipykernel_34672/1141560685.py:65: FutureWarning: The frame.append method is deprecated and will be removed from pandas in a future version. Use pandas.concat instead.\n",
      "  merged_df = first_merged_df.append(second_merged_df)\n",
      "/tmp/ipykernel_34672/1141560685.py:66: FutureWarning: The frame.append method is deprecated and will be removed from pandas in a future version. Use pandas.concat instead.\n",
      "  all_df = all_df.append(merged_df)\n",
      "/tmp/ipykernel_34672/1141560685.py:65: FutureWarning: The frame.append method is deprecated and will be removed from pandas in a future version. Use pandas.concat instead.\n",
      "  merged_df = first_merged_df.append(second_merged_df)\n",
      "/tmp/ipykernel_34672/1141560685.py:66: FutureWarning: The frame.append method is deprecated and will be removed from pandas in a future version. Use pandas.concat instead.\n",
      "  all_df = all_df.append(merged_df)\n"
     ]
    },
    {
     "name": "stdout",
     "output_type": "stream",
     "text": [
      "Deaths from 2010 using SVI 2010\n",
      "Successfully merged 77.6% on first pass\n",
      "Successfully merged 98.0% of remaineder on second pass\n",
      "Deaths from 2010 using SVI 2010\n",
      "Successfully merged 77.6% on first pass\n",
      "Successfully merged 98.0% of remaineder on second pass\n"
     ]
    },
    {
     "name": "stderr",
     "output_type": "stream",
     "text": [
      "/tmp/ipykernel_34672/1141560685.py:65: FutureWarning: The frame.append method is deprecated and will be removed from pandas in a future version. Use pandas.concat instead.\n",
      "  merged_df = first_merged_df.append(second_merged_df)\n",
      "/tmp/ipykernel_34672/1141560685.py:66: FutureWarning: The frame.append method is deprecated and will be removed from pandas in a future version. Use pandas.concat instead.\n",
      "  all_df = all_df.append(merged_df)\n",
      "/tmp/ipykernel_34672/1141560685.py:65: FutureWarning: The frame.append method is deprecated and will be removed from pandas in a future version. Use pandas.concat instead.\n",
      "  merged_df = first_merged_df.append(second_merged_df)\n",
      "/tmp/ipykernel_34672/1141560685.py:66: FutureWarning: The frame.append method is deprecated and will be removed from pandas in a future version. Use pandas.concat instead.\n",
      "  all_df = all_df.append(merged_df)\n"
     ]
    },
    {
     "name": "stdout",
     "output_type": "stream",
     "text": [
      "Deaths from 2010 using SVI 2010\n",
      "Successfully merged 77.6% on first pass\n",
      "Successfully merged 98.0% of remaineder on second pass\n",
      "Deaths from 2011 using SVI 2010\n",
      "Successfully merged 77.6% on first pass\n",
      "Successfully merged 98.0% of remaineder on second pass\n"
     ]
    },
    {
     "name": "stderr",
     "output_type": "stream",
     "text": [
      "/tmp/ipykernel_34672/1141560685.py:65: FutureWarning: The frame.append method is deprecated and will be removed from pandas in a future version. Use pandas.concat instead.\n",
      "  merged_df = first_merged_df.append(second_merged_df)\n",
      "/tmp/ipykernel_34672/1141560685.py:66: FutureWarning: The frame.append method is deprecated and will be removed from pandas in a future version. Use pandas.concat instead.\n",
      "  all_df = all_df.append(merged_df)\n",
      "/tmp/ipykernel_34672/1141560685.py:65: FutureWarning: The frame.append method is deprecated and will be removed from pandas in a future version. Use pandas.concat instead.\n",
      "  merged_df = first_merged_df.append(second_merged_df)\n",
      "/tmp/ipykernel_34672/1141560685.py:66: FutureWarning: The frame.append method is deprecated and will be removed from pandas in a future version. Use pandas.concat instead.\n",
      "  all_df = all_df.append(merged_df)\n"
     ]
    },
    {
     "name": "stdout",
     "output_type": "stream",
     "text": [
      "Deaths from 2011 using SVI 2010\n",
      "Successfully merged 77.6% on first pass\n",
      "Successfully merged 98.0% of remaineder on second pass\n",
      "Deaths from 2011 using SVI 2010\n",
      "Successfully merged 77.6% on first pass\n",
      "Successfully merged 98.0% of remaineder on second pass\n"
     ]
    },
    {
     "name": "stderr",
     "output_type": "stream",
     "text": [
      "/tmp/ipykernel_34672/1141560685.py:65: FutureWarning: The frame.append method is deprecated and will be removed from pandas in a future version. Use pandas.concat instead.\n",
      "  merged_df = first_merged_df.append(second_merged_df)\n",
      "/tmp/ipykernel_34672/1141560685.py:66: FutureWarning: The frame.append method is deprecated and will be removed from pandas in a future version. Use pandas.concat instead.\n",
      "  all_df = all_df.append(merged_df)\n",
      "/tmp/ipykernel_34672/1141560685.py:65: FutureWarning: The frame.append method is deprecated and will be removed from pandas in a future version. Use pandas.concat instead.\n",
      "  merged_df = first_merged_df.append(second_merged_df)\n",
      "/tmp/ipykernel_34672/1141560685.py:66: FutureWarning: The frame.append method is deprecated and will be removed from pandas in a future version. Use pandas.concat instead.\n",
      "  all_df = all_df.append(merged_df)\n"
     ]
    },
    {
     "name": "stdout",
     "output_type": "stream",
     "text": [
      "Deaths from 2011 using SVI 2010\n",
      "Successfully merged 77.6% on first pass\n",
      "Successfully merged 98.0% of remaineder on second pass\n",
      "Deaths from 2011 using SVI 2010\n",
      "Successfully merged 77.6% on first pass\n",
      "Successfully merged 98.0% of remaineder on second pass\n"
     ]
    },
    {
     "name": "stderr",
     "output_type": "stream",
     "text": [
      "/tmp/ipykernel_34672/1141560685.py:65: FutureWarning: The frame.append method is deprecated and will be removed from pandas in a future version. Use pandas.concat instead.\n",
      "  merged_df = first_merged_df.append(second_merged_df)\n",
      "/tmp/ipykernel_34672/1141560685.py:66: FutureWarning: The frame.append method is deprecated and will be removed from pandas in a future version. Use pandas.concat instead.\n",
      "  all_df = all_df.append(merged_df)\n",
      "/tmp/ipykernel_34672/1141560685.py:65: FutureWarning: The frame.append method is deprecated and will be removed from pandas in a future version. Use pandas.concat instead.\n",
      "  merged_df = first_merged_df.append(second_merged_df)\n",
      "/tmp/ipykernel_34672/1141560685.py:66: FutureWarning: The frame.append method is deprecated and will be removed from pandas in a future version. Use pandas.concat instead.\n",
      "  all_df = all_df.append(merged_df)\n"
     ]
    },
    {
     "name": "stdout",
     "output_type": "stream",
     "text": [
      "Deaths from 2011 using SVI 2010\n",
      "Successfully merged 77.6% on first pass\n",
      "Successfully merged 98.0% of remaineder on second pass\n",
      "Deaths from 2011 using SVI 2010\n",
      "Successfully merged 77.6% on first pass\n",
      "Successfully merged 98.0% of remaineder on second pass\n"
     ]
    },
    {
     "name": "stderr",
     "output_type": "stream",
     "text": [
      "/tmp/ipykernel_34672/1141560685.py:65: FutureWarning: The frame.append method is deprecated and will be removed from pandas in a future version. Use pandas.concat instead.\n",
      "  merged_df = first_merged_df.append(second_merged_df)\n",
      "/tmp/ipykernel_34672/1141560685.py:66: FutureWarning: The frame.append method is deprecated and will be removed from pandas in a future version. Use pandas.concat instead.\n",
      "  all_df = all_df.append(merged_df)\n",
      "/tmp/ipykernel_34672/1141560685.py:65: FutureWarning: The frame.append method is deprecated and will be removed from pandas in a future version. Use pandas.concat instead.\n",
      "  merged_df = first_merged_df.append(second_merged_df)\n",
      "/tmp/ipykernel_34672/1141560685.py:66: FutureWarning: The frame.append method is deprecated and will be removed from pandas in a future version. Use pandas.concat instead.\n",
      "  all_df = all_df.append(merged_df)\n"
     ]
    },
    {
     "name": "stdout",
     "output_type": "stream",
     "text": [
      "Deaths from 2011 using SVI 2010\n",
      "Successfully merged 77.6% on first pass\n",
      "Successfully merged 98.0% of remaineder on second pass\n",
      "Deaths from 2011 using SVI 2010\n",
      "Successfully merged 77.6% on first pass\n",
      "Successfully merged 98.0% of remaineder on second pass\n"
     ]
    },
    {
     "name": "stderr",
     "output_type": "stream",
     "text": [
      "/tmp/ipykernel_34672/1141560685.py:65: FutureWarning: The frame.append method is deprecated and will be removed from pandas in a future version. Use pandas.concat instead.\n",
      "  merged_df = first_merged_df.append(second_merged_df)\n",
      "/tmp/ipykernel_34672/1141560685.py:66: FutureWarning: The frame.append method is deprecated and will be removed from pandas in a future version. Use pandas.concat instead.\n",
      "  all_df = all_df.append(merged_df)\n",
      "/tmp/ipykernel_34672/1141560685.py:65: FutureWarning: The frame.append method is deprecated and will be removed from pandas in a future version. Use pandas.concat instead.\n",
      "  merged_df = first_merged_df.append(second_merged_df)\n",
      "/tmp/ipykernel_34672/1141560685.py:66: FutureWarning: The frame.append method is deprecated and will be removed from pandas in a future version. Use pandas.concat instead.\n",
      "  all_df = all_df.append(merged_df)\n"
     ]
    },
    {
     "name": "stdout",
     "output_type": "stream",
     "text": [
      "Deaths from 2011 using SVI 2010\n",
      "Successfully merged 77.6% on first pass\n",
      "Successfully merged 98.0% of remaineder on second pass\n",
      "Deaths from 2011 using SVI 2010\n",
      "Successfully merged 77.6% on first pass\n",
      "Successfully merged 98.0% of remaineder on second pass\n"
     ]
    },
    {
     "name": "stderr",
     "output_type": "stream",
     "text": [
      "/tmp/ipykernel_34672/1141560685.py:65: FutureWarning: The frame.append method is deprecated and will be removed from pandas in a future version. Use pandas.concat instead.\n",
      "  merged_df = first_merged_df.append(second_merged_df)\n",
      "/tmp/ipykernel_34672/1141560685.py:66: FutureWarning: The frame.append method is deprecated and will be removed from pandas in a future version. Use pandas.concat instead.\n",
      "  all_df = all_df.append(merged_df)\n",
      "/tmp/ipykernel_34672/1141560685.py:65: FutureWarning: The frame.append method is deprecated and will be removed from pandas in a future version. Use pandas.concat instead.\n",
      "  merged_df = first_merged_df.append(second_merged_df)\n",
      "/tmp/ipykernel_34672/1141560685.py:66: FutureWarning: The frame.append method is deprecated and will be removed from pandas in a future version. Use pandas.concat instead.\n",
      "  all_df = all_df.append(merged_df)\n"
     ]
    },
    {
     "name": "stdout",
     "output_type": "stream",
     "text": [
      "Deaths from 2011 using SVI 2010\n",
      "Successfully merged 77.6% on first pass\n",
      "Successfully merged 98.0% of remaineder on second pass\n",
      "Deaths from 2012 using SVI 2010\n",
      "Successfully merged 77.6% on first pass\n",
      "Successfully merged 98.0% of remaineder on second pass\n"
     ]
    },
    {
     "name": "stderr",
     "output_type": "stream",
     "text": [
      "/tmp/ipykernel_34672/1141560685.py:65: FutureWarning: The frame.append method is deprecated and will be removed from pandas in a future version. Use pandas.concat instead.\n",
      "  merged_df = first_merged_df.append(second_merged_df)\n",
      "/tmp/ipykernel_34672/1141560685.py:66: FutureWarning: The frame.append method is deprecated and will be removed from pandas in a future version. Use pandas.concat instead.\n",
      "  all_df = all_df.append(merged_df)\n",
      "/tmp/ipykernel_34672/1141560685.py:65: FutureWarning: The frame.append method is deprecated and will be removed from pandas in a future version. Use pandas.concat instead.\n",
      "  merged_df = first_merged_df.append(second_merged_df)\n",
      "/tmp/ipykernel_34672/1141560685.py:66: FutureWarning: The frame.append method is deprecated and will be removed from pandas in a future version. Use pandas.concat instead.\n",
      "  all_df = all_df.append(merged_df)\n"
     ]
    },
    {
     "name": "stdout",
     "output_type": "stream",
     "text": [
      "Deaths from 2012 using SVI 2010\n",
      "Successfully merged 77.6% on first pass\n",
      "Successfully merged 98.0% of remaineder on second pass\n",
      "Deaths from 2012 using SVI 2010\n",
      "Successfully merged 77.6% on first pass\n",
      "Successfully merged 98.0% of remaineder on second pass\n"
     ]
    },
    {
     "name": "stderr",
     "output_type": "stream",
     "text": [
      "/tmp/ipykernel_34672/1141560685.py:65: FutureWarning: The frame.append method is deprecated and will be removed from pandas in a future version. Use pandas.concat instead.\n",
      "  merged_df = first_merged_df.append(second_merged_df)\n",
      "/tmp/ipykernel_34672/1141560685.py:66: FutureWarning: The frame.append method is deprecated and will be removed from pandas in a future version. Use pandas.concat instead.\n",
      "  all_df = all_df.append(merged_df)\n",
      "/tmp/ipykernel_34672/1141560685.py:65: FutureWarning: The frame.append method is deprecated and will be removed from pandas in a future version. Use pandas.concat instead.\n",
      "  merged_df = first_merged_df.append(second_merged_df)\n",
      "/tmp/ipykernel_34672/1141560685.py:66: FutureWarning: The frame.append method is deprecated and will be removed from pandas in a future version. Use pandas.concat instead.\n",
      "  all_df = all_df.append(merged_df)\n"
     ]
    },
    {
     "name": "stdout",
     "output_type": "stream",
     "text": [
      "Deaths from 2012 using SVI 2010\n",
      "Successfully merged 77.6% on first pass\n",
      "Successfully merged 98.0% of remaineder on second pass\n",
      "Deaths from 2012 using SVI 2010\n",
      "Successfully merged 77.6% on first pass\n",
      "Successfully merged 98.0% of remaineder on second pass\n"
     ]
    },
    {
     "name": "stderr",
     "output_type": "stream",
     "text": [
      "/tmp/ipykernel_34672/1141560685.py:65: FutureWarning: The frame.append method is deprecated and will be removed from pandas in a future version. Use pandas.concat instead.\n",
      "  merged_df = first_merged_df.append(second_merged_df)\n",
      "/tmp/ipykernel_34672/1141560685.py:66: FutureWarning: The frame.append method is deprecated and will be removed from pandas in a future version. Use pandas.concat instead.\n",
      "  all_df = all_df.append(merged_df)\n",
      "/tmp/ipykernel_34672/1141560685.py:65: FutureWarning: The frame.append method is deprecated and will be removed from pandas in a future version. Use pandas.concat instead.\n",
      "  merged_df = first_merged_df.append(second_merged_df)\n",
      "/tmp/ipykernel_34672/1141560685.py:66: FutureWarning: The frame.append method is deprecated and will be removed from pandas in a future version. Use pandas.concat instead.\n",
      "  all_df = all_df.append(merged_df)\n"
     ]
    },
    {
     "name": "stdout",
     "output_type": "stream",
     "text": [
      "Deaths from 2012 using SVI 2010\n",
      "Successfully merged 77.6% on first pass\n",
      "Successfully merged 98.0% of remaineder on second pass\n",
      "Deaths from 2012 using SVI 2010\n",
      "Successfully merged 77.6% on first pass\n",
      "Successfully merged 98.0% of remaineder on second pass\n"
     ]
    },
    {
     "name": "stderr",
     "output_type": "stream",
     "text": [
      "/tmp/ipykernel_34672/1141560685.py:65: FutureWarning: The frame.append method is deprecated and will be removed from pandas in a future version. Use pandas.concat instead.\n",
      "  merged_df = first_merged_df.append(second_merged_df)\n",
      "/tmp/ipykernel_34672/1141560685.py:66: FutureWarning: The frame.append method is deprecated and will be removed from pandas in a future version. Use pandas.concat instead.\n",
      "  all_df = all_df.append(merged_df)\n",
      "/tmp/ipykernel_34672/1141560685.py:65: FutureWarning: The frame.append method is deprecated and will be removed from pandas in a future version. Use pandas.concat instead.\n",
      "  merged_df = first_merged_df.append(second_merged_df)\n",
      "/tmp/ipykernel_34672/1141560685.py:66: FutureWarning: The frame.append method is deprecated and will be removed from pandas in a future version. Use pandas.concat instead.\n",
      "  all_df = all_df.append(merged_df)\n"
     ]
    },
    {
     "name": "stdout",
     "output_type": "stream",
     "text": [
      "Deaths from 2012 using SVI 2010\n",
      "Successfully merged 77.6% on first pass\n",
      "Successfully merged 98.0% of remaineder on second pass\n",
      "Deaths from 2012 using SVI 2010\n",
      "Successfully merged 77.6% on first pass\n",
      "Successfully merged 98.0% of remaineder on second pass\n"
     ]
    },
    {
     "name": "stderr",
     "output_type": "stream",
     "text": [
      "/tmp/ipykernel_34672/1141560685.py:65: FutureWarning: The frame.append method is deprecated and will be removed from pandas in a future version. Use pandas.concat instead.\n",
      "  merged_df = first_merged_df.append(second_merged_df)\n",
      "/tmp/ipykernel_34672/1141560685.py:66: FutureWarning: The frame.append method is deprecated and will be removed from pandas in a future version. Use pandas.concat instead.\n",
      "  all_df = all_df.append(merged_df)\n",
      "/tmp/ipykernel_34672/1141560685.py:65: FutureWarning: The frame.append method is deprecated and will be removed from pandas in a future version. Use pandas.concat instead.\n",
      "  merged_df = first_merged_df.append(second_merged_df)\n",
      "/tmp/ipykernel_34672/1141560685.py:66: FutureWarning: The frame.append method is deprecated and will be removed from pandas in a future version. Use pandas.concat instead.\n",
      "  all_df = all_df.append(merged_df)\n"
     ]
    },
    {
     "name": "stdout",
     "output_type": "stream",
     "text": [
      "Deaths from 2012 using SVI 2010\n",
      "Successfully merged 77.6% on first pass\n",
      "Successfully merged 98.0% of remaineder on second pass\n",
      "Deaths from 2012 using SVI 2010\n",
      "Successfully merged 77.6% on first pass\n",
      "Successfully merged 98.0% of remaineder on second pass\n"
     ]
    },
    {
     "name": "stderr",
     "output_type": "stream",
     "text": [
      "/tmp/ipykernel_34672/1141560685.py:65: FutureWarning: The frame.append method is deprecated and will be removed from pandas in a future version. Use pandas.concat instead.\n",
      "  merged_df = first_merged_df.append(second_merged_df)\n",
      "/tmp/ipykernel_34672/1141560685.py:66: FutureWarning: The frame.append method is deprecated and will be removed from pandas in a future version. Use pandas.concat instead.\n",
      "  all_df = all_df.append(merged_df)\n",
      "/tmp/ipykernel_34672/1141560685.py:65: FutureWarning: The frame.append method is deprecated and will be removed from pandas in a future version. Use pandas.concat instead.\n",
      "  merged_df = first_merged_df.append(second_merged_df)\n",
      "/tmp/ipykernel_34672/1141560685.py:66: FutureWarning: The frame.append method is deprecated and will be removed from pandas in a future version. Use pandas.concat instead.\n",
      "  all_df = all_df.append(merged_df)\n"
     ]
    },
    {
     "name": "stdout",
     "output_type": "stream",
     "text": [
      "Deaths from 2012 using SVI 2010\n",
      "Successfully merged 77.6% on first pass\n",
      "Successfully merged 98.0% of remaineder on second pass\n",
      "Deaths from 2013 using SVI 2014\n",
      "Successfully merged 77.6% on first pass\n",
      "Successfully merged 98.0% of remaineder on second pass\n"
     ]
    },
    {
     "name": "stderr",
     "output_type": "stream",
     "text": [
      "/tmp/ipykernel_34672/1141560685.py:65: FutureWarning: The frame.append method is deprecated and will be removed from pandas in a future version. Use pandas.concat instead.\n",
      "  merged_df = first_merged_df.append(second_merged_df)\n",
      "/tmp/ipykernel_34672/1141560685.py:66: FutureWarning: The frame.append method is deprecated and will be removed from pandas in a future version. Use pandas.concat instead.\n",
      "  all_df = all_df.append(merged_df)\n",
      "/tmp/ipykernel_34672/1141560685.py:65: FutureWarning: The frame.append method is deprecated and will be removed from pandas in a future version. Use pandas.concat instead.\n",
      "  merged_df = first_merged_df.append(second_merged_df)\n",
      "/tmp/ipykernel_34672/1141560685.py:66: FutureWarning: The frame.append method is deprecated and will be removed from pandas in a future version. Use pandas.concat instead.\n",
      "  all_df = all_df.append(merged_df)\n"
     ]
    },
    {
     "name": "stdout",
     "output_type": "stream",
     "text": [
      "Deaths from 2013 using SVI 2014\n",
      "Successfully merged 77.6% on first pass\n",
      "Successfully merged 98.0% of remaineder on second pass\n",
      "Deaths from 2013 using SVI 2014\n",
      "Successfully merged 77.6% on first pass\n",
      "Successfully merged 98.0% of remaineder on second pass\n"
     ]
    },
    {
     "name": "stderr",
     "output_type": "stream",
     "text": [
      "/tmp/ipykernel_34672/1141560685.py:65: FutureWarning: The frame.append method is deprecated and will be removed from pandas in a future version. Use pandas.concat instead.\n",
      "  merged_df = first_merged_df.append(second_merged_df)\n",
      "/tmp/ipykernel_34672/1141560685.py:66: FutureWarning: The frame.append method is deprecated and will be removed from pandas in a future version. Use pandas.concat instead.\n",
      "  all_df = all_df.append(merged_df)\n",
      "/tmp/ipykernel_34672/1141560685.py:65: FutureWarning: The frame.append method is deprecated and will be removed from pandas in a future version. Use pandas.concat instead.\n",
      "  merged_df = first_merged_df.append(second_merged_df)\n",
      "/tmp/ipykernel_34672/1141560685.py:66: FutureWarning: The frame.append method is deprecated and will be removed from pandas in a future version. Use pandas.concat instead.\n",
      "  all_df = all_df.append(merged_df)\n"
     ]
    },
    {
     "name": "stdout",
     "output_type": "stream",
     "text": [
      "Deaths from 2013 using SVI 2014\n",
      "Successfully merged 77.6% on first pass\n",
      "Successfully merged 98.0% of remaineder on second pass\n",
      "Deaths from 2013 using SVI 2014\n",
      "Successfully merged 77.6% on first pass\n",
      "Successfully merged 98.0% of remaineder on second pass\n"
     ]
    },
    {
     "name": "stderr",
     "output_type": "stream",
     "text": [
      "/tmp/ipykernel_34672/1141560685.py:65: FutureWarning: The frame.append method is deprecated and will be removed from pandas in a future version. Use pandas.concat instead.\n",
      "  merged_df = first_merged_df.append(second_merged_df)\n",
      "/tmp/ipykernel_34672/1141560685.py:66: FutureWarning: The frame.append method is deprecated and will be removed from pandas in a future version. Use pandas.concat instead.\n",
      "  all_df = all_df.append(merged_df)\n",
      "/tmp/ipykernel_34672/1141560685.py:65: FutureWarning: The frame.append method is deprecated and will be removed from pandas in a future version. Use pandas.concat instead.\n",
      "  merged_df = first_merged_df.append(second_merged_df)\n",
      "/tmp/ipykernel_34672/1141560685.py:66: FutureWarning: The frame.append method is deprecated and will be removed from pandas in a future version. Use pandas.concat instead.\n",
      "  all_df = all_df.append(merged_df)\n"
     ]
    },
    {
     "name": "stdout",
     "output_type": "stream",
     "text": [
      "Deaths from 2013 using SVI 2014\n",
      "Successfully merged 77.6% on first pass\n",
      "Successfully merged 98.0% of remaineder on second pass\n",
      "Deaths from 2013 using SVI 2014\n",
      "Successfully merged 77.6% on first pass\n",
      "Successfully merged 98.0% of remaineder on second pass\n"
     ]
    },
    {
     "name": "stderr",
     "output_type": "stream",
     "text": [
      "/tmp/ipykernel_34672/1141560685.py:65: FutureWarning: The frame.append method is deprecated and will be removed from pandas in a future version. Use pandas.concat instead.\n",
      "  merged_df = first_merged_df.append(second_merged_df)\n",
      "/tmp/ipykernel_34672/1141560685.py:66: FutureWarning: The frame.append method is deprecated and will be removed from pandas in a future version. Use pandas.concat instead.\n",
      "  all_df = all_df.append(merged_df)\n",
      "/tmp/ipykernel_34672/1141560685.py:65: FutureWarning: The frame.append method is deprecated and will be removed from pandas in a future version. Use pandas.concat instead.\n",
      "  merged_df = first_merged_df.append(second_merged_df)\n",
      "/tmp/ipykernel_34672/1141560685.py:66: FutureWarning: The frame.append method is deprecated and will be removed from pandas in a future version. Use pandas.concat instead.\n",
      "  all_df = all_df.append(merged_df)\n"
     ]
    },
    {
     "name": "stdout",
     "output_type": "stream",
     "text": [
      "Deaths from 2013 using SVI 2014\n",
      "Successfully merged 77.6% on first pass\n",
      "Successfully merged 98.0% of remaineder on second pass\n",
      "Deaths from 2013 using SVI 2014\n",
      "Successfully merged 77.6% on first pass\n",
      "Successfully merged 98.0% of remaineder on second pass\n"
     ]
    },
    {
     "name": "stderr",
     "output_type": "stream",
     "text": [
      "/tmp/ipykernel_34672/1141560685.py:65: FutureWarning: The frame.append method is deprecated and will be removed from pandas in a future version. Use pandas.concat instead.\n",
      "  merged_df = first_merged_df.append(second_merged_df)\n",
      "/tmp/ipykernel_34672/1141560685.py:66: FutureWarning: The frame.append method is deprecated and will be removed from pandas in a future version. Use pandas.concat instead.\n",
      "  all_df = all_df.append(merged_df)\n",
      "/tmp/ipykernel_34672/1141560685.py:65: FutureWarning: The frame.append method is deprecated and will be removed from pandas in a future version. Use pandas.concat instead.\n",
      "  merged_df = first_merged_df.append(second_merged_df)\n",
      "/tmp/ipykernel_34672/1141560685.py:66: FutureWarning: The frame.append method is deprecated and will be removed from pandas in a future version. Use pandas.concat instead.\n",
      "  all_df = all_df.append(merged_df)\n"
     ]
    },
    {
     "name": "stdout",
     "output_type": "stream",
     "text": [
      "Deaths from 2013 using SVI 2014\n",
      "Successfully merged 77.6% on first pass\n",
      "Successfully merged 98.0% of remaineder on second pass\n",
      "Deaths from 2013 using SVI 2014\n",
      "Successfully merged 77.6% on first pass\n",
      "Successfully merged 98.0% of remaineder on second pass\n"
     ]
    },
    {
     "name": "stderr",
     "output_type": "stream",
     "text": [
      "/tmp/ipykernel_34672/1141560685.py:65: FutureWarning: The frame.append method is deprecated and will be removed from pandas in a future version. Use pandas.concat instead.\n",
      "  merged_df = first_merged_df.append(second_merged_df)\n",
      "/tmp/ipykernel_34672/1141560685.py:66: FutureWarning: The frame.append method is deprecated and will be removed from pandas in a future version. Use pandas.concat instead.\n",
      "  all_df = all_df.append(merged_df)\n",
      "/tmp/ipykernel_34672/1141560685.py:65: FutureWarning: The frame.append method is deprecated and will be removed from pandas in a future version. Use pandas.concat instead.\n",
      "  merged_df = first_merged_df.append(second_merged_df)\n",
      "/tmp/ipykernel_34672/1141560685.py:66: FutureWarning: The frame.append method is deprecated and will be removed from pandas in a future version. Use pandas.concat instead.\n",
      "  all_df = all_df.append(merged_df)\n"
     ]
    },
    {
     "name": "stdout",
     "output_type": "stream",
     "text": [
      "Deaths from 2013 using SVI 2014\n",
      "Successfully merged 77.6% on first pass\n",
      "Successfully merged 98.0% of remaineder on second pass\n",
      "Deaths from 2014 using SVI 2014\n",
      "Successfully merged 77.6% on first pass\n"
     ]
    },
    {
     "name": "stderr",
     "output_type": "stream",
     "text": [
      "/tmp/ipykernel_34672/1141560685.py:65: FutureWarning: The frame.append method is deprecated and will be removed from pandas in a future version. Use pandas.concat instead.\n",
      "  merged_df = first_merged_df.append(second_merged_df)\n",
      "/tmp/ipykernel_34672/1141560685.py:66: FutureWarning: The frame.append method is deprecated and will be removed from pandas in a future version. Use pandas.concat instead.\n",
      "  all_df = all_df.append(merged_df)\n",
      "/tmp/ipykernel_34672/1141560685.py:65: FutureWarning: The frame.append method is deprecated and will be removed from pandas in a future version. Use pandas.concat instead.\n",
      "  merged_df = first_merged_df.append(second_merged_df)\n",
      "/tmp/ipykernel_34672/1141560685.py:66: FutureWarning: The frame.append method is deprecated and will be removed from pandas in a future version. Use pandas.concat instead.\n",
      "  all_df = all_df.append(merged_df)\n"
     ]
    },
    {
     "name": "stdout",
     "output_type": "stream",
     "text": [
      "Successfully merged 98.0% of remaineder on second pass\n",
      "Deaths from 2014 using SVI 2014\n",
      "Successfully merged 77.6% on first pass\n",
      "Successfully merged 98.0% of remaineder on second pass\n"
     ]
    },
    {
     "name": "stderr",
     "output_type": "stream",
     "text": [
      "/tmp/ipykernel_34672/1141560685.py:65: FutureWarning: The frame.append method is deprecated and will be removed from pandas in a future version. Use pandas.concat instead.\n",
      "  merged_df = first_merged_df.append(second_merged_df)\n",
      "/tmp/ipykernel_34672/1141560685.py:66: FutureWarning: The frame.append method is deprecated and will be removed from pandas in a future version. Use pandas.concat instead.\n",
      "  all_df = all_df.append(merged_df)\n",
      "/tmp/ipykernel_34672/1141560685.py:65: FutureWarning: The frame.append method is deprecated and will be removed from pandas in a future version. Use pandas.concat instead.\n",
      "  merged_df = first_merged_df.append(second_merged_df)\n",
      "/tmp/ipykernel_34672/1141560685.py:66: FutureWarning: The frame.append method is deprecated and will be removed from pandas in a future version. Use pandas.concat instead.\n",
      "  all_df = all_df.append(merged_df)\n"
     ]
    },
    {
     "name": "stdout",
     "output_type": "stream",
     "text": [
      "Deaths from 2014 using SVI 2014\n",
      "Successfully merged 77.6% on first pass\n",
      "Successfully merged 98.0% of remaineder on second pass\n",
      "Deaths from 2014 using SVI 2014\n",
      "Successfully merged 77.6% on first pass\n",
      "Successfully merged 98.0% of remaineder on second pass\n"
     ]
    },
    {
     "name": "stderr",
     "output_type": "stream",
     "text": [
      "/tmp/ipykernel_34672/1141560685.py:65: FutureWarning: The frame.append method is deprecated and will be removed from pandas in a future version. Use pandas.concat instead.\n",
      "  merged_df = first_merged_df.append(second_merged_df)\n",
      "/tmp/ipykernel_34672/1141560685.py:66: FutureWarning: The frame.append method is deprecated and will be removed from pandas in a future version. Use pandas.concat instead.\n",
      "  all_df = all_df.append(merged_df)\n",
      "/tmp/ipykernel_34672/1141560685.py:65: FutureWarning: The frame.append method is deprecated and will be removed from pandas in a future version. Use pandas.concat instead.\n",
      "  merged_df = first_merged_df.append(second_merged_df)\n",
      "/tmp/ipykernel_34672/1141560685.py:66: FutureWarning: The frame.append method is deprecated and will be removed from pandas in a future version. Use pandas.concat instead.\n",
      "  all_df = all_df.append(merged_df)\n"
     ]
    },
    {
     "name": "stdout",
     "output_type": "stream",
     "text": [
      "Deaths from 2014 using SVI 2014\n",
      "Successfully merged 77.6% on first pass\n",
      "Successfully merged 98.0% of remaineder on second pass\n",
      "Deaths from 2014 using SVI 2014\n",
      "Successfully merged 77.6% on first pass\n",
      "Successfully merged 98.0% of remaineder on second pass\n"
     ]
    },
    {
     "name": "stderr",
     "output_type": "stream",
     "text": [
      "/tmp/ipykernel_34672/1141560685.py:65: FutureWarning: The frame.append method is deprecated and will be removed from pandas in a future version. Use pandas.concat instead.\n",
      "  merged_df = first_merged_df.append(second_merged_df)\n",
      "/tmp/ipykernel_34672/1141560685.py:66: FutureWarning: The frame.append method is deprecated and will be removed from pandas in a future version. Use pandas.concat instead.\n",
      "  all_df = all_df.append(merged_df)\n",
      "/tmp/ipykernel_34672/1141560685.py:65: FutureWarning: The frame.append method is deprecated and will be removed from pandas in a future version. Use pandas.concat instead.\n",
      "  merged_df = first_merged_df.append(second_merged_df)\n",
      "/tmp/ipykernel_34672/1141560685.py:66: FutureWarning: The frame.append method is deprecated and will be removed from pandas in a future version. Use pandas.concat instead.\n",
      "  all_df = all_df.append(merged_df)\n"
     ]
    },
    {
     "name": "stdout",
     "output_type": "stream",
     "text": [
      "Deaths from 2014 using SVI 2014\n",
      "Successfully merged 77.6% on first pass\n",
      "Successfully merged 98.0% of remaineder on second pass\n",
      "Deaths from 2014 using SVI 2014\n",
      "Successfully merged 77.6% on first pass\n",
      "Successfully merged 98.0% of remaineder on second pass\n"
     ]
    },
    {
     "name": "stderr",
     "output_type": "stream",
     "text": [
      "/tmp/ipykernel_34672/1141560685.py:65: FutureWarning: The frame.append method is deprecated and will be removed from pandas in a future version. Use pandas.concat instead.\n",
      "  merged_df = first_merged_df.append(second_merged_df)\n",
      "/tmp/ipykernel_34672/1141560685.py:66: FutureWarning: The frame.append method is deprecated and will be removed from pandas in a future version. Use pandas.concat instead.\n",
      "  all_df = all_df.append(merged_df)\n",
      "/tmp/ipykernel_34672/1141560685.py:65: FutureWarning: The frame.append method is deprecated and will be removed from pandas in a future version. Use pandas.concat instead.\n",
      "  merged_df = first_merged_df.append(second_merged_df)\n",
      "/tmp/ipykernel_34672/1141560685.py:66: FutureWarning: The frame.append method is deprecated and will be removed from pandas in a future version. Use pandas.concat instead.\n",
      "  all_df = all_df.append(merged_df)\n"
     ]
    },
    {
     "name": "stdout",
     "output_type": "stream",
     "text": [
      "Deaths from 2014 using SVI 2014\n",
      "Successfully merged 77.6% on first pass\n",
      "Successfully merged 98.0% of remaineder on second pass\n",
      "Deaths from 2014 using SVI 2014\n",
      "Successfully merged 77.6% on first pass\n",
      "Successfully merged 98.0% of remaineder on second pass\n"
     ]
    },
    {
     "name": "stderr",
     "output_type": "stream",
     "text": [
      "/tmp/ipykernel_34672/1141560685.py:65: FutureWarning: The frame.append method is deprecated and will be removed from pandas in a future version. Use pandas.concat instead.\n",
      "  merged_df = first_merged_df.append(second_merged_df)\n",
      "/tmp/ipykernel_34672/1141560685.py:66: FutureWarning: The frame.append method is deprecated and will be removed from pandas in a future version. Use pandas.concat instead.\n",
      "  all_df = all_df.append(merged_df)\n",
      "/tmp/ipykernel_34672/1141560685.py:65: FutureWarning: The frame.append method is deprecated and will be removed from pandas in a future version. Use pandas.concat instead.\n",
      "  merged_df = first_merged_df.append(second_merged_df)\n",
      "/tmp/ipykernel_34672/1141560685.py:66: FutureWarning: The frame.append method is deprecated and will be removed from pandas in a future version. Use pandas.concat instead.\n",
      "  all_df = all_df.append(merged_df)\n"
     ]
    },
    {
     "name": "stdout",
     "output_type": "stream",
     "text": [
      "Deaths from 2014 using SVI 2014\n",
      "Successfully merged 77.6% on first pass\n",
      "Successfully merged 98.0% of remaineder on second pass\n",
      "Deaths from 2014 using SVI 2014\n",
      "Successfully merged 77.6% on first pass\n",
      "Successfully merged 98.0% of remaineder on second pass\n"
     ]
    },
    {
     "name": "stderr",
     "output_type": "stream",
     "text": [
      "/tmp/ipykernel_34672/1141560685.py:65: FutureWarning: The frame.append method is deprecated and will be removed from pandas in a future version. Use pandas.concat instead.\n",
      "  merged_df = first_merged_df.append(second_merged_df)\n",
      "/tmp/ipykernel_34672/1141560685.py:66: FutureWarning: The frame.append method is deprecated and will be removed from pandas in a future version. Use pandas.concat instead.\n",
      "  all_df = all_df.append(merged_df)\n",
      "/tmp/ipykernel_34672/1141560685.py:65: FutureWarning: The frame.append method is deprecated and will be removed from pandas in a future version. Use pandas.concat instead.\n",
      "  merged_df = first_merged_df.append(second_merged_df)\n",
      "/tmp/ipykernel_34672/1141560685.py:66: FutureWarning: The frame.append method is deprecated and will be removed from pandas in a future version. Use pandas.concat instead.\n",
      "  all_df = all_df.append(merged_df)\n"
     ]
    },
    {
     "name": "stdout",
     "output_type": "stream",
     "text": [
      "Deaths from 2015 using SVI 2016\n",
      "Successfully merged 77.6% on first pass\n",
      "Successfully merged 83.5% of remaineder on second pass\n",
      "Deaths from 2015 using SVI 2016\n",
      "Successfully merged 77.6% on first pass\n",
      "Successfully merged 83.5% of remaineder on second pass\n"
     ]
    },
    {
     "name": "stderr",
     "output_type": "stream",
     "text": [
      "/tmp/ipykernel_34672/1141560685.py:65: FutureWarning: The frame.append method is deprecated and will be removed from pandas in a future version. Use pandas.concat instead.\n",
      "  merged_df = first_merged_df.append(second_merged_df)\n",
      "/tmp/ipykernel_34672/1141560685.py:66: FutureWarning: The frame.append method is deprecated and will be removed from pandas in a future version. Use pandas.concat instead.\n",
      "  all_df = all_df.append(merged_df)\n",
      "/tmp/ipykernel_34672/1141560685.py:65: FutureWarning: The frame.append method is deprecated and will be removed from pandas in a future version. Use pandas.concat instead.\n",
      "  merged_df = first_merged_df.append(second_merged_df)\n",
      "/tmp/ipykernel_34672/1141560685.py:66: FutureWarning: The frame.append method is deprecated and will be removed from pandas in a future version. Use pandas.concat instead.\n",
      "  all_df = all_df.append(merged_df)\n"
     ]
    },
    {
     "name": "stdout",
     "output_type": "stream",
     "text": [
      "Deaths from 2015 using SVI 2016\n",
      "Successfully merged 77.6% on first pass\n",
      "Successfully merged 83.5% of remaineder on second pass\n",
      "Deaths from 2015 using SVI 2016\n",
      "Successfully merged 77.6% on first pass\n",
      "Successfully merged 83.5% of remaineder on second pass\n"
     ]
    },
    {
     "name": "stderr",
     "output_type": "stream",
     "text": [
      "/tmp/ipykernel_34672/1141560685.py:65: FutureWarning: The frame.append method is deprecated and will be removed from pandas in a future version. Use pandas.concat instead.\n",
      "  merged_df = first_merged_df.append(second_merged_df)\n",
      "/tmp/ipykernel_34672/1141560685.py:66: FutureWarning: The frame.append method is deprecated and will be removed from pandas in a future version. Use pandas.concat instead.\n",
      "  all_df = all_df.append(merged_df)\n",
      "/tmp/ipykernel_34672/1141560685.py:65: FutureWarning: The frame.append method is deprecated and will be removed from pandas in a future version. Use pandas.concat instead.\n",
      "  merged_df = first_merged_df.append(second_merged_df)\n",
      "/tmp/ipykernel_34672/1141560685.py:66: FutureWarning: The frame.append method is deprecated and will be removed from pandas in a future version. Use pandas.concat instead.\n",
      "  all_df = all_df.append(merged_df)\n"
     ]
    },
    {
     "name": "stdout",
     "output_type": "stream",
     "text": [
      "Deaths from 2015 using SVI 2016\n",
      "Successfully merged 77.6% on first pass\n",
      "Successfully merged 83.5% of remaineder on second pass\n",
      "Deaths from 2015 using SVI 2016\n",
      "Successfully merged 77.6% on first pass\n",
      "Successfully merged 83.5% of remaineder on second pass\n"
     ]
    },
    {
     "name": "stderr",
     "output_type": "stream",
     "text": [
      "/tmp/ipykernel_34672/1141560685.py:65: FutureWarning: The frame.append method is deprecated and will be removed from pandas in a future version. Use pandas.concat instead.\n",
      "  merged_df = first_merged_df.append(second_merged_df)\n",
      "/tmp/ipykernel_34672/1141560685.py:66: FutureWarning: The frame.append method is deprecated and will be removed from pandas in a future version. Use pandas.concat instead.\n",
      "  all_df = all_df.append(merged_df)\n",
      "/tmp/ipykernel_34672/1141560685.py:65: FutureWarning: The frame.append method is deprecated and will be removed from pandas in a future version. Use pandas.concat instead.\n",
      "  merged_df = first_merged_df.append(second_merged_df)\n",
      "/tmp/ipykernel_34672/1141560685.py:66: FutureWarning: The frame.append method is deprecated and will be removed from pandas in a future version. Use pandas.concat instead.\n",
      "  all_df = all_df.append(merged_df)\n"
     ]
    },
    {
     "name": "stdout",
     "output_type": "stream",
     "text": [
      "Deaths from 2015 using SVI 2016\n",
      "Successfully merged 77.6% on first pass\n",
      "Successfully merged 83.5% of remaineder on second pass\n",
      "Deaths from 2015 using SVI 2016\n",
      "Successfully merged 77.6% on first pass\n",
      "Successfully merged 83.5% of remaineder on second pass\n"
     ]
    },
    {
     "name": "stderr",
     "output_type": "stream",
     "text": [
      "/tmp/ipykernel_34672/1141560685.py:65: FutureWarning: The frame.append method is deprecated and will be removed from pandas in a future version. Use pandas.concat instead.\n",
      "  merged_df = first_merged_df.append(second_merged_df)\n",
      "/tmp/ipykernel_34672/1141560685.py:66: FutureWarning: The frame.append method is deprecated and will be removed from pandas in a future version. Use pandas.concat instead.\n",
      "  all_df = all_df.append(merged_df)\n",
      "/tmp/ipykernel_34672/1141560685.py:65: FutureWarning: The frame.append method is deprecated and will be removed from pandas in a future version. Use pandas.concat instead.\n",
      "  merged_df = first_merged_df.append(second_merged_df)\n",
      "/tmp/ipykernel_34672/1141560685.py:66: FutureWarning: The frame.append method is deprecated and will be removed from pandas in a future version. Use pandas.concat instead.\n",
      "  all_df = all_df.append(merged_df)\n"
     ]
    },
    {
     "name": "stdout",
     "output_type": "stream",
     "text": [
      "Deaths from 2015 using SVI 2016\n",
      "Successfully merged 77.6% on first pass\n",
      "Successfully merged 83.5% of remaineder on second pass\n",
      "Deaths from 2015 using SVI 2016\n",
      "Successfully merged 77.6% on first pass\n",
      "Successfully merged 83.5% of remaineder on second pass\n"
     ]
    },
    {
     "name": "stderr",
     "output_type": "stream",
     "text": [
      "/tmp/ipykernel_34672/1141560685.py:65: FutureWarning: The frame.append method is deprecated and will be removed from pandas in a future version. Use pandas.concat instead.\n",
      "  merged_df = first_merged_df.append(second_merged_df)\n",
      "/tmp/ipykernel_34672/1141560685.py:66: FutureWarning: The frame.append method is deprecated and will be removed from pandas in a future version. Use pandas.concat instead.\n",
      "  all_df = all_df.append(merged_df)\n",
      "/tmp/ipykernel_34672/1141560685.py:65: FutureWarning: The frame.append method is deprecated and will be removed from pandas in a future version. Use pandas.concat instead.\n",
      "  merged_df = first_merged_df.append(second_merged_df)\n",
      "/tmp/ipykernel_34672/1141560685.py:66: FutureWarning: The frame.append method is deprecated and will be removed from pandas in a future version. Use pandas.concat instead.\n",
      "  all_df = all_df.append(merged_df)\n"
     ]
    },
    {
     "name": "stdout",
     "output_type": "stream",
     "text": [
      "Deaths from 2015 using SVI 2016\n",
      "Successfully merged 77.6% on first pass\n",
      "Successfully merged 83.5% of remaineder on second pass\n",
      "Deaths from 2015 using SVI 2016\n",
      "Successfully merged 77.6% on first pass\n",
      "Successfully merged 83.5% of remaineder on second pass\n"
     ]
    },
    {
     "name": "stderr",
     "output_type": "stream",
     "text": [
      "/tmp/ipykernel_34672/1141560685.py:65: FutureWarning: The frame.append method is deprecated and will be removed from pandas in a future version. Use pandas.concat instead.\n",
      "  merged_df = first_merged_df.append(second_merged_df)\n",
      "/tmp/ipykernel_34672/1141560685.py:66: FutureWarning: The frame.append method is deprecated and will be removed from pandas in a future version. Use pandas.concat instead.\n",
      "  all_df = all_df.append(merged_df)\n",
      "/tmp/ipykernel_34672/1141560685.py:65: FutureWarning: The frame.append method is deprecated and will be removed from pandas in a future version. Use pandas.concat instead.\n",
      "  merged_df = first_merged_df.append(second_merged_df)\n",
      "/tmp/ipykernel_34672/1141560685.py:66: FutureWarning: The frame.append method is deprecated and will be removed from pandas in a future version. Use pandas.concat instead.\n",
      "  all_df = all_df.append(merged_df)\n"
     ]
    },
    {
     "name": "stdout",
     "output_type": "stream",
     "text": [
      "Deaths from 2016 using SVI 2016\n",
      "Successfully merged 77.6% on first pass\n",
      "Successfully merged 83.5% of remaineder on second pass\n",
      "Deaths from 2016 using SVI 2016\n",
      "Successfully merged 77.6% on first pass\n",
      "Successfully merged 83.5% of remaineder on second pass\n"
     ]
    },
    {
     "name": "stderr",
     "output_type": "stream",
     "text": [
      "/tmp/ipykernel_34672/1141560685.py:65: FutureWarning: The frame.append method is deprecated and will be removed from pandas in a future version. Use pandas.concat instead.\n",
      "  merged_df = first_merged_df.append(second_merged_df)\n",
      "/tmp/ipykernel_34672/1141560685.py:66: FutureWarning: The frame.append method is deprecated and will be removed from pandas in a future version. Use pandas.concat instead.\n",
      "  all_df = all_df.append(merged_df)\n",
      "/tmp/ipykernel_34672/1141560685.py:65: FutureWarning: The frame.append method is deprecated and will be removed from pandas in a future version. Use pandas.concat instead.\n",
      "  merged_df = first_merged_df.append(second_merged_df)\n",
      "/tmp/ipykernel_34672/1141560685.py:66: FutureWarning: The frame.append method is deprecated and will be removed from pandas in a future version. Use pandas.concat instead.\n",
      "  all_df = all_df.append(merged_df)\n"
     ]
    },
    {
     "name": "stdout",
     "output_type": "stream",
     "text": [
      "Deaths from 2016 using SVI 2016\n",
      "Successfully merged 77.6% on first pass\n",
      "Successfully merged 83.5% of remaineder on second pass\n",
      "Deaths from 2016 using SVI 2016\n",
      "Successfully merged 77.6% on first pass\n",
      "Successfully merged 83.5% of remaineder on second pass\n"
     ]
    },
    {
     "name": "stderr",
     "output_type": "stream",
     "text": [
      "/tmp/ipykernel_34672/1141560685.py:65: FutureWarning: The frame.append method is deprecated and will be removed from pandas in a future version. Use pandas.concat instead.\n",
      "  merged_df = first_merged_df.append(second_merged_df)\n",
      "/tmp/ipykernel_34672/1141560685.py:66: FutureWarning: The frame.append method is deprecated and will be removed from pandas in a future version. Use pandas.concat instead.\n",
      "  all_df = all_df.append(merged_df)\n",
      "/tmp/ipykernel_34672/1141560685.py:65: FutureWarning: The frame.append method is deprecated and will be removed from pandas in a future version. Use pandas.concat instead.\n",
      "  merged_df = first_merged_df.append(second_merged_df)\n",
      "/tmp/ipykernel_34672/1141560685.py:66: FutureWarning: The frame.append method is deprecated and will be removed from pandas in a future version. Use pandas.concat instead.\n",
      "  all_df = all_df.append(merged_df)\n"
     ]
    },
    {
     "name": "stdout",
     "output_type": "stream",
     "text": [
      "Deaths from 2016 using SVI 2016\n",
      "Successfully merged 77.6% on first pass\n",
      "Successfully merged 83.5% of remaineder on second pass\n",
      "Deaths from 2016 using SVI 2016\n",
      "Successfully merged 77.6% on first pass\n",
      "Successfully merged 83.5% of remaineder on second pass\n"
     ]
    },
    {
     "name": "stderr",
     "output_type": "stream",
     "text": [
      "/tmp/ipykernel_34672/1141560685.py:65: FutureWarning: The frame.append method is deprecated and will be removed from pandas in a future version. Use pandas.concat instead.\n",
      "  merged_df = first_merged_df.append(second_merged_df)\n",
      "/tmp/ipykernel_34672/1141560685.py:66: FutureWarning: The frame.append method is deprecated and will be removed from pandas in a future version. Use pandas.concat instead.\n",
      "  all_df = all_df.append(merged_df)\n",
      "/tmp/ipykernel_34672/1141560685.py:65: FutureWarning: The frame.append method is deprecated and will be removed from pandas in a future version. Use pandas.concat instead.\n",
      "  merged_df = first_merged_df.append(second_merged_df)\n",
      "/tmp/ipykernel_34672/1141560685.py:66: FutureWarning: The frame.append method is deprecated and will be removed from pandas in a future version. Use pandas.concat instead.\n",
      "  all_df = all_df.append(merged_df)\n"
     ]
    },
    {
     "name": "stdout",
     "output_type": "stream",
     "text": [
      "Deaths from 2016 using SVI 2016\n",
      "Successfully merged 77.6% on first pass\n",
      "Successfully merged 83.5% of remaineder on second pass\n",
      "Deaths from 2016 using SVI 2016\n",
      "Successfully merged 77.6% on first pass\n",
      "Successfully merged 83.5% of remaineder on second pass\n"
     ]
    },
    {
     "name": "stderr",
     "output_type": "stream",
     "text": [
      "/tmp/ipykernel_34672/1141560685.py:65: FutureWarning: The frame.append method is deprecated and will be removed from pandas in a future version. Use pandas.concat instead.\n",
      "  merged_df = first_merged_df.append(second_merged_df)\n",
      "/tmp/ipykernel_34672/1141560685.py:66: FutureWarning: The frame.append method is deprecated and will be removed from pandas in a future version. Use pandas.concat instead.\n",
      "  all_df = all_df.append(merged_df)\n",
      "/tmp/ipykernel_34672/1141560685.py:65: FutureWarning: The frame.append method is deprecated and will be removed from pandas in a future version. Use pandas.concat instead.\n",
      "  merged_df = first_merged_df.append(second_merged_df)\n",
      "/tmp/ipykernel_34672/1141560685.py:66: FutureWarning: The frame.append method is deprecated and will be removed from pandas in a future version. Use pandas.concat instead.\n",
      "  all_df = all_df.append(merged_df)\n"
     ]
    },
    {
     "name": "stdout",
     "output_type": "stream",
     "text": [
      "Deaths from 2016 using SVI 2016\n",
      "Successfully merged 77.6% on first pass\n",
      "Successfully merged 83.5% of remaineder on second pass\n",
      "Deaths from 2016 using SVI 2016\n",
      "Successfully merged 77.6% on first pass\n",
      "Successfully merged 83.5% of remaineder on second pass\n",
      "Deaths from 2016 using SVI 2016\n",
      "Successfully merged 77.6% on first pass\n",
      "Successfully merged 83.5% of remaineder on second pass\n"
     ]
    },
    {
     "name": "stderr",
     "output_type": "stream",
     "text": [
      "/tmp/ipykernel_34672/1141560685.py:65: FutureWarning: The frame.append method is deprecated and will be removed from pandas in a future version. Use pandas.concat instead.\n",
      "  merged_df = first_merged_df.append(second_merged_df)\n",
      "/tmp/ipykernel_34672/1141560685.py:66: FutureWarning: The frame.append method is deprecated and will be removed from pandas in a future version. Use pandas.concat instead.\n",
      "  all_df = all_df.append(merged_df)\n",
      "/tmp/ipykernel_34672/1141560685.py:65: FutureWarning: The frame.append method is deprecated and will be removed from pandas in a future version. Use pandas.concat instead.\n",
      "  merged_df = first_merged_df.append(second_merged_df)\n",
      "/tmp/ipykernel_34672/1141560685.py:66: FutureWarning: The frame.append method is deprecated and will be removed from pandas in a future version. Use pandas.concat instead.\n",
      "  all_df = all_df.append(merged_df)\n"
     ]
    },
    {
     "name": "stdout",
     "output_type": "stream",
     "text": [
      "Deaths from 2016 using SVI 2016\n",
      "Successfully merged 77.6% on first pass\n",
      "Successfully merged 83.5% of remaineder on second pass\n",
      "Deaths from 2017 using SVI 2016\n"
     ]
    },
    {
     "name": "stderr",
     "output_type": "stream",
     "text": [
      "/tmp/ipykernel_34672/1141560685.py:65: FutureWarning: The frame.append method is deprecated and will be removed from pandas in a future version. Use pandas.concat instead.\n",
      "  merged_df = first_merged_df.append(second_merged_df)\n",
      "/tmp/ipykernel_34672/1141560685.py:66: FutureWarning: The frame.append method is deprecated and will be removed from pandas in a future version. Use pandas.concat instead.\n",
      "  all_df = all_df.append(merged_df)\n",
      "/tmp/ipykernel_34672/1141560685.py:65: FutureWarning: The frame.append method is deprecated and will be removed from pandas in a future version. Use pandas.concat instead.\n",
      "  merged_df = first_merged_df.append(second_merged_df)\n"
     ]
    },
    {
     "name": "stdout",
     "output_type": "stream",
     "text": [
      "Successfully merged 77.6% on first pass\n",
      "Successfully merged 83.5% of remaineder on second pass\n",
      "Deaths from 2017 using SVI 2016\n",
      "Successfully merged 77.6% on first pass\n",
      "Successfully merged 83.5% of remaineder on second pass\n"
     ]
    },
    {
     "name": "stderr",
     "output_type": "stream",
     "text": [
      "/tmp/ipykernel_34672/1141560685.py:66: FutureWarning: The frame.append method is deprecated and will be removed from pandas in a future version. Use pandas.concat instead.\n",
      "  all_df = all_df.append(merged_df)\n",
      "/tmp/ipykernel_34672/1141560685.py:65: FutureWarning: The frame.append method is deprecated and will be removed from pandas in a future version. Use pandas.concat instead.\n",
      "  merged_df = first_merged_df.append(second_merged_df)\n",
      "/tmp/ipykernel_34672/1141560685.py:66: FutureWarning: The frame.append method is deprecated and will be removed from pandas in a future version. Use pandas.concat instead.\n",
      "  all_df = all_df.append(merged_df)\n"
     ]
    },
    {
     "name": "stdout",
     "output_type": "stream",
     "text": [
      "Deaths from 2017 using SVI 2016\n",
      "Successfully merged 77.6% on first pass\n",
      "Successfully merged 83.5% of remaineder on second pass\n",
      "Deaths from 2017 using SVI 2016\n",
      "Successfully merged 77.6% on first pass\n",
      "Successfully merged 83.5% of remaineder on second pass\n"
     ]
    },
    {
     "name": "stderr",
     "output_type": "stream",
     "text": [
      "/tmp/ipykernel_34672/1141560685.py:65: FutureWarning: The frame.append method is deprecated and will be removed from pandas in a future version. Use pandas.concat instead.\n",
      "  merged_df = first_merged_df.append(second_merged_df)\n",
      "/tmp/ipykernel_34672/1141560685.py:66: FutureWarning: The frame.append method is deprecated and will be removed from pandas in a future version. Use pandas.concat instead.\n",
      "  all_df = all_df.append(merged_df)\n",
      "/tmp/ipykernel_34672/1141560685.py:65: FutureWarning: The frame.append method is deprecated and will be removed from pandas in a future version. Use pandas.concat instead.\n",
      "  merged_df = first_merged_df.append(second_merged_df)\n",
      "/tmp/ipykernel_34672/1141560685.py:66: FutureWarning: The frame.append method is deprecated and will be removed from pandas in a future version. Use pandas.concat instead.\n",
      "  all_df = all_df.append(merged_df)\n"
     ]
    },
    {
     "name": "stdout",
     "output_type": "stream",
     "text": [
      "Deaths from 2017 using SVI 2016\n",
      "Successfully merged 77.6% on first pass\n",
      "Successfully merged 83.5% of remaineder on second pass\n",
      "Deaths from 2017 using SVI 2016\n",
      "Successfully merged 77.6% on first pass\n",
      "Successfully merged 83.5% of remaineder on second pass\n"
     ]
    },
    {
     "name": "stderr",
     "output_type": "stream",
     "text": [
      "/tmp/ipykernel_34672/1141560685.py:65: FutureWarning: The frame.append method is deprecated and will be removed from pandas in a future version. Use pandas.concat instead.\n",
      "  merged_df = first_merged_df.append(second_merged_df)\n",
      "/tmp/ipykernel_34672/1141560685.py:66: FutureWarning: The frame.append method is deprecated and will be removed from pandas in a future version. Use pandas.concat instead.\n",
      "  all_df = all_df.append(merged_df)\n",
      "/tmp/ipykernel_34672/1141560685.py:65: FutureWarning: The frame.append method is deprecated and will be removed from pandas in a future version. Use pandas.concat instead.\n",
      "  merged_df = first_merged_df.append(second_merged_df)\n",
      "/tmp/ipykernel_34672/1141560685.py:66: FutureWarning: The frame.append method is deprecated and will be removed from pandas in a future version. Use pandas.concat instead.\n",
      "  all_df = all_df.append(merged_df)\n"
     ]
    },
    {
     "name": "stdout",
     "output_type": "stream",
     "text": [
      "Deaths from 2017 using SVI 2016\n",
      "Successfully merged 77.6% on first pass\n",
      "Successfully merged 83.5% of remaineder on second pass\n",
      "Deaths from 2017 using SVI 2016\n",
      "Successfully merged 77.6% on first pass\n",
      "Successfully merged 83.5% of remaineder on second pass\n"
     ]
    },
    {
     "name": "stderr",
     "output_type": "stream",
     "text": [
      "/tmp/ipykernel_34672/1141560685.py:65: FutureWarning: The frame.append method is deprecated and will be removed from pandas in a future version. Use pandas.concat instead.\n",
      "  merged_df = first_merged_df.append(second_merged_df)\n",
      "/tmp/ipykernel_34672/1141560685.py:66: FutureWarning: The frame.append method is deprecated and will be removed from pandas in a future version. Use pandas.concat instead.\n",
      "  all_df = all_df.append(merged_df)\n",
      "/tmp/ipykernel_34672/1141560685.py:65: FutureWarning: The frame.append method is deprecated and will be removed from pandas in a future version. Use pandas.concat instead.\n",
      "  merged_df = first_merged_df.append(second_merged_df)\n",
      "/tmp/ipykernel_34672/1141560685.py:66: FutureWarning: The frame.append method is deprecated and will be removed from pandas in a future version. Use pandas.concat instead.\n",
      "  all_df = all_df.append(merged_df)\n"
     ]
    },
    {
     "name": "stdout",
     "output_type": "stream",
     "text": [
      "Deaths from 2017 using SVI 2016\n",
      "Successfully merged 77.6% on first pass\n",
      "Successfully merged 83.5% of remaineder on second pass\n",
      "Deaths from 2017 using SVI 2016\n",
      "Successfully merged 77.6% on first pass\n",
      "Successfully merged 83.5% of remaineder on second pass\n"
     ]
    },
    {
     "name": "stderr",
     "output_type": "stream",
     "text": [
      "/tmp/ipykernel_34672/1141560685.py:65: FutureWarning: The frame.append method is deprecated and will be removed from pandas in a future version. Use pandas.concat instead.\n",
      "  merged_df = first_merged_df.append(second_merged_df)\n",
      "/tmp/ipykernel_34672/1141560685.py:66: FutureWarning: The frame.append method is deprecated and will be removed from pandas in a future version. Use pandas.concat instead.\n",
      "  all_df = all_df.append(merged_df)\n",
      "/tmp/ipykernel_34672/1141560685.py:65: FutureWarning: The frame.append method is deprecated and will be removed from pandas in a future version. Use pandas.concat instead.\n",
      "  merged_df = first_merged_df.append(second_merged_df)\n",
      "/tmp/ipykernel_34672/1141560685.py:66: FutureWarning: The frame.append method is deprecated and will be removed from pandas in a future version. Use pandas.concat instead.\n",
      "  all_df = all_df.append(merged_df)\n"
     ]
    },
    {
     "name": "stdout",
     "output_type": "stream",
     "text": [
      "Deaths from 2017 using SVI 2016\n",
      "Successfully merged 77.6% on first pass\n",
      "Successfully merged 83.5% of remaineder on second pass\n",
      "Deaths from 2017 using SVI 2016\n",
      "Successfully merged 77.6% on first pass\n"
     ]
    },
    {
     "name": "stderr",
     "output_type": "stream",
     "text": [
      "/tmp/ipykernel_34672/1141560685.py:65: FutureWarning: The frame.append method is deprecated and will be removed from pandas in a future version. Use pandas.concat instead.\n",
      "  merged_df = first_merged_df.append(second_merged_df)\n",
      "/tmp/ipykernel_34672/1141560685.py:66: FutureWarning: The frame.append method is deprecated and will be removed from pandas in a future version. Use pandas.concat instead.\n",
      "  all_df = all_df.append(merged_df)\n",
      "/tmp/ipykernel_34672/1141560685.py:65: FutureWarning: The frame.append method is deprecated and will be removed from pandas in a future version. Use pandas.concat instead.\n",
      "  merged_df = first_merged_df.append(second_merged_df)\n",
      "/tmp/ipykernel_34672/1141560685.py:66: FutureWarning: The frame.append method is deprecated and will be removed from pandas in a future version. Use pandas.concat instead.\n",
      "  all_df = all_df.append(merged_df)\n"
     ]
    },
    {
     "name": "stdout",
     "output_type": "stream",
     "text": [
      "Successfully merged 83.5% of remaineder on second pass\n",
      "Deaths from 2018 using SVI 2016\n",
      "Successfully merged 77.6% on first pass\n",
      "Successfully merged 83.5% of remaineder on second pass\n",
      "Deaths from 2018 using SVI 2016\n",
      "Successfully merged 77.6% on first pass\n",
      "Successfully merged 83.5% of remaineder on second pass\n"
     ]
    },
    {
     "name": "stderr",
     "output_type": "stream",
     "text": [
      "/tmp/ipykernel_34672/1141560685.py:65: FutureWarning: The frame.append method is deprecated and will be removed from pandas in a future version. Use pandas.concat instead.\n",
      "  merged_df = first_merged_df.append(second_merged_df)\n",
      "/tmp/ipykernel_34672/1141560685.py:66: FutureWarning: The frame.append method is deprecated and will be removed from pandas in a future version. Use pandas.concat instead.\n",
      "  all_df = all_df.append(merged_df)\n",
      "/tmp/ipykernel_34672/1141560685.py:65: FutureWarning: The frame.append method is deprecated and will be removed from pandas in a future version. Use pandas.concat instead.\n",
      "  merged_df = first_merged_df.append(second_merged_df)\n",
      "/tmp/ipykernel_34672/1141560685.py:66: FutureWarning: The frame.append method is deprecated and will be removed from pandas in a future version. Use pandas.concat instead.\n",
      "  all_df = all_df.append(merged_df)\n"
     ]
    },
    {
     "name": "stdout",
     "output_type": "stream",
     "text": [
      "Deaths from 2018 using SVI 2016\n",
      "Successfully merged 77.6% on first pass\n",
      "Successfully merged 83.5% of remaineder on second pass\n",
      "Deaths from 2018 using SVI 2016\n",
      "Successfully merged 77.6% on first pass\n",
      "Successfully merged 83.5% of remaineder on second pass\n"
     ]
    },
    {
     "name": "stderr",
     "output_type": "stream",
     "text": [
      "/tmp/ipykernel_34672/1141560685.py:65: FutureWarning: The frame.append method is deprecated and will be removed from pandas in a future version. Use pandas.concat instead.\n",
      "  merged_df = first_merged_df.append(second_merged_df)\n",
      "/tmp/ipykernel_34672/1141560685.py:66: FutureWarning: The frame.append method is deprecated and will be removed from pandas in a future version. Use pandas.concat instead.\n",
      "  all_df = all_df.append(merged_df)\n",
      "/tmp/ipykernel_34672/1141560685.py:65: FutureWarning: The frame.append method is deprecated and will be removed from pandas in a future version. Use pandas.concat instead.\n",
      "  merged_df = first_merged_df.append(second_merged_df)\n",
      "/tmp/ipykernel_34672/1141560685.py:66: FutureWarning: The frame.append method is deprecated and will be removed from pandas in a future version. Use pandas.concat instead.\n",
      "  all_df = all_df.append(merged_df)\n"
     ]
    },
    {
     "name": "stdout",
     "output_type": "stream",
     "text": [
      "Deaths from 2018 using SVI 2016\n",
      "Successfully merged 77.6% on first pass\n",
      "Successfully merged 83.5% of remaineder on second pass\n"
     ]
    },
    {
     "name": "stderr",
     "output_type": "stream",
     "text": [
      "/tmp/ipykernel_34672/1141560685.py:65: FutureWarning: The frame.append method is deprecated and will be removed from pandas in a future version. Use pandas.concat instead.\n",
      "  merged_df = first_merged_df.append(second_merged_df)\n",
      "/tmp/ipykernel_34672/1141560685.py:66: FutureWarning: The frame.append method is deprecated and will be removed from pandas in a future version. Use pandas.concat instead.\n",
      "  all_df = all_df.append(merged_df)\n"
     ]
    },
    {
     "name": "stdout",
     "output_type": "stream",
     "text": [
      "Deaths from 2018 using SVI 2016\n",
      "Successfully merged 77.6% on first pass\n",
      "Successfully merged 83.5% of remaineder on second pass\n",
      "Deaths from 2018 using SVI 2016\n",
      "Successfully merged 77.6% on first pass\n"
     ]
    },
    {
     "name": "stderr",
     "output_type": "stream",
     "text": [
      "/tmp/ipykernel_34672/1141560685.py:65: FutureWarning: The frame.append method is deprecated and will be removed from pandas in a future version. Use pandas.concat instead.\n",
      "  merged_df = first_merged_df.append(second_merged_df)\n",
      "/tmp/ipykernel_34672/1141560685.py:66: FutureWarning: The frame.append method is deprecated and will be removed from pandas in a future version. Use pandas.concat instead.\n",
      "  all_df = all_df.append(merged_df)\n",
      "/tmp/ipykernel_34672/1141560685.py:65: FutureWarning: The frame.append method is deprecated and will be removed from pandas in a future version. Use pandas.concat instead.\n",
      "  merged_df = first_merged_df.append(second_merged_df)\n",
      "/tmp/ipykernel_34672/1141560685.py:66: FutureWarning: The frame.append method is deprecated and will be removed from pandas in a future version. Use pandas.concat instead.\n",
      "  all_df = all_df.append(merged_df)\n"
     ]
    },
    {
     "name": "stdout",
     "output_type": "stream",
     "text": [
      "Successfully merged 83.5% of remaineder on second pass\n",
      "Deaths from 2018 using SVI 2016\n",
      "Successfully merged 77.6% on first pass\n",
      "Successfully merged 83.5% of remaineder on second pass\n"
     ]
    },
    {
     "name": "stderr",
     "output_type": "stream",
     "text": [
      "/tmp/ipykernel_34672/1141560685.py:65: FutureWarning: The frame.append method is deprecated and will be removed from pandas in a future version. Use pandas.concat instead.\n",
      "  merged_df = first_merged_df.append(second_merged_df)\n",
      "/tmp/ipykernel_34672/1141560685.py:66: FutureWarning: The frame.append method is deprecated and will be removed from pandas in a future version. Use pandas.concat instead.\n",
      "  all_df = all_df.append(merged_df)\n",
      "/tmp/ipykernel_34672/1141560685.py:65: FutureWarning: The frame.append method is deprecated and will be removed from pandas in a future version. Use pandas.concat instead.\n",
      "  merged_df = first_merged_df.append(second_merged_df)\n",
      "/tmp/ipykernel_34672/1141560685.py:66: FutureWarning: The frame.append method is deprecated and will be removed from pandas in a future version. Use pandas.concat instead.\n",
      "  all_df = all_df.append(merged_df)\n"
     ]
    },
    {
     "name": "stdout",
     "output_type": "stream",
     "text": [
      "Deaths from 2018 using SVI 2016\n",
      "Successfully merged 77.6% on first pass\n",
      "Successfully merged 83.5% of remaineder on second pass\n",
      "Deaths from 2018 using SVI 2016\n",
      "Successfully merged 77.6% on first pass\n",
      "Successfully merged 83.5% of remaineder on second pass\n",
      "Deaths from 2018 using SVI 2016\n",
      "Successfully merged 77.6% on first pass\n",
      "Successfully merged 83.5% of remaineder on second pass\n"
     ]
    },
    {
     "name": "stderr",
     "output_type": "stream",
     "text": [
      "/tmp/ipykernel_34672/1141560685.py:65: FutureWarning: The frame.append method is deprecated and will be removed from pandas in a future version. Use pandas.concat instead.\n",
      "  merged_df = first_merged_df.append(second_merged_df)\n",
      "/tmp/ipykernel_34672/1141560685.py:66: FutureWarning: The frame.append method is deprecated and will be removed from pandas in a future version. Use pandas.concat instead.\n",
      "  all_df = all_df.append(merged_df)\n",
      "/tmp/ipykernel_34672/1141560685.py:65: FutureWarning: The frame.append method is deprecated and will be removed from pandas in a future version. Use pandas.concat instead.\n",
      "  merged_df = first_merged_df.append(second_merged_df)\n",
      "/tmp/ipykernel_34672/1141560685.py:66: FutureWarning: The frame.append method is deprecated and will be removed from pandas in a future version. Use pandas.concat instead.\n",
      "  all_df = all_df.append(merged_df)\n"
     ]
    },
    {
     "name": "stdout",
     "output_type": "stream",
     "text": [
      "Deaths from 2018 using SVI 2016\n",
      "Successfully merged 77.6% on first pass\n",
      "Successfully merged 83.5% of remaineder on second pass\n"
     ]
    },
    {
     "name": "stderr",
     "output_type": "stream",
     "text": [
      "/tmp/ipykernel_34672/1141560685.py:65: FutureWarning: The frame.append method is deprecated and will be removed from pandas in a future version. Use pandas.concat instead.\n",
      "  merged_df = first_merged_df.append(second_merged_df)\n",
      "/tmp/ipykernel_34672/1141560685.py:66: FutureWarning: The frame.append method is deprecated and will be removed from pandas in a future version. Use pandas.concat instead.\n",
      "  all_df = all_df.append(merged_df)\n"
     ]
    },
    {
     "name": "stdout",
     "output_type": "stream",
     "text": [
      "Deaths from 2019 using SVI 2018\n",
      "Successfully merged 77.6% on first pass\n",
      "Successfully merged 83.5% of remaineder on second pass\n",
      "Deaths from 2019 using SVI 2018\n",
      "Successfully merged 77.6% on first pass\n"
     ]
    },
    {
     "name": "stderr",
     "output_type": "stream",
     "text": [
      "/tmp/ipykernel_34672/1141560685.py:65: FutureWarning: The frame.append method is deprecated and will be removed from pandas in a future version. Use pandas.concat instead.\n",
      "  merged_df = first_merged_df.append(second_merged_df)\n",
      "/tmp/ipykernel_34672/1141560685.py:66: FutureWarning: The frame.append method is deprecated and will be removed from pandas in a future version. Use pandas.concat instead.\n",
      "  all_df = all_df.append(merged_df)\n",
      "/tmp/ipykernel_34672/1141560685.py:65: FutureWarning: The frame.append method is deprecated and will be removed from pandas in a future version. Use pandas.concat instead.\n",
      "  merged_df = first_merged_df.append(second_merged_df)\n",
      "/tmp/ipykernel_34672/1141560685.py:66: FutureWarning: The frame.append method is deprecated and will be removed from pandas in a future version. Use pandas.concat instead.\n",
      "  all_df = all_df.append(merged_df)\n"
     ]
    },
    {
     "name": "stdout",
     "output_type": "stream",
     "text": [
      "Successfully merged 83.5% of remaineder on second pass\n",
      "Deaths from 2019 using SVI 2018\n",
      "Successfully merged 77.6% on first pass\n",
      "Successfully merged 83.5% of remaineder on second pass\n"
     ]
    },
    {
     "name": "stderr",
     "output_type": "stream",
     "text": [
      "/tmp/ipykernel_34672/1141560685.py:65: FutureWarning: The frame.append method is deprecated and will be removed from pandas in a future version. Use pandas.concat instead.\n",
      "  merged_df = first_merged_df.append(second_merged_df)\n",
      "/tmp/ipykernel_34672/1141560685.py:66: FutureWarning: The frame.append method is deprecated and will be removed from pandas in a future version. Use pandas.concat instead.\n",
      "  all_df = all_df.append(merged_df)\n",
      "/tmp/ipykernel_34672/1141560685.py:65: FutureWarning: The frame.append method is deprecated and will be removed from pandas in a future version. Use pandas.concat instead.\n",
      "  merged_df = first_merged_df.append(second_merged_df)\n",
      "/tmp/ipykernel_34672/1141560685.py:66: FutureWarning: The frame.append method is deprecated and will be removed from pandas in a future version. Use pandas.concat instead.\n",
      "  all_df = all_df.append(merged_df)\n"
     ]
    },
    {
     "name": "stdout",
     "output_type": "stream",
     "text": [
      "Deaths from 2019 using SVI 2018\n",
      "Successfully merged 77.6% on first pass\n",
      "Successfully merged 83.5% of remaineder on second pass\n",
      "Deaths from 2019 using SVI 2018\n",
      "Successfully merged 77.6% on first pass\n",
      "Successfully merged 83.5% of remaineder on second pass\n",
      "Deaths from 2019 using SVI 2018\n",
      "Successfully merged 77.6% on first pass\n",
      "Successfully merged 83.5% of remaineder on second pass\n"
     ]
    },
    {
     "name": "stderr",
     "output_type": "stream",
     "text": [
      "/tmp/ipykernel_34672/1141560685.py:65: FutureWarning: The frame.append method is deprecated and will be removed from pandas in a future version. Use pandas.concat instead.\n",
      "  merged_df = first_merged_df.append(second_merged_df)\n",
      "/tmp/ipykernel_34672/1141560685.py:66: FutureWarning: The frame.append method is deprecated and will be removed from pandas in a future version. Use pandas.concat instead.\n",
      "  all_df = all_df.append(merged_df)\n",
      "/tmp/ipykernel_34672/1141560685.py:65: FutureWarning: The frame.append method is deprecated and will be removed from pandas in a future version. Use pandas.concat instead.\n",
      "  merged_df = first_merged_df.append(second_merged_df)\n",
      "/tmp/ipykernel_34672/1141560685.py:66: FutureWarning: The frame.append method is deprecated and will be removed from pandas in a future version. Use pandas.concat instead.\n",
      "  all_df = all_df.append(merged_df)\n"
     ]
    },
    {
     "name": "stdout",
     "output_type": "stream",
     "text": [
      "Deaths from 2019 using SVI 2018\n",
      "Successfully merged 77.6% on first pass\n",
      "Successfully merged 83.5% of remaineder on second pass\n",
      "Deaths from 2019 using SVI 2018\n"
     ]
    },
    {
     "name": "stderr",
     "output_type": "stream",
     "text": [
      "/tmp/ipykernel_34672/1141560685.py:65: FutureWarning: The frame.append method is deprecated and will be removed from pandas in a future version. Use pandas.concat instead.\n",
      "  merged_df = first_merged_df.append(second_merged_df)\n",
      "/tmp/ipykernel_34672/1141560685.py:66: FutureWarning: The frame.append method is deprecated and will be removed from pandas in a future version. Use pandas.concat instead.\n",
      "  all_df = all_df.append(merged_df)\n",
      "/tmp/ipykernel_34672/1141560685.py:65: FutureWarning: The frame.append method is deprecated and will be removed from pandas in a future version. Use pandas.concat instead.\n",
      "  merged_df = first_merged_df.append(second_merged_df)\n",
      "/tmp/ipykernel_34672/1141560685.py:66: FutureWarning: The frame.append method is deprecated and will be removed from pandas in a future version. Use pandas.concat instead.\n",
      "  all_df = all_df.append(merged_df)\n"
     ]
    },
    {
     "name": "stdout",
     "output_type": "stream",
     "text": [
      "Successfully merged 77.6% on first pass\n",
      "Successfully merged 83.5% of remaineder on second pass\n",
      "Deaths from 2019 using SVI 2018\n",
      "Successfully merged 77.6% on first pass\n",
      "Successfully merged 83.5% of remaineder on second pass\n"
     ]
    },
    {
     "name": "stderr",
     "output_type": "stream",
     "text": [
      "/tmp/ipykernel_34672/1141560685.py:65: FutureWarning: The frame.append method is deprecated and will be removed from pandas in a future version. Use pandas.concat instead.\n",
      "  merged_df = first_merged_df.append(second_merged_df)\n",
      "/tmp/ipykernel_34672/1141560685.py:66: FutureWarning: The frame.append method is deprecated and will be removed from pandas in a future version. Use pandas.concat instead.\n",
      "  all_df = all_df.append(merged_df)\n",
      "/tmp/ipykernel_34672/1141560685.py:65: FutureWarning: The frame.append method is deprecated and will be removed from pandas in a future version. Use pandas.concat instead.\n",
      "  merged_df = first_merged_df.append(second_merged_df)\n",
      "/tmp/ipykernel_34672/1141560685.py:66: FutureWarning: The frame.append method is deprecated and will be removed from pandas in a future version. Use pandas.concat instead.\n",
      "  all_df = all_df.append(merged_df)\n"
     ]
    },
    {
     "name": "stdout",
     "output_type": "stream",
     "text": [
      "Deaths from 2019 using SVI 2018\n",
      "Successfully merged 77.6% on first pass\n",
      "Successfully merged 83.5% of remaineder on second pass\n",
      "Deaths from 2019 using SVI 2018\n",
      "Successfully merged 77.6% on first pass\n",
      "Successfully merged 83.5% of remaineder on second pass\n",
      "Deaths from 2019 using SVI 2018\n",
      "Successfully merged 77.6% on first pass\n"
     ]
    },
    {
     "name": "stderr",
     "output_type": "stream",
     "text": [
      "/tmp/ipykernel_34672/1141560685.py:65: FutureWarning: The frame.append method is deprecated and will be removed from pandas in a future version. Use pandas.concat instead.\n",
      "  merged_df = first_merged_df.append(second_merged_df)\n",
      "/tmp/ipykernel_34672/1141560685.py:66: FutureWarning: The frame.append method is deprecated and will be removed from pandas in a future version. Use pandas.concat instead.\n",
      "  all_df = all_df.append(merged_df)\n",
      "/tmp/ipykernel_34672/1141560685.py:65: FutureWarning: The frame.append method is deprecated and will be removed from pandas in a future version. Use pandas.concat instead.\n",
      "  merged_df = first_merged_df.append(second_merged_df)\n",
      "/tmp/ipykernel_34672/1141560685.py:66: FutureWarning: The frame.append method is deprecated and will be removed from pandas in a future version. Use pandas.concat instead.\n",
      "  all_df = all_df.append(merged_df)\n"
     ]
    },
    {
     "name": "stdout",
     "output_type": "stream",
     "text": [
      "Successfully merged 83.5% of remaineder on second pass\n",
      "Deaths from 2020 using SVI 2018\n",
      "Successfully merged 77.6% on first pass\n",
      "Successfully merged 83.5% of remaineder on second pass\n",
      "Deaths from 2020 using SVI 2018\n"
     ]
    },
    {
     "name": "stderr",
     "output_type": "stream",
     "text": [
      "/tmp/ipykernel_34672/1141560685.py:65: FutureWarning: The frame.append method is deprecated and will be removed from pandas in a future version. Use pandas.concat instead.\n",
      "  merged_df = first_merged_df.append(second_merged_df)\n",
      "/tmp/ipykernel_34672/1141560685.py:66: FutureWarning: The frame.append method is deprecated and will be removed from pandas in a future version. Use pandas.concat instead.\n",
      "  all_df = all_df.append(merged_df)\n",
      "/tmp/ipykernel_34672/1141560685.py:65: FutureWarning: The frame.append method is deprecated and will be removed from pandas in a future version. Use pandas.concat instead.\n",
      "  merged_df = first_merged_df.append(second_merged_df)\n",
      "/tmp/ipykernel_34672/1141560685.py:66: FutureWarning: The frame.append method is deprecated and will be removed from pandas in a future version. Use pandas.concat instead.\n",
      "  all_df = all_df.append(merged_df)\n"
     ]
    },
    {
     "name": "stdout",
     "output_type": "stream",
     "text": [
      "Successfully merged 77.6% on first pass\n",
      "Successfully merged 83.5% of remaineder on second pass\n",
      "Deaths from 2020 using SVI 2018\n",
      "Successfully merged 77.6% on first pass\n",
      "Successfully merged 83.5% of remaineder on second pass\n",
      "Deaths from 2020 using SVI 2018\n",
      "Successfully merged 77.6% on first pass\n",
      "Successfully merged 83.5% of remaineder on second pass\n"
     ]
    },
    {
     "name": "stderr",
     "output_type": "stream",
     "text": [
      "/tmp/ipykernel_34672/1141560685.py:65: FutureWarning: The frame.append method is deprecated and will be removed from pandas in a future version. Use pandas.concat instead.\n",
      "  merged_df = first_merged_df.append(second_merged_df)\n",
      "/tmp/ipykernel_34672/1141560685.py:66: FutureWarning: The frame.append method is deprecated and will be removed from pandas in a future version. Use pandas.concat instead.\n",
      "  all_df = all_df.append(merged_df)\n",
      "/tmp/ipykernel_34672/1141560685.py:65: FutureWarning: The frame.append method is deprecated and will be removed from pandas in a future version. Use pandas.concat instead.\n",
      "  merged_df = first_merged_df.append(second_merged_df)\n",
      "/tmp/ipykernel_34672/1141560685.py:66: FutureWarning: The frame.append method is deprecated and will be removed from pandas in a future version. Use pandas.concat instead.\n",
      "  all_df = all_df.append(merged_df)\n"
     ]
    },
    {
     "name": "stdout",
     "output_type": "stream",
     "text": [
      "Deaths from 2020 using SVI 2018\n",
      "Successfully merged 77.6% on first pass\n",
      "Successfully merged 83.5% of remaineder on second pass\n",
      "Deaths from 2020 using SVI 2018\n"
     ]
    },
    {
     "name": "stderr",
     "output_type": "stream",
     "text": [
      "/tmp/ipykernel_34672/1141560685.py:65: FutureWarning: The frame.append method is deprecated and will be removed from pandas in a future version. Use pandas.concat instead.\n",
      "  merged_df = first_merged_df.append(second_merged_df)\n",
      "/tmp/ipykernel_34672/1141560685.py:66: FutureWarning: The frame.append method is deprecated and will be removed from pandas in a future version. Use pandas.concat instead.\n",
      "  all_df = all_df.append(merged_df)\n",
      "/tmp/ipykernel_34672/1141560685.py:65: FutureWarning: The frame.append method is deprecated and will be removed from pandas in a future version. Use pandas.concat instead.\n",
      "  merged_df = first_merged_df.append(second_merged_df)\n",
      "/tmp/ipykernel_34672/1141560685.py:66: FutureWarning: The frame.append method is deprecated and will be removed from pandas in a future version. Use pandas.concat instead.\n",
      "  all_df = all_df.append(merged_df)\n"
     ]
    },
    {
     "name": "stdout",
     "output_type": "stream",
     "text": [
      "Successfully merged 77.6% on first pass\n",
      "Successfully merged 83.5% of remaineder on second pass\n",
      "Deaths from 2020 using SVI 2018\n",
      "Successfully merged 77.6% on first pass\n",
      "Successfully merged 83.5% of remaineder on second pass\n",
      "Deaths from 2020 using SVI 2018\n",
      "Successfully merged 77.6% on first pass\n",
      "Successfully merged 83.5% of remaineder on second pass\n"
     ]
    },
    {
     "name": "stderr",
     "output_type": "stream",
     "text": [
      "/tmp/ipykernel_34672/1141560685.py:65: FutureWarning: The frame.append method is deprecated and will be removed from pandas in a future version. Use pandas.concat instead.\n",
      "  merged_df = first_merged_df.append(second_merged_df)\n",
      "/tmp/ipykernel_34672/1141560685.py:66: FutureWarning: The frame.append method is deprecated and will be removed from pandas in a future version. Use pandas.concat instead.\n",
      "  all_df = all_df.append(merged_df)\n",
      "/tmp/ipykernel_34672/1141560685.py:65: FutureWarning: The frame.append method is deprecated and will be removed from pandas in a future version. Use pandas.concat instead.\n",
      "  merged_df = first_merged_df.append(second_merged_df)\n",
      "/tmp/ipykernel_34672/1141560685.py:66: FutureWarning: The frame.append method is deprecated and will be removed from pandas in a future version. Use pandas.concat instead.\n",
      "  all_df = all_df.append(merged_df)\n"
     ]
    },
    {
     "name": "stdout",
     "output_type": "stream",
     "text": [
      "Deaths from 2020 using SVI 2018\n",
      "Successfully merged 77.6% on first pass\n",
      "Successfully merged 83.5% of remaineder on second pass\n",
      "Deaths from 2020 using SVI 2018\n"
     ]
    },
    {
     "name": "stderr",
     "output_type": "stream",
     "text": [
      "/tmp/ipykernel_34672/1141560685.py:65: FutureWarning: The frame.append method is deprecated and will be removed from pandas in a future version. Use pandas.concat instead.\n",
      "  merged_df = first_merged_df.append(second_merged_df)\n",
      "/tmp/ipykernel_34672/1141560685.py:66: FutureWarning: The frame.append method is deprecated and will be removed from pandas in a future version. Use pandas.concat instead.\n",
      "  all_df = all_df.append(merged_df)\n",
      "/tmp/ipykernel_34672/1141560685.py:65: FutureWarning: The frame.append method is deprecated and will be removed from pandas in a future version. Use pandas.concat instead.\n",
      "  merged_df = first_merged_df.append(second_merged_df)\n",
      "/tmp/ipykernel_34672/1141560685.py:66: FutureWarning: The frame.append method is deprecated and will be removed from pandas in a future version. Use pandas.concat instead.\n",
      "  all_df = all_df.append(merged_df)\n"
     ]
    },
    {
     "name": "stdout",
     "output_type": "stream",
     "text": [
      "Successfully merged 77.6% on first pass\n",
      "Successfully merged 83.5% of remaineder on second pass\n",
      "Deaths from 2020 using SVI 2018\n",
      "Successfully merged 77.6% on first pass\n",
      "Successfully merged 83.5% of remaineder on second pass\n",
      "Deaths from 2020 using SVI 2018\n",
      "Successfully merged 77.6% on first pass\n",
      "Successfully merged 83.5% of remaineder on second pass\n"
     ]
    },
    {
     "name": "stderr",
     "output_type": "stream",
     "text": [
      "/tmp/ipykernel_34672/1141560685.py:65: FutureWarning: The frame.append method is deprecated and will be removed from pandas in a future version. Use pandas.concat instead.\n",
      "  merged_df = first_merged_df.append(second_merged_df)\n",
      "/tmp/ipykernel_34672/1141560685.py:66: FutureWarning: The frame.append method is deprecated and will be removed from pandas in a future version. Use pandas.concat instead.\n",
      "  all_df = all_df.append(merged_df)\n",
      "/tmp/ipykernel_34672/1141560685.py:65: FutureWarning: The frame.append method is deprecated and will be removed from pandas in a future version. Use pandas.concat instead.\n",
      "  merged_df = first_merged_df.append(second_merged_df)\n",
      "/tmp/ipykernel_34672/1141560685.py:66: FutureWarning: The frame.append method is deprecated and will be removed from pandas in a future version. Use pandas.concat instead.\n",
      "  all_df = all_df.append(merged_df)\n"
     ]
    },
    {
     "name": "stdout",
     "output_type": "stream",
     "text": [
      "Deaths from 2021 using SVI 2018\n",
      "Successfully merged 77.6% on first pass\n",
      "Successfully merged 83.5% of remaineder on second pass\n",
      "Deaths from 2021 using SVI 2018\n"
     ]
    },
    {
     "name": "stderr",
     "output_type": "stream",
     "text": [
      "/tmp/ipykernel_34672/1141560685.py:65: FutureWarning: The frame.append method is deprecated and will be removed from pandas in a future version. Use pandas.concat instead.\n",
      "  merged_df = first_merged_df.append(second_merged_df)\n",
      "/tmp/ipykernel_34672/1141560685.py:66: FutureWarning: The frame.append method is deprecated and will be removed from pandas in a future version. Use pandas.concat instead.\n",
      "  all_df = all_df.append(merged_df)\n",
      "/tmp/ipykernel_34672/1141560685.py:65: FutureWarning: The frame.append method is deprecated and will be removed from pandas in a future version. Use pandas.concat instead.\n",
      "  merged_df = first_merged_df.append(second_merged_df)\n"
     ]
    },
    {
     "name": "stdout",
     "output_type": "stream",
     "text": [
      "Successfully merged 77.6% on first pass\n",
      "Successfully merged 83.5% of remaineder on second pass\n",
      "Deaths from 2021 using SVI 2018\n"
     ]
    },
    {
     "name": "stderr",
     "output_type": "stream",
     "text": [
      "/tmp/ipykernel_34672/1141560685.py:66: FutureWarning: The frame.append method is deprecated and will be removed from pandas in a future version. Use pandas.concat instead.\n",
      "  all_df = all_df.append(merged_df)\n",
      "/tmp/ipykernel_34672/1141560685.py:65: FutureWarning: The frame.append method is deprecated and will be removed from pandas in a future version. Use pandas.concat instead.\n",
      "  merged_df = first_merged_df.append(second_merged_df)\n"
     ]
    },
    {
     "name": "stdout",
     "output_type": "stream",
     "text": [
      "Successfully merged 77.6% on first pass\n",
      "Successfully merged 83.5% of remaineder on second pass\n",
      "Deaths from 2021 using SVI 2018\n"
     ]
    },
    {
     "name": "stderr",
     "output_type": "stream",
     "text": [
      "/tmp/ipykernel_34672/1141560685.py:66: FutureWarning: The frame.append method is deprecated and will be removed from pandas in a future version. Use pandas.concat instead.\n",
      "  all_df = all_df.append(merged_df)\n",
      "/tmp/ipykernel_34672/1141560685.py:65: FutureWarning: The frame.append method is deprecated and will be removed from pandas in a future version. Use pandas.concat instead.\n",
      "  merged_df = first_merged_df.append(second_merged_df)\n"
     ]
    },
    {
     "name": "stdout",
     "output_type": "stream",
     "text": [
      "Successfully merged 77.6% on first pass\n",
      "Successfully merged 83.5% of remaineder on second pass\n",
      "Deaths from 2021 using SVI 2018\n"
     ]
    },
    {
     "name": "stderr",
     "output_type": "stream",
     "text": [
      "/tmp/ipykernel_34672/1141560685.py:66: FutureWarning: The frame.append method is deprecated and will be removed from pandas in a future version. Use pandas.concat instead.\n",
      "  all_df = all_df.append(merged_df)\n",
      "/tmp/ipykernel_34672/1141560685.py:65: FutureWarning: The frame.append method is deprecated and will be removed from pandas in a future version. Use pandas.concat instead.\n",
      "  merged_df = first_merged_df.append(second_merged_df)\n"
     ]
    },
    {
     "name": "stdout",
     "output_type": "stream",
     "text": [
      "Successfully merged 77.6% on first pass\n",
      "Successfully merged 83.5% of remaineder on second pass\n"
     ]
    },
    {
     "name": "stderr",
     "output_type": "stream",
     "text": [
      "/tmp/ipykernel_34672/1141560685.py:66: FutureWarning: The frame.append method is deprecated and will be removed from pandas in a future version. Use pandas.concat instead.\n",
      "  all_df = all_df.append(merged_df)\n"
     ]
    },
    {
     "name": "stdout",
     "output_type": "stream",
     "text": [
      "Deaths from 2021 using SVI 2018\n",
      "Successfully merged 77.6% on first pass\n",
      "Successfully merged 83.5% of remaineder on second pass\n"
     ]
    },
    {
     "name": "stderr",
     "output_type": "stream",
     "text": [
      "/tmp/ipykernel_34672/1141560685.py:65: FutureWarning: The frame.append method is deprecated and will be removed from pandas in a future version. Use pandas.concat instead.\n",
      "  merged_df = first_merged_df.append(second_merged_df)\n",
      "/tmp/ipykernel_34672/1141560685.py:66: FutureWarning: The frame.append method is deprecated and will be removed from pandas in a future version. Use pandas.concat instead.\n",
      "  all_df = all_df.append(merged_df)\n"
     ]
    },
    {
     "name": "stdout",
     "output_type": "stream",
     "text": [
      "Deaths from 2021 using SVI 2018\n",
      "Successfully merged 77.6% on first pass\n",
      "Successfully merged 83.5% of remaineder on second pass\n"
     ]
    },
    {
     "name": "stderr",
     "output_type": "stream",
     "text": [
      "/tmp/ipykernel_34672/1141560685.py:65: FutureWarning: The frame.append method is deprecated and will be removed from pandas in a future version. Use pandas.concat instead.\n",
      "  merged_df = first_merged_df.append(second_merged_df)\n",
      "/tmp/ipykernel_34672/1141560685.py:66: FutureWarning: The frame.append method is deprecated and will be removed from pandas in a future version. Use pandas.concat instead.\n",
      "  all_df = all_df.append(merged_df)\n"
     ]
    },
    {
     "name": "stdout",
     "output_type": "stream",
     "text": [
      "Deaths from 2021 using SVI 2018\n",
      "Successfully merged 77.6% on first pass\n",
      "Successfully merged 83.5% of remaineder on second pass\n"
     ]
    },
    {
     "name": "stderr",
     "output_type": "stream",
     "text": [
      "/tmp/ipykernel_34672/1141560685.py:65: FutureWarning: The frame.append method is deprecated and will be removed from pandas in a future version. Use pandas.concat instead.\n",
      "  merged_df = first_merged_df.append(second_merged_df)\n",
      "/tmp/ipykernel_34672/1141560685.py:66: FutureWarning: The frame.append method is deprecated and will be removed from pandas in a future version. Use pandas.concat instead.\n",
      "  all_df = all_df.append(merged_df)\n"
     ]
    },
    {
     "name": "stdout",
     "output_type": "stream",
     "text": [
      "Deaths from 2021 using SVI 2018\n",
      "Successfully merged 77.6% on first pass\n",
      "Successfully merged 83.5% of remaineder on second pass\n"
     ]
    },
    {
     "name": "stderr",
     "output_type": "stream",
     "text": [
      "/tmp/ipykernel_34672/1141560685.py:65: FutureWarning: The frame.append method is deprecated and will be removed from pandas in a future version. Use pandas.concat instead.\n",
      "  merged_df = first_merged_df.append(second_merged_df)\n",
      "/tmp/ipykernel_34672/1141560685.py:66: FutureWarning: The frame.append method is deprecated and will be removed from pandas in a future version. Use pandas.concat instead.\n",
      "  all_df = all_df.append(merged_df)\n"
     ]
    },
    {
     "name": "stdout",
     "output_type": "stream",
     "text": [
      "Deaths from 2021 using SVI 2018\n",
      "Successfully merged 77.6% on first pass\n",
      "Successfully merged 83.5% of remaineder on second pass\n"
     ]
    },
    {
     "name": "stderr",
     "output_type": "stream",
     "text": [
      "/tmp/ipykernel_34672/1141560685.py:65: FutureWarning: The frame.append method is deprecated and will be removed from pandas in a future version. Use pandas.concat instead.\n",
      "  merged_df = first_merged_df.append(second_merged_df)\n",
      "/tmp/ipykernel_34672/1141560685.py:66: FutureWarning: The frame.append method is deprecated and will be removed from pandas in a future version. Use pandas.concat instead.\n",
      "  all_df = all_df.append(merged_df)\n"
     ]
    },
    {
     "name": "stdout",
     "output_type": "stream",
     "text": [
      "Deaths from 2021 using SVI 2018\n",
      "Successfully merged 77.6% on first pass\n",
      "Successfully merged 83.5% of remaineder on second pass\n"
     ]
    },
    {
     "name": "stderr",
     "output_type": "stream",
     "text": [
      "/tmp/ipykernel_34672/1141560685.py:65: FutureWarning: The frame.append method is deprecated and will be removed from pandas in a future version. Use pandas.concat instead.\n",
      "  merged_df = first_merged_df.append(second_merged_df)\n",
      "/tmp/ipykernel_34672/1141560685.py:66: FutureWarning: The frame.append method is deprecated and will be removed from pandas in a future version. Use pandas.concat instead.\n",
      "  all_df = all_df.append(merged_df)\n"
     ]
    },
    {
     "name": "stdout",
     "output_type": "stream",
     "text": [
      "Deaths from 2021 using SVI 2018\n",
      "Successfully merged 77.6% on first pass\n",
      "Successfully merged 83.5% of remaineder on second pass\n"
     ]
    },
    {
     "name": "stderr",
     "output_type": "stream",
     "text": [
      "/tmp/ipykernel_34672/1141560685.py:65: FutureWarning: The frame.append method is deprecated and will be removed from pandas in a future version. Use pandas.concat instead.\n",
      "  merged_df = first_merged_df.append(second_merged_df)\n",
      "/tmp/ipykernel_34672/1141560685.py:66: FutureWarning: The frame.append method is deprecated and will be removed from pandas in a future version. Use pandas.concat instead.\n",
      "  all_df = all_df.append(merged_df)\n"
     ]
    }
   ],
   "source": [
    "deaths_gdf.loc[:,'TRACTCE'] = deaths_gdf.loc[:,'TRACTCE'].astype(str)\n",
    "deaths_gdf.loc[:,'GEOID'] = deaths_gdf.loc[:,'GEOID'].astype(str)\n",
    "\n",
    "\n",
    "all_df = gpd.GeoDataFrame()\n",
    "for year in range(2000,2022):\n",
    "    if year <= 2006:\n",
    "        svi_year=2000\n",
    "        theme_cols = ['MAG1TP','MAG2TP','MAG3TP','MAG4TP','MATP']\n",
    "        tract_col = 'TRACT'\n",
    "        geo_col = 'FIPS'\n",
    "    elif year <= 2012:\n",
    "        svi_year = 2010\n",
    "        theme_cols = ['R_PL_THEME1','R_PL_THEME2','R_PL_THEME3','R_PL_THEME4','R_PL_THEMES']\n",
    "        tract_col = 'TRACT'\n",
    "    elif year <=2014:\n",
    "        svi_year = 2014\n",
    "        theme_cols = ['RPL_THEME1','RPL_THEME2','RPL_THEME3','RPL_THEME4','RPL_THEMES']\n",
    "        tract_col = 'TRACTCE'\n",
    "    elif year <= 2018:\n",
    "        svi_year = 2016\n",
    "    else:\n",
    "        svi_year = 2018\n",
    "    \n",
    "        \n",
    "    svi_file = os.path.join(svi_dir, f'Massachusetts_SVI_{svi_year}.csv')\n",
    "    svi_df = pd.read_csv(svi_file)\n",
    "    \n",
    "    if svi_year >= 2016:\n",
    "        svi_df.loc[:,tract_col] = svi_df.FIPS.astype(str).apply(lambda x: x[5:])\n",
    "    \n",
    "    svi_df.loc[:,tract_col] = svi_df[tract_col].astype(str)\n",
    "    svi_df.loc[:,geo_col] = svi_df[geo_col].astype(str)\n",
    "    svi_df.loc[:,'ROUNDED_TRACT'] = svi_df[tract_col].astype(str).apply(lambda x: x[:-2] +'00' )\n",
    "    \n",
    "    target_cols = ['theme_1_pctile', 'theme_2_pctile', 'theme_3_pctile', 'theme_4_pctile', 'svi_pctile']\n",
    "    svi_df = svi_df.rename(columns={theme:target for theme, target in zip(theme_cols, target_cols)})\n",
    "\n",
    "    svi_df_rounded = svi_df.groupby('ROUNDED_TRACT').mean().reset_index()\n",
    "    \n",
    "    for month in range(1, 13):\n",
    "\n",
    "        these_deaths = deaths_gdf[(deaths_gdf['year']==year)&(deaths_gdf['month']==month)]\n",
    "\n",
    "        print(f'Deaths from {year} using SVI {svi_year}')\n",
    "\n",
    "        first_merged_df = these_deaths.merge(svi_df[target_cols+[tract_col, geo_col]], left_on='GEOID', right_on=geo_col, how='left', indicator=True)\n",
    "        if tract_col != 'TRACTCE':\n",
    "            first_merged_df = first_merged_df.drop(columns=[tract_col])\n",
    "        else:\n",
    "            first_merged_df = first_merged_df.rename(columns={'TRACTCE_x':'TRACTCE'})\n",
    "        unmerged_df = first_merged_df[first_merged_df['_merge']=='left_only'].drop(columns=target_cols+['_merge'])\n",
    "        first_merged_df = first_merged_df[first_merged_df['_merge']=='both'].drop(columns=['_merge'])\n",
    "        count_unmerged = len(unmerged_df)\n",
    "        print(f\"Successfully merged {(len(first_merged_df)-count_unmerged)/len(first_merged_df)*100:.1f}% on first pass\")\n",
    "\n",
    "        unmerged_df.loc[:,'ROUNDED_TRACTCE'] = unmerged_df['TRACTCE'].astype(str).apply(lambda x: x[:-2] +'00' ).astype(str)\n",
    "\n",
    "        second_merged_df = unmerged_df.merge(svi_df_rounded[target_cols+['ROUNDED_TRACT']], left_on='ROUNDED_TRACTCE', right_on='ROUNDED_TRACT', how='left', indicator=True)\n",
    "        unmerged_df = second_merged_df[second_merged_df['_merge']=='left_only'].drop(columns=target_cols+['_merge'])\n",
    "        second_merged_df = second_merged_df.drop(columns=['_merge'])\n",
    "        count_unmerged = len(unmerged_df)\n",
    "        print(f\"Successfully merged {(len(second_merged_df)-count_unmerged)/len(second_merged_df)*100:.1f}% of remaineder on second pass\")\n",
    "\n",
    "        merged_df = first_merged_df.append(second_merged_df)\n",
    "        all_df = all_df.append(merged_df)\n"
   ]
  },
  {
   "cell_type": "code",
   "execution_count": 6,
   "id": "6760f7db",
   "metadata": {},
   "outputs": [
    {
     "name": "stdout",
     "output_type": "stream",
     "text": [
      "0.8% of data is missing, replacing with mean\n"
     ]
    }
   ],
   "source": [
    "no_data = len(all_df[all_df['svi_pctile']==-999])\n",
    "print(f'{no_data/len(all_df)*100:.1f}% of data is missing, replacing with mean')\n",
    "all_df =all_df.replace(-999, np.nan)\n",
    "all_df.loc[:,target_cols] = all_df[target_cols].fillna(all_df[target_cols].mean())"
   ]
  },
  {
   "cell_type": "code",
   "execution_count": 7,
   "id": "b95099d7",
   "metadata": {},
   "outputs": [
    {
     "name": "stderr",
     "output_type": "stream",
     "text": [
      "/tmp/ipykernel_34672/3756858356.py:2: UserWarning: Column names longer than 10 characters will be truncated when saved to ESRI Shapefile.\n",
      "  gpd.GeoDataFrame(all_df).to_file(svi_file)\n"
     ]
    }
   ],
   "source": [
    "svi_file = os.path.join(result_dir,'svi_month')\n",
    "gpd.GeoDataFrame(all_df).to_file(svi_file)"
   ]
  },
  {
   "cell_type": "code",
   "execution_count": 8,
   "id": "01680422",
   "metadata": {},
   "outputs": [
    {
     "ename": "KeyError",
     "evalue": "'quarter'",
     "output_type": "error",
     "traceback": [
      "\u001b[0;31m---------------------------------------------------------------------------\u001b[0m",
      "\u001b[0;31mKeyError\u001b[0m                                  Traceback (most recent call last)",
      "File \u001b[0;32m/cluster/tufts/hugheslab/kheuto01/miniconda3/envs/modern_zigp/lib/python3.9/site-packages/pandas/core/indexes/base.py:3621\u001b[0m, in \u001b[0;36mIndex.get_loc\u001b[0;34m(self, key, method, tolerance)\u001b[0m\n\u001b[1;32m   3620\u001b[0m \u001b[38;5;28;01mtry\u001b[39;00m:\n\u001b[0;32m-> 3621\u001b[0m     \u001b[38;5;28;01mreturn\u001b[39;00m \u001b[38;5;28;43mself\u001b[39;49m\u001b[38;5;241;43m.\u001b[39;49m\u001b[43m_engine\u001b[49m\u001b[38;5;241;43m.\u001b[39;49m\u001b[43mget_loc\u001b[49m\u001b[43m(\u001b[49m\u001b[43mcasted_key\u001b[49m\u001b[43m)\u001b[49m\n\u001b[1;32m   3622\u001b[0m \u001b[38;5;28;01mexcept\u001b[39;00m \u001b[38;5;167;01mKeyError\u001b[39;00m \u001b[38;5;28;01mas\u001b[39;00m err:\n",
      "File \u001b[0;32m/cluster/tufts/hugheslab/kheuto01/miniconda3/envs/modern_zigp/lib/python3.9/site-packages/pandas/_libs/index.pyx:136\u001b[0m, in \u001b[0;36mpandas._libs.index.IndexEngine.get_loc\u001b[0;34m()\u001b[0m\n",
      "File \u001b[0;32m/cluster/tufts/hugheslab/kheuto01/miniconda3/envs/modern_zigp/lib/python3.9/site-packages/pandas/_libs/index.pyx:163\u001b[0m, in \u001b[0;36mpandas._libs.index.IndexEngine.get_loc\u001b[0;34m()\u001b[0m\n",
      "File \u001b[0;32mpandas/_libs/hashtable_class_helper.pxi:5198\u001b[0m, in \u001b[0;36mpandas._libs.hashtable.PyObjectHashTable.get_item\u001b[0;34m()\u001b[0m\n",
      "File \u001b[0;32mpandas/_libs/hashtable_class_helper.pxi:5206\u001b[0m, in \u001b[0;36mpandas._libs.hashtable.PyObjectHashTable.get_item\u001b[0;34m()\u001b[0m\n",
      "\u001b[0;31mKeyError\u001b[0m: 'quarter'",
      "\nThe above exception was the direct cause of the following exception:\n",
      "\u001b[0;31mKeyError\u001b[0m                                  Traceback (most recent call last)",
      "Input \u001b[0;32mIn [8]\u001b[0m, in \u001b[0;36m<cell line: 1>\u001b[0;34m()\u001b[0m\n\u001b[0;32m----> 1\u001b[0m \u001b[43mdeaths_gdf\u001b[49m\u001b[43m[\u001b[49m\u001b[38;5;124;43m'\u001b[39;49m\u001b[38;5;124;43mquarter\u001b[39;49m\u001b[38;5;124;43m'\u001b[39;49m\u001b[43m]\u001b[49m\n",
      "File \u001b[0;32m/cluster/tufts/hugheslab/kheuto01/miniconda3/envs/modern_zigp/lib/python3.9/site-packages/geopandas/geodataframe.py:1428\u001b[0m, in \u001b[0;36mGeoDataFrame.__getitem__\u001b[0;34m(self, key)\u001b[0m\n\u001b[1;32m   1422\u001b[0m \u001b[38;5;28;01mdef\u001b[39;00m \u001b[38;5;21m__getitem__\u001b[39m(\u001b[38;5;28mself\u001b[39m, key):\n\u001b[1;32m   1423\u001b[0m     \u001b[38;5;124;03m\"\"\"\u001b[39;00m\n\u001b[1;32m   1424\u001b[0m \u001b[38;5;124;03m    If the result is a column containing only 'geometry', return a\u001b[39;00m\n\u001b[1;32m   1425\u001b[0m \u001b[38;5;124;03m    GeoSeries. If it's a DataFrame with any columns of GeometryDtype,\u001b[39;00m\n\u001b[1;32m   1426\u001b[0m \u001b[38;5;124;03m    return a GeoDataFrame.\u001b[39;00m\n\u001b[1;32m   1427\u001b[0m \u001b[38;5;124;03m    \"\"\"\u001b[39;00m\n\u001b[0;32m-> 1428\u001b[0m     result \u001b[38;5;241m=\u001b[39m \u001b[38;5;28;43msuper\u001b[39;49m\u001b[43m(\u001b[49m\u001b[43m)\u001b[49m\u001b[38;5;241;43m.\u001b[39;49m\u001b[38;5;21;43m__getitem__\u001b[39;49m\u001b[43m(\u001b[49m\u001b[43mkey\u001b[49m\u001b[43m)\u001b[49m\n\u001b[1;32m   1429\u001b[0m     geo_col \u001b[38;5;241m=\u001b[39m \u001b[38;5;28mself\u001b[39m\u001b[38;5;241m.\u001b[39m_geometry_column_name\n\u001b[1;32m   1430\u001b[0m     \u001b[38;5;28;01mif\u001b[39;00m \u001b[38;5;28misinstance\u001b[39m(result, Series) \u001b[38;5;129;01mand\u001b[39;00m \u001b[38;5;28misinstance\u001b[39m(result\u001b[38;5;241m.\u001b[39mdtype, GeometryDtype):\n",
      "File \u001b[0;32m/cluster/tufts/hugheslab/kheuto01/miniconda3/envs/modern_zigp/lib/python3.9/site-packages/pandas/core/frame.py:3505\u001b[0m, in \u001b[0;36mDataFrame.__getitem__\u001b[0;34m(self, key)\u001b[0m\n\u001b[1;32m   3503\u001b[0m \u001b[38;5;28;01mif\u001b[39;00m \u001b[38;5;28mself\u001b[39m\u001b[38;5;241m.\u001b[39mcolumns\u001b[38;5;241m.\u001b[39mnlevels \u001b[38;5;241m>\u001b[39m \u001b[38;5;241m1\u001b[39m:\n\u001b[1;32m   3504\u001b[0m     \u001b[38;5;28;01mreturn\u001b[39;00m \u001b[38;5;28mself\u001b[39m\u001b[38;5;241m.\u001b[39m_getitem_multilevel(key)\n\u001b[0;32m-> 3505\u001b[0m indexer \u001b[38;5;241m=\u001b[39m \u001b[38;5;28;43mself\u001b[39;49m\u001b[38;5;241;43m.\u001b[39;49m\u001b[43mcolumns\u001b[49m\u001b[38;5;241;43m.\u001b[39;49m\u001b[43mget_loc\u001b[49m\u001b[43m(\u001b[49m\u001b[43mkey\u001b[49m\u001b[43m)\u001b[49m\n\u001b[1;32m   3506\u001b[0m \u001b[38;5;28;01mif\u001b[39;00m is_integer(indexer):\n\u001b[1;32m   3507\u001b[0m     indexer \u001b[38;5;241m=\u001b[39m [indexer]\n",
      "File \u001b[0;32m/cluster/tufts/hugheslab/kheuto01/miniconda3/envs/modern_zigp/lib/python3.9/site-packages/pandas/core/indexes/base.py:3623\u001b[0m, in \u001b[0;36mIndex.get_loc\u001b[0;34m(self, key, method, tolerance)\u001b[0m\n\u001b[1;32m   3621\u001b[0m     \u001b[38;5;28;01mreturn\u001b[39;00m \u001b[38;5;28mself\u001b[39m\u001b[38;5;241m.\u001b[39m_engine\u001b[38;5;241m.\u001b[39mget_loc(casted_key)\n\u001b[1;32m   3622\u001b[0m \u001b[38;5;28;01mexcept\u001b[39;00m \u001b[38;5;167;01mKeyError\u001b[39;00m \u001b[38;5;28;01mas\u001b[39;00m err:\n\u001b[0;32m-> 3623\u001b[0m     \u001b[38;5;28;01mraise\u001b[39;00m \u001b[38;5;167;01mKeyError\u001b[39;00m(key) \u001b[38;5;28;01mfrom\u001b[39;00m \u001b[38;5;21;01merr\u001b[39;00m\n\u001b[1;32m   3624\u001b[0m \u001b[38;5;28;01mexcept\u001b[39;00m \u001b[38;5;167;01mTypeError\u001b[39;00m:\n\u001b[1;32m   3625\u001b[0m     \u001b[38;5;66;03m# If we have a listlike key, _check_indexing_error will raise\u001b[39;00m\n\u001b[1;32m   3626\u001b[0m     \u001b[38;5;66;03m#  InvalidIndexError. Otherwise we fall through and re-raise\u001b[39;00m\n\u001b[1;32m   3627\u001b[0m     \u001b[38;5;66;03m#  the TypeError.\u001b[39;00m\n\u001b[1;32m   3628\u001b[0m     \u001b[38;5;28mself\u001b[39m\u001b[38;5;241m.\u001b[39m_check_indexing_error(key)\n",
      "\u001b[0;31mKeyError\u001b[0m: 'quarter'"
     ]
    }
   ],
   "source": [
    "deaths_gdf['quarter']"
   ]
  },
  {
   "cell_type": "code",
   "execution_count": 89,
   "id": "c231eabf",
   "metadata": {},
   "outputs": [
    {
     "data": {
      "text/html": [
       "<div>\n",
       "<style scoped>\n",
       "    .dataframe tbody tr th:only-of-type {\n",
       "        vertical-align: middle;\n",
       "    }\n",
       "\n",
       "    .dataframe tbody tr th {\n",
       "        vertical-align: top;\n",
       "    }\n",
       "\n",
       "    .dataframe thead th {\n",
       "        text-align: right;\n",
       "    }\n",
       "</style>\n",
       "<table border=\"1\" class=\"dataframe\">\n",
       "  <thead>\n",
       "    <tr style=\"text-align: right;\">\n",
       "      <th></th>\n",
       "      <th></th>\n",
       "      <th></th>\n",
       "      <th>STATEFP</th>\n",
       "      <th>COUNTYFP</th>\n",
       "      <th>TRACTCE</th>\n",
       "      <th>NAME</th>\n",
       "      <th>NAMELSAD</th>\n",
       "      <th>MTFCC</th>\n",
       "      <th>FUNCSTAT</th>\n",
       "      <th>ALAND</th>\n",
       "      <th>AWATER</th>\n",
       "      <th>INTPTLAT</th>\n",
       "      <th>...</th>\n",
       "      <th>geometry</th>\n",
       "      <th>theme_1_pctile</th>\n",
       "      <th>theme_2_pctile</th>\n",
       "      <th>theme_3_pctile</th>\n",
       "      <th>theme_4_pctile</th>\n",
       "      <th>svi_pctile</th>\n",
       "      <th>FIPS</th>\n",
       "      <th>ROUNDED_TRACTCE</th>\n",
       "      <th>ROUNDED_TRACT</th>\n",
       "      <th>TRACTCE_y</th>\n",
       "    </tr>\n",
       "    <tr>\n",
       "      <th>GEOID</th>\n",
       "      <th>year</th>\n",
       "      <th>quarter</th>\n",
       "      <th></th>\n",
       "      <th></th>\n",
       "      <th></th>\n",
       "      <th></th>\n",
       "      <th></th>\n",
       "      <th></th>\n",
       "      <th></th>\n",
       "      <th></th>\n",
       "      <th></th>\n",
       "      <th></th>\n",
       "      <th></th>\n",
       "      <th></th>\n",
       "      <th></th>\n",
       "      <th></th>\n",
       "      <th></th>\n",
       "      <th></th>\n",
       "      <th></th>\n",
       "      <th></th>\n",
       "      <th></th>\n",
       "      <th></th>\n",
       "      <th></th>\n",
       "    </tr>\n",
       "  </thead>\n",
       "  <tbody>\n",
       "    <tr>\n",
       "      <th rowspan=\"5\" valign=\"top\">25001010100</th>\n",
       "      <th rowspan=\"4\" valign=\"top\">2000</th>\n",
       "      <th>1</th>\n",
       "      <td>25</td>\n",
       "      <td>001</td>\n",
       "      <td>10100</td>\n",
       "      <td>101</td>\n",
       "      <td>Census Tract 101</td>\n",
       "      <td>G5020</td>\n",
       "      <td>S</td>\n",
       "      <td>25046216</td>\n",
       "      <td>12765872</td>\n",
       "      <td>+42.0598291</td>\n",
       "      <td>...</td>\n",
       "      <td>POLYGON ((-70.25001 42.06410, -70.24959 42.065...</td>\n",
       "      <td>0.7270</td>\n",
       "      <td>0.2972</td>\n",
       "      <td>0.5268</td>\n",
       "      <td>0.6872</td>\n",
       "      <td>0.6230</td>\n",
       "      <td>25001010100</td>\n",
       "      <td>NaN</td>\n",
       "      <td>NaN</td>\n",
       "      <td>NaN</td>\n",
       "    </tr>\n",
       "    <tr>\n",
       "      <th>2</th>\n",
       "      <td>25</td>\n",
       "      <td>001</td>\n",
       "      <td>10100</td>\n",
       "      <td>101</td>\n",
       "      <td>Census Tract 101</td>\n",
       "      <td>G5020</td>\n",
       "      <td>S</td>\n",
       "      <td>25046216</td>\n",
       "      <td>12765872</td>\n",
       "      <td>+42.0598291</td>\n",
       "      <td>...</td>\n",
       "      <td>POLYGON ((-70.25001 42.06410, -70.24959 42.065...</td>\n",
       "      <td>0.7270</td>\n",
       "      <td>0.2972</td>\n",
       "      <td>0.5268</td>\n",
       "      <td>0.6872</td>\n",
       "      <td>0.6230</td>\n",
       "      <td>25001010100</td>\n",
       "      <td>NaN</td>\n",
       "      <td>NaN</td>\n",
       "      <td>NaN</td>\n",
       "    </tr>\n",
       "    <tr>\n",
       "      <th>3</th>\n",
       "      <td>25</td>\n",
       "      <td>001</td>\n",
       "      <td>10100</td>\n",
       "      <td>101</td>\n",
       "      <td>Census Tract 101</td>\n",
       "      <td>G5020</td>\n",
       "      <td>S</td>\n",
       "      <td>25046216</td>\n",
       "      <td>12765872</td>\n",
       "      <td>+42.0598291</td>\n",
       "      <td>...</td>\n",
       "      <td>POLYGON ((-70.25001 42.06410, -70.24959 42.065...</td>\n",
       "      <td>0.7270</td>\n",
       "      <td>0.2972</td>\n",
       "      <td>0.5268</td>\n",
       "      <td>0.6872</td>\n",
       "      <td>0.6230</td>\n",
       "      <td>25001010100</td>\n",
       "      <td>NaN</td>\n",
       "      <td>NaN</td>\n",
       "      <td>NaN</td>\n",
       "    </tr>\n",
       "    <tr>\n",
       "      <th>4</th>\n",
       "      <td>25</td>\n",
       "      <td>001</td>\n",
       "      <td>10100</td>\n",
       "      <td>101</td>\n",
       "      <td>Census Tract 101</td>\n",
       "      <td>G5020</td>\n",
       "      <td>S</td>\n",
       "      <td>25046216</td>\n",
       "      <td>12765872</td>\n",
       "      <td>+42.0598291</td>\n",
       "      <td>...</td>\n",
       "      <td>POLYGON ((-70.25001 42.06410, -70.24959 42.065...</td>\n",
       "      <td>0.7270</td>\n",
       "      <td>0.2972</td>\n",
       "      <td>0.5268</td>\n",
       "      <td>0.6872</td>\n",
       "      <td>0.6230</td>\n",
       "      <td>25001010100</td>\n",
       "      <td>NaN</td>\n",
       "      <td>NaN</td>\n",
       "      <td>NaN</td>\n",
       "    </tr>\n",
       "    <tr>\n",
       "      <th>2001</th>\n",
       "      <th>1</th>\n",
       "      <td>25</td>\n",
       "      <td>001</td>\n",
       "      <td>10100</td>\n",
       "      <td>101</td>\n",
       "      <td>Census Tract 101</td>\n",
       "      <td>G5020</td>\n",
       "      <td>S</td>\n",
       "      <td>25046216</td>\n",
       "      <td>12765872</td>\n",
       "      <td>+42.0598291</td>\n",
       "      <td>...</td>\n",
       "      <td>POLYGON ((-70.25001 42.06410, -70.24959 42.065...</td>\n",
       "      <td>0.7270</td>\n",
       "      <td>0.2972</td>\n",
       "      <td>0.5268</td>\n",
       "      <td>0.6872</td>\n",
       "      <td>0.6230</td>\n",
       "      <td>25001010100</td>\n",
       "      <td>NaN</td>\n",
       "      <td>NaN</td>\n",
       "      <td>NaN</td>\n",
       "    </tr>\n",
       "    <tr>\n",
       "      <th>...</th>\n",
       "      <th>...</th>\n",
       "      <th>...</th>\n",
       "      <td>...</td>\n",
       "      <td>...</td>\n",
       "      <td>...</td>\n",
       "      <td>...</td>\n",
       "      <td>...</td>\n",
       "      <td>...</td>\n",
       "      <td>...</td>\n",
       "      <td>...</td>\n",
       "      <td>...</td>\n",
       "      <td>...</td>\n",
       "      <td>...</td>\n",
       "      <td>...</td>\n",
       "      <td>...</td>\n",
       "      <td>...</td>\n",
       "      <td>...</td>\n",
       "      <td>...</td>\n",
       "      <td>...</td>\n",
       "      <td>...</td>\n",
       "      <td>...</td>\n",
       "      <td>...</td>\n",
       "      <td>...</td>\n",
       "    </tr>\n",
       "    <tr>\n",
       "      <th rowspan=\"5\" valign=\"top\">25027761402</th>\n",
       "      <th>2020</th>\n",
       "      <th>4</th>\n",
       "      <td>25</td>\n",
       "      <td>027</td>\n",
       "      <td>761402</td>\n",
       "      <td>7614.02</td>\n",
       "      <td>Census Tract 7614.02</td>\n",
       "      <td>G5020</td>\n",
       "      <td>S</td>\n",
       "      <td>25568170</td>\n",
       "      <td>209089</td>\n",
       "      <td>+42.5313417</td>\n",
       "      <td>...</td>\n",
       "      <td>POLYGON ((-71.63921 42.53096, -71.63906 42.531...</td>\n",
       "      <td>0.2906</td>\n",
       "      <td>0.4124</td>\n",
       "      <td>0.3944</td>\n",
       "      <td>0.1598</td>\n",
       "      <td>0.2237</td>\n",
       "      <td>NaN</td>\n",
       "      <td>761400</td>\n",
       "      <td>761400</td>\n",
       "      <td>NaN</td>\n",
       "    </tr>\n",
       "    <tr>\n",
       "      <th rowspan=\"4\" valign=\"top\">2021</th>\n",
       "      <th>1</th>\n",
       "      <td>25</td>\n",
       "      <td>027</td>\n",
       "      <td>761402</td>\n",
       "      <td>7614.02</td>\n",
       "      <td>Census Tract 7614.02</td>\n",
       "      <td>G5020</td>\n",
       "      <td>S</td>\n",
       "      <td>25568170</td>\n",
       "      <td>209089</td>\n",
       "      <td>+42.5313417</td>\n",
       "      <td>...</td>\n",
       "      <td>POLYGON ((-71.63921 42.53096, -71.63906 42.531...</td>\n",
       "      <td>0.2906</td>\n",
       "      <td>0.4124</td>\n",
       "      <td>0.3944</td>\n",
       "      <td>0.1598</td>\n",
       "      <td>0.2237</td>\n",
       "      <td>NaN</td>\n",
       "      <td>761400</td>\n",
       "      <td>761400</td>\n",
       "      <td>NaN</td>\n",
       "    </tr>\n",
       "    <tr>\n",
       "      <th>2</th>\n",
       "      <td>25</td>\n",
       "      <td>027</td>\n",
       "      <td>761402</td>\n",
       "      <td>7614.02</td>\n",
       "      <td>Census Tract 7614.02</td>\n",
       "      <td>G5020</td>\n",
       "      <td>S</td>\n",
       "      <td>25568170</td>\n",
       "      <td>209089</td>\n",
       "      <td>+42.5313417</td>\n",
       "      <td>...</td>\n",
       "      <td>POLYGON ((-71.63921 42.53096, -71.63906 42.531...</td>\n",
       "      <td>0.2906</td>\n",
       "      <td>0.4124</td>\n",
       "      <td>0.3944</td>\n",
       "      <td>0.1598</td>\n",
       "      <td>0.2237</td>\n",
       "      <td>NaN</td>\n",
       "      <td>761400</td>\n",
       "      <td>761400</td>\n",
       "      <td>NaN</td>\n",
       "    </tr>\n",
       "    <tr>\n",
       "      <th>3</th>\n",
       "      <td>25</td>\n",
       "      <td>027</td>\n",
       "      <td>761402</td>\n",
       "      <td>7614.02</td>\n",
       "      <td>Census Tract 7614.02</td>\n",
       "      <td>G5020</td>\n",
       "      <td>S</td>\n",
       "      <td>25568170</td>\n",
       "      <td>209089</td>\n",
       "      <td>+42.5313417</td>\n",
       "      <td>...</td>\n",
       "      <td>POLYGON ((-71.63921 42.53096, -71.63906 42.531...</td>\n",
       "      <td>0.2906</td>\n",
       "      <td>0.4124</td>\n",
       "      <td>0.3944</td>\n",
       "      <td>0.1598</td>\n",
       "      <td>0.2237</td>\n",
       "      <td>NaN</td>\n",
       "      <td>761400</td>\n",
       "      <td>761400</td>\n",
       "      <td>NaN</td>\n",
       "    </tr>\n",
       "    <tr>\n",
       "      <th>4</th>\n",
       "      <td>25</td>\n",
       "      <td>027</td>\n",
       "      <td>761402</td>\n",
       "      <td>7614.02</td>\n",
       "      <td>Census Tract 7614.02</td>\n",
       "      <td>G5020</td>\n",
       "      <td>S</td>\n",
       "      <td>25568170</td>\n",
       "      <td>209089</td>\n",
       "      <td>+42.5313417</td>\n",
       "      <td>...</td>\n",
       "      <td>POLYGON ((-71.63921 42.53096, -71.63906 42.531...</td>\n",
       "      <td>0.2906</td>\n",
       "      <td>0.4124</td>\n",
       "      <td>0.3944</td>\n",
       "      <td>0.1598</td>\n",
       "      <td>0.2237</td>\n",
       "      <td>NaN</td>\n",
       "      <td>761400</td>\n",
       "      <td>761400</td>\n",
       "      <td>NaN</td>\n",
       "    </tr>\n",
       "  </tbody>\n",
       "</table>\n",
       "<p>142560 rows × 23 columns</p>\n",
       "</div>"
      ],
      "text/plain": [
       "                         STATEFP COUNTYFP TRACTCE     NAME  \\\n",
       "GEOID       year quarter                                     \n",
       "25001010100 2000 1            25      001   10100      101   \n",
       "                 2            25      001   10100      101   \n",
       "                 3            25      001   10100      101   \n",
       "                 4            25      001   10100      101   \n",
       "            2001 1            25      001   10100      101   \n",
       "...                          ...      ...     ...      ...   \n",
       "25027761402 2020 4            25      027  761402  7614.02   \n",
       "            2021 1            25      027  761402  7614.02   \n",
       "                 2            25      027  761402  7614.02   \n",
       "                 3            25      027  761402  7614.02   \n",
       "                 4            25      027  761402  7614.02   \n",
       "\n",
       "                                      NAMELSAD  MTFCC FUNCSTAT     ALAND  \\\n",
       "GEOID       year quarter                                                   \n",
       "25001010100 2000 1            Census Tract 101  G5020        S  25046216   \n",
       "                 2            Census Tract 101  G5020        S  25046216   \n",
       "                 3            Census Tract 101  G5020        S  25046216   \n",
       "                 4            Census Tract 101  G5020        S  25046216   \n",
       "            2001 1            Census Tract 101  G5020        S  25046216   \n",
       "...                                        ...    ...      ...       ...   \n",
       "25027761402 2020 4        Census Tract 7614.02  G5020        S  25568170   \n",
       "            2021 1        Census Tract 7614.02  G5020        S  25568170   \n",
       "                 2        Census Tract 7614.02  G5020        S  25568170   \n",
       "                 3        Census Tract 7614.02  G5020        S  25568170   \n",
       "                 4        Census Tract 7614.02  G5020        S  25568170   \n",
       "\n",
       "                            AWATER     INTPTLAT  ...  \\\n",
       "GEOID       year quarter                         ...   \n",
       "25001010100 2000 1        12765872  +42.0598291  ...   \n",
       "                 2        12765872  +42.0598291  ...   \n",
       "                 3        12765872  +42.0598291  ...   \n",
       "                 4        12765872  +42.0598291  ...   \n",
       "            2001 1        12765872  +42.0598291  ...   \n",
       "...                            ...          ...  ...   \n",
       "25027761402 2020 4          209089  +42.5313417  ...   \n",
       "            2021 1          209089  +42.5313417  ...   \n",
       "                 2          209089  +42.5313417  ...   \n",
       "                 3          209089  +42.5313417  ...   \n",
       "                 4          209089  +42.5313417  ...   \n",
       "\n",
       "                                                                   geometry  \\\n",
       "GEOID       year quarter                                                      \n",
       "25001010100 2000 1        POLYGON ((-70.25001 42.06410, -70.24959 42.065...   \n",
       "                 2        POLYGON ((-70.25001 42.06410, -70.24959 42.065...   \n",
       "                 3        POLYGON ((-70.25001 42.06410, -70.24959 42.065...   \n",
       "                 4        POLYGON ((-70.25001 42.06410, -70.24959 42.065...   \n",
       "            2001 1        POLYGON ((-70.25001 42.06410, -70.24959 42.065...   \n",
       "...                                                                     ...   \n",
       "25027761402 2020 4        POLYGON ((-71.63921 42.53096, -71.63906 42.531...   \n",
       "            2021 1        POLYGON ((-71.63921 42.53096, -71.63906 42.531...   \n",
       "                 2        POLYGON ((-71.63921 42.53096, -71.63906 42.531...   \n",
       "                 3        POLYGON ((-71.63921 42.53096, -71.63906 42.531...   \n",
       "                 4        POLYGON ((-71.63921 42.53096, -71.63906 42.531...   \n",
       "\n",
       "                          theme_1_pctile  theme_2_pctile theme_3_pctile  \\\n",
       "GEOID       year quarter                                                  \n",
       "25001010100 2000 1                0.7270          0.2972         0.5268   \n",
       "                 2                0.7270          0.2972         0.5268   \n",
       "                 3                0.7270          0.2972         0.5268   \n",
       "                 4                0.7270          0.2972         0.5268   \n",
       "            2001 1                0.7270          0.2972         0.5268   \n",
       "...                                  ...             ...            ...   \n",
       "25027761402 2020 4                0.2906          0.4124         0.3944   \n",
       "            2021 1                0.2906          0.4124         0.3944   \n",
       "                 2                0.2906          0.4124         0.3944   \n",
       "                 3                0.2906          0.4124         0.3944   \n",
       "                 4                0.2906          0.4124         0.3944   \n",
       "\n",
       "                          theme_4_pctile  svi_pctile         FIPS  \\\n",
       "GEOID       year quarter                                            \n",
       "25001010100 2000 1                0.6872      0.6230  25001010100   \n",
       "                 2                0.6872      0.6230  25001010100   \n",
       "                 3                0.6872      0.6230  25001010100   \n",
       "                 4                0.6872      0.6230  25001010100   \n",
       "            2001 1                0.6872      0.6230  25001010100   \n",
       "...                                  ...         ...          ...   \n",
       "25027761402 2020 4                0.1598      0.2237          NaN   \n",
       "            2021 1                0.1598      0.2237          NaN   \n",
       "                 2                0.1598      0.2237          NaN   \n",
       "                 3                0.1598      0.2237          NaN   \n",
       "                 4                0.1598      0.2237          NaN   \n",
       "\n",
       "                          ROUNDED_TRACTCE  ROUNDED_TRACT TRACTCE_y  \n",
       "GEOID       year quarter                                            \n",
       "25001010100 2000 1                    NaN            NaN       NaN  \n",
       "                 2                    NaN            NaN       NaN  \n",
       "                 3                    NaN            NaN       NaN  \n",
       "                 4                    NaN            NaN       NaN  \n",
       "            2001 1                    NaN            NaN       NaN  \n",
       "...                                   ...            ...       ...  \n",
       "25027761402 2020 4                 761400         761400       NaN  \n",
       "            2021 1                 761400         761400       NaN  \n",
       "                 2                 761400         761400       NaN  \n",
       "                 3                 761400         761400       NaN  \n",
       "                 4                 761400         761400       NaN  \n",
       "\n",
       "[142560 rows x 23 columns]"
      ]
     },
     "execution_count": 89,
     "metadata": {},
     "output_type": "execute_result"
    }
   ],
   "source": [
    "all_df.set_index(['GEOID','year','quarter']).sort_index()"
   ]
  },
  {
   "cell_type": "code",
   "execution_count": 79,
   "id": "1554bdf6",
   "metadata": {
    "scrolled": true
   },
   "outputs": [
    {
     "data": {
      "text/html": [
       "<div>\n",
       "<style scoped>\n",
       "    .dataframe tbody tr th:only-of-type {\n",
       "        vertical-align: middle;\n",
       "    }\n",
       "\n",
       "    .dataframe tbody tr th {\n",
       "        vertical-align: top;\n",
       "    }\n",
       "\n",
       "    .dataframe thead th {\n",
       "        text-align: right;\n",
       "    }\n",
       "</style>\n",
       "<table border=\"1\" class=\"dataframe\">\n",
       "  <thead>\n",
       "    <tr style=\"text-align: right;\">\n",
       "      <th></th>\n",
       "      <th></th>\n",
       "      <th></th>\n",
       "      <th>STATEFP</th>\n",
       "      <th>COUNTYFP</th>\n",
       "      <th>TRACTCE</th>\n",
       "      <th>NAME</th>\n",
       "      <th>NAMELSAD</th>\n",
       "      <th>MTFCC</th>\n",
       "      <th>FUNCSTAT</th>\n",
       "      <th>ALAND</th>\n",
       "      <th>AWATER</th>\n",
       "      <th>INTPTLAT</th>\n",
       "      <th>INTPTLON</th>\n",
       "      <th>tract</th>\n",
       "      <th>deaths</th>\n",
       "      <th>geometry</th>\n",
       "    </tr>\n",
       "    <tr>\n",
       "      <th>GEOID</th>\n",
       "      <th>year</th>\n",
       "      <th>quarter</th>\n",
       "      <th></th>\n",
       "      <th></th>\n",
       "      <th></th>\n",
       "      <th></th>\n",
       "      <th></th>\n",
       "      <th></th>\n",
       "      <th></th>\n",
       "      <th></th>\n",
       "      <th></th>\n",
       "      <th></th>\n",
       "      <th></th>\n",
       "      <th></th>\n",
       "      <th></th>\n",
       "      <th></th>\n",
       "    </tr>\n",
       "  </thead>\n",
       "  <tbody>\n",
       "    <tr>\n",
       "      <th>25025040600</th>\n",
       "      <th>2013</th>\n",
       "      <th>1</th>\n",
       "      <td>25</td>\n",
       "      <td>025</td>\n",
       "      <td>40600</td>\n",
       "      <td>406</td>\n",
       "      <td>Census Tract 406</td>\n",
       "      <td>G5020</td>\n",
       "      <td>S</td>\n",
       "      <td>1436234</td>\n",
       "      <td>413598</td>\n",
       "      <td>+42.3832248</td>\n",
       "      <td>-071.0698352</td>\n",
       "      <td>NaN</td>\n",
       "      <td>0.0</td>\n",
       "      <td>POLYGON ((-71.08097 42.38232, -71.08094 42.382...</td>\n",
       "    </tr>\n",
       "  </tbody>\n",
       "</table>\n",
       "</div>"
      ],
      "text/plain": [
       "                         STATEFP COUNTYFP TRACTCE NAME          NAMELSAD  \\\n",
       "GEOID       year quarter                                                   \n",
       "25025040600 2013 1            25      025   40600  406  Census Tract 406   \n",
       "\n",
       "                          MTFCC FUNCSTAT    ALAND  AWATER     INTPTLAT  \\\n",
       "GEOID       year quarter                                                 \n",
       "25025040600 2013 1        G5020        S  1436234  413598  +42.3832248   \n",
       "\n",
       "                              INTPTLON  tract  deaths  \\\n",
       "GEOID       year quarter                                \n",
       "25025040600 2013 1        -071.0698352    NaN     0.0   \n",
       "\n",
       "                                                                   geometry  \n",
       "GEOID       year quarter                                                     \n",
       "25025040600 2013 1        POLYGON ((-71.08097 42.38232, -71.08094 42.382...  "
      ]
     },
     "execution_count": 79,
     "metadata": {},
     "output_type": "execute_result"
    }
   ],
   "source": [
    "these_deaths.set_index(['GEOID','year','quarter']).sort_index().loc[pd.IndexSlice['25025040600',:,:],:]"
   ]
  },
  {
   "cell_type": "code",
   "execution_count": 73,
   "id": "f611633c",
   "metadata": {},
   "outputs": [
    {
     "data": {
      "text/html": [
       "<div>\n",
       "<style scoped>\n",
       "    .dataframe tbody tr th:only-of-type {\n",
       "        vertical-align: middle;\n",
       "    }\n",
       "\n",
       "    .dataframe tbody tr th {\n",
       "        vertical-align: top;\n",
       "    }\n",
       "\n",
       "    .dataframe thead th {\n",
       "        text-align: right;\n",
       "    }\n",
       "</style>\n",
       "<table border=\"1\" class=\"dataframe\">\n",
       "  <thead>\n",
       "    <tr style=\"text-align: right;\">\n",
       "      <th></th>\n",
       "      <th>STATEFP</th>\n",
       "      <th>COUNTYFP</th>\n",
       "      <th>TRACTCE</th>\n",
       "      <th>GEOID</th>\n",
       "      <th>NAME</th>\n",
       "      <th>NAMELSAD</th>\n",
       "      <th>MTFCC</th>\n",
       "      <th>FUNCSTAT</th>\n",
       "      <th>ALAND</th>\n",
       "      <th>AWATER</th>\n",
       "      <th>...</th>\n",
       "      <th>quarter</th>\n",
       "      <th>tract</th>\n",
       "      <th>deaths</th>\n",
       "      <th>geometry</th>\n",
       "      <th>theme_1_pctile</th>\n",
       "      <th>theme_2_pctile</th>\n",
       "      <th>theme_3_pctile</th>\n",
       "      <th>theme_4_pctile</th>\n",
       "      <th>svi_pctile</th>\n",
       "      <th>FIPS</th>\n",
       "    </tr>\n",
       "  </thead>\n",
       "  <tbody>\n",
       "    <tr>\n",
       "      <th>217</th>\n",
       "      <td>25</td>\n",
       "      <td>025</td>\n",
       "      <td>40600</td>\n",
       "      <td>25025040600</td>\n",
       "      <td>406</td>\n",
       "      <td>Census Tract 406</td>\n",
       "      <td>G5020</td>\n",
       "      <td>S</td>\n",
       "      <td>1436234</td>\n",
       "      <td>413598</td>\n",
       "      <td>...</td>\n",
       "      <td>4</td>\n",
       "      <td>NaN</td>\n",
       "      <td>0.0</td>\n",
       "      <td>POLYGON ((-71.08097 42.38232, -71.08094 42.382...</td>\n",
       "      <td>0.146</td>\n",
       "      <td>0.0588</td>\n",
       "      <td>0.4812</td>\n",
       "      <td>0.3325</td>\n",
       "      <td>0.172</td>\n",
       "      <td>25025040600</td>\n",
       "    </tr>\n",
       "    <tr>\n",
       "      <th>920</th>\n",
       "      <td>25</td>\n",
       "      <td>011</td>\n",
       "      <td>40600</td>\n",
       "      <td>25011040600</td>\n",
       "      <td>406</td>\n",
       "      <td>Census Tract 406</td>\n",
       "      <td>G5020</td>\n",
       "      <td>S</td>\n",
       "      <td>243617559</td>\n",
       "      <td>38074540</td>\n",
       "      <td>...</td>\n",
       "      <td>4</td>\n",
       "      <td>NaN</td>\n",
       "      <td>0.0</td>\n",
       "      <td>POLYGON ((-72.53466 42.45847, -72.53426 42.459...</td>\n",
       "      <td>0.568</td>\n",
       "      <td>0.2994</td>\n",
       "      <td>0.3097</td>\n",
       "      <td>0.3789</td>\n",
       "      <td>0.356</td>\n",
       "      <td>25011040600</td>\n",
       "    </tr>\n",
       "  </tbody>\n",
       "</table>\n",
       "<p>2 rows × 23 columns</p>\n",
       "</div>"
      ],
      "text/plain": [
       "    STATEFP COUNTYFP TRACTCE        GEOID NAME          NAMELSAD  MTFCC  \\\n",
       "217      25      025   40600  25025040600  406  Census Tract 406  G5020   \n",
       "920      25      011   40600  25011040600  406  Census Tract 406  G5020   \n",
       "\n",
       "    FUNCSTAT      ALAND    AWATER  ... quarter tract  deaths  \\\n",
       "217        S    1436234    413598  ...       4   NaN     0.0   \n",
       "920        S  243617559  38074540  ...       4   NaN     0.0   \n",
       "\n",
       "                                              geometry  theme_1_pctile  \\\n",
       "217  POLYGON ((-71.08097 42.38232, -71.08094 42.382...           0.146   \n",
       "920  POLYGON ((-72.53466 42.45847, -72.53426 42.459...           0.568   \n",
       "\n",
       "     theme_2_pctile theme_3_pctile  theme_4_pctile  svi_pctile         FIPS  \n",
       "217          0.0588         0.4812          0.3325       0.172  25025040600  \n",
       "920          0.2994         0.3097          0.3789       0.356  25011040600  \n",
       "\n",
       "[2 rows x 23 columns]"
      ]
     },
     "execution_count": 73,
     "metadata": {},
     "output_type": "execute_result"
    }
   ],
   "source": [
    "first_merged_df[first_merged_df['TRACTCE']=='40600']"
   ]
  },
  {
   "cell_type": "code",
   "execution_count": 85,
   "id": "23060845",
   "metadata": {},
   "outputs": [
    {
     "data": {
      "text/html": [
       "<div>\n",
       "<style scoped>\n",
       "    .dataframe tbody tr th:only-of-type {\n",
       "        vertical-align: middle;\n",
       "    }\n",
       "\n",
       "    .dataframe tbody tr th {\n",
       "        vertical-align: top;\n",
       "    }\n",
       "\n",
       "    .dataframe thead th {\n",
       "        text-align: right;\n",
       "    }\n",
       "</style>\n",
       "<table border=\"1\" class=\"dataframe\">\n",
       "  <thead>\n",
       "    <tr style=\"text-align: right;\">\n",
       "      <th></th>\n",
       "      <th>STATEFP</th>\n",
       "      <th>COUNTYFP</th>\n",
       "      <th>TRACTCE_x</th>\n",
       "      <th>GEOID</th>\n",
       "      <th>NAME</th>\n",
       "      <th>NAMELSAD</th>\n",
       "      <th>MTFCC</th>\n",
       "      <th>FUNCSTAT</th>\n",
       "      <th>ALAND</th>\n",
       "      <th>AWATER</th>\n",
       "      <th>INTPTLAT</th>\n",
       "      <th>INTPTLON</th>\n",
       "      <th>year</th>\n",
       "      <th>quarter</th>\n",
       "      <th>tract</th>\n",
       "      <th>deaths</th>\n",
       "      <th>geometry</th>\n",
       "      <th>TRACTCE_y</th>\n",
       "      <th>FIPS</th>\n",
       "    </tr>\n",
       "  </thead>\n",
       "  <tbody>\n",
       "    <tr>\n",
       "      <th>132</th>\n",
       "      <td>25</td>\n",
       "      <td>013</td>\n",
       "      <td>813001</td>\n",
       "      <td>25013813001</td>\n",
       "      <td>8130.01</td>\n",
       "      <td>Census Tract 8130.01</td>\n",
       "      <td>G5020</td>\n",
       "      <td>S</td>\n",
       "      <td>310046808</td>\n",
       "      <td>9613893</td>\n",
       "      <td>+42.1920235</td>\n",
       "      <td>-072.9640756</td>\n",
       "      <td>2013</td>\n",
       "      <td>1</td>\n",
       "      <td>NaN</td>\n",
       "      <td>0.0</td>\n",
       "      <td>POLYGON ((-73.07505 42.10557, -73.07505 42.105...</td>\n",
       "      <td>NaN</td>\n",
       "      <td>NaN</td>\n",
       "    </tr>\n",
       "    <tr>\n",
       "      <th>133</th>\n",
       "      <td>25</td>\n",
       "      <td>013</td>\n",
       "      <td>802101</td>\n",
       "      <td>25013802101</td>\n",
       "      <td>8021.01</td>\n",
       "      <td>Census Tract 8021.01</td>\n",
       "      <td>G5020</td>\n",
       "      <td>S</td>\n",
       "      <td>4713082</td>\n",
       "      <td>345811</td>\n",
       "      <td>+42.0793013</td>\n",
       "      <td>-072.5687935</td>\n",
       "      <td>2013</td>\n",
       "      <td>1</td>\n",
       "      <td>NaN</td>\n",
       "      <td>0.0</td>\n",
       "      <td>POLYGON ((-72.58935 42.07225, -72.58906 42.072...</td>\n",
       "      <td>NaN</td>\n",
       "      <td>NaN</td>\n",
       "    </tr>\n",
       "    <tr>\n",
       "      <th>134</th>\n",
       "      <td>25</td>\n",
       "      <td>013</td>\n",
       "      <td>813002</td>\n",
       "      <td>25013813002</td>\n",
       "      <td>8130.02</td>\n",
       "      <td>Census Tract 8130.02</td>\n",
       "      <td>G5020</td>\n",
       "      <td>S</td>\n",
       "      <td>193578178</td>\n",
       "      <td>3500767</td>\n",
       "      <td>+42.1311800</td>\n",
       "      <td>-072.8850695</td>\n",
       "      <td>2013</td>\n",
       "      <td>1</td>\n",
       "      <td>NaN</td>\n",
       "      <td>0.0</td>\n",
       "      <td>POLYGON ((-72.98191 42.13669, -72.98118 42.136...</td>\n",
       "      <td>NaN</td>\n",
       "      <td>NaN</td>\n",
       "    </tr>\n",
       "    <tr>\n",
       "      <th>135</th>\n",
       "      <td>25</td>\n",
       "      <td>021</td>\n",
       "      <td>422402</td>\n",
       "      <td>25021422402</td>\n",
       "      <td>4224.02</td>\n",
       "      <td>Census Tract 4224.02</td>\n",
       "      <td>G5020</td>\n",
       "      <td>S</td>\n",
       "      <td>1990100</td>\n",
       "      <td>13733</td>\n",
       "      <td>+42.2152188</td>\n",
       "      <td>-070.9635618</td>\n",
       "      <td>2013</td>\n",
       "      <td>1</td>\n",
       "      <td>NaN</td>\n",
       "      <td>0.0</td>\n",
       "      <td>POLYGON ((-70.97164 42.20039, -70.97133 42.202...</td>\n",
       "      <td>NaN</td>\n",
       "      <td>NaN</td>\n",
       "    </tr>\n",
       "    <tr>\n",
       "      <th>136</th>\n",
       "      <td>25</td>\n",
       "      <td>021</td>\n",
       "      <td>400201</td>\n",
       "      <td>25021400201</td>\n",
       "      <td>4002.01</td>\n",
       "      <td>Census Tract 4002.01</td>\n",
       "      <td>G5020</td>\n",
       "      <td>S</td>\n",
       "      <td>219587</td>\n",
       "      <td>0</td>\n",
       "      <td>+42.3438844</td>\n",
       "      <td>-071.1193879</td>\n",
       "      <td>2013</td>\n",
       "      <td>1</td>\n",
       "      <td>NaN</td>\n",
       "      <td>0.0</td>\n",
       "      <td>POLYGON ((-71.12257 42.34411, -71.12244 42.344...</td>\n",
       "      <td>NaN</td>\n",
       "      <td>NaN</td>\n",
       "    </tr>\n",
       "    <tr>\n",
       "      <th>...</th>\n",
       "      <td>...</td>\n",
       "      <td>...</td>\n",
       "      <td>...</td>\n",
       "      <td>...</td>\n",
       "      <td>...</td>\n",
       "      <td>...</td>\n",
       "      <td>...</td>\n",
       "      <td>...</td>\n",
       "      <td>...</td>\n",
       "      <td>...</td>\n",
       "      <td>...</td>\n",
       "      <td>...</td>\n",
       "      <td>...</td>\n",
       "      <td>...</td>\n",
       "      <td>...</td>\n",
       "      <td>...</td>\n",
       "      <td>...</td>\n",
       "      <td>...</td>\n",
       "      <td>...</td>\n",
       "    </tr>\n",
       "    <tr>\n",
       "      <th>1615</th>\n",
       "      <td>25</td>\n",
       "      <td>009</td>\n",
       "      <td>208302</td>\n",
       "      <td>25009208302</td>\n",
       "      <td>2083.02</td>\n",
       "      <td>Census Tract 2083.02</td>\n",
       "      <td>G5020</td>\n",
       "      <td>S</td>\n",
       "      <td>4199517</td>\n",
       "      <td>722531</td>\n",
       "      <td>+42.4850384</td>\n",
       "      <td>-071.0040806</td>\n",
       "      <td>2013</td>\n",
       "      <td>1</td>\n",
       "      <td>NaN</td>\n",
       "      <td>0.0</td>\n",
       "      <td>POLYGON ((-71.01723 42.48901, -71.01705 42.489...</td>\n",
       "      <td>NaN</td>\n",
       "      <td>NaN</td>\n",
       "    </tr>\n",
       "    <tr>\n",
       "      <th>1616</th>\n",
       "      <td>25</td>\n",
       "      <td>009</td>\n",
       "      <td>212101</td>\n",
       "      <td>25009212101</td>\n",
       "      <td>2121.01</td>\n",
       "      <td>Census Tract 2121.01</td>\n",
       "      <td>G5020</td>\n",
       "      <td>S</td>\n",
       "      <td>20571367</td>\n",
       "      <td>575025</td>\n",
       "      <td>+42.6136944</td>\n",
       "      <td>-071.0052311</td>\n",
       "      <td>2013</td>\n",
       "      <td>1</td>\n",
       "      <td>NaN</td>\n",
       "      <td>0.0</td>\n",
       "      <td>POLYGON ((-71.05565 42.62288, -71.05509 42.625...</td>\n",
       "      <td>NaN</td>\n",
       "      <td>NaN</td>\n",
       "    </tr>\n",
       "    <tr>\n",
       "      <th>1617</th>\n",
       "      <td>25</td>\n",
       "      <td>009</td>\n",
       "      <td>208401</td>\n",
       "      <td>25009208401</td>\n",
       "      <td>2084.01</td>\n",
       "      <td>Census Tract 2084.01</td>\n",
       "      <td>G5020</td>\n",
       "      <td>S</td>\n",
       "      <td>6530788</td>\n",
       "      <td>386401</td>\n",
       "      <td>+42.4876121</td>\n",
       "      <td>-071.0307634</td>\n",
       "      <td>2013</td>\n",
       "      <td>1</td>\n",
       "      <td>NaN</td>\n",
       "      <td>0.0</td>\n",
       "      <td>POLYGON ((-71.04695 42.48796, -71.04672 42.488...</td>\n",
       "      <td>NaN</td>\n",
       "      <td>NaN</td>\n",
       "    </tr>\n",
       "    <tr>\n",
       "      <th>1618</th>\n",
       "      <td>25</td>\n",
       "      <td>009</td>\n",
       "      <td>208402</td>\n",
       "      <td>25009208402</td>\n",
       "      <td>2084.02</td>\n",
       "      <td>Census Tract 2084.02</td>\n",
       "      <td>G5020</td>\n",
       "      <td>S</td>\n",
       "      <td>4410795</td>\n",
       "      <td>145126</td>\n",
       "      <td>+42.4662513</td>\n",
       "      <td>-071.0359714</td>\n",
       "      <td>2013</td>\n",
       "      <td>1</td>\n",
       "      <td>NaN</td>\n",
       "      <td>0.0</td>\n",
       "      <td>POLYGON ((-71.05389 42.47878, -71.05373 42.479...</td>\n",
       "      <td>NaN</td>\n",
       "      <td>NaN</td>\n",
       "    </tr>\n",
       "    <tr>\n",
       "      <th>1619</th>\n",
       "      <td>25</td>\n",
       "      <td>009</td>\n",
       "      <td>212102</td>\n",
       "      <td>25009212102</td>\n",
       "      <td>2121.02</td>\n",
       "      <td>Census Tract 2121.02</td>\n",
       "      <td>G5020</td>\n",
       "      <td>S</td>\n",
       "      <td>14256626</td>\n",
       "      <td>2121499</td>\n",
       "      <td>+42.6007185</td>\n",
       "      <td>-071.0308226</td>\n",
       "      <td>2013</td>\n",
       "      <td>1</td>\n",
       "      <td>NaN</td>\n",
       "      <td>0.0</td>\n",
       "      <td>POLYGON ((-71.05935 42.60633, -71.05916 42.607...</td>\n",
       "      <td>NaN</td>\n",
       "      <td>NaN</td>\n",
       "    </tr>\n",
       "  </tbody>\n",
       "</table>\n",
       "<p>297 rows × 19 columns</p>\n",
       "</div>"
      ],
      "text/plain": [
       "     STATEFP COUNTYFP TRACTCE_x        GEOID     NAME              NAMELSAD  \\\n",
       "132       25      013    813001  25013813001  8130.01  Census Tract 8130.01   \n",
       "133       25      013    802101  25013802101  8021.01  Census Tract 8021.01   \n",
       "134       25      013    813002  25013813002  8130.02  Census Tract 8130.02   \n",
       "135       25      021    422402  25021422402  4224.02  Census Tract 4224.02   \n",
       "136       25      021    400201  25021400201  4002.01  Census Tract 4002.01   \n",
       "...      ...      ...       ...          ...      ...                   ...   \n",
       "1615      25      009    208302  25009208302  2083.02  Census Tract 2083.02   \n",
       "1616      25      009    212101  25009212101  2121.01  Census Tract 2121.01   \n",
       "1617      25      009    208401  25009208401  2084.01  Census Tract 2084.01   \n",
       "1618      25      009    208402  25009208402  2084.02  Census Tract 2084.02   \n",
       "1619      25      009    212102  25009212102  2121.02  Census Tract 2121.02   \n",
       "\n",
       "      MTFCC FUNCSTAT      ALAND   AWATER     INTPTLAT      INTPTLON  year  \\\n",
       "132   G5020        S  310046808  9613893  +42.1920235  -072.9640756  2013   \n",
       "133   G5020        S    4713082   345811  +42.0793013  -072.5687935  2013   \n",
       "134   G5020        S  193578178  3500767  +42.1311800  -072.8850695  2013   \n",
       "135   G5020        S    1990100    13733  +42.2152188  -070.9635618  2013   \n",
       "136   G5020        S     219587        0  +42.3438844  -071.1193879  2013   \n",
       "...     ...      ...        ...      ...          ...           ...   ...   \n",
       "1615  G5020        S    4199517   722531  +42.4850384  -071.0040806  2013   \n",
       "1616  G5020        S   20571367   575025  +42.6136944  -071.0052311  2013   \n",
       "1617  G5020        S    6530788   386401  +42.4876121  -071.0307634  2013   \n",
       "1618  G5020        S    4410795   145126  +42.4662513  -071.0359714  2013   \n",
       "1619  G5020        S   14256626  2121499  +42.6007185  -071.0308226  2013   \n",
       "\n",
       "      quarter  tract  deaths  \\\n",
       "132         1    NaN     0.0   \n",
       "133         1    NaN     0.0   \n",
       "134         1    NaN     0.0   \n",
       "135         1    NaN     0.0   \n",
       "136         1    NaN     0.0   \n",
       "...       ...    ...     ...   \n",
       "1615        1    NaN     0.0   \n",
       "1616        1    NaN     0.0   \n",
       "1617        1    NaN     0.0   \n",
       "1618        1    NaN     0.0   \n",
       "1619        1    NaN     0.0   \n",
       "\n",
       "                                               geometry TRACTCE_y FIPS  \n",
       "132   POLYGON ((-73.07505 42.10557, -73.07505 42.105...       NaN  NaN  \n",
       "133   POLYGON ((-72.58935 42.07225, -72.58906 42.072...       NaN  NaN  \n",
       "134   POLYGON ((-72.98191 42.13669, -72.98118 42.136...       NaN  NaN  \n",
       "135   POLYGON ((-70.97164 42.20039, -70.97133 42.202...       NaN  NaN  \n",
       "136   POLYGON ((-71.12257 42.34411, -71.12244 42.344...       NaN  NaN  \n",
       "...                                                 ...       ...  ...  \n",
       "1615  POLYGON ((-71.01723 42.48901, -71.01705 42.489...       NaN  NaN  \n",
       "1616  POLYGON ((-71.05565 42.62288, -71.05509 42.625...       NaN  NaN  \n",
       "1617  POLYGON ((-71.04695 42.48796, -71.04672 42.488...       NaN  NaN  \n",
       "1618  POLYGON ((-71.05389 42.47878, -71.05373 42.479...       NaN  NaN  \n",
       "1619  POLYGON ((-71.05935 42.60633, -71.05916 42.607...       NaN  NaN  \n",
       "\n",
       "[297 rows x 19 columns]"
      ]
     },
     "execution_count": 85,
     "metadata": {},
     "output_type": "execute_result"
    }
   ],
   "source": [
    "unmerged_df"
   ]
  },
  {
   "cell_type": "code",
   "execution_count": 65,
   "id": "ffb6b018",
   "metadata": {},
   "outputs": [
    {
     "data": {
      "text/html": [
       "<div>\n",
       "<style scoped>\n",
       "    .dataframe tbody tr th:only-of-type {\n",
       "        vertical-align: middle;\n",
       "    }\n",
       "\n",
       "    .dataframe tbody tr th {\n",
       "        vertical-align: top;\n",
       "    }\n",
       "\n",
       "    .dataframe thead th {\n",
       "        text-align: right;\n",
       "    }\n",
       "</style>\n",
       "<table border=\"1\" class=\"dataframe\">\n",
       "  <thead>\n",
       "    <tr style=\"text-align: right;\">\n",
       "      <th></th>\n",
       "      <th>STATEFP</th>\n",
       "      <th>COUNTYFP</th>\n",
       "      <th>TRACTCE</th>\n",
       "      <th>GEOID</th>\n",
       "      <th>NAME</th>\n",
       "      <th>NAMELSAD</th>\n",
       "      <th>MTFCC</th>\n",
       "      <th>FUNCSTAT</th>\n",
       "      <th>ALAND</th>\n",
       "      <th>AWATER</th>\n",
       "      <th>INTPTLAT</th>\n",
       "      <th>INTPTLON</th>\n",
       "      <th>year</th>\n",
       "      <th>quarter</th>\n",
       "      <th>tract</th>\n",
       "      <th>deaths</th>\n",
       "      <th>geometry</th>\n",
       "    </tr>\n",
       "  </thead>\n",
       "  <tbody>\n",
       "    <tr>\n",
       "      <th>12260</th>\n",
       "      <td>25</td>\n",
       "      <td>011</td>\n",
       "      <td>40600</td>\n",
       "      <td>25011040600</td>\n",
       "      <td>406</td>\n",
       "      <td>Census Tract 406</td>\n",
       "      <td>G5020</td>\n",
       "      <td>S</td>\n",
       "      <td>243617559</td>\n",
       "      <td>38074540</td>\n",
       "      <td>+42.4603034</td>\n",
       "      <td>-072.3843581</td>\n",
       "      <td>2001</td>\n",
       "      <td>4</td>\n",
       "      <td>NaN</td>\n",
       "      <td>0.0</td>\n",
       "      <td>POLYGON ((-72.53466 42.45847, -72.53426 42.459...</td>\n",
       "    </tr>\n",
       "  </tbody>\n",
       "</table>\n",
       "</div>"
      ],
      "text/plain": [
       "      STATEFP COUNTYFP TRACTCE        GEOID NAME          NAMELSAD  MTFCC  \\\n",
       "12260      25      011   40600  25011040600  406  Census Tract 406  G5020   \n",
       "\n",
       "      FUNCSTAT      ALAND    AWATER     INTPTLAT      INTPTLON  year  quarter  \\\n",
       "12260        S  243617559  38074540  +42.4603034  -072.3843581  2001        4   \n",
       "\n",
       "       tract  deaths                                           geometry  \n",
       "12260    NaN     0.0  POLYGON ((-72.53466 42.45847, -72.53426 42.459...  "
      ]
     },
     "execution_count": 65,
     "metadata": {},
     "output_type": "execute_result"
    }
   ],
   "source": [
    "these_deaths[these_deaths['GEOID']=='25011040600']"
   ]
  },
  {
   "cell_type": "code",
   "execution_count": 80,
   "id": "f824d212",
   "metadata": {},
   "outputs": [
    {
     "data": {
      "text/html": [
       "<div>\n",
       "<style scoped>\n",
       "    .dataframe tbody tr th:only-of-type {\n",
       "        vertical-align: middle;\n",
       "    }\n",
       "\n",
       "    .dataframe tbody tr th {\n",
       "        vertical-align: top;\n",
       "    }\n",
       "\n",
       "    .dataframe thead th {\n",
       "        text-align: right;\n",
       "    }\n",
       "</style>\n",
       "<table border=\"1\" class=\"dataframe\">\n",
       "  <thead>\n",
       "    <tr style=\"text-align: right;\">\n",
       "      <th></th>\n",
       "      <th>STATEFP</th>\n",
       "      <th>COUNTYFP</th>\n",
       "      <th>TRACTCE_x</th>\n",
       "      <th>GEOID</th>\n",
       "      <th>NAME</th>\n",
       "      <th>NAMELSAD</th>\n",
       "      <th>MTFCC</th>\n",
       "      <th>FUNCSTAT</th>\n",
       "      <th>ALAND</th>\n",
       "      <th>AWATER</th>\n",
       "      <th>INTPTLAT</th>\n",
       "      <th>INTPTLON</th>\n",
       "      <th>year</th>\n",
       "      <th>quarter</th>\n",
       "      <th>tract</th>\n",
       "      <th>deaths</th>\n",
       "      <th>geometry</th>\n",
       "      <th>TRACTCE_y</th>\n",
       "      <th>FIPS</th>\n",
       "    </tr>\n",
       "  </thead>\n",
       "  <tbody>\n",
       "    <tr>\n",
       "      <th>132</th>\n",
       "      <td>25</td>\n",
       "      <td>013</td>\n",
       "      <td>813001</td>\n",
       "      <td>25013813001</td>\n",
       "      <td>8130.01</td>\n",
       "      <td>Census Tract 8130.01</td>\n",
       "      <td>G5020</td>\n",
       "      <td>S</td>\n",
       "      <td>310046808</td>\n",
       "      <td>9613893</td>\n",
       "      <td>+42.1920235</td>\n",
       "      <td>-072.9640756</td>\n",
       "      <td>2013</td>\n",
       "      <td>1</td>\n",
       "      <td>NaN</td>\n",
       "      <td>0.0</td>\n",
       "      <td>POLYGON ((-73.07505 42.10557, -73.07505 42.105...</td>\n",
       "      <td>NaN</td>\n",
       "      <td>NaN</td>\n",
       "    </tr>\n",
       "    <tr>\n",
       "      <th>133</th>\n",
       "      <td>25</td>\n",
       "      <td>013</td>\n",
       "      <td>802101</td>\n",
       "      <td>25013802101</td>\n",
       "      <td>8021.01</td>\n",
       "      <td>Census Tract 8021.01</td>\n",
       "      <td>G5020</td>\n",
       "      <td>S</td>\n",
       "      <td>4713082</td>\n",
       "      <td>345811</td>\n",
       "      <td>+42.0793013</td>\n",
       "      <td>-072.5687935</td>\n",
       "      <td>2013</td>\n",
       "      <td>1</td>\n",
       "      <td>NaN</td>\n",
       "      <td>0.0</td>\n",
       "      <td>POLYGON ((-72.58935 42.07225, -72.58906 42.072...</td>\n",
       "      <td>NaN</td>\n",
       "      <td>NaN</td>\n",
       "    </tr>\n",
       "    <tr>\n",
       "      <th>134</th>\n",
       "      <td>25</td>\n",
       "      <td>013</td>\n",
       "      <td>813002</td>\n",
       "      <td>25013813002</td>\n",
       "      <td>8130.02</td>\n",
       "      <td>Census Tract 8130.02</td>\n",
       "      <td>G5020</td>\n",
       "      <td>S</td>\n",
       "      <td>193578178</td>\n",
       "      <td>3500767</td>\n",
       "      <td>+42.1311800</td>\n",
       "      <td>-072.8850695</td>\n",
       "      <td>2013</td>\n",
       "      <td>1</td>\n",
       "      <td>NaN</td>\n",
       "      <td>0.0</td>\n",
       "      <td>POLYGON ((-72.98191 42.13669, -72.98118 42.136...</td>\n",
       "      <td>NaN</td>\n",
       "      <td>NaN</td>\n",
       "    </tr>\n",
       "    <tr>\n",
       "      <th>135</th>\n",
       "      <td>25</td>\n",
       "      <td>021</td>\n",
       "      <td>422402</td>\n",
       "      <td>25021422402</td>\n",
       "      <td>4224.02</td>\n",
       "      <td>Census Tract 4224.02</td>\n",
       "      <td>G5020</td>\n",
       "      <td>S</td>\n",
       "      <td>1990100</td>\n",
       "      <td>13733</td>\n",
       "      <td>+42.2152188</td>\n",
       "      <td>-070.9635618</td>\n",
       "      <td>2013</td>\n",
       "      <td>1</td>\n",
       "      <td>NaN</td>\n",
       "      <td>0.0</td>\n",
       "      <td>POLYGON ((-70.97164 42.20039, -70.97133 42.202...</td>\n",
       "      <td>NaN</td>\n",
       "      <td>NaN</td>\n",
       "    </tr>\n",
       "    <tr>\n",
       "      <th>136</th>\n",
       "      <td>25</td>\n",
       "      <td>021</td>\n",
       "      <td>400201</td>\n",
       "      <td>25021400201</td>\n",
       "      <td>4002.01</td>\n",
       "      <td>Census Tract 4002.01</td>\n",
       "      <td>G5020</td>\n",
       "      <td>S</td>\n",
       "      <td>219587</td>\n",
       "      <td>0</td>\n",
       "      <td>+42.3438844</td>\n",
       "      <td>-071.1193879</td>\n",
       "      <td>2013</td>\n",
       "      <td>1</td>\n",
       "      <td>NaN</td>\n",
       "      <td>0.0</td>\n",
       "      <td>POLYGON ((-71.12257 42.34411, -71.12244 42.344...</td>\n",
       "      <td>NaN</td>\n",
       "      <td>NaN</td>\n",
       "    </tr>\n",
       "    <tr>\n",
       "      <th>...</th>\n",
       "      <td>...</td>\n",
       "      <td>...</td>\n",
       "      <td>...</td>\n",
       "      <td>...</td>\n",
       "      <td>...</td>\n",
       "      <td>...</td>\n",
       "      <td>...</td>\n",
       "      <td>...</td>\n",
       "      <td>...</td>\n",
       "      <td>...</td>\n",
       "      <td>...</td>\n",
       "      <td>...</td>\n",
       "      <td>...</td>\n",
       "      <td>...</td>\n",
       "      <td>...</td>\n",
       "      <td>...</td>\n",
       "      <td>...</td>\n",
       "      <td>...</td>\n",
       "      <td>...</td>\n",
       "    </tr>\n",
       "    <tr>\n",
       "      <th>1615</th>\n",
       "      <td>25</td>\n",
       "      <td>009</td>\n",
       "      <td>208302</td>\n",
       "      <td>25009208302</td>\n",
       "      <td>2083.02</td>\n",
       "      <td>Census Tract 2083.02</td>\n",
       "      <td>G5020</td>\n",
       "      <td>S</td>\n",
       "      <td>4199517</td>\n",
       "      <td>722531</td>\n",
       "      <td>+42.4850384</td>\n",
       "      <td>-071.0040806</td>\n",
       "      <td>2013</td>\n",
       "      <td>1</td>\n",
       "      <td>NaN</td>\n",
       "      <td>0.0</td>\n",
       "      <td>POLYGON ((-71.01723 42.48901, -71.01705 42.489...</td>\n",
       "      <td>NaN</td>\n",
       "      <td>NaN</td>\n",
       "    </tr>\n",
       "    <tr>\n",
       "      <th>1616</th>\n",
       "      <td>25</td>\n",
       "      <td>009</td>\n",
       "      <td>212101</td>\n",
       "      <td>25009212101</td>\n",
       "      <td>2121.01</td>\n",
       "      <td>Census Tract 2121.01</td>\n",
       "      <td>G5020</td>\n",
       "      <td>S</td>\n",
       "      <td>20571367</td>\n",
       "      <td>575025</td>\n",
       "      <td>+42.6136944</td>\n",
       "      <td>-071.0052311</td>\n",
       "      <td>2013</td>\n",
       "      <td>1</td>\n",
       "      <td>NaN</td>\n",
       "      <td>0.0</td>\n",
       "      <td>POLYGON ((-71.05565 42.62288, -71.05509 42.625...</td>\n",
       "      <td>NaN</td>\n",
       "      <td>NaN</td>\n",
       "    </tr>\n",
       "    <tr>\n",
       "      <th>1617</th>\n",
       "      <td>25</td>\n",
       "      <td>009</td>\n",
       "      <td>208401</td>\n",
       "      <td>25009208401</td>\n",
       "      <td>2084.01</td>\n",
       "      <td>Census Tract 2084.01</td>\n",
       "      <td>G5020</td>\n",
       "      <td>S</td>\n",
       "      <td>6530788</td>\n",
       "      <td>386401</td>\n",
       "      <td>+42.4876121</td>\n",
       "      <td>-071.0307634</td>\n",
       "      <td>2013</td>\n",
       "      <td>1</td>\n",
       "      <td>NaN</td>\n",
       "      <td>0.0</td>\n",
       "      <td>POLYGON ((-71.04695 42.48796, -71.04672 42.488...</td>\n",
       "      <td>NaN</td>\n",
       "      <td>NaN</td>\n",
       "    </tr>\n",
       "    <tr>\n",
       "      <th>1618</th>\n",
       "      <td>25</td>\n",
       "      <td>009</td>\n",
       "      <td>208402</td>\n",
       "      <td>25009208402</td>\n",
       "      <td>2084.02</td>\n",
       "      <td>Census Tract 2084.02</td>\n",
       "      <td>G5020</td>\n",
       "      <td>S</td>\n",
       "      <td>4410795</td>\n",
       "      <td>145126</td>\n",
       "      <td>+42.4662513</td>\n",
       "      <td>-071.0359714</td>\n",
       "      <td>2013</td>\n",
       "      <td>1</td>\n",
       "      <td>NaN</td>\n",
       "      <td>0.0</td>\n",
       "      <td>POLYGON ((-71.05389 42.47878, -71.05373 42.479...</td>\n",
       "      <td>NaN</td>\n",
       "      <td>NaN</td>\n",
       "    </tr>\n",
       "    <tr>\n",
       "      <th>1619</th>\n",
       "      <td>25</td>\n",
       "      <td>009</td>\n",
       "      <td>212102</td>\n",
       "      <td>25009212102</td>\n",
       "      <td>2121.02</td>\n",
       "      <td>Census Tract 2121.02</td>\n",
       "      <td>G5020</td>\n",
       "      <td>S</td>\n",
       "      <td>14256626</td>\n",
       "      <td>2121499</td>\n",
       "      <td>+42.6007185</td>\n",
       "      <td>-071.0308226</td>\n",
       "      <td>2013</td>\n",
       "      <td>1</td>\n",
       "      <td>NaN</td>\n",
       "      <td>0.0</td>\n",
       "      <td>POLYGON ((-71.05935 42.60633, -71.05916 42.607...</td>\n",
       "      <td>NaN</td>\n",
       "      <td>NaN</td>\n",
       "    </tr>\n",
       "  </tbody>\n",
       "</table>\n",
       "<p>297 rows × 19 columns</p>\n",
       "</div>"
      ],
      "text/plain": [
       "     STATEFP COUNTYFP TRACTCE_x        GEOID     NAME              NAMELSAD  \\\n",
       "132       25      013    813001  25013813001  8130.01  Census Tract 8130.01   \n",
       "133       25      013    802101  25013802101  8021.01  Census Tract 8021.01   \n",
       "134       25      013    813002  25013813002  8130.02  Census Tract 8130.02   \n",
       "135       25      021    422402  25021422402  4224.02  Census Tract 4224.02   \n",
       "136       25      021    400201  25021400201  4002.01  Census Tract 4002.01   \n",
       "...      ...      ...       ...          ...      ...                   ...   \n",
       "1615      25      009    208302  25009208302  2083.02  Census Tract 2083.02   \n",
       "1616      25      009    212101  25009212101  2121.01  Census Tract 2121.01   \n",
       "1617      25      009    208401  25009208401  2084.01  Census Tract 2084.01   \n",
       "1618      25      009    208402  25009208402  2084.02  Census Tract 2084.02   \n",
       "1619      25      009    212102  25009212102  2121.02  Census Tract 2121.02   \n",
       "\n",
       "      MTFCC FUNCSTAT      ALAND   AWATER     INTPTLAT      INTPTLON  year  \\\n",
       "132   G5020        S  310046808  9613893  +42.1920235  -072.9640756  2013   \n",
       "133   G5020        S    4713082   345811  +42.0793013  -072.5687935  2013   \n",
       "134   G5020        S  193578178  3500767  +42.1311800  -072.8850695  2013   \n",
       "135   G5020        S    1990100    13733  +42.2152188  -070.9635618  2013   \n",
       "136   G5020        S     219587        0  +42.3438844  -071.1193879  2013   \n",
       "...     ...      ...        ...      ...          ...           ...   ...   \n",
       "1615  G5020        S    4199517   722531  +42.4850384  -071.0040806  2013   \n",
       "1616  G5020        S   20571367   575025  +42.6136944  -071.0052311  2013   \n",
       "1617  G5020        S    6530788   386401  +42.4876121  -071.0307634  2013   \n",
       "1618  G5020        S    4410795   145126  +42.4662513  -071.0359714  2013   \n",
       "1619  G5020        S   14256626  2121499  +42.6007185  -071.0308226  2013   \n",
       "\n",
       "      quarter  tract  deaths  \\\n",
       "132         1    NaN     0.0   \n",
       "133         1    NaN     0.0   \n",
       "134         1    NaN     0.0   \n",
       "135         1    NaN     0.0   \n",
       "136         1    NaN     0.0   \n",
       "...       ...    ...     ...   \n",
       "1615        1    NaN     0.0   \n",
       "1616        1    NaN     0.0   \n",
       "1617        1    NaN     0.0   \n",
       "1618        1    NaN     0.0   \n",
       "1619        1    NaN     0.0   \n",
       "\n",
       "                                               geometry TRACTCE_y FIPS  \n",
       "132   POLYGON ((-73.07505 42.10557, -73.07505 42.105...       NaN  NaN  \n",
       "133   POLYGON ((-72.58935 42.07225, -72.58906 42.072...       NaN  NaN  \n",
       "134   POLYGON ((-72.98191 42.13669, -72.98118 42.136...       NaN  NaN  \n",
       "135   POLYGON ((-70.97164 42.20039, -70.97133 42.202...       NaN  NaN  \n",
       "136   POLYGON ((-71.12257 42.34411, -71.12244 42.344...       NaN  NaN  \n",
       "...                                                 ...       ...  ...  \n",
       "1615  POLYGON ((-71.01723 42.48901, -71.01705 42.489...       NaN  NaN  \n",
       "1616  POLYGON ((-71.05565 42.62288, -71.05509 42.625...       NaN  NaN  \n",
       "1617  POLYGON ((-71.04695 42.48796, -71.04672 42.488...       NaN  NaN  \n",
       "1618  POLYGON ((-71.05389 42.47878, -71.05373 42.479...       NaN  NaN  \n",
       "1619  POLYGON ((-71.05935 42.60633, -71.05916 42.607...       NaN  NaN  \n",
       "\n",
       "[297 rows x 19 columns]"
      ]
     },
     "execution_count": 80,
     "metadata": {},
     "output_type": "execute_result"
    }
   ],
   "source": [
    "unmerged_df"
   ]
  },
  {
   "cell_type": "code",
   "execution_count": null,
   "id": "5001dcdc",
   "metadata": {},
   "outputs": [],
   "source": []
  }
 ],
 "metadata": {
  "kernelspec": {
   "display_name": "Python 3 (ipykernel)",
   "language": "python",
   "name": "python3"
  },
  "language_info": {
   "codemirror_mode": {
    "name": "ipython",
    "version": 3
   },
   "file_extension": ".py",
   "mimetype": "text/x-python",
   "name": "python",
   "nbconvert_exporter": "python",
   "pygments_lexer": "ipython3",
   "version": "3.9.13"
  }
 },
 "nbformat": 4,
 "nbformat_minor": 5
}
