{
 "cells": [
  {
   "cell_type": "code",
   "execution_count": 53,
   "id": "41db3b0f",
   "metadata": {},
   "outputs": [],
   "source": [
    "import geopandas as gpd\n",
    "\n",
    "import numpy as np\n",
    "import pandas as pd\n",
    "from pandas import IndexSlice as idx\n",
    "import tensorflow as tf\n",
    "import sys\n",
    "import os\n",
    "import glob\n",
    "\n",
    "from functools import partial\n",
    "\n",
    "\n",
    "\n",
    "code_dir = '/cluster/home/kheuto01/code/opioid-overdose-models/perturbations/'\n",
    "sys.path.append(code_dir)\n",
    "code_dir = '/cluster/home/kheuto01/code/opioid-overdose-models/diff_bpr'\n",
    "sys.path.append(code_dir)\n",
    "from top_k import top_k_idx\n",
    "#from make_datasets import make_data\n",
    "from bpr_model import PerturbedBPRLinearModel, PerturbedBPRMLPModel\n",
    "from make_datasets import make_data\n",
    "\n",
    "\n",
    "code_dir = '/cluster/home/kheuto01/code/opioid-overdose-models/'\n",
    "sys.path.append(code_dir)\n",
    "from zinf_gp.metrics import normcdf, fixed_top_X\n",
    "\n",
    "\n",
    "\n",
    "from perturbations import perturbed\n",
    "from bpr import bpr_variable_k_no_ties\n",
    "\n",
    "import sklearn\n",
    "from sklearn.linear_model import LinearRegression\n",
    "from sklearn.neural_network import MLPRegressor\n",
    "from bpr import bpr_variable_k_no_ties\n",
    "from sklearn.ensemble import HistGradientBoostingRegressor"
   ]
  },
  {
   "cell_type": "code",
   "execution_count": 41,
   "id": "0fd7d151",
   "metadata": {},
   "outputs": [],
   "source": [
    "data_path='/cluster/tufts/hugheslab/datasets/NSF_OD/results_20220606_update/clean_annual_tract/'\n",
    "seed = 360\n",
    "lookback_years=5\n",
    "learning_rate=0.01\n",
    "add_spacetime=True\n",
    "add_svi=True\n",
    "\n",
    "time_window = lookback_years\n",
    "timesteps_per_year = 1\n",
    "first_train_eval_year = 2013\n",
    "last_train_eval_year = 2017\n",
    "batch_dim_size = (last_train_eval_year - first_train_eval_year + 1)*timesteps_per_year\n",
    "validation_year = 2018\n",
    "first_test_year = 2019\n",
    "last_test_year = 2020\n",
    "\n",
    "\n",
    "tf.random.set_seed(seed)\n",
    "\n",
    "\n",
    "timestep_col = 'timestep'\n",
    "geography_col = 'geoid'\n",
    "outcome_col = 'deaths'\n",
    "\n",
    "x_idx_cols = [geography_col, 'lat', 'lon', timestep_col,\n",
    "              'theme_1_pc', 'theme_2_pc', 'theme_3_pc', 'theme_4_pc',\n",
    "              'svi_pctile', 'year',\n",
    "              'neighbor_t', 'deaths']\n",
    "y_idx_cols = [geography_col, timestep_col, outcome_col]\n",
    "features_only = ['deaths']\n",
    "\n",
    "if add_spacetime:\n",
    "    features_only += ['lat', 'lon', timestep_col]\n",
    "if add_svi:\n",
    "    features_only += ['theme_1_pc', 'theme_2_pc', 'theme_3_pc', 'theme_4_pc', 'svi_pctile']\n",
    "\n",
    "\n",
    "#data_gdf = gpd.read_file(data_path)\n",
    "\n",
    "multiindexed_gdf = data_gdf.set_index(['geoid', 'timestep'])\n",
    "multiindexed_gdf['timestep'] = multiindexed_gdf.index.get_level_values('timestep')\n",
    "num_geoids = len(data_gdf['geoid'].unique())\n",
    "\n",
    "train_shape = (num_geoids, time_window, len(features_only))\n",
    "\n",
    "train_x_BSF_flat, train_y_BS = make_data(multiindexed_gdf, first_train_eval_year, last_train_eval_year,\n",
    "                                                  time_window, features_only, train_shape, pred_lag=timesteps_per_year)\n",
    "\n",
    "valid_x_BSF_flat, valid_y_BS = make_data(multiindexed_gdf, validation_year, validation_year,\n",
    "                                         time_window, features_only, train_shape, pred_lag=timesteps_per_year)\n",
    "\n",
    "test_x_BSF_flat, test_y_BS = make_data(multiindexed_gdf, first_test_year, last_test_year,\n",
    "                                       time_window, features_only, train_shape, pred_lag=timesteps_per_year)\n",
    "\n",
    "norm_layer = tf.keras.layers.Normalization()\n",
    "norm_layer.adapt(train_x_BSF_flat)\n",
    "train_x_BSF_flat = norm_layer(train_x_BSF_flat)\n",
    "valid_x_BSF_flat = norm_layer(valid_x_BSF_flat)\n",
    "test_x_BSF_flat = norm_layer(test_x_BSF_flat)\n",
    "\n",
    "top_100_idx_func = partial(top_k_idx, k=100)\n",
    "from zinf_gp.metrics import normcdf, fixed_top_X"
   ]
  },
  {
   "cell_type": "code",
   "execution_count": 42,
   "id": "8b2793d7",
   "metadata": {},
   "outputs": [],
   "source": [
    "linear_poisson = sklearn.linear_model.PoissonRegressor()"
   ]
  },
  {
   "cell_type": "code",
   "execution_count": 43,
   "id": "2147b0f5",
   "metadata": {},
   "outputs": [
    {
     "data": {
      "text/plain": [
       "['deaths',\n",
       " 'lat',\n",
       " 'lon',\n",
       " 'timestep',\n",
       " 'theme_1_pc',\n",
       " 'theme_2_pc',\n",
       " 'theme_3_pc',\n",
       " 'theme_4_pc',\n",
       " 'svi_pctile']"
      ]
     },
     "execution_count": 43,
     "metadata": {},
     "output_type": "execute_result"
    }
   ],
   "source": [
    "features_only"
   ]
  },
  {
   "cell_type": "code",
   "execution_count": 44,
   "id": "050b439a",
   "metadata": {},
   "outputs": [],
   "source": [
    "train_x_long = tf.reshape(train_x_BSF_flat,((lookback_years*1620),lookback_years*len(features_only)))\n",
    "train_y_long = tf.reshape(train_y_BS,(lookback_years*1620,1))"
   ]
  },
  {
   "cell_type": "code",
   "execution_count": 45,
   "id": "7c2f6fda",
   "metadata": {},
   "outputs": [],
   "source": [
    "reg = linear_poisson.fit(train_x_long, tf.squeeze(train_y_long))"
   ]
  },
  {
   "cell_type": "code",
   "execution_count": 46,
   "id": "bc70c213",
   "metadata": {},
   "outputs": [
    {
     "data": {
      "text/plain": [
       "<tf.Tensor: shape=(), dtype=float32, numpy=0.58760685>"
      ]
     },
     "execution_count": 46,
     "metadata": {},
     "output_type": "execute_result"
    }
   ],
   "source": [
    "pred_linear_2019 = reg.predict(test_x_BSF_flat[0])\n",
    "bpr_variable_k_no_ties(test_y_BS[0], pred_linear_2019,k=100)"
   ]
  },
  {
   "cell_type": "code",
   "execution_count": 47,
   "id": "2779cf14",
   "metadata": {},
   "outputs": [
    {
     "data": {
      "text/plain": [
       "<tf.Tensor: shape=(), dtype=float32, numpy=0.61723447>"
      ]
     },
     "execution_count": 47,
     "metadata": {},
     "output_type": "execute_result"
    }
   ],
   "source": [
    "pred_linear_2020 = reg.predict(test_x_BSF_flat[1])\n",
    "bpr_variable_k_no_ties(test_y_BS[1], pred_linear_2020,k=100)"
   ]
  },
  {
   "cell_type": "code",
   "execution_count": 48,
   "id": "0b375a9f",
   "metadata": {},
   "outputs": [],
   "source": [
    "true_deaths = multiindexed_gdf.loc[idx[:,18],:].drop(columns='timestep').reset_index().set_index('geoid')['deaths']\n",
    "deaths_index = true_deaths.index.values"
   ]
  },
  {
   "cell_type": "code",
   "execution_count": 49,
   "id": "7a2f5920",
   "metadata": {},
   "outputs": [],
   "source": [
    "\n",
    "this_2019 = multiindexed_gdf.loc[idx[:,19],:].drop(columns='timestep').reset_index().set_index('geoid')['deaths']\n",
    "this_2020 = multiindexed_gdf.loc[idx[:,20],:].drop(columns='timestep').reset_index().set_index('geoid')['deaths']"
   ]
  },
  {
   "cell_type": "code",
   "execution_count": 50,
   "id": "dc040507",
   "metadata": {},
   "outputs": [
    {
     "name": "stdout",
     "output_type": "stream",
     "text": [
      "CPU times: user 58.2 s, sys: 142 ms, total: 58.4 s\n",
      "Wall time: 58.2 s\n"
     ]
    }
   ],
   "source": [
    "%%time\n",
    "bprs_2019=[]\n",
    "bprs_2020=[]\n",
    "rng = np.random.default_rng(seed=360)\n",
    "removed_tracts = 250\n",
    "num_tracts = test_x_BSF_flat.shape[1]\n",
    "num_sampled = num_tracts - removed_tracts\n",
    "K=100\n",
    "\n",
    "for _ in range(100):\n",
    "    sampled_indicies = rng.choice(range(num_tracts), size=num_sampled, replace=False)\n",
    "    \n",
    "    bprs_2019.append(fixed_top_X_new(this_2019[sampled_indicies],\n",
    "                            pd.Series(pred_linear_2019[sampled_indicies], index = this_2019[sampled_indicies].index),\n",
    "                            X=K)[-1])\n",
    "    bprs_2020.append(fixed_top_X_new(this_2020[sampled_indicies],\n",
    "                            pd.Series(pred_linear_2020[sampled_indicies], index = this_2019[sampled_indicies].index),\n",
    "                            X=K)[-1])"
   ]
  },
  {
   "cell_type": "code",
   "execution_count": 51,
   "id": "517545f0",
   "metadata": {},
   "outputs": [
    {
     "data": {
      "text/plain": [
       "(0.5877864678656495, 0.6091694879172294, 0.6285353158816639)"
      ]
     },
     "execution_count": 51,
     "metadata": {},
     "output_type": "execute_result"
    }
   ],
   "source": [
    "avg_bprs = (np.array(bprs_2019)+np.array(bprs_2020))/2\n",
    "np.percentile(avg_bprs,2.5), np.mean(avg_bprs), np.percentile(avg_bprs, 97.5)"
   ]
  },
  {
   "cell_type": "code",
   "execution_count": 14,
   "id": "999a963f",
   "metadata": {},
   "outputs": [
    {
     "data": {
      "text/plain": [
       "array([0.7119827 , 0.90811805, 0.70009379, ..., 0.63995345, 0.63995345,\n",
       "       0.72337451])"
      ]
     },
     "execution_count": 14,
     "metadata": {},
     "output_type": "execute_result"
    }
   ],
   "source": [
    "pred_linear_2019"
   ]
  },
  {
   "cell_type": "code",
   "execution_count": 50,
   "id": "0aeef437",
   "metadata": {},
   "outputs": [
    {
     "data": {
      "text/plain": [
       "0.6024206599999999"
      ]
     },
     "execution_count": 50,
     "metadata": {},
     "output_type": "execute_result"
    }
   ],
   "source": [
    "(0.58760685+0.61723447)/2"
   ]
  },
  {
   "cell_type": "code",
   "execution_count": 51,
   "id": "558e49e1",
   "metadata": {},
   "outputs": [
    {
     "data": {
      "text/plain": [
       "0.6007485"
      ]
     },
     "execution_count": 51,
     "metadata": {},
     "output_type": "execute_result"
    }
   ],
   "source": [
    "(0.5982906+0.6032064)/2"
   ]
  },
  {
   "cell_type": "code",
   "execution_count": 52,
   "id": "7d17616b",
   "metadata": {},
   "outputs": [
    {
     "data": {
      "text/plain": [
       "1.052748407663083"
      ]
     },
     "execution_count": 52,
     "metadata": {},
     "output_type": "execute_result"
    }
   ],
   "source": [
    "np.mean([mean_absolute_error(test_y_BS[0], pred_linear_2019),\n",
    "mean_absolute_error(test_y_BS[1], pred_linear_2020)])"
   ]
  },
  {
   "cell_type": "code",
   "execution_count": 53,
   "id": "e6f79fce",
   "metadata": {},
   "outputs": [
    {
     "data": {
      "text/plain": [
       "1.3809252248671406"
      ]
     },
     "execution_count": 53,
     "metadata": {},
     "output_type": "execute_result"
    }
   ],
   "source": [
    "np.mean([sqrt(mean_squared_error(test_y_BS[0], pred_linear_2019)),\n",
    "sqrt(mean_squared_error(test_y_BS[1], pred_linear_2020))])"
   ]
  },
  {
   "cell_type": "code",
   "execution_count": 56,
   "id": "bbe2ec6c",
   "metadata": {},
   "outputs": [
    {
     "name": "stdout",
     "output_type": "stream",
     "text": [
      "3, 2, 50\n",
      "tf.Tensor(0.5782881, shape=(), dtype=float32)\n"
     ]
    },
    {
     "ename": "KeyboardInterrupt",
     "evalue": "",
     "output_type": "error",
     "traceback": [
      "\u001b[0;31m---------------------------------------------------------------------------\u001b[0m",
      "\u001b[0;31mKeyboardInterrupt\u001b[0m                         Traceback (most recent call last)",
      "Cell \u001b[0;32mIn[56], line 8\u001b[0m\n\u001b[1;32m      5\u001b[0m \u001b[38;5;28;01mfor\u001b[39;00m sampl \u001b[38;5;129;01min\u001b[39;00m [\u001b[38;5;241m50\u001b[39m,\u001b[38;5;241m100\u001b[39m,\u001b[38;5;241m400\u001b[39m]:\n\u001b[1;32m      6\u001b[0m     hist_poisson \u001b[38;5;241m=\u001b[39m   HistGradientBoostingRegressor(loss\u001b[38;5;241m=\u001b[39m\u001b[38;5;124m\"\u001b[39m\u001b[38;5;124mpoisson\u001b[39m\u001b[38;5;124m\"\u001b[39m, max_iter\u001b[38;5;241m=\u001b[39m\u001b[38;5;241m10000\u001b[39m, max_depth\u001b[38;5;241m=\u001b[39mdepth, max_leaf_nodes\u001b[38;5;241m=\u001b[39mleaf,\n\u001b[1;32m      7\u001b[0m                                                    l2_regularization\u001b[38;5;241m=\u001b[39m\u001b[38;5;241m0.1\u001b[39m, min_samples_leaf\u001b[38;5;241m=\u001b[39msampl )\n\u001b[0;32m----> 8\u001b[0m     hist_reg \u001b[38;5;241m=\u001b[39m \u001b[43mhist_poisson\u001b[49m\u001b[38;5;241;43m.\u001b[39;49m\u001b[43mfit\u001b[49m\u001b[43m(\u001b[49m\u001b[43mtrain_x_long\u001b[49m\u001b[43m,\u001b[49m\u001b[43m \u001b[49m\u001b[43mtf\u001b[49m\u001b[38;5;241;43m.\u001b[39;49m\u001b[43msqueeze\u001b[49m\u001b[43m(\u001b[49m\u001b[43mtrain_y_long\u001b[49m\u001b[43m)\u001b[49m\u001b[43m)\u001b[49m\n\u001b[1;32m     10\u001b[0m     valid_fit \u001b[38;5;241m=\u001b[39m hist_reg\u001b[38;5;241m.\u001b[39mpredict(valid_x_BSF_flat[\u001b[38;5;241m0\u001b[39m])\n\u001b[1;32m     11\u001b[0m     new_valid \u001b[38;5;241m=\u001b[39m bpr_variable_k_no_ties(valid_y_BS[\u001b[38;5;241m0\u001b[39m], valid_fit,k\u001b[38;5;241m=\u001b[39m\u001b[38;5;241m100\u001b[39m)\n",
      "File \u001b[0;32m/cluster/tufts/hugheslab/kheuto01/miniconda3/envs/ptopk_tf_again/lib/python3.8/site-packages/sklearn/ensemble/_hist_gradient_boosting/gradient_boosting.py:670\u001b[0m, in \u001b[0;36mBaseHistGradientBoosting.fit\u001b[0;34m(self, X, y, sample_weight)\u001b[0m\n\u001b[1;32m    668\u001b[0m \u001b[38;5;66;03m# Build `n_trees_per_iteration` trees.\u001b[39;00m\n\u001b[1;32m    669\u001b[0m \u001b[38;5;28;01mfor\u001b[39;00m k \u001b[38;5;129;01min\u001b[39;00m \u001b[38;5;28mrange\u001b[39m(\u001b[38;5;28mself\u001b[39m\u001b[38;5;241m.\u001b[39mn_trees_per_iteration_):\n\u001b[0;32m--> 670\u001b[0m     grower \u001b[38;5;241m=\u001b[39m \u001b[43mTreeGrower\u001b[49m\u001b[43m(\u001b[49m\n\u001b[1;32m    671\u001b[0m \u001b[43m        \u001b[49m\u001b[43mX_binned\u001b[49m\u001b[38;5;241;43m=\u001b[39;49m\u001b[43mX_binned_train\u001b[49m\u001b[43m,\u001b[49m\n\u001b[1;32m    672\u001b[0m \u001b[43m        \u001b[49m\u001b[43mgradients\u001b[49m\u001b[38;5;241;43m=\u001b[39;49m\u001b[43mg_view\u001b[49m\u001b[43m[\u001b[49m\u001b[43m:\u001b[49m\u001b[43m,\u001b[49m\u001b[43m \u001b[49m\u001b[43mk\u001b[49m\u001b[43m]\u001b[49m\u001b[43m,\u001b[49m\n\u001b[1;32m    673\u001b[0m \u001b[43m        \u001b[49m\u001b[43mhessians\u001b[49m\u001b[38;5;241;43m=\u001b[39;49m\u001b[43mh_view\u001b[49m\u001b[43m[\u001b[49m\u001b[43m:\u001b[49m\u001b[43m,\u001b[49m\u001b[43m \u001b[49m\u001b[43mk\u001b[49m\u001b[43m]\u001b[49m\u001b[43m,\u001b[49m\n\u001b[1;32m    674\u001b[0m \u001b[43m        \u001b[49m\u001b[43mn_bins\u001b[49m\u001b[38;5;241;43m=\u001b[39;49m\u001b[43mn_bins\u001b[49m\u001b[43m,\u001b[49m\n\u001b[1;32m    675\u001b[0m \u001b[43m        \u001b[49m\u001b[43mn_bins_non_missing\u001b[49m\u001b[38;5;241;43m=\u001b[39;49m\u001b[38;5;28;43mself\u001b[39;49m\u001b[38;5;241;43m.\u001b[39;49m\u001b[43m_bin_mapper\u001b[49m\u001b[38;5;241;43m.\u001b[39;49m\u001b[43mn_bins_non_missing_\u001b[49m\u001b[43m,\u001b[49m\n\u001b[1;32m    676\u001b[0m \u001b[43m        \u001b[49m\u001b[43mhas_missing_values\u001b[49m\u001b[38;5;241;43m=\u001b[39;49m\u001b[43mhas_missing_values\u001b[49m\u001b[43m,\u001b[49m\n\u001b[1;32m    677\u001b[0m \u001b[43m        \u001b[49m\u001b[43mis_categorical\u001b[49m\u001b[38;5;241;43m=\u001b[39;49m\u001b[38;5;28;43mself\u001b[39;49m\u001b[38;5;241;43m.\u001b[39;49m\u001b[43mis_categorical_\u001b[49m\u001b[43m,\u001b[49m\n\u001b[1;32m    678\u001b[0m \u001b[43m        \u001b[49m\u001b[43mmonotonic_cst\u001b[49m\u001b[38;5;241;43m=\u001b[39;49m\u001b[43mmonotonic_cst\u001b[49m\u001b[43m,\u001b[49m\n\u001b[1;32m    679\u001b[0m \u001b[43m        \u001b[49m\u001b[43minteraction_cst\u001b[49m\u001b[38;5;241;43m=\u001b[39;49m\u001b[43minteraction_cst\u001b[49m\u001b[43m,\u001b[49m\n\u001b[1;32m    680\u001b[0m \u001b[43m        \u001b[49m\u001b[43mmax_leaf_nodes\u001b[49m\u001b[38;5;241;43m=\u001b[39;49m\u001b[38;5;28;43mself\u001b[39;49m\u001b[38;5;241;43m.\u001b[39;49m\u001b[43mmax_leaf_nodes\u001b[49m\u001b[43m,\u001b[49m\n\u001b[1;32m    681\u001b[0m \u001b[43m        \u001b[49m\u001b[43mmax_depth\u001b[49m\u001b[38;5;241;43m=\u001b[39;49m\u001b[38;5;28;43mself\u001b[39;49m\u001b[38;5;241;43m.\u001b[39;49m\u001b[43mmax_depth\u001b[49m\u001b[43m,\u001b[49m\n\u001b[1;32m    682\u001b[0m \u001b[43m        \u001b[49m\u001b[43mmin_samples_leaf\u001b[49m\u001b[38;5;241;43m=\u001b[39;49m\u001b[38;5;28;43mself\u001b[39;49m\u001b[38;5;241;43m.\u001b[39;49m\u001b[43mmin_samples_leaf\u001b[49m\u001b[43m,\u001b[49m\n\u001b[1;32m    683\u001b[0m \u001b[43m        \u001b[49m\u001b[43ml2_regularization\u001b[49m\u001b[38;5;241;43m=\u001b[39;49m\u001b[38;5;28;43mself\u001b[39;49m\u001b[38;5;241;43m.\u001b[39;49m\u001b[43ml2_regularization\u001b[49m\u001b[43m,\u001b[49m\n\u001b[1;32m    684\u001b[0m \u001b[43m        \u001b[49m\u001b[43mshrinkage\u001b[49m\u001b[38;5;241;43m=\u001b[39;49m\u001b[38;5;28;43mself\u001b[39;49m\u001b[38;5;241;43m.\u001b[39;49m\u001b[43mlearning_rate\u001b[49m\u001b[43m,\u001b[49m\n\u001b[1;32m    685\u001b[0m \u001b[43m        \u001b[49m\u001b[43mn_threads\u001b[49m\u001b[38;5;241;43m=\u001b[39;49m\u001b[43mn_threads\u001b[49m\u001b[43m,\u001b[49m\n\u001b[1;32m    686\u001b[0m \u001b[43m    \u001b[49m\u001b[43m)\u001b[49m\n\u001b[1;32m    687\u001b[0m     grower\u001b[38;5;241m.\u001b[39mgrow()\n\u001b[1;32m    689\u001b[0m     acc_apply_split_time \u001b[38;5;241m+\u001b[39m\u001b[38;5;241m=\u001b[39m grower\u001b[38;5;241m.\u001b[39mtotal_apply_split_time\n",
      "File \u001b[0;32m/cluster/tufts/hugheslab/kheuto01/miniconda3/envs/ptopk_tf_again/lib/python3.8/site-packages/sklearn/ensemble/_hist_gradient_boosting/grower.py:332\u001b[0m, in \u001b[0;36mTreeGrower.__init__\u001b[0;34m(self, X_binned, gradients, hessians, max_leaf_nodes, max_depth, min_samples_leaf, min_gain_to_split, n_bins, n_bins_non_missing, has_missing_values, is_categorical, monotonic_cst, interaction_cst, l2_regularization, min_hessian_to_split, shrinkage, n_threads)\u001b[0m\n\u001b[1;32m    330\u001b[0m \u001b[38;5;28mself\u001b[39m\u001b[38;5;241m.\u001b[39mtotal_apply_split_time \u001b[38;5;241m=\u001b[39m \u001b[38;5;241m0.0\u001b[39m  \u001b[38;5;66;03m# time spent splitting nodes\u001b[39;00m\n\u001b[1;32m    331\u001b[0m \u001b[38;5;28mself\u001b[39m\u001b[38;5;241m.\u001b[39mn_categorical_splits \u001b[38;5;241m=\u001b[39m \u001b[38;5;241m0\u001b[39m\n\u001b[0;32m--> 332\u001b[0m \u001b[38;5;28;43mself\u001b[39;49m\u001b[38;5;241;43m.\u001b[39;49m\u001b[43m_intilialize_root\u001b[49m\u001b[43m(\u001b[49m\u001b[43mgradients\u001b[49m\u001b[43m,\u001b[49m\u001b[43m \u001b[49m\u001b[43mhessians\u001b[49m\u001b[43m,\u001b[49m\u001b[43m \u001b[49m\u001b[43mhessians_are_constant\u001b[49m\u001b[43m)\u001b[49m\n\u001b[1;32m    333\u001b[0m \u001b[38;5;28mself\u001b[39m\u001b[38;5;241m.\u001b[39mn_nodes \u001b[38;5;241m=\u001b[39m \u001b[38;5;241m1\u001b[39m\n",
      "File \u001b[0;32m/cluster/tufts/hugheslab/kheuto01/miniconda3/envs/ptopk_tf_again/lib/python3.8/site-packages/sklearn/ensemble/_hist_gradient_boosting/grower.py:384\u001b[0m, in \u001b[0;36mTreeGrower._intilialize_root\u001b[0;34m(self, gradients, hessians, hessians_are_constant)\u001b[0m\n\u001b[1;32m    382\u001b[0m n_samples \u001b[38;5;241m=\u001b[39m \u001b[38;5;28mself\u001b[39m\u001b[38;5;241m.\u001b[39mX_binned\u001b[38;5;241m.\u001b[39mshape[\u001b[38;5;241m0\u001b[39m]\n\u001b[1;32m    383\u001b[0m depth \u001b[38;5;241m=\u001b[39m \u001b[38;5;241m0\u001b[39m\n\u001b[0;32m--> 384\u001b[0m sum_gradients \u001b[38;5;241m=\u001b[39m \u001b[43msum_parallel\u001b[49m\u001b[43m(\u001b[49m\u001b[43mgradients\u001b[49m\u001b[43m,\u001b[49m\u001b[43m \u001b[49m\u001b[38;5;28;43mself\u001b[39;49m\u001b[38;5;241;43m.\u001b[39;49m\u001b[43mn_threads\u001b[49m\u001b[43m)\u001b[49m\n\u001b[1;32m    385\u001b[0m \u001b[38;5;28;01mif\u001b[39;00m \u001b[38;5;28mself\u001b[39m\u001b[38;5;241m.\u001b[39mhistogram_builder\u001b[38;5;241m.\u001b[39mhessians_are_constant:\n\u001b[1;32m    386\u001b[0m     sum_hessians \u001b[38;5;241m=\u001b[39m hessians[\u001b[38;5;241m0\u001b[39m] \u001b[38;5;241m*\u001b[39m n_samples\n",
      "\u001b[0;31mKeyboardInterrupt\u001b[0m: "
     ]
    }
   ],
   "source": [
    "from sklearn.ensemble import HistGradientBoostingRegressor\n",
    "max_valid=0\n",
    "for depth in [3,6,9]:\n",
    "    for leaf in [2,5,10]:\n",
    "        for sampl in [50,100,400]:\n",
    "            hist_poisson =   HistGradientBoostingRegressor(loss=\"poisson\", max_iter=10000, max_depth=depth, max_leaf_nodes=leaf,\n",
    "                                                           l2_regularization=0.1, min_samples_leaf=sampl )\n",
    "            hist_reg = hist_poisson.fit(train_x_long, tf.squeeze(train_y_long))\n",
    "            \n",
    "            valid_fit = hist_reg.predict(valid_x_BSF_flat[0])\n",
    "            new_valid = bpr_variable_k_no_ties(valid_y_BS[0], valid_fit,k=100)\n",
    "            \n",
    "            if new_valid>max_valid:\n",
    "                print(f'{depth}, {leaf}, {sampl}')\n",
    "                max_valid=new_valid\n",
    "                print(max_valid)"
   ]
  },
  {
   "cell_type": "code",
   "execution_count": 54,
   "id": "43f13f4e",
   "metadata": {},
   "outputs": [],
   "source": [
    "hist_poisson =   HistGradientBoostingRegressor(loss=\"poisson\", max_iter=10000, max_depth=3, max_leaf_nodes=2,\n",
    "                                                           l2_regularization=1, min_samples_leaf=100 )\n",
    "hist_reg = hist_poisson.fit(train_x_long, tf.squeeze(train_y_long))"
   ]
  },
  {
   "cell_type": "code",
   "execution_count": 55,
   "id": "d26b34ef",
   "metadata": {},
   "outputs": [
    {
     "data": {
      "text/plain": [
       "<tf.Tensor: shape=(), dtype=float32, numpy=0.5534188>"
      ]
     },
     "execution_count": 55,
     "metadata": {},
     "output_type": "execute_result"
    }
   ],
   "source": [
    "pred_hist_2019 = hist_reg.predict(test_x_BSF_flat[0])\n",
    "bpr_variable_k_no_ties(test_y_BS[0], pred_hist_2019,k=100)"
   ]
  },
  {
   "cell_type": "code",
   "execution_count": 56,
   "id": "e41ac40a",
   "metadata": {},
   "outputs": [
    {
     "data": {
      "text/plain": [
       "<tf.Tensor: shape=(), dtype=float32, numpy=0.5751503>"
      ]
     },
     "execution_count": 56,
     "metadata": {},
     "output_type": "execute_result"
    }
   ],
   "source": [
    "pred_hist_2020 = hist_reg.predict(test_x_BSF_flat[1])\n",
    "bpr_variable_k_no_ties(test_y_BS[1], pred_hist_2020,k=100)"
   ]
  },
  {
   "cell_type": "code",
   "execution_count": 57,
   "id": "f2a72cd8",
   "metadata": {},
   "outputs": [
    {
     "name": "stdout",
     "output_type": "stream",
     "text": [
      "CPU times: user 58.4 s, sys: 143 ms, total: 58.5 s\n",
      "Wall time: 58.3 s\n"
     ]
    }
   ],
   "source": [
    "%%time\n",
    "bprs_2019=[]\n",
    "bprs_2020=[]\n",
    "rng = np.random.default_rng(seed=360)\n",
    "removed_tracts = 250\n",
    "num_tracts = test_x_BSF_flat.shape[1]\n",
    "num_sampled = num_tracts - removed_tracts\n",
    "K=100\n",
    "\n",
    "for _ in range(100):\n",
    "    sampled_indicies = rng.choice(range(num_tracts), size=num_sampled, replace=False)\n",
    "    \n",
    "    bprs_2019.append(fixed_top_X_new(this_2019[sampled_indicies],\n",
    "                            pd.Series(pred_hist_2019[sampled_indicies], index = this_2019[sampled_indicies].index),\n",
    "                            X=K)[-1])\n",
    "    bprs_2020.append(fixed_top_X_new(this_2020[sampled_indicies],\n",
    "                            pd.Series(pred_hist_2020[sampled_indicies], index = this_2019[sampled_indicies].index),\n",
    "                            X=K)[-1])"
   ]
  },
  {
   "cell_type": "code",
   "execution_count": 58,
   "id": "bdef2578",
   "metadata": {},
   "outputs": [
    {
     "data": {
      "text/plain": [
       "(0.5542042284628933, 0.5744520979737323, 0.5967444282797825)"
      ]
     },
     "execution_count": 58,
     "metadata": {},
     "output_type": "execute_result"
    }
   ],
   "source": [
    "avg_bprs = (np.array(bprs_2019)+np.array(bprs_2020))/2\n",
    "np.percentile(avg_bprs,2.5), np.mean(avg_bprs), np.percentile(avg_bprs, 97.5)"
   ]
  },
  {
   "cell_type": "code",
   "execution_count": 60,
   "id": "a6c50b3a",
   "metadata": {},
   "outputs": [
    {
     "data": {
      "text/plain": [
       "<tf.Tensor: shape=(), dtype=float32, numpy=0.48398575>"
      ]
     },
     "execution_count": 60,
     "metadata": {},
     "output_type": "execute_result"
    }
   ],
   "source": [
    "train_fit = hist_reg.predict(train_x_BSF_flat[0])\n",
    "bpr_variable_k_no_ties(train_y_BS[0], train_fit,k=100)"
   ]
  },
  {
   "cell_type": "code",
   "execution_count": 61,
   "id": "cf113954",
   "metadata": {},
   "outputs": [
    {
     "data": {
      "text/plain": [
       "<tf.Tensor: shape=(), dtype=float32, numpy=0.5803758>"
      ]
     },
     "execution_count": 61,
     "metadata": {},
     "output_type": "execute_result"
    }
   ],
   "source": [
    "valid_fit = hist_reg.predict(valid_x_BSF_flat[0])\n",
    "bpr_variable_k_no_ties(valid_y_BS[0], valid_fit,k=100)"
   ]
  },
  {
   "cell_type": "code",
   "execution_count": 62,
   "id": "f5c02efa",
   "metadata": {},
   "outputs": [
    {
     "data": {
      "text/plain": [
       "0.56428455"
      ]
     },
     "execution_count": 62,
     "metadata": {},
     "output_type": "execute_result"
    }
   ],
   "source": [
    "(0.5751503+0.5534188)/2"
   ]
  },
  {
   "cell_type": "code",
   "execution_count": 68,
   "id": "b9abac61",
   "metadata": {},
   "outputs": [
    {
     "data": {
      "text/plain": [
       "1.20849009336153"
      ]
     },
     "execution_count": 68,
     "metadata": {},
     "output_type": "execute_result"
    }
   ],
   "source": [
    "np.mean([sqrt(mean_squared_error(test_y_BS[0], pred_hist_2019)),\n",
    "sqrt(mean_squared_error(test_y_BS[1], pred_hist_2020))])"
   ]
  },
  {
   "cell_type": "code",
   "execution_count": 70,
   "id": "69b2cc88",
   "metadata": {},
   "outputs": [
    {
     "data": {
      "text/plain": [
       "0.9019008909597088"
      ]
     },
     "execution_count": 70,
     "metadata": {},
     "output_type": "execute_result"
    }
   ],
   "source": [
    "np.mean([mean_absolute_error(test_y_BS[0], pred_hist_2019),\n",
    "mean_absolute_error(test_y_BS[1], pred_hist_2020)])"
   ]
  },
  {
   "cell_type": "code",
   "execution_count": 217,
   "id": "16b1884d",
   "metadata": {},
   "outputs": [
    {
     "data": {
      "text/plain": [
       "<tf.Tensor: shape=(), dtype=float32, numpy=0.217119>"
      ]
     },
     "execution_count": 217,
     "metadata": {},
     "output_type": "execute_result"
    }
   ],
   "source": [
    "bpr_variable_k_no_ties(valid_y_BS[0], valid_fit*0+1,k=100)"
   ]
  },
  {
   "cell_type": "code",
   "execution_count": 220,
   "id": "4fd321b7",
   "metadata": {},
   "outputs": [],
   "source": [
    "perturbed_top_100 = perturbed(top_100_idx_func,\n",
    "                              num_samples=5000,\n",
    "                              sigma=0.05,\n",
    "                              noise='normal',\n",
    "                              batched=True)\n"
   ]
  },
  {
   "cell_type": "code",
   "execution_count": 225,
   "id": "fc7356d5",
   "metadata": {},
   "outputs": [
    {
     "data": {
      "text/plain": [
       "(468.0, 0.0, 352.975, 0.24577991452991454)"
      ]
     },
     "execution_count": 225,
     "metadata": {},
     "output_type": "execute_result"
    }
   ],
   "source": [
    "fixed_top_X( multiindexed_gdf[(multiindexed_gdf['year']==2019)]['deaths'], \n",
    "            multiindexed_gdf[(multiindexed_gdf['year']==2019)]['deaths']*0,X=100)"
   ]
  },
  {
   "cell_type": "code",
   "execution_count": 226,
   "id": "9c20ee36",
   "metadata": {},
   "outputs": [
    {
     "data": {
      "text/plain": [
       "(499.0, 0.0, 378.734, 0.24101402805611225)"
      ]
     },
     "execution_count": 226,
     "metadata": {},
     "output_type": "execute_result"
    }
   ],
   "source": [
    "fixed_top_X( multiindexed_gdf[(multiindexed_gdf['year']==2020)]['deaths'], \n",
    "            multiindexed_gdf[(multiindexed_gdf['year']==2020)]['deaths']*0,X=100)"
   ]
  },
  {
   "cell_type": "code",
   "execution_count": 227,
   "id": "7f6c8398",
   "metadata": {},
   "outputs": [
    {
     "data": {
      "text/plain": [
       "0.2433969712930134"
      ]
     },
     "execution_count": 227,
     "metadata": {},
     "output_type": "execute_result"
    }
   ],
   "source": [
    "(0.24577991452991454+0.24101402805611225)/2"
   ]
  },
  {
   "cell_type": "code",
   "execution_count": 12,
   "id": "c173e7ce",
   "metadata": {},
   "outputs": [
    {
     "data": {
      "text/plain": [
       "<tf.Tensor: shape=(), dtype=float32, numpy=468.0>"
      ]
     },
     "execution_count": 12,
     "metadata": {},
     "output_type": "execute_result"
    }
   ],
   "source": [
    "tf.reduce_sum(tf.sort(test_y_BS[0])[-100:])"
   ]
  },
  {
   "cell_type": "code",
   "execution_count": 13,
   "id": "75b0b9ae",
   "metadata": {},
   "outputs": [
    {
     "data": {
      "text/plain": [
       "483.5"
      ]
     },
     "execution_count": 13,
     "metadata": {},
     "output_type": "execute_result"
    }
   ],
   "source": [
    "(468+499)/2"
   ]
  },
  {
   "cell_type": "code",
   "execution_count": 15,
   "id": "46657c89",
   "metadata": {},
   "outputs": [
    {
     "data": {
      "text/plain": [
       "1.934"
      ]
     },
     "execution_count": 15,
     "metadata": {},
     "output_type": "execute_result"
    }
   ],
   "source": [
    "483.5*0.004"
   ]
  },
  {
   "cell_type": "code",
   "execution_count": 29,
   "id": "3d6b4017",
   "metadata": {},
   "outputs": [],
   "source": [
    "from sklearn.metrics import mean_squared_error, mean_absolute_error\n",
    "from math import sqrt\n"
   ]
  },
  {
   "cell_type": "code",
   "execution_count": 25,
   "id": "36baf77a",
   "metadata": {},
   "outputs": [],
   "source": [
    "def fixed_top_X_new(true_qtr_val, pred_qtr_val, X=10):\n",
    "    top_X_predicted = pred_qtr_val.sort_values(ascending=False).iloc[:X]\n",
    "    top_X_true = true_qtr_val.sort_values(ascending=False).iloc[:X]\n",
    "\n",
    "    undisputed_top_predicted = top_X_predicted[top_X_predicted > top_X_predicted.min()]\n",
    "    num_tied_spots = X - len(undisputed_top_predicted)\n",
    "    undisputed_top_true = top_X_true[top_X_true > top_X_true.min()]\n",
    "    num_true_ties = X - len(undisputed_top_true)\n",
    "\n",
    "    tied_top_predicted = pred_qtr_val[pred_qtr_val == top_X_predicted.min()]\n",
    "    tied_top_true = true_qtr_val[true_qtr_val == top_X_true.min()]\n",
    "\n",
    "    error_in_top_true_ties = np.abs(tied_top_true - pred_qtr_val[tied_top_true.index]).sort_values(ascending=True)\n",
    "    error_in_top_pred_ties = np.abs(true_qtr_val[tied_top_predicted.index] - tied_top_predicted).sort_values(\n",
    "        ascending=True)\n",
    "    top_true_tied_geoids = error_in_top_true_ties.iloc[:num_true_ties].index\n",
    "    top_pred_tied_geoids = error_in_top_pred_ties.iloc[:num_tied_spots].index\n",
    "\n",
    "    best_possible_top_true_geoids = pd.Index.union(undisputed_top_true.index, top_true_tied_geoids)\n",
    "    best_possible_top_pred_geoids = pd.Index.union(undisputed_top_predicted.index, top_pred_tied_geoids)\n",
    "\n",
    "    # True values of GEOIDS with highest actual deaths. If ties, finds tied locations that match preds best\n",
    "    best_possible_true = true_qtr_val[best_possible_top_true_geoids]\n",
    "    best_possible_pred = true_qtr_val[best_possible_top_pred_geoids]\n",
    "    assert (len(best_possible_true) == X)\n",
    "    assert (len(best_possible_pred) == X)\n",
    "\n",
    "    best_possible_absolute = np.abs(best_possible_true.sum() - best_possible_pred.sum())\n",
    "    best_possible_ratio = np.abs(best_possible_pred).sum() / np.abs(best_possible_true).sum()\n",
    "\n",
    "    bootstrapped_tied_indices = np.random.choice(tied_top_predicted.index, (1000, num_tied_spots))\n",
    "    this_idx = undisputed_top_predicted.index.values\n",
    "    bootstrapped_all_indices = [np.concatenate((this_idx,bootstrap_index)) for bootstrap_index in bootstrapped_tied_indices]\n",
    "    #bootstrapped_all_indices = [pd.Index.union(undisputed_top_predicted.index,\n",
    "    #                                           bootstrap_index) for bootstrap_index in bootstrapped_tied_indices]\n",
    "    \n",
    "    denominator =  top_X_true.sum()\n",
    "    numerators = [true_qtr_val[indicies].sum() for indicies in bootstrapped_all_indices] \n",
    "\n",
    "    bootstrapped_absolute = np.mean([np.abs(denominator - numerator)\n",
    "                                     for numerator in numerators])\n",
    "    bootstrapped_ratio = np.mean([numerator / denominator\n",
    "                                  for numerator in numerators])\n",
    "\n",
    "    return best_possible_absolute, best_possible_ratio, bootstrapped_absolute, bootstrapped_ratio"
   ]
  },
  {
   "cell_type": "code",
   "execution_count": null,
   "id": "f9ea9753",
   "metadata": {},
   "outputs": [],
   "source": []
  }
 ],
 "metadata": {
  "kernelspec": {
   "display_name": "Python 3 (ipykernel)",
   "language": "python",
   "name": "python3"
  },
  "language_info": {
   "codemirror_mode": {
    "name": "ipython",
    "version": 3
   },
   "file_extension": ".py",
   "mimetype": "text/x-python",
   "name": "python",
   "nbconvert_exporter": "python",
   "pygments_lexer": "ipython3",
   "version": "3.8.16"
  }
 },
 "nbformat": 4,
 "nbformat_minor": 5
}
