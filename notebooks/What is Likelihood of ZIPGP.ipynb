{
 "cells": [
  {
   "cell_type": "code",
   "execution_count": 1,
   "id": "2d513f66",
   "metadata": {},
   "outputs": [
    {
     "name": "stderr",
     "output_type": "stream",
     "text": [
      "2022-12-20 11:54:31.389758: I tensorflow/core/platform/cpu_feature_guard.cc:193] This TensorFlow binary is optimized with oneAPI Deep Neural Network Library (oneDNN) to use the following CPU instructions in performance-critical operations:  AVX2 AVX512F AVX512_VNNI FMA\n",
      "To enable them in other operations, rebuild TensorFlow with the appropriate compiler flags.\n",
      "2022-12-20 11:54:31.555280: I tensorflow/core/util/util.cc:169] oneDNN custom operations are on. You may see slightly different numerical results due to floating-point round-off errors from different computation orders. To turn them off, set the environment variable `TF_ENABLE_ONEDNN_OPTS=0`.\n",
      "2022-12-20 11:54:31.562785: W tensorflow/stream_executor/platform/default/dso_loader.cc:64] Could not load dynamic library 'libcudart.so.11.0'; dlerror: libcudart.so.11.0: cannot open shared object file: No such file or directory\n",
      "2022-12-20 11:54:31.562802: I tensorflow/stream_executor/cuda/cudart_stub.cc:29] Ignore above cudart dlerror if you do not have a GPU set up on your machine.\n",
      "2022-12-20 11:54:31.610001: E tensorflow/stream_executor/cuda/cuda_blas.cc:2981] Unable to register cuBLAS factory: Attempting to register factory for plugin cuBLAS when one has already been registered\n",
      "2022-12-20 11:54:33.111868: W tensorflow/stream_executor/platform/default/dso_loader.cc:64] Could not load dynamic library 'libnvinfer.so.7'; dlerror: libnvinfer.so.7: cannot open shared object file: No such file or directory\n",
      "2022-12-20 11:54:33.111978: W tensorflow/stream_executor/platform/default/dso_loader.cc:64] Could not load dynamic library 'libnvinfer_plugin.so.7'; dlerror: libnvinfer_plugin.so.7: cannot open shared object file: No such file or directory\n",
      "2022-12-20 11:54:33.111992: W tensorflow/compiler/tf2tensorrt/utils/py_utils.cc:38] TF-TRT Warning: Cannot dlopen some TensorRT libraries. If you would like to use Nvidia GPU with TensorRT, please make sure the missing libraries mentioned above are installed properly.\n"
     ]
    }
   ],
   "source": [
    "%matplotlib inline\n",
    "import os\n",
    "import sys\n",
    "import glob\n",
    "import pickle\n",
    "\n",
    "import numpy as np\n",
    "import pandas as pd\n",
    "idx = pd.IndexSlice\n",
    "import matplotlib.pyplot as plt\n",
    "from matplotlib.ticker import MaxNLocator\n",
    "\n",
    "import copy\n",
    "\n",
    "import geopandas as gpd\n",
    "\n",
    "from sklearn.metrics import mean_absolute_error\n",
    "\n",
    "from sklearn.linear_model import LinearRegression\n",
    "from sklearn.neural_network import MLPRegressor\n",
    "\n",
    "import gpflow\n",
    "import tensorflow as tf\n",
    "\n",
    "\n",
    "from gpflow.config import default_float\n",
    "\n",
    "import tensorflow_probability as tfp\n",
    "\n",
    "code_dir = '/cluster/home/kheuto01/code/zero-inflated-gp/'\n",
    "sys.path.append(code_dir)\n",
    "\n",
    "from onoffgpf import OnOffSVGP, OnOffLikelihood"
   ]
  },
  {
   "cell_type": "code",
   "execution_count": 2,
   "id": "53f49c3c",
   "metadata": {},
   "outputs": [],
   "source": [
    "def mean_log_absolute_error(y_true, y_pred):\n",
    "    \n",
    "    min_val = abs(min(min(y_true), min(y_pred))) + 1\n",
    "\n",
    "    return np.average(np.abs(np.log(y_pred.values+min_val) -\n",
    "                             np.log(y_true.values+min_val)), axis=0)\n",
    "def fixed_top_X(true_qtr_val,pred_qtr_val, X=10):\n",
    "    \n",
    "    top_X_predicted = pred_qtr_val.sort_values(ascending=False)[:X]\n",
    "    top_X_true = true_qtr_val.sort_values(ascending=False)[:X]\n",
    "\n",
    "\n",
    "    undisputed_top_predicted = top_X_predicted[top_X_predicted>top_X_predicted.min()]\n",
    "    num_tied_spots = X - len(undisputed_top_predicted)\n",
    "    undisputed_top_true = top_X_true[top_X_true > top_X_true.min()]\n",
    "    num_true_ties = X - len(undisputed_top_true)\n",
    "\n",
    "\n",
    "    tied_top_predicted = pred_qtr_val[pred_qtr_val==top_X_predicted.min()]\n",
    "    tied_top_true = true_qtr_val[true_qtr_val==top_X_true.min()]\n",
    "\n",
    "    error_in_top_true_ties = np.abs(tied_top_true-pred_qtr_val[tied_top_true.index]).sort_values(ascending=True)\n",
    "    error_in_top_pred_ties = np.abs(true_qtr_val[tied_top_predicted.index]-tied_top_predicted).sort_values(ascending=True)\n",
    "    top_true_tied_geoids = error_in_top_true_ties[:num_true_ties].index\n",
    "    top_pred_tied_geoids = error_in_top_pred_ties[:num_tied_spots].index\n",
    "\n",
    "    best_possible_top_true_geoids = pd.Index.union(undisputed_top_true.index, top_true_tied_geoids)\n",
    "    best_possible_top_pred_geoids = pd.Index.union(undisputed_top_predicted.index, top_pred_tied_geoids)\n",
    "\n",
    "    # True values of GEOIDS with highest actual deaths. If ties, finds tied locations that match preds best\n",
    "    best_possible_true = true_qtr_val[best_possible_top_true_geoids]\n",
    "    best_possible_pred = true_qtr_val[best_possible_top_pred_geoids]\n",
    "\n",
    "    assert(len(best_possible_true)==X)\n",
    "    assert(len(best_possible_pred)==X)\n",
    "\n",
    "    best_possible_absolute = np.abs(best_possible_true.sum() - best_possible_pred.sum())\n",
    "    best_possible_ratio = np.abs(best_possible_pred).sum()/np.abs(best_possible_true).sum()\n",
    "\n",
    "\n",
    "    bootstrapped_tied_indices = np.random.choice(tied_top_predicted.index, (1000, num_tied_spots))\n",
    "    bootstrapped_all_indices =  [pd.Index.union(undisputed_top_predicted.index,\n",
    "                                                bootstrap_index) for bootstrap_index in bootstrapped_tied_indices]\n",
    "\n",
    "    bootstrapped_absolute = np.mean([np.abs(top_X_true.sum() - true_qtr_val[indices].sum()) \n",
    "                                     for indices in bootstrapped_all_indices])\n",
    "    bootstrapped_ratio = np.mean([np.abs(true_qtr_val[indices]).sum()/np.abs(top_X_true).sum()\n",
    "                                  for indices in bootstrapped_all_indices])\n",
    "    \n",
    "    return best_possible_absolute, best_possible_ratio, bootstrapped_absolute, bootstrapped_ratio"
   ]
  },
  {
   "cell_type": "code",
   "execution_count": 3,
   "id": "9a9ea588",
   "metadata": {},
   "outputs": [],
   "source": [
    "data_dir = '/cluster/tufts/hugheslab/datasets/NSF_OD/'\n",
    "result_dir = os.path.join(data_dir, 'results')\n",
    "mass_shapefile = os.path.join(data_dir,'shapefiles','MA_2021')\n",
    "\n",
    "\n",
    "\n",
    "new_tract_shapefile = os.path.join(data_dir,'shapefiles','new_trimmed_tract',\n",
    "                                   'cb_2020_tract')"
   ]
  },
  {
   "cell_type": "code",
   "execution_count": 4,
   "id": "d7781f01",
   "metadata": {},
   "outputs": [],
   "source": [
    "from math import radians, cos, sin, asin, sqrt\n",
    "\n",
    "def haversine(lon1, lat1, lon2, lat2):\n",
    "    \"\"\"\n",
    "    Calculate the great circle distance in kilometers between two points \n",
    "    on the earth (specified in decimal degrees)\n",
    "    https://stackoverflow.com/a/4913653/1748679\n",
    "    \"\"\"\n",
    "    # convert decimal degrees to radians \n",
    "    lon1, lat1, lon2, lat2 = map(radians, [lon1, lat1, lon2, lat2])\n",
    "\n",
    "    # haversine formula \n",
    "    dlon = lon2 - lon1 \n",
    "    dlat = lat2 - lat1 \n",
    "    a = sin(dlat/2)**2 + cos(lat1) * cos(lat2) * sin(dlon/2)**2\n",
    "    c = 2 * asin(sqrt(a)) \n",
    "    r = 6371 # Radius of earth in kilometers. Use 3956 for miles. Determines return value units.\n",
    "    return c * r"
   ]
  },
  {
   "cell_type": "code",
   "execution_count": 5,
   "id": "882a56c5",
   "metadata": {},
   "outputs": [],
   "source": [
    "mass_gdf = gpd.read_file(new_tract_shapefile)\n",
    "\n",
    "\n",
    "svi_file = os.path.join(result_dir,'svi_qtr')\n",
    "svi_gdf = gpd.read_file(svi_file)\n",
    "svi_gdf = svi_gdf.rename(columns={'INTPTLAT':'lat', 'INTPTLON':'lon', 'GEOID':'grid_squar'})\n",
    "# Make lat and lon floats\n",
    "svi_gdf.loc[:, 'lat'] = svi_gdf.lat.astype(float)\n",
    "svi_gdf.loc[:, 'lon'] = svi_gdf.lon.astype(float)\n",
    "deaths_gdf = svi_gdf\n",
    "missing_squares = [square for square in deaths_gdf['grid_squar'].unique() if square not in mass_gdf['GEOID'].unique()]\n",
    "just_grid = deaths_gdf.loc[(deaths_gdf['year']==2000)&(deaths_gdf['quarter']==4), ['grid_squar','geometry', 'lat', 'lon']]\n",
    "\n",
    "# Calculate each squares neighbors\n",
    "neighbors = {}\n",
    "for _, row in just_grid.iterrows():\n",
    "    just_grid.loc[:,'haversine'] = just_grid.apply(lambda x: haversine(row['lon'], row['lat'],\n",
    "                                                                         x['lon'], x['lat']),\n",
    "                                                  axis=1)\n",
    "    matching_neighbors = just_grid[just_grid['haversine']<8]['grid_squar'].values\n",
    "    neighbors[row['grid_squar']]=matching_neighbors\n",
    "    \n",
    "tracts = deaths_gdf['grid_squar'].unique()\n",
    "min_year = deaths_gdf.year.min()\n",
    "max_year = deaths_gdf.year.max()\n",
    "\n",
    "deaths_gdf = deaths_gdf.set_index(['grid_squar','year','quarter']).sort_index()\n",
    "deaths_gdf.loc[idx[:,:,:],'self_t-1'] = deaths_gdf.loc[idx[:,:,:],'deaths'].shift(1, fill_value=0)\n",
    "\n",
    "for tract in tracts:\n",
    "     deaths_gdf.loc[idx[tract,:,:],'neighbor_t-1']= \\\n",
    "        deaths_gdf.loc[idx[neighbors[tract],:,:],'self_t-1'].groupby(level=['year', 'quarter']).mean().shift(1, fill_value=0).values\n",
    "\n",
    "timestep = 0\n",
    "\n",
    "for year in range(min_year, max_year+1):\n",
    "    for quarter in range(1, 5):\n",
    "        deaths_gdf.loc[idx[:,year, quarter], 'timestep'] = timestep\n",
    "        timestep+=1\n",
    "        \n",
    "deaths_gdf_with_autoregressive = deaths_gdf.reset_index()\n",
    "\n",
    "train_x_through_2018 = deaths_gdf_with_autoregressive[deaths_gdf_with_autoregressive['year']<=2018][['grid_squar','lat', 'lon', 'timestep', 'theme_1_pc', 'theme_2_pc', 'theme_3_pc', 'theme_4_pc', 'svi_pctile', 'neighbor_t-1', 'self_t-1']]\n",
    "train_y_through_2018 = deaths_gdf_with_autoregressive[deaths_gdf_with_autoregressive['year']<=2018][['grid_squar',  'timestep', 'deaths']]\n",
    "train_x_through_2019 = deaths_gdf_with_autoregressive[deaths_gdf_with_autoregressive['year']<=2019][['grid_squar','lat', 'lon', 'timestep', 'theme_1_pc', 'theme_2_pc', 'theme_3_pc', 'theme_4_pc', 'svi_pctile', 'neighbor_t-1', 'self_t-1']]\n",
    "train_y_through_2019 = deaths_gdf_with_autoregressive[deaths_gdf_with_autoregressive['year']<=2019][['grid_squar', 'timestep', 'deaths']]\n",
    "\n",
    "x_just_2019 = deaths_gdf_with_autoregressive[deaths_gdf_with_autoregressive['year']==2019][['grid_squar','lat', 'lon', 'timestep', 'theme_1_pc', 'theme_2_pc', 'theme_3_pc', 'theme_4_pc', 'svi_pctile','neighbor_t-1', 'self_t-1']]\n",
    "y_just_2019 = deaths_gdf_with_autoregressive[deaths_gdf_with_autoregressive['year']==2019][['grid_squar','timestep', 'deaths']]\n",
    "x_just_2020 = deaths_gdf_with_autoregressive[deaths_gdf_with_autoregressive['year']==2020][['grid_squar','lat', 'lon', 'timestep', 'theme_1_pc', 'theme_2_pc', 'theme_3_pc', 'theme_4_pc', 'svi_pctile', 'neighbor_t-1', 'self_t-1']]\n",
    "y_just_2020 = deaths_gdf_with_autoregressive[deaths_gdf_with_autoregressive['year']==2020][['grid_squar', 'timestep', 'deaths']]\n",
    "\n",
    "x_just_2019q1 = deaths_gdf_with_autoregressive[(deaths_gdf_with_autoregressive['year']==2019) & (deaths_gdf_with_autoregressive['quarter']==1)][['grid_squar','lat', 'lon', 'timestep', 'theme_1_pc', 'theme_2_pc', 'theme_3_pc', 'theme_4_pc', 'svi_pctile','neighbor_t-1', 'self_t-1']]\n",
    "y_just_2019q1 = deaths_gdf_with_autoregressive[(deaths_gdf_with_autoregressive['year']==2019) & (deaths_gdf_with_autoregressive['quarter']==1)][['grid_squar','timestep', 'deaths']]\n"
   ]
  },
  {
   "cell_type": "code",
   "execution_count": 6,
   "id": "ef47d473",
   "metadata": {},
   "outputs": [
    {
     "name": "stderr",
     "output_type": "stream",
     "text": [
      "2022-12-20 11:59:18.107834: E tensorflow/stream_executor/cuda/cuda_driver.cc:265] failed call to cuInit: CUDA_ERROR_NO_DEVICE: no CUDA-capable device is detected\n",
      "2022-12-20 11:59:18.107895: I tensorflow/stream_executor/cuda/cuda_diagnostics.cc:169] retrieving CUDA diagnostic information for host: p1cmp078.pax.tufts.edu\n",
      "2022-12-20 11:59:18.107910: I tensorflow/stream_executor/cuda/cuda_diagnostics.cc:176] hostname: p1cmp078.pax.tufts.edu\n",
      "2022-12-20 11:59:18.108108: I tensorflow/stream_executor/cuda/cuda_diagnostics.cc:200] libcuda reported version is: 510.47.3\n",
      "2022-12-20 11:59:18.108159: I tensorflow/stream_executor/cuda/cuda_diagnostics.cc:204] kernel reported version is: 510.47.3\n",
      "2022-12-20 11:59:18.108168: I tensorflow/stream_executor/cuda/cuda_diagnostics.cc:310] kernel version seems to match DSO: 510.47.3\n",
      "2022-12-20 11:59:18.108996: I tensorflow/core/platform/cpu_feature_guard.cc:193] This TensorFlow binary is optimized with oneAPI Deep Neural Network Library (oneDNN) to use the following CPU instructions in performance-critical operations:  AVX2 AVX512F AVX512_VNNI FMA\n",
      "To enable them in other operations, rebuild TensorFlow with the appropriate compiler flags.\n"
     ]
    }
   ],
   "source": [
    "import pickle\n",
    "with open('/cluster/tufts/hugheslab/kheuto01/opioid/logs/poi_fix_soft/ind200_kernelsvi_full_lr0.05_seed2/model.mod','rb') as f:\n",
    "    m = pickle.load(f)\n"
   ]
  },
  {
   "cell_type": "code",
   "execution_count": 7,
   "id": "9764b0ce",
   "metadata": {},
   "outputs": [
    {
     "data": {
      "text/html": [
       "<div>\n",
       "<style scoped>\n",
       "    .dataframe tbody tr th:only-of-type {\n",
       "        vertical-align: middle;\n",
       "    }\n",
       "\n",
       "    .dataframe tbody tr th {\n",
       "        vertical-align: top;\n",
       "    }\n",
       "\n",
       "    .dataframe thead th {\n",
       "        text-align: right;\n",
       "    }\n",
       "</style>\n",
       "<table border=\"1\" class=\"dataframe\">\n",
       "  <thead>\n",
       "    <tr style=\"text-align: right;\">\n",
       "      <th></th>\n",
       "      <th>Unnamed: 0</th>\n",
       "      <th>iter</th>\n",
       "      <th>elbo</th>\n",
       "      <th>mae</th>\n",
       "      <th>bpr_100</th>\n",
       "    </tr>\n",
       "  </thead>\n",
       "  <tbody>\n",
       "    <tr>\n",
       "      <th>0</th>\n",
       "      <td>0</td>\n",
       "      <td>0.0</td>\n",
       "      <td>-89387.300229</td>\n",
       "      <td>1.846895</td>\n",
       "      <td>0.105228</td>\n",
       "    </tr>\n",
       "    <tr>\n",
       "      <th>1</th>\n",
       "      <td>1</td>\n",
       "      <td>10.0</td>\n",
       "      <td>-56140.572387</td>\n",
       "      <td>1.633227</td>\n",
       "      <td>0.071115</td>\n",
       "    </tr>\n",
       "    <tr>\n",
       "      <th>2</th>\n",
       "      <td>2</td>\n",
       "      <td>20.0</td>\n",
       "      <td>-51832.008532</td>\n",
       "      <td>1.061007</td>\n",
       "      <td>0.096381</td>\n",
       "    </tr>\n",
       "    <tr>\n",
       "      <th>3</th>\n",
       "      <td>3</td>\n",
       "      <td>30.0</td>\n",
       "      <td>-50223.321168</td>\n",
       "      <td>0.819931</td>\n",
       "      <td>0.074593</td>\n",
       "    </tr>\n",
       "    <tr>\n",
       "      <th>4</th>\n",
       "      <td>4</td>\n",
       "      <td>40.0</td>\n",
       "      <td>-49276.777737</td>\n",
       "      <td>0.660522</td>\n",
       "      <td>0.080084</td>\n",
       "    </tr>\n",
       "    <tr>\n",
       "      <th>...</th>\n",
       "      <td>...</td>\n",
       "      <td>...</td>\n",
       "      <td>...</td>\n",
       "      <td>...</td>\n",
       "      <td>...</td>\n",
       "    </tr>\n",
       "    <tr>\n",
       "      <th>195</th>\n",
       "      <td>195</td>\n",
       "      <td>1950.0</td>\n",
       "      <td>-45723.575517</td>\n",
       "      <td>0.340907</td>\n",
       "      <td>0.316468</td>\n",
       "    </tr>\n",
       "    <tr>\n",
       "      <th>196</th>\n",
       "      <td>196</td>\n",
       "      <td>1960.0</td>\n",
       "      <td>-45707.846191</td>\n",
       "      <td>0.344207</td>\n",
       "      <td>0.305418</td>\n",
       "    </tr>\n",
       "    <tr>\n",
       "      <th>197</th>\n",
       "      <td>197</td>\n",
       "      <td>1970.0</td>\n",
       "      <td>-45724.375148</td>\n",
       "      <td>0.347187</td>\n",
       "      <td>0.324804</td>\n",
       "    </tr>\n",
       "    <tr>\n",
       "      <th>198</th>\n",
       "      <td>198</td>\n",
       "      <td>1980.0</td>\n",
       "      <td>-45748.266944</td>\n",
       "      <td>0.342356</td>\n",
       "      <td>0.312880</td>\n",
       "    </tr>\n",
       "    <tr>\n",
       "      <th>199</th>\n",
       "      <td>199</td>\n",
       "      <td>1990.0</td>\n",
       "      <td>-45788.966935</td>\n",
       "      <td>0.343608</td>\n",
       "      <td>0.318767</td>\n",
       "    </tr>\n",
       "  </tbody>\n",
       "</table>\n",
       "<p>200 rows × 5 columns</p>\n",
       "</div>"
      ],
      "text/plain": [
       "     Unnamed: 0    iter          elbo       mae   bpr_100\n",
       "0             0     0.0 -89387.300229  1.846895  0.105228\n",
       "1             1    10.0 -56140.572387  1.633227  0.071115\n",
       "2             2    20.0 -51832.008532  1.061007  0.096381\n",
       "3             3    30.0 -50223.321168  0.819931  0.074593\n",
       "4             4    40.0 -49276.777737  0.660522  0.080084\n",
       "..          ...     ...           ...       ...       ...\n",
       "195         195  1950.0 -45723.575517  0.340907  0.316468\n",
       "196         196  1960.0 -45707.846191  0.344207  0.305418\n",
       "197         197  1970.0 -45724.375148  0.347187  0.324804\n",
       "198         198  1980.0 -45748.266944  0.342356  0.312880\n",
       "199         199  1990.0 -45788.966935  0.343608  0.318767\n",
       "\n",
       "[200 rows x 5 columns]"
      ]
     },
     "execution_count": 7,
     "metadata": {},
     "output_type": "execute_result"
    }
   ],
   "source": [
    "pd.read_csv('/cluster/tufts/hugheslab/kheuto01/opioid/logs/poi_fix_soft/ind200_kernelsvi_full_lr0.05_seed2/stats.csv')"
   ]
  },
  {
   "cell_type": "code",
   "execution_count": 8,
   "id": "a22a0a10",
   "metadata": {},
   "outputs": [],
   "source": [
    "def normcdf(x):\n",
    "    return 0.5 * (1.0 + tf.math.erf(x / np.sqrt(2.0))) * (1. - 2.e-3) + 1.e-3"
   ]
  },
  {
   "cell_type": "code",
   "execution_count": 9,
   "id": "254d103f",
   "metadata": {},
   "outputs": [
    {
     "name": "stdout",
     "output_type": "stream",
     "text": [
      "MAE test 0.34360763608148787\n",
      "BPR-100 test 0.31876700440941924\n"
     ]
    }
   ],
   "source": [
    "fold='test'\n",
    "maes = []\n",
    "xtop = []\n",
    "for quarter in range(1, 4 + 1):\n",
    "    x = deaths_gdf_with_autoregressive[(deaths_gdf_with_autoregressive['year'] == 2019) & (\n",
    "                deaths_gdf_with_autoregressive['quarter'] == quarter)][\n",
    "        ['grid_squar', 'lat', 'lon', 'timestep', 'theme_1_pc', 'theme_2_pc', 'theme_3_pc', 'theme_4_pc',\n",
    "         'svi_pctile', 'neighbor_t-1', 'self_t-1']]\n",
    "    y = deaths_gdf_with_autoregressive[(deaths_gdf_with_autoregressive['year'] == 2019) & (\n",
    "                deaths_gdf_with_autoregressive['quarter'] == quarter)][['grid_squar', 'timestep', 'deaths']]\n",
    "    _, _, _, fmean, fvar, gmean, gvar, _, _ = m.build_predict(x.loc[:,\n",
    "                                                              ['lat', 'lon', 'timestep', 'theme_1_pc',\n",
    "                                                               'theme_2_pc', 'theme_3_pc', 'theme_4_pc',\n",
    "                                                               'svi_pctile', 'neighbor_t-1',\n",
    "                                                               'self_t-1']].values)\n",
    "    sg_2019 = tf.math.softplus(fmean * normcdf(gmean) + 2).numpy()\n",
    "    pred_2019_df = pd.Series(sg_2019.squeeze(), index=y.grid_squar)\n",
    "\n",
    "    maes.append(mean_absolute_error(y.deaths, pred_2019_df))\n",
    "    xtop.append(fixed_top_X(y.set_index('grid_squar')['deaths'], pred_2019_df, 100)[-1])\n",
    "\n",
    "print(f'MAE {fold} {np.mean(maes)}')\n",
    "print(f'BPR-100 {fold} {np.mean(xtop)}')"
   ]
  },
  {
   "cell_type": "code",
   "execution_count": 10,
   "id": "4e79f25f",
   "metadata": {},
   "outputs": [],
   "source": [
    "fold='test'\n",
    "maes = []\n",
    "xtop = []\n",
    "for quarter in range(1, 4 + 1):\n",
    "    x = deaths_gdf_with_autoregressive[(deaths_gdf_with_autoregressive['year'] == 2019) & (\n",
    "                deaths_gdf_with_autoregressive['quarter'] == quarter)][\n",
    "        ['grid_squar', 'lat', 'lon', 'timestep', 'theme_1_pc', 'theme_2_pc', 'theme_3_pc', 'theme_4_pc',\n",
    "         'svi_pctile', 'neighbor_t-1', 'self_t-1']]\n",
    "    y = deaths_gdf_with_autoregressive[(deaths_gdf_with_autoregressive['year'] == 2019) & (\n",
    "                deaths_gdf_with_autoregressive['quarter'] == quarter)][['grid_squar', 'timestep', 'deaths']]\n",
    "    _, _, _, fmean, fvar, gmean, gvar, _, _ = m.build_predict(x.loc[:,\n",
    "                                                              ['lat', 'lon', 'timestep', 'theme_1_pc',\n",
    "                                                               'theme_2_pc', 'theme_3_pc', 'theme_4_pc',\n",
    "                                                               'svi_pctile', 'neighbor_t-1',\n",
    "                                                               'self_t-1']].values)\n",
    "       "
   ]
  },
  {
   "cell_type": "code",
   "execution_count": 43,
   "id": "bd9e4224",
   "metadata": {},
   "outputs": [
    {
     "name": "stdout",
     "output_type": "stream",
     "text": [
      "MAE train 0.2067282469294778\n",
      "BPR-100 train 0.2229348508994106\n",
      "Likelihood train 0.8157534738195406\n"
     ]
    }
   ],
   "source": [
    "fold='train'\n",
    "maes = []\n",
    "xtop = []\n",
    "likelihoods = []\n",
    "for year in range(2000,2018):\n",
    "    for quarter in range(1, 4 + 1):\n",
    "        x = deaths_gdf_with_autoregressive[(deaths_gdf_with_autoregressive['year'] == year) & (\n",
    "                    deaths_gdf_with_autoregressive['quarter'] == quarter)][\n",
    "            ['grid_squar', 'lat', 'lon', 'timestep', 'theme_1_pc', 'theme_2_pc', 'theme_3_pc', 'theme_4_pc',\n",
    "             'svi_pctile', 'neighbor_t-1', 'self_t-1']]\n",
    "        y = deaths_gdf_with_autoregressive[(deaths_gdf_with_autoregressive['year'] == year) & (\n",
    "                    deaths_gdf_with_autoregressive['quarter'] == quarter)][['grid_squar', 'timestep', 'deaths']]\n",
    "        _, _, _, fmean, fvar, gmean, gvar, _, _ = m.build_predict(x.loc[:,\n",
    "                                                                  ['lat', 'lon', 'timestep', 'theme_1_pc',\n",
    "                                                                   'theme_2_pc', 'theme_3_pc', 'theme_4_pc',\n",
    "                                                                   'svi_pctile', 'neighbor_t-1',\n",
    "                                                                   'self_t-1']].values)\n",
    "        \n",
    "        data_shape = fmean.shape\n",
    "        u = tf.random.normal(shape=data_shape + (1000,), dtype=default_float())\n",
    "        w = tf.random.normal(shape=data_shape + (1000,), dtype=default_float())\n",
    "\n",
    "        # Expand dims to give the mean a sample dimension\n",
    "        g_mean_NDS = tf.expand_dims(gmean, -1)\n",
    "        g_std_NDS = tf.expand_dims(tf.math.sqrt(gvar), -1)\n",
    "        g_samples = g_mean_NDS + u * g_std_NDS\n",
    "        del u\n",
    "        phi_g_samples = normcdf(g_samples)\n",
    "        del g_samples\n",
    "\n",
    "        f_mean_NDS = tf.expand_dims(fmean, -1)\n",
    "        f_var_NDS = tf.expand_dims(fvar, -1)\n",
    "        f_std_NDS = tf.math.sqrt(f_var_NDS)\n",
    "        f_samples = f_mean_NDS * phi_g_samples + w * f_std_NDS * phi_g_samples\n",
    "\n",
    "        shifted_softplus_f_samples = tf.math.softplus(f_samples+2)\n",
    "        del f_samples\n",
    "\n",
    "        y_poi = tfp.distributions.Poisson(rate=shifted_softplus_f_samples,\n",
    "                                          force_probs_to_zero_outside_support=True)\n",
    "        y_NDS = tf.expand_dims(tf.expand_dims(tf.cast(y['deaths'],dtype=default_float()),-1),-1)\n",
    "        y_is_zero = tf.cast(y_NDS==0, default_float())\n",
    "        py_if_zero = (1-phi_g_samples) + phi_g_samples*y_poi.prob(y_NDS)\n",
    "        py_if_greater = phi_g_samples*y_poi.prob(y_NDS)\n",
    "        py = y_is_zero*py_if_zero + (1-y_is_zero)*py_if_greater\n",
    "\n",
    "        likelihoods.append(np.mean(np.mean(py,-1)))\n",
    "        \n",
    "        sg_2019 = tf.math.softplus(fmean * normcdf(gmean) + 2).numpy()\n",
    "        pred_2019_df = pd.Series(sg_2019.squeeze(), index=y.grid_squar)\n",
    "\n",
    "        maes.append(mean_absolute_error(y.deaths, pred_2019_df))\n",
    "        xtop.append(fixed_top_X(y.set_index('grid_squar')['deaths'], pred_2019_df, 100)[-1])\n",
    "        \n",
    "print(f'MAE {fold} {np.mean(maes)}')\n",
    "print(f'BPR-100 {fold} {np.mean(xtop)}')\n",
    "print(f'Likelihood {fold} {np.mean(likelihoods)}')"
   ]
  },
  {
   "cell_type": "code",
   "execution_count": 14,
   "id": "2b3c4663",
   "metadata": {},
   "outputs": [
    {
     "name": "stdout",
     "output_type": "stream",
     "text": [
      "MAE test 0.34360763608148787\n",
      "BPR-100 test 0.31876700440941924\n",
      "Likelihood test 0.7018913444098649\n"
     ]
    }
   ],
   "source": [
    "fold='test'\n",
    "maes = []\n",
    "xtop = []\n",
    "likelihoods = []\n",
    "for year in range(2019,2020):\n",
    "    for quarter in range(1, 4 + 1):\n",
    "        x = deaths_gdf_with_autoregressive[(deaths_gdf_with_autoregressive['year'] == year) & (\n",
    "                    deaths_gdf_with_autoregressive['quarter'] == quarter)][\n",
    "            ['grid_squar', 'lat', 'lon', 'timestep', 'theme_1_pc', 'theme_2_pc', 'theme_3_pc', 'theme_4_pc',\n",
    "             'svi_pctile', 'neighbor_t-1', 'self_t-1']]\n",
    "        y = deaths_gdf_with_autoregressive[(deaths_gdf_with_autoregressive['year'] == year) & (\n",
    "                    deaths_gdf_with_autoregressive['quarter'] == quarter)][['grid_squar', 'timestep', 'deaths']]\n",
    "        _, _, _, fmean, fvar, gmean, gvar, _, _ = m.build_predict(x.loc[:,\n",
    "                                                                  ['lat', 'lon', 'timestep', 'theme_1_pc',\n",
    "                                                                   'theme_2_pc', 'theme_3_pc', 'theme_4_pc',\n",
    "                                                                   'svi_pctile', 'neighbor_t-1',\n",
    "                                                                   'self_t-1']].values)\n",
    "        \n",
    "        data_shape = fmean.shape\n",
    "        u = tf.random.normal(shape=data_shape + (1000,), dtype=default_float())\n",
    "        w = tf.random.normal(shape=data_shape + (1000,), dtype=default_float())\n",
    "\n",
    "        # Expand dims to give the mean a sample dimension\n",
    "        g_mean_NDS = tf.expand_dims(gmean, -1)\n",
    "        g_std_NDS = tf.expand_dims(tf.math.sqrt(gvar), -1)\n",
    "        g_samples = g_mean_NDS + u * g_std_NDS\n",
    "        del u\n",
    "        phi_g_samples = normcdf(g_samples)\n",
    "        del g_samples\n",
    "\n",
    "        f_mean_NDS = tf.expand_dims(fmean, -1)\n",
    "        f_var_NDS = tf.expand_dims(fvar, -1)\n",
    "        f_std_NDS = tf.math.sqrt(f_var_NDS)\n",
    "        f_samples = f_mean_NDS * phi_g_samples + w * f_std_NDS * phi_g_samples\n",
    "\n",
    "        shifted_softplus_f_samples = tf.math.softplus(f_samples+2)\n",
    "        del f_samples\n",
    "\n",
    "        y_poi = tfp.distributions.Poisson(rate=shifted_softplus_f_samples,\n",
    "                                          force_probs_to_zero_outside_support=True)\n",
    "        y_NDS = tf.expand_dims(tf.expand_dims(tf.cast(y['deaths'],dtype=default_float()),-1),-1)\n",
    "        y_is_zero = tf.cast(y_NDS==0, default_float())\n",
    "        py_if_zero = (1-phi_g_samples) + phi_g_samples*y_poi.prob(y_NDS)\n",
    "        py_if_greater = phi_g_samples*y_poi.prob(y_NDS)\n",
    "        py = y_is_zero*py_if_zero + (1-y_is_zero)*py_if_greater\n",
    "\n",
    "        likelihoods.append(np.mean(np.mean(py,-1)))\n",
    "        \n",
    "        sg_2019 = tf.math.softplus(fmean * normcdf(gmean) + 2).numpy()\n",
    "        pred_2019_df = pd.Series(sg_2019.squeeze(), index=y.grid_squar)\n",
    "\n",
    "        maes.append(mean_absolute_error(y.deaths, pred_2019_df))\n",
    "        xtop.append(fixed_top_X(y.set_index('grid_squar')['deaths'], pred_2019_df, 100)[-1])\n",
    "        \n",
    "print(f'MAE {fold} {np.mean(maes)}')\n",
    "print(f'BPR-100 {fold} {np.mean(xtop)}')\n",
    "print(f'Likelihood {fold} {np.mean(likelihoods)}')"
   ]
  },
  {
   "cell_type": "code",
   "execution_count": 49,
   "id": "85bbf5cf",
   "metadata": {},
   "outputs": [
    {
     "data": {
      "text/plain": [
       "<tf.Tensor: shape=(), dtype=float32, numpy=0.88692045>"
      ]
     },
     "execution_count": 49,
     "metadata": {},
     "output_type": "execute_result"
    }
   ],
   "source": [
    "tfp.distributions.Poisson(rate=0.12).prob(0)"
   ]
  },
  {
   "cell_type": "code",
   "execution_count": 138,
   "id": "0a24c86a",
   "metadata": {
    "scrolled": true
   },
   "outputs": [
    {
     "name": "stdout",
     "output_type": "stream",
     "text": [
      "Likelihood test: 0.9220026908663563\n",
      "MAE test 0.38921212018495843\n"
     ]
    }
   ],
   "source": [
    "norm_mean, norm_var, _, _, _, _, _, _, _ =  m.predict_onoffgp(x_just_2019.iloc[:,1:])\n",
    "fold='test'\n",
    "norm_cdf_upper_bound = y_just_2019['deaths'].values+0.5\n",
    "norm_cdf_lower_bound = y_just_2019['deaths'].values-0.5\n",
    "norm_likelihood_upper =  0.5 * (1.0 + scipy.special.erf((norm_cdf_upper_bound-norm_mean) / (np.sqrt(norm_var)*np.sqrt(2.0))))\n",
    "norm_likelihood_lower =  0.5 * (1.0 + scipy.special.erf((norm_cdf_lower_bound-norm_mean) / (np.sqrt(norm_var)*np.sqrt(2.0))))\n",
    "norm_likelihood_lower[norm_cdf_lower_bound==-0.5] = 0\n",
    "\n",
    "print(f'Likelihood {fold}: {np.mean(norm_likelihood_upper-norm_likelihood_lower)}')\n",
    "print(f\"MAE {fold} {mean_absolute_error(y_just_2019['deaths'].values, norm_mean)}\")"
   ]
  },
  {
   "cell_type": "code",
   "execution_count": 11,
   "id": "fc9a9d07",
   "metadata": {},
   "outputs": [
    {
     "ename": "AttributeError",
     "evalue": "'DataFrame' object has no attribute 'dtype'",
     "output_type": "error",
     "traceback": [
      "\u001b[0;31m---------------------------------------------------------------------------\u001b[0m",
      "\u001b[0;31mAttributeError\u001b[0m                            Traceback (most recent call last)",
      "Input \u001b[0;32mIn [11]\u001b[0m, in \u001b[0;36m<cell line: 2>\u001b[0;34m()\u001b[0m\n\u001b[1;32m      3\u001b[0m xq \u001b[38;5;241m=\u001b[39m deaths_gdf_with_autoregressive[(deaths_gdf_with_autoregressive[\u001b[38;5;124m'\u001b[39m\u001b[38;5;124myear\u001b[39m\u001b[38;5;124m'\u001b[39m]\u001b[38;5;241m==\u001b[39m\u001b[38;5;241m2019\u001b[39m) \u001b[38;5;241m&\u001b[39m (deaths_gdf_with_autoregressive[\u001b[38;5;124m'\u001b[39m\u001b[38;5;124mquarter\u001b[39m\u001b[38;5;124m'\u001b[39m]\u001b[38;5;241m==\u001b[39mquarter)][[\u001b[38;5;124m'\u001b[39m\u001b[38;5;124mgrid_squar\u001b[39m\u001b[38;5;124m'\u001b[39m,\u001b[38;5;124m'\u001b[39m\u001b[38;5;124mlat\u001b[39m\u001b[38;5;124m'\u001b[39m, \u001b[38;5;124m'\u001b[39m\u001b[38;5;124mlon\u001b[39m\u001b[38;5;124m'\u001b[39m, \u001b[38;5;124m'\u001b[39m\u001b[38;5;124mtimestep\u001b[39m\u001b[38;5;124m'\u001b[39m, \u001b[38;5;124m'\u001b[39m\u001b[38;5;124mtheme_1_pc\u001b[39m\u001b[38;5;124m'\u001b[39m, \u001b[38;5;124m'\u001b[39m\u001b[38;5;124mtheme_2_pc\u001b[39m\u001b[38;5;124m'\u001b[39m, \u001b[38;5;124m'\u001b[39m\u001b[38;5;124mtheme_3_pc\u001b[39m\u001b[38;5;124m'\u001b[39m, \u001b[38;5;124m'\u001b[39m\u001b[38;5;124mtheme_4_pc\u001b[39m\u001b[38;5;124m'\u001b[39m, \u001b[38;5;124m'\u001b[39m\u001b[38;5;124msvi_pctile\u001b[39m\u001b[38;5;124m'\u001b[39m,\u001b[38;5;124m'\u001b[39m\u001b[38;5;124mneighbor_t-1\u001b[39m\u001b[38;5;124m'\u001b[39m, \u001b[38;5;124m'\u001b[39m\u001b[38;5;124mself_t-1\u001b[39m\u001b[38;5;124m'\u001b[39m]]\n\u001b[1;32m      4\u001b[0m yq \u001b[38;5;241m=\u001b[39m deaths_gdf_with_autoregressive[(deaths_gdf_with_autoregressive[\u001b[38;5;124m'\u001b[39m\u001b[38;5;124myear\u001b[39m\u001b[38;5;124m'\u001b[39m]\u001b[38;5;241m==\u001b[39m\u001b[38;5;241m2019\u001b[39m) \u001b[38;5;241m&\u001b[39m (deaths_gdf_with_autoregressive[\u001b[38;5;124m'\u001b[39m\u001b[38;5;124mquarter\u001b[39m\u001b[38;5;124m'\u001b[39m]\u001b[38;5;241m==\u001b[39mquarter)][[\u001b[38;5;124m'\u001b[39m\u001b[38;5;124mgrid_squar\u001b[39m\u001b[38;5;124m'\u001b[39m,\u001b[38;5;124m'\u001b[39m\u001b[38;5;124mtimestep\u001b[39m\u001b[38;5;124m'\u001b[39m, \u001b[38;5;124m'\u001b[39m\u001b[38;5;124mdeaths\u001b[39m\u001b[38;5;124m'\u001b[39m]]\n\u001b[0;32m----> 7\u001b[0m norm_mean, norm_var, _, _, _, _, _, _, _ \u001b[38;5;241m=\u001b[39m  \u001b[43mm\u001b[49m\u001b[38;5;241;43m.\u001b[39;49m\u001b[43mpredict_onoffgp\u001b[49m\u001b[43m(\u001b[49m\u001b[43mxq\u001b[49m\u001b[38;5;241;43m.\u001b[39;49m\u001b[43miloc\u001b[49m\u001b[43m[\u001b[49m\u001b[43m:\u001b[49m\u001b[43m,\u001b[49m\u001b[38;5;241;43m1\u001b[39;49m\u001b[43m:\u001b[49m\u001b[43m]\u001b[49m\u001b[43m)\u001b[49m\n\u001b[1;32m      8\u001b[0m fold\u001b[38;5;241m=\u001b[39m\u001b[38;5;124m'\u001b[39m\u001b[38;5;124mtest\u001b[39m\u001b[38;5;124m'\u001b[39m\n\u001b[1;32m      9\u001b[0m norm_cdf_upper_bound \u001b[38;5;241m=\u001b[39m yq[\u001b[38;5;124m'\u001b[39m\u001b[38;5;124mdeaths\u001b[39m\u001b[38;5;124m'\u001b[39m]\u001b[38;5;241m.\u001b[39mvalues\u001b[38;5;241m+\u001b[39m\u001b[38;5;241m0.5\u001b[39m\n",
      "File \u001b[0;32m~/code/zero-inflated-gp/onoffgpf/OnOffSVGP.py:169\u001b[0m, in \u001b[0;36mOnOffSVGP.predict_onoffgp\u001b[0;34m(self, Xnew)\u001b[0m\n\u001b[1;32m    167\u001b[0m \u001b[38;5;28;01mdef\u001b[39;00m \u001b[38;5;21mpredict_onoffgp\u001b[39m(\u001b[38;5;28mself\u001b[39m, Xnew):\n\u001b[1;32m    168\u001b[0m     \u001b[38;5;124;03m\"\"\"Formerly used AutoFlow \"\"\"\u001b[39;00m\n\u001b[0;32m--> 169\u001b[0m     \u001b[38;5;28;01mreturn\u001b[39;00m \u001b[38;5;28;43mself\u001b[39;49m\u001b[38;5;241;43m.\u001b[39;49m\u001b[43mbuild_predict\u001b[49m\u001b[43m(\u001b[49m\u001b[43mXnew\u001b[49m\u001b[43m)\u001b[49m\n",
      "File \u001b[0;32m~/code/zero-inflated-gp/onoffgpf/OnOffSVGP.py:140\u001b[0m, in \u001b[0;36mOnOffSVGP.build_predict\u001b[0;34m(self, Xnew)\u001b[0m\n\u001b[1;32m    134\u001b[0m \u001b[38;5;66;03m# Get conditionals\u001b[39;00m\n\u001b[1;32m    135\u001b[0m \u001b[38;5;66;03m# returns mean, variance for marginal distributions q(f) and q(g)\u001b[39;00m\n\u001b[1;32m    136\u001b[0m \u001b[38;5;66;03m# q(f) = \\int q(f|u_f) q(u_f) du_f\u001b[39;00m\n\u001b[1;32m    137\u001b[0m \u001b[38;5;66;03m# q(f) = N(f|A*u_fm,Kfnn + A(u_fs - Kfmm)t(A))  A = Kfnm*inv(Kfmm)\u001b[39;00m\n\u001b[1;32m    138\u001b[0m fmean, fvar \u001b[38;5;241m=\u001b[39m conditionals\u001b[38;5;241m.\u001b[39mconditional(Xnew, \u001b[38;5;28mself\u001b[39m\u001b[38;5;241m.\u001b[39mZf, \u001b[38;5;28mself\u001b[39m\u001b[38;5;241m.\u001b[39mkernf, \u001b[38;5;28mself\u001b[39m\u001b[38;5;241m.\u001b[39mu_fm,\n\u001b[1;32m    139\u001b[0m                                        full_cov\u001b[38;5;241m=\u001b[39m\u001b[38;5;28;01mFalse\u001b[39;00m, q_sqrt\u001b[38;5;241m=\u001b[39m\u001b[38;5;28mself\u001b[39m\u001b[38;5;241m.\u001b[39mu_fs_sqrt, )\n\u001b[0;32m--> 140\u001b[0m fmean \u001b[38;5;241m=\u001b[39m fmean \u001b[38;5;241m+\u001b[39m \u001b[38;5;28;43mself\u001b[39;49m\u001b[38;5;241;43m.\u001b[39;49m\u001b[43mmean_function\u001b[49m\u001b[43m(\u001b[49m\u001b[43mXnew\u001b[49m\u001b[43m)\u001b[49m\n\u001b[1;32m    142\u001b[0m gmean, gvar \u001b[38;5;241m=\u001b[39m conditionals\u001b[38;5;241m.\u001b[39mconditional(Xnew, \u001b[38;5;28mself\u001b[39m\u001b[38;5;241m.\u001b[39mZg, \u001b[38;5;28mself\u001b[39m\u001b[38;5;241m.\u001b[39mkerng, \u001b[38;5;28mself\u001b[39m\u001b[38;5;241m.\u001b[39mu_gm,\n\u001b[1;32m    143\u001b[0m                                        full_cov\u001b[38;5;241m=\u001b[39m\u001b[38;5;28;01mFalse\u001b[39;00m, q_sqrt\u001b[38;5;241m=\u001b[39m\u001b[38;5;28mself\u001b[39m\u001b[38;5;241m.\u001b[39mu_gs_sqrt, )\n\u001b[1;32m    145\u001b[0m \u001b[38;5;66;03m# probit transformed expectations for  gamma\u001b[39;00m\n",
      "File \u001b[0;32m/cluster/tufts/hugheslab/kheuto01/miniconda3/envs/modern_zigp/lib/python3.9/site-packages/gpflow/mean_functions.py:152\u001b[0m, in \u001b[0;36mZero.__call__\u001b[0;34m(self, X)\u001b[0m\n\u001b[1;32m    150\u001b[0m \u001b[38;5;28;01mdef\u001b[39;00m \u001b[38;5;21m__call__\u001b[39m(\u001b[38;5;28mself\u001b[39m, X: TensorType) \u001b[38;5;241m-\u001b[39m\u001b[38;5;241m>\u001b[39m tf\u001b[38;5;241m.\u001b[39mTensor:\n\u001b[1;32m    151\u001b[0m     output_shape \u001b[38;5;241m=\u001b[39m tf\u001b[38;5;241m.\u001b[39mconcat([tf\u001b[38;5;241m.\u001b[39mshape(X)[:\u001b[38;5;241m-\u001b[39m\u001b[38;5;241m1\u001b[39m], [\u001b[38;5;28mself\u001b[39m\u001b[38;5;241m.\u001b[39moutput_dim]], axis\u001b[38;5;241m=\u001b[39m\u001b[38;5;241m0\u001b[39m)\n\u001b[0;32m--> 152\u001b[0m     \u001b[38;5;28;01mreturn\u001b[39;00m tf\u001b[38;5;241m.\u001b[39mzeros(output_shape, dtype\u001b[38;5;241m=\u001b[39m\u001b[43mX\u001b[49m\u001b[38;5;241;43m.\u001b[39;49m\u001b[43mdtype\u001b[49m)\n",
      "File \u001b[0;32m/cluster/tufts/hugheslab/kheuto01/miniconda3/envs/modern_zigp/lib/python3.9/site-packages/pandas/core/generic.py:5575\u001b[0m, in \u001b[0;36mNDFrame.__getattr__\u001b[0;34m(self, name)\u001b[0m\n\u001b[1;32m   5568\u001b[0m \u001b[38;5;28;01mif\u001b[39;00m (\n\u001b[1;32m   5569\u001b[0m     name \u001b[38;5;129;01mnot\u001b[39;00m \u001b[38;5;129;01min\u001b[39;00m \u001b[38;5;28mself\u001b[39m\u001b[38;5;241m.\u001b[39m_internal_names_set\n\u001b[1;32m   5570\u001b[0m     \u001b[38;5;129;01mand\u001b[39;00m name \u001b[38;5;129;01mnot\u001b[39;00m \u001b[38;5;129;01min\u001b[39;00m \u001b[38;5;28mself\u001b[39m\u001b[38;5;241m.\u001b[39m_metadata\n\u001b[1;32m   5571\u001b[0m     \u001b[38;5;129;01mand\u001b[39;00m name \u001b[38;5;129;01mnot\u001b[39;00m \u001b[38;5;129;01min\u001b[39;00m \u001b[38;5;28mself\u001b[39m\u001b[38;5;241m.\u001b[39m_accessors\n\u001b[1;32m   5572\u001b[0m     \u001b[38;5;129;01mand\u001b[39;00m \u001b[38;5;28mself\u001b[39m\u001b[38;5;241m.\u001b[39m_info_axis\u001b[38;5;241m.\u001b[39m_can_hold_identifiers_and_holds_name(name)\n\u001b[1;32m   5573\u001b[0m ):\n\u001b[1;32m   5574\u001b[0m     \u001b[38;5;28;01mreturn\u001b[39;00m \u001b[38;5;28mself\u001b[39m[name]\n\u001b[0;32m-> 5575\u001b[0m \u001b[38;5;28;01mreturn\u001b[39;00m \u001b[38;5;28;43mobject\u001b[39;49m\u001b[38;5;241;43m.\u001b[39;49m\u001b[38;5;21;43m__getattribute__\u001b[39;49m\u001b[43m(\u001b[49m\u001b[38;5;28;43mself\u001b[39;49m\u001b[43m,\u001b[49m\u001b[43m \u001b[49m\u001b[43mname\u001b[49m\u001b[43m)\u001b[49m\n",
      "\u001b[0;31mAttributeError\u001b[0m: 'DataFrame' object has no attribute 'dtype'"
     ]
    }
   ],
   "source": [
    "bprs=[]\n",
    "for quarter in range(1,5):\n",
    "    xq = deaths_gdf_with_autoregressive[(deaths_gdf_with_autoregressive['year']==2019) & (deaths_gdf_with_autoregressive['quarter']==quarter)][['grid_squar','lat', 'lon', 'timestep', 'theme_1_pc', 'theme_2_pc', 'theme_3_pc', 'theme_4_pc', 'svi_pctile','neighbor_t-1', 'self_t-1']]\n",
    "    yq = deaths_gdf_with_autoregressive[(deaths_gdf_with_autoregressive['year']==2019) & (deaths_gdf_with_autoregressive['quarter']==quarter)][['grid_squar','timestep', 'deaths']]\n",
    "\n",
    "    \n",
    "    norm_mean, norm_var, _, _, _, _, _, _, _ =  m.predict_onoffgp(xq.iloc[:,1:])\n",
    "    fold='test'\n",
    "    norm_cdf_upper_bound = yq['deaths'].values+0.5\n",
    "    norm_cdf_lower_bound = yq['deaths'].values-0.5\n",
    "    norm_likelihood_upper =  0.5 * (1.0 + scipy.special.erf((norm_cdf_upper_bound-norm_mean) / (np.sqrt(norm_var)*np.sqrt(2.0))))\n",
    "    norm_likelihood_lower =  0.5 * (1.0 + scipy.special.erf((norm_cdf_lower_bound-norm_mean) / (np.sqrt(norm_var)*np.sqrt(2.0))))\n",
    "    norm_likelihood_lower[norm_cdf_lower_bound==-0.5] = 0\n",
    "    \n",
    "    bpr = fixed_top_X(yq.set_index(['grid_squar'])['deaths'], pd.Series(norm_mean.squeeze(), index=x_just_2019q1.grid_squar), X=100)[-1]\n",
    "    bprs.append(bpr)\n",
    "    \n",
    "print(f'Test bpr-100: {np.mean(bprs)}')"
   ]
  },
  {
   "cell_type": "code",
   "execution_count": 166,
   "id": "e75d968e",
   "metadata": {},
   "outputs": [
    {
     "data": {
      "text/plain": [
       "0.3448142414860681"
      ]
     },
     "execution_count": 166,
     "metadata": {},
     "output_type": "execute_result"
    }
   ],
   "source": []
  },
  {
   "cell_type": "code",
   "execution_count": 159,
   "id": "d9ae93a9",
   "metadata": {},
   "outputs": [
    {
     "data": {
      "text/plain": [
       "'1.1.5'"
      ]
     },
     "execution_count": 159,
     "metadata": {},
     "output_type": "execute_result"
    }
   ],
   "source": [
    "pd.__version__"
   ]
  },
  {
   "cell_type": "code",
   "execution_count": 89,
   "id": "b4da5e57",
   "metadata": {},
   "outputs": [],
   "source": [
    "import scipy"
   ]
  },
  {
   "cell_type": "code",
   "execution_count": 21,
   "id": "c2072306",
   "metadata": {},
   "outputs": [
    {
     "data": {
      "text/plain": [
       "<module 'gpflow' from '/cluster/tufts/hugheslab/kheuto01/miniconda3/envs/zigp_36/lib/python3.6/site-packages/gpflow/__init__.py'>"
      ]
     },
     "execution_count": 21,
     "metadata": {},
     "output_type": "execute_result"
    }
   ],
   "source": [
    "gpflow"
   ]
  },
  {
   "cell_type": "code",
   "execution_count": 22,
   "id": "5055704a",
   "metadata": {},
   "outputs": [
    {
     "data": {
      "text/plain": [
       "'0.4.0'"
      ]
     },
     "execution_count": 22,
     "metadata": {},
     "output_type": "execute_result"
    }
   ],
   "source": [
    "gpflow.__version__"
   ]
  },
  {
   "cell_type": "code",
   "execution_count": 61,
   "id": "704818fc",
   "metadata": {},
   "outputs": [],
   "source": [
    "def normcdf(x, mean, std_dev):\n",
    "    return 0.5 * (1.0 + tf.math.erf((x-mean) / (std_dev*np.sqrt(2.0)))) "
   ]
  },
  {
   "cell_type": "code",
   "execution_count": 40,
   "id": "c4c36a58",
   "metadata": {},
   "outputs": [
    {
     "data": {
      "text/plain": [
       "(123120, 8)"
      ]
     },
     "execution_count": 40,
     "metadata": {},
     "output_type": "execute_result"
    }
   ],
   "source": [
    ".shape"
   ]
  },
  {
   "cell_type": "code",
   "execution_count": 126,
   "id": "1c96bebe",
   "metadata": {},
   "outputs": [
    {
     "data": {
      "text/html": [
       "<div>\n",
       "<style scoped>\n",
       "    .dataframe tbody tr th:only-of-type {\n",
       "        vertical-align: middle;\n",
       "    }\n",
       "\n",
       "    .dataframe tbody tr th {\n",
       "        vertical-align: top;\n",
       "    }\n",
       "\n",
       "    .dataframe thead th {\n",
       "        text-align: right;\n",
       "    }\n",
       "</style>\n",
       "<table border=\"1\" class=\"dataframe\">\n",
       "  <thead>\n",
       "    <tr style=\"text-align: right;\">\n",
       "      <th></th>\n",
       "      <th>grid_squar</th>\n",
       "      <th>lat</th>\n",
       "      <th>lon</th>\n",
       "      <th>timestep</th>\n",
       "      <th>theme_1_pc</th>\n",
       "      <th>theme_2_pc</th>\n",
       "      <th>theme_3_pc</th>\n",
       "      <th>theme_4_pc</th>\n",
       "      <th>svi_pctile</th>\n",
       "      <th>neighbor_t-1</th>\n",
       "      <th>self_t-1</th>\n",
       "    </tr>\n",
       "  </thead>\n",
       "  <tbody>\n",
       "    <tr>\n",
       "      <th>76</th>\n",
       "      <td>25001010100</td>\n",
       "      <td>42.059829</td>\n",
       "      <td>-70.200407</td>\n",
       "      <td>76.0</td>\n",
       "      <td>0.5846</td>\n",
       "      <td>0.3659</td>\n",
       "      <td>0.2235</td>\n",
       "      <td>0.8203</td>\n",
       "      <td>0.5854</td>\n",
       "      <td>0.000000</td>\n",
       "      <td>0.0</td>\n",
       "    </tr>\n",
       "    <tr>\n",
       "      <th>77</th>\n",
       "      <td>25001010100</td>\n",
       "      <td>42.059829</td>\n",
       "      <td>-70.200407</td>\n",
       "      <td>77.0</td>\n",
       "      <td>0.5846</td>\n",
       "      <td>0.3659</td>\n",
       "      <td>0.2235</td>\n",
       "      <td>0.8203</td>\n",
       "      <td>0.5854</td>\n",
       "      <td>0.000000</td>\n",
       "      <td>0.0</td>\n",
       "    </tr>\n",
       "    <tr>\n",
       "      <th>78</th>\n",
       "      <td>25001010100</td>\n",
       "      <td>42.059829</td>\n",
       "      <td>-70.200407</td>\n",
       "      <td>78.0</td>\n",
       "      <td>0.5846</td>\n",
       "      <td>0.3659</td>\n",
       "      <td>0.2235</td>\n",
       "      <td>0.8203</td>\n",
       "      <td>0.5854</td>\n",
       "      <td>0.000000</td>\n",
       "      <td>0.0</td>\n",
       "    </tr>\n",
       "    <tr>\n",
       "      <th>79</th>\n",
       "      <td>25001010100</td>\n",
       "      <td>42.059829</td>\n",
       "      <td>-70.200407</td>\n",
       "      <td>79.0</td>\n",
       "      <td>0.5846</td>\n",
       "      <td>0.3659</td>\n",
       "      <td>0.2235</td>\n",
       "      <td>0.8203</td>\n",
       "      <td>0.5854</td>\n",
       "      <td>0.000000</td>\n",
       "      <td>1.0</td>\n",
       "    </tr>\n",
       "    <tr>\n",
       "      <th>164</th>\n",
       "      <td>25001010206</td>\n",
       "      <td>41.922636</td>\n",
       "      <td>-70.015368</td>\n",
       "      <td>76.0</td>\n",
       "      <td>0.6196</td>\n",
       "      <td>0.5629</td>\n",
       "      <td>0.0957</td>\n",
       "      <td>0.5658</td>\n",
       "      <td>0.5244</td>\n",
       "      <td>0.000000</td>\n",
       "      <td>0.0</td>\n",
       "    </tr>\n",
       "    <tr>\n",
       "      <th>...</th>\n",
       "      <td>...</td>\n",
       "      <td>...</td>\n",
       "      <td>...</td>\n",
       "      <td>...</td>\n",
       "      <td>...</td>\n",
       "      <td>...</td>\n",
       "      <td>...</td>\n",
       "      <td>...</td>\n",
       "      <td>...</td>\n",
       "      <td>...</td>\n",
       "      <td>...</td>\n",
       "    </tr>\n",
       "    <tr>\n",
       "      <th>142463</th>\n",
       "      <td>25027761401</td>\n",
       "      <td>42.489753</td>\n",
       "      <td>-71.579677</td>\n",
       "      <td>79.0</td>\n",
       "      <td>0.2906</td>\n",
       "      <td>0.4124</td>\n",
       "      <td>0.3944</td>\n",
       "      <td>0.1598</td>\n",
       "      <td>0.2237</td>\n",
       "      <td>0.333333</td>\n",
       "      <td>0.0</td>\n",
       "    </tr>\n",
       "    <tr>\n",
       "      <th>142548</th>\n",
       "      <td>25027761402</td>\n",
       "      <td>42.531342</td>\n",
       "      <td>-71.592751</td>\n",
       "      <td>76.0</td>\n",
       "      <td>0.2906</td>\n",
       "      <td>0.4124</td>\n",
       "      <td>0.3944</td>\n",
       "      <td>0.1598</td>\n",
       "      <td>0.2237</td>\n",
       "      <td>0.250000</td>\n",
       "      <td>0.0</td>\n",
       "    </tr>\n",
       "    <tr>\n",
       "      <th>142549</th>\n",
       "      <td>25027761402</td>\n",
       "      <td>42.531342</td>\n",
       "      <td>-71.592751</td>\n",
       "      <td>77.0</td>\n",
       "      <td>0.2906</td>\n",
       "      <td>0.4124</td>\n",
       "      <td>0.3944</td>\n",
       "      <td>0.1598</td>\n",
       "      <td>0.2237</td>\n",
       "      <td>0.125000</td>\n",
       "      <td>0.0</td>\n",
       "    </tr>\n",
       "    <tr>\n",
       "      <th>142550</th>\n",
       "      <td>25027761402</td>\n",
       "      <td>42.531342</td>\n",
       "      <td>-71.592751</td>\n",
       "      <td>78.0</td>\n",
       "      <td>0.2906</td>\n",
       "      <td>0.4124</td>\n",
       "      <td>0.3944</td>\n",
       "      <td>0.1598</td>\n",
       "      <td>0.2237</td>\n",
       "      <td>0.500000</td>\n",
       "      <td>0.0</td>\n",
       "    </tr>\n",
       "    <tr>\n",
       "      <th>142551</th>\n",
       "      <td>25027761402</td>\n",
       "      <td>42.531342</td>\n",
       "      <td>-71.592751</td>\n",
       "      <td>79.0</td>\n",
       "      <td>0.2906</td>\n",
       "      <td>0.4124</td>\n",
       "      <td>0.3944</td>\n",
       "      <td>0.1598</td>\n",
       "      <td>0.2237</td>\n",
       "      <td>0.250000</td>\n",
       "      <td>0.0</td>\n",
       "    </tr>\n",
       "  </tbody>\n",
       "</table>\n",
       "<p>6480 rows × 11 columns</p>\n",
       "</div>"
      ],
      "text/plain": [
       "         grid_squar        lat        lon  timestep  theme_1_pc  theme_2_pc  \\\n",
       "76      25001010100  42.059829 -70.200407      76.0      0.5846      0.3659   \n",
       "77      25001010100  42.059829 -70.200407      77.0      0.5846      0.3659   \n",
       "78      25001010100  42.059829 -70.200407      78.0      0.5846      0.3659   \n",
       "79      25001010100  42.059829 -70.200407      79.0      0.5846      0.3659   \n",
       "164     25001010206  41.922636 -70.015368      76.0      0.6196      0.5629   \n",
       "...             ...        ...        ...       ...         ...         ...   \n",
       "142463  25027761401  42.489753 -71.579677      79.0      0.2906      0.4124   \n",
       "142548  25027761402  42.531342 -71.592751      76.0      0.2906      0.4124   \n",
       "142549  25027761402  42.531342 -71.592751      77.0      0.2906      0.4124   \n",
       "142550  25027761402  42.531342 -71.592751      78.0      0.2906      0.4124   \n",
       "142551  25027761402  42.531342 -71.592751      79.0      0.2906      0.4124   \n",
       "\n",
       "        theme_3_pc  theme_4_pc  svi_pctile  neighbor_t-1  self_t-1  \n",
       "76          0.2235      0.8203      0.5854      0.000000       0.0  \n",
       "77          0.2235      0.8203      0.5854      0.000000       0.0  \n",
       "78          0.2235      0.8203      0.5854      0.000000       0.0  \n",
       "79          0.2235      0.8203      0.5854      0.000000       1.0  \n",
       "164         0.0957      0.5658      0.5244      0.000000       0.0  \n",
       "...            ...         ...         ...           ...       ...  \n",
       "142463      0.3944      0.1598      0.2237      0.333333       0.0  \n",
       "142548      0.3944      0.1598      0.2237      0.250000       0.0  \n",
       "142549      0.3944      0.1598      0.2237      0.125000       0.0  \n",
       "142550      0.3944      0.1598      0.2237      0.500000       0.0  \n",
       "142551      0.3944      0.1598      0.2237      0.250000       0.0  \n",
       "\n",
       "[6480 rows x 11 columns]"
      ]
     },
     "execution_count": 126,
     "metadata": {},
     "output_type": "execute_result"
    }
   ],
   "source": [
    "x_just_2019"
   ]
  },
  {
   "cell_type": "code",
   "execution_count": 77,
   "id": "481542c7",
   "metadata": {},
   "outputs": [
    {
     "data": {
      "text/plain": [
       "0.9492438688236642"
      ]
     },
     "execution_count": 77,
     "metadata": {},
     "output_type": "execute_result"
    }
   ],
   "source": [
    "phi_g_samples.numpy().mean()"
   ]
  },
  {
   "cell_type": "code",
   "execution_count": 79,
   "id": "c623a0b4",
   "metadata": {},
   "outputs": [
    {
     "data": {
      "text/plain": [
       "[<matplotlib.lines.Line2D at 0x2b0c433784f0>]"
      ]
     },
     "execution_count": 79,
     "metadata": {},
     "output_type": "execute_result"
    },
    {
     "data": {
      "image/png": "[encoded data removed]",
      "text/plain": [
       "<Figure size 640x480 with 1 Axes>"
      ]
     },
     "metadata": {},
     "output_type": "display_data"
    }
   ],
   "source": [
    "plt.plot(phi_g_samples.numpy().mean(-1),'k.')"
   ]
  },
  {
   "cell_type": "code",
   "execution_count": 44,
   "id": "c91e255d",
   "metadata": {},
   "outputs": [
    {
     "data": {
      "text/plain": [
       "[<matplotlib.lines.Line2D at 0x2acf7eab8a60>]"
      ]
     },
     "execution_count": 44,
     "metadata": {},
     "output_type": "execute_result"
    },
    {
     "data": {
      "image/png": "[encoded data removed]",
      "text/plain": [
       "<Figure size 640x480 with 1 Axes>"
      ]
     },
     "metadata": {},
     "output_type": "display_data"
    }
   ],
   "source": [
    "plt.plot(py.numpy().mean(-1),'k.')"
   ]
  },
  {
   "cell_type": "code",
   "execution_count": 41,
   "id": "4ba362a7",
   "metadata": {},
   "outputs": [
    {
     "data": {
      "text/plain": [
       "1.1932367149758454"
      ]
     },
     "execution_count": 41,
     "metadata": {},
     "output_type": "execute_result"
    }
   ],
   "source": [
    "y[py.numpy().mean(-1)<0.4]['deaths'].mean()"
   ]
  },
  {
   "cell_type": "code",
   "execution_count": 48,
   "id": "02dc2c37",
   "metadata": {},
   "outputs": [
    {
     "data": {
      "text/plain": [
       "<tfp.distributions.Poisson 'Poisson' batch_shape=[1620, 1, 1000] event_shape=[] dtype=float64>"
      ]
     },
     "execution_count": 48,
     "metadata": {},
     "output_type": "execute_result"
    }
   ],
   "source": [
    "y_poi"
   ]
  },
  {
   "cell_type": "code",
   "execution_count": 50,
   "id": "f725e702",
   "metadata": {},
   "outputs": [
    {
     "data": {
      "text/plain": [
       "[0.9041401388936627,\n",
       " 0.9070702118924374,\n",
       " 0.8950933009603039,\n",
       " 0.904184030566403,\n",
       " 0.8900226309151863,\n",
       " 0.879015727751145,\n",
       " 0.8978723243521708,\n",
       " 0.8721729367214,\n",
       " 0.8666357322423973,\n",
       " 0.8733013992934966,\n",
       " 0.8845725835801617,\n",
       " 0.8728991564542715,\n",
       " 0.846677803922801,\n",
       " 0.8402057423555533,\n",
       " 0.8512017427581932,\n",
       " 0.8573155400666108,\n",
       " 0.8834652736764046,\n",
       " 0.8837128707788023,\n",
       " 0.8776145579022728,\n",
       " 0.8581779734902262,\n",
       " 0.871416292949756,\n",
       " 0.8527773895444528,\n",
       " 0.8604908774208015,\n",
       " 0.8609469541135103,\n",
       " 0.8561743389324775,\n",
       " 0.8562374471548267,\n",
       " 0.8312141958195834,\n",
       " 0.8405955969192547,\n",
       " 0.8199788325269818,\n",
       " 0.8448128404845341,\n",
       " 0.8627626818731521,\n",
       " 0.8618728992084238,\n",
       " 0.8483068157104608,\n",
       " 0.846696633605539,\n",
       " 0.8523957086140945,\n",
       " 0.8490644538113516,\n",
       " 0.8456741707860809,\n",
       " 0.8641955603357527,\n",
       " 0.8419094447306672,\n",
       " 0.8454763340655703,\n",
       " 0.8484384654429662,\n",
       " 0.8764927822021157,\n",
       " 0.8727964912564302,\n",
       " 0.8562253205050955,\n",
       " 0.8437258668572738,\n",
       " 0.8613454969401367,\n",
       " 0.8451097625540656,\n",
       " 0.8203251370941256,\n",
       " 0.8353713932986893,\n",
       " 0.8244888006855482,\n",
       " 0.8303450382421179,\n",
       " 0.8129222385436297,\n",
       " 0.7991627300155985,\n",
       " 0.802230195779432,\n",
       " 0.7832694742231052,\n",
       " 0.7725774122861241,\n",
       " 0.7214646047335397,\n",
       " 0.7487737982174808,\n",
       " 0.7526671173628133,\n",
       " 0.6908010813889245,\n",
       " 0.6774275027106131,\n",
       " 0.6984557150519205,\n",
       " 0.6889120453921068,\n",
       " 0.6873110911648144,\n",
       " 0.6626620660926817,\n",
       " 0.6477760106640017,\n",
       " 0.6384866224139281,\n",
       " 0.624290322157495,\n",
       " 0.660862853831347,\n",
       " 0.6949475933201613,\n",
       " 0.6427775293849626,\n",
       " 0.6534564080125067]"
      ]
     },
     "execution_count": 50,
     "metadata": {},
     "output_type": "execute_result"
    }
   ],
   "source": [
    "likelihoods"
   ]
  },
  {
   "cell_type": "code",
   "execution_count": null,
   "id": "d4ebe286",
   "metadata": {},
   "outputs": [],
   "source": []
  }
 ],
 "metadata": {
  "kernelspec": {
   "display_name": "Python 3 (ipykernel)",
   "language": "python",
   "name": "python3"
  },
  "language_info": {
   "codemirror_mode": {
    "name": "ipython",
    "version": 3
   },
   "file_extension": ".py",
   "mimetype": "text/x-python",
   "name": "python",
   "nbconvert_exporter": "python",
   "pygments_lexer": "ipython3",
   "version": "3.9.13"
  }
 },
 "nbformat": 4,
 "nbformat_minor": 5
}
