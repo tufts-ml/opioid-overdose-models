{
 "cells": [
  {
   "cell_type": "code",
   "execution_count": 3,
   "id": "dc68bc26",
   "metadata": {},
   "outputs": [
    {
     "name": "stdout",
     "output_type": "stream",
     "text": [
      "The autoreload extension is already loaded. To reload it, use:\n",
      "  %reload_ext autoreload\n"
     ]
    }
   ],
   "source": [
    "%load_ext autoreload\n",
    "%autoreload 2\n",
    "\n",
    "import numpy as np\n",
    "import tensorflow as tf\n",
    "\n",
    "import sys\n",
    "\n",
    "import os\n",
    "import subprocess\n",
    "import pandas as pd\n",
    "import numpy as np"
   ]
  },
  {
   "cell_type": "code",
   "execution_count": 2,
   "id": "2ad68686",
   "metadata": {},
   "outputs": [
    {
     "ename": "SyntaxError",
     "evalue": "invalid syntax (706420041.py, line 1)",
     "output_type": "error",
     "traceback": [
      "\u001b[0;36m  Cell \u001b[0;32mIn[2], line 1\u001b[0;36m\u001b[0m\n\u001b[0;31m    python run_exp.py\u001b[0m\n\u001b[0m           ^\u001b[0m\n\u001b[0;31mSyntaxError\u001b[0m\u001b[0;31m:\u001b[0m invalid syntax\n"
     ]
    }
   ],
   "source": [
    " python run_exp.py \n",
    "    --noise 0.05 \n",
    "    --perturbation_samples 37 \n",
    "    --learning_rate 0.005 \n",
    "    --data_path /cluster/tufts/hugheslab/datasets/NSF_OD/results_20220606_update/clean_annual_tract\n",
    "    --log_dir /cluster/tufts/hugheslab/kheuto01/diffbpr/simple/test\n",
    "    -pcd /cluster/home/kheuto01/code/opioid-overdose-models/perturbations/           "
   ]
  },
  {
   "cell_type": "code",
   "execution_count": 8,
   "id": "6f0ce3f3",
   "metadata": {},
   "outputs": [],
   "source": [
    "noises = [0.01, 0.05, 0.1, 0.3, 0.5]\n",
    "num_samples = [10, 25, 50, 100, 500]\n",
    "lrs = [0.001, 0.005, 0.01]\n",
    "hidden_sizes = '50 10'\n",
    "data_path = '/cluster/tufts/hugheslab/datasets/NSF_OD/results_20220606_update/clean_quarter_tract'\n",
    "log_root = '/cluster/tufts/hugheslab/kheuto01/diffbpr/quarter_50_10/'\n",
    "pcd = '/cluster/home/kheuto01/code/opioid-overdose-models/perturbations/'"
   ]
  },
  {
   "cell_type": "code",
   "execution_count": 9,
   "id": "10aa98ae",
   "metadata": {
    "scrolled": false
   },
   "outputs": [
    {
     "name": "stdout",
     "output_type": "stream",
     "text": [
      "Submitted batch job 43085382\n",
      "Submitted batch job 43085383\n",
      "Submitted batch job 43085384\n",
      "Submitted batch job 43085385\n",
      "Submitted batch job 43085386\n",
      "Submitted batch job 43085387\n",
      "Submitted batch job 43085388\n",
      "Submitted batch job 43085389\n",
      "Submitted batch job 43085390\n",
      "Submitted batch job 43085391\n",
      "Submitted batch job 43085392\n",
      "Submitted batch job 43085393\n",
      "Submitted batch job 43085394\n",
      "Submitted batch job 43085395\n",
      "Submitted batch job 43085396\n",
      "Submitted batch job 43085397\n",
      "Submitted batch job 43085398\n",
      "Submitted batch job 43085399\n",
      "Submitted batch job 43085400\n",
      "Submitted batch job 43085401\n",
      "Submitted batch job 43085402\n",
      "Submitted batch job 43085403\n",
      "Submitted batch job 43085404\n",
      "Submitted batch job 43085405\n",
      "Submitted batch job 43085406\n",
      "Submitted batch job 43085407\n",
      "Submitted batch job 43085408\n",
      "Submitted batch job 43085409\n",
      "Submitted batch job 43085410\n",
      "Submitted batch job 43085411\n",
      "Submitted batch job 43085412\n",
      "Submitted batch job 43085413\n",
      "Submitted batch job 43085414\n",
      "Submitted batch job 43085415\n",
      "Submitted batch job 43085416\n",
      "Submitted batch job 43085417\n",
      "Submitted batch job 43085418\n",
      "Submitted batch job 43085419\n",
      "Submitted batch job 43085420\n",
      "Submitted batch job 43085421\n",
      "Submitted batch job 43085422\n",
      "Submitted batch job 43085423\n",
      "Submitted batch job 43085424\n",
      "Submitted batch job 43085425\n",
      "Submitted batch job 43085426\n",
      "Submitted batch job 43085427\n",
      "Submitted batch job 43085428\n",
      "Submitted batch job 43085429\n",
      "Submitted batch job 43085430\n",
      "Submitted batch job 43085431\n",
      "Submitted batch job 43085432\n",
      "Submitted batch job 43085433\n",
      "Submitted batch job 43085434\n",
      "Submitted batch job 43085435\n",
      "Submitted batch job 43085436\n",
      "Submitted batch job 43085437\n",
      "Submitted batch job 43085438\n",
      "Submitted batch job 43085439\n",
      "Submitted batch job 43085440\n",
      "Submitted batch job 43085441\n",
      "Submitted batch job 43085442\n",
      "Submitted batch job 43085443\n",
      "Submitted batch job 43085444\n",
      "Submitted batch job 43085445\n",
      "Submitted batch job 43085446\n",
      "Submitted batch job 43085447\n",
      "Submitted batch job 43085448\n",
      "Submitted batch job 43085449\n",
      "Submitted batch job 43085450\n",
      "Submitted batch job 43085451\n",
      "Submitted batch job 43085452\n",
      "Submitted batch job 43085453\n",
      "Submitted batch job 43085454\n",
      "Submitted batch job 43085455\n",
      "Submitted batch job 43085456\n",
      "75\n"
     ]
    }
   ],
   "source": [
    "counter=0\n",
    "for noise in noises:\n",
    "    for perturbation_samples in num_samples:\n",
    "        for learning_rate in lrs:\n",
    "            this_run = f'n{noise}_samp{perturbation_samples}_lr{learning_rate}'\n",
    "                            \n",
    "            out_dir = os.path.join(log_root, this_run)\n",
    "            if not os.path.exists(out_dir):\n",
    "                os.makedirs(out_dir)\n",
    "                \n",
    "            arg_parts = [\n",
    "                            f\"--data_path {data_path}\",\n",
    "                            f\"--noise {noise}\",\n",
    "                            f\"--perturbation_samples {perturbation_samples}\",\n",
    "                            f\"-pcd {pcd}\",\n",
    "                            f\"--learning_rate {learning_rate}\",\n",
    "                            f\"--log_dir {out_dir}\",\n",
    "                            f\"--timesteps_per_year 4\",\n",
    "                            f\"--hidden_sizes {hidden_sizes}\"\n",
    "                        ]\n",
    "            arg_cmd = ' '.join(arg_parts)\n",
    "            command = (f\"args='{arg_cmd}' sbatch < /cluster/home/kheuto01/code/opioid-overdose-models/zinf_gp/run_exp.slurm\")\n",
    "            counter += 1\n",
    "            subprocess.run(command, shell=True, check=True)\n",
    " \n",
    "print(counter)                "
   ]
  },
  {
   "cell_type": "code",
   "execution_count": 9,
   "id": "59158445",
   "metadata": {},
   "outputs": [
    {
     "data": {
      "text/plain": [
       "500"
      ]
     },
     "execution_count": 9,
     "metadata": {},
     "output_type": "execute_result"
    }
   ],
   "source": [
    "perturbation_samples"
   ]
  },
  {
   "cell_type": "code",
   "execution_count": 10,
   "id": "1ca0d1b7",
   "metadata": {},
   "outputs": [
    {
     "data": {
      "text/plain": [
       "\"args='--data_path /cluster/tufts/hugheslab/datasets/NSF_OD/results_20220606_update/clean_annual_tract --noise 0.5 --perturbation_samples 500 -pcd /cluster/home/kheuto01/code/opioid-overdose-models/perturbations/ --learning_rate 0.01 --log_dir /cluster/tufts/hugheslab/kheuto01/diffbpr/simple/n0.5_samp[10, 25, 50, 100, 500]_lr0.01' sbatch < /cluster/home/kheuto01/code/opioid-overdose-models/zinf_gp/run_exp.slurm\""
      ]
     },
     "execution_count": 10,
     "metadata": {},
     "output_type": "execute_result"
    }
   ],
   "source": [
    "command"
   ]
  },
  {
   "cell_type": "code",
   "execution_count": null,
   "id": "bc64aeb1",
   "metadata": {},
   "outputs": [],
   "source": []
  }
 ],
 "metadata": {
  "kernelspec": {
   "display_name": "Python 3 (ipykernel)",
   "language": "python",
   "name": "python3"
  },
  "language_info": {
   "codemirror_mode": {
    "name": "ipython",
    "version": 3
   },
   "file_extension": ".py",
   "mimetype": "text/x-python",
   "name": "python",
   "nbconvert_exporter": "python",
   "pygments_lexer": "ipython3",
   "version": "3.8.16"
  }
 },
 "nbformat": 4,
 "nbformat_minor": 5
}
