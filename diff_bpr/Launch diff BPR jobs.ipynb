{
 "cells": [
  {
   "cell_type": "code",
   "execution_count": 1,
   "id": "dc68bc26",
   "metadata": {},
   "outputs": [
    {
     "name": "stderr",
     "output_type": "stream",
     "text": [
      "2023-05-24 11:15:58.186204: I tensorflow/core/util/port.cc:110] oneDNN custom operations are on. You may see slightly different numerical results due to floating-point round-off errors from different computation orders. To turn them off, set the environment variable `TF_ENABLE_ONEDNN_OPTS=0`.\n",
      "2023-05-24 11:15:58.188354: I tensorflow/tsl/cuda/cudart_stub.cc:28] Could not find cuda drivers on your machine, GPU will not be used.\n",
      "2023-05-24 11:15:58.236551: I tensorflow/tsl/cuda/cudart_stub.cc:28] Could not find cuda drivers on your machine, GPU will not be used.\n",
      "2023-05-24 11:15:58.237167: I tensorflow/core/platform/cpu_feature_guard.cc:182] This TensorFlow binary is optimized to use available CPU instructions in performance-critical operations.\n",
      "To enable the following instructions: AVX2 AVX512F AVX512_VNNI FMA, in other operations, rebuild TensorFlow with the appropriate compiler flags.\n",
      "2023-05-24 11:16:00.792485: W tensorflow/compiler/tf2tensorrt/utils/py_utils.cc:38] TF-TRT Warning: Could not find TensorRT\n"
     ]
    }
   ],
   "source": [
    "%load_ext autoreload\n",
    "%autoreload 2\n",
    "\n",
    "import numpy as np\n",
    "import tensorflow as tf\n",
    "\n",
    "import sys\n",
    "\n",
    "import os\n",
    "import subprocess\n",
    "import pandas as pd\n",
    "import numpy as np"
   ]
  },
  {
   "cell_type": "code",
   "execution_count": 2,
   "id": "2ad68686",
   "metadata": {},
   "outputs": [
    {
     "ename": "SyntaxError",
     "evalue": "invalid syntax (706420041.py, line 1)",
     "output_type": "error",
     "traceback": [
      "\u001b[0;36m  Cell \u001b[0;32mIn[2], line 1\u001b[0;36m\u001b[0m\n\u001b[0;31m    python run_exp.py\u001b[0m\n\u001b[0m           ^\u001b[0m\n\u001b[0;31mSyntaxError\u001b[0m\u001b[0;31m:\u001b[0m invalid syntax\n"
     ]
    }
   ],
   "source": [
    " python run_exp.py \n",
    "    --noise 0.05 \n",
    "    --perturbation_samples 37 \n",
    "    --learning_rate 0.005 \n",
    "    --data_path /cluster/tufts/hugheslab/datasets/NSF_OD/results_20220606_update/clean_annual_tract\n",
    "    --log_dir /cluster/tufts/hugheslab/kheuto01/diffbpr/simple/test\n",
    "    -pcd /cluster/home/kheuto01/code/opioid-overdose-models/perturbations/           "
   ]
  },
  {
   "cell_type": "code",
   "execution_count": 7,
   "id": "6f0ce3f3",
   "metadata": {},
   "outputs": [],
   "source": [
    "noises = [0.01, 0.05, 0.1, 0.3, 0.5]\n",
    "num_samples = [10, 25, 50, 100, 500]\n",
    "lrs = [0.001, 0.005, 0.01]\n",
    "data_path = '/cluster/tufts/hugheslab/datasets/NSF_OD/results_20220606_update/clean_annual_tract'\n",
    "log_root = '/cluster/tufts/hugheslab/kheuto01/diffbpr/simple'\n",
    "pcd = '/cluster/home/kheuto01/code/opioid-overdose-models/perturbations/'"
   ]
  },
  {
   "cell_type": "code",
   "execution_count": 11,
   "id": "10aa98ae",
   "metadata": {
    "scrolled": true
   },
   "outputs": [
    {
     "name": "stdout",
     "output_type": "stream",
     "text": [
      "Submitted batch job 43065479\n",
      "Submitted batch job 43065480\n",
      "Submitted batch job 43065481\n",
      "Submitted batch job 43065482\n",
      "Submitted batch job 43065483\n",
      "Submitted batch job 43065484\n",
      "Submitted batch job 43065485\n",
      "Submitted batch job 43065486\n",
      "Submitted batch job 43065487\n",
      "Submitted batch job 43065488\n",
      "Submitted batch job 43065489\n",
      "Submitted batch job 43065490\n",
      "Submitted batch job 43065491\n",
      "Submitted batch job 43065492\n",
      "Submitted batch job 43065493\n",
      "Submitted batch job 43065494\n",
      "Submitted batch job 43065495\n",
      "Submitted batch job 43065496\n",
      "Submitted batch job 43065497\n",
      "Submitted batch job 43065498\n",
      "Submitted batch job 43065499\n",
      "Submitted batch job 43065500\n",
      "Submitted batch job 43065501\n",
      "Submitted batch job 43065502\n",
      "Submitted batch job 43065503\n",
      "Submitted batch job 43065504\n",
      "Submitted batch job 43065505\n",
      "Submitted batch job 43065506\n",
      "Submitted batch job 43065507\n",
      "Submitted batch job 43065508\n",
      "Submitted batch job 43065509\n",
      "Submitted batch job 43065510\n",
      "Submitted batch job 43065511\n",
      "Submitted batch job 43065512\n",
      "Submitted batch job 43065513\n",
      "Submitted batch job 43065514\n",
      "Submitted batch job 43065515\n",
      "Submitted batch job 43065516\n",
      "Submitted batch job 43065517\n",
      "Submitted batch job 43065518\n",
      "Submitted batch job 43065519\n",
      "Submitted batch job 43065520\n",
      "Submitted batch job 43065521\n",
      "Submitted batch job 43065522\n",
      "Submitted batch job 43065523\n",
      "Submitted batch job 43065524\n",
      "Submitted batch job 43065525\n",
      "Submitted batch job 43065526\n",
      "Submitted batch job 43065527\n",
      "Submitted batch job 43065528\n",
      "Submitted batch job 43065529\n",
      "Submitted batch job 43065530\n",
      "Submitted batch job 43065531\n",
      "Submitted batch job 43065532\n",
      "Submitted batch job 43065533\n",
      "Submitted batch job 43065534\n",
      "Submitted batch job 43065535\n",
      "Submitted batch job 43065536\n",
      "Submitted batch job 43065537\n",
      "Submitted batch job 43065538\n",
      "Submitted batch job 43065539\n",
      "Submitted batch job 43065540\n",
      "Submitted batch job 43065541\n",
      "Submitted batch job 43065542\n",
      "Submitted batch job 43065543\n",
      "Submitted batch job 43065544\n",
      "Submitted batch job 43065545\n",
      "Submitted batch job 43065546\n",
      "Submitted batch job 43065547\n",
      "Submitted batch job 43065548\n",
      "Submitted batch job 43065549\n",
      "Submitted batch job 43065550\n",
      "Submitted batch job 43065551\n",
      "Submitted batch job 43065552\n",
      "Submitted batch job 43065553\n",
      "75\n"
     ]
    }
   ],
   "source": [
    "counter=0\n",
    "for noise in noises:\n",
    "    for perturbation_samples in num_samples:\n",
    "        for learning_rate in lrs:\n",
    "            this_run = f'n{noise}_samp{perturbation_samples}_lr{learning_rate}'\n",
    "                            \n",
    "            out_dir = os.path.join(log_root, this_run)\n",
    "            if not os.path.exists(out_dir):\n",
    "                os.makedirs(out_dir)\n",
    "                \n",
    "            arg_parts = [\n",
    "                            f\"--data_path {data_path}\",\n",
    "                            f\"--noise {noise}\",\n",
    "                            f\"--perturbation_samples {perturbation_samples}\",\n",
    "                            f\"-pcd {pcd}\",\n",
    "                            f\"--learning_rate {learning_rate}\",\n",
    "                            f\"--log_dir {out_dir}\",\n",
    "                        ]\n",
    "            arg_cmd = ' '.join(arg_parts)\n",
    "            command = (f\"args='{arg_cmd}' sbatch < /cluster/home/kheuto01/code/opioid-overdose-models/zinf_gp/run_exp.slurm\")\n",
    "            counter += 1\n",
    "            subprocess.run(command, shell=True, check=True)\n",
    " \n",
    "print(counter)                "
   ]
  },
  {
   "cell_type": "code",
   "execution_count": 9,
   "id": "59158445",
   "metadata": {},
   "outputs": [
    {
     "data": {
      "text/plain": [
       "500"
      ]
     },
     "execution_count": 9,
     "metadata": {},
     "output_type": "execute_result"
    }
   ],
   "source": [
    "perturbation_samples"
   ]
  },
  {
   "cell_type": "code",
   "execution_count": 10,
   "id": "1ca0d1b7",
   "metadata": {},
   "outputs": [
    {
     "data": {
      "text/plain": [
       "\"args='--data_path /cluster/tufts/hugheslab/datasets/NSF_OD/results_20220606_update/clean_annual_tract --noise 0.5 --perturbation_samples 500 -pcd /cluster/home/kheuto01/code/opioid-overdose-models/perturbations/ --learning_rate 0.01 --log_dir /cluster/tufts/hugheslab/kheuto01/diffbpr/simple/n0.5_samp[10, 25, 50, 100, 500]_lr0.01' sbatch < /cluster/home/kheuto01/code/opioid-overdose-models/zinf_gp/run_exp.slurm\""
      ]
     },
     "execution_count": 10,
     "metadata": {},
     "output_type": "execute_result"
    }
   ],
   "source": [
    "command"
   ]
  },
  {
   "cell_type": "code",
   "execution_count": null,
   "id": "bc64aeb1",
   "metadata": {},
   "outputs": [],
   "source": []
  }
 ],
 "metadata": {
  "kernelspec": {
   "display_name": "Python 3 (ipykernel)",
   "language": "python",
   "name": "python3"
  },
  "language_info": {
   "codemirror_mode": {
    "name": "ipython",
    "version": 3
   },
   "file_extension": ".py",
   "mimetype": "text/x-python",
   "name": "python",
   "nbconvert_exporter": "python",
   "pygments_lexer": "ipython3",
   "version": "3.8.16"
  }
 },
 "nbformat": 4,
 "nbformat_minor": 5
}
