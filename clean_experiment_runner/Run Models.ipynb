{
 "cells": [
  {
   "cell_type": "code",
   "execution_count": 32,
   "id": "48636b2a",
   "metadata": {
    "scrolled": false
   },
   "outputs": [
    {
     "name": "stdout",
     "output_type": "stream",
     "text": [
      "The autoreload extension is already loaded. To reload it, use:\n",
      "  %reload_ext autoreload\n"
     ]
    }
   ],
   "source": [
    "%load_ext autoreload\n",
    "%autoreload 2\n",
    "import geopandas as gpd\n",
    "import numpy as np\n",
    "import pandas as pd\n",
    "\n",
    "import sklearn\n",
    "from sklearn.linear_model import LinearRegression\n",
    "from sklearn.ensemble import HistGradientBoostingRegressor\n",
    "\n",
    "# local import\n",
    "from make_datasets import make_data\n",
    "import models\n",
    "\n",
    "import tensorflow as tf"
   ]
  },
  {
   "cell_type": "code",
   "execution_count": 3,
   "id": "b3d22c46",
   "metadata": {},
   "outputs": [],
   "source": [
    "\n",
    "# Path to a geopandas datafile\n",
    "data_path='./clean_annual_tract/'\n",
    "data_gdf = gpd.read_file(data_path)"
   ]
  },
  {
   "cell_type": "markdown",
   "id": "349503d7",
   "metadata": {},
   "source": [
    "Process dataframe into a data frame with a Multiindex on location and time"
   ]
  },
  {
   "cell_type": "code",
   "execution_count": 15,
   "id": "686f6cd9",
   "metadata": {},
   "outputs": [],
   "source": [
    "\n",
    "# Name the important columns\n",
    "timestep_col = 'timestep'\n",
    "geography_col = 'geoid'\n",
    "outcome_col = 'deaths'\n",
    "\n",
    "# These are the columns we could possibly want in the X dataframe\n",
    "x_idx_cols = [geography_col, 'lat', 'lon', timestep_col,\n",
    "              'theme_1_pc', 'theme_2_pc', 'theme_3_pc', 'theme_4_pc',\n",
    "              'svi_pctile', 'year',\n",
    "              'neighbor_t', 'deaths']\n",
    "\n",
    "# These are the columns we could want in the Y dataframe\n",
    "y_idx_cols = [geography_col, timestep_col, outcome_col]\n",
    "\n",
    "# These are the features we want\n",
    "features_only = ['deaths']\n",
    "add_spacetime = True\n",
    "add_svi = True\n",
    "if add_spacetime:\n",
    "    features_only += ['lat', 'lon', timestep_col]\n",
    "if add_svi:\n",
    "    features_only += ['theme_1_pc', 'theme_2_pc', 'theme_3_pc', 'theme_4_pc', 'svi_pctile']\n",
    "\n",
    "\n",
    "validation_year = 2019\n",
    "first_test_year = 2020\n",
    "last_test_year = 2021\n",
    "first_test_timestep = 20\n",
    "last_test_timestep = 21\n",
    "lookback_years=5\n",
    "first_train_eval_year = validation_year - lookback_years\n",
    "last_train_eval_year = validation_year -1"
   ]
  },
  {
   "cell_type": "code",
   "execution_count": 16,
   "id": "3751205c",
   "metadata": {},
   "outputs": [],
   "source": [
    "# Create the multiindex\n",
    "multiindexed_gdf = data_gdf.set_index([geography_col, timestep_col])\n",
    "\n",
    "# re-add the timestep column as a feature because it's useful\n",
    "multiindexed_gdf[timestep_col] = multiindexed_gdf.index.get_level_values(timestep_col)\n",
    "\n",
    "# Track number of locations\n",
    "num_geoids = len(data_gdf[geography_col].unique())"
   ]
  },
  {
   "cell_type": "code",
   "execution_count": 17,
   "id": "22960e28",
   "metadata": {},
   "outputs": [],
   "source": [
    "x_BSF, y_BS = make_data(multiindexed_gdf, first_train_eval_year, last_train_eval_year, lookback_years,\n",
    "          features_only, num_geoids)\n",
    "x_test_BSF, y_test_BS =make_data(multiindexed_gdf, first_test_year, last_test_year, lookback_years,\n",
    "          features_only, num_geoids)\n",
    "\n",
    "# For the weighted historical average model, we only use deaths as features\n",
    "x_BSF_death_only, y_BS_death_only = make_data(multiindexed_gdf, first_train_eval_year, last_train_eval_year, lookback_years,\n",
    "          ['deaths'], num_geoids)\n",
    "x_test_BSF_death_only, y_test_BS_death_only =make_data(multiindexed_gdf, first_test_year, last_test_year, lookback_years,\n",
    "          ['deaths'], num_geoids)\n",
    "\n",
    "# For the weighted historical average model, we only use deaths as features\n",
    "x_BSF_no_svi, y_BS_no_svi = make_data(multiindexed_gdf, first_train_eval_year, last_train_eval_year, lookback_years,\n",
    "          ['deaths', 'lat', 'lon', timestep_col], num_geoids)\n",
    "x_test_BSF_no_svi, y_test_BS_no_svi =make_data(multiindexed_gdf, first_test_year, last_test_year, lookback_years,\n",
    "          ['deaths', 'lat', 'lon', timestep_col], num_geoids)"
   ]
  },
  {
   "cell_type": "code",
   "execution_count": 18,
   "id": "b668f78a",
   "metadata": {},
   "outputs": [
    {
     "data": {
      "text/plain": [
       "TensorShape([5, 1620, 45])"
      ]
     },
     "execution_count": 18,
     "metadata": {},
     "output_type": "execute_result"
    }
   ],
   "source": [
    "x_BSF.shape"
   ]
  },
  {
   "cell_type": "code",
   "execution_count": 19,
   "id": "66fda90d",
   "metadata": {},
   "outputs": [
    {
     "data": {
      "text/plain": [
       "TensorShape([5, 1620])"
      ]
     },
     "execution_count": 19,
     "metadata": {},
     "output_type": "execute_result"
    }
   ],
   "source": [
    "y_BS.shape"
   ]
  },
  {
   "cell_type": "code",
   "execution_count": 20,
   "id": "046c1f3b",
   "metadata": {},
   "outputs": [],
   "source": [
    "bpr_over_time, mae_over_time, rmse_over_time = models.all_zeroes_model(multiindexed_gdf,\n",
    "                                        first_test_timestep, last_test_timestep,\n",
    "                                        num_geoids, bpr_uncertainty_samples=50, removed_locations=250)"
   ]
  },
  {
   "cell_type": "code",
   "execution_count": 21,
   "id": "eba6f304",
   "metadata": {},
   "outputs": [
    {
     "name": "stdout",
     "output_type": "stream",
     "text": [
      "Zeroes model BPR (Mean, 95% CI): 25.2,\n",
      "      (24.8-\n",
      "       25.4)\n",
      "Zeroes model MAE (Mean, 95% CI): 1.24,\n",
      "      (1.22-\n",
      "       1.26)\n",
      "Zeroes model RMSE (Mean, 95% CI): 1.91,\n",
      "      (1.88-\n",
      "       1.94)\n"
     ]
    }
   ],
   "source": [
    "model_name = 'Zeroes'\n",
    "\n",
    "bpr_samples_both_years = np.mean(bpr_over_time, axis=0)\n",
    "mae_samples_both_years = np.mean(mae_over_time, axis=0)\n",
    "rmse_samples_both_years = np.mean(rmse_over_time, axis=0)\n",
    "\n",
    "                        \n",
    "print(f\"\"\"{model_name} model BPR (Mean, 95% CI): {np.mean(bpr_samples_both_years)*100:.1f},\n",
    "      ({np.percentile(bpr_samples_both_years,2.5)*100:.1f}-\n",
    "       {np.percentile(bpr_samples_both_years,97.5)*100:.1f})\"\"\")\n",
    "\n",
    "print(f\"\"\"{model_name} model MAE (Mean, 95% CI): {np.mean(mae_samples_both_years):.2f},\n",
    "      ({np.percentile(mae_samples_both_years,2.5):.2f}-\n",
    "       {np.percentile(mae_samples_both_years,97.5):.2f})\"\"\")\n",
    "\n",
    "print(f\"\"\"{model_name} model RMSE (Mean, 95% CI): {np.mean(rmse_samples_both_years):.2f},\n",
    "      ({np.percentile(rmse_samples_both_years,2.5):.2f}-\n",
    "       {np.percentile(rmse_samples_both_years,97.5):.2f})\"\"\")\n"
   ]
  },
  {
   "cell_type": "code",
   "execution_count": 22,
   "id": "696ed27c",
   "metadata": {},
   "outputs": [],
   "source": [
    "bpr_over_time, mae_over_time, rmse_over_time = models.last_time_model(multiindexed_gdf, first_test_timestep, last_test_timestep, num_geoids,\n",
    "                     1,bpr_uncertainty_samples=50,)"
   ]
  },
  {
   "cell_type": "code",
   "execution_count": 23,
   "id": "0a32e2de",
   "metadata": {},
   "outputs": [
    {
     "name": "stdout",
     "output_type": "stream",
     "text": [
      "Last time model BPR (Mean, 95% CI): 51.5,\n",
      "      (49.6-\n",
      "       53.7)\n",
      "Last time model MAE (Mean, 95% CI): 1.08,\n",
      "      (1.07-\n",
      "       1.10)\n",
      "Last time model RMSE (Mean, 95% CI): 1.57,\n",
      "      (1.55-\n",
      "       1.59)\n"
     ]
    }
   ],
   "source": [
    "model_name = 'Last time'\n",
    "\n",
    "bpr_samples_both_years = np.mean(bpr_over_time, axis=0)\n",
    "mae_samples_both_years = np.mean(mae_over_time, axis=0)\n",
    "rmse_samples_both_years = np.mean(rmse_over_time, axis=0)\n",
    "\n",
    "                        \n",
    "print(f\"\"\"{model_name} model BPR (Mean, 95% CI): {np.mean(bpr_samples_both_years)*100:.1f},\n",
    "      ({np.percentile(bpr_samples_both_years,2.5)*100:.1f}-\n",
    "       {np.percentile(bpr_samples_both_years,97.5)*100:.1f})\"\"\")\n",
    "\n",
    "print(f\"\"\"{model_name} model MAE (Mean, 95% CI): {np.mean(mae_samples_both_years):.2f},\n",
    "      ({np.percentile(mae_samples_both_years,2.5):.2f}-\n",
    "       {np.percentile(mae_samples_both_years,97.5):.2f})\"\"\")\n",
    "\n",
    "print(f\"\"\"{model_name} model RMSE (Mean, 95% CI): {np.mean(rmse_samples_both_years):.2f},\n",
    "      ({np.percentile(rmse_samples_both_years,2.5):.2f}-\n",
    "       {np.percentile(rmse_samples_both_years,97.5):.2f})\"\"\")\n"
   ]
  },
  {
   "cell_type": "code",
   "execution_count": 24,
   "id": "86155c9a",
   "metadata": {},
   "outputs": [],
   "source": [
    "bpr_over_time, mae_over_time, rmse_over_time = models.historical_average_model(multiindexed_gdf, first_test_timestep, last_test_timestep, num_geoids,\n",
    "                     1, 7, bpr_uncertainty_samples=50,)"
   ]
  },
  {
   "cell_type": "code",
   "execution_count": 25,
   "id": "e7455212",
   "metadata": {},
   "outputs": [
    {
     "name": "stdout",
     "output_type": "stream",
     "text": [
      "Historical Average model BPR (Mean, 95% CI): 60.3,\n",
      "      (58.5-\n",
      "       62.1)\n",
      "Historical Average model MAE (Mean, 95% CI): 0.89,\n",
      "      (0.88-\n",
      "       0.90)\n",
      "Historical Average model RMSE (Mean, 95% CI): 1.25,\n",
      "      (1.23-\n",
      "       1.27)\n"
     ]
    }
   ],
   "source": [
    "model_name = 'Historical Average'\n",
    "\n",
    "bpr_samples_both_years = np.mean(bpr_over_time, axis=0)\n",
    "mae_samples_both_years = np.mean(mae_over_time, axis=0)\n",
    "rmse_samples_both_years = np.mean(rmse_over_time, axis=0)\n",
    "\n",
    "                        \n",
    "print(f\"\"\"{model_name} model BPR (Mean, 95% CI): {np.mean(bpr_samples_both_years)*100:.1f},\n",
    "      ({np.percentile(bpr_samples_both_years,2.5)*100:.1f}-\n",
    "       {np.percentile(bpr_samples_both_years,97.5)*100:.1f})\"\"\")\n",
    "\n",
    "print(f\"\"\"{model_name} model MAE (Mean, 95% CI): {np.mean(mae_samples_both_years):.2f},\n",
    "      ({np.percentile(mae_samples_both_years,2.5):.2f}-\n",
    "       {np.percentile(mae_samples_both_years,97.5):.2f})\"\"\")\n",
    "\n",
    "print(f\"\"\"{model_name} model RMSE (Mean, 95% CI): {np.mean(rmse_samples_both_years):.2f},\n",
    "      ({np.percentile(rmse_samples_both_years,2.5):.2f}-\n",
    "       {np.percentile(rmse_samples_both_years,97.5):.2f})\"\"\")\n"
   ]
  },
  {
   "cell_type": "markdown",
   "id": "807d4f68",
   "metadata": {},
   "source": [
    "Make Scikit models"
   ]
  },
  {
   "cell_type": "code",
   "execution_count": 41,
   "id": "99fd7204",
   "metadata": {},
   "outputs": [],
   "source": [
    "# Identical models, features are only difference\n",
    "linear_poisson_weighted_avg = sklearn.linear_model.PoissonRegressor()\n",
    "linear_poisson = sklearn.linear_model.PoissonRegressor()\n",
    "\n",
    "# Params selected via grid search on validation. Need to re-do grid search for chicago\n",
    "hist_poisson =   HistGradientBoostingRegressor(loss=\"poisson\", max_iter=10000, max_depth=3, max_leaf_nodes=2,\n",
    "                                               l2_regularization=1, min_samples_leaf=100 )"
   ]
  },
  {
   "cell_type": "code",
   "execution_count": 42,
   "id": "cad5de70",
   "metadata": {},
   "outputs": [],
   "source": [
    "bpr_over_time, mae_over_time, rmse_over_time = models.scikit_model(multiindexed_gdf, x_BSF_death_only,\n",
    "                                               y_BS_death_only, x_test_BSF_death_only,\n",
    "                                               linear_poisson_weighted_avg,\n",
    "                                               first_test_timestep, last_test_timestep,\n",
    "                                               bpr_uncertainty_samples=50)"
   ]
  },
  {
   "cell_type": "code",
   "execution_count": 46,
   "id": "5bde8c5d",
   "metadata": {},
   "outputs": [
    {
     "name": "stdout",
     "output_type": "stream",
     "text": [
      "Weighted Historical Average model BPR (Mean, 95% CI): 61.3,\n",
      "      (59.2-\n",
      "       63.2)\n",
      "Weighted Historical Average model MAE (Mean, 95% CI): 0.97,\n",
      "      (0.96-\n",
      "       0.98)\n",
      "Weighted Historical Average model RMSE (Mean, 95% CI): 1.28,\n",
      "      (1.27-\n",
      "       1.30)\n"
     ]
    }
   ],
   "source": [
    "model_name = 'Weighted Historical Average'\n",
    "\n",
    "bpr_samples_both_years = np.mean(bpr_over_time, axis=0)\n",
    "mae_samples_both_years = np.mean(mae_over_time, axis=0)\n",
    "rmse_samples_both_years = np.mean(rmse_over_time, axis=0)\n",
    "\n",
    "                        \n",
    "print(f\"\"\"{model_name} model BPR (Mean, 95% CI): {np.mean(bpr_samples_both_years)*100:.1f},\n",
    "      ({np.percentile(bpr_samples_both_years,2.5)*100:.1f}-\n",
    "       {np.percentile(bpr_samples_both_years,97.5)*100:.1f})\"\"\")\n",
    "\n",
    "print(f\"\"\"{model_name} model MAE (Mean, 95% CI): {np.mean(mae_samples_both_years):.2f},\n",
    "      ({np.percentile(mae_samples_both_years,2.5):.2f}-\n",
    "       {np.percentile(mae_samples_both_years,97.5):.2f})\"\"\")\n",
    "\n",
    "print(f\"\"\"{model_name} model RMSE (Mean, 95% CI): {np.mean(rmse_samples_both_years):.2f},\n",
    "      ({np.percentile(rmse_samples_both_years,2.5):.2f}-\n",
    "       {np.percentile(rmse_samples_both_years,97.5):.2f})\"\"\")\n"
   ]
  },
  {
   "cell_type": "code",
   "execution_count": 47,
   "id": "fee01c0a",
   "metadata": {},
   "outputs": [
    {
     "name": "stderr",
     "output_type": "stream",
     "text": [
      "/cluster/tufts/hugheslab/kheuto01/miniconda3/envs/ptopk_tf_again/lib/python3.8/site-packages/sklearn/linear_model/_glm/glm.py:284: ConvergenceWarning: lbfgs failed to converge (status=1):\n",
      "STOP: TOTAL NO. of ITERATIONS REACHED LIMIT.\n",
      "\n",
      "Increase the number of iterations (max_iter) or scale the data as shown in:\n",
      "    https://scikit-learn.org/stable/modules/preprocessing.html\n",
      "  self.n_iter_ = _check_optimize_result(\"lbfgs\", opt_res)\n"
     ]
    }
   ],
   "source": [
    "bpr_over_time, mae_over_time, rmse_over_time = models.scikit_model(multiindexed_gdf, x_BSF,\n",
    "                                               y_BS, x_test_BSF,\n",
    "                                               linear_poisson,\n",
    "                                               first_test_timestep, last_test_timestep,\n",
    "                                               bpr_uncertainty_samples=50)"
   ]
  },
  {
   "cell_type": "code",
   "execution_count": 48,
   "id": "7d93b520",
   "metadata": {},
   "outputs": [
    {
     "name": "stdout",
     "output_type": "stream",
     "text": [
      "Linear model BPR (Mean, 95% CI): 62.2,\n",
      "      (60.7-\n",
      "       63.8)\n",
      "Linear model MAE (Mean, 95% CI): 0.97,\n",
      "      (0.96-\n",
      "       0.98)\n",
      "Linear model RMSE (Mean, 95% CI): 1.26,\n",
      "      (1.25-\n",
      "       1.28)\n"
     ]
    }
   ],
   "source": [
    "model_name = 'Linear'\n",
    "\n",
    "bpr_samples_both_years = np.mean(bpr_over_time, axis=0)\n",
    "mae_samples_both_years = np.mean(mae_over_time, axis=0)\n",
    "rmse_samples_both_years = np.mean(rmse_over_time, axis=0)\n",
    "\n",
    "                        \n",
    "print(f\"\"\"{model_name} model BPR (Mean, 95% CI): {np.mean(bpr_samples_both_years)*100:.1f},\n",
    "      ({np.percentile(bpr_samples_both_years,2.5)*100:.1f}-\n",
    "       {np.percentile(bpr_samples_both_years,97.5)*100:.1f})\"\"\")\n",
    "\n",
    "print(f\"\"\"{model_name} model MAE (Mean, 95% CI): {np.mean(mae_samples_both_years):.2f},\n",
    "      ({np.percentile(mae_samples_both_years,2.5):.2f}-\n",
    "       {np.percentile(mae_samples_both_years,97.5):.2f})\"\"\")\n",
    "\n",
    "print(f\"\"\"{model_name} model RMSE (Mean, 95% CI): {np.mean(rmse_samples_both_years):.2f},\n",
    "      ({np.percentile(rmse_samples_both_years,2.5):.2f}-\n",
    "       {np.percentile(rmse_samples_both_years,97.5):.2f})\"\"\")\n"
   ]
  },
  {
   "cell_type": "code",
   "execution_count": 49,
   "id": "113912a7",
   "metadata": {},
   "outputs": [
    {
     "name": "stderr",
     "output_type": "stream",
     "text": [
      "/cluster/tufts/hugheslab/kheuto01/miniconda3/envs/ptopk_tf_again/lib/python3.8/site-packages/sklearn/linear_model/_glm/glm.py:284: ConvergenceWarning: lbfgs failed to converge (status=1):\n",
      "STOP: TOTAL NO. of ITERATIONS REACHED LIMIT.\n",
      "\n",
      "Increase the number of iterations (max_iter) or scale the data as shown in:\n",
      "    https://scikit-learn.org/stable/modules/preprocessing.html\n",
      "  self.n_iter_ = _check_optimize_result(\"lbfgs\", opt_res)\n"
     ]
    }
   ],
   "source": [
    "bpr_over_time, mae_over_time, rmse_over_time = models.scikit_model(multiindexed_gdf, x_BSF_no_svi,\n",
    "                                               y_BS_no_svi, x_test_BSF_no_svi,\n",
    "                                               linear_poisson,\n",
    "                                               first_test_timestep, last_test_timestep,\n",
    "                                               bpr_uncertainty_samples=50)"
   ]
  },
  {
   "cell_type": "code",
   "execution_count": 50,
   "id": "e4d1a1f2",
   "metadata": {},
   "outputs": [
    {
     "name": "stdout",
     "output_type": "stream",
     "text": [
      "Linear No SDOH model BPR (Mean, 95% CI): 60.9,\n",
      "      (58.8-\n",
      "       63.0)\n",
      "Linear No SDOH model MAE (Mean, 95% CI): 0.98,\n",
      "      (0.97-\n",
      "       0.99)\n",
      "Linear No SDOH model RMSE (Mean, 95% CI): 1.29,\n",
      "      (1.27-\n",
      "       1.31)\n"
     ]
    }
   ],
   "source": [
    "model_name = 'Linear No SDOH'\n",
    "\n",
    "bpr_samples_both_years = np.mean(bpr_over_time, axis=0)\n",
    "mae_samples_both_years = np.mean(mae_over_time, axis=0)\n",
    "rmse_samples_both_years = np.mean(rmse_over_time, axis=0)\n",
    "\n",
    "                        \n",
    "print(f\"\"\"{model_name} model BPR (Mean, 95% CI): {np.mean(bpr_samples_both_years)*100:.1f},\n",
    "      ({np.percentile(bpr_samples_both_years,2.5)*100:.1f}-\n",
    "       {np.percentile(bpr_samples_both_years,97.5)*100:.1f})\"\"\")\n",
    "\n",
    "print(f\"\"\"{model_name} model MAE (Mean, 95% CI): {np.mean(mae_samples_both_years):.2f},\n",
    "      ({np.percentile(mae_samples_both_years,2.5):.2f}-\n",
    "       {np.percentile(mae_samples_both_years,97.5):.2f})\"\"\")\n",
    "\n",
    "print(f\"\"\"{model_name} model RMSE (Mean, 95% CI): {np.mean(rmse_samples_both_years):.2f},\n",
    "      ({np.percentile(rmse_samples_both_years,2.5):.2f}-\n",
    "       {np.percentile(rmse_samples_both_years,97.5):.2f})\"\"\")\n"
   ]
  },
  {
   "cell_type": "code",
   "execution_count": 67,
   "id": "6ffba8f1",
   "metadata": {},
   "outputs": [],
   "source": [
    "bpr_over_time, mae_over_time, rmse_over_time = models.scikit_model(multiindexed_gdf, x_BSF,\n",
    "                                               y_BS, x_test_BSF,\n",
    "                                               hist_poisson,\n",
    "                                               first_test_timestep, last_test_timestep,\n",
    "                                               bpr_uncertainty_samples=50)"
   ]
  },
  {
   "cell_type": "code",
   "execution_count": 68,
   "id": "605585de",
   "metadata": {},
   "outputs": [
    {
     "name": "stdout",
     "output_type": "stream",
     "text": [
      "Gradient Boosted Trees model BPR (Mean, 95% CI): 59.0,\n",
      "      (57.6-\n",
      "       61.2)\n",
      "Gradient Boosted Trees model MAE (Mean, 95% CI): 0.94,\n",
      "      (0.93-\n",
      "       0.95)\n",
      "Gradient Boosted Trees model RMSE (Mean, 95% CI): 1.28,\n",
      "      (1.26-\n",
      "       1.30)\n"
     ]
    }
   ],
   "source": [
    "model_name = 'Gradient Boosted Trees'\n",
    "\n",
    "bpr_samples_both_years = np.mean(bpr_over_time, axis=0)\n",
    "mae_samples_both_years = np.mean(mae_over_time, axis=0)\n",
    "rmse_samples_both_years = np.mean(rmse_over_time, axis=0)\n",
    "\n",
    "print(f\"\"\"{model_name} model BPR (Mean, 95% CI): {np.mean(bpr_samples_both_years)*100:.1f},\n",
    "      ({np.percentile(bpr_samples_both_years,2.5)*100:.1f}-\n",
    "       {np.percentile(bpr_samples_both_years,97.5)*100:.1f})\"\"\")\n",
    "\n",
    "print(f\"\"\"{model_name} model MAE (Mean, 95% CI): {np.mean(mae_samples_both_years):.2f},\n",
    "      ({np.percentile(mae_samples_both_years,2.5):.2f}-\n",
    "       {np.percentile(mae_samples_both_years,97.5):.2f})\"\"\")\n",
    "\n",
    "print(f\"\"\"{model_name} model RMSE (Mean, 95% CI): {np.mean(rmse_samples_both_years):.2f},\n",
    "      ({np.percentile(rmse_samples_both_years,2.5):.2f}-\n",
    "       {np.percentile(rmse_samples_both_years,97.5):.2f})\"\"\")\n"
   ]
  },
  {
   "cell_type": "code",
   "execution_count": 14,
   "id": "09f5b5b0",
   "metadata": {},
   "outputs": [],
   "source": [
    "import numpy as np\n",
    "\n",
    "import jax\n",
    "import jax.numpy as jnp\n",
    "\n",
    "\n",
    "import scipy.optimize\n",
    "\n",
    "def calc_neg_log_lik(theta, x_N2, y_N, to_pos=jnp.exp, reduce=True):\n",
    "    N = x_N2.shape[0]\n",
    "    y_N = jnp.reshape(y_N, (N,))\n",
    "    mu_N = to_pos(theta[0] + jnp.dot(x_N2, theta[1:]))\n",
    "    assert mu_N.shape == (N,)\n",
    "    assert y_N.shape == mu_N.shape\n",
    "    loglik_N = -mu_N + y_N * jnp.log(mu_N)\n",
    "    if reduce:\n",
    "        return -1.0 * jnp.mean(loglik_N)\n",
    "    else:\n",
    "        return -1.0 * loglik_N\n",
    "\n",
    "class MyPoissonGLM():\n",
    "    \n",
    "    def __init__(self, init_theta=np.zeros(3), to_pos=jnp.exp, theta=None):\n",
    "        self.to_pos = to_pos\n",
    "        self.init_theta = init_theta\n",
    "        if theta is not None:\n",
    "            self.theta = theta\n",
    "            self.coef_ = theta[1:].copy()\n",
    "            self.intercept_ = theta[0].copy()\n",
    "        \n",
    "    def fit(self, x_N2, y_N):\n",
    "        calc_grad = jax.grad(calc_neg_log_lik, argnums=[0])\n",
    "\n",
    "        def f(theta, *args):\n",
    "            return np.asarray(calc_neg_log_lik(theta, *args), dtype=np.float64, order='F').item()\n",
    "        def g(theta, *args):\n",
    "            return np.asarray(calc_grad(theta, *args)[0], dtype=np.float64, order='F').copy()\n",
    "        ans = scipy.optimize.minimize(\n",
    "            f, self.init_theta, args=(x_N2, y_N, self.to_pos), jac=g,\n",
    "            method='L-BFGS-B',\n",
    "            options={'ftol':1e-13, 'gtol':1e-14})\n",
    "        self.ans = ans\n",
    "        self.theta = ans.x\n",
    "        self.intercept_ = ans.x[0].copy()\n",
    "        self.coef_ = ans.x[1:].copy()\n",
    "        return self\n",
    "        \n",
    "    def predict(self, x_N2):\n",
    "        return self.to_pos(self.intercept_ + np.dot(x_N2, self.coef_))\n",
    "    \n",
    "    def score(self, x_N2, y_N, eval_logpmf_method='scipy'):\n",
    "        if eval_logpmf_method.count('scipy'):\n",
    "            mu_N = self.predict(x_N2)\n",
    "            return np.mean([-1.0 * scipy.stats.poisson(mu).logpmf(y) for (mu, y) in zip(mu_N, y_N)])\n",
    "        else:\n",
    "            return calc_neg_log_lik(self.theta, x_N2, y_N, to_pos=self.to_pos).item()"
   ]
  },
  {
   "cell_type": "code",
   "execution_count": null,
   "id": "05068cb8",
   "metadata": {},
   "outputs": [],
   "source": []
  }
 ],
 "metadata": {
  "kernelspec": {
   "display_name": "Python 3 (ipykernel)",
   "language": "python",
   "name": "python3"
  },
  "language_info": {
   "codemirror_mode": {
    "name": "ipython",
    "version": 3
   },
   "file_extension": ".py",
   "mimetype": "text/x-python",
   "name": "python",
   "nbconvert_exporter": "python",
   "pygments_lexer": "ipython3",
   "version": "3.8.16"
  }
 },
 "nbformat": 4,
 "nbformat_minor": 5
}
