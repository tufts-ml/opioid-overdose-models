{
 "cells": [
  {
   "cell_type": "code",
   "execution_count": 3,
   "id": "48636b2a",
   "metadata": {
    "scrolled": false
   },
   "outputs": [
    {
     "name": "stdout",
     "output_type": "stream",
     "text": [
      "The autoreload extension is already loaded. To reload it, use:\n",
      "  %reload_ext autoreload\n"
     ]
    }
   ],
   "source": [
    "%load_ext autoreload\n",
    "%autoreload 2\n",
    "import geopandas as gpd\n",
    "import numpy as np\n",
    "import pandas as pd\n",
    "from pandas import IndexSlice as idx\n",
    "import os\n",
    "\n",
    "import sklearn\n",
    "from sklearn.linear_model import LinearRegression\n",
    "from sklearn.ensemble import HistGradientBoostingRegressor\n",
    "\n",
    "# local import\n",
    "from make_datasets import make_data\n",
    "import models\n",
    "import evaluation"
   ]
  },
  {
   "cell_type": "code",
   "execution_count": 4,
   "id": "b3d22c46",
   "metadata": {},
   "outputs": [],
   "source": [
    "user_dir = '/Users/jyontika/Desktop/'\n",
    "data_dir = 'jyontika-MA-data/data'\n",
    "data_path= os.path.join(user_dir, data_dir, './clean_annual_tract/')\n",
    "data_gdf = gpd.read_file(data_path)"
   ]
  },
  {
   "cell_type": "markdown",
   "id": "349503d7",
   "metadata": {},
   "source": [
    "Process dataframe into a data frame with a Multiindex on location and time"
   ]
  },
  {
   "cell_type": "code",
   "execution_count": null,
   "id": "686f6cd9",
   "metadata": {},
   "outputs": [],
   "source": [
    "\n",
    "# Name the important columns\n",
    "timestep_col = 'timestep'\n",
    "geography_col = 'geoid'\n",
    "outcome_col = 'deaths'\n",
    "\n",
    "# These are the columns we could possibly want in the X dataframe\n",
    "x_idx_cols = [geography_col, 'lat', 'lon', timestep_col,\n",
    "              'theme_1_pc', 'theme_2_pc', 'theme_3_pc', 'theme_4_pc',\n",
    "              'svi_pctile', 'year',\n",
    "              'neighbor_t', 'deaths']\n",
    "\n",
    "# These are the columns we could want in the Y dataframe\n",
    "y_idx_cols = [geography_col, timestep_col, outcome_col]\n",
    "\n",
    "# These are the features we want\n",
    "features_only = ['deaths']\n",
    "add_spacetime = True\n",
    "add_svi = True\n",
    "if add_spacetime:\n",
    "    features_only += ['lat', 'lon', timestep_col]\n",
    "if add_svi:\n",
    "    features_only += ['theme_1_pc', 'theme_2_pc', 'theme_3_pc', 'theme_4_pc', 'svi_pctile']\n",
    "\n",
    "\n",
    "validation_year = 2018\n",
    "first_test_year = 2019\n",
    "last_test_year = 2020\n",
    "first_test_timestep = 19\n",
    "last_test_timestep = 20\n",
    "lookback_years= 5\n",
    "first_train_eval_year = validation_year - lookback_years\n",
    "last_train_eval_year = validation_year -1"
   ]
  },
  {
   "cell_type": "code",
   "execution_count": null,
   "id": "3751205c",
   "metadata": {},
   "outputs": [],
   "source": [
    "# Create the multiindex\n",
    "multiindexed_gdf = data_gdf.set_index([geography_col, timestep_col])\n",
    "\n",
    "# re-add the timestep column as a feature because it's useful\n",
    "multiindexed_gdf[timestep_col] = multiindexed_gdf.index.get_level_values(timestep_col)\n",
    "\n",
    "# Track number of locations\n",
    "num_geoids = len(data_gdf[geography_col].unique())"
   ]
  },
  {
   "cell_type": "code",
   "execution_count": null,
   "id": "22960e28",
   "metadata": {},
   "outputs": [],
   "source": [
    "x_BSF, y_BS = make_data(multiindexed_gdf, first_train_eval_year, last_train_eval_year, lookback_years,\n",
    "          features_only, num_geoids)\n",
    "x_test_BSF, y_test_BS =make_data(multiindexed_gdf, first_test_year, last_test_year, lookback_years,\n",
    "          features_only, num_geoids)\n",
    "\n",
    "# For the weighted historical average model, we only use deaths as features\n",
    "x_BSF_death_only, y_BS_death_only = make_data(multiindexed_gdf, first_train_eval_year, last_train_eval_year, lookback_years,\n",
    "          ['deaths'], num_geoids)\n",
    "x_test_BSF_death_only, y_test_BS_death_only =make_data(multiindexed_gdf, first_test_year, last_test_year, lookback_years,\n",
    "          ['deaths'], num_geoids)"
   ]
  },
  {
   "cell_type": "code",
   "execution_count": null,
   "id": "b668f78a",
   "metadata": {},
   "outputs": [
    {
     "data": {
      "text/plain": [
       "TensorShape([5, 1620, 45])"
      ]
     },
     "execution_count": 6,
     "metadata": {},
     "output_type": "execute_result"
    }
   ],
   "source": [
    "x_BSF.shape"
   ]
  },
  {
   "cell_type": "code",
   "execution_count": null,
   "id": "66fda90d",
   "metadata": {},
   "outputs": [
    {
     "data": {
      "text/plain": [
       "TensorShape([5, 1620])"
      ]
     },
     "execution_count": 7,
     "metadata": {},
     "output_type": "execute_result"
    }
   ],
   "source": [
    "y_BS.shape"
   ]
  },
  {
   "cell_type": "code",
   "execution_count": null,
   "id": "d3590f4e",
   "metadata": {},
   "outputs": [],
   "source": [
    "all_evaluation_deaths = []\n",
    "\n",
    "for timestep in range(first_test_timestep, last_test_timestep+1):\n",
    "    evaluation_deaths = multiindexed_gdf.loc[idx[:, timestep], :]\n",
    "    evaluation_deaths = evaluation_deaths.drop(columns=timestep_col).reset_index().set_index('geoid')['deaths']\n",
    "    \n",
    "    # Append the current evaluation_deaths data to the list\n",
    "    all_evaluation_deaths.append(evaluation_deaths)\n",
    "\n",
    "evaluation_deaths = all_evaluation_deaths"
   ]
  },
  {
   "cell_type": "markdown",
   "id": "d54ef088",
   "metadata": {},
   "source": [
    "### All Zeroes Model\n",
    "#### lookback years =2"
   ]
  },
  {
   "cell_type": "code",
   "execution_count": null,
   "id": "046c1f3b",
   "metadata": {},
   "outputs": [],
   "source": [
    "bpr_over_time_zeroes, predicted_over_time_zeroes = models.all_zeroes_model(multiindexed_gdf,\n",
    "                                        first_test_timestep, last_test_timestep,\n",
    "                                        num_geoids, bpr_uncertainty_samples=15)"
   ]
  },
  {
   "cell_type": "code",
   "execution_count": null,
   "id": "eba6f304",
   "metadata": {},
   "outputs": [
    {
     "name": "stdout",
     "output_type": "stream",
     "text": [
      "2019 Average: 0.25896326804183245\n",
      "Zeroes model (Mean, 95% CI): 25.4,\n",
      "      (25.1-\n",
      "       25.8)\n"
     ]
    }
   ],
   "source": [
    "print(f\"2019 Average: {np.mean(bpr_over_time_zeroes[0])}\")\n",
    "\n",
    "bpr_samples_both_years = (np.array(bpr_over_time_zeroes[0]) + \\\n",
    "                          np.array(bpr_over_time_zeroes[1]))/2\n",
    "                        \n",
    "print(f\"\"\"Zeroes model (Mean, 95% CI): {np.mean(bpr_samples_both_years)*100:.1f},\n",
    "      ({np.percentile(bpr_samples_both_years,2.5)*100:.1f}-\n",
    "       {np.percentile(bpr_samples_both_years,97.5)*100:.1f})\"\"\")\n"
   ]
  },
  {
   "cell_type": "code",
   "execution_count": null,
   "id": "fdf6f219",
   "metadata": {},
   "outputs": [],
   "source": [
    "zeroes_rmse_results, zeroes_mae_results  = evaluation.calculate_metrics(evaluation_deaths, predicted_over_time_zeroes)"
   ]
  },
  {
   "cell_type": "code",
   "execution_count": null,
   "id": "7a34f5a3",
   "metadata": {},
   "outputs": [
    {
     "name": "stdout",
     "output_type": "stream",
     "text": [
      "RMSE for Zeroes Model (Mean, 95% CI): 1.80, (1.73-1.88)\n",
      "MAE for Zeroes Model (Mean, 95% CI): 1.17, (1.12-1.22)\n"
     ]
    }
   ],
   "source": [
    "zeroes_rmse_mean, zeroes_rmse_conf_interval = zeroes_rmse_results\n",
    "zeroes_mae_mean, zeroes_mae_conf_interval = zeroes_mae_results\n",
    "\n",
    "evaluation.print_results(\"RMSE for Zeroes Model\", zeroes_rmse_mean, zeroes_rmse_conf_interval)\n",
    "evaluation.print_results(\"MAE for Zeroes Model\", zeroes_mae_mean, zeroes_mae_conf_interval)\n"
   ]
  },
  {
   "cell_type": "markdown",
   "id": "7d0db4b7",
   "metadata": {},
   "source": [
    "### Last Year\n",
    "#### lookback = 1 year"
   ]
  },
  {
   "cell_type": "code",
   "execution_count": null,
   "id": "696ed27c",
   "metadata": {},
   "outputs": [],
   "source": [
    "bpr_over_time_last_time, predicted_over_time_last_time  = models.last_time_model(multiindexed_gdf, first_test_timestep, last_test_timestep, num_geoids,\n",
    "                     1, bpr_uncertainty_samples=50)"
   ]
  },
  {
   "cell_type": "code",
   "execution_count": null,
   "id": "0a32e2de",
   "metadata": {},
   "outputs": [
    {
     "name": "stdout",
     "output_type": "stream",
     "text": [
      "2019 Average: 0.5583644190051337\n",
      "Zeroes model (Mean, 95% CI): 53.9,\n",
      "      (52.4-\n",
      "       55.3)\n"
     ]
    }
   ],
   "source": [
    "print(f\"2019 Average: {np.mean(bpr_over_time_last_time[0])}\")\n",
    "\n",
    "bpr_samples_both_years = (np.array(bpr_over_time_last_time[0]) + \\\n",
    "                          np.array(bpr_over_time_last_time[1]))/2\n",
    "                        \n",
    "print(f\"\"\"Zeroes model (Mean, 95% CI): {np.mean(bpr_samples_both_years)*100:.1f},\n",
    "      ({np.percentile(bpr_samples_both_years,2.5)*100:.1f}-\n",
    "       {np.percentile(bpr_samples_both_years,97.5)*100:.1f})\"\"\")\n"
   ]
  },
  {
   "cell_type": "code",
   "execution_count": null,
   "id": "caaf1e8a",
   "metadata": {},
   "outputs": [
    {
     "data": {
      "text/plain": [
       "2"
      ]
     },
     "execution_count": 15,
     "metadata": {},
     "output_type": "execute_result"
    }
   ],
   "source": [
    "len(predicted_over_time_last_time)"
   ]
  },
  {
   "cell_type": "code",
   "execution_count": null,
   "id": "48ba6cd3",
   "metadata": {},
   "outputs": [],
   "source": [
    "last_time_rmse_results, last_time_mae_results  = evaluation.calculate_metrics(evaluation_deaths, predicted_over_time_last_time)"
   ]
  },
  {
   "cell_type": "code",
   "execution_count": null,
   "id": "19d1e1b7",
   "metadata": {},
   "outputs": [
    {
     "name": "stdout",
     "output_type": "stream",
     "text": [
      "RMSE for Last Year Model (Mean, 95% CI): 1.51, (1.48-1.54)\n",
      "MAE for Last Year Model (Mean, 95% CI): 1.05, (1.03-1.08)\n"
     ]
    }
   ],
   "source": [
    "last_time_rmse_mean, last_time_rmse_conf_interval = last_time_rmse_results\n",
    "last_time_mae_mean, last_time_mae_conf_interval = last_time_mae_results\n",
    "\n",
    "evaluation.print_results(\"RMSE for Last Year Model\", last_time_rmse_mean, last_time_rmse_conf_interval)\n",
    "evaluation.print_results(\"MAE for Last Year Model\", last_time_mae_mean, last_time_mae_conf_interval)\n"
   ]
  },
  {
   "cell_type": "markdown",
   "id": "03f08d07",
   "metadata": {},
   "source": [
    "### Historical Average \n",
    "#### lookback = 1 years"
   ]
  },
  {
   "cell_type": "code",
   "execution_count": null,
   "id": "86155c9a",
   "metadata": {},
   "outputs": [],
   "source": [
    "bpr_over_time_avg_time, predicted_over_time_avg_time = models.historical_average_model(multiindexed_gdf, first_test_timestep, last_test_timestep, num_geoids,\n",
    "                     1, 7, bpr_uncertainty_samples=10)"
   ]
  },
  {
   "cell_type": "code",
   "execution_count": null,
   "id": "e7455212",
   "metadata": {},
   "outputs": [
    {
     "name": "stdout",
     "output_type": "stream",
     "text": [
      "2019 Average: 0.6308297301973017\n",
      "Hist. Avg  model (Mean, 95% CI): 61.0,\n",
      "      (59.9-\n",
      "       62.5)\n"
     ]
    }
   ],
   "source": [
    "print(f\"2019 Average: {np.mean(bpr_over_time_avg_time[0])}\")\n",
    "\n",
    "bpr_samples_both_years = (np.array(bpr_over_time_avg_time[0]) + \\\n",
    "                          np.array(bpr_over_time_avg_time[1]))/2\n",
    "                        \n",
    "print(f\"\"\"Hist. Avg  model (Mean, 95% CI): {np.mean(bpr_samples_both_years)*100:.1f},\n",
    "      ({np.percentile(bpr_samples_both_years,2.5)*100:.1f}-\n",
    "       {np.percentile(bpr_samples_both_years,97.5)*100:.1f})\"\"\")\n"
   ]
  },
  {
   "cell_type": "code",
   "execution_count": null,
   "id": "649c6783",
   "metadata": {},
   "outputs": [],
   "source": [
    "avg_time_rmse_results, avg_time_mae_results  = evaluation.calculate_metrics(evaluation_deaths, predicted_over_time_avg_time)"
   ]
  },
  {
   "cell_type": "code",
   "execution_count": null,
   "id": "5ee8ddfe",
   "metadata": {},
   "outputs": [
    {
     "name": "stdout",
     "output_type": "stream",
     "text": [
      "RMSE for Historical Average Model (Mean, 95% CI): 1.20, (1.16-1.25)\n",
      "MAE for Historical Average Model (Mean, 95% CI): 0.87, (0.84-0.89)\n"
     ]
    }
   ],
   "source": [
    "avg_time_rmse_mean, avg_time_rmse_conf_interval = avg_time_rmse_results\n",
    "avg_time_mae_mean, avg_time_mae_conf_interval = avg_time_mae_results\n",
    "\n",
    "evaluation.print_results(\"RMSE for Historical Average Model\", avg_time_rmse_mean, avg_time_rmse_conf_interval)\n",
    "evaluation.print_results(\"MAE for Historical Average Model\", avg_time_mae_mean, avg_time_mae_conf_interval)\n"
   ]
  },
  {
   "cell_type": "markdown",
   "id": "49f536fc",
   "metadata": {},
   "source": [
    "### Weighted Historical Average\n",
    "#### lookback = 7 years"
   ]
  },
  {
   "cell_type": "markdown",
   "id": "807d4f68",
   "metadata": {},
   "source": [
    "Make Scikit models"
   ]
  },
  {
   "cell_type": "code",
   "execution_count": null,
   "id": "99fd7204",
   "metadata": {},
   "outputs": [],
   "source": [
    "# Identical models, features are only difference\n",
    "linear_poisson_weighted_avg = sklearn.linear_model.PoissonRegressor()\n",
    "linear_poisson = sklearn.linear_model.PoissonRegressor()\n",
    "\n",
    "# Params selected via grid search on validation. Need to re-do grid search for chicago\n",
    "hist_poisson =   HistGradientBoostingRegressor(loss=\"poisson\", max_iter=10000, max_depth=3, max_leaf_nodes=2,\n",
    "                                               l2_regularization=1, min_samples_leaf=100 )"
   ]
  },
  {
   "cell_type": "code",
   "execution_count": null,
   "id": "cad5de70",
   "metadata": {},
   "outputs": [],
   "source": [
    "bpr_over_time_weight_avg, predicted_over_time_weight_avg = models.scikit_model(multiindexed_gdf, x_BSF_death_only,\n",
    "                                               y_BS_death_only, x_test_BSF_death_only,\n",
    "                                               linear_poisson_weighted_avg,\n",
    "                                               first_test_timestep, last_test_timestep,\n",
    "                                               bpr_uncertainty_samples=20)"
   ]
  },
  {
   "cell_type": "code",
   "execution_count": null,
   "id": "5bde8c5d",
   "metadata": {},
   "outputs": [
    {
     "name": "stdout",
     "output_type": "stream",
     "text": [
      "2019 Average: 0.6264956051073434\n",
      "Weighted Hist. Avg  model (Mean, 95% CI): 61.1,\n",
      "      (59.2-\n",
      "       63.4)\n"
     ]
    }
   ],
   "source": [
    "print(f\"2019 Average: {np.mean(bpr_over_time_weight_avg[0])}\")\n",
    "\n",
    "bpr_samples_both_years = (np.array(bpr_over_time_weight_avg[0]) + \\\n",
    "                          np.array(bpr_over_time_weight_avg[1]))/2\n",
    "                        \n",
    "print(f\"\"\"Weighted Hist. Avg  model (Mean, 95% CI): {np.mean(bpr_samples_both_years)*100:.1f},\n",
    "      ({np.percentile(bpr_samples_both_years,2.5)*100:.1f}-\n",
    "       {np.percentile(bpr_samples_both_years,97.5)*100:.1f})\"\"\")\n"
   ]
  },
  {
   "cell_type": "code",
   "execution_count": null,
   "id": "457b1c41",
   "metadata": {},
   "outputs": [],
   "source": [
    "weight_avg_rmse_results, weight_avg_mae_results  = evaluation.calculate_metrics(evaluation_deaths, predicted_over_time_weight_avg)"
   ]
  },
  {
   "cell_type": "code",
   "execution_count": null,
   "id": "7e59e06d",
   "metadata": {},
   "outputs": [
    {
     "name": "stdout",
     "output_type": "stream",
     "text": [
      "RMSE for Weighted Average Model (Mean, 95% CI): 1.22, (1.18-1.26)\n",
      "MAE for Weighted Average Model (Mean, 95% CI): 0.93, (0.90-0.96)\n"
     ]
    }
   ],
   "source": [
    "weight_avg_rmse_mean, weight_avg_rmse_conf_interval = weight_avg_rmse_results\n",
    "weight_avg_mae_mean, weight_avg_mae_conf_interval = weight_avg_mae_results\n",
    "\n",
    "evaluation.print_results(\"RMSE for Weighted Average Model\", weight_avg_rmse_mean, weight_avg_rmse_conf_interval)\n",
    "evaluation.print_results(\"MAE for Weighted Average Model\", weight_avg_mae_mean, weight_avg_mae_conf_interval)\n"
   ]
  },
  {
   "cell_type": "code",
   "execution_count": null,
   "id": "96c3c8ad",
   "metadata": {},
   "outputs": [],
   "source": [
    "# df_weighted = models.scikit_model_with_coefficients(multiindexed_gdf, x_BSF_death_only,\n",
    "#                                                y_BS_death_only, x_test_BSF_death_only,\n",
    "#                                                linear_poisson_weighted_avg,\n",
    "#                                                first_test_timestep, last_test_timestep,\n",
    "#                                                bpr_uncertainty_samples=20)\n"
   ]
  },
  {
   "cell_type": "code",
   "execution_count": null,
   "id": "9857a736",
   "metadata": {},
   "outputs": [],
   "source": [
    "# #df_weighted\n",
    "# excel_filename = 'weighted_average_df_MA.xlsx'  # Provide the desired filename\n",
    "# df_weighted.to_excel(excel_filename, index=False)  # Specify index=False to exclude row indices from the output\n"
   ]
  },
  {
   "cell_type": "markdown",
   "id": "b78ea8be",
   "metadata": {},
   "source": [
    "### Linear (Poisson GLM baseline)"
   ]
  },
  {
   "cell_type": "code",
   "execution_count": null,
   "id": "fee01c0a",
   "metadata": {},
   "outputs": [
    {
     "name": "stderr",
     "output_type": "stream",
     "text": [
      "/Users/jyontika/Library/Python/3.9/lib/python/site-packages/sklearn/linear_model/_glm/glm.py:282: ConvergenceWarning: lbfgs failed to converge (status=1):\n",
      "STOP: TOTAL NO. of ITERATIONS REACHED LIMIT.\n",
      "\n",
      "Increase the number of iterations (max_iter) or scale the data as shown in:\n",
      "    https://scikit-learn.org/stable/modules/preprocessing.html\n",
      "  self.n_iter_ = _check_optimize_result(\"lbfgs\", opt_res)\n"
     ]
    }
   ],
   "source": [
    "bpr_over_time_linear, predicted_over_time_linear = models.scikit_model(multiindexed_gdf, x_BSF,\n",
    "                                               y_BS, x_test_BSF,\n",
    "                                               linear_poisson,\n",
    "                                               first_test_timestep, last_test_timestep,\n",
    "                                               bpr_uncertainty_samples=50)"
   ]
  },
  {
   "cell_type": "code",
   "execution_count": null,
   "id": "7d93b520",
   "metadata": {},
   "outputs": [
    {
     "name": "stdout",
     "output_type": "stream",
     "text": [
      "2019 Average: 0.6320362020652359\n",
      "Linear (Poisson GLM) model (Mean, 95% CI): 61.5,\n",
      "      (59.8-\n",
      "       63.6)\n"
     ]
    }
   ],
   "source": [
    "print(f\"2019 Average: {np.mean(bpr_over_time_linear[0])}\")\n",
    "\n",
    "bpr_samples_both_years = (np.array(bpr_over_time_linear[0]) + \\\n",
    "                          np.array(bpr_over_time_linear[1]))/2\n",
    "                        \n",
    "print(f\"\"\"Linear (Poisson GLM) model (Mean, 95% CI): {np.mean(bpr_samples_both_years)*100:.1f},\n",
    "      ({np.percentile(bpr_samples_both_years,2.5)*100:.1f}-\n",
    "       {np.percentile(bpr_samples_both_years,97.5)*100:.1f})\"\"\")\n"
   ]
  },
  {
   "cell_type": "code",
   "execution_count": null,
   "id": "ee5fb8b4",
   "metadata": {},
   "outputs": [],
   "source": [
    "linear_rmse_results, linear_mae_results  = evaluation.calculate_metrics(evaluation_deaths, predicted_over_time_linear)"
   ]
  },
  {
   "cell_type": "code",
   "execution_count": null,
   "id": "27c989bc",
   "metadata": {},
   "outputs": [
    {
     "name": "stdout",
     "output_type": "stream",
     "text": [
      "RMSE for Linear (Poisson GLM) (Mean, 95% CI): 1.32, (1.25-1.39)\n",
      "MAE for Linear (Poisson GLM) (Mean, 95% CI): 1.05, (0.99-1.11)\n"
     ]
    }
   ],
   "source": [
    "linear_rmse_mean, linear_rmse_conf_interval = linear_rmse_results\n",
    "linear_mae_mean, linear_mae_conf_interval = linear_mae_results\n",
    "\n",
    "evaluation.print_results(\"RMSE for Linear (Poisson GLM)\", linear_rmse_mean, linear_rmse_conf_interval)\n",
    "evaluation.print_results(\"MAE for Linear (Poisson GLM)\", linear_mae_mean, linear_mae_conf_interval)\n"
   ]
  },
  {
   "cell_type": "code",
   "execution_count": null,
   "id": "ca070910",
   "metadata": {},
   "outputs": [],
   "source": [
    "# df_linear = models.scikit_model_with_coefficients(multiindexed_gdf, x_BSF,\n",
    "#                                                y_BS, x_test_BSF,\n",
    "#                                                linear_poisson,\n",
    "#                                                first_test_timestep, last_test_timestep,\n",
    "#                                                bpr_uncertainty_samples=20)"
   ]
  },
  {
   "cell_type": "markdown",
   "id": "abffe020",
   "metadata": {},
   "source": [
    "### Gradient Boosted Trees (Poisson)"
   ]
  },
  {
   "cell_type": "code",
   "execution_count": null,
   "id": "6ffba8f1",
   "metadata": {},
   "outputs": [],
   "source": [
    "bpr_over_time_tree, predicted_over_time_tree = models.scikit_model(multiindexed_gdf, x_BSF,\n",
    "                                               y_BS, x_test_BSF,\n",
    "                                               hist_poisson,\n",
    "                                               first_test_timestep, last_test_timestep,\n",
    "                                               bpr_uncertainty_samples=20)"
   ]
  },
  {
   "cell_type": "code",
   "execution_count": null,
   "id": "605585de",
   "metadata": {},
   "outputs": [
    {
     "name": "stdout",
     "output_type": "stream",
     "text": [
      "2019 Average: 0.5583002425125425\n",
      "Gradient Boosted Trees (Poisson)  (Mean, 95% CI): 57.6,\n",
      "      (56.3-\n",
      "       59.3)\n"
     ]
    }
   ],
   "source": [
    "print(f\"2019 Average: {np.mean(bpr_over_time_tree[0])}\")\n",
    "\n",
    "bpr_samples_both_years = (np.array(bpr_over_time_tree[0]) + \\\n",
    "                          np.array(bpr_over_time_tree[1]))/2\n",
    "                        \n",
    "print(f\"\"\"Gradient Boosted Trees (Poisson)  (Mean, 95% CI): {np.mean(bpr_samples_both_years)*100:.1f},\n",
    "      ({np.percentile(bpr_samples_both_years,2.5)*100:.1f}-\n",
    "       {np.percentile(bpr_samples_both_years,97.5)*100:.1f})\"\"\")\n"
   ]
  },
  {
   "cell_type": "code",
   "execution_count": null,
   "id": "8af91063",
   "metadata": {},
   "outputs": [],
   "source": [
    "tree_rmse_results, tree_mae_results  = evaluation.calculate_metrics(evaluation_deaths, predicted_over_time_tree)"
   ]
  },
  {
   "cell_type": "code",
   "execution_count": null,
   "id": "c1b94f9a",
   "metadata": {},
   "outputs": [
    {
     "name": "stdout",
     "output_type": "stream",
     "text": [
      "RMSE for Gradient Boosted Trees (Mean, 95% CI): 1.20, (1.17-1.24)\n",
      "MAE for Gradient Boosted Trees (Mean, 95% CI): 0.90, (0.88-0.91)\n"
     ]
    }
   ],
   "source": [
    "tree_rmse_mean, tree_rmse_conf_interval = tree_rmse_results\n",
    "tree_mae_mean, tree_mae_conf_interval = tree_mae_results\n",
    "\n",
    "evaluation.print_results(\"RMSE for Gradient Boosted Trees\", tree_rmse_mean, tree_rmse_conf_interval)\n",
    "evaluation.print_results(\"MAE for Gradient Boosted Trees\", tree_mae_mean, tree_mae_conf_interval)\n"
   ]
  },
  {
   "cell_type": "markdown",
   "id": "8ee0890d",
   "metadata": {},
   "source": [
    "### CASTNet"
   ]
  },
  {
   "cell_type": "code",
   "execution_count": null,
   "id": "f236b586",
   "metadata": {},
   "outputs": [],
   "source": [
    "# Call the castnet_model function to calculate BPR for CASTNet predictions\n",
    "bpr_results_castnet, predicted_results_castnet = models.castnet_model(multiindexed_gdf, False, first_test_timestep, last_test_timestep, \n",
    "                                            num_geoids, bpr_uncertainty_samples=50)\n"
   ]
  },
  {
   "cell_type": "code",
   "execution_count": null,
   "id": "bf84f5aa",
   "metadata": {},
   "outputs": [
    {
     "name": "stdout",
     "output_type": "stream",
     "text": [
      "2019 Average: 0.2796877101780102\n",
      "CASTNet model (Mean, 95% CI): 29.0,\n",
      "      (27.8-\n",
      "       30.4)\n"
     ]
    }
   ],
   "source": [
    "print(f\"2019 Average: {np.mean(bpr_results_castnet[0])}\")\n",
    "\n",
    "bpr_samples_both_years = (np.array(bpr_results_castnet[0]) + \\\n",
    "                          np.array(bpr_results_castnet[1]))/2\n",
    "                        \n",
    "print(f\"\"\"CASTNet model (Mean, 95% CI): {np.mean(bpr_samples_both_years)*100:.1f},\n",
    "      ({np.percentile(bpr_samples_both_years,2.5)*100:.1f}-\n",
    "       {np.percentile(bpr_samples_both_years,97.5)*100:.1f})\"\"\")"
   ]
  },
  {
   "cell_type": "code",
   "execution_count": null,
   "id": "f6248937",
   "metadata": {},
   "outputs": [],
   "source": [
    "castnet_rmse_results, castnet_mae_results  = evaluation.calculate_metrics(evaluation_deaths, predicted_results_castnet)"
   ]
  },
  {
   "cell_type": "code",
   "execution_count": null,
   "id": "4c9db397",
   "metadata": {},
   "outputs": [
    {
     "name": "stdout",
     "output_type": "stream",
     "text": [
      "RMSE for CASTNet (Mean, 95% CI): 2.11, (2.05-2.18)\n",
      "MAE for CASTNet (Mean, 95% CI): 1.59, (1.48-1.70)\n"
     ]
    }
   ],
   "source": [
    "castnet_rmse_mean, castnet_rmse_conf_interval = castnet_rmse_results\n",
    "castnet_mae_mean, castnet_mae_conf_interval = castnet_mae_results\n",
    "\n",
    "evaluation.print_results(\"RMSE for CASTNet\", castnet_rmse_mean, castnet_rmse_conf_interval)\n",
    "evaluation.print_results(\"MAE for CASTNet\", castnet_mae_mean, castnet_mae_conf_interval)\n"
   ]
  }
 ],
 "metadata": {
  "kernelspec": {
   "display_name": "Python 3 (ipykernel)",
   "language": "python",
   "name": "python3"
  },
  "language_info": {
   "codemirror_mode": {
    "name": "ipython",
    "version": 3
   },
   "file_extension": ".py",
   "mimetype": "text/x-python",
   "name": "python",
   "nbconvert_exporter": "python",
   "pygments_lexer": "ipython3",
   "version": "3.9.6"
  }
 },
 "nbformat": 4,
 "nbformat_minor": 5
}
