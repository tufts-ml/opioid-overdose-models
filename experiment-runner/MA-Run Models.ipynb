{
 "cells": [
  {
   "cell_type": "code",
   "execution_count": 1,
   "id": "48636b2a",
   "metadata": {
    "scrolled": false
   },
   "outputs": [
    {
     "name": "stderr",
     "output_type": "stream",
     "text": [
      "2023-10-07 11:48:56.175156: I tensorflow/core/util/port.cc:110] oneDNN custom operations are on. You may see slightly different numerical results due to floating-point round-off errors from different computation orders. To turn them off, set the environment variable `TF_ENABLE_ONEDNN_OPTS=0`.\n",
      "2023-10-07 11:48:56.177196: I tensorflow/tsl/cuda/cudart_stub.cc:28] Could not find cuda drivers on your machine, GPU will not be used.\n",
      "2023-10-07 11:48:56.219610: I tensorflow/tsl/cuda/cudart_stub.cc:28] Could not find cuda drivers on your machine, GPU will not be used.\n",
      "2023-10-07 11:48:56.220283: I tensorflow/core/platform/cpu_feature_guard.cc:182] This TensorFlow binary is optimized to use available CPU instructions in performance-critical operations.\n",
      "To enable the following instructions: AVX2 AVX512F AVX512_VNNI FMA, in other operations, rebuild TensorFlow with the appropriate compiler flags.\n",
      "2023-10-07 11:48:57.567271: W tensorflow/compiler/tf2tensorrt/utils/py_utils.cc:38] TF-TRT Warning: Could not find TensorRT\n"
     ]
    }
   ],
   "source": [
    "%load_ext autoreload\n",
    "%autoreload 2\n",
    "import geopandas as gpd\n",
    "import numpy as np\n",
    "import pandas as pd\n",
    "from pandas import IndexSlice as idx\n",
    "import os\n",
    "\n",
    "import sklearn\n",
    "from sklearn.linear_model import LinearRegression\n",
    "from sklearn.ensemble import HistGradientBoostingRegressor\n",
    "from sklearn.gaussian_process.kernels import RBF\n",
    "from sklearn.gaussian_process import GaussianProcessRegressor\n",
    "\n",
    "\n",
    "# local import\n",
    "from make_datasets import make_data\n",
    "import models\n",
    "from metrics import fast_bpr\n",
    "import evaluation"
   ]
  },
  {
   "cell_type": "code",
   "execution_count": 2,
   "id": "b3d22c46",
   "metadata": {},
   "outputs": [],
   "source": [
    "data_dir = '/cluster/tufts/hugheslab/datasets/NSF_OD/results_202308_pipeline/'\n",
    "data_path= os.path.join( data_dir, './clean_annual_tract/')\n",
    "data_gdf = gpd.read_file(data_path)"
   ]
  },
  {
   "cell_type": "markdown",
   "id": "349503d7",
   "metadata": {},
   "source": [
    "Process dataframe into a data frame with a Multiindex on location and time"
   ]
  },
  {
   "cell_type": "code",
   "execution_count": 3,
   "id": "686f6cd9",
   "metadata": {},
   "outputs": [],
   "source": [
    "\n",
    "# Name the important columns\n",
    "timestep_col = 'timestep'\n",
    "geography_col = 'geoid'\n",
    "outcome_col = 'deaths'\n",
    "\n",
    "# These are the columns we could possibly want in the X dataframe\n",
    "x_idx_cols = [geography_col, 'lat', 'lon', timestep_col,\n",
    "              'theme_1_pc', 'theme_2_pc', 'theme_3_pc', 'theme_4_pc',\n",
    "              'svi_pctile', 'year',\n",
    "              'neighbor_t', 'deaths']\n",
    "\n",
    "# These are the columns we could want in the Y dataframe\n",
    "y_idx_cols = [geography_col, timestep_col, outcome_col]\n",
    "\n",
    "# These are the features we want\n",
    "features_only = ['deaths']\n",
    "add_spacetime = True\n",
    "add_svi = True\n",
    "if add_spacetime:\n",
    "    features_only += ['lat', 'lon', timestep_col]\n",
    "if add_svi:\n",
    "    features_only += ['theme_1_pc', 'theme_2_pc', 'theme_3_pc', 'theme_4_pc', 'svi_pctile']\n",
    "\n",
    "\n",
    "validation_year = 2019\n",
    "first_test_year = 2020\n",
    "last_test_year = 2021\n",
    "first_test_timestep = 20\n",
    "last_test_timestep = 21\n",
    "lookback_years= 5\n",
    "first_train_eval_year = validation_year - lookback_years\n",
    "last_train_eval_year = validation_year -1"
   ]
  },
  {
   "cell_type": "code",
   "execution_count": 4,
   "id": "3751205c",
   "metadata": {},
   "outputs": [],
   "source": [
    "# Create the multiindex\n",
    "multiindexed_gdf = data_gdf.set_index([geography_col, timestep_col])\n",
    "\n",
    "# re-add the timestep column as a feature because it's useful\n",
    "multiindexed_gdf[timestep_col] = multiindexed_gdf.index.get_level_values(timestep_col)\n",
    "\n",
    "# Track number of locations\n",
    "num_geoids = len(data_gdf[geography_col].unique())"
   ]
  },
  {
   "cell_type": "code",
   "execution_count": 5,
   "id": "22960e28",
   "metadata": {},
   "outputs": [
    {
     "name": "stderr",
     "output_type": "stream",
     "text": [
      "2023-10-07 11:49:20.844325: E tensorflow/compiler/xla/stream_executor/cuda/cuda_driver.cc:266] failed call to cuInit: CUDA_ERROR_NO_DEVICE: no CUDA-capable device is detected\n",
      "2023-10-07 11:49:20.844363: I tensorflow/compiler/xla/stream_executor/cuda/cuda_diagnostics.cc:168] retrieving CUDA diagnostic information for host: s1cmp008.pax.tufts.edu\n",
      "2023-10-07 11:49:20.844372: I tensorflow/compiler/xla/stream_executor/cuda/cuda_diagnostics.cc:175] hostname: s1cmp008.pax.tufts.edu\n",
      "2023-10-07 11:49:20.844469: I tensorflow/compiler/xla/stream_executor/cuda/cuda_diagnostics.cc:199] libcuda reported version is: 535.104.5\n",
      "2023-10-07 11:49:20.844498: I tensorflow/compiler/xla/stream_executor/cuda/cuda_diagnostics.cc:203] kernel reported version is: 535.104.5\n",
      "2023-10-07 11:49:20.844503: I tensorflow/compiler/xla/stream_executor/cuda/cuda_diagnostics.cc:309] kernel version seems to match DSO: 535.104.5\n"
     ]
    }
   ],
   "source": [
    "x_BSF, y_BS = make_data(multiindexed_gdf, first_train_eval_year, last_train_eval_year, lookback_years,\n",
    "          features_only, num_geoids)\n",
    "x_test_BSF, y_test_BS =make_data(multiindexed_gdf, first_test_year, last_test_year, lookback_years,\n",
    "          features_only, num_geoids)\n",
    "\n",
    "# For the weighted historical average model, we only use deaths as features\n",
    "x_BSF_death_only, y_BS_death_only = make_data(multiindexed_gdf, first_train_eval_year, last_train_eval_year, lookback_years,\n",
    "          ['deaths'], num_geoids)\n",
    "x_test_BSF_death_only, y_test_BS_death_only =make_data(multiindexed_gdf, first_test_year, last_test_year, lookback_years,\n",
    "          ['deaths'], num_geoids)"
   ]
  },
  {
   "cell_type": "code",
   "execution_count": 6,
   "id": "b668f78a",
   "metadata": {},
   "outputs": [
    {
     "data": {
      "text/plain": [
       "TensorShape([5, 1620, 45])"
      ]
     },
     "execution_count": 6,
     "metadata": {},
     "output_type": "execute_result"
    }
   ],
   "source": [
    "x_BSF.shape"
   ]
  },
  {
   "cell_type": "code",
   "execution_count": 7,
   "id": "66fda90d",
   "metadata": {},
   "outputs": [
    {
     "data": {
      "text/plain": [
       "TensorShape([5, 1620])"
      ]
     },
     "execution_count": 7,
     "metadata": {},
     "output_type": "execute_result"
    }
   ],
   "source": [
    "y_BS.shape"
   ]
  },
  {
   "cell_type": "code",
   "execution_count": 8,
   "id": "d3590f4e",
   "metadata": {},
   "outputs": [],
   "source": [
    "all_evaluation_deaths = []\n",
    "\n",
    "for timestep in range(first_test_timestep, last_test_timestep+1):\n",
    "    evaluation_deaths = multiindexed_gdf.loc[idx[:, timestep], :]\n",
    "    evaluation_deaths = evaluation_deaths.drop(columns=timestep_col).reset_index().set_index('geoid')['deaths']\n",
    "    \n",
    "    # Append the current evaluation_deaths data to the list\n",
    "    all_evaluation_deaths.append(evaluation_deaths)\n",
    "\n",
    "evaluation_deaths = all_evaluation_deaths"
   ]
  },
  {
   "cell_type": "markdown",
   "id": "d54ef088",
   "metadata": {},
   "source": [
    "### All Zeroes Model\n",
    "#### lookback years =2"
   ]
  },
  {
   "cell_type": "code",
   "execution_count": 32,
   "id": "046c1f3b",
   "metadata": {},
   "outputs": [],
   "source": [
    "bpr_over_time_zeroes, predicted_over_time_zeroes, denominator_deaths = models.all_zeroes_model(multiindexed_gdf,\n",
    "                                        first_test_timestep, last_test_timestep,\n",
    "                                        num_geoids, bpr_uncertainty_samples=15)"
   ]
  },
  {
   "cell_type": "code",
   "execution_count": 25,
   "id": "eba6f304",
   "metadata": {},
   "outputs": [
    {
     "name": "stdout",
     "output_type": "stream",
     "text": [
      "2019 Average: 0.2498676865758481\n",
      "Zeroes model (Mean, 95% CI): 25.1,\n",
      "      (24.9-\n",
      "       25.5)\n"
     ]
    }
   ],
   "source": [
    "print(f\"2019 Average: {np.mean(bpr_over_time_zeroes[0])}\")\n",
    "\n",
    "bpr_samples_both_years = (np.array(bpr_over_time_zeroes[0]) + \\\n",
    "                          np.array(bpr_over_time_zeroes[1]))/2\n",
    "                        \n",
    "print(f\"\"\"Zeroes model (Mean, 95% CI): {np.mean(bpr_samples_both_years)*100:.1f},\n",
    "      ({np.percentile(bpr_samples_both_years,2.5)*100:.1f}-\n",
    "       {np.percentile(bpr_samples_both_years,97.5)*100:.1f})\"\"\")\n"
   ]
  },
  {
   "cell_type": "code",
   "execution_count": 26,
   "id": "fdf6f219",
   "metadata": {},
   "outputs": [],
   "source": [
    "zeroes_rmse_results, zeroes_mae_results  = evaluation.calculate_metrics(evaluation_deaths, predicted_over_time_zeroes)"
   ]
  },
  {
   "cell_type": "code",
   "execution_count": 27,
   "id": "369b32d6",
   "metadata": {},
   "outputs": [
    {
     "name": "stdout",
     "output_type": "stream",
     "text": [
      "RMSE for Zeroes Model (Mean, 95% CI): 1.91, (1.83-2.01)\n",
      "MAE for Zeroes Model (Mean, 95% CI): 1.24, (1.18-1.30)\n"
     ]
    }
   ],
   "source": [
    "zeroes_rmse_mean, zeroes_rmse_conf_interval = zeroes_rmse_results\n",
    "zeroes_mae_mean, zeroes_mae_conf_interval = zeroes_mae_results\n",
    "\n",
    "evaluation.print_results(\"RMSE for Zeroes Model\", zeroes_rmse_mean, zeroes_rmse_conf_interval)\n",
    "evaluation.print_results(\"MAE for Zeroes Model\", zeroes_mae_mean, zeroes_mae_conf_interval)\n"
   ]
  },
  {
   "cell_type": "code",
   "execution_count": 34,
   "id": "cfac9649",
   "metadata": {},
   "outputs": [
    {
     "name": "stdout",
     "output_type": "stream",
     "text": [
      "Zeroes model overdose reach (Mean, 95% CI): 123.7,\n",
      "      (122.8-\n",
      "       125.8)\n"
     ]
    }
   ],
   "source": [
    "print(f\"\"\"Zeroes model overdose reach (Mean, 95% CI): {np.mean(bpr_samples_both_years)*np.mean(denominator_deaths):.1f},\n",
    "      ({np.percentile(bpr_samples_both_years,2.5)*np.mean(denominator_deaths):.1f}-\n",
    "       {np.percentile(bpr_samples_both_years,97.5)*np.mean(denominator_deaths):.1f})\"\"\")\n"
   ]
  },
  {
   "cell_type": "code",
   "execution_count": 35,
   "id": "53d7dabb",
   "metadata": {},
   "outputs": [
    {
     "data": {
      "text/plain": [
       "492.6333333333333"
      ]
     },
     "execution_count": 35,
     "metadata": {},
     "output_type": "execute_result"
    }
   ],
   "source": [
    "np.mean(denominator_deaths)"
   ]
  },
  {
   "cell_type": "code",
   "execution_count": 12,
   "id": "7a34f5a3",
   "metadata": {},
   "outputs": [
    {
     "name": "stdout",
     "output_type": "stream",
     "text": [
      "RMSE for Zeroes Model (Mean, 95% CI): 1.91, (1.84-1.98)\n",
      "MAE for Zeroes Model (Mean, 95% CI): 1.24, (1.19-1.28)\n"
     ]
    }
   ],
   "source": [
    "zeroes_rmse_mean, zeroes_rmse_conf_interval = zeroes_rmse_results\n",
    "zeroes_mae_mean, zeroes_mae_conf_interval = zeroes_mae_results\n",
    "\n",
    "evaluation.print_results(\"RMSE for Zeroes Model\", zeroes_rmse_mean, zeroes_rmse_conf_interval)\n",
    "evaluation.print_results(\"MAE for Zeroes Model\", zeroes_mae_mean, zeroes_mae_conf_interval)\n"
   ]
  },
  {
   "cell_type": "markdown",
   "id": "7d0db4b7",
   "metadata": {},
   "source": [
    "### Last Year\n",
    "#### lookback = 1 year"
   ]
  },
  {
   "cell_type": "code",
   "execution_count": null,
   "id": "696ed27c",
   "metadata": {},
   "outputs": [],
   "source": [
    "bpr_over_time_last_time, predicted_over_time_last_time  = models.last_time_model(multiindexed_gdf, first_test_timestep, last_test_timestep, num_geoids,\n",
    "                     1, bpr_uncertainty_samples=50)"
   ]
  },
  {
   "cell_type": "code",
   "execution_count": null,
   "id": "0a32e2de",
   "metadata": {},
   "outputs": [
    {
     "name": "stdout",
     "output_type": "stream",
     "text": [
      "2019 Average: 0.5583644190051337\n",
      "Zeroes model (Mean, 95% CI): 53.9,\n",
      "      (52.4-\n",
      "       55.3)\n"
     ]
    }
   ],
   "source": [
    "print(f\"2019 Average: {np.mean(bpr_over_time_last_time[0])}\")\n",
    "\n",
    "bpr_samples_both_years = (np.array(bpr_over_time_last_time[0]) + \\\n",
    "                          np.array(bpr_over_time_last_time[1]))/2\n",
    "                        \n",
    "print(f\"\"\"Zeroes model (Mean, 95% CI): {np.mean(bpr_samples_both_years)*100:.1f},\n",
    "      ({np.percentile(bpr_samples_both_years,2.5)*100:.1f}-\n",
    "       {np.percentile(bpr_samples_both_years,97.5)*100:.1f})\"\"\")\n"
   ]
  },
  {
   "cell_type": "code",
   "execution_count": null,
   "id": "caaf1e8a",
   "metadata": {},
   "outputs": [
    {
     "data": {
      "text/plain": [
       "2"
      ]
     },
     "execution_count": 15,
     "metadata": {},
     "output_type": "execute_result"
    }
   ],
   "source": [
    "len(predicted_over_time_last_time)"
   ]
  },
  {
   "cell_type": "code",
   "execution_count": null,
   "id": "48ba6cd3",
   "metadata": {},
   "outputs": [],
   "source": [
    "last_time_rmse_results, last_time_mae_results  = evaluation.calculate_metrics(evaluation_deaths, predicted_over_time_last_time)"
   ]
  },
  {
   "cell_type": "code",
   "execution_count": null,
   "id": "19d1e1b7",
   "metadata": {},
   "outputs": [
    {
     "name": "stdout",
     "output_type": "stream",
     "text": [
      "RMSE for Last Year Model (Mean, 95% CI): 1.51, (1.48-1.54)\n",
      "MAE for Last Year Model (Mean, 95% CI): 1.05, (1.03-1.08)\n"
     ]
    }
   ],
   "source": [
    "last_time_rmse_mean, last_time_rmse_conf_interval = last_time_rmse_results\n",
    "last_time_mae_mean, last_time_mae_conf_interval = last_time_mae_results\n",
    "\n",
    "evaluation.print_results(\"RMSE for Last Year Model\", last_time_rmse_mean, last_time_rmse_conf_interval)\n",
    "evaluation.print_results(\"MAE for Last Year Model\", last_time_mae_mean, last_time_mae_conf_interval)\n"
   ]
  },
  {
   "cell_type": "markdown",
   "id": "03f08d07",
   "metadata": {},
   "source": [
    "### Historical Average \n",
    "#### lookback = 1 years"
   ]
  },
  {
   "cell_type": "code",
   "execution_count": 47,
   "id": "86155c9a",
   "metadata": {},
   "outputs": [],
   "source": [
    "bpr_over_time_avg_time, predicted_over_time_avg_time = models.historical_average_model(multiindexed_gdf, first_test_timestep, last_test_timestep, num_geoids,\n",
    "                     1, 4, bpr_uncertainty_samples=100, removed_locations=250)"
   ]
  },
  {
   "cell_type": "code",
   "execution_count": 48,
   "id": "e7455212",
   "metadata": {},
   "outputs": [
    {
     "name": "stdout",
     "output_type": "stream",
     "text": [
      "2019 Average: 0.6005169669613087\n",
      "Hist. Avg  model (Mean, 95% CI): 59.8,\n",
      "      (57.9-\n",
      "       62.1)\n"
     ]
    }
   ],
   "source": [
    "print(f\"2019 Average: {np.mean(bpr_over_time_avg_time[0])}\")\n",
    "\n",
    "bpr_samples_both_years = (np.array(bpr_over_time_avg_time[0]) + \\\n",
    "                          np.array(bpr_over_time_avg_time[1]))/2\n",
    "                        \n",
    "print(f\"\"\"Hist. Avg  model (Mean, 95% CI): {np.mean(bpr_samples_both_years)*100:.1f},\n",
    "      ({np.percentile(bpr_samples_both_years,2.5)*100:.1f}-\n",
    "       {np.percentile(bpr_samples_both_years,97.5)*100:.1f})\"\"\")\n"
   ]
  },
  {
   "cell_type": "code",
   "execution_count": 49,
   "id": "649c6783",
   "metadata": {},
   "outputs": [],
   "source": [
    "avg_time_rmse_results, avg_time_mae_results  = evaluation.calculate_metrics(evaluation_deaths, predicted_over_time_avg_time)"
   ]
  },
  {
   "cell_type": "code",
   "execution_count": 50,
   "id": "5ee8ddfe",
   "metadata": {},
   "outputs": [
    {
     "name": "stdout",
     "output_type": "stream",
     "text": [
      "RMSE for Historical Average Model (Mean, 95% CI): 1.28, (1.24-1.33)\n",
      "MAE for Historical Average Model (Mean, 95% CI): 0.92, (0.89-0.93)\n"
     ]
    }
   ],
   "source": [
    "avg_time_rmse_mean, avg_time_rmse_conf_interval = avg_time_rmse_results\n",
    "avg_time_mae_mean, avg_time_mae_conf_interval = avg_time_mae_results\n",
    "\n",
    "evaluation.print_results(\"RMSE for Historical Average Model\", avg_time_rmse_mean, avg_time_rmse_conf_interval)\n",
    "evaluation.print_results(\"MAE for Historical Average Model\", avg_time_mae_mean, avg_time_mae_conf_interval)\n"
   ]
  },
  {
   "cell_type": "markdown",
   "id": "49f536fc",
   "metadata": {},
   "source": [
    "### Weighted Historical Average\n",
    "#### lookback = 7 years"
   ]
  },
  {
   "cell_type": "markdown",
   "id": "807d4f68",
   "metadata": {},
   "source": [
    "Make Scikit models"
   ]
  },
  {
   "cell_type": "code",
   "execution_count": 24,
   "id": "99fd7204",
   "metadata": {},
   "outputs": [],
   "source": [
    "# Identical models, features are only difference\n",
    "linear_poisson_weighted_avg = sklearn.linear_model.PoissonRegressor()\n",
    "linear_poisson = sklearn.linear_model.PoissonRegressor()\n",
    "\n",
    "# Params selected via grid search on validation. Need to re-do grid search for chicago\n",
    "hist_poisson =   HistGradientBoostingRegressor(loss=\"poisson\", max_iter=10000, max_depth=3, max_leaf_nodes=2,\n",
    "                                               l2_regularization=1, min_samples_leaf=100 )\n",
    "\n",
    "\n",
    "kernel = RBF(length_scale = x_BSF.shape[-1]*[0.5])\n",
    "gaussian_process = GaussianProcessRegressor(kernel=kernel, n_restarts_optimizer=9)"
   ]
  },
  {
   "cell_type": "code",
   "execution_count": null,
   "id": "cad5de70",
   "metadata": {},
   "outputs": [],
   "source": [
    "bpr_over_time_weight_avg, predicted_over_time_weight_avg = models.scikit_model(multiindexed_gdf, x_BSF_death_only,\n",
    "                                               y_BS_death_only, x_test_BSF_death_only,\n",
    "                                               linear_poisson_weighted_avg,\n",
    "                                               first_test_timestep, last_test_timestep,\n",
    "                                               bpr_uncertainty_samples=20)"
   ]
  },
  {
   "cell_type": "code",
   "execution_count": null,
   "id": "5bde8c5d",
   "metadata": {},
   "outputs": [
    {
     "name": "stdout",
     "output_type": "stream",
     "text": [
      "2019 Average: 0.6264956051073434\n",
      "Weighted Hist. Avg  model (Mean, 95% CI): 61.1,\n",
      "      (59.2-\n",
      "       63.4)\n"
     ]
    }
   ],
   "source": [
    "print(f\"2019 Average: {np.mean(bpr_over_time_weight_avg[0])}\")\n",
    "\n",
    "bpr_samples_both_years = (np.array(bpr_over_time_weight_avg[0]) + \\\n",
    "                          np.array(bpr_over_time_weight_avg[1]))/2\n",
    "                        \n",
    "print(f\"\"\"Weighted Hist. Avg  model (Mean, 95% CI): {np.mean(bpr_samples_both_years)*100:.1f},\n",
    "      ({np.percentile(bpr_samples_both_years,2.5)*100:.1f}-\n",
    "       {np.percentile(bpr_samples_both_years,97.5)*100:.1f})\"\"\")\n"
   ]
  },
  {
   "cell_type": "code",
   "execution_count": null,
   "id": "457b1c41",
   "metadata": {},
   "outputs": [],
   "source": [
    "weight_avg_rmse_results, weight_avg_mae_results  = evaluation.calculate_metrics(evaluation_deaths, predicted_over_time_weight_avg)"
   ]
  },
  {
   "cell_type": "code",
   "execution_count": null,
   "id": "7e59e06d",
   "metadata": {},
   "outputs": [
    {
     "name": "stdout",
     "output_type": "stream",
     "text": [
      "RMSE for Weighted Average Model (Mean, 95% CI): 1.22, (1.18-1.26)\n",
      "MAE for Weighted Average Model (Mean, 95% CI): 0.93, (0.90-0.96)\n"
     ]
    }
   ],
   "source": [
    "weight_avg_rmse_mean, weight_avg_rmse_conf_interval = weight_avg_rmse_results\n",
    "weight_avg_mae_mean, weight_avg_mae_conf_interval = weight_avg_mae_results\n",
    "\n",
    "evaluation.print_results(\"RMSE for Weighted Average Model\", weight_avg_rmse_mean, weight_avg_rmse_conf_interval)\n",
    "evaluation.print_results(\"MAE for Weighted Average Model\", weight_avg_mae_mean, weight_avg_mae_conf_interval)\n"
   ]
  },
  {
   "cell_type": "code",
   "execution_count": null,
   "id": "96c3c8ad",
   "metadata": {},
   "outputs": [],
   "source": [
    "# df_weighted = models.scikit_model_with_coefficients(multiindexed_gdf, x_BSF_death_only,\n",
    "#                                                y_BS_death_only, x_test_BSF_death_only,\n",
    "#                                                linear_poisson_weighted_avg,\n",
    "#                                                first_test_timestep, last_test_timestep,\n",
    "#                                                bpr_uncertainty_samples=20)\n"
   ]
  },
  {
   "cell_type": "code",
   "execution_count": null,
   "id": "9857a736",
   "metadata": {},
   "outputs": [],
   "source": [
    "# #df_weighted\n",
    "# excel_filename = 'weighted_average_df_MA.xlsx'  # Provide the desired filename\n",
    "# df_weighted.to_excel(excel_filename, index=False)  # Specify index=False to exclude row indices from the output\n"
   ]
  },
  {
   "cell_type": "markdown",
   "id": "b78ea8be",
   "metadata": {},
   "source": [
    "### Linear (Poisson GLM baseline)"
   ]
  },
  {
   "cell_type": "code",
   "execution_count": 16,
   "id": "fee01c0a",
   "metadata": {},
   "outputs": [
    {
     "name": "stderr",
     "output_type": "stream",
     "text": [
      "/cluster/tufts/hugheslab/kheuto01/miniconda3/envs/ptopk_tf_again/lib/python3.8/site-packages/sklearn/linear_model/_glm/glm.py:284: ConvergenceWarning: lbfgs failed to converge (status=1):\n",
      "STOP: TOTAL NO. of ITERATIONS REACHED LIMIT.\n",
      "\n",
      "Increase the number of iterations (max_iter) or scale the data as shown in:\n",
      "    https://scikit-learn.org/stable/modules/preprocessing.html\n",
      "  self.n_iter_ = _check_optimize_result(\"lbfgs\", opt_res)\n"
     ]
    }
   ],
   "source": [
    "bpr_over_time_linear, predicted_over_time_linear = models.scikit_model(multiindexed_gdf, x_BSF,\n",
    "                                               y_BS, x_test_BSF,\n",
    "                                               linear_poisson,\n",
    "                                               first_test_timestep, last_test_timestep,\n",
    "                                               bpr_uncertainty_samples=50)"
   ]
  },
  {
   "cell_type": "code",
   "execution_count": 17,
   "id": "7d93b520",
   "metadata": {},
   "outputs": [
    {
     "name": "stdout",
     "output_type": "stream",
     "text": [
      "2019 Average: 0.6091544102988147\n",
      "Linear (Poisson GLM) model (Mean, 95% CI): 62.7,\n",
      "      (60.8-\n",
      "       64.8)\n"
     ]
    }
   ],
   "source": [
    "print(f\"2019 Average: {np.mean(bpr_over_time_linear[0])}\")\n",
    "\n",
    "bpr_samples_both_years = (np.array(bpr_over_time_linear[0]) + \\\n",
    "                          np.array(bpr_over_time_linear[1]))/2\n",
    "                        \n",
    "print(f\"\"\"Linear (Poisson GLM) model (Mean, 95% CI): {np.mean(bpr_samples_both_years)*100:.1f},\n",
    "      ({np.percentile(bpr_samples_both_years,2.5)*100:.1f}-\n",
    "       {np.percentile(bpr_samples_both_years,97.5)*100:.1f})\"\"\")\n"
   ]
  },
  {
   "cell_type": "code",
   "execution_count": 21,
   "id": "ee5fb8b4",
   "metadata": {},
   "outputs": [],
   "source": [
    "linear_rmse_results, linear_mae_results  = evaluation.calculate_metrics(evaluation_deaths, predicted_over_time_linear)"
   ]
  },
  {
   "cell_type": "code",
   "execution_count": 22,
   "id": "27c989bc",
   "metadata": {},
   "outputs": [
    {
     "name": "stdout",
     "output_type": "stream",
     "text": [
      "RMSE for Linear (Poisson GLM) (Mean, 95% CI): 1.28, (1.23-1.32)\n",
      "MAE for Linear (Poisson GLM) (Mean, 95% CI): 0.98, (0.95-1.00)\n"
     ]
    }
   ],
   "source": [
    "linear_rmse_mean, linear_rmse_conf_interval = linear_rmse_results\n",
    "linear_mae_mean, linear_mae_conf_interval = linear_mae_results\n",
    "\n",
    "evaluation.print_results(\"RMSE for Linear (Poisson GLM)\", linear_rmse_mean, linear_rmse_conf_interval)\n",
    "evaluation.print_results(\"MAE for Linear (Poisson GLM)\", linear_mae_mean, linear_mae_conf_interval)\n"
   ]
  },
  {
   "cell_type": "code",
   "execution_count": null,
   "id": "ca070910",
   "metadata": {},
   "outputs": [],
   "source": [
    "# df_linear = models.scikit_model_with_coefficients(multiindexed_gdf, x_BSF,\n",
    "#                                                y_BS, x_test_BSF,\n",
    "#                                                linear_poisson,\n",
    "#                                                first_test_timestep, last_test_timestep,\n",
    "#                                                bpr_uncertainty_samples=20)"
   ]
  },
  {
   "cell_type": "markdown",
   "id": "abffe020",
   "metadata": {},
   "source": [
    "### Gradient Boosted Trees (Poisson)"
   ]
  },
  {
   "cell_type": "code",
   "execution_count": null,
   "id": "6ffba8f1",
   "metadata": {},
   "outputs": [],
   "source": [
    "bpr_over_time_tree, predicted_over_time_tree = models.scikit_model(multiindexed_gdf, x_BSF,\n",
    "                                               y_BS, x_test_BSF,\n",
    "                                               hist_poisson,\n",
    "                                               first_test_timestep, last_test_timestep,\n",
    "                                               bpr_uncertainty_samples=20)"
   ]
  },
  {
   "cell_type": "code",
   "execution_count": null,
   "id": "605585de",
   "metadata": {},
   "outputs": [
    {
     "name": "stdout",
     "output_type": "stream",
     "text": [
      "2019 Average: 0.5583002425125425\n",
      "Gradient Boosted Trees (Poisson)  (Mean, 95% CI): 57.6,\n",
      "      (56.3-\n",
      "       59.3)\n"
     ]
    }
   ],
   "source": [
    "print(f\"2019 Average: {np.mean(bpr_over_time_tree[0])}\")\n",
    "\n",
    "bpr_samples_both_years = (np.array(bpr_over_time_tree[0]) + \\\n",
    "                          np.array(bpr_over_time_tree[1]))/2\n",
    "                        \n",
    "print(f\"\"\"Gradient Boosted Trees (Poisson)  (Mean, 95% CI): {np.mean(bpr_samples_both_years)*100:.1f},\n",
    "      ({np.percentile(bpr_samples_both_years,2.5)*100:.1f}-\n",
    "       {np.percentile(bpr_samples_both_years,97.5)*100:.1f})\"\"\")\n"
   ]
  },
  {
   "cell_type": "code",
   "execution_count": null,
   "id": "8af91063",
   "metadata": {},
   "outputs": [],
   "source": [
    "tree_rmse_results, tree_mae_results  = evaluation.calculate_metrics(evaluation_deaths, predicted_over_time_tree)"
   ]
  },
  {
   "cell_type": "code",
   "execution_count": null,
   "id": "c1b94f9a",
   "metadata": {},
   "outputs": [
    {
     "name": "stdout",
     "output_type": "stream",
     "text": [
      "RMSE for Gradient Boosted Trees (Mean, 95% CI): 1.20, (1.17-1.24)\n",
      "MAE for Gradient Boosted Trees (Mean, 95% CI): 0.90, (0.88-0.91)\n"
     ]
    }
   ],
   "source": [
    "tree_rmse_mean, tree_rmse_conf_interval = tree_rmse_results\n",
    "tree_mae_mean, tree_mae_conf_interval = tree_mae_results\n",
    "\n",
    "evaluation.print_results(\"RMSE for Gradient Boosted Trees\", tree_rmse_mean, tree_rmse_conf_interval)\n",
    "evaluation.print_results(\"MAE for Gradient Boosted Trees\", tree_mae_mean, tree_mae_conf_interval)\n"
   ]
  },
  {
   "cell_type": "markdown",
   "id": "90863cca",
   "metadata": {},
   "source": [
    "## GPR"
   ]
  },
  {
   "cell_type": "code",
   "execution_count": 25,
   "id": "b90cacd1",
   "metadata": {},
   "outputs": [
    {
     "name": "stderr",
     "output_type": "stream",
     "text": [
      "/cluster/tufts/hugheslab/kheuto01/miniconda3/envs/ptopk_tf_again/lib/python3.8/site-packages/sklearn/gaussian_process/kernels.py:420: ConvergenceWarning: The optimal value found for dimension 0 of parameter length_scale is close to the specified lower bound 1e-05. Decreasing the bound and calling fit again may find a better value.\n",
      "  warnings.warn(\n",
      "/cluster/tufts/hugheslab/kheuto01/miniconda3/envs/ptopk_tf_again/lib/python3.8/site-packages/sklearn/gaussian_process/kernels.py:420: ConvergenceWarning: The optimal value found for dimension 1 of parameter length_scale is close to the specified lower bound 1e-05. Decreasing the bound and calling fit again may find a better value.\n",
      "  warnings.warn(\n",
      "/cluster/tufts/hugheslab/kheuto01/miniconda3/envs/ptopk_tf_again/lib/python3.8/site-packages/sklearn/gaussian_process/kernels.py:420: ConvergenceWarning: The optimal value found for dimension 2 of parameter length_scale is close to the specified lower bound 1e-05. Decreasing the bound and calling fit again may find a better value.\n",
      "  warnings.warn(\n",
      "/cluster/tufts/hugheslab/kheuto01/miniconda3/envs/ptopk_tf_again/lib/python3.8/site-packages/sklearn/gaussian_process/kernels.py:430: ConvergenceWarning: The optimal value found for dimension 3 of parameter length_scale is close to the specified upper bound 100000.0. Increasing the bound and calling fit again may find a better value.\n",
      "  warnings.warn(\n",
      "/cluster/tufts/hugheslab/kheuto01/miniconda3/envs/ptopk_tf_again/lib/python3.8/site-packages/sklearn/gaussian_process/kernels.py:430: ConvergenceWarning: The optimal value found for dimension 4 of parameter length_scale is close to the specified upper bound 100000.0. Increasing the bound and calling fit again may find a better value.\n",
      "  warnings.warn(\n",
      "/cluster/tufts/hugheslab/kheuto01/miniconda3/envs/ptopk_tf_again/lib/python3.8/site-packages/sklearn/gaussian_process/kernels.py:430: ConvergenceWarning: The optimal value found for dimension 5 of parameter length_scale is close to the specified upper bound 100000.0. Increasing the bound and calling fit again may find a better value.\n",
      "  warnings.warn(\n",
      "/cluster/tufts/hugheslab/kheuto01/miniconda3/envs/ptopk_tf_again/lib/python3.8/site-packages/sklearn/gaussian_process/kernels.py:430: ConvergenceWarning: The optimal value found for dimension 6 of parameter length_scale is close to the specified upper bound 100000.0. Increasing the bound and calling fit again may find a better value.\n",
      "  warnings.warn(\n",
      "/cluster/tufts/hugheslab/kheuto01/miniconda3/envs/ptopk_tf_again/lib/python3.8/site-packages/sklearn/gaussian_process/kernels.py:430: ConvergenceWarning: The optimal value found for dimension 7 of parameter length_scale is close to the specified upper bound 100000.0. Increasing the bound and calling fit again may find a better value.\n",
      "  warnings.warn(\n",
      "/cluster/tufts/hugheslab/kheuto01/miniconda3/envs/ptopk_tf_again/lib/python3.8/site-packages/sklearn/gaussian_process/kernels.py:420: ConvergenceWarning: The optimal value found for dimension 10 of parameter length_scale is close to the specified lower bound 1e-05. Decreasing the bound and calling fit again may find a better value.\n",
      "  warnings.warn(\n",
      "/cluster/tufts/hugheslab/kheuto01/miniconda3/envs/ptopk_tf_again/lib/python3.8/site-packages/sklearn/gaussian_process/kernels.py:420: ConvergenceWarning: The optimal value found for dimension 11 of parameter length_scale is close to the specified lower bound 1e-05. Decreasing the bound and calling fit again may find a better value.\n",
      "  warnings.warn(\n",
      "/cluster/tufts/hugheslab/kheuto01/miniconda3/envs/ptopk_tf_again/lib/python3.8/site-packages/sklearn/gaussian_process/kernels.py:430: ConvergenceWarning: The optimal value found for dimension 12 of parameter length_scale is close to the specified upper bound 100000.0. Increasing the bound and calling fit again may find a better value.\n",
      "  warnings.warn(\n",
      "/cluster/tufts/hugheslab/kheuto01/miniconda3/envs/ptopk_tf_again/lib/python3.8/site-packages/sklearn/gaussian_process/kernels.py:430: ConvergenceWarning: The optimal value found for dimension 13 of parameter length_scale is close to the specified upper bound 100000.0. Increasing the bound and calling fit again may find a better value.\n",
      "  warnings.warn(\n",
      "/cluster/tufts/hugheslab/kheuto01/miniconda3/envs/ptopk_tf_again/lib/python3.8/site-packages/sklearn/gaussian_process/kernels.py:430: ConvergenceWarning: The optimal value found for dimension 14 of parameter length_scale is close to the specified upper bound 100000.0. Increasing the bound and calling fit again may find a better value.\n",
      "  warnings.warn(\n",
      "/cluster/tufts/hugheslab/kheuto01/miniconda3/envs/ptopk_tf_again/lib/python3.8/site-packages/sklearn/gaussian_process/kernels.py:430: ConvergenceWarning: The optimal value found for dimension 15 of parameter length_scale is close to the specified upper bound 100000.0. Increasing the bound and calling fit again may find a better value.\n",
      "  warnings.warn(\n",
      "/cluster/tufts/hugheslab/kheuto01/miniconda3/envs/ptopk_tf_again/lib/python3.8/site-packages/sklearn/gaussian_process/kernels.py:430: ConvergenceWarning: The optimal value found for dimension 16 of parameter length_scale is close to the specified upper bound 100000.0. Increasing the bound and calling fit again may find a better value.\n",
      "  warnings.warn(\n",
      "/cluster/tufts/hugheslab/kheuto01/miniconda3/envs/ptopk_tf_again/lib/python3.8/site-packages/sklearn/gaussian_process/kernels.py:430: ConvergenceWarning: The optimal value found for dimension 17 of parameter length_scale is close to the specified upper bound 100000.0. Increasing the bound and calling fit again may find a better value.\n",
      "  warnings.warn(\n",
      "/cluster/tufts/hugheslab/kheuto01/miniconda3/envs/ptopk_tf_again/lib/python3.8/site-packages/sklearn/gaussian_process/kernels.py:420: ConvergenceWarning: The optimal value found for dimension 19 of parameter length_scale is close to the specified lower bound 1e-05. Decreasing the bound and calling fit again may find a better value.\n",
      "  warnings.warn(\n",
      "/cluster/tufts/hugheslab/kheuto01/miniconda3/envs/ptopk_tf_again/lib/python3.8/site-packages/sklearn/gaussian_process/kernels.py:420: ConvergenceWarning: The optimal value found for dimension 20 of parameter length_scale is close to the specified lower bound 1e-05. Decreasing the bound and calling fit again may find a better value.\n",
      "  warnings.warn(\n",
      "/cluster/tufts/hugheslab/kheuto01/miniconda3/envs/ptopk_tf_again/lib/python3.8/site-packages/sklearn/gaussian_process/kernels.py:430: ConvergenceWarning: The optimal value found for dimension 21 of parameter length_scale is close to the specified upper bound 100000.0. Increasing the bound and calling fit again may find a better value.\n",
      "  warnings.warn(\n",
      "/cluster/tufts/hugheslab/kheuto01/miniconda3/envs/ptopk_tf_again/lib/python3.8/site-packages/sklearn/gaussian_process/kernels.py:420: ConvergenceWarning: The optimal value found for dimension 28 of parameter length_scale is close to the specified lower bound 1e-05. Decreasing the bound and calling fit again may find a better value.\n",
      "  warnings.warn(\n",
      "/cluster/tufts/hugheslab/kheuto01/miniconda3/envs/ptopk_tf_again/lib/python3.8/site-packages/sklearn/gaussian_process/kernels.py:420: ConvergenceWarning: The optimal value found for dimension 29 of parameter length_scale is close to the specified lower bound 1e-05. Decreasing the bound and calling fit again may find a better value.\n",
      "  warnings.warn(\n",
      "/cluster/tufts/hugheslab/kheuto01/miniconda3/envs/ptopk_tf_again/lib/python3.8/site-packages/sklearn/gaussian_process/kernels.py:430: ConvergenceWarning: The optimal value found for dimension 30 of parameter length_scale is close to the specified upper bound 100000.0. Increasing the bound and calling fit again may find a better value.\n",
      "  warnings.warn(\n",
      "/cluster/tufts/hugheslab/kheuto01/miniconda3/envs/ptopk_tf_again/lib/python3.8/site-packages/sklearn/gaussian_process/kernels.py:430: ConvergenceWarning: The optimal value found for dimension 34 of parameter length_scale is close to the specified upper bound 100000.0. Increasing the bound and calling fit again may find a better value.\n",
      "  warnings.warn(\n",
      "/cluster/tufts/hugheslab/kheuto01/miniconda3/envs/ptopk_tf_again/lib/python3.8/site-packages/sklearn/gaussian_process/kernels.py:420: ConvergenceWarning: The optimal value found for dimension 36 of parameter length_scale is close to the specified lower bound 1e-05. Decreasing the bound and calling fit again may find a better value.\n",
      "  warnings.warn(\n",
      "/cluster/tufts/hugheslab/kheuto01/miniconda3/envs/ptopk_tf_again/lib/python3.8/site-packages/sklearn/gaussian_process/kernels.py:420: ConvergenceWarning: The optimal value found for dimension 37 of parameter length_scale is close to the specified lower bound 1e-05. Decreasing the bound and calling fit again may find a better value.\n",
      "  warnings.warn(\n",
      "/cluster/tufts/hugheslab/kheuto01/miniconda3/envs/ptopk_tf_again/lib/python3.8/site-packages/sklearn/gaussian_process/kernels.py:420: ConvergenceWarning: The optimal value found for dimension 38 of parameter length_scale is close to the specified lower bound 1e-05. Decreasing the bound and calling fit again may find a better value.\n",
      "  warnings.warn(\n",
      "/cluster/tufts/hugheslab/kheuto01/miniconda3/envs/ptopk_tf_again/lib/python3.8/site-packages/sklearn/gaussian_process/kernels.py:430: ConvergenceWarning: The optimal value found for dimension 39 of parameter length_scale is close to the specified upper bound 100000.0. Increasing the bound and calling fit again may find a better value.\n",
      "  warnings.warn(\n"
     ]
    },
    {
     "name": "stdout",
     "output_type": "stream",
     "text": [
      "2019 Average: 0.17648847268614937\n",
      "GP  (Mean, 95% CI): 16.3,\n",
      "      (15.2-\n",
      "       17.2)\n",
      "RMSE for GP (Mean, 95% CI): 1.90, (1.83-1.98)\n",
      "MAE for GP (Mean, 95% CI): 1.24, (1.20-1.28)\n"
     ]
    }
   ],
   "source": [
    "bpr_over_time_gp, predicted_over_time_gp = models.scikit_model(multiindexed_gdf, x_BSF,\n",
    "                                               y_BS, x_test_BSF,\n",
    "                                               gaussian_process,\n",
    "                                               first_test_timestep, last_test_timestep,\n",
    "                                               bpr_uncertainty_samples=20)\n",
    "\n",
    "print(f\"2019 Average: {np.mean(bpr_over_time_gp[0])}\")\n",
    "\n",
    "bpr_samples_both_years = (np.array(bpr_over_time_gp[0]) + \\\n",
    "                          np.array(bpr_over_time_gp[1]))/2\n",
    "                        \n",
    "print(f\"\"\"GP  (Mean, 95% CI): {np.mean(bpr_samples_both_years)*100:.1f},\n",
    "      ({np.percentile(bpr_samples_both_years,2.5)*100:.1f}-\n",
    "       {np.percentile(bpr_samples_both_years,97.5)*100:.1f})\"\"\")\n",
    "\n",
    "gp_rmse_results, gp_mae_results  = evaluation.calculate_metrics(evaluation_deaths, predicted_over_time_gp)\n",
    "\n",
    "gp_rmse_mean, gp_rmse_conf_interval = gp_rmse_results\n",
    "gp_mae_mean, gp_mae_conf_interval = gp_mae_results\n",
    "\n",
    "evaluation.print_results(\"RMSE for GP\", gp_rmse_mean, gp_rmse_conf_interval)\n",
    "evaluation.print_results(\"MAE for GP\", gp_mae_mean, gp_mae_conf_interval)\n"
   ]
  },
  {
   "cell_type": "code",
   "execution_count": 27,
   "id": "d5fa2447",
   "metadata": {},
   "outputs": [
    {
     "data": {
      "text/plain": [
       "RBF(length_scale=[1e-05, 1e-05, 1e-05, 1e+05, 1e+05, 1e+05, 1e+05, 1e+05, 49.8, 0.00112, 1e-05, 1e-05, 1e+05, 1e+05, 1e+05, 1e+05, 1e+05, 1e+05, 2.33, 1e-05, 1e-05, 1e+05, 684, 0.365, 0.278, 0.0154, 79.6, 1.49, 1e-05, 1e-05, 1e+05, 3.88e+04, 0.139, 553, 1e+05, 0.0236, 1e-05, 1e-05, 1e-05, 1e+05, 19.6, 40.1, 0.189, 14.9, 6.5e+03])"
      ]
     },
     "execution_count": 27,
     "metadata": {},
     "output_type": "execute_result"
    }
   ],
   "source": [
    "gaussian_process.kernel_"
   ]
  },
  {
   "cell_type": "markdown",
   "id": "8ee0890d",
   "metadata": {},
   "source": [
    "### CASTNet"
   ]
  },
  {
   "cell_type": "markdown",
   "id": "d48e6126",
   "metadata": {},
   "source": []
  },
  {
   "cell_type": "code",
   "execution_count": 71,
   "id": "15b0e2cd",
   "metadata": {},
   "outputs": [],
   "source": [
    "cn_result_path = '/cluster/home/kheuto01/code/opioid-overdose-models/CASTNet/hughes-CASTNet/Results/MA-predictions.csv'\n",
    "cn_location_path = '/cluster/home/kheuto01/code/opioid-overdose-models/CASTNet/hughes-CASTNet/Data/MA/locations.txt'\n",
    "\n",
    "CN_results = pd.read_csv(cn_result_path)\n",
    "CN_results['geoid'] = CN_results['geoid'].astype(str)\n",
    "\n",
    "CN_locations = []\n",
    "with open(cn_location_path, 'rb') as file:\n",
    "    for line in file:\n",
    "        line = line.rstrip().decode(\"utf-8\").split(\"\\t\")\n",
    "        CN_locations.append(line[1])"
   ]
  },
  {
   "cell_type": "code",
   "execution_count": 53,
   "id": "a57ea9ec",
   "metadata": {},
   "outputs": [
    {
     "data": {
      "text/html": [
       "<div>\n",
       "<style scoped>\n",
       "    .dataframe tbody tr th:only-of-type {\n",
       "        vertical-align: middle;\n",
       "    }\n",
       "\n",
       "    .dataframe tbody tr th {\n",
       "        vertical-align: top;\n",
       "    }\n",
       "\n",
       "    .dataframe thead th {\n",
       "        text-align: right;\n",
       "    }\n",
       "</style>\n",
       "<table border=\"1\" class=\"dataframe\">\n",
       "  <thead>\n",
       "    <tr style=\"text-align: right;\">\n",
       "      <th></th>\n",
       "      <th>geoid</th>\n",
       "      <th>prediction</th>\n",
       "      <th>year</th>\n",
       "    </tr>\n",
       "  </thead>\n",
       "  <tbody>\n",
       "    <tr>\n",
       "      <th>0</th>\n",
       "      <td>25001010100</td>\n",
       "      <td>0.700970</td>\n",
       "      <td>2020</td>\n",
       "    </tr>\n",
       "    <tr>\n",
       "      <th>1</th>\n",
       "      <td>25001010206</td>\n",
       "      <td>1.111377</td>\n",
       "      <td>2020</td>\n",
       "    </tr>\n",
       "    <tr>\n",
       "      <th>2</th>\n",
       "      <td>25001010208</td>\n",
       "      <td>0.395809</td>\n",
       "      <td>2020</td>\n",
       "    </tr>\n",
       "    <tr>\n",
       "      <th>3</th>\n",
       "      <td>25001010304</td>\n",
       "      <td>0.592120</td>\n",
       "      <td>2020</td>\n",
       "    </tr>\n",
       "    <tr>\n",
       "      <th>4</th>\n",
       "      <td>25001010306</td>\n",
       "      <td>0.000000</td>\n",
       "      <td>2020</td>\n",
       "    </tr>\n",
       "    <tr>\n",
       "      <th>...</th>\n",
       "      <td>...</td>\n",
       "      <td>...</td>\n",
       "      <td>...</td>\n",
       "    </tr>\n",
       "    <tr>\n",
       "      <th>3235</th>\n",
       "      <td>25027761100</td>\n",
       "      <td>0.202868</td>\n",
       "      <td>2021</td>\n",
       "    </tr>\n",
       "    <tr>\n",
       "      <th>3236</th>\n",
       "      <td>25027761200</td>\n",
       "      <td>1.173514</td>\n",
       "      <td>2021</td>\n",
       "    </tr>\n",
       "    <tr>\n",
       "      <th>3237</th>\n",
       "      <td>25027761300</td>\n",
       "      <td>1.134573</td>\n",
       "      <td>2021</td>\n",
       "    </tr>\n",
       "    <tr>\n",
       "      <th>3238</th>\n",
       "      <td>25027761401</td>\n",
       "      <td>0.220063</td>\n",
       "      <td>2021</td>\n",
       "    </tr>\n",
       "    <tr>\n",
       "      <th>3239</th>\n",
       "      <td>25027761402</td>\n",
       "      <td>0.313825</td>\n",
       "      <td>2021</td>\n",
       "    </tr>\n",
       "  </tbody>\n",
       "</table>\n",
       "<p>3240 rows × 3 columns</p>\n",
       "</div>"
      ],
      "text/plain": [
       "            geoid  prediction  year\n",
       "0     25001010100    0.700970  2020\n",
       "1     25001010206    1.111377  2020\n",
       "2     25001010208    0.395809  2020\n",
       "3     25001010304    0.592120  2020\n",
       "4     25001010306    0.000000  2020\n",
       "...           ...         ...   ...\n",
       "3235  25027761100    0.202868  2021\n",
       "3236  25027761200    1.173514  2021\n",
       "3237  25027761300    1.134573  2021\n",
       "3238  25027761401    0.220063  2021\n",
       "3239  25027761402    0.313825  2021\n",
       "\n",
       "[3240 rows x 3 columns]"
      ]
     },
     "execution_count": 53,
     "metadata": {},
     "output_type": "execute_result"
    }
   ],
   "source": [
    "CN_results"
   ]
  },
  {
   "cell_type": "code",
   "execution_count": 16,
   "id": "2d9a9fd3",
   "metadata": {},
   "outputs": [],
   "source": [
    "seed=360\n",
    "removed_locations=250\n",
    "first_pred_time = first_test_timestep\n",
    "last_pred_time = last_test_timestep\n",
    "location_col='geoid'\n",
    "dataset_name=False\n",
    "bpr_uncertainty_samples=50\n",
    "\n",
    "CN_results = pd.read_csv(cn_result_path)\n",
    "CN_results['geoid'] = CN_results['geoid'].astype(str)\n",
    "\n",
    "CN_locations = []\n",
    "with open(cn_location_path, 'rb') as file:\n",
    "    for line in file:\n",
    "        line = line.rstrip().decode(\"utf-8\").split(\"\\t\")\n",
    "        CN_locations.append(line[1])\n",
    "\n",
    "# sample and calculate BPR\n",
    "rng = np.random.default_rng(seed=seed)\n",
    "num_locations = len(CN_locations)\n",
    "num_sampled = num_locations - removed_locations\n",
    "results_over_time = []\n",
    "\n",
    "for timestep in range(first_pred_time, last_pred_time + 1):\n",
    "    # extract evaluation deaths \n",
    "    evaluation_deaths = multiindexed_gdf.loc[idx[:, timestep], :]\n",
    "    evaluation_deaths = evaluation_deaths.drop(columns=timestep_col).reset_index().set_index(location_col)[outcome_col]\n",
    "\n",
    "    current_year = 2014 + timestep if dataset_name=='cook-county' else 2000 + timestep \n",
    "    predicted_deaths_df = CN_results[(CN_results['year'] == current_year)].set_index('geoid')\n",
    "    #predicted_deaths = predicted_deaths_df['prediction'].values\n",
    "\n",
    "    results_over_samples = []\n",
    "    for _ in range(bpr_uncertainty_samples):\n",
    "        sampled_indices = rng.choice(range(num_locations), size=num_sampled, replace=False)\n",
    "        evaluation_deaths_series = evaluation_deaths.iloc[sampled_indices]\n",
    "        predicted_deaths_sampled = predicted_deaths_df.iloc[sampled_indices]['prediction']\n",
    "        results_over_samples.append(fast_bpr(evaluation_deaths_series, predicted_deaths_sampled))\n",
    "\n",
    "    results_over_time.append(results_over_samples)"
   ]
  },
  {
   "cell_type": "code",
   "execution_count": 51,
   "id": "563267a0",
   "metadata": {},
   "outputs": [
    {
     "data": {
      "text/plain": [
       "geoid\n",
       "25021420201    2.311409\n",
       "25021980000    1.346856\n",
       "25017350600    0.196418\n",
       "25021408104    3.325365\n",
       "25017310300    1.173893\n",
       "                 ...   \n",
       "25027730401    0.295701\n",
       "25023561100    1.130404\n",
       "25013800800    1.230816\n",
       "25013800900    1.195563\n",
       "25021420301    2.280682\n",
       "Name: prediction, Length: 1370, dtype: float64"
      ]
     },
     "execution_count": 51,
     "metadata": {},
     "output_type": "execute_result"
    }
   ],
   "source": [
    "predicted_deaths_sampled"
   ]
  },
  {
   "cell_type": "code",
   "execution_count": 72,
   "id": "f236b586",
   "metadata": {},
   "outputs": [],
   "source": [
    "# Call the castnet_model function to calculate BPR for CASTNet predictions\n",
    "bpr_results_castnet, predicted_results_castnet = models.castnet_model(multiindexed_gdf, False,\n",
    "                                                                      cn_result_path,cn_location_path,\n",
    "                                                                      first_test_timestep, last_test_timestep, \n",
    "                                            removed_locations=250, bpr_uncertainty_samples=50)\n"
   ]
  },
  {
   "cell_type": "code",
   "execution_count": 76,
   "id": "bf84f5aa",
   "metadata": {},
   "outputs": [
    {
     "name": "stdout",
     "output_type": "stream",
     "text": [
      "2019 Average: 0.5470706904043792\n",
      "CASTNet model (Mean, 95% CI): 54.4,\n",
      "      (52.0-\n",
      "       56.6)\n"
     ]
    }
   ],
   "source": [
    "print(f\"2019 Average: {np.mean(bpr_results_castnet[1])}\")\n",
    "\n",
    "bpr_samples_both_years = (np.array(bpr_results_castnet[0]) + \\\n",
    "                          np.array(bpr_results_castnet[1]))/2\n",
    "                        \n",
    "print(f\"\"\"CASTNet model (Mean, 95% CI): {np.mean(bpr_samples_both_years)*100:.1f},\n",
    "      ({np.percentile(bpr_samples_both_years,2.5)*100:.1f}-\n",
    "       {np.percentile(bpr_samples_both_years,97.5)*100:.1f})\"\"\")"
   ]
  },
  {
   "cell_type": "code",
   "execution_count": 74,
   "id": "f6248937",
   "metadata": {},
   "outputs": [],
   "source": [
    "castnet_rmse_results, castnet_mae_results  = evaluation.calculate_metrics(evaluation_deaths, predicted_results_castnet)"
   ]
  },
  {
   "cell_type": "code",
   "execution_count": 70,
   "id": "4c9db397",
   "metadata": {},
   "outputs": [
    {
     "name": "stdout",
     "output_type": "stream",
     "text": [
      "RMSE for CASTNet (Mean, 95% CI): 1.47, (1.36-1.58)\n",
      "MAE for CASTNet (Mean, 95% CI): 1.07, (0.99-1.16)\n"
     ]
    }
   ],
   "source": [
    "castnet_rmse_mean, castnet_rmse_conf_interval = castnet_rmse_results\n",
    "castnet_mae_mean, castnet_mae_conf_interval = castnet_mae_results\n",
    "\n",
    "evaluation.print_results(\"RMSE for CASTNet\", castnet_rmse_mean, castnet_rmse_conf_interval)\n",
    "evaluation.print_results(\"MAE for CASTNet\", castnet_mae_mean, castnet_mae_conf_interval)\n"
   ]
  },
  {
   "cell_type": "code",
   "execution_count": 59,
   "id": "25de8c14",
   "metadata": {},
   "outputs": [
    {
     "data": {
      "text/plain": [
       "(2, 50)"
      ]
     },
     "execution_count": 59,
     "metadata": {},
     "output_type": "execute_result"
    }
   ],
   "source": [
    "predicted_results_castnet.shape"
   ]
  },
  {
   "cell_type": "code",
   "execution_count": 17,
   "id": "76d69a8d",
   "metadata": {},
   "outputs": [
    {
     "data": {
      "text/plain": [
       "geoid\n",
       "25001010100    1.0\n",
       "25001010206    0.0\n",
       "25001010208    0.0\n",
       "25001010304    0.0\n",
       "25001010306    2.0\n",
       "              ... \n",
       "25027761100    1.0\n",
       "25027761200    0.0\n",
       "25027761300    0.0\n",
       "25027761401    1.0\n",
       "25027761402    1.0\n",
       "Name: deaths, Length: 1620, dtype: float64"
      ]
     },
     "execution_count": 17,
     "metadata": {},
     "output_type": "execute_result"
    }
   ],
   "source": [
    "evaluation_deaths"
   ]
  },
  {
   "cell_type": "code",
   "execution_count": 20,
   "id": "aa5a4890",
   "metadata": {},
   "outputs": [
    {
     "data": {
      "text/plain": [
       "geoid\n",
       "25021420201    1.0\n",
       "25021980000    0.0\n",
       "25017350600    1.0\n",
       "25021408104    0.0\n",
       "25017310300    3.0\n",
       "              ... \n",
       "25027730401    4.0\n",
       "25023561100    1.0\n",
       "25013800800    3.0\n",
       "25013800900    3.0\n",
       "25021420301    2.0\n",
       "Name: deaths, Length: 1370, dtype: float64"
      ]
     },
     "execution_count": 20,
     "metadata": {},
     "output_type": "execute_result"
    }
   ],
   "source": [
    "evaluation_deaths_series"
   ]
  },
  {
   "cell_type": "code",
   "execution_count": 21,
   "id": "ac578f61",
   "metadata": {},
   "outputs": [
    {
     "data": {
      "text/plain": [
       "geoid\n",
       "25021420201    2.311409\n",
       "25021980000    1.346856\n",
       "25017350600    0.196418\n",
       "25021408104    3.325365\n",
       "25017310300    1.173893\n",
       "                 ...   \n",
       "25027730401    0.295701\n",
       "25023561100    1.130404\n",
       "25013800800    1.230816\n",
       "25013800900    1.195563\n",
       "25021420301    2.280682\n",
       "Name: prediction, Length: 1370, dtype: float64"
      ]
     },
     "execution_count": 21,
     "metadata": {},
     "output_type": "execute_result"
    }
   ],
   "source": [
    "predicted_deaths_sampled"
   ]
  },
  {
   "cell_type": "code",
   "execution_count": 27,
   "id": "b4ec1c86",
   "metadata": {},
   "outputs": [
    {
     "data": {
      "text/plain": [
       "'metrics'"
      ]
     },
     "execution_count": 27,
     "metadata": {},
     "output_type": "execute_result"
    }
   ],
   "source": [
    "fast_bpr.__module__"
   ]
  },
  {
   "cell_type": "code",
   "execution_count": 38,
   "id": "5c17ed8b",
   "metadata": {},
   "outputs": [
    {
     "ename": "TypeError",
     "evalue": "sort_values() missing 1 required positional argument: 'by'",
     "output_type": "error",
     "traceback": [
      "\u001b[0;31m---------------------------------------------------------------------------\u001b[0m",
      "\u001b[0;31mTypeError\u001b[0m                                 Traceback (most recent call last)",
      "Cell \u001b[0;32mIn[38], line 1\u001b[0m\n\u001b[0;32m----> 1\u001b[0m \u001b[43mfast_bpr\u001b[49m\u001b[43m(\u001b[49m\u001b[43mbpr_results_castnet\u001b[49m\u001b[43m,\u001b[49m\u001b[43m \u001b[49m\u001b[43mpredicted_results_castnet\u001b[49m\u001b[43m)\u001b[49m\n",
      "File \u001b[0;32m~/code/opioid-overdose-models/experiment-runner/metrics.py:12\u001b[0m, in \u001b[0;36mfast_bpr\u001b[0;34m(true_val, pred_val, K, bootstrap_samples)\u001b[0m\n\u001b[1;32m      3\u001b[0m \u001b[38;5;28;01mdef\u001b[39;00m \u001b[38;5;21mfast_bpr\u001b[39m(true_val, pred_val, K\u001b[38;5;241m=\u001b[39m\u001b[38;5;241m100\u001b[39m, bootstrap_samples\u001b[38;5;241m=\u001b[39m\u001b[38;5;241m1000\u001b[39m):\n\u001b[1;32m      4\u001b[0m \u001b[38;5;250m    \u001b[39m\u001b[38;5;124;03m\"\"\"\u001b[39;00m\n\u001b[1;32m      5\u001b[0m \n\u001b[1;32m      6\u001b[0m \u001b[38;5;124;03m    :param true_val: Pandas dataframe indexed on location\u001b[39;00m\n\u001b[0;32m   (...)\u001b[0m\n\u001b[1;32m     10\u001b[0m \u001b[38;5;124;03m    :return:\u001b[39;00m\n\u001b[1;32m     11\u001b[0m \u001b[38;5;124;03m    \"\"\"\u001b[39;00m\n\u001b[0;32m---> 12\u001b[0m     top_K_predicted \u001b[38;5;241m=\u001b[39m \u001b[43mpred_val\u001b[49m\u001b[38;5;241;43m.\u001b[39;49m\u001b[43msort_values\u001b[49m\u001b[43m(\u001b[49m\u001b[43mascending\u001b[49m\u001b[38;5;241;43m=\u001b[39;49m\u001b[38;5;28;43;01mFalse\u001b[39;49;00m\u001b[43m)\u001b[49m\u001b[38;5;241m.\u001b[39miloc[:K]\n\u001b[1;32m     13\u001b[0m     top_K_true \u001b[38;5;241m=\u001b[39m true_val\u001b[38;5;241m.\u001b[39msort_values(ascending\u001b[38;5;241m=\u001b[39m\u001b[38;5;28;01mFalse\u001b[39;00m)\u001b[38;5;241m.\u001b[39miloc[:K]\n\u001b[1;32m     15\u001b[0m     \u001b[38;5;66;03m# Now we check for ties\u001b[39;00m\n",
      "\u001b[0;31mTypeError\u001b[0m: sort_values() missing 1 required positional argument: 'by'"
     ]
    }
   ],
   "source": [
    "fast_bpr(bpr_results_castnet, predicted_results_castnet)"
   ]
  },
  {
   "cell_type": "code",
   "execution_count": 44,
   "id": "c7477ffc",
   "metadata": {},
   "outputs": [
    {
     "data": {
      "text/plain": [
       "array([], dtype=int64)"
      ]
     },
     "execution_count": 44,
     "metadata": {},
     "output_type": "execute_result"
    }
   ],
   "source": [
    "sampled_indices"
   ]
  },
  {
   "cell_type": "code",
   "execution_count": 48,
   "id": "062c1992",
   "metadata": {},
   "outputs": [
    {
     "data": {
      "text/plain": [
       "0"
      ]
     },
     "execution_count": 48,
     "metadata": {},
     "output_type": "execute_result"
    }
   ],
   "source": [
    "num_sampled"
   ]
  },
  {
   "cell_type": "code",
   "execution_count": 63,
   "id": "c391dd21",
   "metadata": {},
   "outputs": [
    {
     "ename": "NameError",
     "evalue": "name 'predicted_deaths' is not defined",
     "output_type": "error",
     "traceback": [
      "\u001b[0;31m---------------------------------------------------------------------------\u001b[0m",
      "\u001b[0;31mNameError\u001b[0m                                 Traceback (most recent call last)",
      "Cell \u001b[0;32mIn[63], line 1\u001b[0m\n\u001b[0;32m----> 1\u001b[0m \u001b[43mpredicted_deaths\u001b[49m[\u001b[38;5;241m1\u001b[39m]\n",
      "\u001b[0;31mNameError\u001b[0m: name 'predicted_deaths' is not defined"
     ]
    }
   ],
   "source": [
    "predicted_deaths[1]"
   ]
  },
  {
   "cell_type": "code",
   "execution_count": 65,
   "id": "b6495744",
   "metadata": {},
   "outputs": [
    {
     "data": {
      "text/plain": [
       "2"
      ]
     },
     "execution_count": 65,
     "metadata": {},
     "output_type": "execute_result"
    }
   ],
   "source": [
    "len(predicted_results_castnet)"
   ]
  },
  {
   "cell_type": "code",
   "execution_count": null,
   "id": "692ae4ea",
   "metadata": {},
   "outputs": [],
   "source": []
  }
 ],
 "metadata": {
  "kernelspec": {
   "display_name": "Python 3 (ipykernel)",
   "language": "python",
   "name": "python3"
  },
  "language_info": {
   "codemirror_mode": {
    "name": "ipython",
    "version": 3
   },
   "file_extension": ".py",
   "mimetype": "text/x-python",
   "name": "python",
   "nbconvert_exporter": "python",
   "pygments_lexer": "ipython3",
   "version": "3.8.17"
  }
 },
 "nbformat": 4,
 "nbformat_minor": 5
}
