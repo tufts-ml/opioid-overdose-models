{
 "cells": [
  {
   "cell_type": "code",
   "execution_count": 1,
   "id": "48636b2a",
   "metadata": {
    "scrolled": false
   },
   "outputs": [
    {
     "name": "stderr",
     "output_type": "stream",
     "text": [
      "2023-08-11 13:30:14.660600: I tensorflow/core/platform/cpu_feature_guard.cc:182] This TensorFlow binary is optimized to use available CPU instructions in performance-critical operations.\n",
      "To enable the following instructions: AVX2 AVX512F AVX512_VNNI FMA, in other operations, rebuild TensorFlow with the appropriate compiler flags.\n"
     ]
    }
   ],
   "source": [
    "%load_ext autoreload\n",
    "%autoreload 2\n",
    "import geopandas as gpd\n",
    "import numpy as np\n",
    "import pandas as pd\n",
    "import os\n",
    "\n",
    "import sklearn\n",
    "from sklearn.linear_model import LinearRegression\n",
    "from sklearn.ensemble import HistGradientBoostingRegressor\n",
    "\n",
    "# local import\n",
    "from make_datasets import make_data\n",
    "import models"
   ]
  },
  {
   "cell_type": "code",
   "execution_count": 2,
   "id": "b3d22c46",
   "metadata": {},
   "outputs": [],
   "source": [
    "data_dir = '/Users/jyontika/Desktop/jyontika-MA-data/data'\n",
    "data_path= os.path.join(data_dir, './clean_annual_tract/')\n",
    "data_gdf = gpd.read_file(data_path)"
   ]
  },
  {
   "cell_type": "markdown",
   "id": "349503d7",
   "metadata": {},
   "source": [
    "Process dataframe into a data frame with a Multiindex on location and time"
   ]
  },
  {
   "cell_type": "code",
   "execution_count": 3,
   "id": "686f6cd9",
   "metadata": {},
   "outputs": [],
   "source": [
    "\n",
    "# Name the important columns\n",
    "timestep_col = 'timestep'\n",
    "geography_col = 'geoid'\n",
    "outcome_col = 'deaths'\n",
    "\n",
    "# These are the columns we could possibly want in the X dataframe\n",
    "x_idx_cols = [geography_col, 'lat', 'lon', timestep_col,\n",
    "              'theme_1_pc', 'theme_2_pc', 'theme_3_pc', 'theme_4_pc',\n",
    "              'svi_pctile', 'year',\n",
    "              'neighbor_t', 'deaths']\n",
    "\n",
    "# These are the columns we could want in the Y dataframe\n",
    "y_idx_cols = [geography_col, timestep_col, outcome_col]\n",
    "\n",
    "# These are the features we want\n",
    "features_only = ['deaths']\n",
    "add_spacetime = True\n",
    "add_svi = True\n",
    "if add_spacetime:\n",
    "    features_only += ['lat', 'lon', timestep_col]\n",
    "if add_svi:\n",
    "    features_only += ['theme_1_pc', 'theme_2_pc', 'theme_3_pc', 'theme_4_pc', 'svi_pctile']\n",
    "\n",
    "\n",
    "validation_year = 2018\n",
    "first_test_year = 2019\n",
    "last_test_year = 2020\n",
    "first_test_timestep = 19\n",
    "last_test_timestep = 20\n",
    "lookback_years= 5\n",
    "first_train_eval_year = validation_year - lookback_years\n",
    "last_train_eval_year = validation_year -1"
   ]
  },
  {
   "cell_type": "code",
   "execution_count": 4,
   "id": "3751205c",
   "metadata": {},
   "outputs": [],
   "source": [
    "# Create the multiindex\n",
    "multiindexed_gdf = data_gdf.set_index([geography_col, timestep_col])\n",
    "\n",
    "# re-add the timestep column as a feature because it's useful\n",
    "multiindexed_gdf[timestep_col] = multiindexed_gdf.index.get_level_values(timestep_col)\n",
    "\n",
    "# Track number of locations\n",
    "num_geoids = len(data_gdf[geography_col].unique())"
   ]
  },
  {
   "cell_type": "code",
   "execution_count": 5,
   "id": "22960e28",
   "metadata": {},
   "outputs": [],
   "source": [
    "x_BSF, y_BS = make_data(multiindexed_gdf, first_train_eval_year, last_train_eval_year, lookback_years,\n",
    "          features_only, num_geoids)\n",
    "x_test_BSF, y_test_BS =make_data(multiindexed_gdf, first_test_year, last_test_year, lookback_years,\n",
    "          features_only, num_geoids)\n",
    "\n",
    "# For the weighted historical average model, we only use deaths as features\n",
    "x_BSF_death_only, y_BS_death_only = make_data(multiindexed_gdf, first_train_eval_year, last_train_eval_year, lookback_years,\n",
    "          ['deaths'], num_geoids)\n",
    "x_test_BSF_death_only, y_test_BS_death_only =make_data(multiindexed_gdf, first_test_year, last_test_year, lookback_years,\n",
    "          ['deaths'], num_geoids)"
   ]
  },
  {
   "cell_type": "code",
   "execution_count": 19,
   "id": "2df22fc1",
   "metadata": {},
   "outputs": [
    {
     "data": {
      "text/plain": [
       "<tf.Tensor: shape=(1620, 45), dtype=float32, numpy=\n",
       "array([[  1.      ,  42.05983 , -70.20041 , ...,   0.4262  ,   0.8232  ,\n",
       "          0.6548  ],\n",
       "       [  1.      ,  41.922634, -70.015366, ...,   0.0724  ,   0.5127  ,\n",
       "          0.5216  ],\n",
       "       [  0.      ,  42.013557, -70.06415 , ...,   0.1899  ,   0.207   ,\n",
       "          0.2636  ],\n",
       "       ...,\n",
       "       [  0.      ,  42.239685, -71.701744, ...,   0.6209  ,   0.3016  ,\n",
       "          0.2272  ],\n",
       "       [  0.      ,  42.489754, -71.57967 , ...,   0.3928  ,   0.157   ,\n",
       "          0.1229  ],\n",
       "       [  0.      ,  42.53134 , -71.59275 , ...,   0.3928  ,   0.157   ,\n",
       "          0.1229  ]], dtype=float32)>"
      ]
     },
     "execution_count": 19,
     "metadata": {},
     "output_type": "execute_result"
    }
   ],
   "source": [
    "x_test_BSF[0]"
   ]
  },
  {
   "cell_type": "code",
   "execution_count": 6,
   "id": "b668f78a",
   "metadata": {},
   "outputs": [
    {
     "data": {
      "text/plain": [
       "TensorShape([5, 1620, 45])"
      ]
     },
     "execution_count": 6,
     "metadata": {},
     "output_type": "execute_result"
    }
   ],
   "source": [
    "x_BSF.shape"
   ]
  },
  {
   "cell_type": "code",
   "execution_count": 7,
   "id": "66fda90d",
   "metadata": {},
   "outputs": [
    {
     "data": {
      "text/plain": [
       "TensorShape([5, 1620])"
      ]
     },
     "execution_count": 7,
     "metadata": {},
     "output_type": "execute_result"
    }
   ],
   "source": [
    "y_BS.shape"
   ]
  },
  {
   "cell_type": "code",
   "execution_count": 8,
   "id": "b3021560",
   "metadata": {},
   "outputs": [],
   "source": [
    "#for rmse and mae\n",
    "# # Assuming multiindexed_gdf contains the actual target predictions with 'year' and 'deaths' columns\n",
    "actual_values_2019 = multiindexed_gdf[multiindexed_gdf['year'] == 2019]['deaths'].values\n",
    "actual_values_2020 = multiindexed_gdf[multiindexed_gdf['year'] == 2020]['deaths'].values"
   ]
  },
  {
   "cell_type": "markdown",
   "id": "d54ef088",
   "metadata": {},
   "source": [
    "### All Zeroes Model\n",
    "#### lookback years =2"
   ]
  },
  {
   "cell_type": "code",
   "execution_count": 9,
   "id": "046c1f3b",
   "metadata": {},
   "outputs": [],
   "source": [
    "bpr_over_time_zeroes, predicted_over_time_zeroes = models.all_zeroes_model(multiindexed_gdf,\n",
    "                                        first_test_timestep, last_test_timestep,\n",
    "                                        num_geoids, bpr_uncertainty_samples=15)"
   ]
  },
  {
   "cell_type": "code",
   "execution_count": 10,
   "id": "eba6f304",
   "metadata": {},
   "outputs": [
    {
     "name": "stdout",
     "output_type": "stream",
     "text": [
      "2019 Average: 0.2588822943583979\n",
      "Zeroes model (Mean, 95% CI): 25.4,\n",
      "      (25.2-\n",
      "       25.8)\n"
     ]
    }
   ],
   "source": [
    "print(f\"2019 Average: {np.mean(bpr_over_time_zeroes[0])}\")\n",
    "\n",
    "bpr_samples_both_years = (np.array(bpr_over_time_zeroes[0]) + \\\n",
    "                          np.array(bpr_over_time_zeroes[1]))/2\n",
    "                        \n",
    "print(f\"\"\"Zeroes model (Mean, 95% CI): {np.mean(bpr_samples_both_years)*100:.1f},\n",
    "      ({np.percentile(bpr_samples_both_years,2.5)*100:.1f}-\n",
    "       {np.percentile(bpr_samples_both_years,97.5)*100:.1f})\"\"\")\n"
   ]
  },
  {
   "cell_type": "code",
   "execution_count": 11,
   "id": "617784e2",
   "metadata": {},
   "outputs": [
    {
     "name": "stdout",
     "output_type": "stream",
     "text": [
      "Zeroes model RMSE for 2019: 1.75\n",
      "Zeroes model RMSE for 2020: 1.86\n",
      "Joint RMSE for 2019 and 2020: 1.81\n",
      " \n",
      "Zeroes model MAE for 2019: 1.15\n",
      "Zeroes model MAE for 2020: 1.21\n",
      "Joint MAE for 2019 and 2020: 1.18\n"
     ]
    }
   ],
   "source": [
    "# Calculate the model predictions for the years 2019 and 2020\n",
    "predicted_samples_2019 = predicted_over_time_zeroes[0]\n",
    "predicted_samples_2020 = predicted_over_time_zeroes[1]\n",
    "\n",
    "# Calculate RMSE for the Zeroes model for the year 2019 and 2020\n",
    "rmse_2019 = np.sqrt(np.mean((predicted_samples_2019 - actual_values_2019)**2))\n",
    "rmse_2020 = np.sqrt(np.mean((predicted_samples_2020 - actual_values_2020)**2))\n",
    "\n",
    "joint_rmse = np.mean([rmse_2019, rmse_2020])\n",
    "\n",
    "print(f\"Zeroes model RMSE for 2019: {rmse_2019:.2f}\")\n",
    "print(f\"Zeroes model RMSE for 2020: {rmse_2020:.2f}\")\n",
    "print(f\"Joint RMSE for 2019 and 2020: {joint_rmse:.2f}\")\n",
    "print(\" \")\n",
    "\n",
    "mae_2019_samples = np.mean(np.abs(predicted_samples_2019 - actual_values_2019))\n",
    "mae_2020_samples = np.mean(np.abs(predicted_samples_2020 - actual_values_2020))\n",
    "\n",
    "# Take the average MAE for each year\n",
    "mae_2019 = np.mean(mae_2019_samples)\n",
    "mae_2020 = np.mean(mae_2020_samples)\n",
    "\n",
    "# Calculate the joint MAE (mean of individual MAE values from both years)\n",
    "joint_mae = np.mean([mae_2019, mae_2020])\n",
    "\n",
    "print(f\"Zeroes model MAE for 2019: {mae_2019:.2f}\")\n",
    "print(f\"Zeroes model MAE for 2020: {mae_2020:.2f}\")\n",
    "print(f\"Joint MAE for 2019 and 2020: {joint_mae:.2f}\")"
   ]
  },
  {
   "cell_type": "markdown",
   "id": "7d0db4b7",
   "metadata": {},
   "source": [
    "### Last Year\n",
    "#### lookback = 1 year"
   ]
  },
  {
   "cell_type": "code",
   "execution_count": 12,
   "id": "696ed27c",
   "metadata": {},
   "outputs": [],
   "source": [
    "bpr_over_time_last_time, predicted_over_time_last_time = models.last_time_model(multiindexed_gdf, first_test_timestep, last_test_timestep, num_geoids,\n",
    "                     1,bpr_uncertainty_samples=50,)"
   ]
  },
  {
   "cell_type": "code",
   "execution_count": 13,
   "id": "0a32e2de",
   "metadata": {},
   "outputs": [
    {
     "name": "stdout",
     "output_type": "stream",
     "text": [
      "2019 Average: 0.5583207453088354\n",
      "Zeroes model (Mean, 95% CI): 53.9,\n",
      "      (52.3-\n",
      "       55.4)\n"
     ]
    }
   ],
   "source": [
    "print(f\"2019 Average: {np.mean(bpr_over_time_last_time[0])}\")\n",
    "\n",
    "bpr_samples_both_years = (np.array(bpr_over_time_last_time[0]) + \\\n",
    "                          np.array(bpr_over_time_last_time[1]))/2\n",
    "                        \n",
    "print(f\"\"\"Zeroes model (Mean, 95% CI): {np.mean(bpr_samples_both_years)*100:.1f},\n",
    "      ({np.percentile(bpr_samples_both_years,2.5)*100:.1f}-\n",
    "       {np.percentile(bpr_samples_both_years,97.5)*100:.1f})\"\"\")\n"
   ]
  },
  {
   "cell_type": "code",
   "execution_count": 14,
   "id": "2acb4a75",
   "metadata": {},
   "outputs": [
    {
     "name": "stdout",
     "output_type": "stream",
     "text": [
      "Last Year model RMSE for 2019: 1.50\n",
      "Last Year model RMSE for 2020: 1.53\n",
      "Joint RMSE for 2019 and 2020: 1.51\n",
      " \n",
      "Last Year model MAE for 2019: 1.03\n",
      "Last Year model MAE for 2020: 1.06\n",
      "Joint MAE for 2019 and 2020: 1.04\n"
     ]
    }
   ],
   "source": [
    "# Calculate the model predictions for the years 2019 and 2020\n",
    "predicted_samples_2019 = predicted_over_time_last_time[0]\n",
    "predicted_samples_2020 = predicted_over_time_last_time[1]\n",
    "\n",
    "# Calculate RMSE for the Zeroes model for the year 2019 and 2020\n",
    "rmse_2019 = np.sqrt(np.mean((predicted_samples_2019 - actual_values_2019)**2))\n",
    "rmse_2020 = np.sqrt(np.mean((predicted_samples_2020 - actual_values_2020)**2))\n",
    "\n",
    "joint_rmse = np.mean([rmse_2019, rmse_2020])\n",
    "\n",
    "print(f\"Last Year model RMSE for 2019: {rmse_2019:.2f}\")\n",
    "print(f\"Last Year model RMSE for 2020: {rmse_2020:.2f}\")\n",
    "print(f\"Joint RMSE for 2019 and 2020: {joint_rmse:.2f}\")\n",
    "print(\" \")\n",
    "\n",
    "mae_2019_samples = np.mean(np.abs(predicted_samples_2019 - actual_values_2019))\n",
    "mae_2020_samples = np.mean(np.abs(predicted_samples_2020 - actual_values_2020))\n",
    "\n",
    "# Take the average MAE for each year\n",
    "mae_2019 = np.mean(mae_2019_samples)\n",
    "mae_2020 = np.mean(mae_2020_samples)\n",
    "\n",
    "# Calculate the joint MAE (mean of individual MAE values from both years)\n",
    "joint_mae = np.mean([mae_2019, mae_2020])\n",
    "\n",
    "print(f\"Last Year model MAE for 2019: {mae_2019:.2f}\")\n",
    "print(f\"Last Year model MAE for 2020: {mae_2020:.2f}\")\n",
    "print(f\"Joint MAE for 2019 and 2020: {joint_mae:.2f}\")"
   ]
  },
  {
   "cell_type": "markdown",
   "id": "03f08d07",
   "metadata": {},
   "source": [
    "### Historical Average \n",
    "#### lookback = 1 years"
   ]
  },
  {
   "cell_type": "code",
   "execution_count": 15,
   "id": "86155c9a",
   "metadata": {},
   "outputs": [],
   "source": [
    "bpr_over_time_avg_time, predicted_over_time_avg_time = models.historical_average_model(multiindexed_gdf, first_test_timestep, last_test_timestep, num_geoids,\n",
    "                     1, 7, bpr_uncertainty_samples=10,)"
   ]
  },
  {
   "cell_type": "code",
   "execution_count": 16,
   "id": "e7455212",
   "metadata": {},
   "outputs": [
    {
     "name": "stdout",
     "output_type": "stream",
     "text": [
      "2019 Average: 0.6310450685551532\n",
      "Hist. Avg  model (Mean, 95% CI): 61.0,\n",
      "      (59.9-\n",
      "       62.6)\n"
     ]
    }
   ],
   "source": [
    "print(f\"2019 Average: {np.mean(bpr_over_time_avg_time[0])}\")\n",
    "\n",
    "bpr_samples_both_years = (np.array(bpr_over_time_avg_time[0]) + \\\n",
    "                          np.array(bpr_over_time_avg_time[1]))/2\n",
    "                        \n",
    "print(f\"\"\"Hist. Avg  model (Mean, 95% CI): {np.mean(bpr_samples_both_years)*100:.1f},\n",
    "      ({np.percentile(bpr_samples_both_years,2.5)*100:.1f}-\n",
    "       {np.percentile(bpr_samples_both_years,97.5)*100:.1f})\"\"\")\n"
   ]
  },
  {
   "cell_type": "code",
   "execution_count": 17,
   "id": "7941c4dc",
   "metadata": {},
   "outputs": [
    {
     "name": "stdout",
     "output_type": "stream",
     "text": [
      "Hist. Avg model RMSE for 2019: 1.17\n",
      "Hist. Avg model RMSE for 2020: 1.24\n",
      "Joint RMSE for 2019 and 2020: 1.21\n",
      " \n",
      "Hist. Avg model MAE for 2019: 0.85\n",
      "Hist. Avg model MAE for 2020: 0.89\n",
      "Joint MAE for 2019 and 2020: 0.87\n"
     ]
    }
   ],
   "source": [
    "# Calculate the model predictions for the years 2019 and 2020\n",
    "predicted_samples_2019 = predicted_over_time_avg_time[0]\n",
    "predicted_samples_2020 = predicted_over_time_avg_time[1]\n",
    "\n",
    "# Calculate RMSE for the Zeroes model for the year 2019 and 2020\n",
    "rmse_2019 = np.sqrt(np.mean((predicted_samples_2019 - actual_values_2019)**2))\n",
    "rmse_2020 = np.sqrt(np.mean((predicted_samples_2020 - actual_values_2020)**2))\n",
    "\n",
    "joint_rmse = np.mean([rmse_2019, rmse_2020])\n",
    "\n",
    "print(f\"Hist. Avg model RMSE for 2019: {rmse_2019:.2f}\")\n",
    "print(f\"Hist. Avg model RMSE for 2020: {rmse_2020:.2f}\")\n",
    "print(f\"Joint RMSE for 2019 and 2020: {joint_rmse:.2f}\")\n",
    "print(\" \")\n",
    "\n",
    "mae_2019_samples = np.mean(np.abs(predicted_samples_2019 - actual_values_2019))\n",
    "mae_2020_samples = np.mean(np.abs(predicted_samples_2020 - actual_values_2020))\n",
    "\n",
    "# Take the average MAE for each year\n",
    "mae_2019 = np.mean(mae_2019_samples)\n",
    "mae_2020 = np.mean(mae_2020_samples)\n",
    "\n",
    "# Calculate the joint MAE (mean of individual MAE values from both years)\n",
    "joint_mae = np.mean([mae_2019, mae_2020])\n",
    "\n",
    "print(f\"Hist. Avg model MAE for 2019: {mae_2019:.2f}\")\n",
    "print(f\"Hist. Avg model MAE for 2020: {mae_2020:.2f}\")\n",
    "print(f\"Joint MAE for 2019 and 2020: {joint_mae:.2f}\")"
   ]
  },
  {
   "cell_type": "markdown",
   "id": "49f536fc",
   "metadata": {},
   "source": [
    "### Weighted Historical Average\n",
    "#### lookback = 7 years"
   ]
  },
  {
   "cell_type": "markdown",
   "id": "807d4f68",
   "metadata": {},
   "source": [
    "Make Scikit models"
   ]
  },
  {
   "cell_type": "code",
   "execution_count": 20,
   "id": "99fd7204",
   "metadata": {},
   "outputs": [],
   "source": [
    "# Identical models, features are only difference\n",
    "linear_poisson_weighted_avg = sklearn.linear_model.PoissonRegressor()\n",
    "linear_poisson = sklearn.linear_model.PoissonRegressor()\n",
    "\n",
    "# Params selected via grid search on validation. Need to re-do grid search for chicago\n",
    "hist_poisson =   HistGradientBoostingRegressor(loss=\"poisson\", max_iter=10000, max_depth=3, max_leaf_nodes=2,\n",
    "                                               l2_regularization=1, min_samples_leaf=100 )"
   ]
  },
  {
   "cell_type": "code",
   "execution_count": 21,
   "id": "cad5de70",
   "metadata": {},
   "outputs": [],
   "source": [
    "bpr_over_time_weight_avg, predicted_over_time_weight_avg = models.scikit_model(multiindexed_gdf, x_BSF_death_only,\n",
    "                                               y_BS_death_only, x_test_BSF_death_only,\n",
    "                                               linear_poisson_weighted_avg,\n",
    "                                               first_test_timestep, last_test_timestep,\n",
    "                                               bpr_uncertainty_samples=20)"
   ]
  },
  {
   "cell_type": "code",
   "execution_count": 22,
   "id": "5bde8c5d",
   "metadata": {},
   "outputs": [
    {
     "name": "stdout",
     "output_type": "stream",
     "text": [
      "2019 Average: 0.6264612161008314\n",
      "Weighted Hist. Avg  model (Mean, 95% CI): 61.1,\n",
      "      (59.2-\n",
      "       63.4)\n"
     ]
    }
   ],
   "source": [
    "print(f\"2019 Average: {np.mean(bpr_over_time_weight_avg[0])}\")\n",
    "\n",
    "bpr_samples_both_years = (np.array(bpr_over_time_weight_avg[0]) + \\\n",
    "                          np.array(bpr_over_time_weight_avg[1]))/2\n",
    "                        \n",
    "print(f\"\"\"Weighted Hist. Avg  model (Mean, 95% CI): {np.mean(bpr_samples_both_years)*100:.1f},\n",
    "      ({np.percentile(bpr_samples_both_years,2.5)*100:.1f}-\n",
    "       {np.percentile(bpr_samples_both_years,97.5)*100:.1f})\"\"\")\n"
   ]
  },
  {
   "cell_type": "code",
   "execution_count": 23,
   "id": "46137e4d",
   "metadata": {},
   "outputs": [
    {
     "data": {
      "text/plain": [
       "[array([0.70166866, 0.89404364, 0.70583855, ..., 0.65404996, 0.65404996,\n",
       "        0.7522415 ]),\n",
       " array([0.7522415 , 0.87608488, 0.69889845, ..., 0.7522415 , 0.65404996,\n",
       "        0.73828533])]"
      ]
     },
     "execution_count": 23,
     "metadata": {},
     "output_type": "execute_result"
    }
   ],
   "source": [
    "predicted_over_time_weight_avg"
   ]
  },
  {
   "cell_type": "code",
   "execution_count": 24,
   "id": "93acbd32",
   "metadata": {},
   "outputs": [
    {
     "name": "stdout",
     "output_type": "stream",
     "text": [
      "Weighted Hist. Avg model RMSE for 2019: 1.19\n",
      "Weighted Hist. Avg model RMSE for 2020: 1.26\n",
      "Joint RMSE for 2019 and 2020: 1.23\n",
      " \n",
      "Weighted Hist. Avg model MAE for 2019: 0.90\n",
      "Weighted Hist. Avg model MAE for 2020: 0.95\n",
      "Joint MAE for 2019 and 2020: 0.93\n"
     ]
    }
   ],
   "source": [
    "# Calculate the model predictions for the years 2019 and 2020\n",
    "predicted_samples_2019 = predicted_over_time_weight_avg[0]\n",
    "predicted_samples_2020 = predicted_over_time_weight_avg[1]\n",
    "\n",
    "# Calculate RMSE for the Zeroes model for the year 2019 and 2020\n",
    "rmse_2019 = np.sqrt(np.mean((predicted_samples_2019 - actual_values_2019)**2))\n",
    "rmse_2020 = np.sqrt(np.mean((predicted_samples_2020 - actual_values_2020)**2))\n",
    "\n",
    "joint_rmse = np.mean([rmse_2019, rmse_2020])\n",
    "\n",
    "print(f\"Weighted Hist. Avg model RMSE for 2019: {rmse_2019:.2f}\")\n",
    "print(f\"Weighted Hist. Avg model RMSE for 2020: {rmse_2020:.2f}\")\n",
    "print(f\"Joint RMSE for 2019 and 2020: {joint_rmse:.2f}\")\n",
    "print(\" \")\n",
    "\n",
    "mae_2019_samples = np.mean(np.abs(predicted_samples_2019 - actual_values_2019))\n",
    "mae_2020_samples = np.mean(np.abs(predicted_samples_2020 - actual_values_2020))\n",
    "\n",
    "# Take the average MAE for each year\n",
    "mae_2019 = np.mean(mae_2019_samples)\n",
    "mae_2020 = np.mean(mae_2020_samples)\n",
    "\n",
    "# Calculate the joint MAE (mean of individual MAE values from both years)\n",
    "joint_mae = np.mean([mae_2019, mae_2020])\n",
    "\n",
    "print(f\"Weighted Hist. Avg model MAE for 2019: {mae_2019:.2f}\")\n",
    "print(f\"Weighted Hist. Avg model MAE for 2020: {mae_2020:.2f}\")\n",
    "print(f\"Joint MAE for 2019 and 2020: {joint_mae:.2f}\")"
   ]
  },
  {
   "cell_type": "markdown",
   "id": "b78ea8be",
   "metadata": {},
   "source": [
    "### Linear (Poisson GLM baseline)"
   ]
  },
  {
   "cell_type": "code",
   "execution_count": 25,
   "id": "fee01c0a",
   "metadata": {},
   "outputs": [
    {
     "name": "stderr",
     "output_type": "stream",
     "text": [
      "/Users/jyontika/Library/Python/3.9/lib/python/site-packages/sklearn/linear_model/_glm/glm.py:282: ConvergenceWarning: lbfgs failed to converge (status=1):\n",
      "STOP: TOTAL NO. of ITERATIONS REACHED LIMIT.\n",
      "\n",
      "Increase the number of iterations (max_iter) or scale the data as shown in:\n",
      "    https://scikit-learn.org/stable/modules/preprocessing.html\n",
      "  self.n_iter_ = _check_optimize_result(\"lbfgs\", opt_res)\n"
     ]
    }
   ],
   "source": [
    "bpr_over_time_linear, predicted_over_time_linear = models.scikit_model(multiindexed_gdf, x_BSF,\n",
    "                                               y_BS, x_test_BSF,\n",
    "                                               linear_poisson,\n",
    "                                               first_test_timestep, last_test_timestep,\n",
    "                                               bpr_uncertainty_samples=50)"
   ]
  },
  {
   "cell_type": "code",
   "execution_count": 26,
   "id": "7d93b520",
   "metadata": {},
   "outputs": [
    {
     "name": "stdout",
     "output_type": "stream",
     "text": [
      "2019 Average: 0.6320362020652359\n",
      "Linear (Poisson GLM) model (Mean, 95% CI): 61.5,\n",
      "      (59.8-\n",
      "       63.6)\n"
     ]
    }
   ],
   "source": [
    "print(f\"2019 Average: {np.mean(bpr_over_time_linear[0])}\")\n",
    "\n",
    "bpr_samples_both_years = (np.array(bpr_over_time_linear[0]) + \\\n",
    "                          np.array(bpr_over_time_linear[1]))/2\n",
    "                        \n",
    "print(f\"\"\"Linear (Poisson GLM) model (Mean, 95% CI): {np.mean(bpr_samples_both_years)*100:.1f},\n",
    "      ({np.percentile(bpr_samples_both_years,2.5)*100:.1f}-\n",
    "       {np.percentile(bpr_samples_both_years,97.5)*100:.1f})\"\"\")\n"
   ]
  },
  {
   "cell_type": "code",
   "execution_count": 27,
   "id": "723d2f64",
   "metadata": {},
   "outputs": [
    {
     "name": "stdout",
     "output_type": "stream",
     "text": [
      "Linear (Poisson GLM) RMSE for 2019: 1.26\n",
      "Linear (Poisson GLM)  RMSE for 2020: 1.40\n",
      "Joint RMSE for 2019 and 2020: 1.33\n",
      " \n",
      "Linear (Poisson GLM) MAE for 2019: 0.99\n",
      "Linear (Poisson GLM) MAE for 2020: 1.10\n",
      "Joint MAE for 2019 and 2020: 1.05\n"
     ]
    }
   ],
   "source": [
    "# Calculate the model predictions for the years 2019 and 2020\n",
    "predicted_samples_2019 = predicted_over_time_linear[0]\n",
    "predicted_samples_2020 = predicted_over_time_linear[1]\n",
    "\n",
    "# Calculate RMSE for the Zeroes model for the year 2019 and 2020\n",
    "rmse_2019 = np.sqrt(np.mean((predicted_samples_2019 - actual_values_2019)**2))\n",
    "rmse_2020 = np.sqrt(np.mean((predicted_samples_2020 - actual_values_2020)**2))\n",
    "\n",
    "joint_rmse = np.mean([rmse_2019, rmse_2020])\n",
    "\n",
    "print(f\"Linear (Poisson GLM) RMSE for 2019: {rmse_2019:.2f}\")\n",
    "print(f\"Linear (Poisson GLM)  RMSE for 2020: {rmse_2020:.2f}\")\n",
    "print(f\"Joint RMSE for 2019 and 2020: {joint_rmse:.2f}\")\n",
    "print(\" \")\n",
    "\n",
    "mae_2019_samples = np.mean(np.abs(predicted_samples_2019 - actual_values_2019))\n",
    "mae_2020_samples = np.mean(np.abs(predicted_samples_2020 - actual_values_2020))\n",
    "\n",
    "# Take the average MAE for each year\n",
    "mae_2019 = np.mean(mae_2019_samples)\n",
    "mae_2020 = np.mean(mae_2020_samples)\n",
    "\n",
    "# Calculate the joint MAE (mean of individual MAE values from both years)\n",
    "joint_mae = np.mean([mae_2019, mae_2020])\n",
    "\n",
    "print(f\"Linear (Poisson GLM) MAE for 2019: {mae_2019:.2f}\")\n",
    "print(f\"Linear (Poisson GLM) MAE for 2020: {mae_2020:.2f}\")\n",
    "print(f\"Joint MAE for 2019 and 2020: {joint_mae:.2f}\")"
   ]
  },
  {
   "cell_type": "markdown",
   "id": "abffe020",
   "metadata": {},
   "source": [
    "### Gradient Boosted Trees (Poisson)"
   ]
  },
  {
   "cell_type": "code",
   "execution_count": 25,
   "id": "6ffba8f1",
   "metadata": {},
   "outputs": [],
   "source": [
    "bpr_over_time_tree, predicted_over_time_tree = models.scikit_model(multiindexed_gdf, x_BSF,\n",
    "                                               y_BS, x_test_BSF,\n",
    "                                               hist_poisson,\n",
    "                                               first_test_timestep, last_test_timestep,\n",
    "                                               bpr_uncertainty_samples=20)"
   ]
  },
  {
   "cell_type": "code",
   "execution_count": 26,
   "id": "605585de",
   "metadata": {},
   "outputs": [
    {
     "name": "stdout",
     "output_type": "stream",
     "text": [
      "2019 Average: 0.5583002425125425\n",
      "Gradient Boosted Trees (Poisson)  (Mean, 95% CI): 55.2,\n",
      "      (53.4-\n",
      "       57.3)\n"
     ]
    }
   ],
   "source": [
    "print(f\"2019 Average: {np.mean(bpr_over_time_tree[0])}\")\n",
    "\n",
    "bpr_samples_both_years = (np.array(bpr_over_time_tree[0]) + \\\n",
    "                          np.array(bpr_over_time_tree[1]))/2\n",
    "                        \n",
    "print(f\"\"\"Gradient Boosted Trees (Poisson)  (Mean, 95% CI): {np.mean(bpr_samples_both_years)*100:.1f},\n",
    "      ({np.percentile(bpr_samples_both_years,2.5)*100:.1f}-\n",
    "       {np.percentile(bpr_samples_both_years,97.5)*100:.1f})\"\"\")\n"
   ]
  },
  {
   "cell_type": "code",
   "execution_count": 27,
   "id": "88a603ea",
   "metadata": {},
   "outputs": [
    {
     "name": "stdout",
     "output_type": "stream",
     "text": [
      "Gradient Boosted Trees (Poisson)  RMSE for 2019: 1.18\n",
      "Gradient Boosted Trees (Poisson) RMSE for 2020: 1.25\n",
      "Joint RMSE for 2019 and 2020: 1.22\n",
      " \n",
      "Gradient Boosted Trees (Poisson) MAE for 2019: 0.89\n",
      "Gradient Boosted Trees (Poisson)  MAE for 2020: 0.92\n",
      "Joint MAE for 2019 and 2020: 0.91\n"
     ]
    }
   ],
   "source": [
    "# Calculate the model predictions for the years 2019 and 2020\n",
    "predicted_samples_2019 = predicted_over_time_tree[0]\n",
    "predicted_samples_2020 = predicted_over_time_tree[1]\n",
    "\n",
    "# Calculate RMSE for the Zeroes model for the year 2019 and 2020\n",
    "rmse_2019 = np.sqrt(np.mean((predicted_samples_2019 - actual_values_2019)**2))\n",
    "rmse_2020 = np.sqrt(np.mean((predicted_samples_2020 - actual_values_2020)**2))\n",
    "\n",
    "joint_rmse = np.mean([rmse_2019, rmse_2020])\n",
    "\n",
    "print(f\"Gradient Boosted Trees (Poisson)  RMSE for 2019: {rmse_2019:.2f}\")\n",
    "print(f\"Gradient Boosted Trees (Poisson) RMSE for 2020: {rmse_2020:.2f}\")\n",
    "print(f\"Joint RMSE for 2019 and 2020: {joint_rmse:.2f}\")\n",
    "print(\" \")\n",
    "\n",
    "mae_2019_samples = np.mean(np.abs(predicted_samples_2019 - actual_values_2019))\n",
    "mae_2020_samples = np.mean(np.abs(predicted_samples_2020 - actual_values_2020))\n",
    "\n",
    "# Take the average MAE for each year\n",
    "mae_2019 = np.mean(mae_2019_samples)\n",
    "mae_2020 = np.mean(mae_2020_samples)\n",
    "\n",
    "# Calculate the joint MAE (mean of individual MAE values from both years)\n",
    "joint_mae = np.mean([mae_2019, mae_2020])\n",
    "\n",
    "print(f\"Gradient Boosted Trees (Poisson) MAE for 2019: {mae_2019:.2f}\")\n",
    "print(f\"Gradient Boosted Trees (Poisson)  MAE for 2020: {mae_2020:.2f}\")\n",
    "print(f\"Joint MAE for 2019 and 2020: {joint_mae:.2f}\")"
   ]
  },
  {
   "cell_type": "markdown",
   "id": "8ee0890d",
   "metadata": {},
   "source": [
    "### CASTNet"
   ]
  },
  {
   "cell_type": "code",
   "execution_count": 48,
   "id": "f236b586",
   "metadata": {},
   "outputs": [],
   "source": [
    "# Call the castnet_model function to calculate BPR for CASTNet predictions\n",
    "bpr_results_castnet, predicted_results_castnet = models.castnet_model(multiindexed_gdf, first_test_timestep, last_test_timestep, \n",
    "                                            num_geoids, bpr_uncertainty_samples=50)\n"
   ]
  },
  {
   "cell_type": "code",
   "execution_count": 49,
   "id": "bf84f5aa",
   "metadata": {},
   "outputs": [
    {
     "name": "stdout",
     "output_type": "stream",
     "text": [
      "2019 Average: 0.2796877101780102\n",
      "CASTNet model (Mean, 95% CI): 29.0,\n",
      "      (27.8-\n",
      "       30.4)\n"
     ]
    }
   ],
   "source": [
    "print(f\"2019 Average: {np.mean(bpr_results_castnet[0])}\")\n",
    "\n",
    "bpr_samples_both_years = (np.array(bpr_results_castnet[0]) + \\\n",
    "                          np.array(bpr_results_castnet[1]))/2\n",
    "                        \n",
    "print(f\"\"\"CASTNet model (Mean, 95% CI): {np.mean(bpr_samples_both_years)*100:.1f},\n",
    "      ({np.percentile(bpr_samples_both_years,2.5)*100:.1f}-\n",
    "       {np.percentile(bpr_samples_both_years,97.5)*100:.1f})\"\"\")"
   ]
  },
  {
   "cell_type": "code",
   "execution_count": 54,
   "id": "541ed06d",
   "metadata": {},
   "outputs": [
    {
     "name": "stdout",
     "output_type": "stream",
     "text": [
      "CASTNet RMSE for 2019: 2.07\n",
      "CASTNet RMSE for 2020: 2.18\n",
      "Joint RMSE for 2019 and 2020: 2.13\n",
      " \n",
      "CASTNet MAE for 2019: 1.50\n",
      "CASTNet MAE for 2020: 1.71\n",
      "Joint MAE for 2019 and 2020: 1.60\n"
     ]
    }
   ],
   "source": [
    "# Calculate the model predictions for the years 2019 and 2020\n",
    "predicted_samples_2019 = predicted_results_castnet[0]\n",
    "predicted_samples_2020 = predicted_results_castnet[1]\n",
    "\n",
    "# Calculate RMSE for the Zeroes model for the year 2019 and 2020\n",
    "rmse_2019 = np.sqrt(np.mean((predicted_samples_2019 - actual_values_2019)**2))\n",
    "rmse_2020 = np.sqrt(np.mean((predicted_samples_2020 - actual_values_2020)**2))\n",
    "\n",
    "joint_rmse = np.mean([rmse_2019, rmse_2020])\n",
    "\n",
    "print(f\"CASTNet RMSE for 2019: {rmse_2019:.2f}\")\n",
    "print(f\"CASTNet RMSE for 2020: {rmse_2020:.2f}\")\n",
    "print(f\"Joint RMSE for 2019 and 2020: {joint_rmse:.2f}\")\n",
    "print(\" \")\n",
    "\n",
    "mae_2019_samples = np.mean(np.abs(predicted_samples_2019 - actual_values_2019))\n",
    "mae_2020_samples = np.mean(np.abs(predicted_samples_2020 - actual_values_2020))\n",
    "\n",
    "# Take the average MAE for each year\n",
    "mae_2019 = np.mean(mae_2019_samples)\n",
    "mae_2020 = np.mean(mae_2020_samples)\n",
    "\n",
    "# Calculate the joint MAE (mean of individual MAE values from both years)\n",
    "joint_mae = np.mean([mae_2019, mae_2020])\n",
    "\n",
    "print(f\"CASTNet MAE for 2019: {mae_2019:.2f}\")\n",
    "print(f\"CASTNet MAE for 2020: {mae_2020:.2f}\")\n",
    "print(f\"Joint MAE for 2019 and 2020: {joint_mae:.2f}\")"
   ]
  }
 ],
 "metadata": {
  "kernelspec": {
   "display_name": "Python 3 (ipykernel)",
   "language": "python",
   "name": "python3"
  },
  "language_info": {
   "codemirror_mode": {
    "name": "ipython",
    "version": 3
   },
   "file_extension": ".py",
   "mimetype": "text/x-python",
   "name": "python",
   "nbconvert_exporter": "python",
   "pygments_lexer": "ipython3",
   "version": "3.9.6"
  }
 },
 "nbformat": 4,
 "nbformat_minor": 5
}
