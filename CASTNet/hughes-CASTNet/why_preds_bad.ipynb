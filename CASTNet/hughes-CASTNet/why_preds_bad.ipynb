{
 "cells": [
  {
   "cell_type": "code",
   "execution_count": 18,
   "metadata": {},
   "outputs": [],
   "source": [
    "import os\n",
    "import pickle\n",
    "import pandas as pd\n",
    "import numpy as np\n",
    "\n",
    "# import matplotlib\n",
    "from matplotlib import pyplot as plt\n"
   ]
  },
  {
   "cell_type": "code",
   "execution_count": 19,
   "metadata": {},
   "outputs": [],
   "source": [
    "data_dir = os.environ.get('DATA_DIR', '/cluster/home/kheuto01/code/opioid-overdose-models/CASTNet/hughes-CASTNet/')\n"
   ]
  },
  {
   "cell_type": "markdown",
   "metadata": {},
   "source": [
    "MA"
   ]
  },
  {
   "cell_type": "code",
   "execution_count": 20,
   "metadata": {},
   "outputs": [],
   "source": [
    "#import CASTNet Results\n",
    "results_path_1 = os.path.join(data_dir, 'Results/MA_lead_time1.pkl')\n",
    "results_path_2 = os.path.join(data_dir, 'Results/MA_lead_time2.pkl')\n",
    "\n",
    "with open(results_path_1, 'rb') as file:\n",
    "    MA_results_lead_1 = pickle.load(file, encoding='bytes')\n",
    "\n",
    "with open(results_path_2, 'rb') as file:\n",
    "    MA_results_lead_2 = pickle.load(file, encoding='bytes')"
   ]
  },
  {
   "cell_type": "code",
   "execution_count": 21,
   "metadata": {},
   "outputs": [
    {
     "data": {
      "text/plain": [
       "<BarContainer object of 40 artists>"
      ]
     },
     "execution_count": 21,
     "metadata": {},
     "output_type": "execute_result"
    },
    {
     "data": {
      "image/png": "[encoded data removed]",
      "text/plain": [
       "<Figure size 1000x500 with 1 Axes>"
      ]
     },
     "metadata": {},
     "output_type": "display_data"
    }
   ],
   "source": [
    "# bar plot of MA_results_lead_1\n",
    "plt.figure(figsize=(10,5))\n",
    "plt.bar(x=range(len(MA_results_lead_1['preds'][-1][:40])) , height=MA_results_lead_1['preds'][-1][:40])"
   ]
  },
  {
   "cell_type": "code",
   "execution_count": 22,
   "metadata": {},
   "outputs": [],
   "source": [
    "# Get every other entry of MA_results_lead1\n",
    "MA_all_predictions_1 = MA_results_lead_1['preds']\n",
    "MA_prediction_matrix_1 = np.array(MA_all_predictions_1)\n",
    "MA_prediction_matrix_1 = np.maximum(MA_prediction_matrix_1, 0) #turn all negative values to 0\n",
    "MA_prediction_lead_1 = MA_prediction_matrix_1[-1][::2]\n",
    "\n"
   ]
  },
  {
   "cell_type": "code",
   "execution_count": 23,
   "metadata": {},
   "outputs": [],
   "source": [
    "MA_all_predictions_2 = MA_results_lead_2['preds']\n",
    "MA_prediction_matrix_2 = np.array(MA_all_predictions_2)\n",
    "MA_prediction_matrix_2 = np.maximum(MA_prediction_matrix_2, 0) #turn all negative values to 0\n",
    "MA_prediction_lead_2 = MA_prediction_matrix_2[-1, 1::2]"
   ]
  },
  {
   "cell_type": "code",
   "execution_count": 24,
   "metadata": {},
   "outputs": [],
   "source": [
    "locations_path = os.path.join(data_dir, 'Data/MA/locations.txt')\n",
    "MA_locations = []\n",
    "with open(locations_path, 'rb') as file:\n",
    "    for line in file:\n",
    "        line = line.rstrip().decode(\"utf-8\").split(\"\\t\")\n",
    "        MA_locations.append(line[1])"
   ]
  },
  {
   "cell_type": "code",
   "execution_count": 25,
   "metadata": {},
   "outputs": [],
   "source": [
    "# Create a DataFrame for prediction_lead_1\n",
    "df_ma_prediction_lead_1 = pd.DataFrame({\n",
    "    'geoid': MA_locations,\n",
    "    'prediction': MA_prediction_lead_1,  \n",
    "    'year': '2020'\n",
    "})\n",
    "\n",
    "# Create a DataFrame for prediction_lead_2\n",
    "df_ma_prediction_lead_2 = pd.DataFrame({\n",
    "    'geoid': MA_locations,\n",
    "    'prediction': MA_prediction_lead_2,  \n",
    "    'year': '2021'\n",
    "})\n",
    "\n",
    "# combine\n",
    "MA_combined_df = pd.concat([df_ma_prediction_lead_1, df_ma_prediction_lead_2])\n",
    "csv_filename = \"Results/MA-predictions.csv\"\n",
    "csv_filepath = os.path.join(data_dir, csv_filename)\n",
    "\n",
    "MA_combined_df.to_csv(csv_filepath, index=False)"
   ]
  },
  {
   "cell_type": "code",
   "execution_count": null,
   "metadata": {},
   "outputs": [],
   "source": []
  }
 ],
 "metadata": {
  "kernelspec": {
   "display_name": "Python 3 (ipykernel)",
   "language": "python",
   "name": "python3"
  },
  "language_info": {
   "codemirror_mode": {
    "name": "ipython",
    "version": 3
   },
   "file_extension": ".py",
   "mimetype": "text/x-python",
   "name": "python",
   "nbconvert_exporter": "python",
   "pygments_lexer": "ipython3",
   "version": "3.8.17"
  }
 },
 "nbformat": 4,
 "nbformat_minor": 2
}
