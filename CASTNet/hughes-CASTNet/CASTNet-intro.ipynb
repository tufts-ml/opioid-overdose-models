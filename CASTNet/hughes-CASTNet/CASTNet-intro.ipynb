{
 "cells": [
  {
   "cell_type": "code",
   "execution_count": 1,
   "id": "3fc4d9cc",
   "metadata": {},
   "outputs": [],
   "source": [
    "import os\n",
    "os.environ['TF_CPP_MIN_LOG_LEVEL']='2'\n",
    "import numpy as np\n",
    "np.random.seed(401)\n",
    "import tensorflow as tf\n",
    "tf.random.set_seed(401)\n",
    "from sklearn.metrics import confusion_matrix, precision_score, recall_score, auc, roc_curve, roc_auc_score, f1_score"
   ]
  },
  {
   "cell_type": "code",
   "execution_count": 1,
   "id": "22b87733",
   "metadata": {},
   "outputs": [],
   "source": [
    "import hughes_data \n",
    "import argparse \n",
    "import pickle\n",
    "import math\n",
    "\n",
    "import random\n",
    "random.seed(401)\n"
   ]
  },
  {
   "cell_type": "code",
   "execution_count": 2,
   "id": "639963c4",
   "metadata": {},
   "outputs": [],
   "source": [
    "import hughes_data"
   ]
  },
  {
   "cell_type": "code",
   "execution_count": 3,
   "id": "25dbeafc",
   "metadata": {},
   "outputs": [
    {
     "name": "stdout",
     "output_type": "stream",
     "text": [
      "[[[11.  3.  0. ...  1.  0.  0.]\n",
      "  [ 8.  3.  0. ...  0.  0.  0.]\n",
      "  [ 4.  1.  0. ...  0.  0.  0.]\n",
      "  ...\n",
      "  [ 2.  0.  1. ...  1.  0.  0.]\n",
      "  [10.  3.  1. ...  0.  0.  0.]\n",
      "  [ 6.  0.  1. ...  0.  0.  0.]]\n",
      "\n",
      " [[ 3.  1.  0. ...  0.  0.  0.]\n",
      "  [ 1.  0.  1. ...  0.  0.  0.]\n",
      "  [ 1.  1.  0. ...  0.  0.  0.]\n",
      "  ...\n",
      "  [ 0.  0.  0. ...  0.  0.  0.]\n",
      "  [ 2.  0.  1. ...  0.  0.  0.]\n",
      "  [ 0.  0.  0. ...  0.  0.  0.]]\n",
      "\n",
      " [[ 2.  1.  0. ...  0.  0.  0.]\n",
      "  [ 1.  0.  0. ...  0.  1.  0.]\n",
      "  [ 1.  1.  0. ...  0.  0.  0.]\n",
      "  ...\n",
      "  [ 1.  0.  0. ...  0.  0.  0.]\n",
      "  [ 2.  1.  1. ...  0.  0.  0.]\n",
      "  [ 3.  0.  1. ...  0.  0.  0.]]\n",
      "\n",
      " ...\n",
      "\n",
      " [[24.  5.  8. ...  1.  1.  0.]\n",
      "  [24.  4.  7. ...  0.  1.  0.]\n",
      "  [21.  4.  5. ...  0.  1.  0.]\n",
      "  ...\n",
      "  [15.  0.  3. ...  0.  1.  1.]\n",
      "  [19.  2.  6. ...  0.  1.  0.]\n",
      "  [ 7.  1.  4. ...  0.  0.  0.]]\n",
      "\n",
      " [[16.  2.  1. ...  0.  1.  0.]\n",
      "  [21.  3.  7. ...  0.  0.  0.]\n",
      "  [10.  2.  2. ...  0.  0.  0.]\n",
      "  ...\n",
      "  [15.  4.  4. ...  0.  0.  0.]\n",
      "  [17.  2.  8. ...  0.  0.  0.]\n",
      "  [21.  2.  7. ...  0.  1.  0.]]\n",
      "\n",
      " [[ 6.  2.  1. ...  0.  0.  0.]\n",
      "  [11.  6.  2. ...  0.  0.  0.]\n",
      "  [10.  5.  1. ...  0.  0.  0.]\n",
      "  ...\n",
      "  [12.  6.  1. ...  0.  0.  0.]\n",
      "  [11.  7.  1. ...  0.  0.  0.]\n",
      "  [ 4.  2.  0. ...  1.  0.  0.]]]\n",
      "(47, 1120, 14)\n",
      "window_size: 10 lead_time: 1 time_unit: 7 train_ratio: 0.75 test_ratio: 0.15 group_lasso: True gl_reg_coef: 0.0025 orthogonal_loss_coef: 0.01 num_spatial_heads: 4\n",
      "train_dynamic_global: (5170, 10, 47, 15) train_dynamic_local: (5170, 10, 15) train_static: (5170, 9) train_dist: (5170, 47) train_y: (5170,)\n",
      "valid_dynamic_global: (752, 10, 47, 15) valid_dynamic_local: (752, 10, 15) valid_static: (752, 9) valid_dist: (752, 47) valid_y: (752,)\n",
      "test_dynamic_global: (1128, 10, 47, 15) test_dynamic_local: (1128, 10, 15) test_static: (1128, 9) test_dist: (1128, 47) test_y: (1128,)\n"
     ]
    },
    {
     "name": "stderr",
     "output_type": "stream",
     "text": [
      "/Users/jyontika/Desktop/Python/github_hughes/opioid-overdose-models/CASTNet/hughes-CASTNet/hughes_castnet_model.py:70: UserWarning: `tf.nn.rnn_cell.BasicLSTMCell` is deprecated and will be removed in a future version. This class is equivalent as `tf.keras.layers.LSTMCell`, and will be replaced by that in Tensorflow 2.0.\n",
      "  self.local_lstm_cell = tf.compat.v1.nn.rnn_cell.BasicLSTMCell(self.HIDDEN_LAYER_SIZE)\n",
      "/Users/jyontika/Desktop/Python/github_hughes/opioid-overdose-models/CASTNet/hughes-CASTNet/hughes_castnet_model.py:89: UserWarning: `tf.nn.rnn_cell.BasicLSTMCell` is deprecated and will be removed in a future version. This class is equivalent as `tf.keras.layers.LSTMCell`, and will be replaced by that in Tensorflow 2.0.\n",
      "  global_lstm_cell = tf.compat.v1.nn.rnn_cell.BasicLSTMCell(self.HIDDEN_LAYER_SIZE)\n"
     ]
    },
    {
     "name": "stdout",
     "output_type": "stream",
     "text": [
      "WARNING:tensorflow:From /Users/jyontika/Desktop/Python/github_hughes/opioid-overdose-models/CASTNet/hughes-CASTNet/hughes_castnet_model.py:199: static_rnn (from tensorflow.python.ops.rnn) is deprecated and will be removed in a future version.\n",
      "Instructions for updating:\n",
      "Please use `keras.layers.RNN(cell, unroll=True)`, which is equivalent to this API\n",
      "WARNING:tensorflow:From /Users/jyontika/Library/Python/3.9/lib/python/site-packages/keras/src/layers/rnn/legacy_cells.py:793: calling Zeros.__init__ (from tensorflow.python.ops.init_ops) with dtype is deprecated and will be removed in a future version.\n",
      "Instructions for updating:\n",
      "Call initializer instance with the dtype argument instead of passing it to the constructor\n",
      "Iter: 1.0, total_loss: 3.205, regres_loss: 0.651, gl_loss: 0.661, ortho_loss: 1.893\n",
      "Iter: 2.0, total_loss: 2.799, regres_loss: 0.289, gl_loss: 0.638, ortho_loss: 1.872\n",
      "Iter: 3.0, total_loss: 2.673, regres_loss: 0.246, gl_loss: 0.612, ortho_loss: 1.815\n",
      "Iter: 4.0, total_loss: 2.53, regres_loss: 0.251, gl_loss: 0.588, ortho_loss: 1.691\n",
      "Epoch: 1, total_loss: 2.775, regres_loss: 0.352, gl_loss: 0.623, ortho_loss: 1.8\n",
      "-----------------------------------------------------------------------------\n",
      "Iter: 5.0, total_loss: 1.931, regres_loss: 0.18, gl_loss: 0.472, ortho_loss: 1.28\n",
      "Iter: 6.0, total_loss: 2.191, regres_loss: 0.266, gl_loss: 0.539, ortho_loss: 1.386\n",
      "Iter: 7.0, total_loss: 2.053, regres_loss: 0.271, gl_loss: 0.514, ortho_loss: 1.268\n",
      "Iter: 8.0, total_loss: 1.915, regres_loss: 0.226, gl_loss: 0.488, ortho_loss: 1.202\n",
      "Epoch: 2, total_loss: 2.082, regres_loss: 0.244, gl_loss: 0.52, ortho_loss: 1.318\n",
      "-----------------------------------------------------------------------------\n",
      "Iter: 9.0, total_loss: 1.26, regres_loss: 0.161, gl_loss: 0.311, ortho_loss: 0.788\n",
      "Iter: 10.0, total_loss: 1.787, regres_loss: 0.226, gl_loss: 0.435, ortho_loss: 1.125\n",
      "Iter: 11.0, total_loss: 1.694, regres_loss: 0.223, gl_loss: 0.411, ortho_loss: 1.061\n",
      "Iter: 12.0, total_loss: 1.64, regres_loss: 0.26, gl_loss: 0.388, ortho_loss: 0.992\n",
      "Epoch: 3, total_loss: 1.711, regres_loss: 0.24, gl_loss: 0.414, ortho_loss: 1.057\n",
      "-----------------------------------------------------------------------------\n",
      "Iter: 13.0, total_loss: 0.81, regres_loss: 0.146, gl_loss: 0.187, ortho_loss: 0.478\n",
      "Iter: 14.0, total_loss: 1.477, regres_loss: 0.26, gl_loss: 0.344, ortho_loss: 0.873\n",
      "Iter: 15.0, total_loss: 1.379, regres_loss: 0.231, gl_loss: 0.325, ortho_loss: 0.823\n",
      "Iter: 16.0, total_loss: 1.293, regres_loss: 0.207, gl_loss: 0.308, ortho_loss: 0.779\n",
      "Epoch: 4, total_loss: 1.383, regres_loss: 0.238, gl_loss: 0.325, ortho_loss: 0.82\n",
      "-----------------------------------------------------------------------------\n",
      "Iter: 17.0, total_loss: 0.453, regres_loss: 0.084, gl_loss: 0.104, ortho_loss: 0.265\n",
      "Iter: 18.0, total_loss: 1.265, regres_loss: 0.27, gl_loss: 0.278, ortho_loss: 0.717\n",
      "Iter: 19.0, total_loss: 1.199, regres_loss: 0.236, gl_loss: 0.265, ortho_loss: 0.698\n",
      "Iter: 20.0, total_loss: 1.17, regres_loss: 0.229, gl_loss: 0.254, ortho_loss: 0.687\n",
      "Epoch: 5, total_loss: 1.194, regres_loss: 0.237, gl_loss: 0.264, ortho_loss: 0.693\n",
      "-----------------------------------------------------------------------------\n",
      "Iter: 21.0, total_loss: 0.232, regres_loss: 0.052, gl_loss: 0.049, ortho_loss: 0.131\n",
      "Iter: 22.0, total_loss: 1.094, regres_loss: 0.219, gl_loss: 0.244, ortho_loss: 0.631\n",
      "Iter: 23.0, total_loss: 1.055, regres_loss: 0.225, gl_loss: 0.246, ortho_loss: 0.585\n",
      "Iter: 24.0, total_loss: 1.051, regres_loss: 0.272, gl_loss: 0.249, ortho_loss: 0.53\n",
      "Epoch: 6, total_loss: 1.049, regres_loss: 0.241, gl_loss: 0.247, ortho_loss: 0.562\n",
      "-----------------------------------------------------------------------------\n",
      "Iter: 25.0, total_loss: 0.035, regres_loss: 0.006, gl_loss: 0.01, ortho_loss: 0.019\n"
     ]
    },
    {
     "ename": "KeyboardInterrupt",
     "evalue": "",
     "output_type": "error",
     "traceback": [
      "\u001b[0;31m---------------------------------------------------------------------------\u001b[0m",
      "\u001b[0;31mKeyboardInterrupt\u001b[0m                         Traceback (most recent call last)",
      "Cell \u001b[0;32mIn[3], line 1\u001b[0m\n\u001b[0;32m----> 1\u001b[0m \u001b[39mimport\u001b[39;00m \u001b[39mhughes_castnet_main\u001b[39;00m\n",
      "File \u001b[0;32m~/Desktop/Python/github_hughes/opioid-overdose-models/CASTNet/hughes-CASTNet/hughes_castnet_main.py:114\u001b[0m\n\u001b[1;32m    111\u001b[0m sess \u001b[39m=\u001b[39m tf\u001b[39m.\u001b[39mcompat\u001b[39m.\u001b[39mv1\u001b[39m.\u001b[39mSession()\n\u001b[1;32m    113\u001b[0m castnet \u001b[39m=\u001b[39m hughes_castnet_model\u001b[39m.\u001b[39mCASTNet(sess \u001b[39m=\u001b[39m sess, conf \u001b[39m=\u001b[39m conf)\n\u001b[0;32m--> 114\u001b[0m castnet\u001b[39m.\u001b[39;49mtrain(train_dynamic_local, train_dynamic_global, train_static, train_sample_indices, train_dist, train_y, valid_dynamic_local, valid_dynamic_global, valid_static, valid_sample_indices, valid_dist, valid_y, test_dynamic_local, test_dynamic_global, test_static, test_sample_indices, test_dist, test_y)\n\u001b[1;32m    117\u001b[0m castnet\u001b[39m.\u001b[39msave_results()\n",
      "File \u001b[0;32m~/Desktop/Python/github_hughes/opioid-overdose-models/CASTNet/hughes-CASTNet/hughes_castnet_model.py:337\u001b[0m, in \u001b[0;36mCASTNet.train\u001b[0;34m(self, train_dynamic_local, train_dynamic_global, train_static, train_sample_indices, train_dist, train_y, valid_dynamic_local, valid_dynamic_global, valid_static, valid_sample_indices, valid_dist, valid_y, test_dynamic_local, test_dynamic_global, test_static, test_sample_indices, test_dist, test_y)\u001b[0m\n\u001b[1;32m    334\u001b[0m batch_idx \u001b[39m+\u001b[39m\u001b[39m=\u001b[39m \u001b[39m1\u001b[39m\n\u001b[1;32m    336\u001b[0m batch_train_dynamic_local \u001b[39m=\u001b[39m train_dynamic_local[batch, :, :]\n\u001b[0;32m--> 337\u001b[0m batch_train_dynamic_global \u001b[39m=\u001b[39m train_dynamic_global[batch, :, :, :]\n\u001b[1;32m    338\u001b[0m batch_train_static \u001b[39m=\u001b[39m train_static[batch]\n\u001b[1;32m    339\u001b[0m batch_train_sample_indices \u001b[39m=\u001b[39m train_sample_indices[batch]\n",
      "\u001b[0;31mKeyboardInterrupt\u001b[0m: "
     ]
    }
   ],
   "source": [
    "import hughes_castnet_main"
   ]
  },
  {
   "cell_type": "code",
   "execution_count": 4,
   "id": "3291eb39",
   "metadata": {},
   "outputs": [
    {
     "ename": "NameError",
     "evalue": "name 'hughes_castnet_main' is not defined",
     "output_type": "error",
     "traceback": [
      "\u001b[0;31m---------------------------------------------------------------------------\u001b[0m",
      "\u001b[0;31mNameError\u001b[0m                                 Traceback (most recent call last)",
      "Cell \u001b[0;32mIn[4], line 1\u001b[0m\n\u001b[0;32m----> 1\u001b[0m hughes_castnet_main\u001b[39m.\u001b[39mcastnet\u001b[39m.\u001b[39mresults[\u001b[39m'\u001b[39m\u001b[39mloss\u001b[39m\u001b[39m'\u001b[39m]\n",
      "\u001b[0;31mNameError\u001b[0m: name 'hughes_castnet_main' is not defined"
     ]
    }
   ],
   "source": [
    "hughes_castnet_main.castnet.results['loss']"
   ]
  },
  {
   "cell_type": "code",
   "execution_count": null,
   "id": "3c06e626",
   "metadata": {},
   "outputs": [],
   "source": []
  }
 ],
 "metadata": {
  "kernelspec": {
   "display_name": "Python 3 (ipykernel)",
   "language": "python",
   "name": "python3"
  },
  "language_info": {
   "codemirror_mode": {
    "name": "ipython",
    "version": 3
   },
   "file_extension": ".py",
   "mimetype": "text/x-python",
   "name": "python",
   "nbconvert_exporter": "python",
   "pygments_lexer": "ipython3",
   "version": "3.9.6"
  }
 },
 "nbformat": 4,
 "nbformat_minor": 5
}
