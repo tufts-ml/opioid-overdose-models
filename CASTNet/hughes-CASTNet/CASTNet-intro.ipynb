{
 "cells": [
  {
   "cell_type": "code",
   "execution_count": 1,
   "id": "3fc4d9cc",
   "metadata": {},
   "outputs": [],
   "source": [
    "import os\n",
    "os.environ['TF_CPP_MIN_LOG_LEVEL']='2'\n",
    "import numpy as np\n",
    "np.random.seed(401)\n",
    "import tensorflow as tf\n",
    "tf.random.set_seed(401)\n",
    "from sklearn.metrics import confusion_matrix, precision_score, recall_score, auc, roc_curve, roc_auc_score, f1_score\n",
    "\n",
    "import hughes_data \n",
    "import argparse \n",
    "import pickle\n",
    "import math\n",
    "\n",
    "import random\n",
    "random.seed(401)\n"
   ]
  },
  {
   "cell_type": "code",
   "execution_count": 2,
   "id": "25dbeafc",
   "metadata": {},
   "outputs": [
    {
     "name": "stdout",
     "output_type": "stream",
     "text": [
      "num_train_years: 6\n",
      "window_size: 3\n",
      "lead_time: 1\n",
      "Difference (num_train_years - (window_size + lead_time - 1)): 3\n",
      "window_size: 3 lead_time: 1 time_unit: 1 train_ratio: 0.75 test_ratio: 0.15 group_lasso: True gl_reg_coef: 0.0025 orthogonal_loss_coef: 0.01 num_spatial_heads: 4\n",
      "train_svi_global: (3984, 3, 1328, 6) train_svi_local: (3984, 3, 6) train_static: (3984, 2) train_dist: (3984, 1328) train_y: (3984,)\n",
      "valid_svi_global: (1328, 3, 1328, 6) valid_svi_local: (1328, 3, 6) valid_static: (1328, 2) valid_dist: (1328, 1328) valid_y: (1328,)\n",
      "test_svi_global: (1328, 3, 1328, 6) test_svi_local: (1328, 3, 6) test_static: (1328, 2) test_dist: (1328, 1328) test_y: (1328,)\n",
      "WARNING:tensorflow:From /Users/jyontika/Desktop/Python/github_hughes/opioid-overdose-models/CASTNet/hughes-CASTNet/hughes_castnet_model.py:199: static_rnn (from tensorflow.python.ops.rnn) is deprecated and will be removed in a future version.\n",
      "Instructions for updating:\n",
      "Please use `keras.layers.RNN(cell, unroll=True)`, which is equivalent to this API\n"
     ]
    },
    {
     "name": "stderr",
     "output_type": "stream",
     "text": [
      "/Users/jyontika/Desktop/Python/github_hughes/opioid-overdose-models/CASTNet/hughes-CASTNet/hughes_castnet_model.py:70: UserWarning: `tf.nn.rnn_cell.BasicLSTMCell` is deprecated and will be removed in a future version. This class is equivalent as `tf.keras.layers.LSTMCell`, and will be replaced by that in Tensorflow 2.0.\n",
      "  self.local_lstm_cell = tf.compat.v1.nn.rnn_cell.BasicLSTMCell(self.HIDDEN_LAYER_SIZE)\n",
      "/Users/jyontika/Desktop/Python/github_hughes/opioid-overdose-models/CASTNet/hughes-CASTNet/hughes_castnet_model.py:89: UserWarning: `tf.nn.rnn_cell.BasicLSTMCell` is deprecated and will be removed in a future version. This class is equivalent as `tf.keras.layers.LSTMCell`, and will be replaced by that in Tensorflow 2.0.\n",
      "  global_lstm_cell = tf.compat.v1.nn.rnn_cell.BasicLSTMCell(self.HIDDEN_LAYER_SIZE)\n"
     ]
    },
    {
     "name": "stdout",
     "output_type": "stream",
     "text": [
      "WARNING:tensorflow:From /Users/jyontika/Library/Python/3.9/lib/python/site-packages/keras/src/layers/rnn/legacy_cells.py:793: calling Zeros.__init__ (from tensorflow.python.ops.init_ops) with dtype is deprecated and will be removed in a future version.\n",
      "Instructions for updating:\n",
      "Call initializer instance with the dtype argument instead of passing it to the constructor\n",
      "3984\n"
     ]
    },
    {
     "ename": "TypeError",
     "evalue": "object of type 'int' has no len()",
     "output_type": "error",
     "traceback": [
      "\u001b[0;31m---------------------------------------------------------------------------\u001b[0m",
      "\u001b[0;31mTypeError\u001b[0m                                 Traceback (most recent call last)",
      "Cell \u001b[0;32mIn[2], line 1\u001b[0m\n\u001b[0;32m----> 1\u001b[0m \u001b[39mimport\u001b[39;00m \u001b[39mhughes_castnet_main\u001b[39;00m\n",
      "File \u001b[0;32m~/Desktop/Python/github_hughes/opioid-overdose-models/CASTNet/hughes-CASTNet/hughes_castnet_main.py:114\u001b[0m\n\u001b[1;32m    111\u001b[0m sess \u001b[39m=\u001b[39m tf\u001b[39m.\u001b[39mcompat\u001b[39m.\u001b[39mv1\u001b[39m.\u001b[39mSession()\n\u001b[1;32m    113\u001b[0m castnet \u001b[39m=\u001b[39m hughes_castnet_model\u001b[39m.\u001b[39mCASTNet(sess \u001b[39m=\u001b[39m sess, conf \u001b[39m=\u001b[39m conf)\n\u001b[0;32m--> 114\u001b[0m castnet\u001b[39m.\u001b[39;49mtrain(train_svi_local, train_svi_global, train_static, train_sample_indices, train_dist, train_y, valid_svi_local, valid_svi_global, valid_static, valid_sample_indices, valid_dist, valid_y, test_svi_local, test_svi_global, test_static, test_sample_indices, test_dist, test_y)\n\u001b[1;32m    116\u001b[0m model_save_path \u001b[39m=\u001b[39m \u001b[39m\"\u001b[39m\u001b[39m/Users/jyontika/Desktop/Python/github_hughes/opioid-overdose-models/CASTNet/hughes-CASTNet/Results\u001b[39m\u001b[39m\"\u001b[39m\n\u001b[1;32m    117\u001b[0m castnet\u001b[39m.\u001b[39msave(model_save_path)\n",
      "File \u001b[0;32m~/Desktop/Python/github_hughes/opioid-overdose-models/CASTNet/hughes-CASTNet/hughes_castnet_model.py:334\u001b[0m, in \u001b[0;36mCASTNet.train\u001b[0;34m(self, train_svi_local, train_svi_global, train_static, train_sample_indices, train_dist, train_y, valid_svi_local, valid_svi_global, valid_static, valid_sample_indices, valid_dist, valid_y, test_svi_local, test_svi_global, test_static, test_sample_indices, test_dist, test_y)\u001b[0m\n\u001b[1;32m    331\u001b[0m epoch_orthogonal_loss \u001b[39m=\u001b[39m \u001b[39m0.\u001b[39m\n\u001b[1;32m    333\u001b[0m idx \u001b[39m=\u001b[39m \u001b[39m0\u001b[39m\n\u001b[0;32m--> 334\u001b[0m \u001b[39mfor\u001b[39;00m idx \u001b[39min\u001b[39;00m \u001b[39mrange\u001b[39m(\u001b[39mlen\u001b[39;49m(locations)\u001b[39m+\u001b[39m\u001b[39m1\u001b[39m):\n\u001b[1;32m    336\u001b[0m     idx \u001b[39m+\u001b[39m\u001b[39m=\u001b[39m \u001b[39m1\u001b[39m\n\u001b[1;32m    338\u001b[0m     feed_dict \u001b[39m=\u001b[39m {\n\u001b[1;32m    339\u001b[0m                 \u001b[39mself\u001b[39m\u001b[39m.\u001b[39msvi_input_local: train_svi_local,\n\u001b[1;32m    340\u001b[0m                 \u001b[39mself\u001b[39m\u001b[39m.\u001b[39msvi_input_global: train_svi_global,\n\u001b[0;32m   (...)\u001b[0m\n\u001b[1;32m    345\u001b[0m                 \u001b[39mself\u001b[39m\u001b[39m.\u001b[39mkeep_prob: \u001b[39mself\u001b[39m\u001b[39m.\u001b[39mRNN_DROPOUT\n\u001b[1;32m    346\u001b[0m                 }\n",
      "\u001b[0;31mTypeError\u001b[0m: object of type 'int' has no len()"
     ]
    }
   ],
   "source": [
    "import hughes_castnet_main\n",
    "#why is locations 3984"
   ]
  },
  {
   "cell_type": "code",
   "execution_count": null,
   "id": "46e05c56",
   "metadata": {},
   "outputs": [
    {
     "name": "stdout",
     "output_type": "stream",
     "text": [
      "Mean: 0.7193264961242676\n",
      "Median: 0.7255375981330872\n",
      "Minimum value: 0.5683437585830688\n",
      "Maximum value: 0.8757677674293518\n"
     ]
    }
   ],
   "source": [
    "predictions = hughes_castnet_main.predictions\n",
    "len(predictions) \n",
    "\n",
    "mean_value = np.mean(predictions)\n",
    "median_value = np.median(predictions)\n",
    "\n",
    "print(f\"Mean: {mean_value}\")\n",
    "print(f\"Median: {median_value}\")\n",
    "\n",
    "min_value = min(predictions)\n",
    "max_value = max(predictions)\n",
    "\n",
    "print(f\"Minimum value: {min_value}\")\n",
    "print(f\"Maximum value: {max_value}\")\n",
    "\n",
    "#look at paper - are they using model that obeys constraint of non-negative \n",
    "# did they say they would fix neg values pre-processing (ie, -3 --> 0)"
   ]
  },
  {
   "cell_type": "code",
   "execution_count": null,
   "id": "edacb7fd",
   "metadata": {},
   "outputs": [
    {
     "data": {
      "image/png": "[encoded data removed]",
      "text/plain": [
       "<Figure size 640x480 with 1 Axes>"
      ]
     },
     "metadata": {},
     "output_type": "display_data"
    }
   ],
   "source": [
    "import matplotlib.pyplot as plt\n",
    "loss_values = hughes_castnet_main.castnet.results['loss']\n",
    "\n",
    "iterations = range(1, len(loss_values) + 1)\n",
    "\n",
    "plt.plot(iterations, loss_values)\n",
    "plt.xlabel('Iterations')\n",
    "plt.ylabel('Loss')\n",
    "plt.title('Loss over Iterations')\n",
    "plt.show()\n",
    "\n",
    "#look into how they make batches, could we remove any batching and redefine it so it is always loading full dataset.\n",
    "\n"
   ]
  },
  {
   "cell_type": "code",
   "execution_count": null,
   "id": "db0732ea",
   "metadata": {},
   "outputs": [],
   "source": [
    "results_path = '/Users/jyontika/Desktop/Python/github_hughes/opioid-overdose-models/CASTNet/hughes-CASTNet/Results/Chicago_test_time_False.pkl'\n",
    "\n",
    "with open(results_path, 'rb') as file:\n",
    "    results = pickle.load(file, encoding='bytes')"
   ]
  },
  {
   "cell_type": "code",
   "execution_count": null,
   "id": "a8f619c5",
   "metadata": {},
   "outputs": [],
   "source": [
    "#results"
   ]
  },
  {
   "cell_type": "code",
   "execution_count": null,
   "id": "74223df3",
   "metadata": {},
   "outputs": [],
   "source": []
  }
 ],
 "metadata": {
  "kernelspec": {
   "display_name": "Python 3 (ipykernel)",
   "language": "python",
   "name": "python3"
  },
  "language_info": {
   "codemirror_mode": {
    "name": "ipython",
    "version": 3
   },
   "file_extension": ".py",
   "mimetype": "text/x-python",
   "name": "python",
   "nbconvert_exporter": "python",
   "pygments_lexer": "ipython3",
   "version": "3.9.6"
  }
 },
 "nbformat": 4,
 "nbformat_minor": 5
}
