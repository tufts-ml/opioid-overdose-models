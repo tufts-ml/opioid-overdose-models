{
 "cells": [
  {
   "cell_type": "code",
   "execution_count": 1,
   "id": "3fc4d9cc",
   "metadata": {},
   "outputs": [],
   "source": [
    "import os\n",
    "os.environ['TF_CPP_MIN_LOG_LEVEL']='2'\n",
    "import numpy as np\n",
    "np.random.seed(401)\n",
    "import tensorflow as tf\n",
    "tf.random.set_seed(401)\n",
    "from sklearn.metrics import confusion_matrix, precision_score, recall_score, auc, roc_curve, roc_auc_score, f1_score"
   ]
  },
  {
   "cell_type": "code",
   "execution_count": 2,
   "id": "22b87733",
   "metadata": {},
   "outputs": [],
   "source": [
    "import hughes_data \n",
    "import argparse\n",
    "import pickle\n",
    "import math\n",
    "\n",
    "import random\n",
    "random.seed(401)\n"
   ]
  },
  {
   "cell_type": "code",
   "execution_count": 3,
   "id": "25dbeafc",
   "metadata": {},
   "outputs": [
    {
     "name": "stdout",
     "output_type": "stream",
     "text": [
      "window_size: 10 lead_time: 1 time_unit: 7 train_ratio: 0.75 test_ratio: 0.15 group_lasso: True gl_reg_coef: 0.0025 orthogonal_loss_coef: 0.01 num_spatial_heads: 4\n",
      "train_static: (5170, 9) train_dist: (5170, 47) train_y: (5170,)\n",
      "valid_static: (752, 9) valid_dist: (752, 47) valid_y: (752,)\n",
      "test_static: (1128, 9) test_dist: (1128, 47) test_y: (1128,)\n"
     ]
    },
    {
     "ename": "IndexError",
     "evalue": "tuple index out of range",
     "output_type": "error",
     "traceback": [
      "\u001b[0;31m---------------------------------------------------------------------------\u001b[0m",
      "\u001b[0;31mIndexError\u001b[0m                                Traceback (most recent call last)",
      "Cell \u001b[0;32mIn[3], line 1\u001b[0m\n\u001b[0;32m----> 1\u001b[0m \u001b[38;5;28;01mimport\u001b[39;00m \u001b[38;5;21;01mhughes_castnet_main\u001b[39;00m\n",
      "File \u001b[0;32m~/Desktop/Python/Hughes Lab - DIAMONDS/Opioid-Project/Hughes-Opioid-Version/hughes_castnet_main.py:102\u001b[0m\n\u001b[1;32m     97\u001b[0m \u001b[38;5;66;03m#temporal_feature_size = train_crime_global.shape[-1]\u001b[39;00m\n\u001b[1;32m     98\u001b[0m \u001b[38;5;66;03m#no_locations = train_crime_global.shape[2]\u001b[39;00m\n\u001b[1;32m    101\u001b[0m temporal_feature_size \u001b[38;5;241m=\u001b[39m train_static\u001b[38;5;241m.\u001b[39mshape[\u001b[38;5;241m-\u001b[39m\u001b[38;5;241m1\u001b[39m]\n\u001b[0;32m--> 102\u001b[0m no_locations \u001b[38;5;241m=\u001b[39m \u001b[43mtrain_static\u001b[49m\u001b[38;5;241;43m.\u001b[39;49m\u001b[43mshape\u001b[49m\u001b[43m[\u001b[49m\u001b[38;5;241;43m2\u001b[39;49m\u001b[43m]\u001b[49m\n\u001b[1;32m    103\u001b[0m static_feature_size \u001b[38;5;241m=\u001b[39m train_static\u001b[38;5;241m.\u001b[39mshape[\u001b[38;5;241m1\u001b[39m]\n\u001b[1;32m    105\u001b[0m conf\u001b[38;5;241m.\u001b[39mtemporal_feature_size \u001b[38;5;241m=\u001b[39m temporal_feature_size\n",
      "\u001b[0;31mIndexError\u001b[0m: tuple index out of range"
     ]
    }
   ],
   "source": [
    "import hughes_castnet_main"
   ]
  },
  {
   "cell_type": "code",
   "execution_count": null,
   "id": "14f1e12a",
   "metadata": {},
   "outputs": [],
   "source": []
  }
 ],
 "metadata": {
  "kernelspec": {
   "display_name": "Python 3 (ipykernel)",
   "language": "python",
   "name": "python3"
  },
  "language_info": {
   "codemirror_mode": {
    "name": "ipython",
    "version": 3
   },
   "file_extension": ".py",
   "mimetype": "text/x-python",
   "name": "python",
   "nbconvert_exporter": "python",
   "pygments_lexer": "ipython3",
   "version": "3.10.9"
  }
 },
 "nbformat": 4,
 "nbformat_minor": 5
}
