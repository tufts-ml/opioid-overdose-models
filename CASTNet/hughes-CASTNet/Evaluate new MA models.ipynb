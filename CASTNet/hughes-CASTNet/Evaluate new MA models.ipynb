{
 "cells": [
  {
   "cell_type": "code",
   "execution_count": 1,
   "id": "2b18425a",
   "metadata": {},
   "outputs": [],
   "source": [
    "import os\n",
    "import pickle\n",
    "import pandas as pd\n",
    "import numpy as np"
   ]
  },
  {
   "cell_type": "code",
   "execution_count": 6,
   "id": "98e78ac0",
   "metadata": {},
   "outputs": [],
   "source": [
    "data_dir = os.environ.get('DATA_DIR', '/cluster/home/kheuto01/code/opioid-overdose-models/CASTNet/hughes-CASTNet/')\n"
   ]
  },
  {
   "cell_type": "markdown",
   "id": "4116808e",
   "metadata": {},
   "source": [
    "MA"
   ]
  },
  {
   "cell_type": "code",
   "execution_count": 37,
   "id": "0dfdd208",
   "metadata": {},
   "outputs": [],
   "source": [
    "#import CASTNet Results\n",
    "results_path_1 = os.path.join(data_dir, 'Results/MA_lead_time1.pkl')\n",
    "results_path_2 = os.path.join(data_dir, 'Results/MA_lead_time2.pkl')\n",
    "\n",
    "with open(results_path_1, 'rb') as file:\n",
    "    MA_results_lead_1 = pickle.load(file, encoding='bytes')\n",
    "\n",
    "with open(results_path_2, 'rb') as file:\n",
    "    MA_results_lead_2 = pickle.load(file, encoding='bytes')"
   ]
  },
  {
   "cell_type": "code",
   "execution_count": 38,
   "id": "68f9cd27",
   "metadata": {},
   "outputs": [],
   "source": [
    "MA_all_predictions_1 = MA_results_lead_1['preds']\n",
    "MA_prediction_matrix_1 = np.array(MA_all_predictions_1)\n",
    "MA_prediction_matrix_1 = np.maximum(MA_prediction_matrix_1, 0) #turn all negative values to 0\n",
    "MA_prediction_lead_1 = MA_prediction_matrix_1[-1, :1620]\n",
    "\n"
   ]
  },
  {
   "cell_type": "code",
   "execution_count": 39,
   "id": "fe845f3f",
   "metadata": {},
   "outputs": [],
   "source": [
    "MA_all_predictions_2 = MA_results_lead_2['preds']\n",
    "MA_prediction_matrix_2 = np.array(MA_all_predictions_2)\n",
    "MA_prediction_matrix_2 = np.maximum(MA_prediction_matrix_2, 0) #turn all negative values to 0\n",
    "MA_prediction_lead_2 = MA_prediction_matrix_2[-1, 1620:]"
   ]
  },
  {
   "cell_type": "code",
   "execution_count": 17,
   "id": "3cdfaef8",
   "metadata": {},
   "outputs": [],
   "source": [
    "locations_path = os.path.join(data_dir, 'Data/MA/locations.txt')\n",
    "MA_locations = []\n",
    "with open(locations_path, 'rb') as file:\n",
    "    for line in file:\n",
    "        line = line.rstrip().decode(\"utf-8\").split(\"\\t\")\n",
    "        MA_locations.append(line[1])"
   ]
  },
  {
   "cell_type": "code",
   "execution_count": 19,
   "id": "d6cebf21",
   "metadata": {},
   "outputs": [],
   "source": [
    "# Create a DataFrame for prediction_lead_1\n",
    "df_ma_prediction_lead_1 = pd.DataFrame({\n",
    "    'geoid': MA_locations,\n",
    "    'prediction': MA_prediction_lead_1,  \n",
    "    'year': '2020'\n",
    "})\n",
    "\n",
    "# Create a DataFrame for prediction_lead_2\n",
    "df_ma_prediction_lead_2 = pd.DataFrame({\n",
    "    'geoid': MA_locations,\n",
    "    'prediction': MA_prediction_lead_2,  \n",
    "    'year': '2021'\n",
    "})\n",
    "\n",
    "# combine\n",
    "MA_combined_df = pd.concat([df_ma_prediction_lead_1, df_ma_prediction_lead_2])"
   ]
  },
  {
   "cell_type": "code",
   "execution_count": 20,
   "id": "fc2e2601",
   "metadata": {},
   "outputs": [],
   "source": [
    "csv_filename = \"Results/MA-predictions.csv\"\n",
    "csv_filepath = os.path.join(data_dir, csv_filename)\n",
    "\n",
    "MA_combined_df.to_csv(csv_filepath, index=False)"
   ]
  },
  {
   "cell_type": "code",
   "execution_count": 22,
   "id": "12470602",
   "metadata": {},
   "outputs": [
    {
     "data": {
      "text/plain": [
       "(204, 3240)"
      ]
     },
     "execution_count": 22,
     "metadata": {},
     "output_type": "execute_result"
    }
   ],
   "source": [
    "MA_prediction_matrix_1.shape"
   ]
  },
  {
   "cell_type": "code",
   "execution_count": 24,
   "id": "21f41895",
   "metadata": {},
   "outputs": [
    {
     "data": {
      "text/plain": [
       "(204, 3240)"
      ]
     },
     "execution_count": 24,
     "metadata": {},
     "output_type": "execute_result"
    }
   ],
   "source": [
    "MA_prediction_matrix_2.shape"
   ]
  },
  {
   "cell_type": "code",
   "execution_count": 25,
   "id": "35339ce2",
   "metadata": {},
   "outputs": [
    {
     "data": {
      "text/plain": [
       "(1620,)"
      ]
     },
     "execution_count": 25,
     "metadata": {},
     "output_type": "execute_result"
    }
   ],
   "source": [
    "MA_prediction_lead_1.shape"
   ]
  },
  {
   "cell_type": "code",
   "execution_count": 26,
   "id": "3f8760d6",
   "metadata": {},
   "outputs": [
    {
     "data": {
      "text/plain": [
       "['1620', '25027761402']"
      ]
     },
     "execution_count": 26,
     "metadata": {},
     "output_type": "execute_result"
    }
   ],
   "source": [
    "line"
   ]
  },
  {
   "cell_type": "code",
   "execution_count": 31,
   "id": "dc395359",
   "metadata": {},
   "outputs": [
    {
     "data": {
      "text/plain": [
       "array([0.5458503 , 0.59055394, 1.2247076 , 1.3222255 , 0.86174357,\n",
       "       0.7006405 , 0.7406938 , 0.79239345, 0.98781914, 0.99890316],\n",
       "      dtype=float32)"
      ]
     },
     "execution_count": 31,
     "metadata": {},
     "output_type": "execute_result"
    }
   ],
   "source": [
    "MA_results_lead_2['preds'][0][:10]"
   ]
  },
  {
   "cell_type": "code",
   "execution_count": 36,
   "id": "988001b1",
   "metadata": {},
   "outputs": [
    {
     "data": {
      "text/plain": [
       "array([1.3272316 , 1.2922697 , 1.2885547 , 1.2759686 , 0.10297078,\n",
       "       0.08444256, 1.2147532 , 1.1784105 , 0.15134788, 0.15701866],\n",
       "      dtype=float32)"
      ]
     },
     "execution_count": 36,
     "metadata": {},
     "output_type": "execute_result"
    }
   ],
   "source": [
    "MA_results_lead_2['preds'][-1][:10]"
   ]
  },
  {
   "cell_type": "code",
   "execution_count": null,
   "id": "ff6062b8",
   "metadata": {},
   "outputs": [],
   "source": []
  }
 ],
 "metadata": {
  "kernelspec": {
   "display_name": "Python 3 (ipykernel)",
   "language": "python",
   "name": "python3"
  },
  "language_info": {
   "codemirror_mode": {
    "name": "ipython",
    "version": 3
   },
   "file_extension": ".py",
   "mimetype": "text/x-python",
   "name": "python",
   "nbconvert_exporter": "python",
   "pygments_lexer": "ipython3",
   "version": "3.8.17"
  }
 },
 "nbformat": 4,
 "nbformat_minor": 5
}
