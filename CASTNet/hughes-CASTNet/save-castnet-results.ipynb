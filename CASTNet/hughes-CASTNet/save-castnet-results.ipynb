{
 "cells": [
  {
   "cell_type": "code",
   "execution_count": 1,
   "metadata": {},
   "outputs": [],
   "source": [
    "import os\n",
    "import pickle\n",
    "import pandas as pd\n",
    "import numpy as np"
   ]
  },
  {
   "cell_type": "markdown",
   "metadata": {},
   "source": [
    "### Cook County"
   ]
  },
  {
   "cell_type": "code",
   "execution_count": 2,
   "metadata": {},
   "outputs": [],
   "source": [
    "#import CASTNet Results\n",
    "data_dir = os.environ.get('DATA_DIR', '/Users/jyontika/Desktop/opioid-overdose-models/CASTNet/hughes-CASTNet/')\n",
    "\n",
    "results_path_1 = os.path.join(data_dir, 'Results/Chicago_lead_time1.pkl')\n",
    "results_path_2 = os.path.join(data_dir, 'Results/Chicago_lead_time2.pkl')\n",
    "\n",
    "with open(results_path_1, 'rb') as file:\n",
    "    results_lead_1 = pickle.load(file, encoding='bytes')\n",
    "\n",
    "with open(results_path_2, 'rb') as file:\n",
    "    results_lead_2 = pickle.load(file, encoding='bytes')"
   ]
  },
  {
   "cell_type": "code",
   "execution_count": 3,
   "metadata": {},
   "outputs": [],
   "source": [
    "all_predictions_1 = results_lead_1['preds']\n",
    "prediction_matrix_1 = np.array(all_predictions_1)\n",
    "prediction_matrix_1 = np.maximum(prediction_matrix_1, 0) #turn all negative values to 0\n",
    "prediction_lead_1 = prediction_matrix_1[-1, :]\n"
   ]
  },
  {
   "cell_type": "code",
   "execution_count": 4,
   "metadata": {},
   "outputs": [
    {
     "data": {
      "text/plain": [
       "1328"
      ]
     },
     "execution_count": 4,
     "metadata": {},
     "output_type": "execute_result"
    }
   ],
   "source": [
    "len(prediction_lead_1)"
   ]
  },
  {
   "cell_type": "code",
   "execution_count": 5,
   "metadata": {},
   "outputs": [],
   "source": [
    "all_predictions_2 = results_lead_2['preds']\n",
    "prediction_matrix_2 = np.array(all_predictions_2)\n",
    "prediction_matrix_2 = np.maximum(prediction_matrix_2, 0) #turn all negative values to 0\n",
    "prediction_lead_2 = prediction_matrix_2[-1, :]\n"
   ]
  },
  {
   "cell_type": "code",
   "execution_count": 12,
   "metadata": {},
   "outputs": [],
   "source": [
    "locations_path = os.path.join(data_dir, 'Data/Chicago/locations.txt')\n",
    "locations = []\n",
    "with open(locations_path, 'rb') as file:\n",
    "    for line in file:\n",
    "        line = line.rstrip().decode(\"utf-8\").split(\"\\t\")\n",
    "        locations.append(line[1])"
   ]
  },
  {
   "cell_type": "code",
   "execution_count": 13,
   "metadata": {},
   "outputs": [],
   "source": [
    "# Create a DataFrame for prediction_lead_1\n",
    "df_prediction_lead_1 = pd.DataFrame({\n",
    "    'geoid': locations,\n",
    "    'prediction': prediction_lead_1,  \n",
    "    'year': '2021'\n",
    "})\n",
    "\n",
    "# Create a DataFrame for prediction_lead_2\n",
    "df_prediction_lead_2 = pd.DataFrame({\n",
    "    'geoid': locations,\n",
    "    'prediction': prediction_lead_2,  \n",
    "    'year': '2022'\n",
    "})\n",
    "\n",
    "# combine\n",
    "combined_df = pd.concat([df_prediction_lead_1, df_prediction_lead_2])\n",
    "\n"
   ]
  },
  {
   "cell_type": "code",
   "execution_count": 14,
   "metadata": {},
   "outputs": [
    {
     "data": {
      "text/html": [
       "<div>\n",
       "<style scoped>\n",
       "    .dataframe tbody tr th:only-of-type {\n",
       "        vertical-align: middle;\n",
       "    }\n",
       "\n",
       "    .dataframe tbody tr th {\n",
       "        vertical-align: top;\n",
       "    }\n",
       "\n",
       "    .dataframe thead th {\n",
       "        text-align: right;\n",
       "    }\n",
       "</style>\n",
       "<table border=\"1\" class=\"dataframe\">\n",
       "  <thead>\n",
       "    <tr style=\"text-align: right;\">\n",
       "      <th></th>\n",
       "      <th>geoid</th>\n",
       "      <th>prediction</th>\n",
       "      <th>year</th>\n",
       "    </tr>\n",
       "  </thead>\n",
       "  <tbody>\n",
       "    <tr>\n",
       "      <th>0</th>\n",
       "      <td>17031010100</td>\n",
       "      <td>3.043193</td>\n",
       "      <td>2021</td>\n",
       "    </tr>\n",
       "    <tr>\n",
       "      <th>1</th>\n",
       "      <td>17031010201</td>\n",
       "      <td>2.444749</td>\n",
       "      <td>2021</td>\n",
       "    </tr>\n",
       "    <tr>\n",
       "      <th>2</th>\n",
       "      <td>17031010202</td>\n",
       "      <td>3.365390</td>\n",
       "      <td>2021</td>\n",
       "    </tr>\n",
       "    <tr>\n",
       "      <th>3</th>\n",
       "      <td>17031010300</td>\n",
       "      <td>0.759657</td>\n",
       "      <td>2021</td>\n",
       "    </tr>\n",
       "    <tr>\n",
       "      <th>4</th>\n",
       "      <td>17031010400</td>\n",
       "      <td>0.736677</td>\n",
       "      <td>2021</td>\n",
       "    </tr>\n",
       "    <tr>\n",
       "      <th>...</th>\n",
       "      <td>...</td>\n",
       "      <td>...</td>\n",
       "      <td>...</td>\n",
       "    </tr>\n",
       "    <tr>\n",
       "      <th>1323</th>\n",
       "      <td>17031843700</td>\n",
       "      <td>0.000000</td>\n",
       "      <td>2022</td>\n",
       "    </tr>\n",
       "    <tr>\n",
       "      <th>1324</th>\n",
       "      <td>17031843800</td>\n",
       "      <td>1.690513</td>\n",
       "      <td>2022</td>\n",
       "    </tr>\n",
       "    <tr>\n",
       "      <th>1325</th>\n",
       "      <td>17031843900</td>\n",
       "      <td>0.704737</td>\n",
       "      <td>2022</td>\n",
       "    </tr>\n",
       "    <tr>\n",
       "      <th>1326</th>\n",
       "      <td>17031844600</td>\n",
       "      <td>0.590481</td>\n",
       "      <td>2022</td>\n",
       "    </tr>\n",
       "    <tr>\n",
       "      <th>1327</th>\n",
       "      <td>17031844700</td>\n",
       "      <td>5.906558</td>\n",
       "      <td>2022</td>\n",
       "    </tr>\n",
       "  </tbody>\n",
       "</table>\n",
       "<p>2656 rows × 3 columns</p>\n",
       "</div>"
      ],
      "text/plain": [
       "            geoid  prediction  year\n",
       "0     17031010100    3.043193  2021\n",
       "1     17031010201    2.444749  2021\n",
       "2     17031010202    3.365390  2021\n",
       "3     17031010300    0.759657  2021\n",
       "4     17031010400    0.736677  2021\n",
       "...           ...         ...   ...\n",
       "1323  17031843700    0.000000  2022\n",
       "1324  17031843800    1.690513  2022\n",
       "1325  17031843900    0.704737  2022\n",
       "1326  17031844600    0.590481  2022\n",
       "1327  17031844700    5.906558  2022\n",
       "\n",
       "[2656 rows x 3 columns]"
      ]
     },
     "execution_count": 14,
     "metadata": {},
     "output_type": "execute_result"
    }
   ],
   "source": [
    "combined_df"
   ]
  },
  {
   "cell_type": "code",
   "execution_count": 15,
   "metadata": {},
   "outputs": [],
   "source": [
    "csv_filename = \"Results/cook-county-predictions.csv\"\n",
    "csv_filepath = os.path.join(data_dir, csv_filename)\n",
    "\n",
    "combined_df.to_csv(csv_filepath, index=False)\n"
   ]
  },
  {
   "cell_type": "markdown",
   "metadata": {},
   "source": [
    "### MA"
   ]
  },
  {
   "cell_type": "code",
   "execution_count": 16,
   "metadata": {},
   "outputs": [],
   "source": [
    "#import CASTNet Results\n",
    "results_path_1 = os.path.join(data_dir, 'Results/MA_lead_time1.pkl')\n",
    "results_path_2 = os.path.join(data_dir, 'Results/MA_lead_time2.pkl')\n",
    "\n",
    "with open(results_path_1, 'rb') as file:\n",
    "    MA_results_lead_1 = pickle.load(file, encoding='bytes')\n",
    "\n",
    "with open(results_path_2, 'rb') as file:\n",
    "    MA_results_lead_2 = pickle.load(file, encoding='bytes')"
   ]
  },
  {
   "cell_type": "code",
   "execution_count": 17,
   "metadata": {},
   "outputs": [],
   "source": [
    "MA_all_predictions_1 = MA_results_lead_1['preds']\n",
    "MA_prediction_matrix_1 = np.array(MA_all_predictions_1)\n",
    "MA_prediction_matrix_1 = np.maximum(MA_prediction_matrix_1, 0) #turn all negative values to 0\n",
    "MA_prediction_lead_1 = MA_prediction_matrix_1[-1, :1620]\n",
    "\n"
   ]
  },
  {
   "cell_type": "code",
   "execution_count": 18,
   "metadata": {},
   "outputs": [
    {
     "data": {
      "text/plain": [
       "(1620,)"
      ]
     },
     "execution_count": 18,
     "metadata": {},
     "output_type": "execute_result"
    }
   ],
   "source": [
    "MA_prediction_lead_1.shape"
   ]
  },
  {
   "cell_type": "code",
   "execution_count": 19,
   "metadata": {},
   "outputs": [],
   "source": [
    "MA_all_predictions_2 = MA_results_lead_2['preds']\n",
    "MA_prediction_matrix_2 = np.array(MA_all_predictions_2)\n",
    "MA_prediction_matrix_2 = np.maximum(MA_prediction_matrix_2, 0) #turn all negative values to 0\n",
    "MA_prediction_lead_2 = MA_prediction_matrix_2[-1, :1620]"
   ]
  },
  {
   "cell_type": "code",
   "execution_count": 20,
   "metadata": {},
   "outputs": [
    {
     "data": {
      "text/plain": [
       "1620"
      ]
     },
     "execution_count": 20,
     "metadata": {},
     "output_type": "execute_result"
    }
   ],
   "source": [
    "len(MA_prediction_lead_2)"
   ]
  },
  {
   "cell_type": "code",
   "execution_count": 21,
   "metadata": {},
   "outputs": [],
   "source": [
    "locations_path = os.path.join(data_dir, 'Data/MA/locations.txt')\n",
    "MA_locations = []\n",
    "with open(locations_path, 'rb') as file:\n",
    "    for line in file:\n",
    "        line = line.rstrip().decode(\"utf-8\").split(\"\\t\")\n",
    "        MA_locations.append(line[1])"
   ]
  },
  {
   "cell_type": "code",
   "execution_count": 22,
   "metadata": {},
   "outputs": [
    {
     "data": {
      "text/plain": [
       "1620"
      ]
     },
     "execution_count": 22,
     "metadata": {},
     "output_type": "execute_result"
    }
   ],
   "source": [
    "len(MA_locations)"
   ]
  },
  {
   "cell_type": "code",
   "execution_count": 23,
   "metadata": {},
   "outputs": [],
   "source": [
    "# Create a DataFrame for prediction_lead_1\n",
    "df_ma_prediction_lead_1 = pd.DataFrame({\n",
    "    'geoid': MA_locations,\n",
    "    'prediction': MA_prediction_lead_1,  \n",
    "    'year': '2019'\n",
    "})\n",
    "\n",
    "# Create a DataFrame for prediction_lead_2\n",
    "df_ma_prediction_lead_2 = pd.DataFrame({\n",
    "    'geoid': MA_locations,\n",
    "    'prediction': MA_prediction_lead_2,  \n",
    "    'year': '2020'\n",
    "})\n",
    "\n",
    "# combine\n",
    "MA_combined_df = pd.concat([df_ma_prediction_lead_1, df_ma_prediction_lead_2])\n",
    "\n"
   ]
  },
  {
   "cell_type": "code",
   "execution_count": 24,
   "metadata": {},
   "outputs": [],
   "source": [
    "csv_filename = \"Results/MA-predictions.csv\"\n",
    "csv_filepath = os.path.join(data_dir, csv_filename)\n",
    "\n",
    "MA_combined_df.to_csv(csv_filepath, index=False)\n"
   ]
  },
  {
   "cell_type": "code",
   "execution_count": 25,
   "metadata": {},
   "outputs": [
    {
     "data": {
      "text/html": [
       "<div>\n",
       "<style scoped>\n",
       "    .dataframe tbody tr th:only-of-type {\n",
       "        vertical-align: middle;\n",
       "    }\n",
       "\n",
       "    .dataframe tbody tr th {\n",
       "        vertical-align: top;\n",
       "    }\n",
       "\n",
       "    .dataframe thead th {\n",
       "        text-align: right;\n",
       "    }\n",
       "</style>\n",
       "<table border=\"1\" class=\"dataframe\">\n",
       "  <thead>\n",
       "    <tr style=\"text-align: right;\">\n",
       "      <th></th>\n",
       "      <th>geoid</th>\n",
       "      <th>prediction</th>\n",
       "      <th>year</th>\n",
       "    </tr>\n",
       "  </thead>\n",
       "  <tbody>\n",
       "    <tr>\n",
       "      <th>0</th>\n",
       "      <td>25001010100</td>\n",
       "      <td>0.000000</td>\n",
       "      <td>2019</td>\n",
       "    </tr>\n",
       "    <tr>\n",
       "      <th>1</th>\n",
       "      <td>25001010206</td>\n",
       "      <td>0.169154</td>\n",
       "      <td>2019</td>\n",
       "    </tr>\n",
       "    <tr>\n",
       "      <th>2</th>\n",
       "      <td>25001010208</td>\n",
       "      <td>0.149021</td>\n",
       "      <td>2019</td>\n",
       "    </tr>\n",
       "    <tr>\n",
       "      <th>3</th>\n",
       "      <td>25001010304</td>\n",
       "      <td>0.000000</td>\n",
       "      <td>2019</td>\n",
       "    </tr>\n",
       "    <tr>\n",
       "      <th>4</th>\n",
       "      <td>25001010306</td>\n",
       "      <td>0.163751</td>\n",
       "      <td>2019</td>\n",
       "    </tr>\n",
       "    <tr>\n",
       "      <th>...</th>\n",
       "      <td>...</td>\n",
       "      <td>...</td>\n",
       "      <td>...</td>\n",
       "    </tr>\n",
       "    <tr>\n",
       "      <th>1615</th>\n",
       "      <td>25027761100</td>\n",
       "      <td>0.991141</td>\n",
       "      <td>2020</td>\n",
       "    </tr>\n",
       "    <tr>\n",
       "      <th>1616</th>\n",
       "      <td>25027761200</td>\n",
       "      <td>2.771724</td>\n",
       "      <td>2020</td>\n",
       "    </tr>\n",
       "    <tr>\n",
       "      <th>1617</th>\n",
       "      <td>25027761300</td>\n",
       "      <td>0.000000</td>\n",
       "      <td>2020</td>\n",
       "    </tr>\n",
       "    <tr>\n",
       "      <th>1618</th>\n",
       "      <td>25027761401</td>\n",
       "      <td>0.913689</td>\n",
       "      <td>2020</td>\n",
       "    </tr>\n",
       "    <tr>\n",
       "      <th>1619</th>\n",
       "      <td>25027761402</td>\n",
       "      <td>1.635234</td>\n",
       "      <td>2020</td>\n",
       "    </tr>\n",
       "  </tbody>\n",
       "</table>\n",
       "<p>3240 rows × 3 columns</p>\n",
       "</div>"
      ],
      "text/plain": [
       "            geoid  prediction  year\n",
       "0     25001010100    0.000000  2019\n",
       "1     25001010206    0.169154  2019\n",
       "2     25001010208    0.149021  2019\n",
       "3     25001010304    0.000000  2019\n",
       "4     25001010306    0.163751  2019\n",
       "...           ...         ...   ...\n",
       "1615  25027761100    0.991141  2020\n",
       "1616  25027761200    2.771724  2020\n",
       "1617  25027761300    0.000000  2020\n",
       "1618  25027761401    0.913689  2020\n",
       "1619  25027761402    1.635234  2020\n",
       "\n",
       "[3240 rows x 3 columns]"
      ]
     },
     "execution_count": 25,
     "metadata": {},
     "output_type": "execute_result"
    }
   ],
   "source": [
    "MA_combined_df"
   ]
  }
 ],
 "metadata": {
  "kernelspec": {
   "display_name": "Python 3 (ipykernel)",
   "language": "python",
   "name": "python3"
  },
  "language_info": {
   "codemirror_mode": {
    "name": "ipython",
    "version": 3
   },
   "file_extension": ".py",
   "mimetype": "text/x-python",
   "name": "python",
   "nbconvert_exporter": "python",
   "pygments_lexer": "ipython3",
   "version": "3.8.17"
  }
 },
 "nbformat": 4,
 "nbformat_minor": 2
}
