{
 "cells": [
  {
   "cell_type": "code",
   "execution_count": 1,
   "id": "3fc4d9cc",
   "metadata": {},
   "outputs": [],
   "source": [
    "import os\n",
    "os.environ['TF_CPP_MIN_LOG_LEVEL']='2'\n",
    "import numpy as np\n",
    "np.random.seed(401)\n",
    "import tensorflow as tf\n",
    "tf.random.set_seed(401)\n",
    "from sklearn.metrics import confusion_matrix, precision_score, recall_score, auc, roc_curve, roc_auc_score, f1_score\n",
    "\n",
    "import hughes_data \n",
    "from CASTNetWrapper import CASTNetWrapper\n",
    "import hughes_castnet_main\n",
    "import argparse \n",
    "import pickle\n",
    "import math\n",
    "\n",
    "import random\n",
    "random.seed(401)\n"
   ]
  },
  {
   "cell_type": "code",
   "execution_count": 2,
   "id": "16f2585f",
   "metadata": {},
   "outputs": [
    {
     "name": "stdout",
     "output_type": "stream",
     "text": [
      "num_train_years: 16\n",
      "window_size: 3\n",
      "lead_time: 2\n",
      "Difference (num_train_years - (window_size + lead_time - 1)): 12\n"
     ]
    },
    {
     "ename": "KeyboardInterrupt",
     "evalue": "",
     "output_type": "error",
     "traceback": [
      "\u001b[0;31m---------------------------------------------------------------------------\u001b[0m",
      "\u001b[0;31mKeyboardInterrupt\u001b[0m                         Traceback (most recent call last)",
      "Cell \u001b[0;32mIn[2], line 1\u001b[0m\n\u001b[0;32m----> 1\u001b[0m hughes_castnet_main\u001b[39m.\u001b[39;49mrun(cook_county\u001b[39m=\u001b[39;49m\u001b[39mFalse\u001b[39;49;00m)\n",
      "File \u001b[0;32m~/Desktop/opioid-overdose-models/CASTNet/hughes-CASTNet/hughes_castnet_main.py:73\u001b[0m, in \u001b[0;36mrun\u001b[0;34m(cook_county)\u001b[0m\n\u001b[1;32m     70\u001b[0m conf\u001b[39m.\u001b[39mgroup_lasso \u001b[39m=\u001b[39m helper\u001b[39m.\u001b[39mstr2bool(args\u001b[39m.\u001b[39mgroup_lasso)\n\u001b[1;32m     71\u001b[0m conf\u001b[39m.\u001b[39mtest_time \u001b[39m=\u001b[39m helper\u001b[39m.\u001b[39mstr2bool(args\u001b[39m.\u001b[39mtest_time)\n\u001b[0;32m---> 73\u001b[0m train_svi_local, train_svi_global, train_static, train_sample_indices, train_dist, train_y, valid_svi_local, valid_svi_global, valid_static, valid_sample_indices, valid_dist, valid_y, test_svi_local, test_svi_global, test_static, test_sample_indices, test_dist, test_y \u001b[39m=\u001b[39m hughes_data\u001b[39m.\u001b[39;49mreadData(conf\u001b[39m.\u001b[39;49mdataset_name, conf\u001b[39m.\u001b[39;49mwindow_size, conf\u001b[39m.\u001b[39;49mlead_time, conf\u001b[39m.\u001b[39;49mtrain_ratio, conf\u001b[39m.\u001b[39;49mtest_ratio, conf\u001b[39m.\u001b[39;49mdist, conf\u001b[39m.\u001b[39;49mtime_unit)\n\u001b[1;32m     75\u001b[0m \u001b[39mif\u001b[39;00m(conf\u001b[39m.\u001b[39mtest_time \u001b[39m==\u001b[39m \u001b[39mTrue\u001b[39;00m):\n\u001b[1;32m     76\u001b[0m     train_svi_global \u001b[39m=\u001b[39m np\u001b[39m.\u001b[39mconcatenate([train_svi_global, valid_svi_global], axis\u001b[39m=\u001b[39m\u001b[39m0\u001b[39m)\n",
      "File \u001b[0;32m~/Desktop/opioid-overdose-models/CASTNet/hughes-CASTNet/hughes_data.py:185\u001b[0m, in \u001b[0;36mreadData\u001b[0;34m(dataset_name, window_size, lead_time, train_ratio, test_ratio, dist, time_unit)\u001b[0m\n\u001b[1;32m    183\u001b[0m \u001b[39mfor\u001b[39;00m l_neighbor \u001b[39min\u001b[39;00m \u001b[39mrange\u001b[39m(\u001b[39m0\u001b[39m, \u001b[39mlen\u001b[39m(locations)):\n\u001b[1;32m    184\u001b[0m     \u001b[39mfor\u001b[39;00m k \u001b[39min\u001b[39;00m \u001b[39mrange\u001b[39m(\u001b[39m0\u001b[39m, window_size):\n\u001b[0;32m--> 185\u001b[0m         train_svi_global[counter][l_neighbor][k] \u001b[39m=\u001b[39m np\u001b[39m.\u001b[39mconcatenate([svi_agg[l_neighbor][i\u001b[39m+\u001b[39mk],\n\u001b[1;32m    186\u001b[0m                                                                    np\u001b[39m.\u001b[39marray([(overdose_agg[l_neighbor][i\u001b[39m+\u001b[39mk] \u001b[39m-\u001b[39m od_mean) \u001b[39m/\u001b[39m od_std])])\n\u001b[1;32m    188\u001b[0m \u001b[39mfor\u001b[39;00m k \u001b[39min\u001b[39;00m \u001b[39mrange\u001b[39m(\u001b[39m0\u001b[39m, window_size):\n\u001b[1;32m    189\u001b[0m     train_svi_local[counter][k] \u001b[39m=\u001b[39m np\u001b[39m.\u001b[39mconcatenate([svi_agg[l][i\u001b[39m+\u001b[39mk],\n\u001b[1;32m    190\u001b[0m                                                          np\u001b[39m.\u001b[39marray([(overdose_agg[l][i\u001b[39m+\u001b[39mk] \u001b[39m-\u001b[39m od_mean) \u001b[39m/\u001b[39m od_std])])\n",
      "\u001b[0;31mKeyboardInterrupt\u001b[0m: "
     ]
    }
   ],
   "source": [
    "hughes_castnet_main.run(cook_county=False)\n"
   ]
  },
  {
   "cell_type": "code",
   "execution_count": null,
   "id": "103a8611",
   "metadata": {},
   "outputs": [],
   "source": [
    "user_dir = '/Users/jyontika/Desktop/'\n",
    "data_dir = 'opioid-overdose-models/CASTNet/hughes-CASTNet/Results/'\n",
    "results_path = os.path.join(user_dir, data_dir, 'MA_lead_time1.pkl')\n",
    "\n",
    "with open(results_path, 'rb') as file:\n",
    "    results = pickle.load(file, encoding='bytes')\n",
    "    \n",
    "    \n",
    "# 'results' stores a dictionary with prediction and loss\n",
    "\n",
    "# for array in results['preds']:\n",
    "#     print(array) #shows prediction arrays for every iteration\n",
    "\n",
    "# # get a specific prediction array \n",
    "# specific_array = results['preds'][0]\n",
    "# print(\"First array:\", specific_array)\n",
    "\n",
    "# # Accessing loss (loss val for every iteration)\n",
    "# loss = results['loss']\n",
    "#print(\"Other value:\", loss)"
   ]
  },
  {
   "cell_type": "markdown",
   "id": "48bff0f0",
   "metadata": {},
   "source": [
    "### Predictions"
   ]
  },
  {
   "cell_type": "code",
   "execution_count": null,
   "id": "3e45ae4c",
   "metadata": {},
   "outputs": [
    {
     "name": "stdout",
     "output_type": "stream",
     "text": [
      "5064\n"
     ]
    }
   ],
   "source": [
    "all_predictions = results['preds']\n",
    "print(len(all_predictions)) #number of iterations"
   ]
  },
  {
   "cell_type": "code",
   "execution_count": null,
   "id": "152a4298",
   "metadata": {},
   "outputs": [
    {
     "name": "stdout",
     "output_type": "stream",
     "text": [
      "[[0.31052    0.46949023 0.27717918 ... 0.08140838 0.04940462 0.02258205]\n",
      " [0.21731997 0.3869418  0.14489985 ... 0.1436683  0.18443602 0.21878564]\n",
      " [0.4899665  0.62830454 0.5306425  ... 0.42479473 0.48467672 0.53850025]\n",
      " ...\n",
      " [0.01364958 0.23322347 0.22150168 ... 0.         0.21361388 0.27610534]\n",
      " [0.         0.07749598 0.05948315 ... 0.         0.16195168 0.2240819 ]\n",
      " [0.         0.16915423 0.14902103 ... 0.         0.21696116 0.28117228]]\n"
     ]
    }
   ],
   "source": [
    "prediction_matrix = np.array(all_predictions)\n",
    "prediction_matrix = np.maximum(prediction_matrix, 0) #turn all negative values to 0\n",
    "prediction = prediction_matrix[-1, :]\n",
    "print(prediction_matrix)\n"
   ]
  },
  {
   "cell_type": "code",
   "execution_count": null,
   "id": "9f621e5c",
   "metadata": {},
   "outputs": [
    {
     "name": "stdout",
     "output_type": "stream",
     "text": [
      "4860\n"
     ]
    }
   ],
   "source": [
    "print(len(prediction))"
   ]
  },
  {
   "cell_type": "code",
   "execution_count": null,
   "id": "7035723b",
   "metadata": {},
   "outputs": [
    {
     "data": {
      "text/plain": [
       "(5064, 4860)"
      ]
     },
     "execution_count": 7,
     "metadata": {},
     "output_type": "execute_result"
    }
   ],
   "source": [
    "prediction_matrix.shape #(num iterations, 1328)"
   ]
  },
  {
   "cell_type": "code",
   "execution_count": null,
   "id": "6a959b96",
   "metadata": {},
   "outputs": [
    {
     "name": "stdout",
     "output_type": "stream",
     "text": [
      "Average predictions: [0.06132363 0.08903007 0.11595165 ... 0.0549622  0.12088196 0.16476087]\n",
      "Median predictions: [0. 0. 0. ... 0. 0. 0.]\n"
     ]
    }
   ],
   "source": [
    "#take average and medians of prediction matrix\n",
    "average_array = np.mean(prediction_matrix, axis=0)\n",
    "median_array = np.median(prediction_matrix, axis=0)\n",
    "\n",
    "print(\"Average predictions:\", average_array)\n",
    "print(\"Median predictions:\", median_array)"
   ]
  },
  {
   "cell_type": "code",
   "execution_count": null,
   "id": "b1ab9eec",
   "metadata": {},
   "outputs": [
    {
     "name": "stdout",
     "output_type": "stream",
     "text": [
      "Summary Stats for Average Array\n",
      "\n",
      "Mean: 1.1305938\n",
      "Median: 0.69521403\n",
      "Standard Deviation: 1.3981303\n",
      "Minimum: 0.034409206\n",
      "Maximum: 8.339928\n"
     ]
    }
   ],
   "source": [
    "##average array STATS\n",
    "\n",
    "avg_value = np.mean(average_array)\n",
    "median_value = np.median(average_array)\n",
    "std_deviation = np.std(average_array)\n",
    "min_value = np.min(average_array)\n",
    "max_value = np.max(average_array)\n",
    "\n",
    "print(\"Summary Stats for Average Array\\n\")\n",
    "print(\"Mean:\", avg_value)\n",
    "print(\"Median:\", median_value)\n",
    "print(\"Standard Deviation:\", std_deviation)\n",
    "print(\"Minimum:\", min_value)\n",
    "print(\"Maximum:\", max_value)"
   ]
  },
  {
   "cell_type": "code",
   "execution_count": null,
   "id": "642ffdd3",
   "metadata": {},
   "outputs": [
    {
     "name": "stdout",
     "output_type": "stream",
     "text": [
      "Summary Stats for Median Array\n",
      "\n",
      "Mean: 1.070542\n",
      "Median: 0.5736115\n",
      "Standard Deviation: 1.4625235\n",
      "Minimum: 0.0\n",
      "Maximum: 8.5721245\n"
     ]
    }
   ],
   "source": [
    "##Median array STATS\n",
    "avg_value = np.mean(median_array)\n",
    "median_value = np.median(median_array)\n",
    "std_deviation = np.std(median_array)\n",
    "min_value = np.min(median_array)\n",
    "max_value = np.max(median_array)\n",
    "\n",
    "print(\"Summary Stats for Median Array\\n\")\n",
    "print(\"Mean:\", avg_value)\n",
    "print(\"Median:\", median_value)\n",
    "print(\"Standard Deviation:\", std_deviation)\n",
    "print(\"Minimum:\", min_value)\n",
    "print(\"Maximum:\", max_value)"
   ]
  },
  {
   "cell_type": "markdown",
   "id": "ffb7735f",
   "metadata": {},
   "source": [
    "### Loss"
   ]
  },
  {
   "cell_type": "code",
   "execution_count": null,
   "id": "d725d915",
   "metadata": {},
   "outputs": [
    {
     "data": {
      "text/plain": [
       "5064"
      ]
     },
     "execution_count": 11,
     "metadata": {},
     "output_type": "execute_result"
    }
   ],
   "source": [
    "loss = results['loss']\n",
    "len(loss) "
   ]
  },
  {
   "cell_type": "code",
   "execution_count": null,
   "id": "d84c8b72",
   "metadata": {},
   "outputs": [
    {
     "name": "stdout",
     "output_type": "stream",
     "text": [
      "Mean 2.024696358639341\n",
      "Median 2.029905638694763\n",
      "Min 0.0804265022277832\n",
      "Max 2.861619625091553\n"
     ]
    }
   ],
   "source": [
    "print(\"Mean\", np.mean(loss))\n",
    "print(\"Median\", np.median(loss))\n",
    "print(\"Min\", np.min(loss))\n",
    "print(\"Max\", np.max(loss))"
   ]
  },
  {
   "cell_type": "code",
   "execution_count": null,
   "id": "edacb7fd",
   "metadata": {},
   "outputs": [
    {
     "data": {
      "image/png": "[encoded data removed]",
      "text/plain": [
       "<Figure size 640x480 with 1 Axes>"
      ]
     },
     "metadata": {},
     "output_type": "display_data"
    }
   ],
   "source": [
    "#plot loss to see if it converges\n",
    "import matplotlib.pyplot as plt\n",
    "loss_values = hughes_castnet_main.castnet.results['loss']\n",
    "\n",
    "iterations = range(1, len(loss_values) + 1)\n",
    "\n",
    "plt.plot(iterations, loss_values)\n",
    "plt.xlabel('Iterations')\n",
    "plt.ylabel('Loss')\n",
    "plt.title('Loss over Iterations')\n",
    "plt.show()\n",
    "\n",
    "\n"
   ]
  }
 ],
 "metadata": {
  "kernelspec": {
   "display_name": "Python 3 (ipykernel)",
   "language": "python",
   "name": "python3"
  },
  "language_info": {
   "codemirror_mode": {
    "name": "ipython",
    "version": 3
   },
   "file_extension": ".py",
   "mimetype": "text/x-python",
   "name": "python",
   "nbconvert_exporter": "python",
   "pygments_lexer": "ipython3",
   "version": "3.9.6"
  }
 },
 "nbformat": 4,
 "nbformat_minor": 5
}
